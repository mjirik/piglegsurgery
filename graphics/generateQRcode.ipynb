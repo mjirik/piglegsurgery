{
  "nbformat": 4,
  "nbformat_minor": 0,
  "metadata": {
    "colab": {
      "name": "generateQRcode",
      "provenance": []
    },
    "kernelspec": {
      "name": "python3",
      "display_name": "Python 3"
    },
    "language_info": {
      "name": "python"
    }
  },
  "cells": [
    {
      "cell_type": "code",
      "execution_count": 2,
      "metadata": {
        "colab": {
          "base_uri": "https://localhost:8080/"
        },
        "id": "iDNfswRlyYJn",
        "outputId": "8bc2a1a3-ad81-4993-bf7b-beede9aac222"
      },
      "outputs": [
        {
          "output_type": "stream",
          "name": "stdout",
          "text": [
            "Collecting qrcode\n",
            "  Downloading qrcode-7.3.1.tar.gz (43 kB)\n",
            "\u001b[?25l\r\u001b[K     |███████▌                        | 10 kB 24.7 MB/s eta 0:00:01\r\u001b[K     |███████████████                 | 20 kB 16.0 MB/s eta 0:00:01\r\u001b[K     |██████████████████████▋         | 30 kB 11.1 MB/s eta 0:00:01\r\u001b[K     |██████████████████████████████▏ | 40 kB 9.7 MB/s eta 0:00:01\r\u001b[K     |████████████████████████████████| 43 kB 983 kB/s \n",
            "\u001b[?25hBuilding wheels for collected packages: qrcode\n",
            "  Building wheel for qrcode (setup.py) ... \u001b[?25l\u001b[?25hdone\n",
            "  Created wheel for qrcode: filename=qrcode-7.3.1-py3-none-any.whl size=40402 sha256=28277002a0106849135b23d7098a3d7ebe4e82379e20ea553bad137feb70acfd\n",
            "  Stored in directory: /root/.cache/pip/wheels/93/d7/39/a4111be2cfb8e679938aa671a37888b6afb1f9e7d748e94492\n",
            "Successfully built qrcode\n",
            "Installing collected packages: qrcode\n",
            "Successfully installed qrcode-7.3.1\n"
          ]
        }
      ],
      "source": [
        "!pip install qrcode"
      ]
    },
    {
      "cell_type": "code",
      "source": [
        "import qrcode\n",
        "import numpy as np\n",
        "import matplotlib.pyplot as plt\n",
        "import skimage.io\n",
        "\n",
        "qr = qrcode.QRCode(\n",
        "    version=1,\n",
        "    error_correction=qrcode.constants.ERROR_CORRECT_L,\n",
        "    box_size=50,\n",
        "    border=0,\n",
        ")\n",
        "# qr.add_data('http://147.228.47.69:8000/uploader/upload/')\n",
        "\n",
        "text = 'Resolution 30 mm'\n",
        "qr.add_data(text)\n",
        "qr.make(fit=True)\n",
        "\n",
        "img = qr.make_image(fill_color=\"black\", back_color=\"white\")\n",
        "img = np.asarray(img).astype(np.uint8) * 255\n",
        "\n",
        "plt.imshow(img, cmap=\"gray\")\n",
        "\n",
        "\n",
        "\n",
        "# původní QR kód od zdeňka je velký 27 mm + 1 cm okraj\n",
        "size_mm = 30\n",
        "\n",
        "\n",
        "size_px = np.asarray(img.shape) \n",
        "\n",
        "PPI = size_px * 25.4 /  size_mm\n",
        "print(PPI)\n",
        "PPI_float = list(PPI.astype(float))\n",
        "PPI_int = list(PPI.astype(int))\n",
        "print(PPI_int)\n",
        "if PPI_float[0] != PPI_int[0]:\n",
        "  print(\"Musíme najít takové parametry, aby to vycházelo na celé pixely\")\n",
        "name = text.replace(\" \", \"_\")\n",
        "skimage.io.imsave(f\"{name}.png\", skimage.color.gray2rgb(img), dpi=PPI_float)\n",
        "\n",
        "PPI\n",
        "# np.zeros()\n"
      ],
      "metadata": {
        "colab": {
          "base_uri": "https://localhost:8080/",
          "height": 321
        },
        "id": "1Rihph_jyaXa",
        "outputId": "ce9f4542-b79d-4ce1-851b-0974f5b5c17d"
      },
      "execution_count": 88,
      "outputs": [
        {
          "output_type": "stream",
          "name": "stdout",
          "text": [
            "[889. 889.]\n",
            "[889, 889]\n"
          ]
        },
        {
          "output_type": "execute_result",
          "data": {
            "text/plain": [
              "array([889., 889.])"
            ]
          },
          "metadata": {},
          "execution_count": 88
        },
        {
          "output_type": "display_data",
          "data": {
            "text/plain": [
              "<Figure size 432x288 with 1 Axes>"
            ],
            "image/png": "[encoded data removed]"
          },
          "metadata": {
            "needs_background": "light"
          }
        }
      ]
    },
    {
      "cell_type": "code",
      "source": [
        "qrcode.constants.ERROR_CORRECT_L"
      ],
      "metadata": {
        "colab": {
          "base_uri": "https://localhost:8080/"
        },
        "id": "GnQi6fvw2QM9",
        "outputId": "816e15fd-9761-41f2-b20d-6fa1d64de398"
      },
      "execution_count": 9,
      "outputs": [
        {
          "output_type": "execute_result",
          "data": {
            "text/plain": [
              "<module 'qrcode.constants' from '/usr/local/lib/python3.7/dist-packages/qrcode/constants.py'>"
            ]
          },
          "metadata": {},
          "execution_count": 9
        }
      ]
    },
    {
      "cell_type": "code",
      "source": [
        "np.asarray(img)"
      ],
      "metadata": {
        "colab": {
          "base_uri": "https://localhost:8080/"
        },
        "id": "iPXNQOnk04h4",
        "outputId": "416aca53-3662-4e52-a583-de690b717eff"
      },
      "execution_count": 6,
      "outputs": [
        {
          "output_type": "execute_result",
          "data": {
            "text/plain": [
              "array([[ True,  True,  True, ...,  True,  True,  True],\n",
              "       [ True,  True,  True, ...,  True,  True,  True],\n",
              "       [ True,  True,  True, ...,  True,  True,  True],\n",
              "       ...,\n",
              "       [ True,  True,  True, ...,  True,  True,  True],\n",
              "       [ True,  True,  True, ...,  True,  True,  True],\n",
              "       [ True,  True,  True, ...,  True,  True,  True]])"
            ]
          },
          "metadata": {},
          "execution_count": 6
        }
      ]
    },
    {
      "cell_type": "code",
      "source": [
        "!pwd"
      ],
      "metadata": {
        "colab": {
          "base_uri": "https://localhost:8080/"
        },
        "id": "DEdGUjF6ypwa",
        "outputId": "db792758-31f5-4918-8356-7c114ae9368a"
      },
      "execution_count": 53,
      "outputs": [
        {
          "output_type": "stream",
          "name": "stdout",
          "text": [
            "/content\n"
          ]
        }
      ]
    },
    {
      "cell_type": "code",
      "source": [
        ""
      ],
      "metadata": {
        "id": "MtQRP28iFvRP"
      },
      "execution_count": null,
      "outputs": []
    }
  ]
}