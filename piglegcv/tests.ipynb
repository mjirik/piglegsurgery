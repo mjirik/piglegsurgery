{
 "cells": [
  {
   "cell_type": "code",
   "execution_count": 2,
   "id": "9e83f290",
   "metadata": {},
   "outputs": [
    {
     "name": "stdout",
     "output_type": "stream",
     "text": [
      "NOTE! Installing ujson may make loading annotations faster.\n"
     ]
    },
    {
     "name": "stderr",
     "output_type": "stream",
     "text": [
      "2023-10-05 13:37:42,625 - /webapps/piglegsurgery/piglegcv/incision_detection_mmdet.py - DEBUG - mmdet.version=2.25.0\n",
      "2023-10-05 13:37:42,626 - /webapps/piglegsurgery/piglegcv/incision_detection_mmdet.py - DEBUG - 11.7\n",
      "2023-10-05 13:37:42,626 - /webapps/piglegsurgery/piglegcv/incision_detection_mmdet.py - DEBUG - GCC 9.4\n"
     ]
    },
    {
     "name": "stdout",
     "output_type": "stream",
     "text": [
      "1.12.0a0+8a1a93a True\n"
     ]
    },
    {
     "data": {
      "text/plain": [
       "True"
      ]
     },
     "execution_count": 2,
     "metadata": {},
     "output_type": "execute_result"
    }
   ],
   "source": [
    "%load_ext autoreload\n",
    "%autoreload 2\n",
    "from pathlib import Path\n",
    "from skimage.io import imread\n",
    "import matplotlib.pyplot as plt\n",
    "import pigleg_cv\n",
    "import torch\n",
    "torch.cuda.is_available()"
   ]
  },
  {
   "cell_type": "code",
   "execution_count": null,
   "id": "df6d6e79",
   "metadata": {},
   "outputs": [],
   "source": [
    "!pwd"
   ]
  },
  {
   "cell_type": "code",
   "execution_count": 3,
   "id": "291f7590",
   "metadata": {},
   "outputs": [
    {
     "name": "stdout",
     "output_type": "stream",
     "text": [
      "Thu Oct  5 13:38:04 2023       \n",
      "+-----------------------------------------------------------------------------+\n",
      "| NVIDIA-SMI 470.103.01   Driver Version: 470.103.01   CUDA Version: 11.4     |\n",
      "|-------------------------------+----------------------+----------------------+\n",
      "| GPU  Name        Persistence-M| Bus-Id        Disp.A | Volatile Uncorr. ECC |\n",
      "| Fan  Temp  Perf  Pwr:Usage/Cap|         Memory-Usage | GPU-Util  Compute M. |\n",
      "|                               |                      |               MIG M. |\n",
      "|===============================+======================+======================|\n",
      "|   0  NVIDIA GeForce ...  On   | 00000000:42:00.0 Off |                  N/A |\n",
      "|  0%   41C    P8     9W / 250W |    259MiB / 11175MiB |      0%      Default |\n",
      "|                               |                      |                  N/A |\n",
      "+-------------------------------+----------------------+----------------------+\n",
      "                                                                               \n",
      "+-----------------------------------------------------------------------------+\n",
      "| Processes:                                                                  |\n",
      "|  GPU   GI   CI        PID   Type   Process name                  GPU Memory |\n",
      "|        ID   ID                                                   Usage      |\n",
      "|=============================================================================|\n",
      "+-----------------------------------------------------------------------------+\n"
     ]
    }
   ],
   "source": [
    "!nvidia-smi"
   ]
  },
  {
   "cell_type": "markdown",
   "id": "eb508995",
   "metadata": {},
   "source": [
    "# Run test"
   ]
  },
  {
   "cell_type": "code",
   "execution_count": null,
   "id": "94c0b22d",
   "metadata": {},
   "outputs": [],
   "source": [
    "img_pths = list(Path(\"../piglegsurgeryweb/media/upload/\").glob(\"*/Anasto*.mp4\"))\n",
    "img_pths[0]"
   ]
  },
  {
   "cell_type": "code",
   "execution_count": 7,
   "id": "006d9291",
   "metadata": {},
   "outputs": [
    {
     "name": "stdout",
     "output_type": "stream",
     "text": [
      "/webapps/piglegsurgery/piglegcv\n"
     ]
    }
   ],
   "source": [
    "!pwd"
   ]
  },
  {
   "cell_type": "code",
   "execution_count": 15,
   "id": "7e2fd900",
   "metadata": {},
   "outputs": [
    {
     "name": "stdout",
     "output_type": "stream",
     "text": [
      "\u001b[1m============================= test session starts ==============================\u001b[0m\n",
      "platform linux -- Python 3.8.13, pytest-7.4.0, pluggy-1.0.0\n",
      "rootdir: /webapps/piglegsurgery\n",
      "configfile: setup.cfg\n",
      "plugins: xdoctest-1.1.1, pythonpath-0.7.4, cov-3.0.0, hypothesis-4.50.8\n",
      "collected 2 items                                                              \u001b[0m\u001b[1m\n",
      "\n",
      "piglegcv_test.py \u001b[32m.\u001b[0m\u001b[31mF\u001b[0m\u001b[31m                                                      [100%]\u001b[0m\n",
      "\n",
      "=================================== FAILURES ===================================\n",
      "\u001b[31m\u001b[1m_____________________________ test_whole_piglegcv ______________________________\u001b[0m\n",
      "\n",
      "    \u001b[94mdef\u001b[39;49;00m \u001b[92mtest_whole_piglegcv\u001b[39;49;00m():\n",
      "    \n",
      "        img_pths = \u001b[96mlist\u001b[39;49;00m(Path(\u001b[33m\"\u001b[39;49;00m\u001b[33m../piglegsurgeryweb/media/upload/\u001b[39;49;00m\u001b[33m\"\u001b[39;49;00m).glob(\u001b[33m\"\u001b[39;49;00m\u001b[33m*/Anasto*.mp4\u001b[39;49;00m\u001b[33m\"\u001b[39;49;00m))\n",
      "    \n",
      "        outputdir = \u001b[33m\"\u001b[39;49;00m\u001b[33m./del_pytest_video_output/\u001b[39;49;00m\u001b[33m\"\u001b[39;49;00m\n",
      "        outputdirp = Path(outputdir)\n",
      "        \u001b[94mif\u001b[39;49;00m outputdirp.exists():\n",
      "            shutil.rmtree(outputdirp)\n",
      "    \n",
      "        \u001b[94massert\u001b[39;49;00m \u001b[95mnot\u001b[39;49;00m outputdirp.exists()\n",
      "    \n",
      "    \n",
      "        pigleg_cv.do_computer_vision(img_pths[\u001b[94m0\u001b[39;49;00m], outputdir , meta=\u001b[94mNone\u001b[39;49;00m)\n",
      "    \n",
      "        \u001b[94massert\u001b[39;49;00m outputdirp.exists()\n",
      "    \n",
      "        \u001b[94mwith\u001b[39;49;00m \u001b[96mopen\u001b[39;49;00m(outputdirp / \u001b[33m'\u001b[39;49;00m\u001b[33mpiglegcv_log.txt\u001b[39;49;00m\u001b[33m'\u001b[39;49;00m) \u001b[94mas\u001b[39;49;00m f:\n",
      "            \u001b[94mif\u001b[39;49;00m \u001b[33m'\u001b[39;49;00m\u001b[33mERROR\u001b[39;49;00m\u001b[33m'\u001b[39;49;00m \u001b[95min\u001b[39;49;00m f.read():\n",
      ">               \u001b[94massert\u001b[39;49;00m \u001b[94mFalse\u001b[39;49;00m, \u001b[33m\"\u001b[39;49;00m\u001b[33mError in piglegcv_log.txt\u001b[39;49;00m\u001b[33m\"\u001b[39;49;00m\n",
      "\u001b[1m\u001b[31mE               AssertionError: Error in piglegcv_log.txt\u001b[0m\n",
      "\u001b[1m\u001b[31mE               assert False\u001b[0m\n",
      "\n",
      "\u001b[1m\u001b[31mpiglegcv_test.py\u001b[0m:30: AssertionError\n",
      "----------------------------- Captured stdout call -----------------------------\n",
      "Fusing layers... \n",
      "IDetect.fuse\n",
      "----------------------------- Captured stderr call -----------------------------\n",
      "2023-10-05 13:59:08.562 | DEBUG    | pigleg_cv:do_computer_vision:41 - CV processing started on ../piglegsurgeryweb/media/upload/20230612-170816_Anastomosis 1_3f91c756df409fdb5fc20df68d83c58f648ec770/Anastomosis_1.mp4, outputdir=./del_pytest_video_output/\n",
      "2023-10-05 13:59:08.563 | DEBUG    | pigleg_cv:run_video_processing2:98 - Running video processing...\n",
      "2023-10-05 13:59:08.563 | DEBUG    | run_qr:main_qr:129 - looking for qr code...\n",
      "2023-10-05 13:59:09.906 | DEBUG    | run_qr:main_qr:160 - frame=0\n",
      "2023-10-05 13:59:10.774 | ERROR    | pigleg_cv:do_computer_vision:52 - Traceback (most recent call last):\n",
      "  File \"/webapps/piglegsurgery/piglegcv/pigleg_cv.py\", line 48, in do_computer_vision\n",
      "    run_video_processing2(filename, outputdir)\n",
      "  File \"/webapps/piglegsurgery/piglegcv/pigleg_cv.py\", line 102, in run_video_processing2\n",
      "    main_qr(filename, outputdir)\n",
      "  File \"/webapps/piglegsurgery/piglegcv/run_qr.py\", line 162, in main_qr\n",
      "    qr_data = bbox_info_extraction_from_frame(img, qreader)\n",
      "  File \"/webapps/piglegsurgery/piglegcv/run_qr.py\", line 50, in bbox_info_extraction_from_frame\n",
      "    bboxes_qr, bbox_scene_area, bboxes_incision_area, qr_side_length = get_bboxes(img)\n",
      "  File \"/webapps/piglegsurgery/piglegcv/run_qr.py\", line 25, in get_bboxes\n",
      "    bbox_scene_area = bboxes[1][0]\n",
      "IndexError: index 0 is out of bounds for axis 0 with size 0\n",
      "\n",
      "\u001b[33m=============================== warnings summary ===============================\u001b[0m\n",
      "../../../root/.local/lib/python3.8/site-packages/skimage/data/__init__.py:107: 29 warnings\n",
      "  /root/.local/lib/python3.8/site-packages/skimage/data/__init__.py:107: DeprecationWarning: \n",
      "      Importing file_hash from pooch.utils is DEPRECATED. Please import from the\n",
      "      top-level namespace (`from pooch import file_hash`) instead, which is fully\n",
      "      backwards compatible with pooch >= 0.1.\n",
      "      \n",
      "    return file_hash(path) == expected_hash\n",
      "\n",
      "../../../root/.local/lib/python3.8/site-packages/skimage/morphology/_skeletonize.py:241\n",
      "  /root/.local/lib/python3.8/site-packages/skimage/morphology/_skeletonize.py:241: DeprecationWarning: `np.bool` is a deprecated alias for the builtin `bool`. To silence this warning, use `bool` by itself. Doing this will not modify any behavior and is safe. If you specifically wanted the numpy scalar type, use `np.bool_` here.\n",
      "  Deprecated in NumPy 1.20; for more details and guidance: https://numpy.org/devdocs/release/1.20.0-notes.html#deprecations\n",
      "    0, 1, 1, 0, 0, 1, 0, 0, 0], dtype=np.bool)\n",
      "\n",
      "../../../root/.local/lib/python3.8/site-packages/skimage/morphology/_skeletonize.py:256\n",
      "  /root/.local/lib/python3.8/site-packages/skimage/morphology/_skeletonize.py:256: DeprecationWarning: `np.bool` is a deprecated alias for the builtin `bool`. To silence this warning, use `bool` by itself. Doing this will not modify any behavior and is safe. If you specifically wanted the numpy scalar type, use `np.bool_` here.\n",
      "  Deprecated in NumPy 1.20; for more details and guidance: https://numpy.org/devdocs/release/1.20.0-notes.html#deprecations\n",
      "    0, 0, 0, 0, 0, 0, 0, 0, 0], dtype=np.bool)\n",
      "\n",
      "piglegcv/piglegcv_test.py::test_whole_piglegcv\n",
      "  /home/appuser/mmdetection/mmdet/datasets/utils.py:66: UserWarning: \"ImageToTensor\" pipeline is replaced by \"DefaultFormatBundle\" for batch inference. It is recommended to manually replace it in the test data pipeline in your config file.\n",
      "    warnings.warn(\n",
      "\n",
      "-- Docs: https://docs.pytest.org/en/stable/how-to/capture-warnings.html\n",
      "\u001b[36m\u001b[1m=========================== short test summary info ============================\u001b[0m\n",
      "\u001b[31mFAILED\u001b[0m piglegcv_test.py::\u001b[1mtest_whole_piglegcv\u001b[0m - AssertionError: Error in piglegcv_log.txt\n",
      "\u001b[31m=================== \u001b[31m\u001b[1m1 failed\u001b[0m, \u001b[32m1 passed\u001b[0m, \u001b[33m32 warnings\u001b[0m\u001b[31m in 6.61s\u001b[0m\u001b[31m ===================\u001b[0m\n"
     ]
    }
   ],
   "source": [
    "!pytest"
   ]
  },
  {
   "cell_type": "code",
   "execution_count": null,
   "id": "363d49c7",
   "metadata": {},
   "outputs": [],
   "source": []
  }
 ],
 "metadata": {
  "kernelspec": {
   "display_name": "Python 3 (ipykernel)",
   "language": "python",
   "name": "python3"
  },
  "language_info": {
   "codemirror_mode": {
    "name": "ipython",
    "version": 3
   },
   "file_extension": ".py",
   "mimetype": "text/x-python",
   "name": "python",
   "nbconvert_exporter": "python",
   "pygments_lexer": "ipython3",
   "version": "3.8.13"
  }
 },
 "nbformat": 4,
 "nbformat_minor": 5
}
