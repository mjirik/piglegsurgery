{
 "cells": [
  {
   "cell_type": "code",
   "execution_count": 37,
   "id": "8684b939",
   "metadata": {},
   "outputs": [
    {
     "name": "stdout",
     "output_type": "stream",
     "text": [
      "The autoreload extension is already loaded. To reload it, use:\n",
      "  %reload_ext autoreload\n"
     ]
    },
    {
     "data": {
      "text/plain": [
       "True"
      ]
     },
     "execution_count": 37,
     "metadata": {},
     "output_type": "execute_result"
    }
   ],
   "source": [
    "%load_ext autoreload\n",
    "%autoreload 2\n",
    "from pathlib import Path\n",
    "from skimage.io import imread\n",
    "import matplotlib.pyplot as plt\n",
    "import pigleg_cv\n",
    "import torch\n",
    "\n",
    "torch.cuda.is_available()"
   ]
  },
  {
   "cell_type": "code",
   "execution_count": 99,
   "id": "be77b13c",
   "metadata": {},
   "outputs": [
    {
     "name": "stdout",
     "output_type": "stream",
     "text": [
      "/webapps/piglegsurgery/piglegcv\n"
     ]
    }
   ],
   "source": [
    "!pwd"
   ]
  },
  {
   "cell_type": "code",
   "execution_count": 100,
   "id": "ba4c81d8",
   "metadata": {},
   "outputs": [
    {
     "name": "stdout",
     "output_type": "stream",
     "text": [
      "Thu Oct 12 10:38:06 2023       \n",
      "+-----------------------------------------------------------------------------+\n",
      "| NVIDIA-SMI 470.103.01   Driver Version: 470.103.01   CUDA Version: 11.4     |\n",
      "|-------------------------------+----------------------+----------------------+\n",
      "| GPU  Name        Persistence-M| Bus-Id        Disp.A | Volatile Uncorr. ECC |\n",
      "| Fan  Temp  Perf  Pwr:Usage/Cap|         Memory-Usage | GPU-Util  Compute M. |\n",
      "|                               |                      |               MIG M. |\n",
      "|===============================+======================+======================|\n",
      "|   0  NVIDIA GeForce ...  On   | 00000000:42:00.0 Off |                  N/A |\n",
      "|  0%   48C    P8    10W / 250W |   1941MiB / 11175MiB |      0%      Default |\n",
      "|                               |                      |                  N/A |\n",
      "+-------------------------------+----------------------+----------------------+\n",
      "                                                                               \n",
      "+-----------------------------------------------------------------------------+\n",
      "| Processes:                                                                  |\n",
      "|  GPU   GI   CI        PID   Type   Process name                  GPU Memory |\n",
      "|        ID   ID                                                   Usage      |\n",
      "|=============================================================================|\n",
      "+-----------------------------------------------------------------------------+\n"
     ]
    }
   ],
   "source": [
    "!nvidia-smi"
   ]
  },
  {
   "cell_type": "markdown",
   "id": "0f31e807",
   "metadata": {},
   "source": [
    "# Run test"
   ]
  },
  {
   "cell_type": "code",
   "execution_count": 101,
   "id": "97a633fe",
   "metadata": {},
   "outputs": [
    {
     "data": {
      "text/plain": [
       "PosixPath('../piglegsurgeryweb/media/upload/20221009-162416_test_video_end_f84edcc4ca3c01ea693603cd120ac74bc69b93d8/test_video_end.mp4')"
      ]
     },
     "execution_count": 101,
     "metadata": {},
     "output_type": "execute_result"
    }
   ],
   "source": [
    "# img_pths = list(Path(\"../piglegsurgeryweb/media/upload/\").glob(\"*/Anasto*.mp4\"))\n",
    "img_pths = list(Path(\"../piglegsurgeryweb/media/upload/\").glob(\"*/test_video_end.mp4\"))\n",
    "img_pths[0]"
   ]
  },
  {
   "cell_type": "code",
   "execution_count": 41,
   "id": "cc617d7d",
   "metadata": {},
   "outputs": [
    {
     "name": "stdout",
     "output_type": "stream",
     "text": [
      "/webapps/piglegsurgery/piglegcv\n"
     ]
    }
   ],
   "source": [
    "!pwd"
   ]
  },
  {
   "cell_type": "code",
   "execution_count": 106,
   "id": "d615e10d",
   "metadata": {},
   "outputs": [
    {
     "name": "stdout",
     "output_type": "stream",
     "text": [
      "\u001b[1m============================= test session starts ==============================\u001b[0m\n",
      "platform linux -- Python 3.8.13, pytest-7.4.0, pluggy-1.0.0\n",
      "rootdir: /webapps/piglegsurgery\n",
      "configfile: setup.cfg\n",
      "plugins: xdoctest-1.1.1, pythonpath-0.7.4, cov-3.0.0, hypothesis-4.50.8\n",
      "collected 5 items                                                              \u001b[0m\u001b[1m\n",
      "\n",
      "piglegcv_test.py \u001b[32m.\u001b[0m\u001b[32m.\u001b[0m\u001b[32m.\u001b[0m\u001b[32m.\u001b[0m\u001b[32m.\u001b[0m\u001b[33m                                                   [100%]\u001b[0m\n",
      "\n",
      "\u001b[33m=============================== warnings summary ===============================\u001b[0m\n",
      "../../../root/.local/lib/python3.8/site-packages/skimage/data/__init__.py:107: 29 warnings\n",
      "  /root/.local/lib/python3.8/site-packages/skimage/data/__init__.py:107: DeprecationWarning: \n",
      "      Importing file_hash from pooch.utils is DEPRECATED. Please import from the\n",
      "      top-level namespace (`from pooch import file_hash`) instead, which is fully\n",
      "      backwards compatible with pooch >= 0.1.\n",
      "      \n",
      "    return file_hash(path) == expected_hash\n",
      "\n",
      "../../../root/.local/lib/python3.8/site-packages/skimage/morphology/_skeletonize.py:241\n",
      "  /root/.local/lib/python3.8/site-packages/skimage/morphology/_skeletonize.py:241: DeprecationWarning: `np.bool` is a deprecated alias for the builtin `bool`. To silence this warning, use `bool` by itself. Doing this will not modify any behavior and is safe. If you specifically wanted the numpy scalar type, use `np.bool_` here.\n",
      "  Deprecated in NumPy 1.20; for more details and guidance: https://numpy.org/devdocs/release/1.20.0-notes.html#deprecations\n",
      "    0, 1, 1, 0, 0, 1, 0, 0, 0], dtype=np.bool)\n",
      "\n",
      "../../../root/.local/lib/python3.8/site-packages/skimage/morphology/_skeletonize.py:256\n",
      "  /root/.local/lib/python3.8/site-packages/skimage/morphology/_skeletonize.py:256: DeprecationWarning: `np.bool` is a deprecated alias for the builtin `bool`. To silence this warning, use `bool` by itself. Doing this will not modify any behavior and is safe. If you specifically wanted the numpy scalar type, use `np.bool_` here.\n",
      "  Deprecated in NumPy 1.20; for more details and guidance: https://numpy.org/devdocs/release/1.20.0-notes.html#deprecations\n",
      "    0, 0, 0, 0, 0, 0, 0, 0, 0], dtype=np.bool)\n",
      "\n",
      "piglegcv/piglegcv_test.py::test_do_the_test[*/pigleg_test2_2.mp4-expected0]\n",
      "piglegcv/piglegcv_test.py::test_do_the_test[*/pigleg_test2_2.mp4-expected0]\n",
      "piglegcv/piglegcv_test.py::test_do_the_test[*/test_video_end.mp4-expected1]\n",
      "piglegcv/piglegcv_test.py::test_do_the_test[*/test_video_end.mp4-expected1]\n",
      "piglegcv/piglegcv_test.py::test_do_the_test[*/test_Einzelknopfnaht.mov-expected2]\n",
      "piglegcv/piglegcv_test.py::test_do_the_test[*/test_Einzelknopfnaht.mov-expected2]\n",
      "piglegcv/piglegcv_test.py::test_do_the_test[*/test_2023.02.22-B-Bal\\xdfuweit-Kevin-Fortlaufend-transcutan_1.webm-expected3]\n",
      "piglegcv/piglegcv_test.py::test_do_the_test[*/test_2023.02.22-B-Bal\\xdfuweit-Kevin-Fortlaufend-transcutan_1.webm-expected3]\n",
      "piglegcv/piglegcv_test.py::test_do_the_test[*/test_2023.02.22-B-Bal\\xdfuweit-Kevin-Fortlaufend-transcutan_1.webm-expected3]\n",
      "  /home/appuser/mmdetection/mmdet/datasets/utils.py:66: UserWarning: \"ImageToTensor\" pipeline is replaced by \"DefaultFormatBundle\" for batch inference. It is recommended to manually replace it in the test data pipeline in your config file.\n",
      "    warnings.warn(\n",
      "\n",
      "piglegcv/piglegcv_test.py::test_do_the_test[*/pigleg_test2_2.mp4-expected0]\n",
      "  /opt/conda/lib/python3.8/site-packages/torch/functional.py:598: UserWarning: torch.meshgrid: in an upcoming release, it will be required to pass the indexing argument. (Triggered internally at  /opt/pytorch/pytorch/aten/src/ATen/native/TensorShape.cpp:2323.)\n",
      "    return _VF.meshgrid(tensors, **kwargs)  # type: ignore[attr-defined]\n",
      "\n",
      "piglegcv/piglegcv_test.py::test_do_the_test[*/pigleg_test2_2.mp4-expected0]\n",
      "piglegcv/piglegcv_test.py::test_do_the_test[*/test_video_end.mp4-expected1]\n",
      "piglegcv/piglegcv_test.py::test_do_the_test[*/test_Einzelknopfnaht.mov-expected2]\n",
      "  /webapps/piglegsurgery/piglegcv/run_report.py:724: VisibleDeprecationWarning: Creating an ndarray from ragged nested sequences (which is a list-or-tuple of lists-or-tuples-or ndarrays with different lengths or shapes) is deprecated. If you meant to do this, you must specify 'dtype=object' when creating the ndarray.\n",
      "    frame_ids_list = np.asarray(frame_ids).tolist()\n",
      "\n",
      "piglegcv/piglegcv_test.py: 482 warnings\n",
      "  /opt/conda/lib/python3.8/_collections_abc.py:990: MatplotlibDeprecationWarning: \n",
      "  The modification of the Axes.lines property was deprecated in Matplotlib 3.5 and will be removed two minor releases later. Use Artist.remove() instead.\n",
      "    del self[index]\n",
      "\n",
      "piglegcv/piglegcv_test.py: 482 warnings\n",
      "  /webapps/piglegsurgery/piglegcv/run_report.py:604: DeprecationWarning: `np.int` is a deprecated alias for the builtin `int`. To silence this warning, use `int` by itself. Doing this will not modify any behavior and is safe. When replacing `np.int`, you may wish to use e.g. `np.int64` or `np.int32` to specify the precision. If you wish to review your current use, check the release note link for additional information.\n",
      "  Deprecated in NumPy 1.20; for more details and guidance: https://numpy.org/devdocs/release/1.20.0-notes.html#deprecations\n",
      "    text_point = start_point.astype(np.int) - np.array([0,int(0.020 * img.shape[0])/resize_factor]).astype(int)\n",
      "\n",
      "piglegcv/piglegcv_test.py: 21 warnings\n",
      "  /root/.local/lib/python3.8/site-packages/skimage/util/dtype.py:226: DeprecationWarning: Converting `np.inexact` or `np.floating` to a dtype is deprecated. The current result is `float64` which is not strictly correct.\n",
      "    dtypeobj_out = np.dtype(dtype)\n",
      "\n",
      "piglegcv/piglegcv_test.py::test_do_the_test[*/pigleg_test2_2.mp4-expected0]\n",
      "piglegcv/piglegcv_test.py::test_do_the_test[*/pigleg_test2_2.mp4-expected0]\n",
      "piglegcv/piglegcv_test.py::test_do_the_test[*/pigleg_test2_2.mp4-expected0]\n",
      "piglegcv/piglegcv_test.py::test_do_the_test[*/test_video_end.mp4-expected1]\n",
      "piglegcv/piglegcv_test.py::test_do_the_test[*/test_video_end.mp4-expected1]\n",
      "piglegcv/piglegcv_test.py::test_do_the_test[*/test_Einzelknopfnaht.mov-expected2]\n",
      "piglegcv/piglegcv_test.py::test_do_the_test[*/test_Einzelknopfnaht.mov-expected2]\n",
      "  /opt/conda/lib/python3.8/site-packages/seaborn/distributions.py:1185: UserWarning: The following kwargs were not used by contour: 'linewidth'\n",
      "    cset = contour_func(\n",
      "\n",
      "piglegcv/piglegcv_test.py: 10 warnings\n",
      "  /root/.local/lib/python3.8/site-packages/skimage/morphology/binary.py:76: DeprecationWarning: `np.bool` is a deprecated alias for the builtin `bool`. To silence this warning, use `bool` by itself. Doing this will not modify any behavior and is safe. If you specifically wanted the numpy scalar type, use `np.bool_` here.\n",
      "  Deprecated in NumPy 1.20; for more details and guidance: https://numpy.org/devdocs/release/1.20.0-notes.html#deprecations\n",
      "    out = np.empty(image.shape, dtype=np.bool)\n",
      "\n",
      "-- Docs: https://docs.pytest.org/en/stable/how-to/capture-warnings.html\n",
      "\u001b[33m================= \u001b[32m5 passed\u001b[0m, \u001b[33m\u001b[1m1046 warnings\u001b[0m\u001b[33m in 134.63s (0:02:14)\u001b[0m\u001b[33m =================\u001b[0m\n"
     ]
    }
   ],
   "source": [
    "!pytest"
   ]
  },
  {
   "cell_type": "code",
   "execution_count": null,
   "id": "d4f33430",
   "metadata": {},
   "outputs": [],
   "source": []
  }
 ],
 "metadata": {
  "kernelspec": {
   "display_name": "Python 3 (ipykernel)",
   "language": "python",
   "name": "python3"
  },
  "language_info": {
   "codemirror_mode": {
    "name": "ipython",
    "version": 3
   },
   "file_extension": ".py",
   "mimetype": "text/x-python",
   "name": "python",
   "nbconvert_exporter": "python",
   "pygments_lexer": "ipython3",
   "version": "3.8.13"
  }
 },
 "nbformat": 4,
 "nbformat_minor": 5
}
