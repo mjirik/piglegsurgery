{
 "cells": [
  {
   "cell_type": "code",
   "execution_count": 1,
   "id": "20174eb1",
   "metadata": {
    "tags": [],
    "ExecuteTime": {
     "end_time": "2024-06-25T12:06:32.827705500Z",
     "start_time": "2024-06-25T12:06:30.284116800Z"
    }
   },
   "outputs": [
    {
     "name": "stderr",
     "output_type": "stream",
     "text": [
      "C:\\Users\\Jirik\\miniconda3\\envs\\jupyterlab\\lib\\site-packages\\tqdm\\auto.py:22: TqdmWarning: IProgress not found. Please update jupyter and ipywidgets. See https://ipywidgets.readthedocs.io/en/stable/user_install.html\n",
      "  from .autonotebook import tqdm as notebook_tqdm\n"
     ]
    },
    {
     "ename": "ModuleNotFoundError",
     "evalue": "No module named 'mmdet'",
     "output_type": "error",
     "traceback": [
      "\u001B[1;31m---------------------------------------------------------------------------\u001B[0m",
      "\u001B[1;31mModuleNotFoundError\u001B[0m                       Traceback (most recent call last)",
      "Cell \u001B[1;32mIn [1], line 6\u001B[0m\n\u001B[0;32m      4\u001B[0m \u001B[38;5;28;01mfrom\u001B[39;00m \u001B[38;5;21;01mskimage\u001B[39;00m\u001B[38;5;21;01m.\u001B[39;00m\u001B[38;5;21;01mio\u001B[39;00m \u001B[38;5;28;01mimport\u001B[39;00m imread\n\u001B[0;32m      5\u001B[0m \u001B[38;5;28;01mimport\u001B[39;00m \u001B[38;5;21;01mmatplotlib\u001B[39;00m\u001B[38;5;21;01m.\u001B[39;00m\u001B[38;5;21;01mpyplot\u001B[39;00m \u001B[38;5;28;01mas\u001B[39;00m \u001B[38;5;21;01mplt\u001B[39;00m\n\u001B[1;32m----> 6\u001B[0m \u001B[38;5;28;01mimport\u001B[39;00m \u001B[38;5;21;01mpigleg_cv\u001B[39;00m\n\u001B[0;32m      7\u001B[0m \u001B[38;5;28;01mimport\u001B[39;00m \u001B[38;5;21;01mshutil\u001B[39;00m\n",
      "File \u001B[1;32m~\\projects\\piglegsurgery\\piglegcv\\pigleg_cv.py:16\u001B[0m\n\u001B[0;32m     14\u001B[0m \u001B[38;5;28;01mimport\u001B[39;00m \u001B[38;5;21;01mloguru\u001B[39;00m\n\u001B[0;32m     15\u001B[0m \u001B[38;5;28;01mimport\u001B[39;00m \u001B[38;5;21;01mnumpy\u001B[39;00m \u001B[38;5;28;01mas\u001B[39;00m \u001B[38;5;21;01mnp\u001B[39;00m\n\u001B[1;32m---> 16\u001B[0m \u001B[38;5;28;01mimport\u001B[39;00m \u001B[38;5;21;01mrun_qr\u001B[39;00m\n\u001B[0;32m     17\u001B[0m \u001B[38;5;28;01mfrom\u001B[39;00m \u001B[38;5;21;01mincision_detection_mmdet\u001B[39;00m \u001B[38;5;28;01mimport\u001B[39;00m run_incision_detection\n\u001B[0;32m     18\u001B[0m \u001B[38;5;28;01mfrom\u001B[39;00m \u001B[38;5;21;01mloguru\u001B[39;00m \u001B[38;5;28;01mimport\u001B[39;00m logger\n",
      "File \u001B[1;32m~\\projects\\piglegsurgery\\piglegcv\\run_qr.py:14\u001B[0m\n\u001B[0;32m     12\u001B[0m \u001B[38;5;28;01mimport\u001B[39;00m \u001B[38;5;21;01mtorch\u001B[39;00m\n\u001B[0;32m     13\u001B[0m \u001B[38;5;28;01mfrom\u001B[39;00m \u001B[38;5;21;01mloguru\u001B[39;00m \u001B[38;5;28;01mimport\u001B[39;00m logger\n\u001B[1;32m---> 14\u001B[0m \u001B[38;5;28;01mfrom\u001B[39;00m \u001B[38;5;21;01mmmdet\u001B[39;00m\u001B[38;5;21;01m.\u001B[39;00m\u001B[38;5;21;01mapis\u001B[39;00m \u001B[38;5;28;01mimport\u001B[39;00m inference_detector\n\u001B[0;32m     15\u001B[0m \u001B[38;5;28;01mfrom\u001B[39;00m \u001B[38;5;21;01mqreader\u001B[39;00m \u001B[38;5;28;01mimport\u001B[39;00m QReader\n\u001B[0;32m     16\u001B[0m \u001B[38;5;28;01mfrom\u001B[39;00m \u001B[38;5;21;01mtools\u001B[39;00m \u001B[38;5;28;01mimport\u001B[39;00m load_json, save_json\n",
      "\u001B[1;31mModuleNotFoundError\u001B[0m: No module named 'mmdet'"
     ]
    }
   ],
   "source": [
    "%load_ext autoreload\n",
    "%autoreload 2\n",
    "from pathlib import Path\n",
    "from skimage.io import imread\n",
    "import matplotlib.pyplot as plt\n",
    "import pigleg_cv\n",
    "import shutil"
   ]
  },
  {
   "cell_type": "code",
   "execution_count": 2,
   "id": "60f3eccf",
   "metadata": {
    "tags": []
   },
   "outputs": [
    {
     "name": "stdout",
     "output_type": "stream",
     "text": [
      "/webapps/piglegsurgery/piglegcv\n"
     ]
    }
   ],
   "source": [
    "!pwd"
   ]
  },
  {
   "cell_type": "code",
   "execution_count": 3,
   "id": "66cc277c",
   "metadata": {
    "tags": []
   },
   "outputs": [
    {
     "data": {
      "text/plain": [
       "False"
      ]
     },
     "execution_count": 3,
     "metadata": {},
     "output_type": "execute_result"
    }
   ],
   "source": [
    "import torch\n",
    "\n",
    "torch.cuda.is_available()"
   ]
  },
  {
   "cell_type": "code",
   "outputs": [
    {
     "name": "stdout",
     "output_type": "stream",
     "text": [
      "empty\n"
     ]
    }
   ],
   "source": [
    "# print(\" asdf \".strip())\n",
    "if \" sd \".strip():\n",
    "    print(\"empty\")"
   ],
   "metadata": {
    "collapsed": false,
    "ExecuteTime": {
     "end_time": "2024-06-26T09:32:47.972053700Z",
     "start_time": "2024-06-26T09:32:47.807706400Z"
    }
   },
   "id": "2c9df250e8241dab",
   "execution_count": 5
  },
  {
   "cell_type": "code",
   "execution_count": 4,
   "id": "c9ae785c",
   "metadata": {
    "tags": []
   },
   "outputs": [
    {
     "name": "stdout",
     "output_type": "stream",
     "text": [
      "Wed Jun  5 22:37:25 2024       \n",
      "+-----------------------------------------------------------------------------------------+\n",
      "| NVIDIA-SMI 555.42.03              Driver Version: 555.85         CUDA Version: 12.5     |\n",
      "|-----------------------------------------+------------------------+----------------------+\n",
      "| GPU  Name                 Persistence-M | Bus-Id          Disp.A | Volatile Uncorr. ECC |\n",
      "| Fan  Temp   Perf          Pwr:Usage/Cap |           Memory-Usage | GPU-Util  Compute M. |\n",
      "|                                         |                        |               MIG M. |\n",
      "|=========================================+========================+======================|\n",
      "|   0  NVIDIA GeForce RTX 2060 ...    On  |   00000000:01:00.0 Off |                  N/A |\n",
      "| N/A   57C    P0             19W /   65W |       0MiB /   6144MiB |      0%      Default |\n",
      "|                                         |                        |                  N/A |\n",
      "+-----------------------------------------+------------------------+----------------------+\n",
      "                                                                                         \n",
      "+-----------------------------------------------------------------------------------------+\n",
      "| Processes:                                                                              |\n",
      "|  GPU   GI   CI        PID   Type   Process name                              GPU Memory |\n",
      "|        ID   ID                                                               Usage      |\n",
      "|=========================================================================================|\n",
      "|  No running processes found                                                             |\n",
      "+-----------------------------------------------------------------------------------------+\n"
     ]
    }
   ],
   "source": [
    "!nvidia-smi"
   ]
  },
  {
   "cell_type": "code",
   "execution_count": 5,
   "id": "e82ff789",
   "metadata": {
    "tags": []
   },
   "outputs": [
    {
     "data": {
      "text/plain": [
       "'1.12.0a0+8a1a93a'"
      ]
     },
     "execution_count": 5,
     "metadata": {},
     "output_type": "execute_result"
    }
   ],
   "source": [
    "torch.__version__"
   ]
  },
  {
   "cell_type": "code",
   "execution_count": 6,
   "id": "4e060b5f",
   "metadata": {
    "tags": []
   },
   "outputs": [
    {
     "data": {
      "text/plain": [
       "False"
      ]
     },
     "execution_count": 6,
     "metadata": {},
     "output_type": "execute_result"
    }
   ],
   "source": [
    "Path(\"~/.cache/torch/hub/checkpoints/\").expanduser().exists()"
   ]
  },
  {
   "cell_type": "code",
   "execution_count": 7,
   "id": "2f223e1d",
   "metadata": {
    "tags": []
   },
   "outputs": [
    {
     "name": "stdout",
     "output_type": "stream",
     "text": [
      "ls: cannot access '/home/appuser/.cache/torch/hub/checkpoints/': No such file or directory\n"
     ]
    }
   ],
   "source": [
    "!ls ~/.cache/torch/hub/checkpoints/"
   ]
  },
  {
   "cell_type": "code",
   "execution_count": 8,
   "id": "ed8c55f3",
   "metadata": {
    "tags": []
   },
   "outputs": [
    {
     "name": "stdout",
     "output_type": "stream",
     "text": [
      "Defaulting to user installation because normal site-packages is not writeable\n",
      "Looking in indexes: https://pypi.org/simple, https://pypi.ngc.nvidia.com\n",
      "Collecting pyinstrument\n",
      "  Downloading pyinstrument-4.6.2-cp38-cp38-manylinux_2_5_x86_64.manylinux1_x86_64.manylinux_2_17_x86_64.manylinux2014_x86_64.whl.metadata (21 kB)\n",
      "Downloading pyinstrument-4.6.2-cp38-cp38-manylinux_2_5_x86_64.manylinux1_x86_64.manylinux_2_17_x86_64.manylinux2014_x86_64.whl (105 kB)\n",
      "\u001B[2K   \u001B[90m━━━━━━━━━━━━━━━━━━━━━━━━━━━━━━━━━━━━━━━━\u001B[0m \u001B[32m105.7/105.7 kB\u001B[0m \u001B[31m3.4 MB/s\u001B[0m eta \u001B[36m0:00:00\u001B[0m\n",
      "\u001B[?25h\u001B[33mDEPRECATION: torch-tensorrt 1.1.0a0 has a non-standard dependency specifier torch>=1.10.0+cu113<1.11.0. pip 24.1 will enforce this behaviour change. A possible replacement is to upgrade to a newer version of torch-tensorrt or contact the author to suggest that they release a version with a conforming dependency specifiers. Discussion can be found at https://github.com/pypa/pip/issues/12063\u001B[0m\u001B[33m\n",
      "\u001B[0mInstalling collected packages: pyinstrument\n",
      "Successfully installed pyinstrument-4.6.2\n"
     ]
    }
   ],
   "source": [
    "# pip install mmcv-full\n",
    "!pip install pyinstrument"
   ]
  },
  {
   "cell_type": "markdown",
   "id": "8657dcb7",
   "metadata": {},
   "source": [
    "# Select video"
   ]
  },
  {
   "cell_type": "code",
   "execution_count": 9,
   "id": "ce68d1d2",
   "metadata": {
    "tags": []
   },
   "outputs": [],
   "source": [
    "is_microsurgery = False\n",
    "test_first_seconds = False\n",
    "n_stitches = 3\n",
    "use_application_outputdir = True\n",
    "\n",
    "patch = \"*/Anasto*.mp4\"\n",
    "# patch = \"*/2023_10_11_B-Grübbel_Mareike_Fortlaufende_Transkutannaht.mov\"\n",
    "# patch = \"Einzel.MOV\"\n",
    "patch = \"test_4.mp4\"\n",
    "n_stitches = 0\n",
    "# patch = \"Bad-2021_11_3_A_Brodersen___nne_Einzelknopfnaht_am_Schweinefu_\"; n_stitches=0\n",
    "# patch = \"micro_01*.mp4\"\n",
    "# patch = \"2023_10_11_B_Seltmann_Charlotte_fortlaufende_Transcutannaht.mp4\"; n_stitches=5\n",
    "# patch = \"Katharina_Einzelknopfnaht\"; n_stitches=3\n",
    "\n",
    "\n",
    "img_pths = list(Path(\"../piglegsurgeryweb/media/upload/\").glob(f\"*/*{patch}*\"))\n",
    "mediafile_path = img_pths[0]\n",
    "\n",
    "\n",
    "# original outputdir\n",
    "if use_application_outputdir:\n",
    "    outputdir = list(\n",
    "        list(Path(\"../piglegsurgeryweb/media/\").glob(f\"*/*{patch}*.zip\"))[\n",
    "            0\n",
    "        ].parent.glob(\"*/meta.json\")\n",
    "    )[0].parent\n",
    "    outputdir = outputdir.absolute().resolve()\n",
    "    outputdir\n",
    "else:\n",
    "    outputdir = Path(\"./del_test_video_output/\") / mediafile_path.name"
   ]
  },
  {
   "cell_type": "code",
   "execution_count": null,
   "id": "01e53c65-16c0-45ae-960f-cb5f7d3de5b2",
   "metadata": {
    "tags": []
   },
   "outputs": [],
   "source": []
  },
  {
   "cell_type": "markdown",
   "id": "de7b2c44",
   "metadata": {},
   "source": [
    "## Do initial processing (including tracking)\n"
   ]
  },
  {
   "cell_type": "code",
   "execution_count": 10,
   "id": "4f3f4af6",
   "metadata": {
    "tags": []
   },
   "outputs": [
    {
     "name": "stderr",
     "output_type": "stream",
     "text": [
      "\u001B[32m2024-06-05 22:37:33.577\u001B[0m | \u001B[34m\u001B[1mDEBUG   \u001B[0m | \u001B[36mpigleg_cv\u001B[0m:\u001B[36m__init__\u001B[0m:\u001B[36m108\u001B[0m - \u001B[34m\u001B[1m###############\u001B[0m\n",
      "\u001B[32m2024-06-05 22:37:33.582\u001B[0m | \u001B[34m\u001B[1mDEBUG   \u001B[0m | \u001B[36mpigleg_cv\u001B[0m:\u001B[36m__init__\u001B[0m:\u001B[36m109\u001B[0m - \u001B[34m\u001B[1mdevice=cpu\u001B[0m\n",
      "\u001B[32m2024-06-05 22:37:33.586\u001B[0m | \u001B[34m\u001B[1mDEBUG   \u001B[0m | \u001B[36mpigleg_cv\u001B[0m:\u001B[36m__init__\u001B[0m:\u001B[36m110\u001B[0m - \u001B[34m\u001B[1mtest_first_seconds=False\u001B[0m\n",
      "\u001B[32m2024-06-05 22:37:33.590\u001B[0m | \u001B[34m\u001B[1mDEBUG   \u001B[0m | \u001B[36mpigleg_cv\u001B[0m:\u001B[36m__init__\u001B[0m:\u001B[36m111\u001B[0m - \u001B[34m\u001B[1mis_microsurgery=False\u001B[0m\n",
      "\u001B[32m2024-06-05 22:37:33.592\u001B[0m | \u001B[34m\u001B[1mDEBUG   \u001B[0m | \u001B[36mpigleg_cv\u001B[0m:\u001B[36m__init__\u001B[0m:\u001B[36m142\u001B[0m - \u001B[34m\u001B[1mself.is_microsurgery=False\u001B[0m\n",
      "\u001B[32m2024-06-05 22:37:33.596\u001B[0m | \u001B[34m\u001B[1mDEBUG   \u001B[0m | \u001B[36mpigleg_cv\u001B[0m:\u001B[36mget_parameters_for_crop_rotate_rescale\u001B[0m:\u001B[36m464\u001B[0m - \u001B[34m\u001B[1mdevice=cpu\u001B[0m\n",
      "\u001B[32m2024-06-05 22:37:33.714\u001B[0m | \u001B[34m\u001B[1mDEBUG   \u001B[0m | \u001B[36mrun_perpendicular\u001B[0m:\u001B[36mget_frame_to_process\u001B[0m:\u001B[36m180\u001B[0m - \u001B[34m\u001B[1mlast_frame=152\u001B[0m\n",
      "\u001B[32m2024-06-05 22:37:33.715\u001B[0m | \u001B[34m\u001B[1mDEBUG   \u001B[0m | \u001B[36mrun_perpendicular\u001B[0m:\u001B[36mget_frame_to_process\u001B[0m:\u001B[36m181\u001B[0m - \u001B[34m\u001B[1mreference_frame_position_from_end=0\u001B[0m\n",
      "\u001B[32m2024-06-05 22:37:33.716\u001B[0m | \u001B[34m\u001B[1mDEBUG   \u001B[0m | \u001B[36mrun_perpendicular\u001B[0m:\u001B[36mget_frame_to_process\u001B[0m:\u001B[36m182\u001B[0m - \u001B[34m\u001B[1mstep=5\u001B[0m\n",
      "/home/appuser/mmdetection/mmdet/datasets/utils.py:66: UserWarning: \"ImageToTensor\" pipeline is replaced by \"DefaultFormatBundle\" for batch inference. It is recommended to manually replace it in the test data pipeline in your config file.\n",
      "  warnings.warn(\n",
      "\u001B[32m2024-06-05 22:38:12.465\u001B[0m | \u001B[34m\u001B[1mDEBUG   \u001B[0m | \u001B[36mrun_qr\u001B[0m:\u001B[36mget_bboxes\u001B[0m:\u001B[36m51\u001B[0m - \u001B[34m\u001B[1msaving single_image_detector result\u001B[0m\n",
      "\u001B[32m2024-06-05 22:38:15.862\u001B[0m | \u001B[34m\u001B[1mDEBUG   \u001B[0m | \u001B[36mrun_qr\u001B[0m:\u001B[36minterpret_bboxes\u001B[0m:\u001B[36m138\u001B[0m - \u001B[34m\u001B[1mbboxes[3]=array([[     404.94,      158.85,      542.06,      293.96,     0.99621],\n",
      "       [     1111.7,      165.35,      1253.8,      309.99,     0.99532],\n",
      "       [     273.79,      306.85,      1601.7,        1080,    0.089899]], dtype=float32)\u001B[0m\n",
      "\u001B[32m2024-06-05 22:38:15.927\u001B[0m | \u001B[34m\u001B[1mDEBUG   \u001B[0m | \u001B[36mtools\u001B[0m:\u001B[36msort_bboxes_and_masks_by_confidence\u001B[0m:\u001B[36m256\u001B[0m - \u001B[34m\u001B[1msorted_indices=array([0]), int64\u001B[0m\n",
      "\u001B[32m2024-06-05 22:38:15.937\u001B[0m | \u001B[34m\u001B[1mDEBUG   \u001B[0m | \u001B[36mrun_qr\u001B[0m:\u001B[36m_holes_pix_sizes\u001B[0m:\u001B[36m90\u001B[0m - \u001B[34m\u001B[1mpix_sizes_holes=array([ 0.00014705,  0.00014398,  0.00014116], dtype=float32)\u001B[0m\n",
      "\u001B[32m2024-06-05 22:38:15.960\u001B[0m | \u001B[34m\u001B[1mDEBUG   \u001B[0m | \u001B[36mrun_qr\u001B[0m:\u001B[36m_holes_pix_sizes\u001B[0m:\u001B[36m91\u001B[0m - \u001B[34m\u001B[1mpix_sizes_weights=array([    0.99955,     0.99878,     0.99789], dtype=float32)\u001B[0m\n"
     ]
    },
    {
     "name": "stdout",
     "output_type": "stream",
     "text": [
      "Fusing layers... \n",
      "IDetect.fuse\n"
     ]
    },
    {
     "name": "stderr",
     "output_type": "stream",
     "text": [
      "/opt/conda/lib/python3.8/site-packages/torch/functional.py:598: UserWarning: torch.meshgrid: in an upcoming release, it will be required to pass the indexing argument. (Triggered internally at  /opt/pytorch/pytorch/aten/src/ATen/native/TensorShape.cpp:2323.)\n",
      "  return _VF.meshgrid(tensors, **kwargs)  # type: ignore[attr-defined]\n",
      "\u001B[32m2024-06-05 22:38:23.419\u001B[0m | \u001B[34m\u001B[1mDEBUG   \u001B[0m | \u001B[36mrun_qr\u001B[0m:\u001B[36mbbox_info_extraction_from_frame\u001B[0m:\u001B[36m240\u001B[0m - \u001B[34m\u001B[1mqr code text = 'Resolution 30 mm'\u001B[0m\n",
      "\u001B[32m2024-06-05 22:38:23.431\u001B[0m | \u001B[34m\u001B[1mDEBUG   \u001B[0m | \u001B[36mrun_qr\u001B[0m:\u001B[36mbbox_info_extraction_from_frame\u001B[0m:\u001B[36m240\u001B[0m - \u001B[34m\u001B[1mqr code text = 'Scissors 30 mm'\u001B[0m\n",
      "\u001B[32m2024-06-05 22:38:23.436\u001B[0m | \u001B[34m\u001B[1mDEBUG   \u001B[0m | \u001B[36mrun_qr\u001B[0m:\u001B[36mbbox_info_extraction_from_frame\u001B[0m:\u001B[36m340\u001B[0m - \u001B[34m\u001B[1mqr_data={'is_microsurgery': False, 'pix_size_method': 'weighted_average', 'is_detected': True, 'box': [[410, 287], [532, 286], [535, 164], [411, 164]], 'pix_size': 0.0002446659365537673, 'incision_bboxes': [[774.2468872070312, 706.2264404296875, 1064.2303466796875, 784.998291015625, 0.9780232310295105]], 'qr_size': 0.03, 'size_by_scene': 0.00015625, 'text': 'Resolution 30 mm', 'pix_size_single_frame_detector_m': 0.00023340120243941213, 'bbox_scene_area': [237.48182678222656, 1.596093773841858, 1683.50341796875, 1080.0, 0.6937737464904785], 'bbox_micro_calibration': [], 'qr_scissors_frame_detected': True, 'qr_bboxes_SID': [[404.9392395019531, 158.84629821777344, 542.061279296875, 293.9641418457031, 0.9962145686149597], [1111.7254638671875, 165.35377502441406, 1253.77294921875, 309.9936828613281, 0.9953195452690125]], 'scene_width_m': 0.4697585981832332, 'pix_sizes': array([ 0.00020691,  0.00014705,  0.00014398,  0.00014116,  0.00024589,   0.0002334,  0.00015625]), 'pix_sizes_weights': [0.9780232310295105, 0.9995530247688293, 0.9987815022468567, 0.9978858828544617, 292.0, 0.9962145686149597, 0.1], 'pix_sizes_methods': ['incision_width', 'hole_0', 'hole_1', 'hole_2', 'QR bbox poly', 'pix_size_single_frame_detector_m', 'size_by_scene']}\u001B[0m\n",
      "\u001B[32m2024-06-05 22:38:23.443\u001B[0m | \u001B[34m\u001B[1mDEBUG   \u001B[0m | \u001B[36mpigleg_cv\u001B[0m:\u001B[36m_get_frame_to_process_ideally_with_incision\u001B[0m:\u001B[36m440\u001B[0m - \u001B[34m\u001B[1mFound incision bbox in frame 0 from the end.\u001B[0m\n",
      "\u001B[32m2024-06-05 22:38:23.444\u001B[0m | \u001B[34m\u001B[1mDEBUG   \u001B[0m | \u001B[36mpigleg_cv\u001B[0m:\u001B[36m_get_frame_to_process_ideally_with_incision\u001B[0m:\u001B[36m448\u001B[0m - \u001B[34m\u001B[1mIncision bbox not found. Using in frame 0 frame from the end.\u001B[0m\n",
      "\u001B[32m2024-06-05 22:38:23.452\u001B[0m | \u001B[34m\u001B[1mDEBUG   \u001B[0m | \u001B[36mincision_detection_mmdet\u001B[0m:\u001B[36mrun_incision_detection\u001B[0m:\u001B[36m234\u001B[0m - \u001B[34m\u001B[1mcheckpoint_path.exists=True\u001B[0m\n",
      "\u001B[32m2024-06-05 22:38:23.475\u001B[0m | \u001B[34m\u001B[1mDEBUG   \u001B[0m | \u001B[36mincision_detection_mmdet\u001B[0m:\u001B[36mrun_incision_detection\u001B[0m:\u001B[36m235\u001B[0m - \u001B[34m\u001B[1mimg.shape=(1080, 1920, 3), max(img)=255\u001B[0m\n"
     ]
    },
    {
     "name": "stdout",
     "output_type": "stream",
     "text": [
      "load checkpoint from local path: /webapps/piglegsurgery/piglegcv/resources/incision_detection_models/220326_234659_mmdet.pth\n"
     ]
    },
    {
     "name": "stderr",
     "output_type": "stream",
     "text": [
      "\u001B[32m2024-06-05 22:38:46.641\u001B[0m | \u001B[34m\u001B[1mDEBUG   \u001B[0m | \u001B[36mincision_detection_mmdet\u001B[0m:\u001B[36msave_incision_cropped_images\u001B[0m:\u001B[36m291\u001B[0m - \u001B[34m\u001B[1mnumber of detected incisions = 1\u001B[0m\n",
      "\u001B[32m2024-06-05 22:38:46.668\u001B[0m | \u001B[34m\u001B[1mDEBUG   \u001B[0m | \u001B[36mpigleg_cv\u001B[0m:\u001B[36mget_parameters_for_crop_rotate_rescale\u001B[0m:\u001B[36m483\u001B[0m - \u001B[34m\u001B[1mqr_data={'is_microsurgery': False, 'pix_size_method': 'weighted_average', 'is_detected': True, 'box': [[410, 287], [532, 286], [535, 164], [411, 164]], 'pix_size': 0.0002446659365537673, 'incision_bboxes': [[774.2468872070312, 706.2264404296875, 1064.2303466796875, 784.998291015625, 0.9780232310295105]], 'qr_size': 0.03, 'size_by_scene': 0.00015625, 'text': 'Resolution 30 mm', 'pix_size_single_frame_detector_m': 0.00023340120243941213, 'bbox_scene_area': [237.48182678222656, 1.596093773841858, 1683.50341796875, 1080.0, 0.6937737464904785], 'bbox_micro_calibration': [], 'qr_scissors_frame_detected': True, 'qr_bboxes_SID': [[404.9392395019531, 158.84629821777344, 542.061279296875, 293.9641418457031, 0.9962145686149597], [1111.7254638671875, 165.35377502441406, 1253.77294921875, 309.9936828613281, 0.9953195452690125]], 'scene_width_m': 0.4697585981832332, 'pix_sizes': array([ 0.00020691,  0.00014705,  0.00014398,  0.00014116,  0.00024589,   0.0002334,  0.00015625]), 'pix_sizes_weights': [0.9780232310295105, 0.9995530247688293, 0.9987815022468567, 0.9978858828544617, 292.0, 0.9962145686149597, 0.1], 'pix_sizes_methods': ['incision_width', 'hole_0', 'hole_1', 'hole_2', 'QR bbox poly', 'pix_size_single_frame_detector_m', 'size_by_scene'], 'qr_scissors_frames': [], 'incision_bboxes_old': [[763.6923828125, 683.0553588867188, 1078.682861328125, 798.51025390625, 0.9964717626571655]]}\u001B[0m\n",
      "\u001B[32m2024-06-05 22:38:46.756\u001B[0m | \u001B[34m\u001B[1mDEBUG   \u001B[0m | \u001B[36mpigleg_cv\u001B[0m:\u001B[36m_make_sure_media_is_cropped\u001B[0m:\u001B[36m186\u001B[0m - \u001B[34m\u001B[1mSingle frame processing on original mediafile finished in 73.15975093841553s.\u001B[0m\n",
      "\u001B[32m2024-06-05 22:38:46.760\u001B[0m | \u001B[34m\u001B[1mDEBUG   \u001B[0m | \u001B[36mpigleg_cv\u001B[0m:\u001B[36mdo_crop_rotate_rescale\u001B[0m:\u001B[36m511\u001B[0m - \u001B[34m\u001B[1mself.filename_cropped=/webapps/piglegsurgery/piglegsurgeryweb/media/SA_20231213-082852_yogjl47cusic/SA_20231213-082852/__cropped.mp4\u001B[0m\n",
      "\u001B[32m2024-06-05 22:38:46.915\u001B[0m | \u001B[34m\u001B[1mDEBUG   \u001B[0m | \u001B[36mpigleg_cv\u001B[0m:\u001B[36mdo_crop_rotate_rescale\u001B[0m:\u001B[36m557\u001B[0m - \u001B[34m\u001B[1mfilename=../piglegsurgeryweb/media/upload/20231213-082852_pigleg_test_4_c01bb28928f8241f5cb69c0cee9f09a0e873f815/pigleg_test_4.mp4, True\u001B[0m\n",
      "\u001B[32m2024-06-05 22:38:46.918\u001B[0m | \u001B[34m\u001B[1mDEBUG   \u001B[0m | \u001B[36mpigleg_cv\u001B[0m:\u001B[36mdo_crop_rotate_rescale\u001B[0m:\u001B[36m572\u001B[0m - \u001B[34m\u001B[1mffmpeg -i ../piglegsurgeryweb/media/upload/20231213-082852_pigleg_test_4_c01bb28928f8241f5cb69c0cee9f09a0e873f815/pigleg_test_4.mp4 -filter:v crop=1446:1078:237:1,fps=fps=15,scale=720:trunc(ow/a/2)*2 -an -y -b:v 1000k /webapps/piglegsurgery/piglegsurgeryweb/media/SA_20231213-082852_yogjl47cusic/SA_20231213-082852/__cropped.mp4\u001B[0m\n",
      "\u001B[32m2024-06-05 22:38:50.304\u001B[0m | \u001B[34m\u001B[1mDEBUG   \u001B[0m | \u001B[36mpigleg_cv\u001B[0m:\u001B[36mdo_crop_rotate_rescale\u001B[0m:\u001B[36m590\u001B[0m - \u001B[34m\u001B[1mself.filename_cropped=PosixPath('/webapps/piglegsurgery/piglegsurgeryweb/media/SA_20231213-082852_yogjl47cusic/SA_20231213-082852/__cropped.mp4'), self.filename_cropped.exists()=True\u001B[0m\n",
      "\u001B[32m2024-06-05 22:38:50.397\u001B[0m | \u001B[34m\u001B[1mDEBUG   \u001B[0m | \u001B[36mpigleg_cv\u001B[0m:\u001B[36m_make_sure_media_is_cropped\u001B[0m:\u001B[36m198\u001B[0m - \u001B[34m\u001B[1mCropping done in 3.637833833694458s.\u001B[0m\n",
      "\u001B[32m2024-06-05 22:38:50.411\u001B[0m | \u001B[34m\u001B[1mDEBUG   \u001B[0m | \u001B[36mpigleg_cv\u001B[0m:\u001B[36mrun_image_processing\u001B[0m:\u001B[36m218\u001B[0m - \u001B[34m\u001B[1mRunning image processing...\u001B[0m\n",
      "\u001B[32m2024-06-05 22:38:50.427\u001B[0m | \u001B[34m\u001B[1mDEBUG   \u001B[0m | \u001B[36mrun_perpendicular\u001B[0m:\u001B[36mget_frame_to_process\u001B[0m:\u001B[36m180\u001B[0m - \u001B[34m\u001B[1mlast_frame=94\u001B[0m\n",
      "\u001B[32m2024-06-05 22:38:50.429\u001B[0m | \u001B[34m\u001B[1mDEBUG   \u001B[0m | \u001B[36mrun_perpendicular\u001B[0m:\u001B[36mget_frame_to_process\u001B[0m:\u001B[36m181\u001B[0m - \u001B[34m\u001B[1mreference_frame_position_from_end=0\u001B[0m\n",
      "\u001B[32m2024-06-05 22:38:50.432\u001B[0m | \u001B[34m\u001B[1mDEBUG   \u001B[0m | \u001B[36mrun_perpendicular\u001B[0m:\u001B[36mget_frame_to_process\u001B[0m:\u001B[36m182\u001B[0m - \u001B[34m\u001B[1mstep=5\u001B[0m\n",
      "\u001B[32m2024-06-05 22:38:58.012\u001B[0m | \u001B[34m\u001B[1mDEBUG   \u001B[0m | \u001B[36mrun_qr\u001B[0m:\u001B[36mget_bboxes\u001B[0m:\u001B[36m51\u001B[0m - \u001B[34m\u001B[1msaving single_image_detector result\u001B[0m\n",
      "\u001B[32m2024-06-05 22:38:58.155\u001B[0m | \u001B[34m\u001B[1mDEBUG   \u001B[0m | \u001B[36mrun_qr\u001B[0m:\u001B[36minterpret_bboxes\u001B[0m:\u001B[36m138\u001B[0m - \u001B[34m\u001B[1mbboxes[3]=array([[     84.009,      79.191,      152.88,      146.41,     0.99505],\n",
      "       [     437.72,      80.921,      506.49,      154.36,     0.99468],\n",
      "       [     7.9496,      26.531,      686.74,      516.95,    0.068101]], dtype=float32)\u001B[0m\n",
      "\u001B[32m2024-06-05 22:38:58.157\u001B[0m | \u001B[34m\u001B[1mDEBUG   \u001B[0m | \u001B[36mtools\u001B[0m:\u001B[36msort_bboxes_and_masks_by_confidence\u001B[0m:\u001B[36m256\u001B[0m - \u001B[34m\u001B[1msorted_indices=array([0, 1]), int64\u001B[0m\n",
      "\u001B[32m2024-06-05 22:38:58.159\u001B[0m | \u001B[34m\u001B[1mDEBUG   \u001B[0m | \u001B[36mrun_qr\u001B[0m:\u001B[36m_holes_pix_sizes\u001B[0m:\u001B[36m90\u001B[0m - \u001B[34m\u001B[1mpix_sizes_holes=array([ 0.00031491,  0.00029947,    0.000295], dtype=float32)\u001B[0m\n",
      "\u001B[32m2024-06-05 22:38:58.163\u001B[0m | \u001B[34m\u001B[1mDEBUG   \u001B[0m | \u001B[36mrun_qr\u001B[0m:\u001B[36m_holes_pix_sizes\u001B[0m:\u001B[36m91\u001B[0m - \u001B[34m\u001B[1mpix_sizes_weights=array([    0.99913,     0.99775,     0.99403], dtype=float32)\u001B[0m\n"
     ]
    },
    {
     "name": "stdout",
     "output_type": "stream",
     "text": [
      "Fusing layers... \n",
      "IDetect.fuse\n"
     ]
    },
    {
     "name": "stderr",
     "output_type": "stream",
     "text": [
      "\u001B[32m2024-06-05 22:39:00.445\u001B[0m | \u001B[34m\u001B[1mDEBUG   \u001B[0m | \u001B[36mrun_qr\u001B[0m:\u001B[36mbbox_info_extraction_from_frame\u001B[0m:\u001B[36m240\u001B[0m - \u001B[34m\u001B[1mqr code text = 'Scissors 30 mm'\u001B[0m\n",
      "\u001B[32m2024-06-05 22:39:00.447\u001B[0m | \u001B[34m\u001B[1mDEBUG   \u001B[0m | \u001B[36mrun_qr\u001B[0m:\u001B[36mbbox_info_extraction_from_frame\u001B[0m:\u001B[36m240\u001B[0m - \u001B[34m\u001B[1mqr code text = 'Resolution 30 mm'\u001B[0m\n",
      "\u001B[32m2024-06-05 22:39:00.452\u001B[0m | \u001B[34m\u001B[1mDEBUG   \u001B[0m | \u001B[36mrun_qr\u001B[0m:\u001B[36mbbox_info_extraction_from_frame\u001B[0m:\u001B[36m340\u001B[0m - \u001B[34m\u001B[1mqr_data={'is_microsurgery': False, 'pix_size_method': 'weighted_average', 'is_detected': True, 'box': [[439, 149], [500, 150], [504, 86], [441, 85]], 'pix_size': 0.0004876054523338215, 'incision_bboxes': [[270.26287841796875, 352.0305480957031, 410.5086975097656, 390.61376953125, 0.9813022017478943]], 'qr_size': 0.03, 'size_by_scene': 0.00041666666666666664, 'text': 'Resolution 30 mm', 'pix_size_single_frame_detector_m': 0.00046039570111101955, 'bbox_scene_area': [0.0, 0.0, 720.0, 536.0, 0.6495135426521301], 'bbox_micro_calibration': [], 'qr_scissors_frame_detected': True, 'qr_bboxes_SID': [[84.00880432128906, 79.19088745117188, 152.8837432861328, 146.4113006591797, 0.9950470924377441], [437.7230529785156, 80.92144775390625, 506.48541259765625, 154.35610961914062, 0.9946750402450562]], 'scene_width_m': 0.35107592568035145, 'pix_sizes': array([ 0.00042782,  0.00031491,  0.00029947,    0.000295,  0.00049174,   0.0004604,  0.00041667]), 'pix_sizes_weights': [0.9813022017478943, 0.9991305470466614, 0.9977509379386902, 0.9940286874771118, 156.0, 0.9950470924377441, 0.1], 'pix_sizes_methods': ['incision_width', 'hole_0', 'hole_1', 'hole_2', 'QR bbox poly', 'pix_size_single_frame_detector_m', 'size_by_scene']}\u001B[0m\n",
      "\u001B[32m2024-06-05 22:39:00.456\u001B[0m | \u001B[34m\u001B[1mDEBUG   \u001B[0m | \u001B[36mpigleg_cv\u001B[0m:\u001B[36m_get_frame_to_process_ideally_with_incision\u001B[0m:\u001B[36m440\u001B[0m - \u001B[34m\u001B[1mFound incision bbox in frame 0 from the end.\u001B[0m\n",
      "\u001B[32m2024-06-05 22:39:00.458\u001B[0m | \u001B[34m\u001B[1mDEBUG   \u001B[0m | \u001B[36mpigleg_cv\u001B[0m:\u001B[36m_get_frame_to_process_ideally_with_incision\u001B[0m:\u001B[36m448\u001B[0m - \u001B[34m\u001B[1mIncision bbox not found. Using in frame 0 frame from the end.\u001B[0m\n",
      "\u001B[32m2024-06-05 22:39:07.033\u001B[0m | \u001B[34m\u001B[1mDEBUG   \u001B[0m | \u001B[36mrun_qr\u001B[0m:\u001B[36mget_bboxes\u001B[0m:\u001B[36m51\u001B[0m - \u001B[34m\u001B[1msaving single_image_detector result\u001B[0m\n",
      "\u001B[32m2024-06-05 22:39:07.137\u001B[0m | \u001B[34m\u001B[1mDEBUG   \u001B[0m | \u001B[36mrun_qr\u001B[0m:\u001B[36minterpret_bboxes\u001B[0m:\u001B[36m138\u001B[0m - \u001B[34m\u001B[1mbboxes[3]=array([[     84.009,      79.191,      152.88,      146.41,     0.99505],\n",
      "       [     437.72,      80.921,      506.49,      154.36,     0.99468],\n",
      "       [     7.9496,      26.531,      686.74,      516.95,    0.068101]], dtype=float32)\u001B[0m\n",
      "\u001B[32m2024-06-05 22:39:07.139\u001B[0m | \u001B[34m\u001B[1mDEBUG   \u001B[0m | \u001B[36mtools\u001B[0m:\u001B[36msort_bboxes_and_masks_by_confidence\u001B[0m:\u001B[36m256\u001B[0m - \u001B[34m\u001B[1msorted_indices=array([0, 1]), int64\u001B[0m\n",
      "\u001B[32m2024-06-05 22:39:07.141\u001B[0m | \u001B[34m\u001B[1mDEBUG   \u001B[0m | \u001B[36mrun_qr\u001B[0m:\u001B[36m_holes_pix_sizes\u001B[0m:\u001B[36m90\u001B[0m - \u001B[34m\u001B[1mpix_sizes_holes=array([ 0.00031491,  0.00029947,    0.000295], dtype=float32)\u001B[0m\n",
      "\u001B[32m2024-06-05 22:39:07.144\u001B[0m | \u001B[34m\u001B[1mDEBUG   \u001B[0m | \u001B[36mrun_qr\u001B[0m:\u001B[36m_holes_pix_sizes\u001B[0m:\u001B[36m91\u001B[0m - \u001B[34m\u001B[1mpix_sizes_weights=array([    0.99913,     0.99775,     0.99403], dtype=float32)\u001B[0m\n"
     ]
    },
    {
     "name": "stdout",
     "output_type": "stream",
     "text": [
      "Fusing layers... \n",
      "IDetect.fuse\n"
     ]
    },
    {
     "name": "stderr",
     "output_type": "stream",
     "text": [
      "\u001B[32m2024-06-05 22:39:09.481\u001B[0m | \u001B[34m\u001B[1mDEBUG   \u001B[0m | \u001B[36mrun_qr\u001B[0m:\u001B[36mbbox_info_extraction_from_frame\u001B[0m:\u001B[36m240\u001B[0m - \u001B[34m\u001B[1mqr code text = 'Scissors 30 mm'\u001B[0m\n",
      "\u001B[32m2024-06-05 22:39:09.482\u001B[0m | \u001B[34m\u001B[1mDEBUG   \u001B[0m | \u001B[36mrun_qr\u001B[0m:\u001B[36mbbox_info_extraction_from_frame\u001B[0m:\u001B[36m240\u001B[0m - \u001B[34m\u001B[1mqr code text = 'Resolution 30 mm'\u001B[0m\n",
      "\u001B[32m2024-06-05 22:39:09.483\u001B[0m | \u001B[34m\u001B[1mDEBUG   \u001B[0m | \u001B[36mrun_qr\u001B[0m:\u001B[36mbbox_info_extraction_from_frame\u001B[0m:\u001B[36m340\u001B[0m - \u001B[34m\u001B[1mqr_data={'is_microsurgery': False, 'pix_size_method': 'weighted_average', 'is_detected': True, 'box': [[439, 149], [500, 150], [504, 86], [441, 85]], 'pix_size': 0.0004876054523338215, 'incision_bboxes': [[270.26287841796875, 352.0305480957031, 410.5086975097656, 390.61376953125, 0.9813022017478943]], 'qr_size': 0.03, 'size_by_scene': 0.00041666666666666664, 'text': 'Resolution 30 mm', 'pix_size_single_frame_detector_m': 0.00046039570111101955, 'bbox_scene_area': [0.0, 0.0, 720.0, 536.0, 0.6495135426521301], 'bbox_micro_calibration': [], 'qr_scissors_frame_detected': True, 'qr_bboxes_SID': [[84.00880432128906, 79.19088745117188, 152.8837432861328, 146.4113006591797, 0.9950470924377441], [437.7230529785156, 80.92144775390625, 506.48541259765625, 154.35610961914062, 0.9946750402450562]], 'scene_width_m': 0.35107592568035145, 'pix_sizes': array([ 0.00042782,  0.00031491,  0.00029947,    0.000295,  0.00049174,   0.0004604,  0.00041667]), 'pix_sizes_weights': [0.9813022017478943, 0.9991305470466614, 0.9977509379386902, 0.9940286874771118, 156.0, 0.9950470924377441, 0.1], 'pix_sizes_methods': ['incision_width', 'hole_0', 'hole_1', 'hole_2', 'QR bbox poly', 'pix_size_single_frame_detector_m', 'size_by_scene']}\u001B[0m\n",
      "\u001B[32m2024-06-05 22:39:09.486\u001B[0m | \u001B[34m\u001B[1mDEBUG   \u001B[0m | \u001B[36mpigleg_cv\u001B[0m:\u001B[36mrun_image_processing\u001B[0m:\u001B[36m230\u001B[0m - \u001B[34m\u001B[1m{'duration_s_get_parameters_for_crop_rotate_rescale': 73.16320610046387, 'orig fps': 24, 'orig totalframecount': 153, 'orig frame_width': 1920, 'orig frame_height': 1080, 'ffmpeg_subprocess_params': 'ffmpeg -i ../piglegsurgeryweb/media/upload/20231213-082852_pigleg_test_4_c01bb28928f8241f5cb69c0cee9f09a0e873f815/pigleg_test_4.mp4 -filter:v crop=1446:1078:237:1,fps=fps=15,scale=720:trunc(ow/a/2)*2 -an -y -b:v 1000k /webapps/piglegsurgery/piglegsurgeryweb/media/SA_20231213-082852_yogjl47cusic/SA_20231213-082852/__cropped.mp4', 'duration_s_do_crop_rotate_rescale': 3.6378302574157715, 'filename_full': '/webapps/piglegsurgery/piglegsurgeryweb/media/SA_20231213-082852_yogjl47cusic/SA_20231213-082852/__cropped.mp4', 'fps': 15, 'frame_count': 95, 'frame_width': 0, 'frame_height': 0, 'qr_data': {'is_microsurgery': False, 'pix_size_method': 'weighted_average', 'is_detected': True, 'box': [[439, 149], [500, 150], [504, 86], [441, 85]], 'pix_size': 0.0004876054523338215, 'incision_bboxes': [[270.26287841796875, 352.0305480957031, 410.5086975097656, 390.61376953125, 0.9813022017478943]], 'qr_size': 0.03, 'size_by_scene': 0.00041666666666666664, 'text': 'Resolution 30 mm', 'pix_size_single_frame_detector_m': 0.00046039570111101955, 'bbox_scene_area': [0.0, 0.0, 720.0, 536.0, 0.6495135426521301], 'bbox_micro_calibration': [], 'qr_scissors_frame_detected': True, 'qr_bboxes_SID': [[84.00880432128906, 79.19088745117188, 152.8837432861328, 146.4113006591797, 0.9950470924377441], [437.7230529785156, 80.92144775390625, 506.48541259765625, 154.35610961914062, 0.9946750402450562]], 'scene_width_m': 0.35107592568035145, 'pix_sizes': array([ 0.00042782,  0.00031491,  0.00029947,    0.000295,  0.00049174,   0.0004604,  0.00041667]), 'pix_sizes_weights': [0.9813022017478943, 0.9991305470466614, 0.9977509379386902, 0.9940286874771118, 156.0, 0.9950470924377441, 0.1], 'pix_sizes_methods': ['incision_width', 'hole_0', 'hole_1', 'hole_2', 'QR bbox poly', 'pix_size_single_frame_detector_m', 'size_by_scene'], 'qr_scissors_frames': []}}\u001B[0m\n",
      "\u001B[32m2024-06-05 22:39:09.489\u001B[0m | \u001B[34m\u001B[1mDEBUG   \u001B[0m | \u001B[36mrun_perpendicular\u001B[0m:\u001B[36mmain_perpendicular\u001B[0m:\u001B[36m333\u001B[0m - \u001B[34m\u001B[1mmain_perpendicular...\u001B[0m\n",
      "\u001B[32m2024-06-05 22:39:09.492\u001B[0m | \u001B[34m\u001B[1mDEBUG   \u001B[0m | \u001B[36mrun_perpendicular\u001B[0m:\u001B[36mmain_perpendicular\u001B[0m:\u001B[36m340\u001B[0m - \u001B[34m\u001B[1mimg.shape=(536, 720, 3)\u001B[0m\n",
      "\u001B[32m2024-06-05 22:39:09.494\u001B[0m | \u001B[34m\u001B[1mDEBUG   \u001B[0m | \u001B[36mrun_perpendicular\u001B[0m:\u001B[36mmain_perpendicular\u001B[0m:\u001B[36m342\u001B[0m - \u001B[34m\u001B[1mincision detection ...\u001B[0m\n",
      "\u001B[32m2024-06-05 22:39:09.500\u001B[0m | \u001B[34m\u001B[1mDEBUG   \u001B[0m | \u001B[36mincision_detection_mmdet\u001B[0m:\u001B[36mrun_incision_detection\u001B[0m:\u001B[36m234\u001B[0m - \u001B[34m\u001B[1mcheckpoint_path.exists=True\u001B[0m\n",
      "\u001B[32m2024-06-05 22:39:09.502\u001B[0m | \u001B[34m\u001B[1mDEBUG   \u001B[0m | \u001B[36mincision_detection_mmdet\u001B[0m:\u001B[36mrun_incision_detection\u001B[0m:\u001B[36m235\u001B[0m - \u001B[34m\u001B[1mimg.shape=(536, 720, 3), max(img)=255\u001B[0m\n"
     ]
    },
    {
     "name": "stdout",
     "output_type": "stream",
     "text": [
      "load checkpoint from local path: /webapps/piglegsurgery/piglegcv/resources/incision_detection_models/220326_234659_mmdet.pth\n"
     ]
    },
    {
     "name": "stderr",
     "output_type": "stream",
     "text": [
      "/home/appuser/mmdetection/mmdet/datasets/utils.py:66: UserWarning: \"ImageToTensor\" pipeline is replaced by \"DefaultFormatBundle\" for batch inference. It is recommended to manually replace it in the test data pipeline in your config file.\n",
      "  warnings.warn(\n",
      "\u001B[32m2024-06-05 22:39:19.424\u001B[0m | \u001B[34m\u001B[1mDEBUG   \u001B[0m | \u001B[36mincision_detection_mmdet\u001B[0m:\u001B[36msave_incision_cropped_images\u001B[0m:\u001B[36m291\u001B[0m - \u001B[34m\u001B[1mnumber of detected incisions = 1\u001B[0m\n",
      "\u001B[32m2024-06-05 22:39:19.435\u001B[0m | \u001B[34m\u001B[1mDEBUG   \u001B[0m | \u001B[36mrun_perpendicular\u001B[0m:\u001B[36mmain_perpendicular\u001B[0m:\u001B[36m347\u001B[0m - \u001B[34m\u001B[1mlen(imgs)=1\u001B[0m\n",
      "\u001B[32m2024-06-05 22:39:19.618\u001B[0m | \u001B[34m\u001B[1mDEBUG   \u001B[0m | \u001B[36mtools\u001B[0m:\u001B[36msave_json\u001B[0m:\u001B[36m17\u001B[0m - \u001B[34m\u001B[1mWriting '/webapps/piglegsurgery/piglegsurgeryweb/media/SA_20231213-082852_yogjl47cusic/SA_20231213-082852/perpendicular_0.json'\u001B[0m\n",
      "\u001B[32m2024-06-05 22:39:19.630\u001B[0m | \u001B[34m\u001B[1mDEBUG   \u001B[0m | \u001B[36mtools\u001B[0m:\u001B[36msave_json\u001B[0m:\u001B[36m26\u001B[0m - \u001B[34m\u001B[1mold keys: ['intersections', 'alphas']\u001B[0m\n",
      "\u001B[32m2024-06-05 22:39:19.631\u001B[0m | \u001B[34m\u001B[1mDEBUG   \u001B[0m | \u001B[36mtools\u001B[0m:\u001B[36msave_json\u001B[0m:\u001B[36m28\u001B[0m - \u001B[34m\u001B[1mupdated keys: ['intersections', 'alphas']\u001B[0m\n",
      "\u001B[32m2024-06-05 22:39:21.683\u001B[0m | \u001B[34m\u001B[1mDEBUG   \u001B[0m | \u001B[36mstitch_detection_mmdet\u001B[0m:\u001B[36mrun_stitch_detection\u001B[0m:\u001B[36m53\u001B[0m - \u001B[34m\u001B[1mcfg_path=PosixPath('stitch_detection_mmdet_config.py'), True\u001B[0m\n",
      "\u001B[32m2024-06-05 22:39:21.693\u001B[0m | \u001B[34m\u001B[1mDEBUG   \u001B[0m | \u001B[36mstitch_detection_mmdet\u001B[0m:\u001B[36mrun_stitch_detection\u001B[0m:\u001B[36m54\u001B[0m - \u001B[34m\u001B[1mcheckpoint_path=PosixPath('/webapps/piglegsurgery/piglegcv/resources/stitch_detection_models/model.pth'), True\u001B[0m\n"
     ]
    },
    {
     "name": "stdout",
     "output_type": "stream",
     "text": [
      "load checkpoint from local path: /webapps/piglegsurgery/piglegcv/resources/stitch_detection_models/model.pth\n"
     ]
    },
    {
     "name": "stderr",
     "output_type": "stream",
     "text": [
      "/home/appuser/mmdetection/mmdet/datasets/utils.py:66: UserWarning: \"ImageToTensor\" pipeline is replaced by \"DefaultFormatBundle\" for batch inference. It is recommended to manually replace it in the test data pipeline in your config file.\n",
      "  warnings.warn(\n",
      "\u001B[32m2024-06-05 22:39:28.552\u001B[0m | \u001B[34m\u001B[1mDEBUG   \u001B[0m | \u001B[36mtools\u001B[0m:\u001B[36msave_json\u001B[0m:\u001B[36m17\u001B[0m - \u001B[34m\u001B[1mWriting '/webapps/piglegsurgery/piglegsurgeryweb/media/SA_20231213-082852_yogjl47cusic/SA_20231213-082852/stitch_detection_0.json'\u001B[0m\n",
      "\u001B[32m2024-06-05 22:39:28.558\u001B[0m | \u001B[34m\u001B[1mDEBUG   \u001B[0m | \u001B[36mtools\u001B[0m:\u001B[36msave_json\u001B[0m:\u001B[36m26\u001B[0m - \u001B[34m\u001B[1mold keys: ['stitch_labels', 'stitch_bboxes']\u001B[0m\n",
      "\u001B[32m2024-06-05 22:39:28.559\u001B[0m | \u001B[34m\u001B[1mDEBUG   \u001B[0m | \u001B[36mtools\u001B[0m:\u001B[36msave_json\u001B[0m:\u001B[36m28\u001B[0m - \u001B[34m\u001B[1mupdated keys: ['stitch_labels', 'stitch_bboxes']\u001B[0m\n",
      "\u001B[32m2024-06-05 22:39:28.564\u001B[0m | \u001B[34m\u001B[1mDEBUG   \u001B[0m | \u001B[36mstitch_detection_mmdet\u001B[0m:\u001B[36mrun_stitch_detection\u001B[0m:\u001B[36m114\u001B[0m - \u001B[34m\u001B[1mnumber of filtered stitches = 4\u001B[0m\n",
      "\u001B[32m2024-06-05 22:39:28.566\u001B[0m | \u001B[34m\u001B[1mDEBUG   \u001B[0m | \u001B[36mstitch_detection_mmdet\u001B[0m:\u001B[36mrun_stitch_detection\u001B[0m:\u001B[36m115\u001B[0m - \u001B[34m\u001B[1mStitch detection finished, boxes in: /webapps/piglegsurgery/piglegsurgeryweb/media/SA_20231213-082852_yogjl47cusic/SA_20231213-082852/stitch_detection_0.json\u001B[0m\n",
      "\u001B[32m2024-06-05 22:39:28.666\u001B[0m | \u001B[34m\u001B[1mDEBUG   \u001B[0m | \u001B[36mstitch_detection_mmdet\u001B[0m:\u001B[36mrun_stitch_analyser\u001B[0m:\u001B[36m193\u001B[0m - \u001B[34m\u001B[1mR-squared upper line: 0.837\u001B[0m\n",
      "\u001B[32m2024-06-05 22:39:28.669\u001B[0m | \u001B[34m\u001B[1mDEBUG   \u001B[0m | \u001B[36mstitch_detection_mmdet\u001B[0m:\u001B[36mrun_stitch_analyser\u001B[0m:\u001B[36m194\u001B[0m - \u001B[34m\u001B[1mR-squared lower line: 0.976\u001B[0m\n",
      "\u001B[32m2024-06-05 22:39:28.672\u001B[0m | \u001B[34m\u001B[1mDEBUG   \u001B[0m | \u001B[36mstitch_detection_mmdet\u001B[0m:\u001B[36mrun_stitch_analyser\u001B[0m:\u001B[36m195\u001B[0m - \u001B[34m\u001B[1mSlope upper line: 0.075\u001B[0m\n",
      "\u001B[32m2024-06-05 22:39:28.676\u001B[0m | \u001B[34m\u001B[1mDEBUG   \u001B[0m | \u001B[36mstitch_detection_mmdet\u001B[0m:\u001B[36mrun_stitch_analyser\u001B[0m:\u001B[36m196\u001B[0m - \u001B[34m\u001B[1mSlope lower line: 0.032\u001B[0m\n",
      "\u001B[32m2024-06-05 22:39:28.888\u001B[0m | \u001B[34m\u001B[1mDEBUG   \u001B[0m | \u001B[36mpigleg_cv\u001B[0m:\u001B[36mrun_image_processing\u001B[0m:\u001B[36m233\u001B[0m - \u001B[34m\u001B[1mPerpendicular finished.\u001B[0m\n",
      "\u001B[32m2024-06-05 22:39:28.893\u001B[0m | \u001B[34m\u001B[1mDEBUG   \u001B[0m | \u001B[36mrun_tracker_bytetrack\u001B[0m:\u001B[36mmain_tracker_bytetrack\u001B[0m:\u001B[36m131\u001B[0m - \u001B[34m\u001B[1mmain_tracker\u001B[0m\n",
      "\u001B[32m2024-06-05 22:39:28.914\u001B[0m | \u001B[34m\u001B[1mDEBUG   \u001B[0m | \u001B[36mrun_tracker_bytetrack\u001B[0m:\u001B[36mmake_hash_from_video_and_models\u001B[0m:\u001B[36m55\u001B[0m - \u001B[34m\u001B[1mfirst_frame.shape=(536, 720, 3)\u001B[0m\n",
      "\u001B[32m2024-06-05 22:40:44.628\u001B[0m | \u001B[34m\u001B[1mDEBUG   \u001B[0m | \u001B[36mrun_tracker_bytetrack\u001B[0m:\u001B[36m_compare_composed_hashes\u001B[0m:\u001B[36m83\u001B[0m - \u001B[34m\u001B[1mhash distance=0.0\u001B[0m\n",
      "\u001B[32m2024-06-05 22:40:44.703\u001B[0m | \u001B[34m\u001B[1mDEBUG   \u001B[0m | \u001B[36mrun_tracker_bytetrack\u001B[0m:\u001B[36m_compare_composed_hashes\u001B[0m:\u001B[36m84\u001B[0m - \u001B[34m\u001B[1mhash1='0xdfc3213f1e251fbd_0x02D00x02180x005F0x1.e000000000000p+3ab6d56fa00b30eba7d7fc260f984857610bad626f1c9da318d84178a8754fc0bfbt2', hash2='0xdfc3213f1e251fbd_0x02D00x02180x005F0x1.e000000000000p+353b7dba0eb7b317e55fc489ad4e6b6dd3e94b772d6970c8a86cf37dc0b69d6f4f'\u001B[0m\n",
      "\u001B[32m2024-06-05 22:40:44.719\u001B[0m | \u001B[34m\u001B[1mDEBUG   \u001B[0m | \u001B[36mrun_tracker_bytetrack\u001B[0m:\u001B[36m_should_do_tracking_based_on_hash\u001B[0m:\u001B[36m111\u001B[0m - \u001B[34m\u001B[1mrun_tracking=True, hash_hex='0xdfc3213f1e251fbd_0x02D00x02180x005F0x1.e000000000000p+3ab6d56fa00b30eba7d7fc260f984857610bad626f1c9da318d84178a8754fc0bfbt2'\u001B[0m\n",
      "2024-06-05 22:40:49,998 - mmtrack - INFO - initialize CSPDarknet with init_cfg {'type': 'Kaiming', 'layer': 'Conv2d', 'a': 2.23606797749979, 'distribution': 'uniform', 'mode': 'fan_in', 'nonlinearity': 'leaky_relu'}\n",
      "2024-06-05 22:40:50,282 - mmtrack - INFO - initialize YOLOXPAFPN with init_cfg {'type': 'Kaiming', 'layer': 'Conv2d', 'a': 2.23606797749979, 'distribution': 'uniform', 'mode': 'fan_in', 'nonlinearity': 'leaky_relu'}\n",
      "2024-06-05 22:40:50,435 - mmtrack - INFO - initialize YOLOXHead with init_cfg {'type': 'Kaiming', 'layer': 'Conv2d', 'a': 2.23606797749979, 'distribution': 'uniform', 'mode': 'fan_in', 'nonlinearity': 'leaky_relu'}\n"
     ]
    },
    {
     "name": "stdout",
     "output_type": "stream",
     "text": [
      "load checkpoint from local path: /webapps/piglegsurgery/piglegcv/resources/tracker_model_bytetrack/epoch.pth\n",
      "The model and loaded state dict do not match exactly\n",
      "\n",
      "unexpected key in source state_dict: ema_detector_backbone_stem_conv_conv_weight, ema_detector_backbone_stem_conv_bn_weight, ema_detector_backbone_stem_conv_bn_bias, ema_detector_backbone_stem_conv_bn_running_mean, ema_detector_backbone_stem_conv_bn_running_var, ema_detector_backbone_stem_conv_bn_num_batches_tracked, ema_detector_backbone_stage1_0_conv_weight, ema_detector_backbone_stage1_0_bn_weight, ema_detector_backbone_stage1_0_bn_bias, ema_detector_backbone_stage1_0_bn_running_mean, ema_detector_backbone_stage1_0_bn_running_var, ema_detector_backbone_stage1_0_bn_num_batches_tracked, ema_detector_backbone_stage1_1_main_conv_conv_weight, ema_detector_backbone_stage1_1_main_conv_bn_weight, ema_detector_backbone_stage1_1_main_conv_bn_bias, ema_detector_backbone_stage1_1_main_conv_bn_running_mean, ema_detector_backbone_stage1_1_main_conv_bn_running_var, ema_detector_backbone_stage1_1_main_conv_bn_num_batches_tracked, ema_detector_backbone_stage1_1_short_conv_conv_weight, ema_detector_backbone_stage1_1_short_conv_bn_weight, ema_detector_backbone_stage1_1_short_conv_bn_bias, ema_detector_backbone_stage1_1_short_conv_bn_running_mean, ema_detector_backbone_stage1_1_short_conv_bn_running_var, ema_detector_backbone_stage1_1_short_conv_bn_num_batches_tracked, ema_detector_backbone_stage1_1_final_conv_conv_weight, ema_detector_backbone_stage1_1_final_conv_bn_weight, ema_detector_backbone_stage1_1_final_conv_bn_bias, ema_detector_backbone_stage1_1_final_conv_bn_running_mean, ema_detector_backbone_stage1_1_final_conv_bn_running_var, ema_detector_backbone_stage1_1_final_conv_bn_num_batches_tracked, ema_detector_backbone_stage1_1_blocks_0_conv1_conv_weight, ema_detector_backbone_stage1_1_blocks_0_conv1_bn_weight, ema_detector_backbone_stage1_1_blocks_0_conv1_bn_bias, ema_detector_backbone_stage1_1_blocks_0_conv1_bn_running_mean, ema_detector_backbone_stage1_1_blocks_0_conv1_bn_running_var, ema_detector_backbone_stage1_1_blocks_0_conv1_bn_num_batches_tracked, ema_detector_backbone_stage1_1_blocks_0_conv2_conv_weight, ema_detector_backbone_stage1_1_blocks_0_conv2_bn_weight, ema_detector_backbone_stage1_1_blocks_0_conv2_bn_bias, ema_detector_backbone_stage1_1_blocks_0_conv2_bn_running_mean, ema_detector_backbone_stage1_1_blocks_0_conv2_bn_running_var, ema_detector_backbone_stage1_1_blocks_0_conv2_bn_num_batches_tracked, ema_detector_backbone_stage1_1_blocks_1_conv1_conv_weight, ema_detector_backbone_stage1_1_blocks_1_conv1_bn_weight, ema_detector_backbone_stage1_1_blocks_1_conv1_bn_bias, ema_detector_backbone_stage1_1_blocks_1_conv1_bn_running_mean, ema_detector_backbone_stage1_1_blocks_1_conv1_bn_running_var, ema_detector_backbone_stage1_1_blocks_1_conv1_bn_num_batches_tracked, ema_detector_backbone_stage1_1_blocks_1_conv2_conv_weight, ema_detector_backbone_stage1_1_blocks_1_conv2_bn_weight, ema_detector_backbone_stage1_1_blocks_1_conv2_bn_bias, ema_detector_backbone_stage1_1_blocks_1_conv2_bn_running_mean, ema_detector_backbone_stage1_1_blocks_1_conv2_bn_running_var, ema_detector_backbone_stage1_1_blocks_1_conv2_bn_num_batches_tracked, ema_detector_backbone_stage1_1_blocks_2_conv1_conv_weight, ema_detector_backbone_stage1_1_blocks_2_conv1_bn_weight, ema_detector_backbone_stage1_1_blocks_2_conv1_bn_bias, ema_detector_backbone_stage1_1_blocks_2_conv1_bn_running_mean, ema_detector_backbone_stage1_1_blocks_2_conv1_bn_running_var, ema_detector_backbone_stage1_1_blocks_2_conv1_bn_num_batches_tracked, ema_detector_backbone_stage1_1_blocks_2_conv2_conv_weight, ema_detector_backbone_stage1_1_blocks_2_conv2_bn_weight, ema_detector_backbone_stage1_1_blocks_2_conv2_bn_bias, ema_detector_backbone_stage1_1_blocks_2_conv2_bn_running_mean, ema_detector_backbone_stage1_1_blocks_2_conv2_bn_running_var, ema_detector_backbone_stage1_1_blocks_2_conv2_bn_num_batches_tracked, ema_detector_backbone_stage2_0_conv_weight, ema_detector_backbone_stage2_0_bn_weight, ema_detector_backbone_stage2_0_bn_bias, ema_detector_backbone_stage2_0_bn_running_mean, ema_detector_backbone_stage2_0_bn_running_var, ema_detector_backbone_stage2_0_bn_num_batches_tracked, ema_detector_backbone_stage2_1_main_conv_conv_weight, ema_detector_backbone_stage2_1_main_conv_bn_weight, ema_detector_backbone_stage2_1_main_conv_bn_bias, ema_detector_backbone_stage2_1_main_conv_bn_running_mean, ema_detector_backbone_stage2_1_main_conv_bn_running_var, ema_detector_backbone_stage2_1_main_conv_bn_num_batches_tracked, ema_detector_backbone_stage2_1_short_conv_conv_weight, ema_detector_backbone_stage2_1_short_conv_bn_weight, ema_detector_backbone_stage2_1_short_conv_bn_bias, ema_detector_backbone_stage2_1_short_conv_bn_running_mean, ema_detector_backbone_stage2_1_short_conv_bn_running_var, ema_detector_backbone_stage2_1_short_conv_bn_num_batches_tracked, ema_detector_backbone_stage2_1_final_conv_conv_weight, ema_detector_backbone_stage2_1_final_conv_bn_weight, ema_detector_backbone_stage2_1_final_conv_bn_bias, ema_detector_backbone_stage2_1_final_conv_bn_running_mean, ema_detector_backbone_stage2_1_final_conv_bn_running_var, ema_detector_backbone_stage2_1_final_conv_bn_num_batches_tracked, ema_detector_backbone_stage2_1_blocks_0_conv1_conv_weight, ema_detector_backbone_stage2_1_blocks_0_conv1_bn_weight, ema_detector_backbone_stage2_1_blocks_0_conv1_bn_bias, ema_detector_backbone_stage2_1_blocks_0_conv1_bn_running_mean, ema_detector_backbone_stage2_1_blocks_0_conv1_bn_running_var, ema_detector_backbone_stage2_1_blocks_0_conv1_bn_num_batches_tracked, ema_detector_backbone_stage2_1_blocks_0_conv2_conv_weight, ema_detector_backbone_stage2_1_blocks_0_conv2_bn_weight, ema_detector_backbone_stage2_1_blocks_0_conv2_bn_bias, ema_detector_backbone_stage2_1_blocks_0_conv2_bn_running_mean, ema_detector_backbone_stage2_1_blocks_0_conv2_bn_running_var, ema_detector_backbone_stage2_1_blocks_0_conv2_bn_num_batches_tracked, ema_detector_backbone_stage2_1_blocks_1_conv1_conv_weight, ema_detector_backbone_stage2_1_blocks_1_conv1_bn_weight, ema_detector_backbone_stage2_1_blocks_1_conv1_bn_bias, ema_detector_backbone_stage2_1_blocks_1_conv1_bn_running_mean, ema_detector_backbone_stage2_1_blocks_1_conv1_bn_running_var, ema_detector_backbone_stage2_1_blocks_1_conv1_bn_num_batches_tracked, ema_detector_backbone_stage2_1_blocks_1_conv2_conv_weight, ema_detector_backbone_stage2_1_blocks_1_conv2_bn_weight, ema_detector_backbone_stage2_1_blocks_1_conv2_bn_bias, ema_detector_backbone_stage2_1_blocks_1_conv2_bn_running_mean, ema_detector_backbone_stage2_1_blocks_1_conv2_bn_running_var, ema_detector_backbone_stage2_1_blocks_1_conv2_bn_num_batches_tracked, ema_detector_backbone_stage2_1_blocks_2_conv1_conv_weight, ema_detector_backbone_stage2_1_blocks_2_conv1_bn_weight, ema_detector_backbone_stage2_1_blocks_2_conv1_bn_bias, ema_detector_backbone_stage2_1_blocks_2_conv1_bn_running_mean, ema_detector_backbone_stage2_1_blocks_2_conv1_bn_running_var, ema_detector_backbone_stage2_1_blocks_2_conv1_bn_num_batches_tracked, ema_detector_backbone_stage2_1_blocks_2_conv2_conv_weight, ema_detector_backbone_stage2_1_blocks_2_conv2_bn_weight, ema_detector_backbone_stage2_1_blocks_2_conv2_bn_bias, ema_detector_backbone_stage2_1_blocks_2_conv2_bn_running_mean, ema_detector_backbone_stage2_1_blocks_2_conv2_bn_running_var, ema_detector_backbone_stage2_1_blocks_2_conv2_bn_num_batches_tracked, ema_detector_backbone_stage2_1_blocks_3_conv1_conv_weight, ema_detector_backbone_stage2_1_blocks_3_conv1_bn_weight, ema_detector_backbone_stage2_1_blocks_3_conv1_bn_bias, ema_detector_backbone_stage2_1_blocks_3_conv1_bn_running_mean, ema_detector_backbone_stage2_1_blocks_3_conv1_bn_running_var, ema_detector_backbone_stage2_1_blocks_3_conv1_bn_num_batches_tracked, ema_detector_backbone_stage2_1_blocks_3_conv2_conv_weight, ema_detector_backbone_stage2_1_blocks_3_conv2_bn_weight, ema_detector_backbone_stage2_1_blocks_3_conv2_bn_bias, ema_detector_backbone_stage2_1_blocks_3_conv2_bn_running_mean, ema_detector_backbone_stage2_1_blocks_3_conv2_bn_running_var, ema_detector_backbone_stage2_1_blocks_3_conv2_bn_num_batches_tracked, ema_detector_backbone_stage2_1_blocks_4_conv1_conv_weight, ema_detector_backbone_stage2_1_blocks_4_conv1_bn_weight, ema_detector_backbone_stage2_1_blocks_4_conv1_bn_bias, ema_detector_backbone_stage2_1_blocks_4_conv1_bn_running_mean, ema_detector_backbone_stage2_1_blocks_4_conv1_bn_running_var, ema_detector_backbone_stage2_1_blocks_4_conv1_bn_num_batches_tracked, ema_detector_backbone_stage2_1_blocks_4_conv2_conv_weight, ema_detector_backbone_stage2_1_blocks_4_conv2_bn_weight, ema_detector_backbone_stage2_1_blocks_4_conv2_bn_bias, ema_detector_backbone_stage2_1_blocks_4_conv2_bn_running_mean, ema_detector_backbone_stage2_1_blocks_4_conv2_bn_running_var, ema_detector_backbone_stage2_1_blocks_4_conv2_bn_num_batches_tracked, ema_detector_backbone_stage2_1_blocks_5_conv1_conv_weight, ema_detector_backbone_stage2_1_blocks_5_conv1_bn_weight, ema_detector_backbone_stage2_1_blocks_5_conv1_bn_bias, ema_detector_backbone_stage2_1_blocks_5_conv1_bn_running_mean, ema_detector_backbone_stage2_1_blocks_5_conv1_bn_running_var, ema_detector_backbone_stage2_1_blocks_5_conv1_bn_num_batches_tracked, ema_detector_backbone_stage2_1_blocks_5_conv2_conv_weight, ema_detector_backbone_stage2_1_blocks_5_conv2_bn_weight, ema_detector_backbone_stage2_1_blocks_5_conv2_bn_bias, ema_detector_backbone_stage2_1_blocks_5_conv2_bn_running_mean, ema_detector_backbone_stage2_1_blocks_5_conv2_bn_running_var, ema_detector_backbone_stage2_1_blocks_5_conv2_bn_num_batches_tracked, ema_detector_backbone_stage2_1_blocks_6_conv1_conv_weight, ema_detector_backbone_stage2_1_blocks_6_conv1_bn_weight, ema_detector_backbone_stage2_1_blocks_6_conv1_bn_bias, ema_detector_backbone_stage2_1_blocks_6_conv1_bn_running_mean, ema_detector_backbone_stage2_1_blocks_6_conv1_bn_running_var, ema_detector_backbone_stage2_1_blocks_6_conv1_bn_num_batches_tracked, ema_detector_backbone_stage2_1_blocks_6_conv2_conv_weight, ema_detector_backbone_stage2_1_blocks_6_conv2_bn_weight, ema_detector_backbone_stage2_1_blocks_6_conv2_bn_bias, ema_detector_backbone_stage2_1_blocks_6_conv2_bn_running_mean, ema_detector_backbone_stage2_1_blocks_6_conv2_bn_running_var, ema_detector_backbone_stage2_1_blocks_6_conv2_bn_num_batches_tracked, ema_detector_backbone_stage2_1_blocks_7_conv1_conv_weight, ema_detector_backbone_stage2_1_blocks_7_conv1_bn_weight, ema_detector_backbone_stage2_1_blocks_7_conv1_bn_bias, ema_detector_backbone_stage2_1_blocks_7_conv1_bn_running_mean, ema_detector_backbone_stage2_1_blocks_7_conv1_bn_running_var, ema_detector_backbone_stage2_1_blocks_7_conv1_bn_num_batches_tracked, ema_detector_backbone_stage2_1_blocks_7_conv2_conv_weight, ema_detector_backbone_stage2_1_blocks_7_conv2_bn_weight, ema_detector_backbone_stage2_1_blocks_7_conv2_bn_bias, ema_detector_backbone_stage2_1_blocks_7_conv2_bn_running_mean, ema_detector_backbone_stage2_1_blocks_7_conv2_bn_running_var, ema_detector_backbone_stage2_1_blocks_7_conv2_bn_num_batches_tracked, ema_detector_backbone_stage2_1_blocks_8_conv1_conv_weight, ema_detector_backbone_stage2_1_blocks_8_conv1_bn_weight, ema_detector_backbone_stage2_1_blocks_8_conv1_bn_bias, ema_detector_backbone_stage2_1_blocks_8_conv1_bn_running_mean, ema_detector_backbone_stage2_1_blocks_8_conv1_bn_running_var, ema_detector_backbone_stage2_1_blocks_8_conv1_bn_num_batches_tracked, ema_detector_backbone_stage2_1_blocks_8_conv2_conv_weight, ema_detector_backbone_stage2_1_blocks_8_conv2_bn_weight, ema_detector_backbone_stage2_1_blocks_8_conv2_bn_bias, ema_detector_backbone_stage2_1_blocks_8_conv2_bn_running_mean, ema_detector_backbone_stage2_1_blocks_8_conv2_bn_running_var, ema_detector_backbone_stage2_1_blocks_8_conv2_bn_num_batches_tracked, ema_detector_backbone_stage3_0_conv_weight, ema_detector_backbone_stage3_0_bn_weight, ema_detector_backbone_stage3_0_bn_bias, ema_detector_backbone_stage3_0_bn_running_mean, ema_detector_backbone_stage3_0_bn_running_var, ema_detector_backbone_stage3_0_bn_num_batches_tracked, ema_detector_backbone_stage3_1_main_conv_conv_weight, ema_detector_backbone_stage3_1_main_conv_bn_weight, ema_detector_backbone_stage3_1_main_conv_bn_bias, ema_detector_backbone_stage3_1_main_conv_bn_running_mean, ema_detector_backbone_stage3_1_main_conv_bn_running_var, ema_detector_backbone_stage3_1_main_conv_bn_num_batches_tracked, ema_detector_backbone_stage3_1_short_conv_conv_weight, ema_detector_backbone_stage3_1_short_conv_bn_weight, ema_detector_backbone_stage3_1_short_conv_bn_bias, ema_detector_backbone_stage3_1_short_conv_bn_running_mean, ema_detector_backbone_stage3_1_short_conv_bn_running_var, ema_detector_backbone_stage3_1_short_conv_bn_num_batches_tracked, ema_detector_backbone_stage3_1_final_conv_conv_weight, ema_detector_backbone_stage3_1_final_conv_bn_weight, ema_detector_backbone_stage3_1_final_conv_bn_bias, ema_detector_backbone_stage3_1_final_conv_bn_running_mean, ema_detector_backbone_stage3_1_final_conv_bn_running_var, ema_detector_backbone_stage3_1_final_conv_bn_num_batches_tracked, ema_detector_backbone_stage3_1_blocks_0_conv1_conv_weight, ema_detector_backbone_stage3_1_blocks_0_conv1_bn_weight, ema_detector_backbone_stage3_1_blocks_0_conv1_bn_bias, ema_detector_backbone_stage3_1_blocks_0_conv1_bn_running_mean, ema_detector_backbone_stage3_1_blocks_0_conv1_bn_running_var, ema_detector_backbone_stage3_1_blocks_0_conv1_bn_num_batches_tracked, ema_detector_backbone_stage3_1_blocks_0_conv2_conv_weight, ema_detector_backbone_stage3_1_blocks_0_conv2_bn_weight, ema_detector_backbone_stage3_1_blocks_0_conv2_bn_bias, ema_detector_backbone_stage3_1_blocks_0_conv2_bn_running_mean, ema_detector_backbone_stage3_1_blocks_0_conv2_bn_running_var, ema_detector_backbone_stage3_1_blocks_0_conv2_bn_num_batches_tracked, ema_detector_backbone_stage3_1_blocks_1_conv1_conv_weight, ema_detector_backbone_stage3_1_blocks_1_conv1_bn_weight, ema_detector_backbone_stage3_1_blocks_1_conv1_bn_bias, ema_detector_backbone_stage3_1_blocks_1_conv1_bn_running_mean, ema_detector_backbone_stage3_1_blocks_1_conv1_bn_running_var, ema_detector_backbone_stage3_1_blocks_1_conv1_bn_num_batches_tracked, ema_detector_backbone_stage3_1_blocks_1_conv2_conv_weight, ema_detector_backbone_stage3_1_blocks_1_conv2_bn_weight, ema_detector_backbone_stage3_1_blocks_1_conv2_bn_bias, ema_detector_backbone_stage3_1_blocks_1_conv2_bn_running_mean, ema_detector_backbone_stage3_1_blocks_1_conv2_bn_running_var, ema_detector_backbone_stage3_1_blocks_1_conv2_bn_num_batches_tracked, ema_detector_backbone_stage3_1_blocks_2_conv1_conv_weight, ema_detector_backbone_stage3_1_blocks_2_conv1_bn_weight, ema_detector_backbone_stage3_1_blocks_2_conv1_bn_bias, ema_detector_backbone_stage3_1_blocks_2_conv1_bn_running_mean, ema_detector_backbone_stage3_1_blocks_2_conv1_bn_running_var, ema_detector_backbone_stage3_1_blocks_2_conv1_bn_num_batches_tracked, ema_detector_backbone_stage3_1_blocks_2_conv2_conv_weight, ema_detector_backbone_stage3_1_blocks_2_conv2_bn_weight, ema_detector_backbone_stage3_1_blocks_2_conv2_bn_bias, ema_detector_backbone_stage3_1_blocks_2_conv2_bn_running_mean, ema_detector_backbone_stage3_1_blocks_2_conv2_bn_running_var, ema_detector_backbone_stage3_1_blocks_2_conv2_bn_num_batches_tracked, ema_detector_backbone_stage3_1_blocks_3_conv1_conv_weight, ema_detector_backbone_stage3_1_blocks_3_conv1_bn_weight, ema_detector_backbone_stage3_1_blocks_3_conv1_bn_bias, ema_detector_backbone_stage3_1_blocks_3_conv1_bn_running_mean, ema_detector_backbone_stage3_1_blocks_3_conv1_bn_running_var, ema_detector_backbone_stage3_1_blocks_3_conv1_bn_num_batches_tracked, ema_detector_backbone_stage3_1_blocks_3_conv2_conv_weight, ema_detector_backbone_stage3_1_blocks_3_conv2_bn_weight, ema_detector_backbone_stage3_1_blocks_3_conv2_bn_bias, ema_detector_backbone_stage3_1_blocks_3_conv2_bn_running_mean, ema_detector_backbone_stage3_1_blocks_3_conv2_bn_running_var, ema_detector_backbone_stage3_1_blocks_3_conv2_bn_num_batches_tracked, ema_detector_backbone_stage3_1_blocks_4_conv1_conv_weight, ema_detector_backbone_stage3_1_blocks_4_conv1_bn_weight, ema_detector_backbone_stage3_1_blocks_4_conv1_bn_bias, ema_detector_backbone_stage3_1_blocks_4_conv1_bn_running_mean, ema_detector_backbone_stage3_1_blocks_4_conv1_bn_running_var, ema_detector_backbone_stage3_1_blocks_4_conv1_bn_num_batches_tracked, ema_detector_backbone_stage3_1_blocks_4_conv2_conv_weight, ema_detector_backbone_stage3_1_blocks_4_conv2_bn_weight, ema_detector_backbone_stage3_1_blocks_4_conv2_bn_bias, ema_detector_backbone_stage3_1_blocks_4_conv2_bn_running_mean, ema_detector_backbone_stage3_1_blocks_4_conv2_bn_running_var, ema_detector_backbone_stage3_1_blocks_4_conv2_bn_num_batches_tracked, ema_detector_backbone_stage3_1_blocks_5_conv1_conv_weight, ema_detector_backbone_stage3_1_blocks_5_conv1_bn_weight, ema_detector_backbone_stage3_1_blocks_5_conv1_bn_bias, ema_detector_backbone_stage3_1_blocks_5_conv1_bn_running_mean, ema_detector_backbone_stage3_1_blocks_5_conv1_bn_running_var, ema_detector_backbone_stage3_1_blocks_5_conv1_bn_num_batches_tracked, ema_detector_backbone_stage3_1_blocks_5_conv2_conv_weight, ema_detector_backbone_stage3_1_blocks_5_conv2_bn_weight, ema_detector_backbone_stage3_1_blocks_5_conv2_bn_bias, ema_detector_backbone_stage3_1_blocks_5_conv2_bn_running_mean, ema_detector_backbone_stage3_1_blocks_5_conv2_bn_running_var, ema_detector_backbone_stage3_1_blocks_5_conv2_bn_num_batches_tracked, ema_detector_backbone_stage3_1_blocks_6_conv1_conv_weight, ema_detector_backbone_stage3_1_blocks_6_conv1_bn_weight, ema_detector_backbone_stage3_1_blocks_6_conv1_bn_bias, ema_detector_backbone_stage3_1_blocks_6_conv1_bn_running_mean, ema_detector_backbone_stage3_1_blocks_6_conv1_bn_running_var, ema_detector_backbone_stage3_1_blocks_6_conv1_bn_num_batches_tracked, ema_detector_backbone_stage3_1_blocks_6_conv2_conv_weight, ema_detector_backbone_stage3_1_blocks_6_conv2_bn_weight, ema_detector_backbone_stage3_1_blocks_6_conv2_bn_bias, ema_detector_backbone_stage3_1_blocks_6_conv2_bn_running_mean, ema_detector_backbone_stage3_1_blocks_6_conv2_bn_running_var, ema_detector_backbone_stage3_1_blocks_6_conv2_bn_num_batches_tracked, ema_detector_backbone_stage3_1_blocks_7_conv1_conv_weight, ema_detector_backbone_stage3_1_blocks_7_conv1_bn_weight, ema_detector_backbone_stage3_1_blocks_7_conv1_bn_bias, ema_detector_backbone_stage3_1_blocks_7_conv1_bn_running_mean, ema_detector_backbone_stage3_1_blocks_7_conv1_bn_running_var, ema_detector_backbone_stage3_1_blocks_7_conv1_bn_num_batches_tracked, ema_detector_backbone_stage3_1_blocks_7_conv2_conv_weight, ema_detector_backbone_stage3_1_blocks_7_conv2_bn_weight, ema_detector_backbone_stage3_1_blocks_7_conv2_bn_bias, ema_detector_backbone_stage3_1_blocks_7_conv2_bn_running_mean, ema_detector_backbone_stage3_1_blocks_7_conv2_bn_running_var, ema_detector_backbone_stage3_1_blocks_7_conv2_bn_num_batches_tracked, ema_detector_backbone_stage3_1_blocks_8_conv1_conv_weight, ema_detector_backbone_stage3_1_blocks_8_conv1_bn_weight, ema_detector_backbone_stage3_1_blocks_8_conv1_bn_bias, ema_detector_backbone_stage3_1_blocks_8_conv1_bn_running_mean, ema_detector_backbone_stage3_1_blocks_8_conv1_bn_running_var, ema_detector_backbone_stage3_1_blocks_8_conv1_bn_num_batches_tracked, ema_detector_backbone_stage3_1_blocks_8_conv2_conv_weight, ema_detector_backbone_stage3_1_blocks_8_conv2_bn_weight, ema_detector_backbone_stage3_1_blocks_8_conv2_bn_bias, ema_detector_backbone_stage3_1_blocks_8_conv2_bn_running_mean, ema_detector_backbone_stage3_1_blocks_8_conv2_bn_running_var, ema_detector_backbone_stage3_1_blocks_8_conv2_bn_num_batches_tracked, ema_detector_backbone_stage4_0_conv_weight, ema_detector_backbone_stage4_0_bn_weight, ema_detector_backbone_stage4_0_bn_bias, ema_detector_backbone_stage4_0_bn_running_mean, ema_detector_backbone_stage4_0_bn_running_var, ema_detector_backbone_stage4_0_bn_num_batches_tracked, ema_detector_backbone_stage4_1_conv1_conv_weight, ema_detector_backbone_stage4_1_conv1_bn_weight, ema_detector_backbone_stage4_1_conv1_bn_bias, ema_detector_backbone_stage4_1_conv1_bn_running_mean, ema_detector_backbone_stage4_1_conv1_bn_running_var, ema_detector_backbone_stage4_1_conv1_bn_num_batches_tracked, ema_detector_backbone_stage4_1_conv2_conv_weight, ema_detector_backbone_stage4_1_conv2_bn_weight, ema_detector_backbone_stage4_1_conv2_bn_bias, ema_detector_backbone_stage4_1_conv2_bn_running_mean, ema_detector_backbone_stage4_1_conv2_bn_running_var, ema_detector_backbone_stage4_1_conv2_bn_num_batches_tracked, ema_detector_backbone_stage4_2_main_conv_conv_weight, ema_detector_backbone_stage4_2_main_conv_bn_weight, ema_detector_backbone_stage4_2_main_conv_bn_bias, ema_detector_backbone_stage4_2_main_conv_bn_running_mean, ema_detector_backbone_stage4_2_main_conv_bn_running_var, ema_detector_backbone_stage4_2_main_conv_bn_num_batches_tracked, ema_detector_backbone_stage4_2_short_conv_conv_weight, ema_detector_backbone_stage4_2_short_conv_bn_weight, ema_detector_backbone_stage4_2_short_conv_bn_bias, ema_detector_backbone_stage4_2_short_conv_bn_running_mean, ema_detector_backbone_stage4_2_short_conv_bn_running_var, ema_detector_backbone_stage4_2_short_conv_bn_num_batches_tracked, ema_detector_backbone_stage4_2_final_conv_conv_weight, ema_detector_backbone_stage4_2_final_conv_bn_weight, ema_detector_backbone_stage4_2_final_conv_bn_bias, ema_detector_backbone_stage4_2_final_conv_bn_running_mean, ema_detector_backbone_stage4_2_final_conv_bn_running_var, ema_detector_backbone_stage4_2_final_conv_bn_num_batches_tracked, ema_detector_backbone_stage4_2_blocks_0_conv1_conv_weight, ema_detector_backbone_stage4_2_blocks_0_conv1_bn_weight, ema_detector_backbone_stage4_2_blocks_0_conv1_bn_bias, ema_detector_backbone_stage4_2_blocks_0_conv1_bn_running_mean, ema_detector_backbone_stage4_2_blocks_0_conv1_bn_running_var, ema_detector_backbone_stage4_2_blocks_0_conv1_bn_num_batches_tracked, ema_detector_backbone_stage4_2_blocks_0_conv2_conv_weight, ema_detector_backbone_stage4_2_blocks_0_conv2_bn_weight, ema_detector_backbone_stage4_2_blocks_0_conv2_bn_bias, ema_detector_backbone_stage4_2_blocks_0_conv2_bn_running_mean, ema_detector_backbone_stage4_2_blocks_0_conv2_bn_running_var, ema_detector_backbone_stage4_2_blocks_0_conv2_bn_num_batches_tracked, ema_detector_backbone_stage4_2_blocks_1_conv1_conv_weight, ema_detector_backbone_stage4_2_blocks_1_conv1_bn_weight, ema_detector_backbone_stage4_2_blocks_1_conv1_bn_bias, ema_detector_backbone_stage4_2_blocks_1_conv1_bn_running_mean, ema_detector_backbone_stage4_2_blocks_1_conv1_bn_running_var, ema_detector_backbone_stage4_2_blocks_1_conv1_bn_num_batches_tracked, ema_detector_backbone_stage4_2_blocks_1_conv2_conv_weight, ema_detector_backbone_stage4_2_blocks_1_conv2_bn_weight, ema_detector_backbone_stage4_2_blocks_1_conv2_bn_bias, ema_detector_backbone_stage4_2_blocks_1_conv2_bn_running_mean, ema_detector_backbone_stage4_2_blocks_1_conv2_bn_running_var, ema_detector_backbone_stage4_2_blocks_1_conv2_bn_num_batches_tracked, ema_detector_backbone_stage4_2_blocks_2_conv1_conv_weight, ema_detector_backbone_stage4_2_blocks_2_conv1_bn_weight, ema_detector_backbone_stage4_2_blocks_2_conv1_bn_bias, ema_detector_backbone_stage4_2_blocks_2_conv1_bn_running_mean, ema_detector_backbone_stage4_2_blocks_2_conv1_bn_running_var, ema_detector_backbone_stage4_2_blocks_2_conv1_bn_num_batches_tracked, ema_detector_backbone_stage4_2_blocks_2_conv2_conv_weight, ema_detector_backbone_stage4_2_blocks_2_conv2_bn_weight, ema_detector_backbone_stage4_2_blocks_2_conv2_bn_bias, ema_detector_backbone_stage4_2_blocks_2_conv2_bn_running_mean, ema_detector_backbone_stage4_2_blocks_2_conv2_bn_running_var, ema_detector_backbone_stage4_2_blocks_2_conv2_bn_num_batches_tracked, ema_detector_neck_reduce_layers_0_conv_weight, ema_detector_neck_reduce_layers_0_bn_weight, ema_detector_neck_reduce_layers_0_bn_bias, ema_detector_neck_reduce_layers_0_bn_running_mean, ema_detector_neck_reduce_layers_0_bn_running_var, ema_detector_neck_reduce_layers_0_bn_num_batches_tracked, ema_detector_neck_reduce_layers_1_conv_weight, ema_detector_neck_reduce_layers_1_bn_weight, ema_detector_neck_reduce_layers_1_bn_bias, ema_detector_neck_reduce_layers_1_bn_running_mean, ema_detector_neck_reduce_layers_1_bn_running_var, ema_detector_neck_reduce_layers_1_bn_num_batches_tracked, ema_detector_neck_top_down_blocks_0_main_conv_conv_weight, ema_detector_neck_top_down_blocks_0_main_conv_bn_weight, ema_detector_neck_top_down_blocks_0_main_conv_bn_bias, ema_detector_neck_top_down_blocks_0_main_conv_bn_running_mean, ema_detector_neck_top_down_blocks_0_main_conv_bn_running_var, ema_detector_neck_top_down_blocks_0_main_conv_bn_num_batches_tracked, ema_detector_neck_top_down_blocks_0_short_conv_conv_weight, ema_detector_neck_top_down_blocks_0_short_conv_bn_weight, ema_detector_neck_top_down_blocks_0_short_conv_bn_bias, ema_detector_neck_top_down_blocks_0_short_conv_bn_running_mean, ema_detector_neck_top_down_blocks_0_short_conv_bn_running_var, ema_detector_neck_top_down_blocks_0_short_conv_bn_num_batches_tracked, ema_detector_neck_top_down_blocks_0_final_conv_conv_weight, ema_detector_neck_top_down_blocks_0_final_conv_bn_weight, ema_detector_neck_top_down_blocks_0_final_conv_bn_bias, ema_detector_neck_top_down_blocks_0_final_conv_bn_running_mean, ema_detector_neck_top_down_blocks_0_final_conv_bn_running_var, ema_detector_neck_top_down_blocks_0_final_conv_bn_num_batches_tracked, ema_detector_neck_top_down_blocks_0_blocks_0_conv1_conv_weight, ema_detector_neck_top_down_blocks_0_blocks_0_conv1_bn_weight, ema_detector_neck_top_down_blocks_0_blocks_0_conv1_bn_bias, ema_detector_neck_top_down_blocks_0_blocks_0_conv1_bn_running_mean, ema_detector_neck_top_down_blocks_0_blocks_0_conv1_bn_running_var, ema_detector_neck_top_down_blocks_0_blocks_0_conv1_bn_num_batches_tracked, ema_detector_neck_top_down_blocks_0_blocks_0_conv2_conv_weight, ema_detector_neck_top_down_blocks_0_blocks_0_conv2_bn_weight, ema_detector_neck_top_down_blocks_0_blocks_0_conv2_bn_bias, ema_detector_neck_top_down_blocks_0_blocks_0_conv2_bn_running_mean, ema_detector_neck_top_down_blocks_0_blocks_0_conv2_bn_running_var, ema_detector_neck_top_down_blocks_0_blocks_0_conv2_bn_num_batches_tracked, ema_detector_neck_top_down_blocks_0_blocks_1_conv1_conv_weight, ema_detector_neck_top_down_blocks_0_blocks_1_conv1_bn_weight, ema_detector_neck_top_down_blocks_0_blocks_1_conv1_bn_bias, ema_detector_neck_top_down_blocks_0_blocks_1_conv1_bn_running_mean, ema_detector_neck_top_down_blocks_0_blocks_1_conv1_bn_running_var, ema_detector_neck_top_down_blocks_0_blocks_1_conv1_bn_num_batches_tracked, ema_detector_neck_top_down_blocks_0_blocks_1_conv2_conv_weight, ema_detector_neck_top_down_blocks_0_blocks_1_conv2_bn_weight, ema_detector_neck_top_down_blocks_0_blocks_1_conv2_bn_bias, ema_detector_neck_top_down_blocks_0_blocks_1_conv2_bn_running_mean, ema_detector_neck_top_down_blocks_0_blocks_1_conv2_bn_running_var, ema_detector_neck_top_down_blocks_0_blocks_1_conv2_bn_num_batches_tracked, ema_detector_neck_top_down_blocks_0_blocks_2_conv1_conv_weight, ema_detector_neck_top_down_blocks_0_blocks_2_conv1_bn_weight, ema_detector_neck_top_down_blocks_0_blocks_2_conv1_bn_bias, ema_detector_neck_top_down_blocks_0_blocks_2_conv1_bn_running_mean, ema_detector_neck_top_down_blocks_0_blocks_2_conv1_bn_running_var, ema_detector_neck_top_down_blocks_0_blocks_2_conv1_bn_num_batches_tracked, ema_detector_neck_top_down_blocks_0_blocks_2_conv2_conv_weight, ema_detector_neck_top_down_blocks_0_blocks_2_conv2_bn_weight, ema_detector_neck_top_down_blocks_0_blocks_2_conv2_bn_bias, ema_detector_neck_top_down_blocks_0_blocks_2_conv2_bn_running_mean, ema_detector_neck_top_down_blocks_0_blocks_2_conv2_bn_running_var, ema_detector_neck_top_down_blocks_0_blocks_2_conv2_bn_num_batches_tracked, ema_detector_neck_top_down_blocks_1_main_conv_conv_weight, ema_detector_neck_top_down_blocks_1_main_conv_bn_weight, ema_detector_neck_top_down_blocks_1_main_conv_bn_bias, ema_detector_neck_top_down_blocks_1_main_conv_bn_running_mean, ema_detector_neck_top_down_blocks_1_main_conv_bn_running_var, ema_detector_neck_top_down_blocks_1_main_conv_bn_num_batches_tracked, ema_detector_neck_top_down_blocks_1_short_conv_conv_weight, ema_detector_neck_top_down_blocks_1_short_conv_bn_weight, ema_detector_neck_top_down_blocks_1_short_conv_bn_bias, ema_detector_neck_top_down_blocks_1_short_conv_bn_running_mean, ema_detector_neck_top_down_blocks_1_short_conv_bn_running_var, ema_detector_neck_top_down_blocks_1_short_conv_bn_num_batches_tracked, ema_detector_neck_top_down_blocks_1_final_conv_conv_weight, ema_detector_neck_top_down_blocks_1_final_conv_bn_weight, ema_detector_neck_top_down_blocks_1_final_conv_bn_bias, ema_detector_neck_top_down_blocks_1_final_conv_bn_running_mean, ema_detector_neck_top_down_blocks_1_final_conv_bn_running_var, ema_detector_neck_top_down_blocks_1_final_conv_bn_num_batches_tracked, ema_detector_neck_top_down_blocks_1_blocks_0_conv1_conv_weight, ema_detector_neck_top_down_blocks_1_blocks_0_conv1_bn_weight, ema_detector_neck_top_down_blocks_1_blocks_0_conv1_bn_bias, ema_detector_neck_top_down_blocks_1_blocks_0_conv1_bn_running_mean, ema_detector_neck_top_down_blocks_1_blocks_0_conv1_bn_running_var, ema_detector_neck_top_down_blocks_1_blocks_0_conv1_bn_num_batches_tracked, ema_detector_neck_top_down_blocks_1_blocks_0_conv2_conv_weight, ema_detector_neck_top_down_blocks_1_blocks_0_conv2_bn_weight, ema_detector_neck_top_down_blocks_1_blocks_0_conv2_bn_bias, ema_detector_neck_top_down_blocks_1_blocks_0_conv2_bn_running_mean, ema_detector_neck_top_down_blocks_1_blocks_0_conv2_bn_running_var, ema_detector_neck_top_down_blocks_1_blocks_0_conv2_bn_num_batches_tracked, ema_detector_neck_top_down_blocks_1_blocks_1_conv1_conv_weight, ema_detector_neck_top_down_blocks_1_blocks_1_conv1_bn_weight, ema_detector_neck_top_down_blocks_1_blocks_1_conv1_bn_bias, ema_detector_neck_top_down_blocks_1_blocks_1_conv1_bn_running_mean, ema_detector_neck_top_down_blocks_1_blocks_1_conv1_bn_running_var, ema_detector_neck_top_down_blocks_1_blocks_1_conv1_bn_num_batches_tracked, ema_detector_neck_top_down_blocks_1_blocks_1_conv2_conv_weight, ema_detector_neck_top_down_blocks_1_blocks_1_conv2_bn_weight, ema_detector_neck_top_down_blocks_1_blocks_1_conv2_bn_bias, ema_detector_neck_top_down_blocks_1_blocks_1_conv2_bn_running_mean, ema_detector_neck_top_down_blocks_1_blocks_1_conv2_bn_running_var, ema_detector_neck_top_down_blocks_1_blocks_1_conv2_bn_num_batches_tracked, ema_detector_neck_top_down_blocks_1_blocks_2_conv1_conv_weight, ema_detector_neck_top_down_blocks_1_blocks_2_conv1_bn_weight, ema_detector_neck_top_down_blocks_1_blocks_2_conv1_bn_bias, ema_detector_neck_top_down_blocks_1_blocks_2_conv1_bn_running_mean, ema_detector_neck_top_down_blocks_1_blocks_2_conv1_bn_running_var, ema_detector_neck_top_down_blocks_1_blocks_2_conv1_bn_num_batches_tracked, ema_detector_neck_top_down_blocks_1_blocks_2_conv2_conv_weight, ema_detector_neck_top_down_blocks_1_blocks_2_conv2_bn_weight, ema_detector_neck_top_down_blocks_1_blocks_2_conv2_bn_bias, ema_detector_neck_top_down_blocks_1_blocks_2_conv2_bn_running_mean, ema_detector_neck_top_down_blocks_1_blocks_2_conv2_bn_running_var, ema_detector_neck_top_down_blocks_1_blocks_2_conv2_bn_num_batches_tracked, ema_detector_neck_downsamples_0_conv_weight, ema_detector_neck_downsamples_0_bn_weight, ema_detector_neck_downsamples_0_bn_bias, ema_detector_neck_downsamples_0_bn_running_mean, ema_detector_neck_downsamples_0_bn_running_var, ema_detector_neck_downsamples_0_bn_num_batches_tracked, ema_detector_neck_downsamples_1_conv_weight, ema_detector_neck_downsamples_1_bn_weight, ema_detector_neck_downsamples_1_bn_bias, ema_detector_neck_downsamples_1_bn_running_mean, ema_detector_neck_downsamples_1_bn_running_var, ema_detector_neck_downsamples_1_bn_num_batches_tracked, ema_detector_neck_bottom_up_blocks_0_main_conv_conv_weight, ema_detector_neck_bottom_up_blocks_0_main_conv_bn_weight, ema_detector_neck_bottom_up_blocks_0_main_conv_bn_bias, ema_detector_neck_bottom_up_blocks_0_main_conv_bn_running_mean, ema_detector_neck_bottom_up_blocks_0_main_conv_bn_running_var, ema_detector_neck_bottom_up_blocks_0_main_conv_bn_num_batches_tracked, ema_detector_neck_bottom_up_blocks_0_short_conv_conv_weight, ema_detector_neck_bottom_up_blocks_0_short_conv_bn_weight, ema_detector_neck_bottom_up_blocks_0_short_conv_bn_bias, ema_detector_neck_bottom_up_blocks_0_short_conv_bn_running_mean, ema_detector_neck_bottom_up_blocks_0_short_conv_bn_running_var, ema_detector_neck_bottom_up_blocks_0_short_conv_bn_num_batches_tracked, ema_detector_neck_bottom_up_blocks_0_final_conv_conv_weight, ema_detector_neck_bottom_up_blocks_0_final_conv_bn_weight, ema_detector_neck_bottom_up_blocks_0_final_conv_bn_bias, ema_detector_neck_bottom_up_blocks_0_final_conv_bn_running_mean, ema_detector_neck_bottom_up_blocks_0_final_conv_bn_running_var, ema_detector_neck_bottom_up_blocks_0_final_conv_bn_num_batches_tracked, ema_detector_neck_bottom_up_blocks_0_blocks_0_conv1_conv_weight, ema_detector_neck_bottom_up_blocks_0_blocks_0_conv1_bn_weight, ema_detector_neck_bottom_up_blocks_0_blocks_0_conv1_bn_bias, ema_detector_neck_bottom_up_blocks_0_blocks_0_conv1_bn_running_mean, ema_detector_neck_bottom_up_blocks_0_blocks_0_conv1_bn_running_var, ema_detector_neck_bottom_up_blocks_0_blocks_0_conv1_bn_num_batches_tracked, ema_detector_neck_bottom_up_blocks_0_blocks_0_conv2_conv_weight, ema_detector_neck_bottom_up_blocks_0_blocks_0_conv2_bn_weight, ema_detector_neck_bottom_up_blocks_0_blocks_0_conv2_bn_bias, ema_detector_neck_bottom_up_blocks_0_blocks_0_conv2_bn_running_mean, ema_detector_neck_bottom_up_blocks_0_blocks_0_conv2_bn_running_var, ema_detector_neck_bottom_up_blocks_0_blocks_0_conv2_bn_num_batches_tracked, ema_detector_neck_bottom_up_blocks_0_blocks_1_conv1_conv_weight, ema_detector_neck_bottom_up_blocks_0_blocks_1_conv1_bn_weight, ema_detector_neck_bottom_up_blocks_0_blocks_1_conv1_bn_bias, ema_detector_neck_bottom_up_blocks_0_blocks_1_conv1_bn_running_mean, ema_detector_neck_bottom_up_blocks_0_blocks_1_conv1_bn_running_var, ema_detector_neck_bottom_up_blocks_0_blocks_1_conv1_bn_num_batches_tracked, ema_detector_neck_bottom_up_blocks_0_blocks_1_conv2_conv_weight, ema_detector_neck_bottom_up_blocks_0_blocks_1_conv2_bn_weight, ema_detector_neck_bottom_up_blocks_0_blocks_1_conv2_bn_bias, ema_detector_neck_bottom_up_blocks_0_blocks_1_conv2_bn_running_mean, ema_detector_neck_bottom_up_blocks_0_blocks_1_conv2_bn_running_var, ema_detector_neck_bottom_up_blocks_0_blocks_1_conv2_bn_num_batches_tracked, ema_detector_neck_bottom_up_blocks_0_blocks_2_conv1_conv_weight, ema_detector_neck_bottom_up_blocks_0_blocks_2_conv1_bn_weight, ema_detector_neck_bottom_up_blocks_0_blocks_2_conv1_bn_bias, ema_detector_neck_bottom_up_blocks_0_blocks_2_conv1_bn_running_mean, ema_detector_neck_bottom_up_blocks_0_blocks_2_conv1_bn_running_var, ema_detector_neck_bottom_up_blocks_0_blocks_2_conv1_bn_num_batches_tracked, ema_detector_neck_bottom_up_blocks_0_blocks_2_conv2_conv_weight, ema_detector_neck_bottom_up_blocks_0_blocks_2_conv2_bn_weight, ema_detector_neck_bottom_up_blocks_0_blocks_2_conv2_bn_bias, ema_detector_neck_bottom_up_blocks_0_blocks_2_conv2_bn_running_mean, ema_detector_neck_bottom_up_blocks_0_blocks_2_conv2_bn_running_var, ema_detector_neck_bottom_up_blocks_0_blocks_2_conv2_bn_num_batches_tracked, ema_detector_neck_bottom_up_blocks_1_main_conv_conv_weight, ema_detector_neck_bottom_up_blocks_1_main_conv_bn_weight, ema_detector_neck_bottom_up_blocks_1_main_conv_bn_bias, ema_detector_neck_bottom_up_blocks_1_main_conv_bn_running_mean, ema_detector_neck_bottom_up_blocks_1_main_conv_bn_running_var, ema_detector_neck_bottom_up_blocks_1_main_conv_bn_num_batches_tracked, ema_detector_neck_bottom_up_blocks_1_short_conv_conv_weight, ema_detector_neck_bottom_up_blocks_1_short_conv_bn_weight, ema_detector_neck_bottom_up_blocks_1_short_conv_bn_bias, ema_detector_neck_bottom_up_blocks_1_short_conv_bn_running_mean, ema_detector_neck_bottom_up_blocks_1_short_conv_bn_running_var, ema_detector_neck_bottom_up_blocks_1_short_conv_bn_num_batches_tracked, ema_detector_neck_bottom_up_blocks_1_final_conv_conv_weight, ema_detector_neck_bottom_up_blocks_1_final_conv_bn_weight, ema_detector_neck_bottom_up_blocks_1_final_conv_bn_bias, ema_detector_neck_bottom_up_blocks_1_final_conv_bn_running_mean, ema_detector_neck_bottom_up_blocks_1_final_conv_bn_running_var, ema_detector_neck_bottom_up_blocks_1_final_conv_bn_num_batches_tracked, ema_detector_neck_bottom_up_blocks_1_blocks_0_conv1_conv_weight, ema_detector_neck_bottom_up_blocks_1_blocks_0_conv1_bn_weight, ema_detector_neck_bottom_up_blocks_1_blocks_0_conv1_bn_bias, ema_detector_neck_bottom_up_blocks_1_blocks_0_conv1_bn_running_mean, ema_detector_neck_bottom_up_blocks_1_blocks_0_conv1_bn_running_var, ema_detector_neck_bottom_up_blocks_1_blocks_0_conv1_bn_num_batches_tracked, ema_detector_neck_bottom_up_blocks_1_blocks_0_conv2_conv_weight, ema_detector_neck_bottom_up_blocks_1_blocks_0_conv2_bn_weight, ema_detector_neck_bottom_up_blocks_1_blocks_0_conv2_bn_bias, ema_detector_neck_bottom_up_blocks_1_blocks_0_conv2_bn_running_mean, ema_detector_neck_bottom_up_blocks_1_blocks_0_conv2_bn_running_var, ema_detector_neck_bottom_up_blocks_1_blocks_0_conv2_bn_num_batches_tracked, ema_detector_neck_bottom_up_blocks_1_blocks_1_conv1_conv_weight, ema_detector_neck_bottom_up_blocks_1_blocks_1_conv1_bn_weight, ema_detector_neck_bottom_up_blocks_1_blocks_1_conv1_bn_bias, ema_detector_neck_bottom_up_blocks_1_blocks_1_conv1_bn_running_mean, ema_detector_neck_bottom_up_blocks_1_blocks_1_conv1_bn_running_var, ema_detector_neck_bottom_up_blocks_1_blocks_1_conv1_bn_num_batches_tracked, ema_detector_neck_bottom_up_blocks_1_blocks_1_conv2_conv_weight, ema_detector_neck_bottom_up_blocks_1_blocks_1_conv2_bn_weight, ema_detector_neck_bottom_up_blocks_1_blocks_1_conv2_bn_bias, ema_detector_neck_bottom_up_blocks_1_blocks_1_conv2_bn_running_mean, ema_detector_neck_bottom_up_blocks_1_blocks_1_conv2_bn_running_var, ema_detector_neck_bottom_up_blocks_1_blocks_1_conv2_bn_num_batches_tracked, ema_detector_neck_bottom_up_blocks_1_blocks_2_conv1_conv_weight, ema_detector_neck_bottom_up_blocks_1_blocks_2_conv1_bn_weight, ema_detector_neck_bottom_up_blocks_1_blocks_2_conv1_bn_bias, ema_detector_neck_bottom_up_blocks_1_blocks_2_conv1_bn_running_mean, ema_detector_neck_bottom_up_blocks_1_blocks_2_conv1_bn_running_var, ema_detector_neck_bottom_up_blocks_1_blocks_2_conv1_bn_num_batches_tracked, ema_detector_neck_bottom_up_blocks_1_blocks_2_conv2_conv_weight, ema_detector_neck_bottom_up_blocks_1_blocks_2_conv2_bn_weight, ema_detector_neck_bottom_up_blocks_1_blocks_2_conv2_bn_bias, ema_detector_neck_bottom_up_blocks_1_blocks_2_conv2_bn_running_mean, ema_detector_neck_bottom_up_blocks_1_blocks_2_conv2_bn_running_var, ema_detector_neck_bottom_up_blocks_1_blocks_2_conv2_bn_num_batches_tracked, ema_detector_neck_out_convs_0_conv_weight, ema_detector_neck_out_convs_0_bn_weight, ema_detector_neck_out_convs_0_bn_bias, ema_detector_neck_out_convs_0_bn_running_mean, ema_detector_neck_out_convs_0_bn_running_var, ema_detector_neck_out_convs_0_bn_num_batches_tracked, ema_detector_neck_out_convs_1_conv_weight, ema_detector_neck_out_convs_1_bn_weight, ema_detector_neck_out_convs_1_bn_bias, ema_detector_neck_out_convs_1_bn_running_mean, ema_detector_neck_out_convs_1_bn_running_var, ema_detector_neck_out_convs_1_bn_num_batches_tracked, ema_detector_neck_out_convs_2_conv_weight, ema_detector_neck_out_convs_2_bn_weight, ema_detector_neck_out_convs_2_bn_bias, ema_detector_neck_out_convs_2_bn_running_mean, ema_detector_neck_out_convs_2_bn_running_var, ema_detector_neck_out_convs_2_bn_num_batches_tracked, ema_detector_bbox_head_multi_level_cls_convs_0_0_conv_weight, ema_detector_bbox_head_multi_level_cls_convs_0_0_bn_weight, ema_detector_bbox_head_multi_level_cls_convs_0_0_bn_bias, ema_detector_bbox_head_multi_level_cls_convs_0_0_bn_running_mean, ema_detector_bbox_head_multi_level_cls_convs_0_0_bn_running_var, ema_detector_bbox_head_multi_level_cls_convs_0_0_bn_num_batches_tracked, ema_detector_bbox_head_multi_level_cls_convs_0_1_conv_weight, ema_detector_bbox_head_multi_level_cls_convs_0_1_bn_weight, ema_detector_bbox_head_multi_level_cls_convs_0_1_bn_bias, ema_detector_bbox_head_multi_level_cls_convs_0_1_bn_running_mean, ema_detector_bbox_head_multi_level_cls_convs_0_1_bn_running_var, ema_detector_bbox_head_multi_level_cls_convs_0_1_bn_num_batches_tracked, ema_detector_bbox_head_multi_level_cls_convs_1_0_conv_weight, ema_detector_bbox_head_multi_level_cls_convs_1_0_bn_weight, ema_detector_bbox_head_multi_level_cls_convs_1_0_bn_bias, ema_detector_bbox_head_multi_level_cls_convs_1_0_bn_running_mean, ema_detector_bbox_head_multi_level_cls_convs_1_0_bn_running_var, ema_detector_bbox_head_multi_level_cls_convs_1_0_bn_num_batches_tracked, ema_detector_bbox_head_multi_level_cls_convs_1_1_conv_weight, ema_detector_bbox_head_multi_level_cls_convs_1_1_bn_weight, ema_detector_bbox_head_multi_level_cls_convs_1_1_bn_bias, ema_detector_bbox_head_multi_level_cls_convs_1_1_bn_running_mean, ema_detector_bbox_head_multi_level_cls_convs_1_1_bn_running_var, ema_detector_bbox_head_multi_level_cls_convs_1_1_bn_num_batches_tracked, ema_detector_bbox_head_multi_level_cls_convs_2_0_conv_weight, ema_detector_bbox_head_multi_level_cls_convs_2_0_bn_weight, ema_detector_bbox_head_multi_level_cls_convs_2_0_bn_bias, ema_detector_bbox_head_multi_level_cls_convs_2_0_bn_running_mean, ema_detector_bbox_head_multi_level_cls_convs_2_0_bn_running_var, ema_detector_bbox_head_multi_level_cls_convs_2_0_bn_num_batches_tracked, ema_detector_bbox_head_multi_level_cls_convs_2_1_conv_weight, ema_detector_bbox_head_multi_level_cls_convs_2_1_bn_weight, ema_detector_bbox_head_multi_level_cls_convs_2_1_bn_bias, ema_detector_bbox_head_multi_level_cls_convs_2_1_bn_running_mean, ema_detector_bbox_head_multi_level_cls_convs_2_1_bn_running_var, ema_detector_bbox_head_multi_level_cls_convs_2_1_bn_num_batches_tracked, ema_detector_bbox_head_multi_level_reg_convs_0_0_conv_weight, ema_detector_bbox_head_multi_level_reg_convs_0_0_bn_weight, ema_detector_bbox_head_multi_level_reg_convs_0_0_bn_bias, ema_detector_bbox_head_multi_level_reg_convs_0_0_bn_running_mean, ema_detector_bbox_head_multi_level_reg_convs_0_0_bn_running_var, ema_detector_bbox_head_multi_level_reg_convs_0_0_bn_num_batches_tracked, ema_detector_bbox_head_multi_level_reg_convs_0_1_conv_weight, ema_detector_bbox_head_multi_level_reg_convs_0_1_bn_weight, ema_detector_bbox_head_multi_level_reg_convs_0_1_bn_bias, ema_detector_bbox_head_multi_level_reg_convs_0_1_bn_running_mean, ema_detector_bbox_head_multi_level_reg_convs_0_1_bn_running_var, ema_detector_bbox_head_multi_level_reg_convs_0_1_bn_num_batches_tracked, ema_detector_bbox_head_multi_level_reg_convs_1_0_conv_weight, ema_detector_bbox_head_multi_level_reg_convs_1_0_bn_weight, ema_detector_bbox_head_multi_level_reg_convs_1_0_bn_bias, ema_detector_bbox_head_multi_level_reg_convs_1_0_bn_running_mean, ema_detector_bbox_head_multi_level_reg_convs_1_0_bn_running_var, ema_detector_bbox_head_multi_level_reg_convs_1_0_bn_num_batches_tracked, ema_detector_bbox_head_multi_level_reg_convs_1_1_conv_weight, ema_detector_bbox_head_multi_level_reg_convs_1_1_bn_weight, ema_detector_bbox_head_multi_level_reg_convs_1_1_bn_bias, ema_detector_bbox_head_multi_level_reg_convs_1_1_bn_running_mean, ema_detector_bbox_head_multi_level_reg_convs_1_1_bn_running_var, ema_detector_bbox_head_multi_level_reg_convs_1_1_bn_num_batches_tracked, ema_detector_bbox_head_multi_level_reg_convs_2_0_conv_weight, ema_detector_bbox_head_multi_level_reg_convs_2_0_bn_weight, ema_detector_bbox_head_multi_level_reg_convs_2_0_bn_bias, ema_detector_bbox_head_multi_level_reg_convs_2_0_bn_running_mean, ema_detector_bbox_head_multi_level_reg_convs_2_0_bn_running_var, ema_detector_bbox_head_multi_level_reg_convs_2_0_bn_num_batches_tracked, ema_detector_bbox_head_multi_level_reg_convs_2_1_conv_weight, ema_detector_bbox_head_multi_level_reg_convs_2_1_bn_weight, ema_detector_bbox_head_multi_level_reg_convs_2_1_bn_bias, ema_detector_bbox_head_multi_level_reg_convs_2_1_bn_running_mean, ema_detector_bbox_head_multi_level_reg_convs_2_1_bn_running_var, ema_detector_bbox_head_multi_level_reg_convs_2_1_bn_num_batches_tracked, ema_detector_bbox_head_multi_level_conv_cls_0_weight, ema_detector_bbox_head_multi_level_conv_cls_0_bias, ema_detector_bbox_head_multi_level_conv_cls_1_weight, ema_detector_bbox_head_multi_level_conv_cls_1_bias, ema_detector_bbox_head_multi_level_conv_cls_2_weight, ema_detector_bbox_head_multi_level_conv_cls_2_bias, ema_detector_bbox_head_multi_level_conv_reg_0_weight, ema_detector_bbox_head_multi_level_conv_reg_0_bias, ema_detector_bbox_head_multi_level_conv_reg_1_weight, ema_detector_bbox_head_multi_level_conv_reg_1_bias, ema_detector_bbox_head_multi_level_conv_reg_2_weight, ema_detector_bbox_head_multi_level_conv_reg_2_bias, ema_detector_bbox_head_multi_level_conv_obj_0_weight, ema_detector_bbox_head_multi_level_conv_obj_0_bias, ema_detector_bbox_head_multi_level_conv_obj_1_weight, ema_detector_bbox_head_multi_level_conv_obj_1_bias, ema_detector_bbox_head_multi_level_conv_obj_2_weight, ema_detector_bbox_head_multi_level_conv_obj_2_bias\n"
     ]
    },
    {
     "name": "stderr",
     "output_type": "stream",
     "text": [
      "2024-06-05 22:41:19,822 - mmtrack - INFO - initialize CSPDarknet with init_cfg {'type': 'Kaiming', 'layer': 'Conv2d', 'a': 2.23606797749979, 'distribution': 'uniform', 'mode': 'fan_in', 'nonlinearity': 'leaky_relu'}\n",
      "2024-06-05 22:41:20,033 - mmtrack - INFO - initialize YOLOXPAFPN with init_cfg {'type': 'Kaiming', 'layer': 'Conv2d', 'a': 2.23606797749979, 'distribution': 'uniform', 'mode': 'fan_in', 'nonlinearity': 'leaky_relu'}\n",
      "2024-06-05 22:41:20,162 - mmtrack - INFO - initialize YOLOXHead with init_cfg {'type': 'Kaiming', 'layer': 'Conv2d', 'a': 2.23606797749979, 'distribution': 'uniform', 'mode': 'fan_in', 'nonlinearity': 'leaky_relu'}\n"
     ]
    },
    {
     "name": "stdout",
     "output_type": "stream",
     "text": [
      "load checkpoint from local path: /webapps/piglegsurgery/piglegcv/resources/tracker_model_bytetrack_hands_tools/epoch.pth\n",
      "The model and loaded state dict do not match exactly\n",
      "\n",
      "size mismatch for detector.bbox_head.multi_level_conv_cls.0.weight: copying a param with shape torch.Size([5, 256, 1, 1]) from checkpoint, the shape in current model is torch.Size([3, 256, 1, 1]).\n",
      "size mismatch for detector.bbox_head.multi_level_conv_cls.0.bias: copying a param with shape torch.Size([5]) from checkpoint, the shape in current model is torch.Size([3]).\n",
      "size mismatch for detector.bbox_head.multi_level_conv_cls.1.weight: copying a param with shape torch.Size([5, 256, 1, 1]) from checkpoint, the shape in current model is torch.Size([3, 256, 1, 1]).\n",
      "size mismatch for detector.bbox_head.multi_level_conv_cls.1.bias: copying a param with shape torch.Size([5]) from checkpoint, the shape in current model is torch.Size([3]).\n",
      "size mismatch for detector.bbox_head.multi_level_conv_cls.2.weight: copying a param with shape torch.Size([5, 256, 1, 1]) from checkpoint, the shape in current model is torch.Size([3, 256, 1, 1]).\n",
      "size mismatch for detector.bbox_head.multi_level_conv_cls.2.bias: copying a param with shape torch.Size([5]) from checkpoint, the shape in current model is torch.Size([3]).\n",
      "unexpected key in source state_dict: ema_detector_backbone_stem_conv_conv_weight, ema_detector_backbone_stem_conv_bn_weight, ema_detector_backbone_stem_conv_bn_bias, ema_detector_backbone_stem_conv_bn_running_mean, ema_detector_backbone_stem_conv_bn_running_var, ema_detector_backbone_stem_conv_bn_num_batches_tracked, ema_detector_backbone_stage1_0_conv_weight, ema_detector_backbone_stage1_0_bn_weight, ema_detector_backbone_stage1_0_bn_bias, ema_detector_backbone_stage1_0_bn_running_mean, ema_detector_backbone_stage1_0_bn_running_var, ema_detector_backbone_stage1_0_bn_num_batches_tracked, ema_detector_backbone_stage1_1_main_conv_conv_weight, ema_detector_backbone_stage1_1_main_conv_bn_weight, ema_detector_backbone_stage1_1_main_conv_bn_bias, ema_detector_backbone_stage1_1_main_conv_bn_running_mean, ema_detector_backbone_stage1_1_main_conv_bn_running_var, ema_detector_backbone_stage1_1_main_conv_bn_num_batches_tracked, ema_detector_backbone_stage1_1_short_conv_conv_weight, ema_detector_backbone_stage1_1_short_conv_bn_weight, ema_detector_backbone_stage1_1_short_conv_bn_bias, ema_detector_backbone_stage1_1_short_conv_bn_running_mean, ema_detector_backbone_stage1_1_short_conv_bn_running_var, ema_detector_backbone_stage1_1_short_conv_bn_num_batches_tracked, ema_detector_backbone_stage1_1_final_conv_conv_weight, ema_detector_backbone_stage1_1_final_conv_bn_weight, ema_detector_backbone_stage1_1_final_conv_bn_bias, ema_detector_backbone_stage1_1_final_conv_bn_running_mean, ema_detector_backbone_stage1_1_final_conv_bn_running_var, ema_detector_backbone_stage1_1_final_conv_bn_num_batches_tracked, ema_detector_backbone_stage1_1_blocks_0_conv1_conv_weight, ema_detector_backbone_stage1_1_blocks_0_conv1_bn_weight, ema_detector_backbone_stage1_1_blocks_0_conv1_bn_bias, ema_detector_backbone_stage1_1_blocks_0_conv1_bn_running_mean, ema_detector_backbone_stage1_1_blocks_0_conv1_bn_running_var, ema_detector_backbone_stage1_1_blocks_0_conv1_bn_num_batches_tracked, ema_detector_backbone_stage1_1_blocks_0_conv2_conv_weight, ema_detector_backbone_stage1_1_blocks_0_conv2_bn_weight, ema_detector_backbone_stage1_1_blocks_0_conv2_bn_bias, ema_detector_backbone_stage1_1_blocks_0_conv2_bn_running_mean, ema_detector_backbone_stage1_1_blocks_0_conv2_bn_running_var, ema_detector_backbone_stage1_1_blocks_0_conv2_bn_num_batches_tracked, ema_detector_backbone_stage1_1_blocks_1_conv1_conv_weight, ema_detector_backbone_stage1_1_blocks_1_conv1_bn_weight, ema_detector_backbone_stage1_1_blocks_1_conv1_bn_bias, ema_detector_backbone_stage1_1_blocks_1_conv1_bn_running_mean, ema_detector_backbone_stage1_1_blocks_1_conv1_bn_running_var, ema_detector_backbone_stage1_1_blocks_1_conv1_bn_num_batches_tracked, ema_detector_backbone_stage1_1_blocks_1_conv2_conv_weight, ema_detector_backbone_stage1_1_blocks_1_conv2_bn_weight, ema_detector_backbone_stage1_1_blocks_1_conv2_bn_bias, ema_detector_backbone_stage1_1_blocks_1_conv2_bn_running_mean, ema_detector_backbone_stage1_1_blocks_1_conv2_bn_running_var, ema_detector_backbone_stage1_1_blocks_1_conv2_bn_num_batches_tracked, ema_detector_backbone_stage1_1_blocks_2_conv1_conv_weight, ema_detector_backbone_stage1_1_blocks_2_conv1_bn_weight, ema_detector_backbone_stage1_1_blocks_2_conv1_bn_bias, ema_detector_backbone_stage1_1_blocks_2_conv1_bn_running_mean, ema_detector_backbone_stage1_1_blocks_2_conv1_bn_running_var, ema_detector_backbone_stage1_1_blocks_2_conv1_bn_num_batches_tracked, ema_detector_backbone_stage1_1_blocks_2_conv2_conv_weight, ema_detector_backbone_stage1_1_blocks_2_conv2_bn_weight, ema_detector_backbone_stage1_1_blocks_2_conv2_bn_bias, ema_detector_backbone_stage1_1_blocks_2_conv2_bn_running_mean, ema_detector_backbone_stage1_1_blocks_2_conv2_bn_running_var, ema_detector_backbone_stage1_1_blocks_2_conv2_bn_num_batches_tracked, ema_detector_backbone_stage2_0_conv_weight, ema_detector_backbone_stage2_0_bn_weight, ema_detector_backbone_stage2_0_bn_bias, ema_detector_backbone_stage2_0_bn_running_mean, ema_detector_backbone_stage2_0_bn_running_var, ema_detector_backbone_stage2_0_bn_num_batches_tracked, ema_detector_backbone_stage2_1_main_conv_conv_weight, ema_detector_backbone_stage2_1_main_conv_bn_weight, ema_detector_backbone_stage2_1_main_conv_bn_bias, ema_detector_backbone_stage2_1_main_conv_bn_running_mean, ema_detector_backbone_stage2_1_main_conv_bn_running_var, ema_detector_backbone_stage2_1_main_conv_bn_num_batches_tracked, ema_detector_backbone_stage2_1_short_conv_conv_weight, ema_detector_backbone_stage2_1_short_conv_bn_weight, ema_detector_backbone_stage2_1_short_conv_bn_bias, ema_detector_backbone_stage2_1_short_conv_bn_running_mean, ema_detector_backbone_stage2_1_short_conv_bn_running_var, ema_detector_backbone_stage2_1_short_conv_bn_num_batches_tracked, ema_detector_backbone_stage2_1_final_conv_conv_weight, ema_detector_backbone_stage2_1_final_conv_bn_weight, ema_detector_backbone_stage2_1_final_conv_bn_bias, ema_detector_backbone_stage2_1_final_conv_bn_running_mean, ema_detector_backbone_stage2_1_final_conv_bn_running_var, ema_detector_backbone_stage2_1_final_conv_bn_num_batches_tracked, ema_detector_backbone_stage2_1_blocks_0_conv1_conv_weight, ema_detector_backbone_stage2_1_blocks_0_conv1_bn_weight, ema_detector_backbone_stage2_1_blocks_0_conv1_bn_bias, ema_detector_backbone_stage2_1_blocks_0_conv1_bn_running_mean, ema_detector_backbone_stage2_1_blocks_0_conv1_bn_running_var, ema_detector_backbone_stage2_1_blocks_0_conv1_bn_num_batches_tracked, ema_detector_backbone_stage2_1_blocks_0_conv2_conv_weight, ema_detector_backbone_stage2_1_blocks_0_conv2_bn_weight, ema_detector_backbone_stage2_1_blocks_0_conv2_bn_bias, ema_detector_backbone_stage2_1_blocks_0_conv2_bn_running_mean, ema_detector_backbone_stage2_1_blocks_0_conv2_bn_running_var, ema_detector_backbone_stage2_1_blocks_0_conv2_bn_num_batches_tracked, ema_detector_backbone_stage2_1_blocks_1_conv1_conv_weight, ema_detector_backbone_stage2_1_blocks_1_conv1_bn_weight, ema_detector_backbone_stage2_1_blocks_1_conv1_bn_bias, ema_detector_backbone_stage2_1_blocks_1_conv1_bn_running_mean, ema_detector_backbone_stage2_1_blocks_1_conv1_bn_running_var, ema_detector_backbone_stage2_1_blocks_1_conv1_bn_num_batches_tracked, ema_detector_backbone_stage2_1_blocks_1_conv2_conv_weight, ema_detector_backbone_stage2_1_blocks_1_conv2_bn_weight, ema_detector_backbone_stage2_1_blocks_1_conv2_bn_bias, ema_detector_backbone_stage2_1_blocks_1_conv2_bn_running_mean, ema_detector_backbone_stage2_1_blocks_1_conv2_bn_running_var, ema_detector_backbone_stage2_1_blocks_1_conv2_bn_num_batches_tracked, ema_detector_backbone_stage2_1_blocks_2_conv1_conv_weight, ema_detector_backbone_stage2_1_blocks_2_conv1_bn_weight, ema_detector_backbone_stage2_1_blocks_2_conv1_bn_bias, ema_detector_backbone_stage2_1_blocks_2_conv1_bn_running_mean, ema_detector_backbone_stage2_1_blocks_2_conv1_bn_running_var, ema_detector_backbone_stage2_1_blocks_2_conv1_bn_num_batches_tracked, ema_detector_backbone_stage2_1_blocks_2_conv2_conv_weight, ema_detector_backbone_stage2_1_blocks_2_conv2_bn_weight, ema_detector_backbone_stage2_1_blocks_2_conv2_bn_bias, ema_detector_backbone_stage2_1_blocks_2_conv2_bn_running_mean, ema_detector_backbone_stage2_1_blocks_2_conv2_bn_running_var, ema_detector_backbone_stage2_1_blocks_2_conv2_bn_num_batches_tracked, ema_detector_backbone_stage2_1_blocks_3_conv1_conv_weight, ema_detector_backbone_stage2_1_blocks_3_conv1_bn_weight, ema_detector_backbone_stage2_1_blocks_3_conv1_bn_bias, ema_detector_backbone_stage2_1_blocks_3_conv1_bn_running_mean, ema_detector_backbone_stage2_1_blocks_3_conv1_bn_running_var, ema_detector_backbone_stage2_1_blocks_3_conv1_bn_num_batches_tracked, ema_detector_backbone_stage2_1_blocks_3_conv2_conv_weight, ema_detector_backbone_stage2_1_blocks_3_conv2_bn_weight, ema_detector_backbone_stage2_1_blocks_3_conv2_bn_bias, ema_detector_backbone_stage2_1_blocks_3_conv2_bn_running_mean, ema_detector_backbone_stage2_1_blocks_3_conv2_bn_running_var, ema_detector_backbone_stage2_1_blocks_3_conv2_bn_num_batches_tracked, ema_detector_backbone_stage2_1_blocks_4_conv1_conv_weight, ema_detector_backbone_stage2_1_blocks_4_conv1_bn_weight, ema_detector_backbone_stage2_1_blocks_4_conv1_bn_bias, ema_detector_backbone_stage2_1_blocks_4_conv1_bn_running_mean, ema_detector_backbone_stage2_1_blocks_4_conv1_bn_running_var, ema_detector_backbone_stage2_1_blocks_4_conv1_bn_num_batches_tracked, ema_detector_backbone_stage2_1_blocks_4_conv2_conv_weight, ema_detector_backbone_stage2_1_blocks_4_conv2_bn_weight, ema_detector_backbone_stage2_1_blocks_4_conv2_bn_bias, ema_detector_backbone_stage2_1_blocks_4_conv2_bn_running_mean, ema_detector_backbone_stage2_1_blocks_4_conv2_bn_running_var, ema_detector_backbone_stage2_1_blocks_4_conv2_bn_num_batches_tracked, ema_detector_backbone_stage2_1_blocks_5_conv1_conv_weight, ema_detector_backbone_stage2_1_blocks_5_conv1_bn_weight, ema_detector_backbone_stage2_1_blocks_5_conv1_bn_bias, ema_detector_backbone_stage2_1_blocks_5_conv1_bn_running_mean, ema_detector_backbone_stage2_1_blocks_5_conv1_bn_running_var, ema_detector_backbone_stage2_1_blocks_5_conv1_bn_num_batches_tracked, ema_detector_backbone_stage2_1_blocks_5_conv2_conv_weight, ema_detector_backbone_stage2_1_blocks_5_conv2_bn_weight, ema_detector_backbone_stage2_1_blocks_5_conv2_bn_bias, ema_detector_backbone_stage2_1_blocks_5_conv2_bn_running_mean, ema_detector_backbone_stage2_1_blocks_5_conv2_bn_running_var, ema_detector_backbone_stage2_1_blocks_5_conv2_bn_num_batches_tracked, ema_detector_backbone_stage2_1_blocks_6_conv1_conv_weight, ema_detector_backbone_stage2_1_blocks_6_conv1_bn_weight, ema_detector_backbone_stage2_1_blocks_6_conv1_bn_bias, ema_detector_backbone_stage2_1_blocks_6_conv1_bn_running_mean, ema_detector_backbone_stage2_1_blocks_6_conv1_bn_running_var, ema_detector_backbone_stage2_1_blocks_6_conv1_bn_num_batches_tracked, ema_detector_backbone_stage2_1_blocks_6_conv2_conv_weight, ema_detector_backbone_stage2_1_blocks_6_conv2_bn_weight, ema_detector_backbone_stage2_1_blocks_6_conv2_bn_bias, ema_detector_backbone_stage2_1_blocks_6_conv2_bn_running_mean, ema_detector_backbone_stage2_1_blocks_6_conv2_bn_running_var, ema_detector_backbone_stage2_1_blocks_6_conv2_bn_num_batches_tracked, ema_detector_backbone_stage2_1_blocks_7_conv1_conv_weight, ema_detector_backbone_stage2_1_blocks_7_conv1_bn_weight, ema_detector_backbone_stage2_1_blocks_7_conv1_bn_bias, ema_detector_backbone_stage2_1_blocks_7_conv1_bn_running_mean, ema_detector_backbone_stage2_1_blocks_7_conv1_bn_running_var, ema_detector_backbone_stage2_1_blocks_7_conv1_bn_num_batches_tracked, ema_detector_backbone_stage2_1_blocks_7_conv2_conv_weight, ema_detector_backbone_stage2_1_blocks_7_conv2_bn_weight, ema_detector_backbone_stage2_1_blocks_7_conv2_bn_bias, ema_detector_backbone_stage2_1_blocks_7_conv2_bn_running_mean, ema_detector_backbone_stage2_1_blocks_7_conv2_bn_running_var, ema_detector_backbone_stage2_1_blocks_7_conv2_bn_num_batches_tracked, ema_detector_backbone_stage2_1_blocks_8_conv1_conv_weight, ema_detector_backbone_stage2_1_blocks_8_conv1_bn_weight, ema_detector_backbone_stage2_1_blocks_8_conv1_bn_bias, ema_detector_backbone_stage2_1_blocks_8_conv1_bn_running_mean, ema_detector_backbone_stage2_1_blocks_8_conv1_bn_running_var, ema_detector_backbone_stage2_1_blocks_8_conv1_bn_num_batches_tracked, ema_detector_backbone_stage2_1_blocks_8_conv2_conv_weight, ema_detector_backbone_stage2_1_blocks_8_conv2_bn_weight, ema_detector_backbone_stage2_1_blocks_8_conv2_bn_bias, ema_detector_backbone_stage2_1_blocks_8_conv2_bn_running_mean, ema_detector_backbone_stage2_1_blocks_8_conv2_bn_running_var, ema_detector_backbone_stage2_1_blocks_8_conv2_bn_num_batches_tracked, ema_detector_backbone_stage3_0_conv_weight, ema_detector_backbone_stage3_0_bn_weight, ema_detector_backbone_stage3_0_bn_bias, ema_detector_backbone_stage3_0_bn_running_mean, ema_detector_backbone_stage3_0_bn_running_var, ema_detector_backbone_stage3_0_bn_num_batches_tracked, ema_detector_backbone_stage3_1_main_conv_conv_weight, ema_detector_backbone_stage3_1_main_conv_bn_weight, ema_detector_backbone_stage3_1_main_conv_bn_bias, ema_detector_backbone_stage3_1_main_conv_bn_running_mean, ema_detector_backbone_stage3_1_main_conv_bn_running_var, ema_detector_backbone_stage3_1_main_conv_bn_num_batches_tracked, ema_detector_backbone_stage3_1_short_conv_conv_weight, ema_detector_backbone_stage3_1_short_conv_bn_weight, ema_detector_backbone_stage3_1_short_conv_bn_bias, ema_detector_backbone_stage3_1_short_conv_bn_running_mean, ema_detector_backbone_stage3_1_short_conv_bn_running_var, ema_detector_backbone_stage3_1_short_conv_bn_num_batches_tracked, ema_detector_backbone_stage3_1_final_conv_conv_weight, ema_detector_backbone_stage3_1_final_conv_bn_weight, ema_detector_backbone_stage3_1_final_conv_bn_bias, ema_detector_backbone_stage3_1_final_conv_bn_running_mean, ema_detector_backbone_stage3_1_final_conv_bn_running_var, ema_detector_backbone_stage3_1_final_conv_bn_num_batches_tracked, ema_detector_backbone_stage3_1_blocks_0_conv1_conv_weight, ema_detector_backbone_stage3_1_blocks_0_conv1_bn_weight, ema_detector_backbone_stage3_1_blocks_0_conv1_bn_bias, ema_detector_backbone_stage3_1_blocks_0_conv1_bn_running_mean, ema_detector_backbone_stage3_1_blocks_0_conv1_bn_running_var, ema_detector_backbone_stage3_1_blocks_0_conv1_bn_num_batches_tracked, ema_detector_backbone_stage3_1_blocks_0_conv2_conv_weight, ema_detector_backbone_stage3_1_blocks_0_conv2_bn_weight, ema_detector_backbone_stage3_1_blocks_0_conv2_bn_bias, ema_detector_backbone_stage3_1_blocks_0_conv2_bn_running_mean, ema_detector_backbone_stage3_1_blocks_0_conv2_bn_running_var, ema_detector_backbone_stage3_1_blocks_0_conv2_bn_num_batches_tracked, ema_detector_backbone_stage3_1_blocks_1_conv1_conv_weight, ema_detector_backbone_stage3_1_blocks_1_conv1_bn_weight, ema_detector_backbone_stage3_1_blocks_1_conv1_bn_bias, ema_detector_backbone_stage3_1_blocks_1_conv1_bn_running_mean, ema_detector_backbone_stage3_1_blocks_1_conv1_bn_running_var, ema_detector_backbone_stage3_1_blocks_1_conv1_bn_num_batches_tracked, ema_detector_backbone_stage3_1_blocks_1_conv2_conv_weight, ema_detector_backbone_stage3_1_blocks_1_conv2_bn_weight, ema_detector_backbone_stage3_1_blocks_1_conv2_bn_bias, ema_detector_backbone_stage3_1_blocks_1_conv2_bn_running_mean, ema_detector_backbone_stage3_1_blocks_1_conv2_bn_running_var, ema_detector_backbone_stage3_1_blocks_1_conv2_bn_num_batches_tracked, ema_detector_backbone_stage3_1_blocks_2_conv1_conv_weight, ema_detector_backbone_stage3_1_blocks_2_conv1_bn_weight, ema_detector_backbone_stage3_1_blocks_2_conv1_bn_bias, ema_detector_backbone_stage3_1_blocks_2_conv1_bn_running_mean, ema_detector_backbone_stage3_1_blocks_2_conv1_bn_running_var, ema_detector_backbone_stage3_1_blocks_2_conv1_bn_num_batches_tracked, ema_detector_backbone_stage3_1_blocks_2_conv2_conv_weight, ema_detector_backbone_stage3_1_blocks_2_conv2_bn_weight, ema_detector_backbone_stage3_1_blocks_2_conv2_bn_bias, ema_detector_backbone_stage3_1_blocks_2_conv2_bn_running_mean, ema_detector_backbone_stage3_1_blocks_2_conv2_bn_running_var, ema_detector_backbone_stage3_1_blocks_2_conv2_bn_num_batches_tracked, ema_detector_backbone_stage3_1_blocks_3_conv1_conv_weight, ema_detector_backbone_stage3_1_blocks_3_conv1_bn_weight, ema_detector_backbone_stage3_1_blocks_3_conv1_bn_bias, ema_detector_backbone_stage3_1_blocks_3_conv1_bn_running_mean, ema_detector_backbone_stage3_1_blocks_3_conv1_bn_running_var, ema_detector_backbone_stage3_1_blocks_3_conv1_bn_num_batches_tracked, ema_detector_backbone_stage3_1_blocks_3_conv2_conv_weight, ema_detector_backbone_stage3_1_blocks_3_conv2_bn_weight, ema_detector_backbone_stage3_1_blocks_3_conv2_bn_bias, ema_detector_backbone_stage3_1_blocks_3_conv2_bn_running_mean, ema_detector_backbone_stage3_1_blocks_3_conv2_bn_running_var, ema_detector_backbone_stage3_1_blocks_3_conv2_bn_num_batches_tracked, ema_detector_backbone_stage3_1_blocks_4_conv1_conv_weight, ema_detector_backbone_stage3_1_blocks_4_conv1_bn_weight, ema_detector_backbone_stage3_1_blocks_4_conv1_bn_bias, ema_detector_backbone_stage3_1_blocks_4_conv1_bn_running_mean, ema_detector_backbone_stage3_1_blocks_4_conv1_bn_running_var, ema_detector_backbone_stage3_1_blocks_4_conv1_bn_num_batches_tracked, ema_detector_backbone_stage3_1_blocks_4_conv2_conv_weight, ema_detector_backbone_stage3_1_blocks_4_conv2_bn_weight, ema_detector_backbone_stage3_1_blocks_4_conv2_bn_bias, ema_detector_backbone_stage3_1_blocks_4_conv2_bn_running_mean, ema_detector_backbone_stage3_1_blocks_4_conv2_bn_running_var, ema_detector_backbone_stage3_1_blocks_4_conv2_bn_num_batches_tracked, ema_detector_backbone_stage3_1_blocks_5_conv1_conv_weight, ema_detector_backbone_stage3_1_blocks_5_conv1_bn_weight, ema_detector_backbone_stage3_1_blocks_5_conv1_bn_bias, ema_detector_backbone_stage3_1_blocks_5_conv1_bn_running_mean, ema_detector_backbone_stage3_1_blocks_5_conv1_bn_running_var, ema_detector_backbone_stage3_1_blocks_5_conv1_bn_num_batches_tracked, ema_detector_backbone_stage3_1_blocks_5_conv2_conv_weight, ema_detector_backbone_stage3_1_blocks_5_conv2_bn_weight, ema_detector_backbone_stage3_1_blocks_5_conv2_bn_bias, ema_detector_backbone_stage3_1_blocks_5_conv2_bn_running_mean, ema_detector_backbone_stage3_1_blocks_5_conv2_bn_running_var, ema_detector_backbone_stage3_1_blocks_5_conv2_bn_num_batches_tracked, ema_detector_backbone_stage3_1_blocks_6_conv1_conv_weight, ema_detector_backbone_stage3_1_blocks_6_conv1_bn_weight, ema_detector_backbone_stage3_1_blocks_6_conv1_bn_bias, ema_detector_backbone_stage3_1_blocks_6_conv1_bn_running_mean, ema_detector_backbone_stage3_1_blocks_6_conv1_bn_running_var, ema_detector_backbone_stage3_1_blocks_6_conv1_bn_num_batches_tracked, ema_detector_backbone_stage3_1_blocks_6_conv2_conv_weight, ema_detector_backbone_stage3_1_blocks_6_conv2_bn_weight, ema_detector_backbone_stage3_1_blocks_6_conv2_bn_bias, ema_detector_backbone_stage3_1_blocks_6_conv2_bn_running_mean, ema_detector_backbone_stage3_1_blocks_6_conv2_bn_running_var, ema_detector_backbone_stage3_1_blocks_6_conv2_bn_num_batches_tracked, ema_detector_backbone_stage3_1_blocks_7_conv1_conv_weight, ema_detector_backbone_stage3_1_blocks_7_conv1_bn_weight, ema_detector_backbone_stage3_1_blocks_7_conv1_bn_bias, ema_detector_backbone_stage3_1_blocks_7_conv1_bn_running_mean, ema_detector_backbone_stage3_1_blocks_7_conv1_bn_running_var, ema_detector_backbone_stage3_1_blocks_7_conv1_bn_num_batches_tracked, ema_detector_backbone_stage3_1_blocks_7_conv2_conv_weight, ema_detector_backbone_stage3_1_blocks_7_conv2_bn_weight, ema_detector_backbone_stage3_1_blocks_7_conv2_bn_bias, ema_detector_backbone_stage3_1_blocks_7_conv2_bn_running_mean, ema_detector_backbone_stage3_1_blocks_7_conv2_bn_running_var, ema_detector_backbone_stage3_1_blocks_7_conv2_bn_num_batches_tracked, ema_detector_backbone_stage3_1_blocks_8_conv1_conv_weight, ema_detector_backbone_stage3_1_blocks_8_conv1_bn_weight, ema_detector_backbone_stage3_1_blocks_8_conv1_bn_bias, ema_detector_backbone_stage3_1_blocks_8_conv1_bn_running_mean, ema_detector_backbone_stage3_1_blocks_8_conv1_bn_running_var, ema_detector_backbone_stage3_1_blocks_8_conv1_bn_num_batches_tracked, ema_detector_backbone_stage3_1_blocks_8_conv2_conv_weight, ema_detector_backbone_stage3_1_blocks_8_conv2_bn_weight, ema_detector_backbone_stage3_1_blocks_8_conv2_bn_bias, ema_detector_backbone_stage3_1_blocks_8_conv2_bn_running_mean, ema_detector_backbone_stage3_1_blocks_8_conv2_bn_running_var, ema_detector_backbone_stage3_1_blocks_8_conv2_bn_num_batches_tracked, ema_detector_backbone_stage4_0_conv_weight, ema_detector_backbone_stage4_0_bn_weight, ema_detector_backbone_stage4_0_bn_bias, ema_detector_backbone_stage4_0_bn_running_mean, ema_detector_backbone_stage4_0_bn_running_var, ema_detector_backbone_stage4_0_bn_num_batches_tracked, ema_detector_backbone_stage4_1_conv1_conv_weight, ema_detector_backbone_stage4_1_conv1_bn_weight, ema_detector_backbone_stage4_1_conv1_bn_bias, ema_detector_backbone_stage4_1_conv1_bn_running_mean, ema_detector_backbone_stage4_1_conv1_bn_running_var, ema_detector_backbone_stage4_1_conv1_bn_num_batches_tracked, ema_detector_backbone_stage4_1_conv2_conv_weight, ema_detector_backbone_stage4_1_conv2_bn_weight, ema_detector_backbone_stage4_1_conv2_bn_bias, ema_detector_backbone_stage4_1_conv2_bn_running_mean, ema_detector_backbone_stage4_1_conv2_bn_running_var, ema_detector_backbone_stage4_1_conv2_bn_num_batches_tracked, ema_detector_backbone_stage4_2_main_conv_conv_weight, ema_detector_backbone_stage4_2_main_conv_bn_weight, ema_detector_backbone_stage4_2_main_conv_bn_bias, ema_detector_backbone_stage4_2_main_conv_bn_running_mean, ema_detector_backbone_stage4_2_main_conv_bn_running_var, ema_detector_backbone_stage4_2_main_conv_bn_num_batches_tracked, ema_detector_backbone_stage4_2_short_conv_conv_weight, ema_detector_backbone_stage4_2_short_conv_bn_weight, ema_detector_backbone_stage4_2_short_conv_bn_bias, ema_detector_backbone_stage4_2_short_conv_bn_running_mean, ema_detector_backbone_stage4_2_short_conv_bn_running_var, ema_detector_backbone_stage4_2_short_conv_bn_num_batches_tracked, ema_detector_backbone_stage4_2_final_conv_conv_weight, ema_detector_backbone_stage4_2_final_conv_bn_weight, ema_detector_backbone_stage4_2_final_conv_bn_bias, ema_detector_backbone_stage4_2_final_conv_bn_running_mean, ema_detector_backbone_stage4_2_final_conv_bn_running_var, ema_detector_backbone_stage4_2_final_conv_bn_num_batches_tracked, ema_detector_backbone_stage4_2_blocks_0_conv1_conv_weight, ema_detector_backbone_stage4_2_blocks_0_conv1_bn_weight, ema_detector_backbone_stage4_2_blocks_0_conv1_bn_bias, ema_detector_backbone_stage4_2_blocks_0_conv1_bn_running_mean, ema_detector_backbone_stage4_2_blocks_0_conv1_bn_running_var, ema_detector_backbone_stage4_2_blocks_0_conv1_bn_num_batches_tracked, ema_detector_backbone_stage4_2_blocks_0_conv2_conv_weight, ema_detector_backbone_stage4_2_blocks_0_conv2_bn_weight, ema_detector_backbone_stage4_2_blocks_0_conv2_bn_bias, ema_detector_backbone_stage4_2_blocks_0_conv2_bn_running_mean, ema_detector_backbone_stage4_2_blocks_0_conv2_bn_running_var, ema_detector_backbone_stage4_2_blocks_0_conv2_bn_num_batches_tracked, ema_detector_backbone_stage4_2_blocks_1_conv1_conv_weight, ema_detector_backbone_stage4_2_blocks_1_conv1_bn_weight, ema_detector_backbone_stage4_2_blocks_1_conv1_bn_bias, ema_detector_backbone_stage4_2_blocks_1_conv1_bn_running_mean, ema_detector_backbone_stage4_2_blocks_1_conv1_bn_running_var, ema_detector_backbone_stage4_2_blocks_1_conv1_bn_num_batches_tracked, ema_detector_backbone_stage4_2_blocks_1_conv2_conv_weight, ema_detector_backbone_stage4_2_blocks_1_conv2_bn_weight, ema_detector_backbone_stage4_2_blocks_1_conv2_bn_bias, ema_detector_backbone_stage4_2_blocks_1_conv2_bn_running_mean, ema_detector_backbone_stage4_2_blocks_1_conv2_bn_running_var, ema_detector_backbone_stage4_2_blocks_1_conv2_bn_num_batches_tracked, ema_detector_backbone_stage4_2_blocks_2_conv1_conv_weight, ema_detector_backbone_stage4_2_blocks_2_conv1_bn_weight, ema_detector_backbone_stage4_2_blocks_2_conv1_bn_bias, ema_detector_backbone_stage4_2_blocks_2_conv1_bn_running_mean, ema_detector_backbone_stage4_2_blocks_2_conv1_bn_running_var, ema_detector_backbone_stage4_2_blocks_2_conv1_bn_num_batches_tracked, ema_detector_backbone_stage4_2_blocks_2_conv2_conv_weight, ema_detector_backbone_stage4_2_blocks_2_conv2_bn_weight, ema_detector_backbone_stage4_2_blocks_2_conv2_bn_bias, ema_detector_backbone_stage4_2_blocks_2_conv2_bn_running_mean, ema_detector_backbone_stage4_2_blocks_2_conv2_bn_running_var, ema_detector_backbone_stage4_2_blocks_2_conv2_bn_num_batches_tracked, ema_detector_neck_reduce_layers_0_conv_weight, ema_detector_neck_reduce_layers_0_bn_weight, ema_detector_neck_reduce_layers_0_bn_bias, ema_detector_neck_reduce_layers_0_bn_running_mean, ema_detector_neck_reduce_layers_0_bn_running_var, ema_detector_neck_reduce_layers_0_bn_num_batches_tracked, ema_detector_neck_reduce_layers_1_conv_weight, ema_detector_neck_reduce_layers_1_bn_weight, ema_detector_neck_reduce_layers_1_bn_bias, ema_detector_neck_reduce_layers_1_bn_running_mean, ema_detector_neck_reduce_layers_1_bn_running_var, ema_detector_neck_reduce_layers_1_bn_num_batches_tracked, ema_detector_neck_top_down_blocks_0_main_conv_conv_weight, ema_detector_neck_top_down_blocks_0_main_conv_bn_weight, ema_detector_neck_top_down_blocks_0_main_conv_bn_bias, ema_detector_neck_top_down_blocks_0_main_conv_bn_running_mean, ema_detector_neck_top_down_blocks_0_main_conv_bn_running_var, ema_detector_neck_top_down_blocks_0_main_conv_bn_num_batches_tracked, ema_detector_neck_top_down_blocks_0_short_conv_conv_weight, ema_detector_neck_top_down_blocks_0_short_conv_bn_weight, ema_detector_neck_top_down_blocks_0_short_conv_bn_bias, ema_detector_neck_top_down_blocks_0_short_conv_bn_running_mean, ema_detector_neck_top_down_blocks_0_short_conv_bn_running_var, ema_detector_neck_top_down_blocks_0_short_conv_bn_num_batches_tracked, ema_detector_neck_top_down_blocks_0_final_conv_conv_weight, ema_detector_neck_top_down_blocks_0_final_conv_bn_weight, ema_detector_neck_top_down_blocks_0_final_conv_bn_bias, ema_detector_neck_top_down_blocks_0_final_conv_bn_running_mean, ema_detector_neck_top_down_blocks_0_final_conv_bn_running_var, ema_detector_neck_top_down_blocks_0_final_conv_bn_num_batches_tracked, ema_detector_neck_top_down_blocks_0_blocks_0_conv1_conv_weight, ema_detector_neck_top_down_blocks_0_blocks_0_conv1_bn_weight, ema_detector_neck_top_down_blocks_0_blocks_0_conv1_bn_bias, ema_detector_neck_top_down_blocks_0_blocks_0_conv1_bn_running_mean, ema_detector_neck_top_down_blocks_0_blocks_0_conv1_bn_running_var, ema_detector_neck_top_down_blocks_0_blocks_0_conv1_bn_num_batches_tracked, ema_detector_neck_top_down_blocks_0_blocks_0_conv2_conv_weight, ema_detector_neck_top_down_blocks_0_blocks_0_conv2_bn_weight, ema_detector_neck_top_down_blocks_0_blocks_0_conv2_bn_bias, ema_detector_neck_top_down_blocks_0_blocks_0_conv2_bn_running_mean, ema_detector_neck_top_down_blocks_0_blocks_0_conv2_bn_running_var, ema_detector_neck_top_down_blocks_0_blocks_0_conv2_bn_num_batches_tracked, ema_detector_neck_top_down_blocks_0_blocks_1_conv1_conv_weight, ema_detector_neck_top_down_blocks_0_blocks_1_conv1_bn_weight, ema_detector_neck_top_down_blocks_0_blocks_1_conv1_bn_bias, ema_detector_neck_top_down_blocks_0_blocks_1_conv1_bn_running_mean, ema_detector_neck_top_down_blocks_0_blocks_1_conv1_bn_running_var, ema_detector_neck_top_down_blocks_0_blocks_1_conv1_bn_num_batches_tracked, ema_detector_neck_top_down_blocks_0_blocks_1_conv2_conv_weight, ema_detector_neck_top_down_blocks_0_blocks_1_conv2_bn_weight, ema_detector_neck_top_down_blocks_0_blocks_1_conv2_bn_bias, ema_detector_neck_top_down_blocks_0_blocks_1_conv2_bn_running_mean, ema_detector_neck_top_down_blocks_0_blocks_1_conv2_bn_running_var, ema_detector_neck_top_down_blocks_0_blocks_1_conv2_bn_num_batches_tracked, ema_detector_neck_top_down_blocks_0_blocks_2_conv1_conv_weight, ema_detector_neck_top_down_blocks_0_blocks_2_conv1_bn_weight, ema_detector_neck_top_down_blocks_0_blocks_2_conv1_bn_bias, ema_detector_neck_top_down_blocks_0_blocks_2_conv1_bn_running_mean, ema_detector_neck_top_down_blocks_0_blocks_2_conv1_bn_running_var, ema_detector_neck_top_down_blocks_0_blocks_2_conv1_bn_num_batches_tracked, ema_detector_neck_top_down_blocks_0_blocks_2_conv2_conv_weight, ema_detector_neck_top_down_blocks_0_blocks_2_conv2_bn_weight, ema_detector_neck_top_down_blocks_0_blocks_2_conv2_bn_bias, ema_detector_neck_top_down_blocks_0_blocks_2_conv2_bn_running_mean, ema_detector_neck_top_down_blocks_0_blocks_2_conv2_bn_running_var, ema_detector_neck_top_down_blocks_0_blocks_2_conv2_bn_num_batches_tracked, ema_detector_neck_top_down_blocks_1_main_conv_conv_weight, ema_detector_neck_top_down_blocks_1_main_conv_bn_weight, ema_detector_neck_top_down_blocks_1_main_conv_bn_bias, ema_detector_neck_top_down_blocks_1_main_conv_bn_running_mean, ema_detector_neck_top_down_blocks_1_main_conv_bn_running_var, ema_detector_neck_top_down_blocks_1_main_conv_bn_num_batches_tracked, ema_detector_neck_top_down_blocks_1_short_conv_conv_weight, ema_detector_neck_top_down_blocks_1_short_conv_bn_weight, ema_detector_neck_top_down_blocks_1_short_conv_bn_bias, ema_detector_neck_top_down_blocks_1_short_conv_bn_running_mean, ema_detector_neck_top_down_blocks_1_short_conv_bn_running_var, ema_detector_neck_top_down_blocks_1_short_conv_bn_num_batches_tracked, ema_detector_neck_top_down_blocks_1_final_conv_conv_weight, ema_detector_neck_top_down_blocks_1_final_conv_bn_weight, ema_detector_neck_top_down_blocks_1_final_conv_bn_bias, ema_detector_neck_top_down_blocks_1_final_conv_bn_running_mean, ema_detector_neck_top_down_blocks_1_final_conv_bn_running_var, ema_detector_neck_top_down_blocks_1_final_conv_bn_num_batches_tracked, ema_detector_neck_top_down_blocks_1_blocks_0_conv1_conv_weight, ema_detector_neck_top_down_blocks_1_blocks_0_conv1_bn_weight, ema_detector_neck_top_down_blocks_1_blocks_0_conv1_bn_bias, ema_detector_neck_top_down_blocks_1_blocks_0_conv1_bn_running_mean, ema_detector_neck_top_down_blocks_1_blocks_0_conv1_bn_running_var, ema_detector_neck_top_down_blocks_1_blocks_0_conv1_bn_num_batches_tracked, ema_detector_neck_top_down_blocks_1_blocks_0_conv2_conv_weight, ema_detector_neck_top_down_blocks_1_blocks_0_conv2_bn_weight, ema_detector_neck_top_down_blocks_1_blocks_0_conv2_bn_bias, ema_detector_neck_top_down_blocks_1_blocks_0_conv2_bn_running_mean, ema_detector_neck_top_down_blocks_1_blocks_0_conv2_bn_running_var, ema_detector_neck_top_down_blocks_1_blocks_0_conv2_bn_num_batches_tracked, ema_detector_neck_top_down_blocks_1_blocks_1_conv1_conv_weight, ema_detector_neck_top_down_blocks_1_blocks_1_conv1_bn_weight, ema_detector_neck_top_down_blocks_1_blocks_1_conv1_bn_bias, ema_detector_neck_top_down_blocks_1_blocks_1_conv1_bn_running_mean, ema_detector_neck_top_down_blocks_1_blocks_1_conv1_bn_running_var, ema_detector_neck_top_down_blocks_1_blocks_1_conv1_bn_num_batches_tracked, ema_detector_neck_top_down_blocks_1_blocks_1_conv2_conv_weight, ema_detector_neck_top_down_blocks_1_blocks_1_conv2_bn_weight, ema_detector_neck_top_down_blocks_1_blocks_1_conv2_bn_bias, ema_detector_neck_top_down_blocks_1_blocks_1_conv2_bn_running_mean, ema_detector_neck_top_down_blocks_1_blocks_1_conv2_bn_running_var, ema_detector_neck_top_down_blocks_1_blocks_1_conv2_bn_num_batches_tracked, ema_detector_neck_top_down_blocks_1_blocks_2_conv1_conv_weight, ema_detector_neck_top_down_blocks_1_blocks_2_conv1_bn_weight, ema_detector_neck_top_down_blocks_1_blocks_2_conv1_bn_bias, ema_detector_neck_top_down_blocks_1_blocks_2_conv1_bn_running_mean, ema_detector_neck_top_down_blocks_1_blocks_2_conv1_bn_running_var, ema_detector_neck_top_down_blocks_1_blocks_2_conv1_bn_num_batches_tracked, ema_detector_neck_top_down_blocks_1_blocks_2_conv2_conv_weight, ema_detector_neck_top_down_blocks_1_blocks_2_conv2_bn_weight, ema_detector_neck_top_down_blocks_1_blocks_2_conv2_bn_bias, ema_detector_neck_top_down_blocks_1_blocks_2_conv2_bn_running_mean, ema_detector_neck_top_down_blocks_1_blocks_2_conv2_bn_running_var, ema_detector_neck_top_down_blocks_1_blocks_2_conv2_bn_num_batches_tracked, ema_detector_neck_downsamples_0_conv_weight, ema_detector_neck_downsamples_0_bn_weight, ema_detector_neck_downsamples_0_bn_bias, ema_detector_neck_downsamples_0_bn_running_mean, ema_detector_neck_downsamples_0_bn_running_var, ema_detector_neck_downsamples_0_bn_num_batches_tracked, ema_detector_neck_downsamples_1_conv_weight, ema_detector_neck_downsamples_1_bn_weight, ema_detector_neck_downsamples_1_bn_bias, ema_detector_neck_downsamples_1_bn_running_mean, ema_detector_neck_downsamples_1_bn_running_var, ema_detector_neck_downsamples_1_bn_num_batches_tracked, ema_detector_neck_bottom_up_blocks_0_main_conv_conv_weight, ema_detector_neck_bottom_up_blocks_0_main_conv_bn_weight, ema_detector_neck_bottom_up_blocks_0_main_conv_bn_bias, ema_detector_neck_bottom_up_blocks_0_main_conv_bn_running_mean, ema_detector_neck_bottom_up_blocks_0_main_conv_bn_running_var, ema_detector_neck_bottom_up_blocks_0_main_conv_bn_num_batches_tracked, ema_detector_neck_bottom_up_blocks_0_short_conv_conv_weight, ema_detector_neck_bottom_up_blocks_0_short_conv_bn_weight, ema_detector_neck_bottom_up_blocks_0_short_conv_bn_bias, ema_detector_neck_bottom_up_blocks_0_short_conv_bn_running_mean, ema_detector_neck_bottom_up_blocks_0_short_conv_bn_running_var, ema_detector_neck_bottom_up_blocks_0_short_conv_bn_num_batches_tracked, ema_detector_neck_bottom_up_blocks_0_final_conv_conv_weight, ema_detector_neck_bottom_up_blocks_0_final_conv_bn_weight, ema_detector_neck_bottom_up_blocks_0_final_conv_bn_bias, ema_detector_neck_bottom_up_blocks_0_final_conv_bn_running_mean, ema_detector_neck_bottom_up_blocks_0_final_conv_bn_running_var, ema_detector_neck_bottom_up_blocks_0_final_conv_bn_num_batches_tracked, ema_detector_neck_bottom_up_blocks_0_blocks_0_conv1_conv_weight, ema_detector_neck_bottom_up_blocks_0_blocks_0_conv1_bn_weight, ema_detector_neck_bottom_up_blocks_0_blocks_0_conv1_bn_bias, ema_detector_neck_bottom_up_blocks_0_blocks_0_conv1_bn_running_mean, ema_detector_neck_bottom_up_blocks_0_blocks_0_conv1_bn_running_var, ema_detector_neck_bottom_up_blocks_0_blocks_0_conv1_bn_num_batches_tracked, ema_detector_neck_bottom_up_blocks_0_blocks_0_conv2_conv_weight, ema_detector_neck_bottom_up_blocks_0_blocks_0_conv2_bn_weight, ema_detector_neck_bottom_up_blocks_0_blocks_0_conv2_bn_bias, ema_detector_neck_bottom_up_blocks_0_blocks_0_conv2_bn_running_mean, ema_detector_neck_bottom_up_blocks_0_blocks_0_conv2_bn_running_var, ema_detector_neck_bottom_up_blocks_0_blocks_0_conv2_bn_num_batches_tracked, ema_detector_neck_bottom_up_blocks_0_blocks_1_conv1_conv_weight, ema_detector_neck_bottom_up_blocks_0_blocks_1_conv1_bn_weight, ema_detector_neck_bottom_up_blocks_0_blocks_1_conv1_bn_bias, ema_detector_neck_bottom_up_blocks_0_blocks_1_conv1_bn_running_mean, ema_detector_neck_bottom_up_blocks_0_blocks_1_conv1_bn_running_var, ema_detector_neck_bottom_up_blocks_0_blocks_1_conv1_bn_num_batches_tracked, ema_detector_neck_bottom_up_blocks_0_blocks_1_conv2_conv_weight, ema_detector_neck_bottom_up_blocks_0_blocks_1_conv2_bn_weight, ema_detector_neck_bottom_up_blocks_0_blocks_1_conv2_bn_bias, ema_detector_neck_bottom_up_blocks_0_blocks_1_conv2_bn_running_mean, ema_detector_neck_bottom_up_blocks_0_blocks_1_conv2_bn_running_var, ema_detector_neck_bottom_up_blocks_0_blocks_1_conv2_bn_num_batches_tracked, ema_detector_neck_bottom_up_blocks_0_blocks_2_conv1_conv_weight, ema_detector_neck_bottom_up_blocks_0_blocks_2_conv1_bn_weight, ema_detector_neck_bottom_up_blocks_0_blocks_2_conv1_bn_bias, ema_detector_neck_bottom_up_blocks_0_blocks_2_conv1_bn_running_mean, ema_detector_neck_bottom_up_blocks_0_blocks_2_conv1_bn_running_var, ema_detector_neck_bottom_up_blocks_0_blocks_2_conv1_bn_num_batches_tracked, ema_detector_neck_bottom_up_blocks_0_blocks_2_conv2_conv_weight, ema_detector_neck_bottom_up_blocks_0_blocks_2_conv2_bn_weight, ema_detector_neck_bottom_up_blocks_0_blocks_2_conv2_bn_bias, ema_detector_neck_bottom_up_blocks_0_blocks_2_conv2_bn_running_mean, ema_detector_neck_bottom_up_blocks_0_blocks_2_conv2_bn_running_var, ema_detector_neck_bottom_up_blocks_0_blocks_2_conv2_bn_num_batches_tracked, ema_detector_neck_bottom_up_blocks_1_main_conv_conv_weight, ema_detector_neck_bottom_up_blocks_1_main_conv_bn_weight, ema_detector_neck_bottom_up_blocks_1_main_conv_bn_bias, ema_detector_neck_bottom_up_blocks_1_main_conv_bn_running_mean, ema_detector_neck_bottom_up_blocks_1_main_conv_bn_running_var, ema_detector_neck_bottom_up_blocks_1_main_conv_bn_num_batches_tracked, ema_detector_neck_bottom_up_blocks_1_short_conv_conv_weight, ema_detector_neck_bottom_up_blocks_1_short_conv_bn_weight, ema_detector_neck_bottom_up_blocks_1_short_conv_bn_bias, ema_detector_neck_bottom_up_blocks_1_short_conv_bn_running_mean, ema_detector_neck_bottom_up_blocks_1_short_conv_bn_running_var, ema_detector_neck_bottom_up_blocks_1_short_conv_bn_num_batches_tracked, ema_detector_neck_bottom_up_blocks_1_final_conv_conv_weight, ema_detector_neck_bottom_up_blocks_1_final_conv_bn_weight, ema_detector_neck_bottom_up_blocks_1_final_conv_bn_bias, ema_detector_neck_bottom_up_blocks_1_final_conv_bn_running_mean, ema_detector_neck_bottom_up_blocks_1_final_conv_bn_running_var, ema_detector_neck_bottom_up_blocks_1_final_conv_bn_num_batches_tracked, ema_detector_neck_bottom_up_blocks_1_blocks_0_conv1_conv_weight, ema_detector_neck_bottom_up_blocks_1_blocks_0_conv1_bn_weight, ema_detector_neck_bottom_up_blocks_1_blocks_0_conv1_bn_bias, ema_detector_neck_bottom_up_blocks_1_blocks_0_conv1_bn_running_mean, ema_detector_neck_bottom_up_blocks_1_blocks_0_conv1_bn_running_var, ema_detector_neck_bottom_up_blocks_1_blocks_0_conv1_bn_num_batches_tracked, ema_detector_neck_bottom_up_blocks_1_blocks_0_conv2_conv_weight, ema_detector_neck_bottom_up_blocks_1_blocks_0_conv2_bn_weight, ema_detector_neck_bottom_up_blocks_1_blocks_0_conv2_bn_bias, ema_detector_neck_bottom_up_blocks_1_blocks_0_conv2_bn_running_mean, ema_detector_neck_bottom_up_blocks_1_blocks_0_conv2_bn_running_var, ema_detector_neck_bottom_up_blocks_1_blocks_0_conv2_bn_num_batches_tracked, ema_detector_neck_bottom_up_blocks_1_blocks_1_conv1_conv_weight, ema_detector_neck_bottom_up_blocks_1_blocks_1_conv1_bn_weight, ema_detector_neck_bottom_up_blocks_1_blocks_1_conv1_bn_bias, ema_detector_neck_bottom_up_blocks_1_blocks_1_conv1_bn_running_mean, ema_detector_neck_bottom_up_blocks_1_blocks_1_conv1_bn_running_var, ema_detector_neck_bottom_up_blocks_1_blocks_1_conv1_bn_num_batches_tracked, ema_detector_neck_bottom_up_blocks_1_blocks_1_conv2_conv_weight, ema_detector_neck_bottom_up_blocks_1_blocks_1_conv2_bn_weight, ema_detector_neck_bottom_up_blocks_1_blocks_1_conv2_bn_bias, ema_detector_neck_bottom_up_blocks_1_blocks_1_conv2_bn_running_mean, ema_detector_neck_bottom_up_blocks_1_blocks_1_conv2_bn_running_var, ema_detector_neck_bottom_up_blocks_1_blocks_1_conv2_bn_num_batches_tracked, ema_detector_neck_bottom_up_blocks_1_blocks_2_conv1_conv_weight, ema_detector_neck_bottom_up_blocks_1_blocks_2_conv1_bn_weight, ema_detector_neck_bottom_up_blocks_1_blocks_2_conv1_bn_bias, ema_detector_neck_bottom_up_blocks_1_blocks_2_conv1_bn_running_mean, ema_detector_neck_bottom_up_blocks_1_blocks_2_conv1_bn_running_var, ema_detector_neck_bottom_up_blocks_1_blocks_2_conv1_bn_num_batches_tracked, ema_detector_neck_bottom_up_blocks_1_blocks_2_conv2_conv_weight, ema_detector_neck_bottom_up_blocks_1_blocks_2_conv2_bn_weight, ema_detector_neck_bottom_up_blocks_1_blocks_2_conv2_bn_bias, ema_detector_neck_bottom_up_blocks_1_blocks_2_conv2_bn_running_mean, ema_detector_neck_bottom_up_blocks_1_blocks_2_conv2_bn_running_var, ema_detector_neck_bottom_up_blocks_1_blocks_2_conv2_bn_num_batches_tracked, ema_detector_neck_out_convs_0_conv_weight, ema_detector_neck_out_convs_0_bn_weight, ema_detector_neck_out_convs_0_bn_bias, ema_detector_neck_out_convs_0_bn_running_mean, ema_detector_neck_out_convs_0_bn_running_var, ema_detector_neck_out_convs_0_bn_num_batches_tracked, ema_detector_neck_out_convs_1_conv_weight, ema_detector_neck_out_convs_1_bn_weight, ema_detector_neck_out_convs_1_bn_bias, ema_detector_neck_out_convs_1_bn_running_mean, ema_detector_neck_out_convs_1_bn_running_var, ema_detector_neck_out_convs_1_bn_num_batches_tracked, ema_detector_neck_out_convs_2_conv_weight, ema_detector_neck_out_convs_2_bn_weight, ema_detector_neck_out_convs_2_bn_bias, ema_detector_neck_out_convs_2_bn_running_mean, ema_detector_neck_out_convs_2_bn_running_var, ema_detector_neck_out_convs_2_bn_num_batches_tracked, ema_detector_bbox_head_multi_level_cls_convs_0_0_conv_weight, ema_detector_bbox_head_multi_level_cls_convs_0_0_bn_weight, ema_detector_bbox_head_multi_level_cls_convs_0_0_bn_bias, ema_detector_bbox_head_multi_level_cls_convs_0_0_bn_running_mean, ema_detector_bbox_head_multi_level_cls_convs_0_0_bn_running_var, ema_detector_bbox_head_multi_level_cls_convs_0_0_bn_num_batches_tracked, ema_detector_bbox_head_multi_level_cls_convs_0_1_conv_weight, ema_detector_bbox_head_multi_level_cls_convs_0_1_bn_weight, ema_detector_bbox_head_multi_level_cls_convs_0_1_bn_bias, ema_detector_bbox_head_multi_level_cls_convs_0_1_bn_running_mean, ema_detector_bbox_head_multi_level_cls_convs_0_1_bn_running_var, ema_detector_bbox_head_multi_level_cls_convs_0_1_bn_num_batches_tracked, ema_detector_bbox_head_multi_level_cls_convs_1_0_conv_weight, ema_detector_bbox_head_multi_level_cls_convs_1_0_bn_weight, ema_detector_bbox_head_multi_level_cls_convs_1_0_bn_bias, ema_detector_bbox_head_multi_level_cls_convs_1_0_bn_running_mean, ema_detector_bbox_head_multi_level_cls_convs_1_0_bn_running_var, ema_detector_bbox_head_multi_level_cls_convs_1_0_bn_num_batches_tracked, ema_detector_bbox_head_multi_level_cls_convs_1_1_conv_weight, ema_detector_bbox_head_multi_level_cls_convs_1_1_bn_weight, ema_detector_bbox_head_multi_level_cls_convs_1_1_bn_bias, ema_detector_bbox_head_multi_level_cls_convs_1_1_bn_running_mean, ema_detector_bbox_head_multi_level_cls_convs_1_1_bn_running_var, ema_detector_bbox_head_multi_level_cls_convs_1_1_bn_num_batches_tracked, ema_detector_bbox_head_multi_level_cls_convs_2_0_conv_weight, ema_detector_bbox_head_multi_level_cls_convs_2_0_bn_weight, ema_detector_bbox_head_multi_level_cls_convs_2_0_bn_bias, ema_detector_bbox_head_multi_level_cls_convs_2_0_bn_running_mean, ema_detector_bbox_head_multi_level_cls_convs_2_0_bn_running_var, ema_detector_bbox_head_multi_level_cls_convs_2_0_bn_num_batches_tracked, ema_detector_bbox_head_multi_level_cls_convs_2_1_conv_weight, ema_detector_bbox_head_multi_level_cls_convs_2_1_bn_weight, ema_detector_bbox_head_multi_level_cls_convs_2_1_bn_bias, ema_detector_bbox_head_multi_level_cls_convs_2_1_bn_running_mean, ema_detector_bbox_head_multi_level_cls_convs_2_1_bn_running_var, ema_detector_bbox_head_multi_level_cls_convs_2_1_bn_num_batches_tracked, ema_detector_bbox_head_multi_level_reg_convs_0_0_conv_weight, ema_detector_bbox_head_multi_level_reg_convs_0_0_bn_weight, ema_detector_bbox_head_multi_level_reg_convs_0_0_bn_bias, ema_detector_bbox_head_multi_level_reg_convs_0_0_bn_running_mean, ema_detector_bbox_head_multi_level_reg_convs_0_0_bn_running_var, ema_detector_bbox_head_multi_level_reg_convs_0_0_bn_num_batches_tracked, ema_detector_bbox_head_multi_level_reg_convs_0_1_conv_weight, ema_detector_bbox_head_multi_level_reg_convs_0_1_bn_weight, ema_detector_bbox_head_multi_level_reg_convs_0_1_bn_bias, ema_detector_bbox_head_multi_level_reg_convs_0_1_bn_running_mean, ema_detector_bbox_head_multi_level_reg_convs_0_1_bn_running_var, ema_detector_bbox_head_multi_level_reg_convs_0_1_bn_num_batches_tracked, ema_detector_bbox_head_multi_level_reg_convs_1_0_conv_weight, ema_detector_bbox_head_multi_level_reg_convs_1_0_bn_weight, ema_detector_bbox_head_multi_level_reg_convs_1_0_bn_bias, ema_detector_bbox_head_multi_level_reg_convs_1_0_bn_running_mean, ema_detector_bbox_head_multi_level_reg_convs_1_0_bn_running_var, ema_detector_bbox_head_multi_level_reg_convs_1_0_bn_num_batches_tracked, ema_detector_bbox_head_multi_level_reg_convs_1_1_conv_weight, ema_detector_bbox_head_multi_level_reg_convs_1_1_bn_weight, ema_detector_bbox_head_multi_level_reg_convs_1_1_bn_bias, ema_detector_bbox_head_multi_level_reg_convs_1_1_bn_running_mean, ema_detector_bbox_head_multi_level_reg_convs_1_1_bn_running_var, ema_detector_bbox_head_multi_level_reg_convs_1_1_bn_num_batches_tracked, ema_detector_bbox_head_multi_level_reg_convs_2_0_conv_weight, ema_detector_bbox_head_multi_level_reg_convs_2_0_bn_weight, ema_detector_bbox_head_multi_level_reg_convs_2_0_bn_bias, ema_detector_bbox_head_multi_level_reg_convs_2_0_bn_running_mean, ema_detector_bbox_head_multi_level_reg_convs_2_0_bn_running_var, ema_detector_bbox_head_multi_level_reg_convs_2_0_bn_num_batches_tracked, ema_detector_bbox_head_multi_level_reg_convs_2_1_conv_weight, ema_detector_bbox_head_multi_level_reg_convs_2_1_bn_weight, ema_detector_bbox_head_multi_level_reg_convs_2_1_bn_bias, ema_detector_bbox_head_multi_level_reg_convs_2_1_bn_running_mean, ema_detector_bbox_head_multi_level_reg_convs_2_1_bn_running_var, ema_detector_bbox_head_multi_level_reg_convs_2_1_bn_num_batches_tracked, ema_detector_bbox_head_multi_level_conv_cls_0_weight, ema_detector_bbox_head_multi_level_conv_cls_0_bias, ema_detector_bbox_head_multi_level_conv_cls_1_weight, ema_detector_bbox_head_multi_level_conv_cls_1_bias, ema_detector_bbox_head_multi_level_conv_cls_2_weight, ema_detector_bbox_head_multi_level_conv_cls_2_bias, ema_detector_bbox_head_multi_level_conv_reg_0_weight, ema_detector_bbox_head_multi_level_conv_reg_0_bias, ema_detector_bbox_head_multi_level_conv_reg_1_weight, ema_detector_bbox_head_multi_level_conv_reg_1_bias, ema_detector_bbox_head_multi_level_conv_reg_2_weight, ema_detector_bbox_head_multi_level_conv_reg_2_bias, ema_detector_bbox_head_multi_level_conv_obj_0_weight, ema_detector_bbox_head_multi_level_conv_obj_0_bias, ema_detector_bbox_head_multi_level_conv_obj_1_weight, ema_detector_bbox_head_multi_level_conv_obj_1_bias, ema_detector_bbox_head_multi_level_conv_obj_2_weight, ema_detector_bbox_head_multi_level_conv_obj_2_bias\n"
     ]
    },
    {
     "name": "stderr",
     "output_type": "stream",
     "text": [
      "\u001B[32m2024-06-05 22:41:56.155\u001B[0m | \u001B[34m\u001B[1mDEBUG   \u001B[0m | \u001B[36mrun_tracker_bytetrack\u001B[0m:\u001B[36mmain_tracker_bytetrack\u001B[0m:\u001B[36m157\u001B[0m - \u001B[34m\u001B[1mTracking on frame 0, 0.00% (0.13s elapsed, 1000.00s remaining)\u001B[0m\n",
      "\u001B[32m2024-06-05 22:44:41.087\u001B[0m | \u001B[34m\u001B[1mDEBUG   \u001B[0m | \u001B[36mrun_tracker_bytetrack\u001B[0m:\u001B[36mmain_tracker_bytetrack\u001B[0m:\u001B[36m157\u001B[0m - \u001B[34m\u001B[1mTracking on frame 50, 52.63% (165.05s elapsed, 148.54s remaining)\u001B[0m\n",
      "\u001B[32m2024-06-05 22:47:13.933\u001B[0m | \u001B[34m\u001B[1mDEBUG   \u001B[0m | \u001B[36mpigleg_cv\u001B[0m:\u001B[36mfind_stitch_ends_in_tracks\u001B[0m:\u001B[36m848\u001B[0m - \u001B[34m\u001B[1mfind_stitch_end, n_clusters=0, outputdir=PosixPath('/webapps/piglegsurgery/piglegsurgeryweb/media/SA_20231213-082852_yogjl47cusic/SA_20231213-082852')\u001B[0m\n",
      "\u001B[32m2024-06-05 22:47:13.956\u001B[0m | \u001B[34m\u001B[1mDEBUG   \u001B[0m | \u001B[36mpigleg_cv\u001B[0m:\u001B[36m_get_metadata\u001B[0m:\u001B[36m786\u001B[0m - \u001B[34m\u001B[1mincision_bboxes=[[264.8380432128906, 341.15032958984375, 417.4794921875, 394.9026184082031, 0.9969009160995483]]\u001B[0m\n",
      "\u001B[32m2024-06-05 22:47:13.960\u001B[0m | \u001B[34m\u001B[1mDEBUG   \u001B[0m | \u001B[36mpigleg_cv\u001B[0m:\u001B[36m_get_metadata\u001B[0m:\u001B[36m788\u001B[0m - \u001B[34m\u001B[1mfind stitch end, pix_size=0.0004876054523338215, fps=15\u001B[0m\n",
      "\u001B[32m2024-06-05 22:47:13.974\u001B[0m | \u001B[34m\u001B[1mDEBUG   \u001B[0m | \u001B[36mpigleg_cv\u001B[0m:\u001B[36m_get_X_px_fr_more_tools\u001B[0m:\u001B[36m732\u001B[0m - \u001B[34m\u001B[1mX_px_fr_list=[array([[     269.16,      374.19,          49],\n",
      "       [     269.16,      357.72,          50],\n",
      "       [      263.5,      394.71,          66],\n",
      "       [      263.5,      394.72,          67]])]\u001B[0m\n",
      "\u001B[32m2024-06-05 22:47:13.976\u001B[0m | \u001B[34m\u001B[1mDEBUG   \u001B[0m | \u001B[36mpigleg_cv\u001B[0m:\u001B[36m_get_X_px_fr_more_tools\u001B[0m:\u001B[36m735\u001B[0m - \u001B[34m\u001B[1mX_px_fr.shape=(4, 3)\u001B[0m\n",
      "\u001B[32m2024-06-05 22:47:13.982\u001B[0m | \u001B[34m\u001B[1mDEBUG   \u001B[0m | \u001B[36mpigleg_cv\u001B[0m:\u001B[36m_get_X_px_fr_more_tools\u001B[0m:\u001B[36m732\u001B[0m - \u001B[34m\u001B[1mX_px_fr_list=[array([[      305.4,      367.68,           0],\n",
      "       [     305.41,       367.7,           1],\n",
      "       [     305.26,      367.75,           2],\n",
      "       [     305.24,      367.76,           3],\n",
      "       [     305.24,      367.64,           4],\n",
      "       [     304.96,      367.54,           5],\n",
      "       [     305.21,      367.04,           6],\n",
      "       [     304.95,      367.47,           7],\n",
      "       [     304.95,      367.46,           8],\n",
      "       [     304.69,      368.97,           9],\n",
      "       [     303.81,      370.58,          10],\n",
      "       [     303.78,      370.54,          11],\n",
      "       [     303.97,      370.55,          12],\n",
      "       [     304.08,      368.95,          13],\n",
      "       [      304.3,      368.67,          14],\n",
      "       [     304.29,      368.66,          15],\n",
      "       [     303.89,      367.83,          16],\n",
      "       [     303.56,       367.9,          17],\n",
      "       [     303.57,      367.89,          18],\n",
      "       [      302.3,      368.18,          19],\n",
      "       [     302.59,      368.89,          20],\n",
      "       [     305.32,      371.02,          21],\n",
      "       [     305.47,      375.55,          22],\n",
      "       [     305.49,      375.56,          23],\n",
      "       [     325.63,      364.73,          24],\n",
      "       [     352.67,      384.56,          25],\n",
      "       [     378.23,      375.41,          26],\n",
      "       [     378.24,      375.42,          27],\n",
      "       [     384.54,      368.23,          28],\n",
      "       [     404.69,      348.35,          29],\n",
      "       [      404.7,      348.37,          30],\n",
      "       [     416.53,      343.18,          31],\n",
      "       [     263.93,      379.86,          36],\n",
      "       [     263.94,      379.86,          37],\n",
      "       [     263.87,      371.66,          38],\n",
      "       [     263.56,      376.88,          39],\n",
      "       [     263.56,      376.88,          40],\n",
      "       [     264.98,      386.18,          41],\n",
      "       [     266.58,       389.9,          42],\n",
      "       [     265.94,       406.3,          43],\n",
      "       [     269.15,      430.31,          44],\n",
      "       [     269.14,      430.33,          45],\n",
      "       [     270.28,      444.07,          46],\n",
      "       [     270.28,      444.85,          47],\n",
      "       [     270.28,      444.91,          48],\n",
      "       [     270.08,       448.4,          49],\n",
      "       [     271.22,       453.1,          50],\n",
      "       [     275.06,      462.86,          51],\n",
      "       [     279.67,      477.67,          52],\n",
      "       [     279.66,      477.68,          53],\n",
      "       [     280.77,      482.27,          54],\n",
      "       [     282.27,      495.86,          55],\n",
      "       [     285.08,      505.31,          56],\n",
      "       [     285.09,      505.31,          57],\n",
      "       [     283.74,      506.58,          58],\n",
      "       [     277.04,      524.51,          65],\n",
      "       [     277.86,      515.51,          66],\n",
      "       [     277.86,      515.51,          67],\n",
      "       [     281.24,      511.74,          68],\n",
      "       [     281.24,      511.74,          69],\n",
      "       [     282.94,      509.05,          70],\n",
      "       [     282.42,      506.31,          71],\n",
      "       [     282.42,      506.31,          72],\n",
      "       [     281.64,      505.43,          73],\n",
      "       [     281.32,      503.87,          74],\n",
      "       [     281.25,      502.91,          75],\n",
      "       [      281.3,      503.88,          76],\n",
      "       [      281.3,      503.87,          77],\n",
      "       [     278.37,      495.59,          78],\n",
      "       [     277.09,      492.49,          79],\n",
      "       [     276.31,      491.33,          80],\n",
      "       [     276.31,      491.33,          81],\n",
      "       [     276.31,      491.33,          82],\n",
      "       [     283.74,      482.02,          83],\n",
      "       [     283.74,      482.02,          84],\n",
      "       [     290.93,      476.33,          85],\n",
      "       [     319.65,      464.48,          86],\n",
      "       [     319.65,      464.47,          87],\n",
      "       [     319.65,      464.47,          88],\n",
      "       [     245.79,      452.68,          93],\n",
      "       [     245.76,       452.7,          94]]), array([[     269.16,      374.19,          49],\n",
      "       [     269.16,      357.72,          50],\n",
      "       [      263.5,      394.71,          66],\n",
      "       [      263.5,      394.72,          67]])]\u001B[0m\n",
      "\u001B[32m2024-06-05 22:47:13.984\u001B[0m | \u001B[34m\u001B[1mDEBUG   \u001B[0m | \u001B[36mpigleg_cv\u001B[0m:\u001B[36m_get_X_px_fr_more_tools\u001B[0m:\u001B[36m735\u001B[0m - \u001B[34m\u001B[1mX_px_fr.shape=(85, 3)\u001B[0m\n",
      "\u001B[32m2024-06-05 22:47:13.987\u001B[0m | \u001B[34m\u001B[1mDEBUG   \u001B[0m | \u001B[36mpigleg_cv\u001B[0m:\u001B[36mfind_stitch_ends_in_tracks\u001B[0m:\u001B[36m898\u001B[0m - \u001B[34m\u001B[1msplits_frames=[]\u001B[0m\n"
     ]
    },
    {
     "data": {
      "text/plain": [
       "[0, 94]"
      ]
     },
     "execution_count": 10,
     "metadata": {},
     "output_type": "execute_result"
    }
   ],
   "source": [
    "dcv = pigleg_cv.DoComputerVision(\n",
    "    mediafile_path,\n",
    "    outputdir,\n",
    "    test_first_seconds=test_first_seconds,\n",
    "    is_microsurgery=is_microsurgery,\n",
    ")\n",
    "dcv._run_tracking\n",
    "\n",
    "dcv._make_sure_media_is_cropped()\n",
    "\n",
    "dcv.run_image_processing()\n",
    "dcv.meta[\"is_microsurgery\"] = dcv.is_microsurgery\n",
    "dcv.meta[\"n_stitches_by_user\"] = dcv.n_stitches\n",
    "dcv._run_tracking()\n",
    "dcv._find_stitch_ends_in_tracks(\n",
    "    n_clusters=dcv.n_stitches,\n",
    "    plot_clusters=True,\n",
    "    clusters_image_path=dcv.outputdir / \"_stitch_clusters.jpg\",\n",
    ")\n",
    "\n",
    "# dcv.run()"
   ]
  },
  {
   "cell_type": "code",
   "execution_count": null,
   "id": "3732add8-a816-4bef-9725-533dae0a8494",
   "metadata": {
    "tags": []
   },
   "outputs": [],
   "source": [
    "## deterministic profiles\n",
    "# from cProfile import Profile\n",
    "# from pstats import SortKey, Stats\n",
    "# with Profile() as profile:\n",
    "#     dcv._make_report(cut_frames=dcv.meta[\"stitch_split_frames\"])(\n",
    "#         Stats(profile)\n",
    "#         .strip_dirs()\n",
    "#         .sort_stats(SortKey.CALLS)\n",
    "#         .print_stats()\n",
    "#     )"
   ]
  },
  {
   "cell_type": "code",
   "execution_count": null,
   "id": "4c1a9abf-e6e5-453a-801f-982d7aeaab1b",
   "metadata": {
    "tags": []
   },
   "outputs": [],
   "source": []
  },
  {
   "cell_type": "code",
   "execution_count": null,
   "id": "278533f1-45fb-404b-813d-189b64745745",
   "metadata": {
    "tags": []
   },
   "outputs": [],
   "source": [
    "from pyinstrument import Profiler\n",
    "\n",
    "with Profiler(interval=0.02) as profiler:\n",
    "    dcv._make_report(cut_frames=dcv.meta[\"stitch_split_frames\"])"
   ]
  },
  {
   "cell_type": "code",
   "execution_count": 35,
   "id": "c4500e0b-1134-41a5-b7ff-b80d8cb8058c",
   "metadata": {
    "tags": []
   },
   "outputs": [
    {
     "name": "stdout",
     "output_type": "stream",
     "text": [
      "\n",
      "  _     ._   __/__   _ _  _  _ _/_   Recorded: 00:19:17  Samples:  355\n",
      " /_//_/// /_\\ / //_// / //_'/ //     Duration: 10.830    CPU time: 9.212\n",
      "/   _/                      v4.6.1\n",
      "\n",
      "Program: /opt/conda/lib/python3.8/site-packages/ipykernel_launcher.py -f /home/appuser/.local/share/jupyter/runtime/kernel-f704adcb-7f3f-42c6-9361-10e73b240a0b.json\n",
      "\n",
      "10.810 <cell line: 2>  ../../../tmp/ipykernel_505/356217478.py:2\n",
      "└─ 10.810 DoComputerVision._make_report  pigleg_cv.py:529\n",
      "   └─ 10.810 main_report  run_report.py:906\n",
      "      ├─ 2.925 plot3  run_report.py:500\n",
      "      │  └─ 2.905 Figure.savefig  matplotlib/figure.py:2923\n",
      "      │        [38 frames hidden]  matplotlib\n",
      "      ├─ 2.485 system  <built-in>\n",
      "      ├─ 1.866 create_pdf_report_for_one_tool  run_report.py:219\n",
      "      │  ├─ 1.255 savefig  matplotlib/pyplot.py:976\n",
      "      │  │     [34 frames hidden]  matplotlib, <built-in>, PIL\n",
      "      │  ├─ 0.222 Figure.tight_layout  matplotlib/figure.py:3189\n",
      "      │  │     [6 frames hidden]  matplotlib\n",
      "      │  └─ 0.120 Figure.add_subplot  matplotlib/figure.py:646\n",
      "      │        [4 frames hidden]  matplotlib\n",
      "      ├─ 1.298 create_heatmap_report_plt  run_report.py:154\n",
      "      │  ├─ 0.653 savefig  matplotlib/pyplot.py:976\n",
      "      │  │     [33 frames hidden]  matplotlib, <built-in>\n",
      "      │  ├─ 0.296 wrapper  matplotlib/_api/deprecation.py:448\n",
      "      │  │     [8 frames hidden]  matplotlib, <built-in>\n",
      "      │  └─ 0.278 kdeplot  seaborn/distributions.py:1581\n",
      "      │        [4 frames hidden]  seaborn\n",
      "      ├─ 0.979 resize  <built-in>\n",
      "      ├─ 0.348 VideoWriter.write  <built-in>\n",
      "      ├─ 0.221 create_video_report_figure  run_report.py:510\n",
      "      │  └─ 0.121 Figure.tight_layout  matplotlib/figure.py:3189\n",
      "      ├─ 0.166 VideoCapture.read  <built-in>\n",
      "      └─ 0.139 debug  loguru/_logger.py:2038\n",
      "            [3 frames hidden]  loguru\n"
     ]
    }
   ],
   "source": [
    "profiler.print()"
   ]
  },
  {
   "cell_type": "code",
   "execution_count": 29,
   "id": "37f102ad-3a98-447f-9cef-c271c544fea1",
   "metadata": {
    "tags": []
   },
   "outputs": [
    {
     "name": "stdout",
     "output_type": "stream",
     "text": [
      "\n",
      "  _     ._   __/__   _ _  _  _ _/_   Recorded: 00:03:00  Samples:  701\n",
      " /_//_/// /_\\ / //_// / //_'/ //     Duration: 16.762    CPU time: 26.226\n",
      "/   _/                      v4.6.1\n",
      "\n",
      "Program: /opt/conda/lib/python3.8/site-packages/ipykernel_launcher.py -f /home/appuser/.local/share/jupyter/runtime/kernel-f704adcb-7f3f-42c6-9361-10e73b240a0b.json\n",
      "\n",
      "16.754 <cell line: 2>  ../../../tmp/ipykernel_505/356217478.py:2\n",
      "└─ 16.754 DoComputerVision._make_report  pigleg_cv.py:529\n",
      "   └─ 16.754 main_report  run_report.py:906\n",
      "      ├─ 6.859 resize  skimage/transform/_warps.py:19\n",
      "      │     [20 frames hidden]  skimage, <__array_function__ internal...\n",
      "      │        5.271 warp  skimage/transform/_warps.py:684\n",
      "      │        ├─ 3.970 [self]  skimage/transform/_warps.py\n",
      "      ├─ 4.709 plot3  run_report.py:500\n",
      "      │  └─ 4.709 Figure.savefig  matplotlib/figure.py:2923\n",
      "      │        [44 frames hidden]  matplotlib\n",
      "      ├─ 1.907 create_pdf_report_for_one_tool  run_report.py:219\n",
      "      │  ├─ 1.359 savefig  matplotlib/pyplot.py:976\n",
      "      │  │     [35 frames hidden]  matplotlib, <built-in>, PIL\n",
      "      │  └─ 0.240 Figure.tight_layout  matplotlib/figure.py:3189\n",
      "      │        [5 frames hidden]  matplotlib\n",
      "      ├─ 1.285 system  <built-in>\n",
      "      ├─ 0.884 create_heatmap_report_plt  run_report.py:154\n",
      "      │  ├─ 0.439 savefig  matplotlib/pyplot.py:976\n",
      "      │  │     [7 frames hidden]  matplotlib\n",
      "      │  └─ 0.268 kdeplot  seaborn/distributions.py:1581\n",
      "      │        [2 frames hidden]  seaborn\n",
      "      ├─ 0.208 VideoCapture.read  <built-in>\n",
      "      ├─ 0.199 VideoWriter.write  <built-in>\n",
      "      └─ 0.181 create_video_report_figure  run_report.py:510\n"
     ]
    }
   ],
   "source": [
    "# with skimage.transform.resize\n",
    "profiler.print()"
   ]
  },
  {
   "cell_type": "code",
   "execution_count": 30,
   "id": "51414c80-8e68-4221-9844-52a8c7e3867a",
   "metadata": {
    "tags": []
   },
   "outputs": [
    {
     "name": "stdout",
     "output_type": "stream",
     "text": []
    },
    {
     "data": {
      "text/plain": [
       "'/tmp/tmpwg8lzr2x.html'"
      ]
     },
     "execution_count": 30,
     "metadata": {},
     "output_type": "execute_result"
    }
   ],
   "source": [
    "profiler.open_in_browser()"
   ]
  },
  {
   "cell_type": "code",
   "execution_count": 12,
   "id": "e7a24464-14ba-4e7d-9405-faefb21580b7",
   "metadata": {
    "tags": []
   },
   "outputs": [],
   "source": [
    "# report_data = dcv.make_report()"
   ]
  }
 ],
 "metadata": {
  "kernelspec": {
   "display_name": "Python 3 (ipykernel)",
   "language": "python",
   "name": "python3"
  },
  "language_info": {
   "codemirror_mode": {
    "name": "ipython",
    "version": 3
   },
   "file_extension": ".py",
   "mimetype": "text/x-python",
   "name": "python",
   "nbconvert_exporter": "python",
   "pygments_lexer": "ipython3",
   "version": "3.8.13"
  }
 },
 "nbformat": 4,
 "nbformat_minor": 5
}
