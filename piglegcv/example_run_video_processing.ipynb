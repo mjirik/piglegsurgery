{
 "cells": [
  {
   "cell_type": "code",
   "execution_count": 69,
   "id": "20174eb1",
   "metadata": {
    "tags": []
   },
   "outputs": [
    {
     "name": "stdout",
     "output_type": "stream",
     "text": [
      "The autoreload extension is already loaded. To reload it, use:\n",
      "  %reload_ext autoreload\n"
     ]
    }
   ],
   "source": [
    "%load_ext autoreload\n",
    "%autoreload 2\n",
    "from pathlib import Path\n",
    "from skimage.io import imread\n",
    "import matplotlib.pyplot as plt\n",
    "import pigleg_cv\n",
    "import shutil"
   ]
  },
  {
   "cell_type": "code",
   "execution_count": 37,
   "id": "60f3eccf",
   "metadata": {
    "tags": []
   },
   "outputs": [
    {
     "name": "stdout",
     "output_type": "stream",
     "text": [
      "/webapps/piglegsurgery/piglegcv\n"
     ]
    }
   ],
   "source": [
    "!pwd"
   ]
  },
  {
   "cell_type": "code",
   "execution_count": 38,
   "id": "66cc277c",
   "metadata": {
    "tags": []
   },
   "outputs": [
    {
     "data": {
      "text/plain": [
       "True"
      ]
     },
     "execution_count": 38,
     "metadata": {},
     "output_type": "execute_result"
    }
   ],
   "source": [
    "import torch\n",
    "torch.cuda.is_available()"
   ]
  },
  {
   "cell_type": "code",
   "execution_count": 39,
   "id": "c9ae785c",
   "metadata": {
    "tags": []
   },
   "outputs": [
    {
     "name": "stdout",
     "output_type": "stream",
     "text": [
      "Wed Dec 13 16:12:24 2023       \n",
      "+-----------------------------------------------------------------------------+\n",
      "| NVIDIA-SMI 470.103.01   Driver Version: 470.103.01   CUDA Version: 11.4     |\n",
      "|-------------------------------+----------------------+----------------------+\n",
      "| GPU  Name        Persistence-M| Bus-Id        Disp.A | Volatile Uncorr. ECC |\n",
      "| Fan  Temp  Perf  Pwr:Usage/Cap|         Memory-Usage | GPU-Util  Compute M. |\n",
      "|                               |                      |               MIG M. |\n",
      "|===============================+======================+======================|\n",
      "|   0  NVIDIA GeForce ...  On   | 00000000:42:00.0 Off |                  N/A |\n",
      "|  0%   39C    P8     9W / 250W |   2592MiB / 11175MiB |      0%      Default |\n",
      "|                               |                      |                  N/A |\n",
      "+-------------------------------+----------------------+----------------------+\n",
      "                                                                               \n",
      "+-----------------------------------------------------------------------------+\n",
      "| Processes:                                                                  |\n",
      "|  GPU   GI   CI        PID   Type   Process name                  GPU Memory |\n",
      "|        ID   ID                                                   Usage      |\n",
      "|=============================================================================|\n",
      "+-----------------------------------------------------------------------------+\n"
     ]
    }
   ],
   "source": [
    "!nvidia-smi"
   ]
  },
  {
   "cell_type": "code",
   "execution_count": 40,
   "id": "e82ff789",
   "metadata": {
    "tags": []
   },
   "outputs": [
    {
     "data": {
      "text/plain": [
       "'1.12.0a0+8a1a93a'"
      ]
     },
     "execution_count": 40,
     "metadata": {},
     "output_type": "execute_result"
    }
   ],
   "source": [
    "torch.__version__"
   ]
  },
  {
   "cell_type": "code",
   "execution_count": 41,
   "id": "4e060b5f",
   "metadata": {
    "tags": []
   },
   "outputs": [
    {
     "data": {
      "text/plain": [
       "True"
      ]
     },
     "execution_count": 41,
     "metadata": {},
     "output_type": "execute_result"
    }
   ],
   "source": [
    "Path(\"~/.cache/torch/hub/checkpoints/\").expanduser().exists()"
   ]
  },
  {
   "cell_type": "code",
   "execution_count": 42,
   "id": "2f223e1d",
   "metadata": {
    "tags": []
   },
   "outputs": [
    {
     "name": "stdout",
     "output_type": "stream",
     "text": [
      "yolox_x_8x8_300e_coco_20211126_140254-1ef88d67.pth\n"
     ]
    }
   ],
   "source": [
    "!ls ~/.cache/torch/hub/checkpoints/"
   ]
  },
  {
   "cell_type": "code",
   "execution_count": 12,
   "id": "ed8c55f3",
   "metadata": {
    "tags": []
   },
   "outputs": [],
   "source": [
    "# pip install mmcv-full"
   ]
  },
  {
   "cell_type": "markdown",
   "id": "8657dcb7",
   "metadata": {},
   "source": [
    "# Run whole video processing"
   ]
  },
  {
   "cell_type": "code",
   "execution_count": 72,
   "id": "01e53c65-16c0-45ae-960f-cb5f7d3de5b2",
   "metadata": {
    "tags": []
   },
   "outputs": [],
   "source": [
    "outputdir = \"./del_test_video_output/\""
   ]
  },
  {
   "cell_type": "code",
   "execution_count": 87,
   "id": "ce68d1d2",
   "metadata": {
    "tags": []
   },
   "outputs": [
    {
     "data": {
      "text/plain": [
       "PosixPath('../piglegsurgeryweb/media/upload/20231011-191116_2023_10_11_B_Seltmann_Charlotte_fortlaufende_Transcutannaht_2420162e9b953df5fcaf26ac64f0bd3a7ae78c36/2023_10_11_B_Seltmann_Charlotte_fortlaufende_Transcutannaht.mp4')"
      ]
     },
     "execution_count": 87,
     "metadata": {},
     "output_type": "execute_result"
    }
   ],
   "source": [
    "patch = \"*/Anasto*.mp4\"\n",
    "# patch = \"*/2023_10_11_B-Grübbel_Mareike_Fortlaufende_Transkutannaht.mov\"\n",
    "patch = \"*/Einzel.MOV\"\n",
    "patch = \"*/*test_4.mp4\"\n",
    "patch = \"*/*micro_01*.mp4\"\n",
    "patch = \"*/2023_10_11_B_Seltmann_Charlotte_fortlaufende_Transcutannaht.mp4\"\n",
    "is_microsurgery = False\n",
    "test_first_seconds=False\n",
    "\n",
    "img_pths = list(Path(\"../piglegsurgeryweb/media/upload/\").glob(patch))\n",
    "img_pths[0]"
   ]
  },
  {
   "cell_type": "code",
   "execution_count": 84,
   "id": "db4913cd-84d4-4027-9dc9-b837f6ef22c9",
   "metadata": {
    "tags": []
   },
   "outputs": [
    {
     "data": {
      "text/plain": [
       "PosixPath('del_test_video_output_copy/SA_20231011-191116')"
      ]
     },
     "execution_count": 84,
     "metadata": {},
     "output_type": "execute_result"
    }
   ],
   "source": [
    "# this is to test it on processed video\n",
    "outputdir = Path(\"del_test_video_output_copy\")\n",
    "shutil.rmtree(outputdir, ignore_errors=True)\n",
    "patch = \"2023_10_11_B_Seltmann_Charlotte_fortlaufende_Transcutannaht.mp4\"\n",
    "img_pths = list(Path(\"../piglegsurgeryweb/media/\").glob(f\"**/*{patch}.zip\"))\n",
    "shutil.copytree(str(img_pths[0].parent), str(outputdir))\n",
    "outputdir = list(outputdir.glob(\"*/*\"))[0].parent\n",
    "# img_pths[0].parent\n",
    "# outputdir = Path(\"/webapps/piglegsurgery/piglegsurgeryweb/media/SA_20231011-191116_doqinglbsdnj\").glob(\"**/*\")\n",
    "# list(outputdir)\n",
    "outputdir"
   ]
  },
  {
   "cell_type": "markdown",
   "id": "5adab114",
   "metadata": {},
   "source": [
    "# Do it per partes"
   ]
  },
  {
   "cell_type": "code",
   "execution_count": 85,
   "id": "4508ec4d",
   "metadata": {
    "tags": []
   },
   "outputs": [],
   "source": [
    "\n",
    "# pigleg_cv.do_computer_vision(img_pths[0], outputdir , meta=None)\n",
    "dcv = pigleg_cv.DoComputerVision(img_pths[0], outputdir, test_first_seconds=test_first_seconds, is_microsurgery=is_microsurgery)\n",
    "# qr_data = dcv.get_parameters_for_crop_rotate_rescale()\n",
    "# plt.imshow(dcv.frame)\n",
    "# dcv._make_sure_media_is_cropped()\n",
    "# dcv.run_image_processing()\n",
    "# dcv._run_tracking()\n",
    "# dcv._make_report()\n",
    "# dcv._save_results()"
   ]
  },
  {
   "cell_type": "code",
   "execution_count": null,
   "id": "1aa7388d-9a80-4e2d-b2dc-b6566203ec73",
   "metadata": {
    "tags": []
   },
   "outputs": [],
   "source": [
    "dcv._run_tracking()"
   ]
  },
  {
   "cell_type": "code",
   "execution_count": null,
   "id": "b6ca8f30-09b3-437f-a084-76f9dee94ad0",
   "metadata": {
    "tags": []
   },
   "outputs": [],
   "source": [
    "dcv._make_report()\n",
    "dcv._save_results()"
   ]
  },
  {
   "cell_type": "markdown",
   "id": "162998e0-7d35-4ddb-865c-68aacdc9e8c6",
   "metadata": {},
   "source": [
    "### Check the parameters for rotate and crop"
   ]
  },
  {
   "cell_type": "code",
   "execution_count": 149,
   "id": "6af80cef",
   "metadata": {},
   "outputs": [
    {
     "name": "stderr",
     "output_type": "stream",
     "text": [
      "\u001b[32m2023-10-25 09:05:22.327\u001b[0m | \u001b[34m\u001b[1mDEBUG   \u001b[0m | \u001b[36mrun_perpendicular\u001b[0m:\u001b[36mget_frame_to_process\u001b[0m:\u001b[36m162\u001b[0m - \u001b[34m\u001b[1m1672\u001b[0m\n",
      "\u001b[32m2023-10-25 09:05:22.863\u001b[0m | \u001b[34m\u001b[1mDEBUG   \u001b[0m | \u001b[36mrun_qr\u001b[0m:\u001b[36mget_bboxes\u001b[0m:\u001b[36m37\u001b[0m - \u001b[34m\u001b[1m[[          0           0      1063.3      1326.7     0.13618]\n",
      " [          0      790.14      1059.4        1920    0.098914]\n",
      " [      111.5      1085.8      919.27      1770.7    0.062531]\n",
      " [     150.39      187.66      982.93      900.72    0.050687]]\u001b[0m\n",
      "\u001b[32m2023-10-25 09:05:23.137\u001b[0m | \u001b[34m\u001b[1mDEBUG   \u001b[0m | \u001b[36mrun_qr\u001b[0m:\u001b[36mbbox_info_extraction_from_frame\u001b[0m:\u001b[36m135\u001b[0m - \u001b[34m\u001b[1m{'bbox_scene_area': [7.598320484161377,\n",
      "                     0.4476509690284729,\n",
      "                     1076.2008056640625,\n",
      "                     1158.05126953125,\n",
      "                     0.3550494313240051],\n",
      " 'box': [],\n",
      " 'incision_bboxes': [],\n",
      " 'is_detected': False,\n",
      " 'pix_size': 1.0,\n",
      " 'pix_size_method': 'video size estimation',\n",
      " 'pix_size_single_frame_detector_m': 2.326684652934122e-05,\n",
      " 'qr_scissors_frame_detected': False,\n",
      " 'qr_size': 0.027,\n",
      " 'size_by_scene': 0.0002777777777777778,\n",
      " 'text': None}\u001b[0m\n",
      "2023-10-25 09:05:23,141 - /webapps/piglegsurgery/piglegcv/incision_detection_mmdet.py - DEBUG - checkpoint_path.exists=True\n",
      "2023-10-25 09:05:23,145 - /webapps/piglegsurgery/piglegcv/incision_detection_mmdet.py - DEBUG - img.shape=(1920, 1080, 3), max(img)=255\n"
     ]
    },
    {
     "name": "stdout",
     "output_type": "stream",
     "text": [
      "Fusing layers... \n",
      "IDetect.fuse\n",
      "load checkpoint from local path: /webapps/piglegsurgery/piglegcv/resources/incision_detection_models/220326_234659_mmdet.pth\n"
     ]
    },
    {
     "name": "stderr",
     "output_type": "stream",
     "text": [
      "2023-10-25 09:05:23,686 - /webapps/piglegsurgery/piglegcv/incision_detection_mmdet.py - DEBUG - number of detected incisions = 0\n",
      "\u001b[32m2023-10-25 09:05:23.688\u001b[0m | \u001b[34m\u001b[1mDEBUG   \u001b[0m | \u001b[36mpigleg_cv\u001b[0m:\u001b[36mget_parameters_for_crop_rotate_rescale\u001b[0m:\u001b[36m164\u001b[0m - \u001b[34m\u001b[1m{'bbox_scene_area': [7.598320484161377,\n",
      "                     0.4476509690284729,\n",
      "                     1076.2008056640625,\n",
      "                     1158.05126953125,\n",
      "                     0.3550494313240051],\n",
      " 'box': [],\n",
      " 'incision_bboxes': [],\n",
      " 'incision_bboxes_old': [],\n",
      " 'is_detected': False,\n",
      " 'pix_size': 1.0,\n",
      " 'pix_size_method': 'video size estimation',\n",
      " 'pix_size_single_frame_detector_m': 2.326684652934122e-05,\n",
      " 'qr_scissors_frame_detected': False,\n",
      " 'qr_scissors_frames': [],\n",
      " 'qr_size': 0.027,\n",
      " 'size_by_scene': 0.0002777777777777778,\n",
      " 'text': None}\u001b[0m\n"
     ]
    },
    {
     "data": {
      "text/plain": [
       "{'pix_size_method': 'video size estimation',\n",
       " 'is_detected': False,\n",
       " 'box': [],\n",
       " 'pix_size': 1.0,\n",
       " 'incision_bboxes': [],\n",
       " 'qr_size': 0.027,\n",
       " 'size_by_scene': 0.0002777777777777778,\n",
       " 'text': None,\n",
       " 'pix_size_single_frame_detector_m': 2.326684652934122e-05,\n",
       " 'bbox_scene_area': [7.598320484161377,\n",
       "  0.4476509690284729,\n",
       "  1076.2008056640625,\n",
       "  1158.05126953125,\n",
       "  0.3550494313240051],\n",
       " 'qr_scissors_frame_detected': False,\n",
       " 'qr_scissors_frames': [],\n",
       " 'incision_bboxes_old': []}"
      ]
     },
     "execution_count": 149,
     "metadata": {},
     "output_type": "execute_result"
    },
    {
     "data": {
      "image/png": "[encoded data removed]",
      "text/plain": [
       "<Figure size 432x288 with 1 Axes>"
      ]
     },
     "metadata": {
      "needs_background": "light"
     },
     "output_type": "display_data"
    }
   ],
   "source": [
    "\n",
    "qr_data = dcv.get_parameters_for_crop_rotate_rescale()\n",
    "plt.imshow(dcv.frame[:,:,::-1])\n",
    "qr_data"
   ]
  },
  {
   "cell_type": "code",
   "execution_count": null,
   "id": "1272d2e3",
   "metadata": {},
   "outputs": [],
   "source": [
    "\n",
    "fn = dcv.do_crop_rotate_rescale(qr_data[\"bbox_scene_area\"], qr_data[\"incision_bboxes\"])\n",
    "img = pigleg_cv.get_frame_to_process(fn)\n",
    "plt.imshow(img[:,:,::-1])"
   ]
  },
  {
   "cell_type": "code",
   "execution_count": 62,
   "id": "08e65897-bd84-45db-a8e6-f00389d94002",
   "metadata": {
    "tags": []
   },
   "outputs": [
    {
     "data": {
      "text/plain": [
       "PosixPath('/webapps/piglegsurgery/piglegcv/del_test_video_output')"
      ]
     },
     "execution_count": 62,
     "metadata": {},
     "output_type": "execute_result"
    }
   ],
   "source": [
    "Path(outputdir).absolute()"
   ]
  },
  {
   "cell_type": "markdown",
   "id": "3553b2af-d261-42d2-9546-8dede13ceb6b",
   "metadata": {},
   "source": [
    "### Find splits"
   ]
  },
  {
   "cell_type": "code",
   "execution_count": 86,
   "id": "e5820cb8-d064-4589-a19e-44a4e098b015",
   "metadata": {
    "tags": []
   },
   "outputs": [
    {
     "name": "stderr",
     "output_type": "stream",
     "text": [
      "\u001b[32m2023-12-14 11:16:49.970\u001b[0m | \u001b[34m\u001b[1mDEBUG   \u001b[0m | \u001b[36mrun_report\u001b[0m:\u001b[36mbboxes_to_points\u001b[0m:\u001b[36m635\u001b[0m - \u001b[34m\u001b[1mSort data N=8966\u001b[0m\n",
      "/webapps/piglegsurgery/piglegcv/run_report.py:657: VisibleDeprecationWarning: Creating an ndarray from ragged nested sequences (which is a list-or-tuple of lists-or-tuples-or ndarrays with different lengths or shapes) is deprecated. If you meant to do this, you must specify 'dtype=object' when creating the ndarray.\n",
      "  frame_ids_list = np.asarray(frame_ids).tolist()\n",
      "\u001b[32m2023-12-14 11:16:50.242\u001b[0m | \u001b[34m\u001b[1mDEBUG   \u001b[0m | \u001b[36mtools\u001b[0m:\u001b[36msave_json\u001b[0m:\u001b[36m15\u001b[0m - \u001b[34m\u001b[1mWriting 'del_test_video_output_copy/SA_20231011-191116/tracks_points.json'\u001b[0m\n",
      "\u001b[32m2023-12-14 11:16:50.244\u001b[0m | \u001b[34m\u001b[1mDEBUG   \u001b[0m | \u001b[36mtools\u001b[0m:\u001b[36msave_json\u001b[0m:\u001b[36m26\u001b[0m - \u001b[34m\u001b[1mupdated keys: ['frame_ids', 'data_pixels_0', 'data_pixels_1', 'data_pixels_2', 'data_pixels_3']\u001b[0m\n",
      "\u001b[32m2023-12-14 11:16:50.332\u001b[0m | \u001b[34m\u001b[1mDEBUG   \u001b[0m | \u001b[36mpigleg_cv\u001b[0m:\u001b[36mfind_stitch_ends_in_tracks\u001b[0m:\u001b[36m369\u001b[0m - \u001b[34m\u001b[1mfind stitch end, pix_size=0.0004894413496104962, fps=30\u001b[0m\n",
      "/home/appuser/.local/lib/python3.8/site-packages/sklearn/cluster/_kmeans.py:1416: FutureWarning: The default value of `n_init` will change from 10 to 'auto' in 1.4. Set the value of `n_init` explicitly to suppress the warning\n",
      "  super()._check_params_vs_input(X, default_n_init=10)\n"
     ]
    },
    {
     "data": {
      "text/plain": [
       "[546, 1367, 2078, 2882]"
      ]
     },
     "execution_count": 86,
     "metadata": {},
     "output_type": "execute_result"
    }
   ],
   "source": [
    "dcv._load_meta()\n",
    "dcv._find_stitch_ends_in_tracks(n_clusters=5)"
   ]
  },
  {
   "cell_type": "markdown",
   "id": "de7b2c44",
   "metadata": {},
   "source": [
    "## Do whole processing together\n"
   ]
  },
  {
   "cell_type": "code",
   "execution_count": null,
   "id": "4f3f4af6",
   "metadata": {
    "tags": []
   },
   "outputs": [],
   "source": [
    "outputdir = \"./del_test_video_output/\"\n",
    "# pigleg_cv.do_computer_vision(img_pths[0], outputdir , meta=None)\n",
    "dcv = pigleg_cv.DoComputerVision(img_pths[0], outputdir, test_first_seconds=True,is_microsurgery=True )\n",
    "# qr_data = dcv.get_parameters_for_crop_rotate_rescale()\n",
    "# plt.imshow(dcv.frame)\n",
    "# qr_data\n",
    "dcv.run()"
   ]
  },
  {
   "cell_type": "code",
   "execution_count": null,
   "id": "e7a24464-14ba-4e7d-9405-faefb21580b7",
   "metadata": {
    "tags": []
   },
   "outputs": [],
   "source": [
    "# report_data = dcv.make_report()"
   ]
  }
 ],
 "metadata": {
  "kernelspec": {
   "display_name": "Python 3 (ipykernel)",
   "language": "python",
   "name": "python3"
  },
  "language_info": {
   "codemirror_mode": {
    "name": "ipython",
    "version": 3
   },
   "file_extension": ".py",
   "mimetype": "text/x-python",
   "name": "python",
   "nbconvert_exporter": "python",
   "pygments_lexer": "ipython3",
   "version": "3.8.13"
  }
 },
 "nbformat": 4,
 "nbformat_minor": 5
}
