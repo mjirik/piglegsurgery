{
 "cells": [
  {
   "cell_type": "code",
   "execution_count": 1,
   "id": "dd0ac2b0",
   "metadata": {},
   "outputs": [
    {
     "name": "stdout",
     "output_type": "stream",
     "text": [
      "NOTE! Installing ujson may make loading annotations faster.\n"
     ]
    },
    {
     "name": "stderr",
     "output_type": "stream",
     "text": [
      "2023-09-20 08:45:29,850 - /webapps/piglegsurgery/piglegcv/incision_detection_mmdet.py - DEBUG - mmdet.version=2.25.0\n",
      "2023-09-20 08:45:29,851 - /webapps/piglegsurgery/piglegcv/incision_detection_mmdet.py - DEBUG - 11.7\n",
      "2023-09-20 08:45:29,851 - /webapps/piglegsurgery/piglegcv/incision_detection_mmdet.py - DEBUG - GCC 9.4\n"
     ]
    },
    {
     "name": "stdout",
     "output_type": "stream",
     "text": [
      "1.12.0a0+8a1a93a True\n"
     ]
    }
   ],
   "source": [
    "%load_ext autoreload\n",
    "%autoreload 2\n",
    "from pathlib import Path\n",
    "from skimage.io import imread\n",
    "import matplotlib.pyplot as plt\n",
    "import pigleg_cv"
   ]
  },
  {
   "cell_type": "code",
   "execution_count": 2,
   "id": "709a4276",
   "metadata": {},
   "outputs": [
    {
     "name": "stdout",
     "output_type": "stream",
     "text": [
      "/webapps/piglegsurgery/piglegcv\n"
     ]
    }
   ],
   "source": [
    "!pwd"
   ]
  },
  {
   "cell_type": "code",
   "execution_count": 42,
   "id": "97a1b411",
   "metadata": {},
   "outputs": [
    {
     "data": {
      "text/plain": [
       "True"
      ]
     },
     "execution_count": 42,
     "metadata": {},
     "output_type": "execute_result"
    }
   ],
   "source": [
    "import torch\n",
    "torch.cuda.is_available()"
   ]
  },
  {
   "cell_type": "code",
   "execution_count": 43,
   "id": "d0605d7c",
   "metadata": {},
   "outputs": [
    {
     "name": "stdout",
     "output_type": "stream",
     "text": [
      "Wed Sep 27 13:50:19 2023       \n",
      "+-----------------------------------------------------------------------------+\n",
      "| NVIDIA-SMI 470.103.01   Driver Version: 470.103.01   CUDA Version: 11.4     |\n",
      "|-------------------------------+----------------------+----------------------+\n",
      "| GPU  Name        Persistence-M| Bus-Id        Disp.A | Volatile Uncorr. ECC |\n",
      "| Fan  Temp  Perf  Pwr:Usage/Cap|         Memory-Usage | GPU-Util  Compute M. |\n",
      "|                               |                      |               MIG M. |\n",
      "|===============================+======================+======================|\n",
      "|   0  NVIDIA GeForce ...  On   | 00000000:42:00.0 Off |                  N/A |\n",
      "|  0%   48C    P8    10W / 250W |   3234MiB / 11175MiB |      0%      Default |\n",
      "|                               |                      |                  N/A |\n",
      "+-------------------------------+----------------------+----------------------+\n",
      "                                                                               \n",
      "+-----------------------------------------------------------------------------+\n",
      "| Processes:                                                                  |\n",
      "|  GPU   GI   CI        PID   Type   Process name                  GPU Memory |\n",
      "|        ID   ID                                                   Usage      |\n",
      "|=============================================================================|\n",
      "+-----------------------------------------------------------------------------+\n"
     ]
    }
   ],
   "source": [
    "!nvidia-smi"
   ]
  },
  {
   "cell_type": "code",
   "execution_count": 5,
   "id": "56804d93",
   "metadata": {},
   "outputs": [
    {
     "data": {
      "text/plain": [
       "'1.12.0a0+8a1a93a'"
      ]
     },
     "execution_count": 5,
     "metadata": {},
     "output_type": "execute_result"
    }
   ],
   "source": [
    "torch.__version__"
   ]
  },
  {
   "cell_type": "code",
   "execution_count": 6,
   "id": "007b2def",
   "metadata": {},
   "outputs": [
    {
     "data": {
      "text/plain": [
       "True"
      ]
     },
     "execution_count": 6,
     "metadata": {},
     "output_type": "execute_result"
    }
   ],
   "source": [
    "Path(\"/root/.cache/torch/hub/checkpoints/\").exists()"
   ]
  },
  {
   "cell_type": "code",
   "execution_count": 7,
   "id": "f119541b",
   "metadata": {},
   "outputs": [
    {
     "name": "stdout",
     "output_type": "stream",
     "text": [
      "yolox_x_8x8_300e_coco_20211126_140254-1ef88d67.pth\n"
     ]
    }
   ],
   "source": [
    "!ls /root/.cache/torch/hub/checkpoints/"
   ]
  },
  {
   "cell_type": "code",
   "execution_count": 8,
   "id": "6cb3ddf0",
   "metadata": {},
   "outputs": [
    {
     "data": {
      "text/plain": [
       "[4, 5, 1, 2, 3]"
      ]
     },
     "execution_count": 8,
     "metadata": {},
     "output_type": "execute_result"
    }
   ],
   "source": [
    "a = [4,5]\n",
    "a.extend([1,2,3])\n",
    "a"
   ]
  },
  {
   "cell_type": "code",
   "execution_count": 9,
   "id": "14062be4",
   "metadata": {},
   "outputs": [],
   "source": [
    "# pip install mmcv-full"
   ]
  },
  {
   "cell_type": "markdown",
   "id": "4b2f2538",
   "metadata": {},
   "source": [
    "# Run whole video processing"
   ]
  },
  {
   "cell_type": "code",
   "execution_count": 62,
   "id": "3392ae1f",
   "metadata": {},
   "outputs": [
    {
     "data": {
      "text/plain": [
       "PosixPath('../piglegsurgeryweb/media/upload/20230612-170816_Anastomosis 1_3f91c756df409fdb5fc20df68d83c58f648ec770/Anastomosis_1.mp4')"
      ]
     },
     "execution_count": 62,
     "metadata": {},
     "output_type": "execute_result"
    }
   ],
   "source": [
    "img_pths = list(Path(\"../piglegsurgeryweb/media/upload/\").glob(\"*/Anasto*.mp4\"))\n",
    "img_pths[0]"
   ]
  },
  {
   "cell_type": "code",
   "execution_count": 63,
   "id": "6d2903e1",
   "metadata": {},
   "outputs": [
    {
     "name": "stderr",
     "output_type": "stream",
     "text": [
      "\u001b[32m2023-09-27 14:35:07.328\u001b[0m | \u001b[34m\u001b[1mDEBUG   \u001b[0m | \u001b[36mpigleg_cv\u001b[0m:\u001b[36mdo_computer_vision\u001b[0m:\u001b[36m41\u001b[0m - \u001b[34m\u001b[1mCV processing started on ../piglegsurgeryweb/media/upload/20230612-170816_Anastomosis 1_3f91c756df409fdb5fc20df68d83c58f648ec770/Anastomosis_1.mp4, outputdir=./del_test_video_output/\u001b[0m\n",
      "\u001b[32m2023-09-27 14:35:07.329\u001b[0m | \u001b[34m\u001b[1mDEBUG   \u001b[0m | \u001b[36mpigleg_cv\u001b[0m:\u001b[36mrun_video_processing2\u001b[0m:\u001b[36m98\u001b[0m - \u001b[34m\u001b[1mRunning video processing...\u001b[0m\n",
      "\u001b[32m2023-09-27 14:35:07.330\u001b[0m | \u001b[34m\u001b[1mDEBUG   \u001b[0m | \u001b[36mrun_qr\u001b[0m:\u001b[36mmain_qr\u001b[0m:\u001b[36m129\u001b[0m - \u001b[34m\u001b[1mlooking for qr code...\u001b[0m\n"
     ]
    },
    {
     "name": "stdout",
     "output_type": "stream",
     "text": [
      "Fusing layers... \n",
      "IDetect.fuse\n"
     ]
    },
    {
     "name": "stderr",
     "output_type": "stream",
     "text": [
      "\u001b[32m2023-09-27 14:35:08.054\u001b[0m | \u001b[34m\u001b[1mDEBUG   \u001b[0m | \u001b[36mrun_qr\u001b[0m:\u001b[36mmain_qr\u001b[0m:\u001b[36m160\u001b[0m - \u001b[34m\u001b[1mframe=0\u001b[0m\n",
      "\u001b[32m2023-09-27 14:35:08.355\u001b[0m | \u001b[31m\u001b[1mERROR   \u001b[0m | \u001b[36mpigleg_cv\u001b[0m:\u001b[36mdo_computer_vision\u001b[0m:\u001b[36m52\u001b[0m - \u001b[31m\u001b[1mTraceback (most recent call last):\n",
      "  File \"/webapps/piglegsurgery/piglegcv/pigleg_cv.py\", line 48, in do_computer_vision\n",
      "    run_video_processing2(filename, outputdir)\n",
      "  File \"/webapps/piglegsurgery/piglegcv/pigleg_cv.py\", line 102, in run_video_processing2\n",
      "    main_qr(filename, outputdir)\n",
      "  File \"/webapps/piglegsurgery/piglegcv/run_qr.py\", line 162, in main_qr\n",
      "    qr_data = bbox_info_extraction_from_frame(img, qreader)\n",
      "  File \"/webapps/piglegsurgery/piglegcv/run_qr.py\", line 50, in bbox_info_extraction_from_frame\n",
      "    bboxes_qr, bbox_scene_area, bboxes_incision_area, qr_side_length = get_bboxes(img)\n",
      "  File \"/webapps/piglegsurgery/piglegcv/run_qr.py\", line 25, in get_bboxes\n",
      "    bbox_scene_area = bboxes[1][0]\n",
      "IndexError: index 0 is out of bounds for axis 0 with size 0\n",
      "\u001b[0m\n"
     ]
    }
   ],
   "source": [
    "outputdir = \"./del_test_video_output/\"\n",
    "pigleg_cv.do_computer_vision(img_pths[0], outputdir , meta=None)"
   ]
  },
  {
   "cell_type": "code",
   "execution_count": 47,
   "id": "1cfe236b",
   "metadata": {},
   "outputs": [
    {
     "name": "stderr",
     "output_type": "stream",
     "text": [
      "\u001b[32m2023-09-27 13:54:44.185\u001b[0m | \u001b[34m\u001b[1mDEBUG   \u001b[0m | \u001b[36mrun_report\u001b[0m:\u001b[36mmain_report\u001b[0m:\u001b[36m669\u001b[0m - \u001b[34m\u001b[1msize_input_video: [960, 540], size_output_video: [1301, 420], size_output_img: [746, 420], resize_factor: 0.7777777777777778\u001b[0m\n",
      "\u001b[32m2023-09-27 13:54:44.187\u001b[0m | \u001b[34m\u001b[1mDEBUG   \u001b[0m | \u001b[36mrun_report\u001b[0m:\u001b[36mmain_report\u001b[0m:\u001b[36m688\u001b[0m - \u001b[34m\u001b[1mSort data N=\u001b[0m\n",
      "/webapps/piglegsurgery/piglegcv/run_report.py:719: VisibleDeprecationWarning: Creating an ndarray from ragged nested sequences (which is a list-or-tuple of lists-or-tuples-or ndarrays with different lengths or shapes) is deprecated. If you meant to do this, you must specify 'dtype=object' when creating the ndarray.\n",
      "  frame_ids_list = np.asarray(frame_ids).tolist()\n",
      "\u001b[32m2023-09-27 13:54:44.194\u001b[0m | \u001b[34m\u001b[1mDEBUG   \u001b[0m | \u001b[36mtools\u001b[0m:\u001b[36msave_json\u001b[0m:\u001b[36m9\u001b[0m - \u001b[34m\u001b[1mWriting './del_test_video_output//tracks_points.json'\u001b[0m\n",
      "\u001b[32m2023-09-27 13:54:44.195\u001b[0m | \u001b[34m\u001b[1mDEBUG   \u001b[0m | \u001b[36mtools\u001b[0m:\u001b[36msave_json\u001b[0m:\u001b[36m20\u001b[0m - \u001b[34m\u001b[1mupdated keys: ['frame_ids', 'data_pixels_0', 'data_pixels_1', 'data_pixels_2', 'data_pixels_3']\u001b[0m\n",
      "\u001b[32m2023-09-27 13:54:44.253\u001b[0m | \u001b[34m\u001b[1mDEBUG   \u001b[0m | \u001b[36mrun_report\u001b[0m:\u001b[36mcreate_video_report_figure\u001b[0m:\u001b[36m539\u001b[0m - \u001b[34m\u001b[1mmain_video_report: OK\u001b[0m\n",
      "\u001b[32m2023-09-27 13:54:44.301\u001b[0m | \u001b[34m\u001b[1mDEBUG   \u001b[0m | \u001b[36mrun_report\u001b[0m:\u001b[36mmain_report\u001b[0m:\u001b[36m752\u001b[0m - \u001b[34m\u001b[1mFrame 0 processed!\u001b[0m\n"
     ]
    },
    {
     "name": "stdout",
     "output_type": "stream",
     "text": [
      "11705.022043198347\n",
      "b Needle holder\n",
      "g Scissors\n"
     ]
    },
    {
     "name": "stderr",
     "output_type": "stream",
     "text": [
      "\u001b[32m2023-09-27 13:54:45.273\u001b[0m | \u001b[34m\u001b[1mDEBUG   \u001b[0m | \u001b[36mrun_report\u001b[0m:\u001b[36mmain_report\u001b[0m:\u001b[36m752\u001b[0m - \u001b[34m\u001b[1mFrame 10 processed!\u001b[0m\n",
      "\u001b[32m2023-09-27 13:54:46.235\u001b[0m | \u001b[34m\u001b[1mDEBUG   \u001b[0m | \u001b[36mrun_report\u001b[0m:\u001b[36mmain_report\u001b[0m:\u001b[36m752\u001b[0m - \u001b[34m\u001b[1mFrame 20 processed!\u001b[0m\n",
      "\u001b[32m2023-09-27 13:54:47.205\u001b[0m | \u001b[34m\u001b[1mDEBUG   \u001b[0m | \u001b[36mrun_report\u001b[0m:\u001b[36mmain_report\u001b[0m:\u001b[36m752\u001b[0m - \u001b[34m\u001b[1mFrame 30 processed!\u001b[0m\n",
      "\u001b[32m2023-09-27 13:54:48.172\u001b[0m | \u001b[34m\u001b[1mDEBUG   \u001b[0m | \u001b[36mrun_report\u001b[0m:\u001b[36mmain_report\u001b[0m:\u001b[36m752\u001b[0m - \u001b[34m\u001b[1mFrame 40 processed!\u001b[0m\n",
      "\u001b[32m2023-09-27 13:54:49.130\u001b[0m | \u001b[34m\u001b[1mDEBUG   \u001b[0m | \u001b[36mrun_report\u001b[0m:\u001b[36mmain_report\u001b[0m:\u001b[36m752\u001b[0m - \u001b[34m\u001b[1mFrame 50 processed!\u001b[0m\n",
      "\u001b[32m2023-09-27 13:54:50.079\u001b[0m | \u001b[34m\u001b[1mDEBUG   \u001b[0m | \u001b[36mrun_report\u001b[0m:\u001b[36mmain_report\u001b[0m:\u001b[36m752\u001b[0m - \u001b[34m\u001b[1mFrame 60 processed!\u001b[0m\n",
      "\u001b[32m2023-09-27 13:54:51.044\u001b[0m | \u001b[34m\u001b[1mDEBUG   \u001b[0m | \u001b[36mrun_report\u001b[0m:\u001b[36mmain_report\u001b[0m:\u001b[36m752\u001b[0m - \u001b[34m\u001b[1mFrame 70 processed!\u001b[0m\n"
     ]
    },
    {
     "ename": "KeyboardInterrupt",
     "evalue": "",
     "output_type": "error",
     "traceback": [
      "\u001b[0;31m---------------------------------------------------------------------------\u001b[0m",
      "\u001b[0;31mKeyboardInterrupt\u001b[0m                         Traceback (most recent call last)",
      "Input \u001b[0;32mIn [47]\u001b[0m, in \u001b[0;36m<cell line: 2>\u001b[0;34m()\u001b[0m\n\u001b[1;32m      1\u001b[0m \u001b[38;5;66;03m# pigleg_cv.do_computer_vision(img_pths[0],  \"./del_test_video_output/\", meta=None)\u001b[39;00m\n\u001b[0;32m----> 2\u001b[0m \u001b[43mpigleg_cv\u001b[49m\u001b[38;5;241;43m.\u001b[39;49m\u001b[43mmain_report\u001b[49m\u001b[43m(\u001b[49m\u001b[38;5;28;43mstr\u001b[39;49m\u001b[43m(\u001b[49m\u001b[43mimg_pths\u001b[49m\u001b[43m[\u001b[49m\u001b[38;5;241;43m0\u001b[39;49m\u001b[43m]\u001b[49m\u001b[43m)\u001b[49m\u001b[43m,\u001b[49m\u001b[43m  \u001b[49m\u001b[43moutputdir\u001b[49m\u001b[43m)\u001b[49m\n",
      "File \u001b[0;32m/webapps/piglegsurgery/piglegcv/run_report.py:744\u001b[0m, in \u001b[0;36mmain_report\u001b[0;34m(filename, outputdir, object_colors, object_names, concat_axis, resize_factor, circle_radius, expected_video_width, expected_video_height, visualization_length_unit, confidence_score_thr, oa_bbox_linecolor)\u001b[0m\n\u001b[1;32m    741\u001b[0m \u001b[38;5;28;01mif\u001b[39;00m img_first \u001b[38;5;129;01mis\u001b[39;00m \u001b[38;5;28;01mNone\u001b[39;00m:\n\u001b[1;32m    742\u001b[0m     img_first \u001b[38;5;241m=\u001b[39m img\u001b[38;5;241m.\u001b[39mcopy()\n\u001b[0;32m--> 744\u001b[0m img \u001b[38;5;241m=\u001b[39m \u001b[43mskimage\u001b[49m\u001b[38;5;241;43m.\u001b[39;49m\u001b[43mtransform\u001b[49m\u001b[38;5;241;43m.\u001b[39;49m\u001b[43mresize\u001b[49m\u001b[43m(\u001b[49m\u001b[43mimg\u001b[49m\u001b[43m,\u001b[49m\u001b[43m \u001b[49m\u001b[43msize_output_img\u001b[49m\u001b[43m[\u001b[49m\u001b[43m:\u001b[49m\u001b[43m:\u001b[49m\u001b[38;5;241;43m-\u001b[39;49m\u001b[38;5;241;43m1\u001b[39;49m\u001b[43m]\u001b[49m\u001b[43m,\u001b[49m\u001b[43m \u001b[49m\u001b[43mpreserve_range\u001b[49m\u001b[38;5;241;43m=\u001b[39;49m\u001b[38;5;28;43;01mTrue\u001b[39;49;00m\u001b[43m)\u001b[49m\u001b[38;5;241m.\u001b[39mastype(img\u001b[38;5;241m.\u001b[39mdtype)\n\u001b[1;32m    745\u001b[0m \u001b[38;5;28;01mif\u001b[39;00m relative_presence\u001b[38;5;241m.\u001b[39moperating_area_bbox \u001b[38;5;129;01mis\u001b[39;00m \u001b[38;5;129;01mnot\u001b[39;00m \u001b[38;5;28;01mNone\u001b[39;00m:\n\u001b[1;32m    746\u001b[0m     oa_bbox_resized \u001b[38;5;241m=\u001b[39m np\u001b[38;5;241m.\u001b[39masarray(relative_presence\u001b[38;5;241m.\u001b[39moperating_area_bbox\u001b[38;5;241m.\u001b[39mcopy())\n",
      "File \u001b[0;32m~/.local/lib/python3.8/site-packages/skimage/transform/_warps.py:147\u001b[0m, in \u001b[0;36mresize\u001b[0;34m(image, output_shape, order, mode, cval, clip, preserve_range, anti_aliasing, anti_aliasing_sigma)\u001b[0m\n\u001b[1;32m    141\u001b[0m     \u001b[38;5;28;01mexcept\u001b[39;00m \u001b[38;5;167;01mKeyError\u001b[39;00m:\n\u001b[1;32m    142\u001b[0m         \u001b[38;5;28;01mraise\u001b[39;00m \u001b[38;5;167;01mValueError\u001b[39;00m(\u001b[38;5;124m\"\u001b[39m\u001b[38;5;124mUnknown mode, or cannot translate mode. The \u001b[39m\u001b[38;5;124m\"\u001b[39m\n\u001b[1;32m    143\u001b[0m                          \u001b[38;5;124m\"\u001b[39m\u001b[38;5;124mmode should be one of \u001b[39m\u001b[38;5;124m'\u001b[39m\u001b[38;5;124mconstant\u001b[39m\u001b[38;5;124m'\u001b[39m\u001b[38;5;124m, \u001b[39m\u001b[38;5;124m'\u001b[39m\u001b[38;5;124medge\u001b[39m\u001b[38;5;124m'\u001b[39m\u001b[38;5;124m, \u001b[39m\u001b[38;5;124m\"\u001b[39m\n\u001b[1;32m    144\u001b[0m                          \u001b[38;5;124m\"\u001b[39m\u001b[38;5;124m'\u001b[39m\u001b[38;5;124msymmetric\u001b[39m\u001b[38;5;124m'\u001b[39m\u001b[38;5;124m, \u001b[39m\u001b[38;5;124m'\u001b[39m\u001b[38;5;124mreflect\u001b[39m\u001b[38;5;124m'\u001b[39m\u001b[38;5;124m, or \u001b[39m\u001b[38;5;124m'\u001b[39m\u001b[38;5;124mwrap\u001b[39m\u001b[38;5;124m'\u001b[39m\u001b[38;5;124m. See the \u001b[39m\u001b[38;5;124m\"\u001b[39m\n\u001b[1;32m    145\u001b[0m                          \u001b[38;5;124m\"\u001b[39m\u001b[38;5;124mdocumentation of numpy.pad for more info.\u001b[39m\u001b[38;5;124m\"\u001b[39m)\n\u001b[0;32m--> 147\u001b[0m     image \u001b[38;5;241m=\u001b[39m \u001b[43mndi\u001b[49m\u001b[38;5;241;43m.\u001b[39;49m\u001b[43mgaussian_filter\u001b[49m\u001b[43m(\u001b[49m\u001b[43mimage\u001b[49m\u001b[43m,\u001b[49m\u001b[43m \u001b[49m\u001b[43manti_aliasing_sigma\u001b[49m\u001b[43m,\u001b[49m\n\u001b[1;32m    148\u001b[0m \u001b[43m                                \u001b[49m\u001b[43mcval\u001b[49m\u001b[38;5;241;43m=\u001b[39;49m\u001b[43mcval\u001b[49m\u001b[43m,\u001b[49m\u001b[43m \u001b[49m\u001b[43mmode\u001b[49m\u001b[38;5;241;43m=\u001b[39;49m\u001b[43mndi_mode\u001b[49m\u001b[43m)\u001b[49m\n\u001b[1;32m    150\u001b[0m \u001b[38;5;66;03m# 2-dimensional interpolation\u001b[39;00m\n\u001b[1;32m    151\u001b[0m \u001b[38;5;28;01mif\u001b[39;00m \u001b[38;5;28mlen\u001b[39m(output_shape) \u001b[38;5;241m==\u001b[39m \u001b[38;5;241m2\u001b[39m \u001b[38;5;129;01mor\u001b[39;00m (\u001b[38;5;28mlen\u001b[39m(output_shape) \u001b[38;5;241m==\u001b[39m \u001b[38;5;241m3\u001b[39m \u001b[38;5;129;01mand\u001b[39;00m\n\u001b[1;32m    152\u001b[0m                               output_shape[\u001b[38;5;241m2\u001b[39m] \u001b[38;5;241m==\u001b[39m input_shape[\u001b[38;5;241m2\u001b[39m]):\n",
      "File \u001b[0;32m/opt/conda/lib/python3.8/site-packages/scipy/ndimage/filters.py:342\u001b[0m, in \u001b[0;36mgaussian_filter\u001b[0;34m(input, sigma, order, output, mode, cval, truncate)\u001b[0m\n\u001b[1;32m    340\u001b[0m \u001b[38;5;28;01mif\u001b[39;00m \u001b[38;5;28mlen\u001b[39m(axes) \u001b[38;5;241m>\u001b[39m \u001b[38;5;241m0\u001b[39m:\n\u001b[1;32m    341\u001b[0m     \u001b[38;5;28;01mfor\u001b[39;00m axis, sigma, order, mode \u001b[38;5;129;01min\u001b[39;00m axes:\n\u001b[0;32m--> 342\u001b[0m         \u001b[43mgaussian_filter1d\u001b[49m\u001b[43m(\u001b[49m\u001b[38;5;28;43minput\u001b[39;49m\u001b[43m,\u001b[49m\u001b[43m \u001b[49m\u001b[43msigma\u001b[49m\u001b[43m,\u001b[49m\u001b[43m \u001b[49m\u001b[43maxis\u001b[49m\u001b[43m,\u001b[49m\u001b[43m \u001b[49m\u001b[43morder\u001b[49m\u001b[43m,\u001b[49m\u001b[43m \u001b[49m\u001b[43moutput\u001b[49m\u001b[43m,\u001b[49m\n\u001b[1;32m    343\u001b[0m \u001b[43m                          \u001b[49m\u001b[43mmode\u001b[49m\u001b[43m,\u001b[49m\u001b[43m \u001b[49m\u001b[43mcval\u001b[49m\u001b[43m,\u001b[49m\u001b[43m \u001b[49m\u001b[43mtruncate\u001b[49m\u001b[43m)\u001b[49m\n\u001b[1;32m    344\u001b[0m         \u001b[38;5;28minput\u001b[39m \u001b[38;5;241m=\u001b[39m output\n\u001b[1;32m    345\u001b[0m \u001b[38;5;28;01melse\u001b[39;00m:\n",
      "File \u001b[0;32m/opt/conda/lib/python3.8/site-packages/scipy/ndimage/filters.py:261\u001b[0m, in \u001b[0;36mgaussian_filter1d\u001b[0;34m(input, sigma, axis, order, output, mode, cval, truncate)\u001b[0m\n\u001b[1;32m    259\u001b[0m \u001b[38;5;66;03m# Since we are calling correlate, not convolve, revert the kernel\u001b[39;00m\n\u001b[1;32m    260\u001b[0m weights \u001b[38;5;241m=\u001b[39m _gaussian_kernel1d(sigma, order, lw)[::\u001b[38;5;241m-\u001b[39m\u001b[38;5;241m1\u001b[39m]\n\u001b[0;32m--> 261\u001b[0m \u001b[38;5;28;01mreturn\u001b[39;00m \u001b[43mcorrelate1d\u001b[49m\u001b[43m(\u001b[49m\u001b[38;5;28;43minput\u001b[39;49m\u001b[43m,\u001b[49m\u001b[43m \u001b[49m\u001b[43mweights\u001b[49m\u001b[43m,\u001b[49m\u001b[43m \u001b[49m\u001b[43maxis\u001b[49m\u001b[43m,\u001b[49m\u001b[43m \u001b[49m\u001b[43moutput\u001b[49m\u001b[43m,\u001b[49m\u001b[43m \u001b[49m\u001b[43mmode\u001b[49m\u001b[43m,\u001b[49m\u001b[43m \u001b[49m\u001b[43mcval\u001b[49m\u001b[43m,\u001b[49m\u001b[43m \u001b[49m\u001b[38;5;241;43m0\u001b[39;49m\u001b[43m)\u001b[49m\n",
      "File \u001b[0;32m/opt/conda/lib/python3.8/site-packages/scipy/ndimage/filters.py:133\u001b[0m, in \u001b[0;36mcorrelate1d\u001b[0;34m(input, weights, axis, output, mode, cval, origin)\u001b[0m\n\u001b[1;32m    129\u001b[0m     \u001b[38;5;28;01mraise\u001b[39;00m \u001b[38;5;167;01mValueError\u001b[39;00m(\u001b[38;5;124m'\u001b[39m\u001b[38;5;124mInvalid origin; origin must satisfy \u001b[39m\u001b[38;5;124m'\u001b[39m\n\u001b[1;32m    130\u001b[0m                      \u001b[38;5;124m'\u001b[39m\u001b[38;5;124m-(len(weights) // 2) <= origin <= \u001b[39m\u001b[38;5;124m'\u001b[39m\n\u001b[1;32m    131\u001b[0m                      \u001b[38;5;124m'\u001b[39m\u001b[38;5;124m(len(weights)-1) // 2\u001b[39m\u001b[38;5;124m'\u001b[39m)\n\u001b[1;32m    132\u001b[0m mode \u001b[38;5;241m=\u001b[39m _ni_support\u001b[38;5;241m.\u001b[39m_extend_mode_to_code(mode)\n\u001b[0;32m--> 133\u001b[0m \u001b[43m_nd_image\u001b[49m\u001b[38;5;241;43m.\u001b[39;49m\u001b[43mcorrelate1d\u001b[49m\u001b[43m(\u001b[49m\u001b[38;5;28;43minput\u001b[39;49m\u001b[43m,\u001b[49m\u001b[43m \u001b[49m\u001b[43mweights\u001b[49m\u001b[43m,\u001b[49m\u001b[43m \u001b[49m\u001b[43maxis\u001b[49m\u001b[43m,\u001b[49m\u001b[43m \u001b[49m\u001b[43moutput\u001b[49m\u001b[43m,\u001b[49m\u001b[43m \u001b[49m\u001b[43mmode\u001b[49m\u001b[43m,\u001b[49m\u001b[43m \u001b[49m\u001b[43mcval\u001b[49m\u001b[43m,\u001b[49m\n\u001b[1;32m    134\u001b[0m \u001b[43m                      \u001b[49m\u001b[43morigin\u001b[49m\u001b[43m)\u001b[49m\n\u001b[1;32m    135\u001b[0m \u001b[38;5;28;01mreturn\u001b[39;00m output\n",
      "\u001b[0;31mKeyboardInterrupt\u001b[0m: "
     ]
    },
    {
     "data": {
      "image/png": "[encoded data removed]",
      "text/plain": [
       "<Figure size 432x288 with 2 Axes>"
      ]
     },
     "metadata": {
      "needs_background": "light"
     },
     "output_type": "display_data"
    }
   ],
   "source": [
    "\n",
    "# pigleg_cv.do_computer_vision(img_pths[0],  \"./del_test_video_output/\", meta=None)\n",
    "pigleg_cv.main_report(str(img_pths[0]),  outputdir)"
   ]
  },
  {
   "cell_type": "code",
   "execution_count": 13,
   "id": "491a7dd3",
   "metadata": {},
   "outputs": [],
   "source": [
    "import os.path\n",
    "import json\n",
    "import pandas as pd\n",
    "from tools import flatten_dict, remove_empty_lists\n",
    "\n",
    "novy = {\n",
    "}\n",
    "\n",
    "filename = Path(outputdir) / \"meta.json\"\n",
    "if os.path.isfile(filename):\n",
    "    with open(filename, 'r') as fr:\n",
    "        data = json.load(fr)\n",
    "        novy.update(data)\n",
    "\n",
    "# filename = Path(serverfile.outputdir) / \"evaluation.json\"\n",
    "filename = Path(outputdir) / \"results.json\"\n",
    "if os.path.isfile(filename):\n",
    "    with open(filename, 'r') as fr:\n",
    "        data = json.load(fr)\n",
    "        novy.update(data)"
   ]
  },
  {
   "cell_type": "code",
   "execution_count": 14,
   "id": "4f516687",
   "metadata": {},
   "outputs": [
    {
     "name": "stdout",
     "output_type": "stream",
     "text": [
      "{'qr_data': {'pix_size_method': 'video size estimation', 'is_detected': False, 'box': [], 'pix_size': 1.0, 'qr_size': 0.027, 'size_by_scene': 0.0003125, 'text': None, 'pix_size_single_frame_detector_m': 4.3181322072354286e-05, 'bbox_scene_area': [0.0, 2.399106502532959, 922.3617553710938, 536.9542846679688, 0.39207544922828674], 'qr_scissors_frame_detected': False, 'qr_scissors_frames': []}, 'pixelsize_m_by_incision_size': 0.0003333333333333334, 'incision_bboxes': [[283.20086669921875, 304.21234130859375, 493.01824951171875, 359.9990539550781, 0.9942836165428162]], 'Needle holder length [m]': 0.24053719983441682, 'Needle holder visibility [s]': 6.640000000000001, 'Needle holder velocity': 0.03312547836389318, 'Needle holder unit': 'm', 'Needle holder visibility [%]': 89.72972972972973, 'Scissors length [m]': 0.03736967463743802, 'Scissors visibility [s]': 5.640000000000001, 'Scissors velocity': 0.004123953506962486, 'Scissors unit': 'm', 'Scissors visibility [%]': 76.21621621621621, 'Needle holder area presence [%]': 21.21212121212121, 'Scissors area presence [%]': 100.0}\n"
     ]
    }
   ],
   "source": [
    "print(novy)\n"
   ]
  },
  {
   "cell_type": "code",
   "execution_count": 15,
   "id": "8ea05887",
   "metadata": {},
   "outputs": [
    {
     "name": "stdout",
     "output_type": "stream",
     "text": [
      "{'qr_data_pix_size_method': 'video size estimation', 'qr_data_is_detected': False, 'qr_data_box': [], 'qr_data_pix_size': 1.0, 'qr_data_qr_size': 0.027, 'qr_data_size_by_scene': 0.0003125, 'qr_data_text': None, 'qr_data_pix_size_single_frame_detector_m': 4.3181322072354286e-05, 'qr_data_bbox_scene_area': [0.0, 2.399106502532959, 922.3617553710938, 536.9542846679688, 0.39207544922828674], 'qr_data_qr_scissors_frame_detected': False, 'qr_data_qr_scissors_frames': [], 'pixelsize_m_by_incision_size': 0.0003333333333333334, 'incision_bboxes': [[283.20086669921875, 304.21234130859375, 493.01824951171875, 359.9990539550781, 0.9942836165428162]], 'Needle holder length [m]': 0.24053719983441682, 'Needle holder visibility [s]': 6.640000000000001, 'Needle holder velocity': 0.03312547836389318, 'Needle holder unit': 'm', 'Needle holder visibility [%]': 89.72972972972973, 'Scissors length [m]': 0.03736967463743802, 'Scissors visibility [s]': 5.640000000000001, 'Scissors velocity': 0.004123953506962486, 'Scissors unit': 'm', 'Scissors visibility [%]': 76.21621621621621, 'Needle holder area presence [%]': 21.21212121212121, 'Scissors area presence [%]': 100.0}\n"
     ]
    }
   ],
   "source": [
    "print(flatten_dict(novy))"
   ]
  },
  {
   "cell_type": "code",
   "execution_count": 16,
   "id": "317fe95c",
   "metadata": {},
   "outputs": [
    {
     "name": "stdout",
     "output_type": "stream",
     "text": [
      "{'qr_data_pix_size_method': 'video size estimation', 'qr_data_is_detected': False, 'qr_data_pix_size': 1.0, 'qr_data_qr_size': 0.027, 'qr_data_size_by_scene': 0.0003125, 'qr_data_text': None, 'qr_data_pix_size_single_frame_detector_m': 4.3181322072354286e-05, 'qr_data_bbox_scene_area': [0.0, 2.399106502532959, 922.3617553710938, 536.9542846679688, 0.39207544922828674], 'qr_data_qr_scissors_frame_detected': False, 'pixelsize_m_by_incision_size': 0.0003333333333333334, 'incision_bboxes': [[283.20086669921875, 304.21234130859375, 493.01824951171875, 359.9990539550781, 0.9942836165428162]], 'Needle holder length [m]': 0.24053719983441682, 'Needle holder visibility [s]': 6.640000000000001, 'Needle holder velocity': 0.03312547836389318, 'Needle holder unit': 'm', 'Needle holder visibility [%]': 89.72972972972973, 'Scissors length [m]': 0.03736967463743802, 'Scissors visibility [s]': 5.640000000000001, 'Scissors velocity': 0.004123953506962486, 'Scissors unit': 'm', 'Scissors visibility [%]': 76.21621621621621, 'Needle holder area presence [%]': 21.21212121212121, 'Scissors area presence [%]': 100.0}\n"
     ]
    }
   ],
   "source": [
    "nnovy = remove_empty_lists(flatten_dict(novy))\n",
    "print(nnovy)"
   ]
  },
  {
   "cell_type": "code",
   "execution_count": 17,
   "id": "ef5fa1a3",
   "metadata": {},
   "outputs": [
    {
     "ename": "ValueError",
     "evalue": "could not broadcast input array from shape (5,) into shape (1,)",
     "output_type": "error",
     "traceback": [
      "\u001b[0;31m---------------------------------------------------------------------------\u001b[0m",
      "\u001b[0;31mValueError\u001b[0m                                Traceback (most recent call last)",
      "Input \u001b[0;32mIn [17]\u001b[0m, in \u001b[0;36m<cell line: 1>\u001b[0;34m()\u001b[0m\n\u001b[0;32m----> 1\u001b[0m df_novy \u001b[38;5;241m=\u001b[39m \u001b[43mpd\u001b[49m\u001b[38;5;241;43m.\u001b[39;49m\u001b[43mDataFrame\u001b[49m\u001b[43m(\u001b[49m\u001b[43mnnovy\u001b[49m\u001b[43m,\u001b[49m\u001b[43m \u001b[49m\u001b[43mindex\u001b[49m\u001b[38;5;241;43m=\u001b[39;49m\u001b[43m[\u001b[49m\u001b[38;5;241;43m0\u001b[39;49m\u001b[43m]\u001b[49m\u001b[43m)\u001b[49m\n\u001b[1;32m      2\u001b[0m df_novy\n",
      "File \u001b[0;32m/opt/conda/lib/python3.8/site-packages/pandas/core/frame.py:614\u001b[0m, in \u001b[0;36mDataFrame.__init__\u001b[0;34m(self, data, index, columns, dtype, copy)\u001b[0m\n\u001b[1;32m    608\u001b[0m     mgr \u001b[38;5;241m=\u001b[39m \u001b[38;5;28mself\u001b[39m\u001b[38;5;241m.\u001b[39m_init_mgr(\n\u001b[1;32m    609\u001b[0m         data, axes\u001b[38;5;241m=\u001b[39m{\u001b[38;5;124m\"\u001b[39m\u001b[38;5;124mindex\u001b[39m\u001b[38;5;124m\"\u001b[39m: index, \u001b[38;5;124m\"\u001b[39m\u001b[38;5;124mcolumns\u001b[39m\u001b[38;5;124m\"\u001b[39m: columns}, dtype\u001b[38;5;241m=\u001b[39mdtype, copy\u001b[38;5;241m=\u001b[39mcopy\n\u001b[1;32m    610\u001b[0m     )\n\u001b[1;32m    612\u001b[0m \u001b[38;5;28;01melif\u001b[39;00m \u001b[38;5;28misinstance\u001b[39m(data, \u001b[38;5;28mdict\u001b[39m):\n\u001b[1;32m    613\u001b[0m     \u001b[38;5;66;03m# GH#38939 de facto copy defaults to False only in non-dict cases\u001b[39;00m\n\u001b[0;32m--> 614\u001b[0m     mgr \u001b[38;5;241m=\u001b[39m \u001b[43mdict_to_mgr\u001b[49m\u001b[43m(\u001b[49m\u001b[43mdata\u001b[49m\u001b[43m,\u001b[49m\u001b[43m \u001b[49m\u001b[43mindex\u001b[49m\u001b[43m,\u001b[49m\u001b[43m \u001b[49m\u001b[43mcolumns\u001b[49m\u001b[43m,\u001b[49m\u001b[43m \u001b[49m\u001b[43mdtype\u001b[49m\u001b[38;5;241;43m=\u001b[39;49m\u001b[43mdtype\u001b[49m\u001b[43m,\u001b[49m\u001b[43m \u001b[49m\u001b[43mcopy\u001b[49m\u001b[38;5;241;43m=\u001b[39;49m\u001b[43mcopy\u001b[49m\u001b[43m,\u001b[49m\u001b[43m \u001b[49m\u001b[43mtyp\u001b[49m\u001b[38;5;241;43m=\u001b[39;49m\u001b[43mmanager\u001b[49m\u001b[43m)\u001b[49m\n\u001b[1;32m    615\u001b[0m \u001b[38;5;28;01melif\u001b[39;00m \u001b[38;5;28misinstance\u001b[39m(data, ma\u001b[38;5;241m.\u001b[39mMaskedArray):\n\u001b[1;32m    616\u001b[0m     \u001b[38;5;28;01mimport\u001b[39;00m \u001b[38;5;21;01mnumpy\u001b[39;00m\u001b[38;5;21;01m.\u001b[39;00m\u001b[38;5;21;01mma\u001b[39;00m\u001b[38;5;21;01m.\u001b[39;00m\u001b[38;5;21;01mmrecords\u001b[39;00m \u001b[38;5;28;01mas\u001b[39;00m \u001b[38;5;21;01mmrecords\u001b[39;00m\n",
      "File \u001b[0;32m/opt/conda/lib/python3.8/site-packages/pandas/core/internals/construction.py:464\u001b[0m, in \u001b[0;36mdict_to_mgr\u001b[0;34m(data, index, columns, dtype, typ, copy)\u001b[0m\n\u001b[1;32m    456\u001b[0m     arrays \u001b[38;5;241m=\u001b[39m [\n\u001b[1;32m    457\u001b[0m         x\n\u001b[1;32m    458\u001b[0m         \u001b[38;5;28;01mif\u001b[39;00m \u001b[38;5;129;01mnot\u001b[39;00m \u001b[38;5;28mhasattr\u001b[39m(x, \u001b[38;5;124m\"\u001b[39m\u001b[38;5;124mdtype\u001b[39m\u001b[38;5;124m\"\u001b[39m) \u001b[38;5;129;01mor\u001b[39;00m \u001b[38;5;129;01mnot\u001b[39;00m \u001b[38;5;28misinstance\u001b[39m(x\u001b[38;5;241m.\u001b[39mdtype, ExtensionDtype)\n\u001b[1;32m    459\u001b[0m         \u001b[38;5;28;01melse\u001b[39;00m x\u001b[38;5;241m.\u001b[39mcopy()\n\u001b[1;32m    460\u001b[0m         \u001b[38;5;28;01mfor\u001b[39;00m x \u001b[38;5;129;01min\u001b[39;00m arrays\n\u001b[1;32m    461\u001b[0m     ]\n\u001b[1;32m    462\u001b[0m     \u001b[38;5;66;03m# TODO: can we get rid of the dt64tz special case above?\u001b[39;00m\n\u001b[0;32m--> 464\u001b[0m \u001b[38;5;28;01mreturn\u001b[39;00m \u001b[43marrays_to_mgr\u001b[49m\u001b[43m(\u001b[49m\n\u001b[1;32m    465\u001b[0m \u001b[43m    \u001b[49m\u001b[43marrays\u001b[49m\u001b[43m,\u001b[49m\u001b[43m \u001b[49m\u001b[43mdata_names\u001b[49m\u001b[43m,\u001b[49m\u001b[43m \u001b[49m\u001b[43mindex\u001b[49m\u001b[43m,\u001b[49m\u001b[43m \u001b[49m\u001b[43mcolumns\u001b[49m\u001b[43m,\u001b[49m\u001b[43m \u001b[49m\u001b[43mdtype\u001b[49m\u001b[38;5;241;43m=\u001b[39;49m\u001b[43mdtype\u001b[49m\u001b[43m,\u001b[49m\u001b[43m \u001b[49m\u001b[43mtyp\u001b[49m\u001b[38;5;241;43m=\u001b[39;49m\u001b[43mtyp\u001b[49m\u001b[43m,\u001b[49m\u001b[43m \u001b[49m\u001b[43mconsolidate\u001b[49m\u001b[38;5;241;43m=\u001b[39;49m\u001b[43mcopy\u001b[49m\n\u001b[1;32m    466\u001b[0m \u001b[43m\u001b[49m\u001b[43m)\u001b[49m\n",
      "File \u001b[0;32m/opt/conda/lib/python3.8/site-packages/pandas/core/internals/construction.py:135\u001b[0m, in \u001b[0;36marrays_to_mgr\u001b[0;34m(arrays, arr_names, index, columns, dtype, verify_integrity, typ, consolidate)\u001b[0m\n\u001b[1;32m    132\u001b[0m axes \u001b[38;5;241m=\u001b[39m [columns, index]\n\u001b[1;32m    134\u001b[0m \u001b[38;5;28;01mif\u001b[39;00m typ \u001b[38;5;241m==\u001b[39m \u001b[38;5;124m\"\u001b[39m\u001b[38;5;124mblock\u001b[39m\u001b[38;5;124m\"\u001b[39m:\n\u001b[0;32m--> 135\u001b[0m     \u001b[38;5;28;01mreturn\u001b[39;00m \u001b[43mcreate_block_manager_from_arrays\u001b[49m\u001b[43m(\u001b[49m\n\u001b[1;32m    136\u001b[0m \u001b[43m        \u001b[49m\u001b[43marrays\u001b[49m\u001b[43m,\u001b[49m\u001b[43m \u001b[49m\u001b[43marr_names\u001b[49m\u001b[43m,\u001b[49m\u001b[43m \u001b[49m\u001b[43maxes\u001b[49m\u001b[43m,\u001b[49m\u001b[43m \u001b[49m\u001b[43mconsolidate\u001b[49m\u001b[38;5;241;43m=\u001b[39;49m\u001b[43mconsolidate\u001b[49m\n\u001b[1;32m    137\u001b[0m \u001b[43m    \u001b[49m\u001b[43m)\u001b[49m\n\u001b[1;32m    138\u001b[0m \u001b[38;5;28;01melif\u001b[39;00m typ \u001b[38;5;241m==\u001b[39m \u001b[38;5;124m\"\u001b[39m\u001b[38;5;124marray\u001b[39m\u001b[38;5;124m\"\u001b[39m:\n\u001b[1;32m    139\u001b[0m     \u001b[38;5;28;01mif\u001b[39;00m \u001b[38;5;28mlen\u001b[39m(columns) \u001b[38;5;241m!=\u001b[39m \u001b[38;5;28mlen\u001b[39m(arrays):\n",
      "File \u001b[0;32m/opt/conda/lib/python3.8/site-packages/pandas/core/internals/managers.py:1776\u001b[0m, in \u001b[0;36mcreate_block_manager_from_arrays\u001b[0;34m(arrays, names, axes, consolidate)\u001b[0m\n\u001b[1;32m   1774\u001b[0m     mgr \u001b[38;5;241m=\u001b[39m BlockManager(blocks, axes)\n\u001b[1;32m   1775\u001b[0m \u001b[38;5;28;01mexcept\u001b[39;00m \u001b[38;5;167;01mValueError\u001b[39;00m \u001b[38;5;28;01mas\u001b[39;00m e:\n\u001b[0;32m-> 1776\u001b[0m     \u001b[38;5;28;01mraise\u001b[39;00m construction_error(\u001b[38;5;28mlen\u001b[39m(arrays), arrays[\u001b[38;5;241m0\u001b[39m]\u001b[38;5;241m.\u001b[39mshape, axes, e)\n\u001b[1;32m   1777\u001b[0m \u001b[38;5;28;01mif\u001b[39;00m consolidate:\n\u001b[1;32m   1778\u001b[0m     mgr\u001b[38;5;241m.\u001b[39m_consolidate_inplace()\n",
      "File \u001b[0;32m/opt/conda/lib/python3.8/site-packages/pandas/core/internals/managers.py:1773\u001b[0m, in \u001b[0;36mcreate_block_manager_from_arrays\u001b[0;34m(arrays, names, axes, consolidate)\u001b[0m\n\u001b[1;32m   1770\u001b[0m arrays \u001b[38;5;241m=\u001b[39m [_extract_array(x) \u001b[38;5;28;01mfor\u001b[39;00m x \u001b[38;5;129;01min\u001b[39;00m arrays]\n\u001b[1;32m   1772\u001b[0m \u001b[38;5;28;01mtry\u001b[39;00m:\n\u001b[0;32m-> 1773\u001b[0m     blocks \u001b[38;5;241m=\u001b[39m \u001b[43m_form_blocks\u001b[49m\u001b[43m(\u001b[49m\u001b[43marrays\u001b[49m\u001b[43m,\u001b[49m\u001b[43m \u001b[49m\u001b[43mnames\u001b[49m\u001b[43m,\u001b[49m\u001b[43m \u001b[49m\u001b[43maxes\u001b[49m\u001b[43m,\u001b[49m\u001b[43m \u001b[49m\u001b[43mconsolidate\u001b[49m\u001b[43m)\u001b[49m\n\u001b[1;32m   1774\u001b[0m     mgr \u001b[38;5;241m=\u001b[39m BlockManager(blocks, axes)\n\u001b[1;32m   1775\u001b[0m \u001b[38;5;28;01mexcept\u001b[39;00m \u001b[38;5;167;01mValueError\u001b[39;00m \u001b[38;5;28;01mas\u001b[39;00m e:\n",
      "File \u001b[0;32m/opt/conda/lib/python3.8/site-packages/pandas/core/internals/managers.py:1838\u001b[0m, in \u001b[0;36m_form_blocks\u001b[0;34m(arrays, names, axes, consolidate)\u001b[0m\n\u001b[1;32m   1836\u001b[0m blocks: \u001b[38;5;28mlist\u001b[39m[Block] \u001b[38;5;241m=\u001b[39m []\n\u001b[1;32m   1837\u001b[0m \u001b[38;5;28;01mif\u001b[39;00m \u001b[38;5;28mlen\u001b[39m(items_dict[\u001b[38;5;124m\"\u001b[39m\u001b[38;5;124mNumericBlock\u001b[39m\u001b[38;5;124m\"\u001b[39m]):\n\u001b[0;32m-> 1838\u001b[0m     numeric_blocks \u001b[38;5;241m=\u001b[39m \u001b[43m_multi_blockify\u001b[49m\u001b[43m(\u001b[49m\n\u001b[1;32m   1839\u001b[0m \u001b[43m        \u001b[49m\u001b[43mitems_dict\u001b[49m\u001b[43m[\u001b[49m\u001b[38;5;124;43m\"\u001b[39;49m\u001b[38;5;124;43mNumericBlock\u001b[39;49m\u001b[38;5;124;43m\"\u001b[39;49m\u001b[43m]\u001b[49m\u001b[43m,\u001b[49m\u001b[43m \u001b[49m\u001b[43mconsolidate\u001b[49m\u001b[38;5;241;43m=\u001b[39;49m\u001b[43mconsolidate\u001b[49m\n\u001b[1;32m   1840\u001b[0m \u001b[43m    \u001b[49m\u001b[43m)\u001b[49m\n\u001b[1;32m   1841\u001b[0m     blocks\u001b[38;5;241m.\u001b[39mextend(numeric_blocks)\n\u001b[1;32m   1843\u001b[0m \u001b[38;5;28;01mif\u001b[39;00m \u001b[38;5;28mlen\u001b[39m(items_dict[\u001b[38;5;124m\"\u001b[39m\u001b[38;5;124mDatetimeLikeBlock\u001b[39m\u001b[38;5;124m\"\u001b[39m]):\n",
      "File \u001b[0;32m/opt/conda/lib/python3.8/site-packages/pandas/core/internals/managers.py:1928\u001b[0m, in \u001b[0;36m_multi_blockify\u001b[0;34m(tuples, dtype, consolidate)\u001b[0m\n\u001b[1;32m   1922\u001b[0m new_blocks \u001b[38;5;241m=\u001b[39m []\n\u001b[1;32m   1923\u001b[0m \u001b[38;5;28;01mfor\u001b[39;00m dtype, tup_block \u001b[38;5;129;01min\u001b[39;00m grouper:\n\u001b[1;32m   1924\u001b[0m \n\u001b[1;32m   1925\u001b[0m     \u001b[38;5;66;03m# error: Argument 2 to \"_stack_arrays\" has incompatible type\u001b[39;00m\n\u001b[1;32m   1926\u001b[0m     \u001b[38;5;66;03m# \"Union[ExtensionDtype, str, dtype[Any], Type[str], Type[float], Type[int],\u001b[39;00m\n\u001b[1;32m   1927\u001b[0m     \u001b[38;5;66;03m# Type[complex], Type[bool], Type[object], None]\"; expected \"dtype[Any]\"\u001b[39;00m\n\u001b[0;32m-> 1928\u001b[0m     values, placement \u001b[38;5;241m=\u001b[39m \u001b[43m_stack_arrays\u001b[49m\u001b[43m(\u001b[49m\n\u001b[1;32m   1929\u001b[0m \u001b[43m        \u001b[49m\u001b[38;5;28;43mlist\u001b[39;49m\u001b[43m(\u001b[49m\u001b[43mtup_block\u001b[49m\u001b[43m)\u001b[49m\u001b[43m,\u001b[49m\u001b[43m \u001b[49m\u001b[43mdtype\u001b[49m\u001b[43m  \u001b[49m\u001b[38;5;66;43;03m# type: ignore[arg-type]\u001b[39;49;00m\n\u001b[1;32m   1930\u001b[0m \u001b[43m    \u001b[49m\u001b[43m)\u001b[49m\n\u001b[1;32m   1932\u001b[0m     block \u001b[38;5;241m=\u001b[39m new_block(values, placement\u001b[38;5;241m=\u001b[39mplacement, ndim\u001b[38;5;241m=\u001b[39m\u001b[38;5;241m2\u001b[39m)\n\u001b[1;32m   1933\u001b[0m     new_blocks\u001b[38;5;241m.\u001b[39mappend(block)\n",
      "File \u001b[0;32m/opt/conda/lib/python3.8/site-packages/pandas/core/internals/managers.py:1959\u001b[0m, in \u001b[0;36m_stack_arrays\u001b[0;34m(tuples, dtype)\u001b[0m\n\u001b[1;32m   1957\u001b[0m stacked \u001b[38;5;241m=\u001b[39m np\u001b[38;5;241m.\u001b[39mempty(shape, dtype\u001b[38;5;241m=\u001b[39mdtype)\n\u001b[1;32m   1958\u001b[0m \u001b[38;5;28;01mfor\u001b[39;00m i, arr \u001b[38;5;129;01min\u001b[39;00m \u001b[38;5;28menumerate\u001b[39m(arrays):\n\u001b[0;32m-> 1959\u001b[0m     stacked[i] \u001b[38;5;241m=\u001b[39m arr\n\u001b[1;32m   1961\u001b[0m \u001b[38;5;28;01mreturn\u001b[39;00m stacked, placement\n",
      "\u001b[0;31mValueError\u001b[0m: could not broadcast input array from shape (5,) into shape (1,)"
     ]
    }
   ],
   "source": [
    "df_novy = pd.DataFrame(nnovy, index=[0])\n",
    "df_novy"
   ]
  },
  {
   "cell_type": "code",
   "execution_count": null,
   "id": "8f9db3e2",
   "metadata": {},
   "outputs": [],
   "source": [
    "img_pths[0]"
   ]
  },
  {
   "cell_type": "code",
   "execution_count": null,
   "id": "36b38b0b",
   "metadata": {},
   "outputs": [],
   "source": [
    "!python /home/appuser/mmdetection/mmdet/utils/collect_env.py"
   ]
  },
  {
   "cell_type": "code",
   "execution_count": null,
   "id": "60428944",
   "metadata": {},
   "outputs": [],
   "source": []
  },
  {
   "cell_type": "code",
   "execution_count": null,
   "id": "0fcb9752",
   "metadata": {},
   "outputs": [],
   "source": [
    "!pwd"
   ]
  },
  {
   "cell_type": "code",
   "execution_count": null,
   "id": "d2b5785a",
   "metadata": {},
   "outputs": [],
   "source": [
    "pip list"
   ]
  },
  {
   "cell_type": "code",
   "execution_count": null,
   "id": "1b8c0648",
   "metadata": {},
   "outputs": [],
   "source": [
    "# !MMCV_WITH_OPS=1 FORCE_CUDA=1 pip install mmcv-full==1.5.2"
   ]
  },
  {
   "cell_type": "code",
   "execution_count": null,
   "id": "b82e83d1",
   "metadata": {},
   "outputs": [],
   "source": [
    "# !pip uninstall -y mmcv-full"
   ]
  }
 ],
 "metadata": {
  "kernelspec": {
   "display_name": "Python 3 (ipykernel)",
   "language": "python",
   "name": "python3"
  },
  "language_info": {
   "codemirror_mode": {
    "name": "ipython",
    "version": 3
   },
   "file_extension": ".py",
   "mimetype": "text/x-python",
   "name": "python",
   "nbconvert_exporter": "python",
   "pygments_lexer": "ipython3",
   "version": "3.8.13"
  }
 },
 "nbformat": 4,
 "nbformat_minor": 5
}
