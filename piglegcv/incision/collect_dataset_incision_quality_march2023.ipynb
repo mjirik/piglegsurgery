{
 "cells": [
  {
   "cell_type": "markdown",
   "id": "407991ff-a8ae-45e0-b47a-00a775783c07",
   "metadata": {},
   "source": [
    "# Collect dataset for incision quality\n",
    "\n",
    "We will collect jpegs of incision from application directory. This data will be uploaded to CVAT and annotated."
   ]
  },
  {
   "cell_type": "code",
   "execution_count": 55,
   "id": "0c7be8af-f189-40bd-baf1-98f7fab569f6",
   "metadata": {},
   "outputs": [],
   "source": [
    "import os\n",
    "from pathlib import Path\n",
    "import shutil\n",
    "from tqdm import tqdm\n",
    "\n",
    "\n",
    "\n",
    "DATA_BASEDIR = Path(\n",
    "    os.getenv(\n",
    "        # \"DATA_BASEDIR\", r\"~/mnt/pole/storage/plzen4-ntis/projects/korpusy_cv/pigleg_surgery/\"\n",
    "        \"DATA_BASEDIR\", r\".\"\n",
    "    )\n",
    ").expanduser()\n",
    "\n",
    "APP_DATA_BASEDIR = Path(\n",
    "    os.getenv(\n",
    "        \"APP_DATA_BASEDIR\", r\"/webapps/piglegsurgery/piglegsurgeryweb/media_symlink/\"\n",
    "    )\n",
    ")\n"
   ]
  },
  {
   "cell_type": "code",
   "execution_count": 56,
   "id": "a5209f96-6c33-4fe3-8496-f392ed5a4874",
   "metadata": {},
   "outputs": [],
   "source": [
    "assert DATA_BASEDIR.exists()"
   ]
  },
  {
   "cell_type": "code",
   "execution_count": 57,
   "id": "02879032-c1f9-40bf-8a17-9f3c62b4d1ce",
   "metadata": {},
   "outputs": [],
   "source": []
  },
  {
   "cell_type": "code",
   "execution_count": 49,
   "id": "f27df7a7-4dc2-4124-b99b-bb92fa9e81e0",
   "metadata": {},
   "outputs": [],
   "source": [
    "input_dir = APP_DATA_BASEDIR\n",
    "output_dir = DATA_BASEDIR / \"incision_detection_march2023\""
   ]
  },
  {
   "cell_type": "code",
   "execution_count": 50,
   "id": "a0df1036-235d-41df-b7a1-613bf793d7d8",
   "metadata": {},
   "outputs": [
    {
     "data": {
      "text/plain": [
       "str"
      ]
     },
     "execution_count": 50,
     "metadata": {},
     "output_type": "execute_result"
    }
   ],
   "source": [
    "type(input_dir.parent.name)"
   ]
  },
  {
   "cell_type": "code",
   "execution_count": 52,
   "id": "56a03c51-8d97-4403-b93f-e8ce4e4cdfcb",
   "metadata": {},
   "outputs": [
    {
     "name": "stderr",
     "output_type": "stream",
     "text": [
      "100%|████████████████████████████████████████████████████████████████████████████████████████████████| 215/215 [00:03<00:00, 54.66it/s]\n"
     ]
    }
   ],
   "source": [
    "output_dir.mkdir(parents=True, exist_ok=True)\n",
    "\n",
    "for fn in tqdm(list(input_dir.glob(\"**/incision_crop*.jpg\"))): \n",
    "    fn_out = output_dir / (fn.parent.name + \"_\" + fn.name)\n",
    "    shutil.copy(fn, fn_out)"
   ]
  },
  {
   "cell_type": "code",
   "execution_count": null,
   "id": "919e2f0f-518b-47eb-8438-2595fa0176e6",
   "metadata": {},
   "outputs": [],
   "source": []
  }
 ],
 "metadata": {
  "kernelspec": {
   "display_name": "Python 3 (ipykernel)",
   "language": "python",
   "name": "python3"
  },
  "language_info": {
   "codemirror_mode": {
    "name": "ipython",
    "version": 3
   },
   "file_extension": ".py",
   "mimetype": "text/x-python",
   "name": "python",
   "nbconvert_exporter": "python",
   "pygments_lexer": "ipython3",
   "version": "3.11.0"
  }
 },
 "nbformat": 4,
 "nbformat_minor": 5
}
