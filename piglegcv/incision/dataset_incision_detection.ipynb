{
 "cells": [
  {
   "cell_type": "code",
   "execution_count": 1,
   "id": "8ba31e7b-0451-48df-a86f-56070f4233c8",
   "metadata": {
    "pycharm": {
     "name": "#%%\n"
    }
   },
   "outputs": [],
   "source": [
    "%matplotlib inline\n",
    "import skimage\n",
    "from skimage.io import imread\n",
    "import cv2\n",
    "from pathlib import Path\n",
    "import pandas as pd\n",
    "import seaborn as sns\n",
    "import os\n",
    "import hashlib\n",
    "import time\n",
    "import numpy as np\n",
    "\n",
    "from tqdm import tqdm"
   ]
  },
  {
   "cell_type": "code",
   "execution_count": 2,
   "id": "5b9466b7-968b-4b85-9815-19fb120a18fd",
   "metadata": {
    "pycharm": {
     "name": "#%%\n"
    }
   },
   "outputs": [],
   "source": [
    "datadir = Path(os.getenv(\"DATADIR\", \".\"))\n",
    "dataset_root = datadir / r\"biomedical\\orig\\pigleg_surgery\"\n",
    "\n",
    "outputdir = dataset_root / \"incision2022\"\n",
    "outputdir.mkdir(exist_ok=True, parents=True)\n",
    "step = 30"
   ]
  },
  {
   "cell_type": "code",
   "execution_count": 4,
   "id": "e21623c0-c0a9-4090-80cf-6f47abf98029",
   "metadata": {
    "pycharm": {
     "name": "#%%\n"
    }
   },
   "outputs": [
    {
     "name": "stderr",
     "output_type": "stream",
     "text": [
      " 19%|████████████████                                                                   | 6/31 [00:06<00:25,  1.00s/it]"
     ]
    },
    {
     "name": "stdout",
     "output_type": "stream",
     "text": [
      "skipping file: H:\\biomedical\\orig\\pigleg_surgery\\dataset_october2021\\Gremme_Yvonne-_Einzelknopfnaehte-12.10.2021.mp4 , frame i: 0\n"
     ]
    },
    {
     "name": "stderr",
     "output_type": "stream",
     "text": [
      " 23%|██████████████████▋                                                                | 7/31 [00:07<00:24,  1.00s/it]"
     ]
    },
    {
     "name": "stdout",
     "output_type": "stream",
     "text": [
      "skipping file: H:\\biomedical\\orig\\pigleg_surgery\\dataset_october2021\\Schweinefuß.mp4 , frame i: 0\n"
     ]
    },
    {
     "name": "stderr",
     "output_type": "stream",
     "text": [
      " 29%|████████████████████████                                                           | 9/31 [00:09<00:25,  1.17s/it]"
     ]
    },
    {
     "name": "stdout",
     "output_type": "stream",
     "text": [
      "skipping file: H:\\biomedical\\orig\\pigleg_surgery\\dataset_october2021\\12.10.21_Loewe_Rebekka_Einzelknopfnaht.mp4 , frame i: 0\n"
     ]
    },
    {
     "name": "stderr",
     "output_type": "stream",
     "text": [
      " 35%|█████████████████████████████                                                     | 11/31 [00:13<00:29,  1.46s/it]"
     ]
    },
    {
     "name": "stdout",
     "output_type": "stream",
     "text": [
      "skipping file: H:\\biomedical\\orig\\pigleg_surgery\\dataset_october2021\\Allgöwer.mp4 , frame i: 0\n"
     ]
    },
    {
     "name": "stderr",
     "output_type": "stream",
     "text": [
      " 39%|███████████████████████████████▋                                                  | 12/31 [00:15<00:31,  1.68s/it]"
     ]
    },
    {
     "name": "stdout",
     "output_type": "stream",
     "text": [
      "skipping file: H:\\biomedical\\orig\\pigleg_surgery\\dataset_october2021\\Intrakutan.mp4 , frame i: 0\n"
     ]
    },
    {
     "name": "stderr",
     "output_type": "stream",
     "text": [
      " 42%|██████████████████████████████████▍                                               | 13/31 [00:16<00:28,  1.59s/it]"
     ]
    },
    {
     "name": "stdout",
     "output_type": "stream",
     "text": [
      "skipping file: H:\\biomedical\\orig\\pigleg_surgery\\dataset_october2021\\Stresstest.mp4 , frame i: 0\n"
     ]
    },
    {
     "name": "stderr",
     "output_type": "stream",
     "text": [
      " 45%|█████████████████████████████████████                                             | 14/31 [00:18<00:25,  1.53s/it]"
     ]
    },
    {
     "name": "stdout",
     "output_type": "stream",
     "text": [
      "skipping file: H:\\biomedical\\orig\\pigleg_surgery\\dataset_october2021\\2021-10-13-_A-_Gremme_Yvonne-_fortlaufende_Naht2.mp4 , frame i: 0\n"
     ]
    },
    {
     "name": "stderr",
     "output_type": "stream",
     "text": [
      " 77%|███████████████████████████████████████████████████████████████▍                  | 24/31 [01:22<01:03,  9.01s/it]"
     ]
    },
    {
     "name": "stdout",
     "output_type": "stream",
     "text": [
      "skipping file: H:\\biomedical\\orig\\pigleg_surgery\\dataset_october2021\\2021.11.02-B-DammannUlrike-Einzelknopfnaht_Schweinefuß.mp4 , frame i: 0\n"
     ]
    },
    {
     "name": "stderr",
     "output_type": "stream",
     "text": [
      " 94%|████████████████████████████████████████████████████████████████████████████▋     | 29/31 [01:46<00:14,  7.40s/it]"
     ]
    },
    {
     "name": "stdout",
     "output_type": "stream",
     "text": [
      "skipping file: H:\\biomedical\\orig\\pigleg_surgery\\dataset_october2021\\output.mp4 , frame i: 0\n"
     ]
    },
    {
     "name": "stderr",
     "output_type": "stream",
     "text": [
      " 97%|███████████████████████████████████████████████████████████████████████████████▎  | 30/31 [01:50<00:06,  6.38s/it]"
     ]
    },
    {
     "name": "stdout",
     "output_type": "stream",
     "text": [
      "skipping file: H:\\biomedical\\orig\\pigleg_surgery\\dataset_october2021\\12.10.21_Loewe_Rebekka_Einzelknopfnaht.converted_050.mp4 , frame i: 0\n"
     ]
    },
    {
     "name": "stderr",
     "output_type": "stream",
     "text": [
      "100%|██████████████████████████████████████████████████████████████████████████████████| 31/31 [01:50<00:00,  3.58s/it]\n"
     ]
    }
   ],
   "source": [
    "pth = dataset_root / \"dataset_october2021\"\n",
    "pth.exists()\n",
    "lst = list(pth.glob(\"**/*.mp4\"))\n",
    "\n",
    "for pth in tqdm(lst):\n",
    "    # pth = lst[0]\n",
    "\n",
    "    hh = pth.relative_to(dataset_root)\n",
    "    filehash = hashlib.sha256(str(hh).encode(\"utf8\")).hexdigest()\n",
    "\n",
    "    cap = cv2.VideoCapture(str(pth))\n",
    "    # prostor pro inicializaci\n",
    "\n",
    "    amount_of_frames = int(cap.get(cv2.CAP_PROP_FRAME_COUNT))\n",
    "    amount_of_frames\n",
    "\n",
    "    i = 0\n",
    "    i_from_end = 0\n",
    "    # for i in range(3):\n",
    "    while i < 5:\n",
    "        cap.set(\n",
    "            cv2.CAP_PROP_POS_FRAMES, int(amount_of_frames - (i_from_end * step) - 1)\n",
    "        )\n",
    "        res, frame = cap.read()\n",
    "\n",
    "        if i_from_end > 100:\n",
    "            tqdm.write(f\"stopping file: {str(pth)} , frame i: {i_from_end * step}\")\n",
    "            break\n",
    "\n",
    "        frame = np.asarray(frame)\n",
    "        if frame.ndim < 3:\n",
    "            tqdm.write(f\"skipping file: {str(pth)} , frame i: {i_from_end * step}\")\n",
    "            i_from_end += 1\n",
    "            continue\n",
    "        # plt.figure()\n",
    "        # plt.imshow(frame)\n",
    "        fn = outputdir / f\"{filehash}_{(i_from_end * step):04d}.jpg\"\n",
    "        # print(fn)\n",
    "        skimage.io.imsave(fn, frame[..., ::-1])\n",
    "        i_from_end += 1\n",
    "        i += 1"
   ]
  },
  {
   "cell_type": "code",
   "execution_count": 16,
   "id": "d5163fe7-da5a-419f-b4f1-d018dc3b22b0",
   "metadata": {
    "pycharm": {
     "name": "#%%\n"
    }
   },
   "outputs": [
    {
     "data": {
      "text/plain": [
       "WindowsPath('dataset_october2021/2021.10.12-A-Heck.Nora-Einzelknopfnaht.mp4')"
      ]
     },
     "execution_count": 16,
     "metadata": {},
     "output_type": "execute_result"
    }
   ],
   "source": []
  },
  {
   "cell_type": "code",
   "execution_count": null,
   "id": "498bbacb-f436-464f-afd2-0511f0db5850",
   "metadata": {
    "pycharm": {
     "name": "#%%\n"
    }
   },
   "outputs": [],
   "source": []
  }
 ],
 "metadata": {
  "kernelspec": {
   "display_name": "Python 3 (ipykernel)",
   "language": "python",
   "name": "python3"
  },
  "language_info": {
   "codemirror_mode": {
    "name": "ipython",
    "version": 3
   },
   "file_extension": ".py",
   "mimetype": "text/x-python",
   "name": "python",
   "nbconvert_exporter": "python",
   "pygments_lexer": "ipython3",
   "version": "3.11.0"
  }
 },
 "nbformat": 4,
 "nbformat_minor": 5
}