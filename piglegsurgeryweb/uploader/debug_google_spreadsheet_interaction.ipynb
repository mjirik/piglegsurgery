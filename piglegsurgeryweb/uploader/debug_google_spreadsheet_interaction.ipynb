{
 "cells": [
  {
   "cell_type": "code",
   "execution_count": 4,
   "id": "86a3ae5c-05ea-493d-8479-d66d728cbb11",
   "metadata": {
    "tags": [],
    "ExecuteTime": {
     "end_time": "2024-01-13T16:52:02.778413300Z",
     "start_time": "2024-01-13T16:52:00.629217600Z"
    }
   },
   "outputs": [
    {
     "name": "stdout",
     "output_type": "stream",
     "text": [
      "The autoreload extension is already loaded. To reload it, use:\n",
      "  %reload_ext autoreload\n"
     ]
    }
   ],
   "source": [
    "%load_ext autoreload\n",
    "%autoreload 2\n",
    "from pathlib import Path\n",
    "from oauth2client.service_account import ServiceAccountCredentials\n",
    "\n",
    "import data_tools"
   ]
  },
  {
   "cell_type": "code",
   "execution_count": 5,
   "id": "bbdee5ce-9326-481e-bdc6-9e3b527c5770",
   "metadata": {
    "tags": [],
    "ExecuteTime": {
     "end_time": "2024-01-13T16:52:05.028156800Z",
     "start_time": "2024-01-13T16:52:04.846635800Z"
    }
   },
   "outputs": [],
   "source": [
    "# 'piglegsurgery-1987db83b363.json'\n",
    "creds_file=list(Path(\".\").glob(\"../**/piglegsurgery-creds.json\"))[0]\n",
    "if not creds_file.exists():\n",
    "    logger.error(f\"Credetials file does not exist. Expected path: {creds_file}\")\n",
    "scope = [\n",
    "    \"https://spreadsheets.google.com/feeds\",\n",
    "    \"https://www.googleapis.com/auth/drive\",\n",
    "]\n",
    "creds = ServiceAccountCredentials.from_json_keyfile_name(creds_file, scope)\n"
   ]
  },
  {
   "cell_type": "code",
   "execution_count": null,
   "id": "09bf163f-df1c-4dd3-ac0c-df2e7b011a17",
   "metadata": {
    "tags": [],
    "ExecuteTime": {
     "end_time": "2024-01-13T16:48:34.453786400Z",
     "start_time": "2024-01-13T16:48:34.452786500Z"
    }
   },
   "outputs": [],
   "source": []
  },
  {
   "cell_type": "code",
   "execution_count": null,
   "id": "89137430-5b8f-4aef-9292-9a99307fa905",
   "metadata": {
    "tags": [],
    "ExecuteTime": {
     "end_time": "2024-01-13T16:48:34.460786600Z",
     "start_time": "2024-01-13T16:48:34.454787100Z"
    }
   },
   "outputs": [],
   "source": [
    "df = data_tools.google_spreadsheet_append(\"Pigleg Surgery Stats\", creds, {})"
   ]
  },
  {
   "cell_type": "code",
   "execution_count": null,
   "id": "44c3ee81-8bb0-48b9-9af7-2a1df7f33499",
   "metadata": {},
   "outputs": [],
   "source": [
    "gsp"
   ]
  }
 ],
 "metadata": {
  "kernelspec": {
   "display_name": "Python 3 (ipykernel)",
   "language": "python",
   "name": "python3"
  },
  "language_info": {
   "codemirror_mode": {
    "name": "ipython",
    "version": 3
   },
   "file_extension": ".py",
   "mimetype": "text/x-python",
   "name": "python",
   "nbconvert_exporter": "python",
   "pygments_lexer": "ipython3",
   "version": "3.8.13"
  }
 },
 "nbformat": 4,
 "nbformat_minor": 5
}
