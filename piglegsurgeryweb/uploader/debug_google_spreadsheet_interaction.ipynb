{
 "cells": [
  {
   "cell_type": "code",
   "execution_count": 1,
   "id": "86a3ae5c-05ea-493d-8479-d66d728cbb11",
   "metadata": {
    "ExecuteTime": {
     "end_time": "2024-01-13T16:52:02.778413300Z",
     "start_time": "2024-01-13T16:52:00.629217600Z"
    },
    "tags": []
   },
   "outputs": [],
   "source": [
    "%load_ext autoreload\n",
    "%autoreload 2\n",
    "from pathlib import Path\n",
    "from oauth2client.service_account import ServiceAccountCredentials\n",
    "\n",
    "import data_tools"
   ]
  },
  {
   "cell_type": "code",
   "execution_count": 2,
   "id": "bbdee5ce-9326-481e-bdc6-9e3b527c5770",
   "metadata": {
    "ExecuteTime": {
     "end_time": "2024-01-13T16:52:05.028156800Z",
     "start_time": "2024-01-13T16:52:04.846635800Z"
    },
    "tags": []
   },
   "outputs": [],
   "source": [
    "# 'piglegsurgery-1987db83b363.json'\n",
    "creds_file=list(Path(\".\").glob(\"../**/piglegsurgery-creds.json\"))[0]\n",
    "if not creds_file.exists():\n",
    "    logger.error(f\"Credetials file does not exist. Expected path: {creds_file}\")\n",
    "scope = [\n",
    "    \"https://spreadsheets.google.com/feeds\",\n",
    "    \"https://www.googleapis.com/auth/drive\",\n",
    "]\n",
    "creds = ServiceAccountCredentials.from_json_keyfile_name(creds_file, scope)\n"
   ]
  },
  {
   "cell_type": "code",
   "execution_count": null,
   "id": "09bf163f-df1c-4dd3-ac0c-df2e7b011a17",
   "metadata": {
    "ExecuteTime": {
     "end_time": "2024-01-13T16:48:34.453786400Z",
     "start_time": "2024-01-13T16:48:34.452786500Z"
    },
    "tags": []
   },
   "outputs": [],
   "source": []
  },
  {
   "cell_type": "code",
   "execution_count": 7,
   "id": "89137430-5b8f-4aef-9292-9a99307fa905",
   "metadata": {
    "ExecuteTime": {
     "end_time": "2024-01-13T16:48:34.460786600Z",
     "start_time": "2024-01-13T16:48:34.454787100Z"
    },
    "tags": []
   },
   "outputs": [
    {
     "name": "stdout",
     "output_type": "stream",
     "text": [
      "No duplicate column names found.\n"
     ]
    },
    {
     "name": "stderr",
     "output_type": "stream",
     "text": [
      "\u001b[32m2024-01-16 10:52:08.322\u001b[0m | \u001b[34m\u001b[1mDEBUG   \u001b[0m | \u001b[36mdata_tools\u001b[0m:\u001b[36mgoogle_spreadsheet_append\u001b[0m:\u001b[36m127\u001b[0m - \u001b[34m\u001b[1mappended keys=['filename', 'report_url', 'timestamp', 'email', 'uploaded_at', 'finished_at', 'fps', 'Needle holder length [m]', 'Scissors length [m]', 'Forceps length [m]', 'Needle holder visibility [s]', 'Needle holder visibility [%]', 'Forceps visibility [s]', 'Forceps visibility [%]', 'Scissors visibility [s]', 'Scissors visibility [%]', 'Needle holder area presence [%]', 'Needle holder velocity', 'Scissors area presence [%]', 'Forceps area presence [%]', 'Scissors velocity', 'Needle holder zone presence [%]', 'Forceps zone presence [%]', 'Scissors zone presence [%]', 'Needle holder length', 'Needle holder duration', 'Needle holder unit', 'Tweezes length', 'Tweezes duration', 'Tweezes velocity', 'Tweezes unit', 'Scissors length', 'Scissors duration', 'Scissors unit', 'filename_full', 'Tweezers length', 'Tweezers duration', 'Tweezers velocity', 'Tweezers unit', 'Needle holder visibility', 'Forceps length', 'Forceps visibility', 'Forceps velocity', 'Forceps unit', 'Scissors visibility', 'qr_data', 'pixelsize_m_by_incision_size', 'Needle holder length [pix]', 'Forceps length [pix]', 'Scissors length [pix]', 'frame_count', 'qr_data_pix_size_method', 'qr_data_is_detected', 'qr_data_pix_size', 'qr_data_qr_size', 'qr_data_size_by_scene', 'qr_data_text', 'qr_data_pix_size_single_frame_detector_m', 'qr_data_bbox_scene_area', 'qr_data_qr_scissors_frame_detected', 'qr_data_qr_scissors_frames', 'stitch_scores', 'Stitching r-score', 'Stitching s-score', 'duration_s_get_parameters_for_crop_rotate_rescale', 'duration_s_do_crop_rotate_rescale', 'qr_data_incision_bboxes', 'duration_s_run_image_processing', 'duration_s_tracking', 'duration_s_report', 'None length [m]', 'None visibility [s]', 'None velocity', 'None unit', 'None visibility [%]', 'None area presence [%]', 'qr_data_qr_bboxes_SFD', 'is_microsurgery', 'n_stitches_by_user', 'duration_s_stitch_ends', 'Forceps curved length [pix]', 'Forceps curved visibility [s]', 'Forceps curved velocity', 'Forceps curved unit', 'Forceps curved visibility [%]', 'Forceps curved area presence [%]', 'Forceps curved length [m]', 'Stichtes linearity score', 'Stitches parallelism score', 'qr_data_is_microsurgery', 'qr_data_bbox_micro_calibration', 'qr_data_qr_bboxes_SID', 'stitch_split_frames', 'stitch_split_s', 'qr_data_scene_width_m', 'Needle holder stitch 1 length [m]', 'Needle holder stitch 1 visibility [s]', 'Needle holder stitch 1 velocity', 'Needle holder stitch 1 unit', 'Needle holder stitch 1 visibility [%]', 'Needle holder stitch 1 area presence [%]', 'Forceps stitch 1 length [m]', 'Forceps stitch 1 visibility [s]', 'Forceps stitch 1 velocity', 'Forceps stitch 1 unit', 'Forceps stitch 1 visibility [%]', 'Forceps stitch 1 area presence [%]', 'Forceps curved stitch 1 length [m]', 'Forceps curved stitch 1 visibility [s]', 'Forceps curved stitch 1 velocity', 'Forceps curved stitch 1 unit', 'Forceps curved stitch 1 visibility [%]', 'Forceps curved stitch 1 area presence [%]', 'Scissors stitch 1 length [m]', 'Scissors stitch 1 visibility [s]', 'Scissors stitch 1 velocity', 'Scissors stitch 1 unit', 'Scissors stitch 1 visibility [%]', 'Scissors stitch 1 area presence [%]', 'Stitches linearity score', 'Scissors bbox length [m]', 'Scissors bbox visibility [s]', 'Scissors bbox velocity', 'Scissors bbox unit', 'Scissors bbox visibility [%]', 'Scissors bbox area presence [%]', 'Left hand bbox length [m]', 'Left hand bbox visibility [s]', 'Left hand bbox velocity', 'Left hand bbox unit', 'Left hand bbox visibility [%]', 'Left hand bbox area presence [%]', 'Right hand bbox length [m]', 'Right hand bbox visibility [s]', 'Right hand bbox velocity', 'Right hand bbox unit', 'Right hand bbox visibility [%]', 'Right hand bbox area presence [%]', 'Needle holder bbox length [m]', 'Needle holder bbox visibility [s]', 'Needle holder bbox velocity', 'Needle holder bbox unit', 'Needle holder bbox visibility [%]', 'Needle holder bbox area presence [%]', 'Needle holder bbox stitch 1 length [m]', 'Needle holder bbox stitch 1 visibility [s]', 'Needle holder bbox stitch 1 velocity', 'Needle holder bbox stitch 1 unit', 'Needle holder bbox stitch 1 visibility [%]', 'Needle holder bbox stitch 1 area presence [%]', 'Scissors bbox stitch 1 length [m]', 'Scissors bbox stitch 1 visibility [s]', 'Scissors bbox stitch 1 velocity', 'Scissors bbox stitch 1 unit', 'Scissors bbox stitch 1 visibility [%]', 'Scissors bbox stitch 1 area presence [%]', 'Left hand bbox stitch 1 length [m]', 'Left hand bbox stitch 1 visibility [s]', 'Left hand bbox stitch 1 velocity', 'Left hand bbox stitch 1 unit', 'Left hand bbox stitch 1 visibility [%]', 'Left hand bbox stitch 1 area presence [%]', 'Right hand bbox stitch 1 length [m]', 'Right hand bbox stitch 1 visibility [s]', 'Right hand bbox stitch 1 velocity', 'Right hand bbox stitch 1 unit', 'Right hand bbox stitch 1 visibility [%]', 'Right hand bbox stitch 1 area presence [%]', 'orig fps', 'orig totalframecount', 'orig frame_width', 'orig frame_height', 'Forceps bbox length [m]', 'Forceps bbox visibility [s]', 'Forceps bbox velocity', 'Forceps bbox unit', 'Forceps bbox visibility [%]', 'Forceps bbox area presence [%]', 'Forceps bbox stitch 1 length [m]', 'Forceps bbox stitch 1 visibility [s]', 'Forceps bbox stitch 1 velocity', 'Forceps bbox stitch 1 unit', 'Forceps bbox stitch 1 visibility [%]', 'Forceps bbox stitch 1 area presence [%]', ' length [m]', ' visibility [s]', ' velocity', ' unit', ' visibility [%]', ' area presence [%]', ' length [pix]', 'Needle holder bbox length [pix]', 'Forceps bbox length [pix]', 'Scissors bbox length [pix]', 'Left hand bbox length [pix]', 'Right hand bbox length [pix]', 'qr_data_pix_sizes', 'qr_data_pix_sizes_weights', 'qr_data_pix_sizes_methods', 'Needle holder stitch 2 length [m]', 'Needle holder stitch 2 visibility [s]', 'Needle holder stitch 2 velocity', 'Needle holder stitch 2 unit', 'Needle holder stitch 2 visibility [%]', 'Needle holder stitch 2 area presence [%]', 'Needle holder stitch 3 length [m]', 'Needle holder stitch 3 visibility [s]', 'Needle holder stitch 3 velocity', 'Needle holder stitch 3 unit', 'Needle holder stitch 3 visibility [%]', 'Needle holder stitch 3 area presence [%]', 'Needle holder stitch 4 length [m]', 'Needle holder stitch 4 visibility [s]', 'Needle holder stitch 4 velocity', 'Needle holder stitch 4 unit', 'Needle holder stitch 4 visibility [%]', 'Needle holder stitch 4 area presence [%]', 'Forceps stitch 2 length [m]', 'Forceps stitch 2 visibility [s]', 'Forceps stitch 2 velocity', 'Forceps stitch 2 unit', 'Forceps stitch 2 visibility [%]', 'Forceps stitch 2 area presence [%]', 'Forceps stitch 3 length [m]', 'Forceps stitch 3 visibility [s]', 'Forceps stitch 3 velocity', 'Forceps stitch 3 unit', 'Forceps stitch 3 visibility [%]', 'Forceps stitch 3 area presence [%]', 'Forceps stitch 4 length [m]', 'Forceps stitch 4 visibility [s]', 'Forceps stitch 4 velocity', 'Forceps stitch 4 unit', 'Forceps stitch 4 visibility [%]', 'Forceps stitch 4 area presence [%]', 'Scissors stitch 2 length [m]', 'Scissors stitch 2 visibility [s]', 'Scissors stitch 2 velocity', 'Scissors stitch 2 unit', 'Scissors stitch 2 visibility [%]', 'Scissors stitch 2 area presence [%]', 'Scissors stitch 3 length [m]', 'Scissors stitch 3 visibility [s]', 'Scissors stitch 3 velocity', 'Scissors stitch 3 unit', 'Scissors stitch 3 visibility [%]', 'Scissors stitch 3 area presence [%]', 'Scissors stitch 4 length [m]', 'Scissors stitch 4 visibility [s]', 'Scissors stitch 4 velocity', 'Scissors stitch 4 unit', 'Scissors stitch 4 visibility [%]', 'Scissors stitch 4 area presence [%]', 'Needle holder bbox stitch 2 length [m]', 'Needle holder bbox stitch 2 visibility [s]', 'Needle holder bbox stitch 2 velocity', 'Needle holder bbox stitch 2 unit', 'Needle holder bbox stitch 2 visibility [%]', 'Needle holder bbox stitch 2 area presence [%]', 'Needle holder bbox stitch 3 length [m]', 'Needle holder bbox stitch 3 visibility [s]', 'Needle holder bbox stitch 3 velocity', 'Needle holder bbox stitch 3 unit', 'Needle holder bbox stitch 3 visibility [%]', 'Needle holder bbox stitch 3 area presence [%]', 'Needle holder bbox stitch 4 length [m]', 'Needle holder bbox stitch 4 visibility [s]', 'Needle holder bbox stitch 4 velocity', 'Needle holder bbox stitch 4 unit', 'Needle holder bbox stitch 4 visibility [%]', 'Needle holder bbox stitch 4 area presence [%]', 'Forceps bbox stitch 2 length [m]', 'Forceps bbox stitch 2 visibility [s]', 'Forceps bbox stitch 2 velocity', 'Forceps bbox stitch 2 unit', 'Forceps bbox stitch 2 visibility [%]', 'Forceps bbox stitch 2 area presence [%]', 'Forceps bbox stitch 3 length [m]', 'Forceps bbox stitch 3 visibility [s]', 'Forceps bbox stitch 3 velocity', 'Forceps bbox stitch 3 unit', 'Forceps bbox stitch 3 visibility [%]', 'Forceps bbox stitch 3 area presence [%]', 'Scissors bbox stitch 2 length [m]', 'Scissors bbox stitch 2 visibility [s]', 'Scissors bbox stitch 2 velocity', 'Scissors bbox stitch 2 unit', 'Scissors bbox stitch 2 visibility [%]', 'Scissors bbox stitch 2 area presence [%]', 'Scissors bbox stitch 3 length [m]', 'Scissors bbox stitch 3 visibility [s]', 'Scissors bbox stitch 3 velocity', 'Scissors bbox stitch 3 unit', 'Scissors bbox stitch 3 visibility [%]', 'Scissors bbox stitch 3 area presence [%]', 'Left hand bbox stitch 2 length [m]', 'Left hand bbox stitch 2 visibility [s]', 'Left hand bbox stitch 2 velocity', 'Left hand bbox stitch 2 unit', 'Left hand bbox stitch 2 visibility [%]', 'Left hand bbox stitch 2 area presence [%]', 'Left hand bbox stitch 3 length [m]', 'Left hand bbox stitch 3 visibility [s]', 'Left hand bbox stitch 3 velocity', 'Left hand bbox stitch 3 unit', 'Left hand bbox stitch 3 visibility [%]', 'Left hand bbox stitch 3 area presence [%]', 'Left hand bbox stitch 4 length [m]', 'Left hand bbox stitch 4 visibility [s]', 'Left hand bbox stitch 4 velocity', 'Left hand bbox stitch 4 unit', 'Left hand bbox stitch 4 visibility [%]', 'Left hand bbox stitch 4 area presence [%]', 'Right hand bbox stitch 2 length [m]', 'Right hand bbox stitch 2 visibility [s]', 'Right hand bbox stitch 2 velocity', 'Right hand bbox stitch 2 unit', 'Right hand bbox stitch 2 visibility [%]', 'Right hand bbox stitch 2 area presence [%]', 'Right hand bbox stitch 3 length [m]', 'Right hand bbox stitch 3 visibility [s]', 'Right hand bbox stitch 3 velocity', 'Right hand bbox stitch 3 unit', 'Right hand bbox stitch 3 visibility [%]', 'Right hand bbox stitch 3 area presence [%]', 'Right hand bbox stitch 4 length [m]', 'Right hand bbox stitch 4 visibility [s]', 'Right hand bbox stitch 4 velocity', 'Right hand bbox stitch 4 unit', 'Right hand bbox stitch 4 visibility [%]', 'Right hand bbox stitch 4 area presence [%]', 'processing_ok', 'processing_message', 'Needle holder stitch 1 length [pix]', 'Needle holder stitch 2 length [pix]', 'Needle holder stitch 3 length [pix]', 'Needle holder stitch 4 length [pix]', 'Forceps stitch 1 length [pix]', 'Forceps stitch 2 length [pix]', 'Forceps stitch 3 length [pix]', 'Forceps stitch 4 length [pix]', 'Scissors stitch 1 length [pix]', 'Scissors stitch 2 length [pix]', 'Scissors stitch 3 length [pix]', 'Scissors stitch 4 length [pix]', 'Needle holder bbox stitch 1 length [pix]', 'Needle holder bbox stitch 2 length [pix]', 'Needle holder bbox stitch 3 length [pix]', 'Needle holder bbox stitch 4 length [pix]', 'Forceps bbox stitch 1 length [pix]', 'Forceps bbox stitch 2 length [pix]', 'Forceps bbox stitch 3 length [pix]', 'Forceps bbox stitch 4 length [pix]', 'Forceps bbox stitch 4 visibility [s]', 'Forceps bbox stitch 4 velocity', 'Forceps bbox stitch 4 unit', 'Forceps bbox stitch 4 visibility [%]', 'Forceps bbox stitch 4 area presence [%]', 'Scissors bbox stitch 1 length [pix]', 'Scissors bbox stitch 2 length [pix]', 'Scissors bbox stitch 3 length [pix]', 'Scissors bbox stitch 4 length [pix]', 'Scissors bbox stitch 4 visibility [s]', 'Scissors bbox stitch 4 velocity', 'Scissors bbox stitch 4 unit', 'Scissors bbox stitch 4 visibility [%]', 'Scissors bbox stitch 4 area presence [%]', 'Left hand bbox stitch 1 length [pix]', 'Left hand bbox stitch 2 length [pix]', 'Left hand bbox stitch 3 length [pix]', 'Left hand bbox stitch 4 length [pix]', 'Right hand bbox stitch 1 length [pix]', 'Right hand bbox stitch 2 length [pix]', 'Right hand bbox stitch 3 length [pix]', 'Right hand bbox stitch 4 length [pix]', 'annotation_annotation', 'annotation_stars', 'annotation_annotator', 'annotation_updated_at', 'annotation_annotation_annotation', 'annotation_annotation_stars', 'annotation_annotation_annotator', 'annotation_annotation_updated_at', 'Needle holder stitch 0 length [m]', 'Needle holder stitch 0 visibility [s]', 'Needle holder stitch 0 velocity', 'Needle holder stitch 0 unit', 'Needle holder stitch 0 visibility [%]', 'Needle holder stitch 0 area presence [%]', 'Forceps stitch 0 length [m]', 'Forceps stitch 0 visibility [s]', 'Forceps stitch 0 velocity', 'Forceps stitch 0 unit', 'Forceps stitch 0 visibility [%]', 'Forceps stitch 0 area presence [%]', 'Scissors bbox stitch 0 length [m]', 'Scissors bbox stitch 0 visibility [s]', 'Scissors bbox stitch 0 velocity', 'Scissors bbox stitch 0 unit', 'Scissors bbox stitch 0 visibility [%]', 'Scissors bbox stitch 0 area presence [%]', 'Left hand bbox stitch 0 length [m]', 'Left hand bbox stitch 0 visibility [s]', 'Left hand bbox stitch 0 velocity', 'Left hand bbox stitch 0 unit', 'Left hand bbox stitch 0 visibility [%]', 'Left hand bbox stitch 0 area presence [%]', 'Right hand bbox stitch 0 length [m]', 'Right hand bbox stitch 0 visibility [s]', 'Right hand bbox stitch 0 velocity', 'Right hand bbox stitch 0 unit', 'Right hand bbox stitch 0 visibility [%]', 'processed_at', 'Right hand bbox stitch 0 area presence [%]', 'Stitches linearity score [%]', 'Stitches parallelism score [%]', 'Stitches perpendicular score [%]', 'frame_width', 'frame_height']\u001b[0m\n",
      "\u001b[32m2024-01-16 10:52:08.326\u001b[0m | \u001b[34m\u001b[1mDEBUG   \u001b[0m | \u001b[36mdata_tools\u001b[0m:\u001b[36mgoogle_spreadsheet_append\u001b[0m:\u001b[36m128\u001b[0m - \u001b[34m\u001b[1mappended rows=[['nevim.avi', '', '2024-01-16 10:05:10', '', '', '', '', '', '', '', '', '', '', '', '', '', '', '', '', '', '', '', '', '', '', '', '', '', '', '', '', '', '', '', '', '', '', '', '', '', '', '', '', '', '', '', '', '', '', '', '', '', '', '', '', '', '', '', '', '', '', '', '', '', '', '', '', '', '', '', '', '', '', '', '', '', '', '', '', '', '', '', '', '', '', '', '', '', '', '', '', '', '', '', '', '', '', '', '', '', '', '', '', '', '', '', '', '', '', '', '', '', '', '', '', '', '', '', '', '', '', '', '', '', '', '', '', '', '', '', '', '', '', '', '', '', '', '', '', '', '', '', '', '', '', '', '', '', '', '', '', '', '', '', '', '', '', '', '', '', '', '', '', '', '', '', '', '', '', '', '', '', '', '', '', '', '', '', '', '', '', '', '', '', '', '', '', '', '', '', '', '', '', '', '', '', '', '', '', '', '', '', '', '', '', '', '', '', '', '', '', '', '', '', '', '', '', '', '', '', '', '', '', '', '', '', '', '', '', '', '', '', '', '', '', '', '', '', '', '', '', '', '', '', '', '', '', '', '', '', '', '', '', '', '', '', '', '', '', '', '', '', '', '', '', '', '', '', '', '', '', '', '', '', '', '', '', '', '', '', '', '', '', '', '', '', '', '', '', '', '', '', '', '', '', '', '', '', '', '', '', '', '', '', '', '', '', '', '', '', '', '', '', '', '', '', '', '', '', '', '', '', '', '', '', '', '', '', '', '', '', '', '', '', '', '', '', '', '', '', '', '', '', '', '', '', '', '', '', '', '', '', '', '', '', '', '', '', '', '', '', '', '', '', '', '', '', '', '', '', '', '', '', '', '', '', '', '', '', '', '', '', '', '', '', '', '', '', '', '', '', '', '', '', '', '', '', '', '', '', '', '', '', '', '', '', '', '', '', '', '', '', '', '', '', '', '', '', '']]\u001b[0m\n"
     ]
    }
   ],
   "source": [
    "data = {\n",
    "    \"filename\": \"nevim.avi\",\n",
    "    \"timestamp\": \"2024-01-16 10:05:10\",\n",
    "}\n",
    "\n",
    "df = data_tools.google_spreadsheet_append(\"Pigleg Surgery Stats\", creds, data)"
   ]
  },
  {
   "cell_type": "code",
   "execution_count": null,
   "id": "44c3ee81-8bb0-48b9-9af7-2a1df7f33499",
   "metadata": {},
   "outputs": [],
   "source": [
    "gsp"
   ]
  }
 ],
 "metadata": {
  "kernelspec": {
   "display_name": "Python 3 (ipykernel)",
   "language": "python",
   "name": "python3"
  },
  "language_info": {
   "codemirror_mode": {
    "name": "ipython",
    "version": 3
   },
   "file_extension": ".py",
   "mimetype": "text/x-python",
   "name": "python",
   "nbconvert_exporter": "python",
   "pygments_lexer": "ipython3",
   "version": "3.8.13"
  }
 },
 "nbformat": 4,
 "nbformat_minor": 5
}
