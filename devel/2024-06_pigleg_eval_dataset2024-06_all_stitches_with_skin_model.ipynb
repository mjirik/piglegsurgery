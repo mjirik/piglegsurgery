{
 "cells": [
  {
   "cell_type": "raw",
   "source": [],
   "metadata": {
    "collapsed": false
   },
   "id": "3d79b64e9b4751dd"
  },
  {
   "cell_type": "code",
   "id": "initial_id",
   "metadata": {
    "tags": [],
    "ExecuteTime": {
     "end_time": "2024-07-19T12:11:06.089510Z",
     "start_time": "2024-07-19T12:11:05.948672Z"
    }
   },
   "source": [
    "\n",
    "%load_ext autoreload\n",
    "%autoreload \n",
    "\n",
    "import numpy as np\n",
    "import seaborn as sns\n",
    "import scipy\n",
    "import skimage\n",
    "sns.set_style(\"ticks\")\n",
    "from pathlib import Path"
   ],
   "outputs": [],
   "execution_count": 1
  },
  {
   "metadata": {
    "ExecuteTime": {
     "end_time": "2024-07-19T12:11:12.521338Z",
     "start_time": "2024-07-19T12:11:06.830417Z"
    }
   },
   "cell_type": "code",
   "source": "!pip install pandas==1.5.3",
   "id": "3a3b585e7e7065c0",
   "outputs": [
    {
     "name": "stdout",
     "output_type": "stream",
     "text": [
      "Defaulting to user installation because normal site-packages is not writeable\r\n",
      "Looking in indexes: https://pypi.org/simple, https://pypi.ngc.nvidia.com\r\n",
      "Requirement already satisfied: pandas==1.5.3 in /home/appuser/.local/lib/python3.8/site-packages (1.5.3)\r\n",
      "Requirement already satisfied: python-dateutil>=2.8.1 in /opt/conda/lib/python3.8/site-packages (from pandas==1.5.3) (2.8.2)\r\n",
      "Requirement already satisfied: pytz>=2020.1 in /opt/conda/lib/python3.8/site-packages (from pandas==1.5.3) (2022.1)\r\n",
      "Requirement already satisfied: numpy>=1.20.3 in /opt/conda/lib/python3.8/site-packages (from pandas==1.5.3) (1.22.3)\r\n",
      "Requirement already satisfied: six>=1.5 in /opt/conda/lib/python3.8/site-packages (from python-dateutil>=2.8.1->pandas==1.5.3) (1.16.0)\r\n",
      "\u001B[33mDEPRECATION: torch-tensorrt 1.1.0a0 has a non-standard dependency specifier torch>=1.10.0+cu113<1.11.0. pip 24.1 will enforce this behaviour change. A possible replacement is to upgrade to a newer version of torch-tensorrt or contact the author to suggest that they release a version with a conforming dependency specifiers. Discussion can be found at https://github.com/pypa/pip/issues/12063\u001B[0m\u001B[33m\r\n",
      "\u001B[0m\r\n",
      "\u001B[1m[\u001B[0m\u001B[34;49mnotice\u001B[0m\u001B[1;39;49m]\u001B[0m\u001B[39;49m A new release of pip is available: \u001B[0m\u001B[31;49m24.0\u001B[0m\u001B[39;49m -> \u001B[0m\u001B[32;49m24.1.2\u001B[0m\r\n",
      "\u001B[1m[\u001B[0m\u001B[34;49mnotice\u001B[0m\u001B[1;39;49m]\u001B[0m\u001B[39;49m To update, run: \u001B[0m\u001B[32;49mpython3 -m pip install --upgrade pip\u001B[0m\r\n"
     ]
    }
   ],
   "execution_count": 2
  },
  {
   "cell_type": "markdown",
   "id": "53e39872-8212-46c6-9931-5bc4ba7f3955",
   "metadata": {},
   "source": [
    "# Get the data "
   ]
  },
  {
   "metadata": {
    "ExecuteTime": {
     "end_time": "2024-07-19T15:57:39.049997Z",
     "start_time": "2024-07-19T15:57:38.756976Z"
    }
   },
   "cell_type": "code",
   "source": [
    "import pandas as pd\n",
    "fn = sorted(list(Path(\".\").glob(\"*list_of_all_stitches*.xlsx\")))[-1]\n",
    "print(fn)\n",
    "dfst = pd.read_excel(fn)"
   ],
   "id": "eac8e648021ac8e",
   "outputs": [
    {
     "name": "stdout",
     "output_type": "stream",
     "text": [
      "2024-07_list_of_all_stitches_sorted_by_duration.2024-07-19_17-44-31.xlsx\n"
     ]
    }
   ],
   "execution_count": 62
  },
  {
   "cell_type": "code",
   "source": [
    "import plotly.express as px\n",
    "dfst_st0_only = dfst[dfst[\"stitch_id\"] == 0]\n",
    "px.scatter(dfst_st0_only, y=\"movement evaluation stitch\", x='annotation_annotation_time_and_movements', hover_data=[\"filename\", \"stitch_id\"], width=500)\n"
   ],
   "metadata": {
    "collapsed": false,
    "ExecuteTime": {
     "end_time": "2024-07-19T15:57:42.210829Z",
     "start_time": "2024-07-19T15:57:42.158584Z"
    }
   },
   "id": "821a5a9c25be1267",
   "outputs": [
    {
     "data": {
      "application/vnd.plotly.v1+json": {
       "data": [
        {
         "customdata": [
          [
           "Bad-2021_11_03_B_V_lz__Ann_Sophie_Einzelknopfnaht_am_Schweinefu___1_.mp4",
           0
          ],
          [
           "Bad-2021_11_03_A_Spitze_Vanessa_Einzelknopfnaht_am_Schweinefu_.mp4",
           0
          ],
          [
           "Good-2021_10_27_B_Etzel_Peter_Einzelknopfnaht_am_Schweinefu_.mp4",
           0
          ],
          [
           "Medium-2021_11_03_A_Tengler_Sophie_Einzelknopfnaht_Schweinefu_.mp4",
           0
          ],
          [
           "Bad-12_10_21__Loewe__Rebekka__Einzelknopfnaht.mp4",
           0
          ],
          [
           "Bad-2021_11_3_A_Brodersen___nne_Einzelknopfnaht_am_Schweinefu_.mp4",
           0
          ],
          [
           "medium-2021_11_03_A_Tengler_Sophie_Einzelknopfnaht_Schweinefu_.mp4",
           0
          ],
          [
           "Good-Einzelknopfnaht_Stoklossa.mp4",
           0
          ],
          [
           "Medium-2021_11_03_A_Seifert_Johanna_Einzelknopfnaht_am_Schweinefu_.mp4",
           0
          ],
          [
           "Bad-2021_11_03_A_Noll_Alexander_Einzelknopfnaht.mp4",
           0
          ],
          [
           "Good-Schmidt_Elisabeth_Einzelknotennaht_11_10_2021_MP4_SparkVideo.mp4",
           0
          ],
          [
           "Good-Schweinefu__Einzelknopfnaht.mp4",
           0
          ],
          [
           "Bad-03_11_21_B_Hopfe_Johanna_Einzelknopfnaht.mp4",
           0
          ],
          [
           "Medium-RPReplay_Final1634048018.mp4",
           0
          ],
          [
           "Medium-Schweinefu_.mp4",
           0
          ],
          [
           "Einzelknopfnaht_Schwein_Kerstin_Preuß.mp4",
           0
          ],
          [
           "Einzelknopfnaht_Elena.Vai-Wieting.mov",
           0
          ],
          [
           "11.4.2024.HarmsSören.NHT.mp4",
           0
          ],
          [
           "Gehrke,Yves - post.mp4",
           0
          ],
          [
           "Stresstest_Einzelknopfnaht.mp4",
           0
          ],
          [
           "Pre_-Test_Isabel_Linden.mp4",
           0
          ],
          [
           "Fehringer_Pascal__post_test.mp4",
           0
          ],
          [
           "Hilger,Anke-Posttest.mp4",
           0
          ],
          [
           "2023-02-21_SchuldtSalome_Einzelknopfnaht_am_Schweinefuß.mp4",
           0
          ],
          [
           "Bad-2021_11_03_A_Petersen_Insa_Einzelknopfnaht_am_Schweinefu_.mp4",
           0
          ],
          [
           "Einzelknopfnaht_Lina_Schäfer.mp4",
           0
          ],
          [
           "Schiesser_David_post_test.mp4",
           0
          ],
          [
           "EinzelknopfnahtamSchweinefuss_Muenzner_Simeon.mp4",
           0
          ],
          [
           "Bad-3_11_21_B_Grumt_Alina_Einzelknopfnaht_Schweinefu_.mp4",
           0
          ],
          [
           "Bildschirmaufnahme_2022-10-11_um_11.20.24.mov",
           0
          ]
         ],
         "hovertemplate": "annotation_annotation_time_and_movements=%{x}<br>movement evaluation stitch=%{y}<br>filename=%{customdata[0]}<br>stitch_id=%{customdata[1]}<extra></extra>",
         "legendgroup": "",
         "marker": {
          "color": "#636efa",
          "symbol": "circle"
         },
         "mode": "markers",
         "name": "",
         "orientation": "v",
         "showlegend": false,
         "x": [
          2,
          2,
          2,
          3,
          1,
          2,
          3,
          2,
          3,
          2,
          1,
          2,
          2,
          2,
          1,
          1,
          1,
          4,
          1,
          1,
          1,
          1,
          1,
          1,
          1,
          4,
          1,
          5,
          1,
          1
         ],
         "xaxis": "x",
         "y": [
          3.0,
          2.0,
          3.5,
          4.0,
          1.0,
          2.0,
          4.0,
          3.0,
          4.0,
          3.0,
          2.0,
          4.0,
          4.0,
          2.0,
          3.0,
          2.0,
          3.0,
          null,
          3.0,
          5.0,
          4.0,
          2.0,
          4.0,
          1.0,
          3.0,
          2.5,
          3.0,
          3.0,
          2.0,
          1.0
         ],
         "yaxis": "y",
         "type": "scatter"
        }
       ],
       "layout": {
        "template": {
         "data": {
          "histogram2dcontour": [
           {
            "type": "histogram2dcontour",
            "colorbar": {
             "outlinewidth": 0,
             "ticks": ""
            },
            "colorscale": [
             [
              0.0,
              "#0d0887"
             ],
             [
              0.1111111111111111,
              "#46039f"
             ],
             [
              0.2222222222222222,
              "#7201a8"
             ],
             [
              0.3333333333333333,
              "#9c179e"
             ],
             [
              0.4444444444444444,
              "#bd3786"
             ],
             [
              0.5555555555555556,
              "#d8576b"
             ],
             [
              0.6666666666666666,
              "#ed7953"
             ],
             [
              0.7777777777777778,
              "#fb9f3a"
             ],
             [
              0.8888888888888888,
              "#fdca26"
             ],
             [
              1.0,
              "#f0f921"
             ]
            ]
           }
          ],
          "choropleth": [
           {
            "type": "choropleth",
            "colorbar": {
             "outlinewidth": 0,
             "ticks": ""
            }
           }
          ],
          "histogram2d": [
           {
            "type": "histogram2d",
            "colorbar": {
             "outlinewidth": 0,
             "ticks": ""
            },
            "colorscale": [
             [
              0.0,
              "#0d0887"
             ],
             [
              0.1111111111111111,
              "#46039f"
             ],
             [
              0.2222222222222222,
              "#7201a8"
             ],
             [
              0.3333333333333333,
              "#9c179e"
             ],
             [
              0.4444444444444444,
              "#bd3786"
             ],
             [
              0.5555555555555556,
              "#d8576b"
             ],
             [
              0.6666666666666666,
              "#ed7953"
             ],
             [
              0.7777777777777778,
              "#fb9f3a"
             ],
             [
              0.8888888888888888,
              "#fdca26"
             ],
             [
              1.0,
              "#f0f921"
             ]
            ]
           }
          ],
          "heatmap": [
           {
            "type": "heatmap",
            "colorbar": {
             "outlinewidth": 0,
             "ticks": ""
            },
            "colorscale": [
             [
              0.0,
              "#0d0887"
             ],
             [
              0.1111111111111111,
              "#46039f"
             ],
             [
              0.2222222222222222,
              "#7201a8"
             ],
             [
              0.3333333333333333,
              "#9c179e"
             ],
             [
              0.4444444444444444,
              "#bd3786"
             ],
             [
              0.5555555555555556,
              "#d8576b"
             ],
             [
              0.6666666666666666,
              "#ed7953"
             ],
             [
              0.7777777777777778,
              "#fb9f3a"
             ],
             [
              0.8888888888888888,
              "#fdca26"
             ],
             [
              1.0,
              "#f0f921"
             ]
            ]
           }
          ],
          "heatmapgl": [
           {
            "type": "heatmapgl",
            "colorbar": {
             "outlinewidth": 0,
             "ticks": ""
            },
            "colorscale": [
             [
              0.0,
              "#0d0887"
             ],
             [
              0.1111111111111111,
              "#46039f"
             ],
             [
              0.2222222222222222,
              "#7201a8"
             ],
             [
              0.3333333333333333,
              "#9c179e"
             ],
             [
              0.4444444444444444,
              "#bd3786"
             ],
             [
              0.5555555555555556,
              "#d8576b"
             ],
             [
              0.6666666666666666,
              "#ed7953"
             ],
             [
              0.7777777777777778,
              "#fb9f3a"
             ],
             [
              0.8888888888888888,
              "#fdca26"
             ],
             [
              1.0,
              "#f0f921"
             ]
            ]
           }
          ],
          "contourcarpet": [
           {
            "type": "contourcarpet",
            "colorbar": {
             "outlinewidth": 0,
             "ticks": ""
            }
           }
          ],
          "contour": [
           {
            "type": "contour",
            "colorbar": {
             "outlinewidth": 0,
             "ticks": ""
            },
            "colorscale": [
             [
              0.0,
              "#0d0887"
             ],
             [
              0.1111111111111111,
              "#46039f"
             ],
             [
              0.2222222222222222,
              "#7201a8"
             ],
             [
              0.3333333333333333,
              "#9c179e"
             ],
             [
              0.4444444444444444,
              "#bd3786"
             ],
             [
              0.5555555555555556,
              "#d8576b"
             ],
             [
              0.6666666666666666,
              "#ed7953"
             ],
             [
              0.7777777777777778,
              "#fb9f3a"
             ],
             [
              0.8888888888888888,
              "#fdca26"
             ],
             [
              1.0,
              "#f0f921"
             ]
            ]
           }
          ],
          "surface": [
           {
            "type": "surface",
            "colorbar": {
             "outlinewidth": 0,
             "ticks": ""
            },
            "colorscale": [
             [
              0.0,
              "#0d0887"
             ],
             [
              0.1111111111111111,
              "#46039f"
             ],
             [
              0.2222222222222222,
              "#7201a8"
             ],
             [
              0.3333333333333333,
              "#9c179e"
             ],
             [
              0.4444444444444444,
              "#bd3786"
             ],
             [
              0.5555555555555556,
              "#d8576b"
             ],
             [
              0.6666666666666666,
              "#ed7953"
             ],
             [
              0.7777777777777778,
              "#fb9f3a"
             ],
             [
              0.8888888888888888,
              "#fdca26"
             ],
             [
              1.0,
              "#f0f921"
             ]
            ]
           }
          ],
          "mesh3d": [
           {
            "type": "mesh3d",
            "colorbar": {
             "outlinewidth": 0,
             "ticks": ""
            }
           }
          ],
          "scatter": [
           {
            "marker": {
             "line": {
              "color": "#283442"
             }
            },
            "type": "scatter"
           }
          ],
          "parcoords": [
           {
            "type": "parcoords",
            "line": {
             "colorbar": {
              "outlinewidth": 0,
              "ticks": ""
             }
            }
           }
          ],
          "scatterpolargl": [
           {
            "type": "scatterpolargl",
            "marker": {
             "colorbar": {
              "outlinewidth": 0,
              "ticks": ""
             }
            }
           }
          ],
          "bar": [
           {
            "error_x": {
             "color": "#f2f5fa"
            },
            "error_y": {
             "color": "#f2f5fa"
            },
            "marker": {
             "line": {
              "color": "rgb(17,17,17)",
              "width": 0.5
             },
             "pattern": {
              "fillmode": "overlay",
              "size": 10,
              "solidity": 0.2
             }
            },
            "type": "bar"
           }
          ],
          "scattergeo": [
           {
            "type": "scattergeo",
            "marker": {
             "colorbar": {
              "outlinewidth": 0,
              "ticks": ""
             }
            }
           }
          ],
          "scatterpolar": [
           {
            "type": "scatterpolar",
            "marker": {
             "colorbar": {
              "outlinewidth": 0,
              "ticks": ""
             }
            }
           }
          ],
          "histogram": [
           {
            "marker": {
             "pattern": {
              "fillmode": "overlay",
              "size": 10,
              "solidity": 0.2
             }
            },
            "type": "histogram"
           }
          ],
          "scattergl": [
           {
            "marker": {
             "line": {
              "color": "#283442"
             }
            },
            "type": "scattergl"
           }
          ],
          "scatter3d": [
           {
            "type": "scatter3d",
            "line": {
             "colorbar": {
              "outlinewidth": 0,
              "ticks": ""
             }
            },
            "marker": {
             "colorbar": {
              "outlinewidth": 0,
              "ticks": ""
             }
            }
           }
          ],
          "scattermapbox": [
           {
            "type": "scattermapbox",
            "marker": {
             "colorbar": {
              "outlinewidth": 0,
              "ticks": ""
             }
            }
           }
          ],
          "scatterternary": [
           {
            "type": "scatterternary",
            "marker": {
             "colorbar": {
              "outlinewidth": 0,
              "ticks": ""
             }
            }
           }
          ],
          "scattercarpet": [
           {
            "type": "scattercarpet",
            "marker": {
             "colorbar": {
              "outlinewidth": 0,
              "ticks": ""
             }
            }
           }
          ],
          "carpet": [
           {
            "aaxis": {
             "endlinecolor": "#A2B1C6",
             "gridcolor": "#506784",
             "linecolor": "#506784",
             "minorgridcolor": "#506784",
             "startlinecolor": "#A2B1C6"
            },
            "baxis": {
             "endlinecolor": "#A2B1C6",
             "gridcolor": "#506784",
             "linecolor": "#506784",
             "minorgridcolor": "#506784",
             "startlinecolor": "#A2B1C6"
            },
            "type": "carpet"
           }
          ],
          "table": [
           {
            "cells": {
             "fill": {
              "color": "#506784"
             },
             "line": {
              "color": "rgb(17,17,17)"
             }
            },
            "header": {
             "fill": {
              "color": "#2a3f5f"
             },
             "line": {
              "color": "rgb(17,17,17)"
             }
            },
            "type": "table"
           }
          ],
          "barpolar": [
           {
            "marker": {
             "line": {
              "color": "rgb(17,17,17)",
              "width": 0.5
             },
             "pattern": {
              "fillmode": "overlay",
              "size": 10,
              "solidity": 0.2
             }
            },
            "type": "barpolar"
           }
          ],
          "pie": [
           {
            "automargin": true,
            "type": "pie"
           }
          ]
         },
         "layout": {
          "autotypenumbers": "strict",
          "colorway": [
           "#636efa",
           "#EF553B",
           "#00cc96",
           "#ab63fa",
           "#FFA15A",
           "#19d3f3",
           "#FF6692",
           "#B6E880",
           "#FF97FF",
           "#FECB52"
          ],
          "font": {
           "color": "#f2f5fa"
          },
          "hovermode": "closest",
          "hoverlabel": {
           "align": "left"
          },
          "paper_bgcolor": "rgb(17,17,17)",
          "plot_bgcolor": "rgb(17,17,17)",
          "polar": {
           "bgcolor": "rgb(17,17,17)",
           "angularaxis": {
            "gridcolor": "#506784",
            "linecolor": "#506784",
            "ticks": ""
           },
           "radialaxis": {
            "gridcolor": "#506784",
            "linecolor": "#506784",
            "ticks": ""
           }
          },
          "ternary": {
           "bgcolor": "rgb(17,17,17)",
           "aaxis": {
            "gridcolor": "#506784",
            "linecolor": "#506784",
            "ticks": ""
           },
           "baxis": {
            "gridcolor": "#506784",
            "linecolor": "#506784",
            "ticks": ""
           },
           "caxis": {
            "gridcolor": "#506784",
            "linecolor": "#506784",
            "ticks": ""
           }
          },
          "coloraxis": {
           "colorbar": {
            "outlinewidth": 0,
            "ticks": ""
           }
          },
          "colorscale": {
           "sequential": [
            [
             0.0,
             "#0d0887"
            ],
            [
             0.1111111111111111,
             "#46039f"
            ],
            [
             0.2222222222222222,
             "#7201a8"
            ],
            [
             0.3333333333333333,
             "#9c179e"
            ],
            [
             0.4444444444444444,
             "#bd3786"
            ],
            [
             0.5555555555555556,
             "#d8576b"
            ],
            [
             0.6666666666666666,
             "#ed7953"
            ],
            [
             0.7777777777777778,
             "#fb9f3a"
            ],
            [
             0.8888888888888888,
             "#fdca26"
            ],
            [
             1.0,
             "#f0f921"
            ]
           ],
           "sequentialminus": [
            [
             0.0,
             "#0d0887"
            ],
            [
             0.1111111111111111,
             "#46039f"
            ],
            [
             0.2222222222222222,
             "#7201a8"
            ],
            [
             0.3333333333333333,
             "#9c179e"
            ],
            [
             0.4444444444444444,
             "#bd3786"
            ],
            [
             0.5555555555555556,
             "#d8576b"
            ],
            [
             0.6666666666666666,
             "#ed7953"
            ],
            [
             0.7777777777777778,
             "#fb9f3a"
            ],
            [
             0.8888888888888888,
             "#fdca26"
            ],
            [
             1.0,
             "#f0f921"
            ]
           ],
           "diverging": [
            [
             0,
             "#8e0152"
            ],
            [
             0.1,
             "#c51b7d"
            ],
            [
             0.2,
             "#de77ae"
            ],
            [
             0.3,
             "#f1b6da"
            ],
            [
             0.4,
             "#fde0ef"
            ],
            [
             0.5,
             "#f7f7f7"
            ],
            [
             0.6,
             "#e6f5d0"
            ],
            [
             0.7,
             "#b8e186"
            ],
            [
             0.8,
             "#7fbc41"
            ],
            [
             0.9,
             "#4d9221"
            ],
            [
             1,
             "#276419"
            ]
           ]
          },
          "xaxis": {
           "gridcolor": "#283442",
           "linecolor": "#506784",
           "ticks": "",
           "title": {
            "standoff": 15
           },
           "zerolinecolor": "#283442",
           "automargin": true,
           "zerolinewidth": 2
          },
          "yaxis": {
           "gridcolor": "#283442",
           "linecolor": "#506784",
           "ticks": "",
           "title": {
            "standoff": 15
           },
           "zerolinecolor": "#283442",
           "automargin": true,
           "zerolinewidth": 2
          },
          "scene": {
           "xaxis": {
            "backgroundcolor": "rgb(17,17,17)",
            "gridcolor": "#506784",
            "linecolor": "#506784",
            "showbackground": true,
            "ticks": "",
            "zerolinecolor": "#C8D4E3",
            "gridwidth": 2
           },
           "yaxis": {
            "backgroundcolor": "rgb(17,17,17)",
            "gridcolor": "#506784",
            "linecolor": "#506784",
            "showbackground": true,
            "ticks": "",
            "zerolinecolor": "#C8D4E3",
            "gridwidth": 2
           },
           "zaxis": {
            "backgroundcolor": "rgb(17,17,17)",
            "gridcolor": "#506784",
            "linecolor": "#506784",
            "showbackground": true,
            "ticks": "",
            "zerolinecolor": "#C8D4E3",
            "gridwidth": 2
           }
          },
          "shapedefaults": {
           "line": {
            "color": "#f2f5fa"
           }
          },
          "annotationdefaults": {
           "arrowcolor": "#f2f5fa",
           "arrowhead": 0,
           "arrowwidth": 1
          },
          "geo": {
           "bgcolor": "rgb(17,17,17)",
           "landcolor": "rgb(17,17,17)",
           "subunitcolor": "#506784",
           "showland": true,
           "showlakes": true,
           "lakecolor": "rgb(17,17,17)"
          },
          "title": {
           "x": 0.05
          },
          "updatemenudefaults": {
           "bgcolor": "#506784",
           "borderwidth": 0
          },
          "sliderdefaults": {
           "bgcolor": "#C8D4E3",
           "borderwidth": 1,
           "bordercolor": "rgb(17,17,17)",
           "tickwidth": 0
          },
          "mapbox": {
           "style": "dark"
          }
         }
        },
        "xaxis": {
         "anchor": "y",
         "domain": [
          0.0,
          1.0
         ],
         "title": {
          "text": "annotation_annotation_time_and_movements"
         }
        },
        "yaxis": {
         "anchor": "x",
         "domain": [
          0.0,
          1.0
         ],
         "title": {
          "text": "movement evaluation stitch"
         }
        },
        "legend": {
         "tracegroupgap": 0
        },
        "margin": {
         "t": 60
        },
        "width": 500
       },
       "config": {
        "plotlyServerURL": "https://plot.ly"
       }
      },
      "text/html": [
       "<div>                            <div id=\"d62a989a-b8c3-4087-b785-43b75d758859\" class=\"plotly-graph-div\" style=\"height:525px; width:500px;\"></div>            <script type=\"text/javascript\">                require([\"plotly\"], function(Plotly) {                    window.PLOTLYENV=window.PLOTLYENV || {};                                    if (document.getElementById(\"d62a989a-b8c3-4087-b785-43b75d758859\")) {                    Plotly.newPlot(                        \"d62a989a-b8c3-4087-b785-43b75d758859\",                        [{\"customdata\":[[\"Bad-2021_11_03_B_V_lz__Ann_Sophie_Einzelknopfnaht_am_Schweinefu___1_.mp4\",0],[\"Bad-2021_11_03_A_Spitze_Vanessa_Einzelknopfnaht_am_Schweinefu_.mp4\",0],[\"Good-2021_10_27_B_Etzel_Peter_Einzelknopfnaht_am_Schweinefu_.mp4\",0],[\"Medium-2021_11_03_A_Tengler_Sophie_Einzelknopfnaht_Schweinefu_.mp4\",0],[\"Bad-12_10_21__Loewe__Rebekka__Einzelknopfnaht.mp4\",0],[\"Bad-2021_11_3_A_Brodersen___nne_Einzelknopfnaht_am_Schweinefu_.mp4\",0],[\"medium-2021_11_03_A_Tengler_Sophie_Einzelknopfnaht_Schweinefu_.mp4\",0],[\"Good-Einzelknopfnaht_Stoklossa.mp4\",0],[\"Medium-2021_11_03_A_Seifert_Johanna_Einzelknopfnaht_am_Schweinefu_.mp4\",0],[\"Bad-2021_11_03_A_Noll_Alexander_Einzelknopfnaht.mp4\",0],[\"Good-Schmidt_Elisabeth_Einzelknotennaht_11_10_2021_MP4_SparkVideo.mp4\",0],[\"Good-Schweinefu__Einzelknopfnaht.mp4\",0],[\"Bad-03_11_21_B_Hopfe_Johanna_Einzelknopfnaht.mp4\",0],[\"Medium-RPReplay_Final1634048018.mp4\",0],[\"Medium-Schweinefu_.mp4\",0],[\"Einzelknopfnaht_Schwein_Kerstin_Preu\\u00df.mp4\",0],[\"Einzelknopfnaht_Elena.Vai-Wieting.mov\",0],[\"11.4.2024.HarmsS\\u00f6ren.NHT.mp4\",0],[\"Gehrke,Yves - post.mp4\",0],[\"Stresstest_Einzelknopfnaht.mp4\",0],[\"Pre_-Test_Isabel_Linden.mp4\",0],[\"Fehringer_Pascal__post_test.mp4\",0],[\"Hilger,Anke-Posttest.mp4\",0],[\"2023-02-21_SchuldtSalome_Einzelknopfnaht_am_Schweinefu\\u00df.mp4\",0],[\"Bad-2021_11_03_A_Petersen_Insa_Einzelknopfnaht_am_Schweinefu_.mp4\",0],[\"Einzelknopfnaht_Lina_Sch\\u00e4fer.mp4\",0],[\"Schiesser_David_post_test.mp4\",0],[\"EinzelknopfnahtamSchweinefuss_Muenzner_Simeon.mp4\",0],[\"Bad-3_11_21_B_Grumt_Alina_Einzelknopfnaht_Schweinefu_.mp4\",0],[\"Bildschirmaufnahme_2022-10-11_um_11.20.24.mov\",0]],\"hovertemplate\":\"annotation_annotation_time_and_movements=%{x}\\u003cbr\\u003emovement evaluation stitch=%{y}\\u003cbr\\u003efilename=%{customdata[0]}\\u003cbr\\u003estitch_id=%{customdata[1]}\\u003cextra\\u003e\\u003c\\u002fextra\\u003e\",\"legendgroup\":\"\",\"marker\":{\"color\":\"#636efa\",\"symbol\":\"circle\"},\"mode\":\"markers\",\"name\":\"\",\"orientation\":\"v\",\"showlegend\":false,\"x\":[2,2,2,3,1,2,3,2,3,2,1,2,2,2,1,1,1,4,1,1,1,1,1,1,1,4,1,5,1,1],\"xaxis\":\"x\",\"y\":[3.0,2.0,3.5,4.0,1.0,2.0,4.0,3.0,4.0,3.0,2.0,4.0,4.0,2.0,3.0,2.0,3.0,null,3.0,5.0,4.0,2.0,4.0,1.0,3.0,2.5,3.0,3.0,2.0,1.0],\"yaxis\":\"y\",\"type\":\"scatter\"}],                        {\"template\":{\"data\":{\"histogram2dcontour\":[{\"type\":\"histogram2dcontour\",\"colorbar\":{\"outlinewidth\":0,\"ticks\":\"\"},\"colorscale\":[[0.0,\"#0d0887\"],[0.1111111111111111,\"#46039f\"],[0.2222222222222222,\"#7201a8\"],[0.3333333333333333,\"#9c179e\"],[0.4444444444444444,\"#bd3786\"],[0.5555555555555556,\"#d8576b\"],[0.6666666666666666,\"#ed7953\"],[0.7777777777777778,\"#fb9f3a\"],[0.8888888888888888,\"#fdca26\"],[1.0,\"#f0f921\"]]}],\"choropleth\":[{\"type\":\"choropleth\",\"colorbar\":{\"outlinewidth\":0,\"ticks\":\"\"}}],\"histogram2d\":[{\"type\":\"histogram2d\",\"colorbar\":{\"outlinewidth\":0,\"ticks\":\"\"},\"colorscale\":[[0.0,\"#0d0887\"],[0.1111111111111111,\"#46039f\"],[0.2222222222222222,\"#7201a8\"],[0.3333333333333333,\"#9c179e\"],[0.4444444444444444,\"#bd3786\"],[0.5555555555555556,\"#d8576b\"],[0.6666666666666666,\"#ed7953\"],[0.7777777777777778,\"#fb9f3a\"],[0.8888888888888888,\"#fdca26\"],[1.0,\"#f0f921\"]]}],\"heatmap\":[{\"type\":\"heatmap\",\"colorbar\":{\"outlinewidth\":0,\"ticks\":\"\"},\"colorscale\":[[0.0,\"#0d0887\"],[0.1111111111111111,\"#46039f\"],[0.2222222222222222,\"#7201a8\"],[0.3333333333333333,\"#9c179e\"],[0.4444444444444444,\"#bd3786\"],[0.5555555555555556,\"#d8576b\"],[0.6666666666666666,\"#ed7953\"],[0.7777777777777778,\"#fb9f3a\"],[0.8888888888888888,\"#fdca26\"],[1.0,\"#f0f921\"]]}],\"heatmapgl\":[{\"type\":\"heatmapgl\",\"colorbar\":{\"outlinewidth\":0,\"ticks\":\"\"},\"colorscale\":[[0.0,\"#0d0887\"],[0.1111111111111111,\"#46039f\"],[0.2222222222222222,\"#7201a8\"],[0.3333333333333333,\"#9c179e\"],[0.4444444444444444,\"#bd3786\"],[0.5555555555555556,\"#d8576b\"],[0.6666666666666666,\"#ed7953\"],[0.7777777777777778,\"#fb9f3a\"],[0.8888888888888888,\"#fdca26\"],[1.0,\"#f0f921\"]]}],\"contourcarpet\":[{\"type\":\"contourcarpet\",\"colorbar\":{\"outlinewidth\":0,\"ticks\":\"\"}}],\"contour\":[{\"type\":\"contour\",\"colorbar\":{\"outlinewidth\":0,\"ticks\":\"\"},\"colorscale\":[[0.0,\"#0d0887\"],[0.1111111111111111,\"#46039f\"],[0.2222222222222222,\"#7201a8\"],[0.3333333333333333,\"#9c179e\"],[0.4444444444444444,\"#bd3786\"],[0.5555555555555556,\"#d8576b\"],[0.6666666666666666,\"#ed7953\"],[0.7777777777777778,\"#fb9f3a\"],[0.8888888888888888,\"#fdca26\"],[1.0,\"#f0f921\"]]}],\"surface\":[{\"type\":\"surface\",\"colorbar\":{\"outlinewidth\":0,\"ticks\":\"\"},\"colorscale\":[[0.0,\"#0d0887\"],[0.1111111111111111,\"#46039f\"],[0.2222222222222222,\"#7201a8\"],[0.3333333333333333,\"#9c179e\"],[0.4444444444444444,\"#bd3786\"],[0.5555555555555556,\"#d8576b\"],[0.6666666666666666,\"#ed7953\"],[0.7777777777777778,\"#fb9f3a\"],[0.8888888888888888,\"#fdca26\"],[1.0,\"#f0f921\"]]}],\"mesh3d\":[{\"type\":\"mesh3d\",\"colorbar\":{\"outlinewidth\":0,\"ticks\":\"\"}}],\"scatter\":[{\"marker\":{\"line\":{\"color\":\"#283442\"}},\"type\":\"scatter\"}],\"parcoords\":[{\"type\":\"parcoords\",\"line\":{\"colorbar\":{\"outlinewidth\":0,\"ticks\":\"\"}}}],\"scatterpolargl\":[{\"type\":\"scatterpolargl\",\"marker\":{\"colorbar\":{\"outlinewidth\":0,\"ticks\":\"\"}}}],\"bar\":[{\"error_x\":{\"color\":\"#f2f5fa\"},\"error_y\":{\"color\":\"#f2f5fa\"},\"marker\":{\"line\":{\"color\":\"rgb(17,17,17)\",\"width\":0.5},\"pattern\":{\"fillmode\":\"overlay\",\"size\":10,\"solidity\":0.2}},\"type\":\"bar\"}],\"scattergeo\":[{\"type\":\"scattergeo\",\"marker\":{\"colorbar\":{\"outlinewidth\":0,\"ticks\":\"\"}}}],\"scatterpolar\":[{\"type\":\"scatterpolar\",\"marker\":{\"colorbar\":{\"outlinewidth\":0,\"ticks\":\"\"}}}],\"histogram\":[{\"marker\":{\"pattern\":{\"fillmode\":\"overlay\",\"size\":10,\"solidity\":0.2}},\"type\":\"histogram\"}],\"scattergl\":[{\"marker\":{\"line\":{\"color\":\"#283442\"}},\"type\":\"scattergl\"}],\"scatter3d\":[{\"type\":\"scatter3d\",\"line\":{\"colorbar\":{\"outlinewidth\":0,\"ticks\":\"\"}},\"marker\":{\"colorbar\":{\"outlinewidth\":0,\"ticks\":\"\"}}}],\"scattermapbox\":[{\"type\":\"scattermapbox\",\"marker\":{\"colorbar\":{\"outlinewidth\":0,\"ticks\":\"\"}}}],\"scatterternary\":[{\"type\":\"scatterternary\",\"marker\":{\"colorbar\":{\"outlinewidth\":0,\"ticks\":\"\"}}}],\"scattercarpet\":[{\"type\":\"scattercarpet\",\"marker\":{\"colorbar\":{\"outlinewidth\":0,\"ticks\":\"\"}}}],\"carpet\":[{\"aaxis\":{\"endlinecolor\":\"#A2B1C6\",\"gridcolor\":\"#506784\",\"linecolor\":\"#506784\",\"minorgridcolor\":\"#506784\",\"startlinecolor\":\"#A2B1C6\"},\"baxis\":{\"endlinecolor\":\"#A2B1C6\",\"gridcolor\":\"#506784\",\"linecolor\":\"#506784\",\"minorgridcolor\":\"#506784\",\"startlinecolor\":\"#A2B1C6\"},\"type\":\"carpet\"}],\"table\":[{\"cells\":{\"fill\":{\"color\":\"#506784\"},\"line\":{\"color\":\"rgb(17,17,17)\"}},\"header\":{\"fill\":{\"color\":\"#2a3f5f\"},\"line\":{\"color\":\"rgb(17,17,17)\"}},\"type\":\"table\"}],\"barpolar\":[{\"marker\":{\"line\":{\"color\":\"rgb(17,17,17)\",\"width\":0.5},\"pattern\":{\"fillmode\":\"overlay\",\"size\":10,\"solidity\":0.2}},\"type\":\"barpolar\"}],\"pie\":[{\"automargin\":true,\"type\":\"pie\"}]},\"layout\":{\"autotypenumbers\":\"strict\",\"colorway\":[\"#636efa\",\"#EF553B\",\"#00cc96\",\"#ab63fa\",\"#FFA15A\",\"#19d3f3\",\"#FF6692\",\"#B6E880\",\"#FF97FF\",\"#FECB52\"],\"font\":{\"color\":\"#f2f5fa\"},\"hovermode\":\"closest\",\"hoverlabel\":{\"align\":\"left\"},\"paper_bgcolor\":\"rgb(17,17,17)\",\"plot_bgcolor\":\"rgb(17,17,17)\",\"polar\":{\"bgcolor\":\"rgb(17,17,17)\",\"angularaxis\":{\"gridcolor\":\"#506784\",\"linecolor\":\"#506784\",\"ticks\":\"\"},\"radialaxis\":{\"gridcolor\":\"#506784\",\"linecolor\":\"#506784\",\"ticks\":\"\"}},\"ternary\":{\"bgcolor\":\"rgb(17,17,17)\",\"aaxis\":{\"gridcolor\":\"#506784\",\"linecolor\":\"#506784\",\"ticks\":\"\"},\"baxis\":{\"gridcolor\":\"#506784\",\"linecolor\":\"#506784\",\"ticks\":\"\"},\"caxis\":{\"gridcolor\":\"#506784\",\"linecolor\":\"#506784\",\"ticks\":\"\"}},\"coloraxis\":{\"colorbar\":{\"outlinewidth\":0,\"ticks\":\"\"}},\"colorscale\":{\"sequential\":[[0.0,\"#0d0887\"],[0.1111111111111111,\"#46039f\"],[0.2222222222222222,\"#7201a8\"],[0.3333333333333333,\"#9c179e\"],[0.4444444444444444,\"#bd3786\"],[0.5555555555555556,\"#d8576b\"],[0.6666666666666666,\"#ed7953\"],[0.7777777777777778,\"#fb9f3a\"],[0.8888888888888888,\"#fdca26\"],[1.0,\"#f0f921\"]],\"sequentialminus\":[[0.0,\"#0d0887\"],[0.1111111111111111,\"#46039f\"],[0.2222222222222222,\"#7201a8\"],[0.3333333333333333,\"#9c179e\"],[0.4444444444444444,\"#bd3786\"],[0.5555555555555556,\"#d8576b\"],[0.6666666666666666,\"#ed7953\"],[0.7777777777777778,\"#fb9f3a\"],[0.8888888888888888,\"#fdca26\"],[1.0,\"#f0f921\"]],\"diverging\":[[0,\"#8e0152\"],[0.1,\"#c51b7d\"],[0.2,\"#de77ae\"],[0.3,\"#f1b6da\"],[0.4,\"#fde0ef\"],[0.5,\"#f7f7f7\"],[0.6,\"#e6f5d0\"],[0.7,\"#b8e186\"],[0.8,\"#7fbc41\"],[0.9,\"#4d9221\"],[1,\"#276419\"]]},\"xaxis\":{\"gridcolor\":\"#283442\",\"linecolor\":\"#506784\",\"ticks\":\"\",\"title\":{\"standoff\":15},\"zerolinecolor\":\"#283442\",\"automargin\":true,\"zerolinewidth\":2},\"yaxis\":{\"gridcolor\":\"#283442\",\"linecolor\":\"#506784\",\"ticks\":\"\",\"title\":{\"standoff\":15},\"zerolinecolor\":\"#283442\",\"automargin\":true,\"zerolinewidth\":2},\"scene\":{\"xaxis\":{\"backgroundcolor\":\"rgb(17,17,17)\",\"gridcolor\":\"#506784\",\"linecolor\":\"#506784\",\"showbackground\":true,\"ticks\":\"\",\"zerolinecolor\":\"#C8D4E3\",\"gridwidth\":2},\"yaxis\":{\"backgroundcolor\":\"rgb(17,17,17)\",\"gridcolor\":\"#506784\",\"linecolor\":\"#506784\",\"showbackground\":true,\"ticks\":\"\",\"zerolinecolor\":\"#C8D4E3\",\"gridwidth\":2},\"zaxis\":{\"backgroundcolor\":\"rgb(17,17,17)\",\"gridcolor\":\"#506784\",\"linecolor\":\"#506784\",\"showbackground\":true,\"ticks\":\"\",\"zerolinecolor\":\"#C8D4E3\",\"gridwidth\":2}},\"shapedefaults\":{\"line\":{\"color\":\"#f2f5fa\"}},\"annotationdefaults\":{\"arrowcolor\":\"#f2f5fa\",\"arrowhead\":0,\"arrowwidth\":1},\"geo\":{\"bgcolor\":\"rgb(17,17,17)\",\"landcolor\":\"rgb(17,17,17)\",\"subunitcolor\":\"#506784\",\"showland\":true,\"showlakes\":true,\"lakecolor\":\"rgb(17,17,17)\"},\"title\":{\"x\":0.05},\"updatemenudefaults\":{\"bgcolor\":\"#506784\",\"borderwidth\":0},\"sliderdefaults\":{\"bgcolor\":\"#C8D4E3\",\"borderwidth\":1,\"bordercolor\":\"rgb(17,17,17)\",\"tickwidth\":0},\"mapbox\":{\"style\":\"dark\"}}},\"xaxis\":{\"anchor\":\"y\",\"domain\":[0.0,1.0],\"title\":{\"text\":\"annotation_annotation_time_and_movements\"}},\"yaxis\":{\"anchor\":\"x\",\"domain\":[0.0,1.0],\"title\":{\"text\":\"movement evaluation stitch\"}},\"legend\":{\"tracegroupgap\":0},\"margin\":{\"t\":60},\"width\":500},                        {\"responsive\": true}                    ).then(function(){\n",
       "                            \n",
       "var gd = document.getElementById('d62a989a-b8c3-4087-b785-43b75d758859');\n",
       "var x = new MutationObserver(function (mutations, observer) {{\n",
       "        var display = window.getComputedStyle(gd).display;\n",
       "        if (!display || display === 'none') {{\n",
       "            console.log([gd, 'removed!']);\n",
       "            Plotly.purge(gd);\n",
       "            observer.disconnect();\n",
       "        }}\n",
       "}});\n",
       "\n",
       "// Listen for the removal of the full notebook cells\n",
       "var notebookContainer = gd.closest('#notebook-container');\n",
       "if (notebookContainer) {{\n",
       "    x.observe(notebookContainer, {childList: true});\n",
       "}}\n",
       "\n",
       "// Listen for the clearing of the current output cell\n",
       "var outputEl = gd.closest('.output');\n",
       "if (outputEl) {{\n",
       "    x.observe(outputEl, {childList: true});\n",
       "}}\n",
       "\n",
       "                        })                };                });            </script>        </div>"
      ]
     },
     "metadata": {},
     "output_type": "display_data"
    }
   ],
   "execution_count": 63
  },
  {
   "cell_type": "code",
   "source": [
    "# dfst.reset_index(drop=True)\n",
    "# dfst"
   ],
   "metadata": {
    "collapsed": false,
    "ExecuteTime": {
     "end_time": "2024-07-19T12:12:20.945622Z",
     "start_time": "2024-07-19T12:12:20.942175Z"
    }
   },
   "id": "cd4c8676f379e0bd",
   "outputs": [],
   "execution_count": 28
  },
  {
   "cell_type": "code",
   "source": [
    "dfst.shape"
   ],
   "metadata": {
    "collapsed": false,
    "ExecuteTime": {
     "end_time": "2024-07-19T12:12:21.849046Z",
     "start_time": "2024-07-19T12:12:21.844677Z"
    }
   },
   "id": "b5f9b598bf2ef803",
   "outputs": [
    {
     "data": {
      "text/plain": [
       "(150, 111)"
      ]
     },
     "execution_count": 29,
     "metadata": {},
     "output_type": "execute_result"
    }
   ],
   "execution_count": 29
  },
  {
   "cell_type": "code",
   "source": [
    "dfst"
   ],
   "metadata": {
    "collapsed": false,
    "ExecuteTime": {
     "end_time": "2024-07-19T12:12:22.161334Z",
     "start_time": "2024-07-19T12:12:22.136459Z"
    }
   },
   "id": "571c7638a9cccaa6",
   "outputs": [
    {
     "data": {
      "text/plain": [
       "                                              filename  \\\n",
       "0    Bad-2021_11_03_B_V_lz__Ann_Sophie_Einzelknopfn...   \n",
       "1    Bad-2021_11_03_A_Spitze_Vanessa_Einzelknopfnah...   \n",
       "2    Good-2021_10_27_B_Etzel_Peter_Einzelknopfnaht_...   \n",
       "3    Medium-2021_11_03_A_Tengler_Sophie_Einzelknopf...   \n",
       "4    Bad-12_10_21__Loewe__Rebekka__Einzelknopfnaht.mp4   \n",
       "..                                                 ...   \n",
       "145  2023-02-21_SchuldtSalome_Einzelknopfnaht_am_Sc...   \n",
       "146  Bad-2021_11_03_A_Petersen_Insa_Einzelknopfnaht...   \n",
       "147                   Einzelknopfnaht_Lina_Schäfer.mp4   \n",
       "148                      Schiesser_David_post_test.mp4   \n",
       "149  EinzelknopfnahtamSchweinefuss_Muenzner_Simeon.mp4   \n",
       "\n",
       "                      annotation_annotation_annotation  \\\n",
       "0    00:00:02 setup good\\r\\n00:00:07 wrong directio...   \n",
       "1    00:00:01 suture geomtry drawing is uneven from...   \n",
       "2    00:00:08 setup is mostly good. there is a pen ...   \n",
       "3    00:00:02 setup of desk is nice\\r\\n00:00:06 nee...   \n",
       "4    00:00:05 forceps are placed in the right posit...   \n",
       "..                                                 ...   \n",
       "145  00:00:30 stitch_start\\r\\n00:01:00 a lot of mov...   \n",
       "146  00:00:02 scissors missing from setup\\r\\n00:00:...   \n",
       "147  sehr gut, etwas aufpassen weger der Nadel, es ...   \n",
       "148  00:00:04 stitch_start\\r\\n00:00:47 knot_start\\r...   \n",
       "149  Die Nahtgeometrie sieht nicht 100% symmetrisch...   \n",
       "\n",
       "     annotation_annotation_time_and_movements  Stitch duration [s]  \\\n",
       "0                                           2                100.0   \n",
       "1                                           2                125.0   \n",
       "2                                           2                 92.0   \n",
       "3                                           3                 54.0   \n",
       "4                                           1                235.0   \n",
       "..                                        ...                  ...   \n",
       "145                                         1                  NaN   \n",
       "146                                         1                  NaN   \n",
       "147                                         4                  NaN   \n",
       "148                                         1                  NaN   \n",
       "149                                         5                  NaN   \n",
       "\n",
       "     Stitch start at [s]  Needle holder stitch area presence [%]  \\\n",
       "0                    8.0                               68.342776   \n",
       "1                    4.0                               76.252319   \n",
       "2                    2.0                               81.228070   \n",
       "3                    5.0                               64.977645   \n",
       "4                   35.0                               77.207455   \n",
       "..                   ...                                     ...   \n",
       "145                  NaN                                     NaN   \n",
       "146                  NaN                                     NaN   \n",
       "147                  NaN                                     NaN   \n",
       "148                  NaN                                     NaN   \n",
       "149                  NaN                                     NaN   \n",
       "\n",
       "     Needle holder stitch median area presence [%]  \\\n",
       "0                                        88.597734   \n",
       "1                                        79.468151   \n",
       "2                                        86.842105   \n",
       "3                                        97.466468   \n",
       "4                                        94.347693   \n",
       "..                                             ...   \n",
       "145                                            NaN   \n",
       "146                                            NaN   \n",
       "147                                            NaN   \n",
       "148                                            NaN   \n",
       "149                                            NaN   \n",
       "\n",
       "     Needle holder stitch length [m]  Needle holder stitch visibility [s]  \\\n",
       "0                           2.700872                            94.133333   \n",
       "1                           4.082694                           107.800000   \n",
       "2                           3.105033                            76.000000   \n",
       "3                           1.654405                            44.733333   \n",
       "4                           3.310901                           218.200000   \n",
       "..                               ...                                  ...   \n",
       "145                              NaN                                  NaN   \n",
       "146                              NaN                                  NaN   \n",
       "147                              NaN                                  NaN   \n",
       "148                              NaN                                  NaN   \n",
       "149                              NaN                                  NaN   \n",
       "\n",
       "     Needle holder stitch velocity  ...  Scissors piercing velocity  \\\n",
       "0                         0.025311  ...                    0.000160   \n",
       "1                         0.029845  ...                    0.000908   \n",
       "2                         0.032285  ...                    0.000706   \n",
       "3                         0.029229  ...                    0.000136   \n",
       "4                         0.013598  ...                    0.000595   \n",
       "..                             ...  ...                         ...   \n",
       "145                            NaN  ...                         NaN   \n",
       "146                            NaN  ...                         NaN   \n",
       "147                            NaN  ...                         NaN   \n",
       "148                            NaN  ...                         NaN   \n",
       "149                            NaN  ...                         NaN   \n",
       "\n",
       "     Scissors piercing velocity std  \\\n",
       "0                          0.014025   \n",
       "1                          0.058829   \n",
       "2                          0.042956   \n",
       "3                          0.007302   \n",
       "4                          0.552104   \n",
       "..                              ...   \n",
       "145                             NaN   \n",
       "146                             NaN   \n",
       "147                             NaN   \n",
       "148                             NaN   \n",
       "149                             NaN   \n",
       "\n",
       "     Scissors piercing velocity above threshold  \\\n",
       "0                                           0.0   \n",
       "1                                           0.0   \n",
       "2                                           0.0   \n",
       "3                                           0.0   \n",
       "4                                           2.0   \n",
       "..                                          ...   \n",
       "145                                         NaN   \n",
       "146                                         NaN   \n",
       "147                                         NaN   \n",
       "148                                         NaN   \n",
       "149                                         NaN   \n",
       "\n",
       "    Scissors piercing velocity threshold [m/s]  Scissors piercing unit  \\\n",
       "0                                         0.03                       m   \n",
       "1                                         0.03                       m   \n",
       "2                                         0.03                       m   \n",
       "3                                         0.03                       m   \n",
       "4                                         0.03                       m   \n",
       "..                                         ...                     ...   \n",
       "145                                        NaN                     NaN   \n",
       "146                                        NaN                     NaN   \n",
       "147                                        NaN                     NaN   \n",
       "148                                        NaN                     NaN   \n",
       "149                                        NaN                     NaN   \n",
       "\n",
       "     Scissors piercing visibility [%]  \\\n",
       "0                          100.123457   \n",
       "1                          100.123457   \n",
       "2                          100.144927   \n",
       "3                          100.289855   \n",
       "4                           99.398496   \n",
       "..                                ...   \n",
       "145                               NaN   \n",
       "146                               NaN   \n",
       "147                               NaN   \n",
       "148                               NaN   \n",
       "149                               NaN   \n",
       "\n",
       "     Needle holder to forceps piercing average distance [m]  \\\n",
       "0                                             0.021481        \n",
       "1                                             0.019131        \n",
       "2                                             0.022210        \n",
       "3                                             0.011459        \n",
       "4                                             0.010368        \n",
       "..                                                 ...        \n",
       "145                                                NaN        \n",
       "146                                                NaN        \n",
       "147                                                NaN        \n",
       "148                                                NaN        \n",
       "149                                                NaN        \n",
       "\n",
       "     Needle holder to forceps piercing below threshold [s]  \\\n",
       "0                                            44.866667       \n",
       "1                                            50.533333       \n",
       "2                                            37.400000       \n",
       "3                                            20.333333       \n",
       "4                                           129.133333       \n",
       "..                                                 ...       \n",
       "145                                                NaN       \n",
       "146                                                NaN       \n",
       "147                                                NaN       \n",
       "148                                                NaN       \n",
       "149                                                NaN       \n",
       "\n",
       "     Needle holder to forceps piercing below threshold [%]  stitch_id  \n",
       "0                                            83.086420              0  \n",
       "1                                            93.580247              0  \n",
       "2                                            81.304348              0  \n",
       "3                                            88.405797              0  \n",
       "4                                            97.092732              0  \n",
       "..                                                 ...            ...  \n",
       "145                                                NaN              4  \n",
       "146                                                NaN              4  \n",
       "147                                                NaN              4  \n",
       "148                                                NaN              4  \n",
       "149                                                NaN              4  \n",
       "\n",
       "[150 rows x 111 columns]"
      ],
      "text/html": [
       "<div>\n",
       "<style scoped>\n",
       "    .dataframe tbody tr th:only-of-type {\n",
       "        vertical-align: middle;\n",
       "    }\n",
       "\n",
       "    .dataframe tbody tr th {\n",
       "        vertical-align: top;\n",
       "    }\n",
       "\n",
       "    .dataframe thead th {\n",
       "        text-align: right;\n",
       "    }\n",
       "</style>\n",
       "<table border=\"1\" class=\"dataframe\">\n",
       "  <thead>\n",
       "    <tr style=\"text-align: right;\">\n",
       "      <th></th>\n",
       "      <th>filename</th>\n",
       "      <th>annotation_annotation_annotation</th>\n",
       "      <th>annotation_annotation_time_and_movements</th>\n",
       "      <th>Stitch duration [s]</th>\n",
       "      <th>Stitch start at [s]</th>\n",
       "      <th>Needle holder stitch area presence [%]</th>\n",
       "      <th>Needle holder stitch median area presence [%]</th>\n",
       "      <th>Needle holder stitch length [m]</th>\n",
       "      <th>Needle holder stitch visibility [s]</th>\n",
       "      <th>Needle holder stitch velocity</th>\n",
       "      <th>...</th>\n",
       "      <th>Scissors piercing velocity</th>\n",
       "      <th>Scissors piercing velocity std</th>\n",
       "      <th>Scissors piercing velocity above threshold</th>\n",
       "      <th>Scissors piercing velocity threshold [m/s]</th>\n",
       "      <th>Scissors piercing unit</th>\n",
       "      <th>Scissors piercing visibility [%]</th>\n",
       "      <th>Needle holder to forceps piercing average distance [m]</th>\n",
       "      <th>Needle holder to forceps piercing below threshold [s]</th>\n",
       "      <th>Needle holder to forceps piercing below threshold [%]</th>\n",
       "      <th>stitch_id</th>\n",
       "    </tr>\n",
       "  </thead>\n",
       "  <tbody>\n",
       "    <tr>\n",
       "      <th>0</th>\n",
       "      <td>Bad-2021_11_03_B_V_lz__Ann_Sophie_Einzelknopfn...</td>\n",
       "      <td>00:00:02 setup good\\r\\n00:00:07 wrong directio...</td>\n",
       "      <td>2</td>\n",
       "      <td>100.0</td>\n",
       "      <td>8.0</td>\n",
       "      <td>68.342776</td>\n",
       "      <td>88.597734</td>\n",
       "      <td>2.700872</td>\n",
       "      <td>94.133333</td>\n",
       "      <td>0.025311</td>\n",
       "      <td>...</td>\n",
       "      <td>0.000160</td>\n",
       "      <td>0.014025</td>\n",
       "      <td>0.0</td>\n",
       "      <td>0.03</td>\n",
       "      <td>m</td>\n",
       "      <td>100.123457</td>\n",
       "      <td>0.021481</td>\n",
       "      <td>44.866667</td>\n",
       "      <td>83.086420</td>\n",
       "      <td>0</td>\n",
       "    </tr>\n",
       "    <tr>\n",
       "      <th>1</th>\n",
       "      <td>Bad-2021_11_03_A_Spitze_Vanessa_Einzelknopfnah...</td>\n",
       "      <td>00:00:01 suture geomtry drawing is uneven from...</td>\n",
       "      <td>2</td>\n",
       "      <td>125.0</td>\n",
       "      <td>4.0</td>\n",
       "      <td>76.252319</td>\n",
       "      <td>79.468151</td>\n",
       "      <td>4.082694</td>\n",
       "      <td>107.800000</td>\n",
       "      <td>0.029845</td>\n",
       "      <td>...</td>\n",
       "      <td>0.000908</td>\n",
       "      <td>0.058829</td>\n",
       "      <td>0.0</td>\n",
       "      <td>0.03</td>\n",
       "      <td>m</td>\n",
       "      <td>100.123457</td>\n",
       "      <td>0.019131</td>\n",
       "      <td>50.533333</td>\n",
       "      <td>93.580247</td>\n",
       "      <td>0</td>\n",
       "    </tr>\n",
       "    <tr>\n",
       "      <th>2</th>\n",
       "      <td>Good-2021_10_27_B_Etzel_Peter_Einzelknopfnaht_...</td>\n",
       "      <td>00:00:08 setup is mostly good. there is a pen ...</td>\n",
       "      <td>2</td>\n",
       "      <td>92.0</td>\n",
       "      <td>2.0</td>\n",
       "      <td>81.228070</td>\n",
       "      <td>86.842105</td>\n",
       "      <td>3.105033</td>\n",
       "      <td>76.000000</td>\n",
       "      <td>0.032285</td>\n",
       "      <td>...</td>\n",
       "      <td>0.000706</td>\n",
       "      <td>0.042956</td>\n",
       "      <td>0.0</td>\n",
       "      <td>0.03</td>\n",
       "      <td>m</td>\n",
       "      <td>100.144927</td>\n",
       "      <td>0.022210</td>\n",
       "      <td>37.400000</td>\n",
       "      <td>81.304348</td>\n",
       "      <td>0</td>\n",
       "    </tr>\n",
       "    <tr>\n",
       "      <th>3</th>\n",
       "      <td>Medium-2021_11_03_A_Tengler_Sophie_Einzelknopf...</td>\n",
       "      <td>00:00:02 setup of desk is nice\\r\\n00:00:06 nee...</td>\n",
       "      <td>3</td>\n",
       "      <td>54.0</td>\n",
       "      <td>5.0</td>\n",
       "      <td>64.977645</td>\n",
       "      <td>97.466468</td>\n",
       "      <td>1.654405</td>\n",
       "      <td>44.733333</td>\n",
       "      <td>0.029229</td>\n",
       "      <td>...</td>\n",
       "      <td>0.000136</td>\n",
       "      <td>0.007302</td>\n",
       "      <td>0.0</td>\n",
       "      <td>0.03</td>\n",
       "      <td>m</td>\n",
       "      <td>100.289855</td>\n",
       "      <td>0.011459</td>\n",
       "      <td>20.333333</td>\n",
       "      <td>88.405797</td>\n",
       "      <td>0</td>\n",
       "    </tr>\n",
       "    <tr>\n",
       "      <th>4</th>\n",
       "      <td>Bad-12_10_21__Loewe__Rebekka__Einzelknopfnaht.mp4</td>\n",
       "      <td>00:00:05 forceps are placed in the right posit...</td>\n",
       "      <td>1</td>\n",
       "      <td>235.0</td>\n",
       "      <td>35.0</td>\n",
       "      <td>77.207455</td>\n",
       "      <td>94.347693</td>\n",
       "      <td>3.310901</td>\n",
       "      <td>218.200000</td>\n",
       "      <td>0.013598</td>\n",
       "      <td>...</td>\n",
       "      <td>0.000595</td>\n",
       "      <td>0.552104</td>\n",
       "      <td>2.0</td>\n",
       "      <td>0.03</td>\n",
       "      <td>m</td>\n",
       "      <td>99.398496</td>\n",
       "      <td>0.010368</td>\n",
       "      <td>129.133333</td>\n",
       "      <td>97.092732</td>\n",
       "      <td>0</td>\n",
       "    </tr>\n",
       "    <tr>\n",
       "      <th>...</th>\n",
       "      <td>...</td>\n",
       "      <td>...</td>\n",
       "      <td>...</td>\n",
       "      <td>...</td>\n",
       "      <td>...</td>\n",
       "      <td>...</td>\n",
       "      <td>...</td>\n",
       "      <td>...</td>\n",
       "      <td>...</td>\n",
       "      <td>...</td>\n",
       "      <td>...</td>\n",
       "      <td>...</td>\n",
       "      <td>...</td>\n",
       "      <td>...</td>\n",
       "      <td>...</td>\n",
       "      <td>...</td>\n",
       "      <td>...</td>\n",
       "      <td>...</td>\n",
       "      <td>...</td>\n",
       "      <td>...</td>\n",
       "      <td>...</td>\n",
       "    </tr>\n",
       "    <tr>\n",
       "      <th>145</th>\n",
       "      <td>2023-02-21_SchuldtSalome_Einzelknopfnaht_am_Sc...</td>\n",
       "      <td>00:00:30 stitch_start\\r\\n00:01:00 a lot of mov...</td>\n",
       "      <td>1</td>\n",
       "      <td>NaN</td>\n",
       "      <td>NaN</td>\n",
       "      <td>NaN</td>\n",
       "      <td>NaN</td>\n",
       "      <td>NaN</td>\n",
       "      <td>NaN</td>\n",
       "      <td>NaN</td>\n",
       "      <td>...</td>\n",
       "      <td>NaN</td>\n",
       "      <td>NaN</td>\n",
       "      <td>NaN</td>\n",
       "      <td>NaN</td>\n",
       "      <td>NaN</td>\n",
       "      <td>NaN</td>\n",
       "      <td>NaN</td>\n",
       "      <td>NaN</td>\n",
       "      <td>NaN</td>\n",
       "      <td>4</td>\n",
       "    </tr>\n",
       "    <tr>\n",
       "      <th>146</th>\n",
       "      <td>Bad-2021_11_03_A_Petersen_Insa_Einzelknopfnaht...</td>\n",
       "      <td>00:00:02 scissors missing from setup\\r\\n00:00:...</td>\n",
       "      <td>1</td>\n",
       "      <td>NaN</td>\n",
       "      <td>NaN</td>\n",
       "      <td>NaN</td>\n",
       "      <td>NaN</td>\n",
       "      <td>NaN</td>\n",
       "      <td>NaN</td>\n",
       "      <td>NaN</td>\n",
       "      <td>...</td>\n",
       "      <td>NaN</td>\n",
       "      <td>NaN</td>\n",
       "      <td>NaN</td>\n",
       "      <td>NaN</td>\n",
       "      <td>NaN</td>\n",
       "      <td>NaN</td>\n",
       "      <td>NaN</td>\n",
       "      <td>NaN</td>\n",
       "      <td>NaN</td>\n",
       "      <td>4</td>\n",
       "    </tr>\n",
       "    <tr>\n",
       "      <th>147</th>\n",
       "      <td>Einzelknopfnaht_Lina_Schäfer.mp4</td>\n",
       "      <td>sehr gut, etwas aufpassen weger der Nadel, es ...</td>\n",
       "      <td>4</td>\n",
       "      <td>NaN</td>\n",
       "      <td>NaN</td>\n",
       "      <td>NaN</td>\n",
       "      <td>NaN</td>\n",
       "      <td>NaN</td>\n",
       "      <td>NaN</td>\n",
       "      <td>NaN</td>\n",
       "      <td>...</td>\n",
       "      <td>NaN</td>\n",
       "      <td>NaN</td>\n",
       "      <td>NaN</td>\n",
       "      <td>NaN</td>\n",
       "      <td>NaN</td>\n",
       "      <td>NaN</td>\n",
       "      <td>NaN</td>\n",
       "      <td>NaN</td>\n",
       "      <td>NaN</td>\n",
       "      <td>4</td>\n",
       "    </tr>\n",
       "    <tr>\n",
       "      <th>148</th>\n",
       "      <td>Schiesser_David_post_test.mp4</td>\n",
       "      <td>00:00:04 stitch_start\\r\\n00:00:47 knot_start\\r...</td>\n",
       "      <td>1</td>\n",
       "      <td>NaN</td>\n",
       "      <td>NaN</td>\n",
       "      <td>NaN</td>\n",
       "      <td>NaN</td>\n",
       "      <td>NaN</td>\n",
       "      <td>NaN</td>\n",
       "      <td>NaN</td>\n",
       "      <td>...</td>\n",
       "      <td>NaN</td>\n",
       "      <td>NaN</td>\n",
       "      <td>NaN</td>\n",
       "      <td>NaN</td>\n",
       "      <td>NaN</td>\n",
       "      <td>NaN</td>\n",
       "      <td>NaN</td>\n",
       "      <td>NaN</td>\n",
       "      <td>NaN</td>\n",
       "      <td>4</td>\n",
       "    </tr>\n",
       "    <tr>\n",
       "      <th>149</th>\n",
       "      <td>EinzelknopfnahtamSchweinefuss_Muenzner_Simeon.mp4</td>\n",
       "      <td>Die Nahtgeometrie sieht nicht 100% symmetrisch...</td>\n",
       "      <td>5</td>\n",
       "      <td>NaN</td>\n",
       "      <td>NaN</td>\n",
       "      <td>NaN</td>\n",
       "      <td>NaN</td>\n",
       "      <td>NaN</td>\n",
       "      <td>NaN</td>\n",
       "      <td>NaN</td>\n",
       "      <td>...</td>\n",
       "      <td>NaN</td>\n",
       "      <td>NaN</td>\n",
       "      <td>NaN</td>\n",
       "      <td>NaN</td>\n",
       "      <td>NaN</td>\n",
       "      <td>NaN</td>\n",
       "      <td>NaN</td>\n",
       "      <td>NaN</td>\n",
       "      <td>NaN</td>\n",
       "      <td>4</td>\n",
       "    </tr>\n",
       "  </tbody>\n",
       "</table>\n",
       "<p>150 rows × 111 columns</p>\n",
       "</div>"
      ]
     },
     "execution_count": 30,
     "metadata": {},
     "output_type": "execute_result"
    }
   ],
   "execution_count": 30
  },
  {
   "cell_type": "code",
   "source": "pd.__version__",
   "metadata": {
    "collapsed": false,
    "ExecuteTime": {
     "end_time": "2024-07-19T12:12:23.495774Z",
     "start_time": "2024-07-19T12:12:23.491501Z"
    }
   },
   "id": "285ef2be0d3fc8f3",
   "outputs": [
    {
     "data": {
      "text/plain": [
       "'1.5.3'"
      ]
     },
     "execution_count": 31,
     "metadata": {},
     "output_type": "execute_result"
    }
   ],
   "execution_count": 31
  },
  {
   "cell_type": "markdown",
   "id": "d6997045-1eb0-4800-ac0a-fc1327a2dd2d",
   "metadata": {},
   "source": [
    "# Find the correlation"
   ]
  },
  {
   "cell_type": "code",
   "id": "ac9eaa05-6615-4b7d-ad65-bbf74ff984e9",
   "metadata": {
    "tags": [],
    "ExecuteTime": {
     "end_time": "2024-07-19T12:12:24.541252Z",
     "start_time": "2024-07-19T12:12:24.537969Z"
    }
   },
   "source": [
    "# count numeric values in columns\n",
    "# dfs.drop([\"filename\", \"stars_auto\"], axis=1).apply(lambda x: x.dtype is float).sum()\n",
    "# relevant_column = \"is_pretest_num\"\n",
    "relevant_column = \"movement evaluation stitch\"\n",
    "# df"
   ],
   "outputs": [],
   "execution_count": 32
  },
  {
   "cell_type": "code",
   "id": "1b7aa71b1749b7f",
   "metadata": {
    "collapsed": false,
    "tags": [],
    "ExecuteTime": {
     "end_time": "2024-07-19T12:12:25.260774Z",
     "start_time": "2024-07-19T12:12:25.257378Z"
    }
   },
   "source": [
    "# # remove columns containing \" stitch 1\" in their name\n",
    "# dfs = dfs.drop(dfs.columns[dfs.columns.str.contains(\" stitch 1\")], axis=1)\n",
    "# dfs = dfs.drop(dfs.columns[dfs.columns.str.contains(\" stitch 2\")], axis=1)\n",
    "# dfs = dfs.drop(dfs.columns[dfs.columns.str.contains(\" stitch 3\")], axis=1)\n",
    "# dfs = dfs.drop(dfs.columns[dfs.columns.str.contains(\" stitch 4\")], axis=1)\n",
    "# dfs = dfs.drop(dfs.columns[dfs.columns.str.contains(\"Stitch 1\")], axis=1)\n",
    "# dfs = dfs.drop(dfs.columns[dfs.columns.str.contains(\"Stitch 2\")], axis=1)\n",
    "# dfs = dfs.drop(dfs.columns[dfs.columns.str.contains(\"Stitch 3\")], axis=1)\n",
    "# dfs = dfs.drop(dfs.columns[dfs.columns.str.contains(\"Stitch 4\")], axis=1)\n",
    "# # dfs = dfs.drop(dfs.columns[dfs.columns.str.contains(\"n_stitches_by_user\")], axis=1)\n",
    "# # dfs = dfs.drop(dfs.columns[dfs.columns.str.contains(\"annotation_annotation_stars\")], axis=1)\n",
    "\n"
   ],
   "outputs": [],
   "execution_count": 33
  },
  {
   "cell_type": "code",
   "source": [
    "# dfst.corr(numeric_only=True)[relevant_column].abs().sort_values(ascending=False)[\"Needle holder stitch length [m]\"]\n",
    "dfst.corr(numeric_only=True)[relevant_column].abs().sort_values(ascending=False)\n",
    "\n"
   ],
   "metadata": {
    "collapsed": false,
    "ExecuteTime": {
     "end_time": "2024-07-19T12:12:26.320255Z",
     "start_time": "2024-07-19T12:12:26.311373Z"
    }
   },
   "id": "4e5318e8d4a275f4",
   "outputs": [
    {
     "data": {
      "text/plain": [
       "movement evaluation stitch                         1.000000\n",
       "Stitch duration [s]                                0.768717\n",
       "Piercing duration [s]                              0.744812\n",
       "Needle holder stitch visibility [s]                0.711710\n",
       "Knot duration [s]                                  0.694690\n",
       "                                                     ...   \n",
       "Forceps knot velocity threshold [m/s]                   NaN\n",
       "Scissors knot velocity threshold [m/s]                  NaN\n",
       "Needle holder piercing velocity threshold [m/s]         NaN\n",
       "Forceps piercing velocity threshold [m/s]               NaN\n",
       "Scissors piercing velocity threshold [m/s]              NaN\n",
       "Name: movement evaluation stitch, Length: 100, dtype: float64"
      ]
     },
     "execution_count": 34,
     "metadata": {},
     "output_type": "execute_result"
    }
   ],
   "execution_count": 34
  },
  {
   "cell_type": "code",
   "source": [
    "\n",
    "corr = dfst.corr(numeric_only=True)[relevant_column].abs().sort_values(ascending=False).head(8)\n",
    "corr = corr[corr.index != relevant_column] \n",
    "cols_X = list(corr.index)\n",
    "sample_id_cols = [\"filename\", \"stitch_id\"]\n",
    "corr\n"
   ],
   "metadata": {
    "collapsed": false,
    "ExecuteTime": {
     "end_time": "2024-07-19T12:12:27.298708Z",
     "start_time": "2024-07-19T12:12:27.288853Z"
    }
   },
   "id": "7b3b60fd96e36618",
   "outputs": [
    {
     "data": {
      "text/plain": [
       "Stitch duration [s]                                      0.768717\n",
       "Piercing duration [s]                                    0.744812\n",
       "Needle holder stitch visibility [s]                      0.711710\n",
       "Knot duration [s]                                        0.694690\n",
       "Needle holder piercing visibility [s]                    0.689119\n",
       "Needle holder to forceps piercing below threshold [s]    0.642263\n",
       "Needle holder to forceps stitch below threshold [s]      0.639829\n",
       "Name: movement evaluation stitch, dtype: float64"
      ]
     },
     "execution_count": 35,
     "metadata": {},
     "output_type": "execute_result"
    }
   ],
   "execution_count": 35
  },
  {
   "cell_type": "markdown",
   "source": [
    "### Pearson correlation test\n",
    "\n",
    "P-value:\n",
    "\n",
    "* A small p-value (typically ≤ 0.05) indicates strong evidence against the null hypothesis, so you reject the null hypothesis.\n",
    "* A large p-value (> 0.05) indicates weak evidence against the null hypothesis, so you fail to reject the null hypothesis.\n",
    "* The null hypothesis for the Pearson correlation test is that there is no linear correlation between the two variables."
   ],
   "metadata": {
    "collapsed": false
   },
   "id": "81edbacabd818ac9"
  },
  {
   "cell_type": "code",
   "source": [
    "import pandas as pd\n",
    "import numpy as np\n",
    "from scipy.stats import pearsonr\n",
    "\n",
    "results = {}\n",
    "\n",
    "for column in cols_X:\n",
    "    if column != relevant_column:\n",
    "        \n",
    "        dftest = dfst[[column, relevant_column]].copy()\n",
    "        dftest = dftest.dropna()\n",
    "        \n",
    "        vals0 = dftest[column] \n",
    "        vals1 = dftest[relevant_column]\n",
    "        \n",
    "        corr_coef, p_value = pearsonr(vals0, vals1)\n",
    "        results[column] = {'correlation_coefficient': corr_coef, 'p_value': p_value}\n",
    "\n",
    "# Convert results to a DataFrame for better visualization\n",
    "results_df = pd.DataFrame(results).T\n",
    "results_df"
   ],
   "metadata": {
    "collapsed": false,
    "ExecuteTime": {
     "end_time": "2024-07-19T12:12:28.397065Z",
     "start_time": "2024-07-19T12:12:28.373807Z"
    }
   },
   "id": "c034ec0634a0df04",
   "outputs": [
    {
     "data": {
      "text/plain": [
       "                                                    correlation_coefficient  \\\n",
       "Stitch duration [s]                                               -0.768717   \n",
       "Piercing duration [s]                                             -0.744812   \n",
       "Needle holder stitch visibility [s]                               -0.711710   \n",
       "Knot duration [s]                                                 -0.694690   \n",
       "Needle holder piercing visibility [s]                             -0.689119   \n",
       "Needle holder to forceps piercing below thresho...                -0.642263   \n",
       "Needle holder to forceps stitch below threshold...                -0.639829   \n",
       "\n",
       "                                                         p_value  \n",
       "Stitch duration [s]                                 1.141612e-11  \n",
       "Piercing duration [s]                               1.279823e-09  \n",
       "Needle holder stitch visibility [s]                 1.609781e-09  \n",
       "Knot duration [s]                                   4.318152e-08  \n",
       "Needle holder piercing visibility [s]               6.112989e-08  \n",
       "Needle holder to forceps piercing below thresho...  8.621177e-07  \n",
       "Needle holder to forceps stitch below threshold...  1.900394e-07  "
      ],
      "text/html": [
       "<div>\n",
       "<style scoped>\n",
       "    .dataframe tbody tr th:only-of-type {\n",
       "        vertical-align: middle;\n",
       "    }\n",
       "\n",
       "    .dataframe tbody tr th {\n",
       "        vertical-align: top;\n",
       "    }\n",
       "\n",
       "    .dataframe thead th {\n",
       "        text-align: right;\n",
       "    }\n",
       "</style>\n",
       "<table border=\"1\" class=\"dataframe\">\n",
       "  <thead>\n",
       "    <tr style=\"text-align: right;\">\n",
       "      <th></th>\n",
       "      <th>correlation_coefficient</th>\n",
       "      <th>p_value</th>\n",
       "    </tr>\n",
       "  </thead>\n",
       "  <tbody>\n",
       "    <tr>\n",
       "      <th>Stitch duration [s]</th>\n",
       "      <td>-0.768717</td>\n",
       "      <td>1.141612e-11</td>\n",
       "    </tr>\n",
       "    <tr>\n",
       "      <th>Piercing duration [s]</th>\n",
       "      <td>-0.744812</td>\n",
       "      <td>1.279823e-09</td>\n",
       "    </tr>\n",
       "    <tr>\n",
       "      <th>Needle holder stitch visibility [s]</th>\n",
       "      <td>-0.711710</td>\n",
       "      <td>1.609781e-09</td>\n",
       "    </tr>\n",
       "    <tr>\n",
       "      <th>Knot duration [s]</th>\n",
       "      <td>-0.694690</td>\n",
       "      <td>4.318152e-08</td>\n",
       "    </tr>\n",
       "    <tr>\n",
       "      <th>Needle holder piercing visibility [s]</th>\n",
       "      <td>-0.689119</td>\n",
       "      <td>6.112989e-08</td>\n",
       "    </tr>\n",
       "    <tr>\n",
       "      <th>Needle holder to forceps piercing below threshold [s]</th>\n",
       "      <td>-0.642263</td>\n",
       "      <td>8.621177e-07</td>\n",
       "    </tr>\n",
       "    <tr>\n",
       "      <th>Needle holder to forceps stitch below threshold [s]</th>\n",
       "      <td>-0.639829</td>\n",
       "      <td>1.900394e-07</td>\n",
       "    </tr>\n",
       "  </tbody>\n",
       "</table>\n",
       "</div>"
      ]
     },
     "execution_count": 36,
     "metadata": {},
     "output_type": "execute_result"
    }
   ],
   "execution_count": 36
  },
  {
   "cell_type": "code",
   "source": [],
   "metadata": {
    "collapsed": false,
    "ExecuteTime": {
     "end_time": "2024-07-19T12:12:29.953366Z",
     "start_time": "2024-07-19T12:12:29.950882Z"
    }
   },
   "id": "8892d1fa5e85f8eb",
   "outputs": [],
   "execution_count": 36
  },
  {
   "cell_type": "markdown",
   "source": [
    "\n",
    "## Find the best columns to predict annotation_annotation_stars"
   ],
   "metadata": {
    "collapsed": false
   },
   "id": "98cceb8f2d518cbf"
  },
  {
   "cell_type": "code",
   "source": [
    "dfst.columns[dfst.columns.str.contains(\"annotation_annotation\")]"
   ],
   "metadata": {
    "collapsed": false,
    "ExecuteTime": {
     "end_time": "2024-07-19T12:12:32.627913Z",
     "start_time": "2024-07-19T12:12:32.622288Z"
    }
   },
   "id": "c94df1014e896537",
   "outputs": [
    {
     "data": {
      "text/plain": [
       "Index(['annotation_annotation_annotation', 'annotation_annotation_time_and_movements'], dtype='object')"
      ]
     },
     "execution_count": 37,
     "metadata": {},
     "output_type": "execute_result"
    }
   ],
   "execution_count": 37
  },
  {
   "cell_type": "code",
   "source": [
    "\n",
    "dfst.columns[dfst.columns.str.contains(\"duration\")]\n"
   ],
   "metadata": {
    "collapsed": false,
    "ExecuteTime": {
     "end_time": "2024-07-19T12:12:33.626670Z",
     "start_time": "2024-07-19T12:12:33.620662Z"
    }
   },
   "id": "84877bbe35b08910",
   "outputs": [
    {
     "data": {
      "text/plain": [
       "Index(['Stitch duration [s]', 'Knot duration [s]', 'Piercing duration [s]'], dtype='object')"
      ]
     },
     "execution_count": 38,
     "metadata": {},
     "output_type": "execute_result"
    }
   ],
   "execution_count": 38
  },
  {
   "cell_type": "code",
   "source": [
    "# get columns containing \"0\"\n",
    "# cols_with_0 = list(dfs.columns[dfs.columns.str.contains(\"0\")])\n",
    "# cols_with_0"
   ],
   "metadata": {
    "collapsed": false,
    "ExecuteTime": {
     "end_time": "2024-07-19T12:12:34.425363Z",
     "start_time": "2024-07-19T12:12:34.422412Z"
    }
   },
   "id": "12800a9e3717c338",
   "outputs": [],
   "execution_count": 39
  },
  {
   "cell_type": "code",
   "id": "1d682a975ee6f940",
   "metadata": {
    "collapsed": false,
    "tags": [],
    "ExecuteTime": {
     "end_time": "2024-07-19T12:12:40.282573Z",
     "start_time": "2024-07-19T12:12:40.279442Z"
    }
   },
   "source": [
    "# try to find the best columns to predict stars_auto\n",
    "# corr = dfs[cols_with_0 + [relevant_column]].corr(numeric_only=True)[relevant_column].abs().sort_values(ascending=False) #.head(20)\n",
    "# corr = corr[corr.index != \"stars_auto\"] \n",
    "\n",
    "# corr"
   ],
   "outputs": [],
   "execution_count": 40
  },
  {
   "cell_type": "code",
   "source": [
    "# # corr = dfs.corr(numeric_only=True)[\"annotation_annotation_stars\"].abs().sort_values(ascending=False).head(7)\n",
    "# measurement_vs_annotation_separator = dfs.columns.str.contains(\"annotation_annotation\")\n",
    "# # corr = dfs.corr(numeric_only=True)[\"annotation_annotation_stars\"].abs().sort_values(ascending=False).head(7)\n",
    "# # corr on one axis measurement, on the other annotation, just the first 10\n",
    "# corr = dfs.corr(numeric_only=True).abs()\n",
    "# corr\n",
    "\n",
    "\n",
    "\n"
   ],
   "metadata": {
    "collapsed": false,
    "ExecuteTime": {
     "end_time": "2024-07-19T12:12:43.201115Z",
     "start_time": "2024-07-19T12:12:43.197875Z"
    }
   },
   "id": "244635b03a1d94b8",
   "outputs": [],
   "execution_count": 41
  },
  {
   "cell_type": "code",
   "source": [
    "#select the columns containing \"annotation_annotation\" in their name\n",
    "# measurement_vs_annotation_separator = corr.index.str.contains(\"annotation_annotation\")\n",
    "# measurement_vs_annotation_separator"
   ],
   "metadata": {
    "collapsed": false,
    "ExecuteTime": {
     "end_time": "2024-07-19T12:12:43.608124Z",
     "start_time": "2024-07-19T12:12:43.605012Z"
    }
   },
   "id": "34ab23a9f14e7aa7",
   "outputs": [],
   "execution_count": 42
  },
  {
   "cell_type": "code",
   "source": [
    "# import seaborn as sns\n",
    "# g = sns.pairplot(dfs, y_vars=corr.index[measurement_vs_annotation_separator], \n",
    "#              x_vars=corr.index[~measurement_vs_annotation_separator],\n",
    "#              # x_vars=[\"stars_auto\"]\n",
    "#              # hue=\"n_stitches_by_user\"\n",
    "#              )\n",
    "# g.map_lower(sns.kdeplot, levels=3, color=\".2\")"
   ],
   "metadata": {
    "collapsed": false,
    "ExecuteTime": {
     "end_time": "2024-07-19T12:12:45.513881Z",
     "start_time": "2024-07-19T12:12:45.510593Z"
    }
   },
   "id": "f8ae65b6df8c563a",
   "outputs": [],
   "execution_count": 43
  },
  {
   "metadata": {
    "ExecuteTime": {
     "end_time": "2024-07-19T12:16:19.071336Z",
     "start_time": "2024-07-19T12:16:19.068556Z"
    }
   },
   "cell_type": "code",
   "source": "",
   "id": "1aaae702bc139d12",
   "outputs": [],
   "execution_count": 52
  },
  {
   "cell_type": "code",
   "source": [
    "\n",
    "sns.pairplot(dfst, y_vars=corr.index,\n",
    "             # x_vars=corr.index,\n",
    "             x_vars=[relevant_column]\n",
    "             )\n"
   ],
   "metadata": {
    "collapsed": false,
    "ExecuteTime": {
     "end_time": "2024-07-19T12:12:47.383026Z",
     "start_time": "2024-07-19T12:12:46.338416Z"
    }
   },
   "id": "4817bfe53aecfe9d",
   "outputs": [
    {
     "data": {
      "text/plain": [
       "<seaborn.axisgrid.PairGrid at 0x7fa840c791c0>"
      ]
     },
     "execution_count": 44,
     "metadata": {},
     "output_type": "execute_result"
    },
    {
     "data": {
      "text/plain": [
       "<Figure size 180x1260 with 7 Axes>"
      ],
      "image/png": "[encoded data removed]"
     },
     "metadata": {
      "needs_background": "light"
     },
     "output_type": "display_data"
    }
   ],
   "execution_count": 44
  },
  {
   "cell_type": "code",
   "source": [],
   "metadata": {
    "collapsed": false,
    "ExecuteTime": {
     "end_time": "2024-07-19T12:12:55.268770Z",
     "start_time": "2024-07-19T12:12:55.266184Z"
    }
   },
   "id": "58d2d8ecf46472a4",
   "outputs": [],
   "execution_count": 44
  },
  {
   "cell_type": "code",
   "source": [
    "# make interactive graph on hover display filename and stitch_id and control the width of the plot\n",
    "import plotly.express as px\n",
    "px.scatter(dfst, y=\"Needle holder stitch visibility [s]\", x=relevant_column, hover_data=[\"filename\", \"stitch_id\"], width=500)\n",
    "# px.scatter(dfs, x=\"Needle holder stitch length [m]\", y=relevant_column)\n"
   ],
   "metadata": {
    "collapsed": false,
    "ExecuteTime": {
     "end_time": "2024-07-19T12:12:56.046651Z",
     "start_time": "2024-07-19T12:12:55.995145Z"
    }
   },
   "id": "f8936b1cb1337ba8",
   "outputs": [
    {
     "data": {
      "application/vnd.plotly.v1+json": {
       "data": [
        {
         "customdata": [
          [
           "Bad-2021_11_03_B_V_lz__Ann_Sophie_Einzelknopfnaht_am_Schweinefu___1_.mp4",
           0
          ],
          [
           "Bad-2021_11_03_A_Spitze_Vanessa_Einzelknopfnaht_am_Schweinefu_.mp4",
           0
          ],
          [
           "Good-2021_10_27_B_Etzel_Peter_Einzelknopfnaht_am_Schweinefu_.mp4",
           0
          ],
          [
           "Medium-2021_11_03_A_Tengler_Sophie_Einzelknopfnaht_Schweinefu_.mp4",
           0
          ],
          [
           "Bad-12_10_21__Loewe__Rebekka__Einzelknopfnaht.mp4",
           0
          ],
          [
           "Bad-2021_11_3_A_Brodersen___nne_Einzelknopfnaht_am_Schweinefu_.mp4",
           0
          ],
          [
           "medium-2021_11_03_A_Tengler_Sophie_Einzelknopfnaht_Schweinefu_.mp4",
           0
          ],
          [
           "Good-Einzelknopfnaht_Stoklossa.mp4",
           0
          ],
          [
           "Medium-2021_11_03_A_Seifert_Johanna_Einzelknopfnaht_am_Schweinefu_.mp4",
           0
          ],
          [
           "Bad-2021_11_03_A_Noll_Alexander_Einzelknopfnaht.mp4",
           0
          ],
          [
           "Bad-3_11_21_B_Grumt_Alina_Einzelknopfnaht_Schweinefu_.mp4",
           0
          ],
          [
           "Good-Schmidt_Elisabeth_Einzelknotennaht_11_10_2021_MP4_SparkVideo.mp4",
           0
          ],
          [
           "Good-Schweinefu__Einzelknopfnaht.mp4",
           0
          ],
          [
           "Bad-03_11_21_B_Hopfe_Johanna_Einzelknopfnaht.mp4",
           0
          ],
          [
           "Medium-RPReplay_Final1634048018.mp4",
           0
          ],
          [
           "Medium-Schweinefu_.mp4",
           0
          ],
          [
           "Einzelknopfnaht_Schwein_Kerstin_Preuß.mp4",
           0
          ],
          [
           "Einzelknopfnaht_Elena.Vai-Wieting.mov",
           0
          ],
          [
           "11.4.2024.HarmsSören.NHT.mp4",
           0
          ],
          [
           "Gehrke,Yves - post.mp4",
           0
          ],
          [
           "Stresstest_Einzelknopfnaht.mp4",
           0
          ],
          [
           "Pre_-Test_Isabel_Linden.mp4",
           0
          ],
          [
           "Bildschirmaufnahme_2022-10-11_um_11.20.24.mov",
           0
          ],
          [
           "Fehringer_Pascal__post_test.mp4",
           0
          ],
          [
           "Hilger,Anke-Posttest.mp4",
           0
          ],
          [
           "2023-02-21_SchuldtSalome_Einzelknopfnaht_am_Schweinefuß.mp4",
           0
          ],
          [
           "Bad-2021_11_03_A_Petersen_Insa_Einzelknopfnaht_am_Schweinefu_.mp4",
           0
          ],
          [
           "Einzelknopfnaht_Lina_Schäfer.mp4",
           0
          ],
          [
           "Schiesser_David_post_test.mp4",
           0
          ],
          [
           "EinzelknopfnahtamSchweinefuss_Muenzner_Simeon.mp4",
           0
          ],
          [
           "Bad-2021_11_03_B_V_lz__Ann_Sophie_Einzelknopfnaht_am_Schweinefu___1_.mp4",
           1
          ],
          [
           "Bad-2021_11_03_A_Spitze_Vanessa_Einzelknopfnaht_am_Schweinefu_.mp4",
           1
          ],
          [
           "Good-2021_10_27_B_Etzel_Peter_Einzelknopfnaht_am_Schweinefu_.mp4",
           1
          ],
          [
           "Medium-2021_11_03_A_Tengler_Sophie_Einzelknopfnaht_Schweinefu_.mp4",
           1
          ],
          [
           "Bad-12_10_21__Loewe__Rebekka__Einzelknopfnaht.mp4",
           1
          ],
          [
           "Bad-2021_11_3_A_Brodersen___nne_Einzelknopfnaht_am_Schweinefu_.mp4",
           1
          ],
          [
           "medium-2021_11_03_A_Tengler_Sophie_Einzelknopfnaht_Schweinefu_.mp4",
           1
          ],
          [
           "Good-Einzelknopfnaht_Stoklossa.mp4",
           1
          ],
          [
           "Medium-2021_11_03_A_Seifert_Johanna_Einzelknopfnaht_am_Schweinefu_.mp4",
           1
          ],
          [
           "Bad-2021_11_03_A_Noll_Alexander_Einzelknopfnaht.mp4",
           1
          ],
          [
           "Bad-3_11_21_B_Grumt_Alina_Einzelknopfnaht_Schweinefu_.mp4",
           1
          ],
          [
           "Good-Schmidt_Elisabeth_Einzelknotennaht_11_10_2021_MP4_SparkVideo.mp4",
           1
          ],
          [
           "Good-Schweinefu__Einzelknopfnaht.mp4",
           1
          ],
          [
           "Bad-03_11_21_B_Hopfe_Johanna_Einzelknopfnaht.mp4",
           1
          ],
          [
           "Medium-RPReplay_Final1634048018.mp4",
           1
          ],
          [
           "Medium-Schweinefu_.mp4",
           1
          ],
          [
           "Einzelknopfnaht_Schwein_Kerstin_Preuß.mp4",
           1
          ],
          [
           "Einzelknopfnaht_Elena.Vai-Wieting.mov",
           1
          ],
          [
           "11.4.2024.HarmsSören.NHT.mp4",
           1
          ],
          [
           "Gehrke,Yves - post.mp4",
           1
          ],
          [
           "Stresstest_Einzelknopfnaht.mp4",
           1
          ],
          [
           "Pre_-Test_Isabel_Linden.mp4",
           1
          ],
          [
           "Bildschirmaufnahme_2022-10-11_um_11.20.24.mov",
           1
          ],
          [
           "Fehringer_Pascal__post_test.mp4",
           1
          ],
          [
           "Hilger,Anke-Posttest.mp4",
           1
          ],
          [
           "2023-02-21_SchuldtSalome_Einzelknopfnaht_am_Schweinefuß.mp4",
           1
          ],
          [
           "Bad-2021_11_03_A_Petersen_Insa_Einzelknopfnaht_am_Schweinefu_.mp4",
           1
          ],
          [
           "Einzelknopfnaht_Lina_Schäfer.mp4",
           1
          ],
          [
           "Schiesser_David_post_test.mp4",
           1
          ],
          [
           "EinzelknopfnahtamSchweinefuss_Muenzner_Simeon.mp4",
           1
          ],
          [
           "Bad-2021_11_03_B_V_lz__Ann_Sophie_Einzelknopfnaht_am_Schweinefu___1_.mp4",
           2
          ],
          [
           "Bad-2021_11_03_A_Spitze_Vanessa_Einzelknopfnaht_am_Schweinefu_.mp4",
           2
          ],
          [
           "Good-2021_10_27_B_Etzel_Peter_Einzelknopfnaht_am_Schweinefu_.mp4",
           2
          ],
          [
           "Medium-2021_11_03_A_Tengler_Sophie_Einzelknopfnaht_Schweinefu_.mp4",
           2
          ],
          [
           "Bad-12_10_21__Loewe__Rebekka__Einzelknopfnaht.mp4",
           2
          ],
          [
           "Bad-2021_11_3_A_Brodersen___nne_Einzelknopfnaht_am_Schweinefu_.mp4",
           2
          ],
          [
           "medium-2021_11_03_A_Tengler_Sophie_Einzelknopfnaht_Schweinefu_.mp4",
           2
          ],
          [
           "Good-Einzelknopfnaht_Stoklossa.mp4",
           2
          ],
          [
           "Medium-2021_11_03_A_Seifert_Johanna_Einzelknopfnaht_am_Schweinefu_.mp4",
           2
          ],
          [
           "Bad-2021_11_03_A_Noll_Alexander_Einzelknopfnaht.mp4",
           2
          ],
          [
           "Bad-3_11_21_B_Grumt_Alina_Einzelknopfnaht_Schweinefu_.mp4",
           2
          ],
          [
           "Good-Schmidt_Elisabeth_Einzelknotennaht_11_10_2021_MP4_SparkVideo.mp4",
           2
          ],
          [
           "Good-Schweinefu__Einzelknopfnaht.mp4",
           2
          ],
          [
           "Bad-03_11_21_B_Hopfe_Johanna_Einzelknopfnaht.mp4",
           2
          ],
          [
           "Medium-RPReplay_Final1634048018.mp4",
           2
          ],
          [
           "Medium-Schweinefu_.mp4",
           2
          ],
          [
           "Einzelknopfnaht_Schwein_Kerstin_Preuß.mp4",
           2
          ],
          [
           "Einzelknopfnaht_Elena.Vai-Wieting.mov",
           2
          ],
          [
           "11.4.2024.HarmsSören.NHT.mp4",
           2
          ],
          [
           "Gehrke,Yves - post.mp4",
           2
          ],
          [
           "Stresstest_Einzelknopfnaht.mp4",
           2
          ],
          [
           "Pre_-Test_Isabel_Linden.mp4",
           2
          ],
          [
           "Bildschirmaufnahme_2022-10-11_um_11.20.24.mov",
           2
          ],
          [
           "Fehringer_Pascal__post_test.mp4",
           2
          ],
          [
           "Hilger,Anke-Posttest.mp4",
           2
          ],
          [
           "2023-02-21_SchuldtSalome_Einzelknopfnaht_am_Schweinefuß.mp4",
           2
          ],
          [
           "Bad-2021_11_03_A_Petersen_Insa_Einzelknopfnaht_am_Schweinefu_.mp4",
           2
          ],
          [
           "Einzelknopfnaht_Lina_Schäfer.mp4",
           2
          ],
          [
           "Schiesser_David_post_test.mp4",
           2
          ],
          [
           "EinzelknopfnahtamSchweinefuss_Muenzner_Simeon.mp4",
           2
          ],
          [
           "Bad-2021_11_03_B_V_lz__Ann_Sophie_Einzelknopfnaht_am_Schweinefu___1_.mp4",
           3
          ],
          [
           "Bad-2021_11_03_A_Spitze_Vanessa_Einzelknopfnaht_am_Schweinefu_.mp4",
           3
          ],
          [
           "Good-2021_10_27_B_Etzel_Peter_Einzelknopfnaht_am_Schweinefu_.mp4",
           3
          ],
          [
           "Medium-2021_11_03_A_Tengler_Sophie_Einzelknopfnaht_Schweinefu_.mp4",
           3
          ],
          [
           "Bad-12_10_21__Loewe__Rebekka__Einzelknopfnaht.mp4",
           3
          ],
          [
           "Bad-2021_11_3_A_Brodersen___nne_Einzelknopfnaht_am_Schweinefu_.mp4",
           3
          ],
          [
           "medium-2021_11_03_A_Tengler_Sophie_Einzelknopfnaht_Schweinefu_.mp4",
           3
          ],
          [
           "Good-Einzelknopfnaht_Stoklossa.mp4",
           3
          ],
          [
           "Medium-2021_11_03_A_Seifert_Johanna_Einzelknopfnaht_am_Schweinefu_.mp4",
           3
          ],
          [
           "Bad-2021_11_03_A_Noll_Alexander_Einzelknopfnaht.mp4",
           3
          ],
          [
           "Bad-3_11_21_B_Grumt_Alina_Einzelknopfnaht_Schweinefu_.mp4",
           3
          ],
          [
           "Good-Schmidt_Elisabeth_Einzelknotennaht_11_10_2021_MP4_SparkVideo.mp4",
           3
          ],
          [
           "Good-Schweinefu__Einzelknopfnaht.mp4",
           3
          ],
          [
           "Bad-03_11_21_B_Hopfe_Johanna_Einzelknopfnaht.mp4",
           3
          ],
          [
           "Medium-RPReplay_Final1634048018.mp4",
           3
          ],
          [
           "Medium-Schweinefu_.mp4",
           3
          ],
          [
           "Einzelknopfnaht_Schwein_Kerstin_Preuß.mp4",
           3
          ],
          [
           "Einzelknopfnaht_Elena.Vai-Wieting.mov",
           3
          ],
          [
           "11.4.2024.HarmsSören.NHT.mp4",
           3
          ],
          [
           "Gehrke,Yves - post.mp4",
           3
          ],
          [
           "Stresstest_Einzelknopfnaht.mp4",
           3
          ],
          [
           "Pre_-Test_Isabel_Linden.mp4",
           3
          ],
          [
           "Bildschirmaufnahme_2022-10-11_um_11.20.24.mov",
           3
          ],
          [
           "Fehringer_Pascal__post_test.mp4",
           3
          ],
          [
           "Hilger,Anke-Posttest.mp4",
           3
          ],
          [
           "2023-02-21_SchuldtSalome_Einzelknopfnaht_am_Schweinefuß.mp4",
           3
          ],
          [
           "Bad-2021_11_03_A_Petersen_Insa_Einzelknopfnaht_am_Schweinefu_.mp4",
           3
          ],
          [
           "Einzelknopfnaht_Lina_Schäfer.mp4",
           3
          ],
          [
           "Schiesser_David_post_test.mp4",
           3
          ],
          [
           "EinzelknopfnahtamSchweinefuss_Muenzner_Simeon.mp4",
           3
          ],
          [
           "Bad-2021_11_03_B_V_lz__Ann_Sophie_Einzelknopfnaht_am_Schweinefu___1_.mp4",
           4
          ],
          [
           "Bad-2021_11_03_A_Spitze_Vanessa_Einzelknopfnaht_am_Schweinefu_.mp4",
           4
          ],
          [
           "Good-2021_10_27_B_Etzel_Peter_Einzelknopfnaht_am_Schweinefu_.mp4",
           4
          ],
          [
           "Medium-2021_11_03_A_Tengler_Sophie_Einzelknopfnaht_Schweinefu_.mp4",
           4
          ],
          [
           "Bad-12_10_21__Loewe__Rebekka__Einzelknopfnaht.mp4",
           4
          ],
          [
           "Bad-2021_11_3_A_Brodersen___nne_Einzelknopfnaht_am_Schweinefu_.mp4",
           4
          ],
          [
           "medium-2021_11_03_A_Tengler_Sophie_Einzelknopfnaht_Schweinefu_.mp4",
           4
          ],
          [
           "Good-Einzelknopfnaht_Stoklossa.mp4",
           4
          ],
          [
           "Medium-2021_11_03_A_Seifert_Johanna_Einzelknopfnaht_am_Schweinefu_.mp4",
           4
          ],
          [
           "Bad-2021_11_03_A_Noll_Alexander_Einzelknopfnaht.mp4",
           4
          ],
          [
           "Bad-3_11_21_B_Grumt_Alina_Einzelknopfnaht_Schweinefu_.mp4",
           4
          ],
          [
           "Good-Schmidt_Elisabeth_Einzelknotennaht_11_10_2021_MP4_SparkVideo.mp4",
           4
          ],
          [
           "Good-Schweinefu__Einzelknopfnaht.mp4",
           4
          ],
          [
           "Bad-03_11_21_B_Hopfe_Johanna_Einzelknopfnaht.mp4",
           4
          ],
          [
           "Medium-RPReplay_Final1634048018.mp4",
           4
          ],
          [
           "Medium-Schweinefu_.mp4",
           4
          ],
          [
           "Einzelknopfnaht_Schwein_Kerstin_Preuß.mp4",
           4
          ],
          [
           "Einzelknopfnaht_Elena.Vai-Wieting.mov",
           4
          ],
          [
           "11.4.2024.HarmsSören.NHT.mp4",
           4
          ],
          [
           "Gehrke,Yves - post.mp4",
           4
          ],
          [
           "Stresstest_Einzelknopfnaht.mp4",
           4
          ],
          [
           "Pre_-Test_Isabel_Linden.mp4",
           4
          ],
          [
           "Bildschirmaufnahme_2022-10-11_um_11.20.24.mov",
           4
          ],
          [
           "Fehringer_Pascal__post_test.mp4",
           4
          ],
          [
           "Hilger,Anke-Posttest.mp4",
           4
          ],
          [
           "2023-02-21_SchuldtSalome_Einzelknopfnaht_am_Schweinefuß.mp4",
           4
          ],
          [
           "Bad-2021_11_03_A_Petersen_Insa_Einzelknopfnaht_am_Schweinefu_.mp4",
           4
          ],
          [
           "Einzelknopfnaht_Lina_Schäfer.mp4",
           4
          ],
          [
           "Schiesser_David_post_test.mp4",
           4
          ],
          [
           "EinzelknopfnahtamSchweinefuss_Muenzner_Simeon.mp4",
           4
          ]
         ],
         "hovertemplate": "movement evaluation stitch=%{x}<br>Needle holder stitch visibility [s]=%{y}<br>filename=%{customdata[0]}<br>stitch_id=%{customdata[1]}<extra></extra>",
         "legendgroup": "",
         "marker": {
          "color": "#636efa",
          "symbol": "circle"
         },
         "mode": "markers",
         "name": "",
         "orientation": "v",
         "showlegend": false,
         "x": [
          3.0,
          2.0,
          3.5,
          4.0,
          1.0,
          2.0,
          4.0,
          3.0,
          4.0,
          3.0,
          2.0,
          2.0,
          4.0,
          4.0,
          2.0,
          3.0,
          2.0,
          3.0,
          null,
          3.0,
          5.0,
          4.0,
          1.0,
          2.0,
          4.0,
          1.0,
          3.0,
          2.5,
          3.0,
          3.0,
          null,
          null,
          null,
          null,
          null,
          1.0,
          null,
          1.0,
          5.0,
          3.0,
          2.0,
          null,
          3.5,
          1.0,
          null,
          null,
          5.0,
          5.0,
          null,
          4.0,
          5.0,
          2.0,
          2.0,
          null,
          4.0,
          null,
          null,
          null,
          4.0,
          3.5,
          null,
          null,
          null,
          null,
          null,
          null,
          null,
          null,
          null,
          null,
          null,
          null,
          null,
          null,
          null,
          null,
          4.0,
          5.0,
          null,
          null,
          5.0,
          3.0,
          3.0,
          null,
          3.0,
          null,
          null,
          null,
          5.0,
          3.0,
          null,
          null,
          null,
          null,
          null,
          null,
          null,
          null,
          null,
          null,
          null,
          null,
          null,
          null,
          null,
          null,
          5.0,
          null,
          null,
          null,
          5.0,
          null,
          4.0,
          null,
          4.0,
          null,
          null,
          null,
          3.0,
          null,
          null,
          null,
          null,
          null,
          null,
          null,
          null,
          null,
          null,
          null,
          null,
          null,
          null,
          null,
          null,
          null,
          4.0,
          null,
          null,
          null,
          5.0,
          null,
          4.0,
          null,
          4.0,
          null,
          null,
          null,
          null,
          null
         ],
         "xaxis": "x",
         "y": [
          94.13333333,
          107.8,
          76.0,
          44.73333333,
          218.2,
          89.86666667,
          45.66666667,
          89.53333333,
          50.8,
          74.73333333,
          null,
          114.6666667,
          58.2,
          91.4,
          113.9333333,
          91.8,
          35.53333333,
          89.33333333,
          27.06666667,
          65.66666667,
          41.33333333,
          46.6,
          null,
          71.6,
          39.4,
          87.73333333,
          95.66666667,
          101.1333333,
          62.26666667,
          97.06666667,
          null,
          null,
          null,
          null,
          null,
          112.7333333,
          null,
          109.6,
          45.06666667,
          61.46666667,
          null,
          null,
          73.2,
          132.6666667,
          null,
          null,
          37.26666667,
          65.86666667,
          42.86666667,
          52.66666667,
          51.2,
          88.0,
          null,
          null,
          34.8,
          null,
          null,
          null,
          47.33333333,
          77.8,
          null,
          null,
          null,
          null,
          null,
          null,
          null,
          null,
          null,
          null,
          null,
          null,
          null,
          null,
          null,
          null,
          36.06666667,
          78.26666667,
          48.06666667,
          null,
          54.0,
          68.33333333,
          null,
          null,
          48.13333333,
          null,
          null,
          null,
          34.73333333,
          null,
          null,
          null,
          null,
          null,
          null,
          null,
          null,
          null,
          null,
          null,
          null,
          null,
          null,
          null,
          null,
          null,
          39.8,
          null,
          null,
          null,
          57.73333333,
          null,
          null,
          null,
          32.66666667,
          null,
          null,
          null,
          47.93333333,
          null,
          null,
          null,
          null,
          null,
          null,
          null,
          null,
          null,
          null,
          null,
          null,
          null,
          null,
          null,
          null,
          null,
          43.26666667,
          null,
          null,
          null,
          48.4,
          null,
          null,
          null,
          37.26666667,
          null,
          null,
          null,
          null,
          null
         ],
         "yaxis": "y",
         "type": "scatter"
        }
       ],
       "layout": {
        "template": {
         "data": {
          "histogram2dcontour": [
           {
            "type": "histogram2dcontour",
            "colorbar": {
             "outlinewidth": 0,
             "ticks": ""
            },
            "colorscale": [
             [
              0.0,
              "#0d0887"
             ],
             [
              0.1111111111111111,
              "#46039f"
             ],
             [
              0.2222222222222222,
              "#7201a8"
             ],
             [
              0.3333333333333333,
              "#9c179e"
             ],
             [
              0.4444444444444444,
              "#bd3786"
             ],
             [
              0.5555555555555556,
              "#d8576b"
             ],
             [
              0.6666666666666666,
              "#ed7953"
             ],
             [
              0.7777777777777778,
              "#fb9f3a"
             ],
             [
              0.8888888888888888,
              "#fdca26"
             ],
             [
              1.0,
              "#f0f921"
             ]
            ]
           }
          ],
          "choropleth": [
           {
            "type": "choropleth",
            "colorbar": {
             "outlinewidth": 0,
             "ticks": ""
            }
           }
          ],
          "histogram2d": [
           {
            "type": "histogram2d",
            "colorbar": {
             "outlinewidth": 0,
             "ticks": ""
            },
            "colorscale": [
             [
              0.0,
              "#0d0887"
             ],
             [
              0.1111111111111111,
              "#46039f"
             ],
             [
              0.2222222222222222,
              "#7201a8"
             ],
             [
              0.3333333333333333,
              "#9c179e"
             ],
             [
              0.4444444444444444,
              "#bd3786"
             ],
             [
              0.5555555555555556,
              "#d8576b"
             ],
             [
              0.6666666666666666,
              "#ed7953"
             ],
             [
              0.7777777777777778,
              "#fb9f3a"
             ],
             [
              0.8888888888888888,
              "#fdca26"
             ],
             [
              1.0,
              "#f0f921"
             ]
            ]
           }
          ],
          "heatmap": [
           {
            "type": "heatmap",
            "colorbar": {
             "outlinewidth": 0,
             "ticks": ""
            },
            "colorscale": [
             [
              0.0,
              "#0d0887"
             ],
             [
              0.1111111111111111,
              "#46039f"
             ],
             [
              0.2222222222222222,
              "#7201a8"
             ],
             [
              0.3333333333333333,
              "#9c179e"
             ],
             [
              0.4444444444444444,
              "#bd3786"
             ],
             [
              0.5555555555555556,
              "#d8576b"
             ],
             [
              0.6666666666666666,
              "#ed7953"
             ],
             [
              0.7777777777777778,
              "#fb9f3a"
             ],
             [
              0.8888888888888888,
              "#fdca26"
             ],
             [
              1.0,
              "#f0f921"
             ]
            ]
           }
          ],
          "heatmapgl": [
           {
            "type": "heatmapgl",
            "colorbar": {
             "outlinewidth": 0,
             "ticks": ""
            },
            "colorscale": [
             [
              0.0,
              "#0d0887"
             ],
             [
              0.1111111111111111,
              "#46039f"
             ],
             [
              0.2222222222222222,
              "#7201a8"
             ],
             [
              0.3333333333333333,
              "#9c179e"
             ],
             [
              0.4444444444444444,
              "#bd3786"
             ],
             [
              0.5555555555555556,
              "#d8576b"
             ],
             [
              0.6666666666666666,
              "#ed7953"
             ],
             [
              0.7777777777777778,
              "#fb9f3a"
             ],
             [
              0.8888888888888888,
              "#fdca26"
             ],
             [
              1.0,
              "#f0f921"
             ]
            ]
           }
          ],
          "contourcarpet": [
           {
            "type": "contourcarpet",
            "colorbar": {
             "outlinewidth": 0,
             "ticks": ""
            }
           }
          ],
          "contour": [
           {
            "type": "contour",
            "colorbar": {
             "outlinewidth": 0,
             "ticks": ""
            },
            "colorscale": [
             [
              0.0,
              "#0d0887"
             ],
             [
              0.1111111111111111,
              "#46039f"
             ],
             [
              0.2222222222222222,
              "#7201a8"
             ],
             [
              0.3333333333333333,
              "#9c179e"
             ],
             [
              0.4444444444444444,
              "#bd3786"
             ],
             [
              0.5555555555555556,
              "#d8576b"
             ],
             [
              0.6666666666666666,
              "#ed7953"
             ],
             [
              0.7777777777777778,
              "#fb9f3a"
             ],
             [
              0.8888888888888888,
              "#fdca26"
             ],
             [
              1.0,
              "#f0f921"
             ]
            ]
           }
          ],
          "surface": [
           {
            "type": "surface",
            "colorbar": {
             "outlinewidth": 0,
             "ticks": ""
            },
            "colorscale": [
             [
              0.0,
              "#0d0887"
             ],
             [
              0.1111111111111111,
              "#46039f"
             ],
             [
              0.2222222222222222,
              "#7201a8"
             ],
             [
              0.3333333333333333,
              "#9c179e"
             ],
             [
              0.4444444444444444,
              "#bd3786"
             ],
             [
              0.5555555555555556,
              "#d8576b"
             ],
             [
              0.6666666666666666,
              "#ed7953"
             ],
             [
              0.7777777777777778,
              "#fb9f3a"
             ],
             [
              0.8888888888888888,
              "#fdca26"
             ],
             [
              1.0,
              "#f0f921"
             ]
            ]
           }
          ],
          "mesh3d": [
           {
            "type": "mesh3d",
            "colorbar": {
             "outlinewidth": 0,
             "ticks": ""
            }
           }
          ],
          "scatter": [
           {
            "marker": {
             "line": {
              "color": "#283442"
             }
            },
            "type": "scatter"
           }
          ],
          "parcoords": [
           {
            "type": "parcoords",
            "line": {
             "colorbar": {
              "outlinewidth": 0,
              "ticks": ""
             }
            }
           }
          ],
          "scatterpolargl": [
           {
            "type": "scatterpolargl",
            "marker": {
             "colorbar": {
              "outlinewidth": 0,
              "ticks": ""
             }
            }
           }
          ],
          "bar": [
           {
            "error_x": {
             "color": "#f2f5fa"
            },
            "error_y": {
             "color": "#f2f5fa"
            },
            "marker": {
             "line": {
              "color": "rgb(17,17,17)",
              "width": 0.5
             },
             "pattern": {
              "fillmode": "overlay",
              "size": 10,
              "solidity": 0.2
             }
            },
            "type": "bar"
           }
          ],
          "scattergeo": [
           {
            "type": "scattergeo",
            "marker": {
             "colorbar": {
              "outlinewidth": 0,
              "ticks": ""
             }
            }
           }
          ],
          "scatterpolar": [
           {
            "type": "scatterpolar",
            "marker": {
             "colorbar": {
              "outlinewidth": 0,
              "ticks": ""
             }
            }
           }
          ],
          "histogram": [
           {
            "marker": {
             "pattern": {
              "fillmode": "overlay",
              "size": 10,
              "solidity": 0.2
             }
            },
            "type": "histogram"
           }
          ],
          "scattergl": [
           {
            "marker": {
             "line": {
              "color": "#283442"
             }
            },
            "type": "scattergl"
           }
          ],
          "scatter3d": [
           {
            "type": "scatter3d",
            "line": {
             "colorbar": {
              "outlinewidth": 0,
              "ticks": ""
             }
            },
            "marker": {
             "colorbar": {
              "outlinewidth": 0,
              "ticks": ""
             }
            }
           }
          ],
          "scattermapbox": [
           {
            "type": "scattermapbox",
            "marker": {
             "colorbar": {
              "outlinewidth": 0,
              "ticks": ""
             }
            }
           }
          ],
          "scatterternary": [
           {
            "type": "scatterternary",
            "marker": {
             "colorbar": {
              "outlinewidth": 0,
              "ticks": ""
             }
            }
           }
          ],
          "scattercarpet": [
           {
            "type": "scattercarpet",
            "marker": {
             "colorbar": {
              "outlinewidth": 0,
              "ticks": ""
             }
            }
           }
          ],
          "carpet": [
           {
            "aaxis": {
             "endlinecolor": "#A2B1C6",
             "gridcolor": "#506784",
             "linecolor": "#506784",
             "minorgridcolor": "#506784",
             "startlinecolor": "#A2B1C6"
            },
            "baxis": {
             "endlinecolor": "#A2B1C6",
             "gridcolor": "#506784",
             "linecolor": "#506784",
             "minorgridcolor": "#506784",
             "startlinecolor": "#A2B1C6"
            },
            "type": "carpet"
           }
          ],
          "table": [
           {
            "cells": {
             "fill": {
              "color": "#506784"
             },
             "line": {
              "color": "rgb(17,17,17)"
             }
            },
            "header": {
             "fill": {
              "color": "#2a3f5f"
             },
             "line": {
              "color": "rgb(17,17,17)"
             }
            },
            "type": "table"
           }
          ],
          "barpolar": [
           {
            "marker": {
             "line": {
              "color": "rgb(17,17,17)",
              "width": 0.5
             },
             "pattern": {
              "fillmode": "overlay",
              "size": 10,
              "solidity": 0.2
             }
            },
            "type": "barpolar"
           }
          ],
          "pie": [
           {
            "automargin": true,
            "type": "pie"
           }
          ]
         },
         "layout": {
          "autotypenumbers": "strict",
          "colorway": [
           "#636efa",
           "#EF553B",
           "#00cc96",
           "#ab63fa",
           "#FFA15A",
           "#19d3f3",
           "#FF6692",
           "#B6E880",
           "#FF97FF",
           "#FECB52"
          ],
          "font": {
           "color": "#f2f5fa"
          },
          "hovermode": "closest",
          "hoverlabel": {
           "align": "left"
          },
          "paper_bgcolor": "rgb(17,17,17)",
          "plot_bgcolor": "rgb(17,17,17)",
          "polar": {
           "bgcolor": "rgb(17,17,17)",
           "angularaxis": {
            "gridcolor": "#506784",
            "linecolor": "#506784",
            "ticks": ""
           },
           "radialaxis": {
            "gridcolor": "#506784",
            "linecolor": "#506784",
            "ticks": ""
           }
          },
          "ternary": {
           "bgcolor": "rgb(17,17,17)",
           "aaxis": {
            "gridcolor": "#506784",
            "linecolor": "#506784",
            "ticks": ""
           },
           "baxis": {
            "gridcolor": "#506784",
            "linecolor": "#506784",
            "ticks": ""
           },
           "caxis": {
            "gridcolor": "#506784",
            "linecolor": "#506784",
            "ticks": ""
           }
          },
          "coloraxis": {
           "colorbar": {
            "outlinewidth": 0,
            "ticks": ""
           }
          },
          "colorscale": {
           "sequential": [
            [
             0.0,
             "#0d0887"
            ],
            [
             0.1111111111111111,
             "#46039f"
            ],
            [
             0.2222222222222222,
             "#7201a8"
            ],
            [
             0.3333333333333333,
             "#9c179e"
            ],
            [
             0.4444444444444444,
             "#bd3786"
            ],
            [
             0.5555555555555556,
             "#d8576b"
            ],
            [
             0.6666666666666666,
             "#ed7953"
            ],
            [
             0.7777777777777778,
             "#fb9f3a"
            ],
            [
             0.8888888888888888,
             "#fdca26"
            ],
            [
             1.0,
             "#f0f921"
            ]
           ],
           "sequentialminus": [
            [
             0.0,
             "#0d0887"
            ],
            [
             0.1111111111111111,
             "#46039f"
            ],
            [
             0.2222222222222222,
             "#7201a8"
            ],
            [
             0.3333333333333333,
             "#9c179e"
            ],
            [
             0.4444444444444444,
             "#bd3786"
            ],
            [
             0.5555555555555556,
             "#d8576b"
            ],
            [
             0.6666666666666666,
             "#ed7953"
            ],
            [
             0.7777777777777778,
             "#fb9f3a"
            ],
            [
             0.8888888888888888,
             "#fdca26"
            ],
            [
             1.0,
             "#f0f921"
            ]
           ],
           "diverging": [
            [
             0,
             "#8e0152"
            ],
            [
             0.1,
             "#c51b7d"
            ],
            [
             0.2,
             "#de77ae"
            ],
            [
             0.3,
             "#f1b6da"
            ],
            [
             0.4,
             "#fde0ef"
            ],
            [
             0.5,
             "#f7f7f7"
            ],
            [
             0.6,
             "#e6f5d0"
            ],
            [
             0.7,
             "#b8e186"
            ],
            [
             0.8,
             "#7fbc41"
            ],
            [
             0.9,
             "#4d9221"
            ],
            [
             1,
             "#276419"
            ]
           ]
          },
          "xaxis": {
           "gridcolor": "#283442",
           "linecolor": "#506784",
           "ticks": "",
           "title": {
            "standoff": 15
           },
           "zerolinecolor": "#283442",
           "automargin": true,
           "zerolinewidth": 2
          },
          "yaxis": {
           "gridcolor": "#283442",
           "linecolor": "#506784",
           "ticks": "",
           "title": {
            "standoff": 15
           },
           "zerolinecolor": "#283442",
           "automargin": true,
           "zerolinewidth": 2
          },
          "scene": {
           "xaxis": {
            "backgroundcolor": "rgb(17,17,17)",
            "gridcolor": "#506784",
            "linecolor": "#506784",
            "showbackground": true,
            "ticks": "",
            "zerolinecolor": "#C8D4E3",
            "gridwidth": 2
           },
           "yaxis": {
            "backgroundcolor": "rgb(17,17,17)",
            "gridcolor": "#506784",
            "linecolor": "#506784",
            "showbackground": true,
            "ticks": "",
            "zerolinecolor": "#C8D4E3",
            "gridwidth": 2
           },
           "zaxis": {
            "backgroundcolor": "rgb(17,17,17)",
            "gridcolor": "#506784",
            "linecolor": "#506784",
            "showbackground": true,
            "ticks": "",
            "zerolinecolor": "#C8D4E3",
            "gridwidth": 2
           }
          },
          "shapedefaults": {
           "line": {
            "color": "#f2f5fa"
           }
          },
          "annotationdefaults": {
           "arrowcolor": "#f2f5fa",
           "arrowhead": 0,
           "arrowwidth": 1
          },
          "geo": {
           "bgcolor": "rgb(17,17,17)",
           "landcolor": "rgb(17,17,17)",
           "subunitcolor": "#506784",
           "showland": true,
           "showlakes": true,
           "lakecolor": "rgb(17,17,17)"
          },
          "title": {
           "x": 0.05
          },
          "updatemenudefaults": {
           "bgcolor": "#506784",
           "borderwidth": 0
          },
          "sliderdefaults": {
           "bgcolor": "#C8D4E3",
           "borderwidth": 1,
           "bordercolor": "rgb(17,17,17)",
           "tickwidth": 0
          },
          "mapbox": {
           "style": "dark"
          }
         }
        },
        "xaxis": {
         "anchor": "y",
         "domain": [
          0.0,
          1.0
         ],
         "title": {
          "text": "movement evaluation stitch"
         }
        },
        "yaxis": {
         "anchor": "x",
         "domain": [
          0.0,
          1.0
         ],
         "title": {
          "text": "Needle holder stitch visibility [s]"
         }
        },
        "legend": {
         "tracegroupgap": 0
        },
        "margin": {
         "t": 60
        },
        "width": 500
       },
       "config": {
        "plotlyServerURL": "https://plot.ly"
       }
      },
      "text/html": [
       "<div>                            <div id=\"004cf3d0-9481-447e-8e84-4ce9d4f76884\" class=\"plotly-graph-div\" style=\"height:525px; width:500px;\"></div>            <script type=\"text/javascript\">                require([\"plotly\"], function(Plotly) {                    window.PLOTLYENV=window.PLOTLYENV || {};                                    if (document.getElementById(\"004cf3d0-9481-447e-8e84-4ce9d4f76884\")) {                    Plotly.newPlot(                        \"004cf3d0-9481-447e-8e84-4ce9d4f76884\",                        [{\"customdata\":[[\"Bad-2021_11_03_B_V_lz__Ann_Sophie_Einzelknopfnaht_am_Schweinefu___1_.mp4\",0],[\"Bad-2021_11_03_A_Spitze_Vanessa_Einzelknopfnaht_am_Schweinefu_.mp4\",0],[\"Good-2021_10_27_B_Etzel_Peter_Einzelknopfnaht_am_Schweinefu_.mp4\",0],[\"Medium-2021_11_03_A_Tengler_Sophie_Einzelknopfnaht_Schweinefu_.mp4\",0],[\"Bad-12_10_21__Loewe__Rebekka__Einzelknopfnaht.mp4\",0],[\"Bad-2021_11_3_A_Brodersen___nne_Einzelknopfnaht_am_Schweinefu_.mp4\",0],[\"medium-2021_11_03_A_Tengler_Sophie_Einzelknopfnaht_Schweinefu_.mp4\",0],[\"Good-Einzelknopfnaht_Stoklossa.mp4\",0],[\"Medium-2021_11_03_A_Seifert_Johanna_Einzelknopfnaht_am_Schweinefu_.mp4\",0],[\"Bad-2021_11_03_A_Noll_Alexander_Einzelknopfnaht.mp4\",0],[\"Bad-3_11_21_B_Grumt_Alina_Einzelknopfnaht_Schweinefu_.mp4\",0],[\"Good-Schmidt_Elisabeth_Einzelknotennaht_11_10_2021_MP4_SparkVideo.mp4\",0],[\"Good-Schweinefu__Einzelknopfnaht.mp4\",0],[\"Bad-03_11_21_B_Hopfe_Johanna_Einzelknopfnaht.mp4\",0],[\"Medium-RPReplay_Final1634048018.mp4\",0],[\"Medium-Schweinefu_.mp4\",0],[\"Einzelknopfnaht_Schwein_Kerstin_Preu\\u00df.mp4\",0],[\"Einzelknopfnaht_Elena.Vai-Wieting.mov\",0],[\"11.4.2024.HarmsS\\u00f6ren.NHT.mp4\",0],[\"Gehrke,Yves - post.mp4\",0],[\"Stresstest_Einzelknopfnaht.mp4\",0],[\"Pre_-Test_Isabel_Linden.mp4\",0],[\"Bildschirmaufnahme_2022-10-11_um_11.20.24.mov\",0],[\"Fehringer_Pascal__post_test.mp4\",0],[\"Hilger,Anke-Posttest.mp4\",0],[\"2023-02-21_SchuldtSalome_Einzelknopfnaht_am_Schweinefu\\u00df.mp4\",0],[\"Bad-2021_11_03_A_Petersen_Insa_Einzelknopfnaht_am_Schweinefu_.mp4\",0],[\"Einzelknopfnaht_Lina_Sch\\u00e4fer.mp4\",0],[\"Schiesser_David_post_test.mp4\",0],[\"EinzelknopfnahtamSchweinefuss_Muenzner_Simeon.mp4\",0],[\"Bad-2021_11_03_B_V_lz__Ann_Sophie_Einzelknopfnaht_am_Schweinefu___1_.mp4\",1],[\"Bad-2021_11_03_A_Spitze_Vanessa_Einzelknopfnaht_am_Schweinefu_.mp4\",1],[\"Good-2021_10_27_B_Etzel_Peter_Einzelknopfnaht_am_Schweinefu_.mp4\",1],[\"Medium-2021_11_03_A_Tengler_Sophie_Einzelknopfnaht_Schweinefu_.mp4\",1],[\"Bad-12_10_21__Loewe__Rebekka__Einzelknopfnaht.mp4\",1],[\"Bad-2021_11_3_A_Brodersen___nne_Einzelknopfnaht_am_Schweinefu_.mp4\",1],[\"medium-2021_11_03_A_Tengler_Sophie_Einzelknopfnaht_Schweinefu_.mp4\",1],[\"Good-Einzelknopfnaht_Stoklossa.mp4\",1],[\"Medium-2021_11_03_A_Seifert_Johanna_Einzelknopfnaht_am_Schweinefu_.mp4\",1],[\"Bad-2021_11_03_A_Noll_Alexander_Einzelknopfnaht.mp4\",1],[\"Bad-3_11_21_B_Grumt_Alina_Einzelknopfnaht_Schweinefu_.mp4\",1],[\"Good-Schmidt_Elisabeth_Einzelknotennaht_11_10_2021_MP4_SparkVideo.mp4\",1],[\"Good-Schweinefu__Einzelknopfnaht.mp4\",1],[\"Bad-03_11_21_B_Hopfe_Johanna_Einzelknopfnaht.mp4\",1],[\"Medium-RPReplay_Final1634048018.mp4\",1],[\"Medium-Schweinefu_.mp4\",1],[\"Einzelknopfnaht_Schwein_Kerstin_Preu\\u00df.mp4\",1],[\"Einzelknopfnaht_Elena.Vai-Wieting.mov\",1],[\"11.4.2024.HarmsS\\u00f6ren.NHT.mp4\",1],[\"Gehrke,Yves - post.mp4\",1],[\"Stresstest_Einzelknopfnaht.mp4\",1],[\"Pre_-Test_Isabel_Linden.mp4\",1],[\"Bildschirmaufnahme_2022-10-11_um_11.20.24.mov\",1],[\"Fehringer_Pascal__post_test.mp4\",1],[\"Hilger,Anke-Posttest.mp4\",1],[\"2023-02-21_SchuldtSalome_Einzelknopfnaht_am_Schweinefu\\u00df.mp4\",1],[\"Bad-2021_11_03_A_Petersen_Insa_Einzelknopfnaht_am_Schweinefu_.mp4\",1],[\"Einzelknopfnaht_Lina_Sch\\u00e4fer.mp4\",1],[\"Schiesser_David_post_test.mp4\",1],[\"EinzelknopfnahtamSchweinefuss_Muenzner_Simeon.mp4\",1],[\"Bad-2021_11_03_B_V_lz__Ann_Sophie_Einzelknopfnaht_am_Schweinefu___1_.mp4\",2],[\"Bad-2021_11_03_A_Spitze_Vanessa_Einzelknopfnaht_am_Schweinefu_.mp4\",2],[\"Good-2021_10_27_B_Etzel_Peter_Einzelknopfnaht_am_Schweinefu_.mp4\",2],[\"Medium-2021_11_03_A_Tengler_Sophie_Einzelknopfnaht_Schweinefu_.mp4\",2],[\"Bad-12_10_21__Loewe__Rebekka__Einzelknopfnaht.mp4\",2],[\"Bad-2021_11_3_A_Brodersen___nne_Einzelknopfnaht_am_Schweinefu_.mp4\",2],[\"medium-2021_11_03_A_Tengler_Sophie_Einzelknopfnaht_Schweinefu_.mp4\",2],[\"Good-Einzelknopfnaht_Stoklossa.mp4\",2],[\"Medium-2021_11_03_A_Seifert_Johanna_Einzelknopfnaht_am_Schweinefu_.mp4\",2],[\"Bad-2021_11_03_A_Noll_Alexander_Einzelknopfnaht.mp4\",2],[\"Bad-3_11_21_B_Grumt_Alina_Einzelknopfnaht_Schweinefu_.mp4\",2],[\"Good-Schmidt_Elisabeth_Einzelknotennaht_11_10_2021_MP4_SparkVideo.mp4\",2],[\"Good-Schweinefu__Einzelknopfnaht.mp4\",2],[\"Bad-03_11_21_B_Hopfe_Johanna_Einzelknopfnaht.mp4\",2],[\"Medium-RPReplay_Final1634048018.mp4\",2],[\"Medium-Schweinefu_.mp4\",2],[\"Einzelknopfnaht_Schwein_Kerstin_Preu\\u00df.mp4\",2],[\"Einzelknopfnaht_Elena.Vai-Wieting.mov\",2],[\"11.4.2024.HarmsS\\u00f6ren.NHT.mp4\",2],[\"Gehrke,Yves - post.mp4\",2],[\"Stresstest_Einzelknopfnaht.mp4\",2],[\"Pre_-Test_Isabel_Linden.mp4\",2],[\"Bildschirmaufnahme_2022-10-11_um_11.20.24.mov\",2],[\"Fehringer_Pascal__post_test.mp4\",2],[\"Hilger,Anke-Posttest.mp4\",2],[\"2023-02-21_SchuldtSalome_Einzelknopfnaht_am_Schweinefu\\u00df.mp4\",2],[\"Bad-2021_11_03_A_Petersen_Insa_Einzelknopfnaht_am_Schweinefu_.mp4\",2],[\"Einzelknopfnaht_Lina_Sch\\u00e4fer.mp4\",2],[\"Schiesser_David_post_test.mp4\",2],[\"EinzelknopfnahtamSchweinefuss_Muenzner_Simeon.mp4\",2],[\"Bad-2021_11_03_B_V_lz__Ann_Sophie_Einzelknopfnaht_am_Schweinefu___1_.mp4\",3],[\"Bad-2021_11_03_A_Spitze_Vanessa_Einzelknopfnaht_am_Schweinefu_.mp4\",3],[\"Good-2021_10_27_B_Etzel_Peter_Einzelknopfnaht_am_Schweinefu_.mp4\",3],[\"Medium-2021_11_03_A_Tengler_Sophie_Einzelknopfnaht_Schweinefu_.mp4\",3],[\"Bad-12_10_21__Loewe__Rebekka__Einzelknopfnaht.mp4\",3],[\"Bad-2021_11_3_A_Brodersen___nne_Einzelknopfnaht_am_Schweinefu_.mp4\",3],[\"medium-2021_11_03_A_Tengler_Sophie_Einzelknopfnaht_Schweinefu_.mp4\",3],[\"Good-Einzelknopfnaht_Stoklossa.mp4\",3],[\"Medium-2021_11_03_A_Seifert_Johanna_Einzelknopfnaht_am_Schweinefu_.mp4\",3],[\"Bad-2021_11_03_A_Noll_Alexander_Einzelknopfnaht.mp4\",3],[\"Bad-3_11_21_B_Grumt_Alina_Einzelknopfnaht_Schweinefu_.mp4\",3],[\"Good-Schmidt_Elisabeth_Einzelknotennaht_11_10_2021_MP4_SparkVideo.mp4\",3],[\"Good-Schweinefu__Einzelknopfnaht.mp4\",3],[\"Bad-03_11_21_B_Hopfe_Johanna_Einzelknopfnaht.mp4\",3],[\"Medium-RPReplay_Final1634048018.mp4\",3],[\"Medium-Schweinefu_.mp4\",3],[\"Einzelknopfnaht_Schwein_Kerstin_Preu\\u00df.mp4\",3],[\"Einzelknopfnaht_Elena.Vai-Wieting.mov\",3],[\"11.4.2024.HarmsS\\u00f6ren.NHT.mp4\",3],[\"Gehrke,Yves - post.mp4\",3],[\"Stresstest_Einzelknopfnaht.mp4\",3],[\"Pre_-Test_Isabel_Linden.mp4\",3],[\"Bildschirmaufnahme_2022-10-11_um_11.20.24.mov\",3],[\"Fehringer_Pascal__post_test.mp4\",3],[\"Hilger,Anke-Posttest.mp4\",3],[\"2023-02-21_SchuldtSalome_Einzelknopfnaht_am_Schweinefu\\u00df.mp4\",3],[\"Bad-2021_11_03_A_Petersen_Insa_Einzelknopfnaht_am_Schweinefu_.mp4\",3],[\"Einzelknopfnaht_Lina_Sch\\u00e4fer.mp4\",3],[\"Schiesser_David_post_test.mp4\",3],[\"EinzelknopfnahtamSchweinefuss_Muenzner_Simeon.mp4\",3],[\"Bad-2021_11_03_B_V_lz__Ann_Sophie_Einzelknopfnaht_am_Schweinefu___1_.mp4\",4],[\"Bad-2021_11_03_A_Spitze_Vanessa_Einzelknopfnaht_am_Schweinefu_.mp4\",4],[\"Good-2021_10_27_B_Etzel_Peter_Einzelknopfnaht_am_Schweinefu_.mp4\",4],[\"Medium-2021_11_03_A_Tengler_Sophie_Einzelknopfnaht_Schweinefu_.mp4\",4],[\"Bad-12_10_21__Loewe__Rebekka__Einzelknopfnaht.mp4\",4],[\"Bad-2021_11_3_A_Brodersen___nne_Einzelknopfnaht_am_Schweinefu_.mp4\",4],[\"medium-2021_11_03_A_Tengler_Sophie_Einzelknopfnaht_Schweinefu_.mp4\",4],[\"Good-Einzelknopfnaht_Stoklossa.mp4\",4],[\"Medium-2021_11_03_A_Seifert_Johanna_Einzelknopfnaht_am_Schweinefu_.mp4\",4],[\"Bad-2021_11_03_A_Noll_Alexander_Einzelknopfnaht.mp4\",4],[\"Bad-3_11_21_B_Grumt_Alina_Einzelknopfnaht_Schweinefu_.mp4\",4],[\"Good-Schmidt_Elisabeth_Einzelknotennaht_11_10_2021_MP4_SparkVideo.mp4\",4],[\"Good-Schweinefu__Einzelknopfnaht.mp4\",4],[\"Bad-03_11_21_B_Hopfe_Johanna_Einzelknopfnaht.mp4\",4],[\"Medium-RPReplay_Final1634048018.mp4\",4],[\"Medium-Schweinefu_.mp4\",4],[\"Einzelknopfnaht_Schwein_Kerstin_Preu\\u00df.mp4\",4],[\"Einzelknopfnaht_Elena.Vai-Wieting.mov\",4],[\"11.4.2024.HarmsS\\u00f6ren.NHT.mp4\",4],[\"Gehrke,Yves - post.mp4\",4],[\"Stresstest_Einzelknopfnaht.mp4\",4],[\"Pre_-Test_Isabel_Linden.mp4\",4],[\"Bildschirmaufnahme_2022-10-11_um_11.20.24.mov\",4],[\"Fehringer_Pascal__post_test.mp4\",4],[\"Hilger,Anke-Posttest.mp4\",4],[\"2023-02-21_SchuldtSalome_Einzelknopfnaht_am_Schweinefu\\u00df.mp4\",4],[\"Bad-2021_11_03_A_Petersen_Insa_Einzelknopfnaht_am_Schweinefu_.mp4\",4],[\"Einzelknopfnaht_Lina_Sch\\u00e4fer.mp4\",4],[\"Schiesser_David_post_test.mp4\",4],[\"EinzelknopfnahtamSchweinefuss_Muenzner_Simeon.mp4\",4]],\"hovertemplate\":\"movement evaluation stitch=%{x}\\u003cbr\\u003eNeedle holder stitch visibility [s]=%{y}\\u003cbr\\u003efilename=%{customdata[0]}\\u003cbr\\u003estitch_id=%{customdata[1]}\\u003cextra\\u003e\\u003c\\u002fextra\\u003e\",\"legendgroup\":\"\",\"marker\":{\"color\":\"#636efa\",\"symbol\":\"circle\"},\"mode\":\"markers\",\"name\":\"\",\"orientation\":\"v\",\"showlegend\":false,\"x\":[3.0,2.0,3.5,4.0,1.0,2.0,4.0,3.0,4.0,3.0,2.0,2.0,4.0,4.0,2.0,3.0,2.0,3.0,null,3.0,5.0,4.0,1.0,2.0,4.0,1.0,3.0,2.5,3.0,3.0,null,null,null,null,null,1.0,null,1.0,5.0,3.0,2.0,null,3.5,1.0,null,null,5.0,5.0,null,4.0,5.0,2.0,2.0,null,4.0,null,null,null,4.0,3.5,null,null,null,null,null,null,null,null,null,null,null,null,null,null,null,null,4.0,5.0,null,null,5.0,3.0,3.0,null,3.0,null,null,null,5.0,3.0,null,null,null,null,null,null,null,null,null,null,null,null,null,null,null,null,5.0,null,null,null,5.0,null,4.0,null,4.0,null,null,null,3.0,null,null,null,null,null,null,null,null,null,null,null,null,null,null,null,null,null,4.0,null,null,null,5.0,null,4.0,null,4.0,null,null,null,null,null],\"xaxis\":\"x\",\"y\":[94.13333333,107.8,76.0,44.73333333,218.2,89.86666667,45.66666667,89.53333333,50.8,74.73333333,null,114.6666667,58.2,91.4,113.9333333,91.8,35.53333333,89.33333333,27.06666667,65.66666667,41.33333333,46.6,null,71.6,39.4,87.73333333,95.66666667,101.1333333,62.26666667,97.06666667,null,null,null,null,null,112.7333333,null,109.6,45.06666667,61.46666667,null,null,73.2,132.6666667,null,null,37.26666667,65.86666667,42.86666667,52.66666667,51.2,88.0,null,null,34.8,null,null,null,47.33333333,77.8,null,null,null,null,null,null,null,null,null,null,null,null,null,null,null,null,36.06666667,78.26666667,48.06666667,null,54.0,68.33333333,null,null,48.13333333,null,null,null,34.73333333,null,null,null,null,null,null,null,null,null,null,null,null,null,null,null,null,null,39.8,null,null,null,57.73333333,null,null,null,32.66666667,null,null,null,47.93333333,null,null,null,null,null,null,null,null,null,null,null,null,null,null,null,null,null,43.26666667,null,null,null,48.4,null,null,null,37.26666667,null,null,null,null,null],\"yaxis\":\"y\",\"type\":\"scatter\"}],                        {\"template\":{\"data\":{\"histogram2dcontour\":[{\"type\":\"histogram2dcontour\",\"colorbar\":{\"outlinewidth\":0,\"ticks\":\"\"},\"colorscale\":[[0.0,\"#0d0887\"],[0.1111111111111111,\"#46039f\"],[0.2222222222222222,\"#7201a8\"],[0.3333333333333333,\"#9c179e\"],[0.4444444444444444,\"#bd3786\"],[0.5555555555555556,\"#d8576b\"],[0.6666666666666666,\"#ed7953\"],[0.7777777777777778,\"#fb9f3a\"],[0.8888888888888888,\"#fdca26\"],[1.0,\"#f0f921\"]]}],\"choropleth\":[{\"type\":\"choropleth\",\"colorbar\":{\"outlinewidth\":0,\"ticks\":\"\"}}],\"histogram2d\":[{\"type\":\"histogram2d\",\"colorbar\":{\"outlinewidth\":0,\"ticks\":\"\"},\"colorscale\":[[0.0,\"#0d0887\"],[0.1111111111111111,\"#46039f\"],[0.2222222222222222,\"#7201a8\"],[0.3333333333333333,\"#9c179e\"],[0.4444444444444444,\"#bd3786\"],[0.5555555555555556,\"#d8576b\"],[0.6666666666666666,\"#ed7953\"],[0.7777777777777778,\"#fb9f3a\"],[0.8888888888888888,\"#fdca26\"],[1.0,\"#f0f921\"]]}],\"heatmap\":[{\"type\":\"heatmap\",\"colorbar\":{\"outlinewidth\":0,\"ticks\":\"\"},\"colorscale\":[[0.0,\"#0d0887\"],[0.1111111111111111,\"#46039f\"],[0.2222222222222222,\"#7201a8\"],[0.3333333333333333,\"#9c179e\"],[0.4444444444444444,\"#bd3786\"],[0.5555555555555556,\"#d8576b\"],[0.6666666666666666,\"#ed7953\"],[0.7777777777777778,\"#fb9f3a\"],[0.8888888888888888,\"#fdca26\"],[1.0,\"#f0f921\"]]}],\"heatmapgl\":[{\"type\":\"heatmapgl\",\"colorbar\":{\"outlinewidth\":0,\"ticks\":\"\"},\"colorscale\":[[0.0,\"#0d0887\"],[0.1111111111111111,\"#46039f\"],[0.2222222222222222,\"#7201a8\"],[0.3333333333333333,\"#9c179e\"],[0.4444444444444444,\"#bd3786\"],[0.5555555555555556,\"#d8576b\"],[0.6666666666666666,\"#ed7953\"],[0.7777777777777778,\"#fb9f3a\"],[0.8888888888888888,\"#fdca26\"],[1.0,\"#f0f921\"]]}],\"contourcarpet\":[{\"type\":\"contourcarpet\",\"colorbar\":{\"outlinewidth\":0,\"ticks\":\"\"}}],\"contour\":[{\"type\":\"contour\",\"colorbar\":{\"outlinewidth\":0,\"ticks\":\"\"},\"colorscale\":[[0.0,\"#0d0887\"],[0.1111111111111111,\"#46039f\"],[0.2222222222222222,\"#7201a8\"],[0.3333333333333333,\"#9c179e\"],[0.4444444444444444,\"#bd3786\"],[0.5555555555555556,\"#d8576b\"],[0.6666666666666666,\"#ed7953\"],[0.7777777777777778,\"#fb9f3a\"],[0.8888888888888888,\"#fdca26\"],[1.0,\"#f0f921\"]]}],\"surface\":[{\"type\":\"surface\",\"colorbar\":{\"outlinewidth\":0,\"ticks\":\"\"},\"colorscale\":[[0.0,\"#0d0887\"],[0.1111111111111111,\"#46039f\"],[0.2222222222222222,\"#7201a8\"],[0.3333333333333333,\"#9c179e\"],[0.4444444444444444,\"#bd3786\"],[0.5555555555555556,\"#d8576b\"],[0.6666666666666666,\"#ed7953\"],[0.7777777777777778,\"#fb9f3a\"],[0.8888888888888888,\"#fdca26\"],[1.0,\"#f0f921\"]]}],\"mesh3d\":[{\"type\":\"mesh3d\",\"colorbar\":{\"outlinewidth\":0,\"ticks\":\"\"}}],\"scatter\":[{\"marker\":{\"line\":{\"color\":\"#283442\"}},\"type\":\"scatter\"}],\"parcoords\":[{\"type\":\"parcoords\",\"line\":{\"colorbar\":{\"outlinewidth\":0,\"ticks\":\"\"}}}],\"scatterpolargl\":[{\"type\":\"scatterpolargl\",\"marker\":{\"colorbar\":{\"outlinewidth\":0,\"ticks\":\"\"}}}],\"bar\":[{\"error_x\":{\"color\":\"#f2f5fa\"},\"error_y\":{\"color\":\"#f2f5fa\"},\"marker\":{\"line\":{\"color\":\"rgb(17,17,17)\",\"width\":0.5},\"pattern\":{\"fillmode\":\"overlay\",\"size\":10,\"solidity\":0.2}},\"type\":\"bar\"}],\"scattergeo\":[{\"type\":\"scattergeo\",\"marker\":{\"colorbar\":{\"outlinewidth\":0,\"ticks\":\"\"}}}],\"scatterpolar\":[{\"type\":\"scatterpolar\",\"marker\":{\"colorbar\":{\"outlinewidth\":0,\"ticks\":\"\"}}}],\"histogram\":[{\"marker\":{\"pattern\":{\"fillmode\":\"overlay\",\"size\":10,\"solidity\":0.2}},\"type\":\"histogram\"}],\"scattergl\":[{\"marker\":{\"line\":{\"color\":\"#283442\"}},\"type\":\"scattergl\"}],\"scatter3d\":[{\"type\":\"scatter3d\",\"line\":{\"colorbar\":{\"outlinewidth\":0,\"ticks\":\"\"}},\"marker\":{\"colorbar\":{\"outlinewidth\":0,\"ticks\":\"\"}}}],\"scattermapbox\":[{\"type\":\"scattermapbox\",\"marker\":{\"colorbar\":{\"outlinewidth\":0,\"ticks\":\"\"}}}],\"scatterternary\":[{\"type\":\"scatterternary\",\"marker\":{\"colorbar\":{\"outlinewidth\":0,\"ticks\":\"\"}}}],\"scattercarpet\":[{\"type\":\"scattercarpet\",\"marker\":{\"colorbar\":{\"outlinewidth\":0,\"ticks\":\"\"}}}],\"carpet\":[{\"aaxis\":{\"endlinecolor\":\"#A2B1C6\",\"gridcolor\":\"#506784\",\"linecolor\":\"#506784\",\"minorgridcolor\":\"#506784\",\"startlinecolor\":\"#A2B1C6\"},\"baxis\":{\"endlinecolor\":\"#A2B1C6\",\"gridcolor\":\"#506784\",\"linecolor\":\"#506784\",\"minorgridcolor\":\"#506784\",\"startlinecolor\":\"#A2B1C6\"},\"type\":\"carpet\"}],\"table\":[{\"cells\":{\"fill\":{\"color\":\"#506784\"},\"line\":{\"color\":\"rgb(17,17,17)\"}},\"header\":{\"fill\":{\"color\":\"#2a3f5f\"},\"line\":{\"color\":\"rgb(17,17,17)\"}},\"type\":\"table\"}],\"barpolar\":[{\"marker\":{\"line\":{\"color\":\"rgb(17,17,17)\",\"width\":0.5},\"pattern\":{\"fillmode\":\"overlay\",\"size\":10,\"solidity\":0.2}},\"type\":\"barpolar\"}],\"pie\":[{\"automargin\":true,\"type\":\"pie\"}]},\"layout\":{\"autotypenumbers\":\"strict\",\"colorway\":[\"#636efa\",\"#EF553B\",\"#00cc96\",\"#ab63fa\",\"#FFA15A\",\"#19d3f3\",\"#FF6692\",\"#B6E880\",\"#FF97FF\",\"#FECB52\"],\"font\":{\"color\":\"#f2f5fa\"},\"hovermode\":\"closest\",\"hoverlabel\":{\"align\":\"left\"},\"paper_bgcolor\":\"rgb(17,17,17)\",\"plot_bgcolor\":\"rgb(17,17,17)\",\"polar\":{\"bgcolor\":\"rgb(17,17,17)\",\"angularaxis\":{\"gridcolor\":\"#506784\",\"linecolor\":\"#506784\",\"ticks\":\"\"},\"radialaxis\":{\"gridcolor\":\"#506784\",\"linecolor\":\"#506784\",\"ticks\":\"\"}},\"ternary\":{\"bgcolor\":\"rgb(17,17,17)\",\"aaxis\":{\"gridcolor\":\"#506784\",\"linecolor\":\"#506784\",\"ticks\":\"\"},\"baxis\":{\"gridcolor\":\"#506784\",\"linecolor\":\"#506784\",\"ticks\":\"\"},\"caxis\":{\"gridcolor\":\"#506784\",\"linecolor\":\"#506784\",\"ticks\":\"\"}},\"coloraxis\":{\"colorbar\":{\"outlinewidth\":0,\"ticks\":\"\"}},\"colorscale\":{\"sequential\":[[0.0,\"#0d0887\"],[0.1111111111111111,\"#46039f\"],[0.2222222222222222,\"#7201a8\"],[0.3333333333333333,\"#9c179e\"],[0.4444444444444444,\"#bd3786\"],[0.5555555555555556,\"#d8576b\"],[0.6666666666666666,\"#ed7953\"],[0.7777777777777778,\"#fb9f3a\"],[0.8888888888888888,\"#fdca26\"],[1.0,\"#f0f921\"]],\"sequentialminus\":[[0.0,\"#0d0887\"],[0.1111111111111111,\"#46039f\"],[0.2222222222222222,\"#7201a8\"],[0.3333333333333333,\"#9c179e\"],[0.4444444444444444,\"#bd3786\"],[0.5555555555555556,\"#d8576b\"],[0.6666666666666666,\"#ed7953\"],[0.7777777777777778,\"#fb9f3a\"],[0.8888888888888888,\"#fdca26\"],[1.0,\"#f0f921\"]],\"diverging\":[[0,\"#8e0152\"],[0.1,\"#c51b7d\"],[0.2,\"#de77ae\"],[0.3,\"#f1b6da\"],[0.4,\"#fde0ef\"],[0.5,\"#f7f7f7\"],[0.6,\"#e6f5d0\"],[0.7,\"#b8e186\"],[0.8,\"#7fbc41\"],[0.9,\"#4d9221\"],[1,\"#276419\"]]},\"xaxis\":{\"gridcolor\":\"#283442\",\"linecolor\":\"#506784\",\"ticks\":\"\",\"title\":{\"standoff\":15},\"zerolinecolor\":\"#283442\",\"automargin\":true,\"zerolinewidth\":2},\"yaxis\":{\"gridcolor\":\"#283442\",\"linecolor\":\"#506784\",\"ticks\":\"\",\"title\":{\"standoff\":15},\"zerolinecolor\":\"#283442\",\"automargin\":true,\"zerolinewidth\":2},\"scene\":{\"xaxis\":{\"backgroundcolor\":\"rgb(17,17,17)\",\"gridcolor\":\"#506784\",\"linecolor\":\"#506784\",\"showbackground\":true,\"ticks\":\"\",\"zerolinecolor\":\"#C8D4E3\",\"gridwidth\":2},\"yaxis\":{\"backgroundcolor\":\"rgb(17,17,17)\",\"gridcolor\":\"#506784\",\"linecolor\":\"#506784\",\"showbackground\":true,\"ticks\":\"\",\"zerolinecolor\":\"#C8D4E3\",\"gridwidth\":2},\"zaxis\":{\"backgroundcolor\":\"rgb(17,17,17)\",\"gridcolor\":\"#506784\",\"linecolor\":\"#506784\",\"showbackground\":true,\"ticks\":\"\",\"zerolinecolor\":\"#C8D4E3\",\"gridwidth\":2}},\"shapedefaults\":{\"line\":{\"color\":\"#f2f5fa\"}},\"annotationdefaults\":{\"arrowcolor\":\"#f2f5fa\",\"arrowhead\":0,\"arrowwidth\":1},\"geo\":{\"bgcolor\":\"rgb(17,17,17)\",\"landcolor\":\"rgb(17,17,17)\",\"subunitcolor\":\"#506784\",\"showland\":true,\"showlakes\":true,\"lakecolor\":\"rgb(17,17,17)\"},\"title\":{\"x\":0.05},\"updatemenudefaults\":{\"bgcolor\":\"#506784\",\"borderwidth\":0},\"sliderdefaults\":{\"bgcolor\":\"#C8D4E3\",\"borderwidth\":1,\"bordercolor\":\"rgb(17,17,17)\",\"tickwidth\":0},\"mapbox\":{\"style\":\"dark\"}}},\"xaxis\":{\"anchor\":\"y\",\"domain\":[0.0,1.0],\"title\":{\"text\":\"movement evaluation stitch\"}},\"yaxis\":{\"anchor\":\"x\",\"domain\":[0.0,1.0],\"title\":{\"text\":\"Needle holder stitch visibility [s]\"}},\"legend\":{\"tracegroupgap\":0},\"margin\":{\"t\":60},\"width\":500},                        {\"responsive\": true}                    ).then(function(){\n",
       "                            \n",
       "var gd = document.getElementById('004cf3d0-9481-447e-8e84-4ce9d4f76884');\n",
       "var x = new MutationObserver(function (mutations, observer) {{\n",
       "        var display = window.getComputedStyle(gd).display;\n",
       "        if (!display || display === 'none') {{\n",
       "            console.log([gd, 'removed!']);\n",
       "            Plotly.purge(gd);\n",
       "            observer.disconnect();\n",
       "        }}\n",
       "}});\n",
       "\n",
       "// Listen for the removal of the full notebook cells\n",
       "var notebookContainer = gd.closest('#notebook-container');\n",
       "if (notebookContainer) {{\n",
       "    x.observe(notebookContainer, {childList: true});\n",
       "}}\n",
       "\n",
       "// Listen for the clearing of the current output cell\n",
       "var outputEl = gd.closest('.output');\n",
       "if (outputEl) {{\n",
       "    x.observe(outputEl, {childList: true});\n",
       "}}\n",
       "\n",
       "                        })                };                });            </script>        </div>"
      ]
     },
     "metadata": {},
     "output_type": "display_data"
    }
   ],
   "execution_count": 45
  },
  {
   "cell_type": "code",
   "source": [
    "\n",
    "import plotly.express as px\n",
    "px.scatter(dfst, y=\"Needle holder stitch length [m]\", x=relevant_column, hover_data=[\"filename\", \"stitch_id\"], width=500)\n"
   ],
   "metadata": {
    "collapsed": false,
    "ExecuteTime": {
     "end_time": "2024-07-19T12:12:58.200425Z",
     "start_time": "2024-07-19T12:12:58.146937Z"
    }
   },
   "id": "514c25b3081f34fc",
   "outputs": [
    {
     "data": {
      "application/vnd.plotly.v1+json": {
       "data": [
        {
         "customdata": [
          [
           "Bad-2021_11_03_B_V_lz__Ann_Sophie_Einzelknopfnaht_am_Schweinefu___1_.mp4",
           0
          ],
          [
           "Bad-2021_11_03_A_Spitze_Vanessa_Einzelknopfnaht_am_Schweinefu_.mp4",
           0
          ],
          [
           "Good-2021_10_27_B_Etzel_Peter_Einzelknopfnaht_am_Schweinefu_.mp4",
           0
          ],
          [
           "Medium-2021_11_03_A_Tengler_Sophie_Einzelknopfnaht_Schweinefu_.mp4",
           0
          ],
          [
           "Bad-12_10_21__Loewe__Rebekka__Einzelknopfnaht.mp4",
           0
          ],
          [
           "Bad-2021_11_3_A_Brodersen___nne_Einzelknopfnaht_am_Schweinefu_.mp4",
           0
          ],
          [
           "medium-2021_11_03_A_Tengler_Sophie_Einzelknopfnaht_Schweinefu_.mp4",
           0
          ],
          [
           "Good-Einzelknopfnaht_Stoklossa.mp4",
           0
          ],
          [
           "Medium-2021_11_03_A_Seifert_Johanna_Einzelknopfnaht_am_Schweinefu_.mp4",
           0
          ],
          [
           "Bad-2021_11_03_A_Noll_Alexander_Einzelknopfnaht.mp4",
           0
          ],
          [
           "Bad-3_11_21_B_Grumt_Alina_Einzelknopfnaht_Schweinefu_.mp4",
           0
          ],
          [
           "Good-Schmidt_Elisabeth_Einzelknotennaht_11_10_2021_MP4_SparkVideo.mp4",
           0
          ],
          [
           "Good-Schweinefu__Einzelknopfnaht.mp4",
           0
          ],
          [
           "Bad-03_11_21_B_Hopfe_Johanna_Einzelknopfnaht.mp4",
           0
          ],
          [
           "Medium-RPReplay_Final1634048018.mp4",
           0
          ],
          [
           "Medium-Schweinefu_.mp4",
           0
          ],
          [
           "Einzelknopfnaht_Schwein_Kerstin_Preuß.mp4",
           0
          ],
          [
           "Einzelknopfnaht_Elena.Vai-Wieting.mov",
           0
          ],
          [
           "11.4.2024.HarmsSören.NHT.mp4",
           0
          ],
          [
           "Gehrke,Yves - post.mp4",
           0
          ],
          [
           "Stresstest_Einzelknopfnaht.mp4",
           0
          ],
          [
           "Pre_-Test_Isabel_Linden.mp4",
           0
          ],
          [
           "Bildschirmaufnahme_2022-10-11_um_11.20.24.mov",
           0
          ],
          [
           "Fehringer_Pascal__post_test.mp4",
           0
          ],
          [
           "Hilger,Anke-Posttest.mp4",
           0
          ],
          [
           "2023-02-21_SchuldtSalome_Einzelknopfnaht_am_Schweinefuß.mp4",
           0
          ],
          [
           "Bad-2021_11_03_A_Petersen_Insa_Einzelknopfnaht_am_Schweinefu_.mp4",
           0
          ],
          [
           "Einzelknopfnaht_Lina_Schäfer.mp4",
           0
          ],
          [
           "Schiesser_David_post_test.mp4",
           0
          ],
          [
           "EinzelknopfnahtamSchweinefuss_Muenzner_Simeon.mp4",
           0
          ],
          [
           "Bad-2021_11_03_B_V_lz__Ann_Sophie_Einzelknopfnaht_am_Schweinefu___1_.mp4",
           1
          ],
          [
           "Bad-2021_11_03_A_Spitze_Vanessa_Einzelknopfnaht_am_Schweinefu_.mp4",
           1
          ],
          [
           "Good-2021_10_27_B_Etzel_Peter_Einzelknopfnaht_am_Schweinefu_.mp4",
           1
          ],
          [
           "Medium-2021_11_03_A_Tengler_Sophie_Einzelknopfnaht_Schweinefu_.mp4",
           1
          ],
          [
           "Bad-12_10_21__Loewe__Rebekka__Einzelknopfnaht.mp4",
           1
          ],
          [
           "Bad-2021_11_3_A_Brodersen___nne_Einzelknopfnaht_am_Schweinefu_.mp4",
           1
          ],
          [
           "medium-2021_11_03_A_Tengler_Sophie_Einzelknopfnaht_Schweinefu_.mp4",
           1
          ],
          [
           "Good-Einzelknopfnaht_Stoklossa.mp4",
           1
          ],
          [
           "Medium-2021_11_03_A_Seifert_Johanna_Einzelknopfnaht_am_Schweinefu_.mp4",
           1
          ],
          [
           "Bad-2021_11_03_A_Noll_Alexander_Einzelknopfnaht.mp4",
           1
          ],
          [
           "Bad-3_11_21_B_Grumt_Alina_Einzelknopfnaht_Schweinefu_.mp4",
           1
          ],
          [
           "Good-Schmidt_Elisabeth_Einzelknotennaht_11_10_2021_MP4_SparkVideo.mp4",
           1
          ],
          [
           "Good-Schweinefu__Einzelknopfnaht.mp4",
           1
          ],
          [
           "Bad-03_11_21_B_Hopfe_Johanna_Einzelknopfnaht.mp4",
           1
          ],
          [
           "Medium-RPReplay_Final1634048018.mp4",
           1
          ],
          [
           "Medium-Schweinefu_.mp4",
           1
          ],
          [
           "Einzelknopfnaht_Schwein_Kerstin_Preuß.mp4",
           1
          ],
          [
           "Einzelknopfnaht_Elena.Vai-Wieting.mov",
           1
          ],
          [
           "11.4.2024.HarmsSören.NHT.mp4",
           1
          ],
          [
           "Gehrke,Yves - post.mp4",
           1
          ],
          [
           "Stresstest_Einzelknopfnaht.mp4",
           1
          ],
          [
           "Pre_-Test_Isabel_Linden.mp4",
           1
          ],
          [
           "Bildschirmaufnahme_2022-10-11_um_11.20.24.mov",
           1
          ],
          [
           "Fehringer_Pascal__post_test.mp4",
           1
          ],
          [
           "Hilger,Anke-Posttest.mp4",
           1
          ],
          [
           "2023-02-21_SchuldtSalome_Einzelknopfnaht_am_Schweinefuß.mp4",
           1
          ],
          [
           "Bad-2021_11_03_A_Petersen_Insa_Einzelknopfnaht_am_Schweinefu_.mp4",
           1
          ],
          [
           "Einzelknopfnaht_Lina_Schäfer.mp4",
           1
          ],
          [
           "Schiesser_David_post_test.mp4",
           1
          ],
          [
           "EinzelknopfnahtamSchweinefuss_Muenzner_Simeon.mp4",
           1
          ],
          [
           "Bad-2021_11_03_B_V_lz__Ann_Sophie_Einzelknopfnaht_am_Schweinefu___1_.mp4",
           2
          ],
          [
           "Bad-2021_11_03_A_Spitze_Vanessa_Einzelknopfnaht_am_Schweinefu_.mp4",
           2
          ],
          [
           "Good-2021_10_27_B_Etzel_Peter_Einzelknopfnaht_am_Schweinefu_.mp4",
           2
          ],
          [
           "Medium-2021_11_03_A_Tengler_Sophie_Einzelknopfnaht_Schweinefu_.mp4",
           2
          ],
          [
           "Bad-12_10_21__Loewe__Rebekka__Einzelknopfnaht.mp4",
           2
          ],
          [
           "Bad-2021_11_3_A_Brodersen___nne_Einzelknopfnaht_am_Schweinefu_.mp4",
           2
          ],
          [
           "medium-2021_11_03_A_Tengler_Sophie_Einzelknopfnaht_Schweinefu_.mp4",
           2
          ],
          [
           "Good-Einzelknopfnaht_Stoklossa.mp4",
           2
          ],
          [
           "Medium-2021_11_03_A_Seifert_Johanna_Einzelknopfnaht_am_Schweinefu_.mp4",
           2
          ],
          [
           "Bad-2021_11_03_A_Noll_Alexander_Einzelknopfnaht.mp4",
           2
          ],
          [
           "Bad-3_11_21_B_Grumt_Alina_Einzelknopfnaht_Schweinefu_.mp4",
           2
          ],
          [
           "Good-Schmidt_Elisabeth_Einzelknotennaht_11_10_2021_MP4_SparkVideo.mp4",
           2
          ],
          [
           "Good-Schweinefu__Einzelknopfnaht.mp4",
           2
          ],
          [
           "Bad-03_11_21_B_Hopfe_Johanna_Einzelknopfnaht.mp4",
           2
          ],
          [
           "Medium-RPReplay_Final1634048018.mp4",
           2
          ],
          [
           "Medium-Schweinefu_.mp4",
           2
          ],
          [
           "Einzelknopfnaht_Schwein_Kerstin_Preuß.mp4",
           2
          ],
          [
           "Einzelknopfnaht_Elena.Vai-Wieting.mov",
           2
          ],
          [
           "11.4.2024.HarmsSören.NHT.mp4",
           2
          ],
          [
           "Gehrke,Yves - post.mp4",
           2
          ],
          [
           "Stresstest_Einzelknopfnaht.mp4",
           2
          ],
          [
           "Pre_-Test_Isabel_Linden.mp4",
           2
          ],
          [
           "Bildschirmaufnahme_2022-10-11_um_11.20.24.mov",
           2
          ],
          [
           "Fehringer_Pascal__post_test.mp4",
           2
          ],
          [
           "Hilger,Anke-Posttest.mp4",
           2
          ],
          [
           "2023-02-21_SchuldtSalome_Einzelknopfnaht_am_Schweinefuß.mp4",
           2
          ],
          [
           "Bad-2021_11_03_A_Petersen_Insa_Einzelknopfnaht_am_Schweinefu_.mp4",
           2
          ],
          [
           "Einzelknopfnaht_Lina_Schäfer.mp4",
           2
          ],
          [
           "Schiesser_David_post_test.mp4",
           2
          ],
          [
           "EinzelknopfnahtamSchweinefuss_Muenzner_Simeon.mp4",
           2
          ],
          [
           "Bad-2021_11_03_B_V_lz__Ann_Sophie_Einzelknopfnaht_am_Schweinefu___1_.mp4",
           3
          ],
          [
           "Bad-2021_11_03_A_Spitze_Vanessa_Einzelknopfnaht_am_Schweinefu_.mp4",
           3
          ],
          [
           "Good-2021_10_27_B_Etzel_Peter_Einzelknopfnaht_am_Schweinefu_.mp4",
           3
          ],
          [
           "Medium-2021_11_03_A_Tengler_Sophie_Einzelknopfnaht_Schweinefu_.mp4",
           3
          ],
          [
           "Bad-12_10_21__Loewe__Rebekka__Einzelknopfnaht.mp4",
           3
          ],
          [
           "Bad-2021_11_3_A_Brodersen___nne_Einzelknopfnaht_am_Schweinefu_.mp4",
           3
          ],
          [
           "medium-2021_11_03_A_Tengler_Sophie_Einzelknopfnaht_Schweinefu_.mp4",
           3
          ],
          [
           "Good-Einzelknopfnaht_Stoklossa.mp4",
           3
          ],
          [
           "Medium-2021_11_03_A_Seifert_Johanna_Einzelknopfnaht_am_Schweinefu_.mp4",
           3
          ],
          [
           "Bad-2021_11_03_A_Noll_Alexander_Einzelknopfnaht.mp4",
           3
          ],
          [
           "Bad-3_11_21_B_Grumt_Alina_Einzelknopfnaht_Schweinefu_.mp4",
           3
          ],
          [
           "Good-Schmidt_Elisabeth_Einzelknotennaht_11_10_2021_MP4_SparkVideo.mp4",
           3
          ],
          [
           "Good-Schweinefu__Einzelknopfnaht.mp4",
           3
          ],
          [
           "Bad-03_11_21_B_Hopfe_Johanna_Einzelknopfnaht.mp4",
           3
          ],
          [
           "Medium-RPReplay_Final1634048018.mp4",
           3
          ],
          [
           "Medium-Schweinefu_.mp4",
           3
          ],
          [
           "Einzelknopfnaht_Schwein_Kerstin_Preuß.mp4",
           3
          ],
          [
           "Einzelknopfnaht_Elena.Vai-Wieting.mov",
           3
          ],
          [
           "11.4.2024.HarmsSören.NHT.mp4",
           3
          ],
          [
           "Gehrke,Yves - post.mp4",
           3
          ],
          [
           "Stresstest_Einzelknopfnaht.mp4",
           3
          ],
          [
           "Pre_-Test_Isabel_Linden.mp4",
           3
          ],
          [
           "Bildschirmaufnahme_2022-10-11_um_11.20.24.mov",
           3
          ],
          [
           "Fehringer_Pascal__post_test.mp4",
           3
          ],
          [
           "Hilger,Anke-Posttest.mp4",
           3
          ],
          [
           "2023-02-21_SchuldtSalome_Einzelknopfnaht_am_Schweinefuß.mp4",
           3
          ],
          [
           "Bad-2021_11_03_A_Petersen_Insa_Einzelknopfnaht_am_Schweinefu_.mp4",
           3
          ],
          [
           "Einzelknopfnaht_Lina_Schäfer.mp4",
           3
          ],
          [
           "Schiesser_David_post_test.mp4",
           3
          ],
          [
           "EinzelknopfnahtamSchweinefuss_Muenzner_Simeon.mp4",
           3
          ],
          [
           "Bad-2021_11_03_B_V_lz__Ann_Sophie_Einzelknopfnaht_am_Schweinefu___1_.mp4",
           4
          ],
          [
           "Bad-2021_11_03_A_Spitze_Vanessa_Einzelknopfnaht_am_Schweinefu_.mp4",
           4
          ],
          [
           "Good-2021_10_27_B_Etzel_Peter_Einzelknopfnaht_am_Schweinefu_.mp4",
           4
          ],
          [
           "Medium-2021_11_03_A_Tengler_Sophie_Einzelknopfnaht_Schweinefu_.mp4",
           4
          ],
          [
           "Bad-12_10_21__Loewe__Rebekka__Einzelknopfnaht.mp4",
           4
          ],
          [
           "Bad-2021_11_3_A_Brodersen___nne_Einzelknopfnaht_am_Schweinefu_.mp4",
           4
          ],
          [
           "medium-2021_11_03_A_Tengler_Sophie_Einzelknopfnaht_Schweinefu_.mp4",
           4
          ],
          [
           "Good-Einzelknopfnaht_Stoklossa.mp4",
           4
          ],
          [
           "Medium-2021_11_03_A_Seifert_Johanna_Einzelknopfnaht_am_Schweinefu_.mp4",
           4
          ],
          [
           "Bad-2021_11_03_A_Noll_Alexander_Einzelknopfnaht.mp4",
           4
          ],
          [
           "Bad-3_11_21_B_Grumt_Alina_Einzelknopfnaht_Schweinefu_.mp4",
           4
          ],
          [
           "Good-Schmidt_Elisabeth_Einzelknotennaht_11_10_2021_MP4_SparkVideo.mp4",
           4
          ],
          [
           "Good-Schweinefu__Einzelknopfnaht.mp4",
           4
          ],
          [
           "Bad-03_11_21_B_Hopfe_Johanna_Einzelknopfnaht.mp4",
           4
          ],
          [
           "Medium-RPReplay_Final1634048018.mp4",
           4
          ],
          [
           "Medium-Schweinefu_.mp4",
           4
          ],
          [
           "Einzelknopfnaht_Schwein_Kerstin_Preuß.mp4",
           4
          ],
          [
           "Einzelknopfnaht_Elena.Vai-Wieting.mov",
           4
          ],
          [
           "11.4.2024.HarmsSören.NHT.mp4",
           4
          ],
          [
           "Gehrke,Yves - post.mp4",
           4
          ],
          [
           "Stresstest_Einzelknopfnaht.mp4",
           4
          ],
          [
           "Pre_-Test_Isabel_Linden.mp4",
           4
          ],
          [
           "Bildschirmaufnahme_2022-10-11_um_11.20.24.mov",
           4
          ],
          [
           "Fehringer_Pascal__post_test.mp4",
           4
          ],
          [
           "Hilger,Anke-Posttest.mp4",
           4
          ],
          [
           "2023-02-21_SchuldtSalome_Einzelknopfnaht_am_Schweinefuß.mp4",
           4
          ],
          [
           "Bad-2021_11_03_A_Petersen_Insa_Einzelknopfnaht_am_Schweinefu_.mp4",
           4
          ],
          [
           "Einzelknopfnaht_Lina_Schäfer.mp4",
           4
          ],
          [
           "Schiesser_David_post_test.mp4",
           4
          ],
          [
           "EinzelknopfnahtamSchweinefuss_Muenzner_Simeon.mp4",
           4
          ]
         ],
         "hovertemplate": "movement evaluation stitch=%{x}<br>Needle holder stitch length [m]=%{y}<br>filename=%{customdata[0]}<br>stitch_id=%{customdata[1]}<extra></extra>",
         "legendgroup": "",
         "marker": {
          "color": "#636efa",
          "symbol": "circle"
         },
         "mode": "markers",
         "name": "",
         "orientation": "v",
         "showlegend": false,
         "x": [
          3.0,
          2.0,
          3.5,
          4.0,
          1.0,
          2.0,
          4.0,
          3.0,
          4.0,
          3.0,
          2.0,
          2.0,
          4.0,
          4.0,
          2.0,
          3.0,
          2.0,
          3.0,
          null,
          3.0,
          5.0,
          4.0,
          1.0,
          2.0,
          4.0,
          1.0,
          3.0,
          2.5,
          3.0,
          3.0,
          null,
          null,
          null,
          null,
          null,
          1.0,
          null,
          1.0,
          5.0,
          3.0,
          2.0,
          null,
          3.5,
          1.0,
          null,
          null,
          5.0,
          5.0,
          null,
          4.0,
          5.0,
          2.0,
          2.0,
          null,
          4.0,
          null,
          null,
          null,
          4.0,
          3.5,
          null,
          null,
          null,
          null,
          null,
          null,
          null,
          null,
          null,
          null,
          null,
          null,
          null,
          null,
          null,
          null,
          4.0,
          5.0,
          null,
          null,
          5.0,
          3.0,
          3.0,
          null,
          3.0,
          null,
          null,
          null,
          5.0,
          3.0,
          null,
          null,
          null,
          null,
          null,
          null,
          null,
          null,
          null,
          null,
          null,
          null,
          null,
          null,
          null,
          null,
          5.0,
          null,
          null,
          null,
          5.0,
          null,
          4.0,
          null,
          4.0,
          null,
          null,
          null,
          3.0,
          null,
          null,
          null,
          null,
          null,
          null,
          null,
          null,
          null,
          null,
          null,
          null,
          null,
          null,
          null,
          null,
          null,
          4.0,
          null,
          null,
          null,
          5.0,
          null,
          4.0,
          null,
          4.0,
          null,
          null,
          null,
          null,
          null
         ],
         "xaxis": "x",
         "y": [
          2.700872268,
          4.082693593,
          3.105033403,
          1.654405343,
          3.310901095,
          2.50656081,
          1.715631349,
          1.546706747,
          1.765807385,
          6.090652878,
          null,
          2.076815795,
          1.83281748,
          1.991931641,
          3.463365705,
          3.351296683,
          1.862569763,
          3.138940045,
          2.963204037,
          2.837283442,
          1.882232598,
          1.509013356,
          null,
          3.604414429,
          1.357799835,
          3.29384576,
          3.739319772,
          2.698620894,
          2.73401054,
          2.059381472,
          null,
          null,
          null,
          null,
          null,
          3.61786405,
          null,
          2.672191786,
          1.658185377,
          4.610266774,
          null,
          null,
          2.817526954,
          3.22983701,
          null,
          null,
          2.053935137,
          2.314931018,
          4.003165766,
          1.85718954,
          1.655132028,
          2.708059072,
          null,
          null,
          1.770407205,
          null,
          null,
          null,
          1.822944724,
          1.571297566,
          null,
          null,
          null,
          null,
          null,
          null,
          null,
          null,
          null,
          null,
          null,
          null,
          null,
          null,
          null,
          null,
          1.738041405,
          2.134729887,
          4.868300245,
          null,
          2.03314051,
          2.14172002,
          null,
          null,
          1.869415026,
          null,
          null,
          null,
          1.869419275,
          null,
          null,
          null,
          null,
          null,
          null,
          null,
          null,
          null,
          null,
          null,
          null,
          null,
          null,
          null,
          null,
          null,
          2.025256938,
          null,
          null,
          null,
          2.153541605,
          null,
          null,
          null,
          1.539498502,
          null,
          null,
          null,
          2.658392088,
          null,
          null,
          null,
          null,
          null,
          null,
          null,
          null,
          null,
          null,
          null,
          null,
          null,
          null,
          null,
          null,
          null,
          2.439878198,
          null,
          null,
          null,
          2.087339607,
          null,
          null,
          null,
          1.512438502,
          null,
          null,
          null,
          null,
          null
         ],
         "yaxis": "y",
         "type": "scatter"
        }
       ],
       "layout": {
        "template": {
         "data": {
          "histogram2dcontour": [
           {
            "type": "histogram2dcontour",
            "colorbar": {
             "outlinewidth": 0,
             "ticks": ""
            },
            "colorscale": [
             [
              0.0,
              "#0d0887"
             ],
             [
              0.1111111111111111,
              "#46039f"
             ],
             [
              0.2222222222222222,
              "#7201a8"
             ],
             [
              0.3333333333333333,
              "#9c179e"
             ],
             [
              0.4444444444444444,
              "#bd3786"
             ],
             [
              0.5555555555555556,
              "#d8576b"
             ],
             [
              0.6666666666666666,
              "#ed7953"
             ],
             [
              0.7777777777777778,
              "#fb9f3a"
             ],
             [
              0.8888888888888888,
              "#fdca26"
             ],
             [
              1.0,
              "#f0f921"
             ]
            ]
           }
          ],
          "choropleth": [
           {
            "type": "choropleth",
            "colorbar": {
             "outlinewidth": 0,
             "ticks": ""
            }
           }
          ],
          "histogram2d": [
           {
            "type": "histogram2d",
            "colorbar": {
             "outlinewidth": 0,
             "ticks": ""
            },
            "colorscale": [
             [
              0.0,
              "#0d0887"
             ],
             [
              0.1111111111111111,
              "#46039f"
             ],
             [
              0.2222222222222222,
              "#7201a8"
             ],
             [
              0.3333333333333333,
              "#9c179e"
             ],
             [
              0.4444444444444444,
              "#bd3786"
             ],
             [
              0.5555555555555556,
              "#d8576b"
             ],
             [
              0.6666666666666666,
              "#ed7953"
             ],
             [
              0.7777777777777778,
              "#fb9f3a"
             ],
             [
              0.8888888888888888,
              "#fdca26"
             ],
             [
              1.0,
              "#f0f921"
             ]
            ]
           }
          ],
          "heatmap": [
           {
            "type": "heatmap",
            "colorbar": {
             "outlinewidth": 0,
             "ticks": ""
            },
            "colorscale": [
             [
              0.0,
              "#0d0887"
             ],
             [
              0.1111111111111111,
              "#46039f"
             ],
             [
              0.2222222222222222,
              "#7201a8"
             ],
             [
              0.3333333333333333,
              "#9c179e"
             ],
             [
              0.4444444444444444,
              "#bd3786"
             ],
             [
              0.5555555555555556,
              "#d8576b"
             ],
             [
              0.6666666666666666,
              "#ed7953"
             ],
             [
              0.7777777777777778,
              "#fb9f3a"
             ],
             [
              0.8888888888888888,
              "#fdca26"
             ],
             [
              1.0,
              "#f0f921"
             ]
            ]
           }
          ],
          "heatmapgl": [
           {
            "type": "heatmapgl",
            "colorbar": {
             "outlinewidth": 0,
             "ticks": ""
            },
            "colorscale": [
             [
              0.0,
              "#0d0887"
             ],
             [
              0.1111111111111111,
              "#46039f"
             ],
             [
              0.2222222222222222,
              "#7201a8"
             ],
             [
              0.3333333333333333,
              "#9c179e"
             ],
             [
              0.4444444444444444,
              "#bd3786"
             ],
             [
              0.5555555555555556,
              "#d8576b"
             ],
             [
              0.6666666666666666,
              "#ed7953"
             ],
             [
              0.7777777777777778,
              "#fb9f3a"
             ],
             [
              0.8888888888888888,
              "#fdca26"
             ],
             [
              1.0,
              "#f0f921"
             ]
            ]
           }
          ],
          "contourcarpet": [
           {
            "type": "contourcarpet",
            "colorbar": {
             "outlinewidth": 0,
             "ticks": ""
            }
           }
          ],
          "contour": [
           {
            "type": "contour",
            "colorbar": {
             "outlinewidth": 0,
             "ticks": ""
            },
            "colorscale": [
             [
              0.0,
              "#0d0887"
             ],
             [
              0.1111111111111111,
              "#46039f"
             ],
             [
              0.2222222222222222,
              "#7201a8"
             ],
             [
              0.3333333333333333,
              "#9c179e"
             ],
             [
              0.4444444444444444,
              "#bd3786"
             ],
             [
              0.5555555555555556,
              "#d8576b"
             ],
             [
              0.6666666666666666,
              "#ed7953"
             ],
             [
              0.7777777777777778,
              "#fb9f3a"
             ],
             [
              0.8888888888888888,
              "#fdca26"
             ],
             [
              1.0,
              "#f0f921"
             ]
            ]
           }
          ],
          "surface": [
           {
            "type": "surface",
            "colorbar": {
             "outlinewidth": 0,
             "ticks": ""
            },
            "colorscale": [
             [
              0.0,
              "#0d0887"
             ],
             [
              0.1111111111111111,
              "#46039f"
             ],
             [
              0.2222222222222222,
              "#7201a8"
             ],
             [
              0.3333333333333333,
              "#9c179e"
             ],
             [
              0.4444444444444444,
              "#bd3786"
             ],
             [
              0.5555555555555556,
              "#d8576b"
             ],
             [
              0.6666666666666666,
              "#ed7953"
             ],
             [
              0.7777777777777778,
              "#fb9f3a"
             ],
             [
              0.8888888888888888,
              "#fdca26"
             ],
             [
              1.0,
              "#f0f921"
             ]
            ]
           }
          ],
          "mesh3d": [
           {
            "type": "mesh3d",
            "colorbar": {
             "outlinewidth": 0,
             "ticks": ""
            }
           }
          ],
          "scatter": [
           {
            "marker": {
             "line": {
              "color": "#283442"
             }
            },
            "type": "scatter"
           }
          ],
          "parcoords": [
           {
            "type": "parcoords",
            "line": {
             "colorbar": {
              "outlinewidth": 0,
              "ticks": ""
             }
            }
           }
          ],
          "scatterpolargl": [
           {
            "type": "scatterpolargl",
            "marker": {
             "colorbar": {
              "outlinewidth": 0,
              "ticks": ""
             }
            }
           }
          ],
          "bar": [
           {
            "error_x": {
             "color": "#f2f5fa"
            },
            "error_y": {
             "color": "#f2f5fa"
            },
            "marker": {
             "line": {
              "color": "rgb(17,17,17)",
              "width": 0.5
             },
             "pattern": {
              "fillmode": "overlay",
              "size": 10,
              "solidity": 0.2
             }
            },
            "type": "bar"
           }
          ],
          "scattergeo": [
           {
            "type": "scattergeo",
            "marker": {
             "colorbar": {
              "outlinewidth": 0,
              "ticks": ""
             }
            }
           }
          ],
          "scatterpolar": [
           {
            "type": "scatterpolar",
            "marker": {
             "colorbar": {
              "outlinewidth": 0,
              "ticks": ""
             }
            }
           }
          ],
          "histogram": [
           {
            "marker": {
             "pattern": {
              "fillmode": "overlay",
              "size": 10,
              "solidity": 0.2
             }
            },
            "type": "histogram"
           }
          ],
          "scattergl": [
           {
            "marker": {
             "line": {
              "color": "#283442"
             }
            },
            "type": "scattergl"
           }
          ],
          "scatter3d": [
           {
            "type": "scatter3d",
            "line": {
             "colorbar": {
              "outlinewidth": 0,
              "ticks": ""
             }
            },
            "marker": {
             "colorbar": {
              "outlinewidth": 0,
              "ticks": ""
             }
            }
           }
          ],
          "scattermapbox": [
           {
            "type": "scattermapbox",
            "marker": {
             "colorbar": {
              "outlinewidth": 0,
              "ticks": ""
             }
            }
           }
          ],
          "scatterternary": [
           {
            "type": "scatterternary",
            "marker": {
             "colorbar": {
              "outlinewidth": 0,
              "ticks": ""
             }
            }
           }
          ],
          "scattercarpet": [
           {
            "type": "scattercarpet",
            "marker": {
             "colorbar": {
              "outlinewidth": 0,
              "ticks": ""
             }
            }
           }
          ],
          "carpet": [
           {
            "aaxis": {
             "endlinecolor": "#A2B1C6",
             "gridcolor": "#506784",
             "linecolor": "#506784",
             "minorgridcolor": "#506784",
             "startlinecolor": "#A2B1C6"
            },
            "baxis": {
             "endlinecolor": "#A2B1C6",
             "gridcolor": "#506784",
             "linecolor": "#506784",
             "minorgridcolor": "#506784",
             "startlinecolor": "#A2B1C6"
            },
            "type": "carpet"
           }
          ],
          "table": [
           {
            "cells": {
             "fill": {
              "color": "#506784"
             },
             "line": {
              "color": "rgb(17,17,17)"
             }
            },
            "header": {
             "fill": {
              "color": "#2a3f5f"
             },
             "line": {
              "color": "rgb(17,17,17)"
             }
            },
            "type": "table"
           }
          ],
          "barpolar": [
           {
            "marker": {
             "line": {
              "color": "rgb(17,17,17)",
              "width": 0.5
             },
             "pattern": {
              "fillmode": "overlay",
              "size": 10,
              "solidity": 0.2
             }
            },
            "type": "barpolar"
           }
          ],
          "pie": [
           {
            "automargin": true,
            "type": "pie"
           }
          ]
         },
         "layout": {
          "autotypenumbers": "strict",
          "colorway": [
           "#636efa",
           "#EF553B",
           "#00cc96",
           "#ab63fa",
           "#FFA15A",
           "#19d3f3",
           "#FF6692",
           "#B6E880",
           "#FF97FF",
           "#FECB52"
          ],
          "font": {
           "color": "#f2f5fa"
          },
          "hovermode": "closest",
          "hoverlabel": {
           "align": "left"
          },
          "paper_bgcolor": "rgb(17,17,17)",
          "plot_bgcolor": "rgb(17,17,17)",
          "polar": {
           "bgcolor": "rgb(17,17,17)",
           "angularaxis": {
            "gridcolor": "#506784",
            "linecolor": "#506784",
            "ticks": ""
           },
           "radialaxis": {
            "gridcolor": "#506784",
            "linecolor": "#506784",
            "ticks": ""
           }
          },
          "ternary": {
           "bgcolor": "rgb(17,17,17)",
           "aaxis": {
            "gridcolor": "#506784",
            "linecolor": "#506784",
            "ticks": ""
           },
           "baxis": {
            "gridcolor": "#506784",
            "linecolor": "#506784",
            "ticks": ""
           },
           "caxis": {
            "gridcolor": "#506784",
            "linecolor": "#506784",
            "ticks": ""
           }
          },
          "coloraxis": {
           "colorbar": {
            "outlinewidth": 0,
            "ticks": ""
           }
          },
          "colorscale": {
           "sequential": [
            [
             0.0,
             "#0d0887"
            ],
            [
             0.1111111111111111,
             "#46039f"
            ],
            [
             0.2222222222222222,
             "#7201a8"
            ],
            [
             0.3333333333333333,
             "#9c179e"
            ],
            [
             0.4444444444444444,
             "#bd3786"
            ],
            [
             0.5555555555555556,
             "#d8576b"
            ],
            [
             0.6666666666666666,
             "#ed7953"
            ],
            [
             0.7777777777777778,
             "#fb9f3a"
            ],
            [
             0.8888888888888888,
             "#fdca26"
            ],
            [
             1.0,
             "#f0f921"
            ]
           ],
           "sequentialminus": [
            [
             0.0,
             "#0d0887"
            ],
            [
             0.1111111111111111,
             "#46039f"
            ],
            [
             0.2222222222222222,
             "#7201a8"
            ],
            [
             0.3333333333333333,
             "#9c179e"
            ],
            [
             0.4444444444444444,
             "#bd3786"
            ],
            [
             0.5555555555555556,
             "#d8576b"
            ],
            [
             0.6666666666666666,
             "#ed7953"
            ],
            [
             0.7777777777777778,
             "#fb9f3a"
            ],
            [
             0.8888888888888888,
             "#fdca26"
            ],
            [
             1.0,
             "#f0f921"
            ]
           ],
           "diverging": [
            [
             0,
             "#8e0152"
            ],
            [
             0.1,
             "#c51b7d"
            ],
            [
             0.2,
             "#de77ae"
            ],
            [
             0.3,
             "#f1b6da"
            ],
            [
             0.4,
             "#fde0ef"
            ],
            [
             0.5,
             "#f7f7f7"
            ],
            [
             0.6,
             "#e6f5d0"
            ],
            [
             0.7,
             "#b8e186"
            ],
            [
             0.8,
             "#7fbc41"
            ],
            [
             0.9,
             "#4d9221"
            ],
            [
             1,
             "#276419"
            ]
           ]
          },
          "xaxis": {
           "gridcolor": "#283442",
           "linecolor": "#506784",
           "ticks": "",
           "title": {
            "standoff": 15
           },
           "zerolinecolor": "#283442",
           "automargin": true,
           "zerolinewidth": 2
          },
          "yaxis": {
           "gridcolor": "#283442",
           "linecolor": "#506784",
           "ticks": "",
           "title": {
            "standoff": 15
           },
           "zerolinecolor": "#283442",
           "automargin": true,
           "zerolinewidth": 2
          },
          "scene": {
           "xaxis": {
            "backgroundcolor": "rgb(17,17,17)",
            "gridcolor": "#506784",
            "linecolor": "#506784",
            "showbackground": true,
            "ticks": "",
            "zerolinecolor": "#C8D4E3",
            "gridwidth": 2
           },
           "yaxis": {
            "backgroundcolor": "rgb(17,17,17)",
            "gridcolor": "#506784",
            "linecolor": "#506784",
            "showbackground": true,
            "ticks": "",
            "zerolinecolor": "#C8D4E3",
            "gridwidth": 2
           },
           "zaxis": {
            "backgroundcolor": "rgb(17,17,17)",
            "gridcolor": "#506784",
            "linecolor": "#506784",
            "showbackground": true,
            "ticks": "",
            "zerolinecolor": "#C8D4E3",
            "gridwidth": 2
           }
          },
          "shapedefaults": {
           "line": {
            "color": "#f2f5fa"
           }
          },
          "annotationdefaults": {
           "arrowcolor": "#f2f5fa",
           "arrowhead": 0,
           "arrowwidth": 1
          },
          "geo": {
           "bgcolor": "rgb(17,17,17)",
           "landcolor": "rgb(17,17,17)",
           "subunitcolor": "#506784",
           "showland": true,
           "showlakes": true,
           "lakecolor": "rgb(17,17,17)"
          },
          "title": {
           "x": 0.05
          },
          "updatemenudefaults": {
           "bgcolor": "#506784",
           "borderwidth": 0
          },
          "sliderdefaults": {
           "bgcolor": "#C8D4E3",
           "borderwidth": 1,
           "bordercolor": "rgb(17,17,17)",
           "tickwidth": 0
          },
          "mapbox": {
           "style": "dark"
          }
         }
        },
        "xaxis": {
         "anchor": "y",
         "domain": [
          0.0,
          1.0
         ],
         "title": {
          "text": "movement evaluation stitch"
         }
        },
        "yaxis": {
         "anchor": "x",
         "domain": [
          0.0,
          1.0
         ],
         "title": {
          "text": "Needle holder stitch length [m]"
         }
        },
        "legend": {
         "tracegroupgap": 0
        },
        "margin": {
         "t": 60
        },
        "width": 500
       },
       "config": {
        "plotlyServerURL": "https://plot.ly"
       }
      },
      "text/html": [
       "<div>                            <div id=\"0a811d3c-1888-41a7-8f53-c2f6550a16f9\" class=\"plotly-graph-div\" style=\"height:525px; width:500px;\"></div>            <script type=\"text/javascript\">                require([\"plotly\"], function(Plotly) {                    window.PLOTLYENV=window.PLOTLYENV || {};                                    if (document.getElementById(\"0a811d3c-1888-41a7-8f53-c2f6550a16f9\")) {                    Plotly.newPlot(                        \"0a811d3c-1888-41a7-8f53-c2f6550a16f9\",                        [{\"customdata\":[[\"Bad-2021_11_03_B_V_lz__Ann_Sophie_Einzelknopfnaht_am_Schweinefu___1_.mp4\",0],[\"Bad-2021_11_03_A_Spitze_Vanessa_Einzelknopfnaht_am_Schweinefu_.mp4\",0],[\"Good-2021_10_27_B_Etzel_Peter_Einzelknopfnaht_am_Schweinefu_.mp4\",0],[\"Medium-2021_11_03_A_Tengler_Sophie_Einzelknopfnaht_Schweinefu_.mp4\",0],[\"Bad-12_10_21__Loewe__Rebekka__Einzelknopfnaht.mp4\",0],[\"Bad-2021_11_3_A_Brodersen___nne_Einzelknopfnaht_am_Schweinefu_.mp4\",0],[\"medium-2021_11_03_A_Tengler_Sophie_Einzelknopfnaht_Schweinefu_.mp4\",0],[\"Good-Einzelknopfnaht_Stoklossa.mp4\",0],[\"Medium-2021_11_03_A_Seifert_Johanna_Einzelknopfnaht_am_Schweinefu_.mp4\",0],[\"Bad-2021_11_03_A_Noll_Alexander_Einzelknopfnaht.mp4\",0],[\"Bad-3_11_21_B_Grumt_Alina_Einzelknopfnaht_Schweinefu_.mp4\",0],[\"Good-Schmidt_Elisabeth_Einzelknotennaht_11_10_2021_MP4_SparkVideo.mp4\",0],[\"Good-Schweinefu__Einzelknopfnaht.mp4\",0],[\"Bad-03_11_21_B_Hopfe_Johanna_Einzelknopfnaht.mp4\",0],[\"Medium-RPReplay_Final1634048018.mp4\",0],[\"Medium-Schweinefu_.mp4\",0],[\"Einzelknopfnaht_Schwein_Kerstin_Preu\\u00df.mp4\",0],[\"Einzelknopfnaht_Elena.Vai-Wieting.mov\",0],[\"11.4.2024.HarmsS\\u00f6ren.NHT.mp4\",0],[\"Gehrke,Yves - post.mp4\",0],[\"Stresstest_Einzelknopfnaht.mp4\",0],[\"Pre_-Test_Isabel_Linden.mp4\",0],[\"Bildschirmaufnahme_2022-10-11_um_11.20.24.mov\",0],[\"Fehringer_Pascal__post_test.mp4\",0],[\"Hilger,Anke-Posttest.mp4\",0],[\"2023-02-21_SchuldtSalome_Einzelknopfnaht_am_Schweinefu\\u00df.mp4\",0],[\"Bad-2021_11_03_A_Petersen_Insa_Einzelknopfnaht_am_Schweinefu_.mp4\",0],[\"Einzelknopfnaht_Lina_Sch\\u00e4fer.mp4\",0],[\"Schiesser_David_post_test.mp4\",0],[\"EinzelknopfnahtamSchweinefuss_Muenzner_Simeon.mp4\",0],[\"Bad-2021_11_03_B_V_lz__Ann_Sophie_Einzelknopfnaht_am_Schweinefu___1_.mp4\",1],[\"Bad-2021_11_03_A_Spitze_Vanessa_Einzelknopfnaht_am_Schweinefu_.mp4\",1],[\"Good-2021_10_27_B_Etzel_Peter_Einzelknopfnaht_am_Schweinefu_.mp4\",1],[\"Medium-2021_11_03_A_Tengler_Sophie_Einzelknopfnaht_Schweinefu_.mp4\",1],[\"Bad-12_10_21__Loewe__Rebekka__Einzelknopfnaht.mp4\",1],[\"Bad-2021_11_3_A_Brodersen___nne_Einzelknopfnaht_am_Schweinefu_.mp4\",1],[\"medium-2021_11_03_A_Tengler_Sophie_Einzelknopfnaht_Schweinefu_.mp4\",1],[\"Good-Einzelknopfnaht_Stoklossa.mp4\",1],[\"Medium-2021_11_03_A_Seifert_Johanna_Einzelknopfnaht_am_Schweinefu_.mp4\",1],[\"Bad-2021_11_03_A_Noll_Alexander_Einzelknopfnaht.mp4\",1],[\"Bad-3_11_21_B_Grumt_Alina_Einzelknopfnaht_Schweinefu_.mp4\",1],[\"Good-Schmidt_Elisabeth_Einzelknotennaht_11_10_2021_MP4_SparkVideo.mp4\",1],[\"Good-Schweinefu__Einzelknopfnaht.mp4\",1],[\"Bad-03_11_21_B_Hopfe_Johanna_Einzelknopfnaht.mp4\",1],[\"Medium-RPReplay_Final1634048018.mp4\",1],[\"Medium-Schweinefu_.mp4\",1],[\"Einzelknopfnaht_Schwein_Kerstin_Preu\\u00df.mp4\",1],[\"Einzelknopfnaht_Elena.Vai-Wieting.mov\",1],[\"11.4.2024.HarmsS\\u00f6ren.NHT.mp4\",1],[\"Gehrke,Yves - post.mp4\",1],[\"Stresstest_Einzelknopfnaht.mp4\",1],[\"Pre_-Test_Isabel_Linden.mp4\",1],[\"Bildschirmaufnahme_2022-10-11_um_11.20.24.mov\",1],[\"Fehringer_Pascal__post_test.mp4\",1],[\"Hilger,Anke-Posttest.mp4\",1],[\"2023-02-21_SchuldtSalome_Einzelknopfnaht_am_Schweinefu\\u00df.mp4\",1],[\"Bad-2021_11_03_A_Petersen_Insa_Einzelknopfnaht_am_Schweinefu_.mp4\",1],[\"Einzelknopfnaht_Lina_Sch\\u00e4fer.mp4\",1],[\"Schiesser_David_post_test.mp4\",1],[\"EinzelknopfnahtamSchweinefuss_Muenzner_Simeon.mp4\",1],[\"Bad-2021_11_03_B_V_lz__Ann_Sophie_Einzelknopfnaht_am_Schweinefu___1_.mp4\",2],[\"Bad-2021_11_03_A_Spitze_Vanessa_Einzelknopfnaht_am_Schweinefu_.mp4\",2],[\"Good-2021_10_27_B_Etzel_Peter_Einzelknopfnaht_am_Schweinefu_.mp4\",2],[\"Medium-2021_11_03_A_Tengler_Sophie_Einzelknopfnaht_Schweinefu_.mp4\",2],[\"Bad-12_10_21__Loewe__Rebekka__Einzelknopfnaht.mp4\",2],[\"Bad-2021_11_3_A_Brodersen___nne_Einzelknopfnaht_am_Schweinefu_.mp4\",2],[\"medium-2021_11_03_A_Tengler_Sophie_Einzelknopfnaht_Schweinefu_.mp4\",2],[\"Good-Einzelknopfnaht_Stoklossa.mp4\",2],[\"Medium-2021_11_03_A_Seifert_Johanna_Einzelknopfnaht_am_Schweinefu_.mp4\",2],[\"Bad-2021_11_03_A_Noll_Alexander_Einzelknopfnaht.mp4\",2],[\"Bad-3_11_21_B_Grumt_Alina_Einzelknopfnaht_Schweinefu_.mp4\",2],[\"Good-Schmidt_Elisabeth_Einzelknotennaht_11_10_2021_MP4_SparkVideo.mp4\",2],[\"Good-Schweinefu__Einzelknopfnaht.mp4\",2],[\"Bad-03_11_21_B_Hopfe_Johanna_Einzelknopfnaht.mp4\",2],[\"Medium-RPReplay_Final1634048018.mp4\",2],[\"Medium-Schweinefu_.mp4\",2],[\"Einzelknopfnaht_Schwein_Kerstin_Preu\\u00df.mp4\",2],[\"Einzelknopfnaht_Elena.Vai-Wieting.mov\",2],[\"11.4.2024.HarmsS\\u00f6ren.NHT.mp4\",2],[\"Gehrke,Yves - post.mp4\",2],[\"Stresstest_Einzelknopfnaht.mp4\",2],[\"Pre_-Test_Isabel_Linden.mp4\",2],[\"Bildschirmaufnahme_2022-10-11_um_11.20.24.mov\",2],[\"Fehringer_Pascal__post_test.mp4\",2],[\"Hilger,Anke-Posttest.mp4\",2],[\"2023-02-21_SchuldtSalome_Einzelknopfnaht_am_Schweinefu\\u00df.mp4\",2],[\"Bad-2021_11_03_A_Petersen_Insa_Einzelknopfnaht_am_Schweinefu_.mp4\",2],[\"Einzelknopfnaht_Lina_Sch\\u00e4fer.mp4\",2],[\"Schiesser_David_post_test.mp4\",2],[\"EinzelknopfnahtamSchweinefuss_Muenzner_Simeon.mp4\",2],[\"Bad-2021_11_03_B_V_lz__Ann_Sophie_Einzelknopfnaht_am_Schweinefu___1_.mp4\",3],[\"Bad-2021_11_03_A_Spitze_Vanessa_Einzelknopfnaht_am_Schweinefu_.mp4\",3],[\"Good-2021_10_27_B_Etzel_Peter_Einzelknopfnaht_am_Schweinefu_.mp4\",3],[\"Medium-2021_11_03_A_Tengler_Sophie_Einzelknopfnaht_Schweinefu_.mp4\",3],[\"Bad-12_10_21__Loewe__Rebekka__Einzelknopfnaht.mp4\",3],[\"Bad-2021_11_3_A_Brodersen___nne_Einzelknopfnaht_am_Schweinefu_.mp4\",3],[\"medium-2021_11_03_A_Tengler_Sophie_Einzelknopfnaht_Schweinefu_.mp4\",3],[\"Good-Einzelknopfnaht_Stoklossa.mp4\",3],[\"Medium-2021_11_03_A_Seifert_Johanna_Einzelknopfnaht_am_Schweinefu_.mp4\",3],[\"Bad-2021_11_03_A_Noll_Alexander_Einzelknopfnaht.mp4\",3],[\"Bad-3_11_21_B_Grumt_Alina_Einzelknopfnaht_Schweinefu_.mp4\",3],[\"Good-Schmidt_Elisabeth_Einzelknotennaht_11_10_2021_MP4_SparkVideo.mp4\",3],[\"Good-Schweinefu__Einzelknopfnaht.mp4\",3],[\"Bad-03_11_21_B_Hopfe_Johanna_Einzelknopfnaht.mp4\",3],[\"Medium-RPReplay_Final1634048018.mp4\",3],[\"Medium-Schweinefu_.mp4\",3],[\"Einzelknopfnaht_Schwein_Kerstin_Preu\\u00df.mp4\",3],[\"Einzelknopfnaht_Elena.Vai-Wieting.mov\",3],[\"11.4.2024.HarmsS\\u00f6ren.NHT.mp4\",3],[\"Gehrke,Yves - post.mp4\",3],[\"Stresstest_Einzelknopfnaht.mp4\",3],[\"Pre_-Test_Isabel_Linden.mp4\",3],[\"Bildschirmaufnahme_2022-10-11_um_11.20.24.mov\",3],[\"Fehringer_Pascal__post_test.mp4\",3],[\"Hilger,Anke-Posttest.mp4\",3],[\"2023-02-21_SchuldtSalome_Einzelknopfnaht_am_Schweinefu\\u00df.mp4\",3],[\"Bad-2021_11_03_A_Petersen_Insa_Einzelknopfnaht_am_Schweinefu_.mp4\",3],[\"Einzelknopfnaht_Lina_Sch\\u00e4fer.mp4\",3],[\"Schiesser_David_post_test.mp4\",3],[\"EinzelknopfnahtamSchweinefuss_Muenzner_Simeon.mp4\",3],[\"Bad-2021_11_03_B_V_lz__Ann_Sophie_Einzelknopfnaht_am_Schweinefu___1_.mp4\",4],[\"Bad-2021_11_03_A_Spitze_Vanessa_Einzelknopfnaht_am_Schweinefu_.mp4\",4],[\"Good-2021_10_27_B_Etzel_Peter_Einzelknopfnaht_am_Schweinefu_.mp4\",4],[\"Medium-2021_11_03_A_Tengler_Sophie_Einzelknopfnaht_Schweinefu_.mp4\",4],[\"Bad-12_10_21__Loewe__Rebekka__Einzelknopfnaht.mp4\",4],[\"Bad-2021_11_3_A_Brodersen___nne_Einzelknopfnaht_am_Schweinefu_.mp4\",4],[\"medium-2021_11_03_A_Tengler_Sophie_Einzelknopfnaht_Schweinefu_.mp4\",4],[\"Good-Einzelknopfnaht_Stoklossa.mp4\",4],[\"Medium-2021_11_03_A_Seifert_Johanna_Einzelknopfnaht_am_Schweinefu_.mp4\",4],[\"Bad-2021_11_03_A_Noll_Alexander_Einzelknopfnaht.mp4\",4],[\"Bad-3_11_21_B_Grumt_Alina_Einzelknopfnaht_Schweinefu_.mp4\",4],[\"Good-Schmidt_Elisabeth_Einzelknotennaht_11_10_2021_MP4_SparkVideo.mp4\",4],[\"Good-Schweinefu__Einzelknopfnaht.mp4\",4],[\"Bad-03_11_21_B_Hopfe_Johanna_Einzelknopfnaht.mp4\",4],[\"Medium-RPReplay_Final1634048018.mp4\",4],[\"Medium-Schweinefu_.mp4\",4],[\"Einzelknopfnaht_Schwein_Kerstin_Preu\\u00df.mp4\",4],[\"Einzelknopfnaht_Elena.Vai-Wieting.mov\",4],[\"11.4.2024.HarmsS\\u00f6ren.NHT.mp4\",4],[\"Gehrke,Yves - post.mp4\",4],[\"Stresstest_Einzelknopfnaht.mp4\",4],[\"Pre_-Test_Isabel_Linden.mp4\",4],[\"Bildschirmaufnahme_2022-10-11_um_11.20.24.mov\",4],[\"Fehringer_Pascal__post_test.mp4\",4],[\"Hilger,Anke-Posttest.mp4\",4],[\"2023-02-21_SchuldtSalome_Einzelknopfnaht_am_Schweinefu\\u00df.mp4\",4],[\"Bad-2021_11_03_A_Petersen_Insa_Einzelknopfnaht_am_Schweinefu_.mp4\",4],[\"Einzelknopfnaht_Lina_Sch\\u00e4fer.mp4\",4],[\"Schiesser_David_post_test.mp4\",4],[\"EinzelknopfnahtamSchweinefuss_Muenzner_Simeon.mp4\",4]],\"hovertemplate\":\"movement evaluation stitch=%{x}\\u003cbr\\u003eNeedle holder stitch length [m]=%{y}\\u003cbr\\u003efilename=%{customdata[0]}\\u003cbr\\u003estitch_id=%{customdata[1]}\\u003cextra\\u003e\\u003c\\u002fextra\\u003e\",\"legendgroup\":\"\",\"marker\":{\"color\":\"#636efa\",\"symbol\":\"circle\"},\"mode\":\"markers\",\"name\":\"\",\"orientation\":\"v\",\"showlegend\":false,\"x\":[3.0,2.0,3.5,4.0,1.0,2.0,4.0,3.0,4.0,3.0,2.0,2.0,4.0,4.0,2.0,3.0,2.0,3.0,null,3.0,5.0,4.0,1.0,2.0,4.0,1.0,3.0,2.5,3.0,3.0,null,null,null,null,null,1.0,null,1.0,5.0,3.0,2.0,null,3.5,1.0,null,null,5.0,5.0,null,4.0,5.0,2.0,2.0,null,4.0,null,null,null,4.0,3.5,null,null,null,null,null,null,null,null,null,null,null,null,null,null,null,null,4.0,5.0,null,null,5.0,3.0,3.0,null,3.0,null,null,null,5.0,3.0,null,null,null,null,null,null,null,null,null,null,null,null,null,null,null,null,5.0,null,null,null,5.0,null,4.0,null,4.0,null,null,null,3.0,null,null,null,null,null,null,null,null,null,null,null,null,null,null,null,null,null,4.0,null,null,null,5.0,null,4.0,null,4.0,null,null,null,null,null],\"xaxis\":\"x\",\"y\":[2.700872268,4.082693593,3.105033403,1.654405343,3.310901095,2.50656081,1.715631349,1.546706747,1.765807385,6.090652878,null,2.076815795,1.83281748,1.991931641,3.463365705,3.351296683,1.862569763,3.138940045,2.963204037,2.837283442,1.882232598,1.509013356,null,3.604414429,1.357799835,3.29384576,3.739319772,2.698620894,2.73401054,2.059381472,null,null,null,null,null,3.61786405,null,2.672191786,1.658185377,4.610266774,null,null,2.817526954,3.22983701,null,null,2.053935137,2.314931018,4.003165766,1.85718954,1.655132028,2.708059072,null,null,1.770407205,null,null,null,1.822944724,1.571297566,null,null,null,null,null,null,null,null,null,null,null,null,null,null,null,null,1.738041405,2.134729887,4.868300245,null,2.03314051,2.14172002,null,null,1.869415026,null,null,null,1.869419275,null,null,null,null,null,null,null,null,null,null,null,null,null,null,null,null,null,2.025256938,null,null,null,2.153541605,null,null,null,1.539498502,null,null,null,2.658392088,null,null,null,null,null,null,null,null,null,null,null,null,null,null,null,null,null,2.439878198,null,null,null,2.087339607,null,null,null,1.512438502,null,null,null,null,null],\"yaxis\":\"y\",\"type\":\"scatter\"}],                        {\"template\":{\"data\":{\"histogram2dcontour\":[{\"type\":\"histogram2dcontour\",\"colorbar\":{\"outlinewidth\":0,\"ticks\":\"\"},\"colorscale\":[[0.0,\"#0d0887\"],[0.1111111111111111,\"#46039f\"],[0.2222222222222222,\"#7201a8\"],[0.3333333333333333,\"#9c179e\"],[0.4444444444444444,\"#bd3786\"],[0.5555555555555556,\"#d8576b\"],[0.6666666666666666,\"#ed7953\"],[0.7777777777777778,\"#fb9f3a\"],[0.8888888888888888,\"#fdca26\"],[1.0,\"#f0f921\"]]}],\"choropleth\":[{\"type\":\"choropleth\",\"colorbar\":{\"outlinewidth\":0,\"ticks\":\"\"}}],\"histogram2d\":[{\"type\":\"histogram2d\",\"colorbar\":{\"outlinewidth\":0,\"ticks\":\"\"},\"colorscale\":[[0.0,\"#0d0887\"],[0.1111111111111111,\"#46039f\"],[0.2222222222222222,\"#7201a8\"],[0.3333333333333333,\"#9c179e\"],[0.4444444444444444,\"#bd3786\"],[0.5555555555555556,\"#d8576b\"],[0.6666666666666666,\"#ed7953\"],[0.7777777777777778,\"#fb9f3a\"],[0.8888888888888888,\"#fdca26\"],[1.0,\"#f0f921\"]]}],\"heatmap\":[{\"type\":\"heatmap\",\"colorbar\":{\"outlinewidth\":0,\"ticks\":\"\"},\"colorscale\":[[0.0,\"#0d0887\"],[0.1111111111111111,\"#46039f\"],[0.2222222222222222,\"#7201a8\"],[0.3333333333333333,\"#9c179e\"],[0.4444444444444444,\"#bd3786\"],[0.5555555555555556,\"#d8576b\"],[0.6666666666666666,\"#ed7953\"],[0.7777777777777778,\"#fb9f3a\"],[0.8888888888888888,\"#fdca26\"],[1.0,\"#f0f921\"]]}],\"heatmapgl\":[{\"type\":\"heatmapgl\",\"colorbar\":{\"outlinewidth\":0,\"ticks\":\"\"},\"colorscale\":[[0.0,\"#0d0887\"],[0.1111111111111111,\"#46039f\"],[0.2222222222222222,\"#7201a8\"],[0.3333333333333333,\"#9c179e\"],[0.4444444444444444,\"#bd3786\"],[0.5555555555555556,\"#d8576b\"],[0.6666666666666666,\"#ed7953\"],[0.7777777777777778,\"#fb9f3a\"],[0.8888888888888888,\"#fdca26\"],[1.0,\"#f0f921\"]]}],\"contourcarpet\":[{\"type\":\"contourcarpet\",\"colorbar\":{\"outlinewidth\":0,\"ticks\":\"\"}}],\"contour\":[{\"type\":\"contour\",\"colorbar\":{\"outlinewidth\":0,\"ticks\":\"\"},\"colorscale\":[[0.0,\"#0d0887\"],[0.1111111111111111,\"#46039f\"],[0.2222222222222222,\"#7201a8\"],[0.3333333333333333,\"#9c179e\"],[0.4444444444444444,\"#bd3786\"],[0.5555555555555556,\"#d8576b\"],[0.6666666666666666,\"#ed7953\"],[0.7777777777777778,\"#fb9f3a\"],[0.8888888888888888,\"#fdca26\"],[1.0,\"#f0f921\"]]}],\"surface\":[{\"type\":\"surface\",\"colorbar\":{\"outlinewidth\":0,\"ticks\":\"\"},\"colorscale\":[[0.0,\"#0d0887\"],[0.1111111111111111,\"#46039f\"],[0.2222222222222222,\"#7201a8\"],[0.3333333333333333,\"#9c179e\"],[0.4444444444444444,\"#bd3786\"],[0.5555555555555556,\"#d8576b\"],[0.6666666666666666,\"#ed7953\"],[0.7777777777777778,\"#fb9f3a\"],[0.8888888888888888,\"#fdca26\"],[1.0,\"#f0f921\"]]}],\"mesh3d\":[{\"type\":\"mesh3d\",\"colorbar\":{\"outlinewidth\":0,\"ticks\":\"\"}}],\"scatter\":[{\"marker\":{\"line\":{\"color\":\"#283442\"}},\"type\":\"scatter\"}],\"parcoords\":[{\"type\":\"parcoords\",\"line\":{\"colorbar\":{\"outlinewidth\":0,\"ticks\":\"\"}}}],\"scatterpolargl\":[{\"type\":\"scatterpolargl\",\"marker\":{\"colorbar\":{\"outlinewidth\":0,\"ticks\":\"\"}}}],\"bar\":[{\"error_x\":{\"color\":\"#f2f5fa\"},\"error_y\":{\"color\":\"#f2f5fa\"},\"marker\":{\"line\":{\"color\":\"rgb(17,17,17)\",\"width\":0.5},\"pattern\":{\"fillmode\":\"overlay\",\"size\":10,\"solidity\":0.2}},\"type\":\"bar\"}],\"scattergeo\":[{\"type\":\"scattergeo\",\"marker\":{\"colorbar\":{\"outlinewidth\":0,\"ticks\":\"\"}}}],\"scatterpolar\":[{\"type\":\"scatterpolar\",\"marker\":{\"colorbar\":{\"outlinewidth\":0,\"ticks\":\"\"}}}],\"histogram\":[{\"marker\":{\"pattern\":{\"fillmode\":\"overlay\",\"size\":10,\"solidity\":0.2}},\"type\":\"histogram\"}],\"scattergl\":[{\"marker\":{\"line\":{\"color\":\"#283442\"}},\"type\":\"scattergl\"}],\"scatter3d\":[{\"type\":\"scatter3d\",\"line\":{\"colorbar\":{\"outlinewidth\":0,\"ticks\":\"\"}},\"marker\":{\"colorbar\":{\"outlinewidth\":0,\"ticks\":\"\"}}}],\"scattermapbox\":[{\"type\":\"scattermapbox\",\"marker\":{\"colorbar\":{\"outlinewidth\":0,\"ticks\":\"\"}}}],\"scatterternary\":[{\"type\":\"scatterternary\",\"marker\":{\"colorbar\":{\"outlinewidth\":0,\"ticks\":\"\"}}}],\"scattercarpet\":[{\"type\":\"scattercarpet\",\"marker\":{\"colorbar\":{\"outlinewidth\":0,\"ticks\":\"\"}}}],\"carpet\":[{\"aaxis\":{\"endlinecolor\":\"#A2B1C6\",\"gridcolor\":\"#506784\",\"linecolor\":\"#506784\",\"minorgridcolor\":\"#506784\",\"startlinecolor\":\"#A2B1C6\"},\"baxis\":{\"endlinecolor\":\"#A2B1C6\",\"gridcolor\":\"#506784\",\"linecolor\":\"#506784\",\"minorgridcolor\":\"#506784\",\"startlinecolor\":\"#A2B1C6\"},\"type\":\"carpet\"}],\"table\":[{\"cells\":{\"fill\":{\"color\":\"#506784\"},\"line\":{\"color\":\"rgb(17,17,17)\"}},\"header\":{\"fill\":{\"color\":\"#2a3f5f\"},\"line\":{\"color\":\"rgb(17,17,17)\"}},\"type\":\"table\"}],\"barpolar\":[{\"marker\":{\"line\":{\"color\":\"rgb(17,17,17)\",\"width\":0.5},\"pattern\":{\"fillmode\":\"overlay\",\"size\":10,\"solidity\":0.2}},\"type\":\"barpolar\"}],\"pie\":[{\"automargin\":true,\"type\":\"pie\"}]},\"layout\":{\"autotypenumbers\":\"strict\",\"colorway\":[\"#636efa\",\"#EF553B\",\"#00cc96\",\"#ab63fa\",\"#FFA15A\",\"#19d3f3\",\"#FF6692\",\"#B6E880\",\"#FF97FF\",\"#FECB52\"],\"font\":{\"color\":\"#f2f5fa\"},\"hovermode\":\"closest\",\"hoverlabel\":{\"align\":\"left\"},\"paper_bgcolor\":\"rgb(17,17,17)\",\"plot_bgcolor\":\"rgb(17,17,17)\",\"polar\":{\"bgcolor\":\"rgb(17,17,17)\",\"angularaxis\":{\"gridcolor\":\"#506784\",\"linecolor\":\"#506784\",\"ticks\":\"\"},\"radialaxis\":{\"gridcolor\":\"#506784\",\"linecolor\":\"#506784\",\"ticks\":\"\"}},\"ternary\":{\"bgcolor\":\"rgb(17,17,17)\",\"aaxis\":{\"gridcolor\":\"#506784\",\"linecolor\":\"#506784\",\"ticks\":\"\"},\"baxis\":{\"gridcolor\":\"#506784\",\"linecolor\":\"#506784\",\"ticks\":\"\"},\"caxis\":{\"gridcolor\":\"#506784\",\"linecolor\":\"#506784\",\"ticks\":\"\"}},\"coloraxis\":{\"colorbar\":{\"outlinewidth\":0,\"ticks\":\"\"}},\"colorscale\":{\"sequential\":[[0.0,\"#0d0887\"],[0.1111111111111111,\"#46039f\"],[0.2222222222222222,\"#7201a8\"],[0.3333333333333333,\"#9c179e\"],[0.4444444444444444,\"#bd3786\"],[0.5555555555555556,\"#d8576b\"],[0.6666666666666666,\"#ed7953\"],[0.7777777777777778,\"#fb9f3a\"],[0.8888888888888888,\"#fdca26\"],[1.0,\"#f0f921\"]],\"sequentialminus\":[[0.0,\"#0d0887\"],[0.1111111111111111,\"#46039f\"],[0.2222222222222222,\"#7201a8\"],[0.3333333333333333,\"#9c179e\"],[0.4444444444444444,\"#bd3786\"],[0.5555555555555556,\"#d8576b\"],[0.6666666666666666,\"#ed7953\"],[0.7777777777777778,\"#fb9f3a\"],[0.8888888888888888,\"#fdca26\"],[1.0,\"#f0f921\"]],\"diverging\":[[0,\"#8e0152\"],[0.1,\"#c51b7d\"],[0.2,\"#de77ae\"],[0.3,\"#f1b6da\"],[0.4,\"#fde0ef\"],[0.5,\"#f7f7f7\"],[0.6,\"#e6f5d0\"],[0.7,\"#b8e186\"],[0.8,\"#7fbc41\"],[0.9,\"#4d9221\"],[1,\"#276419\"]]},\"xaxis\":{\"gridcolor\":\"#283442\",\"linecolor\":\"#506784\",\"ticks\":\"\",\"title\":{\"standoff\":15},\"zerolinecolor\":\"#283442\",\"automargin\":true,\"zerolinewidth\":2},\"yaxis\":{\"gridcolor\":\"#283442\",\"linecolor\":\"#506784\",\"ticks\":\"\",\"title\":{\"standoff\":15},\"zerolinecolor\":\"#283442\",\"automargin\":true,\"zerolinewidth\":2},\"scene\":{\"xaxis\":{\"backgroundcolor\":\"rgb(17,17,17)\",\"gridcolor\":\"#506784\",\"linecolor\":\"#506784\",\"showbackground\":true,\"ticks\":\"\",\"zerolinecolor\":\"#C8D4E3\",\"gridwidth\":2},\"yaxis\":{\"backgroundcolor\":\"rgb(17,17,17)\",\"gridcolor\":\"#506784\",\"linecolor\":\"#506784\",\"showbackground\":true,\"ticks\":\"\",\"zerolinecolor\":\"#C8D4E3\",\"gridwidth\":2},\"zaxis\":{\"backgroundcolor\":\"rgb(17,17,17)\",\"gridcolor\":\"#506784\",\"linecolor\":\"#506784\",\"showbackground\":true,\"ticks\":\"\",\"zerolinecolor\":\"#C8D4E3\",\"gridwidth\":2}},\"shapedefaults\":{\"line\":{\"color\":\"#f2f5fa\"}},\"annotationdefaults\":{\"arrowcolor\":\"#f2f5fa\",\"arrowhead\":0,\"arrowwidth\":1},\"geo\":{\"bgcolor\":\"rgb(17,17,17)\",\"landcolor\":\"rgb(17,17,17)\",\"subunitcolor\":\"#506784\",\"showland\":true,\"showlakes\":true,\"lakecolor\":\"rgb(17,17,17)\"},\"title\":{\"x\":0.05},\"updatemenudefaults\":{\"bgcolor\":\"#506784\",\"borderwidth\":0},\"sliderdefaults\":{\"bgcolor\":\"#C8D4E3\",\"borderwidth\":1,\"bordercolor\":\"rgb(17,17,17)\",\"tickwidth\":0},\"mapbox\":{\"style\":\"dark\"}}},\"xaxis\":{\"anchor\":\"y\",\"domain\":[0.0,1.0],\"title\":{\"text\":\"movement evaluation stitch\"}},\"yaxis\":{\"anchor\":\"x\",\"domain\":[0.0,1.0],\"title\":{\"text\":\"Needle holder stitch length [m]\"}},\"legend\":{\"tracegroupgap\":0},\"margin\":{\"t\":60},\"width\":500},                        {\"responsive\": true}                    ).then(function(){\n",
       "                            \n",
       "var gd = document.getElementById('0a811d3c-1888-41a7-8f53-c2f6550a16f9');\n",
       "var x = new MutationObserver(function (mutations, observer) {{\n",
       "        var display = window.getComputedStyle(gd).display;\n",
       "        if (!display || display === 'none') {{\n",
       "            console.log([gd, 'removed!']);\n",
       "            Plotly.purge(gd);\n",
       "            observer.disconnect();\n",
       "        }}\n",
       "}});\n",
       "\n",
       "// Listen for the removal of the full notebook cells\n",
       "var notebookContainer = gd.closest('#notebook-container');\n",
       "if (notebookContainer) {{\n",
       "    x.observe(notebookContainer, {childList: true});\n",
       "}}\n",
       "\n",
       "// Listen for the clearing of the current output cell\n",
       "var outputEl = gd.closest('.output');\n",
       "if (outputEl) {{\n",
       "    x.observe(outputEl, {childList: true});\n",
       "}}\n",
       "\n",
       "                        })                };                });            </script>        </div>"
      ]
     },
     "metadata": {},
     "output_type": "display_data"
    }
   ],
   "execution_count": 46
  },
  {
   "cell_type": "code",
   "source": [
    "list(corr.index)"
   ],
   "metadata": {
    "collapsed": false,
    "ExecuteTime": {
     "end_time": "2024-07-19T12:13:07.852227Z",
     "start_time": "2024-07-19T12:13:07.847126Z"
    }
   },
   "id": "4fc1b13a03b360c5",
   "outputs": [
    {
     "data": {
      "text/plain": [
       "['Stitch duration [s]',\n",
       " 'Piercing duration [s]',\n",
       " 'Needle holder stitch visibility [s]',\n",
       " 'Knot duration [s]',\n",
       " 'Needle holder piercing visibility [s]',\n",
       " 'Needle holder to forceps piercing below threshold [s]',\n",
       " 'Needle holder to forceps stitch below threshold [s]']"
      ]
     },
     "execution_count": 47,
     "metadata": {},
     "output_type": "execute_result"
    }
   ],
   "execution_count": 47
  },
  {
   "cell_type": "code",
   "source": [
    "\n",
    "sns.pairplot(dfst, y_vars=list(corr.index),\n",
    "             x_vars=list(corr.index),\n",
    "             # x_vars=[relevant_column]\n",
    "             )\n"
   ],
   "metadata": {
    "collapsed": false,
    "ExecuteTime": {
     "end_time": "2024-07-19T12:13:16.114524Z",
     "start_time": "2024-07-19T12:13:08.735157Z"
    }
   },
   "id": "e39700bde91f065f",
   "outputs": [
    {
     "data": {
      "text/plain": [
       "<seaborn.axisgrid.PairGrid at 0x7fa83083ef40>"
      ]
     },
     "execution_count": 48,
     "metadata": {},
     "output_type": "execute_result"
    },
    {
     "data": {
      "text/plain": [
       "<Figure size 1260x1260 with 56 Axes>"
      ],
      "image/png": "[encoded data removed]"
     },
     "metadata": {
      "needs_background": "light"
     },
     "output_type": "display_data"
    }
   ],
   "execution_count": 48
  },
  {
   "cell_type": "code",
   "outputs": [],
   "source": [
    "\n",
    "# corr = dfs.corr(numeric_only=True)[\"stars_auto\"].sort_values(ascending=False).head(10)\n",
    "# corr\n"
   ],
   "metadata": {
    "collapsed": false,
    "ExecuteTime": {
     "end_time": "2024-07-12T10:28:58.167270Z",
     "start_time": "2024-07-12T10:28:58.154271Z"
    }
   },
   "id": "4673f01feed115b5",
   "execution_count": 48
  },
  {
   "cell_type": "code",
   "execution_count": 49,
   "id": "5c45184c-eb71-4c0d-a929-54d97b6ff1a0",
   "metadata": {
    "tags": [],
    "ExecuteTime": {
     "end_time": "2024-07-12T10:29:12.613258Z",
     "start_time": "2024-07-12T10:29:12.604259Z"
    }
   },
   "outputs": [],
   "source": [
    "# columns_to_be_removed = [\"stars_auto\"]\n",
    "# columns = list(corr.index)\n",
    "# columns = [col for col in columns if col not in columns_to_be_removed]\n",
    "# columns "
   ]
  },
  {
   "cell_type": "code",
   "outputs": [],
   "source": [
    "# pretest_mean = dfs[dfs[relevant_column] == 1][cols_with_0 + [relevant_column]].mean()\n",
    "# posttest_mean = dfs[dfs[relevant_column] == 0][cols_with_0 + [relevant_column]].mean()\n",
    "# pretest_var = dfs[dfs[relevant_column] == 1][cols_with_0 + [relevant_column]].var()\n",
    "# posttest_var = dfs[dfs[relevant_column] == 0][cols_with_0 + [relevant_column]].var()\n",
    "\n",
    "\n",
    "\n",
    "\n"
   ],
   "metadata": {
    "collapsed": false,
    "ExecuteTime": {
     "end_time": "2024-07-12T10:29:13.339034Z",
     "start_time": "2024-07-12T10:29:13.324038Z"
    }
   },
   "id": "979bb11adfa5c1b2",
   "execution_count": 50
  },
  {
   "metadata": {},
   "cell_type": "markdown",
   "source": "## Check correlation between selected columns\n",
   "id": "755ab25dcb63afbc"
  },
  {
   "metadata": {
    "ExecuteTime": {
     "end_time": "2024-07-19T12:17:32.387563Z",
     "start_time": "2024-07-19T12:17:32.383207Z"
    }
   },
   "cell_type": "code",
   "source": [
    "for colname in dfst.columns:\n",
    "    print(colname)\n"
   ],
   "id": "a60510ff3f315d1",
   "outputs": [
    {
     "name": "stdout",
     "output_type": "stream",
     "text": [
      "filename\n",
      "annotation_annotation_annotation\n",
      "annotation_annotation_time_and_movements\n",
      "Stitch duration [s]\n",
      "Stitch start at [s]\n",
      "Needle holder stitch area presence [%]\n",
      "Needle holder stitch median area presence [%]\n",
      "Needle holder stitch length [m]\n",
      "Needle holder stitch visibility [s]\n",
      "Needle holder stitch velocity\n",
      "Needle holder stitch velocity std\n",
      "Needle holder stitch velocity above threshold\n",
      "Needle holder stitch velocity threshold [m/s]\n",
      "Needle holder stitch unit\n",
      "Needle holder stitch visibility [%]\n",
      "Forceps stitch area presence [%]\n",
      "Forceps stitch median area presence [%]\n",
      "Forceps stitch length [m]\n",
      "Forceps stitch visibility [s]\n",
      "Forceps stitch velocity\n",
      "Forceps stitch velocity std\n",
      "Forceps stitch velocity above threshold\n",
      "Forceps stitch velocity threshold [m/s]\n",
      "Forceps stitch unit\n",
      "Forceps stitch visibility [%]\n",
      "Scissors stitch area presence [%]\n",
      "Scissors stitch median area presence [%]\n",
      "Scissors stitch length [m]\n",
      "Scissors stitch visibility [s]\n",
      "Scissors stitch velocity\n",
      "Scissors stitch velocity std\n",
      "Scissors stitch velocity above threshold\n",
      "Scissors stitch velocity threshold [m/s]\n",
      "Scissors stitch unit\n",
      "Scissors stitch visibility [%]\n",
      "Static quality stitch\n",
      "Needle holder to forceps stitch average distance [m]\n",
      "Needle holder to forceps stitch below threshold [s]\n",
      "Needle holder to forceps stitch below threshold [%]\n",
      "movement evaluation stitch\n",
      "Knot duration [s]\n",
      "Knot start at [s]\n",
      "Needle holder knot area presence [%]\n",
      "Needle holder knot median area presence [%]\n",
      "Needle holder knot length [m]\n",
      "Needle holder knot visibility [s]\n",
      "Needle holder knot velocity\n",
      "Needle holder knot velocity std\n",
      "Needle holder knot velocity above threshold\n",
      "Needle holder knot velocity threshold [m/s]\n",
      "Needle holder knot unit\n",
      "Needle holder knot visibility [%]\n",
      "Forceps knot area presence [%]\n",
      "Forceps knot median area presence [%]\n",
      "Forceps knot length [m]\n",
      "Forceps knot visibility [s]\n",
      "Forceps knot velocity\n",
      "Forceps knot velocity std\n",
      "Forceps knot velocity above threshold\n",
      "Forceps knot velocity threshold [m/s]\n",
      "Forceps knot unit\n",
      "Forceps knot visibility [%]\n",
      "Scissors knot area presence [%]\n",
      "Scissors knot median area presence [%]\n",
      "Scissors knot length [m]\n",
      "Scissors knot visibility [s]\n",
      "Scissors knot velocity\n",
      "Scissors knot velocity std\n",
      "Scissors knot velocity above threshold\n",
      "Scissors knot velocity threshold [m/s]\n",
      "Scissors knot unit\n",
      "Scissors knot visibility [%]\n",
      "Needle holder to forceps knot average distance [m]\n",
      "Needle holder to forceps knot below threshold [s]\n",
      "Needle holder to forceps knot below threshold [%]\n",
      "Piercing duration [s]\n",
      "Piercing start at [s]\n",
      "Needle holder piercing area presence [%]\n",
      "Needle holder piercing median area presence [%]\n",
      "Needle holder piercing length [m]\n",
      "Needle holder piercing visibility [s]\n",
      "Needle holder piercing velocity\n",
      "Needle holder piercing velocity std\n",
      "Needle holder piercing velocity above threshold\n",
      "Needle holder piercing velocity threshold [m/s]\n",
      "Needle holder piercing unit\n",
      "Needle holder piercing visibility [%]\n",
      "Forceps piercing area presence [%]\n",
      "Forceps piercing median area presence [%]\n",
      "Forceps piercing length [m]\n",
      "Forceps piercing visibility [s]\n",
      "Forceps piercing velocity\n",
      "Forceps piercing velocity std\n",
      "Forceps piercing velocity above threshold\n",
      "Forceps piercing velocity threshold [m/s]\n",
      "Forceps piercing unit\n",
      "Forceps piercing visibility [%]\n",
      "Scissors piercing area presence [%]\n",
      "Scissors piercing median area presence [%]\n",
      "Scissors piercing length [m]\n",
      "Scissors piercing visibility [s]\n",
      "Scissors piercing velocity\n",
      "Scissors piercing velocity std\n",
      "Scissors piercing velocity above threshold\n",
      "Scissors piercing velocity threshold [m/s]\n",
      "Scissors piercing unit\n",
      "Scissors piercing visibility [%]\n",
      "Needle holder to forceps piercing average distance [m]\n",
      "Needle holder to forceps piercing below threshold [s]\n",
      "Needle holder to forceps piercing below threshold [%]\n",
      "stitch_id\n"
     ]
    }
   ],
   "execution_count": 53
  },
  {
   "metadata": {
    "ExecuteTime": {
     "end_time": "2024-07-19T13:00:46.853993Z",
     "start_time": "2024-07-19T13:00:36.136490Z"
    }
   },
   "cell_type": "code",
   "source": [
    "selected_columns = [ \"movement evaluation stitch\", \n",
    "                     \"Needle holder stitch length [m]\",\n",
    "                     \"Needle holder stitch visibility [s]\", \"Needle holder knot area presence [%]\", \n",
    "                     \"Needle holder stitch visibility [%]\", \n",
    "                     \n",
    "                     \"Needle holder piercing visibility [%]\", \"Needle holder to forceps piercing below threshold [s]\",\n",
    "                     \"Static quality stitch\"\n",
    "                     ]\n",
    "\n",
    "sns.pairplot(dfst, y_vars=\n",
    "                selected_columns,\n",
    "             x_vars=selected_columns,\n",
    "             # x_vars=[relevant_column]\n",
    "             )\n"
   ],
   "id": "8e49861d3d2c938f",
   "outputs": [
    {
     "data": {
      "text/plain": [
       "<seaborn.axisgrid.PairGrid at 0x7fa76e124580>"
      ]
     },
     "execution_count": 58,
     "metadata": {},
     "output_type": "execute_result"
    },
    {
     "data": {
      "text/plain": [
       "<Figure size 1440x1440 with 72 Axes>"
      ],
      "image/png": "[encoded data removed]"
     },
     "metadata": {
      "needs_background": "light"
     },
     "output_type": "display_data"
    }
   ],
   "execution_count": 58
  },
  {
   "cell_type": "code",
   "outputs": [],
   "source": [
    "# df_stats = pd.DataFrame({\"pretest\": pretest_mean, \"posttest\": posttest_mean, \"pretest_var\": pretest_var, \"posttest_var\": posttest_var})\n",
    "# df_stats[\"diff\"] = df_stats[\"pretest\"] - df_stats[\"posttest\"]\n",
    "# df_stats"
   ],
   "metadata": {
    "collapsed": false,
    "ExecuteTime": {
     "end_time": "2024-07-12T10:29:14.540014Z",
     "start_time": "2024-07-12T10:29:14.526014Z"
    }
   },
   "id": "b559b6033140889d",
   "execution_count": 51
  },
  {
   "cell_type": "code",
   "outputs": [
    {
     "name": "stdout",
     "output_type": "stream",
     "text": [
      "145\n"
     ]
    },
    {
     "data": {
      "text/plain": "Stitch duration [s]                              59\nKnot duration [s]                                50\nNeedle holder stitch visibility [s]              54\nNeedle holder knot visibility [s]                46\nForceps stitch visibility [s]                    50\nNeedle holder stitch velocity above threshold    54\nNeedle holder stitch length [m]                  54\nmovement evaluation stitch                       57\ndtype: int64"
     },
     "execution_count": 52,
     "metadata": {},
     "output_type": "execute_result"
    }
   ],
   "source": [
    "print(len(dfst))\n",
    "dfst[cols_X + [relevant_column]].notna().sum()"
   ],
   "metadata": {
    "collapsed": false,
    "ExecuteTime": {
     "end_time": "2024-07-12T10:29:15.751553Z",
     "start_time": "2024-07-12T10:29:15.740852Z"
    }
   },
   "id": "669884302392fc2f",
   "execution_count": 52
  },
  {
   "cell_type": "code",
   "outputs": [
    {
     "data": {
      "text/plain": "     Stitch duration [s]  Knot duration [s]  \\\n0                  152.0              100.0   \n1                  106.0               63.0   \n2                  179.0               95.0   \n3                   41.6                NaN   \n4                   75.0               37.0   \n..                   ...                ...   \n140                  NaN                NaN   \n141                  NaN                NaN   \n142                 54.0               31.0   \n143                  NaN                NaN   \n144                  NaN                NaN   \n\n     Needle holder stitch visibility [s]  Needle holder knot visibility [s]  \\\n0                             113.866667                          66.800000   \n1                              91.733333                          58.266667   \n2                             134.466667                          65.200000   \n3                              27.000000                                NaN   \n4                              46.600000                          19.733333   \n..                                   ...                                ...   \n140                                  NaN                                NaN   \n141                                  NaN                                NaN   \n142                            48.400000                          26.466667   \n143                                  NaN                                NaN   \n144                                  NaN                                NaN   \n\n     Forceps stitch visibility [s]  \\\n0                        43.466667   \n1                         9.733333   \n2                        55.733333   \n3                        16.666667   \n4                        20.066667   \n..                             ...   \n140                            NaN   \n141                            NaN   \n142                            NaN   \n143                            NaN   \n144                            NaN   \n\n     Needle holder stitch velocity above threshold  \\\n0                                             36.0   \n1                                             29.0   \n2                                             33.0   \n3                                              8.0   \n4                                             14.0   \n..                                             ...   \n140                                            NaN   \n141                                            NaN   \n142                                           18.0   \n143                                            NaN   \n144                                            NaN   \n\n     Needle holder stitch length [m]  movement evaluation stitch  \n0                           3.463331                         2.0  \n1                           3.342189                         3.0  \n2                           4.693209                         1.0  \n3                           2.948527                         NaN  \n4                           1.509013                         4.0  \n..                               ...                         ...  \n140                              NaN                         NaN  \n141                              NaN                         NaN  \n142                         2.143602                         5.0  \n143                              NaN                         NaN  \n144                              NaN                         NaN  \n\n[145 rows x 8 columns]",
      "text/html": "<div>\n<style scoped>\n    .dataframe tbody tr th:only-of-type {\n        vertical-align: middle;\n    }\n\n    .dataframe tbody tr th {\n        vertical-align: top;\n    }\n\n    .dataframe thead th {\n        text-align: right;\n    }\n</style>\n<table border=\"1\" class=\"dataframe\">\n  <thead>\n    <tr style=\"text-align: right;\">\n      <th></th>\n      <th>Stitch duration [s]</th>\n      <th>Knot duration [s]</th>\n      <th>Needle holder stitch visibility [s]</th>\n      <th>Needle holder knot visibility [s]</th>\n      <th>Forceps stitch visibility [s]</th>\n      <th>Needle holder stitch velocity above threshold</th>\n      <th>Needle holder stitch length [m]</th>\n      <th>movement evaluation stitch</th>\n    </tr>\n  </thead>\n  <tbody>\n    <tr>\n      <th>0</th>\n      <td>152.0</td>\n      <td>100.0</td>\n      <td>113.866667</td>\n      <td>66.800000</td>\n      <td>43.466667</td>\n      <td>36.0</td>\n      <td>3.463331</td>\n      <td>2.0</td>\n    </tr>\n    <tr>\n      <th>1</th>\n      <td>106.0</td>\n      <td>63.0</td>\n      <td>91.733333</td>\n      <td>58.266667</td>\n      <td>9.733333</td>\n      <td>29.0</td>\n      <td>3.342189</td>\n      <td>3.0</td>\n    </tr>\n    <tr>\n      <th>2</th>\n      <td>179.0</td>\n      <td>95.0</td>\n      <td>134.466667</td>\n      <td>65.200000</td>\n      <td>55.733333</td>\n      <td>33.0</td>\n      <td>4.693209</td>\n      <td>1.0</td>\n    </tr>\n    <tr>\n      <th>3</th>\n      <td>41.6</td>\n      <td>NaN</td>\n      <td>27.000000</td>\n      <td>NaN</td>\n      <td>16.666667</td>\n      <td>8.0</td>\n      <td>2.948527</td>\n      <td>NaN</td>\n    </tr>\n    <tr>\n      <th>4</th>\n      <td>75.0</td>\n      <td>37.0</td>\n      <td>46.600000</td>\n      <td>19.733333</td>\n      <td>20.066667</td>\n      <td>14.0</td>\n      <td>1.509013</td>\n      <td>4.0</td>\n    </tr>\n    <tr>\n      <th>...</th>\n      <td>...</td>\n      <td>...</td>\n      <td>...</td>\n      <td>...</td>\n      <td>...</td>\n      <td>...</td>\n      <td>...</td>\n      <td>...</td>\n    </tr>\n    <tr>\n      <th>140</th>\n      <td>NaN</td>\n      <td>NaN</td>\n      <td>NaN</td>\n      <td>NaN</td>\n      <td>NaN</td>\n      <td>NaN</td>\n      <td>NaN</td>\n      <td>NaN</td>\n    </tr>\n    <tr>\n      <th>141</th>\n      <td>NaN</td>\n      <td>NaN</td>\n      <td>NaN</td>\n      <td>NaN</td>\n      <td>NaN</td>\n      <td>NaN</td>\n      <td>NaN</td>\n      <td>NaN</td>\n    </tr>\n    <tr>\n      <th>142</th>\n      <td>54.0</td>\n      <td>31.0</td>\n      <td>48.400000</td>\n      <td>26.466667</td>\n      <td>NaN</td>\n      <td>18.0</td>\n      <td>2.143602</td>\n      <td>5.0</td>\n    </tr>\n    <tr>\n      <th>143</th>\n      <td>NaN</td>\n      <td>NaN</td>\n      <td>NaN</td>\n      <td>NaN</td>\n      <td>NaN</td>\n      <td>NaN</td>\n      <td>NaN</td>\n      <td>NaN</td>\n    </tr>\n    <tr>\n      <th>144</th>\n      <td>NaN</td>\n      <td>NaN</td>\n      <td>NaN</td>\n      <td>NaN</td>\n      <td>NaN</td>\n      <td>NaN</td>\n      <td>NaN</td>\n      <td>NaN</td>\n    </tr>\n  </tbody>\n</table>\n<p>145 rows × 8 columns</p>\n</div>"
     },
     "execution_count": 53,
     "metadata": {},
     "output_type": "execute_result"
    }
   ],
   "source": [
    "dfst[cols_X + [relevant_column]]"
   ],
   "metadata": {
    "collapsed": false,
    "ExecuteTime": {
     "end_time": "2024-07-12T10:29:17.091473Z",
     "start_time": "2024-07-12T10:29:17.063465Z"
    }
   },
   "id": "9604126c86feb3a6",
   "execution_count": 53
  },
  {
   "cell_type": "code",
   "outputs": [],
   "source": [
    "# ! pip install ace_tools"
   ],
   "metadata": {
    "collapsed": false,
    "ExecuteTime": {
     "end_time": "2024-07-12T10:29:18.314760Z",
     "start_time": "2024-07-12T10:29:18.307764Z"
    }
   },
   "id": "8e098242c941d54e",
   "execution_count": 54
  },
  {
   "cell_type": "markdown",
   "source": [
    "# Statistical testing"
   ],
   "metadata": {
    "collapsed": false
   },
   "id": "be3e91264ac41045"
  },
  {
   "cell_type": "code",
   "outputs": [
    {
     "name": "stdout",
     "output_type": "stream",
     "text": [
      "{'col_name': ['Stitch duration [s]', 'Knot duration [s]', 'Needle holder stitch visibility [s]', 'Needle holder knot visibility [s]', 'Forceps stitch visibility [s]', 'Needle holder stitch velocity above threshold', 'Needle holder stitch length [m]'], 'p_value_two-sided': [7.925858092633967e-07, 0.0001561136875284389, 0.0004186855705974712, 0.010408400764817981, 0.004369971084700192, 0.0004085772983195402, 0.0007888300340451512], 'p_value_less': [3.9629290463169834e-07, 7.805684376421945e-05, 0.0002093427852987356, 0.005204200382408991, 0.002184985542350096, 0.0002042886491597701, 0.0003944150170225756], 'p_value_greater': [0.9999996037070954, 0.9999219431562358, 0.9997906572147013, 0.994795799617591, 0.99781501445765, 0.9997957113508402, 0.9996055849829774], 't_stat_two-sided': [-6.830548153145789, -4.614786154950494, -4.383445325092779, -2.855864923253953, -3.3344157311609557, -4.191267334708782, -3.720812622704407], 't_stat_less': [-6.830548153145789, -4.614786154950494, -4.383445325092779, -2.855864923253953, -3.3344157311609557, -4.191267334708782, -3.720812622704407], 't_stat_greater': [-6.830548153145789, -4.614786154950494, -4.383445325092779, -2.855864923253953, -3.3344157311609557, -4.191267334708782, -3.720812622704407]}\n"
     ]
    },
    {
     "data": {
      "text/plain": "                                        col_name  p_value_two-sided  \\\n0                            Stitch duration [s]       7.925858e-07   \n1                              Knot duration [s]       1.561137e-04   \n2            Needle holder stitch visibility [s]       4.186856e-04   \n3              Needle holder knot visibility [s]       1.040840e-02   \n4                  Forceps stitch visibility [s]       4.369971e-03   \n5  Needle holder stitch velocity above threshold       4.085773e-04   \n6                Needle holder stitch length [m]       7.888300e-04   \n\n   p_value_less  p_value_greater  t_stat_two-sided  t_stat_less  \\\n0  3.962929e-07         1.000000         -6.830548    -6.830548   \n1  7.805684e-05         0.999922         -4.614786    -4.614786   \n2  2.093428e-04         0.999791         -4.383445    -4.383445   \n3  5.204200e-03         0.994796         -2.855865    -2.855865   \n4  2.184986e-03         0.997815         -3.334416    -3.334416   \n5  2.042886e-04         0.999796         -4.191267    -4.191267   \n6  3.944150e-04         0.999606         -3.720813    -3.720813   \n\n   t_stat_greater  \n0       -6.830548  \n1       -4.614786  \n2       -4.383445  \n3       -2.855865  \n4       -3.334416  \n5       -4.191267  \n6       -3.720813  ",
      "text/html": "<div>\n<style scoped>\n    .dataframe tbody tr th:only-of-type {\n        vertical-align: middle;\n    }\n\n    .dataframe tbody tr th {\n        vertical-align: top;\n    }\n\n    .dataframe thead th {\n        text-align: right;\n    }\n</style>\n<table border=\"1\" class=\"dataframe\">\n  <thead>\n    <tr style=\"text-align: right;\">\n      <th></th>\n      <th>col_name</th>\n      <th>p_value_two-sided</th>\n      <th>p_value_less</th>\n      <th>p_value_greater</th>\n      <th>t_stat_two-sided</th>\n      <th>t_stat_less</th>\n      <th>t_stat_greater</th>\n    </tr>\n  </thead>\n  <tbody>\n    <tr>\n      <th>0</th>\n      <td>Stitch duration [s]</td>\n      <td>7.925858e-07</td>\n      <td>3.962929e-07</td>\n      <td>1.000000</td>\n      <td>-6.830548</td>\n      <td>-6.830548</td>\n      <td>-6.830548</td>\n    </tr>\n    <tr>\n      <th>1</th>\n      <td>Knot duration [s]</td>\n      <td>1.561137e-04</td>\n      <td>7.805684e-05</td>\n      <td>0.999922</td>\n      <td>-4.614786</td>\n      <td>-4.614786</td>\n      <td>-4.614786</td>\n    </tr>\n    <tr>\n      <th>2</th>\n      <td>Needle holder stitch visibility [s]</td>\n      <td>4.186856e-04</td>\n      <td>2.093428e-04</td>\n      <td>0.999791</td>\n      <td>-4.383445</td>\n      <td>-4.383445</td>\n      <td>-4.383445</td>\n    </tr>\n    <tr>\n      <th>3</th>\n      <td>Needle holder knot visibility [s]</td>\n      <td>1.040840e-02</td>\n      <td>5.204200e-03</td>\n      <td>0.994796</td>\n      <td>-2.855865</td>\n      <td>-2.855865</td>\n      <td>-2.855865</td>\n    </tr>\n    <tr>\n      <th>4</th>\n      <td>Forceps stitch visibility [s]</td>\n      <td>4.369971e-03</td>\n      <td>2.184986e-03</td>\n      <td>0.997815</td>\n      <td>-3.334416</td>\n      <td>-3.334416</td>\n      <td>-3.334416</td>\n    </tr>\n    <tr>\n      <th>5</th>\n      <td>Needle holder stitch velocity above threshold</td>\n      <td>4.085773e-04</td>\n      <td>2.042886e-04</td>\n      <td>0.999796</td>\n      <td>-4.191267</td>\n      <td>-4.191267</td>\n      <td>-4.191267</td>\n    </tr>\n    <tr>\n      <th>6</th>\n      <td>Needle holder stitch length [m]</td>\n      <td>7.888300e-04</td>\n      <td>3.944150e-04</td>\n      <td>0.999606</td>\n      <td>-3.720813</td>\n      <td>-3.720813</td>\n      <td>-3.720813</td>\n    </tr>\n  </tbody>\n</table>\n</div>"
     },
     "execution_count": 55,
     "metadata": {},
     "output_type": "execute_result"
    }
   ],
   "source": [
    "import pandas as pd\n",
    "import scipy.stats as stats\n",
    "\n",
    "# Columns to compare\n",
    "# cols_with_0 = list(df_stats.index)  # Replace with your actual column names\n",
    "# relevant_column = \"is_pretest_num\"\n",
    "\n",
    "\n",
    "\n",
    "# DataFrames for each group\n",
    "pretest_df = dfst[dfst[relevant_column] > 2.5][[\"filename\"] + cols_X]\n",
    "posttest_df = dfst[dfst[relevant_column] <= 2.5][[\"filename\"] + cols_X]\n",
    "\n",
    "# Ensure both dataframes are sorted by the same criteria to maintain pairing\n",
    "pretest_df.sort_values(by=\"filename\", inplace=True)\n",
    "posttest_df.sort_values(by=\"filename\", inplace=True)\n",
    "\n",
    "\n",
    "# Perform t-tests\n",
    "t_stats = []\n",
    "p_values = []\n",
    "col_names =[]\n",
    "t_stats_less = []\n",
    "p_values_less = []\n",
    "col_names_less =[]\n",
    "t_stats_greater = []\n",
    "p_values_greater = []\n",
    "col_names_greater =[]\n",
    "\n",
    "data = {\n",
    "    \"col_name\": [],\n",
    "    \"p_value_two-sided\": [],\n",
    "    \"p_value_less\": [],\n",
    "    \"p_value_greater\": [],\n",
    "    \"t_stat_two-sided\": [],\n",
    "    \"t_stat_less\": [],\n",
    "    \"t_stat_greater\": [],\n",
    "}\n",
    "for col in cols_X:\n",
    "    try:\n",
    "        data[\"col_name\"].append(col)\n",
    "        for alternative in [\"two-sided\", \"less\", \"greater\"]:\n",
    "            \n",
    "            t_stat, p_value = stats.ttest_ind(pretest_df[col], posttest_df[col], equal_var=False, alternative=alternative, nan_policy='omit')  # Assuming unequal variance\n",
    "            data[f\"t_stat_{alternative}\"].append(t_stat)\n",
    "            data[f\"p_value_{alternative}\"].append(p_value)\n",
    "    except:\n",
    "        print(col)\n",
    "        import traceback\n",
    "        traceback.print_exc()\n",
    "\n",
    "# Collect the statistics in a DataFrame\n",
    "print(data)\n",
    "df_stats = pd.DataFrame(\n",
    "    data\n",
    ")\n",
    "\n",
    "\n",
    "df_stats"
   ],
   "metadata": {
    "collapsed": false,
    "ExecuteTime": {
     "end_time": "2024-07-12T10:29:20.320828Z",
     "start_time": "2024-07-12T10:29:20.264303Z"
    }
   },
   "id": "14a4fee43499974f",
   "execution_count": 55
  },
  {
   "cell_type": "code",
   "outputs": [
    {
     "name": "stderr",
     "output_type": "stream",
     "text": [
      "C:\\Users\\Jirik\\AppData\\Local\\Temp\\ipykernel_18748\\3326586540.py:1: FutureWarning:\n",
      "\n",
      "The default value of numeric_only in DataFrame.mean is deprecated. In a future version, it will default to False. In addition, specifying 'numeric_only=None' is deprecated. Select only valid columns or specify the value of numeric_only to silence this warning.\n",
      "\n"
     ]
    },
    {
     "data": {
      "text/plain": "Stitch duration [s]                              77.650000\nKnot duration [s]                                42.000000\nNeedle holder stitch visibility [s]              63.214414\nNeedle holder knot visibility [s]                31.987500\nForceps stitch visibility [s]                    29.301010\nNeedle holder stitch velocity above threshold    19.864865\nNeedle holder stitch length [m]                   2.349106\ndtype: float64"
     },
     "execution_count": 56,
     "metadata": {},
     "output_type": "execute_result"
    }
   ],
   "source": [
    "pretest_df.mean()\n"
   ],
   "metadata": {
    "collapsed": false,
    "ExecuteTime": {
     "end_time": "2024-07-12T10:29:21.280630Z",
     "start_time": "2024-07-12T10:29:21.270628Z"
    }
   },
   "id": "88e39f1aa752d408",
   "execution_count": 56
  },
  {
   "cell_type": "code",
   "outputs": [
    {
     "name": "stderr",
     "output_type": "stream",
     "text": [
      "C:\\Users\\Jirik\\AppData\\Local\\Temp\\ipykernel_18748\\3993572716.py:1: FutureWarning:\n",
      "\n",
      "The default value of numeric_only in DataFrame.mean is deprecated. In a future version, it will default to False. In addition, specifying 'numeric_only=None' is deprecated. Select only valid columns or specify the value of numeric_only to silence this warning.\n",
      "\n"
     ]
    },
    {
     "data": {
      "text/plain": "Stitch duration [s]                              141.812500\nKnot duration [s]                                 68.437500\nNeedle holder stitch visibility [s]              108.209524\nNeedle holder knot visibility [s]                 46.942857\nForceps stitch visibility [s]                     58.771429\nNeedle holder stitch velocity above threshold     30.928571\nNeedle holder stitch length [m]                    3.287517\ndtype: float64"
     },
     "execution_count": 57,
     "metadata": {},
     "output_type": "execute_result"
    }
   ],
   "source": [
    "posttest_df.mean()"
   ],
   "metadata": {
    "collapsed": false,
    "ExecuteTime": {
     "end_time": "2024-07-12T10:29:22.350329Z",
     "start_time": "2024-07-12T10:29:22.332329Z"
    }
   },
   "id": "20ecdea8d39ff8bb",
   "execution_count": 57
  },
  {
   "cell_type": "markdown",
   "source": [
    "## Find general correlation\n",
    "\n"
   ],
   "metadata": {
    "collapsed": false
   },
   "id": "a4d30e78bd28e63a"
  },
  {
   "cell_type": "code",
   "outputs": [],
   "source": [
    "# cols"
   ],
   "metadata": {
    "collapsed": false,
    "ExecuteTime": {
     "end_time": "2024-07-12T10:29:22.998663Z",
     "start_time": "2024-07-12T10:29:22.994663Z"
    }
   },
   "id": "120d45b67f00a185",
   "execution_count": 58
  },
  {
   "cell_type": "code",
   "outputs": [],
   "source": [
    "# list(cols)"
   ],
   "metadata": {
    "collapsed": false,
    "ExecuteTime": {
     "end_time": "2024-07-12T10:29:24.217378Z",
     "start_time": "2024-07-12T10:29:24.203854Z"
    }
   },
   "id": "f8f58e85c36c83c",
   "execution_count": 59
  },
  {
   "cell_type": "code",
   "outputs": [],
   "source": [
    "# try to find the best columns to predict stars_auto\n",
    "\n",
    "\n",
    "# corr = dfs.corr(numeric_only=True)\n",
    "# numeric_cols = corr.columns[corr.columns.str.contains(\"annotation_annotation\")]\n",
    "# corr = corr[numeric_cols].abs()# .sort_values(by=\"annotation_annotation_stars\", ascending=False).head(10)\n",
    "# # keep just rows not containing \"annotation_annotation\" in the index\n",
    "# corr = corr[~corr.index.str.contains(\"annotation_annotation\")]\n",
    "# \n",
    "# # [list(cols)].abs()# .sort_values(ascending=False).head(10)\n",
    "# # corr = corr[corr.index != \"stars_auto\"] \n",
    "# \n",
    "# corr"
   ],
   "metadata": {
    "collapsed": false,
    "ExecuteTime": {
     "end_time": "2024-07-12T10:29:24.973687Z",
     "start_time": "2024-07-12T10:29:24.954686Z"
    }
   },
   "id": "ff31bf56274927c7",
   "execution_count": 60
  },
  {
   "cell_type": "code",
   "outputs": [
    {
     "data": {
      "text/plain": "0.7962570760615516"
     },
     "execution_count": 61,
     "metadata": {},
     "output_type": "execute_result"
    }
   ],
   "source": [
    "# argmax in dataframe\n",
    "corr.loc[corr.idxmax()]"
   ],
   "metadata": {
    "collapsed": false,
    "ExecuteTime": {
     "end_time": "2024-07-12T10:29:25.526528Z",
     "start_time": "2024-07-12T10:29:25.519520Z"
    }
   },
   "id": "7b3db07430e3219c",
   "execution_count": 61
  },
  {
   "cell_type": "code",
   "outputs": [],
   "source": [
    "# dfs[[\"annotation_annotation_knots_are_done_right\", 'filename']]"
   ],
   "metadata": {
    "collapsed": false,
    "ExecuteTime": {
     "end_time": "2024-07-12T10:29:26.222353Z",
     "start_time": "2024-07-12T10:29:26.204122Z"
    }
   },
   "id": "dc1f60eba3c3ac0a",
   "execution_count": 62
  },
  {
   "cell_type": "markdown",
   "id": "38565d3a-fde1-4cb2-9999-6febfa393d6b",
   "metadata": {},
   "source": [
    "# Train predictor"
   ]
  },
  {
   "cell_type": "code",
   "outputs": [
    {
     "name": "stdout",
     "output_type": "stream",
     "text": [
      "(7,)\n",
      "(7,)\n"
     ]
    }
   ],
   "source": [
    "print(corr.shape)\n",
    "corr = corr.dropna()\n",
    "print(corr.shape)\n"
   ],
   "metadata": {
    "collapsed": false,
    "ExecuteTime": {
     "end_time": "2024-07-12T10:29:27.547885Z",
     "start_time": "2024-07-12T10:29:27.529881Z"
    }
   },
   "id": "fc30ef00af707cf2",
   "execution_count": 63
  },
  {
   "cell_type": "code",
   "outputs": [
    {
     "data": {
      "text/plain": "Index(['Stitch duration [s]', 'Knot duration [s]',\n       'Needle holder stitch visibility [s]',\n       'Needle holder knot visibility [s]', 'Forceps stitch visibility [s]',\n       'Needle holder stitch velocity above threshold',\n       'Needle holder stitch length [m]'],\n      dtype='object')"
     },
     "execution_count": 64,
     "metadata": {},
     "output_type": "execute_result"
    }
   ],
   "source": [
    "corr.index"
   ],
   "metadata": {
    "collapsed": false,
    "ExecuteTime": {
     "end_time": "2024-07-12T10:29:28.889877Z",
     "start_time": "2024-07-12T10:29:28.879879Z"
    }
   },
   "id": "93e84aa713918bd",
   "execution_count": 64
  },
  {
   "cell_type": "code",
   "execution_count": 65,
   "id": "156ae14a777fe3fc",
   "metadata": {
    "collapsed": false,
    "tags": [],
    "ExecuteTime": {
     "end_time": "2024-07-12T10:29:31.101245Z",
     "start_time": "2024-07-12T10:29:30.200251Z"
    }
   },
   "outputs": [
    {
     "name": "stdout",
     "output_type": "stream",
     "text": [
      "['movement evaluation stitch']\n"
     ]
    }
   ],
   "source": [
    "import sklearn\n",
    "# train a model to predict stars_auto\n",
    "from sklearn.linear_model import LinearRegression\n",
    "from sklearn.model_selection import train_test_split\n",
    "from sklearn.metrics import mean_squared_error, r2_score\n",
    "# import SVM\n",
    "from sklearn.svm import SVR\n",
    "# sample_id_cols = [\"filename\", \"stitch_id\"]\n",
    "#train a model to predict stars_auto\n",
    "\n",
    "predicted_columns = [relevant_column]  # list(corr.columns[corr.columns.str.contains(\"is_pretest_num\")])\n",
    "# columns = list(corr.index[~corr.index.str.contains(relevant_column)])\n",
    "# columns = cols_X + sample_id_cols\n",
    "# columns = list(corr.index)\n",
    "# columns.append(\"filename\")\n",
    "print(predicted_columns)\n",
    "# print(columns)\n",
    "\n"
   ]
  },
  {
   "cell_type": "code",
   "outputs": [],
   "source": [],
   "metadata": {
    "collapsed": false,
    "ExecuteTime": {
     "end_time": "2024-07-12T10:29:31.521622Z",
     "start_time": "2024-07-12T10:29:31.513103Z"
    }
   },
   "id": "d0411e42ff09cba6",
   "execution_count": 65
  },
  {
   "cell_type": "markdown",
   "source": [
    "### Remove NA values"
   ],
   "metadata": {
    "collapsed": false
   },
   "id": "fdaa2bd60b9f2c27"
  },
  {
   "cell_type": "code",
   "outputs": [],
   "source": [
    "# remove known problematic columns\n",
    "\n",
    "# # remove row with index 1708\n",
    "# if 1708 in dfs.index:\n",
    "#     dfs = dfs.drop(1708)\n",
    "# \n",
    "# if 1667 in dfs.index:\n",
    "#     dfs = dfs.drop(1667)\n",
    "# \n",
    "# # remove \"qr_data_pix_size_single_frame_detector_m\" from the columns\n",
    "# if \"qr_data_pix_size_single_frame_detector_m\" in columns:\n",
    "#     columns.remove(\"qr_data_pix_size_single_frame_detector_m\")\n",
    "\n",
    "# dfs[cols].isna().sum()\n"
   ],
   "metadata": {
    "collapsed": false,
    "ExecuteTime": {
     "end_time": "2024-07-12T10:29:32.980954Z",
     "start_time": "2024-07-12T10:29:32.966953Z"
    }
   },
   "id": "f8cb29b734476f56",
   "execution_count": 66
  },
  {
   "cell_type": "code",
   "outputs": [
    {
     "data": {
      "text/plain": "                                              filename  stitch_id  \\\n0                  Medium-RPReplay_Final1634048018.mp4          0   \n1                               Medium-Schweinefu_.mp4          0   \n2        Bildschirmaufnahme_2022-10-11_um_11.20.24.mov          0   \n3                         11.4.2024.HarmsSören.NHT.mp4          0   \n4                          Pre_-Test_Isabel_Linden.mp4          0   \n..                                                 ...        ...   \n140              Einzelknopfnaht_Elena.Vai-Wieting.mov          4   \n141  EinzelknopfnahtamSchweinefuss_Muenzner_Simeon.mp4          4   \n142                     Stresstest_Einzelknopfnaht.mp4          4   \n143  Bad-2021_11_03_B_V_lz__Ann_Sophie_Einzelknopfn...          4   \n144  Bad-2021_11_03_A_Petersen_Insa_Einzelknopfnaht...          4   \n\n                                              filename  stitch_id  \\\n0                  Medium-RPReplay_Final1634048018.mp4          0   \n1                               Medium-Schweinefu_.mp4          0   \n2        Bildschirmaufnahme_2022-10-11_um_11.20.24.mov          0   \n3                         11.4.2024.HarmsSören.NHT.mp4          0   \n4                          Pre_-Test_Isabel_Linden.mp4          0   \n..                                                 ...        ...   \n140              Einzelknopfnaht_Elena.Vai-Wieting.mov          4   \n141  EinzelknopfnahtamSchweinefuss_Muenzner_Simeon.mp4          4   \n142                     Stresstest_Einzelknopfnaht.mp4          4   \n143  Bad-2021_11_03_B_V_lz__Ann_Sophie_Einzelknopfn...          4   \n144  Bad-2021_11_03_A_Petersen_Insa_Einzelknopfnaht...          4   \n\n     Stitch duration [s]  Knot duration [s]  \\\n0                  152.0              100.0   \n1                  106.0               63.0   \n2                  179.0               95.0   \n3                   41.6                NaN   \n4                   75.0               37.0   \n..                   ...                ...   \n140                  NaN                NaN   \n141                  NaN                NaN   \n142                 54.0               31.0   \n143                  NaN                NaN   \n144                  NaN                NaN   \n\n     Needle holder stitch visibility [s]  Needle holder knot visibility [s]  \\\n0                             113.866667                          66.800000   \n1                              91.733333                          58.266667   \n2                             134.466667                          65.200000   \n3                              27.000000                                NaN   \n4                              46.600000                          19.733333   \n..                                   ...                                ...   \n140                                  NaN                                NaN   \n141                                  NaN                                NaN   \n142                            48.400000                          26.466667   \n143                                  NaN                                NaN   \n144                                  NaN                                NaN   \n\n     Forceps stitch visibility [s]  \\\n0                        43.466667   \n1                         9.733333   \n2                        55.733333   \n3                        16.666667   \n4                        20.066667   \n..                             ...   \n140                            NaN   \n141                            NaN   \n142                            NaN   \n143                            NaN   \n144                            NaN   \n\n     Needle holder stitch velocity above threshold  \\\n0                                             36.0   \n1                                             29.0   \n2                                             33.0   \n3                                              8.0   \n4                                             14.0   \n..                                             ...   \n140                                            NaN   \n141                                            NaN   \n142                                           18.0   \n143                                            NaN   \n144                                            NaN   \n\n     Needle holder stitch length [m]  \n0                           3.463331  \n1                           3.342189  \n2                           4.693209  \n3                           2.948527  \n4                           1.509013  \n..                               ...  \n140                              NaN  \n141                              NaN  \n142                         2.143602  \n143                              NaN  \n144                              NaN  \n\n[145 rows x 11 columns]",
      "text/html": "<div>\n<style scoped>\n    .dataframe tbody tr th:only-of-type {\n        vertical-align: middle;\n    }\n\n    .dataframe tbody tr th {\n        vertical-align: top;\n    }\n\n    .dataframe thead th {\n        text-align: right;\n    }\n</style>\n<table border=\"1\" class=\"dataframe\">\n  <thead>\n    <tr style=\"text-align: right;\">\n      <th></th>\n      <th>filename</th>\n      <th>stitch_id</th>\n      <th>filename</th>\n      <th>stitch_id</th>\n      <th>Stitch duration [s]</th>\n      <th>Knot duration [s]</th>\n      <th>Needle holder stitch visibility [s]</th>\n      <th>Needle holder knot visibility [s]</th>\n      <th>Forceps stitch visibility [s]</th>\n      <th>Needle holder stitch velocity above threshold</th>\n      <th>Needle holder stitch length [m]</th>\n    </tr>\n  </thead>\n  <tbody>\n    <tr>\n      <th>0</th>\n      <td>Medium-RPReplay_Final1634048018.mp4</td>\n      <td>0</td>\n      <td>Medium-RPReplay_Final1634048018.mp4</td>\n      <td>0</td>\n      <td>152.0</td>\n      <td>100.0</td>\n      <td>113.866667</td>\n      <td>66.800000</td>\n      <td>43.466667</td>\n      <td>36.0</td>\n      <td>3.463331</td>\n    </tr>\n    <tr>\n      <th>1</th>\n      <td>Medium-Schweinefu_.mp4</td>\n      <td>0</td>\n      <td>Medium-Schweinefu_.mp4</td>\n      <td>0</td>\n      <td>106.0</td>\n      <td>63.0</td>\n      <td>91.733333</td>\n      <td>58.266667</td>\n      <td>9.733333</td>\n      <td>29.0</td>\n      <td>3.342189</td>\n    </tr>\n    <tr>\n      <th>2</th>\n      <td>Bildschirmaufnahme_2022-10-11_um_11.20.24.mov</td>\n      <td>0</td>\n      <td>Bildschirmaufnahme_2022-10-11_um_11.20.24.mov</td>\n      <td>0</td>\n      <td>179.0</td>\n      <td>95.0</td>\n      <td>134.466667</td>\n      <td>65.200000</td>\n      <td>55.733333</td>\n      <td>33.0</td>\n      <td>4.693209</td>\n    </tr>\n    <tr>\n      <th>3</th>\n      <td>11.4.2024.HarmsSören.NHT.mp4</td>\n      <td>0</td>\n      <td>11.4.2024.HarmsSören.NHT.mp4</td>\n      <td>0</td>\n      <td>41.6</td>\n      <td>NaN</td>\n      <td>27.000000</td>\n      <td>NaN</td>\n      <td>16.666667</td>\n      <td>8.0</td>\n      <td>2.948527</td>\n    </tr>\n    <tr>\n      <th>4</th>\n      <td>Pre_-Test_Isabel_Linden.mp4</td>\n      <td>0</td>\n      <td>Pre_-Test_Isabel_Linden.mp4</td>\n      <td>0</td>\n      <td>75.0</td>\n      <td>37.0</td>\n      <td>46.600000</td>\n      <td>19.733333</td>\n      <td>20.066667</td>\n      <td>14.0</td>\n      <td>1.509013</td>\n    </tr>\n    <tr>\n      <th>...</th>\n      <td>...</td>\n      <td>...</td>\n      <td>...</td>\n      <td>...</td>\n      <td>...</td>\n      <td>...</td>\n      <td>...</td>\n      <td>...</td>\n      <td>...</td>\n      <td>...</td>\n      <td>...</td>\n    </tr>\n    <tr>\n      <th>140</th>\n      <td>Einzelknopfnaht_Elena.Vai-Wieting.mov</td>\n      <td>4</td>\n      <td>Einzelknopfnaht_Elena.Vai-Wieting.mov</td>\n      <td>4</td>\n      <td>NaN</td>\n      <td>NaN</td>\n      <td>NaN</td>\n      <td>NaN</td>\n      <td>NaN</td>\n      <td>NaN</td>\n      <td>NaN</td>\n    </tr>\n    <tr>\n      <th>141</th>\n      <td>EinzelknopfnahtamSchweinefuss_Muenzner_Simeon.mp4</td>\n      <td>4</td>\n      <td>EinzelknopfnahtamSchweinefuss_Muenzner_Simeon.mp4</td>\n      <td>4</td>\n      <td>NaN</td>\n      <td>NaN</td>\n      <td>NaN</td>\n      <td>NaN</td>\n      <td>NaN</td>\n      <td>NaN</td>\n      <td>NaN</td>\n    </tr>\n    <tr>\n      <th>142</th>\n      <td>Stresstest_Einzelknopfnaht.mp4</td>\n      <td>4</td>\n      <td>Stresstest_Einzelknopfnaht.mp4</td>\n      <td>4</td>\n      <td>54.0</td>\n      <td>31.0</td>\n      <td>48.400000</td>\n      <td>26.466667</td>\n      <td>NaN</td>\n      <td>18.0</td>\n      <td>2.143602</td>\n    </tr>\n    <tr>\n      <th>143</th>\n      <td>Bad-2021_11_03_B_V_lz__Ann_Sophie_Einzelknopfn...</td>\n      <td>4</td>\n      <td>Bad-2021_11_03_B_V_lz__Ann_Sophie_Einzelknopfn...</td>\n      <td>4</td>\n      <td>NaN</td>\n      <td>NaN</td>\n      <td>NaN</td>\n      <td>NaN</td>\n      <td>NaN</td>\n      <td>NaN</td>\n      <td>NaN</td>\n    </tr>\n    <tr>\n      <th>144</th>\n      <td>Bad-2021_11_03_A_Petersen_Insa_Einzelknopfnaht...</td>\n      <td>4</td>\n      <td>Bad-2021_11_03_A_Petersen_Insa_Einzelknopfnaht...</td>\n      <td>4</td>\n      <td>NaN</td>\n      <td>NaN</td>\n      <td>NaN</td>\n      <td>NaN</td>\n      <td>NaN</td>\n      <td>NaN</td>\n      <td>NaN</td>\n    </tr>\n  </tbody>\n</table>\n<p>145 rows × 11 columns</p>\n</div>"
     },
     "execution_count": 67,
     "metadata": {},
     "output_type": "execute_result"
    }
   ],
   "source": [
    "dfst[[\"filename\", \"stitch_id\"] + sample_id_cols + cols_X]"
   ],
   "metadata": {
    "collapsed": false,
    "ExecuteTime": {
     "end_time": "2024-07-12T10:29:35.370705Z",
     "start_time": "2024-07-12T10:29:35.338705Z"
    }
   },
   "id": "72ceda9012b6d362",
   "execution_count": 67
  },
  {
   "cell_type": "code",
   "outputs": [
    {
     "data": {
      "text/plain": "Needle holder knot visibility [s]                99\nKnot duration [s]                                95\nForceps stitch visibility [s]                    95\nNeedle holder stitch visibility [s]              91\nNeedle holder stitch velocity above threshold    91\nNeedle holder stitch length [m]                  91\nStitch duration [s]                              86\nfilename                                          0\nstitch_id                                         0\ndtype: int64"
     },
     "execution_count": 68,
     "metadata": {},
     "output_type": "execute_result"
    }
   ],
   "source": [
    "\n",
    "# count NA values in columns\n",
    "\n",
    "dfst[cols_X + sample_id_cols].isna().sum().sort_values(ascending=False)\n"
   ],
   "metadata": {
    "collapsed": false,
    "ExecuteTime": {
     "end_time": "2024-07-12T10:29:36.443080Z",
     "start_time": "2024-07-12T10:29:36.430080Z"
    }
   },
   "id": "e5dbd7d5647583f4",
   "execution_count": 68
  },
  {
   "cell_type": "code",
   "outputs": [
    {
     "data": {
      "text/plain": "72     7\n88     7\n105    7\n104    7\n103    7\n      ..\n25     0\n118    0\n24     0\n44     0\n0      0\nLength: 145, dtype: int64"
     },
     "execution_count": 69,
     "metadata": {},
     "output_type": "execute_result"
    }
   ],
   "source": [
    "dfst[cols_X + sample_id_cols].isna().sum(axis=1).sort_values(ascending=False)"
   ],
   "metadata": {
    "collapsed": false,
    "ExecuteTime": {
     "end_time": "2024-07-12T10:29:37.295597Z",
     "start_time": "2024-07-12T10:29:37.267597Z"
    }
   },
   "id": "bce585c0e7450327",
   "execution_count": 69
  },
  {
   "cell_type": "code",
   "outputs": [
    {
     "data": {
      "text/plain": "                                              filename  \\\n0                  Medium-RPReplay_Final1634048018.mp4   \n1                               Medium-Schweinefu_.mp4   \n2        Bildschirmaufnahme_2022-10-11_um_11.20.24.mov   \n4                          Pre_-Test_Isabel_Linden.mp4   \n5                               Gehrke,Yves - post.mp4   \n6                             Hilger,Anke-Posttest.mp4   \n7                        Schiesser_David_post_test.mp4   \n8                      Fehringer_Pascal__post_test.mp4   \n9    Bad-12_10_21__Loewe__Rebekka__Einzelknopfnaht.mp4   \n10   Bad-2021_11_03_A_Spitze_Vanessa_Einzelknopfnah...   \n11   Good-2021_10_27_B_Etzel_Peter_Einzelknopfnaht_...   \n12   Bad-2021_11_3_A_Brodersen___nne_Einzelknopfnah...   \n13   Medium-2021_11_03_A_Tengler_Sophie_Einzelknopf...   \n14   medium-2021_11_03_A_Tengler_Sophie_Einzelknopf...   \n15                  Good-Einzelknopfnaht_Stoklossa.mp4   \n16   Medium-2021_11_03_A_Seifert_Johanna_Einzelknop...   \n17   Bad-2021_11_03_A_Noll_Alexander_Einzelknopfnah...   \n18   Bad-3_11_21_B_Grumt_Alina_Einzelknopfnaht_Schw...   \n19   Good-Schmidt_Elisabeth_Einzelknotennaht_11_10_...   \n20                Good-Schweinefu__Einzelknopfnaht.mp4   \n21    Bad-03_11_21_B_Hopfe_Johanna_Einzelknopfnaht.mp4   \n22   2023-02-21_SchuldtSalome_Einzelknopfnaht_am_Sc...   \n23                    Einzelknopfnaht_Lina_Schäfer.mp4   \n24               Einzelknopfnaht_Elena.Vai-Wieting.mov   \n25   EinzelknopfnahtamSchweinefuss_Muenzner_Simeon.mp4   \n26                      Stresstest_Einzelknopfnaht.mp4   \n27   Bad-2021_11_03_B_V_lz__Ann_Sophie_Einzelknopfn...   \n28   Bad-2021_11_03_A_Petersen_Insa_Einzelknopfnaht...   \n31       Bildschirmaufnahme_2022-10-11_um_11.20.24.mov   \n33                         Pre_-Test_Isabel_Linden.mp4   \n34                              Gehrke,Yves - post.mp4   \n35                            Hilger,Anke-Posttest.mp4   \n36                       Schiesser_David_post_test.mp4   \n41   Bad-2021_11_3_A_Brodersen___nne_Einzelknopfnah...   \n44                  Good-Einzelknopfnaht_Stoklossa.mp4   \n45   Medium-2021_11_03_A_Seifert_Johanna_Einzelknop...   \n46   Bad-2021_11_03_A_Noll_Alexander_Einzelknopfnah...   \n53               Einzelknopfnaht_Elena.Vai-Wieting.mov   \n54   EinzelknopfnahtamSchweinefuss_Muenzner_Simeon.mp4   \n55                      Stresstest_Einzelknopfnaht.mp4   \n60       Bildschirmaufnahme_2022-10-11_um_11.20.24.mov   \n64                            Hilger,Anke-Posttest.mp4   \n65                       Schiesser_David_post_test.mp4   \n84                      Stresstest_Einzelknopfnaht.mp4   \n89       Bildschirmaufnahme_2022-10-11_um_11.20.24.mov   \n93                            Hilger,Anke-Posttest.mp4   \n94                       Schiesser_David_post_test.mp4   \n113                     Stresstest_Einzelknopfnaht.mp4   \n118      Bildschirmaufnahme_2022-10-11_um_11.20.24.mov   \n122                           Hilger,Anke-Posttest.mp4   \n142                     Stresstest_Einzelknopfnaht.mp4   \n\n                      annotation_annotation_annotation  \\\n0    00:00:07 grab needle holder more in the back\\r...   \n1    00:00:05 start\\r\\n00:01:49 end\\r\\n00:00:30 Tak...   \n2    00:00:17 stitch_start\\r\\n00:01:41 knot_start\\r...   \n4    00:00:09 stitch_start\\r\\n00:00:47 knot_start\\r...   \n5    00:00:02 stitch_start \\r\\n00:00:36 knot_start\\...   \n6    00:00:06 stitch_start\\r\\n00:00:45 knot\\r\\n00:0...   \n7    00:00:04 stitch_start\\r\\n00:00:47 knot_start\\r...   \n8    00:00:02 stitch_start\\r\\n00:00:38 knot_start\\r...   \n9    00:00:05 forceps are placed in the right posit...   \n10   00:00:01 suture geomtry drawing is uneven from...   \n11   00:00:08 setup is mostly good. there is a pen ...   \n12   00:00:02 6 stitches instead of 5\\r\\n00:00:02 i...   \n13   00:00:02 setup of desk is nice\\r\\n00:00:06 nee...   \n14   00:00:07 thumb is not taken out of needle hold...   \n15   00:00:03 needle grabbed pretty far in the back...   \n16   00:00:24 wound edge is only lifted with forcep...   \n17   00:00:18 Needle is grabbed pretty far in the b...   \n18   00:00:14 Forceps is grabbed wrong\\r\\n00:00:36 ...   \n19   00:00:38 Thumb is not taken out of needle hold...   \n20   00:00:03 Needle grabbed rather far in the back...   \n21   00:00:11 Needle is grabbed too far in the back...   \n22   00:00:30 stitch_start\\r\\n00:01:00 a lot of mov...   \n23   sehr gut, etwas aufpassen weger der Nadel, es ...   \n24   00:00:02 stitch_start\\r\\n00:00:43 knot_start\\r...   \n25   Die Nahtgeometrie sieht nicht 100% symmetrisch...   \n26   Das Ergebnis finde ich sehr schön. Die Wundrän...   \n27   00:00:02 setup good\\r\\n00:00:07 wrong directio...   \n28   00:00:02 scissors missing from setup\\r\\n00:00:...   \n31   00:00:17 stitch_start\\r\\n00:01:41 knot_start\\r...   \n33   00:00:09 stitch_start\\r\\n00:00:47 knot_start\\r...   \n34   00:00:02 stitch_start \\r\\n00:00:36 knot_start\\...   \n35   00:00:06 stitch_start\\r\\n00:00:45 knot\\r\\n00:0...   \n36   00:00:04 stitch_start\\r\\n00:00:47 knot_start\\r...   \n41   00:00:02 6 stitches instead of 5\\r\\n00:00:02 i...   \n44   00:00:03 needle grabbed pretty far in the back...   \n45   00:00:24 wound edge is only lifted with forcep...   \n46   00:00:18 Needle is grabbed pretty far in the b...   \n53   00:00:02 stitch_start\\r\\n00:00:43 knot_start\\r...   \n54   Die Nahtgeometrie sieht nicht 100% symmetrisch...   \n55   Das Ergebnis finde ich sehr schön. Die Wundrän...   \n60   00:00:17 stitch_start\\r\\n00:01:41 knot_start\\r...   \n64   00:00:06 stitch_start\\r\\n00:00:45 knot\\r\\n00:0...   \n65   00:00:04 stitch_start\\r\\n00:00:47 knot_start\\r...   \n84   Das Ergebnis finde ich sehr schön. Die Wundrän...   \n89   00:00:17 stitch_start\\r\\n00:01:41 knot_start\\r...   \n93   00:00:06 stitch_start\\r\\n00:00:45 knot\\r\\n00:0...   \n94   00:00:04 stitch_start\\r\\n00:00:47 knot_start\\r...   \n113  Das Ergebnis finde ich sehr schön. Die Wundrän...   \n118  00:00:17 stitch_start\\r\\n00:01:41 knot_start\\r...   \n122  00:00:06 stitch_start\\r\\n00:00:45 knot\\r\\n00:0...   \n142  Das Ergebnis finde ich sehr schön. Die Wundrän...   \n\n     annotation_annotation_time_and_movements  \\\n0                                         2.0   \n1                                         1.0   \n2                                         1.0   \n4                                         1.0   \n5                                         1.0   \n6                                         1.0   \n7                                         1.0   \n8                                         1.0   \n9                                         1.0   \n10                                        2.0   \n11                                        2.0   \n12                                        2.0   \n13                                        3.0   \n14                                        3.0   \n15                                        2.0   \n16                                        3.0   \n17                                        2.0   \n18                                        1.0   \n19                                        1.0   \n20                                        2.0   \n21                                        2.0   \n22                                        1.0   \n23                                        4.0   \n24                                        1.0   \n25                                        5.0   \n26                                        1.0   \n27                                        2.0   \n28                                        1.0   \n31                                        1.0   \n33                                        1.0   \n34                                        1.0   \n35                                        1.0   \n36                                        1.0   \n41                                        2.0   \n44                                        2.0   \n45                                        3.0   \n46                                        2.0   \n53                                        1.0   \n54                                        5.0   \n55                                        1.0   \n60                                        1.0   \n64                                        1.0   \n65                                        1.0   \n84                                        1.0   \n89                                        1.0   \n93                                        1.0   \n94                                        1.0   \n113                                       1.0   \n118                                       1.0   \n122                                       1.0   \n142                                       1.0   \n\n     Needle holder stitch length [m]  Needle holder stitch visibility [s]  \\\n0                           3.463331                           113.866667   \n1                           3.342189                            91.733333   \n2                           4.693209                           134.466667   \n4                           1.509013                            46.600000   \n5                           2.837274                            65.666667   \n6                           1.361027                            39.400000   \n7                           2.732524                            62.200000   \n8                           3.598281                            71.533333   \n9                           3.310875                           218.133333   \n10                          4.082597                           107.733333   \n11                          3.105033                            76.000000   \n12                          2.506542                            89.800000   \n13                          1.654161                            44.666667   \n14                          1.715387                            45.600000   \n15                          1.546707                            89.533333   \n16                          1.765487                            50.733333   \n17                          6.089911                            74.666667   \n18                          2.999488                            75.200000   \n19                          2.074785                           114.600000   \n20                          1.878307                            58.200000   \n21                          1.991932                            91.466667   \n22                          3.293846                            87.733333   \n23                          2.698621                           101.133333   \n24                          3.138940                            89.333333   \n25                          2.059378                            97.000000   \n26                          1.882233                            41.333333   \n27                          2.687447                            94.066667   \n28                          3.738971                            95.600000   \n31                          4.262387                            90.333333   \n33                          2.708059                            88.066667   \n34                          1.857190                            52.666667   \n35                          1.759018                            34.800000   \n36                          1.822945                            47.266667   \n41                          3.617267                           112.666667   \n44                          2.715956                           109.666667   \n45                          1.715668                            45.066667   \n46                          4.609267                            61.400000   \n53                          2.368281                            65.933333   \n54                          1.546936                            77.733333   \n55                          1.736056                            51.200000   \n60                          3.418498                           106.866667   \n64                          1.869415                            48.133333   \n65                          1.869419                            34.733333   \n84                          2.032978                            53.933333   \n89                          2.883931                            95.200000   \n93                          1.539333                            32.666667   \n94                          2.658392                            47.933333   \n113                         2.155144                            57.800000   \n118                         2.382955                            86.200000   \n122                         1.511959                            37.200000   \n142                         2.143602                            48.400000   \n\n     Needle holder stitch velocity Needle holder stitch unit  \\\n0                         0.022641                         m   \n1                         0.031544                         m   \n2                         0.028877                         m   \n4                         0.020504                         m   \n5                         0.035097                         m   \n6                         0.025297                         m   \n7                         0.038436                         m   \n8                         0.041703                         m   \n9                         0.013602                         m   \n10                        0.029862                         m   \n11                        0.032285                         m   \n12                        0.016543                         m   \n13                        0.029267                         m   \n14                        0.030012                         m   \n15                        0.016229                         m   \n16                        0.025497                         m   \n17                        0.075937                         m   \n18                        0.027103                         m   \n19                        0.016838                         m   \n20                        0.028085                         m   \n21                        0.016751                         m   \n22                        0.024598                         m   \n23                        0.020150                         m   \n24                        0.028869                         m   \n25                        0.016976                         m   \n26                        0.032319                         m   \n27                        0.025186                         m   \n28                        0.031181                         m   \n31                        0.035085                         m   \n33                        0.022859                         m   \n34                        0.029486                         m   \n35                        0.039974                         m   \n36                        0.033677                         m   \n41                        0.024557                         m   \n44                        0.021665                         m   \n45                        0.028067                         m   \n46                        0.063194                         m   \n53                        0.029865                         m   \n54                        0.013490                         m   \n55                        0.027750                         m   \n60                        0.027248                         m   \n64                        0.033274                         m   \n65                        0.041924                         m   \n84                        0.031662                         m   \n89                        0.025955                         m   \n93                        0.043567                         m   \n94                        0.041866                         m   \n113                       0.031399                         m   \n118                       0.024304                         m   \n122                       0.034609                         m   \n142                       0.035816                         m   \n\n     Needle holder stitch visibility [%]  \\\n0                              74.912281   \n1                              86.540881   \n2                              75.121043   \n4                              62.133333   \n5                              91.203704   \n6                              70.357143   \n7                              91.470588   \n8                              87.235772   \n9                              92.822695   \n10                             86.186667   \n11                             82.608696   \n12                             68.549618   \n13                             82.716049   \n14                             82.909091   \n15                             95.248227   \n16                             87.471264   \n17                             85.823755   \n18                             65.964912   \n19                             89.531250   \n20                             78.648649   \n21                             81.666667   \n22                             51.913215   \n23                             80.264550   \n24                             85.079365   \n25                             80.833333   \n26                             59.047619   \n27                             94.066667   \n28                             85.357143   \n31                             68.434343   \n33                             71.021505   \n34                             86.338798   \n35                             80.930233   \n36                             89.182390   \n41                             75.615213   \n44                             82.456140   \n45                             85.031447   \n46                             68.988764   \n53                             85.627706   \n54                             70.666667   \n55                             80.000000   \n60                             82.842377   \n64                             85.952381   \n65                             75.507246   \n84                             89.888889   \n89                             78.677686   \n93                             79.674797   \n94                             82.643678   \n113                            93.225806   \n118                            85.346535   \n122                            86.511628   \n142                            89.629630   \n\n     Needle holder stitch area presence [%]  Forceps stitch length [m]  ...  \\\n0                                 52.985948                   0.678763  ...   \n1                                 65.479651                   0.475117  ...   \n2                                 63.609321                   0.766312  ...   \n4                                 77.253219                   0.320440  ...   \n5                                 64.670051                   0.576926  ...   \n6                                 69.712352                   0.553835  ...   \n7                                 71.704180                   0.524773  ...   \n8                                 49.580615                   0.188940  ...   \n9                                 77.231051                   1.317120  ...   \n10                                76.237624                   1.275761  ...   \n11                                81.228070                   0.691413  ...   \n12                                89.012621                   0.939153  ...   \n13                                64.925373                   0.529417  ...   \n14                                65.643275                   0.610537  ...   \n15                                66.046165                   0.671365  ...   \n16                                62.812089                   0.497420  ...   \n17                                42.767857                   0.782834  ...   \n18                                76.241135                   0.641182  ...   \n19                                98.487493                   1.368772  ...   \n20                                94.959908                   1.021473  ...   \n21                                85.131195                   0.962595  ...   \n22                                85.030395                   1.179063  ...   \n23                                76.862228                   0.349185  ...   \n24                                49.850746                   0.619112  ...   \n25                                86.391753                   0.078660  ...   \n26                                74.193548                   0.616161  ...   \n27                                68.391212                   0.545179  ...   \n28                                68.479777                   0.109430  ...   \n31                                64.059041                   0.795673  ...   \n33                                55.791067                   1.472132  ...   \n34                                66.455696                        NaN  ...   \n35                                62.643678                   0.704213  ...   \n36                                72.496474                   0.340443  ...   \n41                                85.562130                        NaN  ...   \n44                                80.729483                   0.890559  ...   \n45                                63.313609                        NaN  ...   \n46                                52.442997                        NaN  ...   \n53                                40.040445                   0.444535  ...   \n54                                82.761578                   0.083803  ...   \n55                                62.890625                   0.924976  ...   \n60                                82.969432                   0.669380  ...   \n64                                61.911357                   0.681242  ...   \n65                                88.867562                   0.121435  ...   \n84                                66.007417                   0.730011  ...   \n89                                84.173669                   0.438044  ...   \n93                                67.346939                   0.515348  ...   \n94                                78.442281                   0.312460  ...   \n113                               76.355248                   0.923831  ...   \n118                               67.440062                   0.224603  ...   \n122                               73.476703                        NaN  ...   \n142                               74.104683                        NaN  ...   \n\n     Scissors piercing length [m]  Scissors piercing visibility [s]  \\\n0                             NaN                               NaN   \n1                             NaN                               NaN   \n2                             NaN                               NaN   \n4                             NaN                               NaN   \n5                             NaN                               NaN   \n6                             NaN                               NaN   \n7                             NaN                               NaN   \n8                             NaN                               NaN   \n9                             NaN                               NaN   \n10                            NaN                               NaN   \n11                            NaN                               NaN   \n12                            NaN                               NaN   \n13                            NaN                               NaN   \n14                            NaN                               NaN   \n15                            NaN                               NaN   \n16                            NaN                               NaN   \n17                            NaN                               NaN   \n18                            NaN                               NaN   \n19                            NaN                               NaN   \n20                            NaN                               NaN   \n21                            NaN                               NaN   \n22                            NaN                               NaN   \n23                            NaN                               NaN   \n24                            NaN                               NaN   \n25                            NaN                               NaN   \n26                            NaN                               NaN   \n27                            0.0                          0.008621   \n28                            NaN                               NaN   \n31                            NaN                               NaN   \n33                            NaN                               NaN   \n34                            NaN                               NaN   \n35                            NaN                               NaN   \n36                            NaN                               NaN   \n41                            NaN                               NaN   \n44                            NaN                               NaN   \n45                            NaN                               NaN   \n46                            NaN                               NaN   \n53                            NaN                               NaN   \n54                            NaN                               NaN   \n55                            NaN                               NaN   \n60                            NaN                               NaN   \n64                            NaN                               NaN   \n65                            NaN                               NaN   \n84                            NaN                               NaN   \n89                            NaN                               NaN   \n93                            NaN                               NaN   \n94                            NaN                               NaN   \n113                           NaN                               NaN   \n118                           NaN                               NaN   \n122                           NaN                               NaN   \n142                           NaN                               NaN   \n\n    Scissors piercing velocity  Scissors piercing velocity std  \\\n0                          NaN                             NaN   \n1                          NaN                             NaN   \n2                          NaN                             NaN   \n4                          NaN                             NaN   \n5                          NaN                             NaN   \n6                          NaN                             NaN   \n7                          NaN                             NaN   \n8                          NaN                             NaN   \n9                          NaN                             NaN   \n10                         NaN                             NaN   \n11                         NaN                             NaN   \n12                         NaN                             NaN   \n13                         NaN                             NaN   \n14                         NaN                             NaN   \n15                         NaN                             NaN   \n16                         NaN                             NaN   \n17                         NaN                             NaN   \n18                         NaN                             NaN   \n19                         NaN                             NaN   \n20                         NaN                             NaN   \n21                         NaN                             NaN   \n22                         NaN                             NaN   \n23                         NaN                             NaN   \n24                         NaN                             NaN   \n25                         NaN                             NaN   \n26                         NaN                             NaN   \n27                        54.0                         0.00016   \n28                         NaN                             NaN   \n31                         NaN                             NaN   \n33                         NaN                             NaN   \n34                         NaN                             NaN   \n35                         NaN                             NaN   \n36                         NaN                             NaN   \n41                         NaN                             NaN   \n44                         NaN                             NaN   \n45                         NaN                             NaN   \n46                         NaN                             NaN   \n53                         NaN                             NaN   \n54                         NaN                             NaN   \n55                         NaN                             NaN   \n60                         NaN                             NaN   \n64                         NaN                             NaN   \n65                         NaN                             NaN   \n84                         NaN                             NaN   \n89                         NaN                             NaN   \n93                         NaN                             NaN   \n94                         NaN                             NaN   \n113                        NaN                             NaN   \n118                        NaN                             NaN   \n122                        NaN                             NaN   \n142                        NaN                             NaN   \n\n     Scissors piercing velocity above threshold  \\\n0                                           NaN   \n1                                           NaN   \n2                                           NaN   \n4                                           NaN   \n5                                           NaN   \n6                                           NaN   \n7                                           NaN   \n8                                           NaN   \n9                                           NaN   \n10                                          NaN   \n11                                          NaN   \n12                                          NaN   \n13                                          NaN   \n14                                          NaN   \n15                                          NaN   \n16                                          NaN   \n17                                          NaN   \n18                                          NaN   \n19                                          NaN   \n20                                          NaN   \n21                                          NaN   \n22                                          NaN   \n23                                          NaN   \n24                                          NaN   \n25                                          NaN   \n26                                          NaN   \n27                                     0.014004   \n28                                          NaN   \n31                                          NaN   \n33                                          NaN   \n34                                          NaN   \n35                                          NaN   \n36                                          NaN   \n41                                          NaN   \n44                                          NaN   \n45                                          NaN   \n46                                          NaN   \n53                                          NaN   \n54                                          NaN   \n55                                          NaN   \n60                                          NaN   \n64                                          NaN   \n65                                          NaN   \n84                                          NaN   \n89                                          NaN   \n93                                          NaN   \n94                                          NaN   \n113                                         NaN   \n118                                         NaN   \n122                                         NaN   \n142                                         NaN   \n\n     Scissors piercing velocity threshold [m/s]  Scissors piercing unit  \\\n0                                           NaN                     NaN   \n1                                           NaN                     NaN   \n2                                           NaN                     NaN   \n4                                           NaN                     NaN   \n5                                           NaN                     NaN   \n6                                           NaN                     NaN   \n7                                           NaN                     NaN   \n8                                           NaN                     NaN   \n9                                           NaN                     NaN   \n10                                          NaN                     NaN   \n11                                          NaN                     NaN   \n12                                          NaN                     NaN   \n13                                          NaN                     NaN   \n14                                          NaN                     NaN   \n15                                          NaN                     NaN   \n16                                          NaN                     NaN   \n17                                          NaN                     NaN   \n18                                          NaN                     NaN   \n19                                          NaN                     NaN   \n20                                          NaN                     NaN   \n21                                          NaN                     NaN   \n22                                          NaN                     NaN   \n23                                          NaN                     NaN   \n24                                          NaN                     NaN   \n25                                          NaN                     NaN   \n26                                          NaN                     NaN   \n27                                          0.0                    0.03   \n28                                          NaN                     NaN   \n31                                          NaN                     NaN   \n33                                          NaN                     NaN   \n34                                          NaN                     NaN   \n35                                          NaN                     NaN   \n36                                          NaN                     NaN   \n41                                          NaN                     NaN   \n44                                          NaN                     NaN   \n45                                          NaN                     NaN   \n46                                          NaN                     NaN   \n53                                          NaN                     NaN   \n54                                          NaN                     NaN   \n55                                          NaN                     NaN   \n60                                          NaN                     NaN   \n64                                          NaN                     NaN   \n65                                          NaN                     NaN   \n84                                          NaN                     NaN   \n89                                          NaN                     NaN   \n93                                          NaN                     NaN   \n94                                          NaN                     NaN   \n113                                         NaN                     NaN   \n118                                         NaN                     NaN   \n122                                         NaN                     NaN   \n142                                         NaN                     NaN   \n\n     Scissors piercing visibility [%]  Scissors piercing visibility [%].1  \\\n0                                 NaN                                 NaN   \n1                                 NaN                                 NaN   \n2                                 NaN                                 NaN   \n4                                 NaN                                 NaN   \n5                                 NaN                                 NaN   \n6                                 NaN                                 NaN   \n7                                 NaN                                 NaN   \n8                                 NaN                                 NaN   \n9                                 NaN                                 NaN   \n10                                NaN                                 NaN   \n11                                NaN                                 NaN   \n12                                NaN                                 NaN   \n13                                NaN                                 NaN   \n14                                NaN                                 NaN   \n15                                NaN                                 NaN   \n16                                NaN                                 NaN   \n17                                NaN                                 NaN   \n18                                NaN                                 NaN   \n19                                NaN                                 NaN   \n20                                NaN                                 NaN   \n21                                NaN                                 NaN   \n22                                NaN                                 NaN   \n23                                NaN                                 NaN   \n24                                NaN                                 NaN   \n25                                NaN                                 NaN   \n26                                NaN                                 NaN   \n27                                  m                                54.0   \n28                                NaN                                 NaN   \n31                                NaN                                 NaN   \n33                                NaN                                 NaN   \n34                                NaN                                 NaN   \n35                                NaN                                 NaN   \n36                                NaN                                 NaN   \n41                                NaN                                 NaN   \n44                                NaN                                 NaN   \n45                                NaN                                 NaN   \n46                                NaN                                 NaN   \n53                                NaN                                 NaN   \n54                                NaN                                 NaN   \n55                                NaN                                 NaN   \n60                                NaN                                 NaN   \n64                                NaN                                 NaN   \n65                                NaN                                 NaN   \n84                                NaN                                 NaN   \n89                                NaN                                 NaN   \n93                                NaN                                 NaN   \n94                                NaN                                 NaN   \n113                               NaN                                 NaN   \n118                               NaN                                 NaN   \n122                               NaN                                 NaN   \n142                               NaN                                 NaN   \n\n     stitch_id  \n0            0  \n1            0  \n2            0  \n4            0  \n5            0  \n6            0  \n7            0  \n8            0  \n9            0  \n10           0  \n11           0  \n12           0  \n13           0  \n14           0  \n15           0  \n16           0  \n17           0  \n18           0  \n19           0  \n20           0  \n21           0  \n22           0  \n23           0  \n24           0  \n25           0  \n26           0  \n27           0  \n28           0  \n31           1  \n33           1  \n34           1  \n35           1  \n36           1  \n41           1  \n44           1  \n45           1  \n46           1  \n53           1  \n54           1  \n55           1  \n60           2  \n64           2  \n65           2  \n84           2  \n89           3  \n93           3  \n94           3  \n113          3  \n118          4  \n122          4  \n142          4  \n\n[51 rows x 149 columns]",
      "text/html": "<div>\n<style scoped>\n    .dataframe tbody tr th:only-of-type {\n        vertical-align: middle;\n    }\n\n    .dataframe tbody tr th {\n        vertical-align: top;\n    }\n\n    .dataframe thead th {\n        text-align: right;\n    }\n</style>\n<table border=\"1\" class=\"dataframe\">\n  <thead>\n    <tr style=\"text-align: right;\">\n      <th></th>\n      <th>filename</th>\n      <th>annotation_annotation_annotation</th>\n      <th>annotation_annotation_time_and_movements</th>\n      <th>Needle holder stitch length [m]</th>\n      <th>Needle holder stitch visibility [s]</th>\n      <th>Needle holder stitch velocity</th>\n      <th>Needle holder stitch unit</th>\n      <th>Needle holder stitch visibility [%]</th>\n      <th>Needle holder stitch area presence [%]</th>\n      <th>Forceps stitch length [m]</th>\n      <th>...</th>\n      <th>Scissors piercing length [m]</th>\n      <th>Scissors piercing visibility [s]</th>\n      <th>Scissors piercing velocity</th>\n      <th>Scissors piercing velocity std</th>\n      <th>Scissors piercing velocity above threshold</th>\n      <th>Scissors piercing velocity threshold [m/s]</th>\n      <th>Scissors piercing unit</th>\n      <th>Scissors piercing visibility [%]</th>\n      <th>Scissors piercing visibility [%].1</th>\n      <th>stitch_id</th>\n    </tr>\n  </thead>\n  <tbody>\n    <tr>\n      <th>0</th>\n      <td>Medium-RPReplay_Final1634048018.mp4</td>\n      <td>00:00:07 grab needle holder more in the back\\r...</td>\n      <td>2.0</td>\n      <td>3.463331</td>\n      <td>113.866667</td>\n      <td>0.022641</td>\n      <td>m</td>\n      <td>74.912281</td>\n      <td>52.985948</td>\n      <td>0.678763</td>\n      <td>...</td>\n      <td>NaN</td>\n      <td>NaN</td>\n      <td>NaN</td>\n      <td>NaN</td>\n      <td>NaN</td>\n      <td>NaN</td>\n      <td>NaN</td>\n      <td>NaN</td>\n      <td>NaN</td>\n      <td>0</td>\n    </tr>\n    <tr>\n      <th>1</th>\n      <td>Medium-Schweinefu_.mp4</td>\n      <td>00:00:05 start\\r\\n00:01:49 end\\r\\n00:00:30 Tak...</td>\n      <td>1.0</td>\n      <td>3.342189</td>\n      <td>91.733333</td>\n      <td>0.031544</td>\n      <td>m</td>\n      <td>86.540881</td>\n      <td>65.479651</td>\n      <td>0.475117</td>\n      <td>...</td>\n      <td>NaN</td>\n      <td>NaN</td>\n      <td>NaN</td>\n      <td>NaN</td>\n      <td>NaN</td>\n      <td>NaN</td>\n      <td>NaN</td>\n      <td>NaN</td>\n      <td>NaN</td>\n      <td>0</td>\n    </tr>\n    <tr>\n      <th>2</th>\n      <td>Bildschirmaufnahme_2022-10-11_um_11.20.24.mov</td>\n      <td>00:00:17 stitch_start\\r\\n00:01:41 knot_start\\r...</td>\n      <td>1.0</td>\n      <td>4.693209</td>\n      <td>134.466667</td>\n      <td>0.028877</td>\n      <td>m</td>\n      <td>75.121043</td>\n      <td>63.609321</td>\n      <td>0.766312</td>\n      <td>...</td>\n      <td>NaN</td>\n      <td>NaN</td>\n      <td>NaN</td>\n      <td>NaN</td>\n      <td>NaN</td>\n      <td>NaN</td>\n      <td>NaN</td>\n      <td>NaN</td>\n      <td>NaN</td>\n      <td>0</td>\n    </tr>\n    <tr>\n      <th>4</th>\n      <td>Pre_-Test_Isabel_Linden.mp4</td>\n      <td>00:00:09 stitch_start\\r\\n00:00:47 knot_start\\r...</td>\n      <td>1.0</td>\n      <td>1.509013</td>\n      <td>46.600000</td>\n      <td>0.020504</td>\n      <td>m</td>\n      <td>62.133333</td>\n      <td>77.253219</td>\n      <td>0.320440</td>\n      <td>...</td>\n      <td>NaN</td>\n      <td>NaN</td>\n      <td>NaN</td>\n      <td>NaN</td>\n      <td>NaN</td>\n      <td>NaN</td>\n      <td>NaN</td>\n      <td>NaN</td>\n      <td>NaN</td>\n      <td>0</td>\n    </tr>\n    <tr>\n      <th>5</th>\n      <td>Gehrke,Yves - post.mp4</td>\n      <td>00:00:02 stitch_start \\r\\n00:00:36 knot_start\\...</td>\n      <td>1.0</td>\n      <td>2.837274</td>\n      <td>65.666667</td>\n      <td>0.035097</td>\n      <td>m</td>\n      <td>91.203704</td>\n      <td>64.670051</td>\n      <td>0.576926</td>\n      <td>...</td>\n      <td>NaN</td>\n      <td>NaN</td>\n      <td>NaN</td>\n      <td>NaN</td>\n      <td>NaN</td>\n      <td>NaN</td>\n      <td>NaN</td>\n      <td>NaN</td>\n      <td>NaN</td>\n      <td>0</td>\n    </tr>\n    <tr>\n      <th>6</th>\n      <td>Hilger,Anke-Posttest.mp4</td>\n      <td>00:00:06 stitch_start\\r\\n00:00:45 knot\\r\\n00:0...</td>\n      <td>1.0</td>\n      <td>1.361027</td>\n      <td>39.400000</td>\n      <td>0.025297</td>\n      <td>m</td>\n      <td>70.357143</td>\n      <td>69.712352</td>\n      <td>0.553835</td>\n      <td>...</td>\n      <td>NaN</td>\n      <td>NaN</td>\n      <td>NaN</td>\n      <td>NaN</td>\n      <td>NaN</td>\n      <td>NaN</td>\n      <td>NaN</td>\n      <td>NaN</td>\n      <td>NaN</td>\n      <td>0</td>\n    </tr>\n    <tr>\n      <th>7</th>\n      <td>Schiesser_David_post_test.mp4</td>\n      <td>00:00:04 stitch_start\\r\\n00:00:47 knot_start\\r...</td>\n      <td>1.0</td>\n      <td>2.732524</td>\n      <td>62.200000</td>\n      <td>0.038436</td>\n      <td>m</td>\n      <td>91.470588</td>\n      <td>71.704180</td>\n      <td>0.524773</td>\n      <td>...</td>\n      <td>NaN</td>\n      <td>NaN</td>\n      <td>NaN</td>\n      <td>NaN</td>\n      <td>NaN</td>\n      <td>NaN</td>\n      <td>NaN</td>\n      <td>NaN</td>\n      <td>NaN</td>\n      <td>0</td>\n    </tr>\n    <tr>\n      <th>8</th>\n      <td>Fehringer_Pascal__post_test.mp4</td>\n      <td>00:00:02 stitch_start\\r\\n00:00:38 knot_start\\r...</td>\n      <td>1.0</td>\n      <td>3.598281</td>\n      <td>71.533333</td>\n      <td>0.041703</td>\n      <td>m</td>\n      <td>87.235772</td>\n      <td>49.580615</td>\n      <td>0.188940</td>\n      <td>...</td>\n      <td>NaN</td>\n      <td>NaN</td>\n      <td>NaN</td>\n      <td>NaN</td>\n      <td>NaN</td>\n      <td>NaN</td>\n      <td>NaN</td>\n      <td>NaN</td>\n      <td>NaN</td>\n      <td>0</td>\n    </tr>\n    <tr>\n      <th>9</th>\n      <td>Bad-12_10_21__Loewe__Rebekka__Einzelknopfnaht.mp4</td>\n      <td>00:00:05 forceps are placed in the right posit...</td>\n      <td>1.0</td>\n      <td>3.310875</td>\n      <td>218.133333</td>\n      <td>0.013602</td>\n      <td>m</td>\n      <td>92.822695</td>\n      <td>77.231051</td>\n      <td>1.317120</td>\n      <td>...</td>\n      <td>NaN</td>\n      <td>NaN</td>\n      <td>NaN</td>\n      <td>NaN</td>\n      <td>NaN</td>\n      <td>NaN</td>\n      <td>NaN</td>\n      <td>NaN</td>\n      <td>NaN</td>\n      <td>0</td>\n    </tr>\n    <tr>\n      <th>10</th>\n      <td>Bad-2021_11_03_A_Spitze_Vanessa_Einzelknopfnah...</td>\n      <td>00:00:01 suture geomtry drawing is uneven from...</td>\n      <td>2.0</td>\n      <td>4.082597</td>\n      <td>107.733333</td>\n      <td>0.029862</td>\n      <td>m</td>\n      <td>86.186667</td>\n      <td>76.237624</td>\n      <td>1.275761</td>\n      <td>...</td>\n      <td>NaN</td>\n      <td>NaN</td>\n      <td>NaN</td>\n      <td>NaN</td>\n      <td>NaN</td>\n      <td>NaN</td>\n      <td>NaN</td>\n      <td>NaN</td>\n      <td>NaN</td>\n      <td>0</td>\n    </tr>\n    <tr>\n      <th>11</th>\n      <td>Good-2021_10_27_B_Etzel_Peter_Einzelknopfnaht_...</td>\n      <td>00:00:08 setup is mostly good. there is a pen ...</td>\n      <td>2.0</td>\n      <td>3.105033</td>\n      <td>76.000000</td>\n      <td>0.032285</td>\n      <td>m</td>\n      <td>82.608696</td>\n      <td>81.228070</td>\n      <td>0.691413</td>\n      <td>...</td>\n      <td>NaN</td>\n      <td>NaN</td>\n      <td>NaN</td>\n      <td>NaN</td>\n      <td>NaN</td>\n      <td>NaN</td>\n      <td>NaN</td>\n      <td>NaN</td>\n      <td>NaN</td>\n      <td>0</td>\n    </tr>\n    <tr>\n      <th>12</th>\n      <td>Bad-2021_11_3_A_Brodersen___nne_Einzelknopfnah...</td>\n      <td>00:00:02 6 stitches instead of 5\\r\\n00:00:02 i...</td>\n      <td>2.0</td>\n      <td>2.506542</td>\n      <td>89.800000</td>\n      <td>0.016543</td>\n      <td>m</td>\n      <td>68.549618</td>\n      <td>89.012621</td>\n      <td>0.939153</td>\n      <td>...</td>\n      <td>NaN</td>\n      <td>NaN</td>\n      <td>NaN</td>\n      <td>NaN</td>\n      <td>NaN</td>\n      <td>NaN</td>\n      <td>NaN</td>\n      <td>NaN</td>\n      <td>NaN</td>\n      <td>0</td>\n    </tr>\n    <tr>\n      <th>13</th>\n      <td>Medium-2021_11_03_A_Tengler_Sophie_Einzelknopf...</td>\n      <td>00:00:02 setup of desk is nice\\r\\n00:00:06 nee...</td>\n      <td>3.0</td>\n      <td>1.654161</td>\n      <td>44.666667</td>\n      <td>0.029267</td>\n      <td>m</td>\n      <td>82.716049</td>\n      <td>64.925373</td>\n      <td>0.529417</td>\n      <td>...</td>\n      <td>NaN</td>\n      <td>NaN</td>\n      <td>NaN</td>\n      <td>NaN</td>\n      <td>NaN</td>\n      <td>NaN</td>\n      <td>NaN</td>\n      <td>NaN</td>\n      <td>NaN</td>\n      <td>0</td>\n    </tr>\n    <tr>\n      <th>14</th>\n      <td>medium-2021_11_03_A_Tengler_Sophie_Einzelknopf...</td>\n      <td>00:00:07 thumb is not taken out of needle hold...</td>\n      <td>3.0</td>\n      <td>1.715387</td>\n      <td>45.600000</td>\n      <td>0.030012</td>\n      <td>m</td>\n      <td>82.909091</td>\n      <td>65.643275</td>\n      <td>0.610537</td>\n      <td>...</td>\n      <td>NaN</td>\n      <td>NaN</td>\n      <td>NaN</td>\n      <td>NaN</td>\n      <td>NaN</td>\n      <td>NaN</td>\n      <td>NaN</td>\n      <td>NaN</td>\n      <td>NaN</td>\n      <td>0</td>\n    </tr>\n    <tr>\n      <th>15</th>\n      <td>Good-Einzelknopfnaht_Stoklossa.mp4</td>\n      <td>00:00:03 needle grabbed pretty far in the back...</td>\n      <td>2.0</td>\n      <td>1.546707</td>\n      <td>89.533333</td>\n      <td>0.016229</td>\n      <td>m</td>\n      <td>95.248227</td>\n      <td>66.046165</td>\n      <td>0.671365</td>\n      <td>...</td>\n      <td>NaN</td>\n      <td>NaN</td>\n      <td>NaN</td>\n      <td>NaN</td>\n      <td>NaN</td>\n      <td>NaN</td>\n      <td>NaN</td>\n      <td>NaN</td>\n      <td>NaN</td>\n      <td>0</td>\n    </tr>\n    <tr>\n      <th>16</th>\n      <td>Medium-2021_11_03_A_Seifert_Johanna_Einzelknop...</td>\n      <td>00:00:24 wound edge is only lifted with forcep...</td>\n      <td>3.0</td>\n      <td>1.765487</td>\n      <td>50.733333</td>\n      <td>0.025497</td>\n      <td>m</td>\n      <td>87.471264</td>\n      <td>62.812089</td>\n      <td>0.497420</td>\n      <td>...</td>\n      <td>NaN</td>\n      <td>NaN</td>\n      <td>NaN</td>\n      <td>NaN</td>\n      <td>NaN</td>\n      <td>NaN</td>\n      <td>NaN</td>\n      <td>NaN</td>\n      <td>NaN</td>\n      <td>0</td>\n    </tr>\n    <tr>\n      <th>17</th>\n      <td>Bad-2021_11_03_A_Noll_Alexander_Einzelknopfnah...</td>\n      <td>00:00:18 Needle is grabbed pretty far in the b...</td>\n      <td>2.0</td>\n      <td>6.089911</td>\n      <td>74.666667</td>\n      <td>0.075937</td>\n      <td>m</td>\n      <td>85.823755</td>\n      <td>42.767857</td>\n      <td>0.782834</td>\n      <td>...</td>\n      <td>NaN</td>\n      <td>NaN</td>\n      <td>NaN</td>\n      <td>NaN</td>\n      <td>NaN</td>\n      <td>NaN</td>\n      <td>NaN</td>\n      <td>NaN</td>\n      <td>NaN</td>\n      <td>0</td>\n    </tr>\n    <tr>\n      <th>18</th>\n      <td>Bad-3_11_21_B_Grumt_Alina_Einzelknopfnaht_Schw...</td>\n      <td>00:00:14 Forceps is grabbed wrong\\r\\n00:00:36 ...</td>\n      <td>1.0</td>\n      <td>2.999488</td>\n      <td>75.200000</td>\n      <td>0.027103</td>\n      <td>m</td>\n      <td>65.964912</td>\n      <td>76.241135</td>\n      <td>0.641182</td>\n      <td>...</td>\n      <td>NaN</td>\n      <td>NaN</td>\n      <td>NaN</td>\n      <td>NaN</td>\n      <td>NaN</td>\n      <td>NaN</td>\n      <td>NaN</td>\n      <td>NaN</td>\n      <td>NaN</td>\n      <td>0</td>\n    </tr>\n    <tr>\n      <th>19</th>\n      <td>Good-Schmidt_Elisabeth_Einzelknotennaht_11_10_...</td>\n      <td>00:00:38 Thumb is not taken out of needle hold...</td>\n      <td>1.0</td>\n      <td>2.074785</td>\n      <td>114.600000</td>\n      <td>0.016838</td>\n      <td>m</td>\n      <td>89.531250</td>\n      <td>98.487493</td>\n      <td>1.368772</td>\n      <td>...</td>\n      <td>NaN</td>\n      <td>NaN</td>\n      <td>NaN</td>\n      <td>NaN</td>\n      <td>NaN</td>\n      <td>NaN</td>\n      <td>NaN</td>\n      <td>NaN</td>\n      <td>NaN</td>\n      <td>0</td>\n    </tr>\n    <tr>\n      <th>20</th>\n      <td>Good-Schweinefu__Einzelknopfnaht.mp4</td>\n      <td>00:00:03 Needle grabbed rather far in the back...</td>\n      <td>2.0</td>\n      <td>1.878307</td>\n      <td>58.200000</td>\n      <td>0.028085</td>\n      <td>m</td>\n      <td>78.648649</td>\n      <td>94.959908</td>\n      <td>1.021473</td>\n      <td>...</td>\n      <td>NaN</td>\n      <td>NaN</td>\n      <td>NaN</td>\n      <td>NaN</td>\n      <td>NaN</td>\n      <td>NaN</td>\n      <td>NaN</td>\n      <td>NaN</td>\n      <td>NaN</td>\n      <td>0</td>\n    </tr>\n    <tr>\n      <th>21</th>\n      <td>Bad-03_11_21_B_Hopfe_Johanna_Einzelknopfnaht.mp4</td>\n      <td>00:00:11 Needle is grabbed too far in the back...</td>\n      <td>2.0</td>\n      <td>1.991932</td>\n      <td>91.466667</td>\n      <td>0.016751</td>\n      <td>m</td>\n      <td>81.666667</td>\n      <td>85.131195</td>\n      <td>0.962595</td>\n      <td>...</td>\n      <td>NaN</td>\n      <td>NaN</td>\n      <td>NaN</td>\n      <td>NaN</td>\n      <td>NaN</td>\n      <td>NaN</td>\n      <td>NaN</td>\n      <td>NaN</td>\n      <td>NaN</td>\n      <td>0</td>\n    </tr>\n    <tr>\n      <th>22</th>\n      <td>2023-02-21_SchuldtSalome_Einzelknopfnaht_am_Sc...</td>\n      <td>00:00:30 stitch_start\\r\\n00:01:00 a lot of mov...</td>\n      <td>1.0</td>\n      <td>3.293846</td>\n      <td>87.733333</td>\n      <td>0.024598</td>\n      <td>m</td>\n      <td>51.913215</td>\n      <td>85.030395</td>\n      <td>1.179063</td>\n      <td>...</td>\n      <td>NaN</td>\n      <td>NaN</td>\n      <td>NaN</td>\n      <td>NaN</td>\n      <td>NaN</td>\n      <td>NaN</td>\n      <td>NaN</td>\n      <td>NaN</td>\n      <td>NaN</td>\n      <td>0</td>\n    </tr>\n    <tr>\n      <th>23</th>\n      <td>Einzelknopfnaht_Lina_Schäfer.mp4</td>\n      <td>sehr gut, etwas aufpassen weger der Nadel, es ...</td>\n      <td>4.0</td>\n      <td>2.698621</td>\n      <td>101.133333</td>\n      <td>0.020150</td>\n      <td>m</td>\n      <td>80.264550</td>\n      <td>76.862228</td>\n      <td>0.349185</td>\n      <td>...</td>\n      <td>NaN</td>\n      <td>NaN</td>\n      <td>NaN</td>\n      <td>NaN</td>\n      <td>NaN</td>\n      <td>NaN</td>\n      <td>NaN</td>\n      <td>NaN</td>\n      <td>NaN</td>\n      <td>0</td>\n    </tr>\n    <tr>\n      <th>24</th>\n      <td>Einzelknopfnaht_Elena.Vai-Wieting.mov</td>\n      <td>00:00:02 stitch_start\\r\\n00:00:43 knot_start\\r...</td>\n      <td>1.0</td>\n      <td>3.138940</td>\n      <td>89.333333</td>\n      <td>0.028869</td>\n      <td>m</td>\n      <td>85.079365</td>\n      <td>49.850746</td>\n      <td>0.619112</td>\n      <td>...</td>\n      <td>NaN</td>\n      <td>NaN</td>\n      <td>NaN</td>\n      <td>NaN</td>\n      <td>NaN</td>\n      <td>NaN</td>\n      <td>NaN</td>\n      <td>NaN</td>\n      <td>NaN</td>\n      <td>0</td>\n    </tr>\n    <tr>\n      <th>25</th>\n      <td>EinzelknopfnahtamSchweinefuss_Muenzner_Simeon.mp4</td>\n      <td>Die Nahtgeometrie sieht nicht 100% symmetrisch...</td>\n      <td>5.0</td>\n      <td>2.059378</td>\n      <td>97.000000</td>\n      <td>0.016976</td>\n      <td>m</td>\n      <td>80.833333</td>\n      <td>86.391753</td>\n      <td>0.078660</td>\n      <td>...</td>\n      <td>NaN</td>\n      <td>NaN</td>\n      <td>NaN</td>\n      <td>NaN</td>\n      <td>NaN</td>\n      <td>NaN</td>\n      <td>NaN</td>\n      <td>NaN</td>\n      <td>NaN</td>\n      <td>0</td>\n    </tr>\n    <tr>\n      <th>26</th>\n      <td>Stresstest_Einzelknopfnaht.mp4</td>\n      <td>Das Ergebnis finde ich sehr schön. Die Wundrän...</td>\n      <td>1.0</td>\n      <td>1.882233</td>\n      <td>41.333333</td>\n      <td>0.032319</td>\n      <td>m</td>\n      <td>59.047619</td>\n      <td>74.193548</td>\n      <td>0.616161</td>\n      <td>...</td>\n      <td>NaN</td>\n      <td>NaN</td>\n      <td>NaN</td>\n      <td>NaN</td>\n      <td>NaN</td>\n      <td>NaN</td>\n      <td>NaN</td>\n      <td>NaN</td>\n      <td>NaN</td>\n      <td>0</td>\n    </tr>\n    <tr>\n      <th>27</th>\n      <td>Bad-2021_11_03_B_V_lz__Ann_Sophie_Einzelknopfn...</td>\n      <td>00:00:02 setup good\\r\\n00:00:07 wrong directio...</td>\n      <td>2.0</td>\n      <td>2.687447</td>\n      <td>94.066667</td>\n      <td>0.025186</td>\n      <td>m</td>\n      <td>94.066667</td>\n      <td>68.391212</td>\n      <td>0.545179</td>\n      <td>...</td>\n      <td>0.0</td>\n      <td>0.008621</td>\n      <td>54.0</td>\n      <td>0.00016</td>\n      <td>0.014004</td>\n      <td>0.0</td>\n      <td>0.03</td>\n      <td>m</td>\n      <td>54.0</td>\n      <td>0</td>\n    </tr>\n    <tr>\n      <th>28</th>\n      <td>Bad-2021_11_03_A_Petersen_Insa_Einzelknopfnaht...</td>\n      <td>00:00:02 scissors missing from setup\\r\\n00:00:...</td>\n      <td>1.0</td>\n      <td>3.738971</td>\n      <td>95.600000</td>\n      <td>0.031181</td>\n      <td>m</td>\n      <td>85.357143</td>\n      <td>68.479777</td>\n      <td>0.109430</td>\n      <td>...</td>\n      <td>NaN</td>\n      <td>NaN</td>\n      <td>NaN</td>\n      <td>NaN</td>\n      <td>NaN</td>\n      <td>NaN</td>\n      <td>NaN</td>\n      <td>NaN</td>\n      <td>NaN</td>\n      <td>0</td>\n    </tr>\n    <tr>\n      <th>31</th>\n      <td>Bildschirmaufnahme_2022-10-11_um_11.20.24.mov</td>\n      <td>00:00:17 stitch_start\\r\\n00:01:41 knot_start\\r...</td>\n      <td>1.0</td>\n      <td>4.262387</td>\n      <td>90.333333</td>\n      <td>0.035085</td>\n      <td>m</td>\n      <td>68.434343</td>\n      <td>64.059041</td>\n      <td>0.795673</td>\n      <td>...</td>\n      <td>NaN</td>\n      <td>NaN</td>\n      <td>NaN</td>\n      <td>NaN</td>\n      <td>NaN</td>\n      <td>NaN</td>\n      <td>NaN</td>\n      <td>NaN</td>\n      <td>NaN</td>\n      <td>1</td>\n    </tr>\n    <tr>\n      <th>33</th>\n      <td>Pre_-Test_Isabel_Linden.mp4</td>\n      <td>00:00:09 stitch_start\\r\\n00:00:47 knot_start\\r...</td>\n      <td>1.0</td>\n      <td>2.708059</td>\n      <td>88.066667</td>\n      <td>0.022859</td>\n      <td>m</td>\n      <td>71.021505</td>\n      <td>55.791067</td>\n      <td>1.472132</td>\n      <td>...</td>\n      <td>NaN</td>\n      <td>NaN</td>\n      <td>NaN</td>\n      <td>NaN</td>\n      <td>NaN</td>\n      <td>NaN</td>\n      <td>NaN</td>\n      <td>NaN</td>\n      <td>NaN</td>\n      <td>1</td>\n    </tr>\n    <tr>\n      <th>34</th>\n      <td>Gehrke,Yves - post.mp4</td>\n      <td>00:00:02 stitch_start \\r\\n00:00:36 knot_start\\...</td>\n      <td>1.0</td>\n      <td>1.857190</td>\n      <td>52.666667</td>\n      <td>0.029486</td>\n      <td>m</td>\n      <td>86.338798</td>\n      <td>66.455696</td>\n      <td>NaN</td>\n      <td>...</td>\n      <td>NaN</td>\n      <td>NaN</td>\n      <td>NaN</td>\n      <td>NaN</td>\n      <td>NaN</td>\n      <td>NaN</td>\n      <td>NaN</td>\n      <td>NaN</td>\n      <td>NaN</td>\n      <td>1</td>\n    </tr>\n    <tr>\n      <th>35</th>\n      <td>Hilger,Anke-Posttest.mp4</td>\n      <td>00:00:06 stitch_start\\r\\n00:00:45 knot\\r\\n00:0...</td>\n      <td>1.0</td>\n      <td>1.759018</td>\n      <td>34.800000</td>\n      <td>0.039974</td>\n      <td>m</td>\n      <td>80.930233</td>\n      <td>62.643678</td>\n      <td>0.704213</td>\n      <td>...</td>\n      <td>NaN</td>\n      <td>NaN</td>\n      <td>NaN</td>\n      <td>NaN</td>\n      <td>NaN</td>\n      <td>NaN</td>\n      <td>NaN</td>\n      <td>NaN</td>\n      <td>NaN</td>\n      <td>1</td>\n    </tr>\n    <tr>\n      <th>36</th>\n      <td>Schiesser_David_post_test.mp4</td>\n      <td>00:00:04 stitch_start\\r\\n00:00:47 knot_start\\r...</td>\n      <td>1.0</td>\n      <td>1.822945</td>\n      <td>47.266667</td>\n      <td>0.033677</td>\n      <td>m</td>\n      <td>89.182390</td>\n      <td>72.496474</td>\n      <td>0.340443</td>\n      <td>...</td>\n      <td>NaN</td>\n      <td>NaN</td>\n      <td>NaN</td>\n      <td>NaN</td>\n      <td>NaN</td>\n      <td>NaN</td>\n      <td>NaN</td>\n      <td>NaN</td>\n      <td>NaN</td>\n      <td>1</td>\n    </tr>\n    <tr>\n      <th>41</th>\n      <td>Bad-2021_11_3_A_Brodersen___nne_Einzelknopfnah...</td>\n      <td>00:00:02 6 stitches instead of 5\\r\\n00:00:02 i...</td>\n      <td>2.0</td>\n      <td>3.617267</td>\n      <td>112.666667</td>\n      <td>0.024557</td>\n      <td>m</td>\n      <td>75.615213</td>\n      <td>85.562130</td>\n      <td>NaN</td>\n      <td>...</td>\n      <td>NaN</td>\n      <td>NaN</td>\n      <td>NaN</td>\n      <td>NaN</td>\n      <td>NaN</td>\n      <td>NaN</td>\n      <td>NaN</td>\n      <td>NaN</td>\n      <td>NaN</td>\n      <td>1</td>\n    </tr>\n    <tr>\n      <th>44</th>\n      <td>Good-Einzelknopfnaht_Stoklossa.mp4</td>\n      <td>00:00:03 needle grabbed pretty far in the back...</td>\n      <td>2.0</td>\n      <td>2.715956</td>\n      <td>109.666667</td>\n      <td>0.021665</td>\n      <td>m</td>\n      <td>82.456140</td>\n      <td>80.729483</td>\n      <td>0.890559</td>\n      <td>...</td>\n      <td>NaN</td>\n      <td>NaN</td>\n      <td>NaN</td>\n      <td>NaN</td>\n      <td>NaN</td>\n      <td>NaN</td>\n      <td>NaN</td>\n      <td>NaN</td>\n      <td>NaN</td>\n      <td>1</td>\n    </tr>\n    <tr>\n      <th>45</th>\n      <td>Medium-2021_11_03_A_Seifert_Johanna_Einzelknop...</td>\n      <td>00:00:24 wound edge is only lifted with forcep...</td>\n      <td>3.0</td>\n      <td>1.715668</td>\n      <td>45.066667</td>\n      <td>0.028067</td>\n      <td>m</td>\n      <td>85.031447</td>\n      <td>63.313609</td>\n      <td>NaN</td>\n      <td>...</td>\n      <td>NaN</td>\n      <td>NaN</td>\n      <td>NaN</td>\n      <td>NaN</td>\n      <td>NaN</td>\n      <td>NaN</td>\n      <td>NaN</td>\n      <td>NaN</td>\n      <td>NaN</td>\n      <td>1</td>\n    </tr>\n    <tr>\n      <th>46</th>\n      <td>Bad-2021_11_03_A_Noll_Alexander_Einzelknopfnah...</td>\n      <td>00:00:18 Needle is grabbed pretty far in the b...</td>\n      <td>2.0</td>\n      <td>4.609267</td>\n      <td>61.400000</td>\n      <td>0.063194</td>\n      <td>m</td>\n      <td>68.988764</td>\n      <td>52.442997</td>\n      <td>NaN</td>\n      <td>...</td>\n      <td>NaN</td>\n      <td>NaN</td>\n      <td>NaN</td>\n      <td>NaN</td>\n      <td>NaN</td>\n      <td>NaN</td>\n      <td>NaN</td>\n      <td>NaN</td>\n      <td>NaN</td>\n      <td>1</td>\n    </tr>\n    <tr>\n      <th>53</th>\n      <td>Einzelknopfnaht_Elena.Vai-Wieting.mov</td>\n      <td>00:00:02 stitch_start\\r\\n00:00:43 knot_start\\r...</td>\n      <td>1.0</td>\n      <td>2.368281</td>\n      <td>65.933333</td>\n      <td>0.029865</td>\n      <td>m</td>\n      <td>85.627706</td>\n      <td>40.040445</td>\n      <td>0.444535</td>\n      <td>...</td>\n      <td>NaN</td>\n      <td>NaN</td>\n      <td>NaN</td>\n      <td>NaN</td>\n      <td>NaN</td>\n      <td>NaN</td>\n      <td>NaN</td>\n      <td>NaN</td>\n      <td>NaN</td>\n      <td>1</td>\n    </tr>\n    <tr>\n      <th>54</th>\n      <td>EinzelknopfnahtamSchweinefuss_Muenzner_Simeon.mp4</td>\n      <td>Die Nahtgeometrie sieht nicht 100% symmetrisch...</td>\n      <td>5.0</td>\n      <td>1.546936</td>\n      <td>77.733333</td>\n      <td>0.013490</td>\n      <td>m</td>\n      <td>70.666667</td>\n      <td>82.761578</td>\n      <td>0.083803</td>\n      <td>...</td>\n      <td>NaN</td>\n      <td>NaN</td>\n      <td>NaN</td>\n      <td>NaN</td>\n      <td>NaN</td>\n      <td>NaN</td>\n      <td>NaN</td>\n      <td>NaN</td>\n      <td>NaN</td>\n      <td>1</td>\n    </tr>\n    <tr>\n      <th>55</th>\n      <td>Stresstest_Einzelknopfnaht.mp4</td>\n      <td>Das Ergebnis finde ich sehr schön. Die Wundrän...</td>\n      <td>1.0</td>\n      <td>1.736056</td>\n      <td>51.200000</td>\n      <td>0.027750</td>\n      <td>m</td>\n      <td>80.000000</td>\n      <td>62.890625</td>\n      <td>0.924976</td>\n      <td>...</td>\n      <td>NaN</td>\n      <td>NaN</td>\n      <td>NaN</td>\n      <td>NaN</td>\n      <td>NaN</td>\n      <td>NaN</td>\n      <td>NaN</td>\n      <td>NaN</td>\n      <td>NaN</td>\n      <td>1</td>\n    </tr>\n    <tr>\n      <th>60</th>\n      <td>Bildschirmaufnahme_2022-10-11_um_11.20.24.mov</td>\n      <td>00:00:17 stitch_start\\r\\n00:01:41 knot_start\\r...</td>\n      <td>1.0</td>\n      <td>3.418498</td>\n      <td>106.866667</td>\n      <td>0.027248</td>\n      <td>m</td>\n      <td>82.842377</td>\n      <td>82.969432</td>\n      <td>0.669380</td>\n      <td>...</td>\n      <td>NaN</td>\n      <td>NaN</td>\n      <td>NaN</td>\n      <td>NaN</td>\n      <td>NaN</td>\n      <td>NaN</td>\n      <td>NaN</td>\n      <td>NaN</td>\n      <td>NaN</td>\n      <td>2</td>\n    </tr>\n    <tr>\n      <th>64</th>\n      <td>Hilger,Anke-Posttest.mp4</td>\n      <td>00:00:06 stitch_start\\r\\n00:00:45 knot\\r\\n00:0...</td>\n      <td>1.0</td>\n      <td>1.869415</td>\n      <td>48.133333</td>\n      <td>0.033274</td>\n      <td>m</td>\n      <td>85.952381</td>\n      <td>61.911357</td>\n      <td>0.681242</td>\n      <td>...</td>\n      <td>NaN</td>\n      <td>NaN</td>\n      <td>NaN</td>\n      <td>NaN</td>\n      <td>NaN</td>\n      <td>NaN</td>\n      <td>NaN</td>\n      <td>NaN</td>\n      <td>NaN</td>\n      <td>2</td>\n    </tr>\n    <tr>\n      <th>65</th>\n      <td>Schiesser_David_post_test.mp4</td>\n      <td>00:00:04 stitch_start\\r\\n00:00:47 knot_start\\r...</td>\n      <td>1.0</td>\n      <td>1.869419</td>\n      <td>34.733333</td>\n      <td>0.041924</td>\n      <td>m</td>\n      <td>75.507246</td>\n      <td>88.867562</td>\n      <td>0.121435</td>\n      <td>...</td>\n      <td>NaN</td>\n      <td>NaN</td>\n      <td>NaN</td>\n      <td>NaN</td>\n      <td>NaN</td>\n      <td>NaN</td>\n      <td>NaN</td>\n      <td>NaN</td>\n      <td>NaN</td>\n      <td>2</td>\n    </tr>\n    <tr>\n      <th>84</th>\n      <td>Stresstest_Einzelknopfnaht.mp4</td>\n      <td>Das Ergebnis finde ich sehr schön. Die Wundrän...</td>\n      <td>1.0</td>\n      <td>2.032978</td>\n      <td>53.933333</td>\n      <td>0.031662</td>\n      <td>m</td>\n      <td>89.888889</td>\n      <td>66.007417</td>\n      <td>0.730011</td>\n      <td>...</td>\n      <td>NaN</td>\n      <td>NaN</td>\n      <td>NaN</td>\n      <td>NaN</td>\n      <td>NaN</td>\n      <td>NaN</td>\n      <td>NaN</td>\n      <td>NaN</td>\n      <td>NaN</td>\n      <td>2</td>\n    </tr>\n    <tr>\n      <th>89</th>\n      <td>Bildschirmaufnahme_2022-10-11_um_11.20.24.mov</td>\n      <td>00:00:17 stitch_start\\r\\n00:01:41 knot_start\\r...</td>\n      <td>1.0</td>\n      <td>2.883931</td>\n      <td>95.200000</td>\n      <td>0.025955</td>\n      <td>m</td>\n      <td>78.677686</td>\n      <td>84.173669</td>\n      <td>0.438044</td>\n      <td>...</td>\n      <td>NaN</td>\n      <td>NaN</td>\n      <td>NaN</td>\n      <td>NaN</td>\n      <td>NaN</td>\n      <td>NaN</td>\n      <td>NaN</td>\n      <td>NaN</td>\n      <td>NaN</td>\n      <td>3</td>\n    </tr>\n    <tr>\n      <th>93</th>\n      <td>Hilger,Anke-Posttest.mp4</td>\n      <td>00:00:06 stitch_start\\r\\n00:00:45 knot\\r\\n00:0...</td>\n      <td>1.0</td>\n      <td>1.539333</td>\n      <td>32.666667</td>\n      <td>0.043567</td>\n      <td>m</td>\n      <td>79.674797</td>\n      <td>67.346939</td>\n      <td>0.515348</td>\n      <td>...</td>\n      <td>NaN</td>\n      <td>NaN</td>\n      <td>NaN</td>\n      <td>NaN</td>\n      <td>NaN</td>\n      <td>NaN</td>\n      <td>NaN</td>\n      <td>NaN</td>\n      <td>NaN</td>\n      <td>3</td>\n    </tr>\n    <tr>\n      <th>94</th>\n      <td>Schiesser_David_post_test.mp4</td>\n      <td>00:00:04 stitch_start\\r\\n00:00:47 knot_start\\r...</td>\n      <td>1.0</td>\n      <td>2.658392</td>\n      <td>47.933333</td>\n      <td>0.041866</td>\n      <td>m</td>\n      <td>82.643678</td>\n      <td>78.442281</td>\n      <td>0.312460</td>\n      <td>...</td>\n      <td>NaN</td>\n      <td>NaN</td>\n      <td>NaN</td>\n      <td>NaN</td>\n      <td>NaN</td>\n      <td>NaN</td>\n      <td>NaN</td>\n      <td>NaN</td>\n      <td>NaN</td>\n      <td>3</td>\n    </tr>\n    <tr>\n      <th>113</th>\n      <td>Stresstest_Einzelknopfnaht.mp4</td>\n      <td>Das Ergebnis finde ich sehr schön. Die Wundrän...</td>\n      <td>1.0</td>\n      <td>2.155144</td>\n      <td>57.800000</td>\n      <td>0.031399</td>\n      <td>m</td>\n      <td>93.225806</td>\n      <td>76.355248</td>\n      <td>0.923831</td>\n      <td>...</td>\n      <td>NaN</td>\n      <td>NaN</td>\n      <td>NaN</td>\n      <td>NaN</td>\n      <td>NaN</td>\n      <td>NaN</td>\n      <td>NaN</td>\n      <td>NaN</td>\n      <td>NaN</td>\n      <td>3</td>\n    </tr>\n    <tr>\n      <th>118</th>\n      <td>Bildschirmaufnahme_2022-10-11_um_11.20.24.mov</td>\n      <td>00:00:17 stitch_start\\r\\n00:01:41 knot_start\\r...</td>\n      <td>1.0</td>\n      <td>2.382955</td>\n      <td>86.200000</td>\n      <td>0.024304</td>\n      <td>m</td>\n      <td>85.346535</td>\n      <td>67.440062</td>\n      <td>0.224603</td>\n      <td>...</td>\n      <td>NaN</td>\n      <td>NaN</td>\n      <td>NaN</td>\n      <td>NaN</td>\n      <td>NaN</td>\n      <td>NaN</td>\n      <td>NaN</td>\n      <td>NaN</td>\n      <td>NaN</td>\n      <td>4</td>\n    </tr>\n    <tr>\n      <th>122</th>\n      <td>Hilger,Anke-Posttest.mp4</td>\n      <td>00:00:06 stitch_start\\r\\n00:00:45 knot\\r\\n00:0...</td>\n      <td>1.0</td>\n      <td>1.511959</td>\n      <td>37.200000</td>\n      <td>0.034609</td>\n      <td>m</td>\n      <td>86.511628</td>\n      <td>73.476703</td>\n      <td>NaN</td>\n      <td>...</td>\n      <td>NaN</td>\n      <td>NaN</td>\n      <td>NaN</td>\n      <td>NaN</td>\n      <td>NaN</td>\n      <td>NaN</td>\n      <td>NaN</td>\n      <td>NaN</td>\n      <td>NaN</td>\n      <td>4</td>\n    </tr>\n    <tr>\n      <th>142</th>\n      <td>Stresstest_Einzelknopfnaht.mp4</td>\n      <td>Das Ergebnis finde ich sehr schön. Die Wundrän...</td>\n      <td>1.0</td>\n      <td>2.143602</td>\n      <td>48.400000</td>\n      <td>0.035816</td>\n      <td>m</td>\n      <td>89.629630</td>\n      <td>74.104683</td>\n      <td>NaN</td>\n      <td>...</td>\n      <td>NaN</td>\n      <td>NaN</td>\n      <td>NaN</td>\n      <td>NaN</td>\n      <td>NaN</td>\n      <td>NaN</td>\n      <td>NaN</td>\n      <td>NaN</td>\n      <td>NaN</td>\n      <td>4</td>\n    </tr>\n  </tbody>\n</table>\n<p>51 rows × 149 columns</p>\n</div>"
     },
     "metadata": {},
     "output_type": "display_data"
    },
    {
     "data": {
      "text/plain": "Forceps stitch visibility [s]                    6\nKnot duration [s]                                5\nNeedle holder knot visibility [s]                5\nfilename                                         0\nstitch_id                                        0\nStitch duration [s]                              0\nNeedle holder stitch visibility [s]              0\nNeedle holder stitch velocity above threshold    0\nNeedle holder stitch length [m]                  0\ndtype: int64"
     },
     "metadata": {},
     "output_type": "display_data"
    },
    {
     "name": "stdout",
     "output_type": "stream",
     "text": [
      "51\n"
     ]
    }
   ],
   "source": [
    "dfsc = dfst[\n",
    "    dfst[\"Stitch duration [s]\"].notna() &\n",
    "    dfst[\"Needle holder stitch visibility [s]\"].notna() &\n",
    "    dfst[predicted_columns[0]].notna()\n",
    "    # dfs[predicted_columns].notna()\n",
    "]\n",
    "display(dfsc)\n",
    "cols_X_with_sample_id = sample_id_cols + cols_X\n",
    "\n",
    "dfsc[cols_X_with_sample_id].isna().sum().sort_values(ascending=False)\n",
    "\n",
    "display(dfsc[cols_X_with_sample_id].isna().sum().sort_values(ascending=False))\n",
    "\n",
    "# fill 0 instead of None\n",
    "dfsc = dfsc[sample_id_cols + predicted_columns + cols_X].copy()\n",
    "dfsc[cols_X] = dfsc[cols_X].fillna(0)\n",
    "\n",
    "print(len(dfsc))"
   ],
   "metadata": {
    "collapsed": false,
    "ExecuteTime": {
     "end_time": "2024-07-12T10:29:38.914751Z",
     "start_time": "2024-07-12T10:29:38.840440Z"
    }
   },
   "id": "5ef5e7f99594f804",
   "execution_count": 70
  },
  {
   "cell_type": "code",
   "outputs": [],
   "source": [
    "# dfsc[predicted_columns].isna()"
   ],
   "metadata": {
    "collapsed": false,
    "ExecuteTime": {
     "end_time": "2024-07-12T10:29:43.841722Z",
     "start_time": "2024-07-12T10:29:43.824723Z"
    }
   },
   "id": "845d27d8de1eb4a2",
   "execution_count": 71
  },
  {
   "cell_type": "code",
   "outputs": [
    {
     "data": {
      "text/plain": "['movement evaluation stitch']"
     },
     "execution_count": 72,
     "metadata": {},
     "output_type": "execute_result"
    }
   ],
   "source": [
    "predicted_columns"
   ],
   "metadata": {
    "collapsed": false,
    "ExecuteTime": {
     "end_time": "2024-07-12T10:29:44.886318Z",
     "start_time": "2024-07-12T10:29:44.865318Z"
    }
   },
   "id": "6a43ecb1d3efdb4f",
   "execution_count": 72
  },
  {
   "cell_type": "code",
   "outputs": [
    {
     "name": "stdout",
     "output_type": "stream",
     "text": [
      "(40, 1) 40 11 movement evaluation stitch 0.4040253383161204\n",
      "(40, 2) 40 11 movement evaluation stitch 0.20079623612881448\n",
      "(40, 3) 40 11 movement evaluation stitch 0.08213773279168379\n"
     ]
    }
   ],
   "source": [
    "maximum_number_of_columns = 3\n",
    "# maximum_number_of_columns = len(cols_X)\n",
    "\n",
    "results = {}\n",
    "\n",
    "models = []\n",
    "for i in range(1, maximum_number_of_columns + 1):\n",
    "    for predicted_column in predicted_columns:\n",
    "        # if True:\n",
    "        #     predicted_column = \"annotation_annotation_stars\"\n",
    "        first_columns = cols_X[:i] + sample_id_cols\n",
    "        cols = first_columns.copy()\n",
    "        cols.append(predicted_column)\n",
    "    \n",
    "\n",
    "        dfsx = dfsc[cols].copy()\n",
    "        l1 = len(dfsx)\n",
    "        dfsx = dfsx.dropna()\n",
    "        l2 = len(dfsx)\n",
    "        assert l1 == l2, \"There are still NA values in the data\"\n",
    "        X = dfsx[first_columns].drop(sample_id_cols, axis=1)\n",
    "        # X = X.drop(predicted_column, axis=1)\n",
    "        y = dfsx[predicted_column]\n",
    "        X_train, X_test, y_train, y_test = train_test_split(X, y, test_size=0.2, random_state=42)\n",
    "\n",
    "        clf = SVR()\n",
    "        clf.fit(X_train, y_train)\n",
    "        # score\n",
    "        # The coefficient R^2 is defined as (1 - u/v), \n",
    "        # where u is the regression sum of squares ((y_true - y_pred) ** 2).sum() \n",
    "        # and v is the residual sum of squares ((y_true - y_true.mean()) ** 2).sum().\n",
    "        # Best possible score is 1.0, lower values are worse.\n",
    "\n",
    "\n",
    "    \n",
    "        # clf.score(X_test, y_test)\n",
    "        # \n",
    "        # X\n",
    "        # from sklearn.neural_network import MLPClassifier\n",
    "        # clf = MLPClassifier(solver='lbfgs', alpha=1e-5,\n",
    "        #                     hidden_layer_sizes=(5, 2), random_state=1)\n",
    "\n",
    "        # train regresion\n",
    "        # clf = LinearRegression()\n",
    "        # from sklearn.neural_network import MLPRegressor\n",
    "        # clf = MLPRegressor(random_state=1, max_iter=500)\n",
    "\n",
    "        clf.fit(X_train, y_train)\n",
    "        clf.score(X_test, y_test)\n",
    "        pred_test = clf.predict(X_test)\n",
    "        pred_train = clf.predict(X_train)\n",
    "        results[predicted_column] = {\"score\": clf.score(X_test, y_test), \"model\": clf}\n",
    "        print(f\"{X_train.shape} {len(X_train)} {len(X_test)} {predicted_column} {clf.score(X_test, y_test)}\")\n",
    "        models.append(clf)\n",
    "    # print(predicted_column, clf.score(X_test, y_test))\n",
    "\n"
   ],
   "metadata": {
    "collapsed": false,
    "ExecuteTime": {
     "end_time": "2024-07-12T10:51:34.391900Z",
     "start_time": "2024-07-12T10:51:34.343367Z"
    }
   },
   "id": "cea978cf3532538c",
   "execution_count": 105
  },
  {
   "cell_type": "code",
   "outputs": [],
   "source": [
    "\n",
    "# print(predicted_column, clf.score(y_test, y_test))\n"
   ],
   "metadata": {
    "collapsed": false,
    "ExecuteTime": {
     "end_time": "2024-07-12T10:51:35.596202Z",
     "start_time": "2024-07-12T10:51:35.582206Z"
    }
   },
   "id": "977b3f638b6b6d7c",
   "execution_count": 106
  },
  {
   "cell_type": "code",
   "outputs": [
    {
     "data": {
      "text/plain": "{'movement evaluation stitch': {'score': 0.08213773279168379, 'model': SVR()}}"
     },
     "execution_count": 107,
     "metadata": {},
     "output_type": "execute_result"
    }
   ],
   "source": [
    "# results"
   ],
   "metadata": {
    "collapsed": false,
    "ExecuteTime": {
     "end_time": "2024-07-12T10:51:38.563838Z",
     "start_time": "2024-07-12T10:51:38.546833Z"
    }
   },
   "id": "9db2c85b182d2ecb",
   "execution_count": 107
  },
  {
   "cell_type": "code",
   "outputs": [
    {
     "data": {
      "text/plain": "array([[4.37100653, 5.        ],\n       [2.12388324, 3.        ],\n       [4.56434662, 3.        ],\n       [4.56947878, 4.        ],\n       [2.38102816, 3.        ],\n       [3.97006977, 4.        ],\n       [2.96054123, 2.        ],\n       [4.47078023, 4.        ],\n       [4.33384525, 4.        ],\n       [4.35709064, 4.        ],\n       [4.55304986, 4.        ]])"
     },
     "execution_count": 108,
     "metadata": {},
     "output_type": "execute_result"
    }
   ],
   "source": [
    "# i = 0\n",
    "# \n",
    "# y_test = dfsc[predicted_columns[0]]\n",
    "# selected_cols = cols_X[:(i + 1)]\n",
    "# \n",
    "# dfsx = dfsc[selected_cols].copy()\n",
    "# dfsy = dfsc[relevant_column].copy()\n",
    "# \n",
    "# \n",
    "# pred_test = models[i].predict(dfsx)\n",
    "np.asarray(list(zip(list(pred_test), list(y_test))))\n",
    "# list(pred_test)\n",
    "# list(y_test)\n",
    "# pred_test"
   ],
   "metadata": {
    "collapsed": false,
    "ExecuteTime": {
     "end_time": "2024-07-12T10:51:49.068152Z",
     "start_time": "2024-07-12T10:51:49.055559Z"
    }
   },
   "id": "72867c27c08da247",
   "execution_count": 108
  },
  {
   "cell_type": "code",
   "outputs": [
    {
     "data": {
      "text/plain": "<AxesSubplot: xlabel='real', ylabel='predicted'>"
     },
     "execution_count": 109,
     "metadata": {},
     "output_type": "execute_result"
    },
    {
     "data": {
      "text/plain": "<Figure size 640x480 with 1 Axes>",
      "image/png": "[encoded data removed]"
     },
     "metadata": {},
     "output_type": "display_data"
    }
   ],
   "source": [
    "df_test = pd.DataFrame(np.asarray(list(zip(pred_test, y_test))), columns=[\"predicted\", \"real\"])\n",
    "sns.scatterplot(data=df_test, y=\"predicted\", x=\"real\")"
   ],
   "metadata": {
    "collapsed": false,
    "ExecuteTime": {
     "end_time": "2024-07-12T10:52:07.975700Z",
     "start_time": "2024-07-12T10:52:07.804283Z"
    }
   },
   "id": "f6232d8ccf3a6bde",
   "execution_count": 109
  },
  {
   "cell_type": "code",
   "outputs": [
    {
     "data": {
      "text/plain": "<AxesSubplot: xlabel='predicted', ylabel='real'>"
     },
     "execution_count": 110,
     "metadata": {},
     "output_type": "execute_result"
    },
    {
     "data": {
      "text/plain": "<Figure size 640x480 with 1 Axes>",
      "image/png": "[encoded data removed]"
     },
     "metadata": {},
     "output_type": "display_data"
    }
   ],
   "source": [
    "\n",
    "df_test = pd.DataFrame(np.asarray(list(zip(pred_train, y_train))), columns=[\"predicted\", \"real\"])\n",
    "sns.scatterplot(data=df_test, x=\"predicted\", y=\"real\")\n"
   ],
   "metadata": {
    "collapsed": false,
    "ExecuteTime": {
     "end_time": "2024-07-12T10:52:16.346806Z",
     "start_time": "2024-07-12T10:52:16.140585Z"
    }
   },
   "id": "ce22437a5b705e89",
   "execution_count": 110
  },
  {
   "cell_type": "markdown",
   "id": "0b88ba78-25b8-4d01-acaa-b88f31a70453",
   "metadata": {},
   "source": []
  },
  {
   "cell_type": "code",
   "execution_count": 116,
   "id": "8e041b38-a2b0-4dcd-be7d-ab17ec6eb12d",
   "metadata": {
    "tags": [],
    "ExecuteTime": {
     "end_time": "2024-06-17T09:44:53.231134600Z",
     "start_time": "2024-06-17T09:44:53.044169300Z"
    }
   },
   "outputs": [
    {
     "data": {
      "text/plain": "0.5"
     },
     "execution_count": 116,
     "metadata": {},
     "output_type": "execute_result"
    }
   ],
   "source": []
  },
  {
   "cell_type": "code",
   "execution_count": 30,
   "id": "0cc6fb03-7d49-4ad1-a01c-3d54336a1446",
   "metadata": {
    "tags": [],
    "ExecuteTime": {
     "end_time": "2024-04-15T15:08:12.069794200Z",
     "start_time": "2024-04-15T15:08:11.863906600Z"
    }
   },
   "outputs": [
    {
     "ename": "NameError",
     "evalue": "name 'clf' is not defined",
     "output_type": "error",
     "traceback": [
      "\u001B[1;31m---------------------------------------------------------------------------\u001B[0m",
      "\u001B[1;31mNameError\u001B[0m                                 Traceback (most recent call last)",
      "Cell \u001B[1;32mIn [30], line 1\u001B[0m\n\u001B[1;32m----> 1\u001B[0m \u001B[43mclf\u001B[49m\u001B[38;5;241m.\u001B[39mscore(X_train, y_train)\n",
      "\u001B[1;31mNameError\u001B[0m: name 'clf' is not defined"
     ]
    }
   ],
   "source": []
  },
  {
   "cell_type": "markdown",
   "id": "c1351837-f926-43a6-bb68-bc35c946b0ec",
   "metadata": {},
   "source": []
  },
  {
   "cell_type": "code",
   "execution_count": 149,
   "id": "ab82921a7dc10572",
   "metadata": {
    "collapsed": false,
    "tags": [],
    "ExecuteTime": {
     "end_time": "2024-01-17T17:37:28.441691Z",
     "start_time": "2024-01-17T17:37:28.335020600Z"
    }
   },
   "outputs": [
    {
     "data": {
      "text/plain": "922    2\n928    0\n939    0\n924    2\nName: stars_auto, dtype: int32"
     },
     "execution_count": 149,
     "metadata": {},
     "output_type": "execute_result"
    }
   ],
   "source": []
  },
  {
   "cell_type": "code",
   "execution_count": 78,
   "id": "e5ea4f24720d1a20",
   "metadata": {
    "collapsed": false,
    "tags": [],
    "ExecuteTime": {
     "end_time": "2024-07-05T11:59:23.204891800Z",
     "start_time": "2024-07-05T11:59:22.809888800Z"
    }
   },
   "outputs": [
    {
     "data": {
      "text/plain": "Index(['Stitch duration [s]', 'Stitch duration [%]'], dtype='object')"
     },
     "execution_count": 78,
     "metadata": {},
     "output_type": "execute_result"
    }
   ],
   "source": [
    "dfst.columns[dfst.columns.str.contains(\"duration\")]"
   ]
  },
  {
   "cell_type": "code",
   "outputs": [
    {
     "data": {
      "application/vnd.plotly.v1+json": {
       "data": [
        {
         "customdata": [
          [
           "Bad-2021_11_03_A_Petersen_Insa_Einzelknopfnaht_am_Schweinefu_.mp4",
           0
          ],
          [
           "Bad-2021_11_03_A_Spitze_Vanessa_Einzelknopfnaht_am_Schweinefu_.mp4",
           0
          ],
          [
           "Bad-2021_11_03_B_V_lz__Ann_Sophie_Einzelknopfnaht_am_Schweinefu___1_.mp4",
           0
          ],
          [
           "Medium-2021_11_03_A_Tengler_Sophie_Einzelknopfnaht_Schweinefu_.mp4",
           0
          ],
          [
           "Good-2021_10_27_B_Etzel_Peter_Einzelknopfnaht_am_Schweinefu_.mp4",
           0
          ],
          [
           "Bad-12_10_21__Loewe__Rebekka__Einzelknopfnaht.mp4",
           0
          ],
          [
           "Bad-2021_11_3_A_Brodersen___nne_Einzelknopfnaht_am_Schweinefu_.mp4",
           0
          ],
          [
           "medium-2021_11_03_A_Tengler_Sophie_Einzelknopfnaht_Schweinefu_.mp4",
           0
          ],
          [
           "Good-Einzelknopfnaht_Stoklossa.mp4",
           0
          ],
          [
           "Medium-2021_11_03_A_Seifert_Johanna_Einzelknopfnaht_am_Schweinefu_.mp4",
           0
          ],
          [
           "Bad-2021_11_03_A_Noll_Alexander_Einzelknopfnaht.mp4",
           0
          ],
          [
           "Bad-3_11_21_B_Grumt_Alina_Einzelknopfnaht_Schweinefu_.mp4",
           0
          ],
          [
           "Bad-03_11_21_B_Hopfe_Johanna_Einzelknopfnaht.mp4",
           0
          ],
          [
           "Good-Schmidt_Elisabeth_Einzelknotennaht_11_10_2021_MP4_SparkVideo.mp4",
           0
          ],
          [
           "Medium-RPReplay_Final1634048018.mp4",
           0
          ],
          [
           "Good-Schweinefu__Einzelknopfnaht.mp4",
           0
          ],
          [
           "Medium-Schweinefu_.mp4",
           0
          ],
          [
           "Einzelknopfnaht_Lina_Schäfer.mp4",
           0
          ],
          [
           "Einzelknopfnaht_Elena.Vai-Wieting.mov",
           0
          ],
          [
           "Stresstest_Einzelknopfnaht.mp4",
           0
          ],
          [
           "Bildschirmaufnahme_2022-10-11_um_11.20.24.mov",
           0
          ],
          [
           "2023-02-21_SchuldtSalome_Einzelknopfnaht_am_Schweinefuß.mp4",
           0
          ],
          [
           "11.4.2024.HarmsSören.NHT.mp4",
           0
          ],
          [
           "Pre_-Test_Isabel_Linden.mp4",
           0
          ],
          [
           "Gehrke,Yves - post.mp4",
           0
          ],
          [
           "Hilger,Anke-Posttest.mp4",
           0
          ],
          [
           "Schiesser_David_post_test.mp4",
           0
          ],
          [
           "Fehringer_Pascal__post_test.mp4",
           0
          ],
          [
           "EinzelknopfnahtamSchweinefuss_Muenzner_Simeon.mp4",
           0
          ],
          [
           "Bad-2021_11_03_A_Petersen_Insa_Einzelknopfnaht_am_Schweinefu_.mp4",
           1
          ],
          [
           "Bad-2021_11_03_A_Spitze_Vanessa_Einzelknopfnaht_am_Schweinefu_.mp4",
           1
          ],
          [
           "Bad-2021_11_03_B_V_lz__Ann_Sophie_Einzelknopfnaht_am_Schweinefu___1_.mp4",
           1
          ],
          [
           "Medium-2021_11_03_A_Tengler_Sophie_Einzelknopfnaht_Schweinefu_.mp4",
           1
          ],
          [
           "Good-2021_10_27_B_Etzel_Peter_Einzelknopfnaht_am_Schweinefu_.mp4",
           1
          ],
          [
           "Bad-12_10_21__Loewe__Rebekka__Einzelknopfnaht.mp4",
           1
          ],
          [
           "Bad-2021_11_3_A_Brodersen___nne_Einzelknopfnaht_am_Schweinefu_.mp4",
           1
          ],
          [
           "medium-2021_11_03_A_Tengler_Sophie_Einzelknopfnaht_Schweinefu_.mp4",
           1
          ],
          [
           "Good-Einzelknopfnaht_Stoklossa.mp4",
           1
          ],
          [
           "Medium-2021_11_03_A_Seifert_Johanna_Einzelknopfnaht_am_Schweinefu_.mp4",
           1
          ],
          [
           "Bad-2021_11_03_A_Noll_Alexander_Einzelknopfnaht.mp4",
           1
          ],
          [
           "Bad-3_11_21_B_Grumt_Alina_Einzelknopfnaht_Schweinefu_.mp4",
           1
          ],
          [
           "Bad-03_11_21_B_Hopfe_Johanna_Einzelknopfnaht.mp4",
           1
          ],
          [
           "Good-Schmidt_Elisabeth_Einzelknotennaht_11_10_2021_MP4_SparkVideo.mp4",
           1
          ],
          [
           "Medium-RPReplay_Final1634048018.mp4",
           1
          ],
          [
           "Good-Schweinefu__Einzelknopfnaht.mp4",
           1
          ],
          [
           "Medium-Schweinefu_.mp4",
           1
          ],
          [
           "Einzelknopfnaht_Lina_Schäfer.mp4",
           1
          ],
          [
           "Einzelknopfnaht_Elena.Vai-Wieting.mov",
           1
          ],
          [
           "Stresstest_Einzelknopfnaht.mp4",
           1
          ],
          [
           "Bildschirmaufnahme_2022-10-11_um_11.20.24.mov",
           1
          ],
          [
           "2023-02-21_SchuldtSalome_Einzelknopfnaht_am_Schweinefuß.mp4",
           1
          ],
          [
           "11.4.2024.HarmsSören.NHT.mp4",
           1
          ],
          [
           "Pre_-Test_Isabel_Linden.mp4",
           1
          ],
          [
           "Gehrke,Yves - post.mp4",
           1
          ],
          [
           "Hilger,Anke-Posttest.mp4",
           1
          ],
          [
           "Schiesser_David_post_test.mp4",
           1
          ],
          [
           "Fehringer_Pascal__post_test.mp4",
           1
          ],
          [
           "EinzelknopfnahtamSchweinefuss_Muenzner_Simeon.mp4",
           1
          ],
          [
           "Bad-2021_11_03_A_Petersen_Insa_Einzelknopfnaht_am_Schweinefu_.mp4",
           2
          ],
          [
           "Bad-2021_11_03_A_Spitze_Vanessa_Einzelknopfnaht_am_Schweinefu_.mp4",
           2
          ],
          [
           "Bad-2021_11_03_B_V_lz__Ann_Sophie_Einzelknopfnaht_am_Schweinefu___1_.mp4",
           2
          ],
          [
           "Medium-2021_11_03_A_Tengler_Sophie_Einzelknopfnaht_Schweinefu_.mp4",
           2
          ],
          [
           "Good-2021_10_27_B_Etzel_Peter_Einzelknopfnaht_am_Schweinefu_.mp4",
           2
          ],
          [
           "Bad-12_10_21__Loewe__Rebekka__Einzelknopfnaht.mp4",
           2
          ],
          [
           "Bad-2021_11_3_A_Brodersen___nne_Einzelknopfnaht_am_Schweinefu_.mp4",
           2
          ],
          [
           "medium-2021_11_03_A_Tengler_Sophie_Einzelknopfnaht_Schweinefu_.mp4",
           2
          ],
          [
           "Good-Einzelknopfnaht_Stoklossa.mp4",
           2
          ],
          [
           "Medium-2021_11_03_A_Seifert_Johanna_Einzelknopfnaht_am_Schweinefu_.mp4",
           2
          ],
          [
           "Bad-2021_11_03_A_Noll_Alexander_Einzelknopfnaht.mp4",
           2
          ],
          [
           "Bad-3_11_21_B_Grumt_Alina_Einzelknopfnaht_Schweinefu_.mp4",
           2
          ],
          [
           "Bad-03_11_21_B_Hopfe_Johanna_Einzelknopfnaht.mp4",
           2
          ],
          [
           "Good-Schmidt_Elisabeth_Einzelknotennaht_11_10_2021_MP4_SparkVideo.mp4",
           2
          ],
          [
           "Medium-RPReplay_Final1634048018.mp4",
           2
          ],
          [
           "Good-Schweinefu__Einzelknopfnaht.mp4",
           2
          ],
          [
           "Medium-Schweinefu_.mp4",
           2
          ],
          [
           "Einzelknopfnaht_Lina_Schäfer.mp4",
           2
          ],
          [
           "Einzelknopfnaht_Elena.Vai-Wieting.mov",
           2
          ],
          [
           "Stresstest_Einzelknopfnaht.mp4",
           2
          ],
          [
           "Bildschirmaufnahme_2022-10-11_um_11.20.24.mov",
           2
          ],
          [
           "2023-02-21_SchuldtSalome_Einzelknopfnaht_am_Schweinefuß.mp4",
           2
          ],
          [
           "11.4.2024.HarmsSören.NHT.mp4",
           2
          ],
          [
           "Pre_-Test_Isabel_Linden.mp4",
           2
          ],
          [
           "Gehrke,Yves - post.mp4",
           2
          ],
          [
           "Hilger,Anke-Posttest.mp4",
           2
          ],
          [
           "Schiesser_David_post_test.mp4",
           2
          ],
          [
           "Fehringer_Pascal__post_test.mp4",
           2
          ],
          [
           "EinzelknopfnahtamSchweinefuss_Muenzner_Simeon.mp4",
           2
          ],
          [
           "Bad-2021_11_03_A_Petersen_Insa_Einzelknopfnaht_am_Schweinefu_.mp4",
           3
          ],
          [
           "Bad-2021_11_03_A_Spitze_Vanessa_Einzelknopfnaht_am_Schweinefu_.mp4",
           3
          ],
          [
           "Bad-2021_11_03_B_V_lz__Ann_Sophie_Einzelknopfnaht_am_Schweinefu___1_.mp4",
           3
          ],
          [
           "Medium-2021_11_03_A_Tengler_Sophie_Einzelknopfnaht_Schweinefu_.mp4",
           3
          ],
          [
           "Good-2021_10_27_B_Etzel_Peter_Einzelknopfnaht_am_Schweinefu_.mp4",
           3
          ],
          [
           "Bad-12_10_21__Loewe__Rebekka__Einzelknopfnaht.mp4",
           3
          ],
          [
           "Bad-2021_11_3_A_Brodersen___nne_Einzelknopfnaht_am_Schweinefu_.mp4",
           3
          ],
          [
           "medium-2021_11_03_A_Tengler_Sophie_Einzelknopfnaht_Schweinefu_.mp4",
           3
          ],
          [
           "Good-Einzelknopfnaht_Stoklossa.mp4",
           3
          ],
          [
           "Medium-2021_11_03_A_Seifert_Johanna_Einzelknopfnaht_am_Schweinefu_.mp4",
           3
          ],
          [
           "Bad-2021_11_03_A_Noll_Alexander_Einzelknopfnaht.mp4",
           3
          ],
          [
           "Bad-3_11_21_B_Grumt_Alina_Einzelknopfnaht_Schweinefu_.mp4",
           3
          ],
          [
           "Bad-03_11_21_B_Hopfe_Johanna_Einzelknopfnaht.mp4",
           3
          ],
          [
           "Good-Schmidt_Elisabeth_Einzelknotennaht_11_10_2021_MP4_SparkVideo.mp4",
           3
          ],
          [
           "Medium-RPReplay_Final1634048018.mp4",
           3
          ],
          [
           "Good-Schweinefu__Einzelknopfnaht.mp4",
           3
          ],
          [
           "Medium-Schweinefu_.mp4",
           3
          ],
          [
           "Einzelknopfnaht_Lina_Schäfer.mp4",
           3
          ],
          [
           "Einzelknopfnaht_Elena.Vai-Wieting.mov",
           3
          ],
          [
           "Stresstest_Einzelknopfnaht.mp4",
           3
          ],
          [
           "Bildschirmaufnahme_2022-10-11_um_11.20.24.mov",
           3
          ],
          [
           "2023-02-21_SchuldtSalome_Einzelknopfnaht_am_Schweinefuß.mp4",
           3
          ],
          [
           "11.4.2024.HarmsSören.NHT.mp4",
           3
          ],
          [
           "Pre_-Test_Isabel_Linden.mp4",
           3
          ],
          [
           "Gehrke,Yves - post.mp4",
           3
          ],
          [
           "Hilger,Anke-Posttest.mp4",
           3
          ],
          [
           "Schiesser_David_post_test.mp4",
           3
          ],
          [
           "Fehringer_Pascal__post_test.mp4",
           3
          ],
          [
           "EinzelknopfnahtamSchweinefuss_Muenzner_Simeon.mp4",
           3
          ],
          [
           "Bad-2021_11_03_A_Petersen_Insa_Einzelknopfnaht_am_Schweinefu_.mp4",
           4
          ],
          [
           "Bad-2021_11_03_A_Spitze_Vanessa_Einzelknopfnaht_am_Schweinefu_.mp4",
           4
          ],
          [
           "Bad-2021_11_03_B_V_lz__Ann_Sophie_Einzelknopfnaht_am_Schweinefu___1_.mp4",
           4
          ],
          [
           "Medium-2021_11_03_A_Tengler_Sophie_Einzelknopfnaht_Schweinefu_.mp4",
           4
          ],
          [
           "Good-2021_10_27_B_Etzel_Peter_Einzelknopfnaht_am_Schweinefu_.mp4",
           4
          ],
          [
           "Bad-12_10_21__Loewe__Rebekka__Einzelknopfnaht.mp4",
           4
          ],
          [
           "Bad-2021_11_3_A_Brodersen___nne_Einzelknopfnaht_am_Schweinefu_.mp4",
           4
          ],
          [
           "medium-2021_11_03_A_Tengler_Sophie_Einzelknopfnaht_Schweinefu_.mp4",
           4
          ],
          [
           "Good-Einzelknopfnaht_Stoklossa.mp4",
           4
          ],
          [
           "Medium-2021_11_03_A_Seifert_Johanna_Einzelknopfnaht_am_Schweinefu_.mp4",
           4
          ],
          [
           "Bad-2021_11_03_A_Noll_Alexander_Einzelknopfnaht.mp4",
           4
          ],
          [
           "Bad-3_11_21_B_Grumt_Alina_Einzelknopfnaht_Schweinefu_.mp4",
           4
          ],
          [
           "Bad-03_11_21_B_Hopfe_Johanna_Einzelknopfnaht.mp4",
           4
          ],
          [
           "Good-Schmidt_Elisabeth_Einzelknotennaht_11_10_2021_MP4_SparkVideo.mp4",
           4
          ],
          [
           "Medium-RPReplay_Final1634048018.mp4",
           4
          ],
          [
           "Good-Schweinefu__Einzelknopfnaht.mp4",
           4
          ],
          [
           "Medium-Schweinefu_.mp4",
           4
          ],
          [
           "Einzelknopfnaht_Lina_Schäfer.mp4",
           4
          ],
          [
           "Einzelknopfnaht_Elena.Vai-Wieting.mov",
           4
          ],
          [
           "Stresstest_Einzelknopfnaht.mp4",
           4
          ],
          [
           "Bildschirmaufnahme_2022-10-11_um_11.20.24.mov",
           4
          ],
          [
           "2023-02-21_SchuldtSalome_Einzelknopfnaht_am_Schweinefuß.mp4",
           4
          ],
          [
           "11.4.2024.HarmsSören.NHT.mp4",
           4
          ],
          [
           "Pre_-Test_Isabel_Linden.mp4",
           4
          ],
          [
           "Gehrke,Yves - post.mp4",
           4
          ],
          [
           "Hilger,Anke-Posttest.mp4",
           4
          ],
          [
           "Schiesser_David_post_test.mp4",
           4
          ],
          [
           "Fehringer_Pascal__post_test.mp4",
           4
          ],
          [
           "EinzelknopfnahtamSchweinefuss_Muenzner_Simeon.mp4",
           4
          ]
         ],
         "hovertemplate": "Stitch duration [s]=%{x}<br>Needle holder stitch visibility [s]=%{y}<br>filename=%{customdata[0]}<br>stitch_id=%{customdata[1]}<extra></extra>",
         "legendgroup": "",
         "marker": {
          "color": "#636efa",
          "symbol": "circle"
         },
         "mode": "markers",
         "name": "",
         "orientation": "v",
         "showlegend": false,
         "x": [
          112.0,
          125.0,
          100.0,
          54.0,
          92.0,
          235.0,
          131.0,
          55.0,
          94.0,
          58.0,
          87.0,
          114.0,
          112.0,
          128.0,
          152.0,
          74.0,
          106.0,
          126.0,
          105.0,
          70.0,
          179.0,
          169.0,
          41.6,
          75.0,
          72.0,
          56.0,
          68.0,
          82.0,
          120.0,
          null,
          null,
          null,
          null,
          null,
          null,
          149.0,
          null,
          133.0,
          53.0,
          89.0,
          125.0,
          165.0,
          null,
          null,
          89.0,
          null,
          null,
          77.0,
          64.0,
          132.0,
          null,
          72.73333333,
          124.0,
          61.0,
          43.0,
          53.0,
          null,
          110.0,
          null,
          null,
          null,
          null,
          null,
          null,
          null,
          null,
          null,
          null,
          null,
          null,
          null,
          null,
          null,
          null,
          null,
          null,
          92.0,
          60.0,
          129.0,
          null,
          68.66666667,
          94.0,
          null,
          56.0,
          46.0,
          null,
          null,
          null,
          null,
          null,
          null,
          null,
          null,
          null,
          null,
          null,
          null,
          null,
          null,
          null,
          null,
          null,
          null,
          null,
          null,
          null,
          62.0,
          121.0,
          null,
          null,
          null,
          null,
          41.0,
          58.0,
          null,
          null,
          null,
          null,
          null,
          null,
          null,
          null,
          null,
          null,
          null,
          null,
          null,
          null,
          null,
          null,
          null,
          null,
          null,
          null,
          null,
          54.0,
          101.0,
          null,
          null,
          null,
          null,
          43.0,
          null,
          null,
          null
         ],
         "xaxis": "x",
         "y": [
          95.6,
          107.7333333,
          94.06666667,
          44.66666667,
          76.0,
          218.1333333,
          89.8,
          45.6,
          89.53333333,
          50.73333333,
          74.66666667,
          75.2,
          91.46666667,
          114.6,
          113.8666667,
          58.2,
          91.73333333,
          101.1333333,
          89.33333333,
          41.33333333,
          134.4666667,
          87.73333333,
          27.0,
          46.6,
          65.66666667,
          39.4,
          62.2,
          71.53333333,
          97.0,
          null,
          null,
          null,
          null,
          null,
          null,
          112.6666667,
          null,
          109.6666667,
          45.06666667,
          61.4,
          null,
          null,
          null,
          null,
          null,
          null,
          null,
          65.93333333,
          51.2,
          90.33333333,
          null,
          42.8,
          88.06666667,
          52.66666667,
          34.8,
          47.26666667,
          null,
          77.73333333,
          null,
          null,
          null,
          null,
          null,
          null,
          null,
          null,
          null,
          null,
          null,
          null,
          null,
          null,
          null,
          null,
          null,
          null,
          null,
          53.93333333,
          106.8666667,
          null,
          48.0,
          null,
          null,
          48.13333333,
          34.73333333,
          null,
          null,
          null,
          null,
          null,
          null,
          null,
          null,
          null,
          null,
          null,
          null,
          null,
          null,
          null,
          null,
          null,
          null,
          null,
          null,
          null,
          57.8,
          95.2,
          null,
          null,
          null,
          null,
          32.66666667,
          47.93333333,
          null,
          null,
          null,
          null,
          null,
          null,
          null,
          null,
          null,
          null,
          null,
          null,
          null,
          null,
          null,
          null,
          null,
          null,
          null,
          null,
          null,
          48.4,
          86.2,
          null,
          null,
          null,
          null,
          37.2,
          null,
          null,
          null
         ],
         "yaxis": "y",
         "type": "scatter"
        }
       ],
       "layout": {
        "template": {
         "data": {
          "histogram2dcontour": [
           {
            "type": "histogram2dcontour",
            "colorbar": {
             "outlinewidth": 0,
             "ticks": ""
            },
            "colorscale": [
             [
              0.0,
              "#0d0887"
             ],
             [
              0.1111111111111111,
              "#46039f"
             ],
             [
              0.2222222222222222,
              "#7201a8"
             ],
             [
              0.3333333333333333,
              "#9c179e"
             ],
             [
              0.4444444444444444,
              "#bd3786"
             ],
             [
              0.5555555555555556,
              "#d8576b"
             ],
             [
              0.6666666666666666,
              "#ed7953"
             ],
             [
              0.7777777777777778,
              "#fb9f3a"
             ],
             [
              0.8888888888888888,
              "#fdca26"
             ],
             [
              1.0,
              "#f0f921"
             ]
            ]
           }
          ],
          "choropleth": [
           {
            "type": "choropleth",
            "colorbar": {
             "outlinewidth": 0,
             "ticks": ""
            }
           }
          ],
          "histogram2d": [
           {
            "type": "histogram2d",
            "colorbar": {
             "outlinewidth": 0,
             "ticks": ""
            },
            "colorscale": [
             [
              0.0,
              "#0d0887"
             ],
             [
              0.1111111111111111,
              "#46039f"
             ],
             [
              0.2222222222222222,
              "#7201a8"
             ],
             [
              0.3333333333333333,
              "#9c179e"
             ],
             [
              0.4444444444444444,
              "#bd3786"
             ],
             [
              0.5555555555555556,
              "#d8576b"
             ],
             [
              0.6666666666666666,
              "#ed7953"
             ],
             [
              0.7777777777777778,
              "#fb9f3a"
             ],
             [
              0.8888888888888888,
              "#fdca26"
             ],
             [
              1.0,
              "#f0f921"
             ]
            ]
           }
          ],
          "heatmap": [
           {
            "type": "heatmap",
            "colorbar": {
             "outlinewidth": 0,
             "ticks": ""
            },
            "colorscale": [
             [
              0.0,
              "#0d0887"
             ],
             [
              0.1111111111111111,
              "#46039f"
             ],
             [
              0.2222222222222222,
              "#7201a8"
             ],
             [
              0.3333333333333333,
              "#9c179e"
             ],
             [
              0.4444444444444444,
              "#bd3786"
             ],
             [
              0.5555555555555556,
              "#d8576b"
             ],
             [
              0.6666666666666666,
              "#ed7953"
             ],
             [
              0.7777777777777778,
              "#fb9f3a"
             ],
             [
              0.8888888888888888,
              "#fdca26"
             ],
             [
              1.0,
              "#f0f921"
             ]
            ]
           }
          ],
          "heatmapgl": [
           {
            "type": "heatmapgl",
            "colorbar": {
             "outlinewidth": 0,
             "ticks": ""
            },
            "colorscale": [
             [
              0.0,
              "#0d0887"
             ],
             [
              0.1111111111111111,
              "#46039f"
             ],
             [
              0.2222222222222222,
              "#7201a8"
             ],
             [
              0.3333333333333333,
              "#9c179e"
             ],
             [
              0.4444444444444444,
              "#bd3786"
             ],
             [
              0.5555555555555556,
              "#d8576b"
             ],
             [
              0.6666666666666666,
              "#ed7953"
             ],
             [
              0.7777777777777778,
              "#fb9f3a"
             ],
             [
              0.8888888888888888,
              "#fdca26"
             ],
             [
              1.0,
              "#f0f921"
             ]
            ]
           }
          ],
          "contourcarpet": [
           {
            "type": "contourcarpet",
            "colorbar": {
             "outlinewidth": 0,
             "ticks": ""
            }
           }
          ],
          "contour": [
           {
            "type": "contour",
            "colorbar": {
             "outlinewidth": 0,
             "ticks": ""
            },
            "colorscale": [
             [
              0.0,
              "#0d0887"
             ],
             [
              0.1111111111111111,
              "#46039f"
             ],
             [
              0.2222222222222222,
              "#7201a8"
             ],
             [
              0.3333333333333333,
              "#9c179e"
             ],
             [
              0.4444444444444444,
              "#bd3786"
             ],
             [
              0.5555555555555556,
              "#d8576b"
             ],
             [
              0.6666666666666666,
              "#ed7953"
             ],
             [
              0.7777777777777778,
              "#fb9f3a"
             ],
             [
              0.8888888888888888,
              "#fdca26"
             ],
             [
              1.0,
              "#f0f921"
             ]
            ]
           }
          ],
          "surface": [
           {
            "type": "surface",
            "colorbar": {
             "outlinewidth": 0,
             "ticks": ""
            },
            "colorscale": [
             [
              0.0,
              "#0d0887"
             ],
             [
              0.1111111111111111,
              "#46039f"
             ],
             [
              0.2222222222222222,
              "#7201a8"
             ],
             [
              0.3333333333333333,
              "#9c179e"
             ],
             [
              0.4444444444444444,
              "#bd3786"
             ],
             [
              0.5555555555555556,
              "#d8576b"
             ],
             [
              0.6666666666666666,
              "#ed7953"
             ],
             [
              0.7777777777777778,
              "#fb9f3a"
             ],
             [
              0.8888888888888888,
              "#fdca26"
             ],
             [
              1.0,
              "#f0f921"
             ]
            ]
           }
          ],
          "mesh3d": [
           {
            "type": "mesh3d",
            "colorbar": {
             "outlinewidth": 0,
             "ticks": ""
            }
           }
          ],
          "scatter": [
           {
            "fillpattern": {
             "fillmode": "overlay",
             "size": 10,
             "solidity": 0.2
            },
            "type": "scatter"
           }
          ],
          "parcoords": [
           {
            "type": "parcoords",
            "line": {
             "colorbar": {
              "outlinewidth": 0,
              "ticks": ""
             }
            }
           }
          ],
          "scatterpolargl": [
           {
            "type": "scatterpolargl",
            "marker": {
             "colorbar": {
              "outlinewidth": 0,
              "ticks": ""
             }
            }
           }
          ],
          "bar": [
           {
            "error_x": {
             "color": "#2a3f5f"
            },
            "error_y": {
             "color": "#2a3f5f"
            },
            "marker": {
             "line": {
              "color": "#E5ECF6",
              "width": 0.5
             },
             "pattern": {
              "fillmode": "overlay",
              "size": 10,
              "solidity": 0.2
             }
            },
            "type": "bar"
           }
          ],
          "scattergeo": [
           {
            "type": "scattergeo",
            "marker": {
             "colorbar": {
              "outlinewidth": 0,
              "ticks": ""
             }
            }
           }
          ],
          "scatterpolar": [
           {
            "type": "scatterpolar",
            "marker": {
             "colorbar": {
              "outlinewidth": 0,
              "ticks": ""
             }
            }
           }
          ],
          "histogram": [
           {
            "marker": {
             "pattern": {
              "fillmode": "overlay",
              "size": 10,
              "solidity": 0.2
             }
            },
            "type": "histogram"
           }
          ],
          "scattergl": [
           {
            "type": "scattergl",
            "marker": {
             "colorbar": {
              "outlinewidth": 0,
              "ticks": ""
             }
            }
           }
          ],
          "scatter3d": [
           {
            "type": "scatter3d",
            "line": {
             "colorbar": {
              "outlinewidth": 0,
              "ticks": ""
             }
            },
            "marker": {
             "colorbar": {
              "outlinewidth": 0,
              "ticks": ""
             }
            }
           }
          ],
          "scattermapbox": [
           {
            "type": "scattermapbox",
            "marker": {
             "colorbar": {
              "outlinewidth": 0,
              "ticks": ""
             }
            }
           }
          ],
          "scatterternary": [
           {
            "type": "scatterternary",
            "marker": {
             "colorbar": {
              "outlinewidth": 0,
              "ticks": ""
             }
            }
           }
          ],
          "scattercarpet": [
           {
            "type": "scattercarpet",
            "marker": {
             "colorbar": {
              "outlinewidth": 0,
              "ticks": ""
             }
            }
           }
          ],
          "carpet": [
           {
            "aaxis": {
             "endlinecolor": "#2a3f5f",
             "gridcolor": "white",
             "linecolor": "white",
             "minorgridcolor": "white",
             "startlinecolor": "#2a3f5f"
            },
            "baxis": {
             "endlinecolor": "#2a3f5f",
             "gridcolor": "white",
             "linecolor": "white",
             "minorgridcolor": "white",
             "startlinecolor": "#2a3f5f"
            },
            "type": "carpet"
           }
          ],
          "table": [
           {
            "cells": {
             "fill": {
              "color": "#EBF0F8"
             },
             "line": {
              "color": "white"
             }
            },
            "header": {
             "fill": {
              "color": "#C8D4E3"
             },
             "line": {
              "color": "white"
             }
            },
            "type": "table"
           }
          ],
          "barpolar": [
           {
            "marker": {
             "line": {
              "color": "#E5ECF6",
              "width": 0.5
             },
             "pattern": {
              "fillmode": "overlay",
              "size": 10,
              "solidity": 0.2
             }
            },
            "type": "barpolar"
           }
          ],
          "pie": [
           {
            "automargin": true,
            "type": "pie"
           }
          ]
         },
         "layout": {
          "autotypenumbers": "strict",
          "colorway": [
           "#636efa",
           "#EF553B",
           "#00cc96",
           "#ab63fa",
           "#FFA15A",
           "#19d3f3",
           "#FF6692",
           "#B6E880",
           "#FF97FF",
           "#FECB52"
          ],
          "font": {
           "color": "#2a3f5f"
          },
          "hovermode": "closest",
          "hoverlabel": {
           "align": "left"
          },
          "paper_bgcolor": "white",
          "plot_bgcolor": "#E5ECF6",
          "polar": {
           "bgcolor": "#E5ECF6",
           "angularaxis": {
            "gridcolor": "white",
            "linecolor": "white",
            "ticks": ""
           },
           "radialaxis": {
            "gridcolor": "white",
            "linecolor": "white",
            "ticks": ""
           }
          },
          "ternary": {
           "bgcolor": "#E5ECF6",
           "aaxis": {
            "gridcolor": "white",
            "linecolor": "white",
            "ticks": ""
           },
           "baxis": {
            "gridcolor": "white",
            "linecolor": "white",
            "ticks": ""
           },
           "caxis": {
            "gridcolor": "white",
            "linecolor": "white",
            "ticks": ""
           }
          },
          "coloraxis": {
           "colorbar": {
            "outlinewidth": 0,
            "ticks": ""
           }
          },
          "colorscale": {
           "sequential": [
            [
             0.0,
             "#0d0887"
            ],
            [
             0.1111111111111111,
             "#46039f"
            ],
            [
             0.2222222222222222,
             "#7201a8"
            ],
            [
             0.3333333333333333,
             "#9c179e"
            ],
            [
             0.4444444444444444,
             "#bd3786"
            ],
            [
             0.5555555555555556,
             "#d8576b"
            ],
            [
             0.6666666666666666,
             "#ed7953"
            ],
            [
             0.7777777777777778,
             "#fb9f3a"
            ],
            [
             0.8888888888888888,
             "#fdca26"
            ],
            [
             1.0,
             "#f0f921"
            ]
           ],
           "sequentialminus": [
            [
             0.0,
             "#0d0887"
            ],
            [
             0.1111111111111111,
             "#46039f"
            ],
            [
             0.2222222222222222,
             "#7201a8"
            ],
            [
             0.3333333333333333,
             "#9c179e"
            ],
            [
             0.4444444444444444,
             "#bd3786"
            ],
            [
             0.5555555555555556,
             "#d8576b"
            ],
            [
             0.6666666666666666,
             "#ed7953"
            ],
            [
             0.7777777777777778,
             "#fb9f3a"
            ],
            [
             0.8888888888888888,
             "#fdca26"
            ],
            [
             1.0,
             "#f0f921"
            ]
           ],
           "diverging": [
            [
             0,
             "#8e0152"
            ],
            [
             0.1,
             "#c51b7d"
            ],
            [
             0.2,
             "#de77ae"
            ],
            [
             0.3,
             "#f1b6da"
            ],
            [
             0.4,
             "#fde0ef"
            ],
            [
             0.5,
             "#f7f7f7"
            ],
            [
             0.6,
             "#e6f5d0"
            ],
            [
             0.7,
             "#b8e186"
            ],
            [
             0.8,
             "#7fbc41"
            ],
            [
             0.9,
             "#4d9221"
            ],
            [
             1,
             "#276419"
            ]
           ]
          },
          "xaxis": {
           "gridcolor": "white",
           "linecolor": "white",
           "ticks": "",
           "title": {
            "standoff": 15
           },
           "zerolinecolor": "white",
           "automargin": true,
           "zerolinewidth": 2
          },
          "yaxis": {
           "gridcolor": "white",
           "linecolor": "white",
           "ticks": "",
           "title": {
            "standoff": 15
           },
           "zerolinecolor": "white",
           "automargin": true,
           "zerolinewidth": 2
          },
          "scene": {
           "xaxis": {
            "backgroundcolor": "#E5ECF6",
            "gridcolor": "white",
            "linecolor": "white",
            "showbackground": true,
            "ticks": "",
            "zerolinecolor": "white",
            "gridwidth": 2
           },
           "yaxis": {
            "backgroundcolor": "#E5ECF6",
            "gridcolor": "white",
            "linecolor": "white",
            "showbackground": true,
            "ticks": "",
            "zerolinecolor": "white",
            "gridwidth": 2
           },
           "zaxis": {
            "backgroundcolor": "#E5ECF6",
            "gridcolor": "white",
            "linecolor": "white",
            "showbackground": true,
            "ticks": "",
            "zerolinecolor": "white",
            "gridwidth": 2
           }
          },
          "shapedefaults": {
           "line": {
            "color": "#2a3f5f"
           }
          },
          "annotationdefaults": {
           "arrowcolor": "#2a3f5f",
           "arrowhead": 0,
           "arrowwidth": 1
          },
          "geo": {
           "bgcolor": "white",
           "landcolor": "#E5ECF6",
           "subunitcolor": "white",
           "showland": true,
           "showlakes": true,
           "lakecolor": "white"
          },
          "title": {
           "x": 0.05
          },
          "mapbox": {
           "style": "light"
          }
         }
        },
        "xaxis": {
         "anchor": "y",
         "domain": [
          0.0,
          1.0
         ],
         "title": {
          "text": "Stitch duration [s]"
         }
        },
        "yaxis": {
         "anchor": "x",
         "domain": [
          0.0,
          1.0
         ],
         "title": {
          "text": "Needle holder stitch visibility [s]"
         }
        },
        "legend": {
         "tracegroupgap": 0
        },
        "margin": {
         "t": 60
        },
        "width": 500
       },
       "config": {
        "plotlyServerURL": "https://plot.ly"
       }
      },
      "text/html": "<div>                            <div id=\"411b3c51-da40-44bf-9055-d5e0b229f67c\" class=\"plotly-graph-div\" style=\"height:525px; width:500px;\"></div>            <script type=\"text/javascript\">                require([\"plotly\"], function(Plotly) {                    window.PLOTLYENV=window.PLOTLYENV || {};                                    if (document.getElementById(\"411b3c51-da40-44bf-9055-d5e0b229f67c\")) {                    Plotly.newPlot(                        \"411b3c51-da40-44bf-9055-d5e0b229f67c\",                        [{\"customdata\":[[\"Bad-2021_11_03_A_Petersen_Insa_Einzelknopfnaht_am_Schweinefu_.mp4\",0],[\"Bad-2021_11_03_A_Spitze_Vanessa_Einzelknopfnaht_am_Schweinefu_.mp4\",0],[\"Bad-2021_11_03_B_V_lz__Ann_Sophie_Einzelknopfnaht_am_Schweinefu___1_.mp4\",0],[\"Medium-2021_11_03_A_Tengler_Sophie_Einzelknopfnaht_Schweinefu_.mp4\",0],[\"Good-2021_10_27_B_Etzel_Peter_Einzelknopfnaht_am_Schweinefu_.mp4\",0],[\"Bad-12_10_21__Loewe__Rebekka__Einzelknopfnaht.mp4\",0],[\"Bad-2021_11_3_A_Brodersen___nne_Einzelknopfnaht_am_Schweinefu_.mp4\",0],[\"medium-2021_11_03_A_Tengler_Sophie_Einzelknopfnaht_Schweinefu_.mp4\",0],[\"Good-Einzelknopfnaht_Stoklossa.mp4\",0],[\"Medium-2021_11_03_A_Seifert_Johanna_Einzelknopfnaht_am_Schweinefu_.mp4\",0],[\"Bad-2021_11_03_A_Noll_Alexander_Einzelknopfnaht.mp4\",0],[\"Bad-3_11_21_B_Grumt_Alina_Einzelknopfnaht_Schweinefu_.mp4\",0],[\"Bad-03_11_21_B_Hopfe_Johanna_Einzelknopfnaht.mp4\",0],[\"Good-Schmidt_Elisabeth_Einzelknotennaht_11_10_2021_MP4_SparkVideo.mp4\",0],[\"Medium-RPReplay_Final1634048018.mp4\",0],[\"Good-Schweinefu__Einzelknopfnaht.mp4\",0],[\"Medium-Schweinefu_.mp4\",0],[\"Einzelknopfnaht_Lina_Sch\\u00e4fer.mp4\",0],[\"Einzelknopfnaht_Elena.Vai-Wieting.mov\",0],[\"Stresstest_Einzelknopfnaht.mp4\",0],[\"Bildschirmaufnahme_2022-10-11_um_11.20.24.mov\",0],[\"2023-02-21_SchuldtSalome_Einzelknopfnaht_am_Schweinefu\\u00df.mp4\",0],[\"11.4.2024.HarmsS\\u00f6ren.NHT.mp4\",0],[\"Pre_-Test_Isabel_Linden.mp4\",0],[\"Gehrke,Yves - post.mp4\",0],[\"Hilger,Anke-Posttest.mp4\",0],[\"Schiesser_David_post_test.mp4\",0],[\"Fehringer_Pascal__post_test.mp4\",0],[\"EinzelknopfnahtamSchweinefuss_Muenzner_Simeon.mp4\",0],[\"Bad-2021_11_03_A_Petersen_Insa_Einzelknopfnaht_am_Schweinefu_.mp4\",1],[\"Bad-2021_11_03_A_Spitze_Vanessa_Einzelknopfnaht_am_Schweinefu_.mp4\",1],[\"Bad-2021_11_03_B_V_lz__Ann_Sophie_Einzelknopfnaht_am_Schweinefu___1_.mp4\",1],[\"Medium-2021_11_03_A_Tengler_Sophie_Einzelknopfnaht_Schweinefu_.mp4\",1],[\"Good-2021_10_27_B_Etzel_Peter_Einzelknopfnaht_am_Schweinefu_.mp4\",1],[\"Bad-12_10_21__Loewe__Rebekka__Einzelknopfnaht.mp4\",1],[\"Bad-2021_11_3_A_Brodersen___nne_Einzelknopfnaht_am_Schweinefu_.mp4\",1],[\"medium-2021_11_03_A_Tengler_Sophie_Einzelknopfnaht_Schweinefu_.mp4\",1],[\"Good-Einzelknopfnaht_Stoklossa.mp4\",1],[\"Medium-2021_11_03_A_Seifert_Johanna_Einzelknopfnaht_am_Schweinefu_.mp4\",1],[\"Bad-2021_11_03_A_Noll_Alexander_Einzelknopfnaht.mp4\",1],[\"Bad-3_11_21_B_Grumt_Alina_Einzelknopfnaht_Schweinefu_.mp4\",1],[\"Bad-03_11_21_B_Hopfe_Johanna_Einzelknopfnaht.mp4\",1],[\"Good-Schmidt_Elisabeth_Einzelknotennaht_11_10_2021_MP4_SparkVideo.mp4\",1],[\"Medium-RPReplay_Final1634048018.mp4\",1],[\"Good-Schweinefu__Einzelknopfnaht.mp4\",1],[\"Medium-Schweinefu_.mp4\",1],[\"Einzelknopfnaht_Lina_Sch\\u00e4fer.mp4\",1],[\"Einzelknopfnaht_Elena.Vai-Wieting.mov\",1],[\"Stresstest_Einzelknopfnaht.mp4\",1],[\"Bildschirmaufnahme_2022-10-11_um_11.20.24.mov\",1],[\"2023-02-21_SchuldtSalome_Einzelknopfnaht_am_Schweinefu\\u00df.mp4\",1],[\"11.4.2024.HarmsS\\u00f6ren.NHT.mp4\",1],[\"Pre_-Test_Isabel_Linden.mp4\",1],[\"Gehrke,Yves - post.mp4\",1],[\"Hilger,Anke-Posttest.mp4\",1],[\"Schiesser_David_post_test.mp4\",1],[\"Fehringer_Pascal__post_test.mp4\",1],[\"EinzelknopfnahtamSchweinefuss_Muenzner_Simeon.mp4\",1],[\"Bad-2021_11_03_A_Petersen_Insa_Einzelknopfnaht_am_Schweinefu_.mp4\",2],[\"Bad-2021_11_03_A_Spitze_Vanessa_Einzelknopfnaht_am_Schweinefu_.mp4\",2],[\"Bad-2021_11_03_B_V_lz__Ann_Sophie_Einzelknopfnaht_am_Schweinefu___1_.mp4\",2],[\"Medium-2021_11_03_A_Tengler_Sophie_Einzelknopfnaht_Schweinefu_.mp4\",2],[\"Good-2021_10_27_B_Etzel_Peter_Einzelknopfnaht_am_Schweinefu_.mp4\",2],[\"Bad-12_10_21__Loewe__Rebekka__Einzelknopfnaht.mp4\",2],[\"Bad-2021_11_3_A_Brodersen___nne_Einzelknopfnaht_am_Schweinefu_.mp4\",2],[\"medium-2021_11_03_A_Tengler_Sophie_Einzelknopfnaht_Schweinefu_.mp4\",2],[\"Good-Einzelknopfnaht_Stoklossa.mp4\",2],[\"Medium-2021_11_03_A_Seifert_Johanna_Einzelknopfnaht_am_Schweinefu_.mp4\",2],[\"Bad-2021_11_03_A_Noll_Alexander_Einzelknopfnaht.mp4\",2],[\"Bad-3_11_21_B_Grumt_Alina_Einzelknopfnaht_Schweinefu_.mp4\",2],[\"Bad-03_11_21_B_Hopfe_Johanna_Einzelknopfnaht.mp4\",2],[\"Good-Schmidt_Elisabeth_Einzelknotennaht_11_10_2021_MP4_SparkVideo.mp4\",2],[\"Medium-RPReplay_Final1634048018.mp4\",2],[\"Good-Schweinefu__Einzelknopfnaht.mp4\",2],[\"Medium-Schweinefu_.mp4\",2],[\"Einzelknopfnaht_Lina_Sch\\u00e4fer.mp4\",2],[\"Einzelknopfnaht_Elena.Vai-Wieting.mov\",2],[\"Stresstest_Einzelknopfnaht.mp4\",2],[\"Bildschirmaufnahme_2022-10-11_um_11.20.24.mov\",2],[\"2023-02-21_SchuldtSalome_Einzelknopfnaht_am_Schweinefu\\u00df.mp4\",2],[\"11.4.2024.HarmsS\\u00f6ren.NHT.mp4\",2],[\"Pre_-Test_Isabel_Linden.mp4\",2],[\"Gehrke,Yves - post.mp4\",2],[\"Hilger,Anke-Posttest.mp4\",2],[\"Schiesser_David_post_test.mp4\",2],[\"Fehringer_Pascal__post_test.mp4\",2],[\"EinzelknopfnahtamSchweinefuss_Muenzner_Simeon.mp4\",2],[\"Bad-2021_11_03_A_Petersen_Insa_Einzelknopfnaht_am_Schweinefu_.mp4\",3],[\"Bad-2021_11_03_A_Spitze_Vanessa_Einzelknopfnaht_am_Schweinefu_.mp4\",3],[\"Bad-2021_11_03_B_V_lz__Ann_Sophie_Einzelknopfnaht_am_Schweinefu___1_.mp4\",3],[\"Medium-2021_11_03_A_Tengler_Sophie_Einzelknopfnaht_Schweinefu_.mp4\",3],[\"Good-2021_10_27_B_Etzel_Peter_Einzelknopfnaht_am_Schweinefu_.mp4\",3],[\"Bad-12_10_21__Loewe__Rebekka__Einzelknopfnaht.mp4\",3],[\"Bad-2021_11_3_A_Brodersen___nne_Einzelknopfnaht_am_Schweinefu_.mp4\",3],[\"medium-2021_11_03_A_Tengler_Sophie_Einzelknopfnaht_Schweinefu_.mp4\",3],[\"Good-Einzelknopfnaht_Stoklossa.mp4\",3],[\"Medium-2021_11_03_A_Seifert_Johanna_Einzelknopfnaht_am_Schweinefu_.mp4\",3],[\"Bad-2021_11_03_A_Noll_Alexander_Einzelknopfnaht.mp4\",3],[\"Bad-3_11_21_B_Grumt_Alina_Einzelknopfnaht_Schweinefu_.mp4\",3],[\"Bad-03_11_21_B_Hopfe_Johanna_Einzelknopfnaht.mp4\",3],[\"Good-Schmidt_Elisabeth_Einzelknotennaht_11_10_2021_MP4_SparkVideo.mp4\",3],[\"Medium-RPReplay_Final1634048018.mp4\",3],[\"Good-Schweinefu__Einzelknopfnaht.mp4\",3],[\"Medium-Schweinefu_.mp4\",3],[\"Einzelknopfnaht_Lina_Sch\\u00e4fer.mp4\",3],[\"Einzelknopfnaht_Elena.Vai-Wieting.mov\",3],[\"Stresstest_Einzelknopfnaht.mp4\",3],[\"Bildschirmaufnahme_2022-10-11_um_11.20.24.mov\",3],[\"2023-02-21_SchuldtSalome_Einzelknopfnaht_am_Schweinefu\\u00df.mp4\",3],[\"11.4.2024.HarmsS\\u00f6ren.NHT.mp4\",3],[\"Pre_-Test_Isabel_Linden.mp4\",3],[\"Gehrke,Yves - post.mp4\",3],[\"Hilger,Anke-Posttest.mp4\",3],[\"Schiesser_David_post_test.mp4\",3],[\"Fehringer_Pascal__post_test.mp4\",3],[\"EinzelknopfnahtamSchweinefuss_Muenzner_Simeon.mp4\",3],[\"Bad-2021_11_03_A_Petersen_Insa_Einzelknopfnaht_am_Schweinefu_.mp4\",4],[\"Bad-2021_11_03_A_Spitze_Vanessa_Einzelknopfnaht_am_Schweinefu_.mp4\",4],[\"Bad-2021_11_03_B_V_lz__Ann_Sophie_Einzelknopfnaht_am_Schweinefu___1_.mp4\",4],[\"Medium-2021_11_03_A_Tengler_Sophie_Einzelknopfnaht_Schweinefu_.mp4\",4],[\"Good-2021_10_27_B_Etzel_Peter_Einzelknopfnaht_am_Schweinefu_.mp4\",4],[\"Bad-12_10_21__Loewe__Rebekka__Einzelknopfnaht.mp4\",4],[\"Bad-2021_11_3_A_Brodersen___nne_Einzelknopfnaht_am_Schweinefu_.mp4\",4],[\"medium-2021_11_03_A_Tengler_Sophie_Einzelknopfnaht_Schweinefu_.mp4\",4],[\"Good-Einzelknopfnaht_Stoklossa.mp4\",4],[\"Medium-2021_11_03_A_Seifert_Johanna_Einzelknopfnaht_am_Schweinefu_.mp4\",4],[\"Bad-2021_11_03_A_Noll_Alexander_Einzelknopfnaht.mp4\",4],[\"Bad-3_11_21_B_Grumt_Alina_Einzelknopfnaht_Schweinefu_.mp4\",4],[\"Bad-03_11_21_B_Hopfe_Johanna_Einzelknopfnaht.mp4\",4],[\"Good-Schmidt_Elisabeth_Einzelknotennaht_11_10_2021_MP4_SparkVideo.mp4\",4],[\"Medium-RPReplay_Final1634048018.mp4\",4],[\"Good-Schweinefu__Einzelknopfnaht.mp4\",4],[\"Medium-Schweinefu_.mp4\",4],[\"Einzelknopfnaht_Lina_Sch\\u00e4fer.mp4\",4],[\"Einzelknopfnaht_Elena.Vai-Wieting.mov\",4],[\"Stresstest_Einzelknopfnaht.mp4\",4],[\"Bildschirmaufnahme_2022-10-11_um_11.20.24.mov\",4],[\"2023-02-21_SchuldtSalome_Einzelknopfnaht_am_Schweinefu\\u00df.mp4\",4],[\"11.4.2024.HarmsS\\u00f6ren.NHT.mp4\",4],[\"Pre_-Test_Isabel_Linden.mp4\",4],[\"Gehrke,Yves - post.mp4\",4],[\"Hilger,Anke-Posttest.mp4\",4],[\"Schiesser_David_post_test.mp4\",4],[\"Fehringer_Pascal__post_test.mp4\",4],[\"EinzelknopfnahtamSchweinefuss_Muenzner_Simeon.mp4\",4]],\"hovertemplate\":\"Stitch duration [s]=%{x}<br>Needle holder stitch visibility [s]=%{y}<br>filename=%{customdata[0]}<br>stitch_id=%{customdata[1]}<extra></extra>\",\"legendgroup\":\"\",\"marker\":{\"color\":\"#636efa\",\"symbol\":\"circle\"},\"mode\":\"markers\",\"name\":\"\",\"orientation\":\"v\",\"showlegend\":false,\"x\":[112.0,125.0,100.0,54.0,92.0,235.0,131.0,55.0,94.0,58.0,87.0,114.0,112.0,128.0,152.0,74.0,106.0,126.0,105.0,70.0,179.0,169.0,41.6,75.0,72.0,56.0,68.0,82.0,120.0,null,null,null,null,null,null,149.0,null,133.0,53.0,89.0,125.0,165.0,null,null,89.0,null,null,77.0,64.0,132.0,null,72.73333333,124.0,61.0,43.0,53.0,null,110.0,null,null,null,null,null,null,null,null,null,null,null,null,null,null,null,null,null,null,92.0,60.0,129.0,null,68.66666667,94.0,null,56.0,46.0,null,null,null,null,null,null,null,null,null,null,null,null,null,null,null,null,null,null,null,null,null,62.0,121.0,null,null,null,null,41.0,58.0,null,null,null,null,null,null,null,null,null,null,null,null,null,null,null,null,null,null,null,null,null,54.0,101.0,null,null,null,null,43.0,null,null,null],\"xaxis\":\"x\",\"y\":[95.6,107.7333333,94.06666667,44.66666667,76.0,218.1333333,89.8,45.6,89.53333333,50.73333333,74.66666667,75.2,91.46666667,114.6,113.8666667,58.2,91.73333333,101.1333333,89.33333333,41.33333333,134.4666667,87.73333333,27.0,46.6,65.66666667,39.4,62.2,71.53333333,97.0,null,null,null,null,null,null,112.6666667,null,109.6666667,45.06666667,61.4,null,null,null,null,null,null,null,65.93333333,51.2,90.33333333,null,42.8,88.06666667,52.66666667,34.8,47.26666667,null,77.73333333,null,null,null,null,null,null,null,null,null,null,null,null,null,null,null,null,null,null,null,53.93333333,106.8666667,null,48.0,null,null,48.13333333,34.73333333,null,null,null,null,null,null,null,null,null,null,null,null,null,null,null,null,null,null,null,null,null,57.8,95.2,null,null,null,null,32.66666667,47.93333333,null,null,null,null,null,null,null,null,null,null,null,null,null,null,null,null,null,null,null,null,null,48.4,86.2,null,null,null,null,37.2,null,null,null],\"yaxis\":\"y\",\"type\":\"scatter\"}],                        {\"template\":{\"data\":{\"histogram2dcontour\":[{\"type\":\"histogram2dcontour\",\"colorbar\":{\"outlinewidth\":0,\"ticks\":\"\"},\"colorscale\":[[0.0,\"#0d0887\"],[0.1111111111111111,\"#46039f\"],[0.2222222222222222,\"#7201a8\"],[0.3333333333333333,\"#9c179e\"],[0.4444444444444444,\"#bd3786\"],[0.5555555555555556,\"#d8576b\"],[0.6666666666666666,\"#ed7953\"],[0.7777777777777778,\"#fb9f3a\"],[0.8888888888888888,\"#fdca26\"],[1.0,\"#f0f921\"]]}],\"choropleth\":[{\"type\":\"choropleth\",\"colorbar\":{\"outlinewidth\":0,\"ticks\":\"\"}}],\"histogram2d\":[{\"type\":\"histogram2d\",\"colorbar\":{\"outlinewidth\":0,\"ticks\":\"\"},\"colorscale\":[[0.0,\"#0d0887\"],[0.1111111111111111,\"#46039f\"],[0.2222222222222222,\"#7201a8\"],[0.3333333333333333,\"#9c179e\"],[0.4444444444444444,\"#bd3786\"],[0.5555555555555556,\"#d8576b\"],[0.6666666666666666,\"#ed7953\"],[0.7777777777777778,\"#fb9f3a\"],[0.8888888888888888,\"#fdca26\"],[1.0,\"#f0f921\"]]}],\"heatmap\":[{\"type\":\"heatmap\",\"colorbar\":{\"outlinewidth\":0,\"ticks\":\"\"},\"colorscale\":[[0.0,\"#0d0887\"],[0.1111111111111111,\"#46039f\"],[0.2222222222222222,\"#7201a8\"],[0.3333333333333333,\"#9c179e\"],[0.4444444444444444,\"#bd3786\"],[0.5555555555555556,\"#d8576b\"],[0.6666666666666666,\"#ed7953\"],[0.7777777777777778,\"#fb9f3a\"],[0.8888888888888888,\"#fdca26\"],[1.0,\"#f0f921\"]]}],\"heatmapgl\":[{\"type\":\"heatmapgl\",\"colorbar\":{\"outlinewidth\":0,\"ticks\":\"\"},\"colorscale\":[[0.0,\"#0d0887\"],[0.1111111111111111,\"#46039f\"],[0.2222222222222222,\"#7201a8\"],[0.3333333333333333,\"#9c179e\"],[0.4444444444444444,\"#bd3786\"],[0.5555555555555556,\"#d8576b\"],[0.6666666666666666,\"#ed7953\"],[0.7777777777777778,\"#fb9f3a\"],[0.8888888888888888,\"#fdca26\"],[1.0,\"#f0f921\"]]}],\"contourcarpet\":[{\"type\":\"contourcarpet\",\"colorbar\":{\"outlinewidth\":0,\"ticks\":\"\"}}],\"contour\":[{\"type\":\"contour\",\"colorbar\":{\"outlinewidth\":0,\"ticks\":\"\"},\"colorscale\":[[0.0,\"#0d0887\"],[0.1111111111111111,\"#46039f\"],[0.2222222222222222,\"#7201a8\"],[0.3333333333333333,\"#9c179e\"],[0.4444444444444444,\"#bd3786\"],[0.5555555555555556,\"#d8576b\"],[0.6666666666666666,\"#ed7953\"],[0.7777777777777778,\"#fb9f3a\"],[0.8888888888888888,\"#fdca26\"],[1.0,\"#f0f921\"]]}],\"surface\":[{\"type\":\"surface\",\"colorbar\":{\"outlinewidth\":0,\"ticks\":\"\"},\"colorscale\":[[0.0,\"#0d0887\"],[0.1111111111111111,\"#46039f\"],[0.2222222222222222,\"#7201a8\"],[0.3333333333333333,\"#9c179e\"],[0.4444444444444444,\"#bd3786\"],[0.5555555555555556,\"#d8576b\"],[0.6666666666666666,\"#ed7953\"],[0.7777777777777778,\"#fb9f3a\"],[0.8888888888888888,\"#fdca26\"],[1.0,\"#f0f921\"]]}],\"mesh3d\":[{\"type\":\"mesh3d\",\"colorbar\":{\"outlinewidth\":0,\"ticks\":\"\"}}],\"scatter\":[{\"fillpattern\":{\"fillmode\":\"overlay\",\"size\":10,\"solidity\":0.2},\"type\":\"scatter\"}],\"parcoords\":[{\"type\":\"parcoords\",\"line\":{\"colorbar\":{\"outlinewidth\":0,\"ticks\":\"\"}}}],\"scatterpolargl\":[{\"type\":\"scatterpolargl\",\"marker\":{\"colorbar\":{\"outlinewidth\":0,\"ticks\":\"\"}}}],\"bar\":[{\"error_x\":{\"color\":\"#2a3f5f\"},\"error_y\":{\"color\":\"#2a3f5f\"},\"marker\":{\"line\":{\"color\":\"#E5ECF6\",\"width\":0.5},\"pattern\":{\"fillmode\":\"overlay\",\"size\":10,\"solidity\":0.2}},\"type\":\"bar\"}],\"scattergeo\":[{\"type\":\"scattergeo\",\"marker\":{\"colorbar\":{\"outlinewidth\":0,\"ticks\":\"\"}}}],\"scatterpolar\":[{\"type\":\"scatterpolar\",\"marker\":{\"colorbar\":{\"outlinewidth\":0,\"ticks\":\"\"}}}],\"histogram\":[{\"marker\":{\"pattern\":{\"fillmode\":\"overlay\",\"size\":10,\"solidity\":0.2}},\"type\":\"histogram\"}],\"scattergl\":[{\"type\":\"scattergl\",\"marker\":{\"colorbar\":{\"outlinewidth\":0,\"ticks\":\"\"}}}],\"scatter3d\":[{\"type\":\"scatter3d\",\"line\":{\"colorbar\":{\"outlinewidth\":0,\"ticks\":\"\"}},\"marker\":{\"colorbar\":{\"outlinewidth\":0,\"ticks\":\"\"}}}],\"scattermapbox\":[{\"type\":\"scattermapbox\",\"marker\":{\"colorbar\":{\"outlinewidth\":0,\"ticks\":\"\"}}}],\"scatterternary\":[{\"type\":\"scatterternary\",\"marker\":{\"colorbar\":{\"outlinewidth\":0,\"ticks\":\"\"}}}],\"scattercarpet\":[{\"type\":\"scattercarpet\",\"marker\":{\"colorbar\":{\"outlinewidth\":0,\"ticks\":\"\"}}}],\"carpet\":[{\"aaxis\":{\"endlinecolor\":\"#2a3f5f\",\"gridcolor\":\"white\",\"linecolor\":\"white\",\"minorgridcolor\":\"white\",\"startlinecolor\":\"#2a3f5f\"},\"baxis\":{\"endlinecolor\":\"#2a3f5f\",\"gridcolor\":\"white\",\"linecolor\":\"white\",\"minorgridcolor\":\"white\",\"startlinecolor\":\"#2a3f5f\"},\"type\":\"carpet\"}],\"table\":[{\"cells\":{\"fill\":{\"color\":\"#EBF0F8\"},\"line\":{\"color\":\"white\"}},\"header\":{\"fill\":{\"color\":\"#C8D4E3\"},\"line\":{\"color\":\"white\"}},\"type\":\"table\"}],\"barpolar\":[{\"marker\":{\"line\":{\"color\":\"#E5ECF6\",\"width\":0.5},\"pattern\":{\"fillmode\":\"overlay\",\"size\":10,\"solidity\":0.2}},\"type\":\"barpolar\"}],\"pie\":[{\"automargin\":true,\"type\":\"pie\"}]},\"layout\":{\"autotypenumbers\":\"strict\",\"colorway\":[\"#636efa\",\"#EF553B\",\"#00cc96\",\"#ab63fa\",\"#FFA15A\",\"#19d3f3\",\"#FF6692\",\"#B6E880\",\"#FF97FF\",\"#FECB52\"],\"font\":{\"color\":\"#2a3f5f\"},\"hovermode\":\"closest\",\"hoverlabel\":{\"align\":\"left\"},\"paper_bgcolor\":\"white\",\"plot_bgcolor\":\"#E5ECF6\",\"polar\":{\"bgcolor\":\"#E5ECF6\",\"angularaxis\":{\"gridcolor\":\"white\",\"linecolor\":\"white\",\"ticks\":\"\"},\"radialaxis\":{\"gridcolor\":\"white\",\"linecolor\":\"white\",\"ticks\":\"\"}},\"ternary\":{\"bgcolor\":\"#E5ECF6\",\"aaxis\":{\"gridcolor\":\"white\",\"linecolor\":\"white\",\"ticks\":\"\"},\"baxis\":{\"gridcolor\":\"white\",\"linecolor\":\"white\",\"ticks\":\"\"},\"caxis\":{\"gridcolor\":\"white\",\"linecolor\":\"white\",\"ticks\":\"\"}},\"coloraxis\":{\"colorbar\":{\"outlinewidth\":0,\"ticks\":\"\"}},\"colorscale\":{\"sequential\":[[0.0,\"#0d0887\"],[0.1111111111111111,\"#46039f\"],[0.2222222222222222,\"#7201a8\"],[0.3333333333333333,\"#9c179e\"],[0.4444444444444444,\"#bd3786\"],[0.5555555555555556,\"#d8576b\"],[0.6666666666666666,\"#ed7953\"],[0.7777777777777778,\"#fb9f3a\"],[0.8888888888888888,\"#fdca26\"],[1.0,\"#f0f921\"]],\"sequentialminus\":[[0.0,\"#0d0887\"],[0.1111111111111111,\"#46039f\"],[0.2222222222222222,\"#7201a8\"],[0.3333333333333333,\"#9c179e\"],[0.4444444444444444,\"#bd3786\"],[0.5555555555555556,\"#d8576b\"],[0.6666666666666666,\"#ed7953\"],[0.7777777777777778,\"#fb9f3a\"],[0.8888888888888888,\"#fdca26\"],[1.0,\"#f0f921\"]],\"diverging\":[[0,\"#8e0152\"],[0.1,\"#c51b7d\"],[0.2,\"#de77ae\"],[0.3,\"#f1b6da\"],[0.4,\"#fde0ef\"],[0.5,\"#f7f7f7\"],[0.6,\"#e6f5d0\"],[0.7,\"#b8e186\"],[0.8,\"#7fbc41\"],[0.9,\"#4d9221\"],[1,\"#276419\"]]},\"xaxis\":{\"gridcolor\":\"white\",\"linecolor\":\"white\",\"ticks\":\"\",\"title\":{\"standoff\":15},\"zerolinecolor\":\"white\",\"automargin\":true,\"zerolinewidth\":2},\"yaxis\":{\"gridcolor\":\"white\",\"linecolor\":\"white\",\"ticks\":\"\",\"title\":{\"standoff\":15},\"zerolinecolor\":\"white\",\"automargin\":true,\"zerolinewidth\":2},\"scene\":{\"xaxis\":{\"backgroundcolor\":\"#E5ECF6\",\"gridcolor\":\"white\",\"linecolor\":\"white\",\"showbackground\":true,\"ticks\":\"\",\"zerolinecolor\":\"white\",\"gridwidth\":2},\"yaxis\":{\"backgroundcolor\":\"#E5ECF6\",\"gridcolor\":\"white\",\"linecolor\":\"white\",\"showbackground\":true,\"ticks\":\"\",\"zerolinecolor\":\"white\",\"gridwidth\":2},\"zaxis\":{\"backgroundcolor\":\"#E5ECF6\",\"gridcolor\":\"white\",\"linecolor\":\"white\",\"showbackground\":true,\"ticks\":\"\",\"zerolinecolor\":\"white\",\"gridwidth\":2}},\"shapedefaults\":{\"line\":{\"color\":\"#2a3f5f\"}},\"annotationdefaults\":{\"arrowcolor\":\"#2a3f5f\",\"arrowhead\":0,\"arrowwidth\":1},\"geo\":{\"bgcolor\":\"white\",\"landcolor\":\"#E5ECF6\",\"subunitcolor\":\"white\",\"showland\":true,\"showlakes\":true,\"lakecolor\":\"white\"},\"title\":{\"x\":0.05},\"mapbox\":{\"style\":\"light\"}}},\"xaxis\":{\"anchor\":\"y\",\"domain\":[0.0,1.0],\"title\":{\"text\":\"Stitch duration [s]\"}},\"yaxis\":{\"anchor\":\"x\",\"domain\":[0.0,1.0],\"title\":{\"text\":\"Needle holder stitch visibility [s]\"}},\"legend\":{\"tracegroupgap\":0},\"margin\":{\"t\":60},\"width\":500},                        {\"responsive\": true}                    ).then(function(){\n                            \nvar gd = document.getElementById('411b3c51-da40-44bf-9055-d5e0b229f67c');\nvar x = new MutationObserver(function (mutations, observer) {{\n        var display = window.getComputedStyle(gd).display;\n        if (!display || display === 'none') {{\n            console.log([gd, 'removed!']);\n            Plotly.purge(gd);\n            observer.disconnect();\n        }}\n}});\n\n// Listen for the removal of the full notebook cells\nvar notebookContainer = gd.closest('#notebook-container');\nif (notebookContainer) {{\n    x.observe(notebookContainer, {childList: true});\n}}\n\n// Listen for the clearing of the current output cell\nvar outputEl = gd.closest('.output');\nif (outputEl) {{\n    x.observe(outputEl, {childList: true});\n}}\n\n                        })                };                });            </script>        </div>"
     },
     "metadata": {},
     "output_type": "display_data"
    }
   ],
   "source": [
    "px.scatter(dfst, y=\"Needle holder stitch visibility [s]\", x=\"Stitch duration [s]\", hover_data=[\"filename\", \"stitch_id\"], width=500)\n"
   ],
   "metadata": {
    "collapsed": false,
    "ExecuteTime": {
     "end_time": "2024-07-05T11:59:34.518162300Z",
     "start_time": "2024-07-05T11:59:34.136407700Z"
    }
   },
   "id": "6a962e42daa9f092",
   "execution_count": 79
  },
  {
   "cell_type": "code",
   "outputs": [],
   "source": [],
   "metadata": {
    "collapsed": false
   },
   "id": "79ac2f6b43a47b75",
   "execution_count": null
  },
  {
   "cell_type": "code",
   "outputs": [
    {
     "data": {
      "application/vnd.plotly.v1+json": {
       "data": [
        {
         "customdata": [
          [
           "Bad-2021_11_03_A_Petersen_Insa_Einzelknopfnaht_am_Schweinefu_.mp4",
           0
          ],
          [
           "Bad-2021_11_03_A_Spitze_Vanessa_Einzelknopfnaht_am_Schweinefu_.mp4",
           0
          ],
          [
           "Bad-2021_11_03_B_V_lz__Ann_Sophie_Einzelknopfnaht_am_Schweinefu___1_.mp4",
           0
          ],
          [
           "Medium-2021_11_03_A_Tengler_Sophie_Einzelknopfnaht_Schweinefu_.mp4",
           0
          ],
          [
           "Good-2021_10_27_B_Etzel_Peter_Einzelknopfnaht_am_Schweinefu_.mp4",
           0
          ],
          [
           "Bad-12_10_21__Loewe__Rebekka__Einzelknopfnaht.mp4",
           0
          ],
          [
           "Bad-2021_11_3_A_Brodersen___nne_Einzelknopfnaht_am_Schweinefu_.mp4",
           0
          ],
          [
           "medium-2021_11_03_A_Tengler_Sophie_Einzelknopfnaht_Schweinefu_.mp4",
           0
          ],
          [
           "Good-Einzelknopfnaht_Stoklossa.mp4",
           0
          ],
          [
           "Medium-2021_11_03_A_Seifert_Johanna_Einzelknopfnaht_am_Schweinefu_.mp4",
           0
          ],
          [
           "Bad-2021_11_03_A_Noll_Alexander_Einzelknopfnaht.mp4",
           0
          ],
          [
           "Bad-3_11_21_B_Grumt_Alina_Einzelknopfnaht_Schweinefu_.mp4",
           0
          ],
          [
           "Bad-03_11_21_B_Hopfe_Johanna_Einzelknopfnaht.mp4",
           0
          ],
          [
           "Good-Schmidt_Elisabeth_Einzelknotennaht_11_10_2021_MP4_SparkVideo.mp4",
           0
          ],
          [
           "Medium-RPReplay_Final1634048018.mp4",
           0
          ],
          [
           "Good-Schweinefu__Einzelknopfnaht.mp4",
           0
          ],
          [
           "Medium-Schweinefu_.mp4",
           0
          ],
          [
           "Einzelknopfnaht_Lina_Schäfer.mp4",
           0
          ],
          [
           "Einzelknopfnaht_Elena.Vai-Wieting.mov",
           0
          ],
          [
           "Stresstest_Einzelknopfnaht.mp4",
           0
          ],
          [
           "Bildschirmaufnahme_2022-10-11_um_11.20.24.mov",
           0
          ],
          [
           "2023-02-21_SchuldtSalome_Einzelknopfnaht_am_Schweinefuß.mp4",
           0
          ],
          [
           "11.4.2024.HarmsSören.NHT.mp4",
           0
          ],
          [
           "Pre_-Test_Isabel_Linden.mp4",
           0
          ],
          [
           "Gehrke,Yves - post.mp4",
           0
          ],
          [
           "Hilger,Anke-Posttest.mp4",
           0
          ],
          [
           "Schiesser_David_post_test.mp4",
           0
          ],
          [
           "Fehringer_Pascal__post_test.mp4",
           0
          ],
          [
           "EinzelknopfnahtamSchweinefuss_Muenzner_Simeon.mp4",
           0
          ],
          [
           "Bad-2021_11_03_A_Petersen_Insa_Einzelknopfnaht_am_Schweinefu_.mp4",
           1
          ],
          [
           "Bad-2021_11_03_A_Spitze_Vanessa_Einzelknopfnaht_am_Schweinefu_.mp4",
           1
          ],
          [
           "Bad-2021_11_03_B_V_lz__Ann_Sophie_Einzelknopfnaht_am_Schweinefu___1_.mp4",
           1
          ],
          [
           "Medium-2021_11_03_A_Tengler_Sophie_Einzelknopfnaht_Schweinefu_.mp4",
           1
          ],
          [
           "Good-2021_10_27_B_Etzel_Peter_Einzelknopfnaht_am_Schweinefu_.mp4",
           1
          ],
          [
           "Bad-12_10_21__Loewe__Rebekka__Einzelknopfnaht.mp4",
           1
          ],
          [
           "Bad-2021_11_3_A_Brodersen___nne_Einzelknopfnaht_am_Schweinefu_.mp4",
           1
          ],
          [
           "medium-2021_11_03_A_Tengler_Sophie_Einzelknopfnaht_Schweinefu_.mp4",
           1
          ],
          [
           "Good-Einzelknopfnaht_Stoklossa.mp4",
           1
          ],
          [
           "Medium-2021_11_03_A_Seifert_Johanna_Einzelknopfnaht_am_Schweinefu_.mp4",
           1
          ],
          [
           "Bad-2021_11_03_A_Noll_Alexander_Einzelknopfnaht.mp4",
           1
          ],
          [
           "Bad-3_11_21_B_Grumt_Alina_Einzelknopfnaht_Schweinefu_.mp4",
           1
          ],
          [
           "Bad-03_11_21_B_Hopfe_Johanna_Einzelknopfnaht.mp4",
           1
          ],
          [
           "Good-Schmidt_Elisabeth_Einzelknotennaht_11_10_2021_MP4_SparkVideo.mp4",
           1
          ],
          [
           "Medium-RPReplay_Final1634048018.mp4",
           1
          ],
          [
           "Good-Schweinefu__Einzelknopfnaht.mp4",
           1
          ],
          [
           "Medium-Schweinefu_.mp4",
           1
          ],
          [
           "Einzelknopfnaht_Lina_Schäfer.mp4",
           1
          ],
          [
           "Einzelknopfnaht_Elena.Vai-Wieting.mov",
           1
          ],
          [
           "Stresstest_Einzelknopfnaht.mp4",
           1
          ],
          [
           "Bildschirmaufnahme_2022-10-11_um_11.20.24.mov",
           1
          ],
          [
           "2023-02-21_SchuldtSalome_Einzelknopfnaht_am_Schweinefuß.mp4",
           1
          ],
          [
           "11.4.2024.HarmsSören.NHT.mp4",
           1
          ],
          [
           "Pre_-Test_Isabel_Linden.mp4",
           1
          ],
          [
           "Gehrke,Yves - post.mp4",
           1
          ],
          [
           "Hilger,Anke-Posttest.mp4",
           1
          ],
          [
           "Schiesser_David_post_test.mp4",
           1
          ],
          [
           "Fehringer_Pascal__post_test.mp4",
           1
          ],
          [
           "EinzelknopfnahtamSchweinefuss_Muenzner_Simeon.mp4",
           1
          ],
          [
           "Bad-2021_11_03_A_Petersen_Insa_Einzelknopfnaht_am_Schweinefu_.mp4",
           2
          ],
          [
           "Bad-2021_11_03_A_Spitze_Vanessa_Einzelknopfnaht_am_Schweinefu_.mp4",
           2
          ],
          [
           "Bad-2021_11_03_B_V_lz__Ann_Sophie_Einzelknopfnaht_am_Schweinefu___1_.mp4",
           2
          ],
          [
           "Medium-2021_11_03_A_Tengler_Sophie_Einzelknopfnaht_Schweinefu_.mp4",
           2
          ],
          [
           "Good-2021_10_27_B_Etzel_Peter_Einzelknopfnaht_am_Schweinefu_.mp4",
           2
          ],
          [
           "Bad-12_10_21__Loewe__Rebekka__Einzelknopfnaht.mp4",
           2
          ],
          [
           "Bad-2021_11_3_A_Brodersen___nne_Einzelknopfnaht_am_Schweinefu_.mp4",
           2
          ],
          [
           "medium-2021_11_03_A_Tengler_Sophie_Einzelknopfnaht_Schweinefu_.mp4",
           2
          ],
          [
           "Good-Einzelknopfnaht_Stoklossa.mp4",
           2
          ],
          [
           "Medium-2021_11_03_A_Seifert_Johanna_Einzelknopfnaht_am_Schweinefu_.mp4",
           2
          ],
          [
           "Bad-2021_11_03_A_Noll_Alexander_Einzelknopfnaht.mp4",
           2
          ],
          [
           "Bad-3_11_21_B_Grumt_Alina_Einzelknopfnaht_Schweinefu_.mp4",
           2
          ],
          [
           "Bad-03_11_21_B_Hopfe_Johanna_Einzelknopfnaht.mp4",
           2
          ],
          [
           "Good-Schmidt_Elisabeth_Einzelknotennaht_11_10_2021_MP4_SparkVideo.mp4",
           2
          ],
          [
           "Medium-RPReplay_Final1634048018.mp4",
           2
          ],
          [
           "Good-Schweinefu__Einzelknopfnaht.mp4",
           2
          ],
          [
           "Medium-Schweinefu_.mp4",
           2
          ],
          [
           "Einzelknopfnaht_Lina_Schäfer.mp4",
           2
          ],
          [
           "Einzelknopfnaht_Elena.Vai-Wieting.mov",
           2
          ],
          [
           "Stresstest_Einzelknopfnaht.mp4",
           2
          ],
          [
           "Bildschirmaufnahme_2022-10-11_um_11.20.24.mov",
           2
          ],
          [
           "2023-02-21_SchuldtSalome_Einzelknopfnaht_am_Schweinefuß.mp4",
           2
          ],
          [
           "11.4.2024.HarmsSören.NHT.mp4",
           2
          ],
          [
           "Pre_-Test_Isabel_Linden.mp4",
           2
          ],
          [
           "Gehrke,Yves - post.mp4",
           2
          ],
          [
           "Hilger,Anke-Posttest.mp4",
           2
          ],
          [
           "Schiesser_David_post_test.mp4",
           2
          ],
          [
           "Fehringer_Pascal__post_test.mp4",
           2
          ],
          [
           "EinzelknopfnahtamSchweinefuss_Muenzner_Simeon.mp4",
           2
          ],
          [
           "Bad-2021_11_03_A_Petersen_Insa_Einzelknopfnaht_am_Schweinefu_.mp4",
           3
          ],
          [
           "Bad-2021_11_03_A_Spitze_Vanessa_Einzelknopfnaht_am_Schweinefu_.mp4",
           3
          ],
          [
           "Bad-2021_11_03_B_V_lz__Ann_Sophie_Einzelknopfnaht_am_Schweinefu___1_.mp4",
           3
          ],
          [
           "Medium-2021_11_03_A_Tengler_Sophie_Einzelknopfnaht_Schweinefu_.mp4",
           3
          ],
          [
           "Good-2021_10_27_B_Etzel_Peter_Einzelknopfnaht_am_Schweinefu_.mp4",
           3
          ],
          [
           "Bad-12_10_21__Loewe__Rebekka__Einzelknopfnaht.mp4",
           3
          ],
          [
           "Bad-2021_11_3_A_Brodersen___nne_Einzelknopfnaht_am_Schweinefu_.mp4",
           3
          ],
          [
           "medium-2021_11_03_A_Tengler_Sophie_Einzelknopfnaht_Schweinefu_.mp4",
           3
          ],
          [
           "Good-Einzelknopfnaht_Stoklossa.mp4",
           3
          ],
          [
           "Medium-2021_11_03_A_Seifert_Johanna_Einzelknopfnaht_am_Schweinefu_.mp4",
           3
          ],
          [
           "Bad-2021_11_03_A_Noll_Alexander_Einzelknopfnaht.mp4",
           3
          ],
          [
           "Bad-3_11_21_B_Grumt_Alina_Einzelknopfnaht_Schweinefu_.mp4",
           3
          ],
          [
           "Bad-03_11_21_B_Hopfe_Johanna_Einzelknopfnaht.mp4",
           3
          ],
          [
           "Good-Schmidt_Elisabeth_Einzelknotennaht_11_10_2021_MP4_SparkVideo.mp4",
           3
          ],
          [
           "Medium-RPReplay_Final1634048018.mp4",
           3
          ],
          [
           "Good-Schweinefu__Einzelknopfnaht.mp4",
           3
          ],
          [
           "Medium-Schweinefu_.mp4",
           3
          ],
          [
           "Einzelknopfnaht_Lina_Schäfer.mp4",
           3
          ],
          [
           "Einzelknopfnaht_Elena.Vai-Wieting.mov",
           3
          ],
          [
           "Stresstest_Einzelknopfnaht.mp4",
           3
          ],
          [
           "Bildschirmaufnahme_2022-10-11_um_11.20.24.mov",
           3
          ],
          [
           "2023-02-21_SchuldtSalome_Einzelknopfnaht_am_Schweinefuß.mp4",
           3
          ],
          [
           "11.4.2024.HarmsSören.NHT.mp4",
           3
          ],
          [
           "Pre_-Test_Isabel_Linden.mp4",
           3
          ],
          [
           "Gehrke,Yves - post.mp4",
           3
          ],
          [
           "Hilger,Anke-Posttest.mp4",
           3
          ],
          [
           "Schiesser_David_post_test.mp4",
           3
          ],
          [
           "Fehringer_Pascal__post_test.mp4",
           3
          ],
          [
           "EinzelknopfnahtamSchweinefuss_Muenzner_Simeon.mp4",
           3
          ],
          [
           "Bad-2021_11_03_A_Petersen_Insa_Einzelknopfnaht_am_Schweinefu_.mp4",
           4
          ],
          [
           "Bad-2021_11_03_A_Spitze_Vanessa_Einzelknopfnaht_am_Schweinefu_.mp4",
           4
          ],
          [
           "Bad-2021_11_03_B_V_lz__Ann_Sophie_Einzelknopfnaht_am_Schweinefu___1_.mp4",
           4
          ],
          [
           "Medium-2021_11_03_A_Tengler_Sophie_Einzelknopfnaht_Schweinefu_.mp4",
           4
          ],
          [
           "Good-2021_10_27_B_Etzel_Peter_Einzelknopfnaht_am_Schweinefu_.mp4",
           4
          ],
          [
           "Bad-12_10_21__Loewe__Rebekka__Einzelknopfnaht.mp4",
           4
          ],
          [
           "Bad-2021_11_3_A_Brodersen___nne_Einzelknopfnaht_am_Schweinefu_.mp4",
           4
          ],
          [
           "medium-2021_11_03_A_Tengler_Sophie_Einzelknopfnaht_Schweinefu_.mp4",
           4
          ],
          [
           "Good-Einzelknopfnaht_Stoklossa.mp4",
           4
          ],
          [
           "Medium-2021_11_03_A_Seifert_Johanna_Einzelknopfnaht_am_Schweinefu_.mp4",
           4
          ],
          [
           "Bad-2021_11_03_A_Noll_Alexander_Einzelknopfnaht.mp4",
           4
          ],
          [
           "Bad-3_11_21_B_Grumt_Alina_Einzelknopfnaht_Schweinefu_.mp4",
           4
          ],
          [
           "Bad-03_11_21_B_Hopfe_Johanna_Einzelknopfnaht.mp4",
           4
          ],
          [
           "Good-Schmidt_Elisabeth_Einzelknotennaht_11_10_2021_MP4_SparkVideo.mp4",
           4
          ],
          [
           "Medium-RPReplay_Final1634048018.mp4",
           4
          ],
          [
           "Good-Schweinefu__Einzelknopfnaht.mp4",
           4
          ],
          [
           "Medium-Schweinefu_.mp4",
           4
          ],
          [
           "Einzelknopfnaht_Lina_Schäfer.mp4",
           4
          ],
          [
           "Einzelknopfnaht_Elena.Vai-Wieting.mov",
           4
          ],
          [
           "Stresstest_Einzelknopfnaht.mp4",
           4
          ],
          [
           "Bildschirmaufnahme_2022-10-11_um_11.20.24.mov",
           4
          ],
          [
           "2023-02-21_SchuldtSalome_Einzelknopfnaht_am_Schweinefuß.mp4",
           4
          ],
          [
           "11.4.2024.HarmsSören.NHT.mp4",
           4
          ],
          [
           "Pre_-Test_Isabel_Linden.mp4",
           4
          ],
          [
           "Gehrke,Yves - post.mp4",
           4
          ],
          [
           "Hilger,Anke-Posttest.mp4",
           4
          ],
          [
           "Schiesser_David_post_test.mp4",
           4
          ],
          [
           "Fehringer_Pascal__post_test.mp4",
           4
          ],
          [
           "EinzelknopfnahtamSchweinefuss_Muenzner_Simeon.mp4",
           4
          ]
         ],
         "hovertemplate": "Stitch duration [s]=%{x}<br>Needle holder stitch visibility [%]=%{y}<br>filename=%{customdata[0]}<br>stitch_id=%{customdata[1]}<extra></extra>",
         "legendgroup": "",
         "marker": {
          "color": "#636efa",
          "symbol": "circle"
         },
         "mode": "markers",
         "name": "",
         "orientation": "v",
         "showlegend": false,
         "x": [
          112.0,
          125.0,
          100.0,
          54.0,
          92.0,
          235.0,
          131.0,
          55.0,
          94.0,
          58.0,
          87.0,
          114.0,
          112.0,
          128.0,
          152.0,
          74.0,
          106.0,
          126.0,
          105.0,
          70.0,
          179.0,
          169.0,
          41.6,
          75.0,
          72.0,
          56.0,
          68.0,
          82.0,
          120.0,
          null,
          null,
          null,
          null,
          null,
          null,
          149.0,
          null,
          133.0,
          53.0,
          89.0,
          125.0,
          165.0,
          null,
          null,
          89.0,
          null,
          null,
          77.0,
          64.0,
          132.0,
          null,
          72.73333333,
          124.0,
          61.0,
          43.0,
          53.0,
          null,
          110.0,
          null,
          null,
          null,
          null,
          null,
          null,
          null,
          null,
          null,
          null,
          null,
          null,
          null,
          null,
          null,
          null,
          null,
          null,
          92.0,
          60.0,
          129.0,
          null,
          68.66666667,
          94.0,
          null,
          56.0,
          46.0,
          null,
          null,
          null,
          null,
          null,
          null,
          null,
          null,
          null,
          null,
          null,
          null,
          null,
          null,
          null,
          null,
          null,
          null,
          null,
          null,
          null,
          62.0,
          121.0,
          null,
          null,
          null,
          null,
          41.0,
          58.0,
          null,
          null,
          null,
          null,
          null,
          null,
          null,
          null,
          null,
          null,
          null,
          null,
          null,
          null,
          null,
          null,
          null,
          null,
          null,
          null,
          null,
          54.0,
          101.0,
          null,
          null,
          null,
          null,
          43.0,
          null,
          null,
          null
         ],
         "xaxis": "x",
         "y": [
          85.35714286,
          86.18666667,
          94.06666667,
          82.71604938,
          82.60869565,
          92.82269504,
          68.54961832,
          82.90909091,
          95.24822695,
          87.47126437,
          85.82375479,
          65.96491228,
          81.66666667,
          89.53125,
          74.9122807,
          78.64864865,
          86.5408805,
          80.26455026,
          85.07936508,
          59.04761905,
          75.12104283,
          51.91321499,
          64.90384615,
          62.13333333,
          91.2037037,
          70.35714286,
          91.47058824,
          87.23577236,
          80.83333333,
          null,
          null,
          null,
          null,
          null,
          null,
          75.61521253,
          null,
          82.45614035,
          85.03144654,
          68.98876404,
          null,
          null,
          null,
          null,
          null,
          null,
          null,
          85.62770563,
          80.0,
          68.43434343,
          null,
          58.84509624,
          71.02150538,
          86.33879781,
          80.93023256,
          89.18238994,
          null,
          70.66666667,
          null,
          null,
          null,
          null,
          null,
          null,
          null,
          null,
          null,
          null,
          null,
          null,
          null,
          null,
          null,
          null,
          null,
          null,
          null,
          89.88888889,
          82.84237726,
          null,
          69.90291262,
          null,
          null,
          85.95238095,
          75.50724638,
          null,
          null,
          null,
          null,
          null,
          null,
          null,
          null,
          null,
          null,
          null,
          null,
          null,
          null,
          null,
          null,
          null,
          null,
          null,
          null,
          null,
          93.22580645,
          78.67768595,
          null,
          null,
          null,
          null,
          79.67479675,
          82.64367816,
          null,
          null,
          null,
          null,
          null,
          null,
          null,
          null,
          null,
          null,
          null,
          null,
          null,
          null,
          null,
          null,
          null,
          null,
          null,
          null,
          null,
          89.62962963,
          85.34653465,
          null,
          null,
          null,
          null,
          86.51162791,
          null,
          null,
          null
         ],
         "yaxis": "y",
         "type": "scatter"
        }
       ],
       "layout": {
        "template": {
         "data": {
          "histogram2dcontour": [
           {
            "type": "histogram2dcontour",
            "colorbar": {
             "outlinewidth": 0,
             "ticks": ""
            },
            "colorscale": [
             [
              0.0,
              "#0d0887"
             ],
             [
              0.1111111111111111,
              "#46039f"
             ],
             [
              0.2222222222222222,
              "#7201a8"
             ],
             [
              0.3333333333333333,
              "#9c179e"
             ],
             [
              0.4444444444444444,
              "#bd3786"
             ],
             [
              0.5555555555555556,
              "#d8576b"
             ],
             [
              0.6666666666666666,
              "#ed7953"
             ],
             [
              0.7777777777777778,
              "#fb9f3a"
             ],
             [
              0.8888888888888888,
              "#fdca26"
             ],
             [
              1.0,
              "#f0f921"
             ]
            ]
           }
          ],
          "choropleth": [
           {
            "type": "choropleth",
            "colorbar": {
             "outlinewidth": 0,
             "ticks": ""
            }
           }
          ],
          "histogram2d": [
           {
            "type": "histogram2d",
            "colorbar": {
             "outlinewidth": 0,
             "ticks": ""
            },
            "colorscale": [
             [
              0.0,
              "#0d0887"
             ],
             [
              0.1111111111111111,
              "#46039f"
             ],
             [
              0.2222222222222222,
              "#7201a8"
             ],
             [
              0.3333333333333333,
              "#9c179e"
             ],
             [
              0.4444444444444444,
              "#bd3786"
             ],
             [
              0.5555555555555556,
              "#d8576b"
             ],
             [
              0.6666666666666666,
              "#ed7953"
             ],
             [
              0.7777777777777778,
              "#fb9f3a"
             ],
             [
              0.8888888888888888,
              "#fdca26"
             ],
             [
              1.0,
              "#f0f921"
             ]
            ]
           }
          ],
          "heatmap": [
           {
            "type": "heatmap",
            "colorbar": {
             "outlinewidth": 0,
             "ticks": ""
            },
            "colorscale": [
             [
              0.0,
              "#0d0887"
             ],
             [
              0.1111111111111111,
              "#46039f"
             ],
             [
              0.2222222222222222,
              "#7201a8"
             ],
             [
              0.3333333333333333,
              "#9c179e"
             ],
             [
              0.4444444444444444,
              "#bd3786"
             ],
             [
              0.5555555555555556,
              "#d8576b"
             ],
             [
              0.6666666666666666,
              "#ed7953"
             ],
             [
              0.7777777777777778,
              "#fb9f3a"
             ],
             [
              0.8888888888888888,
              "#fdca26"
             ],
             [
              1.0,
              "#f0f921"
             ]
            ]
           }
          ],
          "heatmapgl": [
           {
            "type": "heatmapgl",
            "colorbar": {
             "outlinewidth": 0,
             "ticks": ""
            },
            "colorscale": [
             [
              0.0,
              "#0d0887"
             ],
             [
              0.1111111111111111,
              "#46039f"
             ],
             [
              0.2222222222222222,
              "#7201a8"
             ],
             [
              0.3333333333333333,
              "#9c179e"
             ],
             [
              0.4444444444444444,
              "#bd3786"
             ],
             [
              0.5555555555555556,
              "#d8576b"
             ],
             [
              0.6666666666666666,
              "#ed7953"
             ],
             [
              0.7777777777777778,
              "#fb9f3a"
             ],
             [
              0.8888888888888888,
              "#fdca26"
             ],
             [
              1.0,
              "#f0f921"
             ]
            ]
           }
          ],
          "contourcarpet": [
           {
            "type": "contourcarpet",
            "colorbar": {
             "outlinewidth": 0,
             "ticks": ""
            }
           }
          ],
          "contour": [
           {
            "type": "contour",
            "colorbar": {
             "outlinewidth": 0,
             "ticks": ""
            },
            "colorscale": [
             [
              0.0,
              "#0d0887"
             ],
             [
              0.1111111111111111,
              "#46039f"
             ],
             [
              0.2222222222222222,
              "#7201a8"
             ],
             [
              0.3333333333333333,
              "#9c179e"
             ],
             [
              0.4444444444444444,
              "#bd3786"
             ],
             [
              0.5555555555555556,
              "#d8576b"
             ],
             [
              0.6666666666666666,
              "#ed7953"
             ],
             [
              0.7777777777777778,
              "#fb9f3a"
             ],
             [
              0.8888888888888888,
              "#fdca26"
             ],
             [
              1.0,
              "#f0f921"
             ]
            ]
           }
          ],
          "surface": [
           {
            "type": "surface",
            "colorbar": {
             "outlinewidth": 0,
             "ticks": ""
            },
            "colorscale": [
             [
              0.0,
              "#0d0887"
             ],
             [
              0.1111111111111111,
              "#46039f"
             ],
             [
              0.2222222222222222,
              "#7201a8"
             ],
             [
              0.3333333333333333,
              "#9c179e"
             ],
             [
              0.4444444444444444,
              "#bd3786"
             ],
             [
              0.5555555555555556,
              "#d8576b"
             ],
             [
              0.6666666666666666,
              "#ed7953"
             ],
             [
              0.7777777777777778,
              "#fb9f3a"
             ],
             [
              0.8888888888888888,
              "#fdca26"
             ],
             [
              1.0,
              "#f0f921"
             ]
            ]
           }
          ],
          "mesh3d": [
           {
            "type": "mesh3d",
            "colorbar": {
             "outlinewidth": 0,
             "ticks": ""
            }
           }
          ],
          "scatter": [
           {
            "fillpattern": {
             "fillmode": "overlay",
             "size": 10,
             "solidity": 0.2
            },
            "type": "scatter"
           }
          ],
          "parcoords": [
           {
            "type": "parcoords",
            "line": {
             "colorbar": {
              "outlinewidth": 0,
              "ticks": ""
             }
            }
           }
          ],
          "scatterpolargl": [
           {
            "type": "scatterpolargl",
            "marker": {
             "colorbar": {
              "outlinewidth": 0,
              "ticks": ""
             }
            }
           }
          ],
          "bar": [
           {
            "error_x": {
             "color": "#2a3f5f"
            },
            "error_y": {
             "color": "#2a3f5f"
            },
            "marker": {
             "line": {
              "color": "#E5ECF6",
              "width": 0.5
             },
             "pattern": {
              "fillmode": "overlay",
              "size": 10,
              "solidity": 0.2
             }
            },
            "type": "bar"
           }
          ],
          "scattergeo": [
           {
            "type": "scattergeo",
            "marker": {
             "colorbar": {
              "outlinewidth": 0,
              "ticks": ""
             }
            }
           }
          ],
          "scatterpolar": [
           {
            "type": "scatterpolar",
            "marker": {
             "colorbar": {
              "outlinewidth": 0,
              "ticks": ""
             }
            }
           }
          ],
          "histogram": [
           {
            "marker": {
             "pattern": {
              "fillmode": "overlay",
              "size": 10,
              "solidity": 0.2
             }
            },
            "type": "histogram"
           }
          ],
          "scattergl": [
           {
            "type": "scattergl",
            "marker": {
             "colorbar": {
              "outlinewidth": 0,
              "ticks": ""
             }
            }
           }
          ],
          "scatter3d": [
           {
            "type": "scatter3d",
            "line": {
             "colorbar": {
              "outlinewidth": 0,
              "ticks": ""
             }
            },
            "marker": {
             "colorbar": {
              "outlinewidth": 0,
              "ticks": ""
             }
            }
           }
          ],
          "scattermapbox": [
           {
            "type": "scattermapbox",
            "marker": {
             "colorbar": {
              "outlinewidth": 0,
              "ticks": ""
             }
            }
           }
          ],
          "scatterternary": [
           {
            "type": "scatterternary",
            "marker": {
             "colorbar": {
              "outlinewidth": 0,
              "ticks": ""
             }
            }
           }
          ],
          "scattercarpet": [
           {
            "type": "scattercarpet",
            "marker": {
             "colorbar": {
              "outlinewidth": 0,
              "ticks": ""
             }
            }
           }
          ],
          "carpet": [
           {
            "aaxis": {
             "endlinecolor": "#2a3f5f",
             "gridcolor": "white",
             "linecolor": "white",
             "minorgridcolor": "white",
             "startlinecolor": "#2a3f5f"
            },
            "baxis": {
             "endlinecolor": "#2a3f5f",
             "gridcolor": "white",
             "linecolor": "white",
             "minorgridcolor": "white",
             "startlinecolor": "#2a3f5f"
            },
            "type": "carpet"
           }
          ],
          "table": [
           {
            "cells": {
             "fill": {
              "color": "#EBF0F8"
             },
             "line": {
              "color": "white"
             }
            },
            "header": {
             "fill": {
              "color": "#C8D4E3"
             },
             "line": {
              "color": "white"
             }
            },
            "type": "table"
           }
          ],
          "barpolar": [
           {
            "marker": {
             "line": {
              "color": "#E5ECF6",
              "width": 0.5
             },
             "pattern": {
              "fillmode": "overlay",
              "size": 10,
              "solidity": 0.2
             }
            },
            "type": "barpolar"
           }
          ],
          "pie": [
           {
            "automargin": true,
            "type": "pie"
           }
          ]
         },
         "layout": {
          "autotypenumbers": "strict",
          "colorway": [
           "#636efa",
           "#EF553B",
           "#00cc96",
           "#ab63fa",
           "#FFA15A",
           "#19d3f3",
           "#FF6692",
           "#B6E880",
           "#FF97FF",
           "#FECB52"
          ],
          "font": {
           "color": "#2a3f5f"
          },
          "hovermode": "closest",
          "hoverlabel": {
           "align": "left"
          },
          "paper_bgcolor": "white",
          "plot_bgcolor": "#E5ECF6",
          "polar": {
           "bgcolor": "#E5ECF6",
           "angularaxis": {
            "gridcolor": "white",
            "linecolor": "white",
            "ticks": ""
           },
           "radialaxis": {
            "gridcolor": "white",
            "linecolor": "white",
            "ticks": ""
           }
          },
          "ternary": {
           "bgcolor": "#E5ECF6",
           "aaxis": {
            "gridcolor": "white",
            "linecolor": "white",
            "ticks": ""
           },
           "baxis": {
            "gridcolor": "white",
            "linecolor": "white",
            "ticks": ""
           },
           "caxis": {
            "gridcolor": "white",
            "linecolor": "white",
            "ticks": ""
           }
          },
          "coloraxis": {
           "colorbar": {
            "outlinewidth": 0,
            "ticks": ""
           }
          },
          "colorscale": {
           "sequential": [
            [
             0.0,
             "#0d0887"
            ],
            [
             0.1111111111111111,
             "#46039f"
            ],
            [
             0.2222222222222222,
             "#7201a8"
            ],
            [
             0.3333333333333333,
             "#9c179e"
            ],
            [
             0.4444444444444444,
             "#bd3786"
            ],
            [
             0.5555555555555556,
             "#d8576b"
            ],
            [
             0.6666666666666666,
             "#ed7953"
            ],
            [
             0.7777777777777778,
             "#fb9f3a"
            ],
            [
             0.8888888888888888,
             "#fdca26"
            ],
            [
             1.0,
             "#f0f921"
            ]
           ],
           "sequentialminus": [
            [
             0.0,
             "#0d0887"
            ],
            [
             0.1111111111111111,
             "#46039f"
            ],
            [
             0.2222222222222222,
             "#7201a8"
            ],
            [
             0.3333333333333333,
             "#9c179e"
            ],
            [
             0.4444444444444444,
             "#bd3786"
            ],
            [
             0.5555555555555556,
             "#d8576b"
            ],
            [
             0.6666666666666666,
             "#ed7953"
            ],
            [
             0.7777777777777778,
             "#fb9f3a"
            ],
            [
             0.8888888888888888,
             "#fdca26"
            ],
            [
             1.0,
             "#f0f921"
            ]
           ],
           "diverging": [
            [
             0,
             "#8e0152"
            ],
            [
             0.1,
             "#c51b7d"
            ],
            [
             0.2,
             "#de77ae"
            ],
            [
             0.3,
             "#f1b6da"
            ],
            [
             0.4,
             "#fde0ef"
            ],
            [
             0.5,
             "#f7f7f7"
            ],
            [
             0.6,
             "#e6f5d0"
            ],
            [
             0.7,
             "#b8e186"
            ],
            [
             0.8,
             "#7fbc41"
            ],
            [
             0.9,
             "#4d9221"
            ],
            [
             1,
             "#276419"
            ]
           ]
          },
          "xaxis": {
           "gridcolor": "white",
           "linecolor": "white",
           "ticks": "",
           "title": {
            "standoff": 15
           },
           "zerolinecolor": "white",
           "automargin": true,
           "zerolinewidth": 2
          },
          "yaxis": {
           "gridcolor": "white",
           "linecolor": "white",
           "ticks": "",
           "title": {
            "standoff": 15
           },
           "zerolinecolor": "white",
           "automargin": true,
           "zerolinewidth": 2
          },
          "scene": {
           "xaxis": {
            "backgroundcolor": "#E5ECF6",
            "gridcolor": "white",
            "linecolor": "white",
            "showbackground": true,
            "ticks": "",
            "zerolinecolor": "white",
            "gridwidth": 2
           },
           "yaxis": {
            "backgroundcolor": "#E5ECF6",
            "gridcolor": "white",
            "linecolor": "white",
            "showbackground": true,
            "ticks": "",
            "zerolinecolor": "white",
            "gridwidth": 2
           },
           "zaxis": {
            "backgroundcolor": "#E5ECF6",
            "gridcolor": "white",
            "linecolor": "white",
            "showbackground": true,
            "ticks": "",
            "zerolinecolor": "white",
            "gridwidth": 2
           }
          },
          "shapedefaults": {
           "line": {
            "color": "#2a3f5f"
           }
          },
          "annotationdefaults": {
           "arrowcolor": "#2a3f5f",
           "arrowhead": 0,
           "arrowwidth": 1
          },
          "geo": {
           "bgcolor": "white",
           "landcolor": "#E5ECF6",
           "subunitcolor": "white",
           "showland": true,
           "showlakes": true,
           "lakecolor": "white"
          },
          "title": {
           "x": 0.05
          },
          "mapbox": {
           "style": "light"
          }
         }
        },
        "xaxis": {
         "anchor": "y",
         "domain": [
          0.0,
          1.0
         ],
         "title": {
          "text": "Stitch duration [s]"
         }
        },
        "yaxis": {
         "anchor": "x",
         "domain": [
          0.0,
          1.0
         ],
         "title": {
          "text": "Needle holder stitch visibility [%]"
         }
        },
        "legend": {
         "tracegroupgap": 0
        },
        "margin": {
         "t": 60
        },
        "width": 500
       },
       "config": {
        "plotlyServerURL": "https://plot.ly"
       }
      },
      "text/html": "<div>                            <div id=\"028b1a1b-8a00-4f64-8227-8afbc016e10f\" class=\"plotly-graph-div\" style=\"height:525px; width:500px;\"></div>            <script type=\"text/javascript\">                require([\"plotly\"], function(Plotly) {                    window.PLOTLYENV=window.PLOTLYENV || {};                                    if (document.getElementById(\"028b1a1b-8a00-4f64-8227-8afbc016e10f\")) {                    Plotly.newPlot(                        \"028b1a1b-8a00-4f64-8227-8afbc016e10f\",                        [{\"customdata\":[[\"Bad-2021_11_03_A_Petersen_Insa_Einzelknopfnaht_am_Schweinefu_.mp4\",0],[\"Bad-2021_11_03_A_Spitze_Vanessa_Einzelknopfnaht_am_Schweinefu_.mp4\",0],[\"Bad-2021_11_03_B_V_lz__Ann_Sophie_Einzelknopfnaht_am_Schweinefu___1_.mp4\",0],[\"Medium-2021_11_03_A_Tengler_Sophie_Einzelknopfnaht_Schweinefu_.mp4\",0],[\"Good-2021_10_27_B_Etzel_Peter_Einzelknopfnaht_am_Schweinefu_.mp4\",0],[\"Bad-12_10_21__Loewe__Rebekka__Einzelknopfnaht.mp4\",0],[\"Bad-2021_11_3_A_Brodersen___nne_Einzelknopfnaht_am_Schweinefu_.mp4\",0],[\"medium-2021_11_03_A_Tengler_Sophie_Einzelknopfnaht_Schweinefu_.mp4\",0],[\"Good-Einzelknopfnaht_Stoklossa.mp4\",0],[\"Medium-2021_11_03_A_Seifert_Johanna_Einzelknopfnaht_am_Schweinefu_.mp4\",0],[\"Bad-2021_11_03_A_Noll_Alexander_Einzelknopfnaht.mp4\",0],[\"Bad-3_11_21_B_Grumt_Alina_Einzelknopfnaht_Schweinefu_.mp4\",0],[\"Bad-03_11_21_B_Hopfe_Johanna_Einzelknopfnaht.mp4\",0],[\"Good-Schmidt_Elisabeth_Einzelknotennaht_11_10_2021_MP4_SparkVideo.mp4\",0],[\"Medium-RPReplay_Final1634048018.mp4\",0],[\"Good-Schweinefu__Einzelknopfnaht.mp4\",0],[\"Medium-Schweinefu_.mp4\",0],[\"Einzelknopfnaht_Lina_Sch\\u00e4fer.mp4\",0],[\"Einzelknopfnaht_Elena.Vai-Wieting.mov\",0],[\"Stresstest_Einzelknopfnaht.mp4\",0],[\"Bildschirmaufnahme_2022-10-11_um_11.20.24.mov\",0],[\"2023-02-21_SchuldtSalome_Einzelknopfnaht_am_Schweinefu\\u00df.mp4\",0],[\"11.4.2024.HarmsS\\u00f6ren.NHT.mp4\",0],[\"Pre_-Test_Isabel_Linden.mp4\",0],[\"Gehrke,Yves - post.mp4\",0],[\"Hilger,Anke-Posttest.mp4\",0],[\"Schiesser_David_post_test.mp4\",0],[\"Fehringer_Pascal__post_test.mp4\",0],[\"EinzelknopfnahtamSchweinefuss_Muenzner_Simeon.mp4\",0],[\"Bad-2021_11_03_A_Petersen_Insa_Einzelknopfnaht_am_Schweinefu_.mp4\",1],[\"Bad-2021_11_03_A_Spitze_Vanessa_Einzelknopfnaht_am_Schweinefu_.mp4\",1],[\"Bad-2021_11_03_B_V_lz__Ann_Sophie_Einzelknopfnaht_am_Schweinefu___1_.mp4\",1],[\"Medium-2021_11_03_A_Tengler_Sophie_Einzelknopfnaht_Schweinefu_.mp4\",1],[\"Good-2021_10_27_B_Etzel_Peter_Einzelknopfnaht_am_Schweinefu_.mp4\",1],[\"Bad-12_10_21__Loewe__Rebekka__Einzelknopfnaht.mp4\",1],[\"Bad-2021_11_3_A_Brodersen___nne_Einzelknopfnaht_am_Schweinefu_.mp4\",1],[\"medium-2021_11_03_A_Tengler_Sophie_Einzelknopfnaht_Schweinefu_.mp4\",1],[\"Good-Einzelknopfnaht_Stoklossa.mp4\",1],[\"Medium-2021_11_03_A_Seifert_Johanna_Einzelknopfnaht_am_Schweinefu_.mp4\",1],[\"Bad-2021_11_03_A_Noll_Alexander_Einzelknopfnaht.mp4\",1],[\"Bad-3_11_21_B_Grumt_Alina_Einzelknopfnaht_Schweinefu_.mp4\",1],[\"Bad-03_11_21_B_Hopfe_Johanna_Einzelknopfnaht.mp4\",1],[\"Good-Schmidt_Elisabeth_Einzelknotennaht_11_10_2021_MP4_SparkVideo.mp4\",1],[\"Medium-RPReplay_Final1634048018.mp4\",1],[\"Good-Schweinefu__Einzelknopfnaht.mp4\",1],[\"Medium-Schweinefu_.mp4\",1],[\"Einzelknopfnaht_Lina_Sch\\u00e4fer.mp4\",1],[\"Einzelknopfnaht_Elena.Vai-Wieting.mov\",1],[\"Stresstest_Einzelknopfnaht.mp4\",1],[\"Bildschirmaufnahme_2022-10-11_um_11.20.24.mov\",1],[\"2023-02-21_SchuldtSalome_Einzelknopfnaht_am_Schweinefu\\u00df.mp4\",1],[\"11.4.2024.HarmsS\\u00f6ren.NHT.mp4\",1],[\"Pre_-Test_Isabel_Linden.mp4\",1],[\"Gehrke,Yves - post.mp4\",1],[\"Hilger,Anke-Posttest.mp4\",1],[\"Schiesser_David_post_test.mp4\",1],[\"Fehringer_Pascal__post_test.mp4\",1],[\"EinzelknopfnahtamSchweinefuss_Muenzner_Simeon.mp4\",1],[\"Bad-2021_11_03_A_Petersen_Insa_Einzelknopfnaht_am_Schweinefu_.mp4\",2],[\"Bad-2021_11_03_A_Spitze_Vanessa_Einzelknopfnaht_am_Schweinefu_.mp4\",2],[\"Bad-2021_11_03_B_V_lz__Ann_Sophie_Einzelknopfnaht_am_Schweinefu___1_.mp4\",2],[\"Medium-2021_11_03_A_Tengler_Sophie_Einzelknopfnaht_Schweinefu_.mp4\",2],[\"Good-2021_10_27_B_Etzel_Peter_Einzelknopfnaht_am_Schweinefu_.mp4\",2],[\"Bad-12_10_21__Loewe__Rebekka__Einzelknopfnaht.mp4\",2],[\"Bad-2021_11_3_A_Brodersen___nne_Einzelknopfnaht_am_Schweinefu_.mp4\",2],[\"medium-2021_11_03_A_Tengler_Sophie_Einzelknopfnaht_Schweinefu_.mp4\",2],[\"Good-Einzelknopfnaht_Stoklossa.mp4\",2],[\"Medium-2021_11_03_A_Seifert_Johanna_Einzelknopfnaht_am_Schweinefu_.mp4\",2],[\"Bad-2021_11_03_A_Noll_Alexander_Einzelknopfnaht.mp4\",2],[\"Bad-3_11_21_B_Grumt_Alina_Einzelknopfnaht_Schweinefu_.mp4\",2],[\"Bad-03_11_21_B_Hopfe_Johanna_Einzelknopfnaht.mp4\",2],[\"Good-Schmidt_Elisabeth_Einzelknotennaht_11_10_2021_MP4_SparkVideo.mp4\",2],[\"Medium-RPReplay_Final1634048018.mp4\",2],[\"Good-Schweinefu__Einzelknopfnaht.mp4\",2],[\"Medium-Schweinefu_.mp4\",2],[\"Einzelknopfnaht_Lina_Sch\\u00e4fer.mp4\",2],[\"Einzelknopfnaht_Elena.Vai-Wieting.mov\",2],[\"Stresstest_Einzelknopfnaht.mp4\",2],[\"Bildschirmaufnahme_2022-10-11_um_11.20.24.mov\",2],[\"2023-02-21_SchuldtSalome_Einzelknopfnaht_am_Schweinefu\\u00df.mp4\",2],[\"11.4.2024.HarmsS\\u00f6ren.NHT.mp4\",2],[\"Pre_-Test_Isabel_Linden.mp4\",2],[\"Gehrke,Yves - post.mp4\",2],[\"Hilger,Anke-Posttest.mp4\",2],[\"Schiesser_David_post_test.mp4\",2],[\"Fehringer_Pascal__post_test.mp4\",2],[\"EinzelknopfnahtamSchweinefuss_Muenzner_Simeon.mp4\",2],[\"Bad-2021_11_03_A_Petersen_Insa_Einzelknopfnaht_am_Schweinefu_.mp4\",3],[\"Bad-2021_11_03_A_Spitze_Vanessa_Einzelknopfnaht_am_Schweinefu_.mp4\",3],[\"Bad-2021_11_03_B_V_lz__Ann_Sophie_Einzelknopfnaht_am_Schweinefu___1_.mp4\",3],[\"Medium-2021_11_03_A_Tengler_Sophie_Einzelknopfnaht_Schweinefu_.mp4\",3],[\"Good-2021_10_27_B_Etzel_Peter_Einzelknopfnaht_am_Schweinefu_.mp4\",3],[\"Bad-12_10_21__Loewe__Rebekka__Einzelknopfnaht.mp4\",3],[\"Bad-2021_11_3_A_Brodersen___nne_Einzelknopfnaht_am_Schweinefu_.mp4\",3],[\"medium-2021_11_03_A_Tengler_Sophie_Einzelknopfnaht_Schweinefu_.mp4\",3],[\"Good-Einzelknopfnaht_Stoklossa.mp4\",3],[\"Medium-2021_11_03_A_Seifert_Johanna_Einzelknopfnaht_am_Schweinefu_.mp4\",3],[\"Bad-2021_11_03_A_Noll_Alexander_Einzelknopfnaht.mp4\",3],[\"Bad-3_11_21_B_Grumt_Alina_Einzelknopfnaht_Schweinefu_.mp4\",3],[\"Bad-03_11_21_B_Hopfe_Johanna_Einzelknopfnaht.mp4\",3],[\"Good-Schmidt_Elisabeth_Einzelknotennaht_11_10_2021_MP4_SparkVideo.mp4\",3],[\"Medium-RPReplay_Final1634048018.mp4\",3],[\"Good-Schweinefu__Einzelknopfnaht.mp4\",3],[\"Medium-Schweinefu_.mp4\",3],[\"Einzelknopfnaht_Lina_Sch\\u00e4fer.mp4\",3],[\"Einzelknopfnaht_Elena.Vai-Wieting.mov\",3],[\"Stresstest_Einzelknopfnaht.mp4\",3],[\"Bildschirmaufnahme_2022-10-11_um_11.20.24.mov\",3],[\"2023-02-21_SchuldtSalome_Einzelknopfnaht_am_Schweinefu\\u00df.mp4\",3],[\"11.4.2024.HarmsS\\u00f6ren.NHT.mp4\",3],[\"Pre_-Test_Isabel_Linden.mp4\",3],[\"Gehrke,Yves - post.mp4\",3],[\"Hilger,Anke-Posttest.mp4\",3],[\"Schiesser_David_post_test.mp4\",3],[\"Fehringer_Pascal__post_test.mp4\",3],[\"EinzelknopfnahtamSchweinefuss_Muenzner_Simeon.mp4\",3],[\"Bad-2021_11_03_A_Petersen_Insa_Einzelknopfnaht_am_Schweinefu_.mp4\",4],[\"Bad-2021_11_03_A_Spitze_Vanessa_Einzelknopfnaht_am_Schweinefu_.mp4\",4],[\"Bad-2021_11_03_B_V_lz__Ann_Sophie_Einzelknopfnaht_am_Schweinefu___1_.mp4\",4],[\"Medium-2021_11_03_A_Tengler_Sophie_Einzelknopfnaht_Schweinefu_.mp4\",4],[\"Good-2021_10_27_B_Etzel_Peter_Einzelknopfnaht_am_Schweinefu_.mp4\",4],[\"Bad-12_10_21__Loewe__Rebekka__Einzelknopfnaht.mp4\",4],[\"Bad-2021_11_3_A_Brodersen___nne_Einzelknopfnaht_am_Schweinefu_.mp4\",4],[\"medium-2021_11_03_A_Tengler_Sophie_Einzelknopfnaht_Schweinefu_.mp4\",4],[\"Good-Einzelknopfnaht_Stoklossa.mp4\",4],[\"Medium-2021_11_03_A_Seifert_Johanna_Einzelknopfnaht_am_Schweinefu_.mp4\",4],[\"Bad-2021_11_03_A_Noll_Alexander_Einzelknopfnaht.mp4\",4],[\"Bad-3_11_21_B_Grumt_Alina_Einzelknopfnaht_Schweinefu_.mp4\",4],[\"Bad-03_11_21_B_Hopfe_Johanna_Einzelknopfnaht.mp4\",4],[\"Good-Schmidt_Elisabeth_Einzelknotennaht_11_10_2021_MP4_SparkVideo.mp4\",4],[\"Medium-RPReplay_Final1634048018.mp4\",4],[\"Good-Schweinefu__Einzelknopfnaht.mp4\",4],[\"Medium-Schweinefu_.mp4\",4],[\"Einzelknopfnaht_Lina_Sch\\u00e4fer.mp4\",4],[\"Einzelknopfnaht_Elena.Vai-Wieting.mov\",4],[\"Stresstest_Einzelknopfnaht.mp4\",4],[\"Bildschirmaufnahme_2022-10-11_um_11.20.24.mov\",4],[\"2023-02-21_SchuldtSalome_Einzelknopfnaht_am_Schweinefu\\u00df.mp4\",4],[\"11.4.2024.HarmsS\\u00f6ren.NHT.mp4\",4],[\"Pre_-Test_Isabel_Linden.mp4\",4],[\"Gehrke,Yves - post.mp4\",4],[\"Hilger,Anke-Posttest.mp4\",4],[\"Schiesser_David_post_test.mp4\",4],[\"Fehringer_Pascal__post_test.mp4\",4],[\"EinzelknopfnahtamSchweinefuss_Muenzner_Simeon.mp4\",4]],\"hovertemplate\":\"Stitch duration [s]=%{x}<br>Needle holder stitch visibility [%]=%{y}<br>filename=%{customdata[0]}<br>stitch_id=%{customdata[1]}<extra></extra>\",\"legendgroup\":\"\",\"marker\":{\"color\":\"#636efa\",\"symbol\":\"circle\"},\"mode\":\"markers\",\"name\":\"\",\"orientation\":\"v\",\"showlegend\":false,\"x\":[112.0,125.0,100.0,54.0,92.0,235.0,131.0,55.0,94.0,58.0,87.0,114.0,112.0,128.0,152.0,74.0,106.0,126.0,105.0,70.0,179.0,169.0,41.6,75.0,72.0,56.0,68.0,82.0,120.0,null,null,null,null,null,null,149.0,null,133.0,53.0,89.0,125.0,165.0,null,null,89.0,null,null,77.0,64.0,132.0,null,72.73333333,124.0,61.0,43.0,53.0,null,110.0,null,null,null,null,null,null,null,null,null,null,null,null,null,null,null,null,null,null,92.0,60.0,129.0,null,68.66666667,94.0,null,56.0,46.0,null,null,null,null,null,null,null,null,null,null,null,null,null,null,null,null,null,null,null,null,null,62.0,121.0,null,null,null,null,41.0,58.0,null,null,null,null,null,null,null,null,null,null,null,null,null,null,null,null,null,null,null,null,null,54.0,101.0,null,null,null,null,43.0,null,null,null],\"xaxis\":\"x\",\"y\":[85.35714286,86.18666667,94.06666667,82.71604938,82.60869565,92.82269504,68.54961832,82.90909091,95.24822695,87.47126437,85.82375479,65.96491228,81.66666667,89.53125,74.9122807,78.64864865,86.5408805,80.26455026,85.07936508,59.04761905,75.12104283,51.91321499,64.90384615,62.13333333,91.2037037,70.35714286,91.47058824,87.23577236,80.83333333,null,null,null,null,null,null,75.61521253,null,82.45614035,85.03144654,68.98876404,null,null,null,null,null,null,null,85.62770563,80.0,68.43434343,null,58.84509624,71.02150538,86.33879781,80.93023256,89.18238994,null,70.66666667,null,null,null,null,null,null,null,null,null,null,null,null,null,null,null,null,null,null,null,89.88888889,82.84237726,null,69.90291262,null,null,85.95238095,75.50724638,null,null,null,null,null,null,null,null,null,null,null,null,null,null,null,null,null,null,null,null,null,93.22580645,78.67768595,null,null,null,null,79.67479675,82.64367816,null,null,null,null,null,null,null,null,null,null,null,null,null,null,null,null,null,null,null,null,null,89.62962963,85.34653465,null,null,null,null,86.51162791,null,null,null],\"yaxis\":\"y\",\"type\":\"scatter\"}],                        {\"template\":{\"data\":{\"histogram2dcontour\":[{\"type\":\"histogram2dcontour\",\"colorbar\":{\"outlinewidth\":0,\"ticks\":\"\"},\"colorscale\":[[0.0,\"#0d0887\"],[0.1111111111111111,\"#46039f\"],[0.2222222222222222,\"#7201a8\"],[0.3333333333333333,\"#9c179e\"],[0.4444444444444444,\"#bd3786\"],[0.5555555555555556,\"#d8576b\"],[0.6666666666666666,\"#ed7953\"],[0.7777777777777778,\"#fb9f3a\"],[0.8888888888888888,\"#fdca26\"],[1.0,\"#f0f921\"]]}],\"choropleth\":[{\"type\":\"choropleth\",\"colorbar\":{\"outlinewidth\":0,\"ticks\":\"\"}}],\"histogram2d\":[{\"type\":\"histogram2d\",\"colorbar\":{\"outlinewidth\":0,\"ticks\":\"\"},\"colorscale\":[[0.0,\"#0d0887\"],[0.1111111111111111,\"#46039f\"],[0.2222222222222222,\"#7201a8\"],[0.3333333333333333,\"#9c179e\"],[0.4444444444444444,\"#bd3786\"],[0.5555555555555556,\"#d8576b\"],[0.6666666666666666,\"#ed7953\"],[0.7777777777777778,\"#fb9f3a\"],[0.8888888888888888,\"#fdca26\"],[1.0,\"#f0f921\"]]}],\"heatmap\":[{\"type\":\"heatmap\",\"colorbar\":{\"outlinewidth\":0,\"ticks\":\"\"},\"colorscale\":[[0.0,\"#0d0887\"],[0.1111111111111111,\"#46039f\"],[0.2222222222222222,\"#7201a8\"],[0.3333333333333333,\"#9c179e\"],[0.4444444444444444,\"#bd3786\"],[0.5555555555555556,\"#d8576b\"],[0.6666666666666666,\"#ed7953\"],[0.7777777777777778,\"#fb9f3a\"],[0.8888888888888888,\"#fdca26\"],[1.0,\"#f0f921\"]]}],\"heatmapgl\":[{\"type\":\"heatmapgl\",\"colorbar\":{\"outlinewidth\":0,\"ticks\":\"\"},\"colorscale\":[[0.0,\"#0d0887\"],[0.1111111111111111,\"#46039f\"],[0.2222222222222222,\"#7201a8\"],[0.3333333333333333,\"#9c179e\"],[0.4444444444444444,\"#bd3786\"],[0.5555555555555556,\"#d8576b\"],[0.6666666666666666,\"#ed7953\"],[0.7777777777777778,\"#fb9f3a\"],[0.8888888888888888,\"#fdca26\"],[1.0,\"#f0f921\"]]}],\"contourcarpet\":[{\"type\":\"contourcarpet\",\"colorbar\":{\"outlinewidth\":0,\"ticks\":\"\"}}],\"contour\":[{\"type\":\"contour\",\"colorbar\":{\"outlinewidth\":0,\"ticks\":\"\"},\"colorscale\":[[0.0,\"#0d0887\"],[0.1111111111111111,\"#46039f\"],[0.2222222222222222,\"#7201a8\"],[0.3333333333333333,\"#9c179e\"],[0.4444444444444444,\"#bd3786\"],[0.5555555555555556,\"#d8576b\"],[0.6666666666666666,\"#ed7953\"],[0.7777777777777778,\"#fb9f3a\"],[0.8888888888888888,\"#fdca26\"],[1.0,\"#f0f921\"]]}],\"surface\":[{\"type\":\"surface\",\"colorbar\":{\"outlinewidth\":0,\"ticks\":\"\"},\"colorscale\":[[0.0,\"#0d0887\"],[0.1111111111111111,\"#46039f\"],[0.2222222222222222,\"#7201a8\"],[0.3333333333333333,\"#9c179e\"],[0.4444444444444444,\"#bd3786\"],[0.5555555555555556,\"#d8576b\"],[0.6666666666666666,\"#ed7953\"],[0.7777777777777778,\"#fb9f3a\"],[0.8888888888888888,\"#fdca26\"],[1.0,\"#f0f921\"]]}],\"mesh3d\":[{\"type\":\"mesh3d\",\"colorbar\":{\"outlinewidth\":0,\"ticks\":\"\"}}],\"scatter\":[{\"fillpattern\":{\"fillmode\":\"overlay\",\"size\":10,\"solidity\":0.2},\"type\":\"scatter\"}],\"parcoords\":[{\"type\":\"parcoords\",\"line\":{\"colorbar\":{\"outlinewidth\":0,\"ticks\":\"\"}}}],\"scatterpolargl\":[{\"type\":\"scatterpolargl\",\"marker\":{\"colorbar\":{\"outlinewidth\":0,\"ticks\":\"\"}}}],\"bar\":[{\"error_x\":{\"color\":\"#2a3f5f\"},\"error_y\":{\"color\":\"#2a3f5f\"},\"marker\":{\"line\":{\"color\":\"#E5ECF6\",\"width\":0.5},\"pattern\":{\"fillmode\":\"overlay\",\"size\":10,\"solidity\":0.2}},\"type\":\"bar\"}],\"scattergeo\":[{\"type\":\"scattergeo\",\"marker\":{\"colorbar\":{\"outlinewidth\":0,\"ticks\":\"\"}}}],\"scatterpolar\":[{\"type\":\"scatterpolar\",\"marker\":{\"colorbar\":{\"outlinewidth\":0,\"ticks\":\"\"}}}],\"histogram\":[{\"marker\":{\"pattern\":{\"fillmode\":\"overlay\",\"size\":10,\"solidity\":0.2}},\"type\":\"histogram\"}],\"scattergl\":[{\"type\":\"scattergl\",\"marker\":{\"colorbar\":{\"outlinewidth\":0,\"ticks\":\"\"}}}],\"scatter3d\":[{\"type\":\"scatter3d\",\"line\":{\"colorbar\":{\"outlinewidth\":0,\"ticks\":\"\"}},\"marker\":{\"colorbar\":{\"outlinewidth\":0,\"ticks\":\"\"}}}],\"scattermapbox\":[{\"type\":\"scattermapbox\",\"marker\":{\"colorbar\":{\"outlinewidth\":0,\"ticks\":\"\"}}}],\"scatterternary\":[{\"type\":\"scatterternary\",\"marker\":{\"colorbar\":{\"outlinewidth\":0,\"ticks\":\"\"}}}],\"scattercarpet\":[{\"type\":\"scattercarpet\",\"marker\":{\"colorbar\":{\"outlinewidth\":0,\"ticks\":\"\"}}}],\"carpet\":[{\"aaxis\":{\"endlinecolor\":\"#2a3f5f\",\"gridcolor\":\"white\",\"linecolor\":\"white\",\"minorgridcolor\":\"white\",\"startlinecolor\":\"#2a3f5f\"},\"baxis\":{\"endlinecolor\":\"#2a3f5f\",\"gridcolor\":\"white\",\"linecolor\":\"white\",\"minorgridcolor\":\"white\",\"startlinecolor\":\"#2a3f5f\"},\"type\":\"carpet\"}],\"table\":[{\"cells\":{\"fill\":{\"color\":\"#EBF0F8\"},\"line\":{\"color\":\"white\"}},\"header\":{\"fill\":{\"color\":\"#C8D4E3\"},\"line\":{\"color\":\"white\"}},\"type\":\"table\"}],\"barpolar\":[{\"marker\":{\"line\":{\"color\":\"#E5ECF6\",\"width\":0.5},\"pattern\":{\"fillmode\":\"overlay\",\"size\":10,\"solidity\":0.2}},\"type\":\"barpolar\"}],\"pie\":[{\"automargin\":true,\"type\":\"pie\"}]},\"layout\":{\"autotypenumbers\":\"strict\",\"colorway\":[\"#636efa\",\"#EF553B\",\"#00cc96\",\"#ab63fa\",\"#FFA15A\",\"#19d3f3\",\"#FF6692\",\"#B6E880\",\"#FF97FF\",\"#FECB52\"],\"font\":{\"color\":\"#2a3f5f\"},\"hovermode\":\"closest\",\"hoverlabel\":{\"align\":\"left\"},\"paper_bgcolor\":\"white\",\"plot_bgcolor\":\"#E5ECF6\",\"polar\":{\"bgcolor\":\"#E5ECF6\",\"angularaxis\":{\"gridcolor\":\"white\",\"linecolor\":\"white\",\"ticks\":\"\"},\"radialaxis\":{\"gridcolor\":\"white\",\"linecolor\":\"white\",\"ticks\":\"\"}},\"ternary\":{\"bgcolor\":\"#E5ECF6\",\"aaxis\":{\"gridcolor\":\"white\",\"linecolor\":\"white\",\"ticks\":\"\"},\"baxis\":{\"gridcolor\":\"white\",\"linecolor\":\"white\",\"ticks\":\"\"},\"caxis\":{\"gridcolor\":\"white\",\"linecolor\":\"white\",\"ticks\":\"\"}},\"coloraxis\":{\"colorbar\":{\"outlinewidth\":0,\"ticks\":\"\"}},\"colorscale\":{\"sequential\":[[0.0,\"#0d0887\"],[0.1111111111111111,\"#46039f\"],[0.2222222222222222,\"#7201a8\"],[0.3333333333333333,\"#9c179e\"],[0.4444444444444444,\"#bd3786\"],[0.5555555555555556,\"#d8576b\"],[0.6666666666666666,\"#ed7953\"],[0.7777777777777778,\"#fb9f3a\"],[0.8888888888888888,\"#fdca26\"],[1.0,\"#f0f921\"]],\"sequentialminus\":[[0.0,\"#0d0887\"],[0.1111111111111111,\"#46039f\"],[0.2222222222222222,\"#7201a8\"],[0.3333333333333333,\"#9c179e\"],[0.4444444444444444,\"#bd3786\"],[0.5555555555555556,\"#d8576b\"],[0.6666666666666666,\"#ed7953\"],[0.7777777777777778,\"#fb9f3a\"],[0.8888888888888888,\"#fdca26\"],[1.0,\"#f0f921\"]],\"diverging\":[[0,\"#8e0152\"],[0.1,\"#c51b7d\"],[0.2,\"#de77ae\"],[0.3,\"#f1b6da\"],[0.4,\"#fde0ef\"],[0.5,\"#f7f7f7\"],[0.6,\"#e6f5d0\"],[0.7,\"#b8e186\"],[0.8,\"#7fbc41\"],[0.9,\"#4d9221\"],[1,\"#276419\"]]},\"xaxis\":{\"gridcolor\":\"white\",\"linecolor\":\"white\",\"ticks\":\"\",\"title\":{\"standoff\":15},\"zerolinecolor\":\"white\",\"automargin\":true,\"zerolinewidth\":2},\"yaxis\":{\"gridcolor\":\"white\",\"linecolor\":\"white\",\"ticks\":\"\",\"title\":{\"standoff\":15},\"zerolinecolor\":\"white\",\"automargin\":true,\"zerolinewidth\":2},\"scene\":{\"xaxis\":{\"backgroundcolor\":\"#E5ECF6\",\"gridcolor\":\"white\",\"linecolor\":\"white\",\"showbackground\":true,\"ticks\":\"\",\"zerolinecolor\":\"white\",\"gridwidth\":2},\"yaxis\":{\"backgroundcolor\":\"#E5ECF6\",\"gridcolor\":\"white\",\"linecolor\":\"white\",\"showbackground\":true,\"ticks\":\"\",\"zerolinecolor\":\"white\",\"gridwidth\":2},\"zaxis\":{\"backgroundcolor\":\"#E5ECF6\",\"gridcolor\":\"white\",\"linecolor\":\"white\",\"showbackground\":true,\"ticks\":\"\",\"zerolinecolor\":\"white\",\"gridwidth\":2}},\"shapedefaults\":{\"line\":{\"color\":\"#2a3f5f\"}},\"annotationdefaults\":{\"arrowcolor\":\"#2a3f5f\",\"arrowhead\":0,\"arrowwidth\":1},\"geo\":{\"bgcolor\":\"white\",\"landcolor\":\"#E5ECF6\",\"subunitcolor\":\"white\",\"showland\":true,\"showlakes\":true,\"lakecolor\":\"white\"},\"title\":{\"x\":0.05},\"mapbox\":{\"style\":\"light\"}}},\"xaxis\":{\"anchor\":\"y\",\"domain\":[0.0,1.0],\"title\":{\"text\":\"Stitch duration [s]\"}},\"yaxis\":{\"anchor\":\"x\",\"domain\":[0.0,1.0],\"title\":{\"text\":\"Needle holder stitch visibility [%]\"}},\"legend\":{\"tracegroupgap\":0},\"margin\":{\"t\":60},\"width\":500},                        {\"responsive\": true}                    ).then(function(){\n                            \nvar gd = document.getElementById('028b1a1b-8a00-4f64-8227-8afbc016e10f');\nvar x = new MutationObserver(function (mutations, observer) {{\n        var display = window.getComputedStyle(gd).display;\n        if (!display || display === 'none') {{\n            console.log([gd, 'removed!']);\n            Plotly.purge(gd);\n            observer.disconnect();\n        }}\n}});\n\n// Listen for the removal of the full notebook cells\nvar notebookContainer = gd.closest('#notebook-container');\nif (notebookContainer) {{\n    x.observe(notebookContainer, {childList: true});\n}}\n\n// Listen for the clearing of the current output cell\nvar outputEl = gd.closest('.output');\nif (outputEl) {{\n    x.observe(outputEl, {childList: true});\n}}\n\n                        })                };                });            </script>        </div>"
     },
     "metadata": {},
     "output_type": "display_data"
    }
   ],
   "source": [
    "px.scatter(dfst, y=\"Needle holder stitch visibility [%]\", x=\"Stitch duration [s]\", hover_data=[\"filename\", \"stitch_id\"], width=500)\n"
   ],
   "metadata": {
    "collapsed": false,
    "ExecuteTime": {
     "end_time": "2024-07-05T11:59:58.114264900Z",
     "start_time": "2024-07-05T11:59:57.684149900Z"
    }
   },
   "id": "a6d776764dac97a",
   "execution_count": 80
  },
  {
   "cell_type": "code",
   "outputs": [],
   "source": [],
   "metadata": {
    "collapsed": false
   },
   "id": "8a9a72c69af23de4",
   "execution_count": null
  }
 ],
 "metadata": {
  "kernelspec": {
   "display_name": "Python 3 (ipykernel)",
   "language": "python",
   "name": "python3"
  },
  "language_info": {
   "codemirror_mode": {
    "name": "ipython",
    "version": 3
   },
   "file_extension": ".py",
   "mimetype": "text/x-python",
   "name": "python",
   "nbconvert_exporter": "python",
   "pygments_lexer": "ipython3",
   "version": "3.8.13"
  }
 },
 "nbformat": 4,
 "nbformat_minor": 5
}
