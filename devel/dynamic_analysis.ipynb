{
 "cells": [
  {
   "cell_type": "code",
   "id": "initial_id",
   "metadata": {
    "collapsed": true,
    "ExecuteTime": {
     "end_time": "2024-07-16T09:25:17.280710Z",
     "start_time": "2024-07-16T09:25:17.262148Z"
    }
   },
   "source": [
    "import numpy as np\n",
    "from scipy.interpolate import interp1d\n",
    "\n",
    "class Interpolation:\n",
    "    def __init__(self, frame_ids, coordinates, fps):\n",
    "        self.frame_ids = np.array(frame_ids)\n",
    "        self.coordinates = np.array(coordinates)\n",
    "        self.fps = fps\n",
    "        \n",
    "        # Interpolators for x and y coordinates\n",
    "        self.interpolator_x = interp1d(self.frame_ids, self.coordinates[:, 0], kind='linear', fill_value='extrapolate')\n",
    "        self.interpolator_y = interp1d(self.frame_ids, self.coordinates[:, 1], kind='linear', fill_value='extrapolate')\n",
    "\n",
    "    def value_in_frame(self, frame_id, seconds_sensitivity=1):\n",
    "        frame_sensitivity = seconds_sensitivity * self.fps\n",
    "        \n",
    "        # Check if there are any frame IDs within the specified frame_sensitivity of the requested frame_id\n",
    "        if not np.any((self.frame_ids >= frame_id - frame_sensitivity) & (self.frame_ids <= frame_id + frame_sensitivity)):\n",
    "            return (np.nan, np.nan)\n",
    "        \n",
    "        x = self.interpolator_x(frame_id)\n",
    "        y = self.interpolator_y(frame_id)\n",
    "        return (x, y)\n",
    "\n",
    "class InstrumentDistance:\n",
    "    def __init__(self, frame_ids1, coordinates1, frame_ids2, coordinates2, fps):\n",
    "        self.instrument1 = Interpolation(frame_ids1, coordinates1, fps)\n",
    "        self.instrument2 = Interpolation(frame_ids2, coordinates2, fps)\n",
    "        self.fps = fps\n",
    "        \n",
    "        # Determine the common range of frame_ids\n",
    "        self.min_frame = max(min(frame_ids1), min(frame_ids2))\n",
    "        self.max_frame = min(max(frame_ids1), max(frame_ids2))\n",
    "\n",
    "    def average_distance(self, seconds_sensitivity=1):\n",
    "        total_distance = 0\n",
    "        valid_frame_count = 0\n",
    "\n",
    "        for frame_id in range(self.min_frame, self.max_frame + 1):\n",
    "            coord1 = self.instrument1.value_in_frame(frame_id, seconds_sensitivity)\n",
    "            coord2 = self.instrument2.value_in_frame(frame_id, seconds_sensitivity)\n",
    "\n",
    "            if not np.isnan(coord1).any() and not np.isnan(coord2).any():\n",
    "                distance = np.linalg.norm(np.array(coord1) - np.array(coord2))\n",
    "                total_distance += distance\n",
    "                valid_frame_count += 1\n",
    "        \n",
    "        if valid_frame_count == 0:\n",
    "            return np.nan  # No valid frames to calculate average distance\n",
    "        \n",
    "        return total_distance / valid_frame_count\n",
    "\n",
    "    def frames_below_threshold(self, threshold, seconds_sensitivity=1):\n",
    "        count = 0\n",
    "\n",
    "        for frame_id in range(self.min_frame, self.max_frame + 1):\n",
    "            coord1 = self.instrument1.value_in_frame(frame_id, seconds_sensitivity)\n",
    "            coord2 = self.instrument2.value_in_frame(frame_id, seconds_sensitivity)\n",
    "\n",
    "            if not np.isnan(coord1).any() and not np.isnan(coord2).any():\n",
    "                distance = np.linalg.norm(np.array(coord1) - np.array(coord2))\n",
    "                if distance < threshold:\n",
    "                    count += 1\n",
    "        \n",
    "        return count\n",
    "\n",
    "    def seconds_below_threshold(self, threshold, seconds_sensitivity=1):\n",
    "        frame_count = self.frames_below_threshold(threshold, seconds_sensitivity)\n",
    "        return frame_count / self.fps\n",
    "\n",
    "# Example usage:\n",
    "frame_ids1 = [1, 2, 4, 5]\n",
    "coordinates1 = [(1, 1), (2, 2), (4, 4), (5, 5)]\n",
    "\n",
    "frame_ids2 = [1, 3, 4, 6]\n",
    "coordinates2 = [(2, 2), (3, 3), (4, 4), (6, 6)]\n",
    "\n",
    "fps = 30  # Example frames per second\n",
    "\n",
    "distance_calculator = InstrumentDistance(frame_ids1, coordinates1, frame_ids2, coordinates2, fps)\n",
    "print(\"Average Distance:\", distance_calculator.average_distance())\n",
    "print(\"Frames below threshold 1.5:\", distance_calculator.frames_below_threshold(1.5))\n",
    "print(\"Seconds below threshold 1.5:\", distance_calculator.seconds_below_threshold(1.5))\n"
   ],
   "outputs": [
    {
     "name": "stdout",
     "output_type": "stream",
     "text": [
      "Average Distance: 0.42426406871192857\n",
      "Frames below threshold 1.5: 5\n",
      "Seconds below threshold 1.5: 0.16666666666666666\n"
     ]
    }
   ],
   "execution_count": 5
  },
  {
   "metadata": {
    "ExecuteTime": {
     "end_time": "2024-07-16T09:25:21.328868Z",
     "start_time": "2024-07-16T09:25:21.324246Z"
    }
   },
   "cell_type": "code",
   "source": "%pwd",
   "id": "39512fc8f89b9010",
   "outputs": [
    {
     "data": {
      "text/plain": [
       "'/webapps/piglegsurgery/devel'"
      ]
     },
     "execution_count": 6,
     "metadata": {},
     "output_type": "execute_result"
    }
   ],
   "execution_count": 6
  },
  {
   "cell_type": "code",
   "source": [
    "\n",
    "ll = [1,2,3,4,5]\n",
    "\n",
    "ll[None:None]"
   ],
   "metadata": {
    "collapsed": false,
    "ExecuteTime": {
     "end_time": "2024-07-16T09:22:27.037929Z",
     "start_time": "2024-07-16T09:22:27.033533Z"
    }
   },
   "id": "b977516a9f28abd1",
   "outputs": [
    {
     "data": {
      "text/plain": [
       "[1, 2, 3, 4, 5]"
      ]
     },
     "execution_count": 4,
     "metadata": {},
     "output_type": "execute_result"
    }
   ],
   "execution_count": 4
  },
  {
   "metadata": {},
   "cell_type": "code",
   "outputs": [],
   "execution_count": null,
   "source": "",
   "id": "9ddd3f30ad3209b1"
  }
 ],
 "metadata": {
  "kernelspec": {
   "display_name": "Python 3",
   "language": "python",
   "name": "python3"
  },
  "language_info": {
   "codemirror_mode": {
    "name": "ipython",
    "version": 2
   },
   "file_extension": ".py",
   "mimetype": "text/x-python",
   "name": "python",
   "nbconvert_exporter": "python",
   "pygments_lexer": "ipython2",
   "version": "2.7.6"
  }
 },
 "nbformat": 4,
 "nbformat_minor": 5
}
