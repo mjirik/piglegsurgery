{
 "cells": [
  {
   "cell_type": "code",
   "execution_count": 1,
   "id": "initial_id",
   "metadata": {
    "ExecuteTime": {
     "end_time": "2024-01-08T22:59:42.479449200Z",
     "start_time": "2024-01-08T22:59:42.401676200Z"
    },
    "tags": []
   },
   "outputs": [],
   "source": [
    "import seaborn as sns\n",
    "import scipy\n",
    "import skimage\n",
    "sns.set_style(\"ticks\")\n",
    "from pathlib import Path"
   ]
  },
  {
   "cell_type": "markdown",
   "id": "53e39872-8212-46c6-9931-5bc4ba7f3955",
   "metadata": {},
   "source": [
    "# Get the data "
   ]
  },
  {
   "cell_type": "code",
   "execution_count": 2,
   "id": "dfa95f5019f46bcb",
   "metadata": {
    "ExecuteTime": {
     "end_time": "2024-01-08T22:59:42.829020Z",
     "start_time": "2024-01-08T22:59:42.671892400Z"
    },
    "collapsed": false,
    "jupyter": {
     "outputs_hidden": false
    },
    "tags": []
   },
   "outputs": [
    {
     "name": "stdout",
     "output_type": "stream",
     "text": [
      "[PosixPath('../.env.dev')]\n"
     ]
    }
   ],
   "source": [
    "# in this file is the url to the spreadsheet with the data\n",
    "# PIGLEG_SPREADSHEET_URL=https://docs.google.com/spreadsheets/d/1G55kXxcJ0...piLaK0snddRU-jzU/edit?usp=sharing\n",
    "env_paths = list(Path(\".\").glob(\"../**/.env.dev\"))\n",
    "print(env_paths)\n",
    "# find line with PIGLEG_SPREADSHEET_URL and give me the value after the \"=\"\n",
    "PIGLEG_SPREADSHEET_URL = [line.split(\"=\", 1)[1].strip() for line in open(env_paths[0], \"r\") if line.startswith(\"PIGLEG_SPREADSHEET_URL\")][0]\n",
    "PIGLEG_SPREADSHEET_URL = PIGLEG_SPREADSHEET_URL.replace(\"\\\"\", \"\")\n",
    "PIGLEG_SPREADSHEET_URL = PIGLEG_SPREADSHEET_URL.replace(\"edit?usp=sharing\", \"export?format=csv\")\n",
    "# PIGLEG_SPREADSHEET_URL"
   ]
  },
  {
   "cell_type": "code",
   "execution_count": 3,
   "id": "b6f7ef48babc2ea8",
   "metadata": {
    "ExecuteTime": {
     "end_time": "2024-01-08T22:59:44.661499700Z",
     "start_time": "2024-01-08T22:59:42.920593700Z"
    },
    "collapsed": false,
    "jupyter": {
     "outputs_hidden": false
    },
    "tags": []
   },
   "outputs": [],
   "source": [
    "import pandas as pd\n",
    "url = PIGLEG_SPREADSHEET_URL\n",
    "df = pd.read_csv(url)"
   ]
  },
  {
   "cell_type": "code",
   "execution_count": 4,
   "id": "f697ae50f242b813",
   "metadata": {
    "ExecuteTime": {
     "end_time": "2024-01-08T22:59:44.753490600Z",
     "start_time": "2024-01-08T22:59:44.686971300Z"
    },
    "collapsed": false,
    "jupyter": {
     "outputs_hidden": false
    },
    "tags": []
   },
   "outputs": [
    {
     "data": {
      "text/html": [
       "<div>\n",
       "<style scoped>\n",
       "    .dataframe tbody tr th:only-of-type {\n",
       "        vertical-align: middle;\n",
       "    }\n",
       "\n",
       "    .dataframe tbody tr th {\n",
       "        vertical-align: top;\n",
       "    }\n",
       "\n",
       "    .dataframe thead th {\n",
       "        text-align: right;\n",
       "    }\n",
       "</style>\n",
       "<table border=\"1\" class=\"dataframe\">\n",
       "  <thead>\n",
       "    <tr style=\"text-align: right;\">\n",
       "      <th></th>\n",
       "      <th>filename</th>\n",
       "      <th>report_url</th>\n",
       "      <th>email</th>\n",
       "      <th>uploaded_at</th>\n",
       "      <th>finished_at</th>\n",
       "      <th>fps</th>\n",
       "      <th>Needle holder length [m]</th>\n",
       "      <th>Scissors length [m]</th>\n",
       "      <th>Forceps length [m]</th>\n",
       "      <th>Needle holder visibility [s]</th>\n",
       "      <th>...</th>\n",
       "      <th>Unnamed: 791</th>\n",
       "      <th>Unnamed: 792</th>\n",
       "      <th>Unnamed: 793</th>\n",
       "      <th>Unnamed: 794</th>\n",
       "      <th>Unnamed: 795</th>\n",
       "      <th>Unnamed: 796</th>\n",
       "      <th>Unnamed: 797</th>\n",
       "      <th>Unnamed: 798</th>\n",
       "      <th>Unnamed: 799</th>\n",
       "      <th>Unnamed: 800</th>\n",
       "    </tr>\n",
       "  </thead>\n",
       "  <tbody>\n",
       "    <tr>\n",
       "      <th>859</th>\n",
       "      <td>test_end_3.mp4</td>\n",
       "      <td>http://suran.kky.zcu.cz:8000//uploader/web_rep...</td>\n",
       "      <td>mjirik@gapps.zcu.cz</td>\n",
       "      <td>2024-01-10 13:08</td>\n",
       "      <td>2024-01-10 12:18</td>\n",
       "      <td>30.0</td>\n",
       "      <td>0,3045975787</td>\n",
       "      <td>0</td>\n",
       "      <td>0,06079601432</td>\n",
       "      <td>6,133333333</td>\n",
       "      <td>...</td>\n",
       "      <td>NaN</td>\n",
       "      <td>NaN</td>\n",
       "      <td>NaN</td>\n",
       "      <td>NaN</td>\n",
       "      <td>NaN</td>\n",
       "      <td>NaN</td>\n",
       "      <td>NaN</td>\n",
       "      <td>NaN</td>\n",
       "      <td>NaN</td>\n",
       "      <td>NaN</td>\n",
       "    </tr>\n",
       "    <tr>\n",
       "      <th>860</th>\n",
       "      <td>Glove_2.mp4</td>\n",
       "      <td>http://suran.kky.zcu.cz:8000//uploader/web_rep...</td>\n",
       "      <td>carina.bachmann@med.uni-jena.de</td>\n",
       "      <td>2023-06-13 07:40</td>\n",
       "      <td>2024-01-10 12:21</td>\n",
       "      <td>30.0</td>\n",
       "      <td>0,5302629762</td>\n",
       "      <td>0,3148750647</td>\n",
       "      <td>NaN</td>\n",
       "      <td>161,8666667</td>\n",
       "      <td>...</td>\n",
       "      <td>NaN</td>\n",
       "      <td>NaN</td>\n",
       "      <td>NaN</td>\n",
       "      <td>NaN</td>\n",
       "      <td>NaN</td>\n",
       "      <td>NaN</td>\n",
       "      <td>NaN</td>\n",
       "      <td>NaN</td>\n",
       "      <td>NaN</td>\n",
       "      <td>NaN</td>\n",
       "    </tr>\n",
       "    <tr>\n",
       "      <th>861</th>\n",
       "      <td>NaN</td>\n",
       "      <td>NaN</td>\n",
       "      <td>NaN</td>\n",
       "      <td>NaN</td>\n",
       "      <td>NaN</td>\n",
       "      <td>NaN</td>\n",
       "      <td>NaN</td>\n",
       "      <td>NaN</td>\n",
       "      <td>NaN</td>\n",
       "      <td>NaN</td>\n",
       "      <td>...</td>\n",
       "      <td>NaN</td>\n",
       "      <td>NaN</td>\n",
       "      <td>NaN</td>\n",
       "      <td>NaN</td>\n",
       "      <td>NaN</td>\n",
       "      <td>NaN</td>\n",
       "      <td>NaN</td>\n",
       "      <td>NaN</td>\n",
       "      <td>NaN</td>\n",
       "      <td>NaN</td>\n",
       "    </tr>\n",
       "    <tr>\n",
       "      <th>862</th>\n",
       "      <td>NaN</td>\n",
       "      <td>NaN</td>\n",
       "      <td>NaN</td>\n",
       "      <td>NaN</td>\n",
       "      <td>NaN</td>\n",
       "      <td>NaN</td>\n",
       "      <td>NaN</td>\n",
       "      <td>NaN</td>\n",
       "      <td>NaN</td>\n",
       "      <td>NaN</td>\n",
       "      <td>...</td>\n",
       "      <td>NaN</td>\n",
       "      <td>NaN</td>\n",
       "      <td>NaN</td>\n",
       "      <td>NaN</td>\n",
       "      <td>NaN</td>\n",
       "      <td>NaN</td>\n",
       "      <td>NaN</td>\n",
       "      <td>NaN</td>\n",
       "      <td>NaN</td>\n",
       "      <td>NaN</td>\n",
       "    </tr>\n",
       "    <tr>\n",
       "      <th>863</th>\n",
       "      <td>NaN</td>\n",
       "      <td>NaN</td>\n",
       "      <td>NaN</td>\n",
       "      <td>NaN</td>\n",
       "      <td>NaN</td>\n",
       "      <td>NaN</td>\n",
       "      <td>NaN</td>\n",
       "      <td>NaN</td>\n",
       "      <td>NaN</td>\n",
       "      <td>NaN</td>\n",
       "      <td>...</td>\n",
       "      <td>NaN</td>\n",
       "      <td>NaN</td>\n",
       "      <td>NaN</td>\n",
       "      <td>NaN</td>\n",
       "      <td>NaN</td>\n",
       "      <td>NaN</td>\n",
       "      <td>NaN</td>\n",
       "      <td>2024-01-14 16:31:50</td>\n",
       "      <td>72,1336025</td>\n",
       "      <td>99,58372819</td>\n",
       "    </tr>\n",
       "  </tbody>\n",
       "</table>\n",
       "<p>5 rows × 801 columns</p>\n",
       "</div>"
      ],
      "text/plain": [
       "           filename                                         report_url  \\\n",
       "859  test_end_3.mp4  http://suran.kky.zcu.cz:8000//uploader/web_rep...   \n",
       "860     Glove_2.mp4  http://suran.kky.zcu.cz:8000//uploader/web_rep...   \n",
       "861             NaN                                                NaN   \n",
       "862             NaN                                                NaN   \n",
       "863             NaN                                                NaN   \n",
       "\n",
       "                               email       uploaded_at       finished_at  \\\n",
       "859              mjirik@gapps.zcu.cz  2024-01-10 13:08  2024-01-10 12:18   \n",
       "860  carina.bachmann@med.uni-jena.de  2023-06-13 07:40  2024-01-10 12:21   \n",
       "861                              NaN               NaN               NaN   \n",
       "862                              NaN               NaN               NaN   \n",
       "863                              NaN               NaN               NaN   \n",
       "\n",
       "      fps Needle holder length [m] Scissors length [m] Forceps length [m]  \\\n",
       "859  30.0             0,3045975787                   0      0,06079601432   \n",
       "860  30.0             0,5302629762        0,3148750647                NaN   \n",
       "861   NaN                      NaN                 NaN                NaN   \n",
       "862   NaN                      NaN                 NaN                NaN   \n",
       "863   NaN                      NaN                 NaN                NaN   \n",
       "\n",
       "    Needle holder visibility [s]  ... Unnamed: 791 Unnamed: 792 Unnamed: 793  \\\n",
       "859                  6,133333333  ...          NaN          NaN          NaN   \n",
       "860                  161,8666667  ...          NaN          NaN          NaN   \n",
       "861                          NaN  ...          NaN          NaN          NaN   \n",
       "862                          NaN  ...          NaN          NaN          NaN   \n",
       "863                          NaN  ...          NaN          NaN          NaN   \n",
       "\n",
       "    Unnamed: 794 Unnamed: 795 Unnamed: 796 Unnamed: 797         Unnamed: 798  \\\n",
       "859          NaN          NaN          NaN          NaN                  NaN   \n",
       "860          NaN          NaN          NaN          NaN                  NaN   \n",
       "861          NaN          NaN          NaN          NaN                  NaN   \n",
       "862          NaN          NaN          NaN          NaN                  NaN   \n",
       "863          NaN          NaN          NaN          NaN  2024-01-14 16:31:50   \n",
       "\n",
       "    Unnamed: 799 Unnamed: 800  \n",
       "859          NaN          NaN  \n",
       "860          NaN          NaN  \n",
       "861          NaN          NaN  \n",
       "862          NaN          NaN  \n",
       "863   72,1336025  99,58372819  \n",
       "\n",
       "[5 rows x 801 columns]"
      ]
     },
     "execution_count": 4,
     "metadata": {},
     "output_type": "execute_result"
    }
   ],
   "source": [
    "df.tail()"
   ]
  },
  {
   "cell_type": "code",
   "execution_count": 5,
   "id": "1eae6362d26994c1",
   "metadata": {
    "ExecuteTime": {
     "end_time": "2024-01-08T22:59:44.877450600Z",
     "start_time": "2024-01-08T22:59:44.698966700Z"
    },
    "collapsed": false,
    "jupyter": {
     "outputs_hidden": false
    },
    "tags": []
   },
   "outputs": [],
   "source": [
    "# remove all records with filename NA or NaN\n",
    "dfs = df[df[\"filename\"].notna()]\n",
    "\n",
    "# take all records with filename containing \"Good\", \"Medium\", \"Bad\", if the filename is the same, take the last one\n",
    "\n",
    "dfs = dfs[dfs[\"filename\"].str.contains(\"Good|Medium|Bad\")].drop_duplicates(subset=[\"filename\"], keep=\"last\")"
   ]
  },
  {
   "cell_type": "code",
   "execution_count": 6,
   "id": "c48bd8c947f4ff49",
   "metadata": {
    "ExecuteTime": {
     "end_time": "2024-01-08T22:59:44.934170Z",
     "start_time": "2024-01-08T22:59:44.732974200Z"
    },
    "collapsed": false,
    "jupyter": {
     "outputs_hidden": false
    },
    "tags": []
   },
   "outputs": [],
   "source": [
    "# add column \"stars_auto\" with 0 for \"Good\", 1 for \"Medium\", 2 for \"Bad\"\n",
    "dfs[\"stars_auto\"] = dfs[\"filename\"].str.contains(\"Good\").astype(int) * 0\n",
    "dfs[\"stars_auto\"] = dfs[\"filename\"].str.contains(\"Medium\").astype(int) * 1\n",
    "dfs[\"stars_auto\"] = dfs[\"filename\"].str.contains(\"Bad\").astype(int) * 2\n",
    "# dfs[\"filename\"].str.contains(\"Good|Medium|Bad\")\n"
   ]
  },
  {
   "cell_type": "code",
   "execution_count": 7,
   "id": "fc241688bee9d33c",
   "metadata": {
    "ExecuteTime": {
     "end_time": "2024-01-08T22:59:44.935169800Z",
     "start_time": "2024-01-08T22:59:44.757486500Z"
    },
    "collapsed": false,
    "jupyter": {
     "outputs_hidden": false
    },
    "tags": []
   },
   "outputs": [
    {
     "data": {
      "text/plain": [
       "22"
      ]
     },
     "execution_count": 7,
     "metadata": {},
     "output_type": "execute_result"
    }
   ],
   "source": [
    "len(dfs)"
   ]
  },
  {
   "cell_type": "code",
   "execution_count": 8,
   "id": "c05a4a16f13bc707",
   "metadata": {
    "ExecuteTime": {
     "end_time": "2024-01-08T22:59:47.029573200Z",
     "start_time": "2024-01-08T22:59:47.016280100Z"
    },
    "collapsed": false,
    "jupyter": {
     "outputs_hidden": false
    },
    "tags": []
   },
   "outputs": [
    {
     "data": {
      "text/plain": [
       "Index(['filename', 'report_url', 'email', 'uploaded_at', 'finished_at', 'fps',\n",
       "       'Needle holder length [m]', 'Scissors length [m]', 'Forceps length [m]',\n",
       "       'Needle holder visibility [s]',\n",
       "       ...\n",
       "       'Unnamed: 792', 'Unnamed: 793', 'Unnamed: 794', 'Unnamed: 795',\n",
       "       'Unnamed: 796', 'Unnamed: 797', 'Unnamed: 798', 'Unnamed: 799',\n",
       "       'Unnamed: 800', 'stars_auto'],\n",
       "      dtype='object', length=802)"
      ]
     },
     "execution_count": 8,
     "metadata": {},
     "output_type": "execute_result"
    }
   ],
   "source": [
    "dfs.columns"
   ]
  },
  {
   "cell_type": "markdown",
   "id": "cdbb4a20-c96d-4c0e-8d38-3e17db1b9432",
   "metadata": {},
   "source": [
    "### Replace \",\" with \".\""
   ]
  },
  {
   "cell_type": "code",
   "execution_count": 9,
   "id": "4a1b759401be37e4",
   "metadata": {
    "ExecuteTime": {
     "end_time": "2024-01-08T22:59:47.387376100Z",
     "start_time": "2024-01-08T22:59:47.033311100Z"
    },
    "collapsed": false,
    "jupyter": {
     "outputs_hidden": false
    },
    "tags": []
   },
   "outputs": [],
   "source": [
    "# find the columns where its values contain single \",\" and digits\n",
    "dfs.columns[dfs.apply(lambda x: (x.dtype is str) and (x.str.contains(\",\\d\").any()))]\n",
    "cols = []\n",
    "for col in dfs.columns:\n",
    "    try:\n",
    "        if (dfs[col].str.contains(\",\\d\").any()):\n",
    "            # convert , to . and change the column type to float\n",
    "            dfs[col] = dfs[col].str.replace(\",\", \".\").astype(float)\n",
    "            cols.append(col)\n",
    "    except:\n",
    "        pass\n",
    "# cols"
   ]
  },
  {
   "cell_type": "code",
   "execution_count": 10,
   "id": "c43a49972fe915d7",
   "metadata": {
    "ExecuteTime": {
     "end_time": "2024-01-08T22:59:47.429382100Z",
     "start_time": "2024-01-08T22:59:47.346375500Z"
    },
    "collapsed": false,
    "jupyter": {
     "outputs_hidden": false
    },
    "tags": []
   },
   "outputs": [],
   "source": [
    "# dfs"
   ]
  },
  {
   "cell_type": "code",
   "execution_count": null,
   "id": "51af25062aa51526",
   "metadata": {
    "ExecuteTime": {
     "end_time": "2024-01-08T22:59:47.500110400Z",
     "start_time": "2024-01-08T22:59:47.388376500Z"
    },
    "collapsed": false,
    "jupyter": {
     "outputs_hidden": false
    }
   },
   "outputs": [],
   "source": []
  },
  {
   "cell_type": "code",
   "execution_count": null,
   "id": "f3373f9ec58e3a99",
   "metadata": {
    "ExecuteTime": {
     "end_time": "2024-01-08T22:59:49.524574800Z",
     "start_time": "2024-01-08T22:59:49.511569100Z"
    },
    "collapsed": false,
    "jupyter": {
     "outputs_hidden": false
    }
   },
   "outputs": [],
   "source": []
  },
  {
   "cell_type": "code",
   "execution_count": 11,
   "id": "d44ea6f5690f0d79",
   "metadata": {
    "ExecuteTime": {
     "end_time": "2024-01-08T22:59:53.468826Z",
     "start_time": "2024-01-08T22:59:53.400635600Z"
    },
    "collapsed": false,
    "jupyter": {
     "outputs_hidden": false
    },
    "tags": []
   },
   "outputs": [],
   "source": [
    "# print name of columns containing needle holder\n",
    "# dfs.columns[dfs.columns.str.contains(\"Needle holder\")]"
   ]
  },
  {
   "cell_type": "code",
   "execution_count": 12,
   "id": "fe816967bd95fb8c",
   "metadata": {
    "ExecuteTime": {
     "end_time": "2024-01-08T22:59:54.567949600Z",
     "start_time": "2024-01-08T22:59:54.439894600Z"
    },
    "collapsed": false,
    "jupyter": {
     "outputs_hidden": false
    },
    "tags": []
   },
   "outputs": [],
   "source": [
    "# dfs[[\"Needle holder stitch 1 length [m]\", \"Needle holder length [m]\"]]"
   ]
  },
  {
   "cell_type": "markdown",
   "id": "7190306c-4a98-4a2a-80fc-0ea35452285b",
   "metadata": {},
   "source": [
    "### If there is just one stitch, put ths information into stitch 1 measurements"
   ]
  },
  {
   "cell_type": "code",
   "execution_count": 13,
   "id": "5a00460c06572f18",
   "metadata": {
    "ExecuteTime": {
     "end_time": "2024-01-08T23:00:02.126090900Z",
     "start_time": "2024-01-08T23:00:02.066092700Z"
    },
    "collapsed": false,
    "jupyter": {
     "outputs_hidden": false
    },
    "tags": []
   },
   "outputs": [],
   "source": [
    "# If column containing \" stitch 1\" in its name has empty values, fill them with  the values from the column with the same name but withuou \" stitch 1\"\n",
    "for col in dfs.columns[dfs.columns.str.contains(\" stitch 1\")]:\n",
    "    dfs[col] = dfs[col].fillna(dfs[col.replace(\" stitch 1\", \"\")])"
   ]
  },
  {
   "cell_type": "code",
   "execution_count": 14,
   "id": "8d4e18421dd66275",
   "metadata": {
    "ExecuteTime": {
     "end_time": "2024-01-08T23:00:02.857860600Z",
     "start_time": "2024-01-08T23:00:02.781637Z"
    },
    "collapsed": false,
    "jupyter": {
     "outputs_hidden": false
    },
    "tags": []
   },
   "outputs": [],
   "source": [
    "# dfs[[\"Needle holder stitch 1 length [m]\", \"Needle holder length [m]\"]]\n"
   ]
  },
  {
   "cell_type": "markdown",
   "id": "d6997045-1eb0-4800-ac0a-fc1327a2dd2d",
   "metadata": {},
   "source": [
    "# Find the correlation"
   ]
  },
  {
   "cell_type": "code",
   "execution_count": 15,
   "id": "ac9eaa05-6615-4b7d-ad65-bbf74ff984e9",
   "metadata": {
    "tags": []
   },
   "outputs": [],
   "source": [
    "# dfs.corr()"
   ]
  },
  {
   "cell_type": "code",
   "execution_count": 16,
   "id": "1b7aa71b1749b7f",
   "metadata": {
    "ExecuteTime": {
     "end_time": "2024-01-08T23:00:03.453092700Z",
     "start_time": "2024-01-08T23:00:03.346571200Z"
    },
    "collapsed": false,
    "jupyter": {
     "outputs_hidden": false
    },
    "tags": []
   },
   "outputs": [
    {
     "data": {
      "text/plain": [
       "Forceps bbox visibility [%]   -0.479464\n",
       "Stitches parallelism score    -0.330578\n",
       "Scissors visibility [%]       -0.325639\n",
       "n_stitches_by_user            -0.325079\n",
       "duration_s_tracking           -0.269202\n",
       "                                 ...   \n",
       "Unnamed: 793                        NaN\n",
       "Unnamed: 794                        NaN\n",
       "Unnamed: 795                        NaN\n",
       "Unnamed: 796                        NaN\n",
       "Unnamed: 797                        NaN\n",
       "Name: stars_auto, Length: 624, dtype: float64"
      ]
     },
     "execution_count": 16,
     "metadata": {},
     "output_type": "execute_result"
    }
   ],
   "source": [
    "# find corelation between stars_auto and other numerical columns and sort them\n",
    "dfs.corr()[\"stars_auto\"].sort_values()\n",
    "\n"
   ]
  },
  {
   "cell_type": "code",
   "execution_count": 17,
   "id": "1d682a975ee6f940",
   "metadata": {
    "ExecuteTime": {
     "end_time": "2024-01-08T23:00:52.740029700Z",
     "start_time": "2024-01-08T23:00:52.663514500Z"
    },
    "collapsed": false,
    "jupyter": {
     "outputs_hidden": false
    },
    "tags": []
   },
   "outputs": [
    {
     "data": {
      "text/plain": [
       "stars_auto                              1.000000\n",
       "Forceps stitch 1 length [m]             0.397985\n",
       "qr_data_scene_width_m                   0.336219\n",
       "qr_data_pix_size                        0.336219\n",
       "Needle holder area presence [%]         0.319609\n",
       "Forceps stitch 1 area presence [%]      0.318441\n",
       "Forceps area presence [%]               0.304575\n",
       "orig frame_height                       0.292419\n",
       "Forceps length [m]                      0.277674\n",
       "Needle holder bbox area presence [%]    0.277623\n",
       "Name: stars_auto, dtype: float64"
      ]
     },
     "execution_count": 17,
     "metadata": {},
     "output_type": "execute_result"
    }
   ],
   "source": [
    "# try to find the best columns to predict stars_auto\n",
    "corr = dfs.corr()[\"stars_auto\"].sort_values(ascending=False).head(10)\n",
    "corr\n"
   ]
  },
  {
   "cell_type": "markdown",
   "id": "38565d3a-fde1-4cb2-9999-6febfa393d6b",
   "metadata": {},
   "source": [
    "# Train predictor"
   ]
  },
  {
   "cell_type": "code",
   "execution_count": 18,
   "id": "156ae14a777fe3fc",
   "metadata": {
    "ExecuteTime": {
     "end_time": "2024-01-08T23:00:53.357519800Z",
     "start_time": "2024-01-08T23:00:53.329979700Z"
    },
    "collapsed": false,
    "jupyter": {
     "outputs_hidden": false
    },
    "tags": []
   },
   "outputs": [
    {
     "name": "stdout",
     "output_type": "stream",
     "text": [
      "22\n",
      "20\n"
     ]
    },
    {
     "data": {
      "text/html": [
       "<style>#sk-container-id-1 {color: black;}#sk-container-id-1 pre{padding: 0;}#sk-container-id-1 div.sk-toggleable {background-color: white;}#sk-container-id-1 label.sk-toggleable__label {cursor: pointer;display: block;width: 100%;margin-bottom: 0;padding: 0.3em;box-sizing: border-box;text-align: center;}#sk-container-id-1 label.sk-toggleable__label-arrow:before {content: \"▸\";float: left;margin-right: 0.25em;color: #696969;}#sk-container-id-1 label.sk-toggleable__label-arrow:hover:before {color: black;}#sk-container-id-1 div.sk-estimator:hover label.sk-toggleable__label-arrow:before {color: black;}#sk-container-id-1 div.sk-toggleable__content {max-height: 0;max-width: 0;overflow: hidden;text-align: left;background-color: #f0f8ff;}#sk-container-id-1 div.sk-toggleable__content pre {margin: 0.2em;color: black;border-radius: 0.25em;background-color: #f0f8ff;}#sk-container-id-1 input.sk-toggleable__control:checked~div.sk-toggleable__content {max-height: 200px;max-width: 100%;overflow: auto;}#sk-container-id-1 input.sk-toggleable__control:checked~label.sk-toggleable__label-arrow:before {content: \"▾\";}#sk-container-id-1 div.sk-estimator input.sk-toggleable__control:checked~label.sk-toggleable__label {background-color: #d4ebff;}#sk-container-id-1 div.sk-label input.sk-toggleable__control:checked~label.sk-toggleable__label {background-color: #d4ebff;}#sk-container-id-1 input.sk-hidden--visually {border: 0;clip: rect(1px 1px 1px 1px);clip: rect(1px, 1px, 1px, 1px);height: 1px;margin: -1px;overflow: hidden;padding: 0;position: absolute;width: 1px;}#sk-container-id-1 div.sk-estimator {font-family: monospace;background-color: #f0f8ff;border: 1px dotted black;border-radius: 0.25em;box-sizing: border-box;margin-bottom: 0.5em;}#sk-container-id-1 div.sk-estimator:hover {background-color: #d4ebff;}#sk-container-id-1 div.sk-parallel-item::after {content: \"\";width: 100%;border-bottom: 1px solid gray;flex-grow: 1;}#sk-container-id-1 div.sk-label:hover label.sk-toggleable__label {background-color: #d4ebff;}#sk-container-id-1 div.sk-serial::before {content: \"\";position: absolute;border-left: 1px solid gray;box-sizing: border-box;top: 0;bottom: 0;left: 50%;z-index: 0;}#sk-container-id-1 div.sk-serial {display: flex;flex-direction: column;align-items: center;background-color: white;padding-right: 0.2em;padding-left: 0.2em;position: relative;}#sk-container-id-1 div.sk-item {position: relative;z-index: 1;}#sk-container-id-1 div.sk-parallel {display: flex;align-items: stretch;justify-content: center;background-color: white;position: relative;}#sk-container-id-1 div.sk-item::before, #sk-container-id-1 div.sk-parallel-item::before {content: \"\";position: absolute;border-left: 1px solid gray;box-sizing: border-box;top: 0;bottom: 0;left: 50%;z-index: -1;}#sk-container-id-1 div.sk-parallel-item {display: flex;flex-direction: column;z-index: 1;position: relative;background-color: white;}#sk-container-id-1 div.sk-parallel-item:first-child::after {align-self: flex-end;width: 50%;}#sk-container-id-1 div.sk-parallel-item:last-child::after {align-self: flex-start;width: 50%;}#sk-container-id-1 div.sk-parallel-item:only-child::after {width: 0;}#sk-container-id-1 div.sk-dashed-wrapped {border: 1px dashed gray;margin: 0 0.4em 0.5em 0.4em;box-sizing: border-box;padding-bottom: 0.4em;background-color: white;}#sk-container-id-1 div.sk-label label {font-family: monospace;font-weight: bold;display: inline-block;line-height: 1.2em;}#sk-container-id-1 div.sk-label-container {text-align: center;}#sk-container-id-1 div.sk-container {/* jupyter's `normalize.less` sets `[hidden] { display: none; }` but bootstrap.min.css set `[hidden] { display: none !important; }` so we also need the `!important` here to be able to override the default hidden behavior on the sphinx rendered scikit-learn.org. See: https://github.com/scikit-learn/scikit-learn/issues/21755 */display: inline-block !important;position: relative;}#sk-container-id-1 div.sk-text-repr-fallback {display: none;}</style><div id=\"sk-container-id-1\" class=\"sk-top-container\"><div class=\"sk-text-repr-fallback\"><pre>SVR()</pre><b>In a Jupyter environment, please rerun this cell to show the HTML representation or trust the notebook. <br />On GitHub, the HTML representation is unable to render, please try loading this page with nbviewer.org.</b></div><div class=\"sk-container\" hidden><div class=\"sk-item\"><div class=\"sk-estimator sk-toggleable\"><input class=\"sk-toggleable__control sk-hidden--visually\" id=\"sk-estimator-id-1\" type=\"checkbox\" checked><label for=\"sk-estimator-id-1\" class=\"sk-toggleable__label sk-toggleable__label-arrow\">SVR</label><div class=\"sk-toggleable__content\"><pre>SVR()</pre></div></div></div></div></div>"
      ],
      "text/plain": [
       "SVR()"
      ]
     },
     "execution_count": 18,
     "metadata": {},
     "output_type": "execute_result"
    }
   ],
   "source": [
    "import sklearn\n",
    "# train a model to predict stars_auto\n",
    "from sklearn.linear_model import LinearRegression\n",
    "from sklearn.model_selection import train_test_split\n",
    "from sklearn.metrics import mean_squared_error, r2_score\n",
    "# import SVM\n",
    "from sklearn.svm import SVR\n",
    "#train a model to predict stars_auto\n",
    "\n",
    "columns = list(corr.index)\n",
    "columns.append(\"filename\")\n",
    "\n",
    "dfsx = dfs[columns]\n",
    "print(len(dfsx))\n",
    "dfsx = dfsx.dropna()\n",
    "print(len(dfsx))\n",
    "X = dfsx[corr.index].drop(\"stars_auto\", axis=1)\n",
    "y = dfsx[\"stars_auto\"]\n",
    "X_train, X_test, y_train, y_test = train_test_split(X, y, test_size=0.2, random_state=42)\n",
    "\n",
    "model = SVR()\n",
    "model.fit(X_train, y_train)\n",
    "\n",
    "# \n",
    "# X"
   ]
  },
  {
   "cell_type": "markdown",
   "id": "0b88ba78-25b8-4d01-acaa-b88f31a70453",
   "metadata": {},
   "source": [
    "## Score"
   ]
  },
  {
   "cell_type": "code",
   "execution_count": 20,
   "id": "8e041b38-a2b0-4dcd-be7d-ab17ec6eb12d",
   "metadata": {
    "tags": []
   },
   "outputs": [
    {
     "data": {
      "text/plain": [
       "-0.7824458388772826"
      ]
     },
     "execution_count": 20,
     "metadata": {},
     "output_type": "execute_result"
    }
   ],
   "source": [
    "model.score(X_test, y_test)"
   ]
  },
  {
   "cell_type": "code",
   "execution_count": 27,
   "id": "0cc6fb03-7d49-4ad1-a01c-3d54336a1446",
   "metadata": {
    "tags": []
   },
   "outputs": [
    {
     "data": {
      "text/plain": [
       "-0.4338763452314467"
      ]
     },
     "execution_count": 27,
     "metadata": {},
     "output_type": "execute_result"
    }
   ],
   "source": [
    "model.score(X_train, y_train)"
   ]
  },
  {
   "cell_type": "markdown",
   "id": "c1351837-f926-43a6-bb68-bc35c946b0ec",
   "metadata": {},
   "source": [
    "## Check the předictions"
   ]
  },
  {
   "cell_type": "code",
   "execution_count": 21,
   "id": "ab82921a7dc10572",
   "metadata": {
    "ExecuteTime": {
     "end_time": "2024-01-08T23:00:54.102816800Z",
     "start_time": "2024-01-08T23:00:54.079811100Z"
    },
    "collapsed": false,
    "jupyter": {
     "outputs_hidden": false
    },
    "tags": []
   },
   "outputs": [
    {
     "data": {
      "text/plain": [
       "816    2\n",
       "842    0\n",
       "840    0\n",
       "822    2\n",
       "Name: stars_auto, dtype: int64"
      ]
     },
     "execution_count": 21,
     "metadata": {},
     "output_type": "execute_result"
    }
   ],
   "source": [
    "y_test"
   ]
  },
  {
   "cell_type": "code",
   "execution_count": 22,
   "id": "e5ea4f24720d1a20",
   "metadata": {
    "ExecuteTime": {
     "end_time": "2024-01-08T23:00:57.539342800Z",
     "start_time": "2024-01-08T23:00:57.408300Z"
    },
    "collapsed": false,
    "jupyter": {
     "outputs_hidden": false
    },
    "tags": []
   },
   "outputs": [
    {
     "data": {
      "text/plain": [
       "array([0.12636363, 0.11648296, 0.03380476, 0.10143237])"
      ]
     },
     "execution_count": 22,
     "metadata": {},
     "output_type": "execute_result"
    }
   ],
   "source": [
    "y_pred = model.predict(X_test)\n",
    "y_pred"
   ]
  },
  {
   "cell_type": "code",
   "execution_count": 23,
   "id": "4ad7ea73ebc96391",
   "metadata": {
    "ExecuteTime": {
     "end_time": "2024-01-08T23:02:14.311003600Z",
     "start_time": "2024-01-08T23:02:14.255000500Z"
    },
    "collapsed": false,
    "jupyter": {
     "outputs_hidden": false
    },
    "tags": []
   },
   "outputs": [
    {
     "data": {
      "text/plain": [
       "array([0.10069563, 0.11084839, 0.09947057, 0.10949899, 0.10615264,\n",
       "       0.09285266, 0.12814825, 0.11112511, 0.12869557, 0.09870658,\n",
       "       0.10005963, 0.10915682, 0.10023484, 0.10139677, 0.10023488,\n",
       "       0.08063209])"
      ]
     },
     "execution_count": 23,
     "metadata": {},
     "output_type": "execute_result"
    }
   ],
   "source": [
    "model.predict(X_train)\n"
   ]
  },
  {
   "cell_type": "code",
   "execution_count": 24,
   "id": "4fb2137572f7d68c",
   "metadata": {
    "ExecuteTime": {
     "end_time": "2024-01-08T23:02:21.727056700Z",
     "start_time": "2024-01-08T23:02:21.603333500Z"
    },
    "collapsed": false,
    "jupyter": {
     "outputs_hidden": false
    },
    "tags": []
   },
   "outputs": [
    {
     "data": {
      "text/plain": [
       "829    0\n",
       "826    2\n",
       "833    0\n",
       "824    2\n",
       "843    0\n",
       "841    0\n",
       "835    2\n",
       "823    2\n",
       "830    0\n",
       "857    2\n",
       "825    0\n",
       "834    2\n",
       "828    0\n",
       "832    0\n",
       "839    0\n",
       "827    0\n",
       "Name: stars_auto, dtype: int64"
      ]
     },
     "execution_count": 24,
     "metadata": {},
     "output_type": "execute_result"
    }
   ],
   "source": [
    "y_train"
   ]
  },
  {
   "cell_type": "code",
   "execution_count": 25,
   "id": "f6ec8f07533d895f",
   "metadata": {
    "ExecuteTime": {
     "end_time": "2024-01-08T23:07:11.283253700Z",
     "start_time": "2024-01-08T23:07:11.166676400Z"
    },
    "collapsed": false,
    "jupyter": {
     "outputs_hidden": false
    },
    "tags": []
   },
   "outputs": [
    {
     "data": {
      "text/plain": [
       "0.5"
      ]
     },
     "execution_count": 25,
     "metadata": {},
     "output_type": "execute_result"
    }
   ],
   "source": [
    "from sklearn.neural_network import MLPClassifier\n",
    "clf = MLPClassifier(solver='lbfgs', alpha=1e-5,\n",
    "                    hidden_layer_sizes=(5, 2), random_state=1)\n",
    "clf.fit(X_train, y_train)\n",
    "clf.score(X_test, y_test)"
   ]
  },
  {
   "cell_type": "code",
   "execution_count": 26,
   "id": "e2941983090d2225",
   "metadata": {
    "ExecuteTime": {
     "end_time": "2024-01-08T23:07:40.232991400Z",
     "start_time": "2024-01-08T23:07:40.169171600Z"
    },
    "collapsed": false,
    "jupyter": {
     "outputs_hidden": false
    },
    "tags": []
   },
   "outputs": [
    {
     "data": {
      "text/plain": [
       "array([0, 0, 0, 0, 0, 0, 0, 0, 0, 0, 0, 0, 0, 0, 0, 0])"
      ]
     },
     "execution_count": 26,
     "metadata": {},
     "output_type": "execute_result"
    }
   ],
   "source": [
    "clf.predict(X_train)"
   ]
  },
  {
   "cell_type": "code",
   "execution_count": 65,
   "id": "e55f43281611b056",
   "metadata": {
    "ExecuteTime": {
     "end_time": "2024-01-08T23:07:21.340654100Z",
     "start_time": "2024-01-08T23:07:21.211130400Z"
    },
    "collapsed": false,
    "jupyter": {
     "outputs_hidden": false
    }
   },
   "outputs": [
    {
     "data": {
      "text/plain": [
       "816    2\n",
       "842    0\n",
       "840    0\n",
       "822    2\n",
       "Name: stars_auto, dtype: int32"
      ]
     },
     "execution_count": 65,
     "metadata": {},
     "output_type": "execute_result"
    }
   ],
   "source": [
    "y_test"
   ]
  },
  {
   "cell_type": "code",
   "execution_count": null,
   "id": "2d4b03b5a062d9c1",
   "metadata": {
    "collapsed": false,
    "jupyter": {
     "outputs_hidden": false
    }
   },
   "outputs": [],
   "source": []
  }
 ],
 "metadata": {
  "kernelspec": {
   "display_name": "Python 3 (ipykernel)",
   "language": "python",
   "name": "python3"
  },
  "language_info": {
   "codemirror_mode": {
    "name": "ipython",
    "version": 3
   },
   "file_extension": ".py",
   "mimetype": "text/x-python",
   "name": "python",
   "nbconvert_exporter": "python",
   "pygments_lexer": "ipython3",
   "version": "3.8.13"
  }
 },
 "nbformat": 4,
 "nbformat_minor": 5
}
