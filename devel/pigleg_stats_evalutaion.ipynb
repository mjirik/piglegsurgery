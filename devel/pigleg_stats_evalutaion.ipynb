{
 "cells": [
  {
   "cell_type": "code",
   "execution_count": 1,
   "id": "initial_id",
   "metadata": {
    "ExecuteTime": {
     "end_time": "2024-01-08T22:59:42.479449200Z",
     "start_time": "2024-01-08T22:59:42.401676200Z"
    },
    "tags": []
   },
   "outputs": [],
   "source": [
    "import seaborn as sns\n",
    "import scipy\n",
    "import skimage\n",
    "sns.set_style(\"ticks\")\n",
    "from pathlib import Path"
   ]
  },
  {
   "cell_type": "markdown",
   "id": "53e39872-8212-46c6-9931-5bc4ba7f3955",
   "metadata": {},
   "source": [
    "# Get the data "
   ]
  },
  {
   "cell_type": "code",
   "execution_count": 2,
   "id": "dfa95f5019f46bcb",
   "metadata": {
    "ExecuteTime": {
     "end_time": "2024-01-08T22:59:42.829020Z",
     "start_time": "2024-01-08T22:59:42.671892400Z"
    },
    "collapsed": false,
    "jupyter": {
     "outputs_hidden": false
    },
    "tags": []
   },
   "outputs": [
    {
     "name": "stdout",
     "output_type": "stream",
     "text": [
      "[PosixPath('../.env.dev')]\n"
     ]
    }
   ],
   "source": [
    "# in this file is the url to the spreadsheet with the data\n",
    "# PIGLEG_SPREADSHEET_URL=https://docs.google.com/spreadsheets/d/1G55kXxcJ0...piLaK0snddRU-jzU/edit?usp=sharing\n",
    "env_paths = list(Path(\".\").glob(\"../**/.env.dev\"))\n",
    "print(env_paths)\n",
    "# find line with PIGLEG_SPREADSHEET_URL and give me the value after the \"=\"\n",
    "PIGLEG_SPREADSHEET_URL = [line.split(\"=\", 1)[1].strip() for line in open(env_paths[0], \"r\") if line.startswith(\"PIGLEG_SPREADSHEET_URL\")][0]\n",
    "PIGLEG_SPREADSHEET_URL = PIGLEG_SPREADSHEET_URL.replace(\"\\\"\", \"\")\n",
    "PIGLEG_SPREADSHEET_URL = PIGLEG_SPREADSHEET_URL.replace(\"edit?usp=sharing\", \"export?format=csv\")\n",
    "# PIGLEG_SPREADSHEET_URL"
   ]
  },
  {
   "cell_type": "code",
   "execution_count": 3,
   "id": "b6f7ef48babc2ea8",
   "metadata": {
    "ExecuteTime": {
     "end_time": "2024-01-08T22:59:44.661499700Z",
     "start_time": "2024-01-08T22:59:42.920593700Z"
    },
    "collapsed": false,
    "jupyter": {
     "outputs_hidden": false
    },
    "tags": []
   },
   "outputs": [],
   "source": [
    "import pandas as pd\n",
    "url = PIGLEG_SPREADSHEET_URL\n",
    "df = pd.read_csv(url)"
   ]
  },
  {
   "cell_type": "code",
   "execution_count": 4,
   "id": "f697ae50f242b813",
   "metadata": {
    "ExecuteTime": {
     "end_time": "2024-01-08T22:59:44.753490600Z",
     "start_time": "2024-01-08T22:59:44.686971300Z"
    },
    "collapsed": false,
    "jupyter": {
     "outputs_hidden": false
    },
    "tags": []
   },
   "outputs": [
    {
     "data": {
      "text/html": [
       "<div>\n",
       "<style scoped>\n",
       "    .dataframe tbody tr th:only-of-type {\n",
       "        vertical-align: middle;\n",
       "    }\n",
       "\n",
       "    .dataframe tbody tr th {\n",
       "        vertical-align: top;\n",
       "    }\n",
       "\n",
       "    .dataframe thead th {\n",
       "        text-align: right;\n",
       "    }\n",
       "</style>\n",
       "<table border=\"1\" class=\"dataframe\">\n",
       "  <thead>\n",
       "    <tr style=\"text-align: right;\">\n",
       "      <th></th>\n",
       "      <th>filename</th>\n",
       "      <th>report_url</th>\n",
       "      <th>timestamp</th>\n",
       "      <th>email</th>\n",
       "      <th>uploaded_at</th>\n",
       "      <th>finished_at</th>\n",
       "      <th>fps</th>\n",
       "      <th>Needle holder length [m]</th>\n",
       "      <th>Scissors length [m]</th>\n",
       "      <th>Forceps length [m]</th>\n",
       "      <th>...</th>\n",
       "      <th>Scissors stitch 0 length [m]</th>\n",
       "      <th>Scissors stitch 0 visibility [s]</th>\n",
       "      <th>Scissors stitch 0 velocity</th>\n",
       "      <th>Scissors stitch 0 unit</th>\n",
       "      <th>Scissors stitch 0 visibility [%]</th>\n",
       "      <th>Scissors stitch 0 area presence [%]</th>\n",
       "      <th>Stitch 1 duration [s]</th>\n",
       "      <th>Stitch 1 duration [%]</th>\n",
       "      <th>Stitch 2 duration [s]</th>\n",
       "      <th>Stitch 2 duration [%]</th>\n",
       "    </tr>\n",
       "  </thead>\n",
       "  <tbody>\n",
       "    <tr>\n",
       "      <th>892</th>\n",
       "      <td>Bad-trim_0B861D6D_C942_4D0E_90C7_5D9779BE091E.mp4</td>\n",
       "      <td>http://suran.kky.zcu.cz:8000//uploader/web_rep...</td>\n",
       "      <td>2024-01-16 12:34:56</td>\n",
       "      <td>Khalatbari.sadaf@gmail.com</td>\n",
       "      <td>2022-08-01 08:47</td>\n",
       "      <td>2024-01-16 11:34</td>\n",
       "      <td>25.0</td>\n",
       "      <td>2,864749892</td>\n",
       "      <td>0</td>\n",
       "      <td>0,1863840203</td>\n",
       "      <td>...</td>\n",
       "      <td>0</td>\n",
       "      <td>0,1333333333</td>\n",
       "      <td>0</td>\n",
       "      <td>m</td>\n",
       "      <td>0,1813236627</td>\n",
       "      <td>50</td>\n",
       "      <td>NaN</td>\n",
       "      <td>NaN</td>\n",
       "      <td>NaN</td>\n",
       "      <td>NaN</td>\n",
       "    </tr>\n",
       "    <tr>\n",
       "      <th>893</th>\n",
       "      <td>Bad-03_11_21_B_Hopfe_Johanna_Einzelknopfnaht.mp4</td>\n",
       "      <td>http://suran.kky.zcu.cz:8000//uploader/web_rep...</td>\n",
       "      <td>2024-01-16 12:40:27</td>\n",
       "      <td>khalatbari.sadaf@gmail.com</td>\n",
       "      <td>2022-07-07 17:33</td>\n",
       "      <td>2024-01-16 11:40</td>\n",
       "      <td>25.0</td>\n",
       "      <td>5,688298479</td>\n",
       "      <td>0,2870924548</td>\n",
       "      <td>2,515599076</td>\n",
       "      <td>...</td>\n",
       "      <td>0,03205866509</td>\n",
       "      <td>34,2</td>\n",
       "      <td>0,0007500032432</td>\n",
       "      <td>m</td>\n",
       "      <td>33,09677419</td>\n",
       "      <td>0,9746588694</td>\n",
       "      <td>156,9333333</td>\n",
       "      <td>50,74369476</td>\n",
       "      <td>NaN</td>\n",
       "      <td>NaN</td>\n",
       "    </tr>\n",
       "    <tr>\n",
       "      <th>894</th>\n",
       "      <td>Good-162880einzelknopf.mp4</td>\n",
       "      <td>http://suran.kky.zcu.cz:8000//uploader/web_rep...</td>\n",
       "      <td>2024-01-16 12:43:36</td>\n",
       "      <td>Khalatbari.sadaf@gmail.com</td>\n",
       "      <td>2022-08-01 08:49</td>\n",
       "      <td>2024-01-16 11:43</td>\n",
       "      <td>60.0</td>\n",
       "      <td>11,83584973</td>\n",
       "      <td>0,7391541411</td>\n",
       "      <td>1,278647685</td>\n",
       "      <td>...</td>\n",
       "      <td>0,02328418669</td>\n",
       "      <td>40,66666667</td>\n",
       "      <td>0,0005735021351</td>\n",
       "      <td>m</td>\n",
       "      <td>100</td>\n",
       "      <td>0</td>\n",
       "      <td>35,73333333</td>\n",
       "      <td>6,513549642</td>\n",
       "      <td>80,73333333</td>\n",
       "      <td>14,71624742</td>\n",
       "    </tr>\n",
       "    <tr>\n",
       "      <th>895</th>\n",
       "      <td>Bad-3_11_21_B_Grumt_Alina_Einzelknopfnaht_Schw...</td>\n",
       "      <td>http://suran.kky.zcu.cz:8000//uploader/web_rep...</td>\n",
       "      <td>2024-01-16 12:45:50</td>\n",
       "      <td>khalatbari.sadaf@gmail.com</td>\n",
       "      <td>2022-07-07 17:16</td>\n",
       "      <td>2024-01-16 11:45</td>\n",
       "      <td>25.0</td>\n",
       "      <td>5,886226351</td>\n",
       "      <td>0,3555818928</td>\n",
       "      <td>0,9973024274</td>\n",
       "      <td>...</td>\n",
       "      <td>0,1282818914</td>\n",
       "      <td>48,46666667</td>\n",
       "      <td>0,001183155586</td>\n",
       "      <td>m</td>\n",
       "      <td>40,88863892</td>\n",
       "      <td>0,6877579092</td>\n",
       "      <td>NaN</td>\n",
       "      <td>NaN</td>\n",
       "      <td>NaN</td>\n",
       "      <td>NaN</td>\n",
       "    </tr>\n",
       "    <tr>\n",
       "      <th>896</th>\n",
       "      <td>Bad-2021_11_03_A_Noll_Alexander_Einzelknopfnah...</td>\n",
       "      <td>http://suran.kky.zcu.cz:8000//uploader/web_rep...</td>\n",
       "      <td>2024-01-16 12:46:59</td>\n",
       "      <td>khalatbari.sadaf@gmail.com</td>\n",
       "      <td>2022-07-07 17:08</td>\n",
       "      <td>2024-01-16 11:46</td>\n",
       "      <td>25.0</td>\n",
       "      <td>9,503007304</td>\n",
       "      <td>0,5081350784</td>\n",
       "      <td>1,944407215</td>\n",
       "      <td>...</td>\n",
       "      <td>0,2747823882</td>\n",
       "      <td>75,6</td>\n",
       "      <td>0,002884251465</td>\n",
       "      <td>m</td>\n",
       "      <td>86,69724771</td>\n",
       "      <td>0</td>\n",
       "      <td>NaN</td>\n",
       "      <td>NaN</td>\n",
       "      <td>NaN</td>\n",
       "      <td>NaN</td>\n",
       "    </tr>\n",
       "  </tbody>\n",
       "</table>\n",
       "<p>5 rows × 443 columns</p>\n",
       "</div>"
      ],
      "text/plain": [
       "                                              filename  \\\n",
       "892  Bad-trim_0B861D6D_C942_4D0E_90C7_5D9779BE091E.mp4   \n",
       "893   Bad-03_11_21_B_Hopfe_Johanna_Einzelknopfnaht.mp4   \n",
       "894                         Good-162880einzelknopf.mp4   \n",
       "895  Bad-3_11_21_B_Grumt_Alina_Einzelknopfnaht_Schw...   \n",
       "896  Bad-2021_11_03_A_Noll_Alexander_Einzelknopfnah...   \n",
       "\n",
       "                                            report_url            timestamp  \\\n",
       "892  http://suran.kky.zcu.cz:8000//uploader/web_rep...  2024-01-16 12:34:56   \n",
       "893  http://suran.kky.zcu.cz:8000//uploader/web_rep...  2024-01-16 12:40:27   \n",
       "894  http://suran.kky.zcu.cz:8000//uploader/web_rep...  2024-01-16 12:43:36   \n",
       "895  http://suran.kky.zcu.cz:8000//uploader/web_rep...  2024-01-16 12:45:50   \n",
       "896  http://suran.kky.zcu.cz:8000//uploader/web_rep...  2024-01-16 12:46:59   \n",
       "\n",
       "                          email       uploaded_at       finished_at   fps  \\\n",
       "892  Khalatbari.sadaf@gmail.com  2022-08-01 08:47  2024-01-16 11:34  25.0   \n",
       "893  khalatbari.sadaf@gmail.com  2022-07-07 17:33  2024-01-16 11:40  25.0   \n",
       "894  Khalatbari.sadaf@gmail.com  2022-08-01 08:49  2024-01-16 11:43  60.0   \n",
       "895  khalatbari.sadaf@gmail.com  2022-07-07 17:16  2024-01-16 11:45  25.0   \n",
       "896  khalatbari.sadaf@gmail.com  2022-07-07 17:08  2024-01-16 11:46  25.0   \n",
       "\n",
       "    Needle holder length [m] Scissors length [m] Forceps length [m]  ...  \\\n",
       "892              2,864749892                   0       0,1863840203  ...   \n",
       "893              5,688298479        0,2870924548        2,515599076  ...   \n",
       "894              11,83584973        0,7391541411        1,278647685  ...   \n",
       "895              5,886226351        0,3555818928       0,9973024274  ...   \n",
       "896              9,503007304        0,5081350784        1,944407215  ...   \n",
       "\n",
       "    Scissors stitch 0 length [m] Scissors stitch 0 visibility [s]  \\\n",
       "892                            0                     0,1333333333   \n",
       "893                0,03205866509                             34,2   \n",
       "894                0,02328418669                      40,66666667   \n",
       "895                 0,1282818914                      48,46666667   \n",
       "896                 0,2747823882                             75,6   \n",
       "\n",
       "    Scissors stitch 0 velocity Scissors stitch 0 unit  \\\n",
       "892                          0                      m   \n",
       "893            0,0007500032432                      m   \n",
       "894            0,0005735021351                      m   \n",
       "895             0,001183155586                      m   \n",
       "896             0,002884251465                      m   \n",
       "\n",
       "    Scissors stitch 0 visibility [%] Scissors stitch 0 area presence [%]  \\\n",
       "892                     0,1813236627                                  50   \n",
       "893                      33,09677419                        0,9746588694   \n",
       "894                              100                                   0   \n",
       "895                      40,88863892                        0,6877579092   \n",
       "896                      86,69724771                                   0   \n",
       "\n",
       "    Stitch 1 duration [s] Stitch 1 duration [%] Stitch 2 duration [s]  \\\n",
       "892                   NaN                   NaN                   NaN   \n",
       "893           156,9333333           50,74369476                   NaN   \n",
       "894           35,73333333           6,513549642           80,73333333   \n",
       "895                   NaN                   NaN                   NaN   \n",
       "896                   NaN                   NaN                   NaN   \n",
       "\n",
       "    Stitch 2 duration [%]  \n",
       "892                   NaN  \n",
       "893                   NaN  \n",
       "894           14,71624742  \n",
       "895                   NaN  \n",
       "896                   NaN  \n",
       "\n",
       "[5 rows x 443 columns]"
      ]
     },
     "execution_count": 4,
     "metadata": {},
     "output_type": "execute_result"
    }
   ],
   "source": [
    "df.tail()"
   ]
  },
  {
   "cell_type": "code",
   "execution_count": 5,
   "id": "1eae6362d26994c1",
   "metadata": {
    "ExecuteTime": {
     "end_time": "2024-01-08T22:59:44.877450600Z",
     "start_time": "2024-01-08T22:59:44.698966700Z"
    },
    "collapsed": false,
    "jupyter": {
     "outputs_hidden": false
    },
    "tags": []
   },
   "outputs": [],
   "source": [
    "# remove all records with filename NA or NaN\n",
    "dfs = df[df[\"filename\"].notna()]\n",
    "\n",
    "# take all records with filename containing \"Good\", \"Medium\", \"Bad\", if the filename is the same, take the last one\n",
    "\n",
    "dfs = dfs[dfs[\"filename\"].str.contains(\"Good|Medium|Bad\")].drop_duplicates(subset=[\"filename\"], keep=\"last\")"
   ]
  },
  {
   "cell_type": "code",
   "execution_count": 6,
   "id": "c48bd8c947f4ff49",
   "metadata": {
    "ExecuteTime": {
     "end_time": "2024-01-08T22:59:44.934170Z",
     "start_time": "2024-01-08T22:59:44.732974200Z"
    },
    "collapsed": false,
    "jupyter": {
     "outputs_hidden": false
    },
    "tags": []
   },
   "outputs": [],
   "source": [
    "# add column \"stars_auto\" with 0 for \"Good\", 1 for \"Medium\", 2 for \"Bad\"\n",
    "dfs[\"stars_auto\"] = dfs[\"filename\"].str.contains(\"Good\").astype(int) * 0\n",
    "dfs[\"stars_auto\"] = dfs[\"filename\"].str.contains(\"Medium\").astype(int) * 1\n",
    "dfs[\"stars_auto\"] = dfs[\"filename\"].str.contains(\"Bad\").astype(int) * 2\n",
    "# dfs[\"filename\"].str.contains(\"Good|Medium|Bad\")\n"
   ]
  },
  {
   "cell_type": "code",
   "execution_count": 24,
   "id": "fc241688bee9d33c",
   "metadata": {
    "ExecuteTime": {
     "end_time": "2024-01-08T22:59:44.935169800Z",
     "start_time": "2024-01-08T22:59:44.757486500Z"
    },
    "collapsed": false,
    "jupyter": {
     "outputs_hidden": false
    },
    "tags": []
   },
   "outputs": [
    {
     "data": {
      "text/plain": [
       "22"
      ]
     },
     "execution_count": 24,
     "metadata": {},
     "output_type": "execute_result"
    }
   ],
   "source": [
    "len(dfs)"
   ]
  },
  {
   "cell_type": "code",
   "execution_count": 25,
   "id": "c05a4a16f13bc707",
   "metadata": {
    "ExecuteTime": {
     "end_time": "2024-01-08T22:59:47.029573200Z",
     "start_time": "2024-01-08T22:59:47.016280100Z"
    },
    "collapsed": false,
    "jupyter": {
     "outputs_hidden": false
    },
    "tags": []
   },
   "outputs": [
    {
     "data": {
      "text/plain": [
       "Index(['filename', 'report_url', 'timestamp', 'email', 'uploaded_at',\n",
       "       'finished_at', 'fps', 'Needle holder length [m]', 'Scissors length [m]',\n",
       "       'Forceps length [m]',\n",
       "       ...\n",
       "       'Scissors stitch 0 visibility [s]', 'Scissors stitch 0 velocity',\n",
       "       'Scissors stitch 0 unit', 'Scissors stitch 0 visibility [%]',\n",
       "       'Scissors stitch 0 area presence [%]', 'Stitch 1 duration [s]',\n",
       "       'Stitch 1 duration [%]', 'Stitch 2 duration [s]',\n",
       "       'Stitch 2 duration [%]', 'stars_auto'],\n",
       "      dtype='object', length=444)"
      ]
     },
     "execution_count": 25,
     "metadata": {},
     "output_type": "execute_result"
    }
   ],
   "source": [
    "dfs.columns"
   ]
  },
  {
   "cell_type": "markdown",
   "id": "cdbb4a20-c96d-4c0e-8d38-3e17db1b9432",
   "metadata": {},
   "source": [
    "### Replace \",\" with \".\""
   ]
  },
  {
   "cell_type": "code",
   "execution_count": 26,
   "id": "4a1b759401be37e4",
   "metadata": {
    "ExecuteTime": {
     "end_time": "2024-01-08T22:59:47.387376100Z",
     "start_time": "2024-01-08T22:59:47.033311100Z"
    },
    "collapsed": false,
    "jupyter": {
     "outputs_hidden": false
    },
    "tags": []
   },
   "outputs": [],
   "source": [
    "# find the columns where its values contain single \",\" and digits\n",
    "dfs.columns[dfs.apply(lambda x: (x.dtype is str) and (x.str.contains(\",\\d\").any()))]\n",
    "cols = []\n",
    "for col in dfs.columns:\n",
    "    try:\n",
    "        if (dfs[col].str.contains(\",\\d\").any()):\n",
    "            # convert , to . and change the column type to float\n",
    "            dfs[col] = dfs[col].str.replace(\",\", \".\").astype(float)\n",
    "            cols.append(col)\n",
    "    except:\n",
    "        pass\n",
    "# cols"
   ]
  },
  {
   "cell_type": "code",
   "execution_count": 27,
   "id": "c43a49972fe915d7",
   "metadata": {
    "ExecuteTime": {
     "end_time": "2024-01-08T22:59:47.429382100Z",
     "start_time": "2024-01-08T22:59:47.346375500Z"
    },
    "collapsed": false,
    "jupyter": {
     "outputs_hidden": false
    },
    "tags": []
   },
   "outputs": [],
   "source": [
    "# dfs"
   ]
  },
  {
   "cell_type": "code",
   "execution_count": null,
   "id": "51af25062aa51526",
   "metadata": {
    "ExecuteTime": {
     "end_time": "2024-01-08T22:59:47.500110400Z",
     "start_time": "2024-01-08T22:59:47.388376500Z"
    },
    "collapsed": false,
    "jupyter": {
     "outputs_hidden": false
    }
   },
   "outputs": [],
   "source": []
  },
  {
   "cell_type": "code",
   "execution_count": null,
   "id": "f3373f9ec58e3a99",
   "metadata": {
    "ExecuteTime": {
     "end_time": "2024-01-08T22:59:49.524574800Z",
     "start_time": "2024-01-08T22:59:49.511569100Z"
    },
    "collapsed": false,
    "jupyter": {
     "outputs_hidden": false
    }
   },
   "outputs": [],
   "source": []
  },
  {
   "cell_type": "code",
   "execution_count": 28,
   "id": "d44ea6f5690f0d79",
   "metadata": {
    "ExecuteTime": {
     "end_time": "2024-01-08T22:59:53.468826Z",
     "start_time": "2024-01-08T22:59:53.400635600Z"
    },
    "collapsed": false,
    "jupyter": {
     "outputs_hidden": false
    },
    "tags": []
   },
   "outputs": [],
   "source": [
    "# print name of columns containing needle holder\n",
    "# dfs.columns[dfs.columns.str.contains(\"Needle holder\")]"
   ]
  },
  {
   "cell_type": "code",
   "execution_count": 29,
   "id": "fe816967bd95fb8c",
   "metadata": {
    "ExecuteTime": {
     "end_time": "2024-01-08T22:59:54.567949600Z",
     "start_time": "2024-01-08T22:59:54.439894600Z"
    },
    "collapsed": false,
    "jupyter": {
     "outputs_hidden": false
    },
    "tags": []
   },
   "outputs": [],
   "source": [
    "# dfs[[\"Needle holder stitch 1 length [m]\", \"Needle holder length [m]\"]]"
   ]
  },
  {
   "cell_type": "markdown",
   "id": "7190306c-4a98-4a2a-80fc-0ea35452285b",
   "metadata": {},
   "source": [
    "### If there is just one stitch, put ths information into stitch 1 measurements"
   ]
  },
  {
   "cell_type": "code",
   "execution_count": 30,
   "id": "5a00460c06572f18",
   "metadata": {
    "ExecuteTime": {
     "end_time": "2024-01-08T23:00:02.126090900Z",
     "start_time": "2024-01-08T23:00:02.066092700Z"
    },
    "collapsed": false,
    "jupyter": {
     "outputs_hidden": false
    },
    "tags": []
   },
   "outputs": [],
   "source": [
    "# If column containing \" stitch 1\" in its name has empty values, fill them with  the values from the column with the same name but withuou \" stitch 1\"\n",
    "for col in dfs.columns[dfs.columns.str.contains(\" stitch 0\")]:\n",
    "    dfs[col] = dfs[col].fillna(dfs[col.replace(\" stitch 0\", \"\")])"
   ]
  },
  {
   "cell_type": "code",
   "execution_count": 31,
   "id": "8d4e18421dd66275",
   "metadata": {
    "ExecuteTime": {
     "end_time": "2024-01-08T23:00:02.857860600Z",
     "start_time": "2024-01-08T23:00:02.781637Z"
    },
    "collapsed": false,
    "jupyter": {
     "outputs_hidden": false
    },
    "tags": []
   },
   "outputs": [],
   "source": [
    "# dfs[[\"Needle holder stitch 1 length [m]\", \"Needle holder length [m]\"]]\n"
   ]
  },
  {
   "cell_type": "markdown",
   "id": "d6997045-1eb0-4800-ac0a-fc1327a2dd2d",
   "metadata": {},
   "source": [
    "# Find the correlation"
   ]
  },
  {
   "cell_type": "code",
   "execution_count": 15,
   "id": "ac9eaa05-6615-4b7d-ad65-bbf74ff984e9",
   "metadata": {
    "tags": []
   },
   "outputs": [],
   "source": [
    "# dfs.corr()"
   ]
  },
  {
   "cell_type": "code",
   "execution_count": 16,
   "id": "1b7aa71b1749b7f",
   "metadata": {
    "ExecuteTime": {
     "end_time": "2024-01-08T23:00:03.453092700Z",
     "start_time": "2024-01-08T23:00:03.346571200Z"
    },
    "collapsed": false,
    "jupyter": {
     "outputs_hidden": false
    },
    "tags": []
   },
   "outputs": [
    {
     "data": {
      "text/plain": [
       "annotation_annotation_stars      -0.944911\n",
       "Stitches parallelism score [%]   -0.664638\n",
       "Scissors stitch 1 velocity       -0.478465\n",
       "Scissors velocity                -0.461484\n",
       "qr_data_size_by_scene            -0.333333\n",
       "                                    ...   \n",
       "annotation_annotator                   NaN\n",
       "frame_width                            NaN\n",
       "frame_height                           NaN\n",
       "Stitch 2 duration [s]                  NaN\n",
       "Stitch 2 duration [%]                  NaN\n",
       "Name: stars_auto, Length: 206, dtype: float64"
      ]
     },
     "execution_count": 16,
     "metadata": {},
     "output_type": "execute_result"
    }
   ],
   "source": [
    "# find corelation between stars_auto and other numerical columns and sort them\n",
    "dfs.corr()[\"stars_auto\"].sort_values()\n",
    "\n"
   ]
  },
  {
   "cell_type": "code",
   "execution_count": 17,
   "id": "1d682a975ee6f940",
   "metadata": {
    "ExecuteTime": {
     "end_time": "2024-01-08T23:00:52.740029700Z",
     "start_time": "2024-01-08T23:00:52.663514500Z"
    },
    "collapsed": false,
    "jupyter": {
     "outputs_hidden": false
    },
    "tags": []
   },
   "outputs": [
    {
     "data": {
      "text/plain": [
       "stars_auto                               1.000000\n",
       "Stitch 1 duration [s]                    1.000000\n",
       "Stitch 1 duration [%]                    1.000000\n",
       "Scissors bbox stitch 1 length [m]        0.688679\n",
       "Scissors bbox stitch 0 length [m]        0.669492\n",
       "Stitches perpendicular score [%]         0.647946\n",
       "Needle holder stitch 0 length [m]        0.614731\n",
       "Needle holder stitch 1 length [m]        0.580418\n",
       "Scissors bbox length [m]                 0.514664\n",
       "Needle holder stitch 1 visibility [s]    0.506560\n",
       "Name: stars_auto, dtype: float64"
      ]
     },
     "execution_count": 17,
     "metadata": {},
     "output_type": "execute_result"
    }
   ],
   "source": [
    "# try to find the best columns to predict stars_auto\n",
    "corr = dfs.corr()[\"stars_auto\"].sort_values(ascending=False).head(10)\n",
    "corr\n"
   ]
  },
  {
   "cell_type": "code",
   "execution_count": 35,
   "id": "5c45184c-eb71-4c0d-a929-54d97b6ff1a0",
   "metadata": {
    "tags": []
   },
   "outputs": [
    {
     "data": {
      "text/html": [
       "<div>\n",
       "<style scoped>\n",
       "    .dataframe tbody tr th:only-of-type {\n",
       "        vertical-align: middle;\n",
       "    }\n",
       "\n",
       "    .dataframe tbody tr th {\n",
       "        vertical-align: top;\n",
       "    }\n",
       "\n",
       "    .dataframe thead th {\n",
       "        text-align: right;\n",
       "    }\n",
       "</style>\n",
       "<table border=\"1\" class=\"dataframe\">\n",
       "  <thead>\n",
       "    <tr style=\"text-align: right;\">\n",
       "      <th></th>\n",
       "      <th>filename</th>\n",
       "      <th>Needle holder stitch 1 length [m]</th>\n",
       "      <th>Stitches perpendicular score [%]</th>\n",
       "      <th>Needle holder stitch 1 visibility [s]</th>\n",
       "      <th>Stitches parallelism score [%]</th>\n",
       "    </tr>\n",
       "  </thead>\n",
       "  <tbody>\n",
       "    <tr>\n",
       "      <th>870</th>\n",
       "      <td>Good-03_11_2021_B_Holzmu_ller_Katharina_Einzel...</td>\n",
       "      <td>NaN</td>\n",
       "      <td>NaN</td>\n",
       "      <td>NaN</td>\n",
       "      <td>NaN</td>\n",
       "    </tr>\n",
       "    <tr>\n",
       "      <th>871</th>\n",
       "      <td>Good-2021_11_03_B_Zu_hl_Amelie_Einzelknopfnaht...</td>\n",
       "      <td>NaN</td>\n",
       "      <td>NaN</td>\n",
       "      <td>NaN</td>\n",
       "      <td>NaN</td>\n",
       "    </tr>\n",
       "    <tr>\n",
       "      <th>872</th>\n",
       "      <td>Medium-2021_11_03_A_Seifert_Johanna_Einzelknop...</td>\n",
       "      <td>NaN</td>\n",
       "      <td>NaN</td>\n",
       "      <td>NaN</td>\n",
       "      <td>NaN</td>\n",
       "    </tr>\n",
       "    <tr>\n",
       "      <th>874</th>\n",
       "      <td>Medium-2021_11_03_A_Tengler_Sophie_Einzelknopf...</td>\n",
       "      <td>NaN</td>\n",
       "      <td>NaN</td>\n",
       "      <td>NaN</td>\n",
       "      <td>NaN</td>\n",
       "    </tr>\n",
       "    <tr>\n",
       "      <th>875</th>\n",
       "      <td>Medium-2021_10_12_B_Westermann_Lammers_Johanna...</td>\n",
       "      <td>NaN</td>\n",
       "      <td>NaN</td>\n",
       "      <td>NaN</td>\n",
       "      <td>NaN</td>\n",
       "    </tr>\n",
       "    <tr>\n",
       "      <th>876</th>\n",
       "      <td>Good-Einzelknopfnaht_Stoklossa.mp4</td>\n",
       "      <td>NaN</td>\n",
       "      <td>NaN</td>\n",
       "      <td>NaN</td>\n",
       "      <td>NaN</td>\n",
       "    </tr>\n",
       "    <tr>\n",
       "      <th>877</th>\n",
       "      <td>Good-2021_11_17_A_Gramlich_Judith_Stresstest_E...</td>\n",
       "      <td>NaN</td>\n",
       "      <td>NaN</td>\n",
       "      <td>NaN</td>\n",
       "      <td>NaN</td>\n",
       "    </tr>\n",
       "    <tr>\n",
       "      <th>878</th>\n",
       "      <td>Good-2021_10_27_B_Etzel_Peter_Einzelknopfnaht_...</td>\n",
       "      <td>NaN</td>\n",
       "      <td>NaN</td>\n",
       "      <td>NaN</td>\n",
       "      <td>NaN</td>\n",
       "    </tr>\n",
       "    <tr>\n",
       "      <th>879</th>\n",
       "      <td>Bad-2021_11_3_A_Brodersen___nne_Einzelknopfnah...</td>\n",
       "      <td>NaN</td>\n",
       "      <td>NaN</td>\n",
       "      <td>NaN</td>\n",
       "      <td>NaN</td>\n",
       "    </tr>\n",
       "    <tr>\n",
       "      <th>880</th>\n",
       "      <td>Bad-2021_11_03_B_V_lz__Ann_Sophie_Einzelknopfn...</td>\n",
       "      <td>NaN</td>\n",
       "      <td>NaN</td>\n",
       "      <td>NaN</td>\n",
       "      <td>NaN</td>\n",
       "    </tr>\n",
       "    <tr>\n",
       "      <th>881</th>\n",
       "      <td>Bad-2021_11_03_A_Spitze_Vanessa_Einzelknopfnah...</td>\n",
       "      <td>NaN</td>\n",
       "      <td>NaN</td>\n",
       "      <td>NaN</td>\n",
       "      <td>NaN</td>\n",
       "    </tr>\n",
       "    <tr>\n",
       "      <th>882</th>\n",
       "      <td>Bad-2021_11_03_A_Petersen_Insa_Einzelknopfnaht...</td>\n",
       "      <td>NaN</td>\n",
       "      <td>NaN</td>\n",
       "      <td>NaN</td>\n",
       "      <td>NaN</td>\n",
       "    </tr>\n",
       "    <tr>\n",
       "      <th>887</th>\n",
       "      <td>Medium-Schweinefu_.mp4</td>\n",
       "      <td>3.318582</td>\n",
       "      <td>80.000000</td>\n",
       "      <td>82.866667</td>\n",
       "      <td>99.189888</td>\n",
       "    </tr>\n",
       "    <tr>\n",
       "      <th>888</th>\n",
       "      <td>Bad-12_10_21__Loewe__Rebekka__Einzelknopfnaht.mp4</td>\n",
       "      <td>3.885251</td>\n",
       "      <td>100.000000</td>\n",
       "      <td>251.800000</td>\n",
       "      <td>97.193232</td>\n",
       "    </tr>\n",
       "    <tr>\n",
       "      <th>889</th>\n",
       "      <td>Medium-RPReplay_Final1634048018.mp4</td>\n",
       "      <td>1.985847</td>\n",
       "      <td>100.000000</td>\n",
       "      <td>74.133333</td>\n",
       "      <td>99.180243</td>\n",
       "    </tr>\n",
       "    <tr>\n",
       "      <th>890</th>\n",
       "      <td>Good-Schweinefu__Einzelknopfnaht.mp4</td>\n",
       "      <td>4.327027</td>\n",
       "      <td>77.777778</td>\n",
       "      <td>131.666667</td>\n",
       "      <td>99.884620</td>\n",
       "    </tr>\n",
       "    <tr>\n",
       "      <th>891</th>\n",
       "      <td>Good-Schmidt_Elisabeth_Einzelknotennaht_11_10_...</td>\n",
       "      <td>1.596960</td>\n",
       "      <td>100.000000</td>\n",
       "      <td>124.133333</td>\n",
       "      <td>99.795345</td>\n",
       "    </tr>\n",
       "    <tr>\n",
       "      <th>892</th>\n",
       "      <td>Bad-trim_0B861D6D_C942_4D0E_90C7_5D9779BE091E.mp4</td>\n",
       "      <td>2.864750</td>\n",
       "      <td>100.000000</td>\n",
       "      <td>59.066667</td>\n",
       "      <td>96.391546</td>\n",
       "    </tr>\n",
       "    <tr>\n",
       "      <th>893</th>\n",
       "      <td>Bad-03_11_21_B_Hopfe_Johanna_Einzelknopfnaht.mp4</td>\n",
       "      <td>3.420839</td>\n",
       "      <td>100.000000</td>\n",
       "      <td>125.866667</td>\n",
       "      <td>97.143349</td>\n",
       "    </tr>\n",
       "    <tr>\n",
       "      <th>894</th>\n",
       "      <td>Good-162880einzelknopf.mp4</td>\n",
       "      <td>0.098898</td>\n",
       "      <td>73.333333</td>\n",
       "      <td>27.600000</td>\n",
       "      <td>99.247700</td>\n",
       "    </tr>\n",
       "    <tr>\n",
       "      <th>895</th>\n",
       "      <td>Bad-3_11_21_B_Grumt_Alina_Einzelknopfnaht_Schw...</td>\n",
       "      <td>5.886226</td>\n",
       "      <td>100.000000</td>\n",
       "      <td>167.133333</td>\n",
       "      <td>98.621132</td>\n",
       "    </tr>\n",
       "    <tr>\n",
       "      <th>896</th>\n",
       "      <td>Bad-2021_11_03_A_Noll_Alexander_Einzelknopfnah...</td>\n",
       "      <td>9.503007</td>\n",
       "      <td>100.000000</td>\n",
       "      <td>140.000000</td>\n",
       "      <td>99.874251</td>\n",
       "    </tr>\n",
       "  </tbody>\n",
       "</table>\n",
       "</div>"
      ],
      "text/plain": [
       "                                              filename  \\\n",
       "870  Good-03_11_2021_B_Holzmu_ller_Katharina_Einzel...   \n",
       "871  Good-2021_11_03_B_Zu_hl_Amelie_Einzelknopfnaht...   \n",
       "872  Medium-2021_11_03_A_Seifert_Johanna_Einzelknop...   \n",
       "874  Medium-2021_11_03_A_Tengler_Sophie_Einzelknopf...   \n",
       "875  Medium-2021_10_12_B_Westermann_Lammers_Johanna...   \n",
       "876                 Good-Einzelknopfnaht_Stoklossa.mp4   \n",
       "877  Good-2021_11_17_A_Gramlich_Judith_Stresstest_E...   \n",
       "878  Good-2021_10_27_B_Etzel_Peter_Einzelknopfnaht_...   \n",
       "879  Bad-2021_11_3_A_Brodersen___nne_Einzelknopfnah...   \n",
       "880  Bad-2021_11_03_B_V_lz__Ann_Sophie_Einzelknopfn...   \n",
       "881  Bad-2021_11_03_A_Spitze_Vanessa_Einzelknopfnah...   \n",
       "882  Bad-2021_11_03_A_Petersen_Insa_Einzelknopfnaht...   \n",
       "887                             Medium-Schweinefu_.mp4   \n",
       "888  Bad-12_10_21__Loewe__Rebekka__Einzelknopfnaht.mp4   \n",
       "889                Medium-RPReplay_Final1634048018.mp4   \n",
       "890               Good-Schweinefu__Einzelknopfnaht.mp4   \n",
       "891  Good-Schmidt_Elisabeth_Einzelknotennaht_11_10_...   \n",
       "892  Bad-trim_0B861D6D_C942_4D0E_90C7_5D9779BE091E.mp4   \n",
       "893   Bad-03_11_21_B_Hopfe_Johanna_Einzelknopfnaht.mp4   \n",
       "894                         Good-162880einzelknopf.mp4   \n",
       "895  Bad-3_11_21_B_Grumt_Alina_Einzelknopfnaht_Schw...   \n",
       "896  Bad-2021_11_03_A_Noll_Alexander_Einzelknopfnah...   \n",
       "\n",
       "     Needle holder stitch 1 length [m]  Stitches perpendicular score [%]  \\\n",
       "870                                NaN                               NaN   \n",
       "871                                NaN                               NaN   \n",
       "872                                NaN                               NaN   \n",
       "874                                NaN                               NaN   \n",
       "875                                NaN                               NaN   \n",
       "876                                NaN                               NaN   \n",
       "877                                NaN                               NaN   \n",
       "878                                NaN                               NaN   \n",
       "879                                NaN                               NaN   \n",
       "880                                NaN                               NaN   \n",
       "881                                NaN                               NaN   \n",
       "882                                NaN                               NaN   \n",
       "887                           3.318582                         80.000000   \n",
       "888                           3.885251                        100.000000   \n",
       "889                           1.985847                        100.000000   \n",
       "890                           4.327027                         77.777778   \n",
       "891                           1.596960                        100.000000   \n",
       "892                           2.864750                        100.000000   \n",
       "893                           3.420839                        100.000000   \n",
       "894                           0.098898                         73.333333   \n",
       "895                           5.886226                        100.000000   \n",
       "896                           9.503007                        100.000000   \n",
       "\n",
       "     Needle holder stitch 1 visibility [s]  Stitches parallelism score [%]  \n",
       "870                                    NaN                             NaN  \n",
       "871                                    NaN                             NaN  \n",
       "872                                    NaN                             NaN  \n",
       "874                                    NaN                             NaN  \n",
       "875                                    NaN                             NaN  \n",
       "876                                    NaN                             NaN  \n",
       "877                                    NaN                             NaN  \n",
       "878                                    NaN                             NaN  \n",
       "879                                    NaN                             NaN  \n",
       "880                                    NaN                             NaN  \n",
       "881                                    NaN                             NaN  \n",
       "882                                    NaN                             NaN  \n",
       "887                              82.866667                       99.189888  \n",
       "888                             251.800000                       97.193232  \n",
       "889                              74.133333                       99.180243  \n",
       "890                             131.666667                       99.884620  \n",
       "891                             124.133333                       99.795345  \n",
       "892                              59.066667                       96.391546  \n",
       "893                             125.866667                       97.143349  \n",
       "894                              27.600000                       99.247700  \n",
       "895                             167.133333                       98.621132  \n",
       "896                             140.000000                       99.874251  "
      ]
     },
     "execution_count": 35,
     "metadata": {},
     "output_type": "execute_result"
    }
   ],
   "source": [
    "columns = [\"filename\", \"Needle holder stitch 1 length [m]\", \"Stitches perpendicular score [%]\", \"Needle holder stitch 1 visibility [s]\", \"Stitches parallelism score [%]\"]\n",
    "\n",
    "dfs[columns]"
   ]
  },
  {
   "cell_type": "markdown",
   "id": "38565d3a-fde1-4cb2-9999-6febfa393d6b",
   "metadata": {},
   "source": [
    "# Train predictor"
   ]
  },
  {
   "cell_type": "code",
   "execution_count": 33,
   "id": "156ae14a777fe3fc",
   "metadata": {
    "ExecuteTime": {
     "end_time": "2024-01-08T23:00:53.357519800Z",
     "start_time": "2024-01-08T23:00:53.329979700Z"
    },
    "collapsed": false,
    "jupyter": {
     "outputs_hidden": false
    },
    "tags": []
   },
   "outputs": [
    {
     "name": "stdout",
     "output_type": "stream",
     "text": [
      "22\n",
      "10\n"
     ]
    },
    {
     "ename": "KeyError",
     "evalue": "\"['stars_auto', 'Stitch 1 duration [s]', 'Stitch 1 duration [%]', 'Scissors bbox stitch 1 length [m]', 'Scissors bbox stitch 0 length [m]', 'Needle holder stitch 0 length [m]', 'Scissors bbox length [m]'] not in index\"",
     "output_type": "error",
     "traceback": [
      "\u001b[0;31m---------------------------------------------------------------------------\u001b[0m",
      "\u001b[0;31mKeyError\u001b[0m                                  Traceback (most recent call last)",
      "Input \u001b[0;32mIn [33]\u001b[0m, in \u001b[0;36m<cell line: 17>\u001b[0;34m()\u001b[0m\n\u001b[1;32m     15\u001b[0m dfsx \u001b[38;5;241m=\u001b[39m dfsx\u001b[38;5;241m.\u001b[39mdropna()\n\u001b[1;32m     16\u001b[0m \u001b[38;5;28mprint\u001b[39m(\u001b[38;5;28mlen\u001b[39m(dfsx))\n\u001b[0;32m---> 17\u001b[0m X \u001b[38;5;241m=\u001b[39m \u001b[43mdfsx\u001b[49m\u001b[43m[\u001b[49m\u001b[43mcorr\u001b[49m\u001b[38;5;241;43m.\u001b[39;49m\u001b[43mindex\u001b[49m\u001b[43m]\u001b[49m\u001b[38;5;241m.\u001b[39mdrop(\u001b[38;5;124m\"\u001b[39m\u001b[38;5;124mstars_auto\u001b[39m\u001b[38;5;124m\"\u001b[39m, axis\u001b[38;5;241m=\u001b[39m\u001b[38;5;241m1\u001b[39m)\n\u001b[1;32m     18\u001b[0m y \u001b[38;5;241m=\u001b[39m dfsx[\u001b[38;5;124m\"\u001b[39m\u001b[38;5;124mstars_auto\u001b[39m\u001b[38;5;124m\"\u001b[39m]\n\u001b[1;32m     19\u001b[0m X_train, X_test, y_train, y_test \u001b[38;5;241m=\u001b[39m train_test_split(X, y, test_size\u001b[38;5;241m=\u001b[39m\u001b[38;5;241m0.2\u001b[39m, random_state\u001b[38;5;241m=\u001b[39m\u001b[38;5;241m42\u001b[39m)\n",
      "File \u001b[0;32m/opt/conda/lib/python3.8/site-packages/pandas/core/frame.py:3464\u001b[0m, in \u001b[0;36mDataFrame.__getitem__\u001b[0;34m(self, key)\u001b[0m\n\u001b[1;32m   3462\u001b[0m     \u001b[38;5;28;01mif\u001b[39;00m is_iterator(key):\n\u001b[1;32m   3463\u001b[0m         key \u001b[38;5;241m=\u001b[39m \u001b[38;5;28mlist\u001b[39m(key)\n\u001b[0;32m-> 3464\u001b[0m     indexer \u001b[38;5;241m=\u001b[39m \u001b[38;5;28;43mself\u001b[39;49m\u001b[38;5;241;43m.\u001b[39;49m\u001b[43mloc\u001b[49m\u001b[38;5;241;43m.\u001b[39;49m\u001b[43m_get_listlike_indexer\u001b[49m\u001b[43m(\u001b[49m\u001b[43mkey\u001b[49m\u001b[43m,\u001b[49m\u001b[43m \u001b[49m\u001b[43maxis\u001b[49m\u001b[38;5;241;43m=\u001b[39;49m\u001b[38;5;241;43m1\u001b[39;49m\u001b[43m)\u001b[49m[\u001b[38;5;241m1\u001b[39m]\n\u001b[1;32m   3466\u001b[0m \u001b[38;5;66;03m# take() does not accept boolean indexers\u001b[39;00m\n\u001b[1;32m   3467\u001b[0m \u001b[38;5;28;01mif\u001b[39;00m \u001b[38;5;28mgetattr\u001b[39m(indexer, \u001b[38;5;124m\"\u001b[39m\u001b[38;5;124mdtype\u001b[39m\u001b[38;5;124m\"\u001b[39m, \u001b[38;5;28;01mNone\u001b[39;00m) \u001b[38;5;241m==\u001b[39m \u001b[38;5;28mbool\u001b[39m:\n",
      "File \u001b[0;32m/opt/conda/lib/python3.8/site-packages/pandas/core/indexing.py:1314\u001b[0m, in \u001b[0;36m_LocIndexer._get_listlike_indexer\u001b[0;34m(self, key, axis)\u001b[0m\n\u001b[1;32m   1311\u001b[0m \u001b[38;5;28;01melse\u001b[39;00m:\n\u001b[1;32m   1312\u001b[0m     keyarr, indexer, new_indexer \u001b[38;5;241m=\u001b[39m ax\u001b[38;5;241m.\u001b[39m_reindex_non_unique(keyarr)\n\u001b[0;32m-> 1314\u001b[0m \u001b[38;5;28;43mself\u001b[39;49m\u001b[38;5;241;43m.\u001b[39;49m\u001b[43m_validate_read_indexer\u001b[49m\u001b[43m(\u001b[49m\u001b[43mkeyarr\u001b[49m\u001b[43m,\u001b[49m\u001b[43m \u001b[49m\u001b[43mindexer\u001b[49m\u001b[43m,\u001b[49m\u001b[43m \u001b[49m\u001b[43maxis\u001b[49m\u001b[43m)\u001b[49m\n\u001b[1;32m   1316\u001b[0m \u001b[38;5;28;01mif\u001b[39;00m needs_i8_conversion(ax\u001b[38;5;241m.\u001b[39mdtype) \u001b[38;5;129;01mor\u001b[39;00m \u001b[38;5;28misinstance\u001b[39m(\n\u001b[1;32m   1317\u001b[0m     ax, (IntervalIndex, CategoricalIndex)\n\u001b[1;32m   1318\u001b[0m ):\n\u001b[1;32m   1319\u001b[0m     \u001b[38;5;66;03m# For CategoricalIndex take instead of reindex to preserve dtype.\u001b[39;00m\n\u001b[1;32m   1320\u001b[0m     \u001b[38;5;66;03m#  For IntervalIndex this is to map integers to the Intervals they match to.\u001b[39;00m\n\u001b[1;32m   1321\u001b[0m     keyarr \u001b[38;5;241m=\u001b[39m ax\u001b[38;5;241m.\u001b[39mtake(indexer)\n",
      "File \u001b[0;32m/opt/conda/lib/python3.8/site-packages/pandas/core/indexing.py:1377\u001b[0m, in \u001b[0;36m_LocIndexer._validate_read_indexer\u001b[0;34m(self, key, indexer, axis)\u001b[0m\n\u001b[1;32m   1374\u001b[0m     \u001b[38;5;28;01mraise\u001b[39;00m \u001b[38;5;167;01mKeyError\u001b[39;00m(\u001b[38;5;124mf\u001b[39m\u001b[38;5;124m\"\u001b[39m\u001b[38;5;124mNone of [\u001b[39m\u001b[38;5;132;01m{\u001b[39;00mkey\u001b[38;5;132;01m}\u001b[39;00m\u001b[38;5;124m] are in the [\u001b[39m\u001b[38;5;132;01m{\u001b[39;00maxis_name\u001b[38;5;132;01m}\u001b[39;00m\u001b[38;5;124m]\u001b[39m\u001b[38;5;124m\"\u001b[39m)\n\u001b[1;32m   1376\u001b[0m not_found \u001b[38;5;241m=\u001b[39m \u001b[38;5;28mlist\u001b[39m(ensure_index(key)[missing_mask\u001b[38;5;241m.\u001b[39mnonzero()[\u001b[38;5;241m0\u001b[39m]]\u001b[38;5;241m.\u001b[39munique())\n\u001b[0;32m-> 1377\u001b[0m \u001b[38;5;28;01mraise\u001b[39;00m \u001b[38;5;167;01mKeyError\u001b[39;00m(\u001b[38;5;124mf\u001b[39m\u001b[38;5;124m\"\u001b[39m\u001b[38;5;132;01m{\u001b[39;00mnot_found\u001b[38;5;132;01m}\u001b[39;00m\u001b[38;5;124m not in index\u001b[39m\u001b[38;5;124m\"\u001b[39m)\n",
      "\u001b[0;31mKeyError\u001b[0m: \"['stars_auto', 'Stitch 1 duration [s]', 'Stitch 1 duration [%]', 'Scissors bbox stitch 1 length [m]', 'Scissors bbox stitch 0 length [m]', 'Needle holder stitch 0 length [m]', 'Scissors bbox length [m]'] not in index\""
     ]
    }
   ],
   "source": [
    "import sklearn\n",
    "# train a model to predict stars_auto\n",
    "from sklearn.linear_model import LinearRegression\n",
    "from sklearn.model_selection import train_test_split\n",
    "from sklearn.metrics import mean_squared_error, r2_score\n",
    "# import SVM\n",
    "from sklearn.svm import SVR\n",
    "#train a model to predict stars_auto\n",
    "\n",
    "# columns = list(corr.index)\n",
    "columns.append(\"filename\")\n",
    "\n",
    "dfsx = dfs[columns]\n",
    "print(len(dfsx))\n",
    "dfsx = dfsx.dropna()\n",
    "print(len(dfsx))\n",
    "X = dfsx[corr.index].drop(\"stars_auto\", axis=1)\n",
    "y = dfsx[\"stars_auto\"]\n",
    "X_train, X_test, y_train, y_test = train_test_split(X, y, test_size=0.2, random_state=42)\n",
    "\n",
    "model = SVR()\n",
    "model.fit(X_train, y_train)\n",
    "\n",
    "# \n",
    "# X"
   ]
  },
  {
   "cell_type": "code",
   "execution_count": 22,
   "id": "8efb696a-98cd-420d-8f25-9afca365d3ad",
   "metadata": {
    "tags": []
   },
   "outputs": [
    {
     "data": {
      "text/html": [
       "<div>\n",
       "<style scoped>\n",
       "    .dataframe tbody tr th:only-of-type {\n",
       "        vertical-align: middle;\n",
       "    }\n",
       "\n",
       "    .dataframe tbody tr th {\n",
       "        vertical-align: top;\n",
       "    }\n",
       "\n",
       "    .dataframe thead th {\n",
       "        text-align: right;\n",
       "    }\n",
       "</style>\n",
       "<table border=\"1\" class=\"dataframe\">\n",
       "  <thead>\n",
       "    <tr style=\"text-align: right;\">\n",
       "      <th></th>\n",
       "      <th>stars_auto</th>\n",
       "      <th>Stitch 1 duration [s]</th>\n",
       "      <th>Stitch 1 duration [%]</th>\n",
       "      <th>Scissors bbox stitch 1 length [m]</th>\n",
       "      <th>Scissors bbox stitch 0 length [m]</th>\n",
       "      <th>Stitches perpendicular score [%]</th>\n",
       "      <th>Needle holder stitch 0 length [m]</th>\n",
       "      <th>Needle holder stitch 1 length [m]</th>\n",
       "      <th>Scissors bbox length [m]</th>\n",
       "      <th>Needle holder stitch 1 visibility [s]</th>\n",
       "      <th>filename</th>\n",
       "    </tr>\n",
       "  </thead>\n",
       "  <tbody>\n",
       "    <tr>\n",
       "      <th>893</th>\n",
       "      <td>2</td>\n",
       "      <td>156.933333</td>\n",
       "      <td>50.743695</td>\n",
       "      <td>2.141051</td>\n",
       "      <td>1.166848</td>\n",
       "      <td>100.000000</td>\n",
       "      <td>2.151528</td>\n",
       "      <td>3.420839</td>\n",
       "      <td>3.526894</td>\n",
       "      <td>125.866667</td>\n",
       "      <td>Bad-03_11_21_B_Hopfe_Johanna_Einzelknopfnaht.mp4</td>\n",
       "    </tr>\n",
       "    <tr>\n",
       "      <th>894</th>\n",
       "      <td>0</td>\n",
       "      <td>35.733333</td>\n",
       "      <td>6.513550</td>\n",
       "      <td>0.052302</td>\n",
       "      <td>0.157242</td>\n",
       "      <td>73.333333</td>\n",
       "      <td>0.990121</td>\n",
       "      <td>0.098898</td>\n",
       "      <td>0.999684</td>\n",
       "      <td>27.600000</td>\n",
       "      <td>Good-162880einzelknopf.mp4</td>\n",
       "    </tr>\n",
       "  </tbody>\n",
       "</table>\n",
       "</div>"
      ],
      "text/plain": [
       "     stars_auto  Stitch 1 duration [s]  Stitch 1 duration [%]  \\\n",
       "893           2             156.933333              50.743695   \n",
       "894           0              35.733333               6.513550   \n",
       "\n",
       "     Scissors bbox stitch 1 length [m]  Scissors bbox stitch 0 length [m]  \\\n",
       "893                           2.141051                           1.166848   \n",
       "894                           0.052302                           0.157242   \n",
       "\n",
       "     Stitches perpendicular score [%]  Needle holder stitch 0 length [m]  \\\n",
       "893                        100.000000                           2.151528   \n",
       "894                         73.333333                           0.990121   \n",
       "\n",
       "     Needle holder stitch 1 length [m]  Scissors bbox length [m]  \\\n",
       "893                           3.420839                  3.526894   \n",
       "894                           0.098898                  0.999684   \n",
       "\n",
       "     Needle holder stitch 1 visibility [s]  \\\n",
       "893                             125.866667   \n",
       "894                              27.600000   \n",
       "\n",
       "                                             filename  \n",
       "893  Bad-03_11_21_B_Hopfe_Johanna_Einzelknopfnaht.mp4  \n",
       "894                        Good-162880einzelknopf.mp4  "
      ]
     },
     "execution_count": 22,
     "metadata": {},
     "output_type": "execute_result"
    }
   ],
   "source": [
    "dfsx"
   ]
  },
  {
   "cell_type": "markdown",
   "id": "0b88ba78-25b8-4d01-acaa-b88f31a70453",
   "metadata": {},
   "source": [
    "## Score"
   ]
  },
  {
   "cell_type": "code",
   "execution_count": 19,
   "id": "8e041b38-a2b0-4dcd-be7d-ab17ec6eb12d",
   "metadata": {
    "tags": []
   },
   "outputs": [
    {
     "name": "stderr",
     "output_type": "stream",
     "text": [
      "/home/appuser/.local/lib/python3.8/site-packages/sklearn/metrics/_regression.py:996: UndefinedMetricWarning: R^2 score is not well-defined with less than two samples.\n",
      "  warnings.warn(msg, UndefinedMetricWarning)\n"
     ]
    },
    {
     "data": {
      "text/plain": [
       "nan"
      ]
     },
     "execution_count": 19,
     "metadata": {},
     "output_type": "execute_result"
    }
   ],
   "source": [
    "model.score(X_test, y_test)"
   ]
  },
  {
   "cell_type": "code",
   "execution_count": 20,
   "id": "0cc6fb03-7d49-4ad1-a01c-3d54336a1446",
   "metadata": {
    "tags": []
   },
   "outputs": [
    {
     "name": "stderr",
     "output_type": "stream",
     "text": [
      "/home/appuser/.local/lib/python3.8/site-packages/sklearn/metrics/_regression.py:996: UndefinedMetricWarning: R^2 score is not well-defined with less than two samples.\n",
      "  warnings.warn(msg, UndefinedMetricWarning)\n"
     ]
    },
    {
     "data": {
      "text/plain": [
       "nan"
      ]
     },
     "execution_count": 20,
     "metadata": {},
     "output_type": "execute_result"
    }
   ],
   "source": [
    "model.score(X_train, y_train)"
   ]
  },
  {
   "cell_type": "markdown",
   "id": "c1351837-f926-43a6-bb68-bc35c946b0ec",
   "metadata": {},
   "source": [
    "## Check the předictions"
   ]
  },
  {
   "cell_type": "code",
   "execution_count": 21,
   "id": "ab82921a7dc10572",
   "metadata": {
    "ExecuteTime": {
     "end_time": "2024-01-08T23:00:54.102816800Z",
     "start_time": "2024-01-08T23:00:54.079811100Z"
    },
    "collapsed": false,
    "jupyter": {
     "outputs_hidden": false
    },
    "tags": []
   },
   "outputs": [
    {
     "data": {
      "text/plain": [
       "816    2\n",
       "842    0\n",
       "840    0\n",
       "822    2\n",
       "Name: stars_auto, dtype: int64"
      ]
     },
     "execution_count": 21,
     "metadata": {},
     "output_type": "execute_result"
    }
   ],
   "source": [
    "y_test"
   ]
  },
  {
   "cell_type": "code",
   "execution_count": 22,
   "id": "e5ea4f24720d1a20",
   "metadata": {
    "ExecuteTime": {
     "end_time": "2024-01-08T23:00:57.539342800Z",
     "start_time": "2024-01-08T23:00:57.408300Z"
    },
    "collapsed": false,
    "jupyter": {
     "outputs_hidden": false
    },
    "tags": []
   },
   "outputs": [
    {
     "data": {
      "text/plain": [
       "array([0.12636363, 0.11648296, 0.03380476, 0.10143237])"
      ]
     },
     "execution_count": 22,
     "metadata": {},
     "output_type": "execute_result"
    }
   ],
   "source": [
    "y_pred = model.predict(X_test)\n",
    "y_pred"
   ]
  },
  {
   "cell_type": "code",
   "execution_count": 23,
   "id": "4ad7ea73ebc96391",
   "metadata": {
    "ExecuteTime": {
     "end_time": "2024-01-08T23:02:14.311003600Z",
     "start_time": "2024-01-08T23:02:14.255000500Z"
    },
    "collapsed": false,
    "jupyter": {
     "outputs_hidden": false
    },
    "tags": []
   },
   "outputs": [
    {
     "data": {
      "text/plain": [
       "array([0.10069563, 0.11084839, 0.09947057, 0.10949899, 0.10615264,\n",
       "       0.09285266, 0.12814825, 0.11112511, 0.12869557, 0.09870658,\n",
       "       0.10005963, 0.10915682, 0.10023484, 0.10139677, 0.10023488,\n",
       "       0.08063209])"
      ]
     },
     "execution_count": 23,
     "metadata": {},
     "output_type": "execute_result"
    }
   ],
   "source": [
    "model.predict(X_train)\n"
   ]
  },
  {
   "cell_type": "code",
   "execution_count": 24,
   "id": "4fb2137572f7d68c",
   "metadata": {
    "ExecuteTime": {
     "end_time": "2024-01-08T23:02:21.727056700Z",
     "start_time": "2024-01-08T23:02:21.603333500Z"
    },
    "collapsed": false,
    "jupyter": {
     "outputs_hidden": false
    },
    "tags": []
   },
   "outputs": [
    {
     "data": {
      "text/plain": [
       "829    0\n",
       "826    2\n",
       "833    0\n",
       "824    2\n",
       "843    0\n",
       "841    0\n",
       "835    2\n",
       "823    2\n",
       "830    0\n",
       "857    2\n",
       "825    0\n",
       "834    2\n",
       "828    0\n",
       "832    0\n",
       "839    0\n",
       "827    0\n",
       "Name: stars_auto, dtype: int64"
      ]
     },
     "execution_count": 24,
     "metadata": {},
     "output_type": "execute_result"
    }
   ],
   "source": [
    "y_train"
   ]
  },
  {
   "cell_type": "code",
   "execution_count": 25,
   "id": "f6ec8f07533d895f",
   "metadata": {
    "ExecuteTime": {
     "end_time": "2024-01-08T23:07:11.283253700Z",
     "start_time": "2024-01-08T23:07:11.166676400Z"
    },
    "collapsed": false,
    "jupyter": {
     "outputs_hidden": false
    },
    "tags": []
   },
   "outputs": [
    {
     "data": {
      "text/plain": [
       "0.5"
      ]
     },
     "execution_count": 25,
     "metadata": {},
     "output_type": "execute_result"
    }
   ],
   "source": [
    "from sklearn.neural_network import MLPClassifier\n",
    "clf = MLPClassifier(solver='lbfgs', alpha=1e-5,\n",
    "                    hidden_layer_sizes=(5, 2), random_state=1)\n",
    "clf.fit(X_train, y_train)\n",
    "clf.score(X_test, y_test)"
   ]
  },
  {
   "cell_type": "code",
   "execution_count": 26,
   "id": "e2941983090d2225",
   "metadata": {
    "ExecuteTime": {
     "end_time": "2024-01-08T23:07:40.232991400Z",
     "start_time": "2024-01-08T23:07:40.169171600Z"
    },
    "collapsed": false,
    "jupyter": {
     "outputs_hidden": false
    },
    "tags": []
   },
   "outputs": [
    {
     "data": {
      "text/plain": [
       "array([0, 0, 0, 0, 0, 0, 0, 0, 0, 0, 0, 0, 0, 0, 0, 0])"
      ]
     },
     "execution_count": 26,
     "metadata": {},
     "output_type": "execute_result"
    }
   ],
   "source": [
    "clf.predict(X_train)"
   ]
  },
  {
   "cell_type": "code",
   "execution_count": 65,
   "id": "e55f43281611b056",
   "metadata": {
    "ExecuteTime": {
     "end_time": "2024-01-08T23:07:21.340654100Z",
     "start_time": "2024-01-08T23:07:21.211130400Z"
    },
    "collapsed": false,
    "jupyter": {
     "outputs_hidden": false
    }
   },
   "outputs": [
    {
     "data": {
      "text/plain": [
       "816    2\n",
       "842    0\n",
       "840    0\n",
       "822    2\n",
       "Name: stars_auto, dtype: int32"
      ]
     },
     "execution_count": 65,
     "metadata": {},
     "output_type": "execute_result"
    }
   ],
   "source": [
    "y_test"
   ]
  },
  {
   "cell_type": "code",
   "execution_count": null,
   "id": "2d4b03b5a062d9c1",
   "metadata": {
    "collapsed": false,
    "jupyter": {
     "outputs_hidden": false
    }
   },
   "outputs": [],
   "source": []
  }
 ],
 "metadata": {
  "kernelspec": {
   "display_name": "Python 3 (ipykernel)",
   "language": "python",
   "name": "python3"
  },
  "language_info": {
   "codemirror_mode": {
    "name": "ipython",
    "version": 3
   },
   "file_extension": ".py",
   "mimetype": "text/x-python",
   "name": "python",
   "nbconvert_exporter": "python",
   "pygments_lexer": "ipython3",
   "version": "3.8.13"
  }
 },
 "nbformat": 4,
 "nbformat_minor": 5
}
