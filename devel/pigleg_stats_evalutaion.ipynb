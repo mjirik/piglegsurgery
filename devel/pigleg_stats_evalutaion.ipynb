{
 "cells": [
  {
   "cell_type": "code",
   "execution_count": 2,
   "id": "initial_id",
   "metadata": {
    "ExecuteTime": {
     "end_time": "2024-01-08T22:59:42.479449200Z",
     "start_time": "2024-01-08T22:59:42.401676200Z"
    }
   },
   "outputs": [],
   "source": [
    "import seaborn as sns\n",
    "import scipy\n",
    "import skimage\n",
    "sns.set_style(\"ticks\")\n",
    "from pathlib import Path"
   ]
  },
  {
   "cell_type": "markdown",
   "id": "53e39872-8212-46c6-9931-5bc4ba7f3955",
   "metadata": {},
   "source": [
    "# Get the data "
   ]
  },
  {
   "cell_type": "code",
   "execution_count": 3,
   "id": "dfa95f5019f46bcb",
   "metadata": {
    "ExecuteTime": {
     "end_time": "2024-01-08T22:59:42.829020Z",
     "start_time": "2024-01-08T22:59:42.671892400Z"
    },
    "collapsed": false,
    "jupyter": {
     "outputs_hidden": false
    }
   },
   "outputs": [
    {
     "name": "stdout",
     "output_type": "stream",
     "text": [
      "[WindowsPath('../.env.dev')]\n"
     ]
    }
   ],
   "source": [
    "# in this file is the url to the spreadsheet with the data\n",
    "# PIGLEG_SPREADSHEET_URL=https://docs.google.com/spreadsheets/d/1G55kXxcJ0...piLaK0snddRU-jzU/edit?usp=sharing\n",
    "env_paths = list(Path(\".\").glob(\"../**/.env.dev\"))\n",
    "print(env_paths)\n",
    "# find line with PIGLEG_SPREADSHEET_URL and give me the value after the \"=\"\n",
    "PIGLEG_SPREADSHEET_URL = [line.split(\"=\", 1)[1].strip() for line in open(env_paths[0], \"r\") if line.startswith(\"PIGLEG_SPREADSHEET_URL\")][0]\n",
    "PIGLEG_SPREADSHEET_URL = PIGLEG_SPREADSHEET_URL.replace(\"\\\"\", \"\")\n",
    "PIGLEG_SPREADSHEET_URL = PIGLEG_SPREADSHEET_URL.replace(\"edit?usp=sharing\", \"export?format=csv\")\n",
    "# PIGLEG_SPREADSHEET_URL"
   ]
  },
  {
   "cell_type": "code",
   "execution_count": 4,
   "id": "b6f7ef48babc2ea8",
   "metadata": {
    "ExecuteTime": {
     "end_time": "2024-01-08T22:59:44.661499700Z",
     "start_time": "2024-01-08T22:59:42.920593700Z"
    },
    "collapsed": false,
    "jupyter": {
     "outputs_hidden": false
    }
   },
   "outputs": [],
   "source": [
    "import pandas as pd\n",
    "url = PIGLEG_SPREADSHEET_URL\n",
    "df = pd.read_csv(url)"
   ]
  },
  {
   "cell_type": "code",
   "execution_count": 7,
   "id": "f697ae50f242b813",
   "metadata": {
    "ExecuteTime": {
     "end_time": "2024-01-08T22:59:44.753490600Z",
     "start_time": "2024-01-08T22:59:44.686971300Z"
    },
    "collapsed": false,
    "jupyter": {
     "outputs_hidden": false
    }
   },
   "outputs": [
    {
     "data": {
      "text/html": [
       "<div>\n",
       "<style scoped>\n",
       "    .dataframe tbody tr th:only-of-type {\n",
       "        vertical-align: middle;\n",
       "    }\n",
       "\n",
       "    .dataframe tbody tr th {\n",
       "        vertical-align: top;\n",
       "    }\n",
       "\n",
       "    .dataframe thead th {\n",
       "        text-align: right;\n",
       "    }\n",
       "</style>\n",
       "<table border=\"1\" class=\"dataframe\">\n",
       "  <thead>\n",
       "    <tr style=\"text-align: right;\">\n",
       "      <th></th>\n",
       "      <th>filename</th>\n",
       "      <th>report_url</th>\n",
       "      <th>email</th>\n",
       "      <th>uploaded_at</th>\n",
       "      <th>finished_at</th>\n",
       "      <th>fps</th>\n",
       "      <th>Needle holder length [m]</th>\n",
       "      <th>Scissors length [m]</th>\n",
       "      <th>Forceps length [m]</th>\n",
       "      <th>Needle holder visibility [s]</th>\n",
       "      <th>...</th>\n",
       "      <th>Right hand bbox stitch 4 length [pix]</th>\n",
       "      <th>annotation_annotation</th>\n",
       "      <th>annotation_stars</th>\n",
       "      <th>annotation_annotator</th>\n",
       "      <th>annotation_updated_at</th>\n",
       "      <th>annotation_annotation_annotation</th>\n",
       "      <th>annotation_annotation_stars</th>\n",
       "      <th>annotation_annotation_annotator</th>\n",
       "      <th>annotation_annotation_updated_at</th>\n",
       "      <th>timestamp</th>\n",
       "    </tr>\n",
       "  </thead>\n",
       "  <tbody>\n",
       "    <tr>\n",
       "      <th>853</th>\n",
       "      <td>test_end_2.mp4</td>\n",
       "      <td>http://localhost:8100//uploader/web_report/946...</td>\n",
       "      <td>mjirik@gapps.zcu.cz</td>\n",
       "      <td>2024-01-07 12:30</td>\n",
       "      <td>2024-01-07 12:39</td>\n",
       "      <td>30.0</td>\n",
       "      <td>NaN</td>\n",
       "      <td>0,05489300889</td>\n",
       "      <td>0,005669856086</td>\n",
       "      <td>NaN</td>\n",
       "      <td>...</td>\n",
       "      <td>NaN</td>\n",
       "      <td>NaN</td>\n",
       "      <td>NaN</td>\n",
       "      <td>NaN</td>\n",
       "      <td>NaN</td>\n",
       "      <td>00:00:02 úprava next</td>\n",
       "      <td>3.0</td>\n",
       "      <td>NaN</td>\n",
       "      <td>2024-01-09 22:25:41.134416+00:00</td>\n",
       "      <td>2024-01-09 23:25:41</td>\n",
       "    </tr>\n",
       "    <tr>\n",
       "      <th>854</th>\n",
       "      <td>test_end_2.mp4</td>\n",
       "      <td>http://localhost:8100//uploader/web_report/946...</td>\n",
       "      <td>mjirik@gapps.zcu.cz</td>\n",
       "      <td>2024-01-07 12:30</td>\n",
       "      <td>2024-01-07 12:39</td>\n",
       "      <td>30.0</td>\n",
       "      <td>NaN</td>\n",
       "      <td>0,05489300889</td>\n",
       "      <td>0,005669856086</td>\n",
       "      <td>NaN</td>\n",
       "      <td>...</td>\n",
       "      <td>NaN</td>\n",
       "      <td>NaN</td>\n",
       "      <td>NaN</td>\n",
       "      <td>NaN</td>\n",
       "      <td>NaN</td>\n",
       "      <td>00:00:02 úprava next\\r\\n00:00:00 adasdfas</td>\n",
       "      <td>3.0</td>\n",
       "      <td>NaN</td>\n",
       "      <td>2024-01-09 22:26:36.239937+00:00</td>\n",
       "      <td>2024-01-09 23:26:36</td>\n",
       "    </tr>\n",
       "    <tr>\n",
       "      <th>855</th>\n",
       "      <td>pigleg_test_4.mp4</td>\n",
       "      <td>http://localhost:8100//uploader/web_report/c9a...</td>\n",
       "      <td>mjirik@gapps.zcu.cz</td>\n",
       "      <td>2024-01-07 11:57</td>\n",
       "      <td>2024-01-10 00:39</td>\n",
       "      <td>29.0</td>\n",
       "      <td>0,2932883435</td>\n",
       "      <td>NaN</td>\n",
       "      <td>0,02466326448</td>\n",
       "      <td>6,266666667</td>\n",
       "      <td>...</td>\n",
       "      <td>NaN</td>\n",
       "      <td>NaN</td>\n",
       "      <td>NaN</td>\n",
       "      <td>NaN</td>\n",
       "      <td>NaN</td>\n",
       "      <td>00:00:03 dfasf</td>\n",
       "      <td>5.0</td>\n",
       "      <td>NaN</td>\n",
       "      <td>2024-01-07 15:46:05.919892+00:00</td>\n",
       "      <td>2024-01-10 01:39:51</td>\n",
       "    </tr>\n",
       "    <tr>\n",
       "      <th>856</th>\n",
       "      <td>Bad-03_11_21_B_Hopfe_Johanna_Einzelknopfnaht.mp4</td>\n",
       "      <td>http://suran.kky.zcu.cz:8000//uploader/web_rep...</td>\n",
       "      <td>khalatbari.sadaf@gmail.com</td>\n",
       "      <td>2022-07-07 17:33</td>\n",
       "      <td>2024-01-10 08:52</td>\n",
       "      <td>25.0</td>\n",
       "      <td>5,688334234</td>\n",
       "      <td>0,3564922504</td>\n",
       "      <td>2,515732186</td>\n",
       "      <td>307,8666667</td>\n",
       "      <td>...</td>\n",
       "      <td>NaN</td>\n",
       "      <td>NaN</td>\n",
       "      <td>NaN</td>\n",
       "      <td>NaN</td>\n",
       "      <td>NaN</td>\n",
       "      <td>NaN</td>\n",
       "      <td>NaN</td>\n",
       "      <td>NaN</td>\n",
       "      <td>NaN</td>\n",
       "      <td>NaN</td>\n",
       "    </tr>\n",
       "    <tr>\n",
       "      <th>857</th>\n",
       "      <td>Bad-03_11_21_B_Hopfe_Johanna_Einzelknopfnaht.mp4</td>\n",
       "      <td>http://suran.kky.zcu.cz:8000//uploader/web_rep...</td>\n",
       "      <td>khalatbari.sadaf@gmail.com</td>\n",
       "      <td>2022-07-07 17:33</td>\n",
       "      <td>2024-01-10 09:12</td>\n",
       "      <td>25.0</td>\n",
       "      <td>5,688334234</td>\n",
       "      <td>0,3564922504</td>\n",
       "      <td>2,515732186</td>\n",
       "      <td>307,8666667</td>\n",
       "      <td>...</td>\n",
       "      <td>NaN</td>\n",
       "      <td>NaN</td>\n",
       "      <td>NaN</td>\n",
       "      <td>NaN</td>\n",
       "      <td>NaN</td>\n",
       "      <td>NaN</td>\n",
       "      <td>NaN</td>\n",
       "      <td>NaN</td>\n",
       "      <td>NaN</td>\n",
       "      <td>NaN</td>\n",
       "    </tr>\n",
       "  </tbody>\n",
       "</table>\n",
       "<p>5 rows × 384 columns</p>\n",
       "</div>"
      ],
      "text/plain": [
       "                                             filename  \\\n",
       "853                                    test_end_2.mp4   \n",
       "854                                    test_end_2.mp4   \n",
       "855                                 pigleg_test_4.mp4   \n",
       "856  Bad-03_11_21_B_Hopfe_Johanna_Einzelknopfnaht.mp4   \n",
       "857  Bad-03_11_21_B_Hopfe_Johanna_Einzelknopfnaht.mp4   \n",
       "\n",
       "                                            report_url  \\\n",
       "853  http://localhost:8100//uploader/web_report/946...   \n",
       "854  http://localhost:8100//uploader/web_report/946...   \n",
       "855  http://localhost:8100//uploader/web_report/c9a...   \n",
       "856  http://suran.kky.zcu.cz:8000//uploader/web_rep...   \n",
       "857  http://suran.kky.zcu.cz:8000//uploader/web_rep...   \n",
       "\n",
       "                          email       uploaded_at       finished_at   fps  \\\n",
       "853         mjirik@gapps.zcu.cz  2024-01-07 12:30  2024-01-07 12:39  30.0   \n",
       "854         mjirik@gapps.zcu.cz  2024-01-07 12:30  2024-01-07 12:39  30.0   \n",
       "855         mjirik@gapps.zcu.cz  2024-01-07 11:57  2024-01-10 00:39  29.0   \n",
       "856  khalatbari.sadaf@gmail.com  2022-07-07 17:33  2024-01-10 08:52  25.0   \n",
       "857  khalatbari.sadaf@gmail.com  2022-07-07 17:33  2024-01-10 09:12  25.0   \n",
       "\n",
       "    Needle holder length [m] Scissors length [m] Forceps length [m]  \\\n",
       "853                      NaN       0,05489300889     0,005669856086   \n",
       "854                      NaN       0,05489300889     0,005669856086   \n",
       "855             0,2932883435                 NaN      0,02466326448   \n",
       "856              5,688334234        0,3564922504        2,515732186   \n",
       "857              5,688334234        0,3564922504        2,515732186   \n",
       "\n",
       "    Needle holder visibility [s]  ... Right hand bbox stitch 4 length [pix]  \\\n",
       "853                          NaN  ...                                   NaN   \n",
       "854                          NaN  ...                                   NaN   \n",
       "855                  6,266666667  ...                                   NaN   \n",
       "856                  307,8666667  ...                                   NaN   \n",
       "857                  307,8666667  ...                                   NaN   \n",
       "\n",
       "    annotation_annotation annotation_stars annotation_annotator  \\\n",
       "853                   NaN              NaN                  NaN   \n",
       "854                   NaN              NaN                  NaN   \n",
       "855                   NaN              NaN                  NaN   \n",
       "856                   NaN              NaN                  NaN   \n",
       "857                   NaN              NaN                  NaN   \n",
       "\n",
       "    annotation_updated_at           annotation_annotation_annotation  \\\n",
       "853                   NaN                       00:00:02 úprava next   \n",
       "854                   NaN  00:00:02 úprava next\\r\\n00:00:00 adasdfas   \n",
       "855                   NaN                             00:00:03 dfasf   \n",
       "856                   NaN                                        NaN   \n",
       "857                   NaN                                        NaN   \n",
       "\n",
       "    annotation_annotation_stars annotation_annotation_annotator  \\\n",
       "853                         3.0                             NaN   \n",
       "854                         3.0                             NaN   \n",
       "855                         5.0                             NaN   \n",
       "856                         NaN                             NaN   \n",
       "857                         NaN                             NaN   \n",
       "\n",
       "     annotation_annotation_updated_at            timestamp  \n",
       "853  2024-01-09 22:25:41.134416+00:00  2024-01-09 23:25:41  \n",
       "854  2024-01-09 22:26:36.239937+00:00  2024-01-09 23:26:36  \n",
       "855  2024-01-07 15:46:05.919892+00:00  2024-01-10 01:39:51  \n",
       "856                               NaN                  NaN  \n",
       "857                               NaN                  NaN  \n",
       "\n",
       "[5 rows x 384 columns]"
      ]
     },
     "execution_count": 7,
     "metadata": {},
     "output_type": "execute_result"
    }
   ],
   "source": [
    "df.tail()"
   ]
  },
  {
   "cell_type": "code",
   "execution_count": 32,
   "id": "1eae6362d26994c1",
   "metadata": {
    "ExecuteTime": {
     "end_time": "2024-01-08T22:59:44.877450600Z",
     "start_time": "2024-01-08T22:59:44.698966700Z"
    },
    "collapsed": false,
    "jupyter": {
     "outputs_hidden": false
    }
   },
   "outputs": [],
   "source": [
    "# remove all records with filename NA or NaN\n",
    "dfs = df[df[\"filename\"].notna()]\n",
    "\n",
    "# take all records with filename containing \"Good\", \"Medium\", \"Bad\", if the filename is the same, take the last one\n",
    "\n",
    "dfs = dfs[dfs[\"filename\"].str.contains(\"Good|Medium|Bad\")].drop_duplicates(subset=[\"filename\"], keep=\"last\")"
   ]
  },
  {
   "cell_type": "code",
   "execution_count": 33,
   "id": "c48bd8c947f4ff49",
   "metadata": {
    "ExecuteTime": {
     "end_time": "2024-01-08T22:59:44.934170Z",
     "start_time": "2024-01-08T22:59:44.732974200Z"
    },
    "collapsed": false,
    "jupyter": {
     "outputs_hidden": false
    }
   },
   "outputs": [],
   "source": [
    "# add column \"stars_auto\" with 0 for \"Good\", 1 for \"Medium\", 2 for \"Bad\"\n",
    "dfs[\"stars_auto\"] = dfs[\"filename\"].str.contains(\"Good\").astype(int) * 0\n",
    "dfs[\"stars_auto\"] = dfs[\"filename\"].str.contains(\"Medium\").astype(int) * 1\n",
    "dfs[\"stars_auto\"] = dfs[\"filename\"].str.contains(\"Bad\").astype(int) * 2\n",
    "# dfs[\"filename\"].str.contains(\"Good|Medium|Bad\")\n"
   ]
  },
  {
   "cell_type": "code",
   "execution_count": 34,
   "id": "fc241688bee9d33c",
   "metadata": {
    "ExecuteTime": {
     "end_time": "2024-01-08T22:59:44.935169800Z",
     "start_time": "2024-01-08T22:59:44.757486500Z"
    },
    "collapsed": false,
    "jupyter": {
     "outputs_hidden": false
    }
   },
   "outputs": [
    {
     "data": {
      "text/plain": [
       "22"
      ]
     },
     "execution_count": 34,
     "metadata": {},
     "output_type": "execute_result"
    }
   ],
   "source": [
    "len(dfs)"
   ]
  },
  {
   "cell_type": "code",
   "execution_count": 35,
   "id": "c05a4a16f13bc707",
   "metadata": {
    "ExecuteTime": {
     "end_time": "2024-01-08T22:59:47.029573200Z",
     "start_time": "2024-01-08T22:59:47.016280100Z"
    },
    "collapsed": false,
    "jupyter": {
     "outputs_hidden": false
    }
   },
   "outputs": [
    {
     "data": {
      "text/plain": [
       "Index(['filename', 'report_url', 'email', 'uploaded_at', 'finished_at', 'fps',\n",
       "       'Needle holder length [m]', 'Scissors length [m]', 'Forceps length [m]',\n",
       "       'Needle holder visibility [s]',\n",
       "       ...\n",
       "       'annotation_annotation', 'annotation_stars', 'annotation_annotator',\n",
       "       'annotation_updated_at', 'annotation_annotation_annotation',\n",
       "       'annotation_annotation_stars', 'annotation_annotation_annotator',\n",
       "       'annotation_annotation_updated_at', 'timestamp', 'stars_auto'],\n",
       "      dtype='object', length=385)"
      ]
     },
     "execution_count": 35,
     "metadata": {},
     "output_type": "execute_result"
    }
   ],
   "source": [
    "dfs.columns"
   ]
  },
  {
   "cell_type": "markdown",
   "id": "cdbb4a20-c96d-4c0e-8d38-3e17db1b9432",
   "metadata": {},
   "source": [
    "### Replace \",\" with \".\""
   ]
  },
  {
   "cell_type": "code",
   "execution_count": 44,
   "id": "4a1b759401be37e4",
   "metadata": {
    "ExecuteTime": {
     "end_time": "2024-01-08T22:59:47.387376100Z",
     "start_time": "2024-01-08T22:59:47.033311100Z"
    },
    "collapsed": false,
    "jupyter": {
     "outputs_hidden": false
    }
   },
   "outputs": [],
   "source": [
    "# find the columns where its values contain single \",\" and digits\n",
    "dfs.columns[dfs.apply(lambda x: (x.dtype is str) and (x.str.contains(\",\\d\").any()))]\n",
    "cols = []\n",
    "for col in dfs.columns:\n",
    "    try:\n",
    "        if (dfs[col].str.contains(\",\\d\").any()):\n",
    "            # convert , to . and change the column type to float\n",
    "            dfs[col] = dfs[col].str.replace(\",\", \".\").astype(float)\n",
    "            cols.append(col)\n",
    "    except:\n",
    "        pass\n",
    "# cols"
   ]
  },
  {
   "cell_type": "code",
   "execution_count": 45,
   "id": "c43a49972fe915d7",
   "metadata": {
    "ExecuteTime": {
     "end_time": "2024-01-08T22:59:47.429382100Z",
     "start_time": "2024-01-08T22:59:47.346375500Z"
    },
    "collapsed": false,
    "jupyter": {
     "outputs_hidden": false
    }
   },
   "outputs": [],
   "source": [
    "# dfs"
   ]
  },
  {
   "cell_type": "code",
   "execution_count": null,
   "id": "51af25062aa51526",
   "metadata": {
    "ExecuteTime": {
     "end_time": "2024-01-08T22:59:47.500110400Z",
     "start_time": "2024-01-08T22:59:47.388376500Z"
    },
    "collapsed": false,
    "jupyter": {
     "outputs_hidden": false
    }
   },
   "outputs": [],
   "source": []
  },
  {
   "cell_type": "code",
   "execution_count": null,
   "id": "f3373f9ec58e3a99",
   "metadata": {
    "ExecuteTime": {
     "end_time": "2024-01-08T22:59:49.524574800Z",
     "start_time": "2024-01-08T22:59:49.511569100Z"
    },
    "collapsed": false,
    "jupyter": {
     "outputs_hidden": false
    }
   },
   "outputs": [],
   "source": []
  },
  {
   "cell_type": "code",
   "execution_count": 46,
   "id": "d44ea6f5690f0d79",
   "metadata": {
    "ExecuteTime": {
     "end_time": "2024-01-08T22:59:53.468826Z",
     "start_time": "2024-01-08T22:59:53.400635600Z"
    },
    "collapsed": false,
    "jupyter": {
     "outputs_hidden": false
    }
   },
   "outputs": [],
   "source": [
    "# print name of columns containing needle holder\n",
    "# dfs.columns[dfs.columns.str.contains(\"Needle holder\")]"
   ]
  },
  {
   "cell_type": "code",
   "execution_count": 47,
   "id": "fe816967bd95fb8c",
   "metadata": {
    "ExecuteTime": {
     "end_time": "2024-01-08T22:59:54.567949600Z",
     "start_time": "2024-01-08T22:59:54.439894600Z"
    },
    "collapsed": false,
    "jupyter": {
     "outputs_hidden": false
    }
   },
   "outputs": [],
   "source": [
    "# dfs[[\"Needle holder stitch 1 length [m]\", \"Needle holder length [m]\"]]"
   ]
  },
  {
   "cell_type": "code",
   "execution_count": 48,
   "id": "5a00460c06572f18",
   "metadata": {
    "ExecuteTime": {
     "end_time": "2024-01-08T23:00:02.126090900Z",
     "start_time": "2024-01-08T23:00:02.066092700Z"
    },
    "collapsed": false,
    "jupyter": {
     "outputs_hidden": false
    }
   },
   "outputs": [],
   "source": [
    "# If column containing \" stitch 1\" in its name has empty values, fill them with  the values from the column with the same name but withuou \" stitch 1\"\n",
    "for col in dfs.columns[dfs.columns.str.contains(\" stitch 1\")]:\n",
    "    dfs[col] = dfs[col].fillna(dfs[col.replace(\" stitch 1\", \"\")])"
   ]
  },
  {
   "cell_type": "code",
   "execution_count": 49,
   "id": "8d4e18421dd66275",
   "metadata": {
    "ExecuteTime": {
     "end_time": "2024-01-08T23:00:02.857860600Z",
     "start_time": "2024-01-08T23:00:02.781637Z"
    },
    "collapsed": false,
    "jupyter": {
     "outputs_hidden": false
    }
   },
   "outputs": [],
   "source": [
    "# dfs[[\"Needle holder stitch 1 length [m]\", \"Needle holder length [m]\"]]\n"
   ]
  },
  {
   "cell_type": "markdown",
   "id": "d6997045-1eb0-4800-ac0a-fc1327a2dd2d",
   "metadata": {},
   "source": [
    "# Find the correlation"
   ]
  },
  {
   "cell_type": "code",
   "execution_count": 52,
   "id": "1b7aa71b1749b7f",
   "metadata": {
    "ExecuteTime": {
     "end_time": "2024-01-08T23:00:03.453092700Z",
     "start_time": "2024-01-08T23:00:03.346571200Z"
    },
    "collapsed": false,
    "jupyter": {
     "outputs_hidden": false
    }
   },
   "outputs": [],
   "source": [
    "# find corelation between stars_auto and other numerical columns and sort them\n",
    "# dfs.corr()[\"stars_auto\"].sort_values()\n",
    "\n"
   ]
  },
  {
   "cell_type": "code",
   "execution_count": 53,
   "id": "1d682a975ee6f940",
   "metadata": {
    "ExecuteTime": {
     "end_time": "2024-01-08T23:00:52.740029700Z",
     "start_time": "2024-01-08T23:00:52.663514500Z"
    },
    "collapsed": false,
    "jupyter": {
     "outputs_hidden": false
    }
   },
   "outputs": [
    {
     "name": "stderr",
     "output_type": "stream",
     "text": [
      "C:\\Users\\Jirik\\AppData\\Local\\Temp\\ipykernel_34192\\3505776196.py:2: FutureWarning: The default value of numeric_only in DataFrame.corr is deprecated. In a future version, it will default to False. Select only valid columns or specify the value of numeric_only to silence this warning.\n",
      "  corr = dfs.corr()[\"stars_auto\"].sort_values(ascending=False).head(10)\n"
     ]
    },
    {
     "data": {
      "text/plain": [
       "stars_auto                              1.000000\n",
       "Forceps stitch 1 length [m]             0.397985\n",
       "qr_data_scene_width_m                   0.336219\n",
       "qr_data_pix_size                        0.336219\n",
       "Needle holder area presence [%]         0.319609\n",
       "Forceps stitch 1 area presence [%]      0.318441\n",
       "Forceps area presence [%]               0.304575\n",
       "orig frame_height                       0.292419\n",
       "Forceps length [m]                      0.277674\n",
       "Needle holder bbox area presence [%]    0.277623\n",
       "Name: stars_auto, dtype: float64"
      ]
     },
     "execution_count": 53,
     "metadata": {},
     "output_type": "execute_result"
    }
   ],
   "source": [
    "# try to find the best columns to predict stars_auto\n",
    "corr = dfs.corr()[\"stars_auto\"].sort_values(ascending=False).head(10)\n",
    "corr\n"
   ]
  },
  {
   "cell_type": "markdown",
   "id": "38565d3a-fde1-4cb2-9999-6febfa393d6b",
   "metadata": {},
   "source": [
    "# Train predictor"
   ]
  },
  {
   "cell_type": "code",
   "execution_count": 56,
   "id": "156ae14a777fe3fc",
   "metadata": {
    "ExecuteTime": {
     "end_time": "2024-01-08T23:00:53.357519800Z",
     "start_time": "2024-01-08T23:00:53.329979700Z"
    },
    "collapsed": false,
    "jupyter": {
     "outputs_hidden": false
    }
   },
   "outputs": [
    {
     "name": "stdout",
     "output_type": "stream",
     "text": [
      "22\n",
      "20\n"
     ]
    },
    {
     "data": {
      "text/plain": [
       "-0.7824458388772826"
      ]
     },
     "execution_count": 56,
     "metadata": {},
     "output_type": "execute_result"
    }
   ],
   "source": [
    "import sklearn\n",
    "# train a model to predict stars_auto\n",
    "from sklearn.linear_model import LinearRegression\n",
    "from sklearn.model_selection import train_test_split\n",
    "from sklearn.metrics import mean_squared_error, r2_score\n",
    "# import SVM\n",
    "from sklearn.svm import SVR\n",
    "#train a model to predict stars_auto\n",
    "\n",
    "columns = list(corr.index)\n",
    "columns.append(\"filename\")\n",
    "\n",
    "dfsx = dfs[columns]\n",
    "print(len(dfsx))\n",
    "dfsx = dfsx.dropna()\n",
    "print(len(dfsx))\n",
    "X = dfsx[corr.index].drop(\"stars_auto\", axis=1)\n",
    "y = dfsx[\"stars_auto\"]\n",
    "X_train, X_test, y_train, y_test = train_test_split(X, y, test_size=0.2, random_state=42)\n",
    "\n",
    "model = SVR()\n",
    "model.fit(X_train, y_train)\n",
    "\n",
    "# \n",
    "# X"
   ]
  },
  {
   "cell_type": "markdown",
   "id": "0b88ba78-25b8-4d01-acaa-b88f31a70453",
   "metadata": {},
   "source": [
    "## Score"
   ]
  },
  {
   "cell_type": "code",
   "execution_count": 57,
   "id": "8e041b38-a2b0-4dcd-be7d-ab17ec6eb12d",
   "metadata": {},
   "outputs": [
    {
     "data": {
      "text/plain": [
       "-0.7824458388772826"
      ]
     },
     "execution_count": 57,
     "metadata": {},
     "output_type": "execute_result"
    }
   ],
   "source": [
    "model.score(X_test, y_test)"
   ]
  },
  {
   "cell_type": "code",
   "execution_count": null,
   "id": "0cc6fb03-7d49-4ad1-a01c-3d54336a1446",
   "metadata": {},
   "outputs": [],
   "source": []
  },
  {
   "cell_type": "markdown",
   "id": "c1351837-f926-43a6-bb68-bc35c946b0ec",
   "metadata": {},
   "source": [
    "## Check the předictions"
   ]
  },
  {
   "cell_type": "code",
   "execution_count": 59,
   "id": "ab82921a7dc10572",
   "metadata": {
    "ExecuteTime": {
     "end_time": "2024-01-08T23:00:54.102816800Z",
     "start_time": "2024-01-08T23:00:54.079811100Z"
    },
    "collapsed": false,
    "jupyter": {
     "outputs_hidden": false
    }
   },
   "outputs": [
    {
     "data": {
      "text/plain": [
       "816    2\n",
       "842    0\n",
       "840    0\n",
       "822    2\n",
       "Name: stars_auto, dtype: int32"
      ]
     },
     "execution_count": 59,
     "metadata": {},
     "output_type": "execute_result"
    }
   ],
   "source": [
    "y_test"
   ]
  },
  {
   "cell_type": "code",
   "execution_count": 60,
   "id": "e5ea4f24720d1a20",
   "metadata": {
    "ExecuteTime": {
     "end_time": "2024-01-08T23:00:57.539342800Z",
     "start_time": "2024-01-08T23:00:57.408300Z"
    },
    "collapsed": false,
    "jupyter": {
     "outputs_hidden": false
    }
   },
   "outputs": [
    {
     "data": {
      "text/plain": [
       "array([0.12636363, 0.11648296, 0.03380476, 0.10143237])"
      ]
     },
     "execution_count": 60,
     "metadata": {},
     "output_type": "execute_result"
    }
   ],
   "source": [
    "y_pred = model.predict(X_test)\n",
    "y_pred"
   ]
  },
  {
   "cell_type": "code",
   "execution_count": 61,
   "id": "4ad7ea73ebc96391",
   "metadata": {
    "ExecuteTime": {
     "end_time": "2024-01-08T23:02:14.311003600Z",
     "start_time": "2024-01-08T23:02:14.255000500Z"
    },
    "collapsed": false,
    "jupyter": {
     "outputs_hidden": false
    }
   },
   "outputs": [
    {
     "data": {
      "text/plain": [
       "array([0.10069563, 0.11084839, 0.09947057, 0.10949899, 0.10615264,\n",
       "       0.09285266, 0.12814825, 0.11112511, 0.12869557, 0.09870658,\n",
       "       0.10005963, 0.10915682, 0.10023484, 0.10139677, 0.10023488,\n",
       "       0.08063209])"
      ]
     },
     "execution_count": 61,
     "metadata": {},
     "output_type": "execute_result"
    }
   ],
   "source": [
    "model.predict(X_train)\n"
   ]
  },
  {
   "cell_type": "code",
   "execution_count": 62,
   "id": "4fb2137572f7d68c",
   "metadata": {
    "ExecuteTime": {
     "end_time": "2024-01-08T23:02:21.727056700Z",
     "start_time": "2024-01-08T23:02:21.603333500Z"
    },
    "collapsed": false,
    "jupyter": {
     "outputs_hidden": false
    }
   },
   "outputs": [
    {
     "data": {
      "text/plain": [
       "829    0\n",
       "826    2\n",
       "833    0\n",
       "824    2\n",
       "843    0\n",
       "841    0\n",
       "835    2\n",
       "823    2\n",
       "830    0\n",
       "857    2\n",
       "825    0\n",
       "834    2\n",
       "828    0\n",
       "832    0\n",
       "839    0\n",
       "827    0\n",
       "Name: stars_auto, dtype: int32"
      ]
     },
     "execution_count": 62,
     "metadata": {},
     "output_type": "execute_result"
    }
   ],
   "source": [
    "y_train"
   ]
  },
  {
   "cell_type": "code",
   "execution_count": 63,
   "id": "f6ec8f07533d895f",
   "metadata": {
    "ExecuteTime": {
     "end_time": "2024-01-08T23:07:11.283253700Z",
     "start_time": "2024-01-08T23:07:11.166676400Z"
    },
    "collapsed": false,
    "jupyter": {
     "outputs_hidden": false
    }
   },
   "outputs": [
    {
     "data": {
      "text/plain": [
       "0.5"
      ]
     },
     "execution_count": 63,
     "metadata": {},
     "output_type": "execute_result"
    }
   ],
   "source": [
    "from sklearn.neural_network import MLPClassifier\n",
    "clf = MLPClassifier(solver='lbfgs', alpha=1e-5,\n",
    "                    hidden_layer_sizes=(5, 2), random_state=1)\n",
    "clf.fit(X_train, y_train)\n",
    "clf.score(X_test, y_test)"
   ]
  },
  {
   "cell_type": "code",
   "execution_count": 64,
   "id": "e2941983090d2225",
   "metadata": {
    "ExecuteTime": {
     "end_time": "2024-01-08T23:07:40.232991400Z",
     "start_time": "2024-01-08T23:07:40.169171600Z"
    },
    "collapsed": false,
    "jupyter": {
     "outputs_hidden": false
    }
   },
   "outputs": [
    {
     "data": {
      "text/plain": [
       "array([0, 0, 0, 0, 0, 0, 0, 0, 0, 0, 0, 0, 0, 0, 0, 0])"
      ]
     },
     "execution_count": 64,
     "metadata": {},
     "output_type": "execute_result"
    }
   ],
   "source": [
    "clf.predict(X_train)"
   ]
  },
  {
   "cell_type": "code",
   "execution_count": 65,
   "id": "e55f43281611b056",
   "metadata": {
    "ExecuteTime": {
     "end_time": "2024-01-08T23:07:21.340654100Z",
     "start_time": "2024-01-08T23:07:21.211130400Z"
    },
    "collapsed": false,
    "jupyter": {
     "outputs_hidden": false
    }
   },
   "outputs": [
    {
     "data": {
      "text/plain": [
       "816    2\n",
       "842    0\n",
       "840    0\n",
       "822    2\n",
       "Name: stars_auto, dtype: int32"
      ]
     },
     "execution_count": 65,
     "metadata": {},
     "output_type": "execute_result"
    }
   ],
   "source": [
    "y_test"
   ]
  },
  {
   "cell_type": "code",
   "execution_count": null,
   "id": "2d4b03b5a062d9c1",
   "metadata": {
    "collapsed": false,
    "jupyter": {
     "outputs_hidden": false
    }
   },
   "outputs": [],
   "source": []
  }
 ],
 "metadata": {
  "kernelspec": {
   "display_name": "Python 3 (ipykernel)",
   "language": "python",
   "name": "python3"
  },
  "language_info": {
   "codemirror_mode": {
    "name": "ipython",
    "version": 3
   },
   "file_extension": ".py",
   "mimetype": "text/x-python",
   "name": "python",
   "nbconvert_exporter": "python",
   "pygments_lexer": "ipython3",
   "version": "3.10.8"
  }
 },
 "nbformat": 4,
 "nbformat_minor": 5
}
