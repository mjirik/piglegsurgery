{
 "cells": [
  {
   "cell_type": "code",
   "execution_count": 70,
   "id": "initial_id",
   "metadata": {
    "collapsed": true,
    "ExecuteTime": {
     "end_time": "2024-01-08T22:59:42.479449200Z",
     "start_time": "2024-01-08T22:59:42.401676200Z"
    }
   },
   "outputs": [],
   "source": [
    "import seaborn as sns\n",
    "import scipy\n",
    "import skimage\n",
    "sns.set_style(\"ticks\")\n",
    "from pathlib import Path"
   ]
  },
  {
   "cell_type": "code",
   "execution_count": 71,
   "outputs": [
    {
     "name": "stdout",
     "output_type": "stream",
     "text": [
      "[WindowsPath('../.env.dev')]\n"
     ]
    }
   ],
   "source": [
    "# in this file is the url to the spreadsheet with the data\n",
    "# PIGLEG_SPREADSHEET_URL=https://docs.google.com/spreadsheets/d/1G55kXxcJ0aVVCAspDUPJGkRgGoEpiLaK0snddRU-jzU/edit?usp=sharing\n",
    "env_paths = list(Path(\".\").glob(\"../**/.env.dev\"))\n",
    "print(env_paths)\n",
    "# find line with PIGLEG_SPREADSHEET_URL and give me the value after the \"=\"\n",
    "PIGLEG_SPREADSHEET_URL = [line.split(\"=\", 1)[1].strip() for line in open(env_paths[0], \"r\") if line.startswith(\"PIGLEG_SPREADSHEET_URL\")][0]\n",
    "PIGLEG_SPREADSHEET_URL = PIGLEG_SPREADSHEET_URL.replace(\"\\\"\", \"\")\n",
    "PIGLEG_SPREADSHEET_URL = PIGLEG_SPREADSHEET_URL.replace(\"edit?usp=sharing\", \"export?format=csv\")\n",
    "# PIGLEG_SPREADSHEET_URL"
   ],
   "metadata": {
    "collapsed": false,
    "ExecuteTime": {
     "end_time": "2024-01-08T22:59:42.829020Z",
     "start_time": "2024-01-08T22:59:42.671892400Z"
    }
   },
   "id": "dfa95f5019f46bcb"
  },
  {
   "cell_type": "code",
   "execution_count": 72,
   "outputs": [],
   "source": [
    "import pandas as pd\n",
    "url = PIGLEG_SPREADSHEET_URL\n",
    "df = pd.read_csv(url)"
   ],
   "metadata": {
    "collapsed": false,
    "ExecuteTime": {
     "end_time": "2024-01-08T22:59:44.661499700Z",
     "start_time": "2024-01-08T22:59:42.920593700Z"
    }
   },
   "id": "b6f7ef48babc2ea8"
  },
  {
   "cell_type": "code",
   "execution_count": 73,
   "outputs": [
    {
     "data": {
      "text/plain": "                                            filename report_url  \\\n0                                    pigleg_test.mp4        NaN   \n1                                   pigleg_test2.mp4        NaN   \n2  2022.03.29.-B-Voltersen-Vera-Schweinefuß-Einze...        NaN   \n3  2021.11.3-B-Volkers-Einzelknopfnaht_Schweinefu...        NaN   \n4                                Einzelknopfnaht.mp4        NaN   \n\n                            email          uploaded_at          finished_at  \\\n0             mjirik@gapps.zcu.cz  2022-06-09 16:13:04  2022-06-17 17:40:13   \n1             mjirik@gapps.zcu.cz  2022-04-01 20:37:52  2022-06-17 17:47:07   \n2  Vera.Voltersen@med.uni-jena.de  2022-03-30 13:57:55  2022-06-17 18:07:40   \n3      miriam.volkers@uni-jena.de  2021-11-04 13:19:23  2022-06-17 21:36:30   \n4         anke.hilger@uni-jena.de  2021-11-07 19:14:34  2022-06-17 21:36:43   \n\n    fps Needle holder length [m] Scissors length [m] Forceps length [m]  \\\n0  29.0                      NaN                 NaN                NaN   \n1  30.0                      NaN                 NaN                NaN   \n2  30.0                      NaN                 NaN                NaN   \n3  30.0                      NaN                 NaN                NaN   \n4  30.0                      NaN                 NaN                NaN   \n\n  Needle holder visibility [s]  ... Scissors bbox stitch 4 visibility [%]  \\\n0                          NaN  ...                                   NaN   \n1                          NaN  ...                                   NaN   \n2                          NaN  ...                                   NaN   \n3                          NaN  ...                                   NaN   \n4                          NaN  ...                                   NaN   \n\n  Scissors bbox stitch 4 area presence [%]  \\\n0                                      NaN   \n1                                      NaN   \n2                                      NaN   \n3                                      NaN   \n4                                      NaN   \n\n  Left hand bbox stitch 1 length [pix] Left hand bbox stitch 2 length [pix]  \\\n0                                  NaN                                  NaN   \n1                                  NaN                                  NaN   \n2                                  NaN                                  NaN   \n3                                  NaN                                  NaN   \n4                                  NaN                                  NaN   \n\n  Left hand bbox stitch 3 length [pix] Left hand bbox stitch 4 length [pix]  \\\n0                                  NaN                                  NaN   \n1                                  NaN                                  NaN   \n2                                  NaN                                  NaN   \n3                                  NaN                                  NaN   \n4                                  NaN                                  NaN   \n\n  Right hand bbox stitch 1 length [pix] Right hand bbox stitch 2 length [pix]  \\\n0                                   NaN                                   NaN   \n1                                   NaN                                   NaN   \n2                                   NaN                                   NaN   \n3                                   NaN                                   NaN   \n4                                   NaN                                   NaN   \n\n  Right hand bbox stitch 3 length [pix] Right hand bbox stitch 4 length [pix]  \n0                                   NaN                                   NaN  \n1                                   NaN                                   NaN  \n2                                   NaN                                   NaN  \n3                                   NaN                                   NaN  \n4                                   NaN                                   NaN  \n\n[5 rows x 375 columns]",
      "text/html": "<div>\n<style scoped>\n    .dataframe tbody tr th:only-of-type {\n        vertical-align: middle;\n    }\n\n    .dataframe tbody tr th {\n        vertical-align: top;\n    }\n\n    .dataframe thead th {\n        text-align: right;\n    }\n</style>\n<table border=\"1\" class=\"dataframe\">\n  <thead>\n    <tr style=\"text-align: right;\">\n      <th></th>\n      <th>filename</th>\n      <th>report_url</th>\n      <th>email</th>\n      <th>uploaded_at</th>\n      <th>finished_at</th>\n      <th>fps</th>\n      <th>Needle holder length [m]</th>\n      <th>Scissors length [m]</th>\n      <th>Forceps length [m]</th>\n      <th>Needle holder visibility [s]</th>\n      <th>...</th>\n      <th>Scissors bbox stitch 4 visibility [%]</th>\n      <th>Scissors bbox stitch 4 area presence [%]</th>\n      <th>Left hand bbox stitch 1 length [pix]</th>\n      <th>Left hand bbox stitch 2 length [pix]</th>\n      <th>Left hand bbox stitch 3 length [pix]</th>\n      <th>Left hand bbox stitch 4 length [pix]</th>\n      <th>Right hand bbox stitch 1 length [pix]</th>\n      <th>Right hand bbox stitch 2 length [pix]</th>\n      <th>Right hand bbox stitch 3 length [pix]</th>\n      <th>Right hand bbox stitch 4 length [pix]</th>\n    </tr>\n  </thead>\n  <tbody>\n    <tr>\n      <th>0</th>\n      <td>pigleg_test.mp4</td>\n      <td>NaN</td>\n      <td>mjirik@gapps.zcu.cz</td>\n      <td>2022-06-09 16:13:04</td>\n      <td>2022-06-17 17:40:13</td>\n      <td>29.0</td>\n      <td>NaN</td>\n      <td>NaN</td>\n      <td>NaN</td>\n      <td>NaN</td>\n      <td>...</td>\n      <td>NaN</td>\n      <td>NaN</td>\n      <td>NaN</td>\n      <td>NaN</td>\n      <td>NaN</td>\n      <td>NaN</td>\n      <td>NaN</td>\n      <td>NaN</td>\n      <td>NaN</td>\n      <td>NaN</td>\n    </tr>\n    <tr>\n      <th>1</th>\n      <td>pigleg_test2.mp4</td>\n      <td>NaN</td>\n      <td>mjirik@gapps.zcu.cz</td>\n      <td>2022-04-01 20:37:52</td>\n      <td>2022-06-17 17:47:07</td>\n      <td>30.0</td>\n      <td>NaN</td>\n      <td>NaN</td>\n      <td>NaN</td>\n      <td>NaN</td>\n      <td>...</td>\n      <td>NaN</td>\n      <td>NaN</td>\n      <td>NaN</td>\n      <td>NaN</td>\n      <td>NaN</td>\n      <td>NaN</td>\n      <td>NaN</td>\n      <td>NaN</td>\n      <td>NaN</td>\n      <td>NaN</td>\n    </tr>\n    <tr>\n      <th>2</th>\n      <td>2022.03.29.-B-Voltersen-Vera-Schweinefuß-Einze...</td>\n      <td>NaN</td>\n      <td>Vera.Voltersen@med.uni-jena.de</td>\n      <td>2022-03-30 13:57:55</td>\n      <td>2022-06-17 18:07:40</td>\n      <td>30.0</td>\n      <td>NaN</td>\n      <td>NaN</td>\n      <td>NaN</td>\n      <td>NaN</td>\n      <td>...</td>\n      <td>NaN</td>\n      <td>NaN</td>\n      <td>NaN</td>\n      <td>NaN</td>\n      <td>NaN</td>\n      <td>NaN</td>\n      <td>NaN</td>\n      <td>NaN</td>\n      <td>NaN</td>\n      <td>NaN</td>\n    </tr>\n    <tr>\n      <th>3</th>\n      <td>2021.11.3-B-Volkers-Einzelknopfnaht_Schweinefu...</td>\n      <td>NaN</td>\n      <td>miriam.volkers@uni-jena.de</td>\n      <td>2021-11-04 13:19:23</td>\n      <td>2022-06-17 21:36:30</td>\n      <td>30.0</td>\n      <td>NaN</td>\n      <td>NaN</td>\n      <td>NaN</td>\n      <td>NaN</td>\n      <td>...</td>\n      <td>NaN</td>\n      <td>NaN</td>\n      <td>NaN</td>\n      <td>NaN</td>\n      <td>NaN</td>\n      <td>NaN</td>\n      <td>NaN</td>\n      <td>NaN</td>\n      <td>NaN</td>\n      <td>NaN</td>\n    </tr>\n    <tr>\n      <th>4</th>\n      <td>Einzelknopfnaht.mp4</td>\n      <td>NaN</td>\n      <td>anke.hilger@uni-jena.de</td>\n      <td>2021-11-07 19:14:34</td>\n      <td>2022-06-17 21:36:43</td>\n      <td>30.0</td>\n      <td>NaN</td>\n      <td>NaN</td>\n      <td>NaN</td>\n      <td>NaN</td>\n      <td>...</td>\n      <td>NaN</td>\n      <td>NaN</td>\n      <td>NaN</td>\n      <td>NaN</td>\n      <td>NaN</td>\n      <td>NaN</td>\n      <td>NaN</td>\n      <td>NaN</td>\n      <td>NaN</td>\n      <td>NaN</td>\n    </tr>\n  </tbody>\n</table>\n<p>5 rows × 375 columns</p>\n</div>"
     },
     "execution_count": 73,
     "metadata": {},
     "output_type": "execute_result"
    }
   ],
   "source": [
    "df.head()"
   ],
   "metadata": {
    "collapsed": false,
    "ExecuteTime": {
     "end_time": "2024-01-08T22:59:44.753490600Z",
     "start_time": "2024-01-08T22:59:44.686971300Z"
    }
   },
   "id": "f697ae50f242b813"
  },
  {
   "cell_type": "code",
   "execution_count": 74,
   "outputs": [],
   "source": [
    "# remove all records with filename NA or NaN\n",
    "dfs = df[df[\"filename\"].notna()]\n",
    "\n",
    "# take all records with filename containing \"Good\", \"Medium\", \"Bad\", if the filename is the same, take the last one\n",
    "\n",
    "dfs = dfs[dfs[\"filename\"].str.contains(\"Good|Medium|Bad\")].drop_duplicates(subset=[\"filename\"], keep=\"last\")"
   ],
   "metadata": {
    "collapsed": false,
    "ExecuteTime": {
     "end_time": "2024-01-08T22:59:44.877450600Z",
     "start_time": "2024-01-08T22:59:44.698966700Z"
    }
   },
   "id": "1eae6362d26994c1"
  },
  {
   "cell_type": "code",
   "execution_count": 75,
   "outputs": [],
   "source": [
    "# add column \"stars_auto\" with 0 for \"Good\", 1 for \"Medium\", 2 for \"Bad\"\n",
    "dfs[\"stars_auto\"] = dfs[\"filename\"].str.contains(\"Good\").astype(int) * 0\n",
    "dfs[\"stars_auto\"] = dfs[\"filename\"].str.contains(\"Medium\").astype(int) * 1\n",
    "dfs[\"stars_auto\"] = dfs[\"filename\"].str.contains(\"Bad\").astype(int) * 2\n",
    "# dfs[\"filename\"].str.contains(\"Good|Medium|Bad\")\n"
   ],
   "metadata": {
    "collapsed": false,
    "ExecuteTime": {
     "end_time": "2024-01-08T22:59:44.934170Z",
     "start_time": "2024-01-08T22:59:44.732974200Z"
    }
   },
   "id": "c48bd8c947f4ff49"
  },
  {
   "cell_type": "code",
   "execution_count": 76,
   "outputs": [
    {
     "data": {
      "text/plain": "22"
     },
     "execution_count": 76,
     "metadata": {},
     "output_type": "execute_result"
    }
   ],
   "source": [
    "len(dfs)"
   ],
   "metadata": {
    "collapsed": false,
    "ExecuteTime": {
     "end_time": "2024-01-08T22:59:44.935169800Z",
     "start_time": "2024-01-08T22:59:44.757486500Z"
    }
   },
   "id": "fc241688bee9d33c"
  },
  {
   "cell_type": "code",
   "execution_count": 77,
   "outputs": [
    {
     "data": {
      "text/plain": "Index(['filename', 'report_url', 'email', 'uploaded_at', 'finished_at', 'fps',\n       'Needle holder length [m]', 'Scissors length [m]', 'Forceps length [m]',\n       'Needle holder visibility [s]',\n       ...\n       'Scissors bbox stitch 4 area presence [%]',\n       'Left hand bbox stitch 1 length [pix]',\n       'Left hand bbox stitch 2 length [pix]',\n       'Left hand bbox stitch 3 length [pix]',\n       'Left hand bbox stitch 4 length [pix]',\n       'Right hand bbox stitch 1 length [pix]',\n       'Right hand bbox stitch 2 length [pix]',\n       'Right hand bbox stitch 3 length [pix]',\n       'Right hand bbox stitch 4 length [pix]', 'stars_auto'],\n      dtype='object', length=376)"
     },
     "execution_count": 77,
     "metadata": {},
     "output_type": "execute_result"
    }
   ],
   "source": [
    "dfs.columns"
   ],
   "metadata": {
    "collapsed": false,
    "ExecuteTime": {
     "end_time": "2024-01-08T22:59:47.029573200Z",
     "start_time": "2024-01-08T22:59:47.016280100Z"
    }
   },
   "id": "c05a4a16f13bc707"
  },
  {
   "cell_type": "code",
   "execution_count": 78,
   "outputs": [
    {
     "data": {
      "text/plain": "['Needle holder length [m]',\n 'Scissors length [m]',\n 'Forceps length [m]',\n 'Needle holder visibility [s]',\n 'Needle holder visibility [%]',\n 'Forceps visibility [s]',\n 'Forceps visibility [%]',\n 'Scissors visibility [s]',\n 'Scissors visibility [%]',\n 'Needle holder area presence [%]',\n 'Needle holder velocity',\n 'Scissors area presence [%]',\n 'Forceps area presence [%]',\n 'Scissors velocity',\n 'Forceps velocity',\n 'pixelsize_m_by_incision_size',\n 'Needle holder length [pix]',\n 'Forceps length [pix]',\n 'Scissors length [pix]',\n 'qr_data_pix_size',\n 'qr_data_qr_size',\n 'qr_data_size_by_scene',\n 'qr_data_pix_size_single_frame_detector_m',\n 'duration_s_get_parameters_for_crop_rotate_rescale',\n 'duration_s_do_crop_rotate_rescale',\n 'duration_s_run_image_processing',\n 'duration_s_tracking',\n 'duration_s_report',\n 'duration_s_stitch_ends',\n 'Stitches parallelism score',\n 'qr_data_scene_width_m',\n 'Needle holder stitch 1 length [m]',\n 'Needle holder stitch 1 visibility [s]',\n 'Needle holder stitch 1 velocity',\n 'Needle holder stitch 1 visibility [%]',\n 'Needle holder stitch 1 area presence [%]',\n 'Forceps stitch 1 length [m]',\n 'Forceps stitch 1 visibility [s]',\n 'Forceps stitch 1 velocity',\n 'Forceps stitch 1 visibility [%]',\n 'Forceps stitch 1 area presence [%]',\n 'Scissors stitch 1 length [m]',\n 'Scissors stitch 1 visibility [s]',\n 'Scissors stitch 1 velocity',\n 'Scissors stitch 1 visibility [%]',\n 'Scissors stitch 1 area presence [%]',\n 'Stitches linearity score',\n 'Scissors bbox length [m]',\n 'Scissors bbox visibility [s]',\n 'Scissors bbox velocity',\n 'Scissors bbox visibility [%]',\n 'Scissors bbox area presence [%]',\n 'Left hand bbox length [m]',\n 'Left hand bbox visibility [s]',\n 'Left hand bbox velocity',\n 'Left hand bbox visibility [%]',\n 'Left hand bbox area presence [%]',\n 'Right hand bbox length [m]',\n 'Right hand bbox visibility [s]',\n 'Right hand bbox velocity',\n 'Right hand bbox visibility [%]',\n 'Right hand bbox area presence [%]',\n 'Needle holder bbox length [m]',\n 'Needle holder bbox visibility [s]',\n 'Needle holder bbox velocity',\n 'Needle holder bbox visibility [%]',\n 'Needle holder bbox area presence [%]',\n 'Needle holder bbox stitch 1 length [m]',\n 'Needle holder bbox stitch 1 visibility [s]',\n 'Needle holder bbox stitch 1 velocity',\n 'Needle holder bbox stitch 1 visibility [%]',\n 'Needle holder bbox stitch 1 area presence [%]',\n 'Scissors bbox stitch 1 length [m]',\n 'Scissors bbox stitch 1 visibility [s]',\n 'Scissors bbox stitch 1 velocity',\n 'Scissors bbox stitch 1 visibility [%]',\n 'Scissors bbox stitch 1 area presence [%]',\n 'Left hand bbox stitch 1 length [m]',\n 'Left hand bbox stitch 1 visibility [s]',\n 'Left hand bbox stitch 1 velocity',\n 'Left hand bbox stitch 1 visibility [%]',\n 'Left hand bbox stitch 1 area presence [%]',\n 'Right hand bbox stitch 1 length [m]',\n 'Right hand bbox stitch 1 visibility [s]',\n 'Right hand bbox stitch 1 velocity',\n 'Right hand bbox stitch 1 visibility [%]',\n 'Right hand bbox stitch 1 area presence [%]',\n 'Forceps bbox length [m]',\n 'Forceps bbox visibility [s]',\n 'Forceps bbox velocity',\n 'Forceps bbox visibility [%]',\n 'Forceps bbox area presence [%]',\n 'Forceps bbox stitch 1 length [m]',\n 'Forceps bbox stitch 1 visibility [s]',\n 'Forceps bbox stitch 1 velocity',\n 'Forceps bbox stitch 1 visibility [%]',\n 'Forceps bbox stitch 1 area presence [%]',\n 'Needle holder bbox length [pix]',\n 'Forceps bbox length [pix]',\n 'Scissors bbox length [pix]',\n 'Left hand bbox length [pix]',\n 'Right hand bbox length [pix]',\n 'Needle holder stitch 2 length [m]',\n 'Needle holder stitch 2 visibility [s]',\n 'Needle holder stitch 2 velocity',\n 'Needle holder stitch 2 visibility [%]',\n 'Needle holder stitch 2 area presence [%]',\n 'Needle holder stitch 3 length [m]',\n 'Needle holder stitch 3 visibility [s]',\n 'Needle holder stitch 3 velocity',\n 'Needle holder stitch 3 visibility [%]',\n 'Needle holder stitch 3 area presence [%]',\n 'Needle holder stitch 4 length [m]',\n 'Needle holder stitch 4 visibility [s]',\n 'Needle holder stitch 4 velocity',\n 'Needle holder stitch 4 visibility [%]',\n 'Needle holder stitch 4 area presence [%]',\n 'Forceps stitch 2 length [m]',\n 'Forceps stitch 2 visibility [s]',\n 'Forceps stitch 2 velocity',\n 'Forceps stitch 2 visibility [%]',\n 'Forceps stitch 2 area presence [%]',\n 'Forceps stitch 3 length [m]',\n 'Forceps stitch 3 visibility [s]',\n 'Forceps stitch 3 velocity',\n 'Forceps stitch 3 visibility [%]',\n 'Forceps stitch 3 area presence [%]',\n 'Forceps stitch 4 length [m]',\n 'Forceps stitch 4 visibility [s]',\n 'Forceps stitch 4 velocity',\n 'Forceps stitch 4 visibility [%]',\n 'Forceps stitch 4 area presence [%]',\n 'Scissors stitch 2 length [m]',\n 'Scissors stitch 2 visibility [s]',\n 'Scissors stitch 2 velocity',\n 'Scissors stitch 2 visibility [%]',\n 'Scissors stitch 3 visibility [s]',\n 'Scissors stitch 3 velocity',\n 'Scissors stitch 3 visibility [%]',\n 'Scissors stitch 4 length [m]',\n 'Scissors stitch 4 visibility [s]',\n 'Scissors stitch 4 velocity',\n 'Scissors stitch 4 visibility [%]',\n 'Needle holder bbox stitch 2 length [m]',\n 'Needle holder bbox stitch 2 visibility [s]',\n 'Needle holder bbox stitch 2 velocity',\n 'Needle holder bbox stitch 2 visibility [%]',\n 'Needle holder bbox stitch 2 area presence [%]',\n 'Needle holder bbox stitch 3 length [m]',\n 'Needle holder bbox stitch 3 visibility [s]',\n 'Needle holder bbox stitch 3 velocity',\n 'Needle holder bbox stitch 3 visibility [%]',\n 'Needle holder bbox stitch 3 area presence [%]',\n 'Needle holder bbox stitch 4 length [m]',\n 'Needle holder bbox stitch 4 visibility [s]',\n 'Needle holder bbox stitch 4 velocity',\n 'Needle holder bbox stitch 4 visibility [%]',\n 'Needle holder bbox stitch 4 area presence [%]',\n 'Forceps bbox stitch 2 length [m]',\n 'Forceps bbox stitch 2 visibility [s]',\n 'Forceps bbox stitch 2 velocity',\n 'Forceps bbox stitch 2 visibility [%]',\n 'Forceps bbox stitch 2 area presence [%]',\n 'Forceps bbox stitch 3 length [m]',\n 'Forceps bbox stitch 3 visibility [s]',\n 'Forceps bbox stitch 3 velocity',\n 'Forceps bbox stitch 3 visibility [%]',\n 'Forceps bbox stitch 3 area presence [%]',\n 'Scissors bbox stitch 2 length [m]',\n 'Scissors bbox stitch 2 visibility [s]',\n 'Scissors bbox stitch 2 velocity',\n 'Scissors bbox stitch 2 visibility [%]',\n 'Scissors bbox stitch 3 length [m]',\n 'Scissors bbox stitch 3 visibility [s]',\n 'Scissors bbox stitch 3 velocity',\n 'Scissors bbox stitch 3 visibility [%]',\n 'Left hand bbox stitch 2 length [m]',\n 'Left hand bbox stitch 2 visibility [s]',\n 'Left hand bbox stitch 2 velocity',\n 'Left hand bbox stitch 2 visibility [%]',\n 'Left hand bbox stitch 2 area presence [%]',\n 'Left hand bbox stitch 3 length [m]',\n 'Left hand bbox stitch 3 visibility [s]',\n 'Left hand bbox stitch 3 velocity',\n 'Left hand bbox stitch 3 visibility [%]',\n 'Left hand bbox stitch 3 area presence [%]',\n 'Left hand bbox stitch 4 length [m]',\n 'Left hand bbox stitch 4 visibility [s]',\n 'Left hand bbox stitch 4 velocity',\n 'Left hand bbox stitch 4 visibility [%]',\n 'Left hand bbox stitch 4 area presence [%]',\n 'Right hand bbox stitch 2 length [m]',\n 'Right hand bbox stitch 2 visibility [s]',\n 'Right hand bbox stitch 2 velocity',\n 'Right hand bbox stitch 2 visibility [%]',\n 'Right hand bbox stitch 3 length [m]',\n 'Right hand bbox stitch 3 visibility [s]',\n 'Right hand bbox stitch 3 velocity',\n 'Right hand bbox stitch 3 visibility [%]',\n 'Right hand bbox stitch 4 length [m]',\n 'Right hand bbox stitch 4 visibility [s]',\n 'Right hand bbox stitch 4 velocity',\n 'Right hand bbox stitch 4 visibility [%]',\n 'Needle holder stitch 1 length [pix]',\n 'Needle holder stitch 2 length [pix]',\n 'Needle holder stitch 3 length [pix]',\n 'Needle holder stitch 4 length [pix]',\n 'Forceps stitch 1 length [pix]',\n 'Forceps stitch 2 length [pix]',\n 'Forceps stitch 3 length [pix]',\n 'Forceps stitch 4 length [pix]',\n 'Scissors stitch 1 length [pix]',\n 'Scissors stitch 2 length [pix]',\n 'Scissors stitch 3 length [pix]',\n 'Scissors stitch 4 length [pix]',\n 'Needle holder bbox stitch 1 length [pix]',\n 'Needle holder bbox stitch 2 length [pix]',\n 'Needle holder bbox stitch 3 length [pix]',\n 'Needle holder bbox stitch 4 length [pix]',\n 'Forceps bbox stitch 1 length [pix]',\n 'Forceps bbox stitch 2 length [pix]',\n 'Forceps bbox stitch 3 length [pix]',\n 'Forceps bbox stitch 4 length [pix]',\n 'Forceps bbox stitch 4 visibility [s]',\n 'Forceps bbox stitch 4 velocity',\n 'Forceps bbox stitch 4 visibility [%]',\n 'Scissors bbox stitch 1 length [pix]',\n 'Scissors bbox stitch 2 length [pix]',\n 'Scissors bbox stitch 3 length [pix]',\n 'Scissors bbox stitch 4 length [pix]',\n 'Scissors bbox stitch 4 visibility [s]',\n 'Scissors bbox stitch 4 velocity',\n 'Scissors bbox stitch 4 visibility [%]',\n 'Left hand bbox stitch 1 length [pix]',\n 'Left hand bbox stitch 2 length [pix]',\n 'Left hand bbox stitch 3 length [pix]',\n 'Left hand bbox stitch 4 length [pix]',\n 'Right hand bbox stitch 1 length [pix]',\n 'Right hand bbox stitch 2 length [pix]',\n 'Right hand bbox stitch 3 length [pix]',\n 'Right hand bbox stitch 4 length [pix]']"
     },
     "execution_count": 78,
     "metadata": {},
     "output_type": "execute_result"
    }
   ],
   "source": [
    "# find the columns where its values contain single \",\" and digits\n",
    "dfs.columns[dfs.apply(lambda x: (x.dtype is str) and (x.str.contains(\",\\d\").any()))]\n",
    "cols = []\n",
    "for col in dfs.columns:\n",
    "    try:\n",
    "        if (dfs[col].str.contains(\",\\d\").any()):\n",
    "            # convert , to . and change the column type to float\n",
    "            dfs[col] = dfs[col].str.replace(\",\", \".\").astype(float)\n",
    "            cols.append(col)\n",
    "    except:\n",
    "        pass\n",
    "cols"
   ],
   "metadata": {
    "collapsed": false,
    "ExecuteTime": {
     "end_time": "2024-01-08T22:59:47.387376100Z",
     "start_time": "2024-01-08T22:59:47.033311100Z"
    }
   },
   "id": "4a1b759401be37e4"
  },
  {
   "cell_type": "code",
   "execution_count": 79,
   "outputs": [
    {
     "data": {
      "text/plain": "                                              filename  \\\n816  Bad-2021_11_03_B_V_lz__Ann_Sophie_Einzelknopfn...   \n822  Bad-2021_11_03_A_Spitze_Vanessa_Einzelknopfnah...   \n823  Bad-12_10_21__Loewe__Rebekka__Einzelknopfnaht.mp4   \n824  Bad-2021_11_03_A_Petersen_Insa_Einzelknopfnaht...   \n825  Good-2021_10_27_B_Etzel_Peter_Einzelknopfnaht_...   \n826  Bad-2021_11_3_A_Brodersen___nne_Einzelknopfnah...   \n827                 Good-Einzelknopfnaht_Stoklossa.mp4   \n828  Medium-2021_10_12_B_Westermann_Lammers_Johanna...   \n829  Medium-2021_11_03_A_Tengler_Sophie_Einzelknopf...   \n830  Good-2021_11_17_A_Gramlich_Judith_Stresstest_E...   \n832  Medium-2021_11_03_A_Seifert_Johanna_Einzelknop...   \n833  Good-03_11_2021_B_Holzmu_ller_Katharina_Einzel...   \n834  Bad-2021_11_03_A_Noll_Alexander_Einzelknopfnah...   \n835  Bad-3_11_21_B_Grumt_Alina_Einzelknopfnaht_Schw...   \n836  Good-2021_11_03_B_Zu_hl_Amelie_Einzelknopfnaht...   \n838   Bad-03_11_21_B_Hopfe_Johanna_Einzelknopfnaht.mp4   \n839  Good-Schmidt_Elisabeth_Einzelknotennaht_11_10_...   \n840                         Good-162880einzelknopf.mp4   \n841               Good-Schweinefu__Einzelknopfnaht.mp4   \n842                Medium-RPReplay_Final1634048018.mp4   \n843                             Medium-Schweinefu_.mp4   \n851  Bad-trim_0B861D6D_C942_4D0E_90C7_5D9779BE091E.mp4   \n\n                                            report_url  \\\n816  http://suran.kky.zcu.cz:8000//uploader/web_rep...   \n822  http://suran.kky.zcu.cz:8000//uploader/web_rep...   \n823  http://suran.kky.zcu.cz:8000//uploader/web_rep...   \n824  http://suran.kky.zcu.cz:8000//uploader/web_rep...   \n825  http://suran.kky.zcu.cz:8000//uploader/web_rep...   \n826  http://suran.kky.zcu.cz:8000//uploader/web_rep...   \n827  http://suran.kky.zcu.cz:8000//uploader/web_rep...   \n828  http://suran.kky.zcu.cz:8000//uploader/web_rep...   \n829  http://suran.kky.zcu.cz:8000//uploader/web_rep...   \n830  http://suran.kky.zcu.cz:8000//uploader/web_rep...   \n832  http://suran.kky.zcu.cz:8000//uploader/web_rep...   \n833  http://suran.kky.zcu.cz:8000//uploader/web_rep...   \n834  http://suran.kky.zcu.cz:8000//uploader/web_rep...   \n835  http://suran.kky.zcu.cz:8000//uploader/web_rep...   \n836  http://suran.kky.zcu.cz:8000//uploader/web_rep...   \n838  http://suran.kky.zcu.cz:8000//uploader/web_rep...   \n839  http://suran.kky.zcu.cz:8000//uploader/web_rep...   \n840  http://suran.kky.zcu.cz:8000//uploader/web_rep...   \n841  http://suran.kky.zcu.cz:8000//uploader/web_rep...   \n842  http://suran.kky.zcu.cz:8000//uploader/web_rep...   \n843  http://suran.kky.zcu.cz:8000//uploader/web_rep...   \n851  http://suran.kky.zcu.cz:8000//uploader/web_rep...   \n\n                          email       uploaded_at       finished_at   fps  \\\n816  khalatbari.sadaf@gmail.com  2022-06-20 08:33  2024-01-07 17:16  25.0   \n822  khalatbari.sadaf@gmail.com  2022-06-20 08:30  2024-01-07 23:39  25.0   \n823  khalatbari.sadaf@gmail.com  2022-06-20 08:26  2024-01-07 23:41  25.0   \n824  khalatbari.sadaf@gmail.com  2022-06-20 08:28  2024-01-07 23:55  25.0   \n825  khalatbari.sadaf@gmail.com  2022-06-20 08:40  2024-01-08 00:08  25.0   \n826  khalatbari.sadaf@gmail.com  2022-06-20 08:38  2024-01-08 00:11  25.0   \n827  khalatbari.sadaf@gmail.com  2022-06-20 08:55  2024-01-08 00:46  25.0   \n828  khalatbari.sadaf@gmail.com  2022-06-20 09:00  2024-01-08 00:55  25.0   \n829  khalatbari.sadaf@gmail.com  2022-06-20 09:07  2024-01-08 01:00  25.0   \n830  khalatbari.sadaf@gmail.com  2022-06-20 08:53  2024-01-08 01:01  25.0   \n832  khalatbari.sadaf@gmail.com  2022-07-07 16:50  2024-01-08 01:19  25.0   \n833  khalatbari.sadaf@gmail.com  2022-07-07 17:03  2024-01-08 01:51  25.0   \n834  khalatbari.sadaf@gmail.com  2022-07-07 17:08  2024-01-08 02:20  25.0   \n835  khalatbari.sadaf@gmail.com  2022-07-07 17:16  2024-01-08 02:48  25.0   \n836  khalatbari.sadaf@gmail.com  2022-07-07 16:58  2024-01-08 02:50  25.0   \n838  khalatbari.sadaf@gmail.com  2022-07-07 17:33  2024-01-08 03:18  25.0   \n839  Khalatbari.sadaf@gmail.com  2022-08-01 08:56  2024-01-08 03:36  25.0   \n840  Khalatbari.sadaf@gmail.com  2022-08-01 08:49  2024-01-08 03:45  60.0   \n841  Khalatbari.sadaf@gmail.com  2022-08-01 08:58  2024-01-08 03:50  25.0   \n842  Khalatbari.sadaf@gmail.com  2022-08-01 09:14  2024-01-08 04:02  25.0   \n843  Khalatbari.sadaf@gmail.com  2022-08-01 09:18  2024-01-08 04:04  25.0   \n851  Khalatbari.sadaf@gmail.com  2022-08-01 08:47  2024-01-08 22:47  25.0   \n\n     Needle holder length [m]  Scissors length [m]  Forceps length [m]  \\\n816                  2.608826             0.230395            0.666884   \n822                  3.909310             0.289064            0.947081   \n823                  3.888443             0.426266            1.262615   \n824                  3.195450             0.340322            0.414208   \n825                  3.003924             0.438534            0.700347   \n826                  8.521674             0.426072            3.650445   \n827                  5.030629             0.443842            1.648513   \n828                  2.099404             0.196998            0.260029   \n829                  1.607256             0.301583            0.453664   \n830                 12.998796             0.395285            0.197532   \n832                  3.356585             0.368871            0.878775   \n833                  6.341875             0.284550            1.256432   \n834                  9.567534             0.526582            1.945122   \n835                  5.890398             0.356742            1.002744   \n836                       NaN                  NaN                 NaN   \n838                  5.688334             0.356492            2.515732   \n839                  1.261657             0.133894            0.445612   \n840                 11.840144             0.739271            1.280836   \n841                  4.329109             0.469183            2.304685   \n842                  1.987865             0.145515            0.710760   \n843                  3.526152                  NaN            0.913400   \n851                  2.938089             0.005498            0.195555   \n\n     Needle holder visibility [s]  ...  \\\n816                    101.866667  ...   \n822                    124.800000  ...   \n823                    281.333333  ...   \n824                    124.333333  ...   \n825                     95.933333  ...   \n826                    294.266667  ...   \n827                    289.733333  ...   \n828                     69.400000  ...   \n829                     55.666667  ...   \n830                    506.266667  ...   \n832                    142.533333  ...   \n833                    225.133333  ...   \n834                    190.000000  ...   \n835                    272.133333  ...   \n836                    791.133333  ...   \n838                    307.866667  ...   \n839                    144.733333  ...   \n840                    524.466667  ...   \n841                    175.066667  ...   \n842                    154.666667  ...   \n843                    105.200000  ...   \n851                     73.933333  ...   \n\n     Scissors bbox stitch 4 area presence [%]  \\\n816                                       NaN   \n822                                       NaN   \n823                                       NaN   \n824                                       NaN   \n825                                       NaN   \n826                                       NaN   \n827                                       NaN   \n828                                       NaN   \n829                                       NaN   \n830                                       NaN   \n832                                       NaN   \n833                                       NaN   \n834                                       NaN   \n835                                       NaN   \n836                                       0.0   \n838                                       NaN   \n839                                       NaN   \n840                                       NaN   \n841                                       NaN   \n842                                       NaN   \n843                                       NaN   \n851                                       NaN   \n\n     Left hand bbox stitch 1 length [pix]  \\\n816                                   NaN   \n822                                   NaN   \n823                                   NaN   \n824                                   NaN   \n825                                   NaN   \n826                                   NaN   \n827                                   NaN   \n828                                   NaN   \n829                                   NaN   \n830                                   NaN   \n832                                   NaN   \n833                                   NaN   \n834                                   NaN   \n835                                   NaN   \n836                            391.831448   \n838                                   NaN   \n839                                   NaN   \n840                                   NaN   \n841                                   NaN   \n842                                   NaN   \n843                                   NaN   \n851                                   NaN   \n\n     Left hand bbox stitch 2 length [pix]  \\\n816                                   NaN   \n822                                   NaN   \n823                                   NaN   \n824                                   NaN   \n825                                   NaN   \n826                                   NaN   \n827                                   NaN   \n828                                   NaN   \n829                                   NaN   \n830                                   NaN   \n832                                   NaN   \n833                                   NaN   \n834                                   NaN   \n835                                   NaN   \n836                            498.540505   \n838                                   NaN   \n839                                   NaN   \n840                                   NaN   \n841                                   NaN   \n842                                   NaN   \n843                                   NaN   \n851                                   NaN   \n\n     Left hand bbox stitch 3 length [pix]  \\\n816                                   NaN   \n822                                   NaN   \n823                                   NaN   \n824                                   NaN   \n825                                   NaN   \n826                                   NaN   \n827                                   NaN   \n828                                   NaN   \n829                                   NaN   \n830                                   NaN   \n832                                   NaN   \n833                                   NaN   \n834                                   NaN   \n835                                   NaN   \n836                            821.231767   \n838                                   NaN   \n839                                   NaN   \n840                                   NaN   \n841                                   NaN   \n842                                   NaN   \n843                                   NaN   \n851                                   NaN   \n\n     Left hand bbox stitch 4 length [pix]  \\\n816                                   NaN   \n822                                   NaN   \n823                                   NaN   \n824                                   NaN   \n825                                   NaN   \n826                                   NaN   \n827                                   NaN   \n828                                   NaN   \n829                                   NaN   \n830                                   NaN   \n832                                   NaN   \n833                                   NaN   \n834                                   NaN   \n835                                   NaN   \n836                            783.699792   \n838                                   NaN   \n839                                   NaN   \n840                                   NaN   \n841                                   NaN   \n842                                   NaN   \n843                                   NaN   \n851                                   NaN   \n\n     Right hand bbox stitch 1 length [pix]  \\\n816                                    NaN   \n822                                    NaN   \n823                                    NaN   \n824                                    NaN   \n825                                    NaN   \n826                                    NaN   \n827                                    NaN   \n828                                    NaN   \n829                                    NaN   \n830                                    NaN   \n832                                    NaN   \n833                                    NaN   \n834                                    NaN   \n835                                    NaN   \n836                              309.01381   \n838                                    NaN   \n839                                    NaN   \n840                                    NaN   \n841                                    NaN   \n842                                    NaN   \n843                                    NaN   \n851                                    NaN   \n\n     Right hand bbox stitch 2 length [pix]  \\\n816                                    NaN   \n822                                    NaN   \n823                                    NaN   \n824                                    NaN   \n825                                    NaN   \n826                                    NaN   \n827                                    NaN   \n828                                    NaN   \n829                                    NaN   \n830                                    NaN   \n832                                    NaN   \n833                                    NaN   \n834                                    NaN   \n835                                    NaN   \n836                             250.710041   \n838                                    NaN   \n839                                    NaN   \n840                                    NaN   \n841                                    NaN   \n842                                    NaN   \n843                                    NaN   \n851                                    NaN   \n\n     Right hand bbox stitch 3 length [pix]  \\\n816                                    NaN   \n822                                    NaN   \n823                                    NaN   \n824                                    NaN   \n825                                    NaN   \n826                                    NaN   \n827                                    NaN   \n828                                    NaN   \n829                                    NaN   \n830                                    NaN   \n832                                    NaN   \n833                                    NaN   \n834                                    NaN   \n835                                    NaN   \n836                             754.553449   \n838                                    NaN   \n839                                    NaN   \n840                                    NaN   \n841                                    NaN   \n842                                    NaN   \n843                                    NaN   \n851                                    NaN   \n\n     Right hand bbox stitch 4 length [pix]  stars_auto  \n816                                    NaN           2  \n822                                    NaN           2  \n823                                    NaN           2  \n824                                    NaN           2  \n825                                    NaN           0  \n826                                    NaN           2  \n827                                    NaN           0  \n828                                    NaN           0  \n829                                    NaN           0  \n830                                    NaN           0  \n832                                    NaN           0  \n833                                    NaN           0  \n834                                    NaN           2  \n835                                    NaN           2  \n836                             808.272658           0  \n838                                    NaN           2  \n839                                    NaN           0  \n840                                    NaN           0  \n841                                    NaN           0  \n842                                    NaN           0  \n843                                    NaN           0  \n851                                    NaN           2  \n\n[22 rows x 376 columns]",
      "text/html": "<div>\n<style scoped>\n    .dataframe tbody tr th:only-of-type {\n        vertical-align: middle;\n    }\n\n    .dataframe tbody tr th {\n        vertical-align: top;\n    }\n\n    .dataframe thead th {\n        text-align: right;\n    }\n</style>\n<table border=\"1\" class=\"dataframe\">\n  <thead>\n    <tr style=\"text-align: right;\">\n      <th></th>\n      <th>filename</th>\n      <th>report_url</th>\n      <th>email</th>\n      <th>uploaded_at</th>\n      <th>finished_at</th>\n      <th>fps</th>\n      <th>Needle holder length [m]</th>\n      <th>Scissors length [m]</th>\n      <th>Forceps length [m]</th>\n      <th>Needle holder visibility [s]</th>\n      <th>...</th>\n      <th>Scissors bbox stitch 4 area presence [%]</th>\n      <th>Left hand bbox stitch 1 length [pix]</th>\n      <th>Left hand bbox stitch 2 length [pix]</th>\n      <th>Left hand bbox stitch 3 length [pix]</th>\n      <th>Left hand bbox stitch 4 length [pix]</th>\n      <th>Right hand bbox stitch 1 length [pix]</th>\n      <th>Right hand bbox stitch 2 length [pix]</th>\n      <th>Right hand bbox stitch 3 length [pix]</th>\n      <th>Right hand bbox stitch 4 length [pix]</th>\n      <th>stars_auto</th>\n    </tr>\n  </thead>\n  <tbody>\n    <tr>\n      <th>816</th>\n      <td>Bad-2021_11_03_B_V_lz__Ann_Sophie_Einzelknopfn...</td>\n      <td>http://suran.kky.zcu.cz:8000//uploader/web_rep...</td>\n      <td>khalatbari.sadaf@gmail.com</td>\n      <td>2022-06-20 08:33</td>\n      <td>2024-01-07 17:16</td>\n      <td>25.0</td>\n      <td>2.608826</td>\n      <td>0.230395</td>\n      <td>0.666884</td>\n      <td>101.866667</td>\n      <td>...</td>\n      <td>NaN</td>\n      <td>NaN</td>\n      <td>NaN</td>\n      <td>NaN</td>\n      <td>NaN</td>\n      <td>NaN</td>\n      <td>NaN</td>\n      <td>NaN</td>\n      <td>NaN</td>\n      <td>2</td>\n    </tr>\n    <tr>\n      <th>822</th>\n      <td>Bad-2021_11_03_A_Spitze_Vanessa_Einzelknopfnah...</td>\n      <td>http://suran.kky.zcu.cz:8000//uploader/web_rep...</td>\n      <td>khalatbari.sadaf@gmail.com</td>\n      <td>2022-06-20 08:30</td>\n      <td>2024-01-07 23:39</td>\n      <td>25.0</td>\n      <td>3.909310</td>\n      <td>0.289064</td>\n      <td>0.947081</td>\n      <td>124.800000</td>\n      <td>...</td>\n      <td>NaN</td>\n      <td>NaN</td>\n      <td>NaN</td>\n      <td>NaN</td>\n      <td>NaN</td>\n      <td>NaN</td>\n      <td>NaN</td>\n      <td>NaN</td>\n      <td>NaN</td>\n      <td>2</td>\n    </tr>\n    <tr>\n      <th>823</th>\n      <td>Bad-12_10_21__Loewe__Rebekka__Einzelknopfnaht.mp4</td>\n      <td>http://suran.kky.zcu.cz:8000//uploader/web_rep...</td>\n      <td>khalatbari.sadaf@gmail.com</td>\n      <td>2022-06-20 08:26</td>\n      <td>2024-01-07 23:41</td>\n      <td>25.0</td>\n      <td>3.888443</td>\n      <td>0.426266</td>\n      <td>1.262615</td>\n      <td>281.333333</td>\n      <td>...</td>\n      <td>NaN</td>\n      <td>NaN</td>\n      <td>NaN</td>\n      <td>NaN</td>\n      <td>NaN</td>\n      <td>NaN</td>\n      <td>NaN</td>\n      <td>NaN</td>\n      <td>NaN</td>\n      <td>2</td>\n    </tr>\n    <tr>\n      <th>824</th>\n      <td>Bad-2021_11_03_A_Petersen_Insa_Einzelknopfnaht...</td>\n      <td>http://suran.kky.zcu.cz:8000//uploader/web_rep...</td>\n      <td>khalatbari.sadaf@gmail.com</td>\n      <td>2022-06-20 08:28</td>\n      <td>2024-01-07 23:55</td>\n      <td>25.0</td>\n      <td>3.195450</td>\n      <td>0.340322</td>\n      <td>0.414208</td>\n      <td>124.333333</td>\n      <td>...</td>\n      <td>NaN</td>\n      <td>NaN</td>\n      <td>NaN</td>\n      <td>NaN</td>\n      <td>NaN</td>\n      <td>NaN</td>\n      <td>NaN</td>\n      <td>NaN</td>\n      <td>NaN</td>\n      <td>2</td>\n    </tr>\n    <tr>\n      <th>825</th>\n      <td>Good-2021_10_27_B_Etzel_Peter_Einzelknopfnaht_...</td>\n      <td>http://suran.kky.zcu.cz:8000//uploader/web_rep...</td>\n      <td>khalatbari.sadaf@gmail.com</td>\n      <td>2022-06-20 08:40</td>\n      <td>2024-01-08 00:08</td>\n      <td>25.0</td>\n      <td>3.003924</td>\n      <td>0.438534</td>\n      <td>0.700347</td>\n      <td>95.933333</td>\n      <td>...</td>\n      <td>NaN</td>\n      <td>NaN</td>\n      <td>NaN</td>\n      <td>NaN</td>\n      <td>NaN</td>\n      <td>NaN</td>\n      <td>NaN</td>\n      <td>NaN</td>\n      <td>NaN</td>\n      <td>0</td>\n    </tr>\n    <tr>\n      <th>826</th>\n      <td>Bad-2021_11_3_A_Brodersen___nne_Einzelknopfnah...</td>\n      <td>http://suran.kky.zcu.cz:8000//uploader/web_rep...</td>\n      <td>khalatbari.sadaf@gmail.com</td>\n      <td>2022-06-20 08:38</td>\n      <td>2024-01-08 00:11</td>\n      <td>25.0</td>\n      <td>8.521674</td>\n      <td>0.426072</td>\n      <td>3.650445</td>\n      <td>294.266667</td>\n      <td>...</td>\n      <td>NaN</td>\n      <td>NaN</td>\n      <td>NaN</td>\n      <td>NaN</td>\n      <td>NaN</td>\n      <td>NaN</td>\n      <td>NaN</td>\n      <td>NaN</td>\n      <td>NaN</td>\n      <td>2</td>\n    </tr>\n    <tr>\n      <th>827</th>\n      <td>Good-Einzelknopfnaht_Stoklossa.mp4</td>\n      <td>http://suran.kky.zcu.cz:8000//uploader/web_rep...</td>\n      <td>khalatbari.sadaf@gmail.com</td>\n      <td>2022-06-20 08:55</td>\n      <td>2024-01-08 00:46</td>\n      <td>25.0</td>\n      <td>5.030629</td>\n      <td>0.443842</td>\n      <td>1.648513</td>\n      <td>289.733333</td>\n      <td>...</td>\n      <td>NaN</td>\n      <td>NaN</td>\n      <td>NaN</td>\n      <td>NaN</td>\n      <td>NaN</td>\n      <td>NaN</td>\n      <td>NaN</td>\n      <td>NaN</td>\n      <td>NaN</td>\n      <td>0</td>\n    </tr>\n    <tr>\n      <th>828</th>\n      <td>Medium-2021_10_12_B_Westermann_Lammers_Johanna...</td>\n      <td>http://suran.kky.zcu.cz:8000//uploader/web_rep...</td>\n      <td>khalatbari.sadaf@gmail.com</td>\n      <td>2022-06-20 09:00</td>\n      <td>2024-01-08 00:55</td>\n      <td>25.0</td>\n      <td>2.099404</td>\n      <td>0.196998</td>\n      <td>0.260029</td>\n      <td>69.400000</td>\n      <td>...</td>\n      <td>NaN</td>\n      <td>NaN</td>\n      <td>NaN</td>\n      <td>NaN</td>\n      <td>NaN</td>\n      <td>NaN</td>\n      <td>NaN</td>\n      <td>NaN</td>\n      <td>NaN</td>\n      <td>0</td>\n    </tr>\n    <tr>\n      <th>829</th>\n      <td>Medium-2021_11_03_A_Tengler_Sophie_Einzelknopf...</td>\n      <td>http://suran.kky.zcu.cz:8000//uploader/web_rep...</td>\n      <td>khalatbari.sadaf@gmail.com</td>\n      <td>2022-06-20 09:07</td>\n      <td>2024-01-08 01:00</td>\n      <td>25.0</td>\n      <td>1.607256</td>\n      <td>0.301583</td>\n      <td>0.453664</td>\n      <td>55.666667</td>\n      <td>...</td>\n      <td>NaN</td>\n      <td>NaN</td>\n      <td>NaN</td>\n      <td>NaN</td>\n      <td>NaN</td>\n      <td>NaN</td>\n      <td>NaN</td>\n      <td>NaN</td>\n      <td>NaN</td>\n      <td>0</td>\n    </tr>\n    <tr>\n      <th>830</th>\n      <td>Good-2021_11_17_A_Gramlich_Judith_Stresstest_E...</td>\n      <td>http://suran.kky.zcu.cz:8000//uploader/web_rep...</td>\n      <td>khalatbari.sadaf@gmail.com</td>\n      <td>2022-06-20 08:53</td>\n      <td>2024-01-08 01:01</td>\n      <td>25.0</td>\n      <td>12.998796</td>\n      <td>0.395285</td>\n      <td>0.197532</td>\n      <td>506.266667</td>\n      <td>...</td>\n      <td>NaN</td>\n      <td>NaN</td>\n      <td>NaN</td>\n      <td>NaN</td>\n      <td>NaN</td>\n      <td>NaN</td>\n      <td>NaN</td>\n      <td>NaN</td>\n      <td>NaN</td>\n      <td>0</td>\n    </tr>\n    <tr>\n      <th>832</th>\n      <td>Medium-2021_11_03_A_Seifert_Johanna_Einzelknop...</td>\n      <td>http://suran.kky.zcu.cz:8000//uploader/web_rep...</td>\n      <td>khalatbari.sadaf@gmail.com</td>\n      <td>2022-07-07 16:50</td>\n      <td>2024-01-08 01:19</td>\n      <td>25.0</td>\n      <td>3.356585</td>\n      <td>0.368871</td>\n      <td>0.878775</td>\n      <td>142.533333</td>\n      <td>...</td>\n      <td>NaN</td>\n      <td>NaN</td>\n      <td>NaN</td>\n      <td>NaN</td>\n      <td>NaN</td>\n      <td>NaN</td>\n      <td>NaN</td>\n      <td>NaN</td>\n      <td>NaN</td>\n      <td>0</td>\n    </tr>\n    <tr>\n      <th>833</th>\n      <td>Good-03_11_2021_B_Holzmu_ller_Katharina_Einzel...</td>\n      <td>http://suran.kky.zcu.cz:8000//uploader/web_rep...</td>\n      <td>khalatbari.sadaf@gmail.com</td>\n      <td>2022-07-07 17:03</td>\n      <td>2024-01-08 01:51</td>\n      <td>25.0</td>\n      <td>6.341875</td>\n      <td>0.284550</td>\n      <td>1.256432</td>\n      <td>225.133333</td>\n      <td>...</td>\n      <td>NaN</td>\n      <td>NaN</td>\n      <td>NaN</td>\n      <td>NaN</td>\n      <td>NaN</td>\n      <td>NaN</td>\n      <td>NaN</td>\n      <td>NaN</td>\n      <td>NaN</td>\n      <td>0</td>\n    </tr>\n    <tr>\n      <th>834</th>\n      <td>Bad-2021_11_03_A_Noll_Alexander_Einzelknopfnah...</td>\n      <td>http://suran.kky.zcu.cz:8000//uploader/web_rep...</td>\n      <td>khalatbari.sadaf@gmail.com</td>\n      <td>2022-07-07 17:08</td>\n      <td>2024-01-08 02:20</td>\n      <td>25.0</td>\n      <td>9.567534</td>\n      <td>0.526582</td>\n      <td>1.945122</td>\n      <td>190.000000</td>\n      <td>...</td>\n      <td>NaN</td>\n      <td>NaN</td>\n      <td>NaN</td>\n      <td>NaN</td>\n      <td>NaN</td>\n      <td>NaN</td>\n      <td>NaN</td>\n      <td>NaN</td>\n      <td>NaN</td>\n      <td>2</td>\n    </tr>\n    <tr>\n      <th>835</th>\n      <td>Bad-3_11_21_B_Grumt_Alina_Einzelknopfnaht_Schw...</td>\n      <td>http://suran.kky.zcu.cz:8000//uploader/web_rep...</td>\n      <td>khalatbari.sadaf@gmail.com</td>\n      <td>2022-07-07 17:16</td>\n      <td>2024-01-08 02:48</td>\n      <td>25.0</td>\n      <td>5.890398</td>\n      <td>0.356742</td>\n      <td>1.002744</td>\n      <td>272.133333</td>\n      <td>...</td>\n      <td>NaN</td>\n      <td>NaN</td>\n      <td>NaN</td>\n      <td>NaN</td>\n      <td>NaN</td>\n      <td>NaN</td>\n      <td>NaN</td>\n      <td>NaN</td>\n      <td>NaN</td>\n      <td>2</td>\n    </tr>\n    <tr>\n      <th>836</th>\n      <td>Good-2021_11_03_B_Zu_hl_Amelie_Einzelknopfnaht...</td>\n      <td>http://suran.kky.zcu.cz:8000//uploader/web_rep...</td>\n      <td>khalatbari.sadaf@gmail.com</td>\n      <td>2022-07-07 16:58</td>\n      <td>2024-01-08 02:50</td>\n      <td>25.0</td>\n      <td>NaN</td>\n      <td>NaN</td>\n      <td>NaN</td>\n      <td>791.133333</td>\n      <td>...</td>\n      <td>0.0</td>\n      <td>391.831448</td>\n      <td>498.540505</td>\n      <td>821.231767</td>\n      <td>783.699792</td>\n      <td>309.01381</td>\n      <td>250.710041</td>\n      <td>754.553449</td>\n      <td>808.272658</td>\n      <td>0</td>\n    </tr>\n    <tr>\n      <th>838</th>\n      <td>Bad-03_11_21_B_Hopfe_Johanna_Einzelknopfnaht.mp4</td>\n      <td>http://suran.kky.zcu.cz:8000//uploader/web_rep...</td>\n      <td>khalatbari.sadaf@gmail.com</td>\n      <td>2022-07-07 17:33</td>\n      <td>2024-01-08 03:18</td>\n      <td>25.0</td>\n      <td>5.688334</td>\n      <td>0.356492</td>\n      <td>2.515732</td>\n      <td>307.866667</td>\n      <td>...</td>\n      <td>NaN</td>\n      <td>NaN</td>\n      <td>NaN</td>\n      <td>NaN</td>\n      <td>NaN</td>\n      <td>NaN</td>\n      <td>NaN</td>\n      <td>NaN</td>\n      <td>NaN</td>\n      <td>2</td>\n    </tr>\n    <tr>\n      <th>839</th>\n      <td>Good-Schmidt_Elisabeth_Einzelknotennaht_11_10_...</td>\n      <td>http://suran.kky.zcu.cz:8000//uploader/web_rep...</td>\n      <td>Khalatbari.sadaf@gmail.com</td>\n      <td>2022-08-01 08:56</td>\n      <td>2024-01-08 03:36</td>\n      <td>25.0</td>\n      <td>1.261657</td>\n      <td>0.133894</td>\n      <td>0.445612</td>\n      <td>144.733333</td>\n      <td>...</td>\n      <td>NaN</td>\n      <td>NaN</td>\n      <td>NaN</td>\n      <td>NaN</td>\n      <td>NaN</td>\n      <td>NaN</td>\n      <td>NaN</td>\n      <td>NaN</td>\n      <td>NaN</td>\n      <td>0</td>\n    </tr>\n    <tr>\n      <th>840</th>\n      <td>Good-162880einzelknopf.mp4</td>\n      <td>http://suran.kky.zcu.cz:8000//uploader/web_rep...</td>\n      <td>Khalatbari.sadaf@gmail.com</td>\n      <td>2022-08-01 08:49</td>\n      <td>2024-01-08 03:45</td>\n      <td>60.0</td>\n      <td>11.840144</td>\n      <td>0.739271</td>\n      <td>1.280836</td>\n      <td>524.466667</td>\n      <td>...</td>\n      <td>NaN</td>\n      <td>NaN</td>\n      <td>NaN</td>\n      <td>NaN</td>\n      <td>NaN</td>\n      <td>NaN</td>\n      <td>NaN</td>\n      <td>NaN</td>\n      <td>NaN</td>\n      <td>0</td>\n    </tr>\n    <tr>\n      <th>841</th>\n      <td>Good-Schweinefu__Einzelknopfnaht.mp4</td>\n      <td>http://suran.kky.zcu.cz:8000//uploader/web_rep...</td>\n      <td>Khalatbari.sadaf@gmail.com</td>\n      <td>2022-08-01 08:58</td>\n      <td>2024-01-08 03:50</td>\n      <td>25.0</td>\n      <td>4.329109</td>\n      <td>0.469183</td>\n      <td>2.304685</td>\n      <td>175.066667</td>\n      <td>...</td>\n      <td>NaN</td>\n      <td>NaN</td>\n      <td>NaN</td>\n      <td>NaN</td>\n      <td>NaN</td>\n      <td>NaN</td>\n      <td>NaN</td>\n      <td>NaN</td>\n      <td>NaN</td>\n      <td>0</td>\n    </tr>\n    <tr>\n      <th>842</th>\n      <td>Medium-RPReplay_Final1634048018.mp4</td>\n      <td>http://suran.kky.zcu.cz:8000//uploader/web_rep...</td>\n      <td>Khalatbari.sadaf@gmail.com</td>\n      <td>2022-08-01 09:14</td>\n      <td>2024-01-08 04:02</td>\n      <td>25.0</td>\n      <td>1.987865</td>\n      <td>0.145515</td>\n      <td>0.710760</td>\n      <td>154.666667</td>\n      <td>...</td>\n      <td>NaN</td>\n      <td>NaN</td>\n      <td>NaN</td>\n      <td>NaN</td>\n      <td>NaN</td>\n      <td>NaN</td>\n      <td>NaN</td>\n      <td>NaN</td>\n      <td>NaN</td>\n      <td>0</td>\n    </tr>\n    <tr>\n      <th>843</th>\n      <td>Medium-Schweinefu_.mp4</td>\n      <td>http://suran.kky.zcu.cz:8000//uploader/web_rep...</td>\n      <td>Khalatbari.sadaf@gmail.com</td>\n      <td>2022-08-01 09:18</td>\n      <td>2024-01-08 04:04</td>\n      <td>25.0</td>\n      <td>3.526152</td>\n      <td>NaN</td>\n      <td>0.913400</td>\n      <td>105.200000</td>\n      <td>...</td>\n      <td>NaN</td>\n      <td>NaN</td>\n      <td>NaN</td>\n      <td>NaN</td>\n      <td>NaN</td>\n      <td>NaN</td>\n      <td>NaN</td>\n      <td>NaN</td>\n      <td>NaN</td>\n      <td>0</td>\n    </tr>\n    <tr>\n      <th>851</th>\n      <td>Bad-trim_0B861D6D_C942_4D0E_90C7_5D9779BE091E.mp4</td>\n      <td>http://suran.kky.zcu.cz:8000//uploader/web_rep...</td>\n      <td>Khalatbari.sadaf@gmail.com</td>\n      <td>2022-08-01 08:47</td>\n      <td>2024-01-08 22:47</td>\n      <td>25.0</td>\n      <td>2.938089</td>\n      <td>0.005498</td>\n      <td>0.195555</td>\n      <td>73.933333</td>\n      <td>...</td>\n      <td>NaN</td>\n      <td>NaN</td>\n      <td>NaN</td>\n      <td>NaN</td>\n      <td>NaN</td>\n      <td>NaN</td>\n      <td>NaN</td>\n      <td>NaN</td>\n      <td>NaN</td>\n      <td>2</td>\n    </tr>\n  </tbody>\n</table>\n<p>22 rows × 376 columns</p>\n</div>"
     },
     "execution_count": 79,
     "metadata": {},
     "output_type": "execute_result"
    }
   ],
   "source": [
    "dfs"
   ],
   "metadata": {
    "collapsed": false,
    "ExecuteTime": {
     "end_time": "2024-01-08T22:59:47.429382100Z",
     "start_time": "2024-01-08T22:59:47.346375500Z"
    }
   },
   "id": "c43a49972fe915d7"
  },
  {
   "cell_type": "code",
   "execution_count": 79,
   "outputs": [],
   "source": [],
   "metadata": {
    "collapsed": false,
    "ExecuteTime": {
     "end_time": "2024-01-08T22:59:47.500110400Z",
     "start_time": "2024-01-08T22:59:47.388376500Z"
    }
   },
   "id": "51af25062aa51526"
  },
  {
   "cell_type": "code",
   "execution_count": 79,
   "outputs": [],
   "source": [],
   "metadata": {
    "collapsed": false,
    "ExecuteTime": {
     "end_time": "2024-01-08T22:59:49.524574800Z",
     "start_time": "2024-01-08T22:59:49.511569100Z"
    }
   },
   "id": "f3373f9ec58e3a99"
  },
  {
   "cell_type": "code",
   "execution_count": 80,
   "outputs": [
    {
     "data": {
      "text/plain": "Index(['Needle holder length [m]', 'Needle holder visibility [s]',\n       'Needle holder visibility [%]', 'Needle holder area presence [%]',\n       'Needle holder velocity', 'Needle holder zone presence [%]',\n       'Needle holder length', 'Needle holder duration', 'Needle holder unit',\n       'Needle holder visibility', 'Needle holder length [pix]',\n       'Needle holder stitch 1 length [m]',\n       'Needle holder stitch 1 visibility [s]',\n       'Needle holder stitch 1 velocity', 'Needle holder stitch 1 unit',\n       'Needle holder stitch 1 visibility [%]',\n       'Needle holder stitch 1 area presence [%]',\n       'Needle holder bbox length [m]', 'Needle holder bbox visibility [s]',\n       'Needle holder bbox velocity', 'Needle holder bbox unit',\n       'Needle holder bbox visibility [%]',\n       'Needle holder bbox area presence [%]',\n       'Needle holder bbox stitch 1 length [m]',\n       'Needle holder bbox stitch 1 visibility [s]',\n       'Needle holder bbox stitch 1 velocity',\n       'Needle holder bbox stitch 1 unit',\n       'Needle holder bbox stitch 1 visibility [%]',\n       'Needle holder bbox stitch 1 area presence [%]',\n       'Needle holder bbox length [pix]', 'Needle holder stitch 2 length [m]',\n       'Needle holder stitch 2 visibility [s]',\n       'Needle holder stitch 2 velocity', 'Needle holder stitch 2 unit',\n       'Needle holder stitch 2 visibility [%]',\n       'Needle holder stitch 2 area presence [%]',\n       'Needle holder stitch 3 length [m]',\n       'Needle holder stitch 3 visibility [s]',\n       'Needle holder stitch 3 velocity', 'Needle holder stitch 3 unit',\n       'Needle holder stitch 3 visibility [%]',\n       'Needle holder stitch 3 area presence [%]',\n       'Needle holder stitch 4 length [m]',\n       'Needle holder stitch 4 visibility [s]',\n       'Needle holder stitch 4 velocity', 'Needle holder stitch 4 unit',\n       'Needle holder stitch 4 visibility [%]',\n       'Needle holder stitch 4 area presence [%]',\n       'Needle holder bbox stitch 2 length [m]',\n       'Needle holder bbox stitch 2 visibility [s]',\n       'Needle holder bbox stitch 2 velocity',\n       'Needle holder bbox stitch 2 unit',\n       'Needle holder bbox stitch 2 visibility [%]',\n       'Needle holder bbox stitch 2 area presence [%]',\n       'Needle holder bbox stitch 3 length [m]',\n       'Needle holder bbox stitch 3 visibility [s]',\n       'Needle holder bbox stitch 3 velocity',\n       'Needle holder bbox stitch 3 unit',\n       'Needle holder bbox stitch 3 visibility [%]',\n       'Needle holder bbox stitch 3 area presence [%]',\n       'Needle holder bbox stitch 4 length [m]',\n       'Needle holder bbox stitch 4 visibility [s]',\n       'Needle holder bbox stitch 4 velocity',\n       'Needle holder bbox stitch 4 unit',\n       'Needle holder bbox stitch 4 visibility [%]',\n       'Needle holder bbox stitch 4 area presence [%]',\n       'Needle holder stitch 1 length [pix]',\n       'Needle holder stitch 2 length [pix]',\n       'Needle holder stitch 3 length [pix]',\n       'Needle holder stitch 4 length [pix]',\n       'Needle holder bbox stitch 1 length [pix]',\n       'Needle holder bbox stitch 2 length [pix]',\n       'Needle holder bbox stitch 3 length [pix]',\n       'Needle holder bbox stitch 4 length [pix]'],\n      dtype='object')"
     },
     "execution_count": 80,
     "metadata": {},
     "output_type": "execute_result"
    }
   ],
   "source": [
    "# print name of columns containing needle holder\n",
    "dfs.columns[dfs.columns.str.contains(\"Needle holder\")]"
   ],
   "metadata": {
    "collapsed": false,
    "ExecuteTime": {
     "end_time": "2024-01-08T22:59:53.468826Z",
     "start_time": "2024-01-08T22:59:53.400635600Z"
    }
   },
   "id": "d44ea6f5690f0d79"
  },
  {
   "cell_type": "code",
   "execution_count": 81,
   "outputs": [
    {
     "data": {
      "text/plain": "     Needle holder stitch 1 length [m]  Needle holder length [m]\n816                                NaN                  2.608826\n822                                NaN                  3.909310\n823                                NaN                  3.888443\n824                                NaN                  3.195450\n825                                NaN                  3.003924\n826                           3.834157                  8.521674\n827                           2.105825                  5.030629\n828                                NaN                  2.099404\n829                                NaN                  1.607256\n830                                NaN                 12.998796\n832                           1.728507                  3.356585\n833                           1.891578                  6.341875\n834                           5.224603                  9.567534\n835                           2.782741                  5.890398\n836                                NaN                       NaN\n838                           2.187927                  5.688334\n839                                NaN                  1.261657\n840                           0.990121                 11.840144\n841                           1.580795                  4.329109\n842                                NaN                  1.987865\n843                                NaN                  3.526152\n851                                NaN                  2.938089",
      "text/html": "<div>\n<style scoped>\n    .dataframe tbody tr th:only-of-type {\n        vertical-align: middle;\n    }\n\n    .dataframe tbody tr th {\n        vertical-align: top;\n    }\n\n    .dataframe thead th {\n        text-align: right;\n    }\n</style>\n<table border=\"1\" class=\"dataframe\">\n  <thead>\n    <tr style=\"text-align: right;\">\n      <th></th>\n      <th>Needle holder stitch 1 length [m]</th>\n      <th>Needle holder length [m]</th>\n    </tr>\n  </thead>\n  <tbody>\n    <tr>\n      <th>816</th>\n      <td>NaN</td>\n      <td>2.608826</td>\n    </tr>\n    <tr>\n      <th>822</th>\n      <td>NaN</td>\n      <td>3.909310</td>\n    </tr>\n    <tr>\n      <th>823</th>\n      <td>NaN</td>\n      <td>3.888443</td>\n    </tr>\n    <tr>\n      <th>824</th>\n      <td>NaN</td>\n      <td>3.195450</td>\n    </tr>\n    <tr>\n      <th>825</th>\n      <td>NaN</td>\n      <td>3.003924</td>\n    </tr>\n    <tr>\n      <th>826</th>\n      <td>3.834157</td>\n      <td>8.521674</td>\n    </tr>\n    <tr>\n      <th>827</th>\n      <td>2.105825</td>\n      <td>5.030629</td>\n    </tr>\n    <tr>\n      <th>828</th>\n      <td>NaN</td>\n      <td>2.099404</td>\n    </tr>\n    <tr>\n      <th>829</th>\n      <td>NaN</td>\n      <td>1.607256</td>\n    </tr>\n    <tr>\n      <th>830</th>\n      <td>NaN</td>\n      <td>12.998796</td>\n    </tr>\n    <tr>\n      <th>832</th>\n      <td>1.728507</td>\n      <td>3.356585</td>\n    </tr>\n    <tr>\n      <th>833</th>\n      <td>1.891578</td>\n      <td>6.341875</td>\n    </tr>\n    <tr>\n      <th>834</th>\n      <td>5.224603</td>\n      <td>9.567534</td>\n    </tr>\n    <tr>\n      <th>835</th>\n      <td>2.782741</td>\n      <td>5.890398</td>\n    </tr>\n    <tr>\n      <th>836</th>\n      <td>NaN</td>\n      <td>NaN</td>\n    </tr>\n    <tr>\n      <th>838</th>\n      <td>2.187927</td>\n      <td>5.688334</td>\n    </tr>\n    <tr>\n      <th>839</th>\n      <td>NaN</td>\n      <td>1.261657</td>\n    </tr>\n    <tr>\n      <th>840</th>\n      <td>0.990121</td>\n      <td>11.840144</td>\n    </tr>\n    <tr>\n      <th>841</th>\n      <td>1.580795</td>\n      <td>4.329109</td>\n    </tr>\n    <tr>\n      <th>842</th>\n      <td>NaN</td>\n      <td>1.987865</td>\n    </tr>\n    <tr>\n      <th>843</th>\n      <td>NaN</td>\n      <td>3.526152</td>\n    </tr>\n    <tr>\n      <th>851</th>\n      <td>NaN</td>\n      <td>2.938089</td>\n    </tr>\n  </tbody>\n</table>\n</div>"
     },
     "execution_count": 81,
     "metadata": {},
     "output_type": "execute_result"
    }
   ],
   "source": [
    "dfs[[\"Needle holder stitch 1 length [m]\", \"Needle holder length [m]\"]]"
   ],
   "metadata": {
    "collapsed": false,
    "ExecuteTime": {
     "end_time": "2024-01-08T22:59:54.567949600Z",
     "start_time": "2024-01-08T22:59:54.439894600Z"
    }
   },
   "id": "fe816967bd95fb8c"
  },
  {
   "cell_type": "code",
   "execution_count": 82,
   "outputs": [],
   "source": [
    "# If column containing \" stitch 1\" in its name has empty values, fill them with  the values from the column with the same name but withuou \" stitch 1\"\n",
    "for col in dfs.columns[dfs.columns.str.contains(\" stitch 1\")]:\n",
    "    dfs[col] = dfs[col].fillna(dfs[col.replace(\" stitch 1\", \"\")])"
   ],
   "metadata": {
    "collapsed": false,
    "ExecuteTime": {
     "end_time": "2024-01-08T23:00:02.126090900Z",
     "start_time": "2024-01-08T23:00:02.066092700Z"
    }
   },
   "id": "5a00460c06572f18"
  },
  {
   "cell_type": "code",
   "execution_count": 83,
   "outputs": [
    {
     "data": {
      "text/plain": "     Needle holder stitch 1 length [m]  Needle holder length [m]\n816                           2.608826                  2.608826\n822                           3.909310                  3.909310\n823                           3.888443                  3.888443\n824                           3.195450                  3.195450\n825                           3.003924                  3.003924\n826                           3.834157                  8.521674\n827                           2.105825                  5.030629\n828                           2.099404                  2.099404\n829                           1.607256                  1.607256\n830                          12.998796                 12.998796\n832                           1.728507                  3.356585\n833                           1.891578                  6.341875\n834                           5.224603                  9.567534\n835                           2.782741                  5.890398\n836                                NaN                       NaN\n838                           2.187927                  5.688334\n839                           1.261657                  1.261657\n840                           0.990121                 11.840144\n841                           1.580795                  4.329109\n842                           1.987865                  1.987865\n843                           3.526152                  3.526152\n851                           2.938089                  2.938089",
      "text/html": "<div>\n<style scoped>\n    .dataframe tbody tr th:only-of-type {\n        vertical-align: middle;\n    }\n\n    .dataframe tbody tr th {\n        vertical-align: top;\n    }\n\n    .dataframe thead th {\n        text-align: right;\n    }\n</style>\n<table border=\"1\" class=\"dataframe\">\n  <thead>\n    <tr style=\"text-align: right;\">\n      <th></th>\n      <th>Needle holder stitch 1 length [m]</th>\n      <th>Needle holder length [m]</th>\n    </tr>\n  </thead>\n  <tbody>\n    <tr>\n      <th>816</th>\n      <td>2.608826</td>\n      <td>2.608826</td>\n    </tr>\n    <tr>\n      <th>822</th>\n      <td>3.909310</td>\n      <td>3.909310</td>\n    </tr>\n    <tr>\n      <th>823</th>\n      <td>3.888443</td>\n      <td>3.888443</td>\n    </tr>\n    <tr>\n      <th>824</th>\n      <td>3.195450</td>\n      <td>3.195450</td>\n    </tr>\n    <tr>\n      <th>825</th>\n      <td>3.003924</td>\n      <td>3.003924</td>\n    </tr>\n    <tr>\n      <th>826</th>\n      <td>3.834157</td>\n      <td>8.521674</td>\n    </tr>\n    <tr>\n      <th>827</th>\n      <td>2.105825</td>\n      <td>5.030629</td>\n    </tr>\n    <tr>\n      <th>828</th>\n      <td>2.099404</td>\n      <td>2.099404</td>\n    </tr>\n    <tr>\n      <th>829</th>\n      <td>1.607256</td>\n      <td>1.607256</td>\n    </tr>\n    <tr>\n      <th>830</th>\n      <td>12.998796</td>\n      <td>12.998796</td>\n    </tr>\n    <tr>\n      <th>832</th>\n      <td>1.728507</td>\n      <td>3.356585</td>\n    </tr>\n    <tr>\n      <th>833</th>\n      <td>1.891578</td>\n      <td>6.341875</td>\n    </tr>\n    <tr>\n      <th>834</th>\n      <td>5.224603</td>\n      <td>9.567534</td>\n    </tr>\n    <tr>\n      <th>835</th>\n      <td>2.782741</td>\n      <td>5.890398</td>\n    </tr>\n    <tr>\n      <th>836</th>\n      <td>NaN</td>\n      <td>NaN</td>\n    </tr>\n    <tr>\n      <th>838</th>\n      <td>2.187927</td>\n      <td>5.688334</td>\n    </tr>\n    <tr>\n      <th>839</th>\n      <td>1.261657</td>\n      <td>1.261657</td>\n    </tr>\n    <tr>\n      <th>840</th>\n      <td>0.990121</td>\n      <td>11.840144</td>\n    </tr>\n    <tr>\n      <th>841</th>\n      <td>1.580795</td>\n      <td>4.329109</td>\n    </tr>\n    <tr>\n      <th>842</th>\n      <td>1.987865</td>\n      <td>1.987865</td>\n    </tr>\n    <tr>\n      <th>843</th>\n      <td>3.526152</td>\n      <td>3.526152</td>\n    </tr>\n    <tr>\n      <th>851</th>\n      <td>2.938089</td>\n      <td>2.938089</td>\n    </tr>\n  </tbody>\n</table>\n</div>"
     },
     "execution_count": 83,
     "metadata": {},
     "output_type": "execute_result"
    }
   ],
   "source": [
    "dfs[[\"Needle holder stitch 1 length [m]\", \"Needle holder length [m]\"]]\n"
   ],
   "metadata": {
    "collapsed": false,
    "ExecuteTime": {
     "end_time": "2024-01-08T23:00:02.857860600Z",
     "start_time": "2024-01-08T23:00:02.781637Z"
    }
   },
   "id": "8d4e18421dd66275"
  },
  {
   "cell_type": "code",
   "execution_count": 84,
   "outputs": [
    {
     "name": "stderr",
     "output_type": "stream",
     "text": [
      "C:\\Users\\Jirik\\AppData\\Local\\Temp\\ipykernel_1412\\457172700.py:2: FutureWarning: The default value of numeric_only in DataFrame.corr is deprecated. In a future version, it will default to False. Select only valid columns or specify the value of numeric_only to silence this warning.\n",
      "  dfs.corr()[\"stars_auto\"].sort_values()\n"
     ]
    },
    {
     "data": {
      "text/plain": "Forceps bbox visibility [%]             -0.479464\nStitches parallelism score              -0.330578\nScissors visibility [%]                 -0.325639\nn_stitches_by_user                      -0.319676\nForceps bbox visibility [s]             -0.254723\n                                           ...   \nLeft hand bbox stitch 4 length [pix]          NaN\nRight hand bbox stitch 1 length [pix]         NaN\nRight hand bbox stitch 2 length [pix]         NaN\nRight hand bbox stitch 3 length [pix]         NaN\nRight hand bbox stitch 4 length [pix]         NaN\nName: stars_auto, Length: 270, dtype: float64"
     },
     "execution_count": 84,
     "metadata": {},
     "output_type": "execute_result"
    }
   ],
   "source": [
    "# find corelation between stars_auto and other numerical columns and sort them\n",
    "dfs.corr()[\"stars_auto\"].sort_values()\n",
    "\n"
   ],
   "metadata": {
    "collapsed": false,
    "ExecuteTime": {
     "end_time": "2024-01-08T23:00:03.453092700Z",
     "start_time": "2024-01-08T23:00:03.346571200Z"
    }
   },
   "id": "1b7aa71b1749b7f"
  },
  {
   "cell_type": "code",
   "execution_count": 89,
   "outputs": [
    {
     "name": "stderr",
     "output_type": "stream",
     "text": [
      "C:\\Users\\Jirik\\AppData\\Local\\Temp\\ipykernel_1412\\1885081676.py:2: FutureWarning: The default value of numeric_only in DataFrame.corr is deprecated. In a future version, it will default to False. Select only valid columns or specify the value of numeric_only to silence this warning.\n",
      "  corr = dfs.corr()[\"stars_auto\"].sort_values(ascending=False).head(10)\n"
     ]
    },
    {
     "data": {
      "text/plain": "stars_auto                                       1.000000\nForceps stitch 1 length [m]                      0.392658\nForceps stitch 1 area presence [%]               0.344862\nqr_data_scene_width_m                            0.336219\nqr_data_pix_size                                 0.336219\nNeedle holder area presence [%]                  0.319609\nForceps area presence [%]                        0.304575\norig frame_height                                0.292419\nNeedle holder bbox stitch 1 area presence [%]    0.288653\nForceps length [m]                               0.277674\nName: stars_auto, dtype: float64"
     },
     "execution_count": 89,
     "metadata": {},
     "output_type": "execute_result"
    }
   ],
   "source": [
    "# try to find the best columns to predict stars_auto\n",
    "corr = dfs.corr()[\"stars_auto\"].sort_values(ascending=False).head(10)\n",
    "corr\n"
   ],
   "metadata": {
    "collapsed": false,
    "ExecuteTime": {
     "end_time": "2024-01-08T23:00:52.740029700Z",
     "start_time": "2024-01-08T23:00:52.663514500Z"
    }
   },
   "id": "1d682a975ee6f940"
  },
  {
   "cell_type": "code",
   "execution_count": 90,
   "outputs": [
    {
     "name": "stdout",
     "output_type": "stream",
     "text": [
      "22\n",
      "20\n"
     ]
    },
    {
     "data": {
      "text/plain": "-0.8008979668108016"
     },
     "execution_count": 90,
     "metadata": {},
     "output_type": "execute_result"
    }
   ],
   "source": [
    "import sklearn\n",
    "# train a model to predict stars_auto\n",
    "from sklearn.linear_model import LinearRegression\n",
    "from sklearn.model_selection import train_test_split\n",
    "from sklearn.metrics import mean_squared_error, r2_score\n",
    "# import SVM\n",
    "from sklearn.svm import SVR\n",
    "#train a model to predict stars_auto\n",
    "\n",
    "columns = list(corr.index)\n",
    "columns.append(\"filename\")\n",
    "\n",
    "dfsx = dfs[columns]\n",
    "print(len(dfsx))\n",
    "dfsx = dfsx.dropna()\n",
    "print(len(dfsx))\n",
    "X = dfsx[corr.index].drop(\"stars_auto\", axis=1)\n",
    "y = dfsx[\"stars_auto\"]\n",
    "X_train, X_test, y_train, y_test = train_test_split(X, y, test_size=0.2, random_state=42)\n",
    "\n",
    "model = SVR()\n",
    "model.fit(X_train, y_train)\n",
    "model.score(X_test, y_test)\n",
    "# \n",
    "# X"
   ],
   "metadata": {
    "collapsed": false,
    "ExecuteTime": {
     "end_time": "2024-01-08T23:00:53.357519800Z",
     "start_time": "2024-01-08T23:00:53.329979700Z"
    }
   },
   "id": "156ae14a777fe3fc"
  },
  {
   "cell_type": "code",
   "execution_count": 91,
   "outputs": [
    {
     "data": {
      "text/plain": "816    2\n841    0\n839    0\n822    2\nName: stars_auto, dtype: int32"
     },
     "execution_count": 91,
     "metadata": {},
     "output_type": "execute_result"
    }
   ],
   "source": [
    "y_test"
   ],
   "metadata": {
    "collapsed": false,
    "ExecuteTime": {
     "end_time": "2024-01-08T23:00:54.102816800Z",
     "start_time": "2024-01-08T23:00:54.079811100Z"
    }
   },
   "id": "ab82921a7dc10572"
  },
  {
   "cell_type": "code",
   "execution_count": 92,
   "outputs": [
    {
     "data": {
      "text/plain": "array([0.10882825, 0.09457567, 0.09590648, 0.10028458])"
     },
     "execution_count": 92,
     "metadata": {},
     "output_type": "execute_result"
    }
   ],
   "source": [
    "y_pred = model.predict(X_test)\n",
    "y_pred"
   ],
   "metadata": {
    "collapsed": false,
    "ExecuteTime": {
     "end_time": "2024-01-08T23:00:57.539342800Z",
     "start_time": "2024-01-08T23:00:57.408300Z"
    }
   },
   "id": "e5ea4f24720d1a20"
  },
  {
   "cell_type": "code",
   "execution_count": 94,
   "outputs": [
    {
     "data": {
      "text/plain": "array([0.10021047, 0.10583454, 0.09953493, 0.10522731, 0.10041116,\n       0.05032754, 0.10958229, 0.10592193, 0.11030752, 0.10254129,\n       0.09964285, 0.10444273, 0.10041114, 0.09998731, 0.10081808,\n       0.08631827])"
     },
     "execution_count": 94,
     "metadata": {},
     "output_type": "execute_result"
    }
   ],
   "source": [
    "model.predict(X_train)\n"
   ],
   "metadata": {
    "collapsed": false,
    "ExecuteTime": {
     "end_time": "2024-01-08T23:02:14.311003600Z",
     "start_time": "2024-01-08T23:02:14.255000500Z"
    }
   },
   "id": "4ad7ea73ebc96391"
  },
  {
   "cell_type": "code",
   "execution_count": 95,
   "outputs": [
    {
     "data": {
      "text/plain": "829    0\n826    2\n833    0\n824    2\n842    0\n840    0\n835    2\n823    2\n830    0\n843    0\n825    0\n834    2\n828    0\n832    0\n838    2\n827    0\nName: stars_auto, dtype: int32"
     },
     "execution_count": 95,
     "metadata": {},
     "output_type": "execute_result"
    }
   ],
   "source": [
    "y_train"
   ],
   "metadata": {
    "collapsed": false,
    "ExecuteTime": {
     "end_time": "2024-01-08T23:02:21.727056700Z",
     "start_time": "2024-01-08T23:02:21.603333500Z"
    }
   },
   "id": "4fb2137572f7d68c"
  },
  {
   "cell_type": "code",
   "execution_count": 96,
   "outputs": [
    {
     "data": {
      "text/plain": "0.5"
     },
     "execution_count": 96,
     "metadata": {},
     "output_type": "execute_result"
    }
   ],
   "source": [
    "from sklearn.neural_network import MLPClassifier\n",
    "clf = MLPClassifier(solver='lbfgs', alpha=1e-5,\n",
    "                    hidden_layer_sizes=(5, 2), random_state=1)\n",
    "clf.fit(X_train, y_train)\n",
    "clf.score(X_test, y_test)"
   ],
   "metadata": {
    "collapsed": false,
    "ExecuteTime": {
     "end_time": "2024-01-08T23:07:11.283253700Z",
     "start_time": "2024-01-08T23:07:11.166676400Z"
    }
   },
   "id": "f6ec8f07533d895f"
  },
  {
   "cell_type": "code",
   "execution_count": 99,
   "outputs": [
    {
     "data": {
      "text/plain": "array([0, 0, 0, 0, 0, 0, 0, 0, 0, 0, 0, 0, 0, 0, 0, 0])"
     },
     "execution_count": 99,
     "metadata": {},
     "output_type": "execute_result"
    }
   ],
   "source": [
    "clf.predict(X_train)"
   ],
   "metadata": {
    "collapsed": false,
    "ExecuteTime": {
     "end_time": "2024-01-08T23:07:40.232991400Z",
     "start_time": "2024-01-08T23:07:40.169171600Z"
    }
   },
   "id": "e2941983090d2225"
  },
  {
   "cell_type": "code",
   "execution_count": 98,
   "outputs": [
    {
     "data": {
      "text/plain": "816    2\n841    0\n839    0\n822    2\nName: stars_auto, dtype: int32"
     },
     "execution_count": 98,
     "metadata": {},
     "output_type": "execute_result"
    }
   ],
   "source": [
    "y_test"
   ],
   "metadata": {
    "collapsed": false,
    "ExecuteTime": {
     "end_time": "2024-01-08T23:07:21.340654100Z",
     "start_time": "2024-01-08T23:07:21.211130400Z"
    }
   },
   "id": "e55f43281611b056"
  },
  {
   "cell_type": "code",
   "execution_count": null,
   "outputs": [],
   "source": [],
   "metadata": {
    "collapsed": false
   },
   "id": "2d4b03b5a062d9c1"
  }
 ],
 "metadata": {
  "kernelspec": {
   "display_name": "Python 3",
   "language": "python",
   "name": "python3"
  },
  "language_info": {
   "codemirror_mode": {
    "name": "ipython",
    "version": 2
   },
   "file_extension": ".py",
   "mimetype": "text/x-python",
   "name": "python",
   "nbconvert_exporter": "python",
   "pygments_lexer": "ipython2",
   "version": "2.7.6"
  }
 },
 "nbformat": 4,
 "nbformat_minor": 5
}
