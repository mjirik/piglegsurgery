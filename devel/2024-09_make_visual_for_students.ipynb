{
 "cells": [
  {
   "cell_type": "code",
   "id": "initial_id",
   "metadata": {
    "collapsed": true,
    "ExecuteTime": {
     "end_time": "2024-09-26T12:52:21.421324Z",
     "start_time": "2024-09-26T12:52:15.771415Z"
    }
   },
   "source": [
    "%load_ext autoreload\n",
    "%autoreload \n",
    "!pip install pandas==1.5.3 openpyxl\n",
    "\n",
    "\n",
    "import numpy as np\n",
    "import seaborn as sns\n",
    "import scipy\n",
    "import skimage\n",
    "\n",
    "sns.set_style(\"ticks\")\n",
    "from pathlib import Path\n",
    "\n",
    "import pandas as pd\n",
    "import pigleg_evaluation_tools as pet\n",
    "\n",
    "# Get the data \n",
    "fn = sorted(list(Path(\".\").glob(\"*list_of_all_stitches*.xlsx\")))[-1]\n",
    "fn = sorted(list(Path(\".\").glob(\"*all_stitches_with_human_annotations*.xlsx\")))[-1]\n",
    "print(fn)\n",
    "dfall = pd.read_excel(fn)\n",
    "\n",
    "#remove unnamed columns\n",
    "dfall = dfall.loc[:, ~dfall.columns.str.contains('^Unnamed')]\n",
    "\n",
    "dfall\n"
   ],
   "outputs": [
    {
     "name": "stdout",
     "output_type": "stream",
     "text": [
      "Defaulting to user installation because normal site-packages is not writeable\r\n",
      "Looking in indexes: https://pypi.org/simple, https://pypi.ngc.nvidia.com\r\n",
      "Requirement already satisfied: pandas==1.5.3 in /home/appuser/.local/lib/python3.8/site-packages (1.5.3)\r\n",
      "Requirement already satisfied: openpyxl in /home/appuser/.local/lib/python3.8/site-packages (3.1.5)\r\n",
      "Requirement already satisfied: python-dateutil>=2.8.1 in /opt/conda/lib/python3.8/site-packages (from pandas==1.5.3) (2.8.2)\r\n",
      "Requirement already satisfied: pytz>=2020.1 in /opt/conda/lib/python3.8/site-packages (from pandas==1.5.3) (2022.1)\r\n",
      "Requirement already satisfied: numpy>=1.20.3 in /opt/conda/lib/python3.8/site-packages (from pandas==1.5.3) (1.22.3)\r\n",
      "Requirement already satisfied: et-xmlfile in /home/appuser/.local/lib/python3.8/site-packages (from openpyxl) (1.1.0)\r\n",
      "Requirement already satisfied: six>=1.5 in /opt/conda/lib/python3.8/site-packages (from python-dateutil>=2.8.1->pandas==1.5.3) (1.16.0)\r\n",
      "\u001B[33mDEPRECATION: torch-tensorrt 1.1.0a0 has a non-standard dependency specifier torch>=1.10.0+cu113<1.11.0. pip 24.1 will enforce this behaviour change. A possible replacement is to upgrade to a newer version of torch-tensorrt or contact the author to suggest that they release a version with a conforming dependency specifiers. Discussion can be found at https://github.com/pypa/pip/issues/12063\u001B[0m\u001B[33m\r\n",
      "\u001B[0m\r\n",
      "\u001B[1m[\u001B[0m\u001B[34;49mnotice\u001B[0m\u001B[1;39;49m]\u001B[0m\u001B[39;49m A new release of pip is available: \u001B[0m\u001B[31;49m24.0\u001B[0m\u001B[39;49m -> \u001B[0m\u001B[32;49m24.2\u001B[0m\r\n",
      "\u001B[1m[\u001B[0m\u001B[34;49mnotice\u001B[0m\u001B[1;39;49m]\u001B[0m\u001B[39;49m To update, run: \u001B[0m\u001B[32;49mpython3 -m pip install --upgrade pip\u001B[0m\r\n",
      "all_stitches_with_human_annotations_and_predictions.xlsx\n"
     ]
    },
    {
     "data": {
      "text/plain": [
       "                                         filename  \\\n",
       "0                                   Ekn_Ana_3.mp4   \n",
       "1                                   Ekn_Ana_2.mp4   \n",
       "2                                   Ekn_Ana_4.mp4   \n",
       "3                                   Ekn_Ana_1.mp4   \n",
       "4                                   Ekn_Ana_5.mp4   \n",
       "..                                            ...   \n",
       "82  Bildschirmaufnahme_2022-10-11_um_11.20.24.mov   \n",
       "83                  Schiesser_David_post_test.mp4   \n",
       "84      Einzelknopfnaht_Schwein_Kerstin_Preuß.mp4   \n",
       "85                 Stresstest_Einzelknopfnaht.mp4   \n",
       "86  Bildschirmaufnahme_2022-10-11_um_11.20.24.mov   \n",
       "\n",
       "                     annotation_annotation_annotation  \\\n",
       "0   00:00:01 stitch_start\\n00:00:24 knot_start\\n00...   \n",
       "1   00:00:02 stitch_start\\n00:00:21 knot_start\\n00...   \n",
       "2   00:00:01 stitch_start\\n00:00:21 knot_start\\n00...   \n",
       "3   00:00:01 stitch_start\\n00:00:22 knot_end\\n00:0...   \n",
       "4   00:00:00 stitch_start\\n00:00:17 knot_start\\n00...   \n",
       "..                                                ...   \n",
       "82  00:00:17 stitch_start\\n00:01:41 knot_start\\n00...   \n",
       "83  00:00:04 stitch_start\\n00:00:47 knot_start\\n00...   \n",
       "84  00:00:06 stitch_start\\n00:00:32 knot_start \\n0...   \n",
       "85  Das Ergebnis finde ich sehr schön. Die Wundrän...   \n",
       "86  00:00:17 stitch_start\\n00:01:41 knot_start\\n00...   \n",
       "\n",
       "    annotation_annotation_time_and_movements  \\\n",
       "0                                        1.0   \n",
       "1                                        1.0   \n",
       "2                                        1.0   \n",
       "3                                        1.0   \n",
       "4                                        1.0   \n",
       "..                                       ...   \n",
       "82                                       1.0   \n",
       "83                                       1.0   \n",
       "84                                       1.0   \n",
       "85                                       1.0   \n",
       "86                                       1.0   \n",
       "\n",
       "                                           report_url  Stitch duration [s]  \\\n",
       "0   http://suran.kky.zcu.cz:8000//uploader/web_rep...                 53.0   \n",
       "1   http://suran.kky.zcu.cz:8000//uploader/web_rep...                 50.0   \n",
       "2   http://suran.kky.zcu.cz:8000//uploader/web_rep...                 51.0   \n",
       "3   http://suran.kky.zcu.cz:8000//uploader/web_rep...                 48.0   \n",
       "4   http://suran.kky.zcu.cz:8000//uploader/web_rep...                 43.0   \n",
       "..                                                ...                  ...   \n",
       "82  http://suran.kky.zcu.cz:8000//uploader/web_rep...                121.0   \n",
       "83  http://suran.kky.zcu.cz:8000//uploader/web_rep...                 58.0   \n",
       "84  http://suran.kky.zcu.cz:8000//uploader/web_rep...                 50.0   \n",
       "85  http://suran.kky.zcu.cz:8000//uploader/web_rep...                 54.0   \n",
       "86  http://suran.kky.zcu.cz:8000//uploader/web_rep...                101.0   \n",
       "\n",
       "    Stitch start at [s]  Needle holder stitch area presence [%]  \\\n",
       "0                   1.0                               44.822485   \n",
       "1                   2.0                               54.172989   \n",
       "2                   1.0                               61.417323   \n",
       "3                   1.0                               44.511278   \n",
       "4                   0.0                               36.909091   \n",
       "..                  ...                                     ...   \n",
       "82                552.0                               82.840237   \n",
       "83                195.0                               78.386167   \n",
       "84                240.0                               83.281250   \n",
       "85                348.0                               89.949749   \n",
       "86                698.0                               72.877536   \n",
       "\n",
       "    Needle holder stitch median area presence [%]  \\\n",
       "0                                       89.053254   \n",
       "1                                       94.992413   \n",
       "2                                       94.015748   \n",
       "3                                       68.270677   \n",
       "4                                       84.000000   \n",
       "..                                            ...   \n",
       "82                                      92.504931   \n",
       "83                                      93.227666   \n",
       "84                                      93.125000   \n",
       "85                                      99.874372   \n",
       "86                                      91.885800   \n",
       "\n",
       "    Needle holder stitch length [m]  Needle holder stitch visibility [s]  ...  \\\n",
       "0                          2.146999                            45.066667  ...   \n",
       "1                          1.920482                            43.933333  ...   \n",
       "2                          1.920755                            42.333333  ...   \n",
       "3                          3.370340                            44.333333  ...   \n",
       "4                          2.854883                            36.666667  ...   \n",
       "..                              ...                                  ...  ...   \n",
       "82                         3.348492                           101.400000  ...   \n",
       "83                         2.580827                            46.266667  ...   \n",
       "84                         2.302644                            42.666667  ...   \n",
       "85                         1.301011                            53.066667  ...   \n",
       "86                         2.801612                            88.733333  ...   \n",
       "\n",
       "    done_by_expert                                      file_stitch  Carina  \\\n",
       "0                1                                  Ekn_Ana_3.mp4_0     4.2   \n",
       "1                1                                  Ekn_Ana_2.mp4_0     4.6   \n",
       "2                1                                  Ekn_Ana_4.mp4_0     3.2   \n",
       "3                1                                  Ekn_Ana_1.mp4_0     4.4   \n",
       "4                1                                  Ekn_Ana_5.mp4_0     3.2   \n",
       "..             ...                                              ...     ...   \n",
       "82               0  Bildschirmaufnahme_2022-10-11_um_11.20.24.mov_3     2.6   \n",
       "83               0                  Schiesser_David_post_test.mp4_3     3.8   \n",
       "84               0      Einzelknopfnaht_Schwein_Kerstin_Preuß.mp4_4     3.8   \n",
       "85               0                 Stresstest_Einzelknopfnaht.mp4_4     3.6   \n",
       "86               0  Bildschirmaufnahme_2022-10-11_um_11.20.24.mov_4     3.2   \n",
       "\n",
       "         Ana Mira  mean_movement_annotation  is_train  \\\n",
       "0   4.333333  5.0                  4.511111       0.0   \n",
       "1   4.666667  5.0                  4.755556       1.0   \n",
       "2   3.666667  4.5                  3.788889       1.0   \n",
       "3   4.333333  5.0                  4.577778       1.0   \n",
       "4   3.666667  5.0                  3.955556       0.0   \n",
       "..       ...  ...                       ...       ...   \n",
       "82  3.000000  4.0                  3.200000       1.0   \n",
       "83  4.250000  3.0                  3.683333       NaN   \n",
       "84  3.500000  4.0                  3.766667       NaN   \n",
       "85  3.750000  5.0                  4.116667       NaN   \n",
       "86  4.000000  4.0                  3.733333       NaN   \n",
       "\n",
       "    LinearRegression mean_movement_annotation  \\\n",
       "0                                    4.069516   \n",
       "1                                    4.145910   \n",
       "2                                    4.080613   \n",
       "3                                    4.220112   \n",
       "4                                    4.231069   \n",
       "..                                        ...   \n",
       "82                                   2.955111   \n",
       "83                                   3.928319   \n",
       "84                                   4.120399   \n",
       "85                                   4.197564   \n",
       "86                                   3.361463   \n",
       "\n",
       "    MLPRegressor mean_movement_annotation  SVR mean_movement_annotation  \n",
       "0                                4.008933                      4.105752  \n",
       "1                                4.019103                      4.224466  \n",
       "2                                3.974225                      4.131889  \n",
       "3                                4.156992                      4.254250  \n",
       "4                                4.146621                      4.305917  \n",
       "..                                    ...                           ...  \n",
       "82                               3.033193                      2.965313  \n",
       "83                               3.947800                      4.028566  \n",
       "84                               3.966669                      4.090838  \n",
       "85                               4.060015                      4.140068  \n",
       "86                               3.475077                      3.305910  \n",
       "\n",
       "[87 rows x 121 columns]"
      ],
      "text/html": [
       "<div>\n",
       "<style scoped>\n",
       "    .dataframe tbody tr th:only-of-type {\n",
       "        vertical-align: middle;\n",
       "    }\n",
       "\n",
       "    .dataframe tbody tr th {\n",
       "        vertical-align: top;\n",
       "    }\n",
       "\n",
       "    .dataframe thead th {\n",
       "        text-align: right;\n",
       "    }\n",
       "</style>\n",
       "<table border=\"1\" class=\"dataframe\">\n",
       "  <thead>\n",
       "    <tr style=\"text-align: right;\">\n",
       "      <th></th>\n",
       "      <th>filename</th>\n",
       "      <th>annotation_annotation_annotation</th>\n",
       "      <th>annotation_annotation_time_and_movements</th>\n",
       "      <th>report_url</th>\n",
       "      <th>Stitch duration [s]</th>\n",
       "      <th>Stitch start at [s]</th>\n",
       "      <th>Needle holder stitch area presence [%]</th>\n",
       "      <th>Needle holder stitch median area presence [%]</th>\n",
       "      <th>Needle holder stitch length [m]</th>\n",
       "      <th>Needle holder stitch visibility [s]</th>\n",
       "      <th>...</th>\n",
       "      <th>done_by_expert</th>\n",
       "      <th>file_stitch</th>\n",
       "      <th>Carina</th>\n",
       "      <th>Ana</th>\n",
       "      <th>Mira</th>\n",
       "      <th>mean_movement_annotation</th>\n",
       "      <th>is_train</th>\n",
       "      <th>LinearRegression mean_movement_annotation</th>\n",
       "      <th>MLPRegressor mean_movement_annotation</th>\n",
       "      <th>SVR mean_movement_annotation</th>\n",
       "    </tr>\n",
       "  </thead>\n",
       "  <tbody>\n",
       "    <tr>\n",
       "      <th>0</th>\n",
       "      <td>Ekn_Ana_3.mp4</td>\n",
       "      <td>00:00:01 stitch_start\\n00:00:24 knot_start\\n00...</td>\n",
       "      <td>1.0</td>\n",
       "      <td>http://suran.kky.zcu.cz:8000//uploader/web_rep...</td>\n",
       "      <td>53.0</td>\n",
       "      <td>1.0</td>\n",
       "      <td>44.822485</td>\n",
       "      <td>89.053254</td>\n",
       "      <td>2.146999</td>\n",
       "      <td>45.066667</td>\n",
       "      <td>...</td>\n",
       "      <td>1</td>\n",
       "      <td>Ekn_Ana_3.mp4_0</td>\n",
       "      <td>4.2</td>\n",
       "      <td>4.333333</td>\n",
       "      <td>5.0</td>\n",
       "      <td>4.511111</td>\n",
       "      <td>0.0</td>\n",
       "      <td>4.069516</td>\n",
       "      <td>4.008933</td>\n",
       "      <td>4.105752</td>\n",
       "    </tr>\n",
       "    <tr>\n",
       "      <th>1</th>\n",
       "      <td>Ekn_Ana_2.mp4</td>\n",
       "      <td>00:00:02 stitch_start\\n00:00:21 knot_start\\n00...</td>\n",
       "      <td>1.0</td>\n",
       "      <td>http://suran.kky.zcu.cz:8000//uploader/web_rep...</td>\n",
       "      <td>50.0</td>\n",
       "      <td>2.0</td>\n",
       "      <td>54.172989</td>\n",
       "      <td>94.992413</td>\n",
       "      <td>1.920482</td>\n",
       "      <td>43.933333</td>\n",
       "      <td>...</td>\n",
       "      <td>1</td>\n",
       "      <td>Ekn_Ana_2.mp4_0</td>\n",
       "      <td>4.6</td>\n",
       "      <td>4.666667</td>\n",
       "      <td>5.0</td>\n",
       "      <td>4.755556</td>\n",
       "      <td>1.0</td>\n",
       "      <td>4.145910</td>\n",
       "      <td>4.019103</td>\n",
       "      <td>4.224466</td>\n",
       "    </tr>\n",
       "    <tr>\n",
       "      <th>2</th>\n",
       "      <td>Ekn_Ana_4.mp4</td>\n",
       "      <td>00:00:01 stitch_start\\n00:00:21 knot_start\\n00...</td>\n",
       "      <td>1.0</td>\n",
       "      <td>http://suran.kky.zcu.cz:8000//uploader/web_rep...</td>\n",
       "      <td>51.0</td>\n",
       "      <td>1.0</td>\n",
       "      <td>61.417323</td>\n",
       "      <td>94.015748</td>\n",
       "      <td>1.920755</td>\n",
       "      <td>42.333333</td>\n",
       "      <td>...</td>\n",
       "      <td>1</td>\n",
       "      <td>Ekn_Ana_4.mp4_0</td>\n",
       "      <td>3.2</td>\n",
       "      <td>3.666667</td>\n",
       "      <td>4.5</td>\n",
       "      <td>3.788889</td>\n",
       "      <td>1.0</td>\n",
       "      <td>4.080613</td>\n",
       "      <td>3.974225</td>\n",
       "      <td>4.131889</td>\n",
       "    </tr>\n",
       "    <tr>\n",
       "      <th>3</th>\n",
       "      <td>Ekn_Ana_1.mp4</td>\n",
       "      <td>00:00:01 stitch_start\\n00:00:22 knot_end\\n00:0...</td>\n",
       "      <td>1.0</td>\n",
       "      <td>http://suran.kky.zcu.cz:8000//uploader/web_rep...</td>\n",
       "      <td>48.0</td>\n",
       "      <td>1.0</td>\n",
       "      <td>44.511278</td>\n",
       "      <td>68.270677</td>\n",
       "      <td>3.370340</td>\n",
       "      <td>44.333333</td>\n",
       "      <td>...</td>\n",
       "      <td>1</td>\n",
       "      <td>Ekn_Ana_1.mp4_0</td>\n",
       "      <td>4.4</td>\n",
       "      <td>4.333333</td>\n",
       "      <td>5.0</td>\n",
       "      <td>4.577778</td>\n",
       "      <td>1.0</td>\n",
       "      <td>4.220112</td>\n",
       "      <td>4.156992</td>\n",
       "      <td>4.254250</td>\n",
       "    </tr>\n",
       "    <tr>\n",
       "      <th>4</th>\n",
       "      <td>Ekn_Ana_5.mp4</td>\n",
       "      <td>00:00:00 stitch_start\\n00:00:17 knot_start\\n00...</td>\n",
       "      <td>1.0</td>\n",
       "      <td>http://suran.kky.zcu.cz:8000//uploader/web_rep...</td>\n",
       "      <td>43.0</td>\n",
       "      <td>0.0</td>\n",
       "      <td>36.909091</td>\n",
       "      <td>84.000000</td>\n",
       "      <td>2.854883</td>\n",
       "      <td>36.666667</td>\n",
       "      <td>...</td>\n",
       "      <td>1</td>\n",
       "      <td>Ekn_Ana_5.mp4_0</td>\n",
       "      <td>3.2</td>\n",
       "      <td>3.666667</td>\n",
       "      <td>5.0</td>\n",
       "      <td>3.955556</td>\n",
       "      <td>0.0</td>\n",
       "      <td>4.231069</td>\n",
       "      <td>4.146621</td>\n",
       "      <td>4.305917</td>\n",
       "    </tr>\n",
       "    <tr>\n",
       "      <th>...</th>\n",
       "      <td>...</td>\n",
       "      <td>...</td>\n",
       "      <td>...</td>\n",
       "      <td>...</td>\n",
       "      <td>...</td>\n",
       "      <td>...</td>\n",
       "      <td>...</td>\n",
       "      <td>...</td>\n",
       "      <td>...</td>\n",
       "      <td>...</td>\n",
       "      <td>...</td>\n",
       "      <td>...</td>\n",
       "      <td>...</td>\n",
       "      <td>...</td>\n",
       "      <td>...</td>\n",
       "      <td>...</td>\n",
       "      <td>...</td>\n",
       "      <td>...</td>\n",
       "      <td>...</td>\n",
       "      <td>...</td>\n",
       "      <td>...</td>\n",
       "    </tr>\n",
       "    <tr>\n",
       "      <th>82</th>\n",
       "      <td>Bildschirmaufnahme_2022-10-11_um_11.20.24.mov</td>\n",
       "      <td>00:00:17 stitch_start\\n00:01:41 knot_start\\n00...</td>\n",
       "      <td>1.0</td>\n",
       "      <td>http://suran.kky.zcu.cz:8000//uploader/web_rep...</td>\n",
       "      <td>121.0</td>\n",
       "      <td>552.0</td>\n",
       "      <td>82.840237</td>\n",
       "      <td>92.504931</td>\n",
       "      <td>3.348492</td>\n",
       "      <td>101.400000</td>\n",
       "      <td>...</td>\n",
       "      <td>0</td>\n",
       "      <td>Bildschirmaufnahme_2022-10-11_um_11.20.24.mov_3</td>\n",
       "      <td>2.6</td>\n",
       "      <td>3.000000</td>\n",
       "      <td>4.0</td>\n",
       "      <td>3.200000</td>\n",
       "      <td>1.0</td>\n",
       "      <td>2.955111</td>\n",
       "      <td>3.033193</td>\n",
       "      <td>2.965313</td>\n",
       "    </tr>\n",
       "    <tr>\n",
       "      <th>83</th>\n",
       "      <td>Schiesser_David_post_test.mp4</td>\n",
       "      <td>00:00:04 stitch_start\\n00:00:47 knot_start\\n00...</td>\n",
       "      <td>1.0</td>\n",
       "      <td>http://suran.kky.zcu.cz:8000//uploader/web_rep...</td>\n",
       "      <td>58.0</td>\n",
       "      <td>195.0</td>\n",
       "      <td>78.386167</td>\n",
       "      <td>93.227666</td>\n",
       "      <td>2.580827</td>\n",
       "      <td>46.266667</td>\n",
       "      <td>...</td>\n",
       "      <td>0</td>\n",
       "      <td>Schiesser_David_post_test.mp4_3</td>\n",
       "      <td>3.8</td>\n",
       "      <td>4.250000</td>\n",
       "      <td>3.0</td>\n",
       "      <td>3.683333</td>\n",
       "      <td>NaN</td>\n",
       "      <td>3.928319</td>\n",
       "      <td>3.947800</td>\n",
       "      <td>4.028566</td>\n",
       "    </tr>\n",
       "    <tr>\n",
       "      <th>84</th>\n",
       "      <td>Einzelknopfnaht_Schwein_Kerstin_Preuß.mp4</td>\n",
       "      <td>00:00:06 stitch_start\\n00:00:32 knot_start \\n0...</td>\n",
       "      <td>1.0</td>\n",
       "      <td>http://suran.kky.zcu.cz:8000//uploader/web_rep...</td>\n",
       "      <td>50.0</td>\n",
       "      <td>240.0</td>\n",
       "      <td>83.281250</td>\n",
       "      <td>93.125000</td>\n",
       "      <td>2.302644</td>\n",
       "      <td>42.666667</td>\n",
       "      <td>...</td>\n",
       "      <td>0</td>\n",
       "      <td>Einzelknopfnaht_Schwein_Kerstin_Preuß.mp4_4</td>\n",
       "      <td>3.8</td>\n",
       "      <td>3.500000</td>\n",
       "      <td>4.0</td>\n",
       "      <td>3.766667</td>\n",
       "      <td>NaN</td>\n",
       "      <td>4.120399</td>\n",
       "      <td>3.966669</td>\n",
       "      <td>4.090838</td>\n",
       "    </tr>\n",
       "    <tr>\n",
       "      <th>85</th>\n",
       "      <td>Stresstest_Einzelknopfnaht.mp4</td>\n",
       "      <td>Das Ergebnis finde ich sehr schön. Die Wundrän...</td>\n",
       "      <td>1.0</td>\n",
       "      <td>http://suran.kky.zcu.cz:8000//uploader/web_rep...</td>\n",
       "      <td>54.0</td>\n",
       "      <td>348.0</td>\n",
       "      <td>89.949749</td>\n",
       "      <td>99.874372</td>\n",
       "      <td>1.301011</td>\n",
       "      <td>53.066667</td>\n",
       "      <td>...</td>\n",
       "      <td>0</td>\n",
       "      <td>Stresstest_Einzelknopfnaht.mp4_4</td>\n",
       "      <td>3.6</td>\n",
       "      <td>3.750000</td>\n",
       "      <td>5.0</td>\n",
       "      <td>4.116667</td>\n",
       "      <td>NaN</td>\n",
       "      <td>4.197564</td>\n",
       "      <td>4.060015</td>\n",
       "      <td>4.140068</td>\n",
       "    </tr>\n",
       "    <tr>\n",
       "      <th>86</th>\n",
       "      <td>Bildschirmaufnahme_2022-10-11_um_11.20.24.mov</td>\n",
       "      <td>00:00:17 stitch_start\\n00:01:41 knot_start\\n00...</td>\n",
       "      <td>1.0</td>\n",
       "      <td>http://suran.kky.zcu.cz:8000//uploader/web_rep...</td>\n",
       "      <td>101.0</td>\n",
       "      <td>698.0</td>\n",
       "      <td>72.877536</td>\n",
       "      <td>91.885800</td>\n",
       "      <td>2.801612</td>\n",
       "      <td>88.733333</td>\n",
       "      <td>...</td>\n",
       "      <td>0</td>\n",
       "      <td>Bildschirmaufnahme_2022-10-11_um_11.20.24.mov_4</td>\n",
       "      <td>3.2</td>\n",
       "      <td>4.000000</td>\n",
       "      <td>4.0</td>\n",
       "      <td>3.733333</td>\n",
       "      <td>NaN</td>\n",
       "      <td>3.361463</td>\n",
       "      <td>3.475077</td>\n",
       "      <td>3.305910</td>\n",
       "    </tr>\n",
       "  </tbody>\n",
       "</table>\n",
       "<p>87 rows × 121 columns</p>\n",
       "</div>"
      ]
     },
     "execution_count": 1,
     "metadata": {},
     "output_type": "execute_result"
    }
   ],
   "execution_count": 1
  },
  {
   "metadata": {
    "ExecuteTime": {
     "end_time": "2024-09-26T12:52:21.440149Z",
     "start_time": "2024-09-26T12:52:21.422851Z"
    }
   },
   "cell_type": "code",
   "source": [
    "annotators = [\"Carina\", \"Ana\", \"Mira\"]\n",
    "\n",
    "dfall[\"mean_movement_annotation\"] = dfall[annotators].mean(axis=1)\n",
    "dfall.mean_movement_annotation.describe()"
   ],
   "id": "9b3484be59bee8eb",
   "outputs": [
    {
     "data": {
      "text/plain": [
       "count    87.000000\n",
       "mean      3.596807\n",
       "std       0.829074\n",
       "min       1.355556\n",
       "25%       3.125000\n",
       "50%       3.683333\n",
       "75%       4.244444\n",
       "max       5.000000\n",
       "Name: mean_movement_annotation, dtype: float64"
      ]
     },
     "execution_count": 2,
     "metadata": {},
     "output_type": "execute_result"
    }
   ],
   "execution_count": 2
  },
  {
   "metadata": {
    "ExecuteTime": {
     "end_time": "2024-09-26T12:52:33.883052Z",
     "start_time": "2024-09-26T12:52:33.878815Z"
    }
   },
   "cell_type": "code",
   "source": [
    "# pick numeric columns\n",
    "numeric_columns = dfall.select_dtypes(include=[np.number]).columns\n"
   ],
   "id": "820e4c45315bb245",
   "outputs": [],
   "execution_count": 3
  },
  {
   "metadata": {},
   "cell_type": "markdown",
   "source": "# Remove NaN values",
   "id": "89fe596a6f5d8917"
  },
  {
   "metadata": {
    "ExecuteTime": {
     "end_time": "2024-09-26T12:52:37.132723Z",
     "start_time": "2024-09-26T12:52:37.117494Z"
    }
   },
   "cell_type": "code",
   "source": [
    "# kick rows with a lot missing values\n",
    "missing_values_rows = dfall.isnull().sum(axis=1)\n",
    "missing_values_rows.sort_values(ascending=False)\n",
    "kicked_lines = dfall[missing_values_rows > 100]\n",
    "dfall = dfall.drop(kicked_lines.index)\n",
    "kicked_lines"
   ],
   "id": "85298d9932d9808b",
   "outputs": [
    {
     "data": {
      "text/plain": [
       "Empty DataFrame\n",
       "Columns: [filename, annotation_annotation_annotation, annotation_annotation_time_and_movements, report_url, Stitch duration [s], Stitch start at [s], Needle holder stitch area presence [%], Needle holder stitch median area presence [%], Needle holder stitch length [m], Needle holder stitch visibility [s], Needle holder stitch velocity, Needle holder stitch velocity std, Needle holder stitch velocity above threshold, Needle holder stitch velocity threshold [m/s], Needle holder stitch unit, Needle holder stitch visibility [%], Forceps stitch area presence [%], Forceps stitch median area presence [%], Forceps stitch length [m], Forceps stitch visibility [s], Forceps stitch velocity, Forceps stitch velocity std, Forceps stitch velocity above threshold, Forceps stitch velocity threshold [m/s], Forceps stitch unit, Forceps stitch visibility [%], Scissors stitch area presence [%], Scissors stitch median area presence [%], Scissors stitch length [m], Scissors stitch visibility [s], Scissors stitch velocity, Scissors stitch velocity std, Scissors stitch velocity above threshold, Scissors stitch velocity threshold [m/s], Scissors stitch unit, Scissors stitch visibility [%], Static quality stitch, Needle holder to forceps stitch average distance [m], Needle holder to forceps stitch below threshold [s], Needle holder to forceps stitch below threshold [%], Forceps bbox stitch unit, Needle holder bbox stitch unit, movement evaluation stitch, Knot duration [s], Knot start at [s], Needle holder knot area presence [%], Needle holder knot median area presence [%], Needle holder knot length [m], Needle holder knot visibility [s], Needle holder knot velocity, Needle holder knot velocity std, Needle holder knot velocity above threshold, Needle holder knot velocity threshold [m/s], Needle holder knot unit, Needle holder knot visibility [%], Forceps knot area presence [%], Forceps knot median area presence [%], Forceps knot length [m], Forceps knot visibility [s], Forceps knot velocity, Forceps knot velocity std, Forceps knot velocity above threshold, Forceps knot velocity threshold [m/s], Forceps knot unit, Forceps knot visibility [%], Scissors knot area presence [%], Scissors knot median area presence [%], Scissors knot length [m], Scissors knot visibility [s], Scissors knot velocity, Scissors knot velocity std, Scissors knot velocity above threshold, Scissors knot velocity threshold [m/s], Scissors knot unit, Scissors knot visibility [%], Needle holder to forceps knot average distance [m], Needle holder to forceps knot below threshold [s], Needle holder to forceps knot below threshold [%], Forceps bbox knot unit, Needle holder bbox knot unit, Piercing duration [s], Piercing start at [s], Needle holder piercing area presence [%], Needle holder piercing median area presence [%], Needle holder piercing length [m], Needle holder piercing visibility [s], Needle holder piercing velocity, Needle holder piercing velocity std, Needle holder piercing velocity above threshold, Needle holder piercing velocity threshold [m/s], Needle holder piercing unit, Needle holder piercing visibility [%], Forceps piercing area presence [%], Forceps piercing median area presence [%], Forceps piercing length [m], Forceps piercing visibility [s], Forceps piercing velocity, Forceps piercing velocity std, Forceps piercing velocity above threshold, Forceps piercing velocity threshold [m/s], ...]\n",
       "Index: []\n",
       "\n",
       "[0 rows x 121 columns]"
      ],
      "text/html": [
       "<div>\n",
       "<style scoped>\n",
       "    .dataframe tbody tr th:only-of-type {\n",
       "        vertical-align: middle;\n",
       "    }\n",
       "\n",
       "    .dataframe tbody tr th {\n",
       "        vertical-align: top;\n",
       "    }\n",
       "\n",
       "    .dataframe thead th {\n",
       "        text-align: right;\n",
       "    }\n",
       "</style>\n",
       "<table border=\"1\" class=\"dataframe\">\n",
       "  <thead>\n",
       "    <tr style=\"text-align: right;\">\n",
       "      <th></th>\n",
       "      <th>filename</th>\n",
       "      <th>annotation_annotation_annotation</th>\n",
       "      <th>annotation_annotation_time_and_movements</th>\n",
       "      <th>report_url</th>\n",
       "      <th>Stitch duration [s]</th>\n",
       "      <th>Stitch start at [s]</th>\n",
       "      <th>Needle holder stitch area presence [%]</th>\n",
       "      <th>Needle holder stitch median area presence [%]</th>\n",
       "      <th>Needle holder stitch length [m]</th>\n",
       "      <th>Needle holder stitch visibility [s]</th>\n",
       "      <th>...</th>\n",
       "      <th>done_by_expert</th>\n",
       "      <th>file_stitch</th>\n",
       "      <th>Carina</th>\n",
       "      <th>Ana</th>\n",
       "      <th>Mira</th>\n",
       "      <th>mean_movement_annotation</th>\n",
       "      <th>is_train</th>\n",
       "      <th>LinearRegression mean_movement_annotation</th>\n",
       "      <th>MLPRegressor mean_movement_annotation</th>\n",
       "      <th>SVR mean_movement_annotation</th>\n",
       "    </tr>\n",
       "  </thead>\n",
       "  <tbody>\n",
       "  </tbody>\n",
       "</table>\n",
       "<p>0 rows × 121 columns</p>\n",
       "</div>"
      ]
     },
     "execution_count": 4,
     "metadata": {},
     "output_type": "execute_result"
    }
   ],
   "execution_count": 4
  },
  {
   "metadata": {
    "ExecuteTime": {
     "end_time": "2024-09-26T12:52:46.850465Z",
     "start_time": "2024-09-26T12:52:46.843510Z"
    }
   },
   "cell_type": "code",
   "source": [
    "# from numeric columns remove columns with lot of missing values\n",
    "missing_values_columns = dfall[numeric_columns].isnull().sum()\n",
    "missing_values_columns.sort_values(ascending=False)\n",
    "kicked_columns = missing_values_columns[missing_values_columns > 20]\n",
    "dfall = dfall.drop(kicked_columns.index, axis=1)"
   ],
   "id": "17ceddec9bb17f4a",
   "outputs": [],
   "execution_count": 5
  },
  {
   "metadata": {
    "ExecuteTime": {
     "end_time": "2024-09-26T12:52:49.583523Z",
     "start_time": "2024-09-26T12:52:49.576239Z"
    }
   },
   "cell_type": "code",
   "source": [
    "relevant_column = \"mean_movement_annotation\"\n",
    "annotation_columns = annotators + [\"mean_movement_annotation\", \"movement evaluation stitch\", \"done_by_expert\", \"annotation_annotation_time_and_movements\"]\n",
    "id_numeric_columns = [\"stitch_id\"]\n",
    "sample_id_cols = [\"filename\", \"stitch_id\"]\n",
    "predicted_columns = [relevant_column]  # list(corr.columns[corr.columns.str.contains(\"is_pretest_num\")])\n",
    "predicted_columns_extended = [relevant_column]  + annotators\n",
    "\n",
    "numeric_columns = dfall.select_dtypes(include=[np.number]).columns\n",
    "measured_columns = numeric_columns.drop(annotation_columns + id_numeric_columns)\n",
    "dfall.shape"
   ],
   "id": "eb3ec96ddeb3f117",
   "outputs": [
    {
     "data": {
      "text/plain": [
       "(87, 121)"
      ]
     },
     "execution_count": 6,
     "metadata": {},
     "output_type": "execute_result"
    }
   ],
   "execution_count": 6
  },
  {
   "metadata": {
    "ExecuteTime": {
     "end_time": "2024-09-26T12:52:51.176886Z",
     "start_time": "2024-09-26T12:52:51.173847Z"
    }
   },
   "cell_type": "code",
   "source": "# measured_columns",
   "id": "ea34ee82e3f9f8cd",
   "outputs": [],
   "execution_count": 7
  },
  {
   "metadata": {
    "ExecuteTime": {
     "end_time": "2024-09-26T12:52:53.710669Z",
     "start_time": "2024-09-26T12:52:53.707405Z"
    }
   },
   "cell_type": "code",
   "source": "# measured_columns.append(\"mean_movement_annotation\")",
   "id": "83e7739356995eec",
   "outputs": [],
   "execution_count": 8
  },
  {
   "metadata": {
    "ExecuteTime": {
     "end_time": "2024-09-26T12:53:54.211821Z",
     "start_time": "2024-09-26T12:53:54.208816Z"
    }
   },
   "cell_type": "code",
   "source": [
    "# correlation of all columns with the mean_movement_annotation\n",
    "# correlations"
   ],
   "id": "c1c0dd1d8f55eed7",
   "outputs": [],
   "execution_count": 9
  },
  {
   "metadata": {
    "ExecuteTime": {
     "end_time": "2024-09-26T12:53:54.733890Z",
     "start_time": "2024-09-26T12:53:54.731632Z"
    }
   },
   "cell_type": "code",
   "source": "",
   "id": "498d0c80d6ce46df",
   "outputs": [],
   "execution_count": 9
  },
  {
   "metadata": {
    "ExecuteTime": {
     "end_time": "2024-09-26T12:53:55.314763Z",
     "start_time": "2024-09-26T12:53:55.306071Z"
    }
   },
   "cell_type": "code",
   "source": [
    "dfst = dfall\n",
    "corr = dfall[list(measured_columns) + [relevant_column]].corr()[\"mean_movement_annotation\"].abs().sort_values(ascending=False).head(21)\n",
    "# corr = dfst.corr(numeric_only=True)[relevant_column].abs().sort_values(ascending=False).head(10)\n",
    "corr = corr[corr.index != relevant_column]\n",
    "cols_X = list(corr.index)\n",
    "corr\n"
   ],
   "id": "b0632078a5154ac8",
   "outputs": [
    {
     "data": {
      "text/plain": [
       "SVR mean_movement_annotation                             0.863031\n",
       "LinearRegression mean_movement_annotation                0.849317\n",
       "MLPRegressor mean_movement_annotation                    0.834907\n",
       "Stitch duration [s]                                      0.798597\n",
       "Piercing duration [s]                                    0.782844\n",
       "Knot duration [s]                                        0.711262\n",
       "Needle holder piercing visibility [s]                    0.667457\n",
       "Needle holder stitch visibility [s]                      0.661771\n",
       "Needle holder to forceps stitch below threshold [s]      0.660344\n",
       "Needle holder to forceps piercing below threshold [s]    0.647396\n",
       "Forceps stitch visibility [s]                            0.606019\n",
       "Forceps piercing visibility [s]                          0.598836\n",
       "Needle holder stitch velocity above threshold            0.561988\n",
       "Needle holder knot visibility [s]                        0.521281\n",
       "Scissors stitch visibility [s]                           0.497707\n",
       "Forceps stitch length [m]                                0.492124\n",
       "Forceps piercing length [m]                              0.489134\n",
       "Needle holder piercing length [m]                        0.480851\n",
       "Needle holder knot velocity above threshold              0.474260\n",
       "Needle holder stitch length [m]                          0.463481\n",
       "Name: mean_movement_annotation, dtype: float64"
      ]
     },
     "execution_count": 10,
     "metadata": {},
     "output_type": "execute_result"
    }
   ],
   "execution_count": 10
  },
  {
   "metadata": {},
   "cell_type": "markdown",
   "source": "# Separate good and bad students\n",
   "id": "5abeedc8e10256f"
  },
  {
   "metadata": {},
   "cell_type": "code",
   "outputs": [],
   "execution_count": 94,
   "source": "import plotly.express as px\n",
   "id": "f5a6807454ea5d2a"
  },
  {
   "metadata": {
    "ExecuteTime": {
     "end_time": "2024-09-26T19:13:54.649638Z",
     "start_time": "2024-09-26T19:13:54.582953Z"
    }
   },
   "cell_type": "code",
   "source": [
    "med = dfst[\"mean_movement_annotation\"].median()\n",
    "# find the threshold beteween experts and students based on KDE model of each group descriped by done_by_expert\n",
    "kde_expert = scipy.stats.gaussian_kde(dfst[dfst.done_by_expert==1][\"mean_movement_annotation\"].dropna())\n",
    "kde_student = scipy.stats.gaussian_kde(dfst[dfst.done_by_expert==0][\"mean_movement_annotation\"].dropna())\n",
    "\n",
    "\n",
    "\n",
    "# find the intersection of the two KDEs\n",
    "from scipy.optimize import fsolve\n",
    "def findIntersection(fun1, fun2, x0):\n",
    "    return fsolve(lambda x : fun1(x) - fun2(x), x0)\n",
    "intersection = findIntersection(kde_expert, kde_student, med)\n",
    "intersection\n",
    "\n",
    "fig = px.histogram(dfst, x=\"mean_movement_annotation\", title=\"mean_movement_annotation\",\n",
    "             color=\"done_by_expert\", opacity=0.5, nbins=100)\n",
    "# draw vline\n",
    "fig.add_vline(x=intersection[0], line_width=3, line_dash=\"dash\", line_color=\"green\", annotation_text=f\"intersection={intersection[0]:.2f}\", annotation_position=\"top right\")\n",
    "dfst[\"level\"] = \"expert\"\n",
    "dfst[\"level\"][dfst[\"mean_movement_annotation\"] < intersection[0]] = \"student\"\n",
    "\n",
    "fig.show()\n"
   ],
   "id": "2f4727671e13abbd",
   "outputs": [
    {
     "data": {
      "application/vnd.plotly.v1+json": {
       "data": [
        {
         "alignmentgroup": "True",
         "bingroup": "x",
         "hovertemplate": "done_by_expert=1<br>mean_movement_annotation=%{x}<br>count=%{y}<extra></extra>",
         "legendgroup": "1",
         "marker": {
          "color": "#636efa",
          "opacity": 0.5,
          "pattern": {
           "shape": ""
          }
         },
         "name": "1",
         "nbinsx": 100,
         "offsetgroup": "1",
         "orientation": "v",
         "showlegend": true,
         "x": [
          4.511111111,
          4.755555555666667,
          3.7888888890000003,
          4.577777777666667,
          3.955555555666667,
          4.888888889,
          4.511111111,
          4.888888889,
          4.333333333333333,
          4.644444444333334,
          4.222222222333333,
          4.333333333333333,
          4.333333333333333,
          4.022222222333333,
          3.8444444443333334,
          4.444444444333333,
          4.8,
          4.822222222333333,
          4.266666666666667,
          5.0,
          4.511111111,
          4.755555555666667,
          3.955555555666667,
          3.8444444443333334,
          3.8444444443333334,
          3.044444444333333,
          3.733333333333333,
          3.4
         ],
         "xaxis": "x",
         "yaxis": "y",
         "type": "histogram"
        },
        {
         "alignmentgroup": "True",
         "bingroup": "x",
         "hovertemplate": "done_by_expert=0<br>mean_movement_annotation=%{x}<br>count=%{y}<extra></extra>",
         "legendgroup": "0",
         "marker": {
          "color": "#EF553B",
          "opacity": 0.5,
          "pattern": {
           "shape": ""
          }
         },
         "name": "0",
         "nbinsx": 100,
         "offsetgroup": "0",
         "orientation": "v",
         "showlegend": true,
         "x": [
          3.3000000000000003,
          2.6666666666666665,
          3.0666666666666664,
          3.4166666666666665,
          3.6833333333333336,
          2.35,
          3.9333333333333336,
          1.9666666666666668,
          3.9499999999999997,
          3.6833333333333336,
          2.766666666666667,
          3.75,
          2.85,
          1.95,
          3.4333333333333336,
          3.5500000000000003,
          3.1166666666666667,
          3.1333333333333333,
          3.0833333333333335,
          3.3000000000000003,
          2.983333333333333,
          3.3555555556666667,
          3.6666666666666665,
          3.6833333333333336,
          2.183333333333333,
          3.516666666666667,
          3.266666666666667,
          3.511111111,
          3.466666666666667,
          1.3555555556666665,
          1.7833333333333332,
          3.733333333333333,
          2.6833333333333336,
          2.5166666666666666,
          3.1833333333333336,
          1.95,
          1.8,
          4.533333333333333,
          4.483333333333333,
          3.266666666666667,
          3.3222222223333335,
          3.9499999999999997,
          4.1499999999999995,
          2.2666666666666666,
          2.3666666666666667,
          4.083333333333333,
          3.8333333333333335,
          2.9777777776666667,
          4.133333333333334,
          2.75,
          3.4166666666666665,
          4.433333333333334,
          4.533333333333333,
          4.3,
          3.1999999999999997,
          3.6833333333333336,
          3.766666666666667,
          4.116666666666666,
          3.733333333333333
         ],
         "xaxis": "x",
         "yaxis": "y",
         "type": "histogram"
        }
       ],
       "layout": {
        "template": {
         "data": {
          "histogram2dcontour": [
           {
            "type": "histogram2dcontour",
            "colorbar": {
             "outlinewidth": 0,
             "ticks": ""
            },
            "colorscale": [
             [
              0.0,
              "#0d0887"
             ],
             [
              0.1111111111111111,
              "#46039f"
             ],
             [
              0.2222222222222222,
              "#7201a8"
             ],
             [
              0.3333333333333333,
              "#9c179e"
             ],
             [
              0.4444444444444444,
              "#bd3786"
             ],
             [
              0.5555555555555556,
              "#d8576b"
             ],
             [
              0.6666666666666666,
              "#ed7953"
             ],
             [
              0.7777777777777778,
              "#fb9f3a"
             ],
             [
              0.8888888888888888,
              "#fdca26"
             ],
             [
              1.0,
              "#f0f921"
             ]
            ]
           }
          ],
          "choropleth": [
           {
            "type": "choropleth",
            "colorbar": {
             "outlinewidth": 0,
             "ticks": ""
            }
           }
          ],
          "histogram2d": [
           {
            "type": "histogram2d",
            "colorbar": {
             "outlinewidth": 0,
             "ticks": ""
            },
            "colorscale": [
             [
              0.0,
              "#0d0887"
             ],
             [
              0.1111111111111111,
              "#46039f"
             ],
             [
              0.2222222222222222,
              "#7201a8"
             ],
             [
              0.3333333333333333,
              "#9c179e"
             ],
             [
              0.4444444444444444,
              "#bd3786"
             ],
             [
              0.5555555555555556,
              "#d8576b"
             ],
             [
              0.6666666666666666,
              "#ed7953"
             ],
             [
              0.7777777777777778,
              "#fb9f3a"
             ],
             [
              0.8888888888888888,
              "#fdca26"
             ],
             [
              1.0,
              "#f0f921"
             ]
            ]
           }
          ],
          "heatmap": [
           {
            "type": "heatmap",
            "colorbar": {
             "outlinewidth": 0,
             "ticks": ""
            },
            "colorscale": [
             [
              0.0,
              "#0d0887"
             ],
             [
              0.1111111111111111,
              "#46039f"
             ],
             [
              0.2222222222222222,
              "#7201a8"
             ],
             [
              0.3333333333333333,
              "#9c179e"
             ],
             [
              0.4444444444444444,
              "#bd3786"
             ],
             [
              0.5555555555555556,
              "#d8576b"
             ],
             [
              0.6666666666666666,
              "#ed7953"
             ],
             [
              0.7777777777777778,
              "#fb9f3a"
             ],
             [
              0.8888888888888888,
              "#fdca26"
             ],
             [
              1.0,
              "#f0f921"
             ]
            ]
           }
          ],
          "heatmapgl": [
           {
            "type": "heatmapgl",
            "colorbar": {
             "outlinewidth": 0,
             "ticks": ""
            },
            "colorscale": [
             [
              0.0,
              "#0d0887"
             ],
             [
              0.1111111111111111,
              "#46039f"
             ],
             [
              0.2222222222222222,
              "#7201a8"
             ],
             [
              0.3333333333333333,
              "#9c179e"
             ],
             [
              0.4444444444444444,
              "#bd3786"
             ],
             [
              0.5555555555555556,
              "#d8576b"
             ],
             [
              0.6666666666666666,
              "#ed7953"
             ],
             [
              0.7777777777777778,
              "#fb9f3a"
             ],
             [
              0.8888888888888888,
              "#fdca26"
             ],
             [
              1.0,
              "#f0f921"
             ]
            ]
           }
          ],
          "contourcarpet": [
           {
            "type": "contourcarpet",
            "colorbar": {
             "outlinewidth": 0,
             "ticks": ""
            }
           }
          ],
          "contour": [
           {
            "type": "contour",
            "colorbar": {
             "outlinewidth": 0,
             "ticks": ""
            },
            "colorscale": [
             [
              0.0,
              "#0d0887"
             ],
             [
              0.1111111111111111,
              "#46039f"
             ],
             [
              0.2222222222222222,
              "#7201a8"
             ],
             [
              0.3333333333333333,
              "#9c179e"
             ],
             [
              0.4444444444444444,
              "#bd3786"
             ],
             [
              0.5555555555555556,
              "#d8576b"
             ],
             [
              0.6666666666666666,
              "#ed7953"
             ],
             [
              0.7777777777777778,
              "#fb9f3a"
             ],
             [
              0.8888888888888888,
              "#fdca26"
             ],
             [
              1.0,
              "#f0f921"
             ]
            ]
           }
          ],
          "surface": [
           {
            "type": "surface",
            "colorbar": {
             "outlinewidth": 0,
             "ticks": ""
            },
            "colorscale": [
             [
              0.0,
              "#0d0887"
             ],
             [
              0.1111111111111111,
              "#46039f"
             ],
             [
              0.2222222222222222,
              "#7201a8"
             ],
             [
              0.3333333333333333,
              "#9c179e"
             ],
             [
              0.4444444444444444,
              "#bd3786"
             ],
             [
              0.5555555555555556,
              "#d8576b"
             ],
             [
              0.6666666666666666,
              "#ed7953"
             ],
             [
              0.7777777777777778,
              "#fb9f3a"
             ],
             [
              0.8888888888888888,
              "#fdca26"
             ],
             [
              1.0,
              "#f0f921"
             ]
            ]
           }
          ],
          "mesh3d": [
           {
            "type": "mesh3d",
            "colorbar": {
             "outlinewidth": 0,
             "ticks": ""
            }
           }
          ],
          "scatter": [
           {
            "fillpattern": {
             "fillmode": "overlay",
             "size": 10,
             "solidity": 0.2
            },
            "type": "scatter"
           }
          ],
          "parcoords": [
           {
            "type": "parcoords",
            "line": {
             "colorbar": {
              "outlinewidth": 0,
              "ticks": ""
             }
            }
           }
          ],
          "scatterpolargl": [
           {
            "type": "scatterpolargl",
            "marker": {
             "colorbar": {
              "outlinewidth": 0,
              "ticks": ""
             }
            }
           }
          ],
          "bar": [
           {
            "error_x": {
             "color": "#2a3f5f"
            },
            "error_y": {
             "color": "#2a3f5f"
            },
            "marker": {
             "line": {
              "color": "#E5ECF6",
              "width": 0.5
             },
             "pattern": {
              "fillmode": "overlay",
              "size": 10,
              "solidity": 0.2
             }
            },
            "type": "bar"
           }
          ],
          "scattergeo": [
           {
            "type": "scattergeo",
            "marker": {
             "colorbar": {
              "outlinewidth": 0,
              "ticks": ""
             }
            }
           }
          ],
          "scatterpolar": [
           {
            "type": "scatterpolar",
            "marker": {
             "colorbar": {
              "outlinewidth": 0,
              "ticks": ""
             }
            }
           }
          ],
          "histogram": [
           {
            "marker": {
             "pattern": {
              "fillmode": "overlay",
              "size": 10,
              "solidity": 0.2
             }
            },
            "type": "histogram"
           }
          ],
          "scattergl": [
           {
            "type": "scattergl",
            "marker": {
             "colorbar": {
              "outlinewidth": 0,
              "ticks": ""
             }
            }
           }
          ],
          "scatter3d": [
           {
            "type": "scatter3d",
            "line": {
             "colorbar": {
              "outlinewidth": 0,
              "ticks": ""
             }
            },
            "marker": {
             "colorbar": {
              "outlinewidth": 0,
              "ticks": ""
             }
            }
           }
          ],
          "scattermapbox": [
           {
            "type": "scattermapbox",
            "marker": {
             "colorbar": {
              "outlinewidth": 0,
              "ticks": ""
             }
            }
           }
          ],
          "scatterternary": [
           {
            "type": "scatterternary",
            "marker": {
             "colorbar": {
              "outlinewidth": 0,
              "ticks": ""
             }
            }
           }
          ],
          "scattercarpet": [
           {
            "type": "scattercarpet",
            "marker": {
             "colorbar": {
              "outlinewidth": 0,
              "ticks": ""
             }
            }
           }
          ],
          "carpet": [
           {
            "aaxis": {
             "endlinecolor": "#2a3f5f",
             "gridcolor": "white",
             "linecolor": "white",
             "minorgridcolor": "white",
             "startlinecolor": "#2a3f5f"
            },
            "baxis": {
             "endlinecolor": "#2a3f5f",
             "gridcolor": "white",
             "linecolor": "white",
             "minorgridcolor": "white",
             "startlinecolor": "#2a3f5f"
            },
            "type": "carpet"
           }
          ],
          "table": [
           {
            "cells": {
             "fill": {
              "color": "#EBF0F8"
             },
             "line": {
              "color": "white"
             }
            },
            "header": {
             "fill": {
              "color": "#C8D4E3"
             },
             "line": {
              "color": "white"
             }
            },
            "type": "table"
           }
          ],
          "barpolar": [
           {
            "marker": {
             "line": {
              "color": "#E5ECF6",
              "width": 0.5
             },
             "pattern": {
              "fillmode": "overlay",
              "size": 10,
              "solidity": 0.2
             }
            },
            "type": "barpolar"
           }
          ],
          "pie": [
           {
            "automargin": true,
            "type": "pie"
           }
          ]
         },
         "layout": {
          "autotypenumbers": "strict",
          "colorway": [
           "#636efa",
           "#EF553B",
           "#00cc96",
           "#ab63fa",
           "#FFA15A",
           "#19d3f3",
           "#FF6692",
           "#B6E880",
           "#FF97FF",
           "#FECB52"
          ],
          "font": {
           "color": "#2a3f5f"
          },
          "hovermode": "closest",
          "hoverlabel": {
           "align": "left"
          },
          "paper_bgcolor": "white",
          "plot_bgcolor": "#E5ECF6",
          "polar": {
           "bgcolor": "#E5ECF6",
           "angularaxis": {
            "gridcolor": "white",
            "linecolor": "white",
            "ticks": ""
           },
           "radialaxis": {
            "gridcolor": "white",
            "linecolor": "white",
            "ticks": ""
           }
          },
          "ternary": {
           "bgcolor": "#E5ECF6",
           "aaxis": {
            "gridcolor": "white",
            "linecolor": "white",
            "ticks": ""
           },
           "baxis": {
            "gridcolor": "white",
            "linecolor": "white",
            "ticks": ""
           },
           "caxis": {
            "gridcolor": "white",
            "linecolor": "white",
            "ticks": ""
           }
          },
          "coloraxis": {
           "colorbar": {
            "outlinewidth": 0,
            "ticks": ""
           }
          },
          "colorscale": {
           "sequential": [
            [
             0.0,
             "#0d0887"
            ],
            [
             0.1111111111111111,
             "#46039f"
            ],
            [
             0.2222222222222222,
             "#7201a8"
            ],
            [
             0.3333333333333333,
             "#9c179e"
            ],
            [
             0.4444444444444444,
             "#bd3786"
            ],
            [
             0.5555555555555556,
             "#d8576b"
            ],
            [
             0.6666666666666666,
             "#ed7953"
            ],
            [
             0.7777777777777778,
             "#fb9f3a"
            ],
            [
             0.8888888888888888,
             "#fdca26"
            ],
            [
             1.0,
             "#f0f921"
            ]
           ],
           "sequentialminus": [
            [
             0.0,
             "#0d0887"
            ],
            [
             0.1111111111111111,
             "#46039f"
            ],
            [
             0.2222222222222222,
             "#7201a8"
            ],
            [
             0.3333333333333333,
             "#9c179e"
            ],
            [
             0.4444444444444444,
             "#bd3786"
            ],
            [
             0.5555555555555556,
             "#d8576b"
            ],
            [
             0.6666666666666666,
             "#ed7953"
            ],
            [
             0.7777777777777778,
             "#fb9f3a"
            ],
            [
             0.8888888888888888,
             "#fdca26"
            ],
            [
             1.0,
             "#f0f921"
            ]
           ],
           "diverging": [
            [
             0,
             "#8e0152"
            ],
            [
             0.1,
             "#c51b7d"
            ],
            [
             0.2,
             "#de77ae"
            ],
            [
             0.3,
             "#f1b6da"
            ],
            [
             0.4,
             "#fde0ef"
            ],
            [
             0.5,
             "#f7f7f7"
            ],
            [
             0.6,
             "#e6f5d0"
            ],
            [
             0.7,
             "#b8e186"
            ],
            [
             0.8,
             "#7fbc41"
            ],
            [
             0.9,
             "#4d9221"
            ],
            [
             1,
             "#276419"
            ]
           ]
          },
          "xaxis": {
           "gridcolor": "white",
           "linecolor": "white",
           "ticks": "",
           "title": {
            "standoff": 15
           },
           "zerolinecolor": "white",
           "automargin": true,
           "zerolinewidth": 2
          },
          "yaxis": {
           "gridcolor": "white",
           "linecolor": "white",
           "ticks": "",
           "title": {
            "standoff": 15
           },
           "zerolinecolor": "white",
           "automargin": true,
           "zerolinewidth": 2
          },
          "scene": {
           "xaxis": {
            "backgroundcolor": "#E5ECF6",
            "gridcolor": "white",
            "linecolor": "white",
            "showbackground": true,
            "ticks": "",
            "zerolinecolor": "white",
            "gridwidth": 2
           },
           "yaxis": {
            "backgroundcolor": "#E5ECF6",
            "gridcolor": "white",
            "linecolor": "white",
            "showbackground": true,
            "ticks": "",
            "zerolinecolor": "white",
            "gridwidth": 2
           },
           "zaxis": {
            "backgroundcolor": "#E5ECF6",
            "gridcolor": "white",
            "linecolor": "white",
            "showbackground": true,
            "ticks": "",
            "zerolinecolor": "white",
            "gridwidth": 2
           }
          },
          "shapedefaults": {
           "line": {
            "color": "#2a3f5f"
           }
          },
          "annotationdefaults": {
           "arrowcolor": "#2a3f5f",
           "arrowhead": 0,
           "arrowwidth": 1
          },
          "geo": {
           "bgcolor": "white",
           "landcolor": "#E5ECF6",
           "subunitcolor": "white",
           "showland": true,
           "showlakes": true,
           "lakecolor": "white"
          },
          "title": {
           "x": 0.05
          },
          "mapbox": {
           "style": "light"
          }
         }
        },
        "xaxis": {
         "anchor": "y",
         "domain": [
          0.0,
          1.0
         ],
         "title": {
          "text": "mean_movement_annotation"
         }
        },
        "yaxis": {
         "anchor": "x",
         "domain": [
          0.0,
          1.0
         ],
         "title": {
          "text": "count"
         }
        },
        "legend": {
         "title": {
          "text": "done_by_expert"
         },
         "tracegroupgap": 0
        },
        "title": {
         "text": "mean_movement_annotation"
        },
        "barmode": "relative",
        "shapes": [
         {
          "line": {
           "color": "green",
           "dash": "dash",
           "width": 3
          },
          "type": "line",
          "x0": 3.7894385084737086,
          "x1": 3.7894385084737086,
          "xref": "x",
          "y0": 0,
          "y1": 1,
          "yref": "y domain"
         }
        ],
        "annotations": [
         {
          "showarrow": false,
          "text": "intersection=3.79",
          "x": 3.7894385084737086,
          "xanchor": "left",
          "xref": "x",
          "y": 1,
          "yanchor": "top",
          "yref": "y domain"
         }
        ]
       },
       "config": {
        "plotlyServerURL": "https://plot.ly"
       }
      },
      "text/html": [
       "<div>                            <div id=\"85630ab5-98f8-4713-9310-d699c4a548cb\" class=\"plotly-graph-div\" style=\"height:525px; width:100%;\"></div>            <script type=\"text/javascript\">                require([\"plotly\"], function(Plotly) {                    window.PLOTLYENV=window.PLOTLYENV || {};                                    if (document.getElementById(\"85630ab5-98f8-4713-9310-d699c4a548cb\")) {                    Plotly.newPlot(                        \"85630ab5-98f8-4713-9310-d699c4a548cb\",                        [{\"alignmentgroup\":\"True\",\"bingroup\":\"x\",\"hovertemplate\":\"done_by_expert=1\\u003cbr\\u003emean_movement_annotation=%{x}\\u003cbr\\u003ecount=%{y}\\u003cextra\\u003e\\u003c\\u002fextra\\u003e\",\"legendgroup\":\"1\",\"marker\":{\"color\":\"#636efa\",\"opacity\":0.5,\"pattern\":{\"shape\":\"\"}},\"name\":\"1\",\"nbinsx\":100,\"offsetgroup\":\"1\",\"orientation\":\"v\",\"showlegend\":true,\"x\":[4.511111111,4.755555555666667,3.7888888890000003,4.577777777666667,3.955555555666667,4.888888889,4.511111111,4.888888889,4.333333333333333,4.644444444333334,4.222222222333333,4.333333333333333,4.333333333333333,4.022222222333333,3.8444444443333334,4.444444444333333,4.8,4.822222222333333,4.266666666666667,5.0,4.511111111,4.755555555666667,3.955555555666667,3.8444444443333334,3.8444444443333334,3.044444444333333,3.733333333333333,3.4],\"xaxis\":\"x\",\"yaxis\":\"y\",\"type\":\"histogram\"},{\"alignmentgroup\":\"True\",\"bingroup\":\"x\",\"hovertemplate\":\"done_by_expert=0\\u003cbr\\u003emean_movement_annotation=%{x}\\u003cbr\\u003ecount=%{y}\\u003cextra\\u003e\\u003c\\u002fextra\\u003e\",\"legendgroup\":\"0\",\"marker\":{\"color\":\"#EF553B\",\"opacity\":0.5,\"pattern\":{\"shape\":\"\"}},\"name\":\"0\",\"nbinsx\":100,\"offsetgroup\":\"0\",\"orientation\":\"v\",\"showlegend\":true,\"x\":[3.3000000000000003,2.6666666666666665,3.0666666666666664,3.4166666666666665,3.6833333333333336,2.35,3.9333333333333336,1.9666666666666668,3.9499999999999997,3.6833333333333336,2.766666666666667,3.75,2.85,1.95,3.4333333333333336,3.5500000000000003,3.1166666666666667,3.1333333333333333,3.0833333333333335,3.3000000000000003,2.983333333333333,3.3555555556666667,3.6666666666666665,3.6833333333333336,2.183333333333333,3.516666666666667,3.266666666666667,3.511111111,3.466666666666667,1.3555555556666665,1.7833333333333332,3.733333333333333,2.6833333333333336,2.5166666666666666,3.1833333333333336,1.95,1.8,4.533333333333333,4.483333333333333,3.266666666666667,3.3222222223333335,3.9499999999999997,4.1499999999999995,2.2666666666666666,2.3666666666666667,4.083333333333333,3.8333333333333335,2.9777777776666667,4.133333333333334,2.75,3.4166666666666665,4.433333333333334,4.533333333333333,4.3,3.1999999999999997,3.6833333333333336,3.766666666666667,4.116666666666666,3.733333333333333],\"xaxis\":\"x\",\"yaxis\":\"y\",\"type\":\"histogram\"}],                        {\"template\":{\"data\":{\"histogram2dcontour\":[{\"type\":\"histogram2dcontour\",\"colorbar\":{\"outlinewidth\":0,\"ticks\":\"\"},\"colorscale\":[[0.0,\"#0d0887\"],[0.1111111111111111,\"#46039f\"],[0.2222222222222222,\"#7201a8\"],[0.3333333333333333,\"#9c179e\"],[0.4444444444444444,\"#bd3786\"],[0.5555555555555556,\"#d8576b\"],[0.6666666666666666,\"#ed7953\"],[0.7777777777777778,\"#fb9f3a\"],[0.8888888888888888,\"#fdca26\"],[1.0,\"#f0f921\"]]}],\"choropleth\":[{\"type\":\"choropleth\",\"colorbar\":{\"outlinewidth\":0,\"ticks\":\"\"}}],\"histogram2d\":[{\"type\":\"histogram2d\",\"colorbar\":{\"outlinewidth\":0,\"ticks\":\"\"},\"colorscale\":[[0.0,\"#0d0887\"],[0.1111111111111111,\"#46039f\"],[0.2222222222222222,\"#7201a8\"],[0.3333333333333333,\"#9c179e\"],[0.4444444444444444,\"#bd3786\"],[0.5555555555555556,\"#d8576b\"],[0.6666666666666666,\"#ed7953\"],[0.7777777777777778,\"#fb9f3a\"],[0.8888888888888888,\"#fdca26\"],[1.0,\"#f0f921\"]]}],\"heatmap\":[{\"type\":\"heatmap\",\"colorbar\":{\"outlinewidth\":0,\"ticks\":\"\"},\"colorscale\":[[0.0,\"#0d0887\"],[0.1111111111111111,\"#46039f\"],[0.2222222222222222,\"#7201a8\"],[0.3333333333333333,\"#9c179e\"],[0.4444444444444444,\"#bd3786\"],[0.5555555555555556,\"#d8576b\"],[0.6666666666666666,\"#ed7953\"],[0.7777777777777778,\"#fb9f3a\"],[0.8888888888888888,\"#fdca26\"],[1.0,\"#f0f921\"]]}],\"heatmapgl\":[{\"type\":\"heatmapgl\",\"colorbar\":{\"outlinewidth\":0,\"ticks\":\"\"},\"colorscale\":[[0.0,\"#0d0887\"],[0.1111111111111111,\"#46039f\"],[0.2222222222222222,\"#7201a8\"],[0.3333333333333333,\"#9c179e\"],[0.4444444444444444,\"#bd3786\"],[0.5555555555555556,\"#d8576b\"],[0.6666666666666666,\"#ed7953\"],[0.7777777777777778,\"#fb9f3a\"],[0.8888888888888888,\"#fdca26\"],[1.0,\"#f0f921\"]]}],\"contourcarpet\":[{\"type\":\"contourcarpet\",\"colorbar\":{\"outlinewidth\":0,\"ticks\":\"\"}}],\"contour\":[{\"type\":\"contour\",\"colorbar\":{\"outlinewidth\":0,\"ticks\":\"\"},\"colorscale\":[[0.0,\"#0d0887\"],[0.1111111111111111,\"#46039f\"],[0.2222222222222222,\"#7201a8\"],[0.3333333333333333,\"#9c179e\"],[0.4444444444444444,\"#bd3786\"],[0.5555555555555556,\"#d8576b\"],[0.6666666666666666,\"#ed7953\"],[0.7777777777777778,\"#fb9f3a\"],[0.8888888888888888,\"#fdca26\"],[1.0,\"#f0f921\"]]}],\"surface\":[{\"type\":\"surface\",\"colorbar\":{\"outlinewidth\":0,\"ticks\":\"\"},\"colorscale\":[[0.0,\"#0d0887\"],[0.1111111111111111,\"#46039f\"],[0.2222222222222222,\"#7201a8\"],[0.3333333333333333,\"#9c179e\"],[0.4444444444444444,\"#bd3786\"],[0.5555555555555556,\"#d8576b\"],[0.6666666666666666,\"#ed7953\"],[0.7777777777777778,\"#fb9f3a\"],[0.8888888888888888,\"#fdca26\"],[1.0,\"#f0f921\"]]}],\"mesh3d\":[{\"type\":\"mesh3d\",\"colorbar\":{\"outlinewidth\":0,\"ticks\":\"\"}}],\"scatter\":[{\"fillpattern\":{\"fillmode\":\"overlay\",\"size\":10,\"solidity\":0.2},\"type\":\"scatter\"}],\"parcoords\":[{\"type\":\"parcoords\",\"line\":{\"colorbar\":{\"outlinewidth\":0,\"ticks\":\"\"}}}],\"scatterpolargl\":[{\"type\":\"scatterpolargl\",\"marker\":{\"colorbar\":{\"outlinewidth\":0,\"ticks\":\"\"}}}],\"bar\":[{\"error_x\":{\"color\":\"#2a3f5f\"},\"error_y\":{\"color\":\"#2a3f5f\"},\"marker\":{\"line\":{\"color\":\"#E5ECF6\",\"width\":0.5},\"pattern\":{\"fillmode\":\"overlay\",\"size\":10,\"solidity\":0.2}},\"type\":\"bar\"}],\"scattergeo\":[{\"type\":\"scattergeo\",\"marker\":{\"colorbar\":{\"outlinewidth\":0,\"ticks\":\"\"}}}],\"scatterpolar\":[{\"type\":\"scatterpolar\",\"marker\":{\"colorbar\":{\"outlinewidth\":0,\"ticks\":\"\"}}}],\"histogram\":[{\"marker\":{\"pattern\":{\"fillmode\":\"overlay\",\"size\":10,\"solidity\":0.2}},\"type\":\"histogram\"}],\"scattergl\":[{\"type\":\"scattergl\",\"marker\":{\"colorbar\":{\"outlinewidth\":0,\"ticks\":\"\"}}}],\"scatter3d\":[{\"type\":\"scatter3d\",\"line\":{\"colorbar\":{\"outlinewidth\":0,\"ticks\":\"\"}},\"marker\":{\"colorbar\":{\"outlinewidth\":0,\"ticks\":\"\"}}}],\"scattermapbox\":[{\"type\":\"scattermapbox\",\"marker\":{\"colorbar\":{\"outlinewidth\":0,\"ticks\":\"\"}}}],\"scatterternary\":[{\"type\":\"scatterternary\",\"marker\":{\"colorbar\":{\"outlinewidth\":0,\"ticks\":\"\"}}}],\"scattercarpet\":[{\"type\":\"scattercarpet\",\"marker\":{\"colorbar\":{\"outlinewidth\":0,\"ticks\":\"\"}}}],\"carpet\":[{\"aaxis\":{\"endlinecolor\":\"#2a3f5f\",\"gridcolor\":\"white\",\"linecolor\":\"white\",\"minorgridcolor\":\"white\",\"startlinecolor\":\"#2a3f5f\"},\"baxis\":{\"endlinecolor\":\"#2a3f5f\",\"gridcolor\":\"white\",\"linecolor\":\"white\",\"minorgridcolor\":\"white\",\"startlinecolor\":\"#2a3f5f\"},\"type\":\"carpet\"}],\"table\":[{\"cells\":{\"fill\":{\"color\":\"#EBF0F8\"},\"line\":{\"color\":\"white\"}},\"header\":{\"fill\":{\"color\":\"#C8D4E3\"},\"line\":{\"color\":\"white\"}},\"type\":\"table\"}],\"barpolar\":[{\"marker\":{\"line\":{\"color\":\"#E5ECF6\",\"width\":0.5},\"pattern\":{\"fillmode\":\"overlay\",\"size\":10,\"solidity\":0.2}},\"type\":\"barpolar\"}],\"pie\":[{\"automargin\":true,\"type\":\"pie\"}]},\"layout\":{\"autotypenumbers\":\"strict\",\"colorway\":[\"#636efa\",\"#EF553B\",\"#00cc96\",\"#ab63fa\",\"#FFA15A\",\"#19d3f3\",\"#FF6692\",\"#B6E880\",\"#FF97FF\",\"#FECB52\"],\"font\":{\"color\":\"#2a3f5f\"},\"hovermode\":\"closest\",\"hoverlabel\":{\"align\":\"left\"},\"paper_bgcolor\":\"white\",\"plot_bgcolor\":\"#E5ECF6\",\"polar\":{\"bgcolor\":\"#E5ECF6\",\"angularaxis\":{\"gridcolor\":\"white\",\"linecolor\":\"white\",\"ticks\":\"\"},\"radialaxis\":{\"gridcolor\":\"white\",\"linecolor\":\"white\",\"ticks\":\"\"}},\"ternary\":{\"bgcolor\":\"#E5ECF6\",\"aaxis\":{\"gridcolor\":\"white\",\"linecolor\":\"white\",\"ticks\":\"\"},\"baxis\":{\"gridcolor\":\"white\",\"linecolor\":\"white\",\"ticks\":\"\"},\"caxis\":{\"gridcolor\":\"white\",\"linecolor\":\"white\",\"ticks\":\"\"}},\"coloraxis\":{\"colorbar\":{\"outlinewidth\":0,\"ticks\":\"\"}},\"colorscale\":{\"sequential\":[[0.0,\"#0d0887\"],[0.1111111111111111,\"#46039f\"],[0.2222222222222222,\"#7201a8\"],[0.3333333333333333,\"#9c179e\"],[0.4444444444444444,\"#bd3786\"],[0.5555555555555556,\"#d8576b\"],[0.6666666666666666,\"#ed7953\"],[0.7777777777777778,\"#fb9f3a\"],[0.8888888888888888,\"#fdca26\"],[1.0,\"#f0f921\"]],\"sequentialminus\":[[0.0,\"#0d0887\"],[0.1111111111111111,\"#46039f\"],[0.2222222222222222,\"#7201a8\"],[0.3333333333333333,\"#9c179e\"],[0.4444444444444444,\"#bd3786\"],[0.5555555555555556,\"#d8576b\"],[0.6666666666666666,\"#ed7953\"],[0.7777777777777778,\"#fb9f3a\"],[0.8888888888888888,\"#fdca26\"],[1.0,\"#f0f921\"]],\"diverging\":[[0,\"#8e0152\"],[0.1,\"#c51b7d\"],[0.2,\"#de77ae\"],[0.3,\"#f1b6da\"],[0.4,\"#fde0ef\"],[0.5,\"#f7f7f7\"],[0.6,\"#e6f5d0\"],[0.7,\"#b8e186\"],[0.8,\"#7fbc41\"],[0.9,\"#4d9221\"],[1,\"#276419\"]]},\"xaxis\":{\"gridcolor\":\"white\",\"linecolor\":\"white\",\"ticks\":\"\",\"title\":{\"standoff\":15},\"zerolinecolor\":\"white\",\"automargin\":true,\"zerolinewidth\":2},\"yaxis\":{\"gridcolor\":\"white\",\"linecolor\":\"white\",\"ticks\":\"\",\"title\":{\"standoff\":15},\"zerolinecolor\":\"white\",\"automargin\":true,\"zerolinewidth\":2},\"scene\":{\"xaxis\":{\"backgroundcolor\":\"#E5ECF6\",\"gridcolor\":\"white\",\"linecolor\":\"white\",\"showbackground\":true,\"ticks\":\"\",\"zerolinecolor\":\"white\",\"gridwidth\":2},\"yaxis\":{\"backgroundcolor\":\"#E5ECF6\",\"gridcolor\":\"white\",\"linecolor\":\"white\",\"showbackground\":true,\"ticks\":\"\",\"zerolinecolor\":\"white\",\"gridwidth\":2},\"zaxis\":{\"backgroundcolor\":\"#E5ECF6\",\"gridcolor\":\"white\",\"linecolor\":\"white\",\"showbackground\":true,\"ticks\":\"\",\"zerolinecolor\":\"white\",\"gridwidth\":2}},\"shapedefaults\":{\"line\":{\"color\":\"#2a3f5f\"}},\"annotationdefaults\":{\"arrowcolor\":\"#2a3f5f\",\"arrowhead\":0,\"arrowwidth\":1},\"geo\":{\"bgcolor\":\"white\",\"landcolor\":\"#E5ECF6\",\"subunitcolor\":\"white\",\"showland\":true,\"showlakes\":true,\"lakecolor\":\"white\"},\"title\":{\"x\":0.05},\"mapbox\":{\"style\":\"light\"}}},\"xaxis\":{\"anchor\":\"y\",\"domain\":[0.0,1.0],\"title\":{\"text\":\"mean_movement_annotation\"}},\"yaxis\":{\"anchor\":\"x\",\"domain\":[0.0,1.0],\"title\":{\"text\":\"count\"}},\"legend\":{\"title\":{\"text\":\"done_by_expert\"},\"tracegroupgap\":0},\"title\":{\"text\":\"mean_movement_annotation\"},\"barmode\":\"relative\",\"shapes\":[{\"line\":{\"color\":\"green\",\"dash\":\"dash\",\"width\":3},\"type\":\"line\",\"x0\":3.7894385084737086,\"x1\":3.7894385084737086,\"xref\":\"x\",\"y0\":0,\"y1\":1,\"yref\":\"y domain\"}],\"annotations\":[{\"showarrow\":false,\"text\":\"intersection=3.79\",\"x\":3.7894385084737086,\"xanchor\":\"left\",\"xref\":\"x\",\"y\":1,\"yanchor\":\"top\",\"yref\":\"y domain\"}]},                        {\"responsive\": true}                    ).then(function(){\n",
       "                            \n",
       "var gd = document.getElementById('85630ab5-98f8-4713-9310-d699c4a548cb');\n",
       "var x = new MutationObserver(function (mutations, observer) {{\n",
       "        var display = window.getComputedStyle(gd).display;\n",
       "        if (!display || display === 'none') {{\n",
       "            console.log([gd, 'removed!']);\n",
       "            Plotly.purge(gd);\n",
       "            observer.disconnect();\n",
       "        }}\n",
       "}});\n",
       "\n",
       "// Listen for the removal of the full notebook cells\n",
       "var notebookContainer = gd.closest('#notebook-container');\n",
       "if (notebookContainer) {{\n",
       "    x.observe(notebookContainer, {childList: true});\n",
       "}}\n",
       "\n",
       "// Listen for the clearing of the current output cell\n",
       "var outputEl = gd.closest('.output');\n",
       "if (outputEl) {{\n",
       "    x.observe(outputEl, {childList: true});\n",
       "}}\n",
       "\n",
       "                        })                };                });            </script>        </div>"
      ]
     },
     "metadata": {},
     "output_type": "display_data"
    }
   ],
   "execution_count": 114
  },
  {
   "metadata": {},
   "cell_type": "markdown",
   "source": "# Make suggestion for students",
   "id": "90985cb4ae42f47b"
  },
  {
   "metadata": {},
   "cell_type": "markdown",
   "source": "",
   "id": "aa74dd363b45f953"
  },
  {
   "metadata": {
    "ExecuteTime": {
     "end_time": "2024-09-26T19:15:44.893824Z",
     "start_time": "2024-09-26T19:15:44.888961Z"
    }
   },
   "cell_type": "code",
   "source": [
    "\n",
    "def find_threshold(dfst, col_name):\n",
    "    med = dfst[col_name].median()\n",
    "    # find the threshold beteween experts and students based on KDE model of each group descriped by done_by_expert\n",
    "    kde_expert = scipy.stats.gaussian_kde(dfst[dfst.level=='expert'][col_name].dropna())\n",
    "    kde_student = scipy.stats.gaussian_kde(dfst[dfst.level=='student'][col_name].dropna())\n",
    "    # find the intersection of the two KDEs\n",
    "    intersection = findIntersection(kde_expert, kde_student, med)\n",
    "    return intersection[0]\n",
    " \n",
    "\n"
   ],
   "id": "802012f17d42165a",
   "outputs": [],
   "execution_count": 115
  },
  {
   "metadata": {
    "ExecuteTime": {
     "end_time": "2024-09-26T19:40:13.507150Z",
     "start_time": "2024-09-26T19:40:13.502478Z"
    }
   },
   "cell_type": "code",
   "source": [
    "import plotly.express as px\n",
    "\n",
    "col_name = \"Needle holder stitch visibility [%]\"\n",
    "col_name = \"Needle holder stitch length [m]\"\n",
    "col_name = \"Stitch duration [s]\"\n",
    "col_name = \"Needle holder stitch median area presence [%]\"\n",
    "col_name = \"Needle holder stitch velocity above threshold\"\n",
    "col_name = \"Needle holder stitch area presence [%]\"\n",
    "\n",
    "col_name = \"Forceps stitch area presence [%]\"\n",
    "col_name = \"Knot duration [s]\"\n",
    "\n",
    "# col_name = \"mean_movement_annotation\""
   ],
   "id": "4fd4aaf08fb1a277",
   "outputs": [],
   "execution_count": 137
  },
  {
   "metadata": {
    "ExecuteTime": {
     "end_time": "2024-09-26T19:40:14.123368Z",
     "start_time": "2024-09-26T19:40:14.089087Z"
    }
   },
   "cell_type": "code",
   "source": [
    "import plotly.figure_factory as ff\n",
    "my_value = dfst[col_name].mean()\n",
    "\n",
    "\n",
    "my_value = find_threshold(dfst, col_name)\n",
    "\n",
    "def show_distplot(col_name, my_value, annotation_text=\"You\"):\n",
    "    fig = ff.create_distplot([dfst[dfst.level==\"student\"][col_name].dropna(), dfst[dfst.level=='expert'][col_name].dropna()], \n",
    "                             group_labels=['student', 'expert'], \n",
    "                             show_hist=False, \n",
    "                             show_rug=False, \n",
    "                             curve_type='kde', \n",
    "                             # histnorm='probability density'\n",
    "                             histnorm='probability'\n",
    "                             )\n",
    "    # description of x-axis\n",
    "    fig.update_xaxes(title_text=col_name)\n",
    "    # legend\n",
    "    fig.update_layout(legend_title_text='Group')\n",
    "    # comparison_value\n",
    "    fig.add_vline(x=my_value, line_width=3, line_dash=\"dash\", line_color=\"green\", annotation_text=annotation_text, annotation_position=\"top right\")\n",
    "    # arrow to my_value with text\n",
    "    # fig.add_annotation(x=my_value, y=0.5, text=\"mean\", showarrow=True, arrowhead=1)\n",
    "    fig.show()\n",
    "    \n",
    "show_distplot(col_name, my_value, f\"{my_value:.2f}\")"
   ],
   "id": "f0945e606e92c9f3",
   "outputs": [
    {
     "data": {
      "application/vnd.plotly.v1+json": {
       "data": [
        {
         "legendgroup": "student",
         "marker": {
          "color": "rgb(31, 119, 180)"
         },
         "mode": "lines",
         "name": "student",
         "showlegend": true,
         "x": [
          22.0,
          22.16,
          22.32,
          22.48,
          22.64,
          22.8,
          22.96,
          23.12,
          23.28,
          23.44,
          23.6,
          23.76,
          23.92,
          24.08,
          24.240000000000002,
          24.4,
          24.56,
          24.72,
          24.88,
          25.04,
          25.2,
          25.36,
          25.52,
          25.68,
          25.84,
          26.0,
          26.16,
          26.32,
          26.48,
          26.64,
          26.8,
          26.96,
          27.12,
          27.28,
          27.44,
          27.6,
          27.759999999999998,
          27.92,
          28.08,
          28.240000000000002,
          28.4,
          28.56,
          28.72,
          28.88,
          29.04,
          29.2,
          29.36,
          29.52,
          29.68,
          29.84,
          30.0,
          30.16,
          30.32,
          30.48,
          30.64,
          30.8,
          30.96,
          31.119999999999997,
          31.28,
          31.439999999999998,
          31.6,
          31.759999999999998,
          31.92,
          32.08,
          32.24,
          32.4,
          32.56,
          32.72,
          32.88,
          33.04,
          33.2,
          33.36,
          33.519999999999996,
          33.68,
          33.84,
          34.0,
          34.16,
          34.32,
          34.480000000000004,
          34.64,
          34.8,
          34.96,
          35.12,
          35.28,
          35.44,
          35.6,
          35.76,
          35.92,
          36.08,
          36.24,
          36.4,
          36.56,
          36.72,
          36.88,
          37.04,
          37.2,
          37.36,
          37.519999999999996,
          37.68,
          37.84,
          38.0,
          38.16,
          38.32,
          38.480000000000004,
          38.64,
          38.8,
          38.96,
          39.120000000000005,
          39.28,
          39.44,
          39.6,
          39.760000000000005,
          39.92,
          40.08,
          40.239999999999995,
          40.4,
          40.56,
          40.72,
          40.879999999999995,
          41.04,
          41.2,
          41.36,
          41.519999999999996,
          41.68,
          41.84,
          42.0,
          42.16,
          42.32,
          42.480000000000004,
          42.64,
          42.8,
          42.96,
          43.120000000000005,
          43.28,
          43.44,
          43.6,
          43.760000000000005,
          43.92,
          44.08,
          44.239999999999995,
          44.4,
          44.56,
          44.72,
          44.879999999999995,
          45.04,
          45.2,
          45.36,
          45.519999999999996,
          45.68,
          45.84,
          46.0,
          46.16,
          46.32,
          46.480000000000004,
          46.64,
          46.8,
          46.96,
          47.120000000000005,
          47.28,
          47.44,
          47.6,
          47.760000000000005,
          47.92,
          48.08,
          48.239999999999995,
          48.4,
          48.56,
          48.72,
          48.879999999999995,
          49.04,
          49.2,
          49.36,
          49.519999999999996,
          49.68,
          49.84,
          50.0,
          50.16,
          50.32,
          50.480000000000004,
          50.64,
          50.8,
          50.96,
          51.120000000000005,
          51.28,
          51.44,
          51.6,
          51.760000000000005,
          51.92,
          52.08,
          52.239999999999995,
          52.4,
          52.56,
          52.72,
          52.879999999999995,
          53.04,
          53.2,
          53.36,
          53.519999999999996,
          53.68,
          53.84,
          54.0,
          54.16,
          54.32,
          54.48,
          54.64,
          54.8,
          54.96,
          55.12,
          55.28,
          55.44,
          55.6,
          55.76,
          55.92,
          56.08,
          56.24,
          56.4,
          56.56,
          56.72,
          56.88,
          57.04,
          57.2,
          57.36,
          57.52,
          57.68,
          57.84,
          58.0,
          58.16,
          58.32,
          58.48,
          58.64,
          58.8,
          58.96,
          59.12,
          59.28,
          59.44,
          59.6,
          59.76,
          59.92,
          60.08,
          60.24,
          60.4,
          60.56,
          60.72,
          60.88,
          61.04,
          61.2,
          61.36,
          61.52,
          61.68,
          61.84,
          62.0,
          62.16,
          62.32,
          62.48,
          62.64,
          62.8,
          62.96,
          63.12,
          63.28,
          63.44,
          63.6,
          63.76,
          63.92,
          64.08,
          64.24000000000001,
          64.4,
          64.56,
          64.72,
          64.88,
          65.03999999999999,
          65.2,
          65.36,
          65.52000000000001,
          65.68,
          65.84,
          66.0,
          66.16,
          66.32,
          66.47999999999999,
          66.64,
          66.8,
          66.96000000000001,
          67.12,
          67.28,
          67.44,
          67.6,
          67.75999999999999,
          67.92,
          68.08,
          68.24000000000001,
          68.4,
          68.56,
          68.72,
          68.88,
          69.03999999999999,
          69.2,
          69.36,
          69.52000000000001,
          69.68,
          69.84,
          70.0,
          70.16,
          70.32,
          70.47999999999999,
          70.64,
          70.8,
          70.96000000000001,
          71.12,
          71.28,
          71.44,
          71.6,
          71.75999999999999,
          71.92,
          72.08,
          72.24000000000001,
          72.4,
          72.56,
          72.72,
          72.88,
          73.03999999999999,
          73.2,
          73.36,
          73.52000000000001,
          73.68,
          73.84,
          74.0,
          74.16,
          74.32,
          74.47999999999999,
          74.64,
          74.8,
          74.96000000000001,
          75.12,
          75.28,
          75.44,
          75.6,
          75.75999999999999,
          75.92,
          76.08,
          76.24000000000001,
          76.4,
          76.56,
          76.72,
          76.88,
          77.03999999999999,
          77.2,
          77.36,
          77.52000000000001,
          77.68,
          77.84,
          78.0,
          78.16,
          78.32,
          78.47999999999999,
          78.64,
          78.8,
          78.96000000000001,
          79.12,
          79.28,
          79.44,
          79.6,
          79.75999999999999,
          79.92,
          80.08,
          80.24000000000001,
          80.4,
          80.56,
          80.72,
          80.88,
          81.03999999999999,
          81.2,
          81.36,
          81.52000000000001,
          81.68,
          81.84,
          82.0,
          82.16,
          82.32,
          82.47999999999999,
          82.64,
          82.8,
          82.96000000000001,
          83.12,
          83.28,
          83.44,
          83.6,
          83.75999999999999,
          83.92,
          84.08,
          84.24000000000001,
          84.4,
          84.56,
          84.72,
          84.88,
          85.03999999999999,
          85.2,
          85.36,
          85.52000000000001,
          85.68,
          85.84,
          86.0,
          86.16,
          86.32,
          86.48,
          86.64,
          86.8,
          86.96,
          87.12,
          87.28,
          87.44,
          87.6,
          87.76,
          87.92,
          88.08,
          88.24,
          88.4,
          88.56,
          88.72,
          88.88,
          89.04,
          89.2,
          89.36,
          89.52,
          89.68,
          89.84,
          90.0,
          90.16,
          90.32,
          90.48,
          90.64,
          90.8,
          90.96,
          91.12,
          91.28,
          91.44,
          91.6,
          91.76,
          91.92,
          92.08,
          92.24,
          92.4,
          92.56,
          92.72,
          92.88,
          93.04,
          93.2,
          93.36,
          93.52,
          93.68,
          93.84,
          94.0,
          94.16,
          94.32,
          94.48,
          94.64,
          94.8,
          94.96,
          95.12,
          95.28,
          95.44,
          95.6,
          95.76,
          95.92,
          96.08,
          96.24,
          96.4,
          96.56,
          96.72,
          96.88,
          97.04,
          97.2,
          97.36,
          97.52,
          97.68,
          97.84,
          98.0,
          98.16,
          98.32,
          98.48,
          98.64,
          98.8,
          98.96,
          99.12,
          99.28,
          99.44,
          99.6,
          99.76,
          99.92,
          100.08,
          100.24,
          100.4,
          100.56,
          100.72,
          100.88,
          101.04,
          101.2,
          101.36,
          101.52,
          101.68,
          101.84
         ],
         "xaxis": "x",
         "y": [
          0.012007917301113717,
          0.012134537983894054,
          0.012260306970093044,
          0.012385184507672306,
          0.01250913149035543,
          0.012632109490734804,
          0.012754080792410645,
          0.012875008421113979,
          0.012994856174767349,
          0.013113588652439235,
          0.013231171282149994,
          0.013347570347490048,
          0.013462753013012618,
          0.013576687348366383,
          0.013689342351135884,
          0.013800687968359546,
          0.013910695116698752,
          0.014019335701233213,
          0.014126582632861378,
          0.014232409844286874,
          0.014336792304575269,
          0.014439706032268037,
          0.01454112810704349,
          0.014641036679917726,
          0.014739410981980982,
          0.014836231331668292,
          0.014931479140565855,
          0.01502513691775761,
          0.015117188272719313,
          0.015207617916770453,
          0.015296411663096851,
          0.01538355642535984,
          0.015469040214910523,
          0.015552852136630347,
          0.015634982383421755,
          0.015715422229375248,
          0.01579416402164184,
          0.015871201171041894,
          0.015946528141443997,
          0.01602014043794955,
          0.016092034593920886,
          0.016162208156892784,
          0.016230659673409007,
          0.016297388672827585,
          0.01636239565013976,
          0.016425682047849527,
          0.01648725023696193,
          0.016547103497129373,
          0.016605245996006872,
          0.016661682767867652,
          0.016716419691531825,
          0.016769463467661384,
          0.01682082159547561,
          0.016870502348941177,
          0.016918514752491936,
          0.016964868556333276,
          0.017009574211386262,
          0.017052642843926543,
          0.017094086229972855,
          0.01713391676947967,
          0.01717214746038795,
          0.017208791872587555,
          0.017243864121843838,
          0.017277378843740445,
          0.017309351167688974,
          0.017339796691055426,
          0.017368731453451813,
          0.01739617191124023,
          0.017422134912295047,
          0.017446637671067446,
          0.017469697743994844,
          0.017491333005296025,
          0.017511561623190876,
          0.017530402036581905,
          0.01754787293223243,
          0.01756399322247466,
          0.01757878202347828,
          0.017592258634108453,
          0.017604442515399547,
          0.017615353270668717,
          0.01762501062629133,
          0.017633434413157494,
          0.017640644548826866,
          0.017646661020396488,
          0.017651503868093783,
          0.01765519316960462,
          0.017657749025143814,
          0.017659191543273237,
          0.017659540827469778,
          0.0176588169634439,
          0.0176570400072062,
          0.01765422997387785,
          0.01765040682723813,
          0.01764559047000017,
          0.017639800734803673,
          0.017633057375911716,
          0.017625380061596054,
          0.017616788367194058,
          0.01760730176881784,
          0.017596939637694965,
          0.01758572123511782,
          0.017573665707977637,
          0.017560792084857047,
          0.017547119272654076,
          0.017532666053708998,
          0.017517451083404,
          0.017501492888204823,
          0.017484809864112452,
          0.01746742027549173,
          0.017449342254243404,
          0.01743059379928527,
          0.017411192776307375,
          0.01739115691776613,
          0.01737050382308161,
          0.01734925095900232,
          0.017327415660101493,
          0.017305015129369265,
          0.01728206643886498,
          0.017258586530394446,
          0.01723459221617716,
          0.01721010017946933,
          0.017185126975108933,
          0.017159689029949843,
          0.01713380264315326,
          0.017107483986305128,
          0.017080749103329903,
          0.01705361391017171,
          0.017026094194215666,
          0.016998205613423155,
          0.0169699636951567,
          0.01694138383467118,
          0.016912481293250337,
          0.01688327119596866,
          0.016853768529061012,
          0.016823988136883898,
          0.016793944718454298,
          0.016763652823553982,
          0.016733126848389176,
          0.01670238103079753,
          0.016671429444996354,
          0.016640285995868375,
          0.016608964412783204,
          0.016577478242954916,
          0.016545840844338463,
          0.016514065378069535,
          0.016482164800454797,
          0.01645015185452169,
          0.01641803906113875,
          0.01638583870972004,
          0.016353562848528763,
          0.01632122327459776,
          0.01628883152328605,
          0.01625639885749302,
          0.01622393625655334,
          0.016191454404837824,
          0.016158963680087055,
          0.016126474141506322,
          0.016093995517652167,
          0.016061537194142106,
          0.01602910820122083,
          0.015996717201217356,
          0.015964372475928978,
          0.015932081913968898,
          0.01589985299811563,
          0.015867692792703114,
          0.015835607931091282,
          0.015803604603257755,
          0.01577168854355161,
          0.01573986501865093,
          0.015708138815766114,
          0.01567651423113116,
          0.015644995058825176,
          0.015613584579966559,
          0.015582285552321874,
          0.015551100200371468,
          0.015520030205873283,
          0.01548907669896578,
          0.015458240249850536,
          0.01542752086109378,
          0.015396917960585893,
          0.015366430395196183,
          0.015336056425159752,
          0.015305793719231506,
          0.015275639350641346,
          0.015245589793882856,
          0.015215640922366333,
          0.015185788006965366,
          0.015156025715484134,
          0.015126348113071045,
          0.015096748663602047,
          0.01506722023205506,
          0.015037755087894763,
          0.015008344909484751,
          0.014978980789541844,
          0.014949653241644746,
          0.014920352207807255,
          0.014891067067123322,
          0.014861786645488921,
          0.014832499226403319,
          0.014803192562849425,
          0.014773853890250457,
          0.014744469940497594,
          0.014715026957040576,
          0.014685510711030452,
          0.01465590651850132,
          0.014626199258574979,
          0.01459637339267002,
          0.014566412984694199,
          0.014536301722196242,
          0.014506022938451215,
          0.014475559635450296,
          0.014444894507764268,
          0.014414009967247001,
          0.014382888168543223,
          0.014351511035362667,
          0.014319860287480278,
          0.014287917468420524,
          0.014255663973781384,
          0.014223081080152182,
          0.014190149974577258,
          0.014156851784516093,
          0.014123167608248792,
          0.014089078545674406,
          0.014054565729448234,
          0.014019610356403096,
          0.013984193719198497,
          0.013948297238140379,
          0.013911902493113958,
          0.013874991255570627,
          0.013837545520510135,
          0.013799547538398292,
          0.013760979846960529,
          0.013721825302791256,
          0.013682067112719168,
          0.013641688864868657,
          0.01360067455935792,
          0.013559008638574663,
          0.013516676016970836,
          0.013473662110318871,
          0.0134299528643722,
          0.01338553478287439,
          0.013340394954861778,
          0.013294521081206394,
          0.01324790150034657,
          0.013200525213154776,
          0.013152381906893471,
          0.01310346197821162,
          0.013053756555136237,
          0.01300325751801549,
          0.012951957519371669,
          0.012899850002624627,
          0.012846929219648522,
          0.01279319024712692,
          0.012738629001673728,
          0.012683242253690028,
          0.012627027639929154,
          0.01256998367474513,
          0.012512109760002277,
          0.012453406193626152,
          0.012393874176779236,
          0.012333515819646942,
          0.012272334145822876,
          0.012210333095284619,
          0.012147517525954405,
          0.012083893213841785,
          0.012019466851768126,
          0.011954246046675786,
          0.011888239315527379,
          0.01182145607980346,
          0.011753906658609644,
          0.01168560226040695,
          0.011616554973381685,
          0.01154677775447392,
          0.011476284417086193,
          0.011405089617496374,
          0.011333208840001384,
          0.011260658380820516,
          0.0111874553307896,
          0.011113617556879278,
          0.011039163682573036,
          0.01096411306714245,
          0.010888485783858978,
          0.010812302597183826,
          0.010735584938978759,
          0.010658354883782464,
          0.010580635123198883,
          0.010502448939444783,
          0.010423820178105668,
          0.010344773220149983,
          0.010265332953252765,
          0.01018552474248075,
          0.010105374400391824,
          0.010024908156602477,
          0.009944152626877234,
          0.009863134781794859,
          0.009781881915046116,
          0.009700421611418436,
          0.009618781714522438,
          0.009536990294315968,
          0.009455075614480236,
          0.009373066099703342,
          0.00929099030292532,
          0.009208876872598836,
          0.009126754520018876,
          0.009044651986774045,
          0.008962598012371481,
          0.008880621302086196,
          0.008798750495084941,
          0.008717014132873391,
          0.008635440628114362,
          0.008554058233863506,
          0.008472895013267505,
          0.00839197880976841,
          0.008311337217856339,
          0.008230997554410934,
          0.008150986830670727,
          0.00807133172486744,
          0.00799205855556088,
          0.007913193255708037,
          0.007834761347498252,
          0.007756787917984438,
          0.007679297595538489,
          0.00760231452715678,
          0.007525862356640209,
          0.007449964203670668,
          0.007374642643804276,
          0.0072999196893994206,
          0.007225816771495832,
          0.007152354722658678,
          0.007079553760799859,
          0.007007433473986669,
          0.006936012806245662,
          0.006865310044368237,
          0.006795342805721754,
          0.00672612802706871,
          0.006657681954394212,
          0.006590020133740266,
          0.006523157403043604,
          0.006457107884971939,
          0.006391884980751812,
          0.006327501364979553,
          0.006263968981405158,
          0.006201299039677393,
          0.006139502013036877,
          0.006078587636942397,
          0.006018564908614337,
          0.00595944208747782,
          0.005901226696486685,
          0.005843925524308545,
          0.0057875446283496565,
          0.005732089338597586,
          0.005677564262258418,
          0.005623973289164523,
          0.005571319597927814,
          0.005519605662812952,
          0.0054688332613039,
          0.005419003482336895,
          0.00537011673517217,
          0.005322172758876296,
          0.005275170632386663,
          0.005229108785129256,
          0.00518398500816052,
          0.005139796465804035,
          0.005096539707752567,
          0.00505421068160586,
          0.005012804745814828,
          0.0049723166830024975,
          0.004932740713632583,
          0.004894070509996434,
          0.004856299210489612,
          0.00481941943414947,
          0.0047834232954256685,
          0.004748302419155771,
          0.004714047955718819,
          0.004680650596339992,
          0.004648100588520322,
          0.004616387751565914,
          0.0045855014921917315,
          0.0045554308201758795,
          0.004526164364040851,
          0.004497690386739226,
          0.0044699968013217515,
          0.004443071186567037,
          0.004416900802552447,
          0.0043914726061471164,
          0.004366773266408528,
          0.004342789179865305,
          0.00431950648566959,
          0.004296911080603439,
          0.0042749886339245756,
          0.004253724602037797,
          0.0042331042429793,
          0.004213112630702098,
          0.004193734669151789,
          0.004174955106122671,
          0.004156758546885384,
          0.004139129467577997,
          0.004122052228353475,
          0.0041055110862773655,
          0.004089490207970391,
          0.004073973681991515,
          0.004058945530957954,
          0.004044389723399326,
          0.004030290185344023,
          0.004016630811636627,
          0.004003395476985915,
          0.003990568046743759,
          0.003978132387415868,
          0.003966072376905998,
          0.003954371914495834,
          0.003943014930563401,
          0.003931985396043297,
          0.003921267331632671,
          0.003910844816747222,
          0.0039007019982320347,
          0.0038908230988323653,
          0.0038811924254299112,
          0.0038717943770503783,
          0.0038626134526484526,
          0.0038536342586765033,
          0.003844841516443549,
          0.003836220069271173,
          0.0038277548894532012,
          0.0038194310850260126,
          0.0038112339063564237,
          0.0038031487525540648,
          0.0037951611777151733,
          0.003787256897004616,
          0.0037794217925828854,
          0.0037716419193846856,
          0.0037639035107555332,
          0.0037561929839526097,
          0.0037484969455159225,
          0.0037408021965154923,
          0.003733095737680092,
          0.0037253647744127207,
          0.003717596721697672,
          0.0037097792089037175,
          0.0037019000844875334,
          0.0036939474206012135,
          0.0036859095176071293,
          0.0036777749085032353,
          0.0036695323632612107,
          0.0036611708930796797,
          0.003652679754554085,
          0.0036440484537644713,
          0.0036352667502819527,
          0.003626324661094162,
          0.003617212464449572,
          0.0036079207036201063,
          0.003598440190580992,
          0.0035887620096064243,
          0.003578877520779132,
          0.0035687783634115113,
          0.00355845645937566,
          0.0035479040163391208,
          0.0035371135309028925,
          0.0035260777916378116,
          0.0035147898820151115,
          0.003503243183226605,
          0.0034914313768896602,
          0.00347934844763184,
          0.00346698868554984,
          0.0034543466885370174,
          0.003441417364473823,
          0.0034281959332749974,
          0.0034146779287874073,
          0.003400859200532249,
          0.0033867359152851507,
          0.0033723045584878267,
          0.003357561935484629,
          0.0033425051725776062,
          0.0033271317178935125,
          0.0033114393420563344,
          0.003295426138658968,
          0.0032790905245278228,
          0.0032624312397741854,
          0.003245447347626471,
          0.003228138234037561,
          0.0032105036070617598,
          0.003192543495996089,
          0.003174258250280946,
          0.0031556485381554976,
          0.0031367153450634275,
          0.0031174599718051285,
          0.0030978840324326945,
          0.0030779894518845954,
          0.003057778463357225,
          0.0030372536054110444,
          0.003016417718809472,
          0.0029952739430891308,
          0.0029738257128606297,
          0.0029520767538394493,
          0.002930031078607155,
          0.0029076929821035733,
          0.002885067036851211,
          0.0028621580879136105,
          0.0028389712475900713,
          0.002815511889849499,
          0.002791785644506942
         ],
         "yaxis": "y",
         "type": "scatter"
        },
        {
         "legendgroup": "expert",
         "marker": {
          "color": "rgb(255, 127, 14)"
         },
         "mode": "lines",
         "name": "expert",
         "showlegend": true,
         "x": [
          14.53333333,
          14.604266663339999,
          14.67519999668,
          14.74613333002,
          14.81706666336,
          14.8879999967,
          14.958933330039999,
          15.02986666338,
          15.10079999672,
          15.17173333006,
          15.2426666634,
          15.313599996739999,
          15.38453333008,
          15.45546666342,
          15.52639999676,
          15.5973333301,
          15.668266663439999,
          15.73919999678,
          15.81013333012,
          15.88106666346,
          15.9519999968,
          16.02293333014,
          16.09386666348,
          16.16479999682,
          16.23573333016,
          16.3066666635,
          16.37759999684,
          16.44853333018,
          16.51946666352,
          16.59039999686,
          16.6613333302,
          16.73226666354,
          16.80319999688,
          16.87413333022,
          16.94506666356,
          17.0159999969,
          17.08693333024,
          17.15786666358,
          17.22879999692,
          17.29973333026,
          17.370666663599998,
          17.44159999694,
          17.51253333028,
          17.58346666362,
          17.65439999696,
          17.7253333303,
          17.79626666364,
          17.86719999698,
          17.93813333032,
          18.00906666366,
          18.079999997,
          18.15093333034,
          18.22186666368,
          18.29279999702,
          18.36373333036,
          18.4346666637,
          18.50559999704,
          18.576533330380002,
          18.64746666372,
          18.71839999706,
          18.789333330399998,
          18.86026666374,
          18.93119999708,
          19.00213333042,
          19.07306666376,
          19.1439999971,
          19.21493333044,
          19.28586666378,
          19.35679999712,
          19.42773333046,
          19.4986666638,
          19.56959999714,
          19.64053333048,
          19.711466663819998,
          19.78239999716,
          19.8533333305,
          19.92426666384,
          19.99519999718,
          20.06613333052,
          20.13706666386,
          20.207999997199998,
          20.27893333054,
          20.34986666388,
          20.42079999722,
          20.49173333056,
          20.5626666639,
          20.633599997239997,
          20.70453333058,
          20.77546666392,
          20.84639999726,
          20.9173333306,
          20.98826666394,
          21.05919999728,
          21.130133330619998,
          21.20106666396,
          21.2719999973,
          21.34293333064,
          21.413866663980002,
          21.48479999732,
          21.55573333066,
          21.626666664,
          21.69759999734,
          21.76853333068,
          21.83946666402,
          21.910399997360003,
          21.9813333307,
          22.05226666404,
          22.12319999738,
          22.19413333072,
          22.26506666406,
          22.335999997400002,
          22.40693333074,
          22.47786666408,
          22.548799997419998,
          22.61973333076,
          22.6906666641,
          22.76159999744,
          22.83253333078,
          22.90346666412,
          22.974399997459997,
          23.0453333308,
          23.11626666414,
          23.18719999748,
          23.25813333082,
          23.329066664160003,
          23.3999999975,
          23.470933330839998,
          23.54186666418,
          23.61279999752,
          23.68373333086,
          23.754666664200002,
          23.825599997540003,
          23.89653333088,
          23.96746666422,
          24.03839999756,
          24.1093333309,
          24.18026666424,
          24.251199997580002,
          24.32213333092,
          24.39306666426,
          24.4639999976,
          24.53493333094,
          24.60586666428,
          24.67679999762,
          24.74773333096,
          24.8186666643,
          24.889599997639998,
          24.96053333098,
          25.03146666432,
          25.10239999766,
          25.173333331000002,
          25.244266664340003,
          25.31519999768,
          25.38613333102,
          25.45706666436,
          25.5279999977,
          25.59893333104,
          25.669866664380002,
          25.74079999772,
          25.81173333106,
          25.8826666644,
          25.95359999774,
          26.02453333108,
          26.09546666442,
          26.16639999776,
          26.2373333311,
          26.308266664439998,
          26.37919999778,
          26.45013333112,
          26.52106666446,
          26.591999997800002,
          26.662933331140003,
          26.733866664479997,
          26.80479999782,
          26.87573333116,
          26.9466666645,
          27.01759999784,
          27.088533331180003,
          27.15946666452,
          27.23039999786,
          27.3013333312,
          27.37226666454,
          27.44319999788,
          27.514133331220002,
          27.58506666456,
          27.6559999979,
          27.726933331239998,
          27.79786666458,
          27.86879999792,
          27.93973333126,
          28.010666664600002,
          28.08159999794,
          28.15253333128,
          28.22346666462,
          28.29439999796,
          28.3653333313,
          28.43626666464,
          28.507199997980003,
          28.578133331320004,
          28.64906666466,
          28.719999998,
          28.79093333134,
          28.86186666468,
          28.932799998020002,
          29.003733331360003,
          29.0746666647,
          29.14559999804,
          29.21653333138,
          29.28746666472,
          29.35839999806,
          29.429333331400002,
          29.50026666474,
          29.57119999808,
          29.64213333142,
          29.71306666476,
          29.7839999981,
          29.85493333144,
          29.925866664780003,
          29.996799998120004,
          30.067733331459998,
          30.1386666648,
          30.20959999814,
          30.28053333148,
          30.351466664820002,
          30.422399998160003,
          30.4933333315,
          30.564266664839998,
          30.63519999818,
          30.70613333152,
          30.77706666486,
          30.847999998200002,
          30.918933331540003,
          30.989866664879997,
          31.06079999822,
          31.13173333156,
          31.2026666649,
          31.27359999824,
          31.344533331580003,
          31.415466664919997,
          31.486399998260005,
          31.5573333316,
          31.62826666494,
          31.69919999828,
          31.770133331620002,
          31.841066664960003,
          31.911999998299997,
          31.982933331639998,
          32.05386666498,
          32.12479999832,
          32.19573333166,
          32.266666665,
          32.33759999834,
          32.40853333168,
          32.47946666502,
          32.55039999836,
          32.6213333317,
          32.69226666504,
          32.76319999838,
          32.834133331720004,
          32.905066665060005,
          32.9759999984,
          33.04693333174,
          33.11786666508,
          33.18879999842,
          33.25973333176,
          33.3306666651,
          33.401599998440005,
          33.47253333178,
          33.54346666512,
          33.61439999846,
          33.6853333318,
          33.756266665140004,
          33.82719999848,
          33.89813333182,
          33.96906666516,
          34.0399999985,
          34.11093333184,
          34.18186666518,
          34.252799998520004,
          34.32373333186,
          34.3946666652,
          34.46559999854,
          34.53653333188,
          34.60746666522,
          34.67839999856,
          34.7493333319,
          34.820266665240005,
          34.89119999858,
          34.96213333192,
          35.03306666526,
          35.1039999986,
          35.174933331940004,
          35.24586666528,
          35.31679999862,
          35.38773333196,
          35.4586666653,
          35.52959999864,
          35.600533331979996,
          35.671466665320004,
          35.74239999866,
          35.813333332,
          35.88426666534,
          35.95519999868,
          36.02613333202,
          36.09706666536,
          36.1679999987,
          36.238933332040006,
          36.30986666538,
          36.38079999872,
          36.45173333206,
          36.5226666654,
          36.593599998740004,
          36.66453333208,
          36.73546666542,
          36.80639999876,
          36.8773333321,
          36.94826666544,
          37.019199998779996,
          37.090133332120004,
          37.16106666546,
          37.2319999988,
          37.30293333214,
          37.37386666548,
          37.44479999882,
          37.51573333216,
          37.586666665500005,
          37.65759999884,
          37.72853333218,
          37.79946666552,
          37.87039999886,
          37.9413333322,
          38.012266665540004,
          38.08319999888,
          38.154133332220006,
          38.22506666556,
          38.2959999989,
          38.36693333224,
          38.43786666558,
          38.508799998920004,
          38.57973333226,
          38.6506666656,
          38.72159999894,
          38.79253333228,
          38.86346666562,
          38.93439999896,
          39.005333332300005,
          39.07626666564,
          39.14719999898,
          39.21813333232,
          39.28906666566,
          39.359999999,
          39.430933332340004,
          39.50186666568,
          39.57279999902,
          39.64373333236,
          39.7146666657,
          39.78559999904,
          39.85653333238,
          39.927466665720004,
          39.99839999906,
          40.0693333324,
          40.14026666574,
          40.21119999908,
          40.28213333242,
          40.35306666576,
          40.423999999100005,
          40.49493333244,
          40.56586666578,
          40.63679999912,
          40.70773333246,
          40.7786666658,
          40.84959999914,
          40.92053333248,
          40.99146666582,
          41.06239999916,
          41.1333333325,
          41.20426666584,
          41.27519999918,
          41.346133332520004,
          41.41706666586,
          41.4879999992,
          41.55893333254,
          41.62986666588,
          41.70079999922,
          41.771733332560004,
          41.842666665900005,
          41.91359999924,
          41.98453333258,
          42.05546666592,
          42.12639999926,
          42.1973333326,
          42.26826666594,
          42.339199999280005,
          42.41013333262,
          42.48106666596,
          42.5519999993,
          42.62293333264,
          42.69386666598,
          42.764799999320005,
          42.83573333266,
          42.906666666,
          42.97759999934,
          43.04853333268,
          43.11946666602,
          43.190399999360004,
          43.261333332700005,
          43.33226666604,
          43.40319999938,
          43.47413333272,
          43.54506666606,
          43.6159999994,
          43.68693333274,
          43.757866666080005,
          43.82879999942,
          43.89973333276,
          43.9706666661,
          44.04159999944,
          44.11253333278,
          44.18346666612,
          44.25439999946,
          44.3253333328,
          44.39626666614,
          44.46719999948,
          44.53813333282,
          44.609066666160004,
          44.679999999500005,
          44.75093333284,
          44.82186666618,
          44.89279999952,
          44.96373333286,
          45.0346666662,
          45.10559999954,
          45.176533332880005,
          45.24746666622,
          45.31839999956,
          45.3893333329,
          45.46026666624,
          45.531199999580004,
          45.60213333292,
          45.67306666626,
          45.7439999996,
          45.81493333294,
          45.88586666628,
          45.95679999962,
          46.027733332960004,
          46.098666666300005,
          46.16959999964,
          46.24053333298,
          46.31146666632,
          46.38239999966,
          46.453333333,
          46.524266666340004,
          46.59519999968,
          46.66613333302,
          46.73706666636,
          46.8079999997,
          46.87893333304,
          46.94986666638,
          47.02079999972,
          47.09173333306,
          47.1626666664,
          47.23359999974,
          47.30453333308,
          47.37546666642,
          47.44639999976,
          47.5173333331,
          47.58826666644,
          47.65919999978,
          47.730133333119994,
          47.80106666646,
          47.8719999998,
          47.942933333140004,
          48.01386666648,
          48.08479999982,
          48.15573333316,
          48.226666666499995,
          48.297599999839996,
          48.368533333180004,
          48.439466666520005,
          48.51039999986,
          48.5813333332,
          48.65226666654,
          48.72319999988,
          48.794133333219996,
          48.86506666656,
          48.935999999900005,
          49.00693333324,
          49.07786666658,
          49.14879999992,
          49.21973333326,
          49.290666666599996,
          49.36159999994,
          49.43253333328,
          49.50346666662,
          49.57439999996,
          49.6453333333,
          49.71626666664,
          49.78719999998,
          49.85813333332,
          49.92906666666
         ],
         "xaxis": "x",
         "y": [
          0.006487057099344225,
          0.0066307970142256015,
          0.006778302907200154,
          0.006929736608079629,
          0.007085262877071904,
          0.007245049063127952,
          0.007409264743752454,
          0.007578081347344676,
          0.007751671759243049,
          0.007930209912749831,
          0.008113870366509675,
          0.008302827869709822,
          0.00849725691665526,
          0.008697331292353684,
          0.00890322361081713,
          0.009115104847852858,
          0.009333143870172717,
          0.009557506962697845,
          0.009788357355974133,
          0.010025854755642384,
          0.010270154875925043,
          0.01052140897909954,
          0.010779763422924327,
          0.011045359217970225,
          0.011318331596783174,
          0.011598809596768577,
          0.011886915658638163,
          0.012182765242201606,
          0.0124864664612142,
          0.01279811973890969,
          0.013117817485756194,
          0.013445643800869302,
          0.01378167419840506,
          0.014125975360132373,
          0.014478604915254899,
          0.014839611248412824,
          0.015209033336648317,
          0.015586900615966145,
          0.01597323287796122,
          0.016368040196821056,
          0.01677132288684335,
          0.01718307149043752,
          0.01760326679640567,
          0.01803187988812521,
          0.01846887222108029,
          0.018914195729017574,
          0.019367792957830008,
          0.01982959722610754,
          0.020299532811129305,
          0.02077751515891671,
          0.02126345111681735,
          0.021757239186947254,
          0.022258769798687877,
          0.02276792559831058,
          0.02328458175369128,
          0.023808606271978453,
          0.02433986032799068,
          0.024878198601048937,
          0.025423469617889168,
          0.025975516099258737,
          0.026534175307772436,
          0.02709927939459296,
          0.027670655742505525,
          0.028248127302978526,
          0.028831512924841485,
          0.029420627672266494,
          0.03001528312981239,
          0.030615287692381324,
          0.031220446838041344,
          0.03183056338179183,
          0.03244543770848514,
          0.033064867983270255,
          0.033688650338089196,
          0.03431657903293705,
          0.03494844659078745,
          0.035584043905286473,
          0.03622316032053196,
          0.036865583682473405,
          0.03751110036169806,
          0.03815949524759948,
          0.038810551714165434,
          0.03946405155786047,
          0.04011977490832025,
          0.04077750011281653,
          0.04143700359568976,
          0.0420980596941797,
          0.04276044047231495,
          0.043423915514742985,
          0.04408825170259351,
          0.044753212973671574,
          0.04541856006946344,
          0.046084050271615405,
          0.04674943713070406,
          0.04741447019025957,
          0.048078894709128864,
          0.04874245138536927,
          0.04940487608494938,
          0.050065899578595814,
          0.05072524729016554,
          0.05138263905994177,
          0.05203778892624327,
          0.05269040492871002,
          0.053340188936569305,
          0.05398683650511163,
          0.0546300367634983,
          0.05526947233689815,
          0.055904819305797104,
          0.05653574720515066,
          0.05716191906585235,
          0.057782991500772096,
          0.058398614837379695,
          0.05900843329871028,
          0.059612085234152803,
          0.060209203401249516,
          0.06079941529938845,
          0.061382343555950604,
          0.06195760636514335,
          0.06252481797941124,
          0.06308358925297099,
          0.06363352823666474,
          0.06417424082297486,
          0.06470533143968853,
          0.06522640379035201,
          0.0657370616393077,
          0.06623690963876813,
          0.06672555419505366,
          0.067202604370802,
          0.0676676728196545,
          0.06812037674963886,
          0.06856033891119823,
          0.06898718860556873,
          0.06940056270898246,
          0.06980010670797224,
          0.07018547574087726,
          0.07055633564050155,
          0.07091236397275871,
          0.07125325106604413,
          0.07157870102601972,
          0.07188843273046676,
          0.0721821807988687,
          0.07245969653142163,
          0.07272074881224165,
          0.07296512497163916,
          0.07319263160246643,
          0.07340309532570917,
          0.07359636350069301,
          0.07377230487550092,
          0.07393081017345579,
          0.07407179261180566,
          0.07419518834905993,
          0.07430095685775881,
          0.07438908121981605,
          0.0744595683419519,
          0.07451244908912873,
          0.07454777833431359,
          0.07456563492331686,
          0.07456612155389125,
          0.07454936456871948,
          0.0745155136623687,
          0.07446474150274143,
          0.07439724326800412,
          0.07431323610042469,
          0.07421295847899334,
          0.07409666951313529,
          0.07396464816024918,
          0.07381719237021431,
          0.0736546181604038,
          0.07347725862511599,
          0.07328546288369006,
          0.07307959497190322,
          0.07286003268155099,
          0.0726271663533909,
          0.07238139762887938,
          0.0721231381663484,
          0.07185280832745841,
          0.07157083583991403,
          0.0712776544425529,
          0.07097370251900086,
          0.070659421726139,
          0.07033525562364255,
          0.07000164831083276,
          0.06965904307702768,
          0.06930788107148889,
          0.06894859999893824,
          0.068581632846463,
          0.06820740664743925,
          0.0678263412878864,
          0.06743884836041648,
          0.0670453300706694,
          0.06664617820082136,
          0.06624177313443355,
          0.06583248294655894,
          0.06541866256266182,
          0.06500065298952244,
          0.0645787806209009,
          0.06415335662032824,
          0.06372467638297118,
          0.06329301907809398,
          0.06285864727320971,
          0.06242180664058188,
          0.06198272574630666,
          0.061541615921777974,
          0.061098671216916776,
          0.060654068434130605,
          0.06020796724156886,
          0.05976051036384745,
          0.059311823848041484,
          0.058862017402387785,
          0.05841118480479814,
          0.05795940437796691,
          0.05750673952755943,
          0.05705323933969567,
          0.05659893923369465,
          0.05614386166582475,
          0.05568801687960838,
          0.055231403698064355,
          0.054774010353129045,
          0.05431581534738994,
          0.05385678834318071,
          0.05339689107403466,
          0.05293607827346819,
          0.05247429861606923,
          0.052011495665895795,
          0.05154760882724828,
          0.05108257429296209,
          0.05061632598547627,
          0.05014879648606638,
          0.049679917947785215,
          0.049209622987831915,
          0.04873784555526642,
          0.04826452177020049,
          0.04778959073083014,
          0.04731299528491814,
          0.0468346827625976,
          0.04635460566763741,
          0.04587272232459173,
          0.04538899747954467,
          0.04490340285245512,
          0.04441591763940672,
          0.043926528963367246,
          0.04343523227236539,
          0.042942031684289984,
          0.04244694027781784,
          0.041949980329265564,
          0.04145118349544889,
          0.04095059094291197,
          0.040448253424157775,
          0.039944231301771105,
          0.03943859452157246,
          0.038931422536176784,
          0.0384228041805519,
          0.03791283750137777,
          0.03740162954219963,
          0.03688929608654217,
          0.03637596136131101,
          0.03586175770294825,
          0.03534682518893347,
          0.034831311237327085,
          0.03431537017714133,
          0.033799162792395504,
          0.03328285584276429,
          0.03276662156376381,
          0.03225063714943903,
          0.031735084220517344,
          0.031220148280978542,
          0.03070601816596272,
          0.030192885483890725,
          0.02968094405561461,
          0.029170389353340296,
          0.0286614179419826,
          0.028154226925512504,
          0.027649013400750738,
          0.02714597392094372,
          0.02664530397133066,
          0.026147197458777638,
          0.025651846217411938,
          0.025159439532044196,
          0.02467016368101433,
          0.02418420149994101,
          0.02370173196769842,
          0.02322292981578267,
          0.022747965162071917,
          0.02227700316982265,
          0.021810203732587654,
          0.021347721185583587,
          0.020889704043882615,
          0.020436294767653036,
          0.019987629554528607,
          0.019543838159044195,
          0.019105043738943808,
          0.018671362728035858,
          0.01824290473515117,
          0.01781977246864393,
          0.01740206168577028,
          0.01698986116618048,
          0.016583252708670084,
          0.016182311150254997,
          0.01578710440656147,
          0.015397693532458168,
          0.01501413280180294,
          0.014636469805127806,
          0.014264745564051374,
          0.013898994661174847,
          0.01353924538419905,
          0.013185519882986035,
          0.012837834338284143,
          0.012496199140837057,
          0.012160619079609405,
          0.011831093537874302,
          0.011507616695935797,
          0.011190177739284584,
          0.01087876107102222,
          0.01057334652742839,
          0.010273909595589534,
          0.00998042163205783,
          0.009692850081558978,
          0.009411158694825655,
          0.009135307744689757,
          0.0088652542396277,
          0.008600952134015577,
          0.00834235253441259,
          0.00808940390125817,
          0.007842052245429216,
          0.007600241319170939,
          0.007363912800977043,
          0.007133006474058258,
          0.00690746039809997,
          0.006687211074069087,
          0.006472193601889275,
          0.006262341830858318,
          0.00605758850273565,
          0.005857865387478202,
          0.00566310341165073,
          0.0054732327795809065,
          0.005288183087372128,
          0.0051078834299230205,
          0.004932262501139767,
          0.0047612486875565395,
          0.004594770155608232,
          0.004432754932823539,
          0.004275130983226819,
          0.0041218262772554585,
          0.003972768856511823,
          0.0038278868936810033,
          0.003687108747951956,
          0.0035503630162843206,
          0.0034175785808648112,
          0.003288684653094806,
          0.0031636108144482153,
          0.003042287054530431,
          0.002924643806661876,
          0.0028106119812978817,
          0.002700122997584219,
          0.0025931088133329203,
          0.0024895019536871903,
          0.0023892355387265937,
          0.0022922433102453435,
          0.002198459657917143,
          0.0021078196450396414,
          0.0020202590340309117,
          0.0019357143118290936,
          0.0018541227153250279,
          0.0017754222569360567,
          0.0016995517504078098,
          0.0016264508369096854,
          0.0015560600114686738,
          0.001488320649766051,
          0.0014231750353013294,
          0.001360566386909205,
          0.0013004388865965025,
          0.0012427377076488883,
          0.0011874090429406339,
          0.0011344001333650428,
          0.0010836592962888848,
          0.0010351359539206297,
          9.887806614702105E-4,
          9.445451349668853E-4,
          9.023822785918527E-4,
          8.62246211373666E-4,
          8.240922930868737E-4,
          7.878771491880333E-4,
          7.535586946181453E-4,
          7.210961562964904E-4,
          6.904500941281563E-4,
          6.615824203457615E-4,
          6.344564170054219E-4,
          6.090367514574526E-4,
          5.852894896139304E-4,
          5.631821068378714E-4,
          5.426834962823465E-4,
          5.237639745125242E-4,
          5.063952842490811E-4,
          4.905505940779165E-4,
          4.762044949783971E-4,
          4.633329935304543E-4,
          4.5191350166992096E-4,
          4.4192482287112265E-4,
          4.3334713464628864E-4,
          4.2616196726253145E-4,
          4.203521785890263E-4,
          4.159019249995651E-4,
          4.127966282688455E-4,
          4.110229384145969E-4,
          4.1056869245200133E-4,
          4.11422869041714E-4,
          4.1357553902816597E-4,
          4.170178118806583E-4,
          4.217417780660278E-4,
          4.277404473983214E-4,
          4.3500768342793957E-4,
          4.435381339500311E-4,
          4.533271577295363E-4,
          4.643707475580847E-4,
          4.7666544977594357E-4,
          4.902082804103647E-4,
          5.049966380997712E-4,
          5.210282139914775E-4,
          5.383008988186652E-4,
          5.568126873803476E-4,
          5.765615806657708E-4,
          5.975454858821639E-4,
          6.19762114661874E-4,
          6.432088797415107E-4,
          6.678827904218534E-4,
          6.937803471327145E-4,
          7.208974354417214E-4,
          7.492292198598394E-4,
          7.787700378095273E-4,
          8.09513294133315E-4,
          8.414513565315543E-4,
          8.745754523276596E-4,
          9.088755669675412E-4,
          9.443403446669278E-4,
          9.809569916255007E-4,
          0.0010187111822309856,
          0.0010575869686780684,
          0.001097566694427807,
          0.0011386309119315484,
          0.0011807583050401328,
          0.0012239256165139534,
          0.0012681075810418874,
          0.001313276864168162,
          0.0013594040075143603,
          0.0014064573806704746,
          0.0014544031401131057,
          0.0015032051954910904,
          0.0015528251835989393,
          0.001603222450336389,
          0.0016543540409282359,
          0.0017061746986526565,
          0.0017586368722981387,
          0.0018116907325391397,
          0.0018652841973891298,
          0.0019193629668563307,
          0.0019738705668924613,
          0.002028748402688899,
          0.0020839358213368183,
          0.002139370183829644,
          0.0021949869463463926,
          0.002250719750714371,
          0.002306500523909016,
          0.0023622595864074055,
          0.0024179257691708043,
          0.002473426538990404,
          0.0025286881318897325,
          0.00258363569423662,
          0.002638193431178221,
          0.0026922847619740733,
          0.0027458324817646635,
          0.002798758929277169,
          0.002850986159935749,
          0.00290243612381154,
          0.0029530308478170433,
          0.0030026926215218877,
          0.0030513441859413015,
          0.0030989089246260797,
          0.003145311056362734,
          0.0031904758287757463,
          0.003234329712110006,
          0.0032768005924612,
          0.003317817963714623,
          0.0033573131174493647,
          0.0033952193300648514,
          0.0034314720463899918,
          0.003466009059042472,
          0.0034987706828163954,
          0.003529699923390779,
          0.0035587426396694057,
          0.0035858476990836994,
          0.0036109671252153885,
          0.0036340562371235674,
          0.0036550737797922876,
          0.0036739820451489446,
          0.0036907469831411748,
          0.0037053383023997206,
          0.003717729560057252,
          0.0037278982403377158,
          0.0037358258215776344,
          0.0037414978313892394,
          0.0037449038897253684
         ],
         "yaxis": "y",
         "type": "scatter"
        }
       ],
       "layout": {
        "barmode": "overlay",
        "hovermode": "closest",
        "legend": {
         "traceorder": "reversed",
         "title": {
          "text": "Group"
         }
        },
        "xaxis": {
         "anchor": "y2",
         "domain": [
          0.0,
          1.0
         ],
         "zeroline": false,
         "title": {
          "text": "Knot duration [s]"
         }
        },
        "yaxis": {
         "anchor": "free",
         "domain": [
          0.0,
          1
         ],
         "position": 0.0
        },
        "template": {
         "data": {
          "histogram2dcontour": [
           {
            "type": "histogram2dcontour",
            "colorbar": {
             "outlinewidth": 0,
             "ticks": ""
            },
            "colorscale": [
             [
              0.0,
              "#0d0887"
             ],
             [
              0.1111111111111111,
              "#46039f"
             ],
             [
              0.2222222222222222,
              "#7201a8"
             ],
             [
              0.3333333333333333,
              "#9c179e"
             ],
             [
              0.4444444444444444,
              "#bd3786"
             ],
             [
              0.5555555555555556,
              "#d8576b"
             ],
             [
              0.6666666666666666,
              "#ed7953"
             ],
             [
              0.7777777777777778,
              "#fb9f3a"
             ],
             [
              0.8888888888888888,
              "#fdca26"
             ],
             [
              1.0,
              "#f0f921"
             ]
            ]
           }
          ],
          "choropleth": [
           {
            "type": "choropleth",
            "colorbar": {
             "outlinewidth": 0,
             "ticks": ""
            }
           }
          ],
          "histogram2d": [
           {
            "type": "histogram2d",
            "colorbar": {
             "outlinewidth": 0,
             "ticks": ""
            },
            "colorscale": [
             [
              0.0,
              "#0d0887"
             ],
             [
              0.1111111111111111,
              "#46039f"
             ],
             [
              0.2222222222222222,
              "#7201a8"
             ],
             [
              0.3333333333333333,
              "#9c179e"
             ],
             [
              0.4444444444444444,
              "#bd3786"
             ],
             [
              0.5555555555555556,
              "#d8576b"
             ],
             [
              0.6666666666666666,
              "#ed7953"
             ],
             [
              0.7777777777777778,
              "#fb9f3a"
             ],
             [
              0.8888888888888888,
              "#fdca26"
             ],
             [
              1.0,
              "#f0f921"
             ]
            ]
           }
          ],
          "heatmap": [
           {
            "type": "heatmap",
            "colorbar": {
             "outlinewidth": 0,
             "ticks": ""
            },
            "colorscale": [
             [
              0.0,
              "#0d0887"
             ],
             [
              0.1111111111111111,
              "#46039f"
             ],
             [
              0.2222222222222222,
              "#7201a8"
             ],
             [
              0.3333333333333333,
              "#9c179e"
             ],
             [
              0.4444444444444444,
              "#bd3786"
             ],
             [
              0.5555555555555556,
              "#d8576b"
             ],
             [
              0.6666666666666666,
              "#ed7953"
             ],
             [
              0.7777777777777778,
              "#fb9f3a"
             ],
             [
              0.8888888888888888,
              "#fdca26"
             ],
             [
              1.0,
              "#f0f921"
             ]
            ]
           }
          ],
          "heatmapgl": [
           {
            "type": "heatmapgl",
            "colorbar": {
             "outlinewidth": 0,
             "ticks": ""
            },
            "colorscale": [
             [
              0.0,
              "#0d0887"
             ],
             [
              0.1111111111111111,
              "#46039f"
             ],
             [
              0.2222222222222222,
              "#7201a8"
             ],
             [
              0.3333333333333333,
              "#9c179e"
             ],
             [
              0.4444444444444444,
              "#bd3786"
             ],
             [
              0.5555555555555556,
              "#d8576b"
             ],
             [
              0.6666666666666666,
              "#ed7953"
             ],
             [
              0.7777777777777778,
              "#fb9f3a"
             ],
             [
              0.8888888888888888,
              "#fdca26"
             ],
             [
              1.0,
              "#f0f921"
             ]
            ]
           }
          ],
          "contourcarpet": [
           {
            "type": "contourcarpet",
            "colorbar": {
             "outlinewidth": 0,
             "ticks": ""
            }
           }
          ],
          "contour": [
           {
            "type": "contour",
            "colorbar": {
             "outlinewidth": 0,
             "ticks": ""
            },
            "colorscale": [
             [
              0.0,
              "#0d0887"
             ],
             [
              0.1111111111111111,
              "#46039f"
             ],
             [
              0.2222222222222222,
              "#7201a8"
             ],
             [
              0.3333333333333333,
              "#9c179e"
             ],
             [
              0.4444444444444444,
              "#bd3786"
             ],
             [
              0.5555555555555556,
              "#d8576b"
             ],
             [
              0.6666666666666666,
              "#ed7953"
             ],
             [
              0.7777777777777778,
              "#fb9f3a"
             ],
             [
              0.8888888888888888,
              "#fdca26"
             ],
             [
              1.0,
              "#f0f921"
             ]
            ]
           }
          ],
          "surface": [
           {
            "type": "surface",
            "colorbar": {
             "outlinewidth": 0,
             "ticks": ""
            },
            "colorscale": [
             [
              0.0,
              "#0d0887"
             ],
             [
              0.1111111111111111,
              "#46039f"
             ],
             [
              0.2222222222222222,
              "#7201a8"
             ],
             [
              0.3333333333333333,
              "#9c179e"
             ],
             [
              0.4444444444444444,
              "#bd3786"
             ],
             [
              0.5555555555555556,
              "#d8576b"
             ],
             [
              0.6666666666666666,
              "#ed7953"
             ],
             [
              0.7777777777777778,
              "#fb9f3a"
             ],
             [
              0.8888888888888888,
              "#fdca26"
             ],
             [
              1.0,
              "#f0f921"
             ]
            ]
           }
          ],
          "mesh3d": [
           {
            "type": "mesh3d",
            "colorbar": {
             "outlinewidth": 0,
             "ticks": ""
            }
           }
          ],
          "scatter": [
           {
            "fillpattern": {
             "fillmode": "overlay",
             "size": 10,
             "solidity": 0.2
            },
            "type": "scatter"
           }
          ],
          "parcoords": [
           {
            "type": "parcoords",
            "line": {
             "colorbar": {
              "outlinewidth": 0,
              "ticks": ""
             }
            }
           }
          ],
          "scatterpolargl": [
           {
            "type": "scatterpolargl",
            "marker": {
             "colorbar": {
              "outlinewidth": 0,
              "ticks": ""
             }
            }
           }
          ],
          "bar": [
           {
            "error_x": {
             "color": "#2a3f5f"
            },
            "error_y": {
             "color": "#2a3f5f"
            },
            "marker": {
             "line": {
              "color": "#E5ECF6",
              "width": 0.5
             },
             "pattern": {
              "fillmode": "overlay",
              "size": 10,
              "solidity": 0.2
             }
            },
            "type": "bar"
           }
          ],
          "scattergeo": [
           {
            "type": "scattergeo",
            "marker": {
             "colorbar": {
              "outlinewidth": 0,
              "ticks": ""
             }
            }
           }
          ],
          "scatterpolar": [
           {
            "type": "scatterpolar",
            "marker": {
             "colorbar": {
              "outlinewidth": 0,
              "ticks": ""
             }
            }
           }
          ],
          "histogram": [
           {
            "marker": {
             "pattern": {
              "fillmode": "overlay",
              "size": 10,
              "solidity": 0.2
             }
            },
            "type": "histogram"
           }
          ],
          "scattergl": [
           {
            "type": "scattergl",
            "marker": {
             "colorbar": {
              "outlinewidth": 0,
              "ticks": ""
             }
            }
           }
          ],
          "scatter3d": [
           {
            "type": "scatter3d",
            "line": {
             "colorbar": {
              "outlinewidth": 0,
              "ticks": ""
             }
            },
            "marker": {
             "colorbar": {
              "outlinewidth": 0,
              "ticks": ""
             }
            }
           }
          ],
          "scattermapbox": [
           {
            "type": "scattermapbox",
            "marker": {
             "colorbar": {
              "outlinewidth": 0,
              "ticks": ""
             }
            }
           }
          ],
          "scatterternary": [
           {
            "type": "scatterternary",
            "marker": {
             "colorbar": {
              "outlinewidth": 0,
              "ticks": ""
             }
            }
           }
          ],
          "scattercarpet": [
           {
            "type": "scattercarpet",
            "marker": {
             "colorbar": {
              "outlinewidth": 0,
              "ticks": ""
             }
            }
           }
          ],
          "carpet": [
           {
            "aaxis": {
             "endlinecolor": "#2a3f5f",
             "gridcolor": "white",
             "linecolor": "white",
             "minorgridcolor": "white",
             "startlinecolor": "#2a3f5f"
            },
            "baxis": {
             "endlinecolor": "#2a3f5f",
             "gridcolor": "white",
             "linecolor": "white",
             "minorgridcolor": "white",
             "startlinecolor": "#2a3f5f"
            },
            "type": "carpet"
           }
          ],
          "table": [
           {
            "cells": {
             "fill": {
              "color": "#EBF0F8"
             },
             "line": {
              "color": "white"
             }
            },
            "header": {
             "fill": {
              "color": "#C8D4E3"
             },
             "line": {
              "color": "white"
             }
            },
            "type": "table"
           }
          ],
          "barpolar": [
           {
            "marker": {
             "line": {
              "color": "#E5ECF6",
              "width": 0.5
             },
             "pattern": {
              "fillmode": "overlay",
              "size": 10,
              "solidity": 0.2
             }
            },
            "type": "barpolar"
           }
          ],
          "pie": [
           {
            "automargin": true,
            "type": "pie"
           }
          ]
         },
         "layout": {
          "autotypenumbers": "strict",
          "colorway": [
           "#636efa",
           "#EF553B",
           "#00cc96",
           "#ab63fa",
           "#FFA15A",
           "#19d3f3",
           "#FF6692",
           "#B6E880",
           "#FF97FF",
           "#FECB52"
          ],
          "font": {
           "color": "#2a3f5f"
          },
          "hovermode": "closest",
          "hoverlabel": {
           "align": "left"
          },
          "paper_bgcolor": "white",
          "plot_bgcolor": "#E5ECF6",
          "polar": {
           "bgcolor": "#E5ECF6",
           "angularaxis": {
            "gridcolor": "white",
            "linecolor": "white",
            "ticks": ""
           },
           "radialaxis": {
            "gridcolor": "white",
            "linecolor": "white",
            "ticks": ""
           }
          },
          "ternary": {
           "bgcolor": "#E5ECF6",
           "aaxis": {
            "gridcolor": "white",
            "linecolor": "white",
            "ticks": ""
           },
           "baxis": {
            "gridcolor": "white",
            "linecolor": "white",
            "ticks": ""
           },
           "caxis": {
            "gridcolor": "white",
            "linecolor": "white",
            "ticks": ""
           }
          },
          "coloraxis": {
           "colorbar": {
            "outlinewidth": 0,
            "ticks": ""
           }
          },
          "colorscale": {
           "sequential": [
            [
             0.0,
             "#0d0887"
            ],
            [
             0.1111111111111111,
             "#46039f"
            ],
            [
             0.2222222222222222,
             "#7201a8"
            ],
            [
             0.3333333333333333,
             "#9c179e"
            ],
            [
             0.4444444444444444,
             "#bd3786"
            ],
            [
             0.5555555555555556,
             "#d8576b"
            ],
            [
             0.6666666666666666,
             "#ed7953"
            ],
            [
             0.7777777777777778,
             "#fb9f3a"
            ],
            [
             0.8888888888888888,
             "#fdca26"
            ],
            [
             1.0,
             "#f0f921"
            ]
           ],
           "sequentialminus": [
            [
             0.0,
             "#0d0887"
            ],
            [
             0.1111111111111111,
             "#46039f"
            ],
            [
             0.2222222222222222,
             "#7201a8"
            ],
            [
             0.3333333333333333,
             "#9c179e"
            ],
            [
             0.4444444444444444,
             "#bd3786"
            ],
            [
             0.5555555555555556,
             "#d8576b"
            ],
            [
             0.6666666666666666,
             "#ed7953"
            ],
            [
             0.7777777777777778,
             "#fb9f3a"
            ],
            [
             0.8888888888888888,
             "#fdca26"
            ],
            [
             1.0,
             "#f0f921"
            ]
           ],
           "diverging": [
            [
             0,
             "#8e0152"
            ],
            [
             0.1,
             "#c51b7d"
            ],
            [
             0.2,
             "#de77ae"
            ],
            [
             0.3,
             "#f1b6da"
            ],
            [
             0.4,
             "#fde0ef"
            ],
            [
             0.5,
             "#f7f7f7"
            ],
            [
             0.6,
             "#e6f5d0"
            ],
            [
             0.7,
             "#b8e186"
            ],
            [
             0.8,
             "#7fbc41"
            ],
            [
             0.9,
             "#4d9221"
            ],
            [
             1,
             "#276419"
            ]
           ]
          },
          "xaxis": {
           "gridcolor": "white",
           "linecolor": "white",
           "ticks": "",
           "title": {
            "standoff": 15
           },
           "zerolinecolor": "white",
           "automargin": true,
           "zerolinewidth": 2
          },
          "yaxis": {
           "gridcolor": "white",
           "linecolor": "white",
           "ticks": "",
           "title": {
            "standoff": 15
           },
           "zerolinecolor": "white",
           "automargin": true,
           "zerolinewidth": 2
          },
          "scene": {
           "xaxis": {
            "backgroundcolor": "#E5ECF6",
            "gridcolor": "white",
            "linecolor": "white",
            "showbackground": true,
            "ticks": "",
            "zerolinecolor": "white",
            "gridwidth": 2
           },
           "yaxis": {
            "backgroundcolor": "#E5ECF6",
            "gridcolor": "white",
            "linecolor": "white",
            "showbackground": true,
            "ticks": "",
            "zerolinecolor": "white",
            "gridwidth": 2
           },
           "zaxis": {
            "backgroundcolor": "#E5ECF6",
            "gridcolor": "white",
            "linecolor": "white",
            "showbackground": true,
            "ticks": "",
            "zerolinecolor": "white",
            "gridwidth": 2
           }
          },
          "shapedefaults": {
           "line": {
            "color": "#2a3f5f"
           }
          },
          "annotationdefaults": {
           "arrowcolor": "#2a3f5f",
           "arrowhead": 0,
           "arrowwidth": 1
          },
          "geo": {
           "bgcolor": "white",
           "landcolor": "#E5ECF6",
           "subunitcolor": "white",
           "showland": true,
           "showlakes": true,
           "lakecolor": "white"
          },
          "title": {
           "x": 0.05
          },
          "mapbox": {
           "style": "light"
          }
         }
        },
        "shapes": [
         {
          "line": {
           "color": "green",
           "dash": "dash",
           "width": 3
          },
          "type": "line",
          "x0": 35.27517884632612,
          "x1": 35.27517884632612,
          "xref": "x",
          "y0": 0,
          "y1": 1,
          "yref": "y domain"
         }
        ],
        "annotations": [
         {
          "showarrow": false,
          "text": "35.28",
          "x": 35.27517884632612,
          "xanchor": "left",
          "xref": "x",
          "y": 1,
          "yanchor": "top",
          "yref": "y domain"
         }
        ]
       },
       "config": {
        "plotlyServerURL": "https://plot.ly"
       }
      },
      "text/html": [
       "<div>                            <div id=\"2cdef9f7-4a49-47a3-9109-cdc527af82a0\" class=\"plotly-graph-div\" style=\"height:525px; width:100%;\"></div>            <script type=\"text/javascript\">                require([\"plotly\"], function(Plotly) {                    window.PLOTLYENV=window.PLOTLYENV || {};                                    if (document.getElementById(\"2cdef9f7-4a49-47a3-9109-cdc527af82a0\")) {                    Plotly.newPlot(                        \"2cdef9f7-4a49-47a3-9109-cdc527af82a0\",                        [{\"legendgroup\":\"student\",\"marker\":{\"color\":\"rgb(31, 119, 180)\"},\"mode\":\"lines\",\"name\":\"student\",\"showlegend\":true,\"x\":[22.0,22.16,22.32,22.48,22.64,22.8,22.96,23.12,23.28,23.44,23.6,23.76,23.92,24.08,24.240000000000002,24.4,24.56,24.72,24.88,25.04,25.2,25.36,25.52,25.68,25.84,26.0,26.16,26.32,26.48,26.64,26.8,26.96,27.12,27.28,27.44,27.6,27.759999999999998,27.92,28.08,28.240000000000002,28.4,28.56,28.72,28.88,29.04,29.2,29.36,29.52,29.68,29.84,30.0,30.16,30.32,30.48,30.64,30.8,30.96,31.119999999999997,31.28,31.439999999999998,31.6,31.759999999999998,31.92,32.08,32.24,32.4,32.56,32.72,32.88,33.04,33.2,33.36,33.519999999999996,33.68,33.84,34.0,34.16,34.32,34.480000000000004,34.64,34.8,34.96,35.12,35.28,35.44,35.6,35.76,35.92,36.08,36.24,36.4,36.56,36.72,36.88,37.04,37.2,37.36,37.519999999999996,37.68,37.84,38.0,38.16,38.32,38.480000000000004,38.64,38.8,38.96,39.120000000000005,39.28,39.44,39.6,39.760000000000005,39.92,40.08,40.239999999999995,40.4,40.56,40.72,40.879999999999995,41.04,41.2,41.36,41.519999999999996,41.68,41.84,42.0,42.16,42.32,42.480000000000004,42.64,42.8,42.96,43.120000000000005,43.28,43.44,43.6,43.760000000000005,43.92,44.08,44.239999999999995,44.4,44.56,44.72,44.879999999999995,45.04,45.2,45.36,45.519999999999996,45.68,45.84,46.0,46.16,46.32,46.480000000000004,46.64,46.8,46.96,47.120000000000005,47.28,47.44,47.6,47.760000000000005,47.92,48.08,48.239999999999995,48.4,48.56,48.72,48.879999999999995,49.04,49.2,49.36,49.519999999999996,49.68,49.84,50.0,50.16,50.32,50.480000000000004,50.64,50.8,50.96,51.120000000000005,51.28,51.44,51.6,51.760000000000005,51.92,52.08,52.239999999999995,52.4,52.56,52.72,52.879999999999995,53.04,53.2,53.36,53.519999999999996,53.68,53.84,54.0,54.16,54.32,54.48,54.64,54.8,54.96,55.12,55.28,55.44,55.6,55.76,55.92,56.08,56.24,56.4,56.56,56.72,56.88,57.04,57.2,57.36,57.52,57.68,57.84,58.0,58.16,58.32,58.48,58.64,58.8,58.96,59.12,59.28,59.44,59.6,59.76,59.92,60.08,60.24,60.4,60.56,60.72,60.88,61.04,61.2,61.36,61.52,61.68,61.84,62.0,62.16,62.32,62.48,62.64,62.8,62.96,63.12,63.28,63.44,63.6,63.76,63.92,64.08,64.24000000000001,64.4,64.56,64.72,64.88,65.03999999999999,65.2,65.36,65.52000000000001,65.68,65.84,66.0,66.16,66.32,66.47999999999999,66.64,66.8,66.96000000000001,67.12,67.28,67.44,67.6,67.75999999999999,67.92,68.08,68.24000000000001,68.4,68.56,68.72,68.88,69.03999999999999,69.2,69.36,69.52000000000001,69.68,69.84,70.0,70.16,70.32,70.47999999999999,70.64,70.8,70.96000000000001,71.12,71.28,71.44,71.6,71.75999999999999,71.92,72.08,72.24000000000001,72.4,72.56,72.72,72.88,73.03999999999999,73.2,73.36,73.52000000000001,73.68,73.84,74.0,74.16,74.32,74.47999999999999,74.64,74.8,74.96000000000001,75.12,75.28,75.44,75.6,75.75999999999999,75.92,76.08,76.24000000000001,76.4,76.56,76.72,76.88,77.03999999999999,77.2,77.36,77.52000000000001,77.68,77.84,78.0,78.16,78.32,78.47999999999999,78.64,78.8,78.96000000000001,79.12,79.28,79.44,79.6,79.75999999999999,79.92,80.08,80.24000000000001,80.4,80.56,80.72,80.88,81.03999999999999,81.2,81.36,81.52000000000001,81.68,81.84,82.0,82.16,82.32,82.47999999999999,82.64,82.8,82.96000000000001,83.12,83.28,83.44,83.6,83.75999999999999,83.92,84.08,84.24000000000001,84.4,84.56,84.72,84.88,85.03999999999999,85.2,85.36,85.52000000000001,85.68,85.84,86.0,86.16,86.32,86.48,86.64,86.8,86.96,87.12,87.28,87.44,87.6,87.76,87.92,88.08,88.24,88.4,88.56,88.72,88.88,89.04,89.2,89.36,89.52,89.68,89.84,90.0,90.16,90.32,90.48,90.64,90.8,90.96,91.12,91.28,91.44,91.6,91.76,91.92,92.08,92.24,92.4,92.56,92.72,92.88,93.04,93.2,93.36,93.52,93.68,93.84,94.0,94.16,94.32,94.48,94.64,94.8,94.96,95.12,95.28,95.44,95.6,95.76,95.92,96.08,96.24,96.4,96.56,96.72,96.88,97.04,97.2,97.36,97.52,97.68,97.84,98.0,98.16,98.32,98.48,98.64,98.8,98.96,99.12,99.28,99.44,99.6,99.76,99.92,100.08,100.24,100.4,100.56,100.72,100.88,101.04,101.2,101.36,101.52,101.68,101.84],\"xaxis\":\"x\",\"y\":[0.012007917301113717,0.012134537983894054,0.012260306970093044,0.012385184507672306,0.01250913149035543,0.012632109490734804,0.012754080792410645,0.012875008421113979,0.012994856174767349,0.013113588652439235,0.013231171282149994,0.013347570347490048,0.013462753013012618,0.013576687348366383,0.013689342351135884,0.013800687968359546,0.013910695116698752,0.014019335701233213,0.014126582632861378,0.014232409844286874,0.014336792304575269,0.014439706032268037,0.01454112810704349,0.014641036679917726,0.014739410981980982,0.014836231331668292,0.014931479140565855,0.01502513691775761,0.015117188272719313,0.015207617916770453,0.015296411663096851,0.01538355642535984,0.015469040214910523,0.015552852136630347,0.015634982383421755,0.015715422229375248,0.01579416402164184,0.015871201171041894,0.015946528141443997,0.01602014043794955,0.016092034593920886,0.016162208156892784,0.016230659673409007,0.016297388672827585,0.01636239565013976,0.016425682047849527,0.01648725023696193,0.016547103497129373,0.016605245996006872,0.016661682767867652,0.016716419691531825,0.016769463467661384,0.01682082159547561,0.016870502348941177,0.016918514752491936,0.016964868556333276,0.017009574211386262,0.017052642843926543,0.017094086229972855,0.01713391676947967,0.01717214746038795,0.017208791872587555,0.017243864121843838,0.017277378843740445,0.017309351167688974,0.017339796691055426,0.017368731453451813,0.01739617191124023,0.017422134912295047,0.017446637671067446,0.017469697743994844,0.017491333005296025,0.017511561623190876,0.017530402036581905,0.01754787293223243,0.01756399322247466,0.01757878202347828,0.017592258634108453,0.017604442515399547,0.017615353270668717,0.01762501062629133,0.017633434413157494,0.017640644548826866,0.017646661020396488,0.017651503868093783,0.01765519316960462,0.017657749025143814,0.017659191543273237,0.017659540827469778,0.0176588169634439,0.0176570400072062,0.01765422997387785,0.01765040682723813,0.01764559047000017,0.017639800734803673,0.017633057375911716,0.017625380061596054,0.017616788367194058,0.01760730176881784,0.017596939637694965,0.01758572123511782,0.017573665707977637,0.017560792084857047,0.017547119272654076,0.017532666053708998,0.017517451083404,0.017501492888204823,0.017484809864112452,0.01746742027549173,0.017449342254243404,0.01743059379928527,0.017411192776307375,0.01739115691776613,0.01737050382308161,0.01734925095900232,0.017327415660101493,0.017305015129369265,0.01728206643886498,0.017258586530394446,0.01723459221617716,0.01721010017946933,0.017185126975108933,0.017159689029949843,0.01713380264315326,0.017107483986305128,0.017080749103329903,0.01705361391017171,0.017026094194215666,0.016998205613423155,0.0169699636951567,0.01694138383467118,0.016912481293250337,0.01688327119596866,0.016853768529061012,0.016823988136883898,0.016793944718454298,0.016763652823553982,0.016733126848389176,0.01670238103079753,0.016671429444996354,0.016640285995868375,0.016608964412783204,0.016577478242954916,0.016545840844338463,0.016514065378069535,0.016482164800454797,0.01645015185452169,0.01641803906113875,0.01638583870972004,0.016353562848528763,0.01632122327459776,0.01628883152328605,0.01625639885749302,0.01622393625655334,0.016191454404837824,0.016158963680087055,0.016126474141506322,0.016093995517652167,0.016061537194142106,0.01602910820122083,0.015996717201217356,0.015964372475928978,0.015932081913968898,0.01589985299811563,0.015867692792703114,0.015835607931091282,0.015803604603257755,0.01577168854355161,0.01573986501865093,0.015708138815766114,0.01567651423113116,0.015644995058825176,0.015613584579966559,0.015582285552321874,0.015551100200371468,0.015520030205873283,0.01548907669896578,0.015458240249850536,0.01542752086109378,0.015396917960585893,0.015366430395196183,0.015336056425159752,0.015305793719231506,0.015275639350641346,0.015245589793882856,0.015215640922366333,0.015185788006965366,0.015156025715484134,0.015126348113071045,0.015096748663602047,0.01506722023205506,0.015037755087894763,0.015008344909484751,0.014978980789541844,0.014949653241644746,0.014920352207807255,0.014891067067123322,0.014861786645488921,0.014832499226403319,0.014803192562849425,0.014773853890250457,0.014744469940497594,0.014715026957040576,0.014685510711030452,0.01465590651850132,0.014626199258574979,0.01459637339267002,0.014566412984694199,0.014536301722196242,0.014506022938451215,0.014475559635450296,0.014444894507764268,0.014414009967247001,0.014382888168543223,0.014351511035362667,0.014319860287480278,0.014287917468420524,0.014255663973781384,0.014223081080152182,0.014190149974577258,0.014156851784516093,0.014123167608248792,0.014089078545674406,0.014054565729448234,0.014019610356403096,0.013984193719198497,0.013948297238140379,0.013911902493113958,0.013874991255570627,0.013837545520510135,0.013799547538398292,0.013760979846960529,0.013721825302791256,0.013682067112719168,0.013641688864868657,0.01360067455935792,0.013559008638574663,0.013516676016970836,0.013473662110318871,0.0134299528643722,0.01338553478287439,0.013340394954861778,0.013294521081206394,0.01324790150034657,0.013200525213154776,0.013152381906893471,0.01310346197821162,0.013053756555136237,0.01300325751801549,0.012951957519371669,0.012899850002624627,0.012846929219648522,0.01279319024712692,0.012738629001673728,0.012683242253690028,0.012627027639929154,0.01256998367474513,0.012512109760002277,0.012453406193626152,0.012393874176779236,0.012333515819646942,0.012272334145822876,0.012210333095284619,0.012147517525954405,0.012083893213841785,0.012019466851768126,0.011954246046675786,0.011888239315527379,0.01182145607980346,0.011753906658609644,0.01168560226040695,0.011616554973381685,0.01154677775447392,0.011476284417086193,0.011405089617496374,0.011333208840001384,0.011260658380820516,0.0111874553307896,0.011113617556879278,0.011039163682573036,0.01096411306714245,0.010888485783858978,0.010812302597183826,0.010735584938978759,0.010658354883782464,0.010580635123198883,0.010502448939444783,0.010423820178105668,0.010344773220149983,0.010265332953252765,0.01018552474248075,0.010105374400391824,0.010024908156602477,0.009944152626877234,0.009863134781794859,0.009781881915046116,0.009700421611418436,0.009618781714522438,0.009536990294315968,0.009455075614480236,0.009373066099703342,0.00929099030292532,0.009208876872598836,0.009126754520018876,0.009044651986774045,0.008962598012371481,0.008880621302086196,0.008798750495084941,0.008717014132873391,0.008635440628114362,0.008554058233863506,0.008472895013267505,0.00839197880976841,0.008311337217856339,0.008230997554410934,0.008150986830670727,0.00807133172486744,0.00799205855556088,0.007913193255708037,0.007834761347498252,0.007756787917984438,0.007679297595538489,0.00760231452715678,0.007525862356640209,0.007449964203670668,0.007374642643804276,0.0072999196893994206,0.007225816771495832,0.007152354722658678,0.007079553760799859,0.007007433473986669,0.006936012806245662,0.006865310044368237,0.006795342805721754,0.00672612802706871,0.006657681954394212,0.006590020133740266,0.006523157403043604,0.006457107884971939,0.006391884980751812,0.006327501364979553,0.006263968981405158,0.006201299039677393,0.006139502013036877,0.006078587636942397,0.006018564908614337,0.00595944208747782,0.005901226696486685,0.005843925524308545,0.0057875446283496565,0.005732089338597586,0.005677564262258418,0.005623973289164523,0.005571319597927814,0.005519605662812952,0.0054688332613039,0.005419003482336895,0.00537011673517217,0.005322172758876296,0.005275170632386663,0.005229108785129256,0.00518398500816052,0.005139796465804035,0.005096539707752567,0.00505421068160586,0.005012804745814828,0.0049723166830024975,0.004932740713632583,0.004894070509996434,0.004856299210489612,0.00481941943414947,0.0047834232954256685,0.004748302419155771,0.004714047955718819,0.004680650596339992,0.004648100588520322,0.004616387751565914,0.0045855014921917315,0.0045554308201758795,0.004526164364040851,0.004497690386739226,0.0044699968013217515,0.004443071186567037,0.004416900802552447,0.0043914726061471164,0.004366773266408528,0.004342789179865305,0.00431950648566959,0.004296911080603439,0.0042749886339245756,0.004253724602037797,0.0042331042429793,0.004213112630702098,0.004193734669151789,0.004174955106122671,0.004156758546885384,0.004139129467577997,0.004122052228353475,0.0041055110862773655,0.004089490207970391,0.004073973681991515,0.004058945530957954,0.004044389723399326,0.004030290185344023,0.004016630811636627,0.004003395476985915,0.003990568046743759,0.003978132387415868,0.003966072376905998,0.003954371914495834,0.003943014930563401,0.003931985396043297,0.003921267331632671,0.003910844816747222,0.0039007019982320347,0.0038908230988323653,0.0038811924254299112,0.0038717943770503783,0.0038626134526484526,0.0038536342586765033,0.003844841516443549,0.003836220069271173,0.0038277548894532012,0.0038194310850260126,0.0038112339063564237,0.0038031487525540648,0.0037951611777151733,0.003787256897004616,0.0037794217925828854,0.0037716419193846856,0.0037639035107555332,0.0037561929839526097,0.0037484969455159225,0.0037408021965154923,0.003733095737680092,0.0037253647744127207,0.003717596721697672,0.0037097792089037175,0.0037019000844875334,0.0036939474206012135,0.0036859095176071293,0.0036777749085032353,0.0036695323632612107,0.0036611708930796797,0.003652679754554085,0.0036440484537644713,0.0036352667502819527,0.003626324661094162,0.003617212464449572,0.0036079207036201063,0.003598440190580992,0.0035887620096064243,0.003578877520779132,0.0035687783634115113,0.00355845645937566,0.0035479040163391208,0.0035371135309028925,0.0035260777916378116,0.0035147898820151115,0.003503243183226605,0.0034914313768896602,0.00347934844763184,0.00346698868554984,0.0034543466885370174,0.003441417364473823,0.0034281959332749974,0.0034146779287874073,0.003400859200532249,0.0033867359152851507,0.0033723045584878267,0.003357561935484629,0.0033425051725776062,0.0033271317178935125,0.0033114393420563344,0.003295426138658968,0.0032790905245278228,0.0032624312397741854,0.003245447347626471,0.003228138234037561,0.0032105036070617598,0.003192543495996089,0.003174258250280946,0.0031556485381554976,0.0031367153450634275,0.0031174599718051285,0.0030978840324326945,0.0030779894518845954,0.003057778463357225,0.0030372536054110444,0.003016417718809472,0.0029952739430891308,0.0029738257128606297,0.0029520767538394493,0.002930031078607155,0.0029076929821035733,0.002885067036851211,0.0028621580879136105,0.0028389712475900713,0.002815511889849499,0.002791785644506942],\"yaxis\":\"y\",\"type\":\"scatter\"},{\"legendgroup\":\"expert\",\"marker\":{\"color\":\"rgb(255, 127, 14)\"},\"mode\":\"lines\",\"name\":\"expert\",\"showlegend\":true,\"x\":[14.53333333,14.604266663339999,14.67519999668,14.74613333002,14.81706666336,14.8879999967,14.958933330039999,15.02986666338,15.10079999672,15.17173333006,15.2426666634,15.313599996739999,15.38453333008,15.45546666342,15.52639999676,15.5973333301,15.668266663439999,15.73919999678,15.81013333012,15.88106666346,15.9519999968,16.02293333014,16.09386666348,16.16479999682,16.23573333016,16.3066666635,16.37759999684,16.44853333018,16.51946666352,16.59039999686,16.6613333302,16.73226666354,16.80319999688,16.87413333022,16.94506666356,17.0159999969,17.08693333024,17.15786666358,17.22879999692,17.29973333026,17.370666663599998,17.44159999694,17.51253333028,17.58346666362,17.65439999696,17.7253333303,17.79626666364,17.86719999698,17.93813333032,18.00906666366,18.079999997,18.15093333034,18.22186666368,18.29279999702,18.36373333036,18.4346666637,18.50559999704,18.576533330380002,18.64746666372,18.71839999706,18.789333330399998,18.86026666374,18.93119999708,19.00213333042,19.07306666376,19.1439999971,19.21493333044,19.28586666378,19.35679999712,19.42773333046,19.4986666638,19.56959999714,19.64053333048,19.711466663819998,19.78239999716,19.8533333305,19.92426666384,19.99519999718,20.06613333052,20.13706666386,20.207999997199998,20.27893333054,20.34986666388,20.42079999722,20.49173333056,20.5626666639,20.633599997239997,20.70453333058,20.77546666392,20.84639999726,20.9173333306,20.98826666394,21.05919999728,21.130133330619998,21.20106666396,21.2719999973,21.34293333064,21.413866663980002,21.48479999732,21.55573333066,21.626666664,21.69759999734,21.76853333068,21.83946666402,21.910399997360003,21.9813333307,22.05226666404,22.12319999738,22.19413333072,22.26506666406,22.335999997400002,22.40693333074,22.47786666408,22.548799997419998,22.61973333076,22.6906666641,22.76159999744,22.83253333078,22.90346666412,22.974399997459997,23.0453333308,23.11626666414,23.18719999748,23.25813333082,23.329066664160003,23.3999999975,23.470933330839998,23.54186666418,23.61279999752,23.68373333086,23.754666664200002,23.825599997540003,23.89653333088,23.96746666422,24.03839999756,24.1093333309,24.18026666424,24.251199997580002,24.32213333092,24.39306666426,24.4639999976,24.53493333094,24.60586666428,24.67679999762,24.74773333096,24.8186666643,24.889599997639998,24.96053333098,25.03146666432,25.10239999766,25.173333331000002,25.244266664340003,25.31519999768,25.38613333102,25.45706666436,25.5279999977,25.59893333104,25.669866664380002,25.74079999772,25.81173333106,25.8826666644,25.95359999774,26.02453333108,26.09546666442,26.16639999776,26.2373333311,26.308266664439998,26.37919999778,26.45013333112,26.52106666446,26.591999997800002,26.662933331140003,26.733866664479997,26.80479999782,26.87573333116,26.9466666645,27.01759999784,27.088533331180003,27.15946666452,27.23039999786,27.3013333312,27.37226666454,27.44319999788,27.514133331220002,27.58506666456,27.6559999979,27.726933331239998,27.79786666458,27.86879999792,27.93973333126,28.010666664600002,28.08159999794,28.15253333128,28.22346666462,28.29439999796,28.3653333313,28.43626666464,28.507199997980003,28.578133331320004,28.64906666466,28.719999998,28.79093333134,28.86186666468,28.932799998020002,29.003733331360003,29.0746666647,29.14559999804,29.21653333138,29.28746666472,29.35839999806,29.429333331400002,29.50026666474,29.57119999808,29.64213333142,29.71306666476,29.7839999981,29.85493333144,29.925866664780003,29.996799998120004,30.067733331459998,30.1386666648,30.20959999814,30.28053333148,30.351466664820002,30.422399998160003,30.4933333315,30.564266664839998,30.63519999818,30.70613333152,30.77706666486,30.847999998200002,30.918933331540003,30.989866664879997,31.06079999822,31.13173333156,31.2026666649,31.27359999824,31.344533331580003,31.415466664919997,31.486399998260005,31.5573333316,31.62826666494,31.69919999828,31.770133331620002,31.841066664960003,31.911999998299997,31.982933331639998,32.05386666498,32.12479999832,32.19573333166,32.266666665,32.33759999834,32.40853333168,32.47946666502,32.55039999836,32.6213333317,32.69226666504,32.76319999838,32.834133331720004,32.905066665060005,32.9759999984,33.04693333174,33.11786666508,33.18879999842,33.25973333176,33.3306666651,33.401599998440005,33.47253333178,33.54346666512,33.61439999846,33.6853333318,33.756266665140004,33.82719999848,33.89813333182,33.96906666516,34.0399999985,34.11093333184,34.18186666518,34.252799998520004,34.32373333186,34.3946666652,34.46559999854,34.53653333188,34.60746666522,34.67839999856,34.7493333319,34.820266665240005,34.89119999858,34.96213333192,35.03306666526,35.1039999986,35.174933331940004,35.24586666528,35.31679999862,35.38773333196,35.4586666653,35.52959999864,35.600533331979996,35.671466665320004,35.74239999866,35.813333332,35.88426666534,35.95519999868,36.02613333202,36.09706666536,36.1679999987,36.238933332040006,36.30986666538,36.38079999872,36.45173333206,36.5226666654,36.593599998740004,36.66453333208,36.73546666542,36.80639999876,36.8773333321,36.94826666544,37.019199998779996,37.090133332120004,37.16106666546,37.2319999988,37.30293333214,37.37386666548,37.44479999882,37.51573333216,37.586666665500005,37.65759999884,37.72853333218,37.79946666552,37.87039999886,37.9413333322,38.012266665540004,38.08319999888,38.154133332220006,38.22506666556,38.2959999989,38.36693333224,38.43786666558,38.508799998920004,38.57973333226,38.6506666656,38.72159999894,38.79253333228,38.86346666562,38.93439999896,39.005333332300005,39.07626666564,39.14719999898,39.21813333232,39.28906666566,39.359999999,39.430933332340004,39.50186666568,39.57279999902,39.64373333236,39.7146666657,39.78559999904,39.85653333238,39.927466665720004,39.99839999906,40.0693333324,40.14026666574,40.21119999908,40.28213333242,40.35306666576,40.423999999100005,40.49493333244,40.56586666578,40.63679999912,40.70773333246,40.7786666658,40.84959999914,40.92053333248,40.99146666582,41.06239999916,41.1333333325,41.20426666584,41.27519999918,41.346133332520004,41.41706666586,41.4879999992,41.55893333254,41.62986666588,41.70079999922,41.771733332560004,41.842666665900005,41.91359999924,41.98453333258,42.05546666592,42.12639999926,42.1973333326,42.26826666594,42.339199999280005,42.41013333262,42.48106666596,42.5519999993,42.62293333264,42.69386666598,42.764799999320005,42.83573333266,42.906666666,42.97759999934,43.04853333268,43.11946666602,43.190399999360004,43.261333332700005,43.33226666604,43.40319999938,43.47413333272,43.54506666606,43.6159999994,43.68693333274,43.757866666080005,43.82879999942,43.89973333276,43.9706666661,44.04159999944,44.11253333278,44.18346666612,44.25439999946,44.3253333328,44.39626666614,44.46719999948,44.53813333282,44.609066666160004,44.679999999500005,44.75093333284,44.82186666618,44.89279999952,44.96373333286,45.0346666662,45.10559999954,45.176533332880005,45.24746666622,45.31839999956,45.3893333329,45.46026666624,45.531199999580004,45.60213333292,45.67306666626,45.7439999996,45.81493333294,45.88586666628,45.95679999962,46.027733332960004,46.098666666300005,46.16959999964,46.24053333298,46.31146666632,46.38239999966,46.453333333,46.524266666340004,46.59519999968,46.66613333302,46.73706666636,46.8079999997,46.87893333304,46.94986666638,47.02079999972,47.09173333306,47.1626666664,47.23359999974,47.30453333308,47.37546666642,47.44639999976,47.5173333331,47.58826666644,47.65919999978,47.730133333119994,47.80106666646,47.8719999998,47.942933333140004,48.01386666648,48.08479999982,48.15573333316,48.226666666499995,48.297599999839996,48.368533333180004,48.439466666520005,48.51039999986,48.5813333332,48.65226666654,48.72319999988,48.794133333219996,48.86506666656,48.935999999900005,49.00693333324,49.07786666658,49.14879999992,49.21973333326,49.290666666599996,49.36159999994,49.43253333328,49.50346666662,49.57439999996,49.6453333333,49.71626666664,49.78719999998,49.85813333332,49.92906666666],\"xaxis\":\"x\",\"y\":[0.006487057099344225,0.0066307970142256015,0.006778302907200154,0.006929736608079629,0.007085262877071904,0.007245049063127952,0.007409264743752454,0.007578081347344676,0.007751671759243049,0.007930209912749831,0.008113870366509675,0.008302827869709822,0.00849725691665526,0.008697331292353684,0.00890322361081713,0.009115104847852858,0.009333143870172717,0.009557506962697845,0.009788357355974133,0.010025854755642384,0.010270154875925043,0.01052140897909954,0.010779763422924327,0.011045359217970225,0.011318331596783174,0.011598809596768577,0.011886915658638163,0.012182765242201606,0.0124864664612142,0.01279811973890969,0.013117817485756194,0.013445643800869302,0.01378167419840506,0.014125975360132373,0.014478604915254899,0.014839611248412824,0.015209033336648317,0.015586900615966145,0.01597323287796122,0.016368040196821056,0.01677132288684335,0.01718307149043752,0.01760326679640567,0.01803187988812521,0.01846887222108029,0.018914195729017574,0.019367792957830008,0.01982959722610754,0.020299532811129305,0.02077751515891671,0.02126345111681735,0.021757239186947254,0.022258769798687877,0.02276792559831058,0.02328458175369128,0.023808606271978453,0.02433986032799068,0.024878198601048937,0.025423469617889168,0.025975516099258737,0.026534175307772436,0.02709927939459296,0.027670655742505525,0.028248127302978526,0.028831512924841485,0.029420627672266494,0.03001528312981239,0.030615287692381324,0.031220446838041344,0.03183056338179183,0.03244543770848514,0.033064867983270255,0.033688650338089196,0.03431657903293705,0.03494844659078745,0.035584043905286473,0.03622316032053196,0.036865583682473405,0.03751110036169806,0.03815949524759948,0.038810551714165434,0.03946405155786047,0.04011977490832025,0.04077750011281653,0.04143700359568976,0.0420980596941797,0.04276044047231495,0.043423915514742985,0.04408825170259351,0.044753212973671574,0.04541856006946344,0.046084050271615405,0.04674943713070406,0.04741447019025957,0.048078894709128864,0.04874245138536927,0.04940487608494938,0.050065899578595814,0.05072524729016554,0.05138263905994177,0.05203778892624327,0.05269040492871002,0.053340188936569305,0.05398683650511163,0.0546300367634983,0.05526947233689815,0.055904819305797104,0.05653574720515066,0.05716191906585235,0.057782991500772096,0.058398614837379695,0.05900843329871028,0.059612085234152803,0.060209203401249516,0.06079941529938845,0.061382343555950604,0.06195760636514335,0.06252481797941124,0.06308358925297099,0.06363352823666474,0.06417424082297486,0.06470533143968853,0.06522640379035201,0.0657370616393077,0.06623690963876813,0.06672555419505366,0.067202604370802,0.0676676728196545,0.06812037674963886,0.06856033891119823,0.06898718860556873,0.06940056270898246,0.06980010670797224,0.07018547574087726,0.07055633564050155,0.07091236397275871,0.07125325106604413,0.07157870102601972,0.07188843273046676,0.0721821807988687,0.07245969653142163,0.07272074881224165,0.07296512497163916,0.07319263160246643,0.07340309532570917,0.07359636350069301,0.07377230487550092,0.07393081017345579,0.07407179261180566,0.07419518834905993,0.07430095685775881,0.07438908121981605,0.0744595683419519,0.07451244908912873,0.07454777833431359,0.07456563492331686,0.07456612155389125,0.07454936456871948,0.0745155136623687,0.07446474150274143,0.07439724326800412,0.07431323610042469,0.07421295847899334,0.07409666951313529,0.07396464816024918,0.07381719237021431,0.0736546181604038,0.07347725862511599,0.07328546288369006,0.07307959497190322,0.07286003268155099,0.0726271663533909,0.07238139762887938,0.0721231381663484,0.07185280832745841,0.07157083583991403,0.0712776544425529,0.07097370251900086,0.070659421726139,0.07033525562364255,0.07000164831083276,0.06965904307702768,0.06930788107148889,0.06894859999893824,0.068581632846463,0.06820740664743925,0.0678263412878864,0.06743884836041648,0.0670453300706694,0.06664617820082136,0.06624177313443355,0.06583248294655894,0.06541866256266182,0.06500065298952244,0.0645787806209009,0.06415335662032824,0.06372467638297118,0.06329301907809398,0.06285864727320971,0.06242180664058188,0.06198272574630666,0.061541615921777974,0.061098671216916776,0.060654068434130605,0.06020796724156886,0.05976051036384745,0.059311823848041484,0.058862017402387785,0.05841118480479814,0.05795940437796691,0.05750673952755943,0.05705323933969567,0.05659893923369465,0.05614386166582475,0.05568801687960838,0.055231403698064355,0.054774010353129045,0.05431581534738994,0.05385678834318071,0.05339689107403466,0.05293607827346819,0.05247429861606923,0.052011495665895795,0.05154760882724828,0.05108257429296209,0.05061632598547627,0.05014879648606638,0.049679917947785215,0.049209622987831915,0.04873784555526642,0.04826452177020049,0.04778959073083014,0.04731299528491814,0.0468346827625976,0.04635460566763741,0.04587272232459173,0.04538899747954467,0.04490340285245512,0.04441591763940672,0.043926528963367246,0.04343523227236539,0.042942031684289984,0.04244694027781784,0.041949980329265564,0.04145118349544889,0.04095059094291197,0.040448253424157775,0.039944231301771105,0.03943859452157246,0.038931422536176784,0.0384228041805519,0.03791283750137777,0.03740162954219963,0.03688929608654217,0.03637596136131101,0.03586175770294825,0.03534682518893347,0.034831311237327085,0.03431537017714133,0.033799162792395504,0.03328285584276429,0.03276662156376381,0.03225063714943903,0.031735084220517344,0.031220148280978542,0.03070601816596272,0.030192885483890725,0.02968094405561461,0.029170389353340296,0.0286614179419826,0.028154226925512504,0.027649013400750738,0.02714597392094372,0.02664530397133066,0.026147197458777638,0.025651846217411938,0.025159439532044196,0.02467016368101433,0.02418420149994101,0.02370173196769842,0.02322292981578267,0.022747965162071917,0.02227700316982265,0.021810203732587654,0.021347721185583587,0.020889704043882615,0.020436294767653036,0.019987629554528607,0.019543838159044195,0.019105043738943808,0.018671362728035858,0.01824290473515117,0.01781977246864393,0.01740206168577028,0.01698986116618048,0.016583252708670084,0.016182311150254997,0.01578710440656147,0.015397693532458168,0.01501413280180294,0.014636469805127806,0.014264745564051374,0.013898994661174847,0.01353924538419905,0.013185519882986035,0.012837834338284143,0.012496199140837057,0.012160619079609405,0.011831093537874302,0.011507616695935797,0.011190177739284584,0.01087876107102222,0.01057334652742839,0.010273909595589534,0.00998042163205783,0.009692850081558978,0.009411158694825655,0.009135307744689757,0.0088652542396277,0.008600952134015577,0.00834235253441259,0.00808940390125817,0.007842052245429216,0.007600241319170939,0.007363912800977043,0.007133006474058258,0.00690746039809997,0.006687211074069087,0.006472193601889275,0.006262341830858318,0.00605758850273565,0.005857865387478202,0.00566310341165073,0.0054732327795809065,0.005288183087372128,0.0051078834299230205,0.004932262501139767,0.0047612486875565395,0.004594770155608232,0.004432754932823539,0.004275130983226819,0.0041218262772554585,0.003972768856511823,0.0038278868936810033,0.003687108747951956,0.0035503630162843206,0.0034175785808648112,0.003288684653094806,0.0031636108144482153,0.003042287054530431,0.002924643806661876,0.0028106119812978817,0.002700122997584219,0.0025931088133329203,0.0024895019536871903,0.0023892355387265937,0.0022922433102453435,0.002198459657917143,0.0021078196450396414,0.0020202590340309117,0.0019357143118290936,0.0018541227153250279,0.0017754222569360567,0.0016995517504078098,0.0016264508369096854,0.0015560600114686738,0.001488320649766051,0.0014231750353013294,0.001360566386909205,0.0013004388865965025,0.0012427377076488883,0.0011874090429406339,0.0011344001333650428,0.0010836592962888848,0.0010351359539206297,0.0009887806614702105,0.0009445451349668853,0.0009023822785918527,0.000862246211373666,0.0008240922930868737,0.0007878771491880333,0.0007535586946181453,0.0007210961562964904,0.0006904500941281563,0.0006615824203457615,0.0006344564170054219,0.0006090367514574526,0.0005852894896139304,0.0005631821068378714,0.0005426834962823465,0.0005237639745125242,0.0005063952842490811,0.0004905505940779165,0.0004762044949783971,0.0004633329935304543,0.00045191350166992096,0.00044192482287112265,0.00043334713464628864,0.00042616196726253145,0.0004203521785890263,0.0004159019249995651,0.0004127966282688455,0.0004110229384145969,0.00041056869245200133,0.000411422869041714,0.00041357553902816597,0.0004170178118806583,0.0004217417780660278,0.0004277404473983214,0.00043500768342793957,0.0004435381339500311,0.0004533271577295363,0.0004643707475580847,0.00047666544977594357,0.0004902082804103647,0.0005049966380997712,0.0005210282139914775,0.0005383008988186652,0.0005568126873803476,0.0005765615806657708,0.0005975454858821639,0.000619762114661874,0.0006432088797415107,0.0006678827904218534,0.0006937803471327145,0.0007208974354417214,0.0007492292198598394,0.0007787700378095273,0.000809513294133315,0.0008414513565315543,0.0008745754523276596,0.0009088755669675412,0.0009443403446669278,0.0009809569916255007,0.0010187111822309856,0.0010575869686780684,0.001097566694427807,0.0011386309119315484,0.0011807583050401328,0.0012239256165139534,0.0012681075810418874,0.001313276864168162,0.0013594040075143603,0.0014064573806704746,0.0014544031401131057,0.0015032051954910904,0.0015528251835989393,0.001603222450336389,0.0016543540409282359,0.0017061746986526565,0.0017586368722981387,0.0018116907325391397,0.0018652841973891298,0.0019193629668563307,0.0019738705668924613,0.002028748402688899,0.0020839358213368183,0.002139370183829644,0.0021949869463463926,0.002250719750714371,0.002306500523909016,0.0023622595864074055,0.0024179257691708043,0.002473426538990404,0.0025286881318897325,0.00258363569423662,0.002638193431178221,0.0026922847619740733,0.0027458324817646635,0.002798758929277169,0.002850986159935749,0.00290243612381154,0.0029530308478170433,0.0030026926215218877,0.0030513441859413015,0.0030989089246260797,0.003145311056362734,0.0031904758287757463,0.003234329712110006,0.0032768005924612,0.003317817963714623,0.0033573131174493647,0.0033952193300648514,0.0034314720463899918,0.003466009059042472,0.0034987706828163954,0.003529699923390779,0.0035587426396694057,0.0035858476990836994,0.0036109671252153885,0.0036340562371235674,0.0036550737797922876,0.0036739820451489446,0.0036907469831411748,0.0037053383023997206,0.003717729560057252,0.0037278982403377158,0.0037358258215776344,0.0037414978313892394,0.0037449038897253684],\"yaxis\":\"y\",\"type\":\"scatter\"}],                        {\"barmode\":\"overlay\",\"hovermode\":\"closest\",\"legend\":{\"traceorder\":\"reversed\",\"title\":{\"text\":\"Group\"}},\"xaxis\":{\"anchor\":\"y2\",\"domain\":[0.0,1.0],\"zeroline\":false,\"title\":{\"text\":\"Knot duration [s]\"}},\"yaxis\":{\"anchor\":\"free\",\"domain\":[0.0,1],\"position\":0.0},\"template\":{\"data\":{\"histogram2dcontour\":[{\"type\":\"histogram2dcontour\",\"colorbar\":{\"outlinewidth\":0,\"ticks\":\"\"},\"colorscale\":[[0.0,\"#0d0887\"],[0.1111111111111111,\"#46039f\"],[0.2222222222222222,\"#7201a8\"],[0.3333333333333333,\"#9c179e\"],[0.4444444444444444,\"#bd3786\"],[0.5555555555555556,\"#d8576b\"],[0.6666666666666666,\"#ed7953\"],[0.7777777777777778,\"#fb9f3a\"],[0.8888888888888888,\"#fdca26\"],[1.0,\"#f0f921\"]]}],\"choropleth\":[{\"type\":\"choropleth\",\"colorbar\":{\"outlinewidth\":0,\"ticks\":\"\"}}],\"histogram2d\":[{\"type\":\"histogram2d\",\"colorbar\":{\"outlinewidth\":0,\"ticks\":\"\"},\"colorscale\":[[0.0,\"#0d0887\"],[0.1111111111111111,\"#46039f\"],[0.2222222222222222,\"#7201a8\"],[0.3333333333333333,\"#9c179e\"],[0.4444444444444444,\"#bd3786\"],[0.5555555555555556,\"#d8576b\"],[0.6666666666666666,\"#ed7953\"],[0.7777777777777778,\"#fb9f3a\"],[0.8888888888888888,\"#fdca26\"],[1.0,\"#f0f921\"]]}],\"heatmap\":[{\"type\":\"heatmap\",\"colorbar\":{\"outlinewidth\":0,\"ticks\":\"\"},\"colorscale\":[[0.0,\"#0d0887\"],[0.1111111111111111,\"#46039f\"],[0.2222222222222222,\"#7201a8\"],[0.3333333333333333,\"#9c179e\"],[0.4444444444444444,\"#bd3786\"],[0.5555555555555556,\"#d8576b\"],[0.6666666666666666,\"#ed7953\"],[0.7777777777777778,\"#fb9f3a\"],[0.8888888888888888,\"#fdca26\"],[1.0,\"#f0f921\"]]}],\"heatmapgl\":[{\"type\":\"heatmapgl\",\"colorbar\":{\"outlinewidth\":0,\"ticks\":\"\"},\"colorscale\":[[0.0,\"#0d0887\"],[0.1111111111111111,\"#46039f\"],[0.2222222222222222,\"#7201a8\"],[0.3333333333333333,\"#9c179e\"],[0.4444444444444444,\"#bd3786\"],[0.5555555555555556,\"#d8576b\"],[0.6666666666666666,\"#ed7953\"],[0.7777777777777778,\"#fb9f3a\"],[0.8888888888888888,\"#fdca26\"],[1.0,\"#f0f921\"]]}],\"contourcarpet\":[{\"type\":\"contourcarpet\",\"colorbar\":{\"outlinewidth\":0,\"ticks\":\"\"}}],\"contour\":[{\"type\":\"contour\",\"colorbar\":{\"outlinewidth\":0,\"ticks\":\"\"},\"colorscale\":[[0.0,\"#0d0887\"],[0.1111111111111111,\"#46039f\"],[0.2222222222222222,\"#7201a8\"],[0.3333333333333333,\"#9c179e\"],[0.4444444444444444,\"#bd3786\"],[0.5555555555555556,\"#d8576b\"],[0.6666666666666666,\"#ed7953\"],[0.7777777777777778,\"#fb9f3a\"],[0.8888888888888888,\"#fdca26\"],[1.0,\"#f0f921\"]]}],\"surface\":[{\"type\":\"surface\",\"colorbar\":{\"outlinewidth\":0,\"ticks\":\"\"},\"colorscale\":[[0.0,\"#0d0887\"],[0.1111111111111111,\"#46039f\"],[0.2222222222222222,\"#7201a8\"],[0.3333333333333333,\"#9c179e\"],[0.4444444444444444,\"#bd3786\"],[0.5555555555555556,\"#d8576b\"],[0.6666666666666666,\"#ed7953\"],[0.7777777777777778,\"#fb9f3a\"],[0.8888888888888888,\"#fdca26\"],[1.0,\"#f0f921\"]]}],\"mesh3d\":[{\"type\":\"mesh3d\",\"colorbar\":{\"outlinewidth\":0,\"ticks\":\"\"}}],\"scatter\":[{\"fillpattern\":{\"fillmode\":\"overlay\",\"size\":10,\"solidity\":0.2},\"type\":\"scatter\"}],\"parcoords\":[{\"type\":\"parcoords\",\"line\":{\"colorbar\":{\"outlinewidth\":0,\"ticks\":\"\"}}}],\"scatterpolargl\":[{\"type\":\"scatterpolargl\",\"marker\":{\"colorbar\":{\"outlinewidth\":0,\"ticks\":\"\"}}}],\"bar\":[{\"error_x\":{\"color\":\"#2a3f5f\"},\"error_y\":{\"color\":\"#2a3f5f\"},\"marker\":{\"line\":{\"color\":\"#E5ECF6\",\"width\":0.5},\"pattern\":{\"fillmode\":\"overlay\",\"size\":10,\"solidity\":0.2}},\"type\":\"bar\"}],\"scattergeo\":[{\"type\":\"scattergeo\",\"marker\":{\"colorbar\":{\"outlinewidth\":0,\"ticks\":\"\"}}}],\"scatterpolar\":[{\"type\":\"scatterpolar\",\"marker\":{\"colorbar\":{\"outlinewidth\":0,\"ticks\":\"\"}}}],\"histogram\":[{\"marker\":{\"pattern\":{\"fillmode\":\"overlay\",\"size\":10,\"solidity\":0.2}},\"type\":\"histogram\"}],\"scattergl\":[{\"type\":\"scattergl\",\"marker\":{\"colorbar\":{\"outlinewidth\":0,\"ticks\":\"\"}}}],\"scatter3d\":[{\"type\":\"scatter3d\",\"line\":{\"colorbar\":{\"outlinewidth\":0,\"ticks\":\"\"}},\"marker\":{\"colorbar\":{\"outlinewidth\":0,\"ticks\":\"\"}}}],\"scattermapbox\":[{\"type\":\"scattermapbox\",\"marker\":{\"colorbar\":{\"outlinewidth\":0,\"ticks\":\"\"}}}],\"scatterternary\":[{\"type\":\"scatterternary\",\"marker\":{\"colorbar\":{\"outlinewidth\":0,\"ticks\":\"\"}}}],\"scattercarpet\":[{\"type\":\"scattercarpet\",\"marker\":{\"colorbar\":{\"outlinewidth\":0,\"ticks\":\"\"}}}],\"carpet\":[{\"aaxis\":{\"endlinecolor\":\"#2a3f5f\",\"gridcolor\":\"white\",\"linecolor\":\"white\",\"minorgridcolor\":\"white\",\"startlinecolor\":\"#2a3f5f\"},\"baxis\":{\"endlinecolor\":\"#2a3f5f\",\"gridcolor\":\"white\",\"linecolor\":\"white\",\"minorgridcolor\":\"white\",\"startlinecolor\":\"#2a3f5f\"},\"type\":\"carpet\"}],\"table\":[{\"cells\":{\"fill\":{\"color\":\"#EBF0F8\"},\"line\":{\"color\":\"white\"}},\"header\":{\"fill\":{\"color\":\"#C8D4E3\"},\"line\":{\"color\":\"white\"}},\"type\":\"table\"}],\"barpolar\":[{\"marker\":{\"line\":{\"color\":\"#E5ECF6\",\"width\":0.5},\"pattern\":{\"fillmode\":\"overlay\",\"size\":10,\"solidity\":0.2}},\"type\":\"barpolar\"}],\"pie\":[{\"automargin\":true,\"type\":\"pie\"}]},\"layout\":{\"autotypenumbers\":\"strict\",\"colorway\":[\"#636efa\",\"#EF553B\",\"#00cc96\",\"#ab63fa\",\"#FFA15A\",\"#19d3f3\",\"#FF6692\",\"#B6E880\",\"#FF97FF\",\"#FECB52\"],\"font\":{\"color\":\"#2a3f5f\"},\"hovermode\":\"closest\",\"hoverlabel\":{\"align\":\"left\"},\"paper_bgcolor\":\"white\",\"plot_bgcolor\":\"#E5ECF6\",\"polar\":{\"bgcolor\":\"#E5ECF6\",\"angularaxis\":{\"gridcolor\":\"white\",\"linecolor\":\"white\",\"ticks\":\"\"},\"radialaxis\":{\"gridcolor\":\"white\",\"linecolor\":\"white\",\"ticks\":\"\"}},\"ternary\":{\"bgcolor\":\"#E5ECF6\",\"aaxis\":{\"gridcolor\":\"white\",\"linecolor\":\"white\",\"ticks\":\"\"},\"baxis\":{\"gridcolor\":\"white\",\"linecolor\":\"white\",\"ticks\":\"\"},\"caxis\":{\"gridcolor\":\"white\",\"linecolor\":\"white\",\"ticks\":\"\"}},\"coloraxis\":{\"colorbar\":{\"outlinewidth\":0,\"ticks\":\"\"}},\"colorscale\":{\"sequential\":[[0.0,\"#0d0887\"],[0.1111111111111111,\"#46039f\"],[0.2222222222222222,\"#7201a8\"],[0.3333333333333333,\"#9c179e\"],[0.4444444444444444,\"#bd3786\"],[0.5555555555555556,\"#d8576b\"],[0.6666666666666666,\"#ed7953\"],[0.7777777777777778,\"#fb9f3a\"],[0.8888888888888888,\"#fdca26\"],[1.0,\"#f0f921\"]],\"sequentialminus\":[[0.0,\"#0d0887\"],[0.1111111111111111,\"#46039f\"],[0.2222222222222222,\"#7201a8\"],[0.3333333333333333,\"#9c179e\"],[0.4444444444444444,\"#bd3786\"],[0.5555555555555556,\"#d8576b\"],[0.6666666666666666,\"#ed7953\"],[0.7777777777777778,\"#fb9f3a\"],[0.8888888888888888,\"#fdca26\"],[1.0,\"#f0f921\"]],\"diverging\":[[0,\"#8e0152\"],[0.1,\"#c51b7d\"],[0.2,\"#de77ae\"],[0.3,\"#f1b6da\"],[0.4,\"#fde0ef\"],[0.5,\"#f7f7f7\"],[0.6,\"#e6f5d0\"],[0.7,\"#b8e186\"],[0.8,\"#7fbc41\"],[0.9,\"#4d9221\"],[1,\"#276419\"]]},\"xaxis\":{\"gridcolor\":\"white\",\"linecolor\":\"white\",\"ticks\":\"\",\"title\":{\"standoff\":15},\"zerolinecolor\":\"white\",\"automargin\":true,\"zerolinewidth\":2},\"yaxis\":{\"gridcolor\":\"white\",\"linecolor\":\"white\",\"ticks\":\"\",\"title\":{\"standoff\":15},\"zerolinecolor\":\"white\",\"automargin\":true,\"zerolinewidth\":2},\"scene\":{\"xaxis\":{\"backgroundcolor\":\"#E5ECF6\",\"gridcolor\":\"white\",\"linecolor\":\"white\",\"showbackground\":true,\"ticks\":\"\",\"zerolinecolor\":\"white\",\"gridwidth\":2},\"yaxis\":{\"backgroundcolor\":\"#E5ECF6\",\"gridcolor\":\"white\",\"linecolor\":\"white\",\"showbackground\":true,\"ticks\":\"\",\"zerolinecolor\":\"white\",\"gridwidth\":2},\"zaxis\":{\"backgroundcolor\":\"#E5ECF6\",\"gridcolor\":\"white\",\"linecolor\":\"white\",\"showbackground\":true,\"ticks\":\"\",\"zerolinecolor\":\"white\",\"gridwidth\":2}},\"shapedefaults\":{\"line\":{\"color\":\"#2a3f5f\"}},\"annotationdefaults\":{\"arrowcolor\":\"#2a3f5f\",\"arrowhead\":0,\"arrowwidth\":1},\"geo\":{\"bgcolor\":\"white\",\"landcolor\":\"#E5ECF6\",\"subunitcolor\":\"white\",\"showland\":true,\"showlakes\":true,\"lakecolor\":\"white\"},\"title\":{\"x\":0.05},\"mapbox\":{\"style\":\"light\"}}},\"shapes\":[{\"line\":{\"color\":\"green\",\"dash\":\"dash\",\"width\":3},\"type\":\"line\",\"x0\":35.27517884632612,\"x1\":35.27517884632612,\"xref\":\"x\",\"y0\":0,\"y1\":1,\"yref\":\"y domain\"}],\"annotations\":[{\"showarrow\":false,\"text\":\"35.28\",\"x\":35.27517884632612,\"xanchor\":\"left\",\"xref\":\"x\",\"y\":1,\"yanchor\":\"top\",\"yref\":\"y domain\"}]},                        {\"responsive\": true}                    ).then(function(){\n",
       "                            \n",
       "var gd = document.getElementById('2cdef9f7-4a49-47a3-9109-cdc527af82a0');\n",
       "var x = new MutationObserver(function (mutations, observer) {{\n",
       "        var display = window.getComputedStyle(gd).display;\n",
       "        if (!display || display === 'none') {{\n",
       "            console.log([gd, 'removed!']);\n",
       "            Plotly.purge(gd);\n",
       "            observer.disconnect();\n",
       "        }}\n",
       "}});\n",
       "\n",
       "// Listen for the removal of the full notebook cells\n",
       "var notebookContainer = gd.closest('#notebook-container');\n",
       "if (notebookContainer) {{\n",
       "    x.observe(notebookContainer, {childList: true});\n",
       "}}\n",
       "\n",
       "// Listen for the clearing of the current output cell\n",
       "var outputEl = gd.closest('.output');\n",
       "if (outputEl) {{\n",
       "    x.observe(outputEl, {childList: true});\n",
       "}}\n",
       "\n",
       "                        })                };                });            </script>        </div>"
      ]
     },
     "metadata": {},
     "output_type": "display_data"
    }
   ],
   "execution_count": 138
  },
  {
   "metadata": {
    "ExecuteTime": {
     "end_time": "2024-09-26T19:51:50.026632Z",
     "start_time": "2024-09-26T19:51:49.964933Z"
    }
   },
   "cell_type": "code",
   "source": [
    "# plot cumulative of kde\n",
    "\n",
    "kde_all = scipy.stats.gaussian_kde(dfst[col_name].dropna())\n",
    "x = np.linspace(dfst[col_name].min(), dfst[col_name].max(), 1000)\n",
    "y = kde_all(x)\n",
    "y_cum = 100* np.cumsum(y) / np.sum(y)\n",
    "# give me percentile of my_value\n",
    "percentile = np.interp(my_value, x, y_cum)\n",
    "\n",
    "fig = px.line(x=x, y=y_cum, title=f\"Cumulative distribution of {col_name}\", labels={\"x\": col_name, \"y\": \"cumulative distribution [%]\"})\n",
    "fig.add_vline(x=my_value, line_width=3, line_dash=\"dash\", line_color=\"green\", annotation_text=f\"my_value={int(percentile)} [%]\", annotation_position=\"top right\")\n",
    "\n",
    "fig.show()\n",
    "\n"
   ],
   "id": "90efbd1adfdbf60d",
   "outputs": [
    {
     "data": {
      "application/vnd.plotly.v1+json": {
       "data": [
        {
         "hovertemplate": "Knot duration [s]=%{x}<br>cumulative distribution [%]=%{y}<extra></extra>",
         "legendgroup": "",
         "line": {
          "color": "#636efa",
          "dash": "solid"
         },
         "marker": {
          "symbol": "circle"
         },
         "mode": "lines",
         "name": "",
         "orientation": "v",
         "showlegend": false,
         "x": [
          14.53333333,
          14.62088755089089,
          14.708441771781782,
          14.795995992672673,
          14.883550213563563,
          14.971104434454453,
          15.058658655345345,
          15.146212876236236,
          15.233767097127126,
          15.321321318018018,
          15.408875538908909,
          15.496429759799799,
          15.58398398069069,
          15.671538201581582,
          15.759092422472472,
          15.846646643363362,
          15.934200864254255,
          16.021755085145145,
          16.109309306036035,
          16.196863526926926,
          16.284417747817816,
          16.37197196870871,
          16.4595261895996,
          16.54708041049049,
          16.63463463138138,
          16.72218885227227,
          16.809743073163162,
          16.897297294054052,
          16.984851514944943,
          17.072405735835837,
          17.159959956726727,
          17.247514177617617,
          17.335068398508508,
          17.422622619399398,
          17.51017684029029,
          17.59773106118118,
          17.685285282072073,
          17.772839502962963,
          17.860393723853853,
          17.947947944744744,
          18.035502165635634,
          18.123056386526525,
          18.21061060741742,
          18.29816482830831,
          18.3857190491992,
          18.47327327009009,
          18.56082749098098,
          18.64838171187187,
          18.735935932762764,
          18.82349015365365,
          18.911044374544545,
          18.998598595435435,
          19.086152816326326,
          19.173707037217216,
          19.261261258108107,
          19.348815478999,
          19.436369699889887,
          19.52392392078078,
          19.61147814167167,
          19.699032362562562,
          19.786586583453452,
          19.874140804344343,
          19.961695025235237,
          20.049249246126124,
          20.136803467017018,
          20.224357687907908,
          20.3119119087988,
          20.39946612968969,
          20.48702035058058,
          20.574574571471473,
          20.66212879236236,
          20.749683013253254,
          20.837237234144144,
          20.924791455035034,
          21.012345675925925,
          21.099899896816815,
          21.18745411770771,
          21.2750083385986,
          21.36256255948949,
          21.45011678038038,
          21.53767100127127,
          21.62522522216216,
          21.71277944305305,
          21.800333663943945,
          21.887887884834836,
          21.975442105725726,
          22.062996326616616,
          22.150550547507507,
          22.238104768398397,
          22.325658989289288,
          22.41321321018018,
          22.500767431071072,
          22.588321651961962,
          22.675875872852853,
          22.763430093743743,
          22.850984314634633,
          22.938538535525524,
          23.026092756416418,
          23.113646977307305,
          23.2012011981982,
          23.28875541908909,
          23.37630963997998,
          23.46386386087087,
          23.55141808176176,
          23.638972302652654,
          23.72652652354354,
          23.814080744434435,
          23.901634965325325,
          23.989189186216215,
          24.07674340710711,
          24.164297627997996,
          24.25185184888889,
          24.339406069779777,
          24.42696029067067,
          24.51451451156156,
          24.60206873245245,
          24.689622953343346,
          24.777177174234232,
          24.864731395125126,
          24.952285616016013,
          25.039839836906907,
          25.127394057797797,
          25.214948278688688,
          25.30250249957958,
          25.39005672047047,
          25.477610941361363,
          25.56516516225225,
          25.652719383143143,
          25.740273604034034,
          25.827827824924924,
          25.915382045815818,
          26.002936266706705,
          26.0904904875976,
          26.178044708488486,
          26.26559892937938,
          26.35315315027027,
          26.44070737116116,
          26.528261592052054,
          26.61581581294294,
          26.703370033833835,
          26.79092425472472,
          26.878478475615616,
          26.966032696506506,
          27.053586917397396,
          27.14114113828829,
          27.228695359179177,
          27.31624958007007,
          27.403803800960958,
          27.491358021851852,
          27.578912242742742,
          27.666466463633633,
          27.754020684524527,
          27.841574905415413,
          27.929129126306307,
          28.016683347197198,
          28.104237568088088,
          28.19179178897898,
          28.27934600986987,
          28.366900230760763,
          28.45445445165165,
          28.542008672542543,
          28.629562893433434,
          28.717117114324324,
          28.804671335215215,
          28.892225556106105,
          28.979779776997,
          29.067333997887886,
          29.15488821877878,
          29.24244243966967,
          29.32999666056056,
          29.41755088145145,
          29.50510510234234,
          29.592659323233235,
          29.680213544124122,
          29.767767765015016,
          29.855321985905906,
          29.942876206796797,
          30.030430427687687,
          30.117984648578577,
          30.20553886946947,
          30.293093090360358,
          30.380647311251252,
          30.468201532142142,
          30.555755753033033,
          30.643309973923927,
          30.730864194814814,
          30.818418415705708,
          30.905972636596594,
          30.99352685748749,
          31.081081078378375,
          31.16863529926927,
          31.256189520160163,
          31.34374374105105,
          31.431297961941944,
          31.51885218283283,
          31.606406403723724,
          31.69396062461461,
          31.781514845505505,
          31.8690690663964,
          31.956623287287286,
          32.04417750817818,
          32.13173172906907,
          32.21928594995996,
          32.30684017085085,
          32.39439439174174,
          32.481948612632635,
          32.56950283352352,
          32.657057054414416,
          32.7446112753053,
          32.8321654961962,
          32.919719717087084,
          33.00727393797798,
          33.09482815886887,
          33.18238237975976,
          33.26993660065065,
          33.35749082154154,
          33.44504504243243,
          33.53259926332332,
          33.620153484214214,
          33.70770770510511,
          33.795261925995995,
          33.88281614688689,
          33.970370367777775,
          34.05792458866867,
          34.145478809559556,
          34.23303303045045,
          34.320587251341344,
          34.40814147223223,
          34.495695693123125,
          34.58324991401401,
          34.670804134904905,
          34.75835835579579,
          34.845912576686686,
          34.93346679757758,
          35.02102101846847,
          35.10857523935936,
          35.19612946025025,
          35.28368368114114,
          35.37123790203203,
          35.45879212292292,
          35.546346343813816,
          35.6339005647047,
          35.7214547855956,
          35.809009006486484,
          35.89656322737738,
          35.984117448268265,
          36.07167166915916,
          36.15922589005005,
          36.24678011094094,
          36.33433433183183,
          36.42188855272272,
          36.509442773613614,
          36.5969969945045,
          36.684551215395395,
          36.77210543628629,
          36.859659657177176,
          36.94721387806807,
          37.034768098958956,
          37.12232231984985,
          37.20987654074074,
          37.29743076163163,
          37.384984982522525,
          37.47253920341341,
          37.560093424304306,
          37.64764764519519,
          37.735201866086086,
          37.82275608697697,
          37.91031030786787,
          37.99786452875876,
          38.08541874964965,
          38.17297297054054,
          38.26052719143143,
          38.34808141232232,
          38.43563563321321,
          38.5231898541041,
          38.610744074995,
          38.698298295885884,
          38.78585251677678,
          38.873406737667665,
          38.96096095855856,
          39.048515179449446,
          39.13606940034034,
          39.22362362123123,
          39.31117784212212,
          39.398732063013014,
          39.4862862839039,
          39.573840504794795,
          39.66139472568568,
          39.748948946576576,
          39.83650316746747,
          39.92405738835836,
          40.01161160924925,
          40.09916583014014,
          40.18672005103103,
          40.27427427192192,
          40.36182849281281,
          40.449382713703706,
          40.53693693459459,
          40.62449115548549,
          40.71204537637637,
          40.79959959726727,
          40.88715381815816,
          40.97470803904905,
          41.06226225993994,
          41.14981648083083,
          41.23737070172172,
          41.32492492261261,
          41.412479143503504,
          41.5000333643944,
          41.587587585285284,
          41.67514180617618,
          41.762696027067065,
          41.85025024795796,
          41.937804468848846,
          42.02535868973974,
          42.112912910630634,
          42.20046713152152,
          42.288021352412414,
          42.3755755733033,
          42.463129794194195,
          42.55068401508508,
          42.638238235975976,
          42.72579245686687,
          42.81334667775776,
          42.90090089864865,
          42.98845511953954,
          43.07600934043043,
          43.16356356132132,
          43.25111778221221,
          43.338672003103106,
          43.42622622399399,
          43.51378044488489,
          43.601334665775774,
          43.68888888666667,
          43.776443107557554,
          43.86399732844845,
          43.95155154933934,
          44.03910577023023,
          44.12665999112112,
          44.21421421201201,
          44.301768432902904,
          44.38932265379379,
          44.476876874684685,
          44.56443109557558,
          44.651985316466465,
          44.73953953735736,
          44.827093758248246,
          44.91464797913914,
          45.00220220003003,
          45.08975642092092,
          45.177310641811815,
          45.2648648627027,
          45.352419083593595,
          45.43997330448448,
          45.527527525375376,
          45.61508174626626,
          45.70263596715716,
          45.79019018804805,
          45.87774440893894,
          45.96529862982983,
          46.05285285072072,
          46.14040707161161,
          46.2279612925025,
          46.31551551339339,
          46.40306973428429,
          46.490623955175174,
          46.57817817606606,
          46.665732396956955,
          46.75328661784785,
          46.840840838738735,
          46.92839505962963,
          47.015949280520516,
          47.10350350141141,
          47.1910577223023,
          47.27861194319319,
          47.366166164084085,
          47.45372038497497,
          47.541274605865866,
          47.62882882675675,
          47.716383047647646,
          47.80393726853853,
          47.89149148942943,
          47.97904571032032,
          48.06659993121121,
          48.1541541521021,
          48.24170837299299,
          48.32926259388388,
          48.41681681477477,
          48.50437103566566,
          48.59192525655656,
          48.679479477447444,
          48.76703369833834,
          48.854587919229225,
          48.94214214012012,
          49.029696361011005,
          49.1172505819019,
          49.20480480279279,
          49.29235902368368,
          49.379913244574574,
          49.46746746546546,
          49.555021686356355,
          49.64257590724724,
          49.730130128138136,
          49.81768434902903,
          49.905238569919916,
          49.99279279081081,
          50.0803470117017,
          50.16790123259259,
          50.25545545348348,
          50.34300967437437,
          50.430563895265266,
          50.51811811615615,
          50.60567233704705,
          50.69322655793793,
          50.78078077882883,
          50.868334999719714,
          50.95588922061061,
          51.0434434415015,
          51.13099766239239,
          51.21855188328328,
          51.30610610417417,
          51.39366032506506,
          51.48121454595595,
          51.568768766846844,
          51.65632298773774,
          51.743877208628625,
          51.83143142951952,
          51.918985650410406,
          52.0065398713013,
          52.094094092192194,
          52.18164831308308,
          52.269202533973974,
          52.35675675486486,
          52.444310975755755,
          52.53186519664664,
          52.619419417537536,
          52.70697363842843,
          52.79452785931932,
          52.88208208021021,
          52.9696363011011,
          53.05719052199199,
          53.14474474288288,
          53.23229896377377,
          53.319853184664666,
          53.40740740555555,
          53.49496162644645,
          53.58251584733733,
          53.67007006822823,
          53.757624289119114,
          53.84517851001001,
          53.9327327309009,
          54.02028695179179,
          54.10784117268268,
          54.19539539357357,
          54.282949614464464,
          54.37050383535535,
          54.458058056246244,
          54.54561227713714,
          54.633166498028025,
          54.72072071891892,
          54.808274939809806,
          54.8958291607007,
          54.98338338159159,
          55.07093760248248,
          55.158491823373375,
          55.24604604426426,
          55.333600265155155,
          55.42115448604604,
          55.508708706936936,
          55.59626292782782,
          55.68381714871872,
          55.77137136960961,
          55.8589255905005,
          55.94647981139139,
          56.03403403228228,
          56.12158825317317,
          56.20914247406406,
          56.29669669495495,
          56.38425091584585,
          56.471805136736734,
          56.55935935762763,
          56.646913578518514,
          56.73446779940941,
          56.822022020300295,
          56.90957624119119,
          56.99713046208208,
          57.08468468297297,
          57.172238903863864,
          57.25979312475475,
          57.347347345645645,
          57.43490156653653,
          57.522455787427425,
          57.61001000831832,
          57.697564229209206,
          57.7851184501001,
          57.87267267099099,
          57.96022689188188,
          58.04778111277277,
          58.13533533366366,
          58.222889554554556,
          58.31044377544544,
          58.397997996336336,
          58.48555221722722,
          58.57310643811812,
          58.660660659009004,
          58.7482148798999,
          58.83576910079079,
          58.92332332168168,
          59.01087754257257,
          59.09843176346346,
          59.18598598435435,
          59.27354020524524,
          59.361094426136134,
          59.44864864702703,
          59.536202867917915,
          59.62375708880881,
          59.711311309699695,
          59.79886553059059,
          59.886419751481476,
          59.97397397237237,
          60.061528193263264,
          60.14908241415415,
          60.236636635045045,
          60.32419085593593,
          60.411745076826826,
          60.49929929771771,
          60.586853518608606,
          60.6744077394995,
          60.76196196039039,
          60.84951618128128,
          60.93707040217217,
          61.02462462306306,
          61.11217884395395,
          61.19973306484484,
          61.28728728573574,
          61.37484150662662,
          61.46239572751752,
          61.549949948408404,
          61.6375041692993,
          61.725058390190185,
          61.81261261108108,
          61.90016683197197,
          61.98772105286286,
          62.07527527375375,
          62.16282949464464,
          62.250383715535534,
          62.33793793642642,
          62.425492157317315,
          62.51304637820821,
          62.600600599099096,
          62.68815481998999,
          62.775709040880876,
          62.86326326177177,
          62.95081748266266,
          63.03837170355355,
          63.125925924444445,
          63.21348014533533,
          63.301034366226226,
          63.38858858711711,
          63.47614280800801,
          63.56369702889889,
          63.65125124978979,
          63.73880547068068,
          63.82635969157157,
          63.91391391246246,
          64.00146813335336,
          64.08902235424425,
          64.17657657513513,
          64.26413079602602,
          64.35168501691692,
          64.43923923780781,
          64.5267934586987,
          64.61434767958959,
          64.70190190048048,
          64.78945612137137,
          64.87701034226227,
          64.96456456315316,
          65.05211878404404,
          65.13967300493493,
          65.22722722582583,
          65.31478144671672,
          65.4023356676076,
          65.4898898884985,
          65.57744410938939,
          65.66499833028028,
          65.75255255117118,
          65.84010677206206,
          65.92766099295295,
          66.01521521384385,
          66.10276943473474,
          66.19032365562563,
          66.27787787651651,
          66.3654320974074,
          66.4529863182983,
          66.5405405391892,
          66.62809476008007,
          66.71564898097097,
          66.80320320186186,
          66.89075742275276,
          66.97831164364365,
          67.06586586453453,
          67.15342008542542,
          67.24097430631632,
          67.32852852720721,
          67.4160827480981,
          67.50363696898899,
          67.59119118987988,
          67.67874541077077,
          67.76629963166167,
          67.85385385255256,
          67.94140807344344,
          68.02896229433433,
          68.11651651522523,
          68.20407073611612,
          68.291624957007,
          68.3791791778979,
          68.46673339878879,
          68.55428761967968,
          68.64184184057058,
          68.72939606146146,
          68.81695028235235,
          68.90450450324325,
          68.99205872413414,
          69.07961294502503,
          69.16716716591591,
          69.2547213868068,
          69.3422756076977,
          69.4298298285886,
          69.51738404947947,
          69.60493827037037,
          69.69249249126126,
          69.78004671215216,
          69.86760093304305,
          69.95515515393393,
          70.04270937482482,
          70.13026359571572,
          70.21781781660661,
          70.3053720374975,
          70.39292625838839,
          70.48048047927928,
          70.56803470017017,
          70.65558892106107,
          70.74314314195195,
          70.83069736284284,
          70.91825158373373,
          71.00580580462463,
          71.09336002551552,
          71.1809142464064,
          71.2684684672973,
          71.35602268818819,
          71.44357690907908,
          71.53113112996998,
          71.61868535086086,
          71.70623957175175,
          71.79379379264265,
          71.88134801353354,
          71.96890223442442,
          72.05645645531531,
          72.14401067620621,
          72.2315648970971,
          72.319119117988,
          72.40667333887887,
          72.49422755976977,
          72.58178178066066,
          72.66933600155156,
          72.75689022244245,
          72.84444444333333,
          72.93199866422422,
          73.01955288511512,
          73.10710710600601,
          73.19466132689689,
          73.28221554778779,
          73.36976976867868,
          73.45732398956957,
          73.54487821046047,
          73.63243243135135,
          73.71998665224224,
          73.80754087313314,
          73.89509509402403,
          73.98264931491492,
          74.0702035358058,
          74.1577577566967,
          74.24531197758759,
          74.33286619847848,
          74.42042041936936,
          74.50797464026026,
          74.59552886115115,
          74.68308308204205,
          74.77063730293294,
          74.85819152382382,
          74.94574574471471,
          75.03329996560561,
          75.1208541864965,
          75.2084084073874,
          75.29596262827828,
          75.38351684916917,
          75.47107107006006,
          75.55862529095096,
          75.64617951184184,
          75.73373373273273,
          75.82128795362362,
          75.90884217451452,
          75.99639639540541,
          76.08395061629629,
          76.17150483718719,
          76.25905905807808,
          76.34661327896897,
          76.43416749985987,
          76.52172172075075,
          76.60927594164164,
          76.69683016253254,
          76.78438438342343,
          76.87193860431431,
          76.9594928252052,
          77.0470470460961,
          77.13460126698699,
          77.22215548787788,
          77.30970970876876,
          77.39726392965966,
          77.48481815055055,
          77.57237237144145,
          77.65992659233234,
          77.74748081322322,
          77.83503503411411,
          77.92258925500501,
          78.0101434758959,
          78.09769769678678,
          78.18525191767768,
          78.27280613856857,
          78.36036035945946,
          78.44791458035036,
          78.53546880124125,
          78.62302302213213,
          78.71057724302302,
          78.79813146391392,
          78.88568568480481,
          78.9732399056957,
          79.06079412658659,
          79.14834834747748,
          79.23590256836837,
          79.32345678925927,
          79.41101101015016,
          79.49856523104104,
          79.58611945193194,
          79.67367367282283,
          79.76122789371372,
          79.8487821146046,
          79.9363363354955,
          80.02389055638639,
          80.11144477727728,
          80.19899899816818,
          80.28655321905906,
          80.37410743994995,
          80.46166166084085,
          80.54921588173174,
          80.63677010262263,
          80.72432432351351,
          80.81187854440441,
          80.8994327652953,
          80.9869869861862,
          81.07454120707708,
          81.16209542796797,
          81.24964964885886,
          81.33720386974976,
          81.42475809064065,
          81.51231231153153,
          81.59986653242242,
          81.68742075331332,
          81.77497497420421,
          81.8625291950951,
          81.95008341598599,
          82.03763763687688,
          82.12519185776777,
          82.21274607865867,
          82.30030029954955,
          82.38785452044044,
          82.47540874133134,
          82.56296296222223,
          82.65051718311312,
          82.738071404004,
          82.8256256248949,
          82.91317984578579,
          83.00073406667669,
          83.08828828756758,
          83.17584250845846,
          83.26339672934935,
          83.35095095024025,
          83.43850517113114,
          83.52605939202202,
          83.61361361291291,
          83.70116783380381,
          83.7887220546947,
          83.8762762755856,
          83.96383049647648,
          84.05138471736737,
          84.13893893825826,
          84.22649315914916,
          84.31404738004005,
          84.40160160093093,
          84.48915582182183,
          84.57671004271272,
          84.66426426360361,
          84.75181848449449,
          84.83937270538539,
          84.92692692627628,
          85.01448114716717,
          85.10203536805807,
          85.18958958894895,
          85.27714380983984,
          85.36469803073074,
          85.45225225162163,
          85.53980647251252,
          85.6273606934034,
          85.7149149142943,
          85.80246913518519,
          85.89002335607609,
          85.97757757696697,
          86.06513179785786,
          86.15268601874875,
          86.24024023963965,
          86.32779446053054,
          86.41534868142142,
          86.50290290231231,
          86.59045712320321,
          86.6780113440941,
          86.765565564985,
          86.85311978587588,
          86.94067400676677,
          87.02822822765766,
          87.11578244854856,
          87.20333666943944,
          87.29089089033033,
          87.37844511122123,
          87.46599933211212,
          87.55355355300301,
          87.64110777389389,
          87.72866199478479,
          87.81621621567568,
          87.90377043656657,
          87.99132465745747,
          88.07887887834835,
          88.16643309923924,
          88.25398732013014,
          88.34154154102103,
          88.42909576191191,
          88.5166499828028,
          88.6042042036937,
          88.69175842458459,
          88.77931264547549,
          88.86686686636637,
          88.95442108725726,
          89.04197530814815,
          89.12952952903905,
          89.21708374992994,
          89.30463797082082,
          89.39219219171171,
          89.47974641260261,
          89.5673006334935,
          89.6548548543844,
          89.74240907527528,
          89.82996329616617,
          89.91751751705706,
          90.00507173794796,
          90.09262595883884,
          90.18018017972973,
          90.26773440062063,
          90.35528862151152,
          90.44284284240241,
          90.5303970632933,
          90.61795128418419,
          90.70550550507508,
          90.79305972596597,
          90.88061394685687,
          90.96816816774775,
          91.05572238863864,
          91.14327660952954,
          91.23083083042043,
          91.31838505131131,
          91.4059392722022,
          91.4934934930931,
          91.58104771398399,
          91.66860193487489,
          91.75615615576577,
          91.84371037665666,
          91.93126459754755,
          92.01881881843845,
          92.10637303932934,
          92.19392726022022,
          92.28148148111111,
          92.36903570200201,
          92.4565899228929,
          92.54414414378378,
          92.63169836467468,
          92.71925258556557,
          92.80680680645646,
          92.89436102734736,
          92.98191524823824,
          93.06946946912913,
          93.15702369002003,
          93.24457791091092,
          93.33213213180181,
          93.4196863526927,
          93.50724057358359,
          93.59479479447448,
          93.68234901536538,
          93.76990323625625,
          93.85745745714715,
          93.94501167803804,
          94.03256589892894,
          94.12012011981983,
          94.20767434071071,
          94.2952285616016,
          94.3827827824925,
          94.47033700338339,
          94.55789122427429,
          94.64544544516517,
          94.73299966605606,
          94.82055388694695,
          94.90810810783785,
          94.99566232872873,
          95.08321654961962,
          95.17077077051052,
          95.25832499140141,
          95.3458792122923,
          95.43343343318318,
          95.52098765407408,
          95.60854187496497,
          95.69609609585586,
          95.78365031674676,
          95.87120453763764,
          95.95875875852853,
          96.04631297941943,
          96.13386720031032,
          96.2214214212012,
          96.3089756420921,
          96.39652986298299,
          96.48408408387388,
          96.57163830476478,
          96.65919252565566,
          96.74674674654655,
          96.83430096743744,
          96.92185518832834,
          97.00940940921923,
          97.09696363011011,
          97.184517851001,
          97.2720720718919,
          97.35962629278279,
          97.44718051367367,
          97.53473473456457,
          97.62228895545546,
          97.70984317634635,
          97.79739739723725,
          97.88495161812813,
          97.97250583901902,
          98.06006005990992,
          98.14761428080081,
          98.2351685016917,
          98.32272272258258,
          98.41027694347348,
          98.49783116436437,
          98.58538538525526,
          98.67293960614614,
          98.76049382703704,
          98.84804804792793,
          98.93560226881883,
          99.02315648970972,
          99.1107107106006,
          99.1982649314915,
          99.28581915238239,
          99.37337337327328,
          99.46092759416418,
          99.54848181505506,
          99.63603603594595,
          99.72359025683684,
          99.81114447772774,
          99.89869869861862,
          99.98625291950951,
          100.0738071404004,
          100.1613613612913,
          100.24891558218219,
          100.33646980307307,
          100.42402402396397,
          100.51157824485486,
          100.59913246574575,
          100.68668668663665,
          100.77424090752753,
          100.86179512841842,
          100.94934934930932,
          101.03690357020021,
          101.12445779109109,
          101.21201201198198,
          101.29956623287288,
          101.38712045376377,
          101.47467467465466,
          101.56222889554554,
          101.64978311643644,
          101.73733733732733,
          101.82489155821823,
          101.91244577910912,
          102.0
         ],
         "xaxis": "x",
         "y": [
          0.10452770056369382,
          0.21036205340369896,
          0.3175098513152109,
          0.4259777372466695,
          0.5357722008076244,
          0.6468995747947022,
          0.7593660317375401,
          0.8731775804665652,
          0.98834006270451,
          1.1048591496835496,
          1.2227403387899711,
          1.3419889502382694,
          1.4626101237765878,
          1.584608815425403,
          1.707989794251377,
          1.832757639178278,
          1.9589167358368855,
          2.0864712734557833,
          2.215425241794943,
          2.345782428123995,
          2.47754641424708,
          2.6107205735761507,
          2.7453080682546127,
          2.8813118463331477,
          3.018734638999579,
          3.1575789578646076,
          3.297847092305237,
          3.4395411068676935,
          3.5826628387316224,
          3.727213895237323,
          3.8731956514777717,
          4.020609247957149,
          4.169455588317576,
          4.319735337135724,
          4.47144891779095,
          4.62459651040658,
          4.77917804986592,
          4.9351932239045775,
          5.092641471280583,
          5.2515219800238535,
          5.411833685766422,
          5.5735752701548815,
          5.736745159346424,
          5.901341522589828,
          6.067362270892704,
          6.234805055776274,
          6.403667268118924,
          6.573946037089697,
          6.74563822917288,
          6.918740447284812,
          7.09324902998391,
          7.269160050774977,
          7.446469317508723,
          7.625172371877404,
          7.805264489007462,
          7.9867406771499585,
          8.169595677469568,
          8.353823963932834,
          8.539419743296342,
          8.726376955195416,
          8.91468927233387,
          9.104350100775308,
          9.295352580336425,
          9.487689585082649,
          9.681353723926476,
          9.876337341328753,
          10.072632518103095,
          10.270231072323611,
          10.469124560336002,
          10.669304277872067,
          10.870761261267589,
          11.073486288783501,
          11.277469882030184,
          11.482702307494685,
          11.689173578170589,
          11.896873455290185,
          12.105791450158573,
          12.315916826089234,
          12.52723860044053,
          12.739745546752616,
          12.953426196984072,
          13.168268843847574,
          13.384261543243893,
          13.60139211679335,
          13.819648154463867,
          14.039017017294729,
          14.259485840215003,
          14.481041534955613,
          14.703670793053947,
          14.927360088949843,
          15.152095683171718,
          15.377863625611608,
          15.60464975888775,
          15.832439721793342,
          16.061218952830075,
          16.290972693824894,
          16.521685993628502,
          16.753343711893994,
          16.985930522933987,
          17.219430919654595,
          17.453829217564433,
          17.689109558856966,
          17.925255916564357,
          18.162252098780854,
          18.40008175295394,
          18.638728370241246,
          18.878175289931153,
          19.11840570392517,
          19.359402661279987,
          19.601149072806997,
          19.84362771572733,
          20.086821238380043,
          20.330712164981385,
          20.57528290043283,
          20.820515735175643,
          21.0663928500897,
          21.31289632143417,
          21.56000812582781,
          21.80771014526643,
          22.0559841721752,
          22.304811914493303,
          22.554175000788614,
          22.804054985399873,
          23.054433353603947,
          23.305291526805664,
          23.556610867747782,
          23.80837268573857,
          24.060558241894473,
          24.313148754395428,
          24.566125403750245,
          24.81946933806953,
          25.073161678343745,
          25.32718352372369,
          25.581515956801088,
          25.83614004888662,
          26.09103686528298,
          26.346187470550387,
          26.601572933762128,
          26.857174333747555,
          27.112972764320187,
          27.368949339488317,
          27.625085198645824,
          27.881361511740593,
          28.13775948441833,
          28.394260363139207,
          28.650845440265076,
          28.907496059114848,
          29.16419361898574,
          29.42091958013809,
          29.6776554687415,
          29.934382881779943,
          30.191083491913833,
          30.447739052296658,
          30.70433140134418,
          30.96084246745402,
          31.21725427367359,
          31.473548942314245,
          31.729708699509803,
          31.9857158797173,
          32.24155293015818,
          32.49720241519794,
          32.75264702066251,
          33.00786955808945,
          33.262852968912235,
          33.51758032857601,
          33.77203485058305,
          34.026199890466316,
          34.28005894968965,
          34.53359567947295,
          34.78679388454094,
          35.039637526794095,
          35.29211072890039,
          35.544197777806474,
          35.79588312816713,
          36.04715140569164,
          36.29798741040618,
          36.54837611983075,
          36.79830269206998,
          37.047752468816604,
          37.29671097826667,
          37.54516393794573,
          37.79309725744505,
          38.04049704106712,
          38.28734959037984,
          38.53364140667856,
          38.77935919335553,
          39.02448985817609,
          39.26902051546124,
          39.51293848817608,
          39.756231309923756,
          39.99888672684461,
          40.240892699420314,
          40.48223740418269,
          40.722909235327194,
          40.96289680623085,
          41.20218895087472,
          41.4407747251708,
          41.678643408193516,
          41.91578450331598,
          42.15218773925104,
          42.38784307099749,
          42.62274068069171,
          42.85687097836502,
          43.09022460260727,
          43.32279242113686,
          43.554565531278044,
          43.78553526034576,
          44.01569316593868,
          44.245031036141214,
          44.473540889635,
          44.70121497572076,
          44.9280457742512,
          45.154025995475855,
          45.379148579798674,
          45.60340669744939,
          45.826793748069484,
          46.04930336021385,
          46.27092939076909,
          46.491665924289734,
          46.71150727225319,
          46.93044797223487,
          47.1484827870045,
          47.36560670354488,
          47.58181493199447,
          47.797102904514915,
          48.01146627408487,
          48.22490091322168,
          48.43740291263198,
          48.64896857979293,
          48.85959443746527,
          49.06927722213985,
          49.27801388241904,
          49.485801577334506,
          49.69263767460302,
          49.898519748821656,
          50.1034455796041,
          50.3074131496597,
          50.51042064281668,
          50.71246644199138,
          50.913549127104936,
          51.11366747294925,
          51.31282044700386,
          51.51100720720525,
          51.708227099670566,
          51.904479656377134,
          52.09976459279976,
          52.29408180550732,
          52.487431369720504,
          52.67981353683222,
          52.87122873189278,
          53.06167755106108,
          53.251160759023975,
          53.43967928638522,
          53.627234227025966,
          53.81382683543828,
          53.999458524033656,
          54.184130860428034,
          54.367845564705135,
          54.55060450665977,
          54.73240970302281,
          54.91326331466953,
          55.09316764381293,
          55.27212513118379,
          55.45013835319895,
          55.62721001911964,
          55.80334296820127,
          55.9785401668365,
          56.15280470569288,
          56.32613979684698,
          56.49854877091627,
          56.67003507419038,
          56.84060226576332,
          57.010254014668035,
          57.17899409701476,
          57.34682639313476,
          57.51375488473073,
          57.679783652035276,
          57.8449168709789,
          58.009158810368824,
          58.17251382907995,
          58.33498637325925,
          58.49658097354482,
          58.65730224230104,
          58.817154870870716,
          58.97614362684562,
          59.13427335135663,
          59.291548956384396,
          59.447975422091666,
          59.60355779417859,
          59.758301181261665,
          59.91221075227757,
          60.06529173391282,
          60.21754940806009,
          60.368989109302206,
          60.519616222424695,
          60.669436179957586,
          60.81845445974749,
          60.96667658256052,
          61.114108109716966,
          61.26075464075838,
          61.40662181114762,
          61.551715290002754,
          61.69604077786518,
          61.839604004502675,
          61.98241072674798,
          62.12446672637316,
          62.26577780800056,
          62.40634979705051,
          62.54618853772646,
          62.68529989103759,
          62.823689732859506,
          62.96136395203339,
          63.098328448503395,
          63.23458913149327,
          63.37015191772172,
          63.505022729657185,
          63.63920749381187,
          63.77271213907538,
          63.90554259508787,
          64.03770479065284,
          64.1692046521896,
          64.30004810222539,
          64.43024105792715,
          64.55978942967282,
          64.68869911966212,
          64.81697602056668,
          64.94462601421941,
          65.07165497034275,
          65.19806874531596,
          65.32387318098085,
          65.44907410348588,
          65.57367732216832,
          65.69768862847417,
          65.8211137949155,
          65.94395857406492,
          66.0662286975866,
          66.18792987530364,
          66.30906779430147,
          66.42964811806647,
          66.54967648565963,
          66.66915851092473,
          66.78809978173051,
          66.90650585924628,
          67.02438227725044,
          67.1417345414714,
          67.25856812896028,
          67.37488848749491,
          67.49070103501431,
          67.60601115908324,
          67.72082421638609,
          67.8351455322495,
          67.94898040019305,
          68.06233408150734,
          68.17521180485876,
          68.28761876592031,
          68.39956012702774,
          68.51104101686032,
          68.62206653014553,
          68.73264172738692,
          68.84277163461441,
          68.95246124315629,
          69.06171550943236,
          69.17053935476713,
          69.27893766522253,
          69.38691529144953,
          69.49447704855753,
          69.60162771600122,
          69.7083720374837,
          69.81471472087554,
          69.92066043814867,
          70.02621382532459,
          70.131379482436,
          70.23616197350128,
          70.34056582651078,
          70.44459553342458,
          70.54825555018057,
          70.65155029671253,
          70.75448415697709,
          70.85706147898917,
          70.95928657486505,
          71.06116372087239,
          71.1626971574865,
          71.26389108945222,
          71.36474968585063,
          71.46527708017018,
          71.56547737038125,
          71.66535461901371,
          71.76491285323692,
          71.86415606494127,
          71.96308821082103,
          72.0617132124576,
          72.16003495640278,
          72.25805729426139,
          72.35578404277278,
          72.45321898389071,
          72.55036586486088,
          72.64722839829604,
          72.74381026224764,
          72.84011510027406,
          72.93614652150471,
          73.03190810069952,
          73.1274033783037,
          73.22263586049696,
          73.31760901923725,
          73.41232629229839,
          73.50679108330118,
          73.60100676173799,
          73.69497666299026,
          73.78870408833872,
          73.88219230496607,
          73.97544454595187,
          74.06846401025939,
          74.16125386271436,
          74.25381723397508,
          74.34615722049428,
          74.43827688447206,
          74.53017925380004,
          74.62186732199672,
          74.71334404813356,
          74.8046123567523,
          74.89567513777295,
          74.98653524639272,
          75.07719550297574,
          75.16765869293386,
          75.25792756659797,
          75.34800483908073,
          75.43789319013008,
          75.52759526397384,
          75.61711366915571,
          75.70645097836261,
          75.79560972824342,
          75.88459241921953,
          75.97340151528722,
          76.06203944381213,
          76.15050859531596,
          76.23881132325576,
          76.32694994379595,
          76.41492673557345,
          76.50274393945602,
          76.5904037582943,
          76.67790835666788,
          76.7652598606254,
          76.85246035741945,
          76.93951189523641,
          77.0264164829215,
          77.11317608969969,
          77.19979264489258,
          77.28626803763191,
          77.37260411656995,
          77.45880268958707,
          77.54486552349745,
          77.6307943437527,
          77.7165908341443,
          77.8022566365052,
          77.88779335041096,
          77.97320253288115,
          78.05848569808104,
          78.14364431702478,
          78.22867981727971,
          78.31359358267312,
          78.3983869530013,
          78.48306122374187,
          78.56761764576959,
          78.65205742507644,
          78.73638172249613,
          78.82059165343394,
          78.90468828760213,
          78.98867264876156,
          79.07254571447008,
          79.15630841583814,
          79.23996163729198,
          79.32350621634536,
          79.40694294337985,
          79.49027256143447,
          79.57349576600507,
          79.65661320485411,
          79.73962547783108,
          79.82253313670427,
          79.90533668500409,
          79.98803657787904,
          80.07063322196382,
          80.15312697526092,
          80.23551814703586,
          80.31780699772612,
          80.39999373886484,
          80.48207853301929,
          80.56406149374462,
          80.64594268555332,
          80.72772212390075,
          80.80939977518713,
          80.89097555677633,
          80.97244933703183,
          81.05382093537018,
          81.13509012233227,
          81.21625661967269,
          81.29732010046766,
          81.37828018924142,
          81.45913646211183,
          81.53988844695492,
          81.62053562358912,
          81.70107742397894,
          81.78151323245874,
          81.86184238597615,
          81.94206417435612,
          82.02217784058502,
          82.10218258111524,
          82.1820775461906,
          82.26186184019204,
          82.34153452200444,
          82.42109460540402,
          82.50054105946671,
          82.57987280899725,
          82.65908873497928,
          82.73818767504632,
          82.81716842397337,
          82.89602973418948,
          82.97477031631097,
          83.0533888396951,
          83.13188393301446,
          83.21025418485159,
          83.28849814431386,
          83.36661432166831,
          83.44460118899664,
          83.52245718086954,
          83.60018069504065,
          83.67777009315978,
          83.755223701505,
          83.83253981173347,
          83.90971668165068,
          83.98675253599781,
          84.06364556725681,
          84.14039393647302,
          84.21699577409483,
          84.29344918083008,
          84.36975222851876,
          84.44590296102177,
          84.521899395125,
          84.59773952145872,
          84.67342130543152,
          84.74894268817843,
          84.82430158752284,
          84.89949589895166,
          84.97452349660311,
          85.04938223426691,
          85.12406994639618,
          85.19858444913038,
          85.2729235413292,
          85.3470850056162,
          85.42106660943233,
          85.49486610609829,
          85.56848123588519,
          85.64190972709332,
          85.71514929713783,
          85.78819765364128,
          85.86105249553212,
          85.93371151414858,
          86.00617239434736,
          86.07843281561658,
          86.15049045319215,
          86.22234297917717,
          86.29398806366353,
          86.36542337585533,
          86.43664658519307,
          86.50765536247842,
          86.57844738099868,
          86.64902031765028,
          86.71937185406082,
          86.78949967770886,
          86.85940148304094,
          86.92907497258514,
          86.9985178580605,
          87.06772786148184,
          87.13670271625908,
          87.20544016829074,
          87.27393797705066,
          87.34219391666781,
          87.41020577699793,
          87.47797136468705,
          87.54548850422584,
          87.61275503899442,
          87.67976883229693,
          87.74652776838542,
          87.81302975347234,
          87.87927271673118,
          87.94525461128471,
          88.0109734151802,
          88.07642713235114,
          88.14161379356501,
          88.20653145735648,
          88.27117821094554,
          88.33555217114022,
          88.39965148522334,
          88.46347433182268,
          88.5270189217644,
          88.59028349890907,
          88.65326634097012,
          88.71596576031382,
          88.77838010474095,
          88.8405077582495,
          88.90234714177812,
          88.96389671392976,
          89.02515497167543,
          89.08612045103774,
          89.14679172775361,
          89.20716741791621,
          89.26724617859576,
          89.32702670843867,
          89.38650774824525,
          89.44568808152522,
          89.50456653503127,
          89.5631419792702,
          89.6214133289915,
          89.67937954365334,
          89.7370396278655,
          89.79439263180959,
          89.85143765163595,
          89.90817382983728,
          89.96460035559937,
          90.02071646512789,
          90.07652144195218,
          90.13201461720534,
          90.18719536988104,
          90.24206312706647,
          90.29661736415213,
          90.35085760501795,
          90.40478342219605,
          90.45839443700999,
          90.51169031969079,
          90.56467078946964,
          90.61733561464754,
          90.66968461264175,
          90.72171765000941,
          90.77343464244835,
          90.82483555477526,
          90.87592040088137,
          90.92668924366588,
          90.97714219494718,
          91.02727941535231,
          91.07710111418457,
          91.12660754926986,
          91.17579902678156,
          91.22467590104465,
          91.273238574319,
          91.3214874965623,
          91.36942316517273,
          91.41704612471192,
          91.46435696660814,
          91.5113563288405,
          91.55804489560411,
          91.60442339695656,
          91.65049260844633,
          91.69625335072321,
          91.74170648913118,
          91.78685293328415,
          91.83169363662488,
          91.8762295959675,
          91.92046185102396,
          91.9643914839148,
          92.00801961866487,
          92.05134742068391,
          92.09437609623298,
          92.13710689187668,
          92.17954109392186,
          92.22168002784306,
          92.26352505769546,
          92.30507758551508,
          92.34633905070747,
          92.38731092942479,
          92.42799473393183,
          92.4683920119616,
          92.50850434606065,
          92.54833335292473,
          92.58788068272533,
          92.62714801842718,
          92.66613707509762,
          92.70484959920798,
          92.74328736792744,
          92.78145218840996,
          92.81934589707458,
          92.85697035887962,
          92.89432746659118,
          92.93141914004639,
          92.96824732541184,
          93.00481399443763,
          93.04112114370751,
          93.07717079388553,
          93.11296498895946,
          93.14850579548171,
          93.18379530180799,
          93.21883561733404,
          93.25362887173108,
          93.28817721418014,
          93.3224828126059,
          93.35654785291024,
          93.390374538206,
          93.42396508805143,
          93.45732173768542,
          93.49044673726428,
          93.52334235110007,
          93.55601085690105,
          93.58845454501478,
          93.6206757176736,
          93.65267668824372,
          93.68445978047745,
          93.71602732776948,
          93.74738167241716,
          93.77852516488542,
          93.80946016307625,
          93.84018903160353,
          93.87071414107304,
          93.90103786736833,
          93.9311625909424,
          93.96109069611585,
          93.99082457038132,
          94.02036660371483,
          94.04971918789423,
          94.07888471582477,
          94.10786558087231,
          94.1366641762043,
          94.16528289413868,
          94.19372412550099,
          94.22199025898989,
          94.25008368055133,
          94.27800677276143,
          94.30576191421844,
          94.33335147894368,
          94.3607778357921,
          94.38804334787196,
          94.4151503719744,
          94.44210125801271,
          94.46889834847148,
          94.4955439778658,
          94.52204047221063,
          94.54839014850043,
          94.57459531419917,
          94.6006582667408,
          94.62658129304018,
          94.65236666901482,
          94.67801665911726,
          94.70353351587804,
          94.72891947945978,
          94.75417677722196,
          94.77930762329662,
          94.80431421817515,
          94.8291987483058,
          94.85396338570249,
          94.87861028756438,
          94.90314159590667,
          94.92755943720219,
          94.95186592203416,
          94.97606314475996,
          95.00015318318576,
          95.02413809825214,
          95.04801993373061,
          95.0718007159311,
          95.09548245342008,
          95.11906713674962,
          95.14255673819709,
          95.16595321151546,
          95.18925849169433,
          95.21247449473123,
          95.23560311741355,
          95.25864623711065,
          95.28160571157632,
          95.30448337876128,
          95.32728105663574,
          95.350000543022,
          95.37264361543666,
          95.39521203094276,
          95.41770752601126,
          95.44013181639224,
          95.46248659699512,
          95.4847735417784,
          95.50699430364813,
          95.52915051436554,
          95.55124378446337,
          95.57327570317065,
          95.59524783834627,
          95.61716173642048,
          95.63901892234493,
          95.66082089955039,
          95.68256914991248,
          95.70426513372503,
          95.72591028968085,
          95.74750603486,
          95.76905376472496,
          95.79055485312308,
          95.81201065229564,
          95.83342249289349,
          95.85479168399937,
          95.87611951315623,
          95.89740724640183,
          95.91865612830914,
          95.93986738203249,
          95.96104220935928,
          95.98218179076699,
          96.00328728548533,
          96.02435983156352,
          96.04540054594221,
          96.06641052453004,
          96.08739084228465,
          96.10834255329797,
          96.12926669088549,
          96.15016426767937,
          96.17103627572544,
          96.19188368658342,
          96.21270745143069,
          96.2335085011691,
          96.25428774653483,
          96.2750460782109,
          96.29578436694246,
          96.31650346365439,
          96.3372041995713,
          96.3578873863395,
          96.378553816151,
          96.39920426186924,
          96.41983947715647,
          96.44046019660252,
          96.4610671358549,
          96.48166099174999,
          96.50224244244535,
          96.52281214755267,
          96.54337074827158,
          96.56391886752391,
          96.58445711008837,
          96.6049860627356,
          96.62550629436326,
          96.64601835613111,
          96.66652278159614,
          96.68702008684726,
          96.70751077063976,
          96.72799531452947,
          96.74847418300591,
          96.76894782362518,
          96.78941666714198,
          96.8098811276405,
          96.83034160266472,
          96.85079847334745,
          96.87125210453821,
          96.89170284492995,
          96.91215102718456,
          96.93259696805677,
          96.95304096851699,
          96.97348331387226,
          96.99392427388597,
          97.01436410289581,
          97.03480303993011,
          97.05524130882262,
          97.07567911832521,
          97.09611666221932,
          97.11655411942516,
          97.1369916541094,
          97.15742941579076,
          97.17786753944411,
          97.19830614560232,
          97.21874534045654,
          97.23918521595446,
          97.25962584989678,
          97.28006730603178,
          97.30050963414804,
          97.32095287016544,
          97.34139703622415,
          97.36184214077208,
          97.38228817865038,
          97.40273513117735,
          97.42318296623066,
          97.44363163832772,
          97.46408108870487,
          97.48453124539463,
          97.50498202330165,
          97.52543332427722,
          97.54588503719233,
          97.56633703800952,
          97.58678918985338,
          97.60724134307995,
          97.62769333534499,
          97.64814499167127,
          97.66859612451489,
          97.68904653383062,
          97.70949600713666,
          97.72994431957865,
          97.750391233993,
          97.77083650096968,
          97.79127985891493,
          97.81172103411312,
          97.83215974078887,
          97.85259568116872,
          97.87302854554308,
          97.89345801232787,
          97.91388374812682,
          97.9343054077937,
          97.9547226344951,
          97.97513505977368,
          97.99554230361208,
          98.01594397449757,
          98.0363396694874,
          98.0567289742753,
          98.07711146325883,
          98.09748669960803,
          98.11785423533532,
          98.13821361136668,
          98.1585643576145,
          98.17890599305186,
          98.19923802578863,
          98.21955995314921,
          98.2398712617525,
          98.26017142759349,
          98.28045991612728,
          98.30073618235524,
          98.3209996709133,
          98.341249816163,
          98.36148604228477,
          98.38170776337387,
          98.40191438353916,
          98.42210529700448,
          98.44227988821297,
          98.46243753193438,
          98.48257759337538,
          98.50269942829284,
          98.52280238311062,
          98.5428857950392,
          98.562948992199,
          98.58299129374684,
          98.60301201000598,
          98.62301044259952,
          98.64298588458759,
          98.66293762060783,
          98.68286492701986,
          98.70276707205322,
          98.72264331595893,
          98.74249291116534,
          98.76231510243707,
          98.78210912703832,
          98.80187421489973,
          98.8216095887893,
          98.8413144644869,
          98.86098805096299,
          98.88062955056098,
          98.90023815918353,
          98.91981306648287,
          98.93935345605472,
          98.95885850563629,
          98.97832738730797,
          98.997759267699,
          99.01715330819658,
          99.03650866515927,
          99.0558244901334,
          99.07509993007385,
          99.09433412756792,
          99.11352622106297,
          99.13267534509768,
          99.15178063053658,
          99.1708412048079,
          99.18985619214509,
          99.20882471383119,
          99.22774588844659,
          99.24661883211967,
          99.26544265878074,
          99.28421648041865,
          99.30293940734015,
          99.32161054843222,
          99.34022901142674,
          99.35879390316781,
          99.37730432988144,
          99.39575939744742,
          99.41415821167345,
          99.43249987857135,
          99.45078350463494,
          99.46900819711998,
          99.48717306432562,
          99.50527721587737,
          99.52331976301147,
          99.54129981886057,
          99.55921649874037,
          99.57706892043737,
          99.59485620449728,
          99.61257747451425,
          99.63023185742051,
          99.64781848377633,
          99.66533648806036,
          99.68278500895975,
          99.70016318966053,
          99.71747017813725,
          99.73470512744268,
          99.75186719599657,
          99.7689555478738,
          99.78596935309162,
          99.80290778789576,
          99.81977003504541,
          99.83655528409662,
          99.8532627316843,
          99.86989158180239,
          99.88644104608225,
          99.90291034406883,
          99.91929870349472,
          99.93560536055182,
          99.95182956016046,
          99.96797055623583,
          99.98402761195145,
          99.99999999999984
         ],
         "yaxis": "y",
         "type": "scatter"
        }
       ],
       "layout": {
        "template": {
         "data": {
          "histogram2dcontour": [
           {
            "type": "histogram2dcontour",
            "colorbar": {
             "outlinewidth": 0,
             "ticks": ""
            },
            "colorscale": [
             [
              0.0,
              "#0d0887"
             ],
             [
              0.1111111111111111,
              "#46039f"
             ],
             [
              0.2222222222222222,
              "#7201a8"
             ],
             [
              0.3333333333333333,
              "#9c179e"
             ],
             [
              0.4444444444444444,
              "#bd3786"
             ],
             [
              0.5555555555555556,
              "#d8576b"
             ],
             [
              0.6666666666666666,
              "#ed7953"
             ],
             [
              0.7777777777777778,
              "#fb9f3a"
             ],
             [
              0.8888888888888888,
              "#fdca26"
             ],
             [
              1.0,
              "#f0f921"
             ]
            ]
           }
          ],
          "choropleth": [
           {
            "type": "choropleth",
            "colorbar": {
             "outlinewidth": 0,
             "ticks": ""
            }
           }
          ],
          "histogram2d": [
           {
            "type": "histogram2d",
            "colorbar": {
             "outlinewidth": 0,
             "ticks": ""
            },
            "colorscale": [
             [
              0.0,
              "#0d0887"
             ],
             [
              0.1111111111111111,
              "#46039f"
             ],
             [
              0.2222222222222222,
              "#7201a8"
             ],
             [
              0.3333333333333333,
              "#9c179e"
             ],
             [
              0.4444444444444444,
              "#bd3786"
             ],
             [
              0.5555555555555556,
              "#d8576b"
             ],
             [
              0.6666666666666666,
              "#ed7953"
             ],
             [
              0.7777777777777778,
              "#fb9f3a"
             ],
             [
              0.8888888888888888,
              "#fdca26"
             ],
             [
              1.0,
              "#f0f921"
             ]
            ]
           }
          ],
          "heatmap": [
           {
            "type": "heatmap",
            "colorbar": {
             "outlinewidth": 0,
             "ticks": ""
            },
            "colorscale": [
             [
              0.0,
              "#0d0887"
             ],
             [
              0.1111111111111111,
              "#46039f"
             ],
             [
              0.2222222222222222,
              "#7201a8"
             ],
             [
              0.3333333333333333,
              "#9c179e"
             ],
             [
              0.4444444444444444,
              "#bd3786"
             ],
             [
              0.5555555555555556,
              "#d8576b"
             ],
             [
              0.6666666666666666,
              "#ed7953"
             ],
             [
              0.7777777777777778,
              "#fb9f3a"
             ],
             [
              0.8888888888888888,
              "#fdca26"
             ],
             [
              1.0,
              "#f0f921"
             ]
            ]
           }
          ],
          "heatmapgl": [
           {
            "type": "heatmapgl",
            "colorbar": {
             "outlinewidth": 0,
             "ticks": ""
            },
            "colorscale": [
             [
              0.0,
              "#0d0887"
             ],
             [
              0.1111111111111111,
              "#46039f"
             ],
             [
              0.2222222222222222,
              "#7201a8"
             ],
             [
              0.3333333333333333,
              "#9c179e"
             ],
             [
              0.4444444444444444,
              "#bd3786"
             ],
             [
              0.5555555555555556,
              "#d8576b"
             ],
             [
              0.6666666666666666,
              "#ed7953"
             ],
             [
              0.7777777777777778,
              "#fb9f3a"
             ],
             [
              0.8888888888888888,
              "#fdca26"
             ],
             [
              1.0,
              "#f0f921"
             ]
            ]
           }
          ],
          "contourcarpet": [
           {
            "type": "contourcarpet",
            "colorbar": {
             "outlinewidth": 0,
             "ticks": ""
            }
           }
          ],
          "contour": [
           {
            "type": "contour",
            "colorbar": {
             "outlinewidth": 0,
             "ticks": ""
            },
            "colorscale": [
             [
              0.0,
              "#0d0887"
             ],
             [
              0.1111111111111111,
              "#46039f"
             ],
             [
              0.2222222222222222,
              "#7201a8"
             ],
             [
              0.3333333333333333,
              "#9c179e"
             ],
             [
              0.4444444444444444,
              "#bd3786"
             ],
             [
              0.5555555555555556,
              "#d8576b"
             ],
             [
              0.6666666666666666,
              "#ed7953"
             ],
             [
              0.7777777777777778,
              "#fb9f3a"
             ],
             [
              0.8888888888888888,
              "#fdca26"
             ],
             [
              1.0,
              "#f0f921"
             ]
            ]
           }
          ],
          "surface": [
           {
            "type": "surface",
            "colorbar": {
             "outlinewidth": 0,
             "ticks": ""
            },
            "colorscale": [
             [
              0.0,
              "#0d0887"
             ],
             [
              0.1111111111111111,
              "#46039f"
             ],
             [
              0.2222222222222222,
              "#7201a8"
             ],
             [
              0.3333333333333333,
              "#9c179e"
             ],
             [
              0.4444444444444444,
              "#bd3786"
             ],
             [
              0.5555555555555556,
              "#d8576b"
             ],
             [
              0.6666666666666666,
              "#ed7953"
             ],
             [
              0.7777777777777778,
              "#fb9f3a"
             ],
             [
              0.8888888888888888,
              "#fdca26"
             ],
             [
              1.0,
              "#f0f921"
             ]
            ]
           }
          ],
          "mesh3d": [
           {
            "type": "mesh3d",
            "colorbar": {
             "outlinewidth": 0,
             "ticks": ""
            }
           }
          ],
          "scatter": [
           {
            "fillpattern": {
             "fillmode": "overlay",
             "size": 10,
             "solidity": 0.2
            },
            "type": "scatter"
           }
          ],
          "parcoords": [
           {
            "type": "parcoords",
            "line": {
             "colorbar": {
              "outlinewidth": 0,
              "ticks": ""
             }
            }
           }
          ],
          "scatterpolargl": [
           {
            "type": "scatterpolargl",
            "marker": {
             "colorbar": {
              "outlinewidth": 0,
              "ticks": ""
             }
            }
           }
          ],
          "bar": [
           {
            "error_x": {
             "color": "#2a3f5f"
            },
            "error_y": {
             "color": "#2a3f5f"
            },
            "marker": {
             "line": {
              "color": "#E5ECF6",
              "width": 0.5
             },
             "pattern": {
              "fillmode": "overlay",
              "size": 10,
              "solidity": 0.2
             }
            },
            "type": "bar"
           }
          ],
          "scattergeo": [
           {
            "type": "scattergeo",
            "marker": {
             "colorbar": {
              "outlinewidth": 0,
              "ticks": ""
             }
            }
           }
          ],
          "scatterpolar": [
           {
            "type": "scatterpolar",
            "marker": {
             "colorbar": {
              "outlinewidth": 0,
              "ticks": ""
             }
            }
           }
          ],
          "histogram": [
           {
            "marker": {
             "pattern": {
              "fillmode": "overlay",
              "size": 10,
              "solidity": 0.2
             }
            },
            "type": "histogram"
           }
          ],
          "scattergl": [
           {
            "type": "scattergl",
            "marker": {
             "colorbar": {
              "outlinewidth": 0,
              "ticks": ""
             }
            }
           }
          ],
          "scatter3d": [
           {
            "type": "scatter3d",
            "line": {
             "colorbar": {
              "outlinewidth": 0,
              "ticks": ""
             }
            },
            "marker": {
             "colorbar": {
              "outlinewidth": 0,
              "ticks": ""
             }
            }
           }
          ],
          "scattermapbox": [
           {
            "type": "scattermapbox",
            "marker": {
             "colorbar": {
              "outlinewidth": 0,
              "ticks": ""
             }
            }
           }
          ],
          "scatterternary": [
           {
            "type": "scatterternary",
            "marker": {
             "colorbar": {
              "outlinewidth": 0,
              "ticks": ""
             }
            }
           }
          ],
          "scattercarpet": [
           {
            "type": "scattercarpet",
            "marker": {
             "colorbar": {
              "outlinewidth": 0,
              "ticks": ""
             }
            }
           }
          ],
          "carpet": [
           {
            "aaxis": {
             "endlinecolor": "#2a3f5f",
             "gridcolor": "white",
             "linecolor": "white",
             "minorgridcolor": "white",
             "startlinecolor": "#2a3f5f"
            },
            "baxis": {
             "endlinecolor": "#2a3f5f",
             "gridcolor": "white",
             "linecolor": "white",
             "minorgridcolor": "white",
             "startlinecolor": "#2a3f5f"
            },
            "type": "carpet"
           }
          ],
          "table": [
           {
            "cells": {
             "fill": {
              "color": "#EBF0F8"
             },
             "line": {
              "color": "white"
             }
            },
            "header": {
             "fill": {
              "color": "#C8D4E3"
             },
             "line": {
              "color": "white"
             }
            },
            "type": "table"
           }
          ],
          "barpolar": [
           {
            "marker": {
             "line": {
              "color": "#E5ECF6",
              "width": 0.5
             },
             "pattern": {
              "fillmode": "overlay",
              "size": 10,
              "solidity": 0.2
             }
            },
            "type": "barpolar"
           }
          ],
          "pie": [
           {
            "automargin": true,
            "type": "pie"
           }
          ]
         },
         "layout": {
          "autotypenumbers": "strict",
          "colorway": [
           "#636efa",
           "#EF553B",
           "#00cc96",
           "#ab63fa",
           "#FFA15A",
           "#19d3f3",
           "#FF6692",
           "#B6E880",
           "#FF97FF",
           "#FECB52"
          ],
          "font": {
           "color": "#2a3f5f"
          },
          "hovermode": "closest",
          "hoverlabel": {
           "align": "left"
          },
          "paper_bgcolor": "white",
          "plot_bgcolor": "#E5ECF6",
          "polar": {
           "bgcolor": "#E5ECF6",
           "angularaxis": {
            "gridcolor": "white",
            "linecolor": "white",
            "ticks": ""
           },
           "radialaxis": {
            "gridcolor": "white",
            "linecolor": "white",
            "ticks": ""
           }
          },
          "ternary": {
           "bgcolor": "#E5ECF6",
           "aaxis": {
            "gridcolor": "white",
            "linecolor": "white",
            "ticks": ""
           },
           "baxis": {
            "gridcolor": "white",
            "linecolor": "white",
            "ticks": ""
           },
           "caxis": {
            "gridcolor": "white",
            "linecolor": "white",
            "ticks": ""
           }
          },
          "coloraxis": {
           "colorbar": {
            "outlinewidth": 0,
            "ticks": ""
           }
          },
          "colorscale": {
           "sequential": [
            [
             0.0,
             "#0d0887"
            ],
            [
             0.1111111111111111,
             "#46039f"
            ],
            [
             0.2222222222222222,
             "#7201a8"
            ],
            [
             0.3333333333333333,
             "#9c179e"
            ],
            [
             0.4444444444444444,
             "#bd3786"
            ],
            [
             0.5555555555555556,
             "#d8576b"
            ],
            [
             0.6666666666666666,
             "#ed7953"
            ],
            [
             0.7777777777777778,
             "#fb9f3a"
            ],
            [
             0.8888888888888888,
             "#fdca26"
            ],
            [
             1.0,
             "#f0f921"
            ]
           ],
           "sequentialminus": [
            [
             0.0,
             "#0d0887"
            ],
            [
             0.1111111111111111,
             "#46039f"
            ],
            [
             0.2222222222222222,
             "#7201a8"
            ],
            [
             0.3333333333333333,
             "#9c179e"
            ],
            [
             0.4444444444444444,
             "#bd3786"
            ],
            [
             0.5555555555555556,
             "#d8576b"
            ],
            [
             0.6666666666666666,
             "#ed7953"
            ],
            [
             0.7777777777777778,
             "#fb9f3a"
            ],
            [
             0.8888888888888888,
             "#fdca26"
            ],
            [
             1.0,
             "#f0f921"
            ]
           ],
           "diverging": [
            [
             0,
             "#8e0152"
            ],
            [
             0.1,
             "#c51b7d"
            ],
            [
             0.2,
             "#de77ae"
            ],
            [
             0.3,
             "#f1b6da"
            ],
            [
             0.4,
             "#fde0ef"
            ],
            [
             0.5,
             "#f7f7f7"
            ],
            [
             0.6,
             "#e6f5d0"
            ],
            [
             0.7,
             "#b8e186"
            ],
            [
             0.8,
             "#7fbc41"
            ],
            [
             0.9,
             "#4d9221"
            ],
            [
             1,
             "#276419"
            ]
           ]
          },
          "xaxis": {
           "gridcolor": "white",
           "linecolor": "white",
           "ticks": "",
           "title": {
            "standoff": 15
           },
           "zerolinecolor": "white",
           "automargin": true,
           "zerolinewidth": 2
          },
          "yaxis": {
           "gridcolor": "white",
           "linecolor": "white",
           "ticks": "",
           "title": {
            "standoff": 15
           },
           "zerolinecolor": "white",
           "automargin": true,
           "zerolinewidth": 2
          },
          "scene": {
           "xaxis": {
            "backgroundcolor": "#E5ECF6",
            "gridcolor": "white",
            "linecolor": "white",
            "showbackground": true,
            "ticks": "",
            "zerolinecolor": "white",
            "gridwidth": 2
           },
           "yaxis": {
            "backgroundcolor": "#E5ECF6",
            "gridcolor": "white",
            "linecolor": "white",
            "showbackground": true,
            "ticks": "",
            "zerolinecolor": "white",
            "gridwidth": 2
           },
           "zaxis": {
            "backgroundcolor": "#E5ECF6",
            "gridcolor": "white",
            "linecolor": "white",
            "showbackground": true,
            "ticks": "",
            "zerolinecolor": "white",
            "gridwidth": 2
           }
          },
          "shapedefaults": {
           "line": {
            "color": "#2a3f5f"
           }
          },
          "annotationdefaults": {
           "arrowcolor": "#2a3f5f",
           "arrowhead": 0,
           "arrowwidth": 1
          },
          "geo": {
           "bgcolor": "white",
           "landcolor": "#E5ECF6",
           "subunitcolor": "white",
           "showland": true,
           "showlakes": true,
           "lakecolor": "white"
          },
          "title": {
           "x": 0.05
          },
          "mapbox": {
           "style": "light"
          }
         }
        },
        "xaxis": {
         "anchor": "y",
         "domain": [
          0.0,
          1.0
         ],
         "title": {
          "text": "Knot duration [s]"
         }
        },
        "yaxis": {
         "anchor": "x",
         "domain": [
          0.0,
          1.0
         ],
         "title": {
          "text": "cumulative distribution [%]"
         }
        },
        "legend": {
         "tracegroupgap": 0
        },
        "title": {
         "text": "Cumulative distribution of Knot duration [s]"
        },
        "shapes": [
         {
          "line": {
           "color": "green",
           "dash": "dash",
           "width": 3
          },
          "type": "line",
          "x0": 35.27517884632612,
          "x1": 35.27517884632612,
          "xref": "x",
          "y0": 0,
          "y1": 1,
          "yref": "y domain"
         }
        ],
        "annotations": [
         {
          "showarrow": false,
          "text": "my_value=50 [%]",
          "x": 35.27517884632612,
          "xanchor": "left",
          "xref": "x",
          "y": 1,
          "yanchor": "top",
          "yref": "y domain"
         }
        ]
       },
       "config": {
        "plotlyServerURL": "https://plot.ly"
       }
      },
      "text/html": [
       "<div>                            <div id=\"f240555d-8446-4c80-b2e8-4183da4dd90a\" class=\"plotly-graph-div\" style=\"height:525px; width:100%;\"></div>            <script type=\"text/javascript\">                require([\"plotly\"], function(Plotly) {                    window.PLOTLYENV=window.PLOTLYENV || {};                                    if (document.getElementById(\"f240555d-8446-4c80-b2e8-4183da4dd90a\")) {                    Plotly.newPlot(                        \"f240555d-8446-4c80-b2e8-4183da4dd90a\",                        [{\"hovertemplate\":\"Knot duration [s]=%{x}\\u003cbr\\u003ecumulative distribution [%]=%{y}\\u003cextra\\u003e\\u003c\\u002fextra\\u003e\",\"legendgroup\":\"\",\"line\":{\"color\":\"#636efa\",\"dash\":\"solid\"},\"marker\":{\"symbol\":\"circle\"},\"mode\":\"lines\",\"name\":\"\",\"orientation\":\"v\",\"showlegend\":false,\"x\":[14.53333333,14.62088755089089,14.708441771781782,14.795995992672673,14.883550213563563,14.971104434454453,15.058658655345345,15.146212876236236,15.233767097127126,15.321321318018018,15.408875538908909,15.496429759799799,15.58398398069069,15.671538201581582,15.759092422472472,15.846646643363362,15.934200864254255,16.021755085145145,16.109309306036035,16.196863526926926,16.284417747817816,16.37197196870871,16.4595261895996,16.54708041049049,16.63463463138138,16.72218885227227,16.809743073163162,16.897297294054052,16.984851514944943,17.072405735835837,17.159959956726727,17.247514177617617,17.335068398508508,17.422622619399398,17.51017684029029,17.59773106118118,17.685285282072073,17.772839502962963,17.860393723853853,17.947947944744744,18.035502165635634,18.123056386526525,18.21061060741742,18.29816482830831,18.3857190491992,18.47327327009009,18.56082749098098,18.64838171187187,18.735935932762764,18.82349015365365,18.911044374544545,18.998598595435435,19.086152816326326,19.173707037217216,19.261261258108107,19.348815478999,19.436369699889887,19.52392392078078,19.61147814167167,19.699032362562562,19.786586583453452,19.874140804344343,19.961695025235237,20.049249246126124,20.136803467017018,20.224357687907908,20.3119119087988,20.39946612968969,20.48702035058058,20.574574571471473,20.66212879236236,20.749683013253254,20.837237234144144,20.924791455035034,21.012345675925925,21.099899896816815,21.18745411770771,21.2750083385986,21.36256255948949,21.45011678038038,21.53767100127127,21.62522522216216,21.71277944305305,21.800333663943945,21.887887884834836,21.975442105725726,22.062996326616616,22.150550547507507,22.238104768398397,22.325658989289288,22.41321321018018,22.500767431071072,22.588321651961962,22.675875872852853,22.763430093743743,22.850984314634633,22.938538535525524,23.026092756416418,23.113646977307305,23.2012011981982,23.28875541908909,23.37630963997998,23.46386386087087,23.55141808176176,23.638972302652654,23.72652652354354,23.814080744434435,23.901634965325325,23.989189186216215,24.07674340710711,24.164297627997996,24.25185184888889,24.339406069779777,24.42696029067067,24.51451451156156,24.60206873245245,24.689622953343346,24.777177174234232,24.864731395125126,24.952285616016013,25.039839836906907,25.127394057797797,25.214948278688688,25.30250249957958,25.39005672047047,25.477610941361363,25.56516516225225,25.652719383143143,25.740273604034034,25.827827824924924,25.915382045815818,26.002936266706705,26.0904904875976,26.178044708488486,26.26559892937938,26.35315315027027,26.44070737116116,26.528261592052054,26.61581581294294,26.703370033833835,26.79092425472472,26.878478475615616,26.966032696506506,27.053586917397396,27.14114113828829,27.228695359179177,27.31624958007007,27.403803800960958,27.491358021851852,27.578912242742742,27.666466463633633,27.754020684524527,27.841574905415413,27.929129126306307,28.016683347197198,28.104237568088088,28.19179178897898,28.27934600986987,28.366900230760763,28.45445445165165,28.542008672542543,28.629562893433434,28.717117114324324,28.804671335215215,28.892225556106105,28.979779776997,29.067333997887886,29.15488821877878,29.24244243966967,29.32999666056056,29.41755088145145,29.50510510234234,29.592659323233235,29.680213544124122,29.767767765015016,29.855321985905906,29.942876206796797,30.030430427687687,30.117984648578577,30.20553886946947,30.293093090360358,30.380647311251252,30.468201532142142,30.555755753033033,30.643309973923927,30.730864194814814,30.818418415705708,30.905972636596594,30.99352685748749,31.081081078378375,31.16863529926927,31.256189520160163,31.34374374105105,31.431297961941944,31.51885218283283,31.606406403723724,31.69396062461461,31.781514845505505,31.8690690663964,31.956623287287286,32.04417750817818,32.13173172906907,32.21928594995996,32.30684017085085,32.39439439174174,32.481948612632635,32.56950283352352,32.657057054414416,32.7446112753053,32.8321654961962,32.919719717087084,33.00727393797798,33.09482815886887,33.18238237975976,33.26993660065065,33.35749082154154,33.44504504243243,33.53259926332332,33.620153484214214,33.70770770510511,33.795261925995995,33.88281614688689,33.970370367777775,34.05792458866867,34.145478809559556,34.23303303045045,34.320587251341344,34.40814147223223,34.495695693123125,34.58324991401401,34.670804134904905,34.75835835579579,34.845912576686686,34.93346679757758,35.02102101846847,35.10857523935936,35.19612946025025,35.28368368114114,35.37123790203203,35.45879212292292,35.546346343813816,35.6339005647047,35.7214547855956,35.809009006486484,35.89656322737738,35.984117448268265,36.07167166915916,36.15922589005005,36.24678011094094,36.33433433183183,36.42188855272272,36.509442773613614,36.5969969945045,36.684551215395395,36.77210543628629,36.859659657177176,36.94721387806807,37.034768098958956,37.12232231984985,37.20987654074074,37.29743076163163,37.384984982522525,37.47253920341341,37.560093424304306,37.64764764519519,37.735201866086086,37.82275608697697,37.91031030786787,37.99786452875876,38.08541874964965,38.17297297054054,38.26052719143143,38.34808141232232,38.43563563321321,38.5231898541041,38.610744074995,38.698298295885884,38.78585251677678,38.873406737667665,38.96096095855856,39.048515179449446,39.13606940034034,39.22362362123123,39.31117784212212,39.398732063013014,39.4862862839039,39.573840504794795,39.66139472568568,39.748948946576576,39.83650316746747,39.92405738835836,40.01161160924925,40.09916583014014,40.18672005103103,40.27427427192192,40.36182849281281,40.449382713703706,40.53693693459459,40.62449115548549,40.71204537637637,40.79959959726727,40.88715381815816,40.97470803904905,41.06226225993994,41.14981648083083,41.23737070172172,41.32492492261261,41.412479143503504,41.5000333643944,41.587587585285284,41.67514180617618,41.762696027067065,41.85025024795796,41.937804468848846,42.02535868973974,42.112912910630634,42.20046713152152,42.288021352412414,42.3755755733033,42.463129794194195,42.55068401508508,42.638238235975976,42.72579245686687,42.81334667775776,42.90090089864865,42.98845511953954,43.07600934043043,43.16356356132132,43.25111778221221,43.338672003103106,43.42622622399399,43.51378044488489,43.601334665775774,43.68888888666667,43.776443107557554,43.86399732844845,43.95155154933934,44.03910577023023,44.12665999112112,44.21421421201201,44.301768432902904,44.38932265379379,44.476876874684685,44.56443109557558,44.651985316466465,44.73953953735736,44.827093758248246,44.91464797913914,45.00220220003003,45.08975642092092,45.177310641811815,45.2648648627027,45.352419083593595,45.43997330448448,45.527527525375376,45.61508174626626,45.70263596715716,45.79019018804805,45.87774440893894,45.96529862982983,46.05285285072072,46.14040707161161,46.2279612925025,46.31551551339339,46.40306973428429,46.490623955175174,46.57817817606606,46.665732396956955,46.75328661784785,46.840840838738735,46.92839505962963,47.015949280520516,47.10350350141141,47.1910577223023,47.27861194319319,47.366166164084085,47.45372038497497,47.541274605865866,47.62882882675675,47.716383047647646,47.80393726853853,47.89149148942943,47.97904571032032,48.06659993121121,48.1541541521021,48.24170837299299,48.32926259388388,48.41681681477477,48.50437103566566,48.59192525655656,48.679479477447444,48.76703369833834,48.854587919229225,48.94214214012012,49.029696361011005,49.1172505819019,49.20480480279279,49.29235902368368,49.379913244574574,49.46746746546546,49.555021686356355,49.64257590724724,49.730130128138136,49.81768434902903,49.905238569919916,49.99279279081081,50.0803470117017,50.16790123259259,50.25545545348348,50.34300967437437,50.430563895265266,50.51811811615615,50.60567233704705,50.69322655793793,50.78078077882883,50.868334999719714,50.95588922061061,51.0434434415015,51.13099766239239,51.21855188328328,51.30610610417417,51.39366032506506,51.48121454595595,51.568768766846844,51.65632298773774,51.743877208628625,51.83143142951952,51.918985650410406,52.0065398713013,52.094094092192194,52.18164831308308,52.269202533973974,52.35675675486486,52.444310975755755,52.53186519664664,52.619419417537536,52.70697363842843,52.79452785931932,52.88208208021021,52.9696363011011,53.05719052199199,53.14474474288288,53.23229896377377,53.319853184664666,53.40740740555555,53.49496162644645,53.58251584733733,53.67007006822823,53.757624289119114,53.84517851001001,53.9327327309009,54.02028695179179,54.10784117268268,54.19539539357357,54.282949614464464,54.37050383535535,54.458058056246244,54.54561227713714,54.633166498028025,54.72072071891892,54.808274939809806,54.8958291607007,54.98338338159159,55.07093760248248,55.158491823373375,55.24604604426426,55.333600265155155,55.42115448604604,55.508708706936936,55.59626292782782,55.68381714871872,55.77137136960961,55.8589255905005,55.94647981139139,56.03403403228228,56.12158825317317,56.20914247406406,56.29669669495495,56.38425091584585,56.471805136736734,56.55935935762763,56.646913578518514,56.73446779940941,56.822022020300295,56.90957624119119,56.99713046208208,57.08468468297297,57.172238903863864,57.25979312475475,57.347347345645645,57.43490156653653,57.522455787427425,57.61001000831832,57.697564229209206,57.7851184501001,57.87267267099099,57.96022689188188,58.04778111277277,58.13533533366366,58.222889554554556,58.31044377544544,58.397997996336336,58.48555221722722,58.57310643811812,58.660660659009004,58.7482148798999,58.83576910079079,58.92332332168168,59.01087754257257,59.09843176346346,59.18598598435435,59.27354020524524,59.361094426136134,59.44864864702703,59.536202867917915,59.62375708880881,59.711311309699695,59.79886553059059,59.886419751481476,59.97397397237237,60.061528193263264,60.14908241415415,60.236636635045045,60.32419085593593,60.411745076826826,60.49929929771771,60.586853518608606,60.6744077394995,60.76196196039039,60.84951618128128,60.93707040217217,61.02462462306306,61.11217884395395,61.19973306484484,61.28728728573574,61.37484150662662,61.46239572751752,61.549949948408404,61.6375041692993,61.725058390190185,61.81261261108108,61.90016683197197,61.98772105286286,62.07527527375375,62.16282949464464,62.250383715535534,62.33793793642642,62.425492157317315,62.51304637820821,62.600600599099096,62.68815481998999,62.775709040880876,62.86326326177177,62.95081748266266,63.03837170355355,63.125925924444445,63.21348014533533,63.301034366226226,63.38858858711711,63.47614280800801,63.56369702889889,63.65125124978979,63.73880547068068,63.82635969157157,63.91391391246246,64.00146813335336,64.08902235424425,64.17657657513513,64.26413079602602,64.35168501691692,64.43923923780781,64.5267934586987,64.61434767958959,64.70190190048048,64.78945612137137,64.87701034226227,64.96456456315316,65.05211878404404,65.13967300493493,65.22722722582583,65.31478144671672,65.4023356676076,65.4898898884985,65.57744410938939,65.66499833028028,65.75255255117118,65.84010677206206,65.92766099295295,66.01521521384385,66.10276943473474,66.19032365562563,66.27787787651651,66.3654320974074,66.4529863182983,66.5405405391892,66.62809476008007,66.71564898097097,66.80320320186186,66.89075742275276,66.97831164364365,67.06586586453453,67.15342008542542,67.24097430631632,67.32852852720721,67.4160827480981,67.50363696898899,67.59119118987988,67.67874541077077,67.76629963166167,67.85385385255256,67.94140807344344,68.02896229433433,68.11651651522523,68.20407073611612,68.291624957007,68.3791791778979,68.46673339878879,68.55428761967968,68.64184184057058,68.72939606146146,68.81695028235235,68.90450450324325,68.99205872413414,69.07961294502503,69.16716716591591,69.2547213868068,69.3422756076977,69.4298298285886,69.51738404947947,69.60493827037037,69.69249249126126,69.78004671215216,69.86760093304305,69.95515515393393,70.04270937482482,70.13026359571572,70.21781781660661,70.3053720374975,70.39292625838839,70.48048047927928,70.56803470017017,70.65558892106107,70.74314314195195,70.83069736284284,70.91825158373373,71.00580580462463,71.09336002551552,71.1809142464064,71.2684684672973,71.35602268818819,71.44357690907908,71.53113112996998,71.61868535086086,71.70623957175175,71.79379379264265,71.88134801353354,71.96890223442442,72.05645645531531,72.14401067620621,72.2315648970971,72.319119117988,72.40667333887887,72.49422755976977,72.58178178066066,72.66933600155156,72.75689022244245,72.84444444333333,72.93199866422422,73.01955288511512,73.10710710600601,73.19466132689689,73.28221554778779,73.36976976867868,73.45732398956957,73.54487821046047,73.63243243135135,73.71998665224224,73.80754087313314,73.89509509402403,73.98264931491492,74.0702035358058,74.1577577566967,74.24531197758759,74.33286619847848,74.42042041936936,74.50797464026026,74.59552886115115,74.68308308204205,74.77063730293294,74.85819152382382,74.94574574471471,75.03329996560561,75.1208541864965,75.2084084073874,75.29596262827828,75.38351684916917,75.47107107006006,75.55862529095096,75.64617951184184,75.73373373273273,75.82128795362362,75.90884217451452,75.99639639540541,76.08395061629629,76.17150483718719,76.25905905807808,76.34661327896897,76.43416749985987,76.52172172075075,76.60927594164164,76.69683016253254,76.78438438342343,76.87193860431431,76.9594928252052,77.0470470460961,77.13460126698699,77.22215548787788,77.30970970876876,77.39726392965966,77.48481815055055,77.57237237144145,77.65992659233234,77.74748081322322,77.83503503411411,77.92258925500501,78.0101434758959,78.09769769678678,78.18525191767768,78.27280613856857,78.36036035945946,78.44791458035036,78.53546880124125,78.62302302213213,78.71057724302302,78.79813146391392,78.88568568480481,78.9732399056957,79.06079412658659,79.14834834747748,79.23590256836837,79.32345678925927,79.41101101015016,79.49856523104104,79.58611945193194,79.67367367282283,79.76122789371372,79.8487821146046,79.9363363354955,80.02389055638639,80.11144477727728,80.19899899816818,80.28655321905906,80.37410743994995,80.46166166084085,80.54921588173174,80.63677010262263,80.72432432351351,80.81187854440441,80.8994327652953,80.9869869861862,81.07454120707708,81.16209542796797,81.24964964885886,81.33720386974976,81.42475809064065,81.51231231153153,81.59986653242242,81.68742075331332,81.77497497420421,81.8625291950951,81.95008341598599,82.03763763687688,82.12519185776777,82.21274607865867,82.30030029954955,82.38785452044044,82.47540874133134,82.56296296222223,82.65051718311312,82.738071404004,82.8256256248949,82.91317984578579,83.00073406667669,83.08828828756758,83.17584250845846,83.26339672934935,83.35095095024025,83.43850517113114,83.52605939202202,83.61361361291291,83.70116783380381,83.7887220546947,83.8762762755856,83.96383049647648,84.05138471736737,84.13893893825826,84.22649315914916,84.31404738004005,84.40160160093093,84.48915582182183,84.57671004271272,84.66426426360361,84.75181848449449,84.83937270538539,84.92692692627628,85.01448114716717,85.10203536805807,85.18958958894895,85.27714380983984,85.36469803073074,85.45225225162163,85.53980647251252,85.6273606934034,85.7149149142943,85.80246913518519,85.89002335607609,85.97757757696697,86.06513179785786,86.15268601874875,86.24024023963965,86.32779446053054,86.41534868142142,86.50290290231231,86.59045712320321,86.6780113440941,86.765565564985,86.85311978587588,86.94067400676677,87.02822822765766,87.11578244854856,87.20333666943944,87.29089089033033,87.37844511122123,87.46599933211212,87.55355355300301,87.64110777389389,87.72866199478479,87.81621621567568,87.90377043656657,87.99132465745747,88.07887887834835,88.16643309923924,88.25398732013014,88.34154154102103,88.42909576191191,88.5166499828028,88.6042042036937,88.69175842458459,88.77931264547549,88.86686686636637,88.95442108725726,89.04197530814815,89.12952952903905,89.21708374992994,89.30463797082082,89.39219219171171,89.47974641260261,89.5673006334935,89.6548548543844,89.74240907527528,89.82996329616617,89.91751751705706,90.00507173794796,90.09262595883884,90.18018017972973,90.26773440062063,90.35528862151152,90.44284284240241,90.5303970632933,90.61795128418419,90.70550550507508,90.79305972596597,90.88061394685687,90.96816816774775,91.05572238863864,91.14327660952954,91.23083083042043,91.31838505131131,91.4059392722022,91.4934934930931,91.58104771398399,91.66860193487489,91.75615615576577,91.84371037665666,91.93126459754755,92.01881881843845,92.10637303932934,92.19392726022022,92.28148148111111,92.36903570200201,92.4565899228929,92.54414414378378,92.63169836467468,92.71925258556557,92.80680680645646,92.89436102734736,92.98191524823824,93.06946946912913,93.15702369002003,93.24457791091092,93.33213213180181,93.4196863526927,93.50724057358359,93.59479479447448,93.68234901536538,93.76990323625625,93.85745745714715,93.94501167803804,94.03256589892894,94.12012011981983,94.20767434071071,94.2952285616016,94.3827827824925,94.47033700338339,94.55789122427429,94.64544544516517,94.73299966605606,94.82055388694695,94.90810810783785,94.99566232872873,95.08321654961962,95.17077077051052,95.25832499140141,95.3458792122923,95.43343343318318,95.52098765407408,95.60854187496497,95.69609609585586,95.78365031674676,95.87120453763764,95.95875875852853,96.04631297941943,96.13386720031032,96.2214214212012,96.3089756420921,96.39652986298299,96.48408408387388,96.57163830476478,96.65919252565566,96.74674674654655,96.83430096743744,96.92185518832834,97.00940940921923,97.09696363011011,97.184517851001,97.2720720718919,97.35962629278279,97.44718051367367,97.53473473456457,97.62228895545546,97.70984317634635,97.79739739723725,97.88495161812813,97.97250583901902,98.06006005990992,98.14761428080081,98.2351685016917,98.32272272258258,98.41027694347348,98.49783116436437,98.58538538525526,98.67293960614614,98.76049382703704,98.84804804792793,98.93560226881883,99.02315648970972,99.1107107106006,99.1982649314915,99.28581915238239,99.37337337327328,99.46092759416418,99.54848181505506,99.63603603594595,99.72359025683684,99.81114447772774,99.89869869861862,99.98625291950951,100.0738071404004,100.1613613612913,100.24891558218219,100.33646980307307,100.42402402396397,100.51157824485486,100.59913246574575,100.68668668663665,100.77424090752753,100.86179512841842,100.94934934930932,101.03690357020021,101.12445779109109,101.21201201198198,101.29956623287288,101.38712045376377,101.47467467465466,101.56222889554554,101.64978311643644,101.73733733732733,101.82489155821823,101.91244577910912,102.0],\"xaxis\":\"x\",\"y\":[0.10452770056369382,0.21036205340369896,0.3175098513152109,0.4259777372466695,0.5357722008076244,0.6468995747947022,0.7593660317375401,0.8731775804665652,0.98834006270451,1.1048591496835496,1.2227403387899711,1.3419889502382694,1.4626101237765878,1.584608815425403,1.707989794251377,1.832757639178278,1.9589167358368855,2.0864712734557833,2.215425241794943,2.345782428123995,2.47754641424708,2.6107205735761507,2.7453080682546127,2.8813118463331477,3.018734638999579,3.1575789578646076,3.297847092305237,3.4395411068676935,3.5826628387316224,3.727213895237323,3.8731956514777717,4.020609247957149,4.169455588317576,4.319735337135724,4.47144891779095,4.62459651040658,4.77917804986592,4.9351932239045775,5.092641471280583,5.2515219800238535,5.411833685766422,5.5735752701548815,5.736745159346424,5.901341522589828,6.067362270892704,6.234805055776274,6.403667268118924,6.573946037089697,6.74563822917288,6.918740447284812,7.09324902998391,7.269160050774977,7.446469317508723,7.625172371877404,7.805264489007462,7.9867406771499585,8.169595677469568,8.353823963932834,8.539419743296342,8.726376955195416,8.91468927233387,9.104350100775308,9.295352580336425,9.487689585082649,9.681353723926476,9.876337341328753,10.072632518103095,10.270231072323611,10.469124560336002,10.669304277872067,10.870761261267589,11.073486288783501,11.277469882030184,11.482702307494685,11.689173578170589,11.896873455290185,12.105791450158573,12.315916826089234,12.52723860044053,12.739745546752616,12.953426196984072,13.168268843847574,13.384261543243893,13.60139211679335,13.819648154463867,14.039017017294729,14.259485840215003,14.481041534955613,14.703670793053947,14.927360088949843,15.152095683171718,15.377863625611608,15.60464975888775,15.832439721793342,16.061218952830075,16.290972693824894,16.521685993628502,16.753343711893994,16.985930522933987,17.219430919654595,17.453829217564433,17.689109558856966,17.925255916564357,18.162252098780854,18.40008175295394,18.638728370241246,18.878175289931153,19.11840570392517,19.359402661279987,19.601149072806997,19.84362771572733,20.086821238380043,20.330712164981385,20.57528290043283,20.820515735175643,21.0663928500897,21.31289632143417,21.56000812582781,21.80771014526643,22.0559841721752,22.304811914493303,22.554175000788614,22.804054985399873,23.054433353603947,23.305291526805664,23.556610867747782,23.80837268573857,24.060558241894473,24.313148754395428,24.566125403750245,24.81946933806953,25.073161678343745,25.32718352372369,25.581515956801088,25.83614004888662,26.09103686528298,26.346187470550387,26.601572933762128,26.857174333747555,27.112972764320187,27.368949339488317,27.625085198645824,27.881361511740593,28.13775948441833,28.394260363139207,28.650845440265076,28.907496059114848,29.16419361898574,29.42091958013809,29.6776554687415,29.934382881779943,30.191083491913833,30.447739052296658,30.70433140134418,30.96084246745402,31.21725427367359,31.473548942314245,31.729708699509803,31.9857158797173,32.24155293015818,32.49720241519794,32.75264702066251,33.00786955808945,33.262852968912235,33.51758032857601,33.77203485058305,34.026199890466316,34.28005894968965,34.53359567947295,34.78679388454094,35.039637526794095,35.29211072890039,35.544197777806474,35.79588312816713,36.04715140569164,36.29798741040618,36.54837611983075,36.79830269206998,37.047752468816604,37.29671097826667,37.54516393794573,37.79309725744505,38.04049704106712,38.28734959037984,38.53364140667856,38.77935919335553,39.02448985817609,39.26902051546124,39.51293848817608,39.756231309923756,39.99888672684461,40.240892699420314,40.48223740418269,40.722909235327194,40.96289680623085,41.20218895087472,41.4407747251708,41.678643408193516,41.91578450331598,42.15218773925104,42.38784307099749,42.62274068069171,42.85687097836502,43.09022460260727,43.32279242113686,43.554565531278044,43.78553526034576,44.01569316593868,44.245031036141214,44.473540889635,44.70121497572076,44.9280457742512,45.154025995475855,45.379148579798674,45.60340669744939,45.826793748069484,46.04930336021385,46.27092939076909,46.491665924289734,46.71150727225319,46.93044797223487,47.1484827870045,47.36560670354488,47.58181493199447,47.797102904514915,48.01146627408487,48.22490091322168,48.43740291263198,48.64896857979293,48.85959443746527,49.06927722213985,49.27801388241904,49.485801577334506,49.69263767460302,49.898519748821656,50.1034455796041,50.3074131496597,50.51042064281668,50.71246644199138,50.913549127104936,51.11366747294925,51.31282044700386,51.51100720720525,51.708227099670566,51.904479656377134,52.09976459279976,52.29408180550732,52.487431369720504,52.67981353683222,52.87122873189278,53.06167755106108,53.251160759023975,53.43967928638522,53.627234227025966,53.81382683543828,53.999458524033656,54.184130860428034,54.367845564705135,54.55060450665977,54.73240970302281,54.91326331466953,55.09316764381293,55.27212513118379,55.45013835319895,55.62721001911964,55.80334296820127,55.9785401668365,56.15280470569288,56.32613979684698,56.49854877091627,56.67003507419038,56.84060226576332,57.010254014668035,57.17899409701476,57.34682639313476,57.51375488473073,57.679783652035276,57.8449168709789,58.009158810368824,58.17251382907995,58.33498637325925,58.49658097354482,58.65730224230104,58.817154870870716,58.97614362684562,59.13427335135663,59.291548956384396,59.447975422091666,59.60355779417859,59.758301181261665,59.91221075227757,60.06529173391282,60.21754940806009,60.368989109302206,60.519616222424695,60.669436179957586,60.81845445974749,60.96667658256052,61.114108109716966,61.26075464075838,61.40662181114762,61.551715290002754,61.69604077786518,61.839604004502675,61.98241072674798,62.12446672637316,62.26577780800056,62.40634979705051,62.54618853772646,62.68529989103759,62.823689732859506,62.96136395203339,63.098328448503395,63.23458913149327,63.37015191772172,63.505022729657185,63.63920749381187,63.77271213907538,63.90554259508787,64.03770479065284,64.1692046521896,64.30004810222539,64.43024105792715,64.55978942967282,64.68869911966212,64.81697602056668,64.94462601421941,65.07165497034275,65.19806874531596,65.32387318098085,65.44907410348588,65.57367732216832,65.69768862847417,65.8211137949155,65.94395857406492,66.0662286975866,66.18792987530364,66.30906779430147,66.42964811806647,66.54967648565963,66.66915851092473,66.78809978173051,66.90650585924628,67.02438227725044,67.1417345414714,67.25856812896028,67.37488848749491,67.49070103501431,67.60601115908324,67.72082421638609,67.8351455322495,67.94898040019305,68.06233408150734,68.17521180485876,68.28761876592031,68.39956012702774,68.51104101686032,68.62206653014553,68.73264172738692,68.84277163461441,68.95246124315629,69.06171550943236,69.17053935476713,69.27893766522253,69.38691529144953,69.49447704855753,69.60162771600122,69.7083720374837,69.81471472087554,69.92066043814867,70.02621382532459,70.131379482436,70.23616197350128,70.34056582651078,70.44459553342458,70.54825555018057,70.65155029671253,70.75448415697709,70.85706147898917,70.95928657486505,71.06116372087239,71.1626971574865,71.26389108945222,71.36474968585063,71.46527708017018,71.56547737038125,71.66535461901371,71.76491285323692,71.86415606494127,71.96308821082103,72.0617132124576,72.16003495640278,72.25805729426139,72.35578404277278,72.45321898389071,72.55036586486088,72.64722839829604,72.74381026224764,72.84011510027406,72.93614652150471,73.03190810069952,73.1274033783037,73.22263586049696,73.31760901923725,73.41232629229839,73.50679108330118,73.60100676173799,73.69497666299026,73.78870408833872,73.88219230496607,73.97544454595187,74.06846401025939,74.16125386271436,74.25381723397508,74.34615722049428,74.43827688447206,74.53017925380004,74.62186732199672,74.71334404813356,74.8046123567523,74.89567513777295,74.98653524639272,75.07719550297574,75.16765869293386,75.25792756659797,75.34800483908073,75.43789319013008,75.52759526397384,75.61711366915571,75.70645097836261,75.79560972824342,75.88459241921953,75.97340151528722,76.06203944381213,76.15050859531596,76.23881132325576,76.32694994379595,76.41492673557345,76.50274393945602,76.5904037582943,76.67790835666788,76.7652598606254,76.85246035741945,76.93951189523641,77.0264164829215,77.11317608969969,77.19979264489258,77.28626803763191,77.37260411656995,77.45880268958707,77.54486552349745,77.6307943437527,77.7165908341443,77.8022566365052,77.88779335041096,77.97320253288115,78.05848569808104,78.14364431702478,78.22867981727971,78.31359358267312,78.3983869530013,78.48306122374187,78.56761764576959,78.65205742507644,78.73638172249613,78.82059165343394,78.90468828760213,78.98867264876156,79.07254571447008,79.15630841583814,79.23996163729198,79.32350621634536,79.40694294337985,79.49027256143447,79.57349576600507,79.65661320485411,79.73962547783108,79.82253313670427,79.90533668500409,79.98803657787904,80.07063322196382,80.15312697526092,80.23551814703586,80.31780699772612,80.39999373886484,80.48207853301929,80.56406149374462,80.64594268555332,80.72772212390075,80.80939977518713,80.89097555677633,80.97244933703183,81.05382093537018,81.13509012233227,81.21625661967269,81.29732010046766,81.37828018924142,81.45913646211183,81.53988844695492,81.62053562358912,81.70107742397894,81.78151323245874,81.86184238597615,81.94206417435612,82.02217784058502,82.10218258111524,82.1820775461906,82.26186184019204,82.34153452200444,82.42109460540402,82.50054105946671,82.57987280899725,82.65908873497928,82.73818767504632,82.81716842397337,82.89602973418948,82.97477031631097,83.0533888396951,83.13188393301446,83.21025418485159,83.28849814431386,83.36661432166831,83.44460118899664,83.52245718086954,83.60018069504065,83.67777009315978,83.755223701505,83.83253981173347,83.90971668165068,83.98675253599781,84.06364556725681,84.14039393647302,84.21699577409483,84.29344918083008,84.36975222851876,84.44590296102177,84.521899395125,84.59773952145872,84.67342130543152,84.74894268817843,84.82430158752284,84.89949589895166,84.97452349660311,85.04938223426691,85.12406994639618,85.19858444913038,85.2729235413292,85.3470850056162,85.42106660943233,85.49486610609829,85.56848123588519,85.64190972709332,85.71514929713783,85.78819765364128,85.86105249553212,85.93371151414858,86.00617239434736,86.07843281561658,86.15049045319215,86.22234297917717,86.29398806366353,86.36542337585533,86.43664658519307,86.50765536247842,86.57844738099868,86.64902031765028,86.71937185406082,86.78949967770886,86.85940148304094,86.92907497258514,86.9985178580605,87.06772786148184,87.13670271625908,87.20544016829074,87.27393797705066,87.34219391666781,87.41020577699793,87.47797136468705,87.54548850422584,87.61275503899442,87.67976883229693,87.74652776838542,87.81302975347234,87.87927271673118,87.94525461128471,88.0109734151802,88.07642713235114,88.14161379356501,88.20653145735648,88.27117821094554,88.33555217114022,88.39965148522334,88.46347433182268,88.5270189217644,88.59028349890907,88.65326634097012,88.71596576031382,88.77838010474095,88.8405077582495,88.90234714177812,88.96389671392976,89.02515497167543,89.08612045103774,89.14679172775361,89.20716741791621,89.26724617859576,89.32702670843867,89.38650774824525,89.44568808152522,89.50456653503127,89.5631419792702,89.6214133289915,89.67937954365334,89.7370396278655,89.79439263180959,89.85143765163595,89.90817382983728,89.96460035559937,90.02071646512789,90.07652144195218,90.13201461720534,90.18719536988104,90.24206312706647,90.29661736415213,90.35085760501795,90.40478342219605,90.45839443700999,90.51169031969079,90.56467078946964,90.61733561464754,90.66968461264175,90.72171765000941,90.77343464244835,90.82483555477526,90.87592040088137,90.92668924366588,90.97714219494718,91.02727941535231,91.07710111418457,91.12660754926986,91.17579902678156,91.22467590104465,91.273238574319,91.3214874965623,91.36942316517273,91.41704612471192,91.46435696660814,91.5113563288405,91.55804489560411,91.60442339695656,91.65049260844633,91.69625335072321,91.74170648913118,91.78685293328415,91.83169363662488,91.8762295959675,91.92046185102396,91.9643914839148,92.00801961866487,92.05134742068391,92.09437609623298,92.13710689187668,92.17954109392186,92.22168002784306,92.26352505769546,92.30507758551508,92.34633905070747,92.38731092942479,92.42799473393183,92.4683920119616,92.50850434606065,92.54833335292473,92.58788068272533,92.62714801842718,92.66613707509762,92.70484959920798,92.74328736792744,92.78145218840996,92.81934589707458,92.85697035887962,92.89432746659118,92.93141914004639,92.96824732541184,93.00481399443763,93.04112114370751,93.07717079388553,93.11296498895946,93.14850579548171,93.18379530180799,93.21883561733404,93.25362887173108,93.28817721418014,93.3224828126059,93.35654785291024,93.390374538206,93.42396508805143,93.45732173768542,93.49044673726428,93.52334235110007,93.55601085690105,93.58845454501478,93.6206757176736,93.65267668824372,93.68445978047745,93.71602732776948,93.74738167241716,93.77852516488542,93.80946016307625,93.84018903160353,93.87071414107304,93.90103786736833,93.9311625909424,93.96109069611585,93.99082457038132,94.02036660371483,94.04971918789423,94.07888471582477,94.10786558087231,94.1366641762043,94.16528289413868,94.19372412550099,94.22199025898989,94.25008368055133,94.27800677276143,94.30576191421844,94.33335147894368,94.3607778357921,94.38804334787196,94.4151503719744,94.44210125801271,94.46889834847148,94.4955439778658,94.52204047221063,94.54839014850043,94.57459531419917,94.6006582667408,94.62658129304018,94.65236666901482,94.67801665911726,94.70353351587804,94.72891947945978,94.75417677722196,94.77930762329662,94.80431421817515,94.8291987483058,94.85396338570249,94.87861028756438,94.90314159590667,94.92755943720219,94.95186592203416,94.97606314475996,95.00015318318576,95.02413809825214,95.04801993373061,95.0718007159311,95.09548245342008,95.11906713674962,95.14255673819709,95.16595321151546,95.18925849169433,95.21247449473123,95.23560311741355,95.25864623711065,95.28160571157632,95.30448337876128,95.32728105663574,95.350000543022,95.37264361543666,95.39521203094276,95.41770752601126,95.44013181639224,95.46248659699512,95.4847735417784,95.50699430364813,95.52915051436554,95.55124378446337,95.57327570317065,95.59524783834627,95.61716173642048,95.63901892234493,95.66082089955039,95.68256914991248,95.70426513372503,95.72591028968085,95.74750603486,95.76905376472496,95.79055485312308,95.81201065229564,95.83342249289349,95.85479168399937,95.87611951315623,95.89740724640183,95.91865612830914,95.93986738203249,95.96104220935928,95.98218179076699,96.00328728548533,96.02435983156352,96.04540054594221,96.06641052453004,96.08739084228465,96.10834255329797,96.12926669088549,96.15016426767937,96.17103627572544,96.19188368658342,96.21270745143069,96.2335085011691,96.25428774653483,96.2750460782109,96.29578436694246,96.31650346365439,96.3372041995713,96.3578873863395,96.378553816151,96.39920426186924,96.41983947715647,96.44046019660252,96.4610671358549,96.48166099174999,96.50224244244535,96.52281214755267,96.54337074827158,96.56391886752391,96.58445711008837,96.6049860627356,96.62550629436326,96.64601835613111,96.66652278159614,96.68702008684726,96.70751077063976,96.72799531452947,96.74847418300591,96.76894782362518,96.78941666714198,96.8098811276405,96.83034160266472,96.85079847334745,96.87125210453821,96.89170284492995,96.91215102718456,96.93259696805677,96.95304096851699,96.97348331387226,96.99392427388597,97.01436410289581,97.03480303993011,97.05524130882262,97.07567911832521,97.09611666221932,97.11655411942516,97.1369916541094,97.15742941579076,97.17786753944411,97.19830614560232,97.21874534045654,97.23918521595446,97.25962584989678,97.28006730603178,97.30050963414804,97.32095287016544,97.34139703622415,97.36184214077208,97.38228817865038,97.40273513117735,97.42318296623066,97.44363163832772,97.46408108870487,97.48453124539463,97.50498202330165,97.52543332427722,97.54588503719233,97.56633703800952,97.58678918985338,97.60724134307995,97.62769333534499,97.64814499167127,97.66859612451489,97.68904653383062,97.70949600713666,97.72994431957865,97.750391233993,97.77083650096968,97.79127985891493,97.81172103411312,97.83215974078887,97.85259568116872,97.87302854554308,97.89345801232787,97.91388374812682,97.9343054077937,97.9547226344951,97.97513505977368,97.99554230361208,98.01594397449757,98.0363396694874,98.0567289742753,98.07711146325883,98.09748669960803,98.11785423533532,98.13821361136668,98.1585643576145,98.17890599305186,98.19923802578863,98.21955995314921,98.2398712617525,98.26017142759349,98.28045991612728,98.30073618235524,98.3209996709133,98.341249816163,98.36148604228477,98.38170776337387,98.40191438353916,98.42210529700448,98.44227988821297,98.46243753193438,98.48257759337538,98.50269942829284,98.52280238311062,98.5428857950392,98.562948992199,98.58299129374684,98.60301201000598,98.62301044259952,98.64298588458759,98.66293762060783,98.68286492701986,98.70276707205322,98.72264331595893,98.74249291116534,98.76231510243707,98.78210912703832,98.80187421489973,98.8216095887893,98.8413144644869,98.86098805096299,98.88062955056098,98.90023815918353,98.91981306648287,98.93935345605472,98.95885850563629,98.97832738730797,98.997759267699,99.01715330819658,99.03650866515927,99.0558244901334,99.07509993007385,99.09433412756792,99.11352622106297,99.13267534509768,99.15178063053658,99.1708412048079,99.18985619214509,99.20882471383119,99.22774588844659,99.24661883211967,99.26544265878074,99.28421648041865,99.30293940734015,99.32161054843222,99.34022901142674,99.35879390316781,99.37730432988144,99.39575939744742,99.41415821167345,99.43249987857135,99.45078350463494,99.46900819711998,99.48717306432562,99.50527721587737,99.52331976301147,99.54129981886057,99.55921649874037,99.57706892043737,99.59485620449728,99.61257747451425,99.63023185742051,99.64781848377633,99.66533648806036,99.68278500895975,99.70016318966053,99.71747017813725,99.73470512744268,99.75186719599657,99.7689555478738,99.78596935309162,99.80290778789576,99.81977003504541,99.83655528409662,99.8532627316843,99.86989158180239,99.88644104608225,99.90291034406883,99.91929870349472,99.93560536055182,99.95182956016046,99.96797055623583,99.98402761195145,99.99999999999984],\"yaxis\":\"y\",\"type\":\"scatter\"}],                        {\"template\":{\"data\":{\"histogram2dcontour\":[{\"type\":\"histogram2dcontour\",\"colorbar\":{\"outlinewidth\":0,\"ticks\":\"\"},\"colorscale\":[[0.0,\"#0d0887\"],[0.1111111111111111,\"#46039f\"],[0.2222222222222222,\"#7201a8\"],[0.3333333333333333,\"#9c179e\"],[0.4444444444444444,\"#bd3786\"],[0.5555555555555556,\"#d8576b\"],[0.6666666666666666,\"#ed7953\"],[0.7777777777777778,\"#fb9f3a\"],[0.8888888888888888,\"#fdca26\"],[1.0,\"#f0f921\"]]}],\"choropleth\":[{\"type\":\"choropleth\",\"colorbar\":{\"outlinewidth\":0,\"ticks\":\"\"}}],\"histogram2d\":[{\"type\":\"histogram2d\",\"colorbar\":{\"outlinewidth\":0,\"ticks\":\"\"},\"colorscale\":[[0.0,\"#0d0887\"],[0.1111111111111111,\"#46039f\"],[0.2222222222222222,\"#7201a8\"],[0.3333333333333333,\"#9c179e\"],[0.4444444444444444,\"#bd3786\"],[0.5555555555555556,\"#d8576b\"],[0.6666666666666666,\"#ed7953\"],[0.7777777777777778,\"#fb9f3a\"],[0.8888888888888888,\"#fdca26\"],[1.0,\"#f0f921\"]]}],\"heatmap\":[{\"type\":\"heatmap\",\"colorbar\":{\"outlinewidth\":0,\"ticks\":\"\"},\"colorscale\":[[0.0,\"#0d0887\"],[0.1111111111111111,\"#46039f\"],[0.2222222222222222,\"#7201a8\"],[0.3333333333333333,\"#9c179e\"],[0.4444444444444444,\"#bd3786\"],[0.5555555555555556,\"#d8576b\"],[0.6666666666666666,\"#ed7953\"],[0.7777777777777778,\"#fb9f3a\"],[0.8888888888888888,\"#fdca26\"],[1.0,\"#f0f921\"]]}],\"heatmapgl\":[{\"type\":\"heatmapgl\",\"colorbar\":{\"outlinewidth\":0,\"ticks\":\"\"},\"colorscale\":[[0.0,\"#0d0887\"],[0.1111111111111111,\"#46039f\"],[0.2222222222222222,\"#7201a8\"],[0.3333333333333333,\"#9c179e\"],[0.4444444444444444,\"#bd3786\"],[0.5555555555555556,\"#d8576b\"],[0.6666666666666666,\"#ed7953\"],[0.7777777777777778,\"#fb9f3a\"],[0.8888888888888888,\"#fdca26\"],[1.0,\"#f0f921\"]]}],\"contourcarpet\":[{\"type\":\"contourcarpet\",\"colorbar\":{\"outlinewidth\":0,\"ticks\":\"\"}}],\"contour\":[{\"type\":\"contour\",\"colorbar\":{\"outlinewidth\":0,\"ticks\":\"\"},\"colorscale\":[[0.0,\"#0d0887\"],[0.1111111111111111,\"#46039f\"],[0.2222222222222222,\"#7201a8\"],[0.3333333333333333,\"#9c179e\"],[0.4444444444444444,\"#bd3786\"],[0.5555555555555556,\"#d8576b\"],[0.6666666666666666,\"#ed7953\"],[0.7777777777777778,\"#fb9f3a\"],[0.8888888888888888,\"#fdca26\"],[1.0,\"#f0f921\"]]}],\"surface\":[{\"type\":\"surface\",\"colorbar\":{\"outlinewidth\":0,\"ticks\":\"\"},\"colorscale\":[[0.0,\"#0d0887\"],[0.1111111111111111,\"#46039f\"],[0.2222222222222222,\"#7201a8\"],[0.3333333333333333,\"#9c179e\"],[0.4444444444444444,\"#bd3786\"],[0.5555555555555556,\"#d8576b\"],[0.6666666666666666,\"#ed7953\"],[0.7777777777777778,\"#fb9f3a\"],[0.8888888888888888,\"#fdca26\"],[1.0,\"#f0f921\"]]}],\"mesh3d\":[{\"type\":\"mesh3d\",\"colorbar\":{\"outlinewidth\":0,\"ticks\":\"\"}}],\"scatter\":[{\"fillpattern\":{\"fillmode\":\"overlay\",\"size\":10,\"solidity\":0.2},\"type\":\"scatter\"}],\"parcoords\":[{\"type\":\"parcoords\",\"line\":{\"colorbar\":{\"outlinewidth\":0,\"ticks\":\"\"}}}],\"scatterpolargl\":[{\"type\":\"scatterpolargl\",\"marker\":{\"colorbar\":{\"outlinewidth\":0,\"ticks\":\"\"}}}],\"bar\":[{\"error_x\":{\"color\":\"#2a3f5f\"},\"error_y\":{\"color\":\"#2a3f5f\"},\"marker\":{\"line\":{\"color\":\"#E5ECF6\",\"width\":0.5},\"pattern\":{\"fillmode\":\"overlay\",\"size\":10,\"solidity\":0.2}},\"type\":\"bar\"}],\"scattergeo\":[{\"type\":\"scattergeo\",\"marker\":{\"colorbar\":{\"outlinewidth\":0,\"ticks\":\"\"}}}],\"scatterpolar\":[{\"type\":\"scatterpolar\",\"marker\":{\"colorbar\":{\"outlinewidth\":0,\"ticks\":\"\"}}}],\"histogram\":[{\"marker\":{\"pattern\":{\"fillmode\":\"overlay\",\"size\":10,\"solidity\":0.2}},\"type\":\"histogram\"}],\"scattergl\":[{\"type\":\"scattergl\",\"marker\":{\"colorbar\":{\"outlinewidth\":0,\"ticks\":\"\"}}}],\"scatter3d\":[{\"type\":\"scatter3d\",\"line\":{\"colorbar\":{\"outlinewidth\":0,\"ticks\":\"\"}},\"marker\":{\"colorbar\":{\"outlinewidth\":0,\"ticks\":\"\"}}}],\"scattermapbox\":[{\"type\":\"scattermapbox\",\"marker\":{\"colorbar\":{\"outlinewidth\":0,\"ticks\":\"\"}}}],\"scatterternary\":[{\"type\":\"scatterternary\",\"marker\":{\"colorbar\":{\"outlinewidth\":0,\"ticks\":\"\"}}}],\"scattercarpet\":[{\"type\":\"scattercarpet\",\"marker\":{\"colorbar\":{\"outlinewidth\":0,\"ticks\":\"\"}}}],\"carpet\":[{\"aaxis\":{\"endlinecolor\":\"#2a3f5f\",\"gridcolor\":\"white\",\"linecolor\":\"white\",\"minorgridcolor\":\"white\",\"startlinecolor\":\"#2a3f5f\"},\"baxis\":{\"endlinecolor\":\"#2a3f5f\",\"gridcolor\":\"white\",\"linecolor\":\"white\",\"minorgridcolor\":\"white\",\"startlinecolor\":\"#2a3f5f\"},\"type\":\"carpet\"}],\"table\":[{\"cells\":{\"fill\":{\"color\":\"#EBF0F8\"},\"line\":{\"color\":\"white\"}},\"header\":{\"fill\":{\"color\":\"#C8D4E3\"},\"line\":{\"color\":\"white\"}},\"type\":\"table\"}],\"barpolar\":[{\"marker\":{\"line\":{\"color\":\"#E5ECF6\",\"width\":0.5},\"pattern\":{\"fillmode\":\"overlay\",\"size\":10,\"solidity\":0.2}},\"type\":\"barpolar\"}],\"pie\":[{\"automargin\":true,\"type\":\"pie\"}]},\"layout\":{\"autotypenumbers\":\"strict\",\"colorway\":[\"#636efa\",\"#EF553B\",\"#00cc96\",\"#ab63fa\",\"#FFA15A\",\"#19d3f3\",\"#FF6692\",\"#B6E880\",\"#FF97FF\",\"#FECB52\"],\"font\":{\"color\":\"#2a3f5f\"},\"hovermode\":\"closest\",\"hoverlabel\":{\"align\":\"left\"},\"paper_bgcolor\":\"white\",\"plot_bgcolor\":\"#E5ECF6\",\"polar\":{\"bgcolor\":\"#E5ECF6\",\"angularaxis\":{\"gridcolor\":\"white\",\"linecolor\":\"white\",\"ticks\":\"\"},\"radialaxis\":{\"gridcolor\":\"white\",\"linecolor\":\"white\",\"ticks\":\"\"}},\"ternary\":{\"bgcolor\":\"#E5ECF6\",\"aaxis\":{\"gridcolor\":\"white\",\"linecolor\":\"white\",\"ticks\":\"\"},\"baxis\":{\"gridcolor\":\"white\",\"linecolor\":\"white\",\"ticks\":\"\"},\"caxis\":{\"gridcolor\":\"white\",\"linecolor\":\"white\",\"ticks\":\"\"}},\"coloraxis\":{\"colorbar\":{\"outlinewidth\":0,\"ticks\":\"\"}},\"colorscale\":{\"sequential\":[[0.0,\"#0d0887\"],[0.1111111111111111,\"#46039f\"],[0.2222222222222222,\"#7201a8\"],[0.3333333333333333,\"#9c179e\"],[0.4444444444444444,\"#bd3786\"],[0.5555555555555556,\"#d8576b\"],[0.6666666666666666,\"#ed7953\"],[0.7777777777777778,\"#fb9f3a\"],[0.8888888888888888,\"#fdca26\"],[1.0,\"#f0f921\"]],\"sequentialminus\":[[0.0,\"#0d0887\"],[0.1111111111111111,\"#46039f\"],[0.2222222222222222,\"#7201a8\"],[0.3333333333333333,\"#9c179e\"],[0.4444444444444444,\"#bd3786\"],[0.5555555555555556,\"#d8576b\"],[0.6666666666666666,\"#ed7953\"],[0.7777777777777778,\"#fb9f3a\"],[0.8888888888888888,\"#fdca26\"],[1.0,\"#f0f921\"]],\"diverging\":[[0,\"#8e0152\"],[0.1,\"#c51b7d\"],[0.2,\"#de77ae\"],[0.3,\"#f1b6da\"],[0.4,\"#fde0ef\"],[0.5,\"#f7f7f7\"],[0.6,\"#e6f5d0\"],[0.7,\"#b8e186\"],[0.8,\"#7fbc41\"],[0.9,\"#4d9221\"],[1,\"#276419\"]]},\"xaxis\":{\"gridcolor\":\"white\",\"linecolor\":\"white\",\"ticks\":\"\",\"title\":{\"standoff\":15},\"zerolinecolor\":\"white\",\"automargin\":true,\"zerolinewidth\":2},\"yaxis\":{\"gridcolor\":\"white\",\"linecolor\":\"white\",\"ticks\":\"\",\"title\":{\"standoff\":15},\"zerolinecolor\":\"white\",\"automargin\":true,\"zerolinewidth\":2},\"scene\":{\"xaxis\":{\"backgroundcolor\":\"#E5ECF6\",\"gridcolor\":\"white\",\"linecolor\":\"white\",\"showbackground\":true,\"ticks\":\"\",\"zerolinecolor\":\"white\",\"gridwidth\":2},\"yaxis\":{\"backgroundcolor\":\"#E5ECF6\",\"gridcolor\":\"white\",\"linecolor\":\"white\",\"showbackground\":true,\"ticks\":\"\",\"zerolinecolor\":\"white\",\"gridwidth\":2},\"zaxis\":{\"backgroundcolor\":\"#E5ECF6\",\"gridcolor\":\"white\",\"linecolor\":\"white\",\"showbackground\":true,\"ticks\":\"\",\"zerolinecolor\":\"white\",\"gridwidth\":2}},\"shapedefaults\":{\"line\":{\"color\":\"#2a3f5f\"}},\"annotationdefaults\":{\"arrowcolor\":\"#2a3f5f\",\"arrowhead\":0,\"arrowwidth\":1},\"geo\":{\"bgcolor\":\"white\",\"landcolor\":\"#E5ECF6\",\"subunitcolor\":\"white\",\"showland\":true,\"showlakes\":true,\"lakecolor\":\"white\"},\"title\":{\"x\":0.05},\"mapbox\":{\"style\":\"light\"}}},\"xaxis\":{\"anchor\":\"y\",\"domain\":[0.0,1.0],\"title\":{\"text\":\"Knot duration [s]\"}},\"yaxis\":{\"anchor\":\"x\",\"domain\":[0.0,1.0],\"title\":{\"text\":\"cumulative distribution [%]\"}},\"legend\":{\"tracegroupgap\":0},\"title\":{\"text\":\"Cumulative distribution of Knot duration [s]\"},\"shapes\":[{\"line\":{\"color\":\"green\",\"dash\":\"dash\",\"width\":3},\"type\":\"line\",\"x0\":35.27517884632612,\"x1\":35.27517884632612,\"xref\":\"x\",\"y0\":0,\"y1\":1,\"yref\":\"y domain\"}],\"annotations\":[{\"showarrow\":false,\"text\":\"my_value=50 [%]\",\"x\":35.27517884632612,\"xanchor\":\"left\",\"xref\":\"x\",\"y\":1,\"yanchor\":\"top\",\"yref\":\"y domain\"}]},                        {\"responsive\": true}                    ).then(function(){\n",
       "                            \n",
       "var gd = document.getElementById('f240555d-8446-4c80-b2e8-4183da4dd90a');\n",
       "var x = new MutationObserver(function (mutations, observer) {{\n",
       "        var display = window.getComputedStyle(gd).display;\n",
       "        if (!display || display === 'none') {{\n",
       "            console.log([gd, 'removed!']);\n",
       "            Plotly.purge(gd);\n",
       "            observer.disconnect();\n",
       "        }}\n",
       "}});\n",
       "\n",
       "// Listen for the removal of the full notebook cells\n",
       "var notebookContainer = gd.closest('#notebook-container');\n",
       "if (notebookContainer) {{\n",
       "    x.observe(notebookContainer, {childList: true});\n",
       "}}\n",
       "\n",
       "// Listen for the clearing of the current output cell\n",
       "var outputEl = gd.closest('.output');\n",
       "if (outputEl) {{\n",
       "    x.observe(outputEl, {childList: true});\n",
       "}}\n",
       "\n",
       "                        })                };                });            </script>        </div>"
      ]
     },
     "metadata": {},
     "output_type": "display_data"
    }
   ],
   "execution_count": 155
  },
  {
   "metadata": {},
   "cell_type": "code",
   "outputs": [],
   "execution_count": 79,
   "source": [
    "# drop zeros and NaNs in column col_name\n",
    "dfst_tmp = dfst.dropna(subset=[col_name])\n",
    "dfst_tmp = dfst_tmp[dfst_tmp[col_name] != 0]\n",
    "\n"
   ],
   "id": "a92cbf0f6d28fe40"
  },
  {
   "metadata": {},
   "cell_type": "code",
   "outputs": [
    {
     "data": {
      "text/plain": [
       "                                         filename  \\\n",
       "0                                   Ekn_Ana_3.mp4   \n",
       "1                                   Ekn_Ana_2.mp4   \n",
       "2                                   Ekn_Ana_4.mp4   \n",
       "3                                   Ekn_Ana_1.mp4   \n",
       "4                                   Ekn_Ana_5.mp4   \n",
       "..                                            ...   \n",
       "82  Bildschirmaufnahme_2022-10-11_um_11.20.24.mov   \n",
       "83                  Schiesser_David_post_test.mp4   \n",
       "84      Einzelknopfnaht_Schwein_Kerstin_Preuß.mp4   \n",
       "85                 Stresstest_Einzelknopfnaht.mp4   \n",
       "86  Bildschirmaufnahme_2022-10-11_um_11.20.24.mov   \n",
       "\n",
       "                     annotation_annotation_annotation  \\\n",
       "0   00:00:01 stitch_start\\n00:00:24 knot_start\\n00...   \n",
       "1   00:00:02 stitch_start\\n00:00:21 knot_start\\n00...   \n",
       "2   00:00:01 stitch_start\\n00:00:21 knot_start\\n00...   \n",
       "3   00:00:01 stitch_start\\n00:00:22 knot_end\\n00:0...   \n",
       "4   00:00:00 stitch_start\\n00:00:17 knot_start\\n00...   \n",
       "..                                                ...   \n",
       "82  00:00:17 stitch_start\\n00:01:41 knot_start\\n00...   \n",
       "83  00:00:04 stitch_start\\n00:00:47 knot_start\\n00...   \n",
       "84  00:00:06 stitch_start\\n00:00:32 knot_start \\n0...   \n",
       "85  Das Ergebnis finde ich sehr schön. Die Wundrän...   \n",
       "86  00:00:17 stitch_start\\n00:01:41 knot_start\\n00...   \n",
       "\n",
       "    annotation_annotation_time_and_movements  \\\n",
       "0                                        1.0   \n",
       "1                                        1.0   \n",
       "2                                        1.0   \n",
       "3                                        1.0   \n",
       "4                                        1.0   \n",
       "..                                       ...   \n",
       "82                                       1.0   \n",
       "83                                       1.0   \n",
       "84                                       1.0   \n",
       "85                                       1.0   \n",
       "86                                       1.0   \n",
       "\n",
       "                                           report_url  Stitch duration [s]  \\\n",
       "0   http://suran.kky.zcu.cz:8000//uploader/web_rep...                 53.0   \n",
       "1   http://suran.kky.zcu.cz:8000//uploader/web_rep...                 50.0   \n",
       "2   http://suran.kky.zcu.cz:8000//uploader/web_rep...                 51.0   \n",
       "3   http://suran.kky.zcu.cz:8000//uploader/web_rep...                 48.0   \n",
       "4   http://suran.kky.zcu.cz:8000//uploader/web_rep...                 43.0   \n",
       "..                                                ...                  ...   \n",
       "82  http://suran.kky.zcu.cz:8000//uploader/web_rep...                121.0   \n",
       "83  http://suran.kky.zcu.cz:8000//uploader/web_rep...                 58.0   \n",
       "84  http://suran.kky.zcu.cz:8000//uploader/web_rep...                 50.0   \n",
       "85  http://suran.kky.zcu.cz:8000//uploader/web_rep...                 54.0   \n",
       "86  http://suran.kky.zcu.cz:8000//uploader/web_rep...                101.0   \n",
       "\n",
       "    Stitch start at [s]  Needle holder stitch area presence [%]  \\\n",
       "0                   1.0                               44.822485   \n",
       "1                   2.0                               54.172989   \n",
       "2                   1.0                               61.417323   \n",
       "3                   1.0                               44.511278   \n",
       "4                   0.0                               36.909091   \n",
       "..                  ...                                     ...   \n",
       "82                552.0                               82.840237   \n",
       "83                195.0                               78.386167   \n",
       "84                240.0                               83.281250   \n",
       "85                348.0                               89.949749   \n",
       "86                698.0                               72.877536   \n",
       "\n",
       "    Needle holder stitch median area presence [%]  \\\n",
       "0                                       89.053254   \n",
       "1                                       94.992413   \n",
       "2                                       94.015748   \n",
       "3                                       68.270677   \n",
       "4                                       84.000000   \n",
       "..                                            ...   \n",
       "82                                      92.504931   \n",
       "83                                      93.227666   \n",
       "84                                      93.125000   \n",
       "85                                      99.874372   \n",
       "86                                      91.885800   \n",
       "\n",
       "    Needle holder stitch length [m]  Needle holder stitch visibility [s]  ...  \\\n",
       "0                          2.146999                            45.066667  ...   \n",
       "1                          1.920482                            43.933333  ...   \n",
       "2                          1.920755                            42.333333  ...   \n",
       "3                          3.370340                            44.333333  ...   \n",
       "4                          2.854883                            36.666667  ...   \n",
       "..                              ...                                  ...  ...   \n",
       "82                         3.348492                           101.400000  ...   \n",
       "83                         2.580827                            46.266667  ...   \n",
       "84                         2.302644                            42.666667  ...   \n",
       "85                         1.301011                            53.066667  ...   \n",
       "86                         2.801612                            88.733333  ...   \n",
       "\n",
       "    done_by_expert                                      file_stitch  Carina  \\\n",
       "0                1                                  Ekn_Ana_3.mp4_0     4.2   \n",
       "1                1                                  Ekn_Ana_2.mp4_0     4.6   \n",
       "2                1                                  Ekn_Ana_4.mp4_0     3.2   \n",
       "3                1                                  Ekn_Ana_1.mp4_0     4.4   \n",
       "4                1                                  Ekn_Ana_5.mp4_0     3.2   \n",
       "..             ...                                              ...     ...   \n",
       "82               0  Bildschirmaufnahme_2022-10-11_um_11.20.24.mov_3     2.6   \n",
       "83               0                  Schiesser_David_post_test.mp4_3     3.8   \n",
       "84               0      Einzelknopfnaht_Schwein_Kerstin_Preuß.mp4_4     3.8   \n",
       "85               0                 Stresstest_Einzelknopfnaht.mp4_4     3.6   \n",
       "86               0  Bildschirmaufnahme_2022-10-11_um_11.20.24.mov_4     3.2   \n",
       "\n",
       "         Ana Mira  mean_movement_annotation  is_train  \\\n",
       "0   4.333333  5.0                  4.511111       0.0   \n",
       "1   4.666667  5.0                  4.755556       1.0   \n",
       "2   3.666667  4.5                  3.788889       1.0   \n",
       "3   4.333333  5.0                  4.577778       1.0   \n",
       "4   3.666667  5.0                  3.955556       0.0   \n",
       "..       ...  ...                       ...       ...   \n",
       "82  3.000000  4.0                  3.200000       1.0   \n",
       "83  4.250000  3.0                  3.683333       NaN   \n",
       "84  3.500000  4.0                  3.766667       NaN   \n",
       "85  3.750000  5.0                  4.116667       NaN   \n",
       "86  4.000000  4.0                  3.733333       NaN   \n",
       "\n",
       "    LinearRegression mean_movement_annotation  \\\n",
       "0                                    4.069516   \n",
       "1                                    4.145910   \n",
       "2                                    4.080613   \n",
       "3                                    4.220112   \n",
       "4                                    4.231069   \n",
       "..                                        ...   \n",
       "82                                   2.955111   \n",
       "83                                   3.928319   \n",
       "84                                   4.120399   \n",
       "85                                   4.197564   \n",
       "86                                   3.361463   \n",
       "\n",
       "    MLPRegressor mean_movement_annotation  SVR mean_movement_annotation  \n",
       "0                                4.008933                      4.105752  \n",
       "1                                4.019103                      4.224466  \n",
       "2                                3.974225                      4.131889  \n",
       "3                                4.156992                      4.254250  \n",
       "4                                4.146621                      4.305917  \n",
       "..                                    ...                           ...  \n",
       "82                               3.033193                      2.965313  \n",
       "83                               3.947800                      4.028566  \n",
       "84                               3.966669                      4.090838  \n",
       "85                               4.060015                      4.140068  \n",
       "86                               3.475077                      3.305910  \n",
       "\n",
       "[87 rows x 121 columns]"
      ],
      "text/html": [
       "<div>\n",
       "<style scoped>\n",
       "    .dataframe tbody tr th:only-of-type {\n",
       "        vertical-align: middle;\n",
       "    }\n",
       "\n",
       "    .dataframe tbody tr th {\n",
       "        vertical-align: top;\n",
       "    }\n",
       "\n",
       "    .dataframe thead th {\n",
       "        text-align: right;\n",
       "    }\n",
       "</style>\n",
       "<table border=\"1\" class=\"dataframe\">\n",
       "  <thead>\n",
       "    <tr style=\"text-align: right;\">\n",
       "      <th></th>\n",
       "      <th>filename</th>\n",
       "      <th>annotation_annotation_annotation</th>\n",
       "      <th>annotation_annotation_time_and_movements</th>\n",
       "      <th>report_url</th>\n",
       "      <th>Stitch duration [s]</th>\n",
       "      <th>Stitch start at [s]</th>\n",
       "      <th>Needle holder stitch area presence [%]</th>\n",
       "      <th>Needle holder stitch median area presence [%]</th>\n",
       "      <th>Needle holder stitch length [m]</th>\n",
       "      <th>Needle holder stitch visibility [s]</th>\n",
       "      <th>...</th>\n",
       "      <th>done_by_expert</th>\n",
       "      <th>file_stitch</th>\n",
       "      <th>Carina</th>\n",
       "      <th>Ana</th>\n",
       "      <th>Mira</th>\n",
       "      <th>mean_movement_annotation</th>\n",
       "      <th>is_train</th>\n",
       "      <th>LinearRegression mean_movement_annotation</th>\n",
       "      <th>MLPRegressor mean_movement_annotation</th>\n",
       "      <th>SVR mean_movement_annotation</th>\n",
       "    </tr>\n",
       "  </thead>\n",
       "  <tbody>\n",
       "    <tr>\n",
       "      <th>0</th>\n",
       "      <td>Ekn_Ana_3.mp4</td>\n",
       "      <td>00:00:01 stitch_start\\n00:00:24 knot_start\\n00...</td>\n",
       "      <td>1.0</td>\n",
       "      <td>http://suran.kky.zcu.cz:8000//uploader/web_rep...</td>\n",
       "      <td>53.0</td>\n",
       "      <td>1.0</td>\n",
       "      <td>44.822485</td>\n",
       "      <td>89.053254</td>\n",
       "      <td>2.146999</td>\n",
       "      <td>45.066667</td>\n",
       "      <td>...</td>\n",
       "      <td>1</td>\n",
       "      <td>Ekn_Ana_3.mp4_0</td>\n",
       "      <td>4.2</td>\n",
       "      <td>4.333333</td>\n",
       "      <td>5.0</td>\n",
       "      <td>4.511111</td>\n",
       "      <td>0.0</td>\n",
       "      <td>4.069516</td>\n",
       "      <td>4.008933</td>\n",
       "      <td>4.105752</td>\n",
       "    </tr>\n",
       "    <tr>\n",
       "      <th>1</th>\n",
       "      <td>Ekn_Ana_2.mp4</td>\n",
       "      <td>00:00:02 stitch_start\\n00:00:21 knot_start\\n00...</td>\n",
       "      <td>1.0</td>\n",
       "      <td>http://suran.kky.zcu.cz:8000//uploader/web_rep...</td>\n",
       "      <td>50.0</td>\n",
       "      <td>2.0</td>\n",
       "      <td>54.172989</td>\n",
       "      <td>94.992413</td>\n",
       "      <td>1.920482</td>\n",
       "      <td>43.933333</td>\n",
       "      <td>...</td>\n",
       "      <td>1</td>\n",
       "      <td>Ekn_Ana_2.mp4_0</td>\n",
       "      <td>4.6</td>\n",
       "      <td>4.666667</td>\n",
       "      <td>5.0</td>\n",
       "      <td>4.755556</td>\n",
       "      <td>1.0</td>\n",
       "      <td>4.145910</td>\n",
       "      <td>4.019103</td>\n",
       "      <td>4.224466</td>\n",
       "    </tr>\n",
       "    <tr>\n",
       "      <th>2</th>\n",
       "      <td>Ekn_Ana_4.mp4</td>\n",
       "      <td>00:00:01 stitch_start\\n00:00:21 knot_start\\n00...</td>\n",
       "      <td>1.0</td>\n",
       "      <td>http://suran.kky.zcu.cz:8000//uploader/web_rep...</td>\n",
       "      <td>51.0</td>\n",
       "      <td>1.0</td>\n",
       "      <td>61.417323</td>\n",
       "      <td>94.015748</td>\n",
       "      <td>1.920755</td>\n",
       "      <td>42.333333</td>\n",
       "      <td>...</td>\n",
       "      <td>1</td>\n",
       "      <td>Ekn_Ana_4.mp4_0</td>\n",
       "      <td>3.2</td>\n",
       "      <td>3.666667</td>\n",
       "      <td>4.5</td>\n",
       "      <td>3.788889</td>\n",
       "      <td>1.0</td>\n",
       "      <td>4.080613</td>\n",
       "      <td>3.974225</td>\n",
       "      <td>4.131889</td>\n",
       "    </tr>\n",
       "    <tr>\n",
       "      <th>3</th>\n",
       "      <td>Ekn_Ana_1.mp4</td>\n",
       "      <td>00:00:01 stitch_start\\n00:00:22 knot_end\\n00:0...</td>\n",
       "      <td>1.0</td>\n",
       "      <td>http://suran.kky.zcu.cz:8000//uploader/web_rep...</td>\n",
       "      <td>48.0</td>\n",
       "      <td>1.0</td>\n",
       "      <td>44.511278</td>\n",
       "      <td>68.270677</td>\n",
       "      <td>3.370340</td>\n",
       "      <td>44.333333</td>\n",
       "      <td>...</td>\n",
       "      <td>1</td>\n",
       "      <td>Ekn_Ana_1.mp4_0</td>\n",
       "      <td>4.4</td>\n",
       "      <td>4.333333</td>\n",
       "      <td>5.0</td>\n",
       "      <td>4.577778</td>\n",
       "      <td>1.0</td>\n",
       "      <td>4.220112</td>\n",
       "      <td>4.156992</td>\n",
       "      <td>4.254250</td>\n",
       "    </tr>\n",
       "    <tr>\n",
       "      <th>4</th>\n",
       "      <td>Ekn_Ana_5.mp4</td>\n",
       "      <td>00:00:00 stitch_start\\n00:00:17 knot_start\\n00...</td>\n",
       "      <td>1.0</td>\n",
       "      <td>http://suran.kky.zcu.cz:8000//uploader/web_rep...</td>\n",
       "      <td>43.0</td>\n",
       "      <td>0.0</td>\n",
       "      <td>36.909091</td>\n",
       "      <td>84.000000</td>\n",
       "      <td>2.854883</td>\n",
       "      <td>36.666667</td>\n",
       "      <td>...</td>\n",
       "      <td>1</td>\n",
       "      <td>Ekn_Ana_5.mp4_0</td>\n",
       "      <td>3.2</td>\n",
       "      <td>3.666667</td>\n",
       "      <td>5.0</td>\n",
       "      <td>3.955556</td>\n",
       "      <td>0.0</td>\n",
       "      <td>4.231069</td>\n",
       "      <td>4.146621</td>\n",
       "      <td>4.305917</td>\n",
       "    </tr>\n",
       "    <tr>\n",
       "      <th>...</th>\n",
       "      <td>...</td>\n",
       "      <td>...</td>\n",
       "      <td>...</td>\n",
       "      <td>...</td>\n",
       "      <td>...</td>\n",
       "      <td>...</td>\n",
       "      <td>...</td>\n",
       "      <td>...</td>\n",
       "      <td>...</td>\n",
       "      <td>...</td>\n",
       "      <td>...</td>\n",
       "      <td>...</td>\n",
       "      <td>...</td>\n",
       "      <td>...</td>\n",
       "      <td>...</td>\n",
       "      <td>...</td>\n",
       "      <td>...</td>\n",
       "      <td>...</td>\n",
       "      <td>...</td>\n",
       "      <td>...</td>\n",
       "      <td>...</td>\n",
       "    </tr>\n",
       "    <tr>\n",
       "      <th>82</th>\n",
       "      <td>Bildschirmaufnahme_2022-10-11_um_11.20.24.mov</td>\n",
       "      <td>00:00:17 stitch_start\\n00:01:41 knot_start\\n00...</td>\n",
       "      <td>1.0</td>\n",
       "      <td>http://suran.kky.zcu.cz:8000//uploader/web_rep...</td>\n",
       "      <td>121.0</td>\n",
       "      <td>552.0</td>\n",
       "      <td>82.840237</td>\n",
       "      <td>92.504931</td>\n",
       "      <td>3.348492</td>\n",
       "      <td>101.400000</td>\n",
       "      <td>...</td>\n",
       "      <td>0</td>\n",
       "      <td>Bildschirmaufnahme_2022-10-11_um_11.20.24.mov_3</td>\n",
       "      <td>2.6</td>\n",
       "      <td>3.000000</td>\n",
       "      <td>4.0</td>\n",
       "      <td>3.200000</td>\n",
       "      <td>1.0</td>\n",
       "      <td>2.955111</td>\n",
       "      <td>3.033193</td>\n",
       "      <td>2.965313</td>\n",
       "    </tr>\n",
       "    <tr>\n",
       "      <th>83</th>\n",
       "      <td>Schiesser_David_post_test.mp4</td>\n",
       "      <td>00:00:04 stitch_start\\n00:00:47 knot_start\\n00...</td>\n",
       "      <td>1.0</td>\n",
       "      <td>http://suran.kky.zcu.cz:8000//uploader/web_rep...</td>\n",
       "      <td>58.0</td>\n",
       "      <td>195.0</td>\n",
       "      <td>78.386167</td>\n",
       "      <td>93.227666</td>\n",
       "      <td>2.580827</td>\n",
       "      <td>46.266667</td>\n",
       "      <td>...</td>\n",
       "      <td>0</td>\n",
       "      <td>Schiesser_David_post_test.mp4_3</td>\n",
       "      <td>3.8</td>\n",
       "      <td>4.250000</td>\n",
       "      <td>3.0</td>\n",
       "      <td>3.683333</td>\n",
       "      <td>NaN</td>\n",
       "      <td>3.928319</td>\n",
       "      <td>3.947800</td>\n",
       "      <td>4.028566</td>\n",
       "    </tr>\n",
       "    <tr>\n",
       "      <th>84</th>\n",
       "      <td>Einzelknopfnaht_Schwein_Kerstin_Preuß.mp4</td>\n",
       "      <td>00:00:06 stitch_start\\n00:00:32 knot_start \\n0...</td>\n",
       "      <td>1.0</td>\n",
       "      <td>http://suran.kky.zcu.cz:8000//uploader/web_rep...</td>\n",
       "      <td>50.0</td>\n",
       "      <td>240.0</td>\n",
       "      <td>83.281250</td>\n",
       "      <td>93.125000</td>\n",
       "      <td>2.302644</td>\n",
       "      <td>42.666667</td>\n",
       "      <td>...</td>\n",
       "      <td>0</td>\n",
       "      <td>Einzelknopfnaht_Schwein_Kerstin_Preuß.mp4_4</td>\n",
       "      <td>3.8</td>\n",
       "      <td>3.500000</td>\n",
       "      <td>4.0</td>\n",
       "      <td>3.766667</td>\n",
       "      <td>NaN</td>\n",
       "      <td>4.120399</td>\n",
       "      <td>3.966669</td>\n",
       "      <td>4.090838</td>\n",
       "    </tr>\n",
       "    <tr>\n",
       "      <th>85</th>\n",
       "      <td>Stresstest_Einzelknopfnaht.mp4</td>\n",
       "      <td>Das Ergebnis finde ich sehr schön. Die Wundrän...</td>\n",
       "      <td>1.0</td>\n",
       "      <td>http://suran.kky.zcu.cz:8000//uploader/web_rep...</td>\n",
       "      <td>54.0</td>\n",
       "      <td>348.0</td>\n",
       "      <td>89.949749</td>\n",
       "      <td>99.874372</td>\n",
       "      <td>1.301011</td>\n",
       "      <td>53.066667</td>\n",
       "      <td>...</td>\n",
       "      <td>0</td>\n",
       "      <td>Stresstest_Einzelknopfnaht.mp4_4</td>\n",
       "      <td>3.6</td>\n",
       "      <td>3.750000</td>\n",
       "      <td>5.0</td>\n",
       "      <td>4.116667</td>\n",
       "      <td>NaN</td>\n",
       "      <td>4.197564</td>\n",
       "      <td>4.060015</td>\n",
       "      <td>4.140068</td>\n",
       "    </tr>\n",
       "    <tr>\n",
       "      <th>86</th>\n",
       "      <td>Bildschirmaufnahme_2022-10-11_um_11.20.24.mov</td>\n",
       "      <td>00:00:17 stitch_start\\n00:01:41 knot_start\\n00...</td>\n",
       "      <td>1.0</td>\n",
       "      <td>http://suran.kky.zcu.cz:8000//uploader/web_rep...</td>\n",
       "      <td>101.0</td>\n",
       "      <td>698.0</td>\n",
       "      <td>72.877536</td>\n",
       "      <td>91.885800</td>\n",
       "      <td>2.801612</td>\n",
       "      <td>88.733333</td>\n",
       "      <td>...</td>\n",
       "      <td>0</td>\n",
       "      <td>Bildschirmaufnahme_2022-10-11_um_11.20.24.mov_4</td>\n",
       "      <td>3.2</td>\n",
       "      <td>4.000000</td>\n",
       "      <td>4.0</td>\n",
       "      <td>3.733333</td>\n",
       "      <td>NaN</td>\n",
       "      <td>3.361463</td>\n",
       "      <td>3.475077</td>\n",
       "      <td>3.305910</td>\n",
       "    </tr>\n",
       "  </tbody>\n",
       "</table>\n",
       "<p>87 rows × 121 columns</p>\n",
       "</div>"
      ]
     },
     "execution_count": 80,
     "metadata": {},
     "output_type": "execute_result"
    }
   ],
   "execution_count": 80,
   "source": "dfst",
   "id": "fcd801e7c262e960"
  },
  {
   "metadata": {},
   "cell_type": "code",
   "outputs": [
    {
     "data": {
      "application/vnd.plotly.v1+json": {
       "data": [
        {
         "alignmentgroup": "True",
         "bingroup": "x",
         "histnorm": "probability density",
         "hovertemplate": "level=expert<br>Stitch duration [s]=%{x}<br>probability density=%{y}<extra></extra>",
         "legendgroup": "expert",
         "marker": {
          "color": "#636efa",
          "opacity": 0.5,
          "pattern": {
           "shape": ""
          }
         },
         "name": "expert",
         "offsetgroup": "expert",
         "orientation": "v",
         "showlegend": true,
         "x": [
          53.0,
          50.0,
          48.0,
          43.0,
          39.0,
          48.0,
          45.0,
          47.0,
          52.53333333,
          40.93333333,
          51.2,
          40.93333333,
          51.0,
          46.93333333,
          51.2,
          47.0,
          44.33333333,
          43.6,
          43.2,
          39.66666667,
          49.33333333,
          29.0,
          49.8,
          50.66666667,
          55.0,
          58.0,
          48.0,
          77.0,
          64.0,
          61.0,
          53.0,
          45.0,
          60.0,
          46.0,
          47.0,
          62.0,
          54.0
         ],
         "xaxis": "x",
         "yaxis": "y",
         "type": "histogram",
         "opacity": 0.75,
         "nbinsx": 100
        },
        {
         "alignmentgroup": "True",
         "bingroup": "x",
         "histnorm": "probability density",
         "hovertemplate": "level=student<br>Stitch duration [s]=%{x}<br>probability density=%{y}<extra></extra>",
         "legendgroup": "student",
         "marker": {
          "color": "#EF553B",
          "opacity": 0.5,
          "pattern": {
           "shape": ""
          }
         },
         "name": "student",
         "offsetgroup": "student",
         "orientation": "v",
         "showlegend": true,
         "x": [
          51.0,
          49.46666667,
          55.53333333,
          45.93333333,
          100.0,
          112.0,
          125.0,
          92.0,
          54.0,
          235.0,
          131.0,
          94.0,
          87.0,
          74.0,
          128.0,
          114.0,
          106.0,
          112.0,
          152.0,
          126.0,
          48.0,
          105.0,
          120.0,
          53.0,
          70.0,
          72.0,
          179.0,
          75.0,
          82.0,
          56.0,
          68.0,
          169.0,
          149.0,
          53.0,
          133.0,
          89.0,
          89.0,
          125.0,
          165.0,
          110.0,
          46.0,
          132.0,
          124.0,
          58.0,
          129.0,
          94.0,
          121.0,
          58.0,
          50.0,
          101.0
         ],
         "xaxis": "x",
         "yaxis": "y",
         "type": "histogram",
         "opacity": 0.75,
         "nbinsx": 100
        }
       ],
       "layout": {
        "template": {
         "data": {
          "histogram2dcontour": [
           {
            "type": "histogram2dcontour",
            "colorbar": {
             "outlinewidth": 0,
             "ticks": ""
            },
            "colorscale": [
             [
              0.0,
              "#0d0887"
             ],
             [
              0.1111111111111111,
              "#46039f"
             ],
             [
              0.2222222222222222,
              "#7201a8"
             ],
             [
              0.3333333333333333,
              "#9c179e"
             ],
             [
              0.4444444444444444,
              "#bd3786"
             ],
             [
              0.5555555555555556,
              "#d8576b"
             ],
             [
              0.6666666666666666,
              "#ed7953"
             ],
             [
              0.7777777777777778,
              "#fb9f3a"
             ],
             [
              0.8888888888888888,
              "#fdca26"
             ],
             [
              1.0,
              "#f0f921"
             ]
            ]
           }
          ],
          "choropleth": [
           {
            "type": "choropleth",
            "colorbar": {
             "outlinewidth": 0,
             "ticks": ""
            }
           }
          ],
          "histogram2d": [
           {
            "type": "histogram2d",
            "colorbar": {
             "outlinewidth": 0,
             "ticks": ""
            },
            "colorscale": [
             [
              0.0,
              "#0d0887"
             ],
             [
              0.1111111111111111,
              "#46039f"
             ],
             [
              0.2222222222222222,
              "#7201a8"
             ],
             [
              0.3333333333333333,
              "#9c179e"
             ],
             [
              0.4444444444444444,
              "#bd3786"
             ],
             [
              0.5555555555555556,
              "#d8576b"
             ],
             [
              0.6666666666666666,
              "#ed7953"
             ],
             [
              0.7777777777777778,
              "#fb9f3a"
             ],
             [
              0.8888888888888888,
              "#fdca26"
             ],
             [
              1.0,
              "#f0f921"
             ]
            ]
           }
          ],
          "heatmap": [
           {
            "type": "heatmap",
            "colorbar": {
             "outlinewidth": 0,
             "ticks": ""
            },
            "colorscale": [
             [
              0.0,
              "#0d0887"
             ],
             [
              0.1111111111111111,
              "#46039f"
             ],
             [
              0.2222222222222222,
              "#7201a8"
             ],
             [
              0.3333333333333333,
              "#9c179e"
             ],
             [
              0.4444444444444444,
              "#bd3786"
             ],
             [
              0.5555555555555556,
              "#d8576b"
             ],
             [
              0.6666666666666666,
              "#ed7953"
             ],
             [
              0.7777777777777778,
              "#fb9f3a"
             ],
             [
              0.8888888888888888,
              "#fdca26"
             ],
             [
              1.0,
              "#f0f921"
             ]
            ]
           }
          ],
          "heatmapgl": [
           {
            "type": "heatmapgl",
            "colorbar": {
             "outlinewidth": 0,
             "ticks": ""
            },
            "colorscale": [
             [
              0.0,
              "#0d0887"
             ],
             [
              0.1111111111111111,
              "#46039f"
             ],
             [
              0.2222222222222222,
              "#7201a8"
             ],
             [
              0.3333333333333333,
              "#9c179e"
             ],
             [
              0.4444444444444444,
              "#bd3786"
             ],
             [
              0.5555555555555556,
              "#d8576b"
             ],
             [
              0.6666666666666666,
              "#ed7953"
             ],
             [
              0.7777777777777778,
              "#fb9f3a"
             ],
             [
              0.8888888888888888,
              "#fdca26"
             ],
             [
              1.0,
              "#f0f921"
             ]
            ]
           }
          ],
          "contourcarpet": [
           {
            "type": "contourcarpet",
            "colorbar": {
             "outlinewidth": 0,
             "ticks": ""
            }
           }
          ],
          "contour": [
           {
            "type": "contour",
            "colorbar": {
             "outlinewidth": 0,
             "ticks": ""
            },
            "colorscale": [
             [
              0.0,
              "#0d0887"
             ],
             [
              0.1111111111111111,
              "#46039f"
             ],
             [
              0.2222222222222222,
              "#7201a8"
             ],
             [
              0.3333333333333333,
              "#9c179e"
             ],
             [
              0.4444444444444444,
              "#bd3786"
             ],
             [
              0.5555555555555556,
              "#d8576b"
             ],
             [
              0.6666666666666666,
              "#ed7953"
             ],
             [
              0.7777777777777778,
              "#fb9f3a"
             ],
             [
              0.8888888888888888,
              "#fdca26"
             ],
             [
              1.0,
              "#f0f921"
             ]
            ]
           }
          ],
          "surface": [
           {
            "type": "surface",
            "colorbar": {
             "outlinewidth": 0,
             "ticks": ""
            },
            "colorscale": [
             [
              0.0,
              "#0d0887"
             ],
             [
              0.1111111111111111,
              "#46039f"
             ],
             [
              0.2222222222222222,
              "#7201a8"
             ],
             [
              0.3333333333333333,
              "#9c179e"
             ],
             [
              0.4444444444444444,
              "#bd3786"
             ],
             [
              0.5555555555555556,
              "#d8576b"
             ],
             [
              0.6666666666666666,
              "#ed7953"
             ],
             [
              0.7777777777777778,
              "#fb9f3a"
             ],
             [
              0.8888888888888888,
              "#fdca26"
             ],
             [
              1.0,
              "#f0f921"
             ]
            ]
           }
          ],
          "mesh3d": [
           {
            "type": "mesh3d",
            "colorbar": {
             "outlinewidth": 0,
             "ticks": ""
            }
           }
          ],
          "scatter": [
           {
            "fillpattern": {
             "fillmode": "overlay",
             "size": 10,
             "solidity": 0.2
            },
            "type": "scatter"
           }
          ],
          "parcoords": [
           {
            "type": "parcoords",
            "line": {
             "colorbar": {
              "outlinewidth": 0,
              "ticks": ""
             }
            }
           }
          ],
          "scatterpolargl": [
           {
            "type": "scatterpolargl",
            "marker": {
             "colorbar": {
              "outlinewidth": 0,
              "ticks": ""
             }
            }
           }
          ],
          "bar": [
           {
            "error_x": {
             "color": "#2a3f5f"
            },
            "error_y": {
             "color": "#2a3f5f"
            },
            "marker": {
             "line": {
              "color": "#E5ECF6",
              "width": 0.5
             },
             "pattern": {
              "fillmode": "overlay",
              "size": 10,
              "solidity": 0.2
             }
            },
            "type": "bar"
           }
          ],
          "scattergeo": [
           {
            "type": "scattergeo",
            "marker": {
             "colorbar": {
              "outlinewidth": 0,
              "ticks": ""
             }
            }
           }
          ],
          "scatterpolar": [
           {
            "type": "scatterpolar",
            "marker": {
             "colorbar": {
              "outlinewidth": 0,
              "ticks": ""
             }
            }
           }
          ],
          "histogram": [
           {
            "marker": {
             "pattern": {
              "fillmode": "overlay",
              "size": 10,
              "solidity": 0.2
             }
            },
            "type": "histogram"
           }
          ],
          "scattergl": [
           {
            "type": "scattergl",
            "marker": {
             "colorbar": {
              "outlinewidth": 0,
              "ticks": ""
             }
            }
           }
          ],
          "scatter3d": [
           {
            "type": "scatter3d",
            "line": {
             "colorbar": {
              "outlinewidth": 0,
              "ticks": ""
             }
            },
            "marker": {
             "colorbar": {
              "outlinewidth": 0,
              "ticks": ""
             }
            }
           }
          ],
          "scattermapbox": [
           {
            "type": "scattermapbox",
            "marker": {
             "colorbar": {
              "outlinewidth": 0,
              "ticks": ""
             }
            }
           }
          ],
          "scatterternary": [
           {
            "type": "scatterternary",
            "marker": {
             "colorbar": {
              "outlinewidth": 0,
              "ticks": ""
             }
            }
           }
          ],
          "scattercarpet": [
           {
            "type": "scattercarpet",
            "marker": {
             "colorbar": {
              "outlinewidth": 0,
              "ticks": ""
             }
            }
           }
          ],
          "carpet": [
           {
            "aaxis": {
             "endlinecolor": "#2a3f5f",
             "gridcolor": "white",
             "linecolor": "white",
             "minorgridcolor": "white",
             "startlinecolor": "#2a3f5f"
            },
            "baxis": {
             "endlinecolor": "#2a3f5f",
             "gridcolor": "white",
             "linecolor": "white",
             "minorgridcolor": "white",
             "startlinecolor": "#2a3f5f"
            },
            "type": "carpet"
           }
          ],
          "table": [
           {
            "cells": {
             "fill": {
              "color": "#EBF0F8"
             },
             "line": {
              "color": "white"
             }
            },
            "header": {
             "fill": {
              "color": "#C8D4E3"
             },
             "line": {
              "color": "white"
             }
            },
            "type": "table"
           }
          ],
          "barpolar": [
           {
            "marker": {
             "line": {
              "color": "#E5ECF6",
              "width": 0.5
             },
             "pattern": {
              "fillmode": "overlay",
              "size": 10,
              "solidity": 0.2
             }
            },
            "type": "barpolar"
           }
          ],
          "pie": [
           {
            "automargin": true,
            "type": "pie"
           }
          ]
         },
         "layout": {
          "autotypenumbers": "strict",
          "colorway": [
           "#636efa",
           "#EF553B",
           "#00cc96",
           "#ab63fa",
           "#FFA15A",
           "#19d3f3",
           "#FF6692",
           "#B6E880",
           "#FF97FF",
           "#FECB52"
          ],
          "font": {
           "color": "#2a3f5f"
          },
          "hovermode": "closest",
          "hoverlabel": {
           "align": "left"
          },
          "paper_bgcolor": "white",
          "plot_bgcolor": "#E5ECF6",
          "polar": {
           "bgcolor": "#E5ECF6",
           "angularaxis": {
            "gridcolor": "white",
            "linecolor": "white",
            "ticks": ""
           },
           "radialaxis": {
            "gridcolor": "white",
            "linecolor": "white",
            "ticks": ""
           }
          },
          "ternary": {
           "bgcolor": "#E5ECF6",
           "aaxis": {
            "gridcolor": "white",
            "linecolor": "white",
            "ticks": ""
           },
           "baxis": {
            "gridcolor": "white",
            "linecolor": "white",
            "ticks": ""
           },
           "caxis": {
            "gridcolor": "white",
            "linecolor": "white",
            "ticks": ""
           }
          },
          "coloraxis": {
           "colorbar": {
            "outlinewidth": 0,
            "ticks": ""
           }
          },
          "colorscale": {
           "sequential": [
            [
             0.0,
             "#0d0887"
            ],
            [
             0.1111111111111111,
             "#46039f"
            ],
            [
             0.2222222222222222,
             "#7201a8"
            ],
            [
             0.3333333333333333,
             "#9c179e"
            ],
            [
             0.4444444444444444,
             "#bd3786"
            ],
            [
             0.5555555555555556,
             "#d8576b"
            ],
            [
             0.6666666666666666,
             "#ed7953"
            ],
            [
             0.7777777777777778,
             "#fb9f3a"
            ],
            [
             0.8888888888888888,
             "#fdca26"
            ],
            [
             1.0,
             "#f0f921"
            ]
           ],
           "sequentialminus": [
            [
             0.0,
             "#0d0887"
            ],
            [
             0.1111111111111111,
             "#46039f"
            ],
            [
             0.2222222222222222,
             "#7201a8"
            ],
            [
             0.3333333333333333,
             "#9c179e"
            ],
            [
             0.4444444444444444,
             "#bd3786"
            ],
            [
             0.5555555555555556,
             "#d8576b"
            ],
            [
             0.6666666666666666,
             "#ed7953"
            ],
            [
             0.7777777777777778,
             "#fb9f3a"
            ],
            [
             0.8888888888888888,
             "#fdca26"
            ],
            [
             1.0,
             "#f0f921"
            ]
           ],
           "diverging": [
            [
             0,
             "#8e0152"
            ],
            [
             0.1,
             "#c51b7d"
            ],
            [
             0.2,
             "#de77ae"
            ],
            [
             0.3,
             "#f1b6da"
            ],
            [
             0.4,
             "#fde0ef"
            ],
            [
             0.5,
             "#f7f7f7"
            ],
            [
             0.6,
             "#e6f5d0"
            ],
            [
             0.7,
             "#b8e186"
            ],
            [
             0.8,
             "#7fbc41"
            ],
            [
             0.9,
             "#4d9221"
            ],
            [
             1,
             "#276419"
            ]
           ]
          },
          "xaxis": {
           "gridcolor": "white",
           "linecolor": "white",
           "ticks": "",
           "title": {
            "standoff": 15
           },
           "zerolinecolor": "white",
           "automargin": true,
           "zerolinewidth": 2
          },
          "yaxis": {
           "gridcolor": "white",
           "linecolor": "white",
           "ticks": "",
           "title": {
            "standoff": 15
           },
           "zerolinecolor": "white",
           "automargin": true,
           "zerolinewidth": 2
          },
          "scene": {
           "xaxis": {
            "backgroundcolor": "#E5ECF6",
            "gridcolor": "white",
            "linecolor": "white",
            "showbackground": true,
            "ticks": "",
            "zerolinecolor": "white",
            "gridwidth": 2
           },
           "yaxis": {
            "backgroundcolor": "#E5ECF6",
            "gridcolor": "white",
            "linecolor": "white",
            "showbackground": true,
            "ticks": "",
            "zerolinecolor": "white",
            "gridwidth": 2
           },
           "zaxis": {
            "backgroundcolor": "#E5ECF6",
            "gridcolor": "white",
            "linecolor": "white",
            "showbackground": true,
            "ticks": "",
            "zerolinecolor": "white",
            "gridwidth": 2
           }
          },
          "shapedefaults": {
           "line": {
            "color": "#2a3f5f"
           }
          },
          "annotationdefaults": {
           "arrowcolor": "#2a3f5f",
           "arrowhead": 0,
           "arrowwidth": 1
          },
          "geo": {
           "bgcolor": "white",
           "landcolor": "#E5ECF6",
           "subunitcolor": "white",
           "showland": true,
           "showlakes": true,
           "lakecolor": "white"
          },
          "title": {
           "x": 0.05
          },
          "mapbox": {
           "style": "light"
          }
         }
        },
        "xaxis": {
         "anchor": "y",
         "domain": [
          0.0,
          1.0
         ],
         "title": {
          "text": "Stitch duration [s]"
         }
        },
        "yaxis": {
         "anchor": "x",
         "domain": [
          0.0,
          1.0
         ],
         "title": {
          "text": "probability density"
         }
        },
        "legend": {
         "title": {
          "text": "level"
         },
         "tracegroupgap": 0
        },
        "title": {
         "text": "Stitch duration [s]"
        },
        "barmode": "relative",
        "shapes": [
         {
          "line": {
           "color": "green",
           "dash": "dash",
           "width": 3
          },
          "type": "line",
          "x0": 78.1754789270115,
          "x1": 78.1754789270115,
          "xref": "x",
          "y0": 0,
          "y1": 1,
          "yref": "y domain"
         }
        ]
       },
       "config": {
        "plotlyServerURL": "https://plot.ly"
       }
      },
      "text/html": [
       "<div>                            <div id=\"fe0aba18-4caf-4870-b3a6-9f5cb542569e\" class=\"plotly-graph-div\" style=\"height:525px; width:100%;\"></div>            <script type=\"text/javascript\">                require([\"plotly\"], function(Plotly) {                    window.PLOTLYENV=window.PLOTLYENV || {};                                    if (document.getElementById(\"fe0aba18-4caf-4870-b3a6-9f5cb542569e\")) {                    Plotly.newPlot(                        \"fe0aba18-4caf-4870-b3a6-9f5cb542569e\",                        [{\"alignmentgroup\":\"True\",\"bingroup\":\"x\",\"histnorm\":\"probability density\",\"hovertemplate\":\"level=expert\\u003cbr\\u003eStitch duration [s]=%{x}\\u003cbr\\u003eprobability density=%{y}\\u003cextra\\u003e\\u003c\\u002fextra\\u003e\",\"legendgroup\":\"expert\",\"marker\":{\"color\":\"#636efa\",\"opacity\":0.5,\"pattern\":{\"shape\":\"\"}},\"name\":\"expert\",\"offsetgroup\":\"expert\",\"orientation\":\"v\",\"showlegend\":true,\"x\":[53.0,50.0,48.0,43.0,39.0,48.0,45.0,47.0,52.53333333,40.93333333,51.2,40.93333333,51.0,46.93333333,51.2,47.0,44.33333333,43.6,43.2,39.66666667,49.33333333,29.0,49.8,50.66666667,55.0,58.0,48.0,77.0,64.0,61.0,53.0,45.0,60.0,46.0,47.0,62.0,54.0],\"xaxis\":\"x\",\"yaxis\":\"y\",\"type\":\"histogram\",\"opacity\":0.75,\"nbinsx\":100},{\"alignmentgroup\":\"True\",\"bingroup\":\"x\",\"histnorm\":\"probability density\",\"hovertemplate\":\"level=student\\u003cbr\\u003eStitch duration [s]=%{x}\\u003cbr\\u003eprobability density=%{y}\\u003cextra\\u003e\\u003c\\u002fextra\\u003e\",\"legendgroup\":\"student\",\"marker\":{\"color\":\"#EF553B\",\"opacity\":0.5,\"pattern\":{\"shape\":\"\"}},\"name\":\"student\",\"offsetgroup\":\"student\",\"orientation\":\"v\",\"showlegend\":true,\"x\":[51.0,49.46666667,55.53333333,45.93333333,100.0,112.0,125.0,92.0,54.0,235.0,131.0,94.0,87.0,74.0,128.0,114.0,106.0,112.0,152.0,126.0,48.0,105.0,120.0,53.0,70.0,72.0,179.0,75.0,82.0,56.0,68.0,169.0,149.0,53.0,133.0,89.0,89.0,125.0,165.0,110.0,46.0,132.0,124.0,58.0,129.0,94.0,121.0,58.0,50.0,101.0],\"xaxis\":\"x\",\"yaxis\":\"y\",\"type\":\"histogram\",\"opacity\":0.75,\"nbinsx\":100}],                        {\"template\":{\"data\":{\"histogram2dcontour\":[{\"type\":\"histogram2dcontour\",\"colorbar\":{\"outlinewidth\":0,\"ticks\":\"\"},\"colorscale\":[[0.0,\"#0d0887\"],[0.1111111111111111,\"#46039f\"],[0.2222222222222222,\"#7201a8\"],[0.3333333333333333,\"#9c179e\"],[0.4444444444444444,\"#bd3786\"],[0.5555555555555556,\"#d8576b\"],[0.6666666666666666,\"#ed7953\"],[0.7777777777777778,\"#fb9f3a\"],[0.8888888888888888,\"#fdca26\"],[1.0,\"#f0f921\"]]}],\"choropleth\":[{\"type\":\"choropleth\",\"colorbar\":{\"outlinewidth\":0,\"ticks\":\"\"}}],\"histogram2d\":[{\"type\":\"histogram2d\",\"colorbar\":{\"outlinewidth\":0,\"ticks\":\"\"},\"colorscale\":[[0.0,\"#0d0887\"],[0.1111111111111111,\"#46039f\"],[0.2222222222222222,\"#7201a8\"],[0.3333333333333333,\"#9c179e\"],[0.4444444444444444,\"#bd3786\"],[0.5555555555555556,\"#d8576b\"],[0.6666666666666666,\"#ed7953\"],[0.7777777777777778,\"#fb9f3a\"],[0.8888888888888888,\"#fdca26\"],[1.0,\"#f0f921\"]]}],\"heatmap\":[{\"type\":\"heatmap\",\"colorbar\":{\"outlinewidth\":0,\"ticks\":\"\"},\"colorscale\":[[0.0,\"#0d0887\"],[0.1111111111111111,\"#46039f\"],[0.2222222222222222,\"#7201a8\"],[0.3333333333333333,\"#9c179e\"],[0.4444444444444444,\"#bd3786\"],[0.5555555555555556,\"#d8576b\"],[0.6666666666666666,\"#ed7953\"],[0.7777777777777778,\"#fb9f3a\"],[0.8888888888888888,\"#fdca26\"],[1.0,\"#f0f921\"]]}],\"heatmapgl\":[{\"type\":\"heatmapgl\",\"colorbar\":{\"outlinewidth\":0,\"ticks\":\"\"},\"colorscale\":[[0.0,\"#0d0887\"],[0.1111111111111111,\"#46039f\"],[0.2222222222222222,\"#7201a8\"],[0.3333333333333333,\"#9c179e\"],[0.4444444444444444,\"#bd3786\"],[0.5555555555555556,\"#d8576b\"],[0.6666666666666666,\"#ed7953\"],[0.7777777777777778,\"#fb9f3a\"],[0.8888888888888888,\"#fdca26\"],[1.0,\"#f0f921\"]]}],\"contourcarpet\":[{\"type\":\"contourcarpet\",\"colorbar\":{\"outlinewidth\":0,\"ticks\":\"\"}}],\"contour\":[{\"type\":\"contour\",\"colorbar\":{\"outlinewidth\":0,\"ticks\":\"\"},\"colorscale\":[[0.0,\"#0d0887\"],[0.1111111111111111,\"#46039f\"],[0.2222222222222222,\"#7201a8\"],[0.3333333333333333,\"#9c179e\"],[0.4444444444444444,\"#bd3786\"],[0.5555555555555556,\"#d8576b\"],[0.6666666666666666,\"#ed7953\"],[0.7777777777777778,\"#fb9f3a\"],[0.8888888888888888,\"#fdca26\"],[1.0,\"#f0f921\"]]}],\"surface\":[{\"type\":\"surface\",\"colorbar\":{\"outlinewidth\":0,\"ticks\":\"\"},\"colorscale\":[[0.0,\"#0d0887\"],[0.1111111111111111,\"#46039f\"],[0.2222222222222222,\"#7201a8\"],[0.3333333333333333,\"#9c179e\"],[0.4444444444444444,\"#bd3786\"],[0.5555555555555556,\"#d8576b\"],[0.6666666666666666,\"#ed7953\"],[0.7777777777777778,\"#fb9f3a\"],[0.8888888888888888,\"#fdca26\"],[1.0,\"#f0f921\"]]}],\"mesh3d\":[{\"type\":\"mesh3d\",\"colorbar\":{\"outlinewidth\":0,\"ticks\":\"\"}}],\"scatter\":[{\"fillpattern\":{\"fillmode\":\"overlay\",\"size\":10,\"solidity\":0.2},\"type\":\"scatter\"}],\"parcoords\":[{\"type\":\"parcoords\",\"line\":{\"colorbar\":{\"outlinewidth\":0,\"ticks\":\"\"}}}],\"scatterpolargl\":[{\"type\":\"scatterpolargl\",\"marker\":{\"colorbar\":{\"outlinewidth\":0,\"ticks\":\"\"}}}],\"bar\":[{\"error_x\":{\"color\":\"#2a3f5f\"},\"error_y\":{\"color\":\"#2a3f5f\"},\"marker\":{\"line\":{\"color\":\"#E5ECF6\",\"width\":0.5},\"pattern\":{\"fillmode\":\"overlay\",\"size\":10,\"solidity\":0.2}},\"type\":\"bar\"}],\"scattergeo\":[{\"type\":\"scattergeo\",\"marker\":{\"colorbar\":{\"outlinewidth\":0,\"ticks\":\"\"}}}],\"scatterpolar\":[{\"type\":\"scatterpolar\",\"marker\":{\"colorbar\":{\"outlinewidth\":0,\"ticks\":\"\"}}}],\"histogram\":[{\"marker\":{\"pattern\":{\"fillmode\":\"overlay\",\"size\":10,\"solidity\":0.2}},\"type\":\"histogram\"}],\"scattergl\":[{\"type\":\"scattergl\",\"marker\":{\"colorbar\":{\"outlinewidth\":0,\"ticks\":\"\"}}}],\"scatter3d\":[{\"type\":\"scatter3d\",\"line\":{\"colorbar\":{\"outlinewidth\":0,\"ticks\":\"\"}},\"marker\":{\"colorbar\":{\"outlinewidth\":0,\"ticks\":\"\"}}}],\"scattermapbox\":[{\"type\":\"scattermapbox\",\"marker\":{\"colorbar\":{\"outlinewidth\":0,\"ticks\":\"\"}}}],\"scatterternary\":[{\"type\":\"scatterternary\",\"marker\":{\"colorbar\":{\"outlinewidth\":0,\"ticks\":\"\"}}}],\"scattercarpet\":[{\"type\":\"scattercarpet\",\"marker\":{\"colorbar\":{\"outlinewidth\":0,\"ticks\":\"\"}}}],\"carpet\":[{\"aaxis\":{\"endlinecolor\":\"#2a3f5f\",\"gridcolor\":\"white\",\"linecolor\":\"white\",\"minorgridcolor\":\"white\",\"startlinecolor\":\"#2a3f5f\"},\"baxis\":{\"endlinecolor\":\"#2a3f5f\",\"gridcolor\":\"white\",\"linecolor\":\"white\",\"minorgridcolor\":\"white\",\"startlinecolor\":\"#2a3f5f\"},\"type\":\"carpet\"}],\"table\":[{\"cells\":{\"fill\":{\"color\":\"#EBF0F8\"},\"line\":{\"color\":\"white\"}},\"header\":{\"fill\":{\"color\":\"#C8D4E3\"},\"line\":{\"color\":\"white\"}},\"type\":\"table\"}],\"barpolar\":[{\"marker\":{\"line\":{\"color\":\"#E5ECF6\",\"width\":0.5},\"pattern\":{\"fillmode\":\"overlay\",\"size\":10,\"solidity\":0.2}},\"type\":\"barpolar\"}],\"pie\":[{\"automargin\":true,\"type\":\"pie\"}]},\"layout\":{\"autotypenumbers\":\"strict\",\"colorway\":[\"#636efa\",\"#EF553B\",\"#00cc96\",\"#ab63fa\",\"#FFA15A\",\"#19d3f3\",\"#FF6692\",\"#B6E880\",\"#FF97FF\",\"#FECB52\"],\"font\":{\"color\":\"#2a3f5f\"},\"hovermode\":\"closest\",\"hoverlabel\":{\"align\":\"left\"},\"paper_bgcolor\":\"white\",\"plot_bgcolor\":\"#E5ECF6\",\"polar\":{\"bgcolor\":\"#E5ECF6\",\"angularaxis\":{\"gridcolor\":\"white\",\"linecolor\":\"white\",\"ticks\":\"\"},\"radialaxis\":{\"gridcolor\":\"white\",\"linecolor\":\"white\",\"ticks\":\"\"}},\"ternary\":{\"bgcolor\":\"#E5ECF6\",\"aaxis\":{\"gridcolor\":\"white\",\"linecolor\":\"white\",\"ticks\":\"\"},\"baxis\":{\"gridcolor\":\"white\",\"linecolor\":\"white\",\"ticks\":\"\"},\"caxis\":{\"gridcolor\":\"white\",\"linecolor\":\"white\",\"ticks\":\"\"}},\"coloraxis\":{\"colorbar\":{\"outlinewidth\":0,\"ticks\":\"\"}},\"colorscale\":{\"sequential\":[[0.0,\"#0d0887\"],[0.1111111111111111,\"#46039f\"],[0.2222222222222222,\"#7201a8\"],[0.3333333333333333,\"#9c179e\"],[0.4444444444444444,\"#bd3786\"],[0.5555555555555556,\"#d8576b\"],[0.6666666666666666,\"#ed7953\"],[0.7777777777777778,\"#fb9f3a\"],[0.8888888888888888,\"#fdca26\"],[1.0,\"#f0f921\"]],\"sequentialminus\":[[0.0,\"#0d0887\"],[0.1111111111111111,\"#46039f\"],[0.2222222222222222,\"#7201a8\"],[0.3333333333333333,\"#9c179e\"],[0.4444444444444444,\"#bd3786\"],[0.5555555555555556,\"#d8576b\"],[0.6666666666666666,\"#ed7953\"],[0.7777777777777778,\"#fb9f3a\"],[0.8888888888888888,\"#fdca26\"],[1.0,\"#f0f921\"]],\"diverging\":[[0,\"#8e0152\"],[0.1,\"#c51b7d\"],[0.2,\"#de77ae\"],[0.3,\"#f1b6da\"],[0.4,\"#fde0ef\"],[0.5,\"#f7f7f7\"],[0.6,\"#e6f5d0\"],[0.7,\"#b8e186\"],[0.8,\"#7fbc41\"],[0.9,\"#4d9221\"],[1,\"#276419\"]]},\"xaxis\":{\"gridcolor\":\"white\",\"linecolor\":\"white\",\"ticks\":\"\",\"title\":{\"standoff\":15},\"zerolinecolor\":\"white\",\"automargin\":true,\"zerolinewidth\":2},\"yaxis\":{\"gridcolor\":\"white\",\"linecolor\":\"white\",\"ticks\":\"\",\"title\":{\"standoff\":15},\"zerolinecolor\":\"white\",\"automargin\":true,\"zerolinewidth\":2},\"scene\":{\"xaxis\":{\"backgroundcolor\":\"#E5ECF6\",\"gridcolor\":\"white\",\"linecolor\":\"white\",\"showbackground\":true,\"ticks\":\"\",\"zerolinecolor\":\"white\",\"gridwidth\":2},\"yaxis\":{\"backgroundcolor\":\"#E5ECF6\",\"gridcolor\":\"white\",\"linecolor\":\"white\",\"showbackground\":true,\"ticks\":\"\",\"zerolinecolor\":\"white\",\"gridwidth\":2},\"zaxis\":{\"backgroundcolor\":\"#E5ECF6\",\"gridcolor\":\"white\",\"linecolor\":\"white\",\"showbackground\":true,\"ticks\":\"\",\"zerolinecolor\":\"white\",\"gridwidth\":2}},\"shapedefaults\":{\"line\":{\"color\":\"#2a3f5f\"}},\"annotationdefaults\":{\"arrowcolor\":\"#2a3f5f\",\"arrowhead\":0,\"arrowwidth\":1},\"geo\":{\"bgcolor\":\"white\",\"landcolor\":\"#E5ECF6\",\"subunitcolor\":\"white\",\"showland\":true,\"showlakes\":true,\"lakecolor\":\"white\"},\"title\":{\"x\":0.05},\"mapbox\":{\"style\":\"light\"}}},\"xaxis\":{\"anchor\":\"y\",\"domain\":[0.0,1.0],\"title\":{\"text\":\"Stitch duration [s]\"}},\"yaxis\":{\"anchor\":\"x\",\"domain\":[0.0,1.0],\"title\":{\"text\":\"probability density\"}},\"legend\":{\"title\":{\"text\":\"level\"},\"tracegroupgap\":0},\"title\":{\"text\":\"Stitch duration [s]\"},\"barmode\":\"relative\",\"shapes\":[{\"line\":{\"color\":\"green\",\"dash\":\"dash\",\"width\":3},\"type\":\"line\",\"x0\":78.1754789270115,\"x1\":78.1754789270115,\"xref\":\"x\",\"y0\":0,\"y1\":1,\"yref\":\"y domain\"}]},                        {\"responsive\": true}                    ).then(function(){\n",
       "                            \n",
       "var gd = document.getElementById('fe0aba18-4caf-4870-b3a6-9f5cb542569e');\n",
       "var x = new MutationObserver(function (mutations, observer) {{\n",
       "        var display = window.getComputedStyle(gd).display;\n",
       "        if (!display || display === 'none') {{\n",
       "            console.log([gd, 'removed!']);\n",
       "            Plotly.purge(gd);\n",
       "            observer.disconnect();\n",
       "        }}\n",
       "}});\n",
       "\n",
       "// Listen for the removal of the full notebook cells\n",
       "var notebookContainer = gd.closest('#notebook-container');\n",
       "if (notebookContainer) {{\n",
       "    x.observe(notebookContainer, {childList: true});\n",
       "}}\n",
       "\n",
       "// Listen for the clearing of the current output cell\n",
       "var outputEl = gd.closest('.output');\n",
       "if (outputEl) {{\n",
       "    x.observe(outputEl, {childList: true});\n",
       "}}\n",
       "\n",
       "                        })                };                });            </script>        </div>"
      ]
     },
     "metadata": {},
     "output_type": "display_data"
    }
   ],
   "execution_count": 109,
   "source": [
    "# plot KDE distribution of column\n",
    "\n",
    "fig = px.histogram(dfst, x=col_name, title=col_name, \n",
    "                   # color=\"done_by_expert\",\n",
    "                   color='level',\n",
    "                   opacity=0.5, \n",
    "                   # cumulative=True,\n",
    "                   histnorm='probability density')\n",
    "# show legend\n",
    "fig.update_traces(opacity=0.75)\n",
    "# add density line\n",
    "fig.update_traces(histnorm='probability density', nbinsx=100)\n",
    "\n",
    "# add vertical line for mean\n",
    "fig.add_vline(x=dfst[col_name].mean(), line_width=3, line_dash=\"dash\", line_color=\"green\", )\n",
    "\n",
    "fig.show()"
   ],
   "id": "6ba099fb82da26b7"
  },
  {
   "metadata": {},
   "cell_type": "code",
   "outputs": [
    {
     "ename": "AttributeError",
     "evalue": "module 'plotly.express' has no attribute 'distplot'",
     "output_type": "error",
     "traceback": [
      "\u001B[0;31m---------------------------------------------------------------------------\u001B[0m",
      "\u001B[0;31mAttributeError\u001B[0m                            Traceback (most recent call last)",
      "Input \u001B[0;32mIn [42]\u001B[0m, in \u001B[0;36m<cell line: 1>\u001B[0;34m()\u001B[0m\n\u001B[0;32m----> 1\u001B[0m \u001B[43mpx\u001B[49m\u001B[38;5;241;43m.\u001B[39;49m\u001B[43mdistplot\u001B[49m(dfst, x\u001B[38;5;241m=\u001B[39mcol_name, color\u001B[38;5;241m=\u001B[39m\u001B[38;5;124m\"\u001B[39m\u001B[38;5;124mdone_by_expert\u001B[39m\u001B[38;5;124m\"\u001B[39m)\n",
      "\u001B[0;31mAttributeError\u001B[0m: module 'plotly.express' has no attribute 'distplot'"
     ]
    }
   ],
   "execution_count": 42,
   "source": "",
   "id": "cbc4a665f6e590cd"
  },
  {
   "metadata": {
    "ExecuteTime": {
     "end_time": "2024-09-26T18:43:08.519643Z",
     "start_time": "2024-09-26T18:43:08.501408Z"
    }
   },
   "cell_type": "code",
   "source": [
    "import numpy as np\n",
    "import pandas as pd\n",
    "import plotly.graph_objects as go\n",
    "from scipy.stats import gaussian_kde\n",
    "\n",
    "# Example DataFrame\n",
    "df = pd.DataFrame({'your_column': np.random.randn(1000)})\n",
    "\n",
    "# Extract the column for which we want to calculate the KDE\n",
    "data = df['your_column']\n",
    "data = dfst[col_name].dropna()\n",
    "\n",
    "# Perform the KDE\n",
    "kde = gaussian_kde(data)\n",
    "# 90% percentile of data\n",
    "# percentile_95 = np.percentile(data, 95)\n",
    "# x_range = np.linspace(min(data), max(data), 1000)  # Set the range for x-axis\n",
    "x_range = np.linspace(np.percentile(data, 5), np.percentile(data, 95), 1000)  # Set the range for x-axis\n",
    "kde_values = kde(x_range)\n",
    "\n",
    "# Create the plot\n",
    "fig = go.Figure()\n",
    "\n",
    "# Add the KDE line\n",
    "fig.add_trace(go.Scatter(x=x_range, y=kde_values, mode='lines', name='KDE'))\n",
    "\n",
    "# Customize the layout\n",
    "fig.update_layout(title='1D KDE Plot',\n",
    "                  xaxis_title=col_name,\n",
    "                  yaxis_title='Density')\n",
    "\n",
    "# Show the plot\n",
    "fig.show()\n"
   ],
   "id": "11e9303e825309ab",
   "outputs": [
    {
     "data": {
      "application/vnd.plotly.v1+json": {
       "data": [
        {
         "mode": "lines",
         "name": "KDE",
         "x": [
          41.553333331000005,
          41.662989653992,
          41.77264597698399,
          41.88230229997598,
          41.99195862296797,
          42.101614945959966,
          42.211271268951954,
          42.32092759194395,
          42.43058391493594,
          42.54024023792793,
          42.64989656091993,
          42.759552883911915,
          42.86920920690391,
          42.9788655298959,
          43.088521852887894,
          43.19817817587988,
          43.30783449887188,
          43.41749082186387,
          43.52714714485586,
          43.636803467847855,
          43.74645979083984,
          43.85611611383184,
          43.965772436823826,
          44.07542875981582,
          44.18508508280782,
          44.294741405799805,
          44.4043977287918,
          44.51405405178379,
          44.62371037477578,
          44.73336669776777,
          44.843023020759766,
          44.952679343751754,
          45.06233566674375,
          45.171991989735744,
          45.28164831272773,
          45.39130463571973,
          45.500960958711715,
          45.61061728170371,
          45.7202736046957,
          45.829929927687694,
          45.93958625067968,
          46.04924257367168,
          46.15889889666367,
          46.26855521965566,
          46.378211542647655,
          46.48786786563964,
          46.59752418863164,
          46.70718051162363,
          46.81683683461562,
          46.92649315760761,
          47.036149480599605,
          47.1458058035916,
          47.25546212658359,
          47.36511844957558,
          47.47477477256757,
          47.584431095559566,
          47.69408741855156,
          47.80374374154355,
          47.913400064535544,
          48.02305638752753,
          48.13271271051953,
          48.242369033511515,
          48.35202535650351,
          48.4616816794955,
          48.571338002487494,
          48.68099432547949,
          48.79065064847148,
          48.90030697146347,
          49.00996329445546,
          49.119619617447455,
          49.22927594043944,
          49.33893226343144,
          49.448588586423426,
          49.55824490941542,
          49.66790123240742,
          49.777557555399405,
          49.8872138783914,
          49.99687020138339,
          50.10652652437538,
          50.21618284736738,
          50.325839170359366,
          50.435495493351354,
          50.54515181634335,
          50.654808139335344,
          50.76446446232733,
          50.87412078531933,
          50.983777108311315,
          51.09343343130331,
          51.203089754295306,
          51.312746077287294,
          51.42240240027928,
          51.53205872327128,
          51.64171504626327,
          51.75137136925526,
          51.861027692247255,
          51.97068401523924,
          52.08034033823124,
          52.18999666122323,
          52.29965298421522,
          52.40930930720722,
          52.518965630199204,
          52.6286219531912,
          52.738278276183195,
          52.84793459917518,
          52.95759092216717,
          53.067247245159166,
          53.17690356815116,
          53.28655989114315,
          53.396216214135144,
          53.50587253712713,
          53.61552886011913,
          53.72518518311112,
          53.83484150610311,
          53.9444978290951,
          54.054154152087094,
          54.16381047507909,
          54.27346679807108,
          54.38312312106307,
          54.49277944405506,
          54.602435767047055,
          54.71209209003905,
          54.82174841303104,
          54.931404736023026,
          55.04106105901502,
          55.15071738200702,
          55.260373704999004,
          55.370030027991,
          55.47968635098299,
          55.58934267397498,
          55.69899899696698,
          55.808655319958966,
          55.91831164295096,
          56.02796796594295,
          56.137624288934944,
          56.24728061192694,
          56.35693693491893,
          56.466593257910915,
          56.57624958090291,
          56.685905903894906,
          56.795562226886894,
          56.90521854987889,
          57.01487487287088,
          57.12453119586287,
          57.23418751885487,
          57.343843841846855,
          57.45350016483884,
          57.56315648783084,
          57.67281281082283,
          57.78246913381482,
          57.892125456806816,
          58.001781779798804,
          58.1114381027908,
          58.221094425782795,
          58.33075074877478,
          58.44040707176677,
          58.550063394758766,
          58.65971971775076,
          58.769376040742756,
          58.879032363734744,
          58.98868868672673,
          59.09834500971873,
          59.20800133271072,
          59.31765765570271,
          59.4273139786947,
          59.536970301686694,
          59.64662662467869,
          59.756282947670684,
          59.86593927066267,
          59.97559559365466,
          60.085251916646655,
          60.19490823963865,
          60.30456456263064,
          60.41422088562263,
          60.52387720861462,
          60.633533531606616,
          60.74318985459861,
          60.8528461775906,
          60.96250250058259,
          61.07215882357458,
          61.18181514656658,
          61.291471469558566,
          61.40112779255056,
          61.51078411554255,
          61.620440438534544,
          61.73009676152654,
          61.83975308451853,
          61.949409407510515,
          62.05906573050251,
          62.168722053494506,
          62.2783783764865,
          62.38803469947849,
          62.49769102247048,
          62.60734734546247,
          62.71700366845447,
          62.826659991446455,
          62.93631631443844,
          63.04597263743044,
          63.15562896042243,
          63.26528528341443,
          63.374941606406416,
          63.484597929398404,
          63.5942542523904,
          63.703910575382395,
          63.81356689837438,
          63.92322322136638,
          64.03287954435837,
          64.14253586735036,
          64.25219219034236,
          64.36184851333434,
          64.47150483632633,
          64.58116115931833,
          64.69081748231032,
          64.80047380530232,
          64.9101301282943,
          65.0197864512863,
          65.12944277427829,
          65.23909909727028,
          65.34875542026228,
          65.45841174325426,
          65.56806806624625,
          65.67772438923825,
          65.78738071223025,
          65.89703703522224,
          66.00669335821422,
          66.11634968120622,
          66.22600600419821,
          66.33566232719019,
          66.44531865018219,
          66.55497497317418,
          66.66463129616618,
          66.77428761915817,
          66.88394394215015,
          66.99360026514215,
          67.10325658813414,
          67.21291291112614,
          67.32256923411813,
          67.43222555711012,
          67.54188188010211,
          67.6515382030941,
          67.7611945260861,
          67.8708508490781,
          67.98050717207008,
          68.09016349506207,
          68.19981981805407,
          68.30947614104605,
          68.41913246403806,
          68.52878878703004,
          68.63844511002203,
          68.74810143301403,
          68.85775775600601,
          68.967414078998,
          69.07707040199,
          69.186726724982,
          69.29638304797399,
          69.40603937096597,
          69.51569569395797,
          69.62535201694996,
          69.73500833994196,
          69.84466466293395,
          69.95432098592593,
          70.06397730891793,
          70.17363363190992,
          70.28328995490192,
          70.39294627789391,
          70.5026026008859,
          70.61225892387789,
          70.72191524686988,
          70.83157156986186,
          70.94122789285387,
          71.05088421584585,
          71.16054053883785,
          71.27019686182985,
          71.37985318482183,
          71.48950950781382,
          71.59916583080582,
          71.70882215379781,
          71.8184784767898,
          71.92813479978179,
          72.03779112277378,
          72.14744744576578,
          72.25710376875777,
          72.36676009174977,
          72.47641641474175,
          72.58607273773374,
          72.69572906072574,
          72.80538538371773,
          72.91504170670973,
          73.02469802970171,
          73.1343543526937,
          73.2440106756857,
          73.35366699867768,
          73.46332332166968,
          73.57297964466167,
          73.68263596765367,
          73.79229229064566,
          73.90194861363764,
          74.01160493662964,
          74.12126125962163,
          74.23091758261363,
          74.34057390560562,
          74.4502302285976,
          74.5598865515896,
          74.6695428745816,
          74.77919919757358,
          74.88885552056558,
          74.99851184355757,
          75.10816816654956,
          75.21782448954156,
          75.32748081253354,
          75.43713713552555,
          75.54679345851753,
          75.65644978150952,
          75.76610610450152,
          75.8757624274935,
          75.98541875048551,
          76.09507507347749,
          76.20473139646948,
          76.31438771946148,
          76.42404404245346,
          76.53370036544545,
          76.64335668843745,
          76.75301301142945,
          76.86266933442144,
          76.97232565741342,
          77.08198198040542,
          77.19163830339741,
          77.30129462638939,
          77.4109509493814,
          77.52060727237338,
          77.63026359536538,
          77.73991991835737,
          77.84957624134935,
          77.95923256434136,
          78.06888888733334,
          78.17854521032534,
          78.28820153331733,
          78.39785785630932,
          78.50751417930132,
          78.6171705022933,
          78.7268268252853,
          78.8364831482773,
          78.94613947126928,
          79.05579579426127,
          79.16545211725327,
          79.27510844024526,
          79.38476476323726,
          79.49442108622924,
          79.60407740922123,
          79.71373373221323,
          79.82339005520521,
          79.93304637819722,
          80.0427027011892,
          80.1523590241812,
          80.26201534717319,
          80.37167167016517,
          80.48132799315718,
          80.59098431614916,
          80.70064063914116,
          80.81029696213315,
          80.91995328512513,
          81.02960960811713,
          81.13926593110912,
          81.24892225410112,
          81.35857857709311,
          81.4682349000851,
          81.57789122307709,
          81.68754754606908,
          81.79720386906106,
          81.90686019205307,
          82.01651651504505,
          82.12617283803705,
          82.23582916102905,
          82.34548548402103,
          82.45514180701304,
          82.56479813000502,
          82.67445445299701,
          82.784110775989,
          82.89376709898099,
          83.003423421973,
          83.11307974496498,
          83.22273606795697,
          83.33239239094897,
          83.44204871394095,
          83.55170503693294,
          83.66136135992494,
          83.77101768291693,
          83.88067400590893,
          83.99033032890091,
          84.0999866518929,
          84.2096429748849,
          84.31929929787688,
          84.42895562086889,
          84.53861194386087,
          84.64826826685287,
          84.75792458984486,
          84.86758091283684,
          84.97723723582885,
          85.08689355882083,
          85.19654988181283,
          85.30620620480482,
          85.4158625277968,
          85.52551885078881,
          85.6351751737808,
          85.74483149677279,
          85.85448781976478,
          85.96414414275677,
          86.07380046574876,
          86.18345678874076,
          86.29311311173275,
          86.40276943472475,
          86.51242575771673,
          86.62208208070872,
          86.73173840370072,
          86.8413947266927,
          86.95105104968471,
          87.06070737267669,
          87.17036369566868,
          87.28002001866068,
          87.38967634165266,
          87.49933266464467,
          87.60898898763665,
          87.71864531062865,
          87.82830163362064,
          87.93795795661262,
          88.04761427960462,
          88.15727060259661,
          88.2669269255886,
          88.3765832485806,
          88.48623957157258,
          88.59589589456458,
          88.70555221755657,
          88.81520854054855,
          88.92486486354056,
          89.03452118653254,
          89.14417750952454,
          89.25383383251653,
          89.36349015550852,
          89.47314647850052,
          89.5828028014925,
          89.6924591244845,
          89.8021154474765,
          89.91177177046848,
          90.02142809346049,
          90.13108441645247,
          90.24074073944446,
          90.35039706243646,
          90.46005338542844,
          90.56970970842043,
          90.67936603141243,
          90.78902235440442,
          90.89867867739642,
          91.0083350003884,
          91.1179913233804,
          91.22764764637239,
          91.33730396936437,
          91.44696029235638,
          91.55661661534836,
          91.66627293834036,
          91.77592926133235,
          91.88558558432433,
          91.99524190731634,
          92.10489823030832,
          92.21455455330032,
          92.32421087629231,
          92.4338671992843,
          92.5435235222763,
          92.65317984526828,
          92.76283616826028,
          92.87249249125227,
          92.98214881424425,
          93.09180513723625,
          93.20146146022824,
          93.31111778322024,
          93.42077410621224,
          93.53043042920422,
          93.64008675219621,
          93.7497430751882,
          93.85939939818019,
          93.9690557211722,
          94.07871204416418,
          94.18836836715617,
          94.29802469014817,
          94.40768101314015,
          94.51733733613216,
          94.62699365912414,
          94.73664998211613,
          94.84630630510813,
          94.95596262810011,
          95.0656189510921,
          95.1752752740841,
          95.2849315970761,
          95.39458792006809,
          95.50424424306007,
          95.61390056605207,
          95.72355688904406,
          95.83321321203604,
          95.94286953502805,
          96.05252585802003,
          96.16218218101203,
          96.27183850400402,
          96.381494826996,
          96.49115114998801,
          96.60080747298,
          96.71046379597199,
          96.82012011896398,
          96.92977644195597,
          97.03943276494797,
          97.14908908793996,
          97.25874541093195,
          97.36840173392395,
          97.47805805691593,
          97.58771437990792,
          97.69737070289992,
          97.80702702589191,
          97.91668334888391,
          98.02633967187589,
          98.13599599486788,
          98.24565231785988,
          98.35530864085186,
          98.46496496384387,
          98.57462128683585,
          98.68427760982784,
          98.79393393281984,
          98.90359025581182,
          99.01324657880383,
          99.12290290179581,
          99.2325592247878,
          99.3422155477798,
          99.45187187077178,
          99.56152819376379,
          99.67118451675577,
          99.78084083974777,
          99.89049716273976,
          100.00015348573174,
          100.10980980872374,
          100.21946613171573,
          100.32912245470773,
          100.43877877769972,
          100.5484351006917,
          100.6580914236837,
          100.7677477466757,
          100.87740406966768,
          100.98706039265969,
          101.09671671565167,
          101.20637303864366,
          101.31602936163566,
          101.42568568462764,
          101.53534200761965,
          101.64499833061163,
          101.75465465360362,
          101.86431097659562,
          101.9739672995876,
          102.0836236225796,
          102.19327994557159,
          102.30293626856358,
          102.41259259155558,
          102.52224891454756,
          102.63190523753956,
          102.74156156053155,
          102.85121788352353,
          102.96087420651554,
          103.07053052950752,
          103.18018685249952,
          103.28984317549151,
          103.3994994984835,
          103.5091558214755,
          103.61881214446748,
          103.72846846745948,
          103.83812479045147,
          103.94778111344345,
          104.05743743643546,
          104.16709375942744,
          104.27675008241944,
          104.38640640541144,
          104.49606272840342,
          104.60571905139541,
          104.7153753743874,
          104.8250316973794,
          104.9346880203714,
          105.04434434336338,
          105.15400066635537,
          105.26365698934737,
          105.37331331233935,
          105.48296963533136,
          105.59262595832334,
          105.70228228131533,
          105.81193860430733,
          105.92159492729932,
          106.0312512502913,
          106.1409075732833,
          106.2505638962753,
          106.36022021926729,
          106.46987654225927,
          106.57953286525127,
          106.68918918824326,
          106.79884551123526,
          106.90850183422725,
          107.01815815721923,
          107.12781448021123,
          107.23747080320322,
          107.34712712619522,
          107.45678344918721,
          107.5664397721792,
          107.67609609517119,
          107.78575241816318,
          107.89540874115518,
          108.00506506414716,
          108.11472138713916,
          108.22437771013115,
          108.33403403312315,
          108.44369035611514,
          108.55334667910712,
          108.66300300209912,
          108.77265932509111,
          108.88231564808311,
          108.99197197107509,
          109.10162829406708,
          109.21128461705908,
          109.32094094005107,
          109.43059726304307,
          109.54025358603505,
          109.64990990902704,
          109.75956623201904,
          109.86922255501104,
          109.97887887800303,
          110.08853520099501,
          110.198191523987,
          110.307847846979,
          110.417504169971,
          110.52716049296298,
          110.63681681595497,
          110.74647313894697,
          110.85612946193896,
          110.96578578493096,
          111.07544210792294,
          111.18509843091493,
          111.29475475390693,
          111.40441107689892,
          111.5140673998909,
          111.6237237228829,
          111.7333800458749,
          111.84303636886689,
          111.95269269185889,
          112.06234901485087,
          112.17200533784286,
          112.28166166083486,
          112.39131798382685,
          112.50097430681883,
          112.61063062981083,
          112.72028695280282,
          112.82994327579482,
          112.93959959878681,
          113.0492559217788,
          113.15891224477079,
          113.26856856776278,
          113.37822489075478,
          113.48788121374676,
          113.59753753673876,
          113.70719385973075,
          113.81685018272275,
          113.92650650571474,
          114.03616282870672,
          114.14581915169872,
          114.25547547469071,
          114.36513179768271,
          114.4747881206747,
          114.58444444366668,
          114.69410076665868,
          114.80375708965067,
          114.91341341264267,
          115.02306973563465,
          115.13272605862664,
          115.24238238161864,
          115.35203870461064,
          115.46169502760263,
          115.57135135059461,
          115.6810076735866,
          115.7906639965786,
          115.9003203195706,
          116.00997664256258,
          116.11963296555457,
          116.22928928854657,
          116.33894561153856,
          116.44860193453056,
          116.55825825752254,
          116.66791458051453,
          116.77757090350653,
          116.88722722649852,
          116.99688354949052,
          117.1065398724825,
          117.2161961954745,
          117.32585251846649,
          117.43550884145849,
          117.54516516445047,
          117.65482148744246,
          117.76447781043446,
          117.87413413342645,
          117.98379045641845,
          118.09344677941043,
          118.20310310240242,
          118.31275942539442,
          118.42241574838641,
          118.5320720713784,
          118.64172839437039,
          118.75138471736238,
          118.86104104035438,
          118.97069736334637,
          119.08035368633836,
          119.19001000933035,
          119.29966633232235,
          119.40932265531434,
          119.51897897830632,
          119.62863530129832,
          119.73829162429031,
          119.84794794728231,
          119.9576042702743,
          120.06726059326628,
          120.17691691625828,
          120.28657323925027,
          120.39622956224227,
          120.50588588523425,
          120.61554220822624,
          120.72519853121824,
          120.83485485421023,
          120.94451117720223,
          121.05416750019421,
          121.1638238231862,
          121.2734801461782,
          121.3831364691702,
          121.49279279216219,
          121.60244911515417,
          121.71210543814617,
          121.82176176113816,
          121.93141808413016,
          122.04107440712214,
          122.15073073011413,
          122.26038705310613,
          122.37004337609812,
          122.47969969909012,
          122.5893560220821,
          122.6990123450741,
          122.80866866806609,
          122.91832499105809,
          123.02798131405007,
          123.13763763704206,
          123.24729396003406,
          123.35695028302605,
          123.46660660601805,
          123.57626292901003,
          123.68591925200202,
          123.79557557499402,
          123.90523189798601,
          124.01488822097801,
          124.12454454396999,
          124.23420086696198,
          124.34385718995398,
          124.45351351294597,
          124.56316983593796,
          124.67282615892995,
          124.78248248192195,
          124.89213880491394,
          125.00179512790594,
          125.11145145089792,
          125.22110777388991,
          125.33076409688191,
          125.4404204198739,
          125.55007674286588,
          125.65973306585788,
          125.76938938884987,
          125.87904571184187,
          125.98870203483386,
          126.09835835782584,
          126.20801468081784,
          126.31767100380983,
          126.42732732680183,
          126.53698364979381,
          126.6466399727858,
          126.7562962957778,
          126.8659526187698,
          126.97560894176179,
          127.08526526475377,
          127.19492158774577,
          127.30457791073776,
          127.41423423372976,
          127.52389055672174,
          127.63354687971373,
          127.74320320270573,
          127.85285952569772,
          127.96251584868972,
          128.0721721716817,
          128.1818284946737,
          128.2914848176657,
          128.40114114065767,
          128.51079746364968,
          128.62045378664166,
          128.73011010963364,
          128.83976643262565,
          128.94942275561766,
          129.0590790786096,
          129.16873540160162,
          129.27839172459363,
          129.3880480475856,
          129.4977043705776,
          129.6073606935696,
          129.71701701656158,
          129.82667333955357,
          129.93632966254557,
          130.04598598553756,
          130.15564230852954,
          130.26529863152155,
          130.37495495451356,
          130.48461127750554,
          130.59426760049752,
          130.70392392348953,
          130.8135802464815,
          130.9232365694735,
          131.0328928924655,
          131.14254921545748,
          131.25220553844946,
          131.36186186144147,
          131.47151818443348,
          131.58117450742543,
          131.69083083041744,
          131.80048715340945,
          131.91014347640143,
          132.0197997993934,
          132.12945612238542,
          132.2391124453774,
          132.34876876836938,
          132.4584250913614,
          132.56808141435337,
          132.67773773734535,
          132.78739406033736,
          132.89705038332937,
          133.00670670632135,
          133.11636302931333,
          133.22601935230534,
          133.33567567529732,
          133.4453319982893,
          133.55498832128131,
          133.6646446442733,
          133.77430096726528,
          133.88395729025729,
          133.9936136132493,
          134.10326993624125,
          134.21292625923326,
          134.32258258222527,
          134.43223890521725,
          134.54189522820923,
          134.65155155120124,
          134.76120787419322,
          134.8708641971852,
          134.9805205201772,
          135.0901768431692,
          135.19983316616117,
          135.30948948915318,
          135.4191458121452,
          135.52880213513717,
          135.63845845812915,
          135.74811478112116,
          135.85777110411314,
          135.96742742710512,
          136.07708375009713,
          136.1867400730891,
          136.2963963960811,
          136.4060527190731,
          136.5157090420651,
          136.62536536505706,
          136.73502168804907,
          136.84467801104108,
          136.95433433403306,
          137.06399065702504,
          137.17364698001705,
          137.28330330300903,
          137.39295962600102,
          137.50261594899303,
          137.612272271985,
          137.721928594977,
          137.831584917969,
          137.941241240961,
          138.050897563953,
          138.16055388694497,
          138.27021020993698,
          138.37986653292896,
          138.48952285592094,
          138.59917917891295,
          138.70883550190493,
          138.8184918248969,
          138.92814814788892,
          139.03780447088093,
          139.14746079387288,
          139.2571171168649,
          139.3667734398569,
          139.47642976284888,
          139.58608608584086,
          139.69574240883287,
          139.80539873182485,
          139.91505505481683,
          140.02471137780884,
          140.13436770080082,
          140.2440240237928,
          140.3536803467848,
          140.46333666977682,
          140.57299299276877,
          140.68264931576078,
          140.7923056387528,
          140.90196196174477,
          141.01161828473676,
          141.12127460772876,
          141.23093093072075,
          141.34058725371273,
          141.45024357670474,
          141.55989989969672,
          141.6695562226887,
          141.7792125456807,
          141.88886886867272,
          141.9985251916647,
          142.10818151465668,
          142.2178378376487,
          142.32749416064067,
          142.43715048363265,
          142.54680680662466,
          142.65646312961664,
          142.76611945260862,
          142.87577577560063,
          142.98543209859264,
          143.0950884215846,
          143.2047447445766,
          143.3144010675686,
          143.4240573905606,
          143.53371371355257,
          143.64337003654458,
          143.75302635953656,
          143.86268268252854,
          143.97233900552055,
          144.08199532851253,
          144.19165165150451,
          144.30130797449652,
          144.41096429748853,
          144.5206206204805,
          144.6302769434725,
          144.7399332664645,
          144.84958958945649,
          144.95924591244847,
          145.06890223544048,
          145.17855855843246,
          145.28821488142444,
          145.39787120441645,
          145.50752752740846,
          145.6171838504004,
          145.72684017339242,
          145.83649649638443,
          145.9461528193764,
          146.0558091423684,
          146.1654654653604,
          146.27512178835238,
          146.38477811134436,
          146.49443443433637,
          146.60409075732835,
          146.71374708032033,
          146.82340340331234,
          146.93305972630435,
          147.04271604929633,
          147.1523723722883,
          147.26202869528032,
          147.3716850182723,
          147.48134134126428,
          147.5909976642563,
          147.70065398724827,
          147.81031031024025,
          147.91996663323226,
          148.02962295622427,
          148.13927927921623,
          148.24893560220823,
          148.35859192520024,
          148.46824824819222,
          148.5779045711842,
          148.68756089417622,
          148.7972172171682,
          148.90687354016018,
          149.0165298631522,
          149.12618618614417,
          149.23584250913615,
          149.34549883212816,
          149.45515515512017,
          149.56481147811215,
          149.67446780110413,
          149.78412412409614,
          149.89378044708812,
          150.0034367700801,
          150.1130930930721,
          150.2227494160641,
          150.33240573905607,
          150.44206206204808,
          150.5517183850401,
          150.66137470803204,
          150.77103103102405,
          150.88068735401606,
          150.99034367700804,
          151.10000000000002
         ],
         "y": [
          0.011779083883023468,
          0.011816730824491152,
          0.011854068421460025,
          0.011891093258882502,
          0.011927801951231685,
          0.01196419114311584,
          0.012000257509888262,
          0.012035997758252582,
          0.012071408626863121,
          0.01210648688692024,
          0.012141229342760552,
          0.012175632832441812,
          0.012209694228322339,
          0.012243410437634744,
          0.012276778403053983,
          0.012309795103259358,
          0.012342457553490574,
          0.012374762806097405,
          0.012406707951083173,
          0.012438290116641508,
          0.012469506469686639,
          0.012500354216376715,
          0.012530830602630282,
          0.012560932914635685,
          0.012590658479353102,
          0.012620004665009517,
          0.012648968881585856,
          0.012677548581296773,
          0.012705741259062587,
          0.012733544452973334,
          0.01276095574474482,
          0.01278797276016666,
          0.012814593169541895,
          0.012840814688118407,
          0.012866635076511743,
          0.012892052141119497,
          0.012917063734526769,
          0.01294166775590305,
          0.012965862151390043,
          0.012989644914480425,
          0.01301301408638772,
          0.013035967756406584,
          0.01305850406226412,
          0.013080621190461595,
          0.013102317376606585,
          0.013123590905735753,
          0.013144440112627692,
          0.013164863382106155,
          0.013184859149333442,
          0.01320442590009368,
          0.013223562171066367,
          0.013242266550089588,
          0.013260537676413253,
          0.013278374240942022,
          0.013295774986468044,
          0.013312738707893198,
          0.01332926425244112,
          0.013345350519858652,
          0.013360996462606791,
          0.01337620108604116,
          0.013390963448581747,
          0.013405282661872091,
          0.013419157890927772,
          0.013432588354274107,
          0.01344557332407314,
          0.013458112126239822,
          0.013470204140547344,
          0.013481848800721657,
          0.013493045594525117,
          0.013503794063829158,
          0.013514093804676195,
          0.013523944467330476,
          0.013533345756318075,
          0.013542297430455947,
          0.013550799302869976,
          0.013558851241002165,
          0.013566453166606797,
          0.013573605055735731,
          0.013580306938712766,
          0.013586558900097006,
          0.013592361078635453,
          0.013597713667204539,
          0.013602616912741047,
          0.013607071116161907,
          0.013611076632273412,
          0.013614633869669506,
          0.013617743290619402,
          0.013620405410944435,
          0.013622620799884293,
          0.013624390079952566,
          0.013625713926781753,
          0.013626593068957638,
          0.013627028287843344,
          0.013627020417392777,
          0.013626570343953802,
          0.013625679006061037,
          0.013624347394218472,
          0.013622576550671799,
          0.013620367569170679,
          0.013617721594720944,
          0.01361463982332687,
          0.013611123501723395,
          0.013607173927098754,
          0.01360279244680711,
          0.013597980458071753,
          0.01359273940767863,
          0.013587070791660313,
          0.013580976154970786,
          0.013574457091150738,
          0.013567515241983767,
          0.013560152297143486,
          0.013552369993831597,
          0.013544170116407054,
          0.013535554496006567,
          0.013526525010156236,
          0.013517083582374799,
          0.013507232181768384,
          0.013496972822616792,
          0.013486307563951796,
          0.013475238509127149,
          0.013463767805380703,
          0.013451897643388671,
          0.013439630256812135,
          0.013426967921836,
          0.013413912956700426,
          0.013400467721224945,
          0.013386634616325383,
          0.013372416083523752,
          0.013357814604451079,
          0.01334283270034354,
          0.013327472931531996,
          0.013311737896924816,
          0.013295630233484538,
          0.0132791526156982,
          0.013262307755041518,
          0.013245098399437313,
          0.01322752733270798,
          0.013209597374022383,
          0.013191311377337266,
          0.013172672230833338,
          0.013153682856346115,
          0.01313434620879179,
          0.013114665275588177,
          0.013094643076070972,
          0.013074282660905434,
          0.01305358711149364,
          0.013032559539377521,
          0.013011203085637744,
          0.012989520920288754,
          0.012967516241669943,
          0.012945192275833276,
          0.012922552275927405,
          0.012899599521578554,
          0.012876337318268205,
          0.012852768996707875,
          0.012828897912211016,
          0.01280472744406234,
          0.01278026099488462,
          0.012755501990003176,
          0.012730453876808169,
          0.012705120124115014,
          0.012679504221522751,
          0.012653609678770992,
          0.012627440025095148,
          0.01260099880858044,
          0.012574289595514643,
          0.012547315969739858,
          0.012520081532003388,
          0.01249258989930792,
          0.01246484470426118,
          0.012436849594425146,
          0.012408608231665121,
          0.012380124291498658,
          0.012351401462444622,
          0.012322443445372479,
          0.012293253952852008,
          0.012263836708503548,
          0.012234195446348971,
          0.0122043339101635,
          0.012174255852828598,
          0.012143965035685982,
          0.01211346522789295,
          0.012082760205779218,
          0.012051853752205379,
          0.012020749655923058,
          0.011989451710937078,
          0.011957963715869586,
          0.011926289473326489,
          0.011894432789266135,
          0.011862397472370497,
          0.011830187333419041,
          0.011797806184665326,
          0.011765257839216413,
          0.011732546110415475,
          0.01169967481122743,
          0.011666647753627937,
          0.011633468747995776,
          0.011600141602508931,
          0.01156667012254408,
          0.011533058110080189,
          0.011499309363105843,
          0.011465427675030705,
          0.011431416834101165,
          0.011397280622820223,
          0.011363022817371834,
          0.011328647187049734,
          0.011294157493690955,
          0.011259557491114002,
          0.011224850924561994,
          0.011190041530150643,
          0.011155133034321394,
          0.011120129153299711,
          0.01108503359255857,
          0.011049850046287382,
          0.011014582196866404,
          0.010979233714346557,
          0.010943808255935128,
          0.010908309465486954,
          0.010872740973001649,
          0.010837106394126574,
          0.010801409329665921,
          0.010765653365095804,
          0.010729842070085531,
          0.010693978998025109,
          0.01065806768555899,
          0.010622111652126337,
          0.010586114399507579,
          0.010550079411377561,
          0.01051401015286529,
          0.010477910070120269,
          0.010441782589885568,
          0.010405631119077656,
          0.010369459044373025,
          0.010333269731801738,
          0.010297066526347862,
          0.010260852751556847,
          0.010224631709150007,
          0.010188406678645994,
          0.010152180916989413,
          0.010115957658186575,
          0.01007974011294843,
          0.010043531468340739,
          0.010007334887441485,
          0.009971153509005565,
          0.009934990447136818,
          0.009898848790967387,
          0.009862731604344423,
          0.009826641925524189,
          0.009790582766873614,
          0.009754557114579187,
          0.009718567928363356,
          0.009682618141208368,
          0.009646710659087555,
          0.009610848360704102,
          0.009575034097237327,
          0.009539270692096338,
          0.009503560940681341,
          0.00946790761015227,
          0.009432313439205068,
          0.009396781137855224,
          0.009361313387229054,
          0.009325912839362224,
          0.009290582117005827,
          0.009255323813439941,
          0.00922014049229452,
          0.009185034687377767,
          0.009150008902511865,
          0.009115065611376164,
          0.009080207257357547,
          0.00904543625340837,
          0.009010754981911458,
          0.008976165794552576,
          0.00894167101220003,
          0.008907272924791498,
          0.008872973791228107,
          0.008838775839275597,
          0.00880468126547261,
          0.008770692235046071,
          0.008736810881833569,
          0.008703039308212769,
          0.008669379585037764,
          0.008635833751582288,
          0.008602403815489882,
          0.00856909175273073,
          0.008535899507565413,
          0.008502828992515265,
          0.008469882088339414,
          0.008437060644018462,
          0.008404366476744663,
          0.008371801371918616,
          0.008339367083152421,
          0.008307065332279165,
          0.008274897809368765,
          0.008242866172750022,
          0.008210972049038912,
          0.008179217033172974,
          0.008147602688451768,
          0.008116130546583345,
          0.008084802107736622,
          0.008053618840599634,
          0.008022582182443564,
          0.007991693539192508,
          0.007960954285498872,
          0.00793036576482438,
          0.007899929289526516,
          0.007869646140950506,
          0.007839517569526517,
          0.00780954479487225,
          0.007779729005900689,
          0.007750071360932942,
          0.007720572987816203,
          0.0076912349840466,
          0.007662058416897007,
          0.007633044323549602,
          0.007604193711233171,
          0.00757550755736508,
          0.007546986809697786,
          0.007518632386469836,
          0.00749044517656126,
          0.007462426039653283,
          0.007434575806392283,
          0.00740689527855785,
          0.007379385229234976,
          0.00735204640299017,
          0.007324879516051464,
          0.007297885256492274,
          0.007271064284418936,
          0.007244417232161893,
          0.007217944704470451,
          0.007191647278710949,
          0.007165525505068351,
          0.007139579906751155,
          0.00711381098019938,
          0.007088219195295863,
          0.007062804995580379,
          0.007037568798466886,
          0.007012510995463508,
          0.006987631952395327,
          0.006962932009629908,
          0.006938411482305325,
          0.0069140706605607775,
          0.0068899098097696156,
          0.006865929170774689,
          0.006842128960125947,
          0.006818509370320243,
          0.006795070570043202,
          0.0067718127044130655,
          0.006748735895226489,
          0.006725840241206158,
          0.006703125818250135,
          0.006680592679682873,
          0.006658240856507865,
          0.0066360703576616754,
          0.006614081170269501,
          0.006592273259902013,
          0.006570646570833431,
          0.006549201026300848,
          0.006527936528764512,
          0.00650685296016928,
          0.006485950182206864,
          0.006465228036579006,
          0.0064446863452614234,
          0.006424324910768423,
          0.006404143516418141,
          0.0063841419265983695,
          0.006364319887032768,
          0.006344677125047566,
          0.006325213349838526,
          0.006305928252738126,
          0.006286821507483017,
          0.006267892770481474,
          0.00624914168108093,
          0.006230567861835461,
          0.006212170918773167,
          0.006193950441663362,
          0.006175906004283505,
          0.006158037164685856,
          0.006140343465463721,
          0.006122824434017222,
          0.006105479582818638,
          0.0060883084096770845,
          0.006071310398002593,
          0.006054485017069486,
          0.006037831722279001,
          0.006021349955421056,
          0.006005039144935169,
          0.005988898706170401,
          0.005972928041644363,
          0.005957126541301057,
          0.0059414935827677255,
          0.005926028531610468,
          0.005910730741588634,
          0.005895599554907966,
          0.005880634302472405,
          0.0058658343041345425,
          0.005851198868944598,
          0.00583672729539795,
          0.005822418871681176,
          0.005808272875916442,
          0.00579428857640435,
          0.005780465231865087,
          0.005766802091677858,
          0.005753298396118609,
          0.005739953376595927,
          0.0057267662558851086,
          0.005713736248360363,
          0.0057008625602251225,
          0.005688144389740348,
          0.005675580927450922,
          0.00566317135640996,
          0.005650914852401086,
          0.005638810584158613,
          0.0056268577135856115,
          0.005615055395969804,
          0.005603402780197269,
          0.005591899008963966,
          0.005580543218984946,
          0.005569334541201356,
          0.0055582721009851035,
          0.005547355018341201,
          0.005536582408107783,
          0.005525953380153684,
          0.005515467039573699,
          0.00550512248688137,
          0.005494918818199336,
          0.005484855125447261,
          0.005474930496527213,
          0.005465144015506616,
          0.005455494762798642,
          0.00544598181534009,
          0.005436604246766719,
          0.005427361127586003,
          0.0054182515253473435,
          0.005409274504809686,
          0.005400429128106501,
          0.005391714454908242,
          0.005383129542582106,
          0.005374673446349207,
          0.005366345219439127,
          0.0053581439132418,
          0.005350068577456802,
          0.005342118260239907,
          0.005334292008347081,
          0.005326588867275791,
          0.005319007881403617,
          0.00531154809412427,
          0.0053042085479808945,
          0.005296988284796765,
          0.0052898863458032755,
          0.0052829017717653205,
          0.00527603360310399,
          0.005269280880016643,
          0.005262642642594314,
          0.005256117930936503,
          0.005249705785263334,
          0.005243405246025065,
          0.005237215354009033,
          0.005231135150443922,
          0.005225163677101498,
          0.00521929997639573,
          0.005213543091479318,
          0.0052078920663377005,
          0.005202345945880463,
          0.00519690377603023,
          0.005191564603809044,
          0.005186327477422208,
          0.005181191446339631,
          0.005176155561374749,
          0.00517121887476089,
          0.00516638044022528,
          0.005161639313060561,
          0.005156994550193947,
          0.005152445210253929,
          0.005147990353634692,
          0.00514362904255809,
          0.005139360341133359,
          0.0051351833154144886,
          0.005131097033455327,
          0.005127100565362392,
          0.005123192983345483,
          0.005119373361766027,
          0.005115640777183288,
          0.005111994308398344,
          0.00510843303649598,
          0.005104956044884425,
          0.005101562419333015,
          0.005098251248007778,
          0.005095021621504994,
          0.005091872632882735,
          0.0050888033776904365,
          0.005085812953996493,
          0.005082900462413944,
          0.005080065006124261,
          0.005077305690899251,
          0.00507462162512116,
          0.005072011919800932,
          0.005069475688594703,
          0.00506701204781857,
          0.0050646201164616,
          0.005062299016197216,
          0.005060047871392873,
          0.0050578658091181665,
          0.005055751959151304,
          0.00505370545398408,
          0.005051725428825272,
          0.005049811021602592,
          0.005047961372963166,
          0.005046175626272587,
          0.005044452927612598,
          0.005042792425777414,
          0.005041193272268711,
          0.005039654621289353,
          0.00503817562973586,
          0.005036755457189657,
          0.005035393265907155,
          0.005034088220808664,
          0.005032839489466216,
          0.005031646242090306,
          0.005030507651515593,
          0.005029422893185594,
          0.005028391145136406,
          0.005027411587979507,
          0.005026483404883643,
          0.005025605781555862,
          0.00502477790622171,
          0.005023998969604647,
          0.005023268164904699,
          0.005022584687776397,
          0.005021947736306013,
          0.005021356510988165,
          0.005020810214701786,
          0.005020308052685553,
          0.005019849232512731,
          0.0050194329640655,
          0.005019058459508873,
          0.005018724933264101,
          0.005018431601981727,
          0.005018177684514228,
          0.005017962401888359,
          0.005017784977277188,
          0.0050176446359718385,
          0.005017540605353034,
          0.005017472114862432,
          0.005017438395973797,
          0.005017438682164019,
          0.005017472208884097,
          0.005017538213529975,
          0.00501763593541342,
          0.005017764615732859,
          0.005017923497544277,
          0.00501811182573215,
          0.005018328846980514,
          0.005018573809744144,
          0.005018845964219887,
          0.005019144562318205,
          0.005019468857634939,
          0.005019818105423314,
          0.005020191562566251,
          0.0050205884875489685,
          0.005021008140431943,
          0.005021449782824241,
          0.00502191267785725,
          0.005022396090158836,
          0.005022899285827978,
          0.005023421532409864,
          0.0050239620988714985,
          0.005024520255577886,
          0.005025095274268748,
          0.005025686428035835,
          0.005026292991300884,
          0.005026914239794172,
          0.005027549450533798,
          0.005028197901805599,
          0.005028858873143825,
          0.005029531645312541,
          0.005030215500287775,
          0.0050309097212404875,
          0.005031613592520315,
          0.005032326399640165,
          0.005033047429261641,
          0.005033775969181371,
          0.00503451130831818,
          0.005035252736701233,
          0.005035999545459039,
          0.005036751026809468,
          0.005037506474050698,
          0.005038265181553129,
          0.0050390264447523715,
          0.00503978956014315,
          0.005040553825274326,
          0.005041318538744929,
          0.005042083000201249,
          0.005042846510335011,
          0.005043608370882667,
          0.005044367884625741,
          0.005045124355392332,
          0.005045877088059733,
          0.005046625388558181,
          0.005047368563875761,
          0.005048105922064505,
          0.005048836772247573,
          0.005049560424627735,
          0.00505027619049693,
          0.005050983382247085,
          0.005051681313382117,
          0.005052369298531154,
          0.005053046653462944,
          0.005053712695101517,
          0.005054366741543069,
          0.005055008112074046,
          0.005055636127190493,
          0.005056250108618634,
          0.005056849379336668,
          0.005057433263597847,
          0.00505800108695474,
          0.00505855217628481,
          0.00505908585981715,
          0.00505960146716055,
          0.005060098329332718,
          0.005060575778790808,
          0.005061033149463152,
          0.005061469776782215,
          0.005061884997718804,
          0.005062278150817501,
          0.005062648576233287,
          0.0050629956157694144,
          0.005063318612916474,
          0.005063616912892648,
          0.005063889862685194,
          0.005064136811093078,
          0.005064357108770813,
          0.005064550108273451,
          0.005064715164102744,
          0.005064851632754449,
          0.005064958872766755,
          0.005065036244769896,
          0.005065083111536796,
          0.005065098838034882,
          0.005065082791478971,
          0.005065034341385195,
          0.005064952859626063,
          0.0050648377204864856,
          0.005064688300720916,
          0.005064503979611425,
          0.005064284139026856,
          0.005064028163482889,
          0.005063735440203136,
          0.005063405359181144,
          0.005063037313243335,
          0.00506263069811289,
          0.00506218491247445,
          0.0050616993580397925,
          0.005061173439614265,
          0.005060606565164122,
          0.005059998145884615,
          0.005059347596268916,
          0.00505865433417779,
          0.005057917780909999,
          0.005057137361273455,
          0.005056312503657049,
          0.005055442640103164,
          0.005054527206380846,
          0.005053565642059567,
          0.005052557390583652,
          0.0050515018993472025,
          0.005050398619769644,
          0.005049247007371741,
          0.005048046521852149,
          0.005046796627164417,
          0.005045496791594426,
          0.005044146487838291,
          0.005042745193080567,
          0.005041292389072918,
          0.005039787562213034,
          0.005038230203623909,
          0.005036619809233347,
          0.005034955879853764,
          0.005033237921262169,
          0.005031465444280359,
          0.005029637964855248,
          0.005027755004139342,
          0.005025816088571317,
          0.005023820749956636,
          0.005021768525548243,
          0.005019658958127238,
          0.005017491596083514,
          0.005015265993496392,
          0.00501298171021512,
          0.005010638311939275,
          0.0050082353702990134,
          0.005005772462935139,
          0.005003249173578981,
          0.005000665092131986,
          0.004998019814745086,
          0.004995312943897734,
          0.004992544088476581,
          0.004989712863853845,
          0.004986818891965217,
          0.004983861801387368,
          0.004980841227414991,
          0.00497775681213733,
          0.004974608204514203,
          0.0049713950604514555,
          0.004968117042875815,
          0.00496477382180915,
          0.004961365074442055,
          0.004957890485206747,
          0.004954349745849279,
          0.004950742555500963,
          0.004947068620749064,
          0.004943327655706646,
          0.004939519382081604,
          0.004935643529244821,
          0.004931699834297422,
          0.004927688042137123,
          0.004923607905523595,
          0.004919459185142837,
          0.0049152416496705785,
          0.004910955075834583,
          0.004906599248475918,
          0.0049021739606090785,
          0.004897679013481044,
          0.004893114216629113,
          0.004888479387937597,
          0.004883774353693277,
          0.004878998948639629,
          0.004874153016029776,
          0.004869236407678174,
          0.004864248984010937,
          0.004859190614114854,
          0.004854061175785026,
          0.004848860555571102,
          0.004843588648822105,
          0.004838245359729811,
          0.004832830601370677,
          0.004827344295746277,
          0.00482178637382219,
          0.004816156775565427,
          0.004810455449980239,
          0.004804682355142383,
          0.0047988374582317835,
          0.004792920735563586,
          0.004786932172617549,
          0.00478087176406582,
          0.004774739513799006,
          0.004768535434950565,
          0.004762259549919483,
          0.004755911890391247,
          0.004749492497357024,
          0.004743001421131141,
          0.0047364387213667605,
          0.00472980446706975,
          0.004723098736610789,
          0.0047163216177356256,
          0.004709473207573529,
          0.004702553612643863,
          0.004695562948860843,
          0.004688501341536415,
          0.004681368925381243,
          0.004674165844503834,
          0.004666892252407727,
          0.004659548311986852,
          0.004652134195518881,
          0.00464465008465674,
          0.004637096170418128,
          0.004629472653173165,
          0.004621779742630045,
          0.004614017657818779,
          0.004606186627072975,
          0.00459828688800967,
          0.004590318687507203,
          0.0045822822816811324,
          0.004574177935858185,
          0.004566005924548269,
          0.004557766531414484,
          0.004549460049241226,
          0.004541086779900257,
          0.0045326470343148954,
          0.004524141132422197,
          0.0045155694031332036,
          0.00450693218429123,
          0.004498229822628206,
          0.004489462673719095,
          0.004480631101934361,
          0.004471735480390498,
          0.004462776190898659,
          0.0044537536239113475,
          0.004444668178467216,
          0.004435520262133972,
          0.004426310290949371,
          0.004417038689360341,
          0.004407705890160265,
          0.00439831233442435,
          0.004388858471443206,
          0.0043793447586545796,
          0.004369771661573223,
          0.004360139653719026,
          0.004350449216543311,
          0.004340700839353365,
          0.004330895019235199,
          0.004321032260974603,
          0.00431111307697642,
          0.0043011379871821425,
          0.004291107518985805,
          0.004281022207148214,
          0.0042708825937095105,
          0.0042606892279001,
          0.004250442666049988,
          0.004240143471496481,
          0.004229792214490345,
          0.004219389472100428,
          0.004208935828116699,
          0.004198431872951837,
          0.004187878203541307,
          0.004177275423241993,
          0.004166624141729381,
          0.004155924974893352,
          0.004145178544732576,
          0.00413438547924755,
          0.004123546412332311,
          0.004112661983664838,
          0.004101732838596191,
          0.004090759628038352,
          0.004079743008350911,
          0.0040686836412265155,
          0.004057582193575151,
          0.004046439337407296,
          0.00403525574971599,
          0.004024032112357781,
          0.004012769111932652,
          0.004001467439662949,
          0.003990127791271261,
          0.003978750866857415,
          0.0039673373707745175,
          0.0039558880115040905,
          0.00394440350153036,
          0.003932884557213722,
          0.003921331898663428,
          0.003909746249609454,
          0.003898128337273695,
          0.003886478892240459,
          0.003874798648326252,
          0.003863088342448978,
          0.0038513487144965462,
          0.003839580507194879,
          0.0038277844659754183,
          0.0038159613388421445,
          0.003804111876238129,
          0.003792236830911647,
          0.003780336957781917,
          0.003768413013804508,
          0.003756465757836359,
          0.0037444959505005936,
          0.0037325043540510283,
          0.0037204917322364887,
          0.003708458850164931,
          0.003696406474167444,
          0.003684335371662118,
          0.003672246311017833,
          0.003660140061418032,
          0.0036480173927244722,
          0.0036358790753410015,
          0.003623725880077411,
          0.0036115585780133953,
          0.003599377940362604,
          0.0035871847383369205,
          0.003574979743010899,
          0.0035627637251864712,
          0.0035505374552578677,
          0.003538301703076947,
          0.0035260572378187616,
          0.0035138048278475454,
          0.0035015452405831103,
          0.003489279242367689,
          0.0034770075983332153,
          0.0034647310722691477,
          0.0034524504264908324,
          0.003440166421708417,
          0.0034278798168963787,
          0.003415591369163707,
          0.00340330183362474,
          0.003391011963270683,
          0.0033787225088418994,
          0.0033664342187009525,
          0.0033541478387064073,
          0.0033418641120875055,
          0.003329583779319676,
          0.003317307578000916,
          0.0033050362427290945,
          0.003292770504980221,
          0.003280511092987663,
          0.0032682587316223374,
          0.003256014142274012,
          0.003243778042733574,
          0.003231551147076433,
          0.0032193341655470144,
          0.00320712780444441,
          0.0031949327660091534,
          0.003182749748311224,
          0.003170579445139249,
          0.0031584225458909185,
          0.0031462797354647088,
          0.0031341516941528536,
          0.0031220390975356545,
          0.003109942616377081,
          0.0030978629165217815,
          0.003085800658793432,
          0.003073756498894482,
          0.003061731087307348,
          0.0030497250691970228,
          0.003037739084315149,
          0.003025773766905575,
          0.0030138297456114215,
          0.003001907643383631,
          0.0029900080773910868,
          0.002978131658932281,
          0.0029662789933485173,
          0.002954450679938748,
          0.002942647311875971,
          0.0029308694761252824,
          0.002919117753363517,
          0.0029073927179005805,
          0.0028956949376024127,
          0.0028840249738156247,
          0.0028723833812938377,
          0.0028607707081257116,
          0.00284918749566469,
          0.0028376342784604274,
          0.0028261115841920256,
          0.0028146199336029363,
          0.0028031598404376504,
          0.00279173181138014,
          0.0027803363459940776,
          0.002768973936664809,
          0.002757645068543128,
          0.002746350219490851,
          0.002735089860028142,
          0.002723864453282694,
          0.002712674454940678,
          0.0027015203131995403,
          0.0026904024687225488,
          0.0026793213545952405,
          0.0026682773962836337,
          0.00265727101159428,
          0.00264630261063614,
          0.0026353725957843042,
          0.0026244813616454967,
          0.0026136292950254556,
          0.002602816774898121,
          0.0025920441723766385,
          0.002581311850686187,
          0.0025706201651386736,
          0.002559969463109194,
          0.0025493600840143307,
          0.002538792359292273,
          0.002528266612384761,
          0.0025177831587207874,
          0.0025073423057021564,
          0.002496944352690811,
          0.0024865895909979446,
          0.0024762783038749154,
          0.0024660107665059328,
          0.0024557872460025114,
          0.002445608001399669,
          0.002435473283653924,
          0.0024253833356430014,
          0.002415338392167282,
          0.0024053386799529875,
          0.0023953844176570864,
          0.00238547581587389,
          0.0023756130771433624,
          0.002365796395961106,
          0.00235602595879003,
          0.0023463019440736555,
          0.002336624522251119,
          0.0023269938557737616,
          0.002317410099123373,
          0.002307873398832028,
          0.0022983838935035474,
          0.002288941713836501,
          0.0022795469826488077,
          0.0022701998149038975,
          0.0022609003177383622,
          0.00225164859049119,
          0.0022424447247344653,
          0.0022332888043055774,
          0.0022241809053408865,
          0.0022151210963108625,
          0.002206109438056671,
          0.0021971459838281485,
          0.0021882307793232164,
          0.0021793638627286755,
          0.0021705452647623477,
          0.002161775008716598,
          0.002153053110503171,
          0.0021443795786993502,
          0.0021357544145953864,
          0.0021271776122432544,
          0.002118649158506603,
          0.0021101690331119826
         ],
         "type": "scatter"
        }
       ],
       "layout": {
        "template": {
         "data": {
          "histogram2dcontour": [
           {
            "type": "histogram2dcontour",
            "colorbar": {
             "outlinewidth": 0,
             "ticks": ""
            },
            "colorscale": [
             [
              0.0,
              "#0d0887"
             ],
             [
              0.1111111111111111,
              "#46039f"
             ],
             [
              0.2222222222222222,
              "#7201a8"
             ],
             [
              0.3333333333333333,
              "#9c179e"
             ],
             [
              0.4444444444444444,
              "#bd3786"
             ],
             [
              0.5555555555555556,
              "#d8576b"
             ],
             [
              0.6666666666666666,
              "#ed7953"
             ],
             [
              0.7777777777777778,
              "#fb9f3a"
             ],
             [
              0.8888888888888888,
              "#fdca26"
             ],
             [
              1.0,
              "#f0f921"
             ]
            ]
           }
          ],
          "choropleth": [
           {
            "type": "choropleth",
            "colorbar": {
             "outlinewidth": 0,
             "ticks": ""
            }
           }
          ],
          "histogram2d": [
           {
            "type": "histogram2d",
            "colorbar": {
             "outlinewidth": 0,
             "ticks": ""
            },
            "colorscale": [
             [
              0.0,
              "#0d0887"
             ],
             [
              0.1111111111111111,
              "#46039f"
             ],
             [
              0.2222222222222222,
              "#7201a8"
             ],
             [
              0.3333333333333333,
              "#9c179e"
             ],
             [
              0.4444444444444444,
              "#bd3786"
             ],
             [
              0.5555555555555556,
              "#d8576b"
             ],
             [
              0.6666666666666666,
              "#ed7953"
             ],
             [
              0.7777777777777778,
              "#fb9f3a"
             ],
             [
              0.8888888888888888,
              "#fdca26"
             ],
             [
              1.0,
              "#f0f921"
             ]
            ]
           }
          ],
          "heatmap": [
           {
            "type": "heatmap",
            "colorbar": {
             "outlinewidth": 0,
             "ticks": ""
            },
            "colorscale": [
             [
              0.0,
              "#0d0887"
             ],
             [
              0.1111111111111111,
              "#46039f"
             ],
             [
              0.2222222222222222,
              "#7201a8"
             ],
             [
              0.3333333333333333,
              "#9c179e"
             ],
             [
              0.4444444444444444,
              "#bd3786"
             ],
             [
              0.5555555555555556,
              "#d8576b"
             ],
             [
              0.6666666666666666,
              "#ed7953"
             ],
             [
              0.7777777777777778,
              "#fb9f3a"
             ],
             [
              0.8888888888888888,
              "#fdca26"
             ],
             [
              1.0,
              "#f0f921"
             ]
            ]
           }
          ],
          "heatmapgl": [
           {
            "type": "heatmapgl",
            "colorbar": {
             "outlinewidth": 0,
             "ticks": ""
            },
            "colorscale": [
             [
              0.0,
              "#0d0887"
             ],
             [
              0.1111111111111111,
              "#46039f"
             ],
             [
              0.2222222222222222,
              "#7201a8"
             ],
             [
              0.3333333333333333,
              "#9c179e"
             ],
             [
              0.4444444444444444,
              "#bd3786"
             ],
             [
              0.5555555555555556,
              "#d8576b"
             ],
             [
              0.6666666666666666,
              "#ed7953"
             ],
             [
              0.7777777777777778,
              "#fb9f3a"
             ],
             [
              0.8888888888888888,
              "#fdca26"
             ],
             [
              1.0,
              "#f0f921"
             ]
            ]
           }
          ],
          "contourcarpet": [
           {
            "type": "contourcarpet",
            "colorbar": {
             "outlinewidth": 0,
             "ticks": ""
            }
           }
          ],
          "contour": [
           {
            "type": "contour",
            "colorbar": {
             "outlinewidth": 0,
             "ticks": ""
            },
            "colorscale": [
             [
              0.0,
              "#0d0887"
             ],
             [
              0.1111111111111111,
              "#46039f"
             ],
             [
              0.2222222222222222,
              "#7201a8"
             ],
             [
              0.3333333333333333,
              "#9c179e"
             ],
             [
              0.4444444444444444,
              "#bd3786"
             ],
             [
              0.5555555555555556,
              "#d8576b"
             ],
             [
              0.6666666666666666,
              "#ed7953"
             ],
             [
              0.7777777777777778,
              "#fb9f3a"
             ],
             [
              0.8888888888888888,
              "#fdca26"
             ],
             [
              1.0,
              "#f0f921"
             ]
            ]
           }
          ],
          "surface": [
           {
            "type": "surface",
            "colorbar": {
             "outlinewidth": 0,
             "ticks": ""
            },
            "colorscale": [
             [
              0.0,
              "#0d0887"
             ],
             [
              0.1111111111111111,
              "#46039f"
             ],
             [
              0.2222222222222222,
              "#7201a8"
             ],
             [
              0.3333333333333333,
              "#9c179e"
             ],
             [
              0.4444444444444444,
              "#bd3786"
             ],
             [
              0.5555555555555556,
              "#d8576b"
             ],
             [
              0.6666666666666666,
              "#ed7953"
             ],
             [
              0.7777777777777778,
              "#fb9f3a"
             ],
             [
              0.8888888888888888,
              "#fdca26"
             ],
             [
              1.0,
              "#f0f921"
             ]
            ]
           }
          ],
          "mesh3d": [
           {
            "type": "mesh3d",
            "colorbar": {
             "outlinewidth": 0,
             "ticks": ""
            }
           }
          ],
          "scatter": [
           {
            "fillpattern": {
             "fillmode": "overlay",
             "size": 10,
             "solidity": 0.2
            },
            "type": "scatter"
           }
          ],
          "parcoords": [
           {
            "type": "parcoords",
            "line": {
             "colorbar": {
              "outlinewidth": 0,
              "ticks": ""
             }
            }
           }
          ],
          "scatterpolargl": [
           {
            "type": "scatterpolargl",
            "marker": {
             "colorbar": {
              "outlinewidth": 0,
              "ticks": ""
             }
            }
           }
          ],
          "bar": [
           {
            "error_x": {
             "color": "#2a3f5f"
            },
            "error_y": {
             "color": "#2a3f5f"
            },
            "marker": {
             "line": {
              "color": "#E5ECF6",
              "width": 0.5
             },
             "pattern": {
              "fillmode": "overlay",
              "size": 10,
              "solidity": 0.2
             }
            },
            "type": "bar"
           }
          ],
          "scattergeo": [
           {
            "type": "scattergeo",
            "marker": {
             "colorbar": {
              "outlinewidth": 0,
              "ticks": ""
             }
            }
           }
          ],
          "scatterpolar": [
           {
            "type": "scatterpolar",
            "marker": {
             "colorbar": {
              "outlinewidth": 0,
              "ticks": ""
             }
            }
           }
          ],
          "histogram": [
           {
            "marker": {
             "pattern": {
              "fillmode": "overlay",
              "size": 10,
              "solidity": 0.2
             }
            },
            "type": "histogram"
           }
          ],
          "scattergl": [
           {
            "type": "scattergl",
            "marker": {
             "colorbar": {
              "outlinewidth": 0,
              "ticks": ""
             }
            }
           }
          ],
          "scatter3d": [
           {
            "type": "scatter3d",
            "line": {
             "colorbar": {
              "outlinewidth": 0,
              "ticks": ""
             }
            },
            "marker": {
             "colorbar": {
              "outlinewidth": 0,
              "ticks": ""
             }
            }
           }
          ],
          "scattermapbox": [
           {
            "type": "scattermapbox",
            "marker": {
             "colorbar": {
              "outlinewidth": 0,
              "ticks": ""
             }
            }
           }
          ],
          "scatterternary": [
           {
            "type": "scatterternary",
            "marker": {
             "colorbar": {
              "outlinewidth": 0,
              "ticks": ""
             }
            }
           }
          ],
          "scattercarpet": [
           {
            "type": "scattercarpet",
            "marker": {
             "colorbar": {
              "outlinewidth": 0,
              "ticks": ""
             }
            }
           }
          ],
          "carpet": [
           {
            "aaxis": {
             "endlinecolor": "#2a3f5f",
             "gridcolor": "white",
             "linecolor": "white",
             "minorgridcolor": "white",
             "startlinecolor": "#2a3f5f"
            },
            "baxis": {
             "endlinecolor": "#2a3f5f",
             "gridcolor": "white",
             "linecolor": "white",
             "minorgridcolor": "white",
             "startlinecolor": "#2a3f5f"
            },
            "type": "carpet"
           }
          ],
          "table": [
           {
            "cells": {
             "fill": {
              "color": "#EBF0F8"
             },
             "line": {
              "color": "white"
             }
            },
            "header": {
             "fill": {
              "color": "#C8D4E3"
             },
             "line": {
              "color": "white"
             }
            },
            "type": "table"
           }
          ],
          "barpolar": [
           {
            "marker": {
             "line": {
              "color": "#E5ECF6",
              "width": 0.5
             },
             "pattern": {
              "fillmode": "overlay",
              "size": 10,
              "solidity": 0.2
             }
            },
            "type": "barpolar"
           }
          ],
          "pie": [
           {
            "automargin": true,
            "type": "pie"
           }
          ]
         },
         "layout": {
          "autotypenumbers": "strict",
          "colorway": [
           "#636efa",
           "#EF553B",
           "#00cc96",
           "#ab63fa",
           "#FFA15A",
           "#19d3f3",
           "#FF6692",
           "#B6E880",
           "#FF97FF",
           "#FECB52"
          ],
          "font": {
           "color": "#2a3f5f"
          },
          "hovermode": "closest",
          "hoverlabel": {
           "align": "left"
          },
          "paper_bgcolor": "white",
          "plot_bgcolor": "#E5ECF6",
          "polar": {
           "bgcolor": "#E5ECF6",
           "angularaxis": {
            "gridcolor": "white",
            "linecolor": "white",
            "ticks": ""
           },
           "radialaxis": {
            "gridcolor": "white",
            "linecolor": "white",
            "ticks": ""
           }
          },
          "ternary": {
           "bgcolor": "#E5ECF6",
           "aaxis": {
            "gridcolor": "white",
            "linecolor": "white",
            "ticks": ""
           },
           "baxis": {
            "gridcolor": "white",
            "linecolor": "white",
            "ticks": ""
           },
           "caxis": {
            "gridcolor": "white",
            "linecolor": "white",
            "ticks": ""
           }
          },
          "coloraxis": {
           "colorbar": {
            "outlinewidth": 0,
            "ticks": ""
           }
          },
          "colorscale": {
           "sequential": [
            [
             0.0,
             "#0d0887"
            ],
            [
             0.1111111111111111,
             "#46039f"
            ],
            [
             0.2222222222222222,
             "#7201a8"
            ],
            [
             0.3333333333333333,
             "#9c179e"
            ],
            [
             0.4444444444444444,
             "#bd3786"
            ],
            [
             0.5555555555555556,
             "#d8576b"
            ],
            [
             0.6666666666666666,
             "#ed7953"
            ],
            [
             0.7777777777777778,
             "#fb9f3a"
            ],
            [
             0.8888888888888888,
             "#fdca26"
            ],
            [
             1.0,
             "#f0f921"
            ]
           ],
           "sequentialminus": [
            [
             0.0,
             "#0d0887"
            ],
            [
             0.1111111111111111,
             "#46039f"
            ],
            [
             0.2222222222222222,
             "#7201a8"
            ],
            [
             0.3333333333333333,
             "#9c179e"
            ],
            [
             0.4444444444444444,
             "#bd3786"
            ],
            [
             0.5555555555555556,
             "#d8576b"
            ],
            [
             0.6666666666666666,
             "#ed7953"
            ],
            [
             0.7777777777777778,
             "#fb9f3a"
            ],
            [
             0.8888888888888888,
             "#fdca26"
            ],
            [
             1.0,
             "#f0f921"
            ]
           ],
           "diverging": [
            [
             0,
             "#8e0152"
            ],
            [
             0.1,
             "#c51b7d"
            ],
            [
             0.2,
             "#de77ae"
            ],
            [
             0.3,
             "#f1b6da"
            ],
            [
             0.4,
             "#fde0ef"
            ],
            [
             0.5,
             "#f7f7f7"
            ],
            [
             0.6,
             "#e6f5d0"
            ],
            [
             0.7,
             "#b8e186"
            ],
            [
             0.8,
             "#7fbc41"
            ],
            [
             0.9,
             "#4d9221"
            ],
            [
             1,
             "#276419"
            ]
           ]
          },
          "xaxis": {
           "gridcolor": "white",
           "linecolor": "white",
           "ticks": "",
           "title": {
            "standoff": 15
           },
           "zerolinecolor": "white",
           "automargin": true,
           "zerolinewidth": 2
          },
          "yaxis": {
           "gridcolor": "white",
           "linecolor": "white",
           "ticks": "",
           "title": {
            "standoff": 15
           },
           "zerolinecolor": "white",
           "automargin": true,
           "zerolinewidth": 2
          },
          "scene": {
           "xaxis": {
            "backgroundcolor": "#E5ECF6",
            "gridcolor": "white",
            "linecolor": "white",
            "showbackground": true,
            "ticks": "",
            "zerolinecolor": "white",
            "gridwidth": 2
           },
           "yaxis": {
            "backgroundcolor": "#E5ECF6",
            "gridcolor": "white",
            "linecolor": "white",
            "showbackground": true,
            "ticks": "",
            "zerolinecolor": "white",
            "gridwidth": 2
           },
           "zaxis": {
            "backgroundcolor": "#E5ECF6",
            "gridcolor": "white",
            "linecolor": "white",
            "showbackground": true,
            "ticks": "",
            "zerolinecolor": "white",
            "gridwidth": 2
           }
          },
          "shapedefaults": {
           "line": {
            "color": "#2a3f5f"
           }
          },
          "annotationdefaults": {
           "arrowcolor": "#2a3f5f",
           "arrowhead": 0,
           "arrowwidth": 1
          },
          "geo": {
           "bgcolor": "white",
           "landcolor": "#E5ECF6",
           "subunitcolor": "white",
           "showland": true,
           "showlakes": true,
           "lakecolor": "white"
          },
          "title": {
           "x": 0.05
          },
          "mapbox": {
           "style": "light"
          }
         }
        },
        "title": {
         "text": "1D KDE Plot"
        },
        "xaxis": {
         "title": {
          "text": "Stitch duration [s]"
         }
        },
        "yaxis": {
         "title": {
          "text": "Density"
         }
        }
       },
       "config": {
        "plotlyServerURL": "https://plot.ly"
       }
      },
      "text/html": [
       "<div>                            <div id=\"db6e6172-01e2-4758-af07-b91c12bba1a3\" class=\"plotly-graph-div\" style=\"height:525px; width:100%;\"></div>            <script type=\"text/javascript\">                require([\"plotly\"], function(Plotly) {                    window.PLOTLYENV=window.PLOTLYENV || {};                                    if (document.getElementById(\"db6e6172-01e2-4758-af07-b91c12bba1a3\")) {                    Plotly.newPlot(                        \"db6e6172-01e2-4758-af07-b91c12bba1a3\",                        [{\"mode\":\"lines\",\"name\":\"KDE\",\"x\":[41.553333331000005,41.662989653992,41.77264597698399,41.88230229997598,41.99195862296797,42.101614945959966,42.211271268951954,42.32092759194395,42.43058391493594,42.54024023792793,42.64989656091993,42.759552883911915,42.86920920690391,42.9788655298959,43.088521852887894,43.19817817587988,43.30783449887188,43.41749082186387,43.52714714485586,43.636803467847855,43.74645979083984,43.85611611383184,43.965772436823826,44.07542875981582,44.18508508280782,44.294741405799805,44.4043977287918,44.51405405178379,44.62371037477578,44.73336669776777,44.843023020759766,44.952679343751754,45.06233566674375,45.171991989735744,45.28164831272773,45.39130463571973,45.500960958711715,45.61061728170371,45.7202736046957,45.829929927687694,45.93958625067968,46.04924257367168,46.15889889666367,46.26855521965566,46.378211542647655,46.48786786563964,46.59752418863164,46.70718051162363,46.81683683461562,46.92649315760761,47.036149480599605,47.1458058035916,47.25546212658359,47.36511844957558,47.47477477256757,47.584431095559566,47.69408741855156,47.80374374154355,47.913400064535544,48.02305638752753,48.13271271051953,48.242369033511515,48.35202535650351,48.4616816794955,48.571338002487494,48.68099432547949,48.79065064847148,48.90030697146347,49.00996329445546,49.119619617447455,49.22927594043944,49.33893226343144,49.448588586423426,49.55824490941542,49.66790123240742,49.777557555399405,49.8872138783914,49.99687020138339,50.10652652437538,50.21618284736738,50.325839170359366,50.435495493351354,50.54515181634335,50.654808139335344,50.76446446232733,50.87412078531933,50.983777108311315,51.09343343130331,51.203089754295306,51.312746077287294,51.42240240027928,51.53205872327128,51.64171504626327,51.75137136925526,51.861027692247255,51.97068401523924,52.08034033823124,52.18999666122323,52.29965298421522,52.40930930720722,52.518965630199204,52.6286219531912,52.738278276183195,52.84793459917518,52.95759092216717,53.067247245159166,53.17690356815116,53.28655989114315,53.396216214135144,53.50587253712713,53.61552886011913,53.72518518311112,53.83484150610311,53.9444978290951,54.054154152087094,54.16381047507909,54.27346679807108,54.38312312106307,54.49277944405506,54.602435767047055,54.71209209003905,54.82174841303104,54.931404736023026,55.04106105901502,55.15071738200702,55.260373704999004,55.370030027991,55.47968635098299,55.58934267397498,55.69899899696698,55.808655319958966,55.91831164295096,56.02796796594295,56.137624288934944,56.24728061192694,56.35693693491893,56.466593257910915,56.57624958090291,56.685905903894906,56.795562226886894,56.90521854987889,57.01487487287088,57.12453119586287,57.23418751885487,57.343843841846855,57.45350016483884,57.56315648783084,57.67281281082283,57.78246913381482,57.892125456806816,58.001781779798804,58.1114381027908,58.221094425782795,58.33075074877478,58.44040707176677,58.550063394758766,58.65971971775076,58.769376040742756,58.879032363734744,58.98868868672673,59.09834500971873,59.20800133271072,59.31765765570271,59.4273139786947,59.536970301686694,59.64662662467869,59.756282947670684,59.86593927066267,59.97559559365466,60.085251916646655,60.19490823963865,60.30456456263064,60.41422088562263,60.52387720861462,60.633533531606616,60.74318985459861,60.8528461775906,60.96250250058259,61.07215882357458,61.18181514656658,61.291471469558566,61.40112779255056,61.51078411554255,61.620440438534544,61.73009676152654,61.83975308451853,61.949409407510515,62.05906573050251,62.168722053494506,62.2783783764865,62.38803469947849,62.49769102247048,62.60734734546247,62.71700366845447,62.826659991446455,62.93631631443844,63.04597263743044,63.15562896042243,63.26528528341443,63.374941606406416,63.484597929398404,63.5942542523904,63.703910575382395,63.81356689837438,63.92322322136638,64.03287954435837,64.14253586735036,64.25219219034236,64.36184851333434,64.47150483632633,64.58116115931833,64.69081748231032,64.80047380530232,64.9101301282943,65.0197864512863,65.12944277427829,65.23909909727028,65.34875542026228,65.45841174325426,65.56806806624625,65.67772438923825,65.78738071223025,65.89703703522224,66.00669335821422,66.11634968120622,66.22600600419821,66.33566232719019,66.44531865018219,66.55497497317418,66.66463129616618,66.77428761915817,66.88394394215015,66.99360026514215,67.10325658813414,67.21291291112614,67.32256923411813,67.43222555711012,67.54188188010211,67.6515382030941,67.7611945260861,67.8708508490781,67.98050717207008,68.09016349506207,68.19981981805407,68.30947614104605,68.41913246403806,68.52878878703004,68.63844511002203,68.74810143301403,68.85775775600601,68.967414078998,69.07707040199,69.186726724982,69.29638304797399,69.40603937096597,69.51569569395797,69.62535201694996,69.73500833994196,69.84466466293395,69.95432098592593,70.06397730891793,70.17363363190992,70.28328995490192,70.39294627789391,70.5026026008859,70.61225892387789,70.72191524686988,70.83157156986186,70.94122789285387,71.05088421584585,71.16054053883785,71.27019686182985,71.37985318482183,71.48950950781382,71.59916583080582,71.70882215379781,71.8184784767898,71.92813479978179,72.03779112277378,72.14744744576578,72.25710376875777,72.36676009174977,72.47641641474175,72.58607273773374,72.69572906072574,72.80538538371773,72.91504170670973,73.02469802970171,73.1343543526937,73.2440106756857,73.35366699867768,73.46332332166968,73.57297964466167,73.68263596765367,73.79229229064566,73.90194861363764,74.01160493662964,74.12126125962163,74.23091758261363,74.34057390560562,74.4502302285976,74.5598865515896,74.6695428745816,74.77919919757358,74.88885552056558,74.99851184355757,75.10816816654956,75.21782448954156,75.32748081253354,75.43713713552555,75.54679345851753,75.65644978150952,75.76610610450152,75.8757624274935,75.98541875048551,76.09507507347749,76.20473139646948,76.31438771946148,76.42404404245346,76.53370036544545,76.64335668843745,76.75301301142945,76.86266933442144,76.97232565741342,77.08198198040542,77.19163830339741,77.30129462638939,77.4109509493814,77.52060727237338,77.63026359536538,77.73991991835737,77.84957624134935,77.95923256434136,78.06888888733334,78.17854521032534,78.28820153331733,78.39785785630932,78.50751417930132,78.6171705022933,78.7268268252853,78.8364831482773,78.94613947126928,79.05579579426127,79.16545211725327,79.27510844024526,79.38476476323726,79.49442108622924,79.60407740922123,79.71373373221323,79.82339005520521,79.93304637819722,80.0427027011892,80.1523590241812,80.26201534717319,80.37167167016517,80.48132799315718,80.59098431614916,80.70064063914116,80.81029696213315,80.91995328512513,81.02960960811713,81.13926593110912,81.24892225410112,81.35857857709311,81.4682349000851,81.57789122307709,81.68754754606908,81.79720386906106,81.90686019205307,82.01651651504505,82.12617283803705,82.23582916102905,82.34548548402103,82.45514180701304,82.56479813000502,82.67445445299701,82.784110775989,82.89376709898099,83.003423421973,83.11307974496498,83.22273606795697,83.33239239094897,83.44204871394095,83.55170503693294,83.66136135992494,83.77101768291693,83.88067400590893,83.99033032890091,84.0999866518929,84.2096429748849,84.31929929787688,84.42895562086889,84.53861194386087,84.64826826685287,84.75792458984486,84.86758091283684,84.97723723582885,85.08689355882083,85.19654988181283,85.30620620480482,85.4158625277968,85.52551885078881,85.6351751737808,85.74483149677279,85.85448781976478,85.96414414275677,86.07380046574876,86.18345678874076,86.29311311173275,86.40276943472475,86.51242575771673,86.62208208070872,86.73173840370072,86.8413947266927,86.95105104968471,87.06070737267669,87.17036369566868,87.28002001866068,87.38967634165266,87.49933266464467,87.60898898763665,87.71864531062865,87.82830163362064,87.93795795661262,88.04761427960462,88.15727060259661,88.2669269255886,88.3765832485806,88.48623957157258,88.59589589456458,88.70555221755657,88.81520854054855,88.92486486354056,89.03452118653254,89.14417750952454,89.25383383251653,89.36349015550852,89.47314647850052,89.5828028014925,89.6924591244845,89.8021154474765,89.91177177046848,90.02142809346049,90.13108441645247,90.24074073944446,90.35039706243646,90.46005338542844,90.56970970842043,90.67936603141243,90.78902235440442,90.89867867739642,91.0083350003884,91.1179913233804,91.22764764637239,91.33730396936437,91.44696029235638,91.55661661534836,91.66627293834036,91.77592926133235,91.88558558432433,91.99524190731634,92.10489823030832,92.21455455330032,92.32421087629231,92.4338671992843,92.5435235222763,92.65317984526828,92.76283616826028,92.87249249125227,92.98214881424425,93.09180513723625,93.20146146022824,93.31111778322024,93.42077410621224,93.53043042920422,93.64008675219621,93.7497430751882,93.85939939818019,93.9690557211722,94.07871204416418,94.18836836715617,94.29802469014817,94.40768101314015,94.51733733613216,94.62699365912414,94.73664998211613,94.84630630510813,94.95596262810011,95.0656189510921,95.1752752740841,95.2849315970761,95.39458792006809,95.50424424306007,95.61390056605207,95.72355688904406,95.83321321203604,95.94286953502805,96.05252585802003,96.16218218101203,96.27183850400402,96.381494826996,96.49115114998801,96.60080747298,96.71046379597199,96.82012011896398,96.92977644195597,97.03943276494797,97.14908908793996,97.25874541093195,97.36840173392395,97.47805805691593,97.58771437990792,97.69737070289992,97.80702702589191,97.91668334888391,98.02633967187589,98.13599599486788,98.24565231785988,98.35530864085186,98.46496496384387,98.57462128683585,98.68427760982784,98.79393393281984,98.90359025581182,99.01324657880383,99.12290290179581,99.2325592247878,99.3422155477798,99.45187187077178,99.56152819376379,99.67118451675577,99.78084083974777,99.89049716273976,100.00015348573174,100.10980980872374,100.21946613171573,100.32912245470773,100.43877877769972,100.5484351006917,100.6580914236837,100.7677477466757,100.87740406966768,100.98706039265969,101.09671671565167,101.20637303864366,101.31602936163566,101.42568568462764,101.53534200761965,101.64499833061163,101.75465465360362,101.86431097659562,101.9739672995876,102.0836236225796,102.19327994557159,102.30293626856358,102.41259259155558,102.52224891454756,102.63190523753956,102.74156156053155,102.85121788352353,102.96087420651554,103.07053052950752,103.18018685249952,103.28984317549151,103.3994994984835,103.5091558214755,103.61881214446748,103.72846846745948,103.83812479045147,103.94778111344345,104.05743743643546,104.16709375942744,104.27675008241944,104.38640640541144,104.49606272840342,104.60571905139541,104.7153753743874,104.8250316973794,104.9346880203714,105.04434434336338,105.15400066635537,105.26365698934737,105.37331331233935,105.48296963533136,105.59262595832334,105.70228228131533,105.81193860430733,105.92159492729932,106.0312512502913,106.1409075732833,106.2505638962753,106.36022021926729,106.46987654225927,106.57953286525127,106.68918918824326,106.79884551123526,106.90850183422725,107.01815815721923,107.12781448021123,107.23747080320322,107.34712712619522,107.45678344918721,107.5664397721792,107.67609609517119,107.78575241816318,107.89540874115518,108.00506506414716,108.11472138713916,108.22437771013115,108.33403403312315,108.44369035611514,108.55334667910712,108.66300300209912,108.77265932509111,108.88231564808311,108.99197197107509,109.10162829406708,109.21128461705908,109.32094094005107,109.43059726304307,109.54025358603505,109.64990990902704,109.75956623201904,109.86922255501104,109.97887887800303,110.08853520099501,110.198191523987,110.307847846979,110.417504169971,110.52716049296298,110.63681681595497,110.74647313894697,110.85612946193896,110.96578578493096,111.07544210792294,111.18509843091493,111.29475475390693,111.40441107689892,111.5140673998909,111.6237237228829,111.7333800458749,111.84303636886689,111.95269269185889,112.06234901485087,112.17200533784286,112.28166166083486,112.39131798382685,112.50097430681883,112.61063062981083,112.72028695280282,112.82994327579482,112.93959959878681,113.0492559217788,113.15891224477079,113.26856856776278,113.37822489075478,113.48788121374676,113.59753753673876,113.70719385973075,113.81685018272275,113.92650650571474,114.03616282870672,114.14581915169872,114.25547547469071,114.36513179768271,114.4747881206747,114.58444444366668,114.69410076665868,114.80375708965067,114.91341341264267,115.02306973563465,115.13272605862664,115.24238238161864,115.35203870461064,115.46169502760263,115.57135135059461,115.6810076735866,115.7906639965786,115.9003203195706,116.00997664256258,116.11963296555457,116.22928928854657,116.33894561153856,116.44860193453056,116.55825825752254,116.66791458051453,116.77757090350653,116.88722722649852,116.99688354949052,117.1065398724825,117.2161961954745,117.32585251846649,117.43550884145849,117.54516516445047,117.65482148744246,117.76447781043446,117.87413413342645,117.98379045641845,118.09344677941043,118.20310310240242,118.31275942539442,118.42241574838641,118.5320720713784,118.64172839437039,118.75138471736238,118.86104104035438,118.97069736334637,119.08035368633836,119.19001000933035,119.29966633232235,119.40932265531434,119.51897897830632,119.62863530129832,119.73829162429031,119.84794794728231,119.9576042702743,120.06726059326628,120.17691691625828,120.28657323925027,120.39622956224227,120.50588588523425,120.61554220822624,120.72519853121824,120.83485485421023,120.94451117720223,121.05416750019421,121.1638238231862,121.2734801461782,121.3831364691702,121.49279279216219,121.60244911515417,121.71210543814617,121.82176176113816,121.93141808413016,122.04107440712214,122.15073073011413,122.26038705310613,122.37004337609812,122.47969969909012,122.5893560220821,122.6990123450741,122.80866866806609,122.91832499105809,123.02798131405007,123.13763763704206,123.24729396003406,123.35695028302605,123.46660660601805,123.57626292901003,123.68591925200202,123.79557557499402,123.90523189798601,124.01488822097801,124.12454454396999,124.23420086696198,124.34385718995398,124.45351351294597,124.56316983593796,124.67282615892995,124.78248248192195,124.89213880491394,125.00179512790594,125.11145145089792,125.22110777388991,125.33076409688191,125.4404204198739,125.55007674286588,125.65973306585788,125.76938938884987,125.87904571184187,125.98870203483386,126.09835835782584,126.20801468081784,126.31767100380983,126.42732732680183,126.53698364979381,126.6466399727858,126.7562962957778,126.8659526187698,126.97560894176179,127.08526526475377,127.19492158774577,127.30457791073776,127.41423423372976,127.52389055672174,127.63354687971373,127.74320320270573,127.85285952569772,127.96251584868972,128.0721721716817,128.1818284946737,128.2914848176657,128.40114114065767,128.51079746364968,128.62045378664166,128.73011010963364,128.83976643262565,128.94942275561766,129.0590790786096,129.16873540160162,129.27839172459363,129.3880480475856,129.4977043705776,129.6073606935696,129.71701701656158,129.82667333955357,129.93632966254557,130.04598598553756,130.15564230852954,130.26529863152155,130.37495495451356,130.48461127750554,130.59426760049752,130.70392392348953,130.8135802464815,130.9232365694735,131.0328928924655,131.14254921545748,131.25220553844946,131.36186186144147,131.47151818443348,131.58117450742543,131.69083083041744,131.80048715340945,131.91014347640143,132.0197997993934,132.12945612238542,132.2391124453774,132.34876876836938,132.4584250913614,132.56808141435337,132.67773773734535,132.78739406033736,132.89705038332937,133.00670670632135,133.11636302931333,133.22601935230534,133.33567567529732,133.4453319982893,133.55498832128131,133.6646446442733,133.77430096726528,133.88395729025729,133.9936136132493,134.10326993624125,134.21292625923326,134.32258258222527,134.43223890521725,134.54189522820923,134.65155155120124,134.76120787419322,134.8708641971852,134.9805205201772,135.0901768431692,135.19983316616117,135.30948948915318,135.4191458121452,135.52880213513717,135.63845845812915,135.74811478112116,135.85777110411314,135.96742742710512,136.07708375009713,136.1867400730891,136.2963963960811,136.4060527190731,136.5157090420651,136.62536536505706,136.73502168804907,136.84467801104108,136.95433433403306,137.06399065702504,137.17364698001705,137.28330330300903,137.39295962600102,137.50261594899303,137.612272271985,137.721928594977,137.831584917969,137.941241240961,138.050897563953,138.16055388694497,138.27021020993698,138.37986653292896,138.48952285592094,138.59917917891295,138.70883550190493,138.8184918248969,138.92814814788892,139.03780447088093,139.14746079387288,139.2571171168649,139.3667734398569,139.47642976284888,139.58608608584086,139.69574240883287,139.80539873182485,139.91505505481683,140.02471137780884,140.13436770080082,140.2440240237928,140.3536803467848,140.46333666977682,140.57299299276877,140.68264931576078,140.7923056387528,140.90196196174477,141.01161828473676,141.12127460772876,141.23093093072075,141.34058725371273,141.45024357670474,141.55989989969672,141.6695562226887,141.7792125456807,141.88886886867272,141.9985251916647,142.10818151465668,142.2178378376487,142.32749416064067,142.43715048363265,142.54680680662466,142.65646312961664,142.76611945260862,142.87577577560063,142.98543209859264,143.0950884215846,143.2047447445766,143.3144010675686,143.4240573905606,143.53371371355257,143.64337003654458,143.75302635953656,143.86268268252854,143.97233900552055,144.08199532851253,144.19165165150451,144.30130797449652,144.41096429748853,144.5206206204805,144.6302769434725,144.7399332664645,144.84958958945649,144.95924591244847,145.06890223544048,145.17855855843246,145.28821488142444,145.39787120441645,145.50752752740846,145.6171838504004,145.72684017339242,145.83649649638443,145.9461528193764,146.0558091423684,146.1654654653604,146.27512178835238,146.38477811134436,146.49443443433637,146.60409075732835,146.71374708032033,146.82340340331234,146.93305972630435,147.04271604929633,147.1523723722883,147.26202869528032,147.3716850182723,147.48134134126428,147.5909976642563,147.70065398724827,147.81031031024025,147.91996663323226,148.02962295622427,148.13927927921623,148.24893560220823,148.35859192520024,148.46824824819222,148.5779045711842,148.68756089417622,148.7972172171682,148.90687354016018,149.0165298631522,149.12618618614417,149.23584250913615,149.34549883212816,149.45515515512017,149.56481147811215,149.67446780110413,149.78412412409614,149.89378044708812,150.0034367700801,150.1130930930721,150.2227494160641,150.33240573905607,150.44206206204808,150.5517183850401,150.66137470803204,150.77103103102405,150.88068735401606,150.99034367700804,151.10000000000002],\"y\":[0.011779083883023468,0.011816730824491152,0.011854068421460025,0.011891093258882502,0.011927801951231685,0.01196419114311584,0.012000257509888262,0.012035997758252582,0.012071408626863121,0.01210648688692024,0.012141229342760552,0.012175632832441812,0.012209694228322339,0.012243410437634744,0.012276778403053983,0.012309795103259358,0.012342457553490574,0.012374762806097405,0.012406707951083173,0.012438290116641508,0.012469506469686639,0.012500354216376715,0.012530830602630282,0.012560932914635685,0.012590658479353102,0.012620004665009517,0.012648968881585856,0.012677548581296773,0.012705741259062587,0.012733544452973334,0.01276095574474482,0.01278797276016666,0.012814593169541895,0.012840814688118407,0.012866635076511743,0.012892052141119497,0.012917063734526769,0.01294166775590305,0.012965862151390043,0.012989644914480425,0.01301301408638772,0.013035967756406584,0.01305850406226412,0.013080621190461595,0.013102317376606585,0.013123590905735753,0.013144440112627692,0.013164863382106155,0.013184859149333442,0.01320442590009368,0.013223562171066367,0.013242266550089588,0.013260537676413253,0.013278374240942022,0.013295774986468044,0.013312738707893198,0.01332926425244112,0.013345350519858652,0.013360996462606791,0.01337620108604116,0.013390963448581747,0.013405282661872091,0.013419157890927772,0.013432588354274107,0.01344557332407314,0.013458112126239822,0.013470204140547344,0.013481848800721657,0.013493045594525117,0.013503794063829158,0.013514093804676195,0.013523944467330476,0.013533345756318075,0.013542297430455947,0.013550799302869976,0.013558851241002165,0.013566453166606797,0.013573605055735731,0.013580306938712766,0.013586558900097006,0.013592361078635453,0.013597713667204539,0.013602616912741047,0.013607071116161907,0.013611076632273412,0.013614633869669506,0.013617743290619402,0.013620405410944435,0.013622620799884293,0.013624390079952566,0.013625713926781753,0.013626593068957638,0.013627028287843344,0.013627020417392777,0.013626570343953802,0.013625679006061037,0.013624347394218472,0.013622576550671799,0.013620367569170679,0.013617721594720944,0.01361463982332687,0.013611123501723395,0.013607173927098754,0.01360279244680711,0.013597980458071753,0.01359273940767863,0.013587070791660313,0.013580976154970786,0.013574457091150738,0.013567515241983767,0.013560152297143486,0.013552369993831597,0.013544170116407054,0.013535554496006567,0.013526525010156236,0.013517083582374799,0.013507232181768384,0.013496972822616792,0.013486307563951796,0.013475238509127149,0.013463767805380703,0.013451897643388671,0.013439630256812135,0.013426967921836,0.013413912956700426,0.013400467721224945,0.013386634616325383,0.013372416083523752,0.013357814604451079,0.01334283270034354,0.013327472931531996,0.013311737896924816,0.013295630233484538,0.0132791526156982,0.013262307755041518,0.013245098399437313,0.01322752733270798,0.013209597374022383,0.013191311377337266,0.013172672230833338,0.013153682856346115,0.01313434620879179,0.013114665275588177,0.013094643076070972,0.013074282660905434,0.01305358711149364,0.013032559539377521,0.013011203085637744,0.012989520920288754,0.012967516241669943,0.012945192275833276,0.012922552275927405,0.012899599521578554,0.012876337318268205,0.012852768996707875,0.012828897912211016,0.01280472744406234,0.01278026099488462,0.012755501990003176,0.012730453876808169,0.012705120124115014,0.012679504221522751,0.012653609678770992,0.012627440025095148,0.01260099880858044,0.012574289595514643,0.012547315969739858,0.012520081532003388,0.01249258989930792,0.01246484470426118,0.012436849594425146,0.012408608231665121,0.012380124291498658,0.012351401462444622,0.012322443445372479,0.012293253952852008,0.012263836708503548,0.012234195446348971,0.0122043339101635,0.012174255852828598,0.012143965035685982,0.01211346522789295,0.012082760205779218,0.012051853752205379,0.012020749655923058,0.011989451710937078,0.011957963715869586,0.011926289473326489,0.011894432789266135,0.011862397472370497,0.011830187333419041,0.011797806184665326,0.011765257839216413,0.011732546110415475,0.01169967481122743,0.011666647753627937,0.011633468747995776,0.011600141602508931,0.01156667012254408,0.011533058110080189,0.011499309363105843,0.011465427675030705,0.011431416834101165,0.011397280622820223,0.011363022817371834,0.011328647187049734,0.011294157493690955,0.011259557491114002,0.011224850924561994,0.011190041530150643,0.011155133034321394,0.011120129153299711,0.01108503359255857,0.011049850046287382,0.011014582196866404,0.010979233714346557,0.010943808255935128,0.010908309465486954,0.010872740973001649,0.010837106394126574,0.010801409329665921,0.010765653365095804,0.010729842070085531,0.010693978998025109,0.01065806768555899,0.010622111652126337,0.010586114399507579,0.010550079411377561,0.01051401015286529,0.010477910070120269,0.010441782589885568,0.010405631119077656,0.010369459044373025,0.010333269731801738,0.010297066526347862,0.010260852751556847,0.010224631709150007,0.010188406678645994,0.010152180916989413,0.010115957658186575,0.01007974011294843,0.010043531468340739,0.010007334887441485,0.009971153509005565,0.009934990447136818,0.009898848790967387,0.009862731604344423,0.009826641925524189,0.009790582766873614,0.009754557114579187,0.009718567928363356,0.009682618141208368,0.009646710659087555,0.009610848360704102,0.009575034097237327,0.009539270692096338,0.009503560940681341,0.00946790761015227,0.009432313439205068,0.009396781137855224,0.009361313387229054,0.009325912839362224,0.009290582117005827,0.009255323813439941,0.00922014049229452,0.009185034687377767,0.009150008902511865,0.009115065611376164,0.009080207257357547,0.00904543625340837,0.009010754981911458,0.008976165794552576,0.00894167101220003,0.008907272924791498,0.008872973791228107,0.008838775839275597,0.00880468126547261,0.008770692235046071,0.008736810881833569,0.008703039308212769,0.008669379585037764,0.008635833751582288,0.008602403815489882,0.00856909175273073,0.008535899507565413,0.008502828992515265,0.008469882088339414,0.008437060644018462,0.008404366476744663,0.008371801371918616,0.008339367083152421,0.008307065332279165,0.008274897809368765,0.008242866172750022,0.008210972049038912,0.008179217033172974,0.008147602688451768,0.008116130546583345,0.008084802107736622,0.008053618840599634,0.008022582182443564,0.007991693539192508,0.007960954285498872,0.00793036576482438,0.007899929289526516,0.007869646140950506,0.007839517569526517,0.00780954479487225,0.007779729005900689,0.007750071360932942,0.007720572987816203,0.0076912349840466,0.007662058416897007,0.007633044323549602,0.007604193711233171,0.00757550755736508,0.007546986809697786,0.007518632386469836,0.00749044517656126,0.007462426039653283,0.007434575806392283,0.00740689527855785,0.007379385229234976,0.00735204640299017,0.007324879516051464,0.007297885256492274,0.007271064284418936,0.007244417232161893,0.007217944704470451,0.007191647278710949,0.007165525505068351,0.007139579906751155,0.00711381098019938,0.007088219195295863,0.007062804995580379,0.007037568798466886,0.007012510995463508,0.006987631952395327,0.006962932009629908,0.006938411482305325,0.0069140706605607775,0.0068899098097696156,0.006865929170774689,0.006842128960125947,0.006818509370320243,0.006795070570043202,0.0067718127044130655,0.006748735895226489,0.006725840241206158,0.006703125818250135,0.006680592679682873,0.006658240856507865,0.0066360703576616754,0.006614081170269501,0.006592273259902013,0.006570646570833431,0.006549201026300848,0.006527936528764512,0.00650685296016928,0.006485950182206864,0.006465228036579006,0.0064446863452614234,0.006424324910768423,0.006404143516418141,0.0063841419265983695,0.006364319887032768,0.006344677125047566,0.006325213349838526,0.006305928252738126,0.006286821507483017,0.006267892770481474,0.00624914168108093,0.006230567861835461,0.006212170918773167,0.006193950441663362,0.006175906004283505,0.006158037164685856,0.006140343465463721,0.006122824434017222,0.006105479582818638,0.0060883084096770845,0.006071310398002593,0.006054485017069486,0.006037831722279001,0.006021349955421056,0.006005039144935169,0.005988898706170401,0.005972928041644363,0.005957126541301057,0.0059414935827677255,0.005926028531610468,0.005910730741588634,0.005895599554907966,0.005880634302472405,0.0058658343041345425,0.005851198868944598,0.00583672729539795,0.005822418871681176,0.005808272875916442,0.00579428857640435,0.005780465231865087,0.005766802091677858,0.005753298396118609,0.005739953376595927,0.0057267662558851086,0.005713736248360363,0.0057008625602251225,0.005688144389740348,0.005675580927450922,0.00566317135640996,0.005650914852401086,0.005638810584158613,0.0056268577135856115,0.005615055395969804,0.005603402780197269,0.005591899008963966,0.005580543218984946,0.005569334541201356,0.0055582721009851035,0.005547355018341201,0.005536582408107783,0.005525953380153684,0.005515467039573699,0.00550512248688137,0.005494918818199336,0.005484855125447261,0.005474930496527213,0.005465144015506616,0.005455494762798642,0.00544598181534009,0.005436604246766719,0.005427361127586003,0.0054182515253473435,0.005409274504809686,0.005400429128106501,0.005391714454908242,0.005383129542582106,0.005374673446349207,0.005366345219439127,0.0053581439132418,0.005350068577456802,0.005342118260239907,0.005334292008347081,0.005326588867275791,0.005319007881403617,0.00531154809412427,0.0053042085479808945,0.005296988284796765,0.0052898863458032755,0.0052829017717653205,0.00527603360310399,0.005269280880016643,0.005262642642594314,0.005256117930936503,0.005249705785263334,0.005243405246025065,0.005237215354009033,0.005231135150443922,0.005225163677101498,0.00521929997639573,0.005213543091479318,0.0052078920663377005,0.005202345945880463,0.00519690377603023,0.005191564603809044,0.005186327477422208,0.005181191446339631,0.005176155561374749,0.00517121887476089,0.00516638044022528,0.005161639313060561,0.005156994550193947,0.005152445210253929,0.005147990353634692,0.00514362904255809,0.005139360341133359,0.0051351833154144886,0.005131097033455327,0.005127100565362392,0.005123192983345483,0.005119373361766027,0.005115640777183288,0.005111994308398344,0.00510843303649598,0.005104956044884425,0.005101562419333015,0.005098251248007778,0.005095021621504994,0.005091872632882735,0.0050888033776904365,0.005085812953996493,0.005082900462413944,0.005080065006124261,0.005077305690899251,0.00507462162512116,0.005072011919800932,0.005069475688594703,0.00506701204781857,0.0050646201164616,0.005062299016197216,0.005060047871392873,0.0050578658091181665,0.005055751959151304,0.00505370545398408,0.005051725428825272,0.005049811021602592,0.005047961372963166,0.005046175626272587,0.005044452927612598,0.005042792425777414,0.005041193272268711,0.005039654621289353,0.00503817562973586,0.005036755457189657,0.005035393265907155,0.005034088220808664,0.005032839489466216,0.005031646242090306,0.005030507651515593,0.005029422893185594,0.005028391145136406,0.005027411587979507,0.005026483404883643,0.005025605781555862,0.00502477790622171,0.005023998969604647,0.005023268164904699,0.005022584687776397,0.005021947736306013,0.005021356510988165,0.005020810214701786,0.005020308052685553,0.005019849232512731,0.0050194329640655,0.005019058459508873,0.005018724933264101,0.005018431601981727,0.005018177684514228,0.005017962401888359,0.005017784977277188,0.0050176446359718385,0.005017540605353034,0.005017472114862432,0.005017438395973797,0.005017438682164019,0.005017472208884097,0.005017538213529975,0.00501763593541342,0.005017764615732859,0.005017923497544277,0.00501811182573215,0.005018328846980514,0.005018573809744144,0.005018845964219887,0.005019144562318205,0.005019468857634939,0.005019818105423314,0.005020191562566251,0.0050205884875489685,0.005021008140431943,0.005021449782824241,0.00502191267785725,0.005022396090158836,0.005022899285827978,0.005023421532409864,0.0050239620988714985,0.005024520255577886,0.005025095274268748,0.005025686428035835,0.005026292991300884,0.005026914239794172,0.005027549450533798,0.005028197901805599,0.005028858873143825,0.005029531645312541,0.005030215500287775,0.0050309097212404875,0.005031613592520315,0.005032326399640165,0.005033047429261641,0.005033775969181371,0.00503451130831818,0.005035252736701233,0.005035999545459039,0.005036751026809468,0.005037506474050698,0.005038265181553129,0.0050390264447523715,0.00503978956014315,0.005040553825274326,0.005041318538744929,0.005042083000201249,0.005042846510335011,0.005043608370882667,0.005044367884625741,0.005045124355392332,0.005045877088059733,0.005046625388558181,0.005047368563875761,0.005048105922064505,0.005048836772247573,0.005049560424627735,0.00505027619049693,0.005050983382247085,0.005051681313382117,0.005052369298531154,0.005053046653462944,0.005053712695101517,0.005054366741543069,0.005055008112074046,0.005055636127190493,0.005056250108618634,0.005056849379336668,0.005057433263597847,0.00505800108695474,0.00505855217628481,0.00505908585981715,0.00505960146716055,0.005060098329332718,0.005060575778790808,0.005061033149463152,0.005061469776782215,0.005061884997718804,0.005062278150817501,0.005062648576233287,0.0050629956157694144,0.005063318612916474,0.005063616912892648,0.005063889862685194,0.005064136811093078,0.005064357108770813,0.005064550108273451,0.005064715164102744,0.005064851632754449,0.005064958872766755,0.005065036244769896,0.005065083111536796,0.005065098838034882,0.005065082791478971,0.005065034341385195,0.005064952859626063,0.0050648377204864856,0.005064688300720916,0.005064503979611425,0.005064284139026856,0.005064028163482889,0.005063735440203136,0.005063405359181144,0.005063037313243335,0.00506263069811289,0.00506218491247445,0.0050616993580397925,0.005061173439614265,0.005060606565164122,0.005059998145884615,0.005059347596268916,0.00505865433417779,0.005057917780909999,0.005057137361273455,0.005056312503657049,0.005055442640103164,0.005054527206380846,0.005053565642059567,0.005052557390583652,0.0050515018993472025,0.005050398619769644,0.005049247007371741,0.005048046521852149,0.005046796627164417,0.005045496791594426,0.005044146487838291,0.005042745193080567,0.005041292389072918,0.005039787562213034,0.005038230203623909,0.005036619809233347,0.005034955879853764,0.005033237921262169,0.005031465444280359,0.005029637964855248,0.005027755004139342,0.005025816088571317,0.005023820749956636,0.005021768525548243,0.005019658958127238,0.005017491596083514,0.005015265993496392,0.00501298171021512,0.005010638311939275,0.0050082353702990134,0.005005772462935139,0.005003249173578981,0.005000665092131986,0.004998019814745086,0.004995312943897734,0.004992544088476581,0.004989712863853845,0.004986818891965217,0.004983861801387368,0.004980841227414991,0.00497775681213733,0.004974608204514203,0.0049713950604514555,0.004968117042875815,0.00496477382180915,0.004961365074442055,0.004957890485206747,0.004954349745849279,0.004950742555500963,0.004947068620749064,0.004943327655706646,0.004939519382081604,0.004935643529244821,0.004931699834297422,0.004927688042137123,0.004923607905523595,0.004919459185142837,0.0049152416496705785,0.004910955075834583,0.004906599248475918,0.0049021739606090785,0.004897679013481044,0.004893114216629113,0.004888479387937597,0.004883774353693277,0.004878998948639629,0.004874153016029776,0.004869236407678174,0.004864248984010937,0.004859190614114854,0.004854061175785026,0.004848860555571102,0.004843588648822105,0.004838245359729811,0.004832830601370677,0.004827344295746277,0.00482178637382219,0.004816156775565427,0.004810455449980239,0.004804682355142383,0.0047988374582317835,0.004792920735563586,0.004786932172617549,0.00478087176406582,0.004774739513799006,0.004768535434950565,0.004762259549919483,0.004755911890391247,0.004749492497357024,0.004743001421131141,0.0047364387213667605,0.00472980446706975,0.004723098736610789,0.0047163216177356256,0.004709473207573529,0.004702553612643863,0.004695562948860843,0.004688501341536415,0.004681368925381243,0.004674165844503834,0.004666892252407727,0.004659548311986852,0.004652134195518881,0.00464465008465674,0.004637096170418128,0.004629472653173165,0.004621779742630045,0.004614017657818779,0.004606186627072975,0.00459828688800967,0.004590318687507203,0.0045822822816811324,0.004574177935858185,0.004566005924548269,0.004557766531414484,0.004549460049241226,0.004541086779900257,0.0045326470343148954,0.004524141132422197,0.0045155694031332036,0.00450693218429123,0.004498229822628206,0.004489462673719095,0.004480631101934361,0.004471735480390498,0.004462776190898659,0.0044537536239113475,0.004444668178467216,0.004435520262133972,0.004426310290949371,0.004417038689360341,0.004407705890160265,0.00439831233442435,0.004388858471443206,0.0043793447586545796,0.004369771661573223,0.004360139653719026,0.004350449216543311,0.004340700839353365,0.004330895019235199,0.004321032260974603,0.00431111307697642,0.0043011379871821425,0.004291107518985805,0.004281022207148214,0.0042708825937095105,0.0042606892279001,0.004250442666049988,0.004240143471496481,0.004229792214490345,0.004219389472100428,0.004208935828116699,0.004198431872951837,0.004187878203541307,0.004177275423241993,0.004166624141729381,0.004155924974893352,0.004145178544732576,0.00413438547924755,0.004123546412332311,0.004112661983664838,0.004101732838596191,0.004090759628038352,0.004079743008350911,0.0040686836412265155,0.004057582193575151,0.004046439337407296,0.00403525574971599,0.004024032112357781,0.004012769111932652,0.004001467439662949,0.003990127791271261,0.003978750866857415,0.0039673373707745175,0.0039558880115040905,0.00394440350153036,0.003932884557213722,0.003921331898663428,0.003909746249609454,0.003898128337273695,0.003886478892240459,0.003874798648326252,0.003863088342448978,0.0038513487144965462,0.003839580507194879,0.0038277844659754183,0.0038159613388421445,0.003804111876238129,0.003792236830911647,0.003780336957781917,0.003768413013804508,0.003756465757836359,0.0037444959505005936,0.0037325043540510283,0.0037204917322364887,0.003708458850164931,0.003696406474167444,0.003684335371662118,0.003672246311017833,0.003660140061418032,0.0036480173927244722,0.0036358790753410015,0.003623725880077411,0.0036115585780133953,0.003599377940362604,0.0035871847383369205,0.003574979743010899,0.0035627637251864712,0.0035505374552578677,0.003538301703076947,0.0035260572378187616,0.0035138048278475454,0.0035015452405831103,0.003489279242367689,0.0034770075983332153,0.0034647310722691477,0.0034524504264908324,0.003440166421708417,0.0034278798168963787,0.003415591369163707,0.00340330183362474,0.003391011963270683,0.0033787225088418994,0.0033664342187009525,0.0033541478387064073,0.0033418641120875055,0.003329583779319676,0.003317307578000916,0.0033050362427290945,0.003292770504980221,0.003280511092987663,0.0032682587316223374,0.003256014142274012,0.003243778042733574,0.003231551147076433,0.0032193341655470144,0.00320712780444441,0.0031949327660091534,0.003182749748311224,0.003170579445139249,0.0031584225458909185,0.0031462797354647088,0.0031341516941528536,0.0031220390975356545,0.003109942616377081,0.0030978629165217815,0.003085800658793432,0.003073756498894482,0.003061731087307348,0.0030497250691970228,0.003037739084315149,0.003025773766905575,0.0030138297456114215,0.003001907643383631,0.0029900080773910868,0.002978131658932281,0.0029662789933485173,0.002954450679938748,0.002942647311875971,0.0029308694761252824,0.002919117753363517,0.0029073927179005805,0.0028956949376024127,0.0028840249738156247,0.0028723833812938377,0.0028607707081257116,0.00284918749566469,0.0028376342784604274,0.0028261115841920256,0.0028146199336029363,0.0028031598404376504,0.00279173181138014,0.0027803363459940776,0.002768973936664809,0.002757645068543128,0.002746350219490851,0.002735089860028142,0.002723864453282694,0.002712674454940678,0.0027015203131995403,0.0026904024687225488,0.0026793213545952405,0.0026682773962836337,0.00265727101159428,0.00264630261063614,0.0026353725957843042,0.0026244813616454967,0.0026136292950254556,0.002602816774898121,0.0025920441723766385,0.002581311850686187,0.0025706201651386736,0.002559969463109194,0.0025493600840143307,0.002538792359292273,0.002528266612384761,0.0025177831587207874,0.0025073423057021564,0.002496944352690811,0.0024865895909979446,0.0024762783038749154,0.0024660107665059328,0.0024557872460025114,0.002445608001399669,0.002435473283653924,0.0024253833356430014,0.002415338392167282,0.0024053386799529875,0.0023953844176570864,0.00238547581587389,0.0023756130771433624,0.002365796395961106,0.00235602595879003,0.0023463019440736555,0.002336624522251119,0.0023269938557737616,0.002317410099123373,0.002307873398832028,0.0022983838935035474,0.002288941713836501,0.0022795469826488077,0.0022701998149038975,0.0022609003177383622,0.00225164859049119,0.0022424447247344653,0.0022332888043055774,0.0022241809053408865,0.0022151210963108625,0.002206109438056671,0.0021971459838281485,0.0021882307793232164,0.0021793638627286755,0.0021705452647623477,0.002161775008716598,0.002153053110503171,0.0021443795786993502,0.0021357544145953864,0.0021271776122432544,0.002118649158506603,0.0021101690331119826],\"type\":\"scatter\"}],                        {\"template\":{\"data\":{\"histogram2dcontour\":[{\"type\":\"histogram2dcontour\",\"colorbar\":{\"outlinewidth\":0,\"ticks\":\"\"},\"colorscale\":[[0.0,\"#0d0887\"],[0.1111111111111111,\"#46039f\"],[0.2222222222222222,\"#7201a8\"],[0.3333333333333333,\"#9c179e\"],[0.4444444444444444,\"#bd3786\"],[0.5555555555555556,\"#d8576b\"],[0.6666666666666666,\"#ed7953\"],[0.7777777777777778,\"#fb9f3a\"],[0.8888888888888888,\"#fdca26\"],[1.0,\"#f0f921\"]]}],\"choropleth\":[{\"type\":\"choropleth\",\"colorbar\":{\"outlinewidth\":0,\"ticks\":\"\"}}],\"histogram2d\":[{\"type\":\"histogram2d\",\"colorbar\":{\"outlinewidth\":0,\"ticks\":\"\"},\"colorscale\":[[0.0,\"#0d0887\"],[0.1111111111111111,\"#46039f\"],[0.2222222222222222,\"#7201a8\"],[0.3333333333333333,\"#9c179e\"],[0.4444444444444444,\"#bd3786\"],[0.5555555555555556,\"#d8576b\"],[0.6666666666666666,\"#ed7953\"],[0.7777777777777778,\"#fb9f3a\"],[0.8888888888888888,\"#fdca26\"],[1.0,\"#f0f921\"]]}],\"heatmap\":[{\"type\":\"heatmap\",\"colorbar\":{\"outlinewidth\":0,\"ticks\":\"\"},\"colorscale\":[[0.0,\"#0d0887\"],[0.1111111111111111,\"#46039f\"],[0.2222222222222222,\"#7201a8\"],[0.3333333333333333,\"#9c179e\"],[0.4444444444444444,\"#bd3786\"],[0.5555555555555556,\"#d8576b\"],[0.6666666666666666,\"#ed7953\"],[0.7777777777777778,\"#fb9f3a\"],[0.8888888888888888,\"#fdca26\"],[1.0,\"#f0f921\"]]}],\"heatmapgl\":[{\"type\":\"heatmapgl\",\"colorbar\":{\"outlinewidth\":0,\"ticks\":\"\"},\"colorscale\":[[0.0,\"#0d0887\"],[0.1111111111111111,\"#46039f\"],[0.2222222222222222,\"#7201a8\"],[0.3333333333333333,\"#9c179e\"],[0.4444444444444444,\"#bd3786\"],[0.5555555555555556,\"#d8576b\"],[0.6666666666666666,\"#ed7953\"],[0.7777777777777778,\"#fb9f3a\"],[0.8888888888888888,\"#fdca26\"],[1.0,\"#f0f921\"]]}],\"contourcarpet\":[{\"type\":\"contourcarpet\",\"colorbar\":{\"outlinewidth\":0,\"ticks\":\"\"}}],\"contour\":[{\"type\":\"contour\",\"colorbar\":{\"outlinewidth\":0,\"ticks\":\"\"},\"colorscale\":[[0.0,\"#0d0887\"],[0.1111111111111111,\"#46039f\"],[0.2222222222222222,\"#7201a8\"],[0.3333333333333333,\"#9c179e\"],[0.4444444444444444,\"#bd3786\"],[0.5555555555555556,\"#d8576b\"],[0.6666666666666666,\"#ed7953\"],[0.7777777777777778,\"#fb9f3a\"],[0.8888888888888888,\"#fdca26\"],[1.0,\"#f0f921\"]]}],\"surface\":[{\"type\":\"surface\",\"colorbar\":{\"outlinewidth\":0,\"ticks\":\"\"},\"colorscale\":[[0.0,\"#0d0887\"],[0.1111111111111111,\"#46039f\"],[0.2222222222222222,\"#7201a8\"],[0.3333333333333333,\"#9c179e\"],[0.4444444444444444,\"#bd3786\"],[0.5555555555555556,\"#d8576b\"],[0.6666666666666666,\"#ed7953\"],[0.7777777777777778,\"#fb9f3a\"],[0.8888888888888888,\"#fdca26\"],[1.0,\"#f0f921\"]]}],\"mesh3d\":[{\"type\":\"mesh3d\",\"colorbar\":{\"outlinewidth\":0,\"ticks\":\"\"}}],\"scatter\":[{\"fillpattern\":{\"fillmode\":\"overlay\",\"size\":10,\"solidity\":0.2},\"type\":\"scatter\"}],\"parcoords\":[{\"type\":\"parcoords\",\"line\":{\"colorbar\":{\"outlinewidth\":0,\"ticks\":\"\"}}}],\"scatterpolargl\":[{\"type\":\"scatterpolargl\",\"marker\":{\"colorbar\":{\"outlinewidth\":0,\"ticks\":\"\"}}}],\"bar\":[{\"error_x\":{\"color\":\"#2a3f5f\"},\"error_y\":{\"color\":\"#2a3f5f\"},\"marker\":{\"line\":{\"color\":\"#E5ECF6\",\"width\":0.5},\"pattern\":{\"fillmode\":\"overlay\",\"size\":10,\"solidity\":0.2}},\"type\":\"bar\"}],\"scattergeo\":[{\"type\":\"scattergeo\",\"marker\":{\"colorbar\":{\"outlinewidth\":0,\"ticks\":\"\"}}}],\"scatterpolar\":[{\"type\":\"scatterpolar\",\"marker\":{\"colorbar\":{\"outlinewidth\":0,\"ticks\":\"\"}}}],\"histogram\":[{\"marker\":{\"pattern\":{\"fillmode\":\"overlay\",\"size\":10,\"solidity\":0.2}},\"type\":\"histogram\"}],\"scattergl\":[{\"type\":\"scattergl\",\"marker\":{\"colorbar\":{\"outlinewidth\":0,\"ticks\":\"\"}}}],\"scatter3d\":[{\"type\":\"scatter3d\",\"line\":{\"colorbar\":{\"outlinewidth\":0,\"ticks\":\"\"}},\"marker\":{\"colorbar\":{\"outlinewidth\":0,\"ticks\":\"\"}}}],\"scattermapbox\":[{\"type\":\"scattermapbox\",\"marker\":{\"colorbar\":{\"outlinewidth\":0,\"ticks\":\"\"}}}],\"scatterternary\":[{\"type\":\"scatterternary\",\"marker\":{\"colorbar\":{\"outlinewidth\":0,\"ticks\":\"\"}}}],\"scattercarpet\":[{\"type\":\"scattercarpet\",\"marker\":{\"colorbar\":{\"outlinewidth\":0,\"ticks\":\"\"}}}],\"carpet\":[{\"aaxis\":{\"endlinecolor\":\"#2a3f5f\",\"gridcolor\":\"white\",\"linecolor\":\"white\",\"minorgridcolor\":\"white\",\"startlinecolor\":\"#2a3f5f\"},\"baxis\":{\"endlinecolor\":\"#2a3f5f\",\"gridcolor\":\"white\",\"linecolor\":\"white\",\"minorgridcolor\":\"white\",\"startlinecolor\":\"#2a3f5f\"},\"type\":\"carpet\"}],\"table\":[{\"cells\":{\"fill\":{\"color\":\"#EBF0F8\"},\"line\":{\"color\":\"white\"}},\"header\":{\"fill\":{\"color\":\"#C8D4E3\"},\"line\":{\"color\":\"white\"}},\"type\":\"table\"}],\"barpolar\":[{\"marker\":{\"line\":{\"color\":\"#E5ECF6\",\"width\":0.5},\"pattern\":{\"fillmode\":\"overlay\",\"size\":10,\"solidity\":0.2}},\"type\":\"barpolar\"}],\"pie\":[{\"automargin\":true,\"type\":\"pie\"}]},\"layout\":{\"autotypenumbers\":\"strict\",\"colorway\":[\"#636efa\",\"#EF553B\",\"#00cc96\",\"#ab63fa\",\"#FFA15A\",\"#19d3f3\",\"#FF6692\",\"#B6E880\",\"#FF97FF\",\"#FECB52\"],\"font\":{\"color\":\"#2a3f5f\"},\"hovermode\":\"closest\",\"hoverlabel\":{\"align\":\"left\"},\"paper_bgcolor\":\"white\",\"plot_bgcolor\":\"#E5ECF6\",\"polar\":{\"bgcolor\":\"#E5ECF6\",\"angularaxis\":{\"gridcolor\":\"white\",\"linecolor\":\"white\",\"ticks\":\"\"},\"radialaxis\":{\"gridcolor\":\"white\",\"linecolor\":\"white\",\"ticks\":\"\"}},\"ternary\":{\"bgcolor\":\"#E5ECF6\",\"aaxis\":{\"gridcolor\":\"white\",\"linecolor\":\"white\",\"ticks\":\"\"},\"baxis\":{\"gridcolor\":\"white\",\"linecolor\":\"white\",\"ticks\":\"\"},\"caxis\":{\"gridcolor\":\"white\",\"linecolor\":\"white\",\"ticks\":\"\"}},\"coloraxis\":{\"colorbar\":{\"outlinewidth\":0,\"ticks\":\"\"}},\"colorscale\":{\"sequential\":[[0.0,\"#0d0887\"],[0.1111111111111111,\"#46039f\"],[0.2222222222222222,\"#7201a8\"],[0.3333333333333333,\"#9c179e\"],[0.4444444444444444,\"#bd3786\"],[0.5555555555555556,\"#d8576b\"],[0.6666666666666666,\"#ed7953\"],[0.7777777777777778,\"#fb9f3a\"],[0.8888888888888888,\"#fdca26\"],[1.0,\"#f0f921\"]],\"sequentialminus\":[[0.0,\"#0d0887\"],[0.1111111111111111,\"#46039f\"],[0.2222222222222222,\"#7201a8\"],[0.3333333333333333,\"#9c179e\"],[0.4444444444444444,\"#bd3786\"],[0.5555555555555556,\"#d8576b\"],[0.6666666666666666,\"#ed7953\"],[0.7777777777777778,\"#fb9f3a\"],[0.8888888888888888,\"#fdca26\"],[1.0,\"#f0f921\"]],\"diverging\":[[0,\"#8e0152\"],[0.1,\"#c51b7d\"],[0.2,\"#de77ae\"],[0.3,\"#f1b6da\"],[0.4,\"#fde0ef\"],[0.5,\"#f7f7f7\"],[0.6,\"#e6f5d0\"],[0.7,\"#b8e186\"],[0.8,\"#7fbc41\"],[0.9,\"#4d9221\"],[1,\"#276419\"]]},\"xaxis\":{\"gridcolor\":\"white\",\"linecolor\":\"white\",\"ticks\":\"\",\"title\":{\"standoff\":15},\"zerolinecolor\":\"white\",\"automargin\":true,\"zerolinewidth\":2},\"yaxis\":{\"gridcolor\":\"white\",\"linecolor\":\"white\",\"ticks\":\"\",\"title\":{\"standoff\":15},\"zerolinecolor\":\"white\",\"automargin\":true,\"zerolinewidth\":2},\"scene\":{\"xaxis\":{\"backgroundcolor\":\"#E5ECF6\",\"gridcolor\":\"white\",\"linecolor\":\"white\",\"showbackground\":true,\"ticks\":\"\",\"zerolinecolor\":\"white\",\"gridwidth\":2},\"yaxis\":{\"backgroundcolor\":\"#E5ECF6\",\"gridcolor\":\"white\",\"linecolor\":\"white\",\"showbackground\":true,\"ticks\":\"\",\"zerolinecolor\":\"white\",\"gridwidth\":2},\"zaxis\":{\"backgroundcolor\":\"#E5ECF6\",\"gridcolor\":\"white\",\"linecolor\":\"white\",\"showbackground\":true,\"ticks\":\"\",\"zerolinecolor\":\"white\",\"gridwidth\":2}},\"shapedefaults\":{\"line\":{\"color\":\"#2a3f5f\"}},\"annotationdefaults\":{\"arrowcolor\":\"#2a3f5f\",\"arrowhead\":0,\"arrowwidth\":1},\"geo\":{\"bgcolor\":\"white\",\"landcolor\":\"#E5ECF6\",\"subunitcolor\":\"white\",\"showland\":true,\"showlakes\":true,\"lakecolor\":\"white\"},\"title\":{\"x\":0.05},\"mapbox\":{\"style\":\"light\"}}},\"title\":{\"text\":\"1D KDE Plot\"},\"xaxis\":{\"title\":{\"text\":\"Stitch duration [s]\"}},\"yaxis\":{\"title\":{\"text\":\"Density\"}}},                        {\"responsive\": true}                    ).then(function(){\n",
       "                            \n",
       "var gd = document.getElementById('db6e6172-01e2-4758-af07-b91c12bba1a3');\n",
       "var x = new MutationObserver(function (mutations, observer) {{\n",
       "        var display = window.getComputedStyle(gd).display;\n",
       "        if (!display || display === 'none') {{\n",
       "            console.log([gd, 'removed!']);\n",
       "            Plotly.purge(gd);\n",
       "            observer.disconnect();\n",
       "        }}\n",
       "}});\n",
       "\n",
       "// Listen for the removal of the full notebook cells\n",
       "var notebookContainer = gd.closest('#notebook-container');\n",
       "if (notebookContainer) {{\n",
       "    x.observe(notebookContainer, {childList: true});\n",
       "}}\n",
       "\n",
       "// Listen for the clearing of the current output cell\n",
       "var outputEl = gd.closest('.output');\n",
       "if (outputEl) {{\n",
       "    x.observe(outputEl, {childList: true});\n",
       "}}\n",
       "\n",
       "                        })                };                });            </script>        </div>"
      ]
     },
     "metadata": {},
     "output_type": "display_data"
    }
   ],
   "execution_count": 85
  },
  {
   "metadata": {},
   "cell_type": "code",
   "outputs": [],
   "execution_count": null,
   "source": "",
   "id": "e0bc5ee18ddbfc47"
  }
 ],
 "metadata": {
  "kernelspec": {
   "display_name": "Python 3",
   "language": "python",
   "name": "python3"
  },
  "language_info": {
   "codemirror_mode": {
    "name": "ipython",
    "version": 2
   },
   "file_extension": ".py",
   "mimetype": "text/x-python",
   "name": "python",
   "nbconvert_exporter": "python",
   "pygments_lexer": "ipython2",
   "version": "2.7.6"
  }
 },
 "nbformat": 4,
 "nbformat_minor": 5
}
