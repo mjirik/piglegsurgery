{
 "cells": [
  {
   "cell_type": "code",
   "execution_count": 144,
   "id": "initial_id",
   "metadata": {
    "tags": [],
    "ExecuteTime": {
     "end_time": "2024-06-27T12:51:10.645865600Z",
     "start_time": "2024-06-27T12:51:10.518868800Z"
    }
   },
   "outputs": [],
   "source": [
    "import numpy as np\n",
    "import seaborn as sns\n",
    "import scipy\n",
    "import skimage\n",
    "sns.set_style(\"ticks\")\n",
    "from pathlib import Path"
   ]
  },
  {
   "cell_type": "markdown",
   "id": "53e39872-8212-46c6-9931-5bc4ba7f3955",
   "metadata": {},
   "source": [
    "# Get the data "
   ]
  },
  {
   "cell_type": "code",
   "execution_count": 145,
   "id": "dfa95f5019f46bcb",
   "metadata": {
    "collapsed": false,
    "tags": [],
    "ExecuteTime": {
     "end_time": "2024-06-27T12:51:11.448867600Z",
     "start_time": "2024-06-27T12:51:11.043868600Z"
    }
   },
   "outputs": [
    {
     "name": "stdout",
     "output_type": "stream",
     "text": [
      "[WindowsPath('../.env.dev')]\n"
     ]
    }
   ],
   "source": [
    "# in this file is the url to the spreadsheet with the data\n",
    "# PIGLEG_SPREADSHEET_URL=https://docs.google.com/spreadsheets/d/1G55kXxcJ0...piLaK0snddRU-jzU/edit?usp=sharing\n",
    "env_paths = list(Path(\".\").glob(\"../**/.env.dev\"))\n",
    "print(env_paths)\n",
    "# find line with PIGLEG_SPREADSHEET_URL and give me the value after the \"=\"\n",
    "PIGLEG_SPREADSHEET_URL = [line.split(\"=\", 1)[1].strip() for line in open(env_paths[0], \"r\") if line.startswith(\"PIGLEG_SPREADSHEET_URL\")][0]\n",
    "PIGLEG_SPREADSHEET_URL = PIGLEG_SPREADSHEET_URL.replace(\"\\\"\", \"\")\n",
    "PIGLEG_SPREADSHEET_URL = PIGLEG_SPREADSHEET_URL.replace(\"edit?usp=sharing\", \"export?format=csv\")\n",
    "# PIGLEG_SPREADSHEET_URL"
   ]
  },
  {
   "cell_type": "code",
   "execution_count": 146,
   "id": "b6f7ef48babc2ea8",
   "metadata": {
    "collapsed": false,
    "tags": [],
    "ExecuteTime": {
     "end_time": "2024-06-27T12:51:16.031865600Z",
     "start_time": "2024-06-27T12:51:11.358868900Z"
    }
   },
   "outputs": [
    {
     "name": "stderr",
     "output_type": "stream",
     "text": [
      "C:\\Users\\Jirik\\AppData\\Local\\Temp\\ipykernel_3416\\795014733.py:3: DtypeWarning:\n",
      "\n",
      "Columns (21,22,28,29,30,32,33,34,35,36,37,39,40,41,42,43,44,45,46,49,55,67,68,78,81,85,86,87,88,89,90,91,92,93,112,113,114,115,116,117,124,154,174,183,184,185,186,187,188,189,190,191,192,193,194,195,196,197,198,199,200,234,235,236,237,238,239,251,257,259,270,271,272,273,274,275,282,283,284,285,286,287,293,299,312,313,314,315,316,317,323,324,325,326,327,328,329,330,331,332,333,334,336,338,339,340,341,342,343,344,345,346,347,348,349,350,351,352,353,354,355,356,357,358,359,360,361,363,364,365,366,367,368,369,370,372,373,374,375,376,377,378,379,445,446,447,448,449,450,451,452,453,454,455,456,457,458,459,461,462,463,464,465,466,467,468,469,470,471,472,473,474,475,476,482,483,484,485,486,487,488,489,490,491,492,493,494,495,496,497,498,499,500,501,502,503,504,505,506,507,508,510,511,512,513,514,515,517,518,519,520,521,522,523,525,527,528,529,530,531,532,533,534,535,536,537,538,539,540,541,542,543,544,545,546,547,548,549,550,551,552,553,554,555,556,557,558,559,560,561,564,565,566,567,568,569,570,571,573,574,578,580,581,585,587,588,590,591,592,593,594,595,596,597,598,599,600,601,602,603,604,605,606,607,608,609,610,611,612,613,621,622,623,624,625,629,630,631,632,633,634,635,636,637,638,639,640,641,642,643,644,645,646,647,648,649,650,651,652,653,654,655,656,657,658,659,660,661,662,663,664,665,666,667,668,669,670,671,672,673,674,675,676,677,678,679,680,681,682,683,684,685,686,687,688,689,690,691,692,693,694,695,696,697,698,700,701,702,703,704,705,706,707,708,709,710,711,712,713,715,717,719,721,723,725,728,730,732,734,735,737,739,743,745,747,748,749,750,752,754,756,758,760,762,766,770,774,776,778,780,782,784,786,788,790,793,796,797,798,799,800,801,802,803,804,805,806,807,808,811,812,813,814,815,816,817,823,824,825,826,827,829,830,832,833,834,835,836,838,839,841,842,843,844,845,847,848,850,851,852,853,854,856,861,862,863,864,865,867,868,878,879,880,881,882,884,885,887,888,889,890,891,893,894,896,897,899,900,902,903,906,907,908,909,911,912,916,917,918,919,920,922,923,925,926,927,928,929,931,932,942,946,947,951,955,956) have mixed types. Specify dtype option on import or set low_memory=False.\n",
      "\n"
     ]
    }
   ],
   "source": [
    "import pandas as pd\n",
    "url = PIGLEG_SPREADSHEET_URL\n",
    "df = pd.read_csv(url)"
   ]
  },
  {
   "cell_type": "code",
   "execution_count": 147,
   "id": "f697ae50f242b813",
   "metadata": {
    "collapsed": false,
    "tags": [],
    "ExecuteTime": {
     "end_time": "2024-06-27T12:51:16.123866600Z",
     "start_time": "2024-06-27T12:51:16.020865800Z"
    }
   },
   "outputs": [
    {
     "data": {
      "text/plain": "                                               filename  \\\n2624  medium-2021_11_03_A_Tengler_Sophie_Einzelknopf...   \n2625                             Gehrke,Yves - post.mp4   \n2626                             Gehrke,Yves - post.mp4   \n2627                      Schiesser_David_post_test.mp4   \n2628                      Schiesser_David_post_test.mp4   \n\n                                             report_url            timestamp  \\\n2624  http://suran.kky.zcu.cz:8000//uploader/web_rep...  2024-06-27 10:14:37   \n2625  http://suran.kky.zcu.cz:8000//uploader/web_rep...  2024-06-27 10:15:50   \n2626  http://suran.kky.zcu.cz:8000//uploader/web_rep...  2024-06-27 14:33:11   \n2627  http://suran.kky.zcu.cz:8000//uploader/web_rep...  2024-06-27 14:41:39   \n2628  http://suran.kky.zcu.cz:8000//uploader/web_rep...  2024-06-27 14:48:13   \n\n                           email       uploaded_at       finished_at   fps  \\\n2624  khalatbari.sadaf@gmail.com  2022-07-07 16:48  2024-06-26 11:40  25.0   \n2625           mjirik@kky.zcu.cz  2024-06-03 10:53  2024-06-27 08:15  25.0   \n2626           mjirik@kky.zcu.cz  2024-06-03 10:53  2024-06-27 12:33  25.0   \n2627           mjirik@kky.zcu.cz  2024-06-03 10:53  2024-06-26 12:17  25.0   \n2628           mjirik@kky.zcu.cz  2024-06-03 10:53  2024-06-27 12:48  25.0   \n\n     Needle holder length [m] Scissors length [m] Forceps length [m]  ...  \\\n2624                      NaN                 NaN                NaN  ...   \n2625                      NaN                 NaN                NaN  ...   \n2626                      NaN                 NaN                NaN  ...   \n2627                      NaN                 NaN                NaN  ...   \n2628                      NaN                 NaN                NaN  ...   \n\n     Scissors stitch 10 unit Scissors stitch 10 visibility [%]  \\\n2624                     NaN                               NaN   \n2625                     NaN                               NaN   \n2626                     NaN                               NaN   \n2627                     NaN                               NaN   \n2628                     NaN                               NaN   \n\n     Scissors stitch 11 area presence [%]  \\\n2624                                  NaN   \n2625                                  NaN   \n2626                                  NaN   \n2627                                  NaN   \n2628                                  NaN   \n\n     Scissors stitch 11 median area presence [%]  \\\n2624                                         NaN   \n2625                                         NaN   \n2626                                         NaN   \n2627                                         NaN   \n2628                                         NaN   \n\n     Scissors stitch 12 area presence [%]  \\\n2624                                  NaN   \n2625                                  NaN   \n2626                                  NaN   \n2627                                  NaN   \n2628                                  NaN   \n\n     Scissors stitch 12 median area presence [%]  \\\n2624                                         NaN   \n2625                                         NaN   \n2626                                         NaN   \n2627                                         NaN   \n2628                                         NaN   \n\n     Scissors stitch 13 area presence [%]  \\\n2624                                  NaN   \n2625                                  NaN   \n2626                                  NaN   \n2627                                  NaN   \n2628                                  NaN   \n\n     Scissors stitch 13 median area presence [%]  \\\n2624                                         NaN   \n2625                                         NaN   \n2626                                         NaN   \n2627                                         NaN   \n2628                                         NaN   \n\n     Scissors stitch 14 area presence [%]  \\\n2624                                  NaN   \n2625                                  NaN   \n2626                                  NaN   \n2627                                  NaN   \n2628                                  NaN   \n\n     Scissors stitch 14 median area presence [%]  \n2624                                         NaN  \n2625                                         NaN  \n2626                                         NaN  \n2627                                         NaN  \n2628                                         NaN  \n\n[5 rows x 965 columns]",
      "text/html": "<div>\n<style scoped>\n    .dataframe tbody tr th:only-of-type {\n        vertical-align: middle;\n    }\n\n    .dataframe tbody tr th {\n        vertical-align: top;\n    }\n\n    .dataframe thead th {\n        text-align: right;\n    }\n</style>\n<table border=\"1\" class=\"dataframe\">\n  <thead>\n    <tr style=\"text-align: right;\">\n      <th></th>\n      <th>filename</th>\n      <th>report_url</th>\n      <th>timestamp</th>\n      <th>email</th>\n      <th>uploaded_at</th>\n      <th>finished_at</th>\n      <th>fps</th>\n      <th>Needle holder length [m]</th>\n      <th>Scissors length [m]</th>\n      <th>Forceps length [m]</th>\n      <th>...</th>\n      <th>Scissors stitch 10 unit</th>\n      <th>Scissors stitch 10 visibility [%]</th>\n      <th>Scissors stitch 11 area presence [%]</th>\n      <th>Scissors stitch 11 median area presence [%]</th>\n      <th>Scissors stitch 12 area presence [%]</th>\n      <th>Scissors stitch 12 median area presence [%]</th>\n      <th>Scissors stitch 13 area presence [%]</th>\n      <th>Scissors stitch 13 median area presence [%]</th>\n      <th>Scissors stitch 14 area presence [%]</th>\n      <th>Scissors stitch 14 median area presence [%]</th>\n    </tr>\n  </thead>\n  <tbody>\n    <tr>\n      <th>2624</th>\n      <td>medium-2021_11_03_A_Tengler_Sophie_Einzelknopf...</td>\n      <td>http://suran.kky.zcu.cz:8000//uploader/web_rep...</td>\n      <td>2024-06-27 10:14:37</td>\n      <td>khalatbari.sadaf@gmail.com</td>\n      <td>2022-07-07 16:48</td>\n      <td>2024-06-26 11:40</td>\n      <td>25.0</td>\n      <td>NaN</td>\n      <td>NaN</td>\n      <td>NaN</td>\n      <td>...</td>\n      <td>NaN</td>\n      <td>NaN</td>\n      <td>NaN</td>\n      <td>NaN</td>\n      <td>NaN</td>\n      <td>NaN</td>\n      <td>NaN</td>\n      <td>NaN</td>\n      <td>NaN</td>\n      <td>NaN</td>\n    </tr>\n    <tr>\n      <th>2625</th>\n      <td>Gehrke,Yves - post.mp4</td>\n      <td>http://suran.kky.zcu.cz:8000//uploader/web_rep...</td>\n      <td>2024-06-27 10:15:50</td>\n      <td>mjirik@kky.zcu.cz</td>\n      <td>2024-06-03 10:53</td>\n      <td>2024-06-27 08:15</td>\n      <td>25.0</td>\n      <td>NaN</td>\n      <td>NaN</td>\n      <td>NaN</td>\n      <td>...</td>\n      <td>NaN</td>\n      <td>NaN</td>\n      <td>NaN</td>\n      <td>NaN</td>\n      <td>NaN</td>\n      <td>NaN</td>\n      <td>NaN</td>\n      <td>NaN</td>\n      <td>NaN</td>\n      <td>NaN</td>\n    </tr>\n    <tr>\n      <th>2626</th>\n      <td>Gehrke,Yves - post.mp4</td>\n      <td>http://suran.kky.zcu.cz:8000//uploader/web_rep...</td>\n      <td>2024-06-27 14:33:11</td>\n      <td>mjirik@kky.zcu.cz</td>\n      <td>2024-06-03 10:53</td>\n      <td>2024-06-27 12:33</td>\n      <td>25.0</td>\n      <td>NaN</td>\n      <td>NaN</td>\n      <td>NaN</td>\n      <td>...</td>\n      <td>NaN</td>\n      <td>NaN</td>\n      <td>NaN</td>\n      <td>NaN</td>\n      <td>NaN</td>\n      <td>NaN</td>\n      <td>NaN</td>\n      <td>NaN</td>\n      <td>NaN</td>\n      <td>NaN</td>\n    </tr>\n    <tr>\n      <th>2627</th>\n      <td>Schiesser_David_post_test.mp4</td>\n      <td>http://suran.kky.zcu.cz:8000//uploader/web_rep...</td>\n      <td>2024-06-27 14:41:39</td>\n      <td>mjirik@kky.zcu.cz</td>\n      <td>2024-06-03 10:53</td>\n      <td>2024-06-26 12:17</td>\n      <td>25.0</td>\n      <td>NaN</td>\n      <td>NaN</td>\n      <td>NaN</td>\n      <td>...</td>\n      <td>NaN</td>\n      <td>NaN</td>\n      <td>NaN</td>\n      <td>NaN</td>\n      <td>NaN</td>\n      <td>NaN</td>\n      <td>NaN</td>\n      <td>NaN</td>\n      <td>NaN</td>\n      <td>NaN</td>\n    </tr>\n    <tr>\n      <th>2628</th>\n      <td>Schiesser_David_post_test.mp4</td>\n      <td>http://suran.kky.zcu.cz:8000//uploader/web_rep...</td>\n      <td>2024-06-27 14:48:13</td>\n      <td>mjirik@kky.zcu.cz</td>\n      <td>2024-06-03 10:53</td>\n      <td>2024-06-27 12:48</td>\n      <td>25.0</td>\n      <td>NaN</td>\n      <td>NaN</td>\n      <td>NaN</td>\n      <td>...</td>\n      <td>NaN</td>\n      <td>NaN</td>\n      <td>NaN</td>\n      <td>NaN</td>\n      <td>NaN</td>\n      <td>NaN</td>\n      <td>NaN</td>\n      <td>NaN</td>\n      <td>NaN</td>\n      <td>NaN</td>\n    </tr>\n  </tbody>\n</table>\n<p>5 rows × 965 columns</p>\n</div>"
     },
     "execution_count": 147,
     "metadata": {},
     "output_type": "execute_result"
    }
   ],
   "source": [
    "df.tail()"
   ]
  },
  {
   "cell_type": "code",
   "outputs": [
    {
     "data": {
      "text/plain": "Index(['filename', 'report_url', 'timestamp', 'email', 'uploaded_at',\n       'finished_at', 'fps', 'Needle holder length [m]', 'Scissors length [m]',\n       'Forceps length [m]',\n       ...\n       'Scissors stitch 10 unit', 'Scissors stitch 10 visibility [%]',\n       'Scissors stitch 11 area presence [%]',\n       'Scissors stitch 11 median area presence [%]',\n       'Scissors stitch 12 area presence [%]',\n       'Scissors stitch 12 median area presence [%]',\n       'Scissors stitch 13 area presence [%]',\n       'Scissors stitch 13 median area presence [%]',\n       'Scissors stitch 14 area presence [%]',\n       'Scissors stitch 14 median area presence [%]'],\n      dtype='object', length=965)"
     },
     "execution_count": 148,
     "metadata": {},
     "output_type": "execute_result"
    }
   ],
   "source": [
    "df.columns"
   ],
   "metadata": {
    "collapsed": false,
    "ExecuteTime": {
     "end_time": "2024-06-27T12:51:16.213864500Z",
     "start_time": "2024-06-27T12:51:16.050866Z"
    }
   },
   "id": "708bda5294698d43",
   "execution_count": 148
  },
  {
   "cell_type": "code",
   "outputs": [],
   "source": [
    "## Select data"
   ],
   "metadata": {
    "collapsed": false,
    "ExecuteTime": {
     "end_time": "2024-06-27T12:51:16.354865400Z",
     "start_time": "2024-06-27T12:51:16.067864600Z"
    }
   },
   "id": "54f57d6207d089c",
   "execution_count": 149
  },
  {
   "cell_type": "code",
   "outputs": [],
   "source": [
    "# filename_contains_list=[\n",
    "#     \"Angelique Runkel _Pretest.mp4\", #B\n",
    "#     \"Angelique Runkel_Posttest.mp4\",\n",
    "#     \"Aryan DadashzadehKhayyat_Pretest.mp4\", #B\n",
    "#     \"Aryan DadashzadehKhayat_Posttest.mp4\",\n",
    "#     \"Fehringer_Pascal__pre_test.mp4\", #\n",
    "#     \"Fehringer_Pascal__post_test.mp4\",\n",
    "#     \"Fischer_Tom_Pretest.mp4\", #B\n",
    "#     \"Fischer_Tom-Posttest.mp4\", #B\n",
    "#     \"Gehrke,Yves-Pretest.mp4\", #B\n",
    "#     \"Gehrke,Yves - post.mp4\",\n",
    "#     \"Glöß, Monique, Pretest 1-11.10.2021.mp4\",\n",
    "#     \"Glöß, Monique_Posttest.mp4\",\n",
    "#     \"Gremme_YvonnePretest1_11_10_2021.mp4\", #B\n",
    "#     \"Gremme_Yvonne_Posttest.mp4\",\n",
    "#     \"Große Nina__Pretest___11_10_2021.mp4\", #B\n",
    "#     \"Große, Nina - Posttest.mp4\",\n",
    "#     \"Hilger,Anke-Pretest1.mp4\",\n",
    "#     \"Hilger,Anke-Posttest.mp4\",\n",
    "#     \"Huster__Janik___Pre_Test.mp4\", #B\n",
    "#     \"Huster__Janik_-_Post-Test.mp4\",\n",
    "#     \"Jonas Marx_Pretest.mp4\",\n",
    "#     \"Jonas Marx_Posttest.mp4\",\n",
    "#     \"Kraus__Caroline_PreTest1.mp4\", #B\n",
    "#     \"Kraus_Caroline_PostTest.mp4\",\n",
    "#     \"Laura Bütow_Pretest.mp4\", #B\n",
    "#     \"Laura Bütow_Posttest.mp4\",\n",
    "#     \"Lausch_Laura_Pretest.mp4\",\n",
    "#     \"Lausch_Laura-Posttest.mp4\",\n",
    "#     \"Mader_Pretest.mp4\", #B\n",
    "#     \"Mader_Posttest.mp4\",\n",
    "#     \"Neitzel_Natalie_Pretest1.mp4\",\n",
    "#     \"Neitzel_Natalie_Posttest.mp4\",\n",
    "#     \"Porthaus, Michael_Pretest1_11_10_2021.mp4\", #B\n",
    "#     \"Porthaus, Michael-Posttest.mp4\",\n",
    "#     \"Pre_-Test_Isabel_Linden.mp4\",\n",
    "#     \"Post_-Test_Isabel_Linden.mp4\",\n",
    "#     \"Sarah Grimm PreTest1.mp4\",\n",
    "#     \"Sarah Grimm post.mp4\",\n",
    "#     \"Scheufler, Rebekka__Pretest_1__11_10_21.mp4\", #\n",
    "#     \"Scheufler, Rebekka-Posttest.mp4\", #\n",
    "#     \"Schiesser_David_pre_test.mp4\",\n",
    "#     \"Schiesser_David_post_test.mp4\",\n",
    "#     \"Spitze_Vanessa_PreTest.mp4\", #B\n",
    "#     \"Spitze_Vanessa post.mp4\",\n",
    "#     \"Volkers_Pr_Test1.mp4\",\n",
    "#     \"Volkers post.mp4\",\n",
    "# ]"
   ],
   "metadata": {
    "collapsed": false,
    "ExecuteTime": {
     "end_time": "2024-06-27T12:51:16.359868300Z",
     "start_time": "2024-06-27T12:51:16.084868700Z"
    }
   },
   "id": "c10a734891d53d0",
   "execution_count": 150
  },
  {
   "cell_type": "code",
   "outputs": [],
   "source": [
    "# df[\"collections\"].str.contains(\"dataset 2024-06\").values[-1]"
   ],
   "metadata": {
    "collapsed": false,
    "ExecuteTime": {
     "end_time": "2024-06-27T12:51:16.513865900Z",
     "start_time": "2024-06-27T12:51:16.098865400Z"
    }
   },
   "id": "bc7182eab03f4bf",
   "execution_count": 151
  },
  {
   "cell_type": "code",
   "execution_count": 152,
   "id": "1eae6362d26994c1",
   "metadata": {
    "collapsed": false,
    "tags": [],
    "ExecuteTime": {
     "end_time": "2024-06-27T12:51:16.623863200Z",
     "start_time": "2024-06-27T12:51:16.116868400Z"
    }
   },
   "outputs": [
    {
     "name": "stdout",
     "output_type": "stream",
     "text": [
      "2629\n",
      "30\n"
     ]
    },
    {
     "data": {
      "text/plain": "2575    Bad-2021_11_03_A_Noll_Alexander_Einzelknopfnah...\n2585                                      donati_luis.mov\n2586            Screen_Recording_20240221_150510_Zoom.mp4\n2589                         11.4.2024.HarmsSören.NHT.mp4\n2591                          Pre_-Test_Isabel_Linden.mp4\n2594                      Fehringer_Pascal__post_test.mp4\n2599                             Hilger,Anke-Posttest.mp4\n2600     Bad-03_11_21_B_Hopfe_Johanna_Einzelknopfnaht.mp4\n2601    Bad-12_10_21__Loewe__Rebekka__Einzelknopfnaht.mp4\n2602    Bad-2021_11_03_A_Petersen_Insa_Einzelknopfnaht...\n2603    Bad-2021_11_03_A_Spitze_Vanessa_Einzelknopfnah...\n2604    Bad-2021_11_03_B_V_lz__Ann_Sophie_Einzelknopfn...\n2605    Bad-2021_11_3_A_Brodersen___nne_Einzelknopfnah...\n2606    Bad-3_11_21_B_Grumt_Alina_Einzelknopfnaht_Schw...\n2607        Bildschirmaufnahme_2022-10-11_um_11.20.24.mov\n2609                Einzelknopfnaht_Elena.Vai-Wieting.mov\n2610                     Einzelknopfnaht_Lina_Schäfer.mp4\n2613    EinzelknopfnahtamSchweinefuss_Muenzner_Simeon.mp4\n2615                   Good-Einzelknopfnaht_Stoklossa.mp4\n2616    Good-2021_10_27_B_Etzel_Peter_Einzelknopfnaht_...\n2617    Good-Schmidt_Elisabeth_Einzelknotennaht_11_10_...\n2618                 Good-Schweinefu__Einzelknopfnaht.mp4\n2619    Medium-2021_11_03_A_Seifert_Johanna_Einzelknop...\n2620    Medium-2021_11_03_A_Tengler_Sophie_Einzelknopf...\n2621                  Medium-RPReplay_Final1634048018.mp4\n2622                               Medium-Schweinefu_.mp4\n2623                       Stresstest_Einzelknopfnaht.mp4\n2624    medium-2021_11_03_A_Tengler_Sophie_Einzelknopf...\n2626                               Gehrke,Yves - post.mp4\n2628                        Schiesser_David_post_test.mp4\nName: filename, dtype: object"
     },
     "execution_count": 152,
     "metadata": {},
     "output_type": "execute_result"
    }
   ],
   "source": [
    "# remove all records with filename NA or NaN\n",
    "dfs = df[df[\"filename\"].notna()]\n",
    "dfs = dfs.copy()\n",
    "print(len(dfs))\n",
    "\n",
    "# take all records with filename containing \"Good\", \"Medium\", \"Bad\", if the filename is the same, take the last one\n",
    "\n",
    "# dfs = dfs[dfs[\"filename\"].str.contains(\"Good|Medium|Bad\")].drop_duplicates(subset=[\"filename\"], keep=\"last\")\n",
    "\n",
    "# take the records uploaded after 2024-02-01\n",
    "# uploaded_at to datetime\n",
    "dfs[\"uploaded_at\"] = pd.to_datetime(dfs[\"uploaded_at\"])\n",
    "dfs[\"timestamp\"] = pd.to_datetime(dfs[\"timestamp\"])\n",
    "# dfs = dfs[dfs[\"uploaded_at\"] > \"2024-02-01\"]\n",
    "dfs = dfs[dfs[\"timestamp\"] > \"2024-06-26 8:19:59\"]\n",
    "dfs = dfs[dfs[\"collections\"].str.contains(\"dataset 2024-06\").fillna(False)]\n",
    "\n",
    "# dfs = dfs[dfs[\"filename\"].str.contains(\"Einzelknopfnaht\")].drop_duplicates(subset=[\"filename\"], keep=\"last\")\n",
    "# dfs = dfs[dfs[\"filename\"].str.contains(\"|\".join(filename_contains_list))].drop_duplicates(subset=[\"filename\"], keep=\"last\")\n",
    "dfs = dfs.drop_duplicates(subset=[\"filename\"], keep=\"last\")\n",
    "\n",
    "print(len(dfs))\n",
    "dfs[\"filename\"]"
   ]
  },
  {
   "cell_type": "code",
   "outputs": [],
   "source": [
    "# in spreadsheet there are columns containing \"stitch 1\", \"stitch 2\", \"stitch 3\", \"stitch 4\" in their name. I would like to split each row into several rows, each containing just one stitch length and number of the stitch.\n",
    "# df_stitches = pd.DataFrame()\n",
    "# df_stitches = dfs.melt(id_vars=[\"filename\"], value_vars=dfs.columns[dfs.columns.str.contains(\" stitch 0\")], var_name=\"stitch\", value_name=\"length\")\n",
    "\n",
    "\n",
    "# dfs_all = dfs.copy()"
   ],
   "metadata": {
    "collapsed": false,
    "ExecuteTime": {
     "end_time": "2024-06-27T12:51:17.204418700Z",
     "start_time": "2024-06-27T12:51:16.845416600Z"
    }
   },
   "id": "9404ac9f58fe5863",
   "execution_count": 153
  },
  {
   "cell_type": "code",
   "outputs": [],
   "source": [
    "# pre_post_col = []\n",
    "# for i, filename in enumerate(filename_contains_list):\n",
    "#     # if odd number it is \"pretest\" if even number it is \"posttest\"\n",
    "#     \n",
    "#     if i % 2 == 0:\n",
    "#         val = \"pretest\"\n",
    "#     else:\n",
    "#         val = \"posttest\"\n",
    "#     pre_post_col.append(val)\n",
    "#     print(f\"{val}: {filename}\")\n",
    "# \n",
    "# pre_post_dict = {filename: val for filename, val in zip(filename_contains_list, pre_post_col)}\n",
    "# dfs[\"is_pretest_num\"] = dfs[\"filename\"].apply(lambda x: pre_post_dict[x] == \"pretest\").astype(int)\n",
    "# \n",
    "# dfs_all = dfs.copy()\n"
   ],
   "metadata": {
    "collapsed": false,
    "ExecuteTime": {
     "end_time": "2024-06-27T12:51:18.827602300Z",
     "start_time": "2024-06-27T12:51:18.621660200Z"
    }
   },
   "id": "556dcd8f8a278268",
   "execution_count": 154
  },
  {
   "cell_type": "code",
   "outputs": [],
   "source": [],
   "metadata": {
    "collapsed": false,
    "ExecuteTime": {
     "end_time": "2024-06-27T12:51:20.477605800Z",
     "start_time": "2024-06-27T12:51:20.405602400Z"
    }
   },
   "id": "f39b585e3e843b24",
   "execution_count": 154
  },
  {
   "cell_type": "code",
   "outputs": [],
   "source": [
    "# go over dfs and add column \"pretest_posttest\" with value \"pretest\" or \"posttest\" accoarding to the filename\n",
    "\n",
    "# dfs[\"pretest_posttest\"] = dfs[\"filename\"].apply(lambda x: pre_post_dict[x])\n",
    "# dfs[\"is_pretest\"] = dfs[\"pretest_posttest\"] == \"pretest\"\n",
    "# dfs[\"is_pretest_num\"] = dfs[\"is_pretest\"].astype(int)"
   ],
   "metadata": {
    "collapsed": false,
    "ExecuteTime": {
     "end_time": "2024-06-27T12:51:21.025603400Z",
     "start_time": "2024-06-27T12:51:20.862604100Z"
    }
   },
   "id": "f83980aa88ed4cef",
   "execution_count": 155
  },
  {
   "cell_type": "markdown",
   "source": [
    "## Check annotations with not good tracking and remove them from the data"
   ],
   "metadata": {
    "collapsed": false
   },
   "id": "622362e1389155ef"
  },
  {
   "cell_type": "code",
   "outputs": [],
   "source": [
    "# dfs[~dfs[\"annotation_annotation_annotation\"].str.contains(\"tracking_ok|tracking OK|trackink_ok\")][[\"filename\", \"annotation_annotation_annotation\"]]\n"
   ],
   "metadata": {
    "collapsed": false,
    "ExecuteTime": {
     "end_time": "2024-06-27T12:51:22.233624300Z",
     "start_time": "2024-06-27T12:51:22.048603800Z"
    }
   },
   "id": "89490850ab673b5",
   "execution_count": 156
  },
  {
   "cell_type": "code",
   "outputs": [],
   "source": [],
   "metadata": {
    "collapsed": false,
    "ExecuteTime": {
     "end_time": "2024-06-27T12:51:22.918602700Z",
     "start_time": "2024-06-27T12:51:22.739604Z"
    }
   },
   "id": "d7b703380bbe86f2",
   "execution_count": 156
  },
  {
   "cell_type": "code",
   "outputs": [],
   "source": [
    "# dfs[\"annotation_annotation_stars\"]"
   ],
   "metadata": {
    "collapsed": false,
    "ExecuteTime": {
     "end_time": "2024-06-17T13:27:20.847851500Z",
     "start_time": "2024-06-17T13:27:20.622214200Z"
    }
   },
   "id": "c82645fd946211dd",
   "execution_count": 313
  },
  {
   "cell_type": "code",
   "execution_count": 14,
   "id": "fc241688bee9d33c",
   "metadata": {
    "collapsed": false,
    "tags": [],
    "ExecuteTime": {
     "end_time": "2024-06-27T08:16:44.966636100Z",
     "start_time": "2024-06-27T08:16:44.799634800Z"
    }
   },
   "outputs": [
    {
     "data": {
      "text/plain": "30"
     },
     "execution_count": 14,
     "metadata": {},
     "output_type": "execute_result"
    }
   ],
   "source": [
    "len(dfs)"
   ]
  },
  {
   "cell_type": "code",
   "outputs": [
    {
     "data": {
      "text/plain": "                                               filename  \\\n2562  Bad-2021_11_03_A_Petersen_Insa_Einzelknopfnaht...   \n2563  Bad-2021_11_03_A_Spitze_Vanessa_Einzelknopfnah...   \n2564  Bad-2021_11_03_B_V_lz__Ann_Sophie_Einzelknopfn...   \n2565  Good-2021_10_27_B_Etzel_Peter_Einzelknopfnaht_...   \n2566  Medium-2021_11_03_A_Tengler_Sophie_Einzelknopf...   \n2567  Bad-2021_11_3_A_Brodersen___nne_Einzelknopfnah...   \n2568  Bad-12_10_21__Loewe__Rebekka__Einzelknopfnaht.mp4   \n2569  medium-2021_11_03_A_Tengler_Sophie_Einzelknopf...   \n2571  Medium-2021_11_03_A_Seifert_Johanna_Einzelknop...   \n2573                 Good-Einzelknopfnaht_Stoklossa.mp4   \n2575  Bad-2021_11_03_A_Noll_Alexander_Einzelknopfnah...   \n2577  Bad-3_11_21_B_Grumt_Alina_Einzelknopfnaht_Schw...   \n2578  Good-Schmidt_Elisabeth_Einzelknotennaht_11_10_...   \n2579               Good-Schweinefu__Einzelknopfnaht.mp4   \n2581                Medium-RPReplay_Final1634048018.mp4   \n2582                             Medium-Schweinefu_.mp4   \n2583   Bad-03_11_21_B_Hopfe_Johanna_Einzelknopfnaht.mp4   \n2584                   Einzelknopfnaht_Lina_Schäfer.mp4   \n2585                                    donati_luis.mov   \n2586          Screen_Recording_20240221_150510_Zoom.mp4   \n2587              Einzelknopfnaht_Elena.Vai-Wieting.mov   \n2588  EinzelknopfnahtamSchweinefuss_Muenzner_Simeon.mp4   \n2589                       11.4.2024.HarmsSören.NHT.mp4   \n2590                             Gehrke,Yves - post.mp4   \n2591                        Pre_-Test_Isabel_Linden.mp4   \n2593                     Stresstest_Einzelknopfnaht.mp4   \n2594                    Fehringer_Pascal__post_test.mp4   \n2595                           Hilger,Anke-Posttest.mp4   \n2596      Bildschirmaufnahme_2022-10-11_um_11.20.24.mov   \n2597                      Schiesser_David_post_test.mp4   \n\n                                             report_url           timestamp  \\\n2562  http://suran.kky.zcu.cz:8000//uploader/web_rep... 2024-06-26 13:33:51   \n2563  http://suran.kky.zcu.cz:8000//uploader/web_rep... 2024-06-26 13:34:07   \n2564  http://suran.kky.zcu.cz:8000//uploader/web_rep... 2024-06-26 13:34:09   \n2565  http://suran.kky.zcu.cz:8000//uploader/web_rep... 2024-06-26 13:37:29   \n2566  http://suran.kky.zcu.cz:8000//uploader/web_rep... 2024-06-26 13:37:34   \n2567  http://suran.kky.zcu.cz:8000//uploader/web_rep... 2024-06-26 13:38:13   \n2568  http://suran.kky.zcu.cz:8000//uploader/web_rep... 2024-06-26 13:38:25   \n2569  http://suran.kky.zcu.cz:8000//uploader/web_rep... 2024-06-26 13:40:47   \n2571  http://suran.kky.zcu.cz:8000//uploader/web_rep... 2024-06-26 13:43:13   \n2573  http://suran.kky.zcu.cz:8000//uploader/web_rep... 2024-06-26 13:44:17   \n2575  http://suran.kky.zcu.cz:8000//uploader/web_rep... 2024-06-26 13:45:10   \n2577  http://suran.kky.zcu.cz:8000//uploader/web_rep... 2024-06-26 13:46:23   \n2578  http://suran.kky.zcu.cz:8000//uploader/web_rep... 2024-06-26 13:48:44   \n2579  http://suran.kky.zcu.cz:8000//uploader/web_rep... 2024-06-26 13:49:48   \n2581  http://suran.kky.zcu.cz:8000//uploader/web_rep... 2024-06-26 13:50:42   \n2582  http://suran.kky.zcu.cz:8000//uploader/web_rep... 2024-06-26 13:50:49   \n2583  http://suran.kky.zcu.cz:8000//uploader/web_rep... 2024-06-26 13:50:54   \n2584  http://suran.kky.zcu.cz:8000//uploader/web_rep... 2024-06-26 13:56:23   \n2585  http://suran.kky.zcu.cz:8000//uploader/web_rep... 2024-06-26 13:59:39   \n2586  http://suran.kky.zcu.cz:8000//uploader/web_rep... 2024-06-26 13:59:43   \n2587  http://suran.kky.zcu.cz:8000//uploader/web_rep... 2024-06-26 14:00:36   \n2588  http://suran.kky.zcu.cz:8000//uploader/web_rep... 2024-06-26 14:03:52   \n2589  http://suran.kky.zcu.cz:8000//uploader/web_rep... 2024-06-26 14:06:17   \n2590  http://suran.kky.zcu.cz:8000//uploader/web_rep... 2024-06-26 14:08:20   \n2591  http://suran.kky.zcu.cz:8000//uploader/web_rep... 2024-06-26 14:10:28   \n2593  http://suran.kky.zcu.cz:8000//uploader/web_rep... 2024-06-26 14:12:55   \n2594  http://suran.kky.zcu.cz:8000//uploader/web_rep... 2024-06-26 14:13:48   \n2595  http://suran.kky.zcu.cz:8000//uploader/web_rep... 2024-06-26 14:15:02   \n2596  http://suran.kky.zcu.cz:8000//uploader/web_rep... 2024-06-26 14:15:47   \n2597  http://suran.kky.zcu.cz:8000//uploader/web_rep... 2024-06-26 14:17:02   \n\n                                email         uploaded_at       finished_at  \\\n2562       khalatbari.sadaf@gmail.com 2022-06-20 08:28:00  2024-06-26 11:33   \n2563       khalatbari.sadaf@gmail.com 2022-06-20 08:30:00  2024-06-26 11:33   \n2564       khalatbari.sadaf@gmail.com 2022-06-20 08:33:00  2024-06-26 11:33   \n2565       khalatbari.sadaf@gmail.com 2022-06-20 08:40:00  2024-06-26 11:37   \n2566       khalatbari.sadaf@gmail.com 2022-06-20 09:07:00  2024-06-26 11:37   \n2567       khalatbari.sadaf@gmail.com 2022-06-20 08:38:00  2024-06-26 11:38   \n2568       khalatbari.sadaf@gmail.com 2022-06-20 08:26:00  2024-06-26 11:38   \n2569       khalatbari.sadaf@gmail.com 2022-07-07 16:48:00  2024-06-26 11:40   \n2571       khalatbari.sadaf@gmail.com 2022-07-07 16:50:00  2024-06-26 11:43   \n2573       khalatbari.sadaf@gmail.com 2022-06-20 08:55:00  2024-06-26 11:44   \n2575       khalatbari.sadaf@gmail.com 2022-07-07 17:08:00  2024-06-26 11:44   \n2577       khalatbari.sadaf@gmail.com 2022-07-07 17:16:00  2024-06-26 11:46   \n2578       Khalatbari.sadaf@gmail.com 2022-08-01 08:56:00  2024-06-26 11:48   \n2579       Khalatbari.sadaf@gmail.com 2022-08-01 08:58:00  2024-06-26 11:49   \n2581       Khalatbari.sadaf@gmail.com 2022-08-01 09:14:00  2024-06-26 11:50   \n2582       Khalatbari.sadaf@gmail.com 2022-08-01 09:18:00  2024-06-26 11:50   \n2583       khalatbari.sadaf@gmail.com 2022-07-07 17:33:00  2024-06-26 11:50   \n2584        lina.schaefer@uni-jena.de 2024-02-20 11:41:00  2024-06-26 11:56   \n2585       luis.schneider@uni-jena.de 2024-02-21 14:38:00  2024-06-26 11:59   \n2586      hannah.schieder@uni-jena.de 2024-02-21 20:05:00  2024-06-26 11:59   \n2587    Elena.Vai-Wieting@uni-jena.de 2024-02-20 17:15:00  2024-06-26 12:00   \n2588      simeon.muenzner@uni-jena.de 2024-02-20 20:59:00  2024-06-26 12:03   \n2589         soeren.harms@uni-jena.de 2024-04-11 14:28:00  2024-06-26 12:06   \n2590                mjirik@kky.zcu.cz 2024-06-03 10:53:00  2024-06-26 12:08   \n2591  carina.bachmann@med.uni-jena.de 2024-05-24 06:46:00  2024-06-26 12:10   \n2593       laurin.lindner@uni-jena.de 2024-02-22 21:38:00  2024-06-26 12:12   \n2594                mjirik@kky.zcu.cz 2024-06-03 10:53:00  2024-06-26 12:13   \n2595                mjirik@kky.zcu.cz 2024-06-03 10:53:00  2024-06-26 12:15   \n2596   fynn-malte.helbing@uni-jena.de 2022-10-11 15:35:00  2024-06-26 12:15   \n2597                mjirik@kky.zcu.cz 2024-06-03 10:53:00  2024-06-26 12:17   \n\n       fps Needle holder length [m] Scissors length [m] Forceps length [m]  \\\n2562  25.0                      NaN                 NaN                NaN   \n2563  25.0                      NaN                 NaN                NaN   \n2564  25.0                      NaN                 NaN                NaN   \n2565  25.0                      NaN                 NaN                NaN   \n2566  25.0                      NaN                 NaN                NaN   \n2567  25.0                      NaN                 NaN                NaN   \n2568  25.0                      NaN                 NaN                NaN   \n2569  25.0                      NaN                 NaN                NaN   \n2571  25.0                      NaN                 NaN                NaN   \n2573  25.0                      NaN                 NaN                NaN   \n2575  25.0                      NaN                 NaN                NaN   \n2577  25.0                      NaN                 NaN                NaN   \n2578  25.0                      NaN                 NaN                NaN   \n2579  25.0                      NaN                 NaN                NaN   \n2581  25.0                      NaN                 NaN                NaN   \n2582  25.0                      NaN                 NaN                NaN   \n2583  25.0                      NaN                 NaN                NaN   \n2584  22.0                      NaN                 NaN                NaN   \n2585  60.0                      NaN                 NaN                NaN   \n2586  60.0                      NaN                 NaN                NaN   \n2587  29.0                      NaN                 NaN                NaN   \n2588  30.0                      NaN                 NaN                NaN   \n2589  30.0                      NaN                 NaN                NaN   \n2590  25.0                      NaN                 NaN                NaN   \n2591  25.0                      NaN                 NaN                NaN   \n2593  29.0                      NaN                 NaN                NaN   \n2594  25.0                      NaN                 NaN                NaN   \n2595  25.0                      NaN                 NaN                NaN   \n2596  60.0                      NaN                 NaN                NaN   \n2597  25.0                      NaN                 NaN                NaN   \n\n      ... Scissors stitch 10 unit Scissors stitch 10 visibility [%]  \\\n2562  ...                     NaN                               NaN   \n2563  ...                     NaN                               NaN   \n2564  ...                     NaN                               NaN   \n2565  ...                     NaN                               NaN   \n2566  ...                     NaN                               NaN   \n2567  ...                     NaN                               NaN   \n2568  ...                     NaN                               NaN   \n2569  ...                     NaN                               NaN   \n2571  ...                     NaN                               NaN   \n2573  ...                     NaN                               NaN   \n2575  ...                     NaN                               NaN   \n2577  ...                     NaN                               NaN   \n2578  ...                     NaN                               NaN   \n2579  ...                     NaN                               NaN   \n2581  ...                     NaN                               NaN   \n2582  ...                     NaN                               NaN   \n2583  ...                     NaN                               NaN   \n2584  ...                     NaN                               NaN   \n2585  ...                     NaN                               NaN   \n2586  ...                     NaN                               NaN   \n2587  ...                     NaN                               NaN   \n2588  ...                     NaN                               NaN   \n2589  ...                     NaN                               NaN   \n2590  ...                     NaN                               NaN   \n2591  ...                     NaN                               NaN   \n2593  ...                     NaN                               NaN   \n2594  ...                     NaN                               NaN   \n2595  ...                     NaN                               NaN   \n2596  ...                     NaN                               NaN   \n2597  ...                     NaN                               NaN   \n\n     Scissors stitch 11 area presence [%]  \\\n2562                                  NaN   \n2563                                  NaN   \n2564                                  NaN   \n2565                                  NaN   \n2566                                  NaN   \n2567                                  NaN   \n2568                                  NaN   \n2569                                  NaN   \n2571                                  NaN   \n2573                                  NaN   \n2575                                  NaN   \n2577                                  NaN   \n2578                                  NaN   \n2579                                  NaN   \n2581                                  NaN   \n2582                                  NaN   \n2583                                  NaN   \n2584                                  NaN   \n2585                                  NaN   \n2586                                  NaN   \n2587                                  NaN   \n2588                                  NaN   \n2589                                  NaN   \n2590                                  NaN   \n2591                                  NaN   \n2593                                  NaN   \n2594                                  NaN   \n2595                                  NaN   \n2596                                  NaN   \n2597                                  NaN   \n\n     Scissors stitch 11 median area presence [%]  \\\n2562                                         NaN   \n2563                                         NaN   \n2564                                         NaN   \n2565                                         NaN   \n2566                                         NaN   \n2567                                         NaN   \n2568                                         NaN   \n2569                                         NaN   \n2571                                         NaN   \n2573                                         NaN   \n2575                                         NaN   \n2577                                         NaN   \n2578                                         NaN   \n2579                                         NaN   \n2581                                         NaN   \n2582                                         NaN   \n2583                                         NaN   \n2584                                         NaN   \n2585                                         NaN   \n2586                                         NaN   \n2587                                         NaN   \n2588                                         NaN   \n2589                                         NaN   \n2590                                         NaN   \n2591                                         NaN   \n2593                                         NaN   \n2594                                         NaN   \n2595                                         NaN   \n2596                                         NaN   \n2597                                         NaN   \n\n     Scissors stitch 12 area presence [%]  \\\n2562                                  NaN   \n2563                                  NaN   \n2564                                  NaN   \n2565                                  NaN   \n2566                                  NaN   \n2567                                  NaN   \n2568                                  NaN   \n2569                                  NaN   \n2571                                  NaN   \n2573                                  NaN   \n2575                                  NaN   \n2577                                  NaN   \n2578                                  NaN   \n2579                                  NaN   \n2581                                  NaN   \n2582                                  NaN   \n2583                                  NaN   \n2584                                  NaN   \n2585                                  NaN   \n2586                                  NaN   \n2587                                  NaN   \n2588                                  NaN   \n2589                                  NaN   \n2590                                  NaN   \n2591                                  NaN   \n2593                                  NaN   \n2594                                  NaN   \n2595                                  NaN   \n2596                                  NaN   \n2597                                  NaN   \n\n     Scissors stitch 12 median area presence [%]  \\\n2562                                         NaN   \n2563                                         NaN   \n2564                                         NaN   \n2565                                         NaN   \n2566                                         NaN   \n2567                                         NaN   \n2568                                         NaN   \n2569                                         NaN   \n2571                                         NaN   \n2573                                         NaN   \n2575                                         NaN   \n2577                                         NaN   \n2578                                         NaN   \n2579                                         NaN   \n2581                                         NaN   \n2582                                         NaN   \n2583                                         NaN   \n2584                                         NaN   \n2585                                         NaN   \n2586                                         NaN   \n2587                                         NaN   \n2588                                         NaN   \n2589                                         NaN   \n2590                                         NaN   \n2591                                         NaN   \n2593                                         NaN   \n2594                                         NaN   \n2595                                         NaN   \n2596                                         NaN   \n2597                                         NaN   \n\n     Scissors stitch 13 area presence [%]  \\\n2562                                  NaN   \n2563                                  NaN   \n2564                                  NaN   \n2565                                  NaN   \n2566                                  NaN   \n2567                                  NaN   \n2568                                  NaN   \n2569                                  NaN   \n2571                                  NaN   \n2573                                  NaN   \n2575                                  NaN   \n2577                                  NaN   \n2578                                  NaN   \n2579                                  NaN   \n2581                                  NaN   \n2582                                  NaN   \n2583                                  NaN   \n2584                                  NaN   \n2585                                  NaN   \n2586                                  NaN   \n2587                                  NaN   \n2588                                  NaN   \n2589                                  NaN   \n2590                                  NaN   \n2591                                  NaN   \n2593                                  NaN   \n2594                                  NaN   \n2595                                  NaN   \n2596                                  NaN   \n2597                                  NaN   \n\n     Scissors stitch 13 median area presence [%]  \\\n2562                                         NaN   \n2563                                         NaN   \n2564                                         NaN   \n2565                                         NaN   \n2566                                         NaN   \n2567                                         NaN   \n2568                                         NaN   \n2569                                         NaN   \n2571                                         NaN   \n2573                                         NaN   \n2575                                         NaN   \n2577                                         NaN   \n2578                                         NaN   \n2579                                         NaN   \n2581                                         NaN   \n2582                                         NaN   \n2583                                         NaN   \n2584                                         NaN   \n2585                                         NaN   \n2586                                         NaN   \n2587                                         NaN   \n2588                                         NaN   \n2589                                         NaN   \n2590                                         NaN   \n2591                                         NaN   \n2593                                         NaN   \n2594                                         NaN   \n2595                                         NaN   \n2596                                         NaN   \n2597                                         NaN   \n\n     Scissors stitch 14 area presence [%]  \\\n2562                                  NaN   \n2563                                  NaN   \n2564                                  NaN   \n2565                                  NaN   \n2566                                  NaN   \n2567                                  NaN   \n2568                                  NaN   \n2569                                  NaN   \n2571                                  NaN   \n2573                                  NaN   \n2575                                  NaN   \n2577                                  NaN   \n2578                                  NaN   \n2579                                  NaN   \n2581                                  NaN   \n2582                                  NaN   \n2583                                  NaN   \n2584                                  NaN   \n2585                                  NaN   \n2586                                  NaN   \n2587                                  NaN   \n2588                                  NaN   \n2589                                  NaN   \n2590                                  NaN   \n2591                                  NaN   \n2593                                  NaN   \n2594                                  NaN   \n2595                                  NaN   \n2596                                  NaN   \n2597                                  NaN   \n\n     Scissors stitch 14 median area presence [%]  \n2562                                         NaN  \n2563                                         NaN  \n2564                                         NaN  \n2565                                         NaN  \n2566                                         NaN  \n2567                                         NaN  \n2568                                         NaN  \n2569                                         NaN  \n2571                                         NaN  \n2573                                         NaN  \n2575                                         NaN  \n2577                                         NaN  \n2578                                         NaN  \n2579                                         NaN  \n2581                                         NaN  \n2582                                         NaN  \n2583                                         NaN  \n2584                                         NaN  \n2585                                         NaN  \n2586                                         NaN  \n2587                                         NaN  \n2588                                         NaN  \n2589                                         NaN  \n2590                                         NaN  \n2591                                         NaN  \n2593                                         NaN  \n2594                                         NaN  \n2595                                         NaN  \n2596                                         NaN  \n2597                                         NaN  \n\n[30 rows x 965 columns]",
      "text/html": "<div>\n<style scoped>\n    .dataframe tbody tr th:only-of-type {\n        vertical-align: middle;\n    }\n\n    .dataframe tbody tr th {\n        vertical-align: top;\n    }\n\n    .dataframe thead th {\n        text-align: right;\n    }\n</style>\n<table border=\"1\" class=\"dataframe\">\n  <thead>\n    <tr style=\"text-align: right;\">\n      <th></th>\n      <th>filename</th>\n      <th>report_url</th>\n      <th>timestamp</th>\n      <th>email</th>\n      <th>uploaded_at</th>\n      <th>finished_at</th>\n      <th>fps</th>\n      <th>Needle holder length [m]</th>\n      <th>Scissors length [m]</th>\n      <th>Forceps length [m]</th>\n      <th>...</th>\n      <th>Scissors stitch 10 unit</th>\n      <th>Scissors stitch 10 visibility [%]</th>\n      <th>Scissors stitch 11 area presence [%]</th>\n      <th>Scissors stitch 11 median area presence [%]</th>\n      <th>Scissors stitch 12 area presence [%]</th>\n      <th>Scissors stitch 12 median area presence [%]</th>\n      <th>Scissors stitch 13 area presence [%]</th>\n      <th>Scissors stitch 13 median area presence [%]</th>\n      <th>Scissors stitch 14 area presence [%]</th>\n      <th>Scissors stitch 14 median area presence [%]</th>\n    </tr>\n  </thead>\n  <tbody>\n    <tr>\n      <th>2562</th>\n      <td>Bad-2021_11_03_A_Petersen_Insa_Einzelknopfnaht...</td>\n      <td>http://suran.kky.zcu.cz:8000//uploader/web_rep...</td>\n      <td>2024-06-26 13:33:51</td>\n      <td>khalatbari.sadaf@gmail.com</td>\n      <td>2022-06-20 08:28:00</td>\n      <td>2024-06-26 11:33</td>\n      <td>25.0</td>\n      <td>NaN</td>\n      <td>NaN</td>\n      <td>NaN</td>\n      <td>...</td>\n      <td>NaN</td>\n      <td>NaN</td>\n      <td>NaN</td>\n      <td>NaN</td>\n      <td>NaN</td>\n      <td>NaN</td>\n      <td>NaN</td>\n      <td>NaN</td>\n      <td>NaN</td>\n      <td>NaN</td>\n    </tr>\n    <tr>\n      <th>2563</th>\n      <td>Bad-2021_11_03_A_Spitze_Vanessa_Einzelknopfnah...</td>\n      <td>http://suran.kky.zcu.cz:8000//uploader/web_rep...</td>\n      <td>2024-06-26 13:34:07</td>\n      <td>khalatbari.sadaf@gmail.com</td>\n      <td>2022-06-20 08:30:00</td>\n      <td>2024-06-26 11:33</td>\n      <td>25.0</td>\n      <td>NaN</td>\n      <td>NaN</td>\n      <td>NaN</td>\n      <td>...</td>\n      <td>NaN</td>\n      <td>NaN</td>\n      <td>NaN</td>\n      <td>NaN</td>\n      <td>NaN</td>\n      <td>NaN</td>\n      <td>NaN</td>\n      <td>NaN</td>\n      <td>NaN</td>\n      <td>NaN</td>\n    </tr>\n    <tr>\n      <th>2564</th>\n      <td>Bad-2021_11_03_B_V_lz__Ann_Sophie_Einzelknopfn...</td>\n      <td>http://suran.kky.zcu.cz:8000//uploader/web_rep...</td>\n      <td>2024-06-26 13:34:09</td>\n      <td>khalatbari.sadaf@gmail.com</td>\n      <td>2022-06-20 08:33:00</td>\n      <td>2024-06-26 11:33</td>\n      <td>25.0</td>\n      <td>NaN</td>\n      <td>NaN</td>\n      <td>NaN</td>\n      <td>...</td>\n      <td>NaN</td>\n      <td>NaN</td>\n      <td>NaN</td>\n      <td>NaN</td>\n      <td>NaN</td>\n      <td>NaN</td>\n      <td>NaN</td>\n      <td>NaN</td>\n      <td>NaN</td>\n      <td>NaN</td>\n    </tr>\n    <tr>\n      <th>2565</th>\n      <td>Good-2021_10_27_B_Etzel_Peter_Einzelknopfnaht_...</td>\n      <td>http://suran.kky.zcu.cz:8000//uploader/web_rep...</td>\n      <td>2024-06-26 13:37:29</td>\n      <td>khalatbari.sadaf@gmail.com</td>\n      <td>2022-06-20 08:40:00</td>\n      <td>2024-06-26 11:37</td>\n      <td>25.0</td>\n      <td>NaN</td>\n      <td>NaN</td>\n      <td>NaN</td>\n      <td>...</td>\n      <td>NaN</td>\n      <td>NaN</td>\n      <td>NaN</td>\n      <td>NaN</td>\n      <td>NaN</td>\n      <td>NaN</td>\n      <td>NaN</td>\n      <td>NaN</td>\n      <td>NaN</td>\n      <td>NaN</td>\n    </tr>\n    <tr>\n      <th>2566</th>\n      <td>Medium-2021_11_03_A_Tengler_Sophie_Einzelknopf...</td>\n      <td>http://suran.kky.zcu.cz:8000//uploader/web_rep...</td>\n      <td>2024-06-26 13:37:34</td>\n      <td>khalatbari.sadaf@gmail.com</td>\n      <td>2022-06-20 09:07:00</td>\n      <td>2024-06-26 11:37</td>\n      <td>25.0</td>\n      <td>NaN</td>\n      <td>NaN</td>\n      <td>NaN</td>\n      <td>...</td>\n      <td>NaN</td>\n      <td>NaN</td>\n      <td>NaN</td>\n      <td>NaN</td>\n      <td>NaN</td>\n      <td>NaN</td>\n      <td>NaN</td>\n      <td>NaN</td>\n      <td>NaN</td>\n      <td>NaN</td>\n    </tr>\n    <tr>\n      <th>2567</th>\n      <td>Bad-2021_11_3_A_Brodersen___nne_Einzelknopfnah...</td>\n      <td>http://suran.kky.zcu.cz:8000//uploader/web_rep...</td>\n      <td>2024-06-26 13:38:13</td>\n      <td>khalatbari.sadaf@gmail.com</td>\n      <td>2022-06-20 08:38:00</td>\n      <td>2024-06-26 11:38</td>\n      <td>25.0</td>\n      <td>NaN</td>\n      <td>NaN</td>\n      <td>NaN</td>\n      <td>...</td>\n      <td>NaN</td>\n      <td>NaN</td>\n      <td>NaN</td>\n      <td>NaN</td>\n      <td>NaN</td>\n      <td>NaN</td>\n      <td>NaN</td>\n      <td>NaN</td>\n      <td>NaN</td>\n      <td>NaN</td>\n    </tr>\n    <tr>\n      <th>2568</th>\n      <td>Bad-12_10_21__Loewe__Rebekka__Einzelknopfnaht.mp4</td>\n      <td>http://suran.kky.zcu.cz:8000//uploader/web_rep...</td>\n      <td>2024-06-26 13:38:25</td>\n      <td>khalatbari.sadaf@gmail.com</td>\n      <td>2022-06-20 08:26:00</td>\n      <td>2024-06-26 11:38</td>\n      <td>25.0</td>\n      <td>NaN</td>\n      <td>NaN</td>\n      <td>NaN</td>\n      <td>...</td>\n      <td>NaN</td>\n      <td>NaN</td>\n      <td>NaN</td>\n      <td>NaN</td>\n      <td>NaN</td>\n      <td>NaN</td>\n      <td>NaN</td>\n      <td>NaN</td>\n      <td>NaN</td>\n      <td>NaN</td>\n    </tr>\n    <tr>\n      <th>2569</th>\n      <td>medium-2021_11_03_A_Tengler_Sophie_Einzelknopf...</td>\n      <td>http://suran.kky.zcu.cz:8000//uploader/web_rep...</td>\n      <td>2024-06-26 13:40:47</td>\n      <td>khalatbari.sadaf@gmail.com</td>\n      <td>2022-07-07 16:48:00</td>\n      <td>2024-06-26 11:40</td>\n      <td>25.0</td>\n      <td>NaN</td>\n      <td>NaN</td>\n      <td>NaN</td>\n      <td>...</td>\n      <td>NaN</td>\n      <td>NaN</td>\n      <td>NaN</td>\n      <td>NaN</td>\n      <td>NaN</td>\n      <td>NaN</td>\n      <td>NaN</td>\n      <td>NaN</td>\n      <td>NaN</td>\n      <td>NaN</td>\n    </tr>\n    <tr>\n      <th>2571</th>\n      <td>Medium-2021_11_03_A_Seifert_Johanna_Einzelknop...</td>\n      <td>http://suran.kky.zcu.cz:8000//uploader/web_rep...</td>\n      <td>2024-06-26 13:43:13</td>\n      <td>khalatbari.sadaf@gmail.com</td>\n      <td>2022-07-07 16:50:00</td>\n      <td>2024-06-26 11:43</td>\n      <td>25.0</td>\n      <td>NaN</td>\n      <td>NaN</td>\n      <td>NaN</td>\n      <td>...</td>\n      <td>NaN</td>\n      <td>NaN</td>\n      <td>NaN</td>\n      <td>NaN</td>\n      <td>NaN</td>\n      <td>NaN</td>\n      <td>NaN</td>\n      <td>NaN</td>\n      <td>NaN</td>\n      <td>NaN</td>\n    </tr>\n    <tr>\n      <th>2573</th>\n      <td>Good-Einzelknopfnaht_Stoklossa.mp4</td>\n      <td>http://suran.kky.zcu.cz:8000//uploader/web_rep...</td>\n      <td>2024-06-26 13:44:17</td>\n      <td>khalatbari.sadaf@gmail.com</td>\n      <td>2022-06-20 08:55:00</td>\n      <td>2024-06-26 11:44</td>\n      <td>25.0</td>\n      <td>NaN</td>\n      <td>NaN</td>\n      <td>NaN</td>\n      <td>...</td>\n      <td>NaN</td>\n      <td>NaN</td>\n      <td>NaN</td>\n      <td>NaN</td>\n      <td>NaN</td>\n      <td>NaN</td>\n      <td>NaN</td>\n      <td>NaN</td>\n      <td>NaN</td>\n      <td>NaN</td>\n    </tr>\n    <tr>\n      <th>2575</th>\n      <td>Bad-2021_11_03_A_Noll_Alexander_Einzelknopfnah...</td>\n      <td>http://suran.kky.zcu.cz:8000//uploader/web_rep...</td>\n      <td>2024-06-26 13:45:10</td>\n      <td>khalatbari.sadaf@gmail.com</td>\n      <td>2022-07-07 17:08:00</td>\n      <td>2024-06-26 11:44</td>\n      <td>25.0</td>\n      <td>NaN</td>\n      <td>NaN</td>\n      <td>NaN</td>\n      <td>...</td>\n      <td>NaN</td>\n      <td>NaN</td>\n      <td>NaN</td>\n      <td>NaN</td>\n      <td>NaN</td>\n      <td>NaN</td>\n      <td>NaN</td>\n      <td>NaN</td>\n      <td>NaN</td>\n      <td>NaN</td>\n    </tr>\n    <tr>\n      <th>2577</th>\n      <td>Bad-3_11_21_B_Grumt_Alina_Einzelknopfnaht_Schw...</td>\n      <td>http://suran.kky.zcu.cz:8000//uploader/web_rep...</td>\n      <td>2024-06-26 13:46:23</td>\n      <td>khalatbari.sadaf@gmail.com</td>\n      <td>2022-07-07 17:16:00</td>\n      <td>2024-06-26 11:46</td>\n      <td>25.0</td>\n      <td>NaN</td>\n      <td>NaN</td>\n      <td>NaN</td>\n      <td>...</td>\n      <td>NaN</td>\n      <td>NaN</td>\n      <td>NaN</td>\n      <td>NaN</td>\n      <td>NaN</td>\n      <td>NaN</td>\n      <td>NaN</td>\n      <td>NaN</td>\n      <td>NaN</td>\n      <td>NaN</td>\n    </tr>\n    <tr>\n      <th>2578</th>\n      <td>Good-Schmidt_Elisabeth_Einzelknotennaht_11_10_...</td>\n      <td>http://suran.kky.zcu.cz:8000//uploader/web_rep...</td>\n      <td>2024-06-26 13:48:44</td>\n      <td>Khalatbari.sadaf@gmail.com</td>\n      <td>2022-08-01 08:56:00</td>\n      <td>2024-06-26 11:48</td>\n      <td>25.0</td>\n      <td>NaN</td>\n      <td>NaN</td>\n      <td>NaN</td>\n      <td>...</td>\n      <td>NaN</td>\n      <td>NaN</td>\n      <td>NaN</td>\n      <td>NaN</td>\n      <td>NaN</td>\n      <td>NaN</td>\n      <td>NaN</td>\n      <td>NaN</td>\n      <td>NaN</td>\n      <td>NaN</td>\n    </tr>\n    <tr>\n      <th>2579</th>\n      <td>Good-Schweinefu__Einzelknopfnaht.mp4</td>\n      <td>http://suran.kky.zcu.cz:8000//uploader/web_rep...</td>\n      <td>2024-06-26 13:49:48</td>\n      <td>Khalatbari.sadaf@gmail.com</td>\n      <td>2022-08-01 08:58:00</td>\n      <td>2024-06-26 11:49</td>\n      <td>25.0</td>\n      <td>NaN</td>\n      <td>NaN</td>\n      <td>NaN</td>\n      <td>...</td>\n      <td>NaN</td>\n      <td>NaN</td>\n      <td>NaN</td>\n      <td>NaN</td>\n      <td>NaN</td>\n      <td>NaN</td>\n      <td>NaN</td>\n      <td>NaN</td>\n      <td>NaN</td>\n      <td>NaN</td>\n    </tr>\n    <tr>\n      <th>2581</th>\n      <td>Medium-RPReplay_Final1634048018.mp4</td>\n      <td>http://suran.kky.zcu.cz:8000//uploader/web_rep...</td>\n      <td>2024-06-26 13:50:42</td>\n      <td>Khalatbari.sadaf@gmail.com</td>\n      <td>2022-08-01 09:14:00</td>\n      <td>2024-06-26 11:50</td>\n      <td>25.0</td>\n      <td>NaN</td>\n      <td>NaN</td>\n      <td>NaN</td>\n      <td>...</td>\n      <td>NaN</td>\n      <td>NaN</td>\n      <td>NaN</td>\n      <td>NaN</td>\n      <td>NaN</td>\n      <td>NaN</td>\n      <td>NaN</td>\n      <td>NaN</td>\n      <td>NaN</td>\n      <td>NaN</td>\n    </tr>\n    <tr>\n      <th>2582</th>\n      <td>Medium-Schweinefu_.mp4</td>\n      <td>http://suran.kky.zcu.cz:8000//uploader/web_rep...</td>\n      <td>2024-06-26 13:50:49</td>\n      <td>Khalatbari.sadaf@gmail.com</td>\n      <td>2022-08-01 09:18:00</td>\n      <td>2024-06-26 11:50</td>\n      <td>25.0</td>\n      <td>NaN</td>\n      <td>NaN</td>\n      <td>NaN</td>\n      <td>...</td>\n      <td>NaN</td>\n      <td>NaN</td>\n      <td>NaN</td>\n      <td>NaN</td>\n      <td>NaN</td>\n      <td>NaN</td>\n      <td>NaN</td>\n      <td>NaN</td>\n      <td>NaN</td>\n      <td>NaN</td>\n    </tr>\n    <tr>\n      <th>2583</th>\n      <td>Bad-03_11_21_B_Hopfe_Johanna_Einzelknopfnaht.mp4</td>\n      <td>http://suran.kky.zcu.cz:8000//uploader/web_rep...</td>\n      <td>2024-06-26 13:50:54</td>\n      <td>khalatbari.sadaf@gmail.com</td>\n      <td>2022-07-07 17:33:00</td>\n      <td>2024-06-26 11:50</td>\n      <td>25.0</td>\n      <td>NaN</td>\n      <td>NaN</td>\n      <td>NaN</td>\n      <td>...</td>\n      <td>NaN</td>\n      <td>NaN</td>\n      <td>NaN</td>\n      <td>NaN</td>\n      <td>NaN</td>\n      <td>NaN</td>\n      <td>NaN</td>\n      <td>NaN</td>\n      <td>NaN</td>\n      <td>NaN</td>\n    </tr>\n    <tr>\n      <th>2584</th>\n      <td>Einzelknopfnaht_Lina_Schäfer.mp4</td>\n      <td>http://suran.kky.zcu.cz:8000//uploader/web_rep...</td>\n      <td>2024-06-26 13:56:23</td>\n      <td>lina.schaefer@uni-jena.de</td>\n      <td>2024-02-20 11:41:00</td>\n      <td>2024-06-26 11:56</td>\n      <td>22.0</td>\n      <td>NaN</td>\n      <td>NaN</td>\n      <td>NaN</td>\n      <td>...</td>\n      <td>NaN</td>\n      <td>NaN</td>\n      <td>NaN</td>\n      <td>NaN</td>\n      <td>NaN</td>\n      <td>NaN</td>\n      <td>NaN</td>\n      <td>NaN</td>\n      <td>NaN</td>\n      <td>NaN</td>\n    </tr>\n    <tr>\n      <th>2585</th>\n      <td>donati_luis.mov</td>\n      <td>http://suran.kky.zcu.cz:8000//uploader/web_rep...</td>\n      <td>2024-06-26 13:59:39</td>\n      <td>luis.schneider@uni-jena.de</td>\n      <td>2024-02-21 14:38:00</td>\n      <td>2024-06-26 11:59</td>\n      <td>60.0</td>\n      <td>NaN</td>\n      <td>NaN</td>\n      <td>NaN</td>\n      <td>...</td>\n      <td>NaN</td>\n      <td>NaN</td>\n      <td>NaN</td>\n      <td>NaN</td>\n      <td>NaN</td>\n      <td>NaN</td>\n      <td>NaN</td>\n      <td>NaN</td>\n      <td>NaN</td>\n      <td>NaN</td>\n    </tr>\n    <tr>\n      <th>2586</th>\n      <td>Screen_Recording_20240221_150510_Zoom.mp4</td>\n      <td>http://suran.kky.zcu.cz:8000//uploader/web_rep...</td>\n      <td>2024-06-26 13:59:43</td>\n      <td>hannah.schieder@uni-jena.de</td>\n      <td>2024-02-21 20:05:00</td>\n      <td>2024-06-26 11:59</td>\n      <td>60.0</td>\n      <td>NaN</td>\n      <td>NaN</td>\n      <td>NaN</td>\n      <td>...</td>\n      <td>NaN</td>\n      <td>NaN</td>\n      <td>NaN</td>\n      <td>NaN</td>\n      <td>NaN</td>\n      <td>NaN</td>\n      <td>NaN</td>\n      <td>NaN</td>\n      <td>NaN</td>\n      <td>NaN</td>\n    </tr>\n    <tr>\n      <th>2587</th>\n      <td>Einzelknopfnaht_Elena.Vai-Wieting.mov</td>\n      <td>http://suran.kky.zcu.cz:8000//uploader/web_rep...</td>\n      <td>2024-06-26 14:00:36</td>\n      <td>Elena.Vai-Wieting@uni-jena.de</td>\n      <td>2024-02-20 17:15:00</td>\n      <td>2024-06-26 12:00</td>\n      <td>29.0</td>\n      <td>NaN</td>\n      <td>NaN</td>\n      <td>NaN</td>\n      <td>...</td>\n      <td>NaN</td>\n      <td>NaN</td>\n      <td>NaN</td>\n      <td>NaN</td>\n      <td>NaN</td>\n      <td>NaN</td>\n      <td>NaN</td>\n      <td>NaN</td>\n      <td>NaN</td>\n      <td>NaN</td>\n    </tr>\n    <tr>\n      <th>2588</th>\n      <td>EinzelknopfnahtamSchweinefuss_Muenzner_Simeon.mp4</td>\n      <td>http://suran.kky.zcu.cz:8000//uploader/web_rep...</td>\n      <td>2024-06-26 14:03:52</td>\n      <td>simeon.muenzner@uni-jena.de</td>\n      <td>2024-02-20 20:59:00</td>\n      <td>2024-06-26 12:03</td>\n      <td>30.0</td>\n      <td>NaN</td>\n      <td>NaN</td>\n      <td>NaN</td>\n      <td>...</td>\n      <td>NaN</td>\n      <td>NaN</td>\n      <td>NaN</td>\n      <td>NaN</td>\n      <td>NaN</td>\n      <td>NaN</td>\n      <td>NaN</td>\n      <td>NaN</td>\n      <td>NaN</td>\n      <td>NaN</td>\n    </tr>\n    <tr>\n      <th>2589</th>\n      <td>11.4.2024.HarmsSören.NHT.mp4</td>\n      <td>http://suran.kky.zcu.cz:8000//uploader/web_rep...</td>\n      <td>2024-06-26 14:06:17</td>\n      <td>soeren.harms@uni-jena.de</td>\n      <td>2024-04-11 14:28:00</td>\n      <td>2024-06-26 12:06</td>\n      <td>30.0</td>\n      <td>NaN</td>\n      <td>NaN</td>\n      <td>NaN</td>\n      <td>...</td>\n      <td>NaN</td>\n      <td>NaN</td>\n      <td>NaN</td>\n      <td>NaN</td>\n      <td>NaN</td>\n      <td>NaN</td>\n      <td>NaN</td>\n      <td>NaN</td>\n      <td>NaN</td>\n      <td>NaN</td>\n    </tr>\n    <tr>\n      <th>2590</th>\n      <td>Gehrke,Yves - post.mp4</td>\n      <td>http://suran.kky.zcu.cz:8000//uploader/web_rep...</td>\n      <td>2024-06-26 14:08:20</td>\n      <td>mjirik@kky.zcu.cz</td>\n      <td>2024-06-03 10:53:00</td>\n      <td>2024-06-26 12:08</td>\n      <td>25.0</td>\n      <td>NaN</td>\n      <td>NaN</td>\n      <td>NaN</td>\n      <td>...</td>\n      <td>NaN</td>\n      <td>NaN</td>\n      <td>NaN</td>\n      <td>NaN</td>\n      <td>NaN</td>\n      <td>NaN</td>\n      <td>NaN</td>\n      <td>NaN</td>\n      <td>NaN</td>\n      <td>NaN</td>\n    </tr>\n    <tr>\n      <th>2591</th>\n      <td>Pre_-Test_Isabel_Linden.mp4</td>\n      <td>http://suran.kky.zcu.cz:8000//uploader/web_rep...</td>\n      <td>2024-06-26 14:10:28</td>\n      <td>carina.bachmann@med.uni-jena.de</td>\n      <td>2024-05-24 06:46:00</td>\n      <td>2024-06-26 12:10</td>\n      <td>25.0</td>\n      <td>NaN</td>\n      <td>NaN</td>\n      <td>NaN</td>\n      <td>...</td>\n      <td>NaN</td>\n      <td>NaN</td>\n      <td>NaN</td>\n      <td>NaN</td>\n      <td>NaN</td>\n      <td>NaN</td>\n      <td>NaN</td>\n      <td>NaN</td>\n      <td>NaN</td>\n      <td>NaN</td>\n    </tr>\n    <tr>\n      <th>2593</th>\n      <td>Stresstest_Einzelknopfnaht.mp4</td>\n      <td>http://suran.kky.zcu.cz:8000//uploader/web_rep...</td>\n      <td>2024-06-26 14:12:55</td>\n      <td>laurin.lindner@uni-jena.de</td>\n      <td>2024-02-22 21:38:00</td>\n      <td>2024-06-26 12:12</td>\n      <td>29.0</td>\n      <td>NaN</td>\n      <td>NaN</td>\n      <td>NaN</td>\n      <td>...</td>\n      <td>NaN</td>\n      <td>NaN</td>\n      <td>NaN</td>\n      <td>NaN</td>\n      <td>NaN</td>\n      <td>NaN</td>\n      <td>NaN</td>\n      <td>NaN</td>\n      <td>NaN</td>\n      <td>NaN</td>\n    </tr>\n    <tr>\n      <th>2594</th>\n      <td>Fehringer_Pascal__post_test.mp4</td>\n      <td>http://suran.kky.zcu.cz:8000//uploader/web_rep...</td>\n      <td>2024-06-26 14:13:48</td>\n      <td>mjirik@kky.zcu.cz</td>\n      <td>2024-06-03 10:53:00</td>\n      <td>2024-06-26 12:13</td>\n      <td>25.0</td>\n      <td>NaN</td>\n      <td>NaN</td>\n      <td>NaN</td>\n      <td>...</td>\n      <td>NaN</td>\n      <td>NaN</td>\n      <td>NaN</td>\n      <td>NaN</td>\n      <td>NaN</td>\n      <td>NaN</td>\n      <td>NaN</td>\n      <td>NaN</td>\n      <td>NaN</td>\n      <td>NaN</td>\n    </tr>\n    <tr>\n      <th>2595</th>\n      <td>Hilger,Anke-Posttest.mp4</td>\n      <td>http://suran.kky.zcu.cz:8000//uploader/web_rep...</td>\n      <td>2024-06-26 14:15:02</td>\n      <td>mjirik@kky.zcu.cz</td>\n      <td>2024-06-03 10:53:00</td>\n      <td>2024-06-26 12:15</td>\n      <td>25.0</td>\n      <td>NaN</td>\n      <td>NaN</td>\n      <td>NaN</td>\n      <td>...</td>\n      <td>NaN</td>\n      <td>NaN</td>\n      <td>NaN</td>\n      <td>NaN</td>\n      <td>NaN</td>\n      <td>NaN</td>\n      <td>NaN</td>\n      <td>NaN</td>\n      <td>NaN</td>\n      <td>NaN</td>\n    </tr>\n    <tr>\n      <th>2596</th>\n      <td>Bildschirmaufnahme_2022-10-11_um_11.20.24.mov</td>\n      <td>http://suran.kky.zcu.cz:8000//uploader/web_rep...</td>\n      <td>2024-06-26 14:15:47</td>\n      <td>fynn-malte.helbing@uni-jena.de</td>\n      <td>2022-10-11 15:35:00</td>\n      <td>2024-06-26 12:15</td>\n      <td>60.0</td>\n      <td>NaN</td>\n      <td>NaN</td>\n      <td>NaN</td>\n      <td>...</td>\n      <td>NaN</td>\n      <td>NaN</td>\n      <td>NaN</td>\n      <td>NaN</td>\n      <td>NaN</td>\n      <td>NaN</td>\n      <td>NaN</td>\n      <td>NaN</td>\n      <td>NaN</td>\n      <td>NaN</td>\n    </tr>\n    <tr>\n      <th>2597</th>\n      <td>Schiesser_David_post_test.mp4</td>\n      <td>http://suran.kky.zcu.cz:8000//uploader/web_rep...</td>\n      <td>2024-06-26 14:17:02</td>\n      <td>mjirik@kky.zcu.cz</td>\n      <td>2024-06-03 10:53:00</td>\n      <td>2024-06-26 12:17</td>\n      <td>25.0</td>\n      <td>NaN</td>\n      <td>NaN</td>\n      <td>NaN</td>\n      <td>...</td>\n      <td>NaN</td>\n      <td>NaN</td>\n      <td>NaN</td>\n      <td>NaN</td>\n      <td>NaN</td>\n      <td>NaN</td>\n      <td>NaN</td>\n      <td>NaN</td>\n      <td>NaN</td>\n      <td>NaN</td>\n    </tr>\n  </tbody>\n</table>\n<p>30 rows × 965 columns</p>\n</div>"
     },
     "execution_count": 15,
     "metadata": {},
     "output_type": "execute_result"
    }
   ],
   "source": [
    "dfs"
   ],
   "metadata": {
    "collapsed": false,
    "ExecuteTime": {
     "end_time": "2024-06-27T08:16:47.717277500Z",
     "start_time": "2024-06-27T08:16:47.573272500Z"
    }
   },
   "id": "f0fac85c7d5db90c",
   "execution_count": 15
  },
  {
   "cell_type": "code",
   "execution_count": 16,
   "id": "885d382a-1c50-4752-a418-78c534c74d61",
   "metadata": {
    "tags": [],
    "ExecuteTime": {
     "end_time": "2024-06-27T08:16:52.227768Z",
     "start_time": "2024-06-27T08:16:52.132473200Z"
    }
   },
   "outputs": [],
   "source": [
    "import seaborn as sns"
   ]
  },
  {
   "cell_type": "markdown",
   "id": "cdbb4a20-c96d-4c0e-8d38-3e17db1b9432",
   "metadata": {},
   "source": [
    "### Replace \",\" with \".\""
   ]
  },
  {
   "cell_type": "code",
   "execution_count": 158,
   "id": "4a1b759401be37e4",
   "metadata": {
    "collapsed": false,
    "tags": [],
    "ExecuteTime": {
     "end_time": "2024-06-27T12:51:53.543697300Z",
     "start_time": "2024-06-27T12:51:53.161678300Z"
    }
   },
   "outputs": [],
   "source": [
    "# find the columns where its values contain single \",\" and digits\n",
    "dfs.columns[dfs.apply(lambda x: (x.dtype is str) and (x.str.contains(\",\\d\").any()))]\n",
    "cols = []\n",
    "for col in dfs.columns:\n",
    "    try:\n",
    "        if (dfs[col].str.contains(\",\\d\").any()):\n",
    "            # convert , to . and change the column type to float\n",
    "            dfs[col] = dfs[col].str.replace(\",\", \".\").astype(float)\n",
    "            cols.append(col)\n",
    "    except:\n",
    "        pass\n",
    "# cols"
   ]
  },
  {
   "cell_type": "markdown",
   "source": [
    "### Convert bool to the numeric\n"
   ],
   "metadata": {
    "collapsed": false
   },
   "id": "5e088366025dfb8a"
  },
  {
   "cell_type": "code",
   "outputs": [
    {
     "name": "stdout",
     "output_type": "stream",
     "text": [
      "skipped: annotation_annotation_annotation\n",
      "skipped: annotation_annotation_stars\n",
      "skipped: annotation_annotation_annotator\n",
      "skipped: annotation_annotation_updated_at\n",
      "skipped: annotation_annotation_id\n",
      "skipped: annotation_annotation_created_at\n",
      "skipped: annotation_annotation_respect_for_tissue\n",
      "skipped: annotation_annotation_time_and_movements\n",
      "skipped: annotation_annotation_instrument_handling\n",
      "skipped: annotation_annotation_procedure_flow\n"
     ]
    }
   ],
   "source": [
    "# get list of columns containing \"annotation_annotation\" in their name\n",
    "cols = dfs.columns[dfs.columns.str.contains(\"annotation_annotation\")]\n",
    "# dfs[\"annotation_annotation_knots_are_done_right\"] = dfs[\"annotation_annotation_knots_are_done_right\"].astype(float)\n",
    "# get type of the columns\n",
    "dfs[cols].dtypes\n",
    "\n",
    "for col in cols:\n",
    "    uni = dfs[col].unique()\n",
    "    # print(uni)\n",
    "    \n",
    "    if (len(list(uni))==2) and (True in uni) and (False in uni):\n",
    "        dfs[col] = dfs[col].astype(float)\n",
    "    else:\n",
    "        print(f\"skipped: {col}\")\n",
    "\n"
   ],
   "metadata": {
    "collapsed": false,
    "ExecuteTime": {
     "end_time": "2024-06-27T12:52:02.123481600Z",
     "start_time": "2024-06-27T12:52:01.886470400Z"
    }
   },
   "id": "ba15f80522b64985",
   "execution_count": 159
  },
  {
   "cell_type": "code",
   "outputs": [],
   "source": [
    "# assert sorted(list(dfs[\"annotation_annotation_knots_are_done_right\"].unique())) == [0.0, 1.0]"
   ],
   "metadata": {
    "collapsed": false,
    "ExecuteTime": {
     "end_time": "2024-06-27T08:17:07.963519100Z",
     "start_time": "2024-06-27T08:17:07.844518200Z"
    }
   },
   "id": "6969ddf322dbb375",
   "execution_count": 24
  },
  {
   "cell_type": "markdown",
   "id": "7190306c-4a98-4a2a-80fc-0ea35452285b",
   "metadata": {},
   "source": [
    "### If there is just one stitch, put ths information into stitch 1 measurements"
   ]
  },
  {
   "cell_type": "code",
   "execution_count": 25,
   "id": "5a00460c06572f18",
   "metadata": {
    "collapsed": false,
    "tags": [],
    "ExecuteTime": {
     "end_time": "2024-06-27T08:17:23.339931400Z",
     "start_time": "2024-06-27T08:17:23.305931400Z"
    }
   },
   "outputs": [],
   "source": [
    "# in pre-test post-test this should not be necessary\n",
    "\n",
    "# If column containing \" stitch 1\" in its name has empty values, fill them with  the values from the column with the same name but withuou \" stitch 1\"\n",
    "# for col in dfs.columns[dfs.columns.str.contains(\" stitch 0\")]:\n",
    "#     dfs[col] = dfs[col].fillna(dfs[col.replace(\" stitch 0\", \"\")])"
   ]
  },
  {
   "cell_type": "code",
   "execution_count": 26,
   "id": "8d4e18421dd66275",
   "metadata": {
    "collapsed": false,
    "tags": [],
    "ExecuteTime": {
     "end_time": "2024-06-27T08:17:24.174887300Z",
     "start_time": "2024-06-27T08:17:24.046884100Z"
    }
   },
   "outputs": [],
   "source": [
    "# dfs[[\"Needle holder stitch 1 length [m]\", \"Needle holder length [m]\"]]\n"
   ]
  },
  {
   "cell_type": "markdown",
   "source": [
    "### Remove rows and columns with lot of NaN values"
   ],
   "metadata": {
    "collapsed": false
   },
   "id": "dd2a27ca81469e52"
  },
  {
   "cell_type": "code",
   "outputs": [
    {
     "name": "stderr",
     "output_type": "stream",
     "text": [
      "C:\\Users\\Jirik\\AppData\\Local\\Temp\\ipykernel_3416\\3757271245.py:2: FutureWarning:\n",
      "\n",
      "Support for multi-dimensional indexing (e.g. `obj[:, None]`) is deprecated and will be removed in a future version.  Convert to a numpy array before indexing instead.\n",
      "\n"
     ]
    },
    {
     "data": {
      "text/plain": "2575    0.0\n2585    0.0\n2586    0.0\n2589    0.0\n2591    0.0\n2594    0.0\n2599    0.0\n2600    0.0\n2601    0.0\n2602    0.0\n2603    0.0\n2604    0.0\n2605    0.0\n2606    0.0\n2607    0.0\n2609    0.0\n2610    0.0\n2613    0.0\n2615    0.0\n2616    0.0\n2617    0.0\n2618    0.0\n2619    0.0\n2620    0.0\n2621    0.0\n2622    0.0\n2623    0.0\n2624    0.0\n2626    0.0\n2628    0.0\ndtype: float64"
     },
     "execution_count": 160,
     "metadata": {},
     "output_type": "execute_result"
    }
   ],
   "source": [
    "# get numeric columns from dfs\n",
    "numeric_cols = dfs.columns[dfs.apply(lambda x: x.dtype is float).any()]\n",
    "\n",
    "\n",
    "dfs[numeric_cols].isna().sum(axis=1)\n"
   ],
   "metadata": {
    "collapsed": false,
    "ExecuteTime": {
     "end_time": "2024-06-27T12:52:47.609512Z",
     "start_time": "2024-06-27T12:52:47.399513800Z"
    }
   },
   "id": "d3e11943d92bd9a4",
   "execution_count": 160
  },
  {
   "cell_type": "markdown",
   "source": [
    "# Find records with more than one stitch"
   ],
   "metadata": {
    "collapsed": false
   },
   "id": "13c88e5855f50480"
  },
  {
   "cell_type": "code",
   "outputs": [],
   "source": [
    "# import numpy as np\n",
    "# bc = np.bincount([1,5,5,5,1,2,1])\n",
    "# print(type(bc))\n",
    "# bc"
   ],
   "metadata": {
    "collapsed": false,
    "ExecuteTime": {
     "end_time": "2024-06-27T12:52:54.529545600Z",
     "start_time": "2024-06-27T12:52:54.424549100Z"
    }
   },
   "id": "fc3aa54510c0f5f7",
   "execution_count": 161
  },
  {
   "cell_type": "code",
   "outputs": [
    {
     "data": {
      "text/plain": "                                           filename  \\\n2585                                donati_luis.mov   \n2599                       Hilger,Anke-Posttest.mp4   \n2607  Bildschirmaufnahme_2022-10-11_um_11.20.24.mov   \n2623                 Stresstest_Einzelknopfnaht.mp4   \n2628                  Schiesser_David_post_test.mp4   \n\n                                             report_url           timestamp  \\\n2585  http://suran.kky.zcu.cz:8000//uploader/web_rep... 2024-06-26 13:59:39   \n2599  http://suran.kky.zcu.cz:8000//uploader/web_rep... 2024-06-27 09:07:04   \n2607  http://suran.kky.zcu.cz:8000//uploader/web_rep... 2024-06-27 09:18:14   \n2623  http://suran.kky.zcu.cz:8000//uploader/web_rep... 2024-06-27 10:14:24   \n2628  http://suran.kky.zcu.cz:8000//uploader/web_rep... 2024-06-27 14:48:13   \n\n                               email         uploaded_at       finished_at  \\\n2585      luis.schneider@uni-jena.de 2024-02-21 14:38:00  2024-06-26 11:59   \n2599               mjirik@kky.zcu.cz 2024-06-03 10:53:00  2024-06-26 12:15   \n2607  fynn-malte.helbing@uni-jena.de 2022-10-11 15:35:00  2024-06-26 12:15   \n2623      laurin.lindner@uni-jena.de 2024-02-22 21:38:00  2024-06-26 12:12   \n2628               mjirik@kky.zcu.cz 2024-06-03 10:53:00  2024-06-27 12:48   \n\n       fps Needle holder length [m] Scissors length [m] Forceps length [m]  \\\n2585  60.0                      NaN                 NaN                NaN   \n2599  25.0                      NaN                 NaN                NaN   \n2607  60.0                      NaN                 NaN                NaN   \n2623  29.0                      NaN                 NaN                NaN   \n2628  25.0                      NaN                 NaN                NaN   \n\n      ... Scissors stitch 10 unit Scissors stitch 10 visibility [%]  \\\n2585  ...                     NaN                               NaN   \n2599  ...                     NaN                               NaN   \n2607  ...                     NaN                               NaN   \n2623  ...                     NaN                               NaN   \n2628  ...                     NaN                               NaN   \n\n     Scissors stitch 11 area presence [%]  \\\n2585                                  NaN   \n2599                                  NaN   \n2607                                  NaN   \n2623                                  NaN   \n2628                                  NaN   \n\n     Scissors stitch 11 median area presence [%]  \\\n2585                                         NaN   \n2599                                         NaN   \n2607                                         NaN   \n2623                                         NaN   \n2628                                         NaN   \n\n     Scissors stitch 12 area presence [%]  \\\n2585                                  NaN   \n2599                                  NaN   \n2607                                  NaN   \n2623                                  NaN   \n2628                                  NaN   \n\n     Scissors stitch 12 median area presence [%]  \\\n2585                                         NaN   \n2599                                         NaN   \n2607                                         NaN   \n2623                                         NaN   \n2628                                         NaN   \n\n     Scissors stitch 13 area presence [%]  \\\n2585                                  NaN   \n2599                                  NaN   \n2607                                  NaN   \n2623                                  NaN   \n2628                                  NaN   \n\n     Scissors stitch 13 median area presence [%]  \\\n2585                                         NaN   \n2599                                         NaN   \n2607                                         NaN   \n2623                                         NaN   \n2628                                         NaN   \n\n     Scissors stitch 14 area presence [%]  \\\n2585                                  NaN   \n2599                                  NaN   \n2607                                  NaN   \n2623                                  NaN   \n2628                                  NaN   \n\n     Scissors stitch 14 median area presence [%]  \n2585                                         NaN  \n2599                                         NaN  \n2607                                         NaN  \n2623                                         NaN  \n2628                                         NaN  \n\n[5 rows x 965 columns]",
      "text/html": "<div>\n<style scoped>\n    .dataframe tbody tr th:only-of-type {\n        vertical-align: middle;\n    }\n\n    .dataframe tbody tr th {\n        vertical-align: top;\n    }\n\n    .dataframe thead th {\n        text-align: right;\n    }\n</style>\n<table border=\"1\" class=\"dataframe\">\n  <thead>\n    <tr style=\"text-align: right;\">\n      <th></th>\n      <th>filename</th>\n      <th>report_url</th>\n      <th>timestamp</th>\n      <th>email</th>\n      <th>uploaded_at</th>\n      <th>finished_at</th>\n      <th>fps</th>\n      <th>Needle holder length [m]</th>\n      <th>Scissors length [m]</th>\n      <th>Forceps length [m]</th>\n      <th>...</th>\n      <th>Scissors stitch 10 unit</th>\n      <th>Scissors stitch 10 visibility [%]</th>\n      <th>Scissors stitch 11 area presence [%]</th>\n      <th>Scissors stitch 11 median area presence [%]</th>\n      <th>Scissors stitch 12 area presence [%]</th>\n      <th>Scissors stitch 12 median area presence [%]</th>\n      <th>Scissors stitch 13 area presence [%]</th>\n      <th>Scissors stitch 13 median area presence [%]</th>\n      <th>Scissors stitch 14 area presence [%]</th>\n      <th>Scissors stitch 14 median area presence [%]</th>\n    </tr>\n  </thead>\n  <tbody>\n    <tr>\n      <th>2585</th>\n      <td>donati_luis.mov</td>\n      <td>http://suran.kky.zcu.cz:8000//uploader/web_rep...</td>\n      <td>2024-06-26 13:59:39</td>\n      <td>luis.schneider@uni-jena.de</td>\n      <td>2024-02-21 14:38:00</td>\n      <td>2024-06-26 11:59</td>\n      <td>60.0</td>\n      <td>NaN</td>\n      <td>NaN</td>\n      <td>NaN</td>\n      <td>...</td>\n      <td>NaN</td>\n      <td>NaN</td>\n      <td>NaN</td>\n      <td>NaN</td>\n      <td>NaN</td>\n      <td>NaN</td>\n      <td>NaN</td>\n      <td>NaN</td>\n      <td>NaN</td>\n      <td>NaN</td>\n    </tr>\n    <tr>\n      <th>2599</th>\n      <td>Hilger,Anke-Posttest.mp4</td>\n      <td>http://suran.kky.zcu.cz:8000//uploader/web_rep...</td>\n      <td>2024-06-27 09:07:04</td>\n      <td>mjirik@kky.zcu.cz</td>\n      <td>2024-06-03 10:53:00</td>\n      <td>2024-06-26 12:15</td>\n      <td>25.0</td>\n      <td>NaN</td>\n      <td>NaN</td>\n      <td>NaN</td>\n      <td>...</td>\n      <td>NaN</td>\n      <td>NaN</td>\n      <td>NaN</td>\n      <td>NaN</td>\n      <td>NaN</td>\n      <td>NaN</td>\n      <td>NaN</td>\n      <td>NaN</td>\n      <td>NaN</td>\n      <td>NaN</td>\n    </tr>\n    <tr>\n      <th>2607</th>\n      <td>Bildschirmaufnahme_2022-10-11_um_11.20.24.mov</td>\n      <td>http://suran.kky.zcu.cz:8000//uploader/web_rep...</td>\n      <td>2024-06-27 09:18:14</td>\n      <td>fynn-malte.helbing@uni-jena.de</td>\n      <td>2022-10-11 15:35:00</td>\n      <td>2024-06-26 12:15</td>\n      <td>60.0</td>\n      <td>NaN</td>\n      <td>NaN</td>\n      <td>NaN</td>\n      <td>...</td>\n      <td>NaN</td>\n      <td>NaN</td>\n      <td>NaN</td>\n      <td>NaN</td>\n      <td>NaN</td>\n      <td>NaN</td>\n      <td>NaN</td>\n      <td>NaN</td>\n      <td>NaN</td>\n      <td>NaN</td>\n    </tr>\n    <tr>\n      <th>2623</th>\n      <td>Stresstest_Einzelknopfnaht.mp4</td>\n      <td>http://suran.kky.zcu.cz:8000//uploader/web_rep...</td>\n      <td>2024-06-27 10:14:24</td>\n      <td>laurin.lindner@uni-jena.de</td>\n      <td>2024-02-22 21:38:00</td>\n      <td>2024-06-26 12:12</td>\n      <td>29.0</td>\n      <td>NaN</td>\n      <td>NaN</td>\n      <td>NaN</td>\n      <td>...</td>\n      <td>NaN</td>\n      <td>NaN</td>\n      <td>NaN</td>\n      <td>NaN</td>\n      <td>NaN</td>\n      <td>NaN</td>\n      <td>NaN</td>\n      <td>NaN</td>\n      <td>NaN</td>\n      <td>NaN</td>\n    </tr>\n    <tr>\n      <th>2628</th>\n      <td>Schiesser_David_post_test.mp4</td>\n      <td>http://suran.kky.zcu.cz:8000//uploader/web_rep...</td>\n      <td>2024-06-27 14:48:13</td>\n      <td>mjirik@kky.zcu.cz</td>\n      <td>2024-06-03 10:53:00</td>\n      <td>2024-06-27 12:48</td>\n      <td>25.0</td>\n      <td>NaN</td>\n      <td>NaN</td>\n      <td>NaN</td>\n      <td>...</td>\n      <td>NaN</td>\n      <td>NaN</td>\n      <td>NaN</td>\n      <td>NaN</td>\n      <td>NaN</td>\n      <td>NaN</td>\n      <td>NaN</td>\n      <td>NaN</td>\n      <td>NaN</td>\n      <td>NaN</td>\n    </tr>\n  </tbody>\n</table>\n<p>5 rows × 965 columns</p>\n</div>"
     },
     "execution_count": 162,
     "metadata": {},
     "output_type": "execute_result"
    }
   ],
   "source": [
    "import pigleg_evaluation_tools as pet\n",
    "\n",
    "# display(dfs.columns[dfs.columns.str.contains(\" stitch 2\")])\n",
    "# display(dfs.columns[dfs.columns.str.contains(\"Stitch 2\")])\n",
    "# show records with no NA values in \"Stitch 3\" column\n",
    "\n",
    "pet.rows_with_missing_values_for_stitch(dfs, 3)\n",
    "\n"
   ],
   "metadata": {
    "collapsed": false,
    "ExecuteTime": {
     "end_time": "2024-06-27T12:52:57.032269100Z",
     "start_time": "2024-06-27T12:52:56.834272600Z"
    }
   },
   "id": "31453defa6110035",
   "execution_count": 162
  },
  {
   "cell_type": "code",
   "outputs": [],
   "source": [
    "# dfs[dfs[\"Stitch 3 duration [s]\"].notna()]"
   ],
   "metadata": {
    "collapsed": false,
    "ExecuteTime": {
     "end_time": "2024-06-27T12:52:57.992269300Z",
     "start_time": "2024-06-27T12:52:57.878271100Z"
    }
   },
   "id": "e3704e19d7b2060b",
   "execution_count": 163
  },
  {
   "cell_type": "markdown",
   "source": [
    "# Separate individual stitches\n",
    "\n",
    "1. Extract stitch evaluation from text annotation\n",
    "2. Separate stitch columns into individual rows"
   ],
   "metadata": {
    "collapsed": false
   },
   "id": "2faa044f83910920"
  },
  {
   "cell_type": "code",
   "outputs": [],
   "source": [
    "# Extract evaluation of stitch movement from annotation column\n",
    "\n",
    "# text_ann = dfone[\"annotation_annotation_annotation\"].values[-1]\n",
    "# lst = [line for line in sorted(text_ann.split(\"\\r\\n\")) if \"stitch_end\" in line]\n",
    "## lst = ['00:01:12 stitch_end 3* ', '00:02:14 stitch_end 4.5*', '00:03:09 stitch_end 5*', '00:04:13 stitch_end 3*']\n",
    "# find number in front of *\n",
    "# stitch_evaluation = [float(line.split(\"*\",1)[0].split(\" \")[-1]) for line in lst]\n",
    "\n",
    "# for stitch_number in range(0, 4):\n",
    "#     col_name = f\"movement evaluation stitch {stitch_number}\"\n",
    "#     dfs[col_name] = np.nan\n",
    "# for every line in dfs i want to add column evaluation stitch 1, stitch 2, stitch 3, stitch 4\n",
    "for dfs_index, row in dfs.iterrows():\n",
    "    text_ann = row[\"annotation_annotation_annotation\"]\n",
    "    lst = [line for line in sorted(text_ann.split(\"\\r\\n\")) if \"stitch_end\" in line]\n",
    "    stitch_evaluation = [float(line.split(\"*\",1)[0].split(\" \")[-1]) for line in lst]\n",
    "    for stitch_number in range(0, 4):\n",
    "        col_name = f\"movement evaluation stitch {stitch_number}\"\n",
    "        if stitch_number < len(stitch_evaluation):\n",
    "            dfs.loc[dfs_index, col_name] = stitch_evaluation[stitch_number]\n",
    "        else:\n",
    "            dfs.loc[dfs_index, col_name] = np.nan\n"
   ],
   "metadata": {
    "collapsed": false,
    "ExecuteTime": {
     "end_time": "2024-06-27T12:52:59.420239100Z",
     "start_time": "2024-06-27T12:52:59.335240900Z"
    }
   },
   "id": "ac4a86b9bc26c3d2",
   "execution_count": 164
  },
  {
   "cell_type": "code",
   "outputs": [],
   "source": [
    "# I have columns named in pattern \"Needle holder stitch 1 length [m]\", \"Needle holder stitch 2 length [m]\", \"Needle holder stitch 3 length [m]\", \"Needle holder stitch 4 length [m]\". I would like to split each row into several rows, each containing just one stitch length and number of the stitch.\n",
    "# searched_stitch_number = 4\n",
    "\n",
    "list_of_dfs = []\n",
    "df_stitches = pd.DataFrame()\n",
    "\n",
    "for searched_stitch_number in range(0, 4):\n",
    "    cols = []\n",
    "    cols.extend(list(dfs.columns[dfs.columns.str.contains(f\" stitch {searched_stitch_number}\")]))\n",
    "    cols.extend(list(dfs.columns[dfs.columns.str.contains(f\"Stitch {searched_stitch_number}\")]))\n",
    "    # df_stitches = pd.DataFrame()\n",
    "    # df_stitches = dfs.melt(id_vars=[\"filename\"], value_vars=dfs.columns[dfs.columns.str.contains(\" stitch 0\")], var_name=\"stitch\", value_name=\"length\")\n",
    "    # df_stitches\n",
    "    dfone = dfs[[\"filename\", \"annotation_annotation_annotation\"] + cols]\n",
    "    dfone = dfone.copy()\n",
    "    rename = {col: col.replace(f\"titch {searched_stitch_number}\", \"titch\") for col in cols }\n",
    "    dfone = dfone.rename(columns=rename)\n",
    "    dfone[\"stitch_id\"] = searched_stitch_number\n",
    "    df_stitches = pd.concat([df_stitches, dfone], axis=0)\n",
    "\n",
    "\n",
    "dfst = df_stitches\n",
    "dfst = dfst.reset_index(drop=True)\n"
   ],
   "metadata": {
    "collapsed": false,
    "ExecuteTime": {
     "end_time": "2024-06-27T12:55:15.327114Z",
     "start_time": "2024-06-27T12:55:15.099115300Z"
    }
   },
   "id": "d50b8509870c07b9",
   "execution_count": 171
  },
  {
   "cell_type": "code",
   "outputs": [],
   "source": [
    "# dfst.reset_index(drop=True)\n",
    "# dfst"
   ],
   "metadata": {
    "collapsed": false,
    "ExecuteTime": {
     "end_time": "2024-06-27T12:55:18.200114300Z",
     "start_time": "2024-06-27T12:55:17.961114Z"
    }
   },
   "id": "cd4c8676f379e0bd",
   "execution_count": 172
  },
  {
   "cell_type": "code",
   "outputs": [
    {
     "data": {
      "text/plain": "                                              filename  \\\n0    Bad-2021_11_03_A_Noll_Alexander_Einzelknopfnah...   \n1                                      donati_luis.mov   \n2            Screen_Recording_20240221_150510_Zoom.mp4   \n3                         11.4.2024.HarmsSören.NHT.mp4   \n4                          Pre_-Test_Isabel_Linden.mp4   \n..                                                 ...   \n115                             Medium-Schweinefu_.mp4   \n116                     Stresstest_Einzelknopfnaht.mp4   \n117  medium-2021_11_03_A_Tengler_Sophie_Einzelknopf...   \n118                             Gehrke,Yves - post.mp4   \n119                      Schiesser_David_post_test.mp4   \n\n                      annotation_annotation_annotation  \\\n0    00:00:00 no clear view of the setup\\r\\n00:00:1...   \n1    Der letzte Knoten wurde in die Falsche Richtun...   \n2    Die unteren Markierungen wären für die Allgöwe...   \n3    Ich weiß nicht ob es nötig ist den Faden nach ...   \n4    00:00:09 stitch_start\\r\\n00:00:47 knot_start\\r...   \n..                                                 ...   \n115  00:00:05 start\\r\\n00:01:49 end\\r\\n00:00:30 Tak...   \n116  00:00:46 stitch_start\\r\\n00:01:15 knot_start\\r...   \n117  00:00:07 thumb is not taken out of needle hold...   \n118  00:00:02 stitch_start \\r\\n00:00:36 knot_start\\...   \n119  00:00:04 stitch_start\\r\\n00:00:47 knot_start\\r...   \n\n     Needle holder stitch length [m]  Needle holder stitch visibility [s]  \\\n0                           5.907214                            70.800000   \n1                           0.566725                            15.000000   \n2                           0.904218                           128.066667   \n3                           2.948527                            27.000000   \n4                           1.509013                            46.600000   \n..                               ...                                  ...   \n115                              NaN                                  NaN   \n116                         2.398493                            62.266667   \n117                              NaN                                  NaN   \n118                              NaN                                  NaN   \n119                         2.658392                            47.933333   \n\n     Needle holder stitch velocity Needle holder stitch unit  \\\n0                         0.078755                         m   \n1                         0.037035                         m   \n2                         0.005572                         m   \n3                         0.074156                         m   \n4                         0.020504                         m   \n..                             ...                       ...   \n115                            NaN                       NaN   \n116                       0.030671                         m   \n117                            NaN                       NaN   \n118                            NaN                       NaN   \n119                       0.041866                         m   \n\n     Needle holder stitch visibility [%]  \\\n0                              80.454545   \n1                              93.360996   \n2                              97.118301   \n3                              64.903846   \n4                              62.133333   \n..                                   ...   \n115                                  NaN   \n116                            78.028404   \n117                                  NaN   \n118                                  NaN   \n119                            82.643678   \n\n     Needle holder stitch area presence [%]  Forceps stitch length [m]  \\\n0                                 40.866290                   0.984521   \n1                                 69.777778                   0.400898   \n2                                 12.857887                   0.659616   \n3                                 50.617284                   0.638677   \n4                                 77.253219                   0.320440   \n..                                      ...                        ...   \n115                                     NaN                        NaN   \n116                               78.051392                   0.932744   \n117                                     NaN                        NaN   \n118                                     NaN                        NaN   \n119                               78.442281                   0.312460   \n\n     Forceps stitch visibility [s]  ...  Stitch1 start at [s]  \\\n0                        38.666667  ...                   NaN   \n1                        16.066667  ...                   NaN   \n2                        26.733333  ...                   NaN   \n3                        16.666667  ...                   NaN   \n4                        20.066667  ...                   NaN   \n..                             ...  ...                   ...   \n115                            NaN  ...                   NaN   \n116                      20.933333  ...                   NaN   \n117                            NaN  ...                   NaN   \n118                            NaN  ...                   NaN   \n119                      16.266667  ...                   NaN   \n\n    Stitch2 duration [s]  Stitch2 duration [%]  Stitch2 start at [s]  \\\n0                    NaN                   NaN                   NaN   \n1                    NaN                   NaN                   NaN   \n2                    NaN                   NaN                   NaN   \n3                    NaN                   NaN                   NaN   \n4                    NaN                   NaN                   NaN   \n..                   ...                   ...                   ...   \n115                  NaN                   NaN                   NaN   \n116                  NaN                   NaN                   NaN   \n117                  NaN                   NaN                   NaN   \n118                  NaN                   NaN                   NaN   \n119                  NaN                   NaN                   NaN   \n\n    Stitch3 duration [s] Stitch3 duration [%] Stitch3 start at [s]  \\\n0                    NaN                  NaN                  NaN   \n1                    NaN                  NaN                  NaN   \n2                    NaN                  NaN                  NaN   \n3                    NaN                  NaN                  NaN   \n4                    NaN                  NaN                  NaN   \n..                   ...                  ...                  ...   \n115                  NaN                  NaN                  NaN   \n116                  NaN                  NaN                  NaN   \n117                  NaN                  NaN                  NaN   \n118                  NaN                  NaN                  NaN   \n119                  NaN                  NaN                  NaN   \n\n    Stitch4 duration [s] Stitch4 duration [%] Stitch4 start at [s]  \n0                    NaN                  NaN                  NaN  \n1                    NaN                  NaN                  NaN  \n2                    NaN                  NaN                  NaN  \n3                    NaN                  NaN                  NaN  \n4                    NaN                  NaN                  NaN  \n..                   ...                  ...                  ...  \n115                  NaN                  NaN                  NaN  \n116                  NaN                  NaN                  NaN  \n117                  NaN                  NaN                  NaN  \n118                  NaN                  NaN                  NaN  \n119                  NaN                  NaN                  NaN  \n\n[120 rows x 182 columns]",
      "text/html": "<div>\n<style scoped>\n    .dataframe tbody tr th:only-of-type {\n        vertical-align: middle;\n    }\n\n    .dataframe tbody tr th {\n        vertical-align: top;\n    }\n\n    .dataframe thead th {\n        text-align: right;\n    }\n</style>\n<table border=\"1\" class=\"dataframe\">\n  <thead>\n    <tr style=\"text-align: right;\">\n      <th></th>\n      <th>filename</th>\n      <th>annotation_annotation_annotation</th>\n      <th>Needle holder stitch length [m]</th>\n      <th>Needle holder stitch visibility [s]</th>\n      <th>Needle holder stitch velocity</th>\n      <th>Needle holder stitch unit</th>\n      <th>Needle holder stitch visibility [%]</th>\n      <th>Needle holder stitch area presence [%]</th>\n      <th>Forceps stitch length [m]</th>\n      <th>Forceps stitch visibility [s]</th>\n      <th>...</th>\n      <th>Stitch1 start at [s]</th>\n      <th>Stitch2 duration [s]</th>\n      <th>Stitch2 duration [%]</th>\n      <th>Stitch2 start at [s]</th>\n      <th>Stitch3 duration [s]</th>\n      <th>Stitch3 duration [%]</th>\n      <th>Stitch3 start at [s]</th>\n      <th>Stitch4 duration [s]</th>\n      <th>Stitch4 duration [%]</th>\n      <th>Stitch4 start at [s]</th>\n    </tr>\n  </thead>\n  <tbody>\n    <tr>\n      <th>0</th>\n      <td>Bad-2021_11_03_A_Noll_Alexander_Einzelknopfnah...</td>\n      <td>00:00:00 no clear view of the setup\\r\\n00:00:1...</td>\n      <td>5.907214</td>\n      <td>70.800000</td>\n      <td>0.078755</td>\n      <td>m</td>\n      <td>80.454545</td>\n      <td>40.866290</td>\n      <td>0.984521</td>\n      <td>38.666667</td>\n      <td>...</td>\n      <td>NaN</td>\n      <td>NaN</td>\n      <td>NaN</td>\n      <td>NaN</td>\n      <td>NaN</td>\n      <td>NaN</td>\n      <td>NaN</td>\n      <td>NaN</td>\n      <td>NaN</td>\n      <td>NaN</td>\n    </tr>\n    <tr>\n      <th>1</th>\n      <td>donati_luis.mov</td>\n      <td>Der letzte Knoten wurde in die Falsche Richtun...</td>\n      <td>0.566725</td>\n      <td>15.000000</td>\n      <td>0.037035</td>\n      <td>m</td>\n      <td>93.360996</td>\n      <td>69.777778</td>\n      <td>0.400898</td>\n      <td>16.066667</td>\n      <td>...</td>\n      <td>NaN</td>\n      <td>NaN</td>\n      <td>NaN</td>\n      <td>NaN</td>\n      <td>NaN</td>\n      <td>NaN</td>\n      <td>NaN</td>\n      <td>NaN</td>\n      <td>NaN</td>\n      <td>NaN</td>\n    </tr>\n    <tr>\n      <th>2</th>\n      <td>Screen_Recording_20240221_150510_Zoom.mp4</td>\n      <td>Die unteren Markierungen wären für die Allgöwe...</td>\n      <td>0.904218</td>\n      <td>128.066667</td>\n      <td>0.005572</td>\n      <td>m</td>\n      <td>97.118301</td>\n      <td>12.857887</td>\n      <td>0.659616</td>\n      <td>26.733333</td>\n      <td>...</td>\n      <td>NaN</td>\n      <td>NaN</td>\n      <td>NaN</td>\n      <td>NaN</td>\n      <td>NaN</td>\n      <td>NaN</td>\n      <td>NaN</td>\n      <td>NaN</td>\n      <td>NaN</td>\n      <td>NaN</td>\n    </tr>\n    <tr>\n      <th>3</th>\n      <td>11.4.2024.HarmsSören.NHT.mp4</td>\n      <td>Ich weiß nicht ob es nötig ist den Faden nach ...</td>\n      <td>2.948527</td>\n      <td>27.000000</td>\n      <td>0.074156</td>\n      <td>m</td>\n      <td>64.903846</td>\n      <td>50.617284</td>\n      <td>0.638677</td>\n      <td>16.666667</td>\n      <td>...</td>\n      <td>NaN</td>\n      <td>NaN</td>\n      <td>NaN</td>\n      <td>NaN</td>\n      <td>NaN</td>\n      <td>NaN</td>\n      <td>NaN</td>\n      <td>NaN</td>\n      <td>NaN</td>\n      <td>NaN</td>\n    </tr>\n    <tr>\n      <th>4</th>\n      <td>Pre_-Test_Isabel_Linden.mp4</td>\n      <td>00:00:09 stitch_start\\r\\n00:00:47 knot_start\\r...</td>\n      <td>1.509013</td>\n      <td>46.600000</td>\n      <td>0.020504</td>\n      <td>m</td>\n      <td>62.133333</td>\n      <td>77.253219</td>\n      <td>0.320440</td>\n      <td>20.066667</td>\n      <td>...</td>\n      <td>NaN</td>\n      <td>NaN</td>\n      <td>NaN</td>\n      <td>NaN</td>\n      <td>NaN</td>\n      <td>NaN</td>\n      <td>NaN</td>\n      <td>NaN</td>\n      <td>NaN</td>\n      <td>NaN</td>\n    </tr>\n    <tr>\n      <th>...</th>\n      <td>...</td>\n      <td>...</td>\n      <td>...</td>\n      <td>...</td>\n      <td>...</td>\n      <td>...</td>\n      <td>...</td>\n      <td>...</td>\n      <td>...</td>\n      <td>...</td>\n      <td>...</td>\n      <td>...</td>\n      <td>...</td>\n      <td>...</td>\n      <td>...</td>\n      <td>...</td>\n      <td>...</td>\n      <td>...</td>\n      <td>...</td>\n      <td>...</td>\n      <td>...</td>\n    </tr>\n    <tr>\n      <th>115</th>\n      <td>Medium-Schweinefu_.mp4</td>\n      <td>00:00:05 start\\r\\n00:01:49 end\\r\\n00:00:30 Tak...</td>\n      <td>NaN</td>\n      <td>NaN</td>\n      <td>NaN</td>\n      <td>NaN</td>\n      <td>NaN</td>\n      <td>NaN</td>\n      <td>NaN</td>\n      <td>NaN</td>\n      <td>...</td>\n      <td>NaN</td>\n      <td>NaN</td>\n      <td>NaN</td>\n      <td>NaN</td>\n      <td>NaN</td>\n      <td>NaN</td>\n      <td>NaN</td>\n      <td>NaN</td>\n      <td>NaN</td>\n      <td>NaN</td>\n    </tr>\n    <tr>\n      <th>116</th>\n      <td>Stresstest_Einzelknopfnaht.mp4</td>\n      <td>00:00:46 stitch_start\\r\\n00:01:15 knot_start\\r...</td>\n      <td>2.398493</td>\n      <td>62.266667</td>\n      <td>0.030671</td>\n      <td>m</td>\n      <td>78.028404</td>\n      <td>78.051392</td>\n      <td>0.932744</td>\n      <td>20.933333</td>\n      <td>...</td>\n      <td>NaN</td>\n      <td>NaN</td>\n      <td>NaN</td>\n      <td>NaN</td>\n      <td>NaN</td>\n      <td>NaN</td>\n      <td>NaN</td>\n      <td>NaN</td>\n      <td>NaN</td>\n      <td>NaN</td>\n    </tr>\n    <tr>\n      <th>117</th>\n      <td>medium-2021_11_03_A_Tengler_Sophie_Einzelknopf...</td>\n      <td>00:00:07 thumb is not taken out of needle hold...</td>\n      <td>NaN</td>\n      <td>NaN</td>\n      <td>NaN</td>\n      <td>NaN</td>\n      <td>NaN</td>\n      <td>NaN</td>\n      <td>NaN</td>\n      <td>NaN</td>\n      <td>...</td>\n      <td>NaN</td>\n      <td>NaN</td>\n      <td>NaN</td>\n      <td>NaN</td>\n      <td>NaN</td>\n      <td>NaN</td>\n      <td>NaN</td>\n      <td>NaN</td>\n      <td>NaN</td>\n      <td>NaN</td>\n    </tr>\n    <tr>\n      <th>118</th>\n      <td>Gehrke,Yves - post.mp4</td>\n      <td>00:00:02 stitch_start \\r\\n00:00:36 knot_start\\...</td>\n      <td>NaN</td>\n      <td>NaN</td>\n      <td>NaN</td>\n      <td>NaN</td>\n      <td>NaN</td>\n      <td>NaN</td>\n      <td>NaN</td>\n      <td>NaN</td>\n      <td>...</td>\n      <td>NaN</td>\n      <td>NaN</td>\n      <td>NaN</td>\n      <td>NaN</td>\n      <td>NaN</td>\n      <td>NaN</td>\n      <td>NaN</td>\n      <td>NaN</td>\n      <td>NaN</td>\n      <td>NaN</td>\n    </tr>\n    <tr>\n      <th>119</th>\n      <td>Schiesser_David_post_test.mp4</td>\n      <td>00:00:04 stitch_start\\r\\n00:00:47 knot_start\\r...</td>\n      <td>2.658392</td>\n      <td>47.933333</td>\n      <td>0.041866</td>\n      <td>m</td>\n      <td>82.643678</td>\n      <td>78.442281</td>\n      <td>0.312460</td>\n      <td>16.266667</td>\n      <td>...</td>\n      <td>NaN</td>\n      <td>NaN</td>\n      <td>NaN</td>\n      <td>NaN</td>\n      <td>NaN</td>\n      <td>NaN</td>\n      <td>NaN</td>\n      <td>NaN</td>\n      <td>NaN</td>\n      <td>NaN</td>\n    </tr>\n  </tbody>\n</table>\n<p>120 rows × 182 columns</p>\n</div>"
     },
     "execution_count": 173,
     "metadata": {},
     "output_type": "execute_result"
    }
   ],
   "source": [
    "dfst"
   ],
   "metadata": {
    "collapsed": false,
    "ExecuteTime": {
     "end_time": "2024-06-27T12:55:19.290114400Z",
     "start_time": "2024-06-27T12:55:19.141122700Z"
    }
   },
   "id": "571c7638a9cccaa6",
   "execution_count": 173
  },
  {
   "cell_type": "code",
   "outputs": [],
   "source": [],
   "metadata": {
    "collapsed": false,
    "ExecuteTime": {
     "end_time": "2024-06-27T12:55:20.630618500Z",
     "start_time": "2024-06-27T12:55:20.438618300Z"
    }
   },
   "id": "285ef2be0d3fc8f3",
   "execution_count": 173
  },
  {
   "cell_type": "markdown",
   "id": "d6997045-1eb0-4800-ac0a-fc1327a2dd2d",
   "metadata": {},
   "source": [
    "# Find the correlation"
   ]
  },
  {
   "cell_type": "code",
   "execution_count": 39,
   "id": "ac9eaa05-6615-4b7d-ad65-bbf74ff984e9",
   "metadata": {
    "tags": [],
    "ExecuteTime": {
     "end_time": "2024-06-27T08:28:13.731996800Z",
     "start_time": "2024-06-27T08:28:13.692995800Z"
    }
   },
   "outputs": [],
   "source": [
    "# count numeric values in columns\n",
    "# dfs.drop([\"filename\", \"stars_auto\"], axis=1).apply(lambda x: x.dtype is float).sum()\n",
    "# relevant_column = \"is_pretest_num\"\n",
    "relevant_column = \"movement evaluation stitch\"\n",
    "# df"
   ]
  },
  {
   "cell_type": "code",
   "execution_count": 40,
   "id": "1b7aa71b1749b7f",
   "metadata": {
    "collapsed": false,
    "tags": [],
    "ExecuteTime": {
     "end_time": "2024-06-27T08:28:16.916641Z",
     "start_time": "2024-06-27T08:28:16.830648100Z"
    }
   },
   "outputs": [],
   "source": [
    "# # remove columns containing \" stitch 1\" in their name\n",
    "# dfs = dfs.drop(dfs.columns[dfs.columns.str.contains(\" stitch 1\")], axis=1)\n",
    "# dfs = dfs.drop(dfs.columns[dfs.columns.str.contains(\" stitch 2\")], axis=1)\n",
    "# dfs = dfs.drop(dfs.columns[dfs.columns.str.contains(\" stitch 3\")], axis=1)\n",
    "# dfs = dfs.drop(dfs.columns[dfs.columns.str.contains(\" stitch 4\")], axis=1)\n",
    "# dfs = dfs.drop(dfs.columns[dfs.columns.str.contains(\"Stitch 1\")], axis=1)\n",
    "# dfs = dfs.drop(dfs.columns[dfs.columns.str.contains(\"Stitch 2\")], axis=1)\n",
    "# dfs = dfs.drop(dfs.columns[dfs.columns.str.contains(\"Stitch 3\")], axis=1)\n",
    "# dfs = dfs.drop(dfs.columns[dfs.columns.str.contains(\"Stitch 4\")], axis=1)\n",
    "# # dfs = dfs.drop(dfs.columns[dfs.columns.str.contains(\"n_stitches_by_user\")], axis=1)\n",
    "# # dfs = dfs.drop(dfs.columns[dfs.columns.str.contains(\"annotation_annotation_stars\")], axis=1)\n",
    "\n"
   ]
  },
  {
   "cell_type": "code",
   "outputs": [
    {
     "data": {
      "text/plain": "movement evaluation stitch                       1.000000\nStitch duration [s]                              0.768743\nNeedle holder stitch visibility [s]              0.728047\nNeedle holder stitch velocity above threshold    0.606122\nNeedle holder stitch length [m]                  0.569536\n                                                   ...   \nScissors stitch3 median area presence [%]             NaN\nScissors stitch4 area presence [%]                    NaN\nScissors stitch4 median area presence [%]             NaN\nStitch2 duration [s]                                  NaN\nStitch2 duration [%]                                  NaN\nName: movement evaluation stitch, Length: 69, dtype: float64"
     },
     "execution_count": 174,
     "metadata": {},
     "output_type": "execute_result"
    }
   ],
   "source": [
    "dfst.corr(numeric_only=True)[relevant_column].abs().sort_values(ascending=False)[\"Needle holder stitch length [m]\"]\n",
    "dfst.corr(numeric_only=True)[relevant_column].abs().sort_values(ascending=False)\n",
    "\n"
   ],
   "metadata": {
    "collapsed": false,
    "ExecuteTime": {
     "end_time": "2024-06-27T12:55:34.716439200Z",
     "start_time": "2024-06-27T12:55:34.495038200Z"
    }
   },
   "id": "4e5318e8d4a275f4",
   "execution_count": 174
  },
  {
   "cell_type": "markdown",
   "source": [
    "## Find the best columns to predict annotation_annotation_stars"
   ],
   "metadata": {
    "collapsed": false
   },
   "id": "98cceb8f2d518cbf"
  },
  {
   "cell_type": "code",
   "outputs": [
    {
     "data": {
      "text/plain": "Stitch duration [s]                              0.768743\nNeedle holder stitch visibility [s]              0.728047\nNeedle holder stitch velocity above threshold    0.606122\nNeedle holder stitch length [m]                  0.569536\nScissors stitch visibility [s]                   0.550759\nForceps stitch visibility [s]                    0.547047\nForceps stitch velocity                          0.450714\nName: movement evaluation stitch, dtype: float64"
     },
     "execution_count": 175,
     "metadata": {},
     "output_type": "execute_result"
    }
   ],
   "source": [
    "\n",
    "corr = dfst.corr(numeric_only=True)[relevant_column].abs().sort_values(ascending=False).head(8)\n",
    "corr = corr[corr.index != relevant_column] \n",
    "cols_with_0 = list(corr.index)\n",
    "sample_id_cols = [\"filename\", \"stitch_id\"]\n",
    "corr\n"
   ],
   "metadata": {
    "collapsed": false,
    "ExecuteTime": {
     "end_time": "2024-06-27T12:55:46.479393300Z",
     "start_time": "2024-06-27T12:55:46.362394300Z"
    }
   },
   "id": "7b3b60fd96e36618",
   "execution_count": 175
  },
  {
   "cell_type": "code",
   "outputs": [],
   "source": [
    "# get columns containing \"0\"\n",
    "# cols_with_0 = list(dfs.columns[dfs.columns.str.contains(\"0\")])\n",
    "# cols_with_0"
   ],
   "metadata": {
    "collapsed": false,
    "ExecuteTime": {
     "end_time": "2024-06-27T12:44:04.744512400Z",
     "start_time": "2024-06-27T12:44:04.665511300Z"
    }
   },
   "id": "12800a9e3717c338",
   "execution_count": 135
  },
  {
   "cell_type": "code",
   "execution_count": 136,
   "id": "1d682a975ee6f940",
   "metadata": {
    "collapsed": false,
    "tags": [],
    "ExecuteTime": {
     "end_time": "2024-06-27T12:44:05.249511700Z",
     "start_time": "2024-06-27T12:44:05.087513100Z"
    }
   },
   "outputs": [],
   "source": [
    "# try to find the best columns to predict stars_auto\n",
    "# corr = dfs[cols_with_0 + [relevant_column]].corr(numeric_only=True)[relevant_column].abs().sort_values(ascending=False) #.head(20)\n",
    "# corr = corr[corr.index != \"stars_auto\"] \n",
    "\n",
    "# corr"
   ]
  },
  {
   "cell_type": "code",
   "outputs": [],
   "source": [
    "# # corr = dfs.corr(numeric_only=True)[\"annotation_annotation_stars\"].abs().sort_values(ascending=False).head(7)\n",
    "# measurement_vs_annotation_separator = dfs.columns.str.contains(\"annotation_annotation\")\n",
    "# # corr = dfs.corr(numeric_only=True)[\"annotation_annotation_stars\"].abs().sort_values(ascending=False).head(7)\n",
    "# # corr on one axis measurement, on the other annotation, just the first 10\n",
    "# corr = dfs.corr(numeric_only=True).abs()\n",
    "# corr\n",
    "\n",
    "\n",
    "\n"
   ],
   "metadata": {
    "collapsed": false,
    "ExecuteTime": {
     "end_time": "2024-06-27T12:44:06.377807100Z",
     "start_time": "2024-06-27T12:44:06.238806500Z"
    }
   },
   "id": "244635b03a1d94b8",
   "execution_count": 137
  },
  {
   "cell_type": "code",
   "outputs": [],
   "source": [
    "#select the columns containing \"annotation_annotation\" in their name\n",
    "# measurement_vs_annotation_separator = corr.index.str.contains(\"annotation_annotation\")\n",
    "# measurement_vs_annotation_separator"
   ],
   "metadata": {
    "collapsed": false,
    "ExecuteTime": {
     "end_time": "2024-06-27T12:44:06.857805900Z",
     "start_time": "2024-06-27T12:44:06.701808200Z"
    }
   },
   "id": "34ab23a9f14e7aa7",
   "execution_count": 138
  },
  {
   "cell_type": "code",
   "outputs": [],
   "source": [
    "# import seaborn as sns\n",
    "# g = sns.pairplot(dfs, y_vars=corr.index[measurement_vs_annotation_separator], \n",
    "#              x_vars=corr.index[~measurement_vs_annotation_separator],\n",
    "#              # x_vars=[\"stars_auto\"]\n",
    "#              # hue=\"n_stitches_by_user\"\n",
    "#              )\n",
    "# g.map_lower(sns.kdeplot, levels=3, color=\".2\")"
   ],
   "metadata": {
    "collapsed": false,
    "ExecuteTime": {
     "end_time": "2024-06-27T12:44:07.544856500Z",
     "start_time": "2024-06-27T12:44:07.396316800Z"
    }
   },
   "id": "f8ae65b6df8c563a",
   "execution_count": 139
  },
  {
   "cell_type": "code",
   "outputs": [
    {
     "data": {
      "text/plain": "<seaborn.axisgrid.PairGrid at 0x23c6b576bc0>"
     },
     "execution_count": 176,
     "metadata": {},
     "output_type": "execute_result"
    },
    {
     "data": {
      "text/plain": "<Figure size 250x1750 with 7 Axes>",
      "image/png": "[encoded data removed]"
     },
     "metadata": {},
     "output_type": "display_data"
    }
   ],
   "source": [
    "\n",
    "sns.pairplot(dfst, y_vars=corr.index,\n",
    "             # x_vars=corr.index,\n",
    "             x_vars=[relevant_column]\n",
    "             )\n"
   ],
   "metadata": {
    "collapsed": false,
    "ExecuteTime": {
     "end_time": "2024-06-27T12:55:58.812970800Z",
     "start_time": "2024-06-27T12:55:57.121934700Z"
    }
   },
   "id": "4817bfe53aecfe9d",
   "execution_count": 176
  },
  {
   "cell_type": "code",
   "outputs": [],
   "source": [],
   "metadata": {
    "collapsed": false
   },
   "id": "58d2d8ecf46472a4"
  },
  {
   "cell_type": "code",
   "outputs": [
    {
     "data": {
      "application/vnd.plotly.v1+json": {
       "data": [
        {
         "customdata": [
          [
           "Bad-2021_11_03_A_Noll_Alexander_Einzelknopfnaht.mp4",
           0
          ],
          [
           "donati_luis.mov",
           0
          ],
          [
           "Screen_Recording_20240221_150510_Zoom.mp4",
           0
          ],
          [
           "11.4.2024.HarmsSören.NHT.mp4",
           0
          ],
          [
           "Pre_-Test_Isabel_Linden.mp4",
           0
          ],
          [
           "Fehringer_Pascal__post_test.mp4",
           0
          ],
          [
           "Hilger,Anke-Posttest.mp4",
           0
          ],
          [
           "Bad-03_11_21_B_Hopfe_Johanna_Einzelknopfnaht.mp4",
           0
          ],
          [
           "Bad-12_10_21__Loewe__Rebekka__Einzelknopfnaht.mp4",
           0
          ],
          [
           "Bad-2021_11_03_A_Petersen_Insa_Einzelknopfnaht_am_Schweinefu_.mp4",
           0
          ],
          [
           "Bad-2021_11_03_A_Spitze_Vanessa_Einzelknopfnaht_am_Schweinefu_.mp4",
           0
          ],
          [
           "Bad-2021_11_03_B_V_lz__Ann_Sophie_Einzelknopfnaht_am_Schweinefu___1_.mp4",
           0
          ],
          [
           "Bad-2021_11_3_A_Brodersen___nne_Einzelknopfnaht_am_Schweinefu_.mp4",
           0
          ],
          [
           "Bad-3_11_21_B_Grumt_Alina_Einzelknopfnaht_Schweinefu_.mp4",
           0
          ],
          [
           "Bildschirmaufnahme_2022-10-11_um_11.20.24.mov",
           0
          ],
          [
           "Einzelknopfnaht_Elena.Vai-Wieting.mov",
           0
          ],
          [
           "Einzelknopfnaht_Lina_Schäfer.mp4",
           0
          ],
          [
           "EinzelknopfnahtamSchweinefuss_Muenzner_Simeon.mp4",
           0
          ],
          [
           "Good-Einzelknopfnaht_Stoklossa.mp4",
           0
          ],
          [
           "Good-2021_10_27_B_Etzel_Peter_Einzelknopfnaht_am_Schweinefu_.mp4",
           0
          ],
          [
           "Good-Schmidt_Elisabeth_Einzelknotennaht_11_10_2021_MP4_SparkVideo.mp4",
           0
          ],
          [
           "Good-Schweinefu__Einzelknopfnaht.mp4",
           0
          ],
          [
           "Medium-2021_11_03_A_Seifert_Johanna_Einzelknopfnaht_am_Schweinefu_.mp4",
           0
          ],
          [
           "Medium-2021_11_03_A_Tengler_Sophie_Einzelknopfnaht_Schweinefu_.mp4",
           0
          ],
          [
           "Medium-RPReplay_Final1634048018.mp4",
           0
          ],
          [
           "Medium-Schweinefu_.mp4",
           0
          ],
          [
           "Stresstest_Einzelknopfnaht.mp4",
           0
          ],
          [
           "medium-2021_11_03_A_Tengler_Sophie_Einzelknopfnaht_Schweinefu_.mp4",
           0
          ],
          [
           "Gehrke,Yves - post.mp4",
           0
          ],
          [
           "Schiesser_David_post_test.mp4",
           0
          ],
          [
           "Bad-2021_11_03_A_Noll_Alexander_Einzelknopfnaht.mp4",
           1
          ],
          [
           "donati_luis.mov",
           1
          ],
          [
           "Screen_Recording_20240221_150510_Zoom.mp4",
           1
          ],
          [
           "11.4.2024.HarmsSören.NHT.mp4",
           1
          ],
          [
           "Pre_-Test_Isabel_Linden.mp4",
           1
          ],
          [
           "Fehringer_Pascal__post_test.mp4",
           1
          ],
          [
           "Hilger,Anke-Posttest.mp4",
           1
          ],
          [
           "Bad-03_11_21_B_Hopfe_Johanna_Einzelknopfnaht.mp4",
           1
          ],
          [
           "Bad-12_10_21__Loewe__Rebekka__Einzelknopfnaht.mp4",
           1
          ],
          [
           "Bad-2021_11_03_A_Petersen_Insa_Einzelknopfnaht_am_Schweinefu_.mp4",
           1
          ],
          [
           "Bad-2021_11_03_A_Spitze_Vanessa_Einzelknopfnaht_am_Schweinefu_.mp4",
           1
          ],
          [
           "Bad-2021_11_03_B_V_lz__Ann_Sophie_Einzelknopfnaht_am_Schweinefu___1_.mp4",
           1
          ],
          [
           "Bad-2021_11_3_A_Brodersen___nne_Einzelknopfnaht_am_Schweinefu_.mp4",
           1
          ],
          [
           "Bad-3_11_21_B_Grumt_Alina_Einzelknopfnaht_Schweinefu_.mp4",
           1
          ],
          [
           "Bildschirmaufnahme_2022-10-11_um_11.20.24.mov",
           1
          ],
          [
           "Einzelknopfnaht_Elena.Vai-Wieting.mov",
           1
          ],
          [
           "Einzelknopfnaht_Lina_Schäfer.mp4",
           1
          ],
          [
           "EinzelknopfnahtamSchweinefuss_Muenzner_Simeon.mp4",
           1
          ],
          [
           "Good-Einzelknopfnaht_Stoklossa.mp4",
           1
          ],
          [
           "Good-2021_10_27_B_Etzel_Peter_Einzelknopfnaht_am_Schweinefu_.mp4",
           1
          ],
          [
           "Good-Schmidt_Elisabeth_Einzelknotennaht_11_10_2021_MP4_SparkVideo.mp4",
           1
          ],
          [
           "Good-Schweinefu__Einzelknopfnaht.mp4",
           1
          ],
          [
           "Medium-2021_11_03_A_Seifert_Johanna_Einzelknopfnaht_am_Schweinefu_.mp4",
           1
          ],
          [
           "Medium-2021_11_03_A_Tengler_Sophie_Einzelknopfnaht_Schweinefu_.mp4",
           1
          ],
          [
           "Medium-RPReplay_Final1634048018.mp4",
           1
          ],
          [
           "Medium-Schweinefu_.mp4",
           1
          ],
          [
           "Stresstest_Einzelknopfnaht.mp4",
           1
          ],
          [
           "medium-2021_11_03_A_Tengler_Sophie_Einzelknopfnaht_Schweinefu_.mp4",
           1
          ],
          [
           "Gehrke,Yves - post.mp4",
           1
          ],
          [
           "Schiesser_David_post_test.mp4",
           1
          ],
          [
           "Bad-2021_11_03_A_Noll_Alexander_Einzelknopfnaht.mp4",
           2
          ],
          [
           "donati_luis.mov",
           2
          ],
          [
           "Screen_Recording_20240221_150510_Zoom.mp4",
           2
          ],
          [
           "11.4.2024.HarmsSören.NHT.mp4",
           2
          ],
          [
           "Pre_-Test_Isabel_Linden.mp4",
           2
          ],
          [
           "Fehringer_Pascal__post_test.mp4",
           2
          ],
          [
           "Hilger,Anke-Posttest.mp4",
           2
          ],
          [
           "Bad-03_11_21_B_Hopfe_Johanna_Einzelknopfnaht.mp4",
           2
          ],
          [
           "Bad-12_10_21__Loewe__Rebekka__Einzelknopfnaht.mp4",
           2
          ],
          [
           "Bad-2021_11_03_A_Petersen_Insa_Einzelknopfnaht_am_Schweinefu_.mp4",
           2
          ],
          [
           "Bad-2021_11_03_A_Spitze_Vanessa_Einzelknopfnaht_am_Schweinefu_.mp4",
           2
          ],
          [
           "Bad-2021_11_03_B_V_lz__Ann_Sophie_Einzelknopfnaht_am_Schweinefu___1_.mp4",
           2
          ],
          [
           "Bad-2021_11_3_A_Brodersen___nne_Einzelknopfnaht_am_Schweinefu_.mp4",
           2
          ],
          [
           "Bad-3_11_21_B_Grumt_Alina_Einzelknopfnaht_Schweinefu_.mp4",
           2
          ],
          [
           "Bildschirmaufnahme_2022-10-11_um_11.20.24.mov",
           2
          ],
          [
           "Einzelknopfnaht_Elena.Vai-Wieting.mov",
           2
          ],
          [
           "Einzelknopfnaht_Lina_Schäfer.mp4",
           2
          ],
          [
           "EinzelknopfnahtamSchweinefuss_Muenzner_Simeon.mp4",
           2
          ],
          [
           "Good-Einzelknopfnaht_Stoklossa.mp4",
           2
          ],
          [
           "Good-2021_10_27_B_Etzel_Peter_Einzelknopfnaht_am_Schweinefu_.mp4",
           2
          ],
          [
           "Good-Schmidt_Elisabeth_Einzelknotennaht_11_10_2021_MP4_SparkVideo.mp4",
           2
          ],
          [
           "Good-Schweinefu__Einzelknopfnaht.mp4",
           2
          ],
          [
           "Medium-2021_11_03_A_Seifert_Johanna_Einzelknopfnaht_am_Schweinefu_.mp4",
           2
          ],
          [
           "Medium-2021_11_03_A_Tengler_Sophie_Einzelknopfnaht_Schweinefu_.mp4",
           2
          ],
          [
           "Medium-RPReplay_Final1634048018.mp4",
           2
          ],
          [
           "Medium-Schweinefu_.mp4",
           2
          ],
          [
           "Stresstest_Einzelknopfnaht.mp4",
           2
          ],
          [
           "medium-2021_11_03_A_Tengler_Sophie_Einzelknopfnaht_Schweinefu_.mp4",
           2
          ],
          [
           "Gehrke,Yves - post.mp4",
           2
          ],
          [
           "Schiesser_David_post_test.mp4",
           2
          ],
          [
           "Bad-2021_11_03_A_Noll_Alexander_Einzelknopfnaht.mp4",
           3
          ],
          [
           "donati_luis.mov",
           3
          ],
          [
           "Screen_Recording_20240221_150510_Zoom.mp4",
           3
          ],
          [
           "11.4.2024.HarmsSören.NHT.mp4",
           3
          ],
          [
           "Pre_-Test_Isabel_Linden.mp4",
           3
          ],
          [
           "Fehringer_Pascal__post_test.mp4",
           3
          ],
          [
           "Hilger,Anke-Posttest.mp4",
           3
          ],
          [
           "Bad-03_11_21_B_Hopfe_Johanna_Einzelknopfnaht.mp4",
           3
          ],
          [
           "Bad-12_10_21__Loewe__Rebekka__Einzelknopfnaht.mp4",
           3
          ],
          [
           "Bad-2021_11_03_A_Petersen_Insa_Einzelknopfnaht_am_Schweinefu_.mp4",
           3
          ],
          [
           "Bad-2021_11_03_A_Spitze_Vanessa_Einzelknopfnaht_am_Schweinefu_.mp4",
           3
          ],
          [
           "Bad-2021_11_03_B_V_lz__Ann_Sophie_Einzelknopfnaht_am_Schweinefu___1_.mp4",
           3
          ],
          [
           "Bad-2021_11_3_A_Brodersen___nne_Einzelknopfnaht_am_Schweinefu_.mp4",
           3
          ],
          [
           "Bad-3_11_21_B_Grumt_Alina_Einzelknopfnaht_Schweinefu_.mp4",
           3
          ],
          [
           "Bildschirmaufnahme_2022-10-11_um_11.20.24.mov",
           3
          ],
          [
           "Einzelknopfnaht_Elena.Vai-Wieting.mov",
           3
          ],
          [
           "Einzelknopfnaht_Lina_Schäfer.mp4",
           3
          ],
          [
           "EinzelknopfnahtamSchweinefuss_Muenzner_Simeon.mp4",
           3
          ],
          [
           "Good-Einzelknopfnaht_Stoklossa.mp4",
           3
          ],
          [
           "Good-2021_10_27_B_Etzel_Peter_Einzelknopfnaht_am_Schweinefu_.mp4",
           3
          ],
          [
           "Good-Schmidt_Elisabeth_Einzelknotennaht_11_10_2021_MP4_SparkVideo.mp4",
           3
          ],
          [
           "Good-Schweinefu__Einzelknopfnaht.mp4",
           3
          ],
          [
           "Medium-2021_11_03_A_Seifert_Johanna_Einzelknopfnaht_am_Schweinefu_.mp4",
           3
          ],
          [
           "Medium-2021_11_03_A_Tengler_Sophie_Einzelknopfnaht_Schweinefu_.mp4",
           3
          ],
          [
           "Medium-RPReplay_Final1634048018.mp4",
           3
          ],
          [
           "Medium-Schweinefu_.mp4",
           3
          ],
          [
           "Stresstest_Einzelknopfnaht.mp4",
           3
          ],
          [
           "medium-2021_11_03_A_Tengler_Sophie_Einzelknopfnaht_Schweinefu_.mp4",
           3
          ],
          [
           "Gehrke,Yves - post.mp4",
           3
          ],
          [
           "Schiesser_David_post_test.mp4",
           3
          ]
         ],
         "hovertemplate": "movement evaluation stitch=%{x}<br>Needle holder stitch visibility [s]=%{y}<br>filename=%{customdata[0]}<br>stitch_id=%{customdata[1]}<extra></extra>",
         "legendgroup": "",
         "marker": {
          "color": "#636efa",
          "symbol": "circle"
         },
         "mode": "markers",
         "name": "",
         "orientation": "v",
         "showlegend": false,
         "x": [
          3.0,
          null,
          null,
          null,
          4.0,
          2.0,
          4.0,
          4.0,
          1.0,
          3.0,
          2.0,
          3.0,
          2.0,
          2.0,
          1.0,
          3.0,
          2.5,
          3.0,
          3.0,
          3.5,
          2.0,
          4.0,
          4.0,
          4.0,
          2.0,
          3.0,
          5.0,
          4.0,
          3.0,
          3.0,
          3.0,
          null,
          null,
          null,
          2.0,
          null,
          4.0,
          3.0,
          null,
          null,
          null,
          null,
          1.0,
          2.0,
          2.0,
          5.0,
          null,
          3.0,
          1.0,
          null,
          null,
          3.5,
          5.0,
          null,
          null,
          null,
          5.0,
          null,
          4.0,
          4.0,
          null,
          null,
          null,
          null,
          3.0,
          null,
          3.0,
          null,
          null,
          null,
          null,
          null,
          null,
          null,
          3.0,
          5.0,
          null,
          3.5,
          null,
          null,
          null,
          null,
          null,
          null,
          null,
          null,
          5.0,
          null,
          null,
          5.0,
          null,
          null,
          null,
          null,
          null,
          null,
          4.0,
          null,
          null,
          null,
          null,
          null,
          null,
          null,
          4.0,
          null,
          null,
          null,
          null,
          null,
          null,
          null,
          null,
          null,
          null,
          null,
          5.0,
          null,
          null,
          3.0
         ],
         "xaxis": "x",
         "y": [
          70.8,
          15.0,
          128.0666667,
          27.0,
          46.6,
          71.53333333,
          39.4,
          91.4,
          214.8,
          97.93333333,
          108.0,
          95.46666667,
          83.2,
          77.66666667,
          134.4666667,
          89.33333333,
          101.1333333,
          null,
          89.6,
          76.0,
          114.6,
          58.2,
          52.2,
          44.66666667,
          113.8666667,
          91.73333333,
          40.66666667,
          45.6,
          65.66666667,
          62.2,
          67.4,
          18.46666667,
          null,
          42.8,
          88.06666667,
          null,
          34.8,
          132.9333333,
          null,
          null,
          null,
          null,
          120.5333333,
          88.4,
          90.33333333,
          65.93333333,
          null,
          null,
          126.4666667,
          null,
          null,
          null,
          45.06666667,
          null,
          null,
          null,
          27.73333333,
          null,
          52.66666667,
          47.26666667,
          null,
          27.8,
          null,
          48.0,
          null,
          null,
          48.13333333,
          null,
          null,
          null,
          null,
          null,
          null,
          null,
          106.8666667,
          null,
          null,
          null,
          null,
          null,
          null,
          null,
          null,
          null,
          null,
          null,
          82.06666667,
          null,
          null,
          34.73333333,
          null,
          38.13333333,
          null,
          null,
          null,
          null,
          32.66666667,
          null,
          null,
          null,
          null,
          null,
          null,
          null,
          95.2,
          null,
          null,
          null,
          null,
          null,
          null,
          null,
          null,
          null,
          null,
          null,
          62.26666667,
          null,
          null,
          47.93333333
         ],
         "yaxis": "y",
         "type": "scatter"
        }
       ],
       "layout": {
        "template": {
         "data": {
          "histogram2dcontour": [
           {
            "type": "histogram2dcontour",
            "colorbar": {
             "outlinewidth": 0,
             "ticks": ""
            },
            "colorscale": [
             [
              0.0,
              "#0d0887"
             ],
             [
              0.1111111111111111,
              "#46039f"
             ],
             [
              0.2222222222222222,
              "#7201a8"
             ],
             [
              0.3333333333333333,
              "#9c179e"
             ],
             [
              0.4444444444444444,
              "#bd3786"
             ],
             [
              0.5555555555555556,
              "#d8576b"
             ],
             [
              0.6666666666666666,
              "#ed7953"
             ],
             [
              0.7777777777777778,
              "#fb9f3a"
             ],
             [
              0.8888888888888888,
              "#fdca26"
             ],
             [
              1.0,
              "#f0f921"
             ]
            ]
           }
          ],
          "choropleth": [
           {
            "type": "choropleth",
            "colorbar": {
             "outlinewidth": 0,
             "ticks": ""
            }
           }
          ],
          "histogram2d": [
           {
            "type": "histogram2d",
            "colorbar": {
             "outlinewidth": 0,
             "ticks": ""
            },
            "colorscale": [
             [
              0.0,
              "#0d0887"
             ],
             [
              0.1111111111111111,
              "#46039f"
             ],
             [
              0.2222222222222222,
              "#7201a8"
             ],
             [
              0.3333333333333333,
              "#9c179e"
             ],
             [
              0.4444444444444444,
              "#bd3786"
             ],
             [
              0.5555555555555556,
              "#d8576b"
             ],
             [
              0.6666666666666666,
              "#ed7953"
             ],
             [
              0.7777777777777778,
              "#fb9f3a"
             ],
             [
              0.8888888888888888,
              "#fdca26"
             ],
             [
              1.0,
              "#f0f921"
             ]
            ]
           }
          ],
          "heatmap": [
           {
            "type": "heatmap",
            "colorbar": {
             "outlinewidth": 0,
             "ticks": ""
            },
            "colorscale": [
             [
              0.0,
              "#0d0887"
             ],
             [
              0.1111111111111111,
              "#46039f"
             ],
             [
              0.2222222222222222,
              "#7201a8"
             ],
             [
              0.3333333333333333,
              "#9c179e"
             ],
             [
              0.4444444444444444,
              "#bd3786"
             ],
             [
              0.5555555555555556,
              "#d8576b"
             ],
             [
              0.6666666666666666,
              "#ed7953"
             ],
             [
              0.7777777777777778,
              "#fb9f3a"
             ],
             [
              0.8888888888888888,
              "#fdca26"
             ],
             [
              1.0,
              "#f0f921"
             ]
            ]
           }
          ],
          "heatmapgl": [
           {
            "type": "heatmapgl",
            "colorbar": {
             "outlinewidth": 0,
             "ticks": ""
            },
            "colorscale": [
             [
              0.0,
              "#0d0887"
             ],
             [
              0.1111111111111111,
              "#46039f"
             ],
             [
              0.2222222222222222,
              "#7201a8"
             ],
             [
              0.3333333333333333,
              "#9c179e"
             ],
             [
              0.4444444444444444,
              "#bd3786"
             ],
             [
              0.5555555555555556,
              "#d8576b"
             ],
             [
              0.6666666666666666,
              "#ed7953"
             ],
             [
              0.7777777777777778,
              "#fb9f3a"
             ],
             [
              0.8888888888888888,
              "#fdca26"
             ],
             [
              1.0,
              "#f0f921"
             ]
            ]
           }
          ],
          "contourcarpet": [
           {
            "type": "contourcarpet",
            "colorbar": {
             "outlinewidth": 0,
             "ticks": ""
            }
           }
          ],
          "contour": [
           {
            "type": "contour",
            "colorbar": {
             "outlinewidth": 0,
             "ticks": ""
            },
            "colorscale": [
             [
              0.0,
              "#0d0887"
             ],
             [
              0.1111111111111111,
              "#46039f"
             ],
             [
              0.2222222222222222,
              "#7201a8"
             ],
             [
              0.3333333333333333,
              "#9c179e"
             ],
             [
              0.4444444444444444,
              "#bd3786"
             ],
             [
              0.5555555555555556,
              "#d8576b"
             ],
             [
              0.6666666666666666,
              "#ed7953"
             ],
             [
              0.7777777777777778,
              "#fb9f3a"
             ],
             [
              0.8888888888888888,
              "#fdca26"
             ],
             [
              1.0,
              "#f0f921"
             ]
            ]
           }
          ],
          "surface": [
           {
            "type": "surface",
            "colorbar": {
             "outlinewidth": 0,
             "ticks": ""
            },
            "colorscale": [
             [
              0.0,
              "#0d0887"
             ],
             [
              0.1111111111111111,
              "#46039f"
             ],
             [
              0.2222222222222222,
              "#7201a8"
             ],
             [
              0.3333333333333333,
              "#9c179e"
             ],
             [
              0.4444444444444444,
              "#bd3786"
             ],
             [
              0.5555555555555556,
              "#d8576b"
             ],
             [
              0.6666666666666666,
              "#ed7953"
             ],
             [
              0.7777777777777778,
              "#fb9f3a"
             ],
             [
              0.8888888888888888,
              "#fdca26"
             ],
             [
              1.0,
              "#f0f921"
             ]
            ]
           }
          ],
          "mesh3d": [
           {
            "type": "mesh3d",
            "colorbar": {
             "outlinewidth": 0,
             "ticks": ""
            }
           }
          ],
          "scatter": [
           {
            "fillpattern": {
             "fillmode": "overlay",
             "size": 10,
             "solidity": 0.2
            },
            "type": "scatter"
           }
          ],
          "parcoords": [
           {
            "type": "parcoords",
            "line": {
             "colorbar": {
              "outlinewidth": 0,
              "ticks": ""
             }
            }
           }
          ],
          "scatterpolargl": [
           {
            "type": "scatterpolargl",
            "marker": {
             "colorbar": {
              "outlinewidth": 0,
              "ticks": ""
             }
            }
           }
          ],
          "bar": [
           {
            "error_x": {
             "color": "#2a3f5f"
            },
            "error_y": {
             "color": "#2a3f5f"
            },
            "marker": {
             "line": {
              "color": "#E5ECF6",
              "width": 0.5
             },
             "pattern": {
              "fillmode": "overlay",
              "size": 10,
              "solidity": 0.2
             }
            },
            "type": "bar"
           }
          ],
          "scattergeo": [
           {
            "type": "scattergeo",
            "marker": {
             "colorbar": {
              "outlinewidth": 0,
              "ticks": ""
             }
            }
           }
          ],
          "scatterpolar": [
           {
            "type": "scatterpolar",
            "marker": {
             "colorbar": {
              "outlinewidth": 0,
              "ticks": ""
             }
            }
           }
          ],
          "histogram": [
           {
            "marker": {
             "pattern": {
              "fillmode": "overlay",
              "size": 10,
              "solidity": 0.2
             }
            },
            "type": "histogram"
           }
          ],
          "scattergl": [
           {
            "type": "scattergl",
            "marker": {
             "colorbar": {
              "outlinewidth": 0,
              "ticks": ""
             }
            }
           }
          ],
          "scatter3d": [
           {
            "type": "scatter3d",
            "line": {
             "colorbar": {
              "outlinewidth": 0,
              "ticks": ""
             }
            },
            "marker": {
             "colorbar": {
              "outlinewidth": 0,
              "ticks": ""
             }
            }
           }
          ],
          "scattermapbox": [
           {
            "type": "scattermapbox",
            "marker": {
             "colorbar": {
              "outlinewidth": 0,
              "ticks": ""
             }
            }
           }
          ],
          "scatterternary": [
           {
            "type": "scatterternary",
            "marker": {
             "colorbar": {
              "outlinewidth": 0,
              "ticks": ""
             }
            }
           }
          ],
          "scattercarpet": [
           {
            "type": "scattercarpet",
            "marker": {
             "colorbar": {
              "outlinewidth": 0,
              "ticks": ""
             }
            }
           }
          ],
          "carpet": [
           {
            "aaxis": {
             "endlinecolor": "#2a3f5f",
             "gridcolor": "white",
             "linecolor": "white",
             "minorgridcolor": "white",
             "startlinecolor": "#2a3f5f"
            },
            "baxis": {
             "endlinecolor": "#2a3f5f",
             "gridcolor": "white",
             "linecolor": "white",
             "minorgridcolor": "white",
             "startlinecolor": "#2a3f5f"
            },
            "type": "carpet"
           }
          ],
          "table": [
           {
            "cells": {
             "fill": {
              "color": "#EBF0F8"
             },
             "line": {
              "color": "white"
             }
            },
            "header": {
             "fill": {
              "color": "#C8D4E3"
             },
             "line": {
              "color": "white"
             }
            },
            "type": "table"
           }
          ],
          "barpolar": [
           {
            "marker": {
             "line": {
              "color": "#E5ECF6",
              "width": 0.5
             },
             "pattern": {
              "fillmode": "overlay",
              "size": 10,
              "solidity": 0.2
             }
            },
            "type": "barpolar"
           }
          ],
          "pie": [
           {
            "automargin": true,
            "type": "pie"
           }
          ]
         },
         "layout": {
          "autotypenumbers": "strict",
          "colorway": [
           "#636efa",
           "#EF553B",
           "#00cc96",
           "#ab63fa",
           "#FFA15A",
           "#19d3f3",
           "#FF6692",
           "#B6E880",
           "#FF97FF",
           "#FECB52"
          ],
          "font": {
           "color": "#2a3f5f"
          },
          "hovermode": "closest",
          "hoverlabel": {
           "align": "left"
          },
          "paper_bgcolor": "white",
          "plot_bgcolor": "#E5ECF6",
          "polar": {
           "bgcolor": "#E5ECF6",
           "angularaxis": {
            "gridcolor": "white",
            "linecolor": "white",
            "ticks": ""
           },
           "radialaxis": {
            "gridcolor": "white",
            "linecolor": "white",
            "ticks": ""
           }
          },
          "ternary": {
           "bgcolor": "#E5ECF6",
           "aaxis": {
            "gridcolor": "white",
            "linecolor": "white",
            "ticks": ""
           },
           "baxis": {
            "gridcolor": "white",
            "linecolor": "white",
            "ticks": ""
           },
           "caxis": {
            "gridcolor": "white",
            "linecolor": "white",
            "ticks": ""
           }
          },
          "coloraxis": {
           "colorbar": {
            "outlinewidth": 0,
            "ticks": ""
           }
          },
          "colorscale": {
           "sequential": [
            [
             0.0,
             "#0d0887"
            ],
            [
             0.1111111111111111,
             "#46039f"
            ],
            [
             0.2222222222222222,
             "#7201a8"
            ],
            [
             0.3333333333333333,
             "#9c179e"
            ],
            [
             0.4444444444444444,
             "#bd3786"
            ],
            [
             0.5555555555555556,
             "#d8576b"
            ],
            [
             0.6666666666666666,
             "#ed7953"
            ],
            [
             0.7777777777777778,
             "#fb9f3a"
            ],
            [
             0.8888888888888888,
             "#fdca26"
            ],
            [
             1.0,
             "#f0f921"
            ]
           ],
           "sequentialminus": [
            [
             0.0,
             "#0d0887"
            ],
            [
             0.1111111111111111,
             "#46039f"
            ],
            [
             0.2222222222222222,
             "#7201a8"
            ],
            [
             0.3333333333333333,
             "#9c179e"
            ],
            [
             0.4444444444444444,
             "#bd3786"
            ],
            [
             0.5555555555555556,
             "#d8576b"
            ],
            [
             0.6666666666666666,
             "#ed7953"
            ],
            [
             0.7777777777777778,
             "#fb9f3a"
            ],
            [
             0.8888888888888888,
             "#fdca26"
            ],
            [
             1.0,
             "#f0f921"
            ]
           ],
           "diverging": [
            [
             0,
             "#8e0152"
            ],
            [
             0.1,
             "#c51b7d"
            ],
            [
             0.2,
             "#de77ae"
            ],
            [
             0.3,
             "#f1b6da"
            ],
            [
             0.4,
             "#fde0ef"
            ],
            [
             0.5,
             "#f7f7f7"
            ],
            [
             0.6,
             "#e6f5d0"
            ],
            [
             0.7,
             "#b8e186"
            ],
            [
             0.8,
             "#7fbc41"
            ],
            [
             0.9,
             "#4d9221"
            ],
            [
             1,
             "#276419"
            ]
           ]
          },
          "xaxis": {
           "gridcolor": "white",
           "linecolor": "white",
           "ticks": "",
           "title": {
            "standoff": 15
           },
           "zerolinecolor": "white",
           "automargin": true,
           "zerolinewidth": 2
          },
          "yaxis": {
           "gridcolor": "white",
           "linecolor": "white",
           "ticks": "",
           "title": {
            "standoff": 15
           },
           "zerolinecolor": "white",
           "automargin": true,
           "zerolinewidth": 2
          },
          "scene": {
           "xaxis": {
            "backgroundcolor": "#E5ECF6",
            "gridcolor": "white",
            "linecolor": "white",
            "showbackground": true,
            "ticks": "",
            "zerolinecolor": "white",
            "gridwidth": 2
           },
           "yaxis": {
            "backgroundcolor": "#E5ECF6",
            "gridcolor": "white",
            "linecolor": "white",
            "showbackground": true,
            "ticks": "",
            "zerolinecolor": "white",
            "gridwidth": 2
           },
           "zaxis": {
            "backgroundcolor": "#E5ECF6",
            "gridcolor": "white",
            "linecolor": "white",
            "showbackground": true,
            "ticks": "",
            "zerolinecolor": "white",
            "gridwidth": 2
           }
          },
          "shapedefaults": {
           "line": {
            "color": "#2a3f5f"
           }
          },
          "annotationdefaults": {
           "arrowcolor": "#2a3f5f",
           "arrowhead": 0,
           "arrowwidth": 1
          },
          "geo": {
           "bgcolor": "white",
           "landcolor": "#E5ECF6",
           "subunitcolor": "white",
           "showland": true,
           "showlakes": true,
           "lakecolor": "white"
          },
          "title": {
           "x": 0.05
          },
          "mapbox": {
           "style": "light"
          }
         }
        },
        "xaxis": {
         "anchor": "y",
         "domain": [
          0.0,
          1.0
         ],
         "title": {
          "text": "movement evaluation stitch"
         }
        },
        "yaxis": {
         "anchor": "x",
         "domain": [
          0.0,
          1.0
         ],
         "title": {
          "text": "Needle holder stitch visibility [s]"
         }
        },
        "legend": {
         "tracegroupgap": 0
        },
        "margin": {
         "t": 60
        },
        "width": 500
       },
       "config": {
        "plotlyServerURL": "https://plot.ly"
       }
      },
      "text/html": "<div>                            <div id=\"8715360c-1d12-4080-8b56-4458a1ec8488\" class=\"plotly-graph-div\" style=\"height:525px; width:500px;\"></div>            <script type=\"text/javascript\">                require([\"plotly\"], function(Plotly) {                    window.PLOTLYENV=window.PLOTLYENV || {};                                    if (document.getElementById(\"8715360c-1d12-4080-8b56-4458a1ec8488\")) {                    Plotly.newPlot(                        \"8715360c-1d12-4080-8b56-4458a1ec8488\",                        [{\"customdata\":[[\"Bad-2021_11_03_A_Noll_Alexander_Einzelknopfnaht.mp4\",0],[\"donati_luis.mov\",0],[\"Screen_Recording_20240221_150510_Zoom.mp4\",0],[\"11.4.2024.HarmsS\\u00f6ren.NHT.mp4\",0],[\"Pre_-Test_Isabel_Linden.mp4\",0],[\"Fehringer_Pascal__post_test.mp4\",0],[\"Hilger,Anke-Posttest.mp4\",0],[\"Bad-03_11_21_B_Hopfe_Johanna_Einzelknopfnaht.mp4\",0],[\"Bad-12_10_21__Loewe__Rebekka__Einzelknopfnaht.mp4\",0],[\"Bad-2021_11_03_A_Petersen_Insa_Einzelknopfnaht_am_Schweinefu_.mp4\",0],[\"Bad-2021_11_03_A_Spitze_Vanessa_Einzelknopfnaht_am_Schweinefu_.mp4\",0],[\"Bad-2021_11_03_B_V_lz__Ann_Sophie_Einzelknopfnaht_am_Schweinefu___1_.mp4\",0],[\"Bad-2021_11_3_A_Brodersen___nne_Einzelknopfnaht_am_Schweinefu_.mp4\",0],[\"Bad-3_11_21_B_Grumt_Alina_Einzelknopfnaht_Schweinefu_.mp4\",0],[\"Bildschirmaufnahme_2022-10-11_um_11.20.24.mov\",0],[\"Einzelknopfnaht_Elena.Vai-Wieting.mov\",0],[\"Einzelknopfnaht_Lina_Sch\\u00e4fer.mp4\",0],[\"EinzelknopfnahtamSchweinefuss_Muenzner_Simeon.mp4\",0],[\"Good-Einzelknopfnaht_Stoklossa.mp4\",0],[\"Good-2021_10_27_B_Etzel_Peter_Einzelknopfnaht_am_Schweinefu_.mp4\",0],[\"Good-Schmidt_Elisabeth_Einzelknotennaht_11_10_2021_MP4_SparkVideo.mp4\",0],[\"Good-Schweinefu__Einzelknopfnaht.mp4\",0],[\"Medium-2021_11_03_A_Seifert_Johanna_Einzelknopfnaht_am_Schweinefu_.mp4\",0],[\"Medium-2021_11_03_A_Tengler_Sophie_Einzelknopfnaht_Schweinefu_.mp4\",0],[\"Medium-RPReplay_Final1634048018.mp4\",0],[\"Medium-Schweinefu_.mp4\",0],[\"Stresstest_Einzelknopfnaht.mp4\",0],[\"medium-2021_11_03_A_Tengler_Sophie_Einzelknopfnaht_Schweinefu_.mp4\",0],[\"Gehrke,Yves - post.mp4\",0],[\"Schiesser_David_post_test.mp4\",0],[\"Bad-2021_11_03_A_Noll_Alexander_Einzelknopfnaht.mp4\",1],[\"donati_luis.mov\",1],[\"Screen_Recording_20240221_150510_Zoom.mp4\",1],[\"11.4.2024.HarmsS\\u00f6ren.NHT.mp4\",1],[\"Pre_-Test_Isabel_Linden.mp4\",1],[\"Fehringer_Pascal__post_test.mp4\",1],[\"Hilger,Anke-Posttest.mp4\",1],[\"Bad-03_11_21_B_Hopfe_Johanna_Einzelknopfnaht.mp4\",1],[\"Bad-12_10_21__Loewe__Rebekka__Einzelknopfnaht.mp4\",1],[\"Bad-2021_11_03_A_Petersen_Insa_Einzelknopfnaht_am_Schweinefu_.mp4\",1],[\"Bad-2021_11_03_A_Spitze_Vanessa_Einzelknopfnaht_am_Schweinefu_.mp4\",1],[\"Bad-2021_11_03_B_V_lz__Ann_Sophie_Einzelknopfnaht_am_Schweinefu___1_.mp4\",1],[\"Bad-2021_11_3_A_Brodersen___nne_Einzelknopfnaht_am_Schweinefu_.mp4\",1],[\"Bad-3_11_21_B_Grumt_Alina_Einzelknopfnaht_Schweinefu_.mp4\",1],[\"Bildschirmaufnahme_2022-10-11_um_11.20.24.mov\",1],[\"Einzelknopfnaht_Elena.Vai-Wieting.mov\",1],[\"Einzelknopfnaht_Lina_Sch\\u00e4fer.mp4\",1],[\"EinzelknopfnahtamSchweinefuss_Muenzner_Simeon.mp4\",1],[\"Good-Einzelknopfnaht_Stoklossa.mp4\",1],[\"Good-2021_10_27_B_Etzel_Peter_Einzelknopfnaht_am_Schweinefu_.mp4\",1],[\"Good-Schmidt_Elisabeth_Einzelknotennaht_11_10_2021_MP4_SparkVideo.mp4\",1],[\"Good-Schweinefu__Einzelknopfnaht.mp4\",1],[\"Medium-2021_11_03_A_Seifert_Johanna_Einzelknopfnaht_am_Schweinefu_.mp4\",1],[\"Medium-2021_11_03_A_Tengler_Sophie_Einzelknopfnaht_Schweinefu_.mp4\",1],[\"Medium-RPReplay_Final1634048018.mp4\",1],[\"Medium-Schweinefu_.mp4\",1],[\"Stresstest_Einzelknopfnaht.mp4\",1],[\"medium-2021_11_03_A_Tengler_Sophie_Einzelknopfnaht_Schweinefu_.mp4\",1],[\"Gehrke,Yves - post.mp4\",1],[\"Schiesser_David_post_test.mp4\",1],[\"Bad-2021_11_03_A_Noll_Alexander_Einzelknopfnaht.mp4\",2],[\"donati_luis.mov\",2],[\"Screen_Recording_20240221_150510_Zoom.mp4\",2],[\"11.4.2024.HarmsS\\u00f6ren.NHT.mp4\",2],[\"Pre_-Test_Isabel_Linden.mp4\",2],[\"Fehringer_Pascal__post_test.mp4\",2],[\"Hilger,Anke-Posttest.mp4\",2],[\"Bad-03_11_21_B_Hopfe_Johanna_Einzelknopfnaht.mp4\",2],[\"Bad-12_10_21__Loewe__Rebekka__Einzelknopfnaht.mp4\",2],[\"Bad-2021_11_03_A_Petersen_Insa_Einzelknopfnaht_am_Schweinefu_.mp4\",2],[\"Bad-2021_11_03_A_Spitze_Vanessa_Einzelknopfnaht_am_Schweinefu_.mp4\",2],[\"Bad-2021_11_03_B_V_lz__Ann_Sophie_Einzelknopfnaht_am_Schweinefu___1_.mp4\",2],[\"Bad-2021_11_3_A_Brodersen___nne_Einzelknopfnaht_am_Schweinefu_.mp4\",2],[\"Bad-3_11_21_B_Grumt_Alina_Einzelknopfnaht_Schweinefu_.mp4\",2],[\"Bildschirmaufnahme_2022-10-11_um_11.20.24.mov\",2],[\"Einzelknopfnaht_Elena.Vai-Wieting.mov\",2],[\"Einzelknopfnaht_Lina_Sch\\u00e4fer.mp4\",2],[\"EinzelknopfnahtamSchweinefuss_Muenzner_Simeon.mp4\",2],[\"Good-Einzelknopfnaht_Stoklossa.mp4\",2],[\"Good-2021_10_27_B_Etzel_Peter_Einzelknopfnaht_am_Schweinefu_.mp4\",2],[\"Good-Schmidt_Elisabeth_Einzelknotennaht_11_10_2021_MP4_SparkVideo.mp4\",2],[\"Good-Schweinefu__Einzelknopfnaht.mp4\",2],[\"Medium-2021_11_03_A_Seifert_Johanna_Einzelknopfnaht_am_Schweinefu_.mp4\",2],[\"Medium-2021_11_03_A_Tengler_Sophie_Einzelknopfnaht_Schweinefu_.mp4\",2],[\"Medium-RPReplay_Final1634048018.mp4\",2],[\"Medium-Schweinefu_.mp4\",2],[\"Stresstest_Einzelknopfnaht.mp4\",2],[\"medium-2021_11_03_A_Tengler_Sophie_Einzelknopfnaht_Schweinefu_.mp4\",2],[\"Gehrke,Yves - post.mp4\",2],[\"Schiesser_David_post_test.mp4\",2],[\"Bad-2021_11_03_A_Noll_Alexander_Einzelknopfnaht.mp4\",3],[\"donati_luis.mov\",3],[\"Screen_Recording_20240221_150510_Zoom.mp4\",3],[\"11.4.2024.HarmsS\\u00f6ren.NHT.mp4\",3],[\"Pre_-Test_Isabel_Linden.mp4\",3],[\"Fehringer_Pascal__post_test.mp4\",3],[\"Hilger,Anke-Posttest.mp4\",3],[\"Bad-03_11_21_B_Hopfe_Johanna_Einzelknopfnaht.mp4\",3],[\"Bad-12_10_21__Loewe__Rebekka__Einzelknopfnaht.mp4\",3],[\"Bad-2021_11_03_A_Petersen_Insa_Einzelknopfnaht_am_Schweinefu_.mp4\",3],[\"Bad-2021_11_03_A_Spitze_Vanessa_Einzelknopfnaht_am_Schweinefu_.mp4\",3],[\"Bad-2021_11_03_B_V_lz__Ann_Sophie_Einzelknopfnaht_am_Schweinefu___1_.mp4\",3],[\"Bad-2021_11_3_A_Brodersen___nne_Einzelknopfnaht_am_Schweinefu_.mp4\",3],[\"Bad-3_11_21_B_Grumt_Alina_Einzelknopfnaht_Schweinefu_.mp4\",3],[\"Bildschirmaufnahme_2022-10-11_um_11.20.24.mov\",3],[\"Einzelknopfnaht_Elena.Vai-Wieting.mov\",3],[\"Einzelknopfnaht_Lina_Sch\\u00e4fer.mp4\",3],[\"EinzelknopfnahtamSchweinefuss_Muenzner_Simeon.mp4\",3],[\"Good-Einzelknopfnaht_Stoklossa.mp4\",3],[\"Good-2021_10_27_B_Etzel_Peter_Einzelknopfnaht_am_Schweinefu_.mp4\",3],[\"Good-Schmidt_Elisabeth_Einzelknotennaht_11_10_2021_MP4_SparkVideo.mp4\",3],[\"Good-Schweinefu__Einzelknopfnaht.mp4\",3],[\"Medium-2021_11_03_A_Seifert_Johanna_Einzelknopfnaht_am_Schweinefu_.mp4\",3],[\"Medium-2021_11_03_A_Tengler_Sophie_Einzelknopfnaht_Schweinefu_.mp4\",3],[\"Medium-RPReplay_Final1634048018.mp4\",3],[\"Medium-Schweinefu_.mp4\",3],[\"Stresstest_Einzelknopfnaht.mp4\",3],[\"medium-2021_11_03_A_Tengler_Sophie_Einzelknopfnaht_Schweinefu_.mp4\",3],[\"Gehrke,Yves - post.mp4\",3],[\"Schiesser_David_post_test.mp4\",3]],\"hovertemplate\":\"movement evaluation stitch=%{x}<br>Needle holder stitch visibility [s]=%{y}<br>filename=%{customdata[0]}<br>stitch_id=%{customdata[1]}<extra></extra>\",\"legendgroup\":\"\",\"marker\":{\"color\":\"#636efa\",\"symbol\":\"circle\"},\"mode\":\"markers\",\"name\":\"\",\"orientation\":\"v\",\"showlegend\":false,\"x\":[3.0,null,null,null,4.0,2.0,4.0,4.0,1.0,3.0,2.0,3.0,2.0,2.0,1.0,3.0,2.5,3.0,3.0,3.5,2.0,4.0,4.0,4.0,2.0,3.0,5.0,4.0,3.0,3.0,3.0,null,null,null,2.0,null,4.0,3.0,null,null,null,null,1.0,2.0,2.0,5.0,null,3.0,1.0,null,null,3.5,5.0,null,null,null,5.0,null,4.0,4.0,null,null,null,null,3.0,null,3.0,null,null,null,null,null,null,null,3.0,5.0,null,3.5,null,null,null,null,null,null,null,null,5.0,null,null,5.0,null,null,null,null,null,null,4.0,null,null,null,null,null,null,null,4.0,null,null,null,null,null,null,null,null,null,null,null,5.0,null,null,3.0],\"xaxis\":\"x\",\"y\":[70.8,15.0,128.0666667,27.0,46.6,71.53333333,39.4,91.4,214.8,97.93333333,108.0,95.46666667,83.2,77.66666667,134.4666667,89.33333333,101.1333333,null,89.6,76.0,114.6,58.2,52.2,44.66666667,113.8666667,91.73333333,40.66666667,45.6,65.66666667,62.2,67.4,18.46666667,null,42.8,88.06666667,null,34.8,132.9333333,null,null,null,null,120.5333333,88.4,90.33333333,65.93333333,null,null,126.4666667,null,null,null,45.06666667,null,null,null,27.73333333,null,52.66666667,47.26666667,null,27.8,null,48.0,null,null,48.13333333,null,null,null,null,null,null,null,106.8666667,null,null,null,null,null,null,null,null,null,null,null,82.06666667,null,null,34.73333333,null,38.13333333,null,null,null,null,32.66666667,null,null,null,null,null,null,null,95.2,null,null,null,null,null,null,null,null,null,null,null,62.26666667,null,null,47.93333333],\"yaxis\":\"y\",\"type\":\"scatter\"}],                        {\"template\":{\"data\":{\"histogram2dcontour\":[{\"type\":\"histogram2dcontour\",\"colorbar\":{\"outlinewidth\":0,\"ticks\":\"\"},\"colorscale\":[[0.0,\"#0d0887\"],[0.1111111111111111,\"#46039f\"],[0.2222222222222222,\"#7201a8\"],[0.3333333333333333,\"#9c179e\"],[0.4444444444444444,\"#bd3786\"],[0.5555555555555556,\"#d8576b\"],[0.6666666666666666,\"#ed7953\"],[0.7777777777777778,\"#fb9f3a\"],[0.8888888888888888,\"#fdca26\"],[1.0,\"#f0f921\"]]}],\"choropleth\":[{\"type\":\"choropleth\",\"colorbar\":{\"outlinewidth\":0,\"ticks\":\"\"}}],\"histogram2d\":[{\"type\":\"histogram2d\",\"colorbar\":{\"outlinewidth\":0,\"ticks\":\"\"},\"colorscale\":[[0.0,\"#0d0887\"],[0.1111111111111111,\"#46039f\"],[0.2222222222222222,\"#7201a8\"],[0.3333333333333333,\"#9c179e\"],[0.4444444444444444,\"#bd3786\"],[0.5555555555555556,\"#d8576b\"],[0.6666666666666666,\"#ed7953\"],[0.7777777777777778,\"#fb9f3a\"],[0.8888888888888888,\"#fdca26\"],[1.0,\"#f0f921\"]]}],\"heatmap\":[{\"type\":\"heatmap\",\"colorbar\":{\"outlinewidth\":0,\"ticks\":\"\"},\"colorscale\":[[0.0,\"#0d0887\"],[0.1111111111111111,\"#46039f\"],[0.2222222222222222,\"#7201a8\"],[0.3333333333333333,\"#9c179e\"],[0.4444444444444444,\"#bd3786\"],[0.5555555555555556,\"#d8576b\"],[0.6666666666666666,\"#ed7953\"],[0.7777777777777778,\"#fb9f3a\"],[0.8888888888888888,\"#fdca26\"],[1.0,\"#f0f921\"]]}],\"heatmapgl\":[{\"type\":\"heatmapgl\",\"colorbar\":{\"outlinewidth\":0,\"ticks\":\"\"},\"colorscale\":[[0.0,\"#0d0887\"],[0.1111111111111111,\"#46039f\"],[0.2222222222222222,\"#7201a8\"],[0.3333333333333333,\"#9c179e\"],[0.4444444444444444,\"#bd3786\"],[0.5555555555555556,\"#d8576b\"],[0.6666666666666666,\"#ed7953\"],[0.7777777777777778,\"#fb9f3a\"],[0.8888888888888888,\"#fdca26\"],[1.0,\"#f0f921\"]]}],\"contourcarpet\":[{\"type\":\"contourcarpet\",\"colorbar\":{\"outlinewidth\":0,\"ticks\":\"\"}}],\"contour\":[{\"type\":\"contour\",\"colorbar\":{\"outlinewidth\":0,\"ticks\":\"\"},\"colorscale\":[[0.0,\"#0d0887\"],[0.1111111111111111,\"#46039f\"],[0.2222222222222222,\"#7201a8\"],[0.3333333333333333,\"#9c179e\"],[0.4444444444444444,\"#bd3786\"],[0.5555555555555556,\"#d8576b\"],[0.6666666666666666,\"#ed7953\"],[0.7777777777777778,\"#fb9f3a\"],[0.8888888888888888,\"#fdca26\"],[1.0,\"#f0f921\"]]}],\"surface\":[{\"type\":\"surface\",\"colorbar\":{\"outlinewidth\":0,\"ticks\":\"\"},\"colorscale\":[[0.0,\"#0d0887\"],[0.1111111111111111,\"#46039f\"],[0.2222222222222222,\"#7201a8\"],[0.3333333333333333,\"#9c179e\"],[0.4444444444444444,\"#bd3786\"],[0.5555555555555556,\"#d8576b\"],[0.6666666666666666,\"#ed7953\"],[0.7777777777777778,\"#fb9f3a\"],[0.8888888888888888,\"#fdca26\"],[1.0,\"#f0f921\"]]}],\"mesh3d\":[{\"type\":\"mesh3d\",\"colorbar\":{\"outlinewidth\":0,\"ticks\":\"\"}}],\"scatter\":[{\"fillpattern\":{\"fillmode\":\"overlay\",\"size\":10,\"solidity\":0.2},\"type\":\"scatter\"}],\"parcoords\":[{\"type\":\"parcoords\",\"line\":{\"colorbar\":{\"outlinewidth\":0,\"ticks\":\"\"}}}],\"scatterpolargl\":[{\"type\":\"scatterpolargl\",\"marker\":{\"colorbar\":{\"outlinewidth\":0,\"ticks\":\"\"}}}],\"bar\":[{\"error_x\":{\"color\":\"#2a3f5f\"},\"error_y\":{\"color\":\"#2a3f5f\"},\"marker\":{\"line\":{\"color\":\"#E5ECF6\",\"width\":0.5},\"pattern\":{\"fillmode\":\"overlay\",\"size\":10,\"solidity\":0.2}},\"type\":\"bar\"}],\"scattergeo\":[{\"type\":\"scattergeo\",\"marker\":{\"colorbar\":{\"outlinewidth\":0,\"ticks\":\"\"}}}],\"scatterpolar\":[{\"type\":\"scatterpolar\",\"marker\":{\"colorbar\":{\"outlinewidth\":0,\"ticks\":\"\"}}}],\"histogram\":[{\"marker\":{\"pattern\":{\"fillmode\":\"overlay\",\"size\":10,\"solidity\":0.2}},\"type\":\"histogram\"}],\"scattergl\":[{\"type\":\"scattergl\",\"marker\":{\"colorbar\":{\"outlinewidth\":0,\"ticks\":\"\"}}}],\"scatter3d\":[{\"type\":\"scatter3d\",\"line\":{\"colorbar\":{\"outlinewidth\":0,\"ticks\":\"\"}},\"marker\":{\"colorbar\":{\"outlinewidth\":0,\"ticks\":\"\"}}}],\"scattermapbox\":[{\"type\":\"scattermapbox\",\"marker\":{\"colorbar\":{\"outlinewidth\":0,\"ticks\":\"\"}}}],\"scatterternary\":[{\"type\":\"scatterternary\",\"marker\":{\"colorbar\":{\"outlinewidth\":0,\"ticks\":\"\"}}}],\"scattercarpet\":[{\"type\":\"scattercarpet\",\"marker\":{\"colorbar\":{\"outlinewidth\":0,\"ticks\":\"\"}}}],\"carpet\":[{\"aaxis\":{\"endlinecolor\":\"#2a3f5f\",\"gridcolor\":\"white\",\"linecolor\":\"white\",\"minorgridcolor\":\"white\",\"startlinecolor\":\"#2a3f5f\"},\"baxis\":{\"endlinecolor\":\"#2a3f5f\",\"gridcolor\":\"white\",\"linecolor\":\"white\",\"minorgridcolor\":\"white\",\"startlinecolor\":\"#2a3f5f\"},\"type\":\"carpet\"}],\"table\":[{\"cells\":{\"fill\":{\"color\":\"#EBF0F8\"},\"line\":{\"color\":\"white\"}},\"header\":{\"fill\":{\"color\":\"#C8D4E3\"},\"line\":{\"color\":\"white\"}},\"type\":\"table\"}],\"barpolar\":[{\"marker\":{\"line\":{\"color\":\"#E5ECF6\",\"width\":0.5},\"pattern\":{\"fillmode\":\"overlay\",\"size\":10,\"solidity\":0.2}},\"type\":\"barpolar\"}],\"pie\":[{\"automargin\":true,\"type\":\"pie\"}]},\"layout\":{\"autotypenumbers\":\"strict\",\"colorway\":[\"#636efa\",\"#EF553B\",\"#00cc96\",\"#ab63fa\",\"#FFA15A\",\"#19d3f3\",\"#FF6692\",\"#B6E880\",\"#FF97FF\",\"#FECB52\"],\"font\":{\"color\":\"#2a3f5f\"},\"hovermode\":\"closest\",\"hoverlabel\":{\"align\":\"left\"},\"paper_bgcolor\":\"white\",\"plot_bgcolor\":\"#E5ECF6\",\"polar\":{\"bgcolor\":\"#E5ECF6\",\"angularaxis\":{\"gridcolor\":\"white\",\"linecolor\":\"white\",\"ticks\":\"\"},\"radialaxis\":{\"gridcolor\":\"white\",\"linecolor\":\"white\",\"ticks\":\"\"}},\"ternary\":{\"bgcolor\":\"#E5ECF6\",\"aaxis\":{\"gridcolor\":\"white\",\"linecolor\":\"white\",\"ticks\":\"\"},\"baxis\":{\"gridcolor\":\"white\",\"linecolor\":\"white\",\"ticks\":\"\"},\"caxis\":{\"gridcolor\":\"white\",\"linecolor\":\"white\",\"ticks\":\"\"}},\"coloraxis\":{\"colorbar\":{\"outlinewidth\":0,\"ticks\":\"\"}},\"colorscale\":{\"sequential\":[[0.0,\"#0d0887\"],[0.1111111111111111,\"#46039f\"],[0.2222222222222222,\"#7201a8\"],[0.3333333333333333,\"#9c179e\"],[0.4444444444444444,\"#bd3786\"],[0.5555555555555556,\"#d8576b\"],[0.6666666666666666,\"#ed7953\"],[0.7777777777777778,\"#fb9f3a\"],[0.8888888888888888,\"#fdca26\"],[1.0,\"#f0f921\"]],\"sequentialminus\":[[0.0,\"#0d0887\"],[0.1111111111111111,\"#46039f\"],[0.2222222222222222,\"#7201a8\"],[0.3333333333333333,\"#9c179e\"],[0.4444444444444444,\"#bd3786\"],[0.5555555555555556,\"#d8576b\"],[0.6666666666666666,\"#ed7953\"],[0.7777777777777778,\"#fb9f3a\"],[0.8888888888888888,\"#fdca26\"],[1.0,\"#f0f921\"]],\"diverging\":[[0,\"#8e0152\"],[0.1,\"#c51b7d\"],[0.2,\"#de77ae\"],[0.3,\"#f1b6da\"],[0.4,\"#fde0ef\"],[0.5,\"#f7f7f7\"],[0.6,\"#e6f5d0\"],[0.7,\"#b8e186\"],[0.8,\"#7fbc41\"],[0.9,\"#4d9221\"],[1,\"#276419\"]]},\"xaxis\":{\"gridcolor\":\"white\",\"linecolor\":\"white\",\"ticks\":\"\",\"title\":{\"standoff\":15},\"zerolinecolor\":\"white\",\"automargin\":true,\"zerolinewidth\":2},\"yaxis\":{\"gridcolor\":\"white\",\"linecolor\":\"white\",\"ticks\":\"\",\"title\":{\"standoff\":15},\"zerolinecolor\":\"white\",\"automargin\":true,\"zerolinewidth\":2},\"scene\":{\"xaxis\":{\"backgroundcolor\":\"#E5ECF6\",\"gridcolor\":\"white\",\"linecolor\":\"white\",\"showbackground\":true,\"ticks\":\"\",\"zerolinecolor\":\"white\",\"gridwidth\":2},\"yaxis\":{\"backgroundcolor\":\"#E5ECF6\",\"gridcolor\":\"white\",\"linecolor\":\"white\",\"showbackground\":true,\"ticks\":\"\",\"zerolinecolor\":\"white\",\"gridwidth\":2},\"zaxis\":{\"backgroundcolor\":\"#E5ECF6\",\"gridcolor\":\"white\",\"linecolor\":\"white\",\"showbackground\":true,\"ticks\":\"\",\"zerolinecolor\":\"white\",\"gridwidth\":2}},\"shapedefaults\":{\"line\":{\"color\":\"#2a3f5f\"}},\"annotationdefaults\":{\"arrowcolor\":\"#2a3f5f\",\"arrowhead\":0,\"arrowwidth\":1},\"geo\":{\"bgcolor\":\"white\",\"landcolor\":\"#E5ECF6\",\"subunitcolor\":\"white\",\"showland\":true,\"showlakes\":true,\"lakecolor\":\"white\"},\"title\":{\"x\":0.05},\"mapbox\":{\"style\":\"light\"}}},\"xaxis\":{\"anchor\":\"y\",\"domain\":[0.0,1.0],\"title\":{\"text\":\"movement evaluation stitch\"}},\"yaxis\":{\"anchor\":\"x\",\"domain\":[0.0,1.0],\"title\":{\"text\":\"Needle holder stitch visibility [s]\"}},\"legend\":{\"tracegroupgap\":0},\"margin\":{\"t\":60},\"width\":500},                        {\"responsive\": true}                    ).then(function(){\n                            \nvar gd = document.getElementById('8715360c-1d12-4080-8b56-4458a1ec8488');\nvar x = new MutationObserver(function (mutations, observer) {{\n        var display = window.getComputedStyle(gd).display;\n        if (!display || display === 'none') {{\n            console.log([gd, 'removed!']);\n            Plotly.purge(gd);\n            observer.disconnect();\n        }}\n}});\n\n// Listen for the removal of the full notebook cells\nvar notebookContainer = gd.closest('#notebook-container');\nif (notebookContainer) {{\n    x.observe(notebookContainer, {childList: true});\n}}\n\n// Listen for the clearing of the current output cell\nvar outputEl = gd.closest('.output');\nif (outputEl) {{\n    x.observe(outputEl, {childList: true});\n}}\n\n                        })                };                });            </script>        </div>"
     },
     "metadata": {},
     "output_type": "display_data"
    }
   ],
   "source": [
    "# make interactive graph on hover display filename and stitch_id and control the width of the plot\n",
    "import plotly.express as px\n",
    "px.scatter(dfst, y=\"Needle holder stitch visibility [s]\", x=relevant_column, hover_data=[\"filename\", \"stitch_id\"], width=500)\n",
    "# px.scatter(dfs, x=\"Needle holder stitch length [m]\", y=relevant_column)\n"
   ],
   "metadata": {
    "collapsed": false,
    "ExecuteTime": {
     "end_time": "2024-06-27T12:56:11.656196200Z",
     "start_time": "2024-06-27T12:56:11.427193300Z"
    }
   },
   "id": "f8936b1cb1337ba8",
   "execution_count": 177
  },
  {
   "cell_type": "code",
   "outputs": [
    {
     "data": {
      "application/vnd.plotly.v1+json": {
       "data": [
        {
         "customdata": [
          [
           "Bad-2021_11_03_A_Noll_Alexander_Einzelknopfnaht.mp4",
           0
          ],
          [
           "donati_luis.mov",
           0
          ],
          [
           "Screen_Recording_20240221_150510_Zoom.mp4",
           0
          ],
          [
           "11.4.2024.HarmsSören.NHT.mp4",
           0
          ],
          [
           "Pre_-Test_Isabel_Linden.mp4",
           0
          ],
          [
           "Fehringer_Pascal__post_test.mp4",
           0
          ],
          [
           "Hilger,Anke-Posttest.mp4",
           0
          ],
          [
           "Bad-03_11_21_B_Hopfe_Johanna_Einzelknopfnaht.mp4",
           0
          ],
          [
           "Bad-12_10_21__Loewe__Rebekka__Einzelknopfnaht.mp4",
           0
          ],
          [
           "Bad-2021_11_03_A_Petersen_Insa_Einzelknopfnaht_am_Schweinefu_.mp4",
           0
          ],
          [
           "Bad-2021_11_03_A_Spitze_Vanessa_Einzelknopfnaht_am_Schweinefu_.mp4",
           0
          ],
          [
           "Bad-2021_11_03_B_V_lz__Ann_Sophie_Einzelknopfnaht_am_Schweinefu___1_.mp4",
           0
          ],
          [
           "Bad-2021_11_3_A_Brodersen___nne_Einzelknopfnaht_am_Schweinefu_.mp4",
           0
          ],
          [
           "Bad-3_11_21_B_Grumt_Alina_Einzelknopfnaht_Schweinefu_.mp4",
           0
          ],
          [
           "Bildschirmaufnahme_2022-10-11_um_11.20.24.mov",
           0
          ],
          [
           "Einzelknopfnaht_Elena.Vai-Wieting.mov",
           0
          ],
          [
           "Einzelknopfnaht_Lina_Schäfer.mp4",
           0
          ],
          [
           "EinzelknopfnahtamSchweinefuss_Muenzner_Simeon.mp4",
           0
          ],
          [
           "Good-Einzelknopfnaht_Stoklossa.mp4",
           0
          ],
          [
           "Good-2021_10_27_B_Etzel_Peter_Einzelknopfnaht_am_Schweinefu_.mp4",
           0
          ],
          [
           "Good-Schmidt_Elisabeth_Einzelknotennaht_11_10_2021_MP4_SparkVideo.mp4",
           0
          ],
          [
           "Good-Schweinefu__Einzelknopfnaht.mp4",
           0
          ],
          [
           "Medium-2021_11_03_A_Seifert_Johanna_Einzelknopfnaht_am_Schweinefu_.mp4",
           0
          ],
          [
           "Medium-2021_11_03_A_Tengler_Sophie_Einzelknopfnaht_Schweinefu_.mp4",
           0
          ],
          [
           "Medium-RPReplay_Final1634048018.mp4",
           0
          ],
          [
           "Medium-Schweinefu_.mp4",
           0
          ],
          [
           "Stresstest_Einzelknopfnaht.mp4",
           0
          ],
          [
           "medium-2021_11_03_A_Tengler_Sophie_Einzelknopfnaht_Schweinefu_.mp4",
           0
          ],
          [
           "Gehrke,Yves - post.mp4",
           0
          ],
          [
           "Schiesser_David_post_test.mp4",
           0
          ],
          [
           "Bad-2021_11_03_A_Noll_Alexander_Einzelknopfnaht.mp4",
           1
          ],
          [
           "donati_luis.mov",
           1
          ],
          [
           "Screen_Recording_20240221_150510_Zoom.mp4",
           1
          ],
          [
           "11.4.2024.HarmsSören.NHT.mp4",
           1
          ],
          [
           "Pre_-Test_Isabel_Linden.mp4",
           1
          ],
          [
           "Fehringer_Pascal__post_test.mp4",
           1
          ],
          [
           "Hilger,Anke-Posttest.mp4",
           1
          ],
          [
           "Bad-03_11_21_B_Hopfe_Johanna_Einzelknopfnaht.mp4",
           1
          ],
          [
           "Bad-12_10_21__Loewe__Rebekka__Einzelknopfnaht.mp4",
           1
          ],
          [
           "Bad-2021_11_03_A_Petersen_Insa_Einzelknopfnaht_am_Schweinefu_.mp4",
           1
          ],
          [
           "Bad-2021_11_03_A_Spitze_Vanessa_Einzelknopfnaht_am_Schweinefu_.mp4",
           1
          ],
          [
           "Bad-2021_11_03_B_V_lz__Ann_Sophie_Einzelknopfnaht_am_Schweinefu___1_.mp4",
           1
          ],
          [
           "Bad-2021_11_3_A_Brodersen___nne_Einzelknopfnaht_am_Schweinefu_.mp4",
           1
          ],
          [
           "Bad-3_11_21_B_Grumt_Alina_Einzelknopfnaht_Schweinefu_.mp4",
           1
          ],
          [
           "Bildschirmaufnahme_2022-10-11_um_11.20.24.mov",
           1
          ],
          [
           "Einzelknopfnaht_Elena.Vai-Wieting.mov",
           1
          ],
          [
           "Einzelknopfnaht_Lina_Schäfer.mp4",
           1
          ],
          [
           "EinzelknopfnahtamSchweinefuss_Muenzner_Simeon.mp4",
           1
          ],
          [
           "Good-Einzelknopfnaht_Stoklossa.mp4",
           1
          ],
          [
           "Good-2021_10_27_B_Etzel_Peter_Einzelknopfnaht_am_Schweinefu_.mp4",
           1
          ],
          [
           "Good-Schmidt_Elisabeth_Einzelknotennaht_11_10_2021_MP4_SparkVideo.mp4",
           1
          ],
          [
           "Good-Schweinefu__Einzelknopfnaht.mp4",
           1
          ],
          [
           "Medium-2021_11_03_A_Seifert_Johanna_Einzelknopfnaht_am_Schweinefu_.mp4",
           1
          ],
          [
           "Medium-2021_11_03_A_Tengler_Sophie_Einzelknopfnaht_Schweinefu_.mp4",
           1
          ],
          [
           "Medium-RPReplay_Final1634048018.mp4",
           1
          ],
          [
           "Medium-Schweinefu_.mp4",
           1
          ],
          [
           "Stresstest_Einzelknopfnaht.mp4",
           1
          ],
          [
           "medium-2021_11_03_A_Tengler_Sophie_Einzelknopfnaht_Schweinefu_.mp4",
           1
          ],
          [
           "Gehrke,Yves - post.mp4",
           1
          ],
          [
           "Schiesser_David_post_test.mp4",
           1
          ],
          [
           "Bad-2021_11_03_A_Noll_Alexander_Einzelknopfnaht.mp4",
           2
          ],
          [
           "donati_luis.mov",
           2
          ],
          [
           "Screen_Recording_20240221_150510_Zoom.mp4",
           2
          ],
          [
           "11.4.2024.HarmsSören.NHT.mp4",
           2
          ],
          [
           "Pre_-Test_Isabel_Linden.mp4",
           2
          ],
          [
           "Fehringer_Pascal__post_test.mp4",
           2
          ],
          [
           "Hilger,Anke-Posttest.mp4",
           2
          ],
          [
           "Bad-03_11_21_B_Hopfe_Johanna_Einzelknopfnaht.mp4",
           2
          ],
          [
           "Bad-12_10_21__Loewe__Rebekka__Einzelknopfnaht.mp4",
           2
          ],
          [
           "Bad-2021_11_03_A_Petersen_Insa_Einzelknopfnaht_am_Schweinefu_.mp4",
           2
          ],
          [
           "Bad-2021_11_03_A_Spitze_Vanessa_Einzelknopfnaht_am_Schweinefu_.mp4",
           2
          ],
          [
           "Bad-2021_11_03_B_V_lz__Ann_Sophie_Einzelknopfnaht_am_Schweinefu___1_.mp4",
           2
          ],
          [
           "Bad-2021_11_3_A_Brodersen___nne_Einzelknopfnaht_am_Schweinefu_.mp4",
           2
          ],
          [
           "Bad-3_11_21_B_Grumt_Alina_Einzelknopfnaht_Schweinefu_.mp4",
           2
          ],
          [
           "Bildschirmaufnahme_2022-10-11_um_11.20.24.mov",
           2
          ],
          [
           "Einzelknopfnaht_Elena.Vai-Wieting.mov",
           2
          ],
          [
           "Einzelknopfnaht_Lina_Schäfer.mp4",
           2
          ],
          [
           "EinzelknopfnahtamSchweinefuss_Muenzner_Simeon.mp4",
           2
          ],
          [
           "Good-Einzelknopfnaht_Stoklossa.mp4",
           2
          ],
          [
           "Good-2021_10_27_B_Etzel_Peter_Einzelknopfnaht_am_Schweinefu_.mp4",
           2
          ],
          [
           "Good-Schmidt_Elisabeth_Einzelknotennaht_11_10_2021_MP4_SparkVideo.mp4",
           2
          ],
          [
           "Good-Schweinefu__Einzelknopfnaht.mp4",
           2
          ],
          [
           "Medium-2021_11_03_A_Seifert_Johanna_Einzelknopfnaht_am_Schweinefu_.mp4",
           2
          ],
          [
           "Medium-2021_11_03_A_Tengler_Sophie_Einzelknopfnaht_Schweinefu_.mp4",
           2
          ],
          [
           "Medium-RPReplay_Final1634048018.mp4",
           2
          ],
          [
           "Medium-Schweinefu_.mp4",
           2
          ],
          [
           "Stresstest_Einzelknopfnaht.mp4",
           2
          ],
          [
           "medium-2021_11_03_A_Tengler_Sophie_Einzelknopfnaht_Schweinefu_.mp4",
           2
          ],
          [
           "Gehrke,Yves - post.mp4",
           2
          ],
          [
           "Schiesser_David_post_test.mp4",
           2
          ],
          [
           "Bad-2021_11_03_A_Noll_Alexander_Einzelknopfnaht.mp4",
           3
          ],
          [
           "donati_luis.mov",
           3
          ],
          [
           "Screen_Recording_20240221_150510_Zoom.mp4",
           3
          ],
          [
           "11.4.2024.HarmsSören.NHT.mp4",
           3
          ],
          [
           "Pre_-Test_Isabel_Linden.mp4",
           3
          ],
          [
           "Fehringer_Pascal__post_test.mp4",
           3
          ],
          [
           "Hilger,Anke-Posttest.mp4",
           3
          ],
          [
           "Bad-03_11_21_B_Hopfe_Johanna_Einzelknopfnaht.mp4",
           3
          ],
          [
           "Bad-12_10_21__Loewe__Rebekka__Einzelknopfnaht.mp4",
           3
          ],
          [
           "Bad-2021_11_03_A_Petersen_Insa_Einzelknopfnaht_am_Schweinefu_.mp4",
           3
          ],
          [
           "Bad-2021_11_03_A_Spitze_Vanessa_Einzelknopfnaht_am_Schweinefu_.mp4",
           3
          ],
          [
           "Bad-2021_11_03_B_V_lz__Ann_Sophie_Einzelknopfnaht_am_Schweinefu___1_.mp4",
           3
          ],
          [
           "Bad-2021_11_3_A_Brodersen___nne_Einzelknopfnaht_am_Schweinefu_.mp4",
           3
          ],
          [
           "Bad-3_11_21_B_Grumt_Alina_Einzelknopfnaht_Schweinefu_.mp4",
           3
          ],
          [
           "Bildschirmaufnahme_2022-10-11_um_11.20.24.mov",
           3
          ],
          [
           "Einzelknopfnaht_Elena.Vai-Wieting.mov",
           3
          ],
          [
           "Einzelknopfnaht_Lina_Schäfer.mp4",
           3
          ],
          [
           "EinzelknopfnahtamSchweinefuss_Muenzner_Simeon.mp4",
           3
          ],
          [
           "Good-Einzelknopfnaht_Stoklossa.mp4",
           3
          ],
          [
           "Good-2021_10_27_B_Etzel_Peter_Einzelknopfnaht_am_Schweinefu_.mp4",
           3
          ],
          [
           "Good-Schmidt_Elisabeth_Einzelknotennaht_11_10_2021_MP4_SparkVideo.mp4",
           3
          ],
          [
           "Good-Schweinefu__Einzelknopfnaht.mp4",
           3
          ],
          [
           "Medium-2021_11_03_A_Seifert_Johanna_Einzelknopfnaht_am_Schweinefu_.mp4",
           3
          ],
          [
           "Medium-2021_11_03_A_Tengler_Sophie_Einzelknopfnaht_Schweinefu_.mp4",
           3
          ],
          [
           "Medium-RPReplay_Final1634048018.mp4",
           3
          ],
          [
           "Medium-Schweinefu_.mp4",
           3
          ],
          [
           "Stresstest_Einzelknopfnaht.mp4",
           3
          ],
          [
           "medium-2021_11_03_A_Tengler_Sophie_Einzelknopfnaht_Schweinefu_.mp4",
           3
          ],
          [
           "Gehrke,Yves - post.mp4",
           3
          ],
          [
           "Schiesser_David_post_test.mp4",
           3
          ]
         ],
         "hovertemplate": "movement evaluation stitch=%{x}<br>Needle holder stitch length [m]=%{y}<br>filename=%{customdata[0]}<br>stitch_id=%{customdata[1]}<extra></extra>",
         "legendgroup": "",
         "marker": {
          "color": "#636efa",
          "symbol": "circle"
         },
         "mode": "markers",
         "name": "",
         "orientation": "v",
         "showlegend": false,
         "x": [
          3.0,
          null,
          null,
          null,
          4.0,
          2.0,
          4.0,
          4.0,
          1.0,
          3.0,
          2.0,
          3.0,
          2.0,
          2.0,
          1.0,
          3.0,
          2.5,
          3.0,
          3.0,
          3.5,
          2.0,
          4.0,
          4.0,
          4.0,
          2.0,
          3.0,
          5.0,
          4.0,
          3.0,
          3.0,
          3.0,
          null,
          null,
          null,
          2.0,
          null,
          4.0,
          3.0,
          null,
          null,
          null,
          null,
          1.0,
          2.0,
          2.0,
          5.0,
          null,
          3.0,
          1.0,
          null,
          null,
          3.5,
          5.0,
          null,
          null,
          null,
          5.0,
          null,
          4.0,
          4.0,
          null,
          null,
          null,
          null,
          3.0,
          null,
          3.0,
          null,
          null,
          null,
          null,
          null,
          null,
          null,
          3.0,
          5.0,
          null,
          3.5,
          null,
          null,
          null,
          null,
          null,
          null,
          null,
          null,
          5.0,
          null,
          null,
          5.0,
          null,
          null,
          null,
          null,
          null,
          null,
          4.0,
          null,
          null,
          null,
          null,
          null,
          null,
          null,
          4.0,
          null,
          null,
          null,
          null,
          null,
          null,
          null,
          null,
          null,
          null,
          null,
          5.0,
          null,
          null,
          3.0
         ],
         "xaxis": "x",
         "y": [
          5.907213766,
          0.5667245756,
          0.9042182199,
          2.948527216,
          1.509013356,
          3.598281053,
          1.361026703,
          1.969099517,
          3.425421018,
          3.811671064,
          4.091873086,
          2.736359359,
          2.226574015,
          3.24944889,
          4.693209031,
          3.138940045,
          2.698620894,
          null,
          1.553567195,
          3.105033403,
          2.074785049,
          1.878307296,
          1.833423381,
          1.654160554,
          3.463330753,
          3.342189355,
          1.841582552,
          1.71538656,
          2.837274002,
          2.73252399,
          5.105614779,
          0.4930612609,
          null,
          4.003165766,
          2.708059072,
          null,
          1.759018001,
          3.331165412,
          null,
          null,
          null,
          null,
          4.013347145,
          1.764312519,
          4.262386568,
          2.368280837,
          null,
          null,
          2.998598505,
          null,
          null,
          null,
          1.715667691,
          null,
          null,
          null,
          1.15753393,
          null,
          1.85718954,
          1.822944724,
          null,
          1.612747895,
          null,
          4.857407845,
          null,
          null,
          1.869415026,
          null,
          null,
          null,
          null,
          null,
          null,
          null,
          3.418498465,
          null,
          null,
          null,
          null,
          null,
          null,
          null,
          null,
          null,
          null,
          null,
          2.366820689,
          null,
          null,
          1.869419275,
          null,
          1.410900697,
          null,
          null,
          null,
          null,
          1.539333485,
          null,
          null,
          null,
          null,
          null,
          null,
          null,
          2.883931288,
          null,
          null,
          null,
          null,
          null,
          null,
          null,
          null,
          null,
          null,
          null,
          2.398492779,
          null,
          null,
          2.658392088
         ],
         "yaxis": "y",
         "type": "scatter"
        }
       ],
       "layout": {
        "template": {
         "data": {
          "histogram2dcontour": [
           {
            "type": "histogram2dcontour",
            "colorbar": {
             "outlinewidth": 0,
             "ticks": ""
            },
            "colorscale": [
             [
              0.0,
              "#0d0887"
             ],
             [
              0.1111111111111111,
              "#46039f"
             ],
             [
              0.2222222222222222,
              "#7201a8"
             ],
             [
              0.3333333333333333,
              "#9c179e"
             ],
             [
              0.4444444444444444,
              "#bd3786"
             ],
             [
              0.5555555555555556,
              "#d8576b"
             ],
             [
              0.6666666666666666,
              "#ed7953"
             ],
             [
              0.7777777777777778,
              "#fb9f3a"
             ],
             [
              0.8888888888888888,
              "#fdca26"
             ],
             [
              1.0,
              "#f0f921"
             ]
            ]
           }
          ],
          "choropleth": [
           {
            "type": "choropleth",
            "colorbar": {
             "outlinewidth": 0,
             "ticks": ""
            }
           }
          ],
          "histogram2d": [
           {
            "type": "histogram2d",
            "colorbar": {
             "outlinewidth": 0,
             "ticks": ""
            },
            "colorscale": [
             [
              0.0,
              "#0d0887"
             ],
             [
              0.1111111111111111,
              "#46039f"
             ],
             [
              0.2222222222222222,
              "#7201a8"
             ],
             [
              0.3333333333333333,
              "#9c179e"
             ],
             [
              0.4444444444444444,
              "#bd3786"
             ],
             [
              0.5555555555555556,
              "#d8576b"
             ],
             [
              0.6666666666666666,
              "#ed7953"
             ],
             [
              0.7777777777777778,
              "#fb9f3a"
             ],
             [
              0.8888888888888888,
              "#fdca26"
             ],
             [
              1.0,
              "#f0f921"
             ]
            ]
           }
          ],
          "heatmap": [
           {
            "type": "heatmap",
            "colorbar": {
             "outlinewidth": 0,
             "ticks": ""
            },
            "colorscale": [
             [
              0.0,
              "#0d0887"
             ],
             [
              0.1111111111111111,
              "#46039f"
             ],
             [
              0.2222222222222222,
              "#7201a8"
             ],
             [
              0.3333333333333333,
              "#9c179e"
             ],
             [
              0.4444444444444444,
              "#bd3786"
             ],
             [
              0.5555555555555556,
              "#d8576b"
             ],
             [
              0.6666666666666666,
              "#ed7953"
             ],
             [
              0.7777777777777778,
              "#fb9f3a"
             ],
             [
              0.8888888888888888,
              "#fdca26"
             ],
             [
              1.0,
              "#f0f921"
             ]
            ]
           }
          ],
          "heatmapgl": [
           {
            "type": "heatmapgl",
            "colorbar": {
             "outlinewidth": 0,
             "ticks": ""
            },
            "colorscale": [
             [
              0.0,
              "#0d0887"
             ],
             [
              0.1111111111111111,
              "#46039f"
             ],
             [
              0.2222222222222222,
              "#7201a8"
             ],
             [
              0.3333333333333333,
              "#9c179e"
             ],
             [
              0.4444444444444444,
              "#bd3786"
             ],
             [
              0.5555555555555556,
              "#d8576b"
             ],
             [
              0.6666666666666666,
              "#ed7953"
             ],
             [
              0.7777777777777778,
              "#fb9f3a"
             ],
             [
              0.8888888888888888,
              "#fdca26"
             ],
             [
              1.0,
              "#f0f921"
             ]
            ]
           }
          ],
          "contourcarpet": [
           {
            "type": "contourcarpet",
            "colorbar": {
             "outlinewidth": 0,
             "ticks": ""
            }
           }
          ],
          "contour": [
           {
            "type": "contour",
            "colorbar": {
             "outlinewidth": 0,
             "ticks": ""
            },
            "colorscale": [
             [
              0.0,
              "#0d0887"
             ],
             [
              0.1111111111111111,
              "#46039f"
             ],
             [
              0.2222222222222222,
              "#7201a8"
             ],
             [
              0.3333333333333333,
              "#9c179e"
             ],
             [
              0.4444444444444444,
              "#bd3786"
             ],
             [
              0.5555555555555556,
              "#d8576b"
             ],
             [
              0.6666666666666666,
              "#ed7953"
             ],
             [
              0.7777777777777778,
              "#fb9f3a"
             ],
             [
              0.8888888888888888,
              "#fdca26"
             ],
             [
              1.0,
              "#f0f921"
             ]
            ]
           }
          ],
          "surface": [
           {
            "type": "surface",
            "colorbar": {
             "outlinewidth": 0,
             "ticks": ""
            },
            "colorscale": [
             [
              0.0,
              "#0d0887"
             ],
             [
              0.1111111111111111,
              "#46039f"
             ],
             [
              0.2222222222222222,
              "#7201a8"
             ],
             [
              0.3333333333333333,
              "#9c179e"
             ],
             [
              0.4444444444444444,
              "#bd3786"
             ],
             [
              0.5555555555555556,
              "#d8576b"
             ],
             [
              0.6666666666666666,
              "#ed7953"
             ],
             [
              0.7777777777777778,
              "#fb9f3a"
             ],
             [
              0.8888888888888888,
              "#fdca26"
             ],
             [
              1.0,
              "#f0f921"
             ]
            ]
           }
          ],
          "mesh3d": [
           {
            "type": "mesh3d",
            "colorbar": {
             "outlinewidth": 0,
             "ticks": ""
            }
           }
          ],
          "scatter": [
           {
            "fillpattern": {
             "fillmode": "overlay",
             "size": 10,
             "solidity": 0.2
            },
            "type": "scatter"
           }
          ],
          "parcoords": [
           {
            "type": "parcoords",
            "line": {
             "colorbar": {
              "outlinewidth": 0,
              "ticks": ""
             }
            }
           }
          ],
          "scatterpolargl": [
           {
            "type": "scatterpolargl",
            "marker": {
             "colorbar": {
              "outlinewidth": 0,
              "ticks": ""
             }
            }
           }
          ],
          "bar": [
           {
            "error_x": {
             "color": "#2a3f5f"
            },
            "error_y": {
             "color": "#2a3f5f"
            },
            "marker": {
             "line": {
              "color": "#E5ECF6",
              "width": 0.5
             },
             "pattern": {
              "fillmode": "overlay",
              "size": 10,
              "solidity": 0.2
             }
            },
            "type": "bar"
           }
          ],
          "scattergeo": [
           {
            "type": "scattergeo",
            "marker": {
             "colorbar": {
              "outlinewidth": 0,
              "ticks": ""
             }
            }
           }
          ],
          "scatterpolar": [
           {
            "type": "scatterpolar",
            "marker": {
             "colorbar": {
              "outlinewidth": 0,
              "ticks": ""
             }
            }
           }
          ],
          "histogram": [
           {
            "marker": {
             "pattern": {
              "fillmode": "overlay",
              "size": 10,
              "solidity": 0.2
             }
            },
            "type": "histogram"
           }
          ],
          "scattergl": [
           {
            "type": "scattergl",
            "marker": {
             "colorbar": {
              "outlinewidth": 0,
              "ticks": ""
             }
            }
           }
          ],
          "scatter3d": [
           {
            "type": "scatter3d",
            "line": {
             "colorbar": {
              "outlinewidth": 0,
              "ticks": ""
             }
            },
            "marker": {
             "colorbar": {
              "outlinewidth": 0,
              "ticks": ""
             }
            }
           }
          ],
          "scattermapbox": [
           {
            "type": "scattermapbox",
            "marker": {
             "colorbar": {
              "outlinewidth": 0,
              "ticks": ""
             }
            }
           }
          ],
          "scatterternary": [
           {
            "type": "scatterternary",
            "marker": {
             "colorbar": {
              "outlinewidth": 0,
              "ticks": ""
             }
            }
           }
          ],
          "scattercarpet": [
           {
            "type": "scattercarpet",
            "marker": {
             "colorbar": {
              "outlinewidth": 0,
              "ticks": ""
             }
            }
           }
          ],
          "carpet": [
           {
            "aaxis": {
             "endlinecolor": "#2a3f5f",
             "gridcolor": "white",
             "linecolor": "white",
             "minorgridcolor": "white",
             "startlinecolor": "#2a3f5f"
            },
            "baxis": {
             "endlinecolor": "#2a3f5f",
             "gridcolor": "white",
             "linecolor": "white",
             "minorgridcolor": "white",
             "startlinecolor": "#2a3f5f"
            },
            "type": "carpet"
           }
          ],
          "table": [
           {
            "cells": {
             "fill": {
              "color": "#EBF0F8"
             },
             "line": {
              "color": "white"
             }
            },
            "header": {
             "fill": {
              "color": "#C8D4E3"
             },
             "line": {
              "color": "white"
             }
            },
            "type": "table"
           }
          ],
          "barpolar": [
           {
            "marker": {
             "line": {
              "color": "#E5ECF6",
              "width": 0.5
             },
             "pattern": {
              "fillmode": "overlay",
              "size": 10,
              "solidity": 0.2
             }
            },
            "type": "barpolar"
           }
          ],
          "pie": [
           {
            "automargin": true,
            "type": "pie"
           }
          ]
         },
         "layout": {
          "autotypenumbers": "strict",
          "colorway": [
           "#636efa",
           "#EF553B",
           "#00cc96",
           "#ab63fa",
           "#FFA15A",
           "#19d3f3",
           "#FF6692",
           "#B6E880",
           "#FF97FF",
           "#FECB52"
          ],
          "font": {
           "color": "#2a3f5f"
          },
          "hovermode": "closest",
          "hoverlabel": {
           "align": "left"
          },
          "paper_bgcolor": "white",
          "plot_bgcolor": "#E5ECF6",
          "polar": {
           "bgcolor": "#E5ECF6",
           "angularaxis": {
            "gridcolor": "white",
            "linecolor": "white",
            "ticks": ""
           },
           "radialaxis": {
            "gridcolor": "white",
            "linecolor": "white",
            "ticks": ""
           }
          },
          "ternary": {
           "bgcolor": "#E5ECF6",
           "aaxis": {
            "gridcolor": "white",
            "linecolor": "white",
            "ticks": ""
           },
           "baxis": {
            "gridcolor": "white",
            "linecolor": "white",
            "ticks": ""
           },
           "caxis": {
            "gridcolor": "white",
            "linecolor": "white",
            "ticks": ""
           }
          },
          "coloraxis": {
           "colorbar": {
            "outlinewidth": 0,
            "ticks": ""
           }
          },
          "colorscale": {
           "sequential": [
            [
             0.0,
             "#0d0887"
            ],
            [
             0.1111111111111111,
             "#46039f"
            ],
            [
             0.2222222222222222,
             "#7201a8"
            ],
            [
             0.3333333333333333,
             "#9c179e"
            ],
            [
             0.4444444444444444,
             "#bd3786"
            ],
            [
             0.5555555555555556,
             "#d8576b"
            ],
            [
             0.6666666666666666,
             "#ed7953"
            ],
            [
             0.7777777777777778,
             "#fb9f3a"
            ],
            [
             0.8888888888888888,
             "#fdca26"
            ],
            [
             1.0,
             "#f0f921"
            ]
           ],
           "sequentialminus": [
            [
             0.0,
             "#0d0887"
            ],
            [
             0.1111111111111111,
             "#46039f"
            ],
            [
             0.2222222222222222,
             "#7201a8"
            ],
            [
             0.3333333333333333,
             "#9c179e"
            ],
            [
             0.4444444444444444,
             "#bd3786"
            ],
            [
             0.5555555555555556,
             "#d8576b"
            ],
            [
             0.6666666666666666,
             "#ed7953"
            ],
            [
             0.7777777777777778,
             "#fb9f3a"
            ],
            [
             0.8888888888888888,
             "#fdca26"
            ],
            [
             1.0,
             "#f0f921"
            ]
           ],
           "diverging": [
            [
             0,
             "#8e0152"
            ],
            [
             0.1,
             "#c51b7d"
            ],
            [
             0.2,
             "#de77ae"
            ],
            [
             0.3,
             "#f1b6da"
            ],
            [
             0.4,
             "#fde0ef"
            ],
            [
             0.5,
             "#f7f7f7"
            ],
            [
             0.6,
             "#e6f5d0"
            ],
            [
             0.7,
             "#b8e186"
            ],
            [
             0.8,
             "#7fbc41"
            ],
            [
             0.9,
             "#4d9221"
            ],
            [
             1,
             "#276419"
            ]
           ]
          },
          "xaxis": {
           "gridcolor": "white",
           "linecolor": "white",
           "ticks": "",
           "title": {
            "standoff": 15
           },
           "zerolinecolor": "white",
           "automargin": true,
           "zerolinewidth": 2
          },
          "yaxis": {
           "gridcolor": "white",
           "linecolor": "white",
           "ticks": "",
           "title": {
            "standoff": 15
           },
           "zerolinecolor": "white",
           "automargin": true,
           "zerolinewidth": 2
          },
          "scene": {
           "xaxis": {
            "backgroundcolor": "#E5ECF6",
            "gridcolor": "white",
            "linecolor": "white",
            "showbackground": true,
            "ticks": "",
            "zerolinecolor": "white",
            "gridwidth": 2
           },
           "yaxis": {
            "backgroundcolor": "#E5ECF6",
            "gridcolor": "white",
            "linecolor": "white",
            "showbackground": true,
            "ticks": "",
            "zerolinecolor": "white",
            "gridwidth": 2
           },
           "zaxis": {
            "backgroundcolor": "#E5ECF6",
            "gridcolor": "white",
            "linecolor": "white",
            "showbackground": true,
            "ticks": "",
            "zerolinecolor": "white",
            "gridwidth": 2
           }
          },
          "shapedefaults": {
           "line": {
            "color": "#2a3f5f"
           }
          },
          "annotationdefaults": {
           "arrowcolor": "#2a3f5f",
           "arrowhead": 0,
           "arrowwidth": 1
          },
          "geo": {
           "bgcolor": "white",
           "landcolor": "#E5ECF6",
           "subunitcolor": "white",
           "showland": true,
           "showlakes": true,
           "lakecolor": "white"
          },
          "title": {
           "x": 0.05
          },
          "mapbox": {
           "style": "light"
          }
         }
        },
        "xaxis": {
         "anchor": "y",
         "domain": [
          0.0,
          1.0
         ],
         "title": {
          "text": "movement evaluation stitch"
         }
        },
        "yaxis": {
         "anchor": "x",
         "domain": [
          0.0,
          1.0
         ],
         "title": {
          "text": "Needle holder stitch length [m]"
         }
        },
        "legend": {
         "tracegroupgap": 0
        },
        "margin": {
         "t": 60
        },
        "width": 500
       },
       "config": {
        "plotlyServerURL": "https://plot.ly"
       }
      },
      "text/html": "<div>                            <div id=\"0cd19f3f-cba9-46ed-95fe-883adf80c12a\" class=\"plotly-graph-div\" style=\"height:525px; width:500px;\"></div>            <script type=\"text/javascript\">                require([\"plotly\"], function(Plotly) {                    window.PLOTLYENV=window.PLOTLYENV || {};                                    if (document.getElementById(\"0cd19f3f-cba9-46ed-95fe-883adf80c12a\")) {                    Plotly.newPlot(                        \"0cd19f3f-cba9-46ed-95fe-883adf80c12a\",                        [{\"customdata\":[[\"Bad-2021_11_03_A_Noll_Alexander_Einzelknopfnaht.mp4\",0],[\"donati_luis.mov\",0],[\"Screen_Recording_20240221_150510_Zoom.mp4\",0],[\"11.4.2024.HarmsS\\u00f6ren.NHT.mp4\",0],[\"Pre_-Test_Isabel_Linden.mp4\",0],[\"Fehringer_Pascal__post_test.mp4\",0],[\"Hilger,Anke-Posttest.mp4\",0],[\"Bad-03_11_21_B_Hopfe_Johanna_Einzelknopfnaht.mp4\",0],[\"Bad-12_10_21__Loewe__Rebekka__Einzelknopfnaht.mp4\",0],[\"Bad-2021_11_03_A_Petersen_Insa_Einzelknopfnaht_am_Schweinefu_.mp4\",0],[\"Bad-2021_11_03_A_Spitze_Vanessa_Einzelknopfnaht_am_Schweinefu_.mp4\",0],[\"Bad-2021_11_03_B_V_lz__Ann_Sophie_Einzelknopfnaht_am_Schweinefu___1_.mp4\",0],[\"Bad-2021_11_3_A_Brodersen___nne_Einzelknopfnaht_am_Schweinefu_.mp4\",0],[\"Bad-3_11_21_B_Grumt_Alina_Einzelknopfnaht_Schweinefu_.mp4\",0],[\"Bildschirmaufnahme_2022-10-11_um_11.20.24.mov\",0],[\"Einzelknopfnaht_Elena.Vai-Wieting.mov\",0],[\"Einzelknopfnaht_Lina_Sch\\u00e4fer.mp4\",0],[\"EinzelknopfnahtamSchweinefuss_Muenzner_Simeon.mp4\",0],[\"Good-Einzelknopfnaht_Stoklossa.mp4\",0],[\"Good-2021_10_27_B_Etzel_Peter_Einzelknopfnaht_am_Schweinefu_.mp4\",0],[\"Good-Schmidt_Elisabeth_Einzelknotennaht_11_10_2021_MP4_SparkVideo.mp4\",0],[\"Good-Schweinefu__Einzelknopfnaht.mp4\",0],[\"Medium-2021_11_03_A_Seifert_Johanna_Einzelknopfnaht_am_Schweinefu_.mp4\",0],[\"Medium-2021_11_03_A_Tengler_Sophie_Einzelknopfnaht_Schweinefu_.mp4\",0],[\"Medium-RPReplay_Final1634048018.mp4\",0],[\"Medium-Schweinefu_.mp4\",0],[\"Stresstest_Einzelknopfnaht.mp4\",0],[\"medium-2021_11_03_A_Tengler_Sophie_Einzelknopfnaht_Schweinefu_.mp4\",0],[\"Gehrke,Yves - post.mp4\",0],[\"Schiesser_David_post_test.mp4\",0],[\"Bad-2021_11_03_A_Noll_Alexander_Einzelknopfnaht.mp4\",1],[\"donati_luis.mov\",1],[\"Screen_Recording_20240221_150510_Zoom.mp4\",1],[\"11.4.2024.HarmsS\\u00f6ren.NHT.mp4\",1],[\"Pre_-Test_Isabel_Linden.mp4\",1],[\"Fehringer_Pascal__post_test.mp4\",1],[\"Hilger,Anke-Posttest.mp4\",1],[\"Bad-03_11_21_B_Hopfe_Johanna_Einzelknopfnaht.mp4\",1],[\"Bad-12_10_21__Loewe__Rebekka__Einzelknopfnaht.mp4\",1],[\"Bad-2021_11_03_A_Petersen_Insa_Einzelknopfnaht_am_Schweinefu_.mp4\",1],[\"Bad-2021_11_03_A_Spitze_Vanessa_Einzelknopfnaht_am_Schweinefu_.mp4\",1],[\"Bad-2021_11_03_B_V_lz__Ann_Sophie_Einzelknopfnaht_am_Schweinefu___1_.mp4\",1],[\"Bad-2021_11_3_A_Brodersen___nne_Einzelknopfnaht_am_Schweinefu_.mp4\",1],[\"Bad-3_11_21_B_Grumt_Alina_Einzelknopfnaht_Schweinefu_.mp4\",1],[\"Bildschirmaufnahme_2022-10-11_um_11.20.24.mov\",1],[\"Einzelknopfnaht_Elena.Vai-Wieting.mov\",1],[\"Einzelknopfnaht_Lina_Sch\\u00e4fer.mp4\",1],[\"EinzelknopfnahtamSchweinefuss_Muenzner_Simeon.mp4\",1],[\"Good-Einzelknopfnaht_Stoklossa.mp4\",1],[\"Good-2021_10_27_B_Etzel_Peter_Einzelknopfnaht_am_Schweinefu_.mp4\",1],[\"Good-Schmidt_Elisabeth_Einzelknotennaht_11_10_2021_MP4_SparkVideo.mp4\",1],[\"Good-Schweinefu__Einzelknopfnaht.mp4\",1],[\"Medium-2021_11_03_A_Seifert_Johanna_Einzelknopfnaht_am_Schweinefu_.mp4\",1],[\"Medium-2021_11_03_A_Tengler_Sophie_Einzelknopfnaht_Schweinefu_.mp4\",1],[\"Medium-RPReplay_Final1634048018.mp4\",1],[\"Medium-Schweinefu_.mp4\",1],[\"Stresstest_Einzelknopfnaht.mp4\",1],[\"medium-2021_11_03_A_Tengler_Sophie_Einzelknopfnaht_Schweinefu_.mp4\",1],[\"Gehrke,Yves - post.mp4\",1],[\"Schiesser_David_post_test.mp4\",1],[\"Bad-2021_11_03_A_Noll_Alexander_Einzelknopfnaht.mp4\",2],[\"donati_luis.mov\",2],[\"Screen_Recording_20240221_150510_Zoom.mp4\",2],[\"11.4.2024.HarmsS\\u00f6ren.NHT.mp4\",2],[\"Pre_-Test_Isabel_Linden.mp4\",2],[\"Fehringer_Pascal__post_test.mp4\",2],[\"Hilger,Anke-Posttest.mp4\",2],[\"Bad-03_11_21_B_Hopfe_Johanna_Einzelknopfnaht.mp4\",2],[\"Bad-12_10_21__Loewe__Rebekka__Einzelknopfnaht.mp4\",2],[\"Bad-2021_11_03_A_Petersen_Insa_Einzelknopfnaht_am_Schweinefu_.mp4\",2],[\"Bad-2021_11_03_A_Spitze_Vanessa_Einzelknopfnaht_am_Schweinefu_.mp4\",2],[\"Bad-2021_11_03_B_V_lz__Ann_Sophie_Einzelknopfnaht_am_Schweinefu___1_.mp4\",2],[\"Bad-2021_11_3_A_Brodersen___nne_Einzelknopfnaht_am_Schweinefu_.mp4\",2],[\"Bad-3_11_21_B_Grumt_Alina_Einzelknopfnaht_Schweinefu_.mp4\",2],[\"Bildschirmaufnahme_2022-10-11_um_11.20.24.mov\",2],[\"Einzelknopfnaht_Elena.Vai-Wieting.mov\",2],[\"Einzelknopfnaht_Lina_Sch\\u00e4fer.mp4\",2],[\"EinzelknopfnahtamSchweinefuss_Muenzner_Simeon.mp4\",2],[\"Good-Einzelknopfnaht_Stoklossa.mp4\",2],[\"Good-2021_10_27_B_Etzel_Peter_Einzelknopfnaht_am_Schweinefu_.mp4\",2],[\"Good-Schmidt_Elisabeth_Einzelknotennaht_11_10_2021_MP4_SparkVideo.mp4\",2],[\"Good-Schweinefu__Einzelknopfnaht.mp4\",2],[\"Medium-2021_11_03_A_Seifert_Johanna_Einzelknopfnaht_am_Schweinefu_.mp4\",2],[\"Medium-2021_11_03_A_Tengler_Sophie_Einzelknopfnaht_Schweinefu_.mp4\",2],[\"Medium-RPReplay_Final1634048018.mp4\",2],[\"Medium-Schweinefu_.mp4\",2],[\"Stresstest_Einzelknopfnaht.mp4\",2],[\"medium-2021_11_03_A_Tengler_Sophie_Einzelknopfnaht_Schweinefu_.mp4\",2],[\"Gehrke,Yves - post.mp4\",2],[\"Schiesser_David_post_test.mp4\",2],[\"Bad-2021_11_03_A_Noll_Alexander_Einzelknopfnaht.mp4\",3],[\"donati_luis.mov\",3],[\"Screen_Recording_20240221_150510_Zoom.mp4\",3],[\"11.4.2024.HarmsS\\u00f6ren.NHT.mp4\",3],[\"Pre_-Test_Isabel_Linden.mp4\",3],[\"Fehringer_Pascal__post_test.mp4\",3],[\"Hilger,Anke-Posttest.mp4\",3],[\"Bad-03_11_21_B_Hopfe_Johanna_Einzelknopfnaht.mp4\",3],[\"Bad-12_10_21__Loewe__Rebekka__Einzelknopfnaht.mp4\",3],[\"Bad-2021_11_03_A_Petersen_Insa_Einzelknopfnaht_am_Schweinefu_.mp4\",3],[\"Bad-2021_11_03_A_Spitze_Vanessa_Einzelknopfnaht_am_Schweinefu_.mp4\",3],[\"Bad-2021_11_03_B_V_lz__Ann_Sophie_Einzelknopfnaht_am_Schweinefu___1_.mp4\",3],[\"Bad-2021_11_3_A_Brodersen___nne_Einzelknopfnaht_am_Schweinefu_.mp4\",3],[\"Bad-3_11_21_B_Grumt_Alina_Einzelknopfnaht_Schweinefu_.mp4\",3],[\"Bildschirmaufnahme_2022-10-11_um_11.20.24.mov\",3],[\"Einzelknopfnaht_Elena.Vai-Wieting.mov\",3],[\"Einzelknopfnaht_Lina_Sch\\u00e4fer.mp4\",3],[\"EinzelknopfnahtamSchweinefuss_Muenzner_Simeon.mp4\",3],[\"Good-Einzelknopfnaht_Stoklossa.mp4\",3],[\"Good-2021_10_27_B_Etzel_Peter_Einzelknopfnaht_am_Schweinefu_.mp4\",3],[\"Good-Schmidt_Elisabeth_Einzelknotennaht_11_10_2021_MP4_SparkVideo.mp4\",3],[\"Good-Schweinefu__Einzelknopfnaht.mp4\",3],[\"Medium-2021_11_03_A_Seifert_Johanna_Einzelknopfnaht_am_Schweinefu_.mp4\",3],[\"Medium-2021_11_03_A_Tengler_Sophie_Einzelknopfnaht_Schweinefu_.mp4\",3],[\"Medium-RPReplay_Final1634048018.mp4\",3],[\"Medium-Schweinefu_.mp4\",3],[\"Stresstest_Einzelknopfnaht.mp4\",3],[\"medium-2021_11_03_A_Tengler_Sophie_Einzelknopfnaht_Schweinefu_.mp4\",3],[\"Gehrke,Yves - post.mp4\",3],[\"Schiesser_David_post_test.mp4\",3]],\"hovertemplate\":\"movement evaluation stitch=%{x}<br>Needle holder stitch length [m]=%{y}<br>filename=%{customdata[0]}<br>stitch_id=%{customdata[1]}<extra></extra>\",\"legendgroup\":\"\",\"marker\":{\"color\":\"#636efa\",\"symbol\":\"circle\"},\"mode\":\"markers\",\"name\":\"\",\"orientation\":\"v\",\"showlegend\":false,\"x\":[3.0,null,null,null,4.0,2.0,4.0,4.0,1.0,3.0,2.0,3.0,2.0,2.0,1.0,3.0,2.5,3.0,3.0,3.5,2.0,4.0,4.0,4.0,2.0,3.0,5.0,4.0,3.0,3.0,3.0,null,null,null,2.0,null,4.0,3.0,null,null,null,null,1.0,2.0,2.0,5.0,null,3.0,1.0,null,null,3.5,5.0,null,null,null,5.0,null,4.0,4.0,null,null,null,null,3.0,null,3.0,null,null,null,null,null,null,null,3.0,5.0,null,3.5,null,null,null,null,null,null,null,null,5.0,null,null,5.0,null,null,null,null,null,null,4.0,null,null,null,null,null,null,null,4.0,null,null,null,null,null,null,null,null,null,null,null,5.0,null,null,3.0],\"xaxis\":\"x\",\"y\":[5.907213766,0.5667245756,0.9042182199,2.948527216,1.509013356,3.598281053,1.361026703,1.969099517,3.425421018,3.811671064,4.091873086,2.736359359,2.226574015,3.24944889,4.693209031,3.138940045,2.698620894,null,1.553567195,3.105033403,2.074785049,1.878307296,1.833423381,1.654160554,3.463330753,3.342189355,1.841582552,1.71538656,2.837274002,2.73252399,5.105614779,0.4930612609,null,4.003165766,2.708059072,null,1.759018001,3.331165412,null,null,null,null,4.013347145,1.764312519,4.262386568,2.368280837,null,null,2.998598505,null,null,null,1.715667691,null,null,null,1.15753393,null,1.85718954,1.822944724,null,1.612747895,null,4.857407845,null,null,1.869415026,null,null,null,null,null,null,null,3.418498465,null,null,null,null,null,null,null,null,null,null,null,2.366820689,null,null,1.869419275,null,1.410900697,null,null,null,null,1.539333485,null,null,null,null,null,null,null,2.883931288,null,null,null,null,null,null,null,null,null,null,null,2.398492779,null,null,2.658392088],\"yaxis\":\"y\",\"type\":\"scatter\"}],                        {\"template\":{\"data\":{\"histogram2dcontour\":[{\"type\":\"histogram2dcontour\",\"colorbar\":{\"outlinewidth\":0,\"ticks\":\"\"},\"colorscale\":[[0.0,\"#0d0887\"],[0.1111111111111111,\"#46039f\"],[0.2222222222222222,\"#7201a8\"],[0.3333333333333333,\"#9c179e\"],[0.4444444444444444,\"#bd3786\"],[0.5555555555555556,\"#d8576b\"],[0.6666666666666666,\"#ed7953\"],[0.7777777777777778,\"#fb9f3a\"],[0.8888888888888888,\"#fdca26\"],[1.0,\"#f0f921\"]]}],\"choropleth\":[{\"type\":\"choropleth\",\"colorbar\":{\"outlinewidth\":0,\"ticks\":\"\"}}],\"histogram2d\":[{\"type\":\"histogram2d\",\"colorbar\":{\"outlinewidth\":0,\"ticks\":\"\"},\"colorscale\":[[0.0,\"#0d0887\"],[0.1111111111111111,\"#46039f\"],[0.2222222222222222,\"#7201a8\"],[0.3333333333333333,\"#9c179e\"],[0.4444444444444444,\"#bd3786\"],[0.5555555555555556,\"#d8576b\"],[0.6666666666666666,\"#ed7953\"],[0.7777777777777778,\"#fb9f3a\"],[0.8888888888888888,\"#fdca26\"],[1.0,\"#f0f921\"]]}],\"heatmap\":[{\"type\":\"heatmap\",\"colorbar\":{\"outlinewidth\":0,\"ticks\":\"\"},\"colorscale\":[[0.0,\"#0d0887\"],[0.1111111111111111,\"#46039f\"],[0.2222222222222222,\"#7201a8\"],[0.3333333333333333,\"#9c179e\"],[0.4444444444444444,\"#bd3786\"],[0.5555555555555556,\"#d8576b\"],[0.6666666666666666,\"#ed7953\"],[0.7777777777777778,\"#fb9f3a\"],[0.8888888888888888,\"#fdca26\"],[1.0,\"#f0f921\"]]}],\"heatmapgl\":[{\"type\":\"heatmapgl\",\"colorbar\":{\"outlinewidth\":0,\"ticks\":\"\"},\"colorscale\":[[0.0,\"#0d0887\"],[0.1111111111111111,\"#46039f\"],[0.2222222222222222,\"#7201a8\"],[0.3333333333333333,\"#9c179e\"],[0.4444444444444444,\"#bd3786\"],[0.5555555555555556,\"#d8576b\"],[0.6666666666666666,\"#ed7953\"],[0.7777777777777778,\"#fb9f3a\"],[0.8888888888888888,\"#fdca26\"],[1.0,\"#f0f921\"]]}],\"contourcarpet\":[{\"type\":\"contourcarpet\",\"colorbar\":{\"outlinewidth\":0,\"ticks\":\"\"}}],\"contour\":[{\"type\":\"contour\",\"colorbar\":{\"outlinewidth\":0,\"ticks\":\"\"},\"colorscale\":[[0.0,\"#0d0887\"],[0.1111111111111111,\"#46039f\"],[0.2222222222222222,\"#7201a8\"],[0.3333333333333333,\"#9c179e\"],[0.4444444444444444,\"#bd3786\"],[0.5555555555555556,\"#d8576b\"],[0.6666666666666666,\"#ed7953\"],[0.7777777777777778,\"#fb9f3a\"],[0.8888888888888888,\"#fdca26\"],[1.0,\"#f0f921\"]]}],\"surface\":[{\"type\":\"surface\",\"colorbar\":{\"outlinewidth\":0,\"ticks\":\"\"},\"colorscale\":[[0.0,\"#0d0887\"],[0.1111111111111111,\"#46039f\"],[0.2222222222222222,\"#7201a8\"],[0.3333333333333333,\"#9c179e\"],[0.4444444444444444,\"#bd3786\"],[0.5555555555555556,\"#d8576b\"],[0.6666666666666666,\"#ed7953\"],[0.7777777777777778,\"#fb9f3a\"],[0.8888888888888888,\"#fdca26\"],[1.0,\"#f0f921\"]]}],\"mesh3d\":[{\"type\":\"mesh3d\",\"colorbar\":{\"outlinewidth\":0,\"ticks\":\"\"}}],\"scatter\":[{\"fillpattern\":{\"fillmode\":\"overlay\",\"size\":10,\"solidity\":0.2},\"type\":\"scatter\"}],\"parcoords\":[{\"type\":\"parcoords\",\"line\":{\"colorbar\":{\"outlinewidth\":0,\"ticks\":\"\"}}}],\"scatterpolargl\":[{\"type\":\"scatterpolargl\",\"marker\":{\"colorbar\":{\"outlinewidth\":0,\"ticks\":\"\"}}}],\"bar\":[{\"error_x\":{\"color\":\"#2a3f5f\"},\"error_y\":{\"color\":\"#2a3f5f\"},\"marker\":{\"line\":{\"color\":\"#E5ECF6\",\"width\":0.5},\"pattern\":{\"fillmode\":\"overlay\",\"size\":10,\"solidity\":0.2}},\"type\":\"bar\"}],\"scattergeo\":[{\"type\":\"scattergeo\",\"marker\":{\"colorbar\":{\"outlinewidth\":0,\"ticks\":\"\"}}}],\"scatterpolar\":[{\"type\":\"scatterpolar\",\"marker\":{\"colorbar\":{\"outlinewidth\":0,\"ticks\":\"\"}}}],\"histogram\":[{\"marker\":{\"pattern\":{\"fillmode\":\"overlay\",\"size\":10,\"solidity\":0.2}},\"type\":\"histogram\"}],\"scattergl\":[{\"type\":\"scattergl\",\"marker\":{\"colorbar\":{\"outlinewidth\":0,\"ticks\":\"\"}}}],\"scatter3d\":[{\"type\":\"scatter3d\",\"line\":{\"colorbar\":{\"outlinewidth\":0,\"ticks\":\"\"}},\"marker\":{\"colorbar\":{\"outlinewidth\":0,\"ticks\":\"\"}}}],\"scattermapbox\":[{\"type\":\"scattermapbox\",\"marker\":{\"colorbar\":{\"outlinewidth\":0,\"ticks\":\"\"}}}],\"scatterternary\":[{\"type\":\"scatterternary\",\"marker\":{\"colorbar\":{\"outlinewidth\":0,\"ticks\":\"\"}}}],\"scattercarpet\":[{\"type\":\"scattercarpet\",\"marker\":{\"colorbar\":{\"outlinewidth\":0,\"ticks\":\"\"}}}],\"carpet\":[{\"aaxis\":{\"endlinecolor\":\"#2a3f5f\",\"gridcolor\":\"white\",\"linecolor\":\"white\",\"minorgridcolor\":\"white\",\"startlinecolor\":\"#2a3f5f\"},\"baxis\":{\"endlinecolor\":\"#2a3f5f\",\"gridcolor\":\"white\",\"linecolor\":\"white\",\"minorgridcolor\":\"white\",\"startlinecolor\":\"#2a3f5f\"},\"type\":\"carpet\"}],\"table\":[{\"cells\":{\"fill\":{\"color\":\"#EBF0F8\"},\"line\":{\"color\":\"white\"}},\"header\":{\"fill\":{\"color\":\"#C8D4E3\"},\"line\":{\"color\":\"white\"}},\"type\":\"table\"}],\"barpolar\":[{\"marker\":{\"line\":{\"color\":\"#E5ECF6\",\"width\":0.5},\"pattern\":{\"fillmode\":\"overlay\",\"size\":10,\"solidity\":0.2}},\"type\":\"barpolar\"}],\"pie\":[{\"automargin\":true,\"type\":\"pie\"}]},\"layout\":{\"autotypenumbers\":\"strict\",\"colorway\":[\"#636efa\",\"#EF553B\",\"#00cc96\",\"#ab63fa\",\"#FFA15A\",\"#19d3f3\",\"#FF6692\",\"#B6E880\",\"#FF97FF\",\"#FECB52\"],\"font\":{\"color\":\"#2a3f5f\"},\"hovermode\":\"closest\",\"hoverlabel\":{\"align\":\"left\"},\"paper_bgcolor\":\"white\",\"plot_bgcolor\":\"#E5ECF6\",\"polar\":{\"bgcolor\":\"#E5ECF6\",\"angularaxis\":{\"gridcolor\":\"white\",\"linecolor\":\"white\",\"ticks\":\"\"},\"radialaxis\":{\"gridcolor\":\"white\",\"linecolor\":\"white\",\"ticks\":\"\"}},\"ternary\":{\"bgcolor\":\"#E5ECF6\",\"aaxis\":{\"gridcolor\":\"white\",\"linecolor\":\"white\",\"ticks\":\"\"},\"baxis\":{\"gridcolor\":\"white\",\"linecolor\":\"white\",\"ticks\":\"\"},\"caxis\":{\"gridcolor\":\"white\",\"linecolor\":\"white\",\"ticks\":\"\"}},\"coloraxis\":{\"colorbar\":{\"outlinewidth\":0,\"ticks\":\"\"}},\"colorscale\":{\"sequential\":[[0.0,\"#0d0887\"],[0.1111111111111111,\"#46039f\"],[0.2222222222222222,\"#7201a8\"],[0.3333333333333333,\"#9c179e\"],[0.4444444444444444,\"#bd3786\"],[0.5555555555555556,\"#d8576b\"],[0.6666666666666666,\"#ed7953\"],[0.7777777777777778,\"#fb9f3a\"],[0.8888888888888888,\"#fdca26\"],[1.0,\"#f0f921\"]],\"sequentialminus\":[[0.0,\"#0d0887\"],[0.1111111111111111,\"#46039f\"],[0.2222222222222222,\"#7201a8\"],[0.3333333333333333,\"#9c179e\"],[0.4444444444444444,\"#bd3786\"],[0.5555555555555556,\"#d8576b\"],[0.6666666666666666,\"#ed7953\"],[0.7777777777777778,\"#fb9f3a\"],[0.8888888888888888,\"#fdca26\"],[1.0,\"#f0f921\"]],\"diverging\":[[0,\"#8e0152\"],[0.1,\"#c51b7d\"],[0.2,\"#de77ae\"],[0.3,\"#f1b6da\"],[0.4,\"#fde0ef\"],[0.5,\"#f7f7f7\"],[0.6,\"#e6f5d0\"],[0.7,\"#b8e186\"],[0.8,\"#7fbc41\"],[0.9,\"#4d9221\"],[1,\"#276419\"]]},\"xaxis\":{\"gridcolor\":\"white\",\"linecolor\":\"white\",\"ticks\":\"\",\"title\":{\"standoff\":15},\"zerolinecolor\":\"white\",\"automargin\":true,\"zerolinewidth\":2},\"yaxis\":{\"gridcolor\":\"white\",\"linecolor\":\"white\",\"ticks\":\"\",\"title\":{\"standoff\":15},\"zerolinecolor\":\"white\",\"automargin\":true,\"zerolinewidth\":2},\"scene\":{\"xaxis\":{\"backgroundcolor\":\"#E5ECF6\",\"gridcolor\":\"white\",\"linecolor\":\"white\",\"showbackground\":true,\"ticks\":\"\",\"zerolinecolor\":\"white\",\"gridwidth\":2},\"yaxis\":{\"backgroundcolor\":\"#E5ECF6\",\"gridcolor\":\"white\",\"linecolor\":\"white\",\"showbackground\":true,\"ticks\":\"\",\"zerolinecolor\":\"white\",\"gridwidth\":2},\"zaxis\":{\"backgroundcolor\":\"#E5ECF6\",\"gridcolor\":\"white\",\"linecolor\":\"white\",\"showbackground\":true,\"ticks\":\"\",\"zerolinecolor\":\"white\",\"gridwidth\":2}},\"shapedefaults\":{\"line\":{\"color\":\"#2a3f5f\"}},\"annotationdefaults\":{\"arrowcolor\":\"#2a3f5f\",\"arrowhead\":0,\"arrowwidth\":1},\"geo\":{\"bgcolor\":\"white\",\"landcolor\":\"#E5ECF6\",\"subunitcolor\":\"white\",\"showland\":true,\"showlakes\":true,\"lakecolor\":\"white\"},\"title\":{\"x\":0.05},\"mapbox\":{\"style\":\"light\"}}},\"xaxis\":{\"anchor\":\"y\",\"domain\":[0.0,1.0],\"title\":{\"text\":\"movement evaluation stitch\"}},\"yaxis\":{\"anchor\":\"x\",\"domain\":[0.0,1.0],\"title\":{\"text\":\"Needle holder stitch length [m]\"}},\"legend\":{\"tracegroupgap\":0},\"margin\":{\"t\":60},\"width\":500},                        {\"responsive\": true}                    ).then(function(){\n                            \nvar gd = document.getElementById('0cd19f3f-cba9-46ed-95fe-883adf80c12a');\nvar x = new MutationObserver(function (mutations, observer) {{\n        var display = window.getComputedStyle(gd).display;\n        if (!display || display === 'none') {{\n            console.log([gd, 'removed!']);\n            Plotly.purge(gd);\n            observer.disconnect();\n        }}\n}});\n\n// Listen for the removal of the full notebook cells\nvar notebookContainer = gd.closest('#notebook-container');\nif (notebookContainer) {{\n    x.observe(notebookContainer, {childList: true});\n}}\n\n// Listen for the clearing of the current output cell\nvar outputEl = gd.closest('.output');\nif (outputEl) {{\n    x.observe(outputEl, {childList: true});\n}}\n\n                        })                };                });            </script>        </div>"
     },
     "metadata": {},
     "output_type": "display_data"
    }
   ],
   "source": [
    "\n",
    "import plotly.express as px\n",
    "px.scatter(dfst, y=\"Needle holder stitch length [m]\", x=relevant_column, hover_data=[\"filename\", \"stitch_id\"], width=500)\n"
   ],
   "metadata": {
    "collapsed": false,
    "ExecuteTime": {
     "end_time": "2024-06-27T13:14:27.085809400Z",
     "start_time": "2024-06-27T13:14:26.989812100Z"
    }
   },
   "id": "514c25b3081f34fc",
   "execution_count": 201
  },
  {
   "cell_type": "code",
   "outputs": [
    {
     "data": {
      "text/plain": "['Stitch duration [s]',\n 'Needle holder stitch visibility [s]',\n 'Needle holder stitch velocity above threshold',\n 'Needle holder stitch length [m]',\n 'Scissors stitch visibility [s]',\n 'Forceps stitch visibility [s]',\n 'Forceps stitch velocity']"
     },
     "execution_count": 143,
     "metadata": {},
     "output_type": "execute_result"
    }
   ],
   "source": [
    "list(corr.index)"
   ],
   "metadata": {
    "collapsed": false,
    "ExecuteTime": {
     "end_time": "2024-06-27T12:47:48.989572200Z",
     "start_time": "2024-06-27T12:47:48.778522100Z"
    }
   },
   "id": "4fc1b13a03b360c5",
   "execution_count": 143
  },
  {
   "cell_type": "code",
   "outputs": [
    {
     "data": {
      "text/plain": "<seaborn.axisgrid.PairGrid at 0x23c65249180>"
     },
     "execution_count": 178,
     "metadata": {},
     "output_type": "execute_result"
    },
    {
     "data": {
      "text/plain": "<Figure size 1750x1750 with 56 Axes>",
      "image/png": "[encoded data removed]"
     },
     "metadata": {},
     "output_type": "display_data"
    }
   ],
   "source": [
    "\n",
    "sns.pairplot(dfst, y_vars=list(corr.index),\n",
    "             x_vars=list(corr.index),\n",
    "             # x_vars=[relevant_column]\n",
    "             )\n"
   ],
   "metadata": {
    "collapsed": false,
    "ExecuteTime": {
     "end_time": "2024-06-27T12:56:30.300400600Z",
     "start_time": "2024-06-27T12:56:20.049399300Z"
    }
   },
   "id": "e39700bde91f065f",
   "execution_count": 178
  },
  {
   "cell_type": "code",
   "outputs": [],
   "source": [
    "\n",
    "# corr = dfs.corr(numeric_only=True)[\"stars_auto\"].sort_values(ascending=False).head(10)\n",
    "# corr\n"
   ],
   "metadata": {
    "collapsed": false,
    "ExecuteTime": {
     "end_time": "2024-06-27T08:43:37.878333500Z",
     "start_time": "2024-06-27T08:43:37.768353300Z"
    }
   },
   "id": "4673f01feed115b5",
   "execution_count": 50
  },
  {
   "cell_type": "code",
   "execution_count": 51,
   "id": "5c45184c-eb71-4c0d-a929-54d97b6ff1a0",
   "metadata": {
    "tags": [],
    "ExecuteTime": {
     "end_time": "2024-06-27T08:43:38.396781800Z",
     "start_time": "2024-06-27T08:43:38.315788500Z"
    }
   },
   "outputs": [],
   "source": [
    "# columns_to_be_removed = [\"stars_auto\"]\n",
    "# columns = list(corr.index)\n",
    "# columns = [col for col in columns if col not in columns_to_be_removed]\n",
    "# columns "
   ]
  },
  {
   "cell_type": "code",
   "outputs": [],
   "source": [
    "# pretest_mean = dfs[dfs[relevant_column] == 1][cols_with_0 + [relevant_column]].mean()\n",
    "# posttest_mean = dfs[dfs[relevant_column] == 0][cols_with_0 + [relevant_column]].mean()\n",
    "# pretest_var = dfs[dfs[relevant_column] == 1][cols_with_0 + [relevant_column]].var()\n",
    "# posttest_var = dfs[dfs[relevant_column] == 0][cols_with_0 + [relevant_column]].var()\n",
    "\n",
    "\n",
    "\n",
    "\n"
   ],
   "metadata": {
    "collapsed": false,
    "ExecuteTime": {
     "end_time": "2024-06-27T08:43:38.941746300Z",
     "start_time": "2024-06-27T08:43:38.749750200Z"
    }
   },
   "id": "979bb11adfa5c1b2",
   "execution_count": 52
  },
  {
   "cell_type": "markdown",
   "source": [],
   "metadata": {
    "collapsed": false
   },
   "id": "e13b69ac7ac50828"
  },
  {
   "cell_type": "code",
   "outputs": [],
   "source": [
    "# df_stats = pd.DataFrame({\"pretest\": pretest_mean, \"posttest\": posttest_mean, \"pretest_var\": pretest_var, \"posttest_var\": posttest_var})\n",
    "# df_stats[\"diff\"] = df_stats[\"pretest\"] - df_stats[\"posttest\"]\n",
    "# df_stats"
   ],
   "metadata": {
    "collapsed": false,
    "ExecuteTime": {
     "end_time": "2024-06-27T08:43:39.365140400Z",
     "start_time": "2024-06-27T08:43:39.115145600Z"
    }
   },
   "id": "b559b6033140889d",
   "execution_count": 53
  },
  {
   "cell_type": "code",
   "outputs": [
    {
     "name": "stdout",
     "output_type": "stream",
     "text": [
      "120\n"
     ]
    },
    {
     "data": {
      "text/plain": "Stitch duration [s]                              58\nNeedle holder stitch visibility [s]              55\nNeedle holder stitch velocity above threshold    55\nNeedle holder stitch length [m]                  55\nScissors stitch visibility [s]                   46\nForceps stitch visibility [s]                    51\nForceps stitch velocity                          51\nmovement evaluation stitch                       53\ndtype: int64"
     },
     "execution_count": 179,
     "metadata": {},
     "output_type": "execute_result"
    }
   ],
   "source": [
    "print(len(dfst))\n",
    "dfst[cols_with_0 + [relevant_column]].notna().sum()"
   ],
   "metadata": {
    "collapsed": false,
    "ExecuteTime": {
     "end_time": "2024-06-27T12:57:08.983780800Z",
     "start_time": "2024-06-27T12:57:08.651973200Z"
    }
   },
   "id": "669884302392fc2f",
   "execution_count": 179
  },
  {
   "cell_type": "code",
   "outputs": [
    {
     "data": {
      "text/plain": "     Stitch duration [s]  Needle holder stitch visibility [s]  \\\n0              88.000000                            70.800000   \n1              16.066667                            15.000000   \n2             131.866667                           128.066667   \n3              41.600000                            27.000000   \n4              75.000000                            46.600000   \n..                   ...                                  ...   \n115                  NaN                                  NaN   \n116            79.800000                            62.266667   \n117                  NaN                                  NaN   \n118                  NaN                                  NaN   \n119            58.000000                            47.933333   \n\n     Needle holder stitch velocity above threshold  \\\n0                                             12.0   \n1                                              3.0   \n2                                              8.0   \n3                                              8.0   \n4                                             14.0   \n..                                             ...   \n115                                            NaN   \n116                                           27.0   \n117                                            NaN   \n118                                            NaN   \n119                                           18.0   \n\n     Needle holder stitch length [m]  Scissors stitch visibility [s]  \\\n0                           5.907214                       76.266667   \n1                           0.566725                             NaN   \n2                           0.904218                        2.666667   \n3                           2.948527                       31.666667   \n4                           1.509013                        6.533333   \n..                               ...                             ...   \n115                              NaN                             NaN   \n116                         2.398493                             NaN   \n117                              NaN                             NaN   \n118                              NaN                             NaN   \n119                         2.658392                       46.333333   \n\n     Forceps stitch visibility [s]  Forceps stitch velocity  \\\n0                        38.666667                 0.021544   \n1                        16.066667                 0.025056   \n2                        26.733333                 0.010819   \n3                        16.666667                 0.032273   \n4                        20.066667                 0.009389   \n..                             ...                      ...   \n115                            NaN                      NaN   \n116                      20.933333                 0.030994   \n117                            NaN                      NaN   \n118                            NaN                      NaN   \n119                      16.266667                 0.018717   \n\n     movement evaluation stitch  \n0                           3.0  \n1                           NaN  \n2                           NaN  \n3                           NaN  \n4                           4.0  \n..                          ...  \n115                         NaN  \n116                         5.0  \n117                         NaN  \n118                         NaN  \n119                         3.0  \n\n[120 rows x 8 columns]",
      "text/html": "<div>\n<style scoped>\n    .dataframe tbody tr th:only-of-type {\n        vertical-align: middle;\n    }\n\n    .dataframe tbody tr th {\n        vertical-align: top;\n    }\n\n    .dataframe thead th {\n        text-align: right;\n    }\n</style>\n<table border=\"1\" class=\"dataframe\">\n  <thead>\n    <tr style=\"text-align: right;\">\n      <th></th>\n      <th>Stitch duration [s]</th>\n      <th>Needle holder stitch visibility [s]</th>\n      <th>Needle holder stitch velocity above threshold</th>\n      <th>Needle holder stitch length [m]</th>\n      <th>Scissors stitch visibility [s]</th>\n      <th>Forceps stitch visibility [s]</th>\n      <th>Forceps stitch velocity</th>\n      <th>movement evaluation stitch</th>\n    </tr>\n  </thead>\n  <tbody>\n    <tr>\n      <th>0</th>\n      <td>88.000000</td>\n      <td>70.800000</td>\n      <td>12.0</td>\n      <td>5.907214</td>\n      <td>76.266667</td>\n      <td>38.666667</td>\n      <td>0.021544</td>\n      <td>3.0</td>\n    </tr>\n    <tr>\n      <th>1</th>\n      <td>16.066667</td>\n      <td>15.000000</td>\n      <td>3.0</td>\n      <td>0.566725</td>\n      <td>NaN</td>\n      <td>16.066667</td>\n      <td>0.025056</td>\n      <td>NaN</td>\n    </tr>\n    <tr>\n      <th>2</th>\n      <td>131.866667</td>\n      <td>128.066667</td>\n      <td>8.0</td>\n      <td>0.904218</td>\n      <td>2.666667</td>\n      <td>26.733333</td>\n      <td>0.010819</td>\n      <td>NaN</td>\n    </tr>\n    <tr>\n      <th>3</th>\n      <td>41.600000</td>\n      <td>27.000000</td>\n      <td>8.0</td>\n      <td>2.948527</td>\n      <td>31.666667</td>\n      <td>16.666667</td>\n      <td>0.032273</td>\n      <td>NaN</td>\n    </tr>\n    <tr>\n      <th>4</th>\n      <td>75.000000</td>\n      <td>46.600000</td>\n      <td>14.0</td>\n      <td>1.509013</td>\n      <td>6.533333</td>\n      <td>20.066667</td>\n      <td>0.009389</td>\n      <td>4.0</td>\n    </tr>\n    <tr>\n      <th>...</th>\n      <td>...</td>\n      <td>...</td>\n      <td>...</td>\n      <td>...</td>\n      <td>...</td>\n      <td>...</td>\n      <td>...</td>\n      <td>...</td>\n    </tr>\n    <tr>\n      <th>115</th>\n      <td>NaN</td>\n      <td>NaN</td>\n      <td>NaN</td>\n      <td>NaN</td>\n      <td>NaN</td>\n      <td>NaN</td>\n      <td>NaN</td>\n      <td>NaN</td>\n    </tr>\n    <tr>\n      <th>116</th>\n      <td>79.800000</td>\n      <td>62.266667</td>\n      <td>27.0</td>\n      <td>2.398493</td>\n      <td>NaN</td>\n      <td>20.933333</td>\n      <td>0.030994</td>\n      <td>5.0</td>\n    </tr>\n    <tr>\n      <th>117</th>\n      <td>NaN</td>\n      <td>NaN</td>\n      <td>NaN</td>\n      <td>NaN</td>\n      <td>NaN</td>\n      <td>NaN</td>\n      <td>NaN</td>\n      <td>NaN</td>\n    </tr>\n    <tr>\n      <th>118</th>\n      <td>NaN</td>\n      <td>NaN</td>\n      <td>NaN</td>\n      <td>NaN</td>\n      <td>NaN</td>\n      <td>NaN</td>\n      <td>NaN</td>\n      <td>NaN</td>\n    </tr>\n    <tr>\n      <th>119</th>\n      <td>58.000000</td>\n      <td>47.933333</td>\n      <td>18.0</td>\n      <td>2.658392</td>\n      <td>46.333333</td>\n      <td>16.266667</td>\n      <td>0.018717</td>\n      <td>3.0</td>\n    </tr>\n  </tbody>\n</table>\n<p>120 rows × 8 columns</p>\n</div>"
     },
     "execution_count": 180,
     "metadata": {},
     "output_type": "execute_result"
    }
   ],
   "source": [
    "dfst[cols_with_0 + [relevant_column]]"
   ],
   "metadata": {
    "collapsed": false,
    "ExecuteTime": {
     "end_time": "2024-06-27T12:57:13.067774800Z",
     "start_time": "2024-06-27T12:57:12.944773400Z"
    }
   },
   "id": "9604126c86feb3a6",
   "execution_count": 180
  },
  {
   "cell_type": "code",
   "outputs": [],
   "source": [
    "# ! pip install ace_tools"
   ],
   "metadata": {
    "collapsed": false,
    "ExecuteTime": {
     "end_time": "2024-06-27T12:57:18.967723100Z",
     "start_time": "2024-06-27T12:57:18.754724500Z"
    }
   },
   "id": "8e098242c941d54e",
   "execution_count": 181
  },
  {
   "cell_type": "markdown",
   "source": [
    "# Statistical testing"
   ],
   "metadata": {
    "collapsed": false
   },
   "id": "be3e91264ac41045"
  },
  {
   "cell_type": "code",
   "outputs": [
    {
     "name": "stdout",
     "output_type": "stream",
     "text": [
      "{'col_name': ['Stitch duration [s]', 'Needle holder stitch visibility [s]', 'Needle holder stitch velocity above threshold', 'Needle holder stitch length [m]', 'Scissors stitch visibility [s]', 'Forceps stitch visibility [s]', 'Forceps stitch velocity'], 'p_value_two-sided': [9.759667615428744e-06, 0.00045856482247043297, 0.001383796573035019, 0.013569151023427066, 0.0016872429147858118, 0.024279164117281125, 0.0011956088837685897], 'p_value_less': [4.879833807714372e-06, 0.00022928241123521648, 0.0006918982865175095, 0.006784575511713533, 0.0008436214573929059, 0.012139582058640562, 0.9994021955581157], 'p_value_greater': [0.9999951201661923, 0.9997707175887648, 0.9993081017134825, 0.9932154244882865, 0.9991563785426071, 0.9878604179413594, 0.0005978044418842948], 't_stat_two-sided': [-5.909887609723826, -4.23374558271955, -3.7156359486720314, -2.626704674172919, -3.8123075072915813, -2.51537871381484, 3.4830102260969955], 't_stat_less': [-5.909887609723826, -4.23374558271955, -3.7156359486720314, -2.626704674172919, -3.8123075072915813, -2.51537871381484, 3.4830102260969955], 't_stat_greater': [-5.909887609723826, -4.23374558271955, -3.7156359486720314, -2.626704674172919, -3.8123075072915813, -2.51537871381484, 3.4830102260969955]}\n"
     ]
    },
    {
     "data": {
      "text/plain": "                                        col_name  p_value_two-sided  \\\n0                            Stitch duration [s]           0.000010   \n1            Needle holder stitch visibility [s]           0.000459   \n2  Needle holder stitch velocity above threshold           0.001384   \n3                Needle holder stitch length [m]           0.013569   \n4                 Scissors stitch visibility [s]           0.001687   \n5                  Forceps stitch visibility [s]           0.024279   \n6                        Forceps stitch velocity           0.001196   \n\n   p_value_less  p_value_greater  t_stat_two-sided  t_stat_less  \\\n0      0.000005         0.999995         -5.909888    -5.909888   \n1      0.000229         0.999771         -4.233746    -4.233746   \n2      0.000692         0.999308         -3.715636    -3.715636   \n3      0.006785         0.993215         -2.626705    -2.626705   \n4      0.000844         0.999156         -3.812308    -3.812308   \n5      0.012140         0.987860         -2.515379    -2.515379   \n6      0.999402         0.000598          3.483010     3.483010   \n\n   t_stat_greater  \n0       -5.909888  \n1       -4.233746  \n2       -3.715636  \n3       -2.626705  \n4       -3.812308  \n5       -2.515379  \n6        3.483010  ",
      "text/html": "<div>\n<style scoped>\n    .dataframe tbody tr th:only-of-type {\n        vertical-align: middle;\n    }\n\n    .dataframe tbody tr th {\n        vertical-align: top;\n    }\n\n    .dataframe thead th {\n        text-align: right;\n    }\n</style>\n<table border=\"1\" class=\"dataframe\">\n  <thead>\n    <tr style=\"text-align: right;\">\n      <th></th>\n      <th>col_name</th>\n      <th>p_value_two-sided</th>\n      <th>p_value_less</th>\n      <th>p_value_greater</th>\n      <th>t_stat_two-sided</th>\n      <th>t_stat_less</th>\n      <th>t_stat_greater</th>\n    </tr>\n  </thead>\n  <tbody>\n    <tr>\n      <th>0</th>\n      <td>Stitch duration [s]</td>\n      <td>0.000010</td>\n      <td>0.000005</td>\n      <td>0.999995</td>\n      <td>-5.909888</td>\n      <td>-5.909888</td>\n      <td>-5.909888</td>\n    </tr>\n    <tr>\n      <th>1</th>\n      <td>Needle holder stitch visibility [s]</td>\n      <td>0.000459</td>\n      <td>0.000229</td>\n      <td>0.999771</td>\n      <td>-4.233746</td>\n      <td>-4.233746</td>\n      <td>-4.233746</td>\n    </tr>\n    <tr>\n      <th>2</th>\n      <td>Needle holder stitch velocity above threshold</td>\n      <td>0.001384</td>\n      <td>0.000692</td>\n      <td>0.999308</td>\n      <td>-3.715636</td>\n      <td>-3.715636</td>\n      <td>-3.715636</td>\n    </tr>\n    <tr>\n      <th>3</th>\n      <td>Needle holder stitch length [m]</td>\n      <td>0.013569</td>\n      <td>0.006785</td>\n      <td>0.993215</td>\n      <td>-2.626705</td>\n      <td>-2.626705</td>\n      <td>-2.626705</td>\n    </tr>\n    <tr>\n      <th>4</th>\n      <td>Scissors stitch visibility [s]</td>\n      <td>0.001687</td>\n      <td>0.000844</td>\n      <td>0.999156</td>\n      <td>-3.812308</td>\n      <td>-3.812308</td>\n      <td>-3.812308</td>\n    </tr>\n    <tr>\n      <th>5</th>\n      <td>Forceps stitch visibility [s]</td>\n      <td>0.024279</td>\n      <td>0.012140</td>\n      <td>0.987860</td>\n      <td>-2.515379</td>\n      <td>-2.515379</td>\n      <td>-2.515379</td>\n    </tr>\n    <tr>\n      <th>6</th>\n      <td>Forceps stitch velocity</td>\n      <td>0.001196</td>\n      <td>0.999402</td>\n      <td>0.000598</td>\n      <td>3.483010</td>\n      <td>3.483010</td>\n      <td>3.483010</td>\n    </tr>\n  </tbody>\n</table>\n</div>"
     },
     "execution_count": 183,
     "metadata": {},
     "output_type": "execute_result"
    }
   ],
   "source": [
    "import pandas as pd\n",
    "import scipy.stats as stats\n",
    "\n",
    "# Columns to compare\n",
    "# cols_with_0 = list(df_stats.index)  # Replace with your actual column names\n",
    "# relevant_column = \"is_pretest_num\"\n",
    "\n",
    "\n",
    "\n",
    "# DataFrames for each group\n",
    "pretest_df = dfst[dfst[relevant_column] > 2.5][[\"filename\"] + cols_with_0]\n",
    "posttest_df = dfst[dfst[relevant_column] <= 2.5][[\"filename\"] + cols_with_0]\n",
    "\n",
    "# Ensure both dataframes are sorted by the same criteria to maintain pairing\n",
    "pretest_df.sort_values(by=\"filename\", inplace=True)\n",
    "posttest_df.sort_values(by=\"filename\", inplace=True)\n",
    "\n",
    "\n",
    "# Perform t-tests\n",
    "t_stats = []\n",
    "p_values = []\n",
    "col_names =[]\n",
    "t_stats_less = []\n",
    "p_values_less = []\n",
    "col_names_less =[]\n",
    "t_stats_greater = []\n",
    "p_values_greater = []\n",
    "col_names_greater =[]\n",
    "\n",
    "data = {\n",
    "    \"col_name\": [],\n",
    "    \"p_value_two-sided\": [],\n",
    "    \"p_value_less\": [],\n",
    "    \"p_value_greater\": [],\n",
    "    \"t_stat_two-sided\": [],\n",
    "    \"t_stat_less\": [],\n",
    "    \"t_stat_greater\": [],\n",
    "}\n",
    "for col in cols_with_0:\n",
    "    try:\n",
    "        data[\"col_name\"].append(col)\n",
    "        for alternative in [\"two-sided\", \"less\", \"greater\"]:\n",
    "            \n",
    "            t_stat, p_value = stats.ttest_ind(pretest_df[col], posttest_df[col], equal_var=False, alternative=alternative, nan_policy='omit')  # Assuming unequal variance\n",
    "            data[f\"t_stat_{alternative}\"].append(t_stat)\n",
    "            data[f\"p_value_{alternative}\"].append(p_value)\n",
    "    except:\n",
    "        print(col)\n",
    "        import traceback\n",
    "        traceback.print_exc()\n",
    "\n",
    "# Collect the statistics in a DataFrame\n",
    "print(data)\n",
    "df_stats = pd.DataFrame(\n",
    "    data\n",
    ")\n",
    "\n",
    "\n",
    "df_stats"
   ],
   "metadata": {
    "collapsed": false,
    "ExecuteTime": {
     "end_time": "2024-06-27T13:02:50.103395900Z",
     "start_time": "2024-06-27T13:02:49.876360300Z"
    }
   },
   "id": "14a4fee43499974f",
   "execution_count": 183
  },
  {
   "cell_type": "code",
   "outputs": [
    {
     "name": "stderr",
     "output_type": "stream",
     "text": [
      "C:\\Users\\Jirik\\AppData\\Local\\Temp\\ipykernel_3416\\3326586540.py:1: FutureWarning:\n",
      "\n",
      "The default value of numeric_only in DataFrame.mean is deprecated. In a future version, it will default to False. In addition, specifying 'numeric_only=None' is deprecated. Select only valid columns or specify the value of numeric_only to silence this warning.\n",
      "\n"
     ]
    },
    {
     "data": {
      "text/plain": "Stitch duration [s]                              80.070370\nNeedle holder stitch visibility [s]              64.882828\nNeedle holder stitch velocity above threshold    19.757576\nNeedle holder stitch length [m]                   2.456015\nScissors stitch visibility [s]                   40.668966\nForceps stitch visibility [s]                    32.806452\nForceps stitch velocity                           0.016770\ndtype: float64"
     },
     "execution_count": 184,
     "metadata": {},
     "output_type": "execute_result"
    }
   ],
   "source": [
    "pretest_df.mean()\n"
   ],
   "metadata": {
    "collapsed": false,
    "ExecuteTime": {
     "end_time": "2024-06-27T13:02:54.386200300Z",
     "start_time": "2024-06-27T13:02:54.203202900Z"
    }
   },
   "id": "88e39f1aa752d408",
   "execution_count": 184
  },
  {
   "cell_type": "code",
   "outputs": [
    {
     "name": "stderr",
     "output_type": "stream",
     "text": [
      "C:\\Users\\Jirik\\AppData\\Local\\Temp\\ipykernel_3416\\3993572716.py:1: FutureWarning:\n",
      "\n",
      "The default value of numeric_only in DataFrame.mean is deprecated. In a future version, it will default to False. In addition, specifying 'numeric_only=None' is deprecated. Select only valid columns or specify the value of numeric_only to silence this warning.\n",
      "\n"
     ]
    },
    {
     "data": {
      "text/plain": "Stitch duration [s]                              142.138095\nNeedle holder stitch visibility [s]              109.504762\nNeedle holder stitch velocity above threshold     30.785714\nNeedle holder stitch length [m]                    3.233446\nScissors stitch visibility [s]                   106.841026\nForceps stitch visibility [s]                     57.222222\nForceps stitch velocity                            0.011778\ndtype: float64"
     },
     "execution_count": 185,
     "metadata": {},
     "output_type": "execute_result"
    }
   ],
   "source": [
    "posttest_df.mean()"
   ],
   "metadata": {
    "collapsed": false,
    "ExecuteTime": {
     "end_time": "2024-06-27T13:02:55.111200600Z",
     "start_time": "2024-06-27T13:02:54.935199500Z"
    }
   },
   "id": "20ecdea8d39ff8bb",
   "execution_count": 185
  },
  {
   "cell_type": "markdown",
   "source": [
    "## Find general correlation\n",
    "\n"
   ],
   "metadata": {
    "collapsed": false
   },
   "id": "a4d30e78bd28e63a"
  },
  {
   "cell_type": "code",
   "outputs": [],
   "source": [
    "# cols"
   ],
   "metadata": {
    "collapsed": false,
    "ExecuteTime": {
     "end_time": "2024-06-27T09:29:05.988895100Z",
     "start_time": "2024-06-27T09:29:05.860895800Z"
    }
   },
   "id": "120d45b67f00a185",
   "execution_count": 74
  },
  {
   "cell_type": "code",
   "outputs": [],
   "source": [
    "# list(cols)"
   ],
   "metadata": {
    "collapsed": false,
    "ExecuteTime": {
     "end_time": "2024-06-27T09:29:06.439896600Z",
     "start_time": "2024-06-27T09:29:06.225895700Z"
    }
   },
   "id": "f8f58e85c36c83c",
   "execution_count": 75
  },
  {
   "cell_type": "code",
   "outputs": [],
   "source": [
    "# try to find the best columns to predict stars_auto\n",
    "\n",
    "\n",
    "# corr = dfs.corr(numeric_only=True)\n",
    "# numeric_cols = corr.columns[corr.columns.str.contains(\"annotation_annotation\")]\n",
    "# corr = corr[numeric_cols].abs()# .sort_values(by=\"annotation_annotation_stars\", ascending=False).head(10)\n",
    "# # keep just rows not containing \"annotation_annotation\" in the index\n",
    "# corr = corr[~corr.index.str.contains(\"annotation_annotation\")]\n",
    "# \n",
    "# # [list(cols)].abs()# .sort_values(ascending=False).head(10)\n",
    "# # corr = corr[corr.index != \"stars_auto\"] \n",
    "# \n",
    "# corr"
   ],
   "metadata": {
    "collapsed": false,
    "ExecuteTime": {
     "end_time": "2024-06-27T09:29:07.021894Z",
     "start_time": "2024-06-27T09:29:06.884900600Z"
    }
   },
   "id": "ff31bf56274927c7",
   "execution_count": 76
  },
  {
   "cell_type": "code",
   "outputs": [
    {
     "data": {
      "text/plain": "0.719249333903006"
     },
     "execution_count": 77,
     "metadata": {},
     "output_type": "execute_result"
    }
   ],
   "source": [
    "# argmax in dataframe\n",
    "corr.loc[corr.idxmax()]"
   ],
   "metadata": {
    "collapsed": false,
    "ExecuteTime": {
     "end_time": "2024-06-27T09:29:08.162966400Z",
     "start_time": "2024-06-27T09:29:07.916989500Z"
    }
   },
   "id": "7b3db07430e3219c",
   "execution_count": 77
  },
  {
   "cell_type": "code",
   "outputs": [],
   "source": [
    "# dfs[[\"annotation_annotation_knots_are_done_right\", 'filename']]"
   ],
   "metadata": {
    "collapsed": false,
    "ExecuteTime": {
     "end_time": "2024-06-27T09:29:09.281969400Z",
     "start_time": "2024-06-27T09:29:09.086968200Z"
    }
   },
   "id": "dc1f60eba3c3ac0a",
   "execution_count": 78
  },
  {
   "cell_type": "markdown",
   "id": "38565d3a-fde1-4cb2-9999-6febfa393d6b",
   "metadata": {},
   "source": [
    "# Train predictor"
   ]
  },
  {
   "cell_type": "code",
   "outputs": [
    {
     "name": "stdout",
     "output_type": "stream",
     "text": [
      "(7,)\n",
      "(7,)\n"
     ]
    }
   ],
   "source": [
    "print(corr.shape)\n",
    "corr = corr.dropna()\n",
    "print(corr.shape)\n"
   ],
   "metadata": {
    "collapsed": false,
    "ExecuteTime": {
     "end_time": "2024-06-27T13:03:08.231733600Z",
     "start_time": "2024-06-27T13:03:08.159739900Z"
    }
   },
   "id": "fc30ef00af707cf2",
   "execution_count": 186
  },
  {
   "cell_type": "code",
   "outputs": [
    {
     "data": {
      "text/plain": "Index(['Stitch duration [s]', 'Needle holder stitch visibility [s]',\n       'Needle holder stitch velocity above threshold',\n       'Needle holder stitch length [m]', 'Scissors stitch visibility [s]',\n       'Forceps stitch visibility [s]', 'Forceps stitch velocity'],\n      dtype='object')"
     },
     "execution_count": 187,
     "metadata": {},
     "output_type": "execute_result"
    }
   ],
   "source": [
    "corr.index"
   ],
   "metadata": {
    "collapsed": false,
    "ExecuteTime": {
     "end_time": "2024-06-27T13:03:09.106736100Z",
     "start_time": "2024-06-27T13:03:08.947752500Z"
    }
   },
   "id": "93e84aa713918bd",
   "execution_count": 187
  },
  {
   "cell_type": "code",
   "execution_count": 188,
   "id": "156ae14a777fe3fc",
   "metadata": {
    "collapsed": false,
    "tags": [],
    "ExecuteTime": {
     "end_time": "2024-06-27T13:03:18.713289Z",
     "start_time": "2024-06-27T13:03:18.514596700Z"
    }
   },
   "outputs": [
    {
     "name": "stdout",
     "output_type": "stream",
     "text": [
      "['movement evaluation stitch']\n",
      "['Stitch duration [s]', 'Needle holder stitch visibility [s]', 'Needle holder stitch velocity above threshold', 'Needle holder stitch length [m]', 'Scissors stitch visibility [s]', 'Forceps stitch visibility [s]', 'Forceps stitch velocity', 'filename', 'stitch_id']\n"
     ]
    }
   ],
   "source": [
    "import sklearn\n",
    "# train a model to predict stars_auto\n",
    "from sklearn.linear_model import LinearRegression\n",
    "from sklearn.model_selection import train_test_split\n",
    "from sklearn.metrics import mean_squared_error, r2_score\n",
    "# import SVM\n",
    "from sklearn.svm import SVR\n",
    "# sample_id_cols = [\"filename\", \"stitch_id\"]\n",
    "#train a model to predict stars_auto\n",
    "\n",
    "predicted_columns = [relevant_column]  # list(corr.columns[corr.columns.str.contains(\"is_pretest_num\")])\n",
    "# columns = list(corr.index[~corr.index.str.contains(relevant_column)])\n",
    "columns = cols_with_0 + sample_id_cols\n",
    "# columns = list(corr.index)\n",
    "# columns.append(\"filename\")\n",
    "print(predicted_columns)\n",
    "print(columns)\n",
    "\n"
   ]
  },
  {
   "cell_type": "code",
   "outputs": [],
   "source": [],
   "metadata": {
    "collapsed": false,
    "ExecuteTime": {
     "end_time": "2024-06-27T13:03:21.415694300Z",
     "start_time": "2024-06-27T13:03:21.266692Z"
    }
   },
   "id": "d0411e42ff09cba6",
   "execution_count": 188
  },
  {
   "cell_type": "markdown",
   "source": [
    "### Remove NA values"
   ],
   "metadata": {
    "collapsed": false
   },
   "id": "fdaa2bd60b9f2c27"
  },
  {
   "cell_type": "code",
   "outputs": [],
   "source": [
    "# remove known problematic columns\n",
    "\n",
    "# # remove row with index 1708\n",
    "# if 1708 in dfs.index:\n",
    "#     dfs = dfs.drop(1708)\n",
    "# \n",
    "# if 1667 in dfs.index:\n",
    "#     dfs = dfs.drop(1667)\n",
    "# \n",
    "# # remove \"qr_data_pix_size_single_frame_detector_m\" from the columns\n",
    "# if \"qr_data_pix_size_single_frame_detector_m\" in columns:\n",
    "#     columns.remove(\"qr_data_pix_size_single_frame_detector_m\")\n",
    "\n",
    "# dfs[cols].isna().sum()\n"
   ],
   "metadata": {
    "collapsed": false,
    "ExecuteTime": {
     "end_time": "2024-06-27T13:03:23.305303500Z",
     "start_time": "2024-06-27T13:03:23.152302500Z"
    }
   },
   "id": "f8cb29b734476f56",
   "execution_count": 189
  },
  {
   "cell_type": "code",
   "outputs": [
    {
     "data": {
      "text/plain": "                                              filename  stitch_id  \\\n0    Bad-2021_11_03_A_Noll_Alexander_Einzelknopfnah...          0   \n1                                      donati_luis.mov          0   \n2            Screen_Recording_20240221_150510_Zoom.mp4          0   \n3                         11.4.2024.HarmsSören.NHT.mp4          0   \n4                          Pre_-Test_Isabel_Linden.mp4          0   \n..                                                 ...        ...   \n115                             Medium-Schweinefu_.mp4          3   \n116                     Stresstest_Einzelknopfnaht.mp4          3   \n117  medium-2021_11_03_A_Tengler_Sophie_Einzelknopf...          3   \n118                             Gehrke,Yves - post.mp4          3   \n119                      Schiesser_David_post_test.mp4          3   \n\n     Stitch duration [s]  Needle holder stitch visibility [s]  \\\n0              88.000000                            70.800000   \n1              16.066667                            15.000000   \n2             131.866667                           128.066667   \n3              41.600000                            27.000000   \n4              75.000000                            46.600000   \n..                   ...                                  ...   \n115                  NaN                                  NaN   \n116            79.800000                            62.266667   \n117                  NaN                                  NaN   \n118                  NaN                                  NaN   \n119            58.000000                            47.933333   \n\n     Needle holder stitch velocity above threshold  \\\n0                                             12.0   \n1                                              3.0   \n2                                              8.0   \n3                                              8.0   \n4                                             14.0   \n..                                             ...   \n115                                            NaN   \n116                                           27.0   \n117                                            NaN   \n118                                            NaN   \n119                                           18.0   \n\n     Needle holder stitch length [m]  Scissors stitch visibility [s]  \\\n0                           5.907214                       76.266667   \n1                           0.566725                             NaN   \n2                           0.904218                        2.666667   \n3                           2.948527                       31.666667   \n4                           1.509013                        6.533333   \n..                               ...                             ...   \n115                              NaN                             NaN   \n116                         2.398493                             NaN   \n117                              NaN                             NaN   \n118                              NaN                             NaN   \n119                         2.658392                       46.333333   \n\n     Forceps stitch visibility [s]  Forceps stitch velocity  \\\n0                        38.666667                 0.021544   \n1                        16.066667                 0.025056   \n2                        26.733333                 0.010819   \n3                        16.666667                 0.032273   \n4                        20.066667                 0.009389   \n..                             ...                      ...   \n115                            NaN                      NaN   \n116                      20.933333                 0.030994   \n117                            NaN                      NaN   \n118                            NaN                      NaN   \n119                      16.266667                 0.018717   \n\n                                              filename  stitch_id  \n0    Bad-2021_11_03_A_Noll_Alexander_Einzelknopfnah...          0  \n1                                      donati_luis.mov          0  \n2            Screen_Recording_20240221_150510_Zoom.mp4          0  \n3                         11.4.2024.HarmsSören.NHT.mp4          0  \n4                          Pre_-Test_Isabel_Linden.mp4          0  \n..                                                 ...        ...  \n115                             Medium-Schweinefu_.mp4          3  \n116                     Stresstest_Einzelknopfnaht.mp4          3  \n117  medium-2021_11_03_A_Tengler_Sophie_Einzelknopf...          3  \n118                             Gehrke,Yves - post.mp4          3  \n119                      Schiesser_David_post_test.mp4          3  \n\n[120 rows x 11 columns]",
      "text/html": "<div>\n<style scoped>\n    .dataframe tbody tr th:only-of-type {\n        vertical-align: middle;\n    }\n\n    .dataframe tbody tr th {\n        vertical-align: top;\n    }\n\n    .dataframe thead th {\n        text-align: right;\n    }\n</style>\n<table border=\"1\" class=\"dataframe\">\n  <thead>\n    <tr style=\"text-align: right;\">\n      <th></th>\n      <th>filename</th>\n      <th>stitch_id</th>\n      <th>Stitch duration [s]</th>\n      <th>Needle holder stitch visibility [s]</th>\n      <th>Needle holder stitch velocity above threshold</th>\n      <th>Needle holder stitch length [m]</th>\n      <th>Scissors stitch visibility [s]</th>\n      <th>Forceps stitch visibility [s]</th>\n      <th>Forceps stitch velocity</th>\n      <th>filename</th>\n      <th>stitch_id</th>\n    </tr>\n  </thead>\n  <tbody>\n    <tr>\n      <th>0</th>\n      <td>Bad-2021_11_03_A_Noll_Alexander_Einzelknopfnah...</td>\n      <td>0</td>\n      <td>88.000000</td>\n      <td>70.800000</td>\n      <td>12.0</td>\n      <td>5.907214</td>\n      <td>76.266667</td>\n      <td>38.666667</td>\n      <td>0.021544</td>\n      <td>Bad-2021_11_03_A_Noll_Alexander_Einzelknopfnah...</td>\n      <td>0</td>\n    </tr>\n    <tr>\n      <th>1</th>\n      <td>donati_luis.mov</td>\n      <td>0</td>\n      <td>16.066667</td>\n      <td>15.000000</td>\n      <td>3.0</td>\n      <td>0.566725</td>\n      <td>NaN</td>\n      <td>16.066667</td>\n      <td>0.025056</td>\n      <td>donati_luis.mov</td>\n      <td>0</td>\n    </tr>\n    <tr>\n      <th>2</th>\n      <td>Screen_Recording_20240221_150510_Zoom.mp4</td>\n      <td>0</td>\n      <td>131.866667</td>\n      <td>128.066667</td>\n      <td>8.0</td>\n      <td>0.904218</td>\n      <td>2.666667</td>\n      <td>26.733333</td>\n      <td>0.010819</td>\n      <td>Screen_Recording_20240221_150510_Zoom.mp4</td>\n      <td>0</td>\n    </tr>\n    <tr>\n      <th>3</th>\n      <td>11.4.2024.HarmsSören.NHT.mp4</td>\n      <td>0</td>\n      <td>41.600000</td>\n      <td>27.000000</td>\n      <td>8.0</td>\n      <td>2.948527</td>\n      <td>31.666667</td>\n      <td>16.666667</td>\n      <td>0.032273</td>\n      <td>11.4.2024.HarmsSören.NHT.mp4</td>\n      <td>0</td>\n    </tr>\n    <tr>\n      <th>4</th>\n      <td>Pre_-Test_Isabel_Linden.mp4</td>\n      <td>0</td>\n      <td>75.000000</td>\n      <td>46.600000</td>\n      <td>14.0</td>\n      <td>1.509013</td>\n      <td>6.533333</td>\n      <td>20.066667</td>\n      <td>0.009389</td>\n      <td>Pre_-Test_Isabel_Linden.mp4</td>\n      <td>0</td>\n    </tr>\n    <tr>\n      <th>...</th>\n      <td>...</td>\n      <td>...</td>\n      <td>...</td>\n      <td>...</td>\n      <td>...</td>\n      <td>...</td>\n      <td>...</td>\n      <td>...</td>\n      <td>...</td>\n      <td>...</td>\n      <td>...</td>\n    </tr>\n    <tr>\n      <th>115</th>\n      <td>Medium-Schweinefu_.mp4</td>\n      <td>3</td>\n      <td>NaN</td>\n      <td>NaN</td>\n      <td>NaN</td>\n      <td>NaN</td>\n      <td>NaN</td>\n      <td>NaN</td>\n      <td>NaN</td>\n      <td>Medium-Schweinefu_.mp4</td>\n      <td>3</td>\n    </tr>\n    <tr>\n      <th>116</th>\n      <td>Stresstest_Einzelknopfnaht.mp4</td>\n      <td>3</td>\n      <td>79.800000</td>\n      <td>62.266667</td>\n      <td>27.0</td>\n      <td>2.398493</td>\n      <td>NaN</td>\n      <td>20.933333</td>\n      <td>0.030994</td>\n      <td>Stresstest_Einzelknopfnaht.mp4</td>\n      <td>3</td>\n    </tr>\n    <tr>\n      <th>117</th>\n      <td>medium-2021_11_03_A_Tengler_Sophie_Einzelknopf...</td>\n      <td>3</td>\n      <td>NaN</td>\n      <td>NaN</td>\n      <td>NaN</td>\n      <td>NaN</td>\n      <td>NaN</td>\n      <td>NaN</td>\n      <td>NaN</td>\n      <td>medium-2021_11_03_A_Tengler_Sophie_Einzelknopf...</td>\n      <td>3</td>\n    </tr>\n    <tr>\n      <th>118</th>\n      <td>Gehrke,Yves - post.mp4</td>\n      <td>3</td>\n      <td>NaN</td>\n      <td>NaN</td>\n      <td>NaN</td>\n      <td>NaN</td>\n      <td>NaN</td>\n      <td>NaN</td>\n      <td>NaN</td>\n      <td>Gehrke,Yves - post.mp4</td>\n      <td>3</td>\n    </tr>\n    <tr>\n      <th>119</th>\n      <td>Schiesser_David_post_test.mp4</td>\n      <td>3</td>\n      <td>58.000000</td>\n      <td>47.933333</td>\n      <td>18.0</td>\n      <td>2.658392</td>\n      <td>46.333333</td>\n      <td>16.266667</td>\n      <td>0.018717</td>\n      <td>Schiesser_David_post_test.mp4</td>\n      <td>3</td>\n    </tr>\n  </tbody>\n</table>\n<p>120 rows × 11 columns</p>\n</div>"
     },
     "execution_count": 190,
     "metadata": {},
     "output_type": "execute_result"
    }
   ],
   "source": [
    "dfst[[\"filename\", \"stitch_id\"] + columns]"
   ],
   "metadata": {
    "collapsed": false,
    "ExecuteTime": {
     "end_time": "2024-06-27T13:03:29.371632Z",
     "start_time": "2024-06-27T13:03:28.998098800Z"
    }
   },
   "id": "72ceda9012b6d362",
   "execution_count": 190
  },
  {
   "cell_type": "code",
   "outputs": [
    {
     "data": {
      "text/plain": "Scissors stitch visibility [s]                   74\nForceps stitch visibility [s]                    69\nForceps stitch velocity                          69\nNeedle holder stitch visibility [s]              65\nNeedle holder stitch velocity above threshold    65\nNeedle holder stitch length [m]                  65\nStitch duration [s]                              62\nfilename                                          0\nstitch_id                                         0\ndtype: int64"
     },
     "execution_count": 191,
     "metadata": {},
     "output_type": "execute_result"
    }
   ],
   "source": [
    "\n",
    "# count NA values in columns\n",
    "\n",
    "dfst[columns].isna().sum().sort_values(ascending=False)\n"
   ],
   "metadata": {
    "collapsed": false,
    "ExecuteTime": {
     "end_time": "2024-06-27T13:03:36.447437900Z",
     "start_time": "2024-06-27T13:03:36.163639800Z"
    }
   },
   "id": "e5dbd7d5647583f4",
   "execution_count": 191
  },
  {
   "cell_type": "code",
   "outputs": [
    {
     "data": {
      "text/plain": "2562    0\n2563    0\n2596    0\n2595    0\n2594    0\n       ..\n2567    0\n2566    0\n2565    0\n2564    0\n2597    0\nLength: 120, dtype: int64"
     },
     "execution_count": 109,
     "metadata": {},
     "output_type": "execute_result"
    }
   ],
   "source": [
    "dfst[columns].isna().sum(axis=1).sort_values(ascending=False)"
   ],
   "metadata": {
    "collapsed": false,
    "ExecuteTime": {
     "end_time": "2024-06-26T18:16:27.509502100Z",
     "start_time": "2024-06-26T18:16:27.312595800Z"
    }
   },
   "id": "bce585c0e7450327",
   "execution_count": 109
  },
  {
   "cell_type": "code",
   "outputs": [
    {
     "data": {
      "text/plain": "                                              filename  \\\n0    Bad-2021_11_03_A_Noll_Alexander_Einzelknopfnah...   \n4                          Pre_-Test_Isabel_Linden.mp4   \n5                      Fehringer_Pascal__post_test.mp4   \n6                             Hilger,Anke-Posttest.mp4   \n7     Bad-03_11_21_B_Hopfe_Johanna_Einzelknopfnaht.mp4   \n8    Bad-12_10_21__Loewe__Rebekka__Einzelknopfnaht.mp4   \n9    Bad-2021_11_03_A_Petersen_Insa_Einzelknopfnaht...   \n10   Bad-2021_11_03_A_Spitze_Vanessa_Einzelknopfnah...   \n11   Bad-2021_11_03_B_V_lz__Ann_Sophie_Einzelknopfn...   \n12   Bad-2021_11_3_A_Brodersen___nne_Einzelknopfnah...   \n13   Bad-3_11_21_B_Grumt_Alina_Einzelknopfnaht_Schw...   \n14       Bildschirmaufnahme_2022-10-11_um_11.20.24.mov   \n15               Einzelknopfnaht_Elena.Vai-Wieting.mov   \n16                    Einzelknopfnaht_Lina_Schäfer.mp4   \n18                  Good-Einzelknopfnaht_Stoklossa.mp4   \n19   Good-2021_10_27_B_Etzel_Peter_Einzelknopfnaht_...   \n20   Good-Schmidt_Elisabeth_Einzelknotennaht_11_10_...   \n21                Good-Schweinefu__Einzelknopfnaht.mp4   \n22   Medium-2021_11_03_A_Seifert_Johanna_Einzelknop...   \n23   Medium-2021_11_03_A_Tengler_Sophie_Einzelknopf...   \n24                 Medium-RPReplay_Final1634048018.mp4   \n25                              Medium-Schweinefu_.mp4   \n26                      Stresstest_Einzelknopfnaht.mp4   \n27   medium-2021_11_03_A_Tengler_Sophie_Einzelknopf...   \n28                              Gehrke,Yves - post.mp4   \n29                       Schiesser_David_post_test.mp4   \n30   Bad-2021_11_03_A_Noll_Alexander_Einzelknopfnah...   \n34                         Pre_-Test_Isabel_Linden.mp4   \n36                            Hilger,Anke-Posttest.mp4   \n37    Bad-03_11_21_B_Hopfe_Johanna_Einzelknopfnaht.mp4   \n42   Bad-2021_11_3_A_Brodersen___nne_Einzelknopfnah...   \n43   Bad-3_11_21_B_Grumt_Alina_Einzelknopfnaht_Schw...   \n44       Bildschirmaufnahme_2022-10-11_um_11.20.24.mov   \n45               Einzelknopfnaht_Elena.Vai-Wieting.mov   \n48                  Good-Einzelknopfnaht_Stoklossa.mp4   \n52   Medium-2021_11_03_A_Seifert_Johanna_Einzelknop...   \n56                      Stresstest_Einzelknopfnaht.mp4   \n58                              Gehrke,Yves - post.mp4   \n59                       Schiesser_David_post_test.mp4   \n66                            Hilger,Anke-Posttest.mp4   \n74       Bildschirmaufnahme_2022-10-11_um_11.20.24.mov   \n86                      Stresstest_Einzelknopfnaht.mp4   \n89                       Schiesser_David_post_test.mp4   \n96                            Hilger,Anke-Posttest.mp4   \n104      Bildschirmaufnahme_2022-10-11_um_11.20.24.mov   \n116                     Stresstest_Einzelknopfnaht.mp4   \n119                      Schiesser_David_post_test.mp4   \n\n                      annotation_annotation_annotation  \\\n0    00:00:00 no clear view of the setup\\r\\n00:00:1...   \n4    00:00:09 stitch_start\\r\\n00:00:47 knot_start\\r...   \n5    00:00:02 stitch_start\\r\\n00:00:38 knot_start\\r...   \n6    00:00:06 stitch_start\\r\\n00:00:45 knot\\r\\n00:0...   \n7    00:00:00 setup could be cleaner\\r\\n00:00:07 ne...   \n8    00:00:33 needle grabbed pretty far in the back...   \n9    00:00:17 needle is put on skin in wrong angle\\...   \n10   00:00:08 thumb is not taken out of the needle ...   \n11   00:00:07 direction of suturing is wrong\\r\\n00:...   \n12   00:00:14 thumb is not taken out of needle hold...   \n13   00:00:00 setup could be better\\r\\n00:00:04 for...   \n14   00:00:17 stitch_start\\r\\n00:01:41 knot_start\\r...   \n15   00:00:02 stitch_start\\r\\n00:00:43 knot_start\\r...   \n16   sehr gut, etwas aufpassen weger der Nadel, es ...   \n18   00:00:06 needle holder is not correctly grabbe...   \n19   00:00:08 setup is mostly good. there is a pen ...   \n20   00:00:38 Thumb is not taken out of needle hold...   \n21   00:00:03 Needle grabbed rather far in the back...   \n22   00:00:00 setup is nice\\r\\n00:00:09 incission l...   \n23   00:00:02 setup of desk is nice\\r\\n00:00:06 nee...   \n24   00:00:07 grab needle holder more in the back\\r...   \n25   00:00:05 start\\r\\n00:01:49 end\\r\\n00:00:30 Tak...   \n26   00:00:46 stitch_start\\r\\n00:01:15 knot_start\\r...   \n27   00:00:07 thumb is not taken out of needle hold...   \n28   00:00:02 stitch_start \\r\\n00:00:36 knot_start\\...   \n29   00:00:04 stitch_start\\r\\n00:00:47 knot_start\\r...   \n30   00:00:00 no clear view of the setup\\r\\n00:00:1...   \n34   00:00:09 stitch_start\\r\\n00:00:47 knot_start\\r...   \n36   00:00:06 stitch_start\\r\\n00:00:45 knot\\r\\n00:0...   \n37   00:00:00 setup could be cleaner\\r\\n00:00:07 ne...   \n42   00:00:14 thumb is not taken out of needle hold...   \n43   00:00:00 setup could be better\\r\\n00:00:04 for...   \n44   00:00:17 stitch_start\\r\\n00:01:41 knot_start\\r...   \n45   00:00:02 stitch_start\\r\\n00:00:43 knot_start\\r...   \n48   00:00:06 needle holder is not correctly grabbe...   \n52   00:00:00 setup is nice\\r\\n00:00:09 incission l...   \n56   00:00:46 stitch_start\\r\\n00:01:15 knot_start\\r...   \n58   00:00:02 stitch_start \\r\\n00:00:36 knot_start\\...   \n59   00:00:04 stitch_start\\r\\n00:00:47 knot_start\\r...   \n66   00:00:06 stitch_start\\r\\n00:00:45 knot\\r\\n00:0...   \n74   00:00:17 stitch_start\\r\\n00:01:41 knot_start\\r...   \n86   00:00:46 stitch_start\\r\\n00:01:15 knot_start\\r...   \n89   00:00:04 stitch_start\\r\\n00:00:47 knot_start\\r...   \n96   00:00:06 stitch_start\\r\\n00:00:45 knot\\r\\n00:0...   \n104  00:00:17 stitch_start\\r\\n00:01:41 knot_start\\r...   \n116  00:00:46 stitch_start\\r\\n00:01:15 knot_start\\r...   \n119  00:00:04 stitch_start\\r\\n00:00:47 knot_start\\r...   \n\n     Needle holder stitch length [m]  Needle holder stitch visibility [s]  \\\n0                           5.907214                            70.800000   \n4                           1.509013                            46.600000   \n5                           3.598281                            71.533333   \n6                           1.361027                            39.400000   \n7                           1.969100                            91.400000   \n8                           3.425421                           214.800000   \n9                           3.811671                            97.933333   \n10                          4.091873                           108.000000   \n11                          2.736359                            95.466667   \n12                          2.226574                            83.200000   \n13                          3.249449                            77.666667   \n14                          4.693209                           134.466667   \n15                          3.138940                            89.333333   \n16                          2.698621                           101.133333   \n18                          1.553567                            89.600000   \n19                          3.105033                            76.000000   \n20                          2.074785                           114.600000   \n21                          1.878307                            58.200000   \n22                          1.833423                            52.200000   \n23                          1.654161                            44.666667   \n24                          3.463331                           113.866667   \n25                          3.342189                            91.733333   \n26                          1.841583                            40.666667   \n27                          1.715387                            45.600000   \n28                          2.837274                            65.666667   \n29                          2.732524                            62.200000   \n30                          5.105615                            67.400000   \n34                          2.708059                            88.066667   \n36                          1.759018                            34.800000   \n37                          3.331165                           132.933333   \n42                          4.013347                           120.533333   \n43                          1.764313                            88.400000   \n44                          4.262387                            90.333333   \n45                          2.368281                            65.933333   \n48                          2.998599                           126.466667   \n52                          1.715668                            45.066667   \n56                          1.157534                            27.733333   \n58                          1.857190                            52.666667   \n59                          1.822945                            47.266667   \n66                          1.869415                            48.133333   \n74                          3.418498                           106.866667   \n86                          2.366821                            82.066667   \n89                          1.869419                            34.733333   \n96                          1.539333                            32.666667   \n104                         2.883931                            95.200000   \n116                         2.398493                            62.266667   \n119                         2.658392                            47.933333   \n\n     Needle holder stitch velocity Needle holder stitch unit  \\\n0                         0.078755                         m   \n4                         0.020504                         m   \n5                         0.041703                         m   \n6                         0.025297                         m   \n7                         0.016650                         m   \n8                         0.014369                         m   \n9                         0.031180                         m   \n10                        0.029875                         m   \n11                        0.025329                         m   \n12                        0.016469                         m   \n13                        0.029115                         m   \n14                        0.028877                         m   \n15                        0.028869                         m   \n16                        0.020150                         m   \n18                        0.016219                         m   \n19                        0.032285                         m   \n20                        0.016838                         m   \n21                        0.028085                         m   \n22                        0.026083                         m   \n23                        0.029267                         m   \n24                        0.022641                         m   \n25                        0.031544                         m   \n26                        0.032278                         m   \n27                        0.030012                         m   \n28                        0.035097                         m   \n29                        0.038436                         m   \n30                        0.063573                         m   \n34                        0.022859                         m   \n36                        0.039974                         m   \n37                        0.018318                         m   \n42                        0.024647                         m   \n43                        0.015272                         m   \n44                        0.035085                         m   \n45                        0.029865                         m   \n48                        0.020089                         m   \n52                        0.028067                         m   \n56                        0.032641                         m   \n58                        0.029486                         m   \n59                        0.033677                         m   \n66                        0.033274                         m   \n74                        0.027248                         m   \n86                        0.025137                         m   \n89                        0.041924                         m   \n96                        0.043567                         m   \n104                       0.025955                         m   \n116                       0.030671                         m   \n119                       0.041866                         m   \n\n     Needle holder stitch visibility [%]  \\\n0                              80.454545   \n4                              62.133333   \n5                              87.235772   \n6                              70.357143   \n7                              88.337629   \n8                              93.094481   \n9                              85.655977   \n10                             86.770220   \n11                             94.148586   \n12                             72.055427   \n13                             62.803235   \n14                             75.121043   \n15                             85.079365   \n16                             80.264550   \n18                             94.714588   \n19                             82.608696   \n20                             89.531250   \n21                             78.648649   \n22                             86.903441   \n23                             82.716049   \n24                             74.912281   \n25                             86.540881   \n26                             63.146998   \n27                             82.909091   \n28                             91.203704   \n29                             91.470588   \n30                             61.910594   \n34                             71.021505   \n36                             80.930233   \n37                             82.226804   \n42                             70.404984   \n43                             60.575605   \n44                             68.434343   \n45                             85.627706   \n48                             81.346484   \n52                             84.289277   \n56                             58.181818   \n58                             86.338798   \n59                             89.182390   \n66                             85.952381   \n74                             82.842377   \n86                             93.470008   \n89                             75.507246   \n96                             79.674797   \n104                            78.677686   \n116                            78.028404   \n119                            82.643678   \n\n     Needle holder stitch area presence [%]  Forceps stitch length [m]  \\\n0                                 40.866290                   0.984521   \n4                                 77.253219                   0.320440   \n5                                 49.580615                   0.188940   \n6                                 69.712352                   0.553835   \n7                                 85.120350                   1.007100   \n8                                 79.236499                   1.253919   \n9                                 67.801225                   0.109430   \n10                                76.049383                   1.301980   \n11                                67.388268                   0.598491   \n12                                88.541667                   1.163955   \n13                                70.042918                   0.765662   \n14                                63.609321                   0.766312   \n15                                49.850746                   0.619112   \n16                                76.862228                   0.349185   \n18                                66.071429                   0.671365   \n19                                81.228070                   0.691413   \n20                                98.487493                   1.368772   \n21                                94.959908                   1.021473   \n22                                62.962963                   0.513784   \n23                                64.925373                   0.529417   \n24                                52.985948                   0.678763   \n25                                65.479651                   0.475117   \n26                                73.770492                   0.577483   \n27                                65.643275                   0.610537   \n28                                64.670051                   0.576926   \n29                                71.704180                   0.524773   \n30                                53.115727                        NaN   \n34                                55.791067                   1.472132   \n36                                62.643678                   0.704213   \n37                                73.019057                   1.466361   \n42                                85.342920                        NaN   \n43                                64.705882                        NaN   \n44                                64.059041                   0.795673   \n45                                40.040445                   0.444535   \n48                                70.795994                   0.972943   \n52                                63.313609                        NaN   \n56                                66.586538                   0.838892   \n58                                66.455696                        NaN   \n59                                72.496474                   0.340443   \n66                                61.911357                   0.681242   \n74                                82.969432                   0.669380   \n86                                70.105605                   0.833817   \n89                                88.867562                   0.121435   \n96                                67.346939                   0.515348   \n104                               84.173669                   0.438044   \n116                               78.051392                   0.932744   \n119                               78.442281                   0.312460   \n\n     Forceps stitch visibility [s]  ...  Stitch1 start at [s]  \\\n0                        38.666667  ...                   NaN   \n4                        20.066667  ...                   NaN   \n5                         8.933333  ...                   NaN   \n6                        28.666667  ...                   NaN   \n7                        63.600000  ...                   NaN   \n8                       135.333333  ...                   NaN   \n9                         3.066667  ...                   NaN   \n10                       56.800000  ...                   NaN   \n11                       52.533333  ...                   NaN   \n12                       79.333333  ...                   NaN   \n13                       43.000000  ...                   NaN   \n14                       55.733333  ...                   NaN   \n15                       38.800000  ...                   NaN   \n16                       31.200000  ...                   NaN   \n18                       46.200000  ...                   NaN   \n19                       56.000000  ...                   NaN   \n20                       73.600000  ...                   NaN   \n21                       42.933333  ...                   NaN   \n22                       24.266667  ...                   NaN   \n23                       38.466667  ...                   NaN   \n24                       43.466667  ...                   NaN   \n25                        9.733333  ...                   NaN   \n26                       20.000000  ...                   NaN   \n27                       39.466667  ...                   NaN   \n28                       28.600000  ...                   NaN   \n29                       34.466667  ...                   NaN   \n30                             NaN  ...                   NaN   \n34                       61.933333  ...                   NaN   \n36                       23.533333  ...                   NaN   \n37                      102.933333  ...                   NaN   \n42                             NaN  ...                   NaN   \n43                             NaN  ...                   NaN   \n44                       34.933333  ...                   NaN   \n45                       28.933333  ...                   NaN   \n48                       62.400000  ...                   NaN   \n52                             NaN  ...                   NaN   \n56                       21.600000  ...                   NaN   \n58                             NaN  ...                   NaN   \n59                       25.933333  ...                   NaN   \n66                       29.800000  ...                   NaN   \n74                       39.466667  ...                   NaN   \n86                       18.533333  ...                   NaN   \n89                        5.733333  ...                   NaN   \n96                       18.066667  ...                   NaN   \n104                      25.533333  ...                   NaN   \n116                      20.933333  ...                   NaN   \n119                      16.266667  ...                   NaN   \n\n    Stitch2 duration [s]  Stitch2 duration [%]  Stitch2 start at [s]  \\\n0                    NaN                   NaN                   NaN   \n4                    NaN                   NaN                   NaN   \n5                    NaN                   NaN                   NaN   \n6                    NaN                   NaN                   NaN   \n7                    NaN                   NaN                   NaN   \n8                    NaN                   NaN                   NaN   \n9                    NaN                   NaN                   NaN   \n10                   NaN                   NaN                   NaN   \n11                   NaN                   NaN                   NaN   \n12                   NaN                   NaN                   NaN   \n13                   NaN                   NaN                   NaN   \n14                   NaN                   NaN                   NaN   \n15                   NaN                   NaN                   NaN   \n16                   NaN                   NaN                   NaN   \n18                   NaN                   NaN                   NaN   \n19                   NaN                   NaN                   NaN   \n20                   NaN                   NaN                   NaN   \n21                   NaN                   NaN                   NaN   \n22                   NaN                   NaN                   NaN   \n23                   NaN                   NaN                   NaN   \n24                   NaN                   NaN                   NaN   \n25                   NaN                   NaN                   NaN   \n26                   NaN                   NaN                   NaN   \n27                   NaN                   NaN                   NaN   \n28                   NaN                   NaN                   NaN   \n29                   NaN                   NaN                   NaN   \n30                   NaN                   NaN                   NaN   \n34                   NaN                   NaN                   NaN   \n36                   NaN                   NaN                   NaN   \n37                   NaN                   NaN                   NaN   \n42                   NaN                   NaN                   NaN   \n43                   NaN                   NaN                   NaN   \n44                   NaN                   NaN                   NaN   \n45                   NaN                   NaN                   NaN   \n48                   NaN                   NaN                   NaN   \n52                   NaN                   NaN                   NaN   \n56                   NaN                   NaN                   NaN   \n58                   NaN                   NaN                   NaN   \n59                   NaN                   NaN                   NaN   \n66                   NaN                   NaN                   NaN   \n74                   NaN                   NaN                   NaN   \n86                   NaN                   NaN                   NaN   \n89                   NaN                   NaN                   NaN   \n96                   NaN                   NaN                   NaN   \n104                  NaN                   NaN                   NaN   \n116                  NaN                   NaN                   NaN   \n119                  NaN                   NaN                   NaN   \n\n    Stitch3 duration [s] Stitch3 duration [%] Stitch3 start at [s]  \\\n0                    NaN                  NaN                  NaN   \n4                    NaN                  NaN                  NaN   \n5                    NaN                  NaN                  NaN   \n6                    NaN                  NaN                  NaN   \n7                    NaN                  NaN                  NaN   \n8                    NaN                  NaN                  NaN   \n9                    NaN                  NaN                  NaN   \n10                   NaN                  NaN                  NaN   \n11                   NaN                  NaN                  NaN   \n12                   NaN                  NaN                  NaN   \n13                   NaN                  NaN                  NaN   \n14                   NaN                  NaN                  NaN   \n15                   NaN                  NaN                  NaN   \n16                   NaN                  NaN                  NaN   \n18                   NaN                  NaN                  NaN   \n19                   NaN                  NaN                  NaN   \n20                   NaN                  NaN                  NaN   \n21                   NaN                  NaN                  NaN   \n22                   NaN                  NaN                  NaN   \n23                   NaN                  NaN                  NaN   \n24                   NaN                  NaN                  NaN   \n25                   NaN                  NaN                  NaN   \n26                   NaN                  NaN                  NaN   \n27                   NaN                  NaN                  NaN   \n28                   NaN                  NaN                  NaN   \n29                   NaN                  NaN                  NaN   \n30                   NaN                  NaN                  NaN   \n34                   NaN                  NaN                  NaN   \n36                   NaN                  NaN                  NaN   \n37                   NaN                  NaN                  NaN   \n42                   NaN                  NaN                  NaN   \n43                   NaN                  NaN                  NaN   \n44                   NaN                  NaN                  NaN   \n45                   NaN                  NaN                  NaN   \n48                   NaN                  NaN                  NaN   \n52                   NaN                  NaN                  NaN   \n56                   NaN                  NaN                  NaN   \n58                   NaN                  NaN                  NaN   \n59                   NaN                  NaN                  NaN   \n66                   NaN                  NaN                  NaN   \n74                   NaN                  NaN                  NaN   \n86                   NaN                  NaN                  NaN   \n89                   NaN                  NaN                  NaN   \n96                   NaN                  NaN                  NaN   \n104                  NaN                  NaN                  NaN   \n116                  NaN                  NaN                  NaN   \n119                  NaN                  NaN                  NaN   \n\n    Stitch4 duration [s] Stitch4 duration [%] Stitch4 start at [s]  \n0                    NaN                  NaN                  NaN  \n4                    NaN                  NaN                  NaN  \n5                    NaN                  NaN                  NaN  \n6                    NaN                  NaN                  NaN  \n7                    NaN                  NaN                  NaN  \n8                    NaN                  NaN                  NaN  \n9                    NaN                  NaN                  NaN  \n10                   NaN                  NaN                  NaN  \n11                   NaN                  NaN                  NaN  \n12                   NaN                  NaN                  NaN  \n13                   NaN                  NaN                  NaN  \n14                   NaN                  NaN                  NaN  \n15                   NaN                  NaN                  NaN  \n16                   NaN                  NaN                  NaN  \n18                   NaN                  NaN                  NaN  \n19                   NaN                  NaN                  NaN  \n20                   NaN                  NaN                  NaN  \n21                   NaN                  NaN                  NaN  \n22                   NaN                  NaN                  NaN  \n23                   NaN                  NaN                  NaN  \n24                   NaN                  NaN                  NaN  \n25                   NaN                  NaN                  NaN  \n26                   NaN                  NaN                  NaN  \n27                   NaN                  NaN                  NaN  \n28                   NaN                  NaN                  NaN  \n29                   NaN                  NaN                  NaN  \n30                   NaN                  NaN                  NaN  \n34                   NaN                  NaN                  NaN  \n36                   NaN                  NaN                  NaN  \n37                   NaN                  NaN                  NaN  \n42                   NaN                  NaN                  NaN  \n43                   NaN                  NaN                  NaN  \n44                   NaN                  NaN                  NaN  \n45                   NaN                  NaN                  NaN  \n48                   NaN                  NaN                  NaN  \n52                   NaN                  NaN                  NaN  \n56                   NaN                  NaN                  NaN  \n58                   NaN                  NaN                  NaN  \n59                   NaN                  NaN                  NaN  \n66                   NaN                  NaN                  NaN  \n74                   NaN                  NaN                  NaN  \n86                   NaN                  NaN                  NaN  \n89                   NaN                  NaN                  NaN  \n96                   NaN                  NaN                  NaN  \n104                  NaN                  NaN                  NaN  \n116                  NaN                  NaN                  NaN  \n119                  NaN                  NaN                  NaN  \n\n[47 rows x 182 columns]",
      "text/html": "<div>\n<style scoped>\n    .dataframe tbody tr th:only-of-type {\n        vertical-align: middle;\n    }\n\n    .dataframe tbody tr th {\n        vertical-align: top;\n    }\n\n    .dataframe thead th {\n        text-align: right;\n    }\n</style>\n<table border=\"1\" class=\"dataframe\">\n  <thead>\n    <tr style=\"text-align: right;\">\n      <th></th>\n      <th>filename</th>\n      <th>annotation_annotation_annotation</th>\n      <th>Needle holder stitch length [m]</th>\n      <th>Needle holder stitch visibility [s]</th>\n      <th>Needle holder stitch velocity</th>\n      <th>Needle holder stitch unit</th>\n      <th>Needle holder stitch visibility [%]</th>\n      <th>Needle holder stitch area presence [%]</th>\n      <th>Forceps stitch length [m]</th>\n      <th>Forceps stitch visibility [s]</th>\n      <th>...</th>\n      <th>Stitch1 start at [s]</th>\n      <th>Stitch2 duration [s]</th>\n      <th>Stitch2 duration [%]</th>\n      <th>Stitch2 start at [s]</th>\n      <th>Stitch3 duration [s]</th>\n      <th>Stitch3 duration [%]</th>\n      <th>Stitch3 start at [s]</th>\n      <th>Stitch4 duration [s]</th>\n      <th>Stitch4 duration [%]</th>\n      <th>Stitch4 start at [s]</th>\n    </tr>\n  </thead>\n  <tbody>\n    <tr>\n      <th>0</th>\n      <td>Bad-2021_11_03_A_Noll_Alexander_Einzelknopfnah...</td>\n      <td>00:00:00 no clear view of the setup\\r\\n00:00:1...</td>\n      <td>5.907214</td>\n      <td>70.800000</td>\n      <td>0.078755</td>\n      <td>m</td>\n      <td>80.454545</td>\n      <td>40.866290</td>\n      <td>0.984521</td>\n      <td>38.666667</td>\n      <td>...</td>\n      <td>NaN</td>\n      <td>NaN</td>\n      <td>NaN</td>\n      <td>NaN</td>\n      <td>NaN</td>\n      <td>NaN</td>\n      <td>NaN</td>\n      <td>NaN</td>\n      <td>NaN</td>\n      <td>NaN</td>\n    </tr>\n    <tr>\n      <th>4</th>\n      <td>Pre_-Test_Isabel_Linden.mp4</td>\n      <td>00:00:09 stitch_start\\r\\n00:00:47 knot_start\\r...</td>\n      <td>1.509013</td>\n      <td>46.600000</td>\n      <td>0.020504</td>\n      <td>m</td>\n      <td>62.133333</td>\n      <td>77.253219</td>\n      <td>0.320440</td>\n      <td>20.066667</td>\n      <td>...</td>\n      <td>NaN</td>\n      <td>NaN</td>\n      <td>NaN</td>\n      <td>NaN</td>\n      <td>NaN</td>\n      <td>NaN</td>\n      <td>NaN</td>\n      <td>NaN</td>\n      <td>NaN</td>\n      <td>NaN</td>\n    </tr>\n    <tr>\n      <th>5</th>\n      <td>Fehringer_Pascal__post_test.mp4</td>\n      <td>00:00:02 stitch_start\\r\\n00:00:38 knot_start\\r...</td>\n      <td>3.598281</td>\n      <td>71.533333</td>\n      <td>0.041703</td>\n      <td>m</td>\n      <td>87.235772</td>\n      <td>49.580615</td>\n      <td>0.188940</td>\n      <td>8.933333</td>\n      <td>...</td>\n      <td>NaN</td>\n      <td>NaN</td>\n      <td>NaN</td>\n      <td>NaN</td>\n      <td>NaN</td>\n      <td>NaN</td>\n      <td>NaN</td>\n      <td>NaN</td>\n      <td>NaN</td>\n      <td>NaN</td>\n    </tr>\n    <tr>\n      <th>6</th>\n      <td>Hilger,Anke-Posttest.mp4</td>\n      <td>00:00:06 stitch_start\\r\\n00:00:45 knot\\r\\n00:0...</td>\n      <td>1.361027</td>\n      <td>39.400000</td>\n      <td>0.025297</td>\n      <td>m</td>\n      <td>70.357143</td>\n      <td>69.712352</td>\n      <td>0.553835</td>\n      <td>28.666667</td>\n      <td>...</td>\n      <td>NaN</td>\n      <td>NaN</td>\n      <td>NaN</td>\n      <td>NaN</td>\n      <td>NaN</td>\n      <td>NaN</td>\n      <td>NaN</td>\n      <td>NaN</td>\n      <td>NaN</td>\n      <td>NaN</td>\n    </tr>\n    <tr>\n      <th>7</th>\n      <td>Bad-03_11_21_B_Hopfe_Johanna_Einzelknopfnaht.mp4</td>\n      <td>00:00:00 setup could be cleaner\\r\\n00:00:07 ne...</td>\n      <td>1.969100</td>\n      <td>91.400000</td>\n      <td>0.016650</td>\n      <td>m</td>\n      <td>88.337629</td>\n      <td>85.120350</td>\n      <td>1.007100</td>\n      <td>63.600000</td>\n      <td>...</td>\n      <td>NaN</td>\n      <td>NaN</td>\n      <td>NaN</td>\n      <td>NaN</td>\n      <td>NaN</td>\n      <td>NaN</td>\n      <td>NaN</td>\n      <td>NaN</td>\n      <td>NaN</td>\n      <td>NaN</td>\n    </tr>\n    <tr>\n      <th>8</th>\n      <td>Bad-12_10_21__Loewe__Rebekka__Einzelknopfnaht.mp4</td>\n      <td>00:00:33 needle grabbed pretty far in the back...</td>\n      <td>3.425421</td>\n      <td>214.800000</td>\n      <td>0.014369</td>\n      <td>m</td>\n      <td>93.094481</td>\n      <td>79.236499</td>\n      <td>1.253919</td>\n      <td>135.333333</td>\n      <td>...</td>\n      <td>NaN</td>\n      <td>NaN</td>\n      <td>NaN</td>\n      <td>NaN</td>\n      <td>NaN</td>\n      <td>NaN</td>\n      <td>NaN</td>\n      <td>NaN</td>\n      <td>NaN</td>\n      <td>NaN</td>\n    </tr>\n    <tr>\n      <th>9</th>\n      <td>Bad-2021_11_03_A_Petersen_Insa_Einzelknopfnaht...</td>\n      <td>00:00:17 needle is put on skin in wrong angle\\...</td>\n      <td>3.811671</td>\n      <td>97.933333</td>\n      <td>0.031180</td>\n      <td>m</td>\n      <td>85.655977</td>\n      <td>67.801225</td>\n      <td>0.109430</td>\n      <td>3.066667</td>\n      <td>...</td>\n      <td>NaN</td>\n      <td>NaN</td>\n      <td>NaN</td>\n      <td>NaN</td>\n      <td>NaN</td>\n      <td>NaN</td>\n      <td>NaN</td>\n      <td>NaN</td>\n      <td>NaN</td>\n      <td>NaN</td>\n    </tr>\n    <tr>\n      <th>10</th>\n      <td>Bad-2021_11_03_A_Spitze_Vanessa_Einzelknopfnah...</td>\n      <td>00:00:08 thumb is not taken out of the needle ...</td>\n      <td>4.091873</td>\n      <td>108.000000</td>\n      <td>0.029875</td>\n      <td>m</td>\n      <td>86.770220</td>\n      <td>76.049383</td>\n      <td>1.301980</td>\n      <td>56.800000</td>\n      <td>...</td>\n      <td>NaN</td>\n      <td>NaN</td>\n      <td>NaN</td>\n      <td>NaN</td>\n      <td>NaN</td>\n      <td>NaN</td>\n      <td>NaN</td>\n      <td>NaN</td>\n      <td>NaN</td>\n      <td>NaN</td>\n    </tr>\n    <tr>\n      <th>11</th>\n      <td>Bad-2021_11_03_B_V_lz__Ann_Sophie_Einzelknopfn...</td>\n      <td>00:00:07 direction of suturing is wrong\\r\\n00:...</td>\n      <td>2.736359</td>\n      <td>95.466667</td>\n      <td>0.025329</td>\n      <td>m</td>\n      <td>94.148586</td>\n      <td>67.388268</td>\n      <td>0.598491</td>\n      <td>52.533333</td>\n      <td>...</td>\n      <td>NaN</td>\n      <td>NaN</td>\n      <td>NaN</td>\n      <td>NaN</td>\n      <td>NaN</td>\n      <td>NaN</td>\n      <td>NaN</td>\n      <td>NaN</td>\n      <td>NaN</td>\n      <td>NaN</td>\n    </tr>\n    <tr>\n      <th>12</th>\n      <td>Bad-2021_11_3_A_Brodersen___nne_Einzelknopfnah...</td>\n      <td>00:00:14 thumb is not taken out of needle hold...</td>\n      <td>2.226574</td>\n      <td>83.200000</td>\n      <td>0.016469</td>\n      <td>m</td>\n      <td>72.055427</td>\n      <td>88.541667</td>\n      <td>1.163955</td>\n      <td>79.333333</td>\n      <td>...</td>\n      <td>NaN</td>\n      <td>NaN</td>\n      <td>NaN</td>\n      <td>NaN</td>\n      <td>NaN</td>\n      <td>NaN</td>\n      <td>NaN</td>\n      <td>NaN</td>\n      <td>NaN</td>\n      <td>NaN</td>\n    </tr>\n    <tr>\n      <th>13</th>\n      <td>Bad-3_11_21_B_Grumt_Alina_Einzelknopfnaht_Schw...</td>\n      <td>00:00:00 setup could be better\\r\\n00:00:04 for...</td>\n      <td>3.249449</td>\n      <td>77.666667</td>\n      <td>0.029115</td>\n      <td>m</td>\n      <td>62.803235</td>\n      <td>70.042918</td>\n      <td>0.765662</td>\n      <td>43.000000</td>\n      <td>...</td>\n      <td>NaN</td>\n      <td>NaN</td>\n      <td>NaN</td>\n      <td>NaN</td>\n      <td>NaN</td>\n      <td>NaN</td>\n      <td>NaN</td>\n      <td>NaN</td>\n      <td>NaN</td>\n      <td>NaN</td>\n    </tr>\n    <tr>\n      <th>14</th>\n      <td>Bildschirmaufnahme_2022-10-11_um_11.20.24.mov</td>\n      <td>00:00:17 stitch_start\\r\\n00:01:41 knot_start\\r...</td>\n      <td>4.693209</td>\n      <td>134.466667</td>\n      <td>0.028877</td>\n      <td>m</td>\n      <td>75.121043</td>\n      <td>63.609321</td>\n      <td>0.766312</td>\n      <td>55.733333</td>\n      <td>...</td>\n      <td>NaN</td>\n      <td>NaN</td>\n      <td>NaN</td>\n      <td>NaN</td>\n      <td>NaN</td>\n      <td>NaN</td>\n      <td>NaN</td>\n      <td>NaN</td>\n      <td>NaN</td>\n      <td>NaN</td>\n    </tr>\n    <tr>\n      <th>15</th>\n      <td>Einzelknopfnaht_Elena.Vai-Wieting.mov</td>\n      <td>00:00:02 stitch_start\\r\\n00:00:43 knot_start\\r...</td>\n      <td>3.138940</td>\n      <td>89.333333</td>\n      <td>0.028869</td>\n      <td>m</td>\n      <td>85.079365</td>\n      <td>49.850746</td>\n      <td>0.619112</td>\n      <td>38.800000</td>\n      <td>...</td>\n      <td>NaN</td>\n      <td>NaN</td>\n      <td>NaN</td>\n      <td>NaN</td>\n      <td>NaN</td>\n      <td>NaN</td>\n      <td>NaN</td>\n      <td>NaN</td>\n      <td>NaN</td>\n      <td>NaN</td>\n    </tr>\n    <tr>\n      <th>16</th>\n      <td>Einzelknopfnaht_Lina_Schäfer.mp4</td>\n      <td>sehr gut, etwas aufpassen weger der Nadel, es ...</td>\n      <td>2.698621</td>\n      <td>101.133333</td>\n      <td>0.020150</td>\n      <td>m</td>\n      <td>80.264550</td>\n      <td>76.862228</td>\n      <td>0.349185</td>\n      <td>31.200000</td>\n      <td>...</td>\n      <td>NaN</td>\n      <td>NaN</td>\n      <td>NaN</td>\n      <td>NaN</td>\n      <td>NaN</td>\n      <td>NaN</td>\n      <td>NaN</td>\n      <td>NaN</td>\n      <td>NaN</td>\n      <td>NaN</td>\n    </tr>\n    <tr>\n      <th>18</th>\n      <td>Good-Einzelknopfnaht_Stoklossa.mp4</td>\n      <td>00:00:06 needle holder is not correctly grabbe...</td>\n      <td>1.553567</td>\n      <td>89.600000</td>\n      <td>0.016219</td>\n      <td>m</td>\n      <td>94.714588</td>\n      <td>66.071429</td>\n      <td>0.671365</td>\n      <td>46.200000</td>\n      <td>...</td>\n      <td>NaN</td>\n      <td>NaN</td>\n      <td>NaN</td>\n      <td>NaN</td>\n      <td>NaN</td>\n      <td>NaN</td>\n      <td>NaN</td>\n      <td>NaN</td>\n      <td>NaN</td>\n      <td>NaN</td>\n    </tr>\n    <tr>\n      <th>19</th>\n      <td>Good-2021_10_27_B_Etzel_Peter_Einzelknopfnaht_...</td>\n      <td>00:00:08 setup is mostly good. there is a pen ...</td>\n      <td>3.105033</td>\n      <td>76.000000</td>\n      <td>0.032285</td>\n      <td>m</td>\n      <td>82.608696</td>\n      <td>81.228070</td>\n      <td>0.691413</td>\n      <td>56.000000</td>\n      <td>...</td>\n      <td>NaN</td>\n      <td>NaN</td>\n      <td>NaN</td>\n      <td>NaN</td>\n      <td>NaN</td>\n      <td>NaN</td>\n      <td>NaN</td>\n      <td>NaN</td>\n      <td>NaN</td>\n      <td>NaN</td>\n    </tr>\n    <tr>\n      <th>20</th>\n      <td>Good-Schmidt_Elisabeth_Einzelknotennaht_11_10_...</td>\n      <td>00:00:38 Thumb is not taken out of needle hold...</td>\n      <td>2.074785</td>\n      <td>114.600000</td>\n      <td>0.016838</td>\n      <td>m</td>\n      <td>89.531250</td>\n      <td>98.487493</td>\n      <td>1.368772</td>\n      <td>73.600000</td>\n      <td>...</td>\n      <td>NaN</td>\n      <td>NaN</td>\n      <td>NaN</td>\n      <td>NaN</td>\n      <td>NaN</td>\n      <td>NaN</td>\n      <td>NaN</td>\n      <td>NaN</td>\n      <td>NaN</td>\n      <td>NaN</td>\n    </tr>\n    <tr>\n      <th>21</th>\n      <td>Good-Schweinefu__Einzelknopfnaht.mp4</td>\n      <td>00:00:03 Needle grabbed rather far in the back...</td>\n      <td>1.878307</td>\n      <td>58.200000</td>\n      <td>0.028085</td>\n      <td>m</td>\n      <td>78.648649</td>\n      <td>94.959908</td>\n      <td>1.021473</td>\n      <td>42.933333</td>\n      <td>...</td>\n      <td>NaN</td>\n      <td>NaN</td>\n      <td>NaN</td>\n      <td>NaN</td>\n      <td>NaN</td>\n      <td>NaN</td>\n      <td>NaN</td>\n      <td>NaN</td>\n      <td>NaN</td>\n      <td>NaN</td>\n    </tr>\n    <tr>\n      <th>22</th>\n      <td>Medium-2021_11_03_A_Seifert_Johanna_Einzelknop...</td>\n      <td>00:00:00 setup is nice\\r\\n00:00:09 incission l...</td>\n      <td>1.833423</td>\n      <td>52.200000</td>\n      <td>0.026083</td>\n      <td>m</td>\n      <td>86.903441</td>\n      <td>62.962963</td>\n      <td>0.513784</td>\n      <td>24.266667</td>\n      <td>...</td>\n      <td>NaN</td>\n      <td>NaN</td>\n      <td>NaN</td>\n      <td>NaN</td>\n      <td>NaN</td>\n      <td>NaN</td>\n      <td>NaN</td>\n      <td>NaN</td>\n      <td>NaN</td>\n      <td>NaN</td>\n    </tr>\n    <tr>\n      <th>23</th>\n      <td>Medium-2021_11_03_A_Tengler_Sophie_Einzelknopf...</td>\n      <td>00:00:02 setup of desk is nice\\r\\n00:00:06 nee...</td>\n      <td>1.654161</td>\n      <td>44.666667</td>\n      <td>0.029267</td>\n      <td>m</td>\n      <td>82.716049</td>\n      <td>64.925373</td>\n      <td>0.529417</td>\n      <td>38.466667</td>\n      <td>...</td>\n      <td>NaN</td>\n      <td>NaN</td>\n      <td>NaN</td>\n      <td>NaN</td>\n      <td>NaN</td>\n      <td>NaN</td>\n      <td>NaN</td>\n      <td>NaN</td>\n      <td>NaN</td>\n      <td>NaN</td>\n    </tr>\n    <tr>\n      <th>24</th>\n      <td>Medium-RPReplay_Final1634048018.mp4</td>\n      <td>00:00:07 grab needle holder more in the back\\r...</td>\n      <td>3.463331</td>\n      <td>113.866667</td>\n      <td>0.022641</td>\n      <td>m</td>\n      <td>74.912281</td>\n      <td>52.985948</td>\n      <td>0.678763</td>\n      <td>43.466667</td>\n      <td>...</td>\n      <td>NaN</td>\n      <td>NaN</td>\n      <td>NaN</td>\n      <td>NaN</td>\n      <td>NaN</td>\n      <td>NaN</td>\n      <td>NaN</td>\n      <td>NaN</td>\n      <td>NaN</td>\n      <td>NaN</td>\n    </tr>\n    <tr>\n      <th>25</th>\n      <td>Medium-Schweinefu_.mp4</td>\n      <td>00:00:05 start\\r\\n00:01:49 end\\r\\n00:00:30 Tak...</td>\n      <td>3.342189</td>\n      <td>91.733333</td>\n      <td>0.031544</td>\n      <td>m</td>\n      <td>86.540881</td>\n      <td>65.479651</td>\n      <td>0.475117</td>\n      <td>9.733333</td>\n      <td>...</td>\n      <td>NaN</td>\n      <td>NaN</td>\n      <td>NaN</td>\n      <td>NaN</td>\n      <td>NaN</td>\n      <td>NaN</td>\n      <td>NaN</td>\n      <td>NaN</td>\n      <td>NaN</td>\n      <td>NaN</td>\n    </tr>\n    <tr>\n      <th>26</th>\n      <td>Stresstest_Einzelknopfnaht.mp4</td>\n      <td>00:00:46 stitch_start\\r\\n00:01:15 knot_start\\r...</td>\n      <td>1.841583</td>\n      <td>40.666667</td>\n      <td>0.032278</td>\n      <td>m</td>\n      <td>63.146998</td>\n      <td>73.770492</td>\n      <td>0.577483</td>\n      <td>20.000000</td>\n      <td>...</td>\n      <td>NaN</td>\n      <td>NaN</td>\n      <td>NaN</td>\n      <td>NaN</td>\n      <td>NaN</td>\n      <td>NaN</td>\n      <td>NaN</td>\n      <td>NaN</td>\n      <td>NaN</td>\n      <td>NaN</td>\n    </tr>\n    <tr>\n      <th>27</th>\n      <td>medium-2021_11_03_A_Tengler_Sophie_Einzelknopf...</td>\n      <td>00:00:07 thumb is not taken out of needle hold...</td>\n      <td>1.715387</td>\n      <td>45.600000</td>\n      <td>0.030012</td>\n      <td>m</td>\n      <td>82.909091</td>\n      <td>65.643275</td>\n      <td>0.610537</td>\n      <td>39.466667</td>\n      <td>...</td>\n      <td>NaN</td>\n      <td>NaN</td>\n      <td>NaN</td>\n      <td>NaN</td>\n      <td>NaN</td>\n      <td>NaN</td>\n      <td>NaN</td>\n      <td>NaN</td>\n      <td>NaN</td>\n      <td>NaN</td>\n    </tr>\n    <tr>\n      <th>28</th>\n      <td>Gehrke,Yves - post.mp4</td>\n      <td>00:00:02 stitch_start \\r\\n00:00:36 knot_start\\...</td>\n      <td>2.837274</td>\n      <td>65.666667</td>\n      <td>0.035097</td>\n      <td>m</td>\n      <td>91.203704</td>\n      <td>64.670051</td>\n      <td>0.576926</td>\n      <td>28.600000</td>\n      <td>...</td>\n      <td>NaN</td>\n      <td>NaN</td>\n      <td>NaN</td>\n      <td>NaN</td>\n      <td>NaN</td>\n      <td>NaN</td>\n      <td>NaN</td>\n      <td>NaN</td>\n      <td>NaN</td>\n      <td>NaN</td>\n    </tr>\n    <tr>\n      <th>29</th>\n      <td>Schiesser_David_post_test.mp4</td>\n      <td>00:00:04 stitch_start\\r\\n00:00:47 knot_start\\r...</td>\n      <td>2.732524</td>\n      <td>62.200000</td>\n      <td>0.038436</td>\n      <td>m</td>\n      <td>91.470588</td>\n      <td>71.704180</td>\n      <td>0.524773</td>\n      <td>34.466667</td>\n      <td>...</td>\n      <td>NaN</td>\n      <td>NaN</td>\n      <td>NaN</td>\n      <td>NaN</td>\n      <td>NaN</td>\n      <td>NaN</td>\n      <td>NaN</td>\n      <td>NaN</td>\n      <td>NaN</td>\n      <td>NaN</td>\n    </tr>\n    <tr>\n      <th>30</th>\n      <td>Bad-2021_11_03_A_Noll_Alexander_Einzelknopfnah...</td>\n      <td>00:00:00 no clear view of the setup\\r\\n00:00:1...</td>\n      <td>5.105615</td>\n      <td>67.400000</td>\n      <td>0.063573</td>\n      <td>m</td>\n      <td>61.910594</td>\n      <td>53.115727</td>\n      <td>NaN</td>\n      <td>NaN</td>\n      <td>...</td>\n      <td>NaN</td>\n      <td>NaN</td>\n      <td>NaN</td>\n      <td>NaN</td>\n      <td>NaN</td>\n      <td>NaN</td>\n      <td>NaN</td>\n      <td>NaN</td>\n      <td>NaN</td>\n      <td>NaN</td>\n    </tr>\n    <tr>\n      <th>34</th>\n      <td>Pre_-Test_Isabel_Linden.mp4</td>\n      <td>00:00:09 stitch_start\\r\\n00:00:47 knot_start\\r...</td>\n      <td>2.708059</td>\n      <td>88.066667</td>\n      <td>0.022859</td>\n      <td>m</td>\n      <td>71.021505</td>\n      <td>55.791067</td>\n      <td>1.472132</td>\n      <td>61.933333</td>\n      <td>...</td>\n      <td>NaN</td>\n      <td>NaN</td>\n      <td>NaN</td>\n      <td>NaN</td>\n      <td>NaN</td>\n      <td>NaN</td>\n      <td>NaN</td>\n      <td>NaN</td>\n      <td>NaN</td>\n      <td>NaN</td>\n    </tr>\n    <tr>\n      <th>36</th>\n      <td>Hilger,Anke-Posttest.mp4</td>\n      <td>00:00:06 stitch_start\\r\\n00:00:45 knot\\r\\n00:0...</td>\n      <td>1.759018</td>\n      <td>34.800000</td>\n      <td>0.039974</td>\n      <td>m</td>\n      <td>80.930233</td>\n      <td>62.643678</td>\n      <td>0.704213</td>\n      <td>23.533333</td>\n      <td>...</td>\n      <td>NaN</td>\n      <td>NaN</td>\n      <td>NaN</td>\n      <td>NaN</td>\n      <td>NaN</td>\n      <td>NaN</td>\n      <td>NaN</td>\n      <td>NaN</td>\n      <td>NaN</td>\n      <td>NaN</td>\n    </tr>\n    <tr>\n      <th>37</th>\n      <td>Bad-03_11_21_B_Hopfe_Johanna_Einzelknopfnaht.mp4</td>\n      <td>00:00:00 setup could be cleaner\\r\\n00:00:07 ne...</td>\n      <td>3.331165</td>\n      <td>132.933333</td>\n      <td>0.018318</td>\n      <td>m</td>\n      <td>82.226804</td>\n      <td>73.019057</td>\n      <td>1.466361</td>\n      <td>102.933333</td>\n      <td>...</td>\n      <td>NaN</td>\n      <td>NaN</td>\n      <td>NaN</td>\n      <td>NaN</td>\n      <td>NaN</td>\n      <td>NaN</td>\n      <td>NaN</td>\n      <td>NaN</td>\n      <td>NaN</td>\n      <td>NaN</td>\n    </tr>\n    <tr>\n      <th>42</th>\n      <td>Bad-2021_11_3_A_Brodersen___nne_Einzelknopfnah...</td>\n      <td>00:00:14 thumb is not taken out of needle hold...</td>\n      <td>4.013347</td>\n      <td>120.533333</td>\n      <td>0.024647</td>\n      <td>m</td>\n      <td>70.404984</td>\n      <td>85.342920</td>\n      <td>NaN</td>\n      <td>NaN</td>\n      <td>...</td>\n      <td>NaN</td>\n      <td>NaN</td>\n      <td>NaN</td>\n      <td>NaN</td>\n      <td>NaN</td>\n      <td>NaN</td>\n      <td>NaN</td>\n      <td>NaN</td>\n      <td>NaN</td>\n      <td>NaN</td>\n    </tr>\n    <tr>\n      <th>43</th>\n      <td>Bad-3_11_21_B_Grumt_Alina_Einzelknopfnaht_Schw...</td>\n      <td>00:00:00 setup could be better\\r\\n00:00:04 for...</td>\n      <td>1.764313</td>\n      <td>88.400000</td>\n      <td>0.015272</td>\n      <td>m</td>\n      <td>60.575605</td>\n      <td>64.705882</td>\n      <td>NaN</td>\n      <td>NaN</td>\n      <td>...</td>\n      <td>NaN</td>\n      <td>NaN</td>\n      <td>NaN</td>\n      <td>NaN</td>\n      <td>NaN</td>\n      <td>NaN</td>\n      <td>NaN</td>\n      <td>NaN</td>\n      <td>NaN</td>\n      <td>NaN</td>\n    </tr>\n    <tr>\n      <th>44</th>\n      <td>Bildschirmaufnahme_2022-10-11_um_11.20.24.mov</td>\n      <td>00:00:17 stitch_start\\r\\n00:01:41 knot_start\\r...</td>\n      <td>4.262387</td>\n      <td>90.333333</td>\n      <td>0.035085</td>\n      <td>m</td>\n      <td>68.434343</td>\n      <td>64.059041</td>\n      <td>0.795673</td>\n      <td>34.933333</td>\n      <td>...</td>\n      <td>NaN</td>\n      <td>NaN</td>\n      <td>NaN</td>\n      <td>NaN</td>\n      <td>NaN</td>\n      <td>NaN</td>\n      <td>NaN</td>\n      <td>NaN</td>\n      <td>NaN</td>\n      <td>NaN</td>\n    </tr>\n    <tr>\n      <th>45</th>\n      <td>Einzelknopfnaht_Elena.Vai-Wieting.mov</td>\n      <td>00:00:02 stitch_start\\r\\n00:00:43 knot_start\\r...</td>\n      <td>2.368281</td>\n      <td>65.933333</td>\n      <td>0.029865</td>\n      <td>m</td>\n      <td>85.627706</td>\n      <td>40.040445</td>\n      <td>0.444535</td>\n      <td>28.933333</td>\n      <td>...</td>\n      <td>NaN</td>\n      <td>NaN</td>\n      <td>NaN</td>\n      <td>NaN</td>\n      <td>NaN</td>\n      <td>NaN</td>\n      <td>NaN</td>\n      <td>NaN</td>\n      <td>NaN</td>\n      <td>NaN</td>\n    </tr>\n    <tr>\n      <th>48</th>\n      <td>Good-Einzelknopfnaht_Stoklossa.mp4</td>\n      <td>00:00:06 needle holder is not correctly grabbe...</td>\n      <td>2.998599</td>\n      <td>126.466667</td>\n      <td>0.020089</td>\n      <td>m</td>\n      <td>81.346484</td>\n      <td>70.795994</td>\n      <td>0.972943</td>\n      <td>62.400000</td>\n      <td>...</td>\n      <td>NaN</td>\n      <td>NaN</td>\n      <td>NaN</td>\n      <td>NaN</td>\n      <td>NaN</td>\n      <td>NaN</td>\n      <td>NaN</td>\n      <td>NaN</td>\n      <td>NaN</td>\n      <td>NaN</td>\n    </tr>\n    <tr>\n      <th>52</th>\n      <td>Medium-2021_11_03_A_Seifert_Johanna_Einzelknop...</td>\n      <td>00:00:00 setup is nice\\r\\n00:00:09 incission l...</td>\n      <td>1.715668</td>\n      <td>45.066667</td>\n      <td>0.028067</td>\n      <td>m</td>\n      <td>84.289277</td>\n      <td>63.313609</td>\n      <td>NaN</td>\n      <td>NaN</td>\n      <td>...</td>\n      <td>NaN</td>\n      <td>NaN</td>\n      <td>NaN</td>\n      <td>NaN</td>\n      <td>NaN</td>\n      <td>NaN</td>\n      <td>NaN</td>\n      <td>NaN</td>\n      <td>NaN</td>\n      <td>NaN</td>\n    </tr>\n    <tr>\n      <th>56</th>\n      <td>Stresstest_Einzelknopfnaht.mp4</td>\n      <td>00:00:46 stitch_start\\r\\n00:01:15 knot_start\\r...</td>\n      <td>1.157534</td>\n      <td>27.733333</td>\n      <td>0.032641</td>\n      <td>m</td>\n      <td>58.181818</td>\n      <td>66.586538</td>\n      <td>0.838892</td>\n      <td>21.600000</td>\n      <td>...</td>\n      <td>NaN</td>\n      <td>NaN</td>\n      <td>NaN</td>\n      <td>NaN</td>\n      <td>NaN</td>\n      <td>NaN</td>\n      <td>NaN</td>\n      <td>NaN</td>\n      <td>NaN</td>\n      <td>NaN</td>\n    </tr>\n    <tr>\n      <th>58</th>\n      <td>Gehrke,Yves - post.mp4</td>\n      <td>00:00:02 stitch_start \\r\\n00:00:36 knot_start\\...</td>\n      <td>1.857190</td>\n      <td>52.666667</td>\n      <td>0.029486</td>\n      <td>m</td>\n      <td>86.338798</td>\n      <td>66.455696</td>\n      <td>NaN</td>\n      <td>NaN</td>\n      <td>...</td>\n      <td>NaN</td>\n      <td>NaN</td>\n      <td>NaN</td>\n      <td>NaN</td>\n      <td>NaN</td>\n      <td>NaN</td>\n      <td>NaN</td>\n      <td>NaN</td>\n      <td>NaN</td>\n      <td>NaN</td>\n    </tr>\n    <tr>\n      <th>59</th>\n      <td>Schiesser_David_post_test.mp4</td>\n      <td>00:00:04 stitch_start\\r\\n00:00:47 knot_start\\r...</td>\n      <td>1.822945</td>\n      <td>47.266667</td>\n      <td>0.033677</td>\n      <td>m</td>\n      <td>89.182390</td>\n      <td>72.496474</td>\n      <td>0.340443</td>\n      <td>25.933333</td>\n      <td>...</td>\n      <td>NaN</td>\n      <td>NaN</td>\n      <td>NaN</td>\n      <td>NaN</td>\n      <td>NaN</td>\n      <td>NaN</td>\n      <td>NaN</td>\n      <td>NaN</td>\n      <td>NaN</td>\n      <td>NaN</td>\n    </tr>\n    <tr>\n      <th>66</th>\n      <td>Hilger,Anke-Posttest.mp4</td>\n      <td>00:00:06 stitch_start\\r\\n00:00:45 knot\\r\\n00:0...</td>\n      <td>1.869415</td>\n      <td>48.133333</td>\n      <td>0.033274</td>\n      <td>m</td>\n      <td>85.952381</td>\n      <td>61.911357</td>\n      <td>0.681242</td>\n      <td>29.800000</td>\n      <td>...</td>\n      <td>NaN</td>\n      <td>NaN</td>\n      <td>NaN</td>\n      <td>NaN</td>\n      <td>NaN</td>\n      <td>NaN</td>\n      <td>NaN</td>\n      <td>NaN</td>\n      <td>NaN</td>\n      <td>NaN</td>\n    </tr>\n    <tr>\n      <th>74</th>\n      <td>Bildschirmaufnahme_2022-10-11_um_11.20.24.mov</td>\n      <td>00:00:17 stitch_start\\r\\n00:01:41 knot_start\\r...</td>\n      <td>3.418498</td>\n      <td>106.866667</td>\n      <td>0.027248</td>\n      <td>m</td>\n      <td>82.842377</td>\n      <td>82.969432</td>\n      <td>0.669380</td>\n      <td>39.466667</td>\n      <td>...</td>\n      <td>NaN</td>\n      <td>NaN</td>\n      <td>NaN</td>\n      <td>NaN</td>\n      <td>NaN</td>\n      <td>NaN</td>\n      <td>NaN</td>\n      <td>NaN</td>\n      <td>NaN</td>\n      <td>NaN</td>\n    </tr>\n    <tr>\n      <th>86</th>\n      <td>Stresstest_Einzelknopfnaht.mp4</td>\n      <td>00:00:46 stitch_start\\r\\n00:01:15 knot_start\\r...</td>\n      <td>2.366821</td>\n      <td>82.066667</td>\n      <td>0.025137</td>\n      <td>m</td>\n      <td>93.470008</td>\n      <td>70.105605</td>\n      <td>0.833817</td>\n      <td>18.533333</td>\n      <td>...</td>\n      <td>NaN</td>\n      <td>NaN</td>\n      <td>NaN</td>\n      <td>NaN</td>\n      <td>NaN</td>\n      <td>NaN</td>\n      <td>NaN</td>\n      <td>NaN</td>\n      <td>NaN</td>\n      <td>NaN</td>\n    </tr>\n    <tr>\n      <th>89</th>\n      <td>Schiesser_David_post_test.mp4</td>\n      <td>00:00:04 stitch_start\\r\\n00:00:47 knot_start\\r...</td>\n      <td>1.869419</td>\n      <td>34.733333</td>\n      <td>0.041924</td>\n      <td>m</td>\n      <td>75.507246</td>\n      <td>88.867562</td>\n      <td>0.121435</td>\n      <td>5.733333</td>\n      <td>...</td>\n      <td>NaN</td>\n      <td>NaN</td>\n      <td>NaN</td>\n      <td>NaN</td>\n      <td>NaN</td>\n      <td>NaN</td>\n      <td>NaN</td>\n      <td>NaN</td>\n      <td>NaN</td>\n      <td>NaN</td>\n    </tr>\n    <tr>\n      <th>96</th>\n      <td>Hilger,Anke-Posttest.mp4</td>\n      <td>00:00:06 stitch_start\\r\\n00:00:45 knot\\r\\n00:0...</td>\n      <td>1.539333</td>\n      <td>32.666667</td>\n      <td>0.043567</td>\n      <td>m</td>\n      <td>79.674797</td>\n      <td>67.346939</td>\n      <td>0.515348</td>\n      <td>18.066667</td>\n      <td>...</td>\n      <td>NaN</td>\n      <td>NaN</td>\n      <td>NaN</td>\n      <td>NaN</td>\n      <td>NaN</td>\n      <td>NaN</td>\n      <td>NaN</td>\n      <td>NaN</td>\n      <td>NaN</td>\n      <td>NaN</td>\n    </tr>\n    <tr>\n      <th>104</th>\n      <td>Bildschirmaufnahme_2022-10-11_um_11.20.24.mov</td>\n      <td>00:00:17 stitch_start\\r\\n00:01:41 knot_start\\r...</td>\n      <td>2.883931</td>\n      <td>95.200000</td>\n      <td>0.025955</td>\n      <td>m</td>\n      <td>78.677686</td>\n      <td>84.173669</td>\n      <td>0.438044</td>\n      <td>25.533333</td>\n      <td>...</td>\n      <td>NaN</td>\n      <td>NaN</td>\n      <td>NaN</td>\n      <td>NaN</td>\n      <td>NaN</td>\n      <td>NaN</td>\n      <td>NaN</td>\n      <td>NaN</td>\n      <td>NaN</td>\n      <td>NaN</td>\n    </tr>\n    <tr>\n      <th>116</th>\n      <td>Stresstest_Einzelknopfnaht.mp4</td>\n      <td>00:00:46 stitch_start\\r\\n00:01:15 knot_start\\r...</td>\n      <td>2.398493</td>\n      <td>62.266667</td>\n      <td>0.030671</td>\n      <td>m</td>\n      <td>78.028404</td>\n      <td>78.051392</td>\n      <td>0.932744</td>\n      <td>20.933333</td>\n      <td>...</td>\n      <td>NaN</td>\n      <td>NaN</td>\n      <td>NaN</td>\n      <td>NaN</td>\n      <td>NaN</td>\n      <td>NaN</td>\n      <td>NaN</td>\n      <td>NaN</td>\n      <td>NaN</td>\n      <td>NaN</td>\n    </tr>\n    <tr>\n      <th>119</th>\n      <td>Schiesser_David_post_test.mp4</td>\n      <td>00:00:04 stitch_start\\r\\n00:00:47 knot_start\\r...</td>\n      <td>2.658392</td>\n      <td>47.933333</td>\n      <td>0.041866</td>\n      <td>m</td>\n      <td>82.643678</td>\n      <td>78.442281</td>\n      <td>0.312460</td>\n      <td>16.266667</td>\n      <td>...</td>\n      <td>NaN</td>\n      <td>NaN</td>\n      <td>NaN</td>\n      <td>NaN</td>\n      <td>NaN</td>\n      <td>NaN</td>\n      <td>NaN</td>\n      <td>NaN</td>\n      <td>NaN</td>\n      <td>NaN</td>\n    </tr>\n  </tbody>\n</table>\n<p>47 rows × 182 columns</p>\n</div>"
     },
     "metadata": {},
     "output_type": "display_data"
    },
    {
     "data": {
      "text/plain": "Scissors stitch visibility [s]                   6\nForceps stitch visibility [s]                    5\nForceps stitch velocity                          5\nStitch duration [s]                              0\nNeedle holder stitch visibility [s]              0\nNeedle holder stitch velocity above threshold    0\nNeedle holder stitch length [m]                  0\nfilename                                         0\nstitch_id                                        0\ndtype: int64"
     },
     "metadata": {},
     "output_type": "display_data"
    },
    {
     "name": "stdout",
     "output_type": "stream",
     "text": [
      "47\n"
     ]
    }
   ],
   "source": [
    "dfsc = dfst[\n",
    "    dfst[\"Stitch duration [s]\"].notna() &\n",
    "    dfst[\"Needle holder stitch visibility [s]\"].notna() &\n",
    "    dfst[predicted_columns[0]].notna()\n",
    "    # dfs[predicted_columns].notna()\n",
    "]\n",
    "display(dfsc)\n",
    "\n",
    "dfsc[columns].isna().sum().sort_values(ascending=False)\n",
    "\n",
    "display(dfsc[columns].isna().sum().sort_values(ascending=False))\n",
    "\n",
    "# fill 0 instead of None\n",
    "dfsc = dfsc[sample_id_cols + predicted_columns + cols_with_0].copy()\n",
    "dfsc[cols_with_0] = dfsc[cols_with_0].fillna(0)\n",
    "\n",
    "print(len(dfsc))"
   ],
   "metadata": {
    "collapsed": false,
    "ExecuteTime": {
     "end_time": "2024-06-27T13:04:02.154194Z",
     "start_time": "2024-06-27T13:04:01.782610500Z"
    }
   },
   "id": "5ef5e7f99594f804",
   "execution_count": 192
  },
  {
   "cell_type": "code",
   "outputs": [],
   "source": [
    "# dfsc[predicted_columns].isna()"
   ],
   "metadata": {
    "collapsed": false,
    "ExecuteTime": {
     "end_time": "2024-06-27T13:04:03.666193700Z",
     "start_time": "2024-06-27T13:04:03.540193500Z"
    }
   },
   "id": "845d27d8de1eb4a2",
   "execution_count": 193
  },
  {
   "cell_type": "code",
   "outputs": [
    {
     "data": {
      "text/plain": "['movement evaluation stitch']"
     },
     "execution_count": 194,
     "metadata": {},
     "output_type": "execute_result"
    }
   ],
   "source": [
    "predicted_columns"
   ],
   "metadata": {
    "collapsed": false,
    "ExecuteTime": {
     "end_time": "2024-06-27T13:04:05.749509400Z",
     "start_time": "2024-06-27T13:04:05.569531500Z"
    }
   },
   "id": "6a43ecb1d3efdb4f",
   "execution_count": 194
  },
  {
   "cell_type": "code",
   "outputs": [
    {
     "data": {
      "text/plain": "['Stitch duration [s]',\n 'Needle holder stitch visibility [s]',\n 'Needle holder stitch velocity above threshold',\n 'Needle holder stitch length [m]',\n 'Scissors stitch visibility [s]',\n 'Forceps stitch visibility [s]',\n 'Forceps stitch velocity',\n 'filename',\n 'stitch_id']"
     },
     "execution_count": 195,
     "metadata": {},
     "output_type": "execute_result"
    }
   ],
   "source": [
    "columns"
   ],
   "metadata": {
    "collapsed": false,
    "ExecuteTime": {
     "end_time": "2024-06-27T13:04:06.678521500Z",
     "start_time": "2024-06-27T13:04:06.469517600Z"
    }
   },
   "id": "30acbd926d50b91e",
   "execution_count": 195
  },
  {
   "cell_type": "code",
   "outputs": [],
   "source": [
    "\n"
   ],
   "metadata": {
    "collapsed": false,
    "ExecuteTime": {
     "end_time": "2024-06-27T13:04:09.507844500Z",
     "start_time": "2024-06-27T13:04:09.335846800Z"
    }
   },
   "id": "b18fa2fea5ff16ed",
   "execution_count": 195
  },
  {
   "cell_type": "code",
   "outputs": [
    {
     "name": "stdout",
     "output_type": "stream",
     "text": [
      "movement evaluation stitch 0.1619350140967536\n"
     ]
    }
   ],
   "source": [
    "\n",
    "results = {}\n",
    "for predicted_column in predicted_columns:\n",
    "# if True:\n",
    "#     predicted_column = \"annotation_annotation_stars\"\n",
    "    cols = columns.copy()\n",
    "    cols.append(predicted_column)\n",
    "\n",
    "    dfsx = dfsc[cols].copy()\n",
    "    l1 = len(dfsx)\n",
    "    dfsx = dfsx.dropna()\n",
    "    l2 = len(dfsx)\n",
    "    assert l1 == l2, \"There are still NA values in the data\"\n",
    "    X = dfsx[columns].drop(sample_id_cols, axis=1)\n",
    "    # X = X.drop(predicted_column, axis=1)\n",
    "    y = dfsx[predicted_column]\n",
    "    X_train, X_test, y_train, y_test = train_test_split(X, y, test_size=0.2, random_state=42)\n",
    "\n",
    "    clf = SVR()\n",
    "    # clf.fit(X_train, y_train)\n",
    "    # clf.score(X_test, y_test)\n",
    "    # \n",
    "    # X\n",
    "    # from sklearn.neural_network import MLPClassifier\n",
    "    # # X = [[0., 0.], [1., 1.]]\n",
    "    # # y = [0, 1]\n",
    "    # clf = MLPClassifier(solver='lbfgs', alpha=1e-5,\n",
    "    #                     hidden_layer_sizes=(5, 2), random_state=1)\n",
    "\n",
    "    # train regresion\n",
    "    # clf = LinearRegression()\n",
    "    from sklearn.neural_network import MLPRegressor\n",
    "    # clf = MLPRegressor(random_state=1, max_iter=500)\n",
    "\n",
    "    clf.fit(X_train, y_train)\n",
    "    clf.score(X_test, y_test)\n",
    "    pred_test = clf.predict(X_test)\n",
    "    pred_train = clf.predict(X_train)\n",
    "    results[predicted_column] = {\"score\": clf.score(X_test, y_test), \"model\": clf}\n",
    "    print(predicted_column, clf.score(X_test, y_test))\n",
    "\n"
   ],
   "metadata": {
    "collapsed": false,
    "ExecuteTime": {
     "end_time": "2024-06-27T13:39:02.977655600Z",
     "start_time": "2024-06-27T13:39:02.588558800Z"
    }
   },
   "id": "cea978cf3532538c",
   "execution_count": 206
  },
  {
   "cell_type": "code",
   "outputs": [
    {
     "data": {
      "text/plain": "{'movement evaluation stitch': {'score': 0.1619350140967536, 'model': SVR()}}"
     },
     "execution_count": 203,
     "metadata": {},
     "output_type": "execute_result"
    }
   ],
   "source": [
    "results"
   ],
   "metadata": {
    "collapsed": false,
    "ExecuteTime": {
     "end_time": "2024-06-27T13:38:12.977984400Z",
     "start_time": "2024-06-27T13:38:12.770986800Z"
    }
   },
   "id": "9db2c85b182d2ecb",
   "execution_count": 203
  },
  {
   "cell_type": "code",
   "outputs": [
    {
     "data": {
      "text/plain": "array([[3.19594519, 2.        ],\n       [4.01149397, 3.        ],\n       [3.24721415, 3.        ],\n       [3.97211982, 4.        ],\n       [3.8219314 , 3.        ],\n       [4.08874372, 5.        ],\n       [3.40759724, 3.        ],\n       [4.08072227, 4.        ],\n       [3.47742109, 4.        ],\n       [3.94689981, 3.        ]])"
     },
     "execution_count": 204,
     "metadata": {},
     "output_type": "execute_result"
    }
   ],
   "source": [
    "np.asarray(list(zip(pred_test, y_test)))"
   ],
   "metadata": {
    "collapsed": false,
    "ExecuteTime": {
     "end_time": "2024-06-27T13:38:15.792251900Z",
     "start_time": "2024-06-27T13:38:15.569251600Z"
    }
   },
   "id": "72867c27c08da247",
   "execution_count": 204
  },
  {
   "cell_type": "code",
   "outputs": [
    {
     "data": {
      "text/plain": "<AxesSubplot: xlabel='predicted', ylabel='real'>"
     },
     "execution_count": 208,
     "metadata": {},
     "output_type": "execute_result"
    },
    {
     "data": {
      "text/plain": "<Figure size 640x480 with 1 Axes>",
      "image/png": "[encoded data removed]"
     },
     "metadata": {},
     "output_type": "display_data"
    }
   ],
   "source": [
    "df_test = pd.DataFrame(np.asarray(list(zip(pred_test, y_test))), columns=[\"predicted\", \"real\"])\n",
    "sns.scatterplot(data=df_test, x=\"predicted\", y=\"real\")"
   ],
   "metadata": {
    "collapsed": false,
    "ExecuteTime": {
     "end_time": "2024-06-27T13:39:35.684258200Z",
     "start_time": "2024-06-27T13:39:35.334933400Z"
    }
   },
   "id": "f6232d8ccf3a6bde",
   "execution_count": 208
  },
  {
   "cell_type": "code",
   "outputs": [
    {
     "data": {
      "text/plain": "<AxesSubplot: xlabel='predicted', ylabel='real'>"
     },
     "execution_count": 207,
     "metadata": {},
     "output_type": "execute_result"
    },
    {
     "data": {
      "text/plain": "<Figure size 640x480 with 1 Axes>",
      "image/png": "[encoded data removed]"
     },
     "metadata": {},
     "output_type": "display_data"
    }
   ],
   "source": [
    "\n",
    "df_test = pd.DataFrame(np.asarray(list(zip(pred_train, y_train))), columns=[\"predicted\", \"real\"])\n",
    "sns.scatterplot(data=df_test, x=\"predicted\", y=\"real\")\n"
   ],
   "metadata": {
    "collapsed": false,
    "ExecuteTime": {
     "end_time": "2024-06-27T13:39:28.153398900Z",
     "start_time": "2024-06-27T13:39:27.909399600Z"
    }
   },
   "id": "ce22437a5b705e89",
   "execution_count": 207
  },
  {
   "cell_type": "markdown",
   "id": "0b88ba78-25b8-4d01-acaa-b88f31a70453",
   "metadata": {},
   "source": [
    "## Score"
   ]
  },
  {
   "cell_type": "code",
   "execution_count": 116,
   "id": "8e041b38-a2b0-4dcd-be7d-ab17ec6eb12d",
   "metadata": {
    "tags": [],
    "ExecuteTime": {
     "end_time": "2024-06-17T09:44:53.231134600Z",
     "start_time": "2024-06-17T09:44:53.044169300Z"
    }
   },
   "outputs": [
    {
     "data": {
      "text/plain": "0.5"
     },
     "execution_count": 116,
     "metadata": {},
     "output_type": "execute_result"
    }
   ],
   "source": [
    "clf.score(X_test, y_test)"
   ]
  },
  {
   "cell_type": "code",
   "execution_count": 30,
   "id": "0cc6fb03-7d49-4ad1-a01c-3d54336a1446",
   "metadata": {
    "tags": [],
    "ExecuteTime": {
     "end_time": "2024-04-15T15:08:12.069794200Z",
     "start_time": "2024-04-15T15:08:11.863906600Z"
    }
   },
   "outputs": [
    {
     "ename": "NameError",
     "evalue": "name 'clf' is not defined",
     "output_type": "error",
     "traceback": [
      "\u001B[1;31m---------------------------------------------------------------------------\u001B[0m",
      "\u001B[1;31mNameError\u001B[0m                                 Traceback (most recent call last)",
      "Cell \u001B[1;32mIn [30], line 1\u001B[0m\n\u001B[1;32m----> 1\u001B[0m \u001B[43mclf\u001B[49m\u001B[38;5;241m.\u001B[39mscore(X_train, y_train)\n",
      "\u001B[1;31mNameError\u001B[0m: name 'clf' is not defined"
     ]
    }
   ],
   "source": [
    "clf.score(X_train, y_train)"
   ]
  },
  {
   "cell_type": "markdown",
   "id": "c1351837-f926-43a6-bb68-bc35c946b0ec",
   "metadata": {},
   "source": [
    "## Check the předictions"
   ]
  },
  {
   "cell_type": "code",
   "execution_count": 149,
   "id": "ab82921a7dc10572",
   "metadata": {
    "collapsed": false,
    "tags": [],
    "ExecuteTime": {
     "end_time": "2024-01-17T17:37:28.441691Z",
     "start_time": "2024-01-17T17:37:28.335020600Z"
    }
   },
   "outputs": [
    {
     "data": {
      "text/plain": "922    2\n928    0\n939    0\n924    2\nName: stars_auto, dtype: int32"
     },
     "execution_count": 149,
     "metadata": {},
     "output_type": "execute_result"
    }
   ],
   "source": [
    "y_test"
   ]
  },
  {
   "cell_type": "code",
   "execution_count": 150,
   "id": "e5ea4f24720d1a20",
   "metadata": {
    "collapsed": false,
    "tags": [],
    "ExecuteTime": {
     "end_time": "2024-01-17T17:37:30.396593400Z",
     "start_time": "2024-01-17T17:37:30.265265700Z"
    }
   },
   "outputs": [
    {
     "data": {
      "text/plain": "array([0, 2, 0, 0])"
     },
     "execution_count": 150,
     "metadata": {},
     "output_type": "execute_result"
    }
   ],
   "source": [
    "y_pred = clf.predict(X_test)\n",
    "y_pred"
   ]
  },
  {
   "cell_type": "code",
   "execution_count": 113,
   "id": "4ad7ea73ebc96391",
   "metadata": {
    "collapsed": false,
    "tags": [],
    "ExecuteTime": {
     "end_time": "2024-01-17T17:19:28.078856300Z",
     "start_time": "2024-01-17T17:19:28.054325900Z"
    }
   },
   "outputs": [
    {
     "data": {
      "text/plain": "array([0, 0, 2, 2, 2, 2, 2, 0, 0, 2, 2, 1, 2, 0, 1])"
     },
     "execution_count": 113,
     "metadata": {},
     "output_type": "execute_result"
    }
   ],
   "source": [
    "clf.predict(X_train)\n"
   ]
  },
  {
   "cell_type": "code",
   "execution_count": 114,
   "id": "4fb2137572f7d68c",
   "metadata": {
    "collapsed": false,
    "tags": [],
    "ExecuteTime": {
     "end_time": "2024-01-17T17:19:28.967718800Z",
     "start_time": "2024-01-17T17:19:28.943710800Z"
    }
   },
   "outputs": [
    {
     "data": {
      "text/plain": "933    1\n945    0\n926    2\n942    2\n944    2\n947    2\n925    2\n934    0\n948    0\n927    2\n940    0\n931    1\n938    1\n943    0\n930    1\nName: stars_auto, dtype: int32"
     },
     "execution_count": 114,
     "metadata": {},
     "output_type": "execute_result"
    }
   ],
   "source": [
    "y_train"
   ]
  },
  {
   "cell_type": "code",
   "execution_count": 117,
   "id": "f6ec8f07533d895f",
   "metadata": {
    "collapsed": false,
    "tags": [],
    "ExecuteTime": {
     "end_time": "2024-01-17T17:21:48.646464Z",
     "start_time": "2024-01-17T17:21:48.447422100Z"
    }
   },
   "outputs": [
    {
     "data": {
      "text/plain": "Index(['filename', 'report_url', 'timestamp', 'email', 'uploaded_at',\n       'finished_at', 'fps', 'Needle holder length [m]', 'Scissors length [m]',\n       'Forceps length [m]',\n       ...\n       'Scissors stitch 0 area presence [%]',\n       'Needle holder stitch 0 length [pix]', 'Forceps stitch 0 length [pix]',\n       'Scissors stitch 0 length [pix]',\n       'Needle holder bbox stitch 0 length [pix]',\n       'Forceps bbox stitch 0 length [pix]',\n       'Scissors bbox stitch 0 length [pix]',\n       'Left hand bbox stitch 0 length [pix]',\n       'Right hand bbox stitch 0 length [pix]', 'stars_auto'],\n      dtype='object', length=218)"
     },
     "execution_count": 117,
     "metadata": {},
     "output_type": "execute_result"
    }
   ],
   "source": [
    "\n",
    "# sns.histplot(dfs, x=\"n_stitches_by_user\")\n",
    "dfs.columns"
   ]
  },
  {
   "cell_type": "code",
   "execution_count": 26,
   "id": "e2941983090d2225",
   "metadata": {
    "ExecuteTime": {
     "end_time": "2024-01-08T23:07:40.232991400Z",
     "start_time": "2024-01-08T23:07:40.169171600Z"
    },
    "collapsed": false,
    "tags": []
   },
   "outputs": [
    {
     "data": {
      "text/plain": [
       "array([0, 0, 0, 0, 0, 0, 0, 0, 0, 0, 0, 0, 0, 0, 0, 0])"
      ]
     },
     "execution_count": 26,
     "metadata": {},
     "output_type": "execute_result"
    }
   ],
   "source": []
  },
  {
   "cell_type": "code",
   "execution_count": 65,
   "id": "e55f43281611b056",
   "metadata": {
    "ExecuteTime": {
     "end_time": "2024-01-08T23:07:21.340654100Z",
     "start_time": "2024-01-08T23:07:21.211130400Z"
    },
    "collapsed": false
   },
   "outputs": [
    {
     "data": {
      "text/plain": [
       "816    2\n",
       "842    0\n",
       "840    0\n",
       "822    2\n",
       "Name: stars_auto, dtype: int32"
      ]
     },
     "execution_count": 65,
     "metadata": {},
     "output_type": "execute_result"
    }
   ],
   "source": []
  },
  {
   "cell_type": "code",
   "execution_count": 146,
   "id": "2d4b03b5a062d9c1",
   "metadata": {
    "collapsed": false,
    "ExecuteTime": {
     "end_time": "2024-01-17T17:32:40.037096500Z",
     "start_time": "2024-01-17T17:32:39.829778700Z"
    }
   },
   "outputs": [
    {
     "data": {
      "text/plain": "<AxesSubplot: xlabel='n_stitches_by_user', ylabel='Count'>"
     },
     "execution_count": 146,
     "metadata": {},
     "output_type": "execute_result"
    },
    {
     "data": {
      "text/plain": "<Figure size 640x480 with 1 Axes>",
      "image/png": "[encoded data removed]"
     },
     "metadata": {},
     "output_type": "display_data"
    }
   ],
   "source": [
    "sns.histplot(dfs, x=\"n_stitches_by_user\", \n",
    "             # hue=\"stars_auto\"\n",
    "             )"
   ]
  },
  {
   "cell_type": "code",
   "outputs": [],
   "source": [],
   "metadata": {
    "collapsed": false
   },
   "id": "6a962e42daa9f092"
  }
 ],
 "metadata": {
  "kernelspec": {
   "display_name": "Python 3 (ipykernel)",
   "language": "python",
   "name": "python3"
  },
  "language_info": {
   "codemirror_mode": {
    "name": "ipython",
    "version": 3
   },
   "file_extension": ".py",
   "mimetype": "text/x-python",
   "name": "python",
   "nbconvert_exporter": "python",
   "pygments_lexer": "ipython3",
   "version": "3.8.13"
  }
 },
 "nbformat": 4,
 "nbformat_minor": 5
}
